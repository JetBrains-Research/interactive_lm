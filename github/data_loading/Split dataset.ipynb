{
 "cells": [
  {
   "cell_type": "code",
   "execution_count": 1,
   "id": "a64f2a05",
   "metadata": {},
   "outputs": [
    {
     "data": {
      "text/plain": [
       "(74455, 10)"
      ]
     },
     "execution_count": 1,
     "metadata": {},
     "output_type": "execute_result"
    }
   ],
   "source": [
    "import pandas as pd\n",
    "\n",
    "df_new_disk = pd.read_json(r'final_data.json')\n",
    "df_new_disk.shape"
   ]
  },
  {
   "cell_type": "code",
   "execution_count": 2,
   "id": "22b8ad8a",
   "metadata": {},
   "outputs": [
    {
     "data": {
      "text/html": [
       "<div>\n",
       "<style scoped>\n",
       "    .dataframe tbody tr th:only-of-type {\n",
       "        vertical-align: middle;\n",
       "    }\n",
       "\n",
       "    .dataframe tbody tr th {\n",
       "        vertical-align: top;\n",
       "    }\n",
       "\n",
       "    .dataframe thead th {\n",
       "        text-align: right;\n",
       "    }\n",
       "</style>\n",
       "<table border=\"1\" class=\"dataframe\">\n",
       "  <thead>\n",
       "    <tr style=\"text-align: right;\">\n",
       "      <th></th>\n",
       "      <th>code_before</th>\n",
       "      <th>code_after</th>\n",
       "      <th>commit_msg</th>\n",
       "      <th>com_py2imports_before</th>\n",
       "      <th>com_py2imports_after</th>\n",
       "      <th>diff</th>\n",
       "      <th>com_hash</th>\n",
       "      <th>imports</th>\n",
       "      <th>lib8funcs</th>\n",
       "      <th>docs</th>\n",
       "    </tr>\n",
       "  </thead>\n",
       "  <tbody>\n",
       "    <tr>\n",
       "      <th>0</th>\n",
       "      <td>def _misc(self, func, opts, args):\\n      ...</td>\n",
       "      <td>def _misc(self, func, opts, args):\\n      ...</td>\n",
       "      <td>http://code.google.com/p/pytyrant/issues/detai...</td>\n",
       "      <td>{'0_pytyrant.py': ['import socket', 'import st...</td>\n",
       "      <td>{'0_pytyrant.py': ['import socket', 'import st...</td>\n",
       "      <td>@@ -493,8 +493,10 @@ class Tyrant(object):\\n  ...</td>\n",
       "      <td>32618ec0a7a05bad587064e20adfb80cb7bd1860</td>\n",
       "      <td>[import UserDict, import struct, import socket]</td>\n",
       "      <td>[{'UserDict': '*', 'struct': '*', 'socket': '*...</td>\n",
       "      <td>[]</td>\n",
       "    </tr>\n",
       "    <tr>\n",
       "      <th>1</th>\n",
       "      <td>def _tDouble(code, key, integ, fract):\\n    re...</td>\n",
       "      <td>def _tDouble(code, key, integ, fract):\\n    re...</td>\n",
       "      <td>fix adddouble typo</td>\n",
       "      <td>{'0_pytyrant.py': ['import math', 'import sock...</td>\n",
       "      <td>{'0_pytyrant.py': ['import math', 'import sock...</td>\n",
       "      <td>@@ -147,7 +147,7 @@ def _t3F(code, func, opts,...</td>\n",
       "      <td>8b5d9f765a0fbbd76cc7b7ff8d2593436c6a2360</td>\n",
       "      <td>[import struct, import UserDict, import math, ...</td>\n",
       "      <td>[{'struct': '*', 'UserDict': '*', 'math': '*',...</td>\n",
       "      <td>[Functions to convert between Python values an...</td>\n",
       "    </tr>\n",
       "    <tr>\n",
       "      <th>2</th>\n",
       "      <td>def sockstrpair(sock):\\n    klen = socklen(soc...</td>\n",
       "      <td>def sockstrpair(sock):\\n    klen = socklen(soc...</td>\n",
       "      <td>change the networking code to use recv and sen...</td>\n",
       "      <td>{'0_pytyrant.py': ['import socket', 'import st...</td>\n",
       "      <td>{'0_pytyrant.py': ['import socket', 'import st...</td>\n",
       "      <td>@@ -134,27 +134,33 @@ def _t3F(code, func, opt...</td>\n",
       "      <td>22f98fb5400b6234f45fac4bda3ced8b17e7aeb1</td>\n",
       "      <td>[import UserDict, import struct, import socket]</td>\n",
       "      <td>[{'UserDict': '*', 'struct': '*', 'socket': '*...</td>\n",
       "      <td>[]</td>\n",
       "    </tr>\n",
       "    <tr>\n",
       "      <th>3</th>\n",
       "      <td>def socklong(sock):\\n    return struct.unpack(...</td>\n",
       "      <td>def socklong(sock):\\n    return struct.unpack(...</td>\n",
       "      <td>change the networking code to use recv and sen...</td>\n",
       "      <td>{'0_pytyrant.py': ['import socket', 'import st...</td>\n",
       "      <td>{'0_pytyrant.py': ['import socket', 'import st...</td>\n",
       "      <td>@@ -134,27 +134,33 @@ def _t3F(code, func, opt...</td>\n",
       "      <td>22f98fb5400b6234f45fac4bda3ced8b17e7aeb1</td>\n",
       "      <td>[import UserDict, import struct, import socket]</td>\n",
       "      <td>[{'UserDict': '*', 'struct': '*', 'socket': '*...</td>\n",
       "      <td>[Functions to convert between Python values an...</td>\n",
       "    </tr>\n",
       "    <tr>\n",
       "      <th>4</th>\n",
       "      <td>def socklen(sock):\\n    return struct.unpack('...</td>\n",
       "      <td>def socklen(sock):\\n    return struct.unpack('...</td>\n",
       "      <td>change the networking code to use recv and sen...</td>\n",
       "      <td>{'0_pytyrant.py': ['import socket', 'import st...</td>\n",
       "      <td>{'0_pytyrant.py': ['import socket', 'import st...</td>\n",
       "      <td>@@ -134,27 +134,33 @@ def _t3F(code, func, opt...</td>\n",
       "      <td>22f98fb5400b6234f45fac4bda3ced8b17e7aeb1</td>\n",
       "      <td>[import UserDict, import struct, import socket]</td>\n",
       "      <td>[{'UserDict': '*', 'struct': '*', 'socket': '*...</td>\n",
       "      <td>[Functions to convert between Python values an...</td>\n",
       "    </tr>\n",
       "  </tbody>\n",
       "</table>\n",
       "</div>"
      ],
      "text/plain": [
       "                                         code_before  \\\n",
       "0      def _misc(self, func, opts, args):\\n      ...   \n",
       "1  def _tDouble(code, key, integ, fract):\\n    re...   \n",
       "2  def sockstrpair(sock):\\n    klen = socklen(soc...   \n",
       "3  def socklong(sock):\\n    return struct.unpack(...   \n",
       "4  def socklen(sock):\\n    return struct.unpack('...   \n",
       "\n",
       "                                          code_after  \\\n",
       "0      def _misc(self, func, opts, args):\\n      ...   \n",
       "1  def _tDouble(code, key, integ, fract):\\n    re...   \n",
       "2  def sockstrpair(sock):\\n    klen = socklen(soc...   \n",
       "3  def socklong(sock):\\n    return struct.unpack(...   \n",
       "4  def socklen(sock):\\n    return struct.unpack('...   \n",
       "\n",
       "                                          commit_msg  \\\n",
       "0  http://code.google.com/p/pytyrant/issues/detai...   \n",
       "1                                 fix adddouble typo   \n",
       "2  change the networking code to use recv and sen...   \n",
       "3  change the networking code to use recv and sen...   \n",
       "4  change the networking code to use recv and sen...   \n",
       "\n",
       "                               com_py2imports_before  \\\n",
       "0  {'0_pytyrant.py': ['import socket', 'import st...   \n",
       "1  {'0_pytyrant.py': ['import math', 'import sock...   \n",
       "2  {'0_pytyrant.py': ['import socket', 'import st...   \n",
       "3  {'0_pytyrant.py': ['import socket', 'import st...   \n",
       "4  {'0_pytyrant.py': ['import socket', 'import st...   \n",
       "\n",
       "                                com_py2imports_after  \\\n",
       "0  {'0_pytyrant.py': ['import socket', 'import st...   \n",
       "1  {'0_pytyrant.py': ['import math', 'import sock...   \n",
       "2  {'0_pytyrant.py': ['import socket', 'import st...   \n",
       "3  {'0_pytyrant.py': ['import socket', 'import st...   \n",
       "4  {'0_pytyrant.py': ['import socket', 'import st...   \n",
       "\n",
       "                                                diff  \\\n",
       "0  @@ -493,8 +493,10 @@ class Tyrant(object):\\n  ...   \n",
       "1  @@ -147,7 +147,7 @@ def _t3F(code, func, opts,...   \n",
       "2  @@ -134,27 +134,33 @@ def _t3F(code, func, opt...   \n",
       "3  @@ -134,27 +134,33 @@ def _t3F(code, func, opt...   \n",
       "4  @@ -134,27 +134,33 @@ def _t3F(code, func, opt...   \n",
       "\n",
       "                                   com_hash  \\\n",
       "0  32618ec0a7a05bad587064e20adfb80cb7bd1860   \n",
       "1  8b5d9f765a0fbbd76cc7b7ff8d2593436c6a2360   \n",
       "2  22f98fb5400b6234f45fac4bda3ced8b17e7aeb1   \n",
       "3  22f98fb5400b6234f45fac4bda3ced8b17e7aeb1   \n",
       "4  22f98fb5400b6234f45fac4bda3ced8b17e7aeb1   \n",
       "\n",
       "                                             imports  \\\n",
       "0    [import UserDict, import struct, import socket]   \n",
       "1  [import struct, import UserDict, import math, ...   \n",
       "2    [import UserDict, import struct, import socket]   \n",
       "3    [import UserDict, import struct, import socket]   \n",
       "4    [import UserDict, import struct, import socket]   \n",
       "\n",
       "                                           lib8funcs  \\\n",
       "0  [{'UserDict': '*', 'struct': '*', 'socket': '*...   \n",
       "1  [{'struct': '*', 'UserDict': '*', 'math': '*',...   \n",
       "2  [{'UserDict': '*', 'struct': '*', 'socket': '*...   \n",
       "3  [{'UserDict': '*', 'struct': '*', 'socket': '*...   \n",
       "4  [{'UserDict': '*', 'struct': '*', 'socket': '*...   \n",
       "\n",
       "                                                docs  \n",
       "0                                                 []  \n",
       "1  [Functions to convert between Python values an...  \n",
       "2                                                 []  \n",
       "3  [Functions to convert between Python values an...  \n",
       "4  [Functions to convert between Python values an...  "
      ]
     },
     "execution_count": 2,
     "metadata": {},
     "output_type": "execute_result"
    }
   ],
   "source": [
    "df_new_disk.head()"
   ]
  },
  {
   "cell_type": "markdown",
   "id": "e686d46f",
   "metadata": {},
   "source": [
    "## Split idxs"
   ]
  },
  {
   "cell_type": "code",
   "execution_count": 4,
   "id": "297d7a92",
   "metadata": {},
   "outputs": [],
   "source": [
    "from sklearn.model_selection import train_test_split\n",
    "import numpy as np\n",
    "\n",
    "idxs = np.arange(len(df_new_disk))\n",
    "X_train, X_test = train_test_split(idxs, test_size=0.1, random_state=42)"
   ]
  },
  {
   "cell_type": "code",
   "execution_count": 5,
   "id": "b5454d80",
   "metadata": {},
   "outputs": [
    {
     "data": {
      "text/plain": [
       "(67009, 7446)"
      ]
     },
     "execution_count": 5,
     "metadata": {},
     "output_type": "execute_result"
    }
   ],
   "source": [
    "len(X_train), len(X_test)"
   ]
  },
  {
   "cell_type": "code",
   "execution_count": 6,
   "id": "38f59146",
   "metadata": {},
   "outputs": [],
   "source": [
    "with open('train_idxs.npy', 'wb') as f:\n",
    "    np.save(f, X_train)\n",
    "    \n",
    "with open('test_idxs.npy', 'wb') as f:\n",
    "    np.save(f, X_test)"
   ]
  },
  {
   "cell_type": "code",
   "execution_count": null,
   "id": "2f3e47c0",
   "metadata": {},
   "outputs": [],
   "source": []
  }
 ],
 "metadata": {
  "kernelspec": {
   "display_name": "Python 3 (ipykernel)",
   "language": "python",
   "name": "python3"
  },
  "language_info": {
   "codemirror_mode": {
    "name": "ipython",
    "version": 3
   },
   "file_extension": ".py",
   "mimetype": "text/x-python",
   "name": "python",
   "nbconvert_exporter": "python",
   "pygments_lexer": "ipython3",
   "version": "3.9.13"
  }
 },
 "nbformat": 4,
 "nbformat_minor": 5
}
