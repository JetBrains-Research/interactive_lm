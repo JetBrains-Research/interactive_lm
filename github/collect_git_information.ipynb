{
 "cells": [
  {
   "cell_type": "code",
   "execution_count": 1,
   "metadata": {},
   "outputs": [],
   "source": [
    "import pydriller\n",
    "import pandas as pd\n",
    "from tqdm import tqdm\n",
    "import re\n",
    "import shutil\n",
    "import jsonlines\n",
    "import os\n",
    "import json\n",
    "import jsonlines\n",
    "\n",
    "from langdetect import detect"
   ]
  },
  {
   "cell_type": "code",
   "execution_count": 2,
   "metadata": {},
   "outputs": [
    {
     "data": {
      "text/html": [
       "<div>\n",
       "<style scoped>\n",
       "    .dataframe tbody tr th:only-of-type {\n",
       "        vertical-align: middle;\n",
       "    }\n",
       "\n",
       "    .dataframe tbody tr th {\n",
       "        vertical-align: top;\n",
       "    }\n",
       "\n",
       "    .dataframe thead th {\n",
       "        text-align: right;\n",
       "    }\n",
       "</style>\n",
       "<table border=\"1\" class=\"dataframe\">\n",
       "  <thead>\n",
       "    <tr style=\"text-align: right;\">\n",
       "      <th></th>\n",
       "      <th>name</th>\n",
       "      <th>isFork</th>\n",
       "      <th>commits</th>\n",
       "      <th>branches</th>\n",
       "      <th>defaultBranch</th>\n",
       "      <th>releases</th>\n",
       "      <th>contributors</th>\n",
       "      <th>license</th>\n",
       "      <th>watchers</th>\n",
       "      <th>stargazers</th>\n",
       "      <th>...</th>\n",
       "      <th>homepage</th>\n",
       "      <th>mainLanguage</th>\n",
       "      <th>totalIssues</th>\n",
       "      <th>openIssues</th>\n",
       "      <th>totalPullRequests</th>\n",
       "      <th>openPullRequests</th>\n",
       "      <th>lastCommit</th>\n",
       "      <th>lastCommitSHA</th>\n",
       "      <th>hasWiki</th>\n",
       "      <th>isArchived</th>\n",
       "    </tr>\n",
       "  </thead>\n",
       "  <tbody>\n",
       "    <tr>\n",
       "      <th>0</th>\n",
       "      <td>knadh/ml2en</td>\n",
       "      <td>False</td>\n",
       "      <td>23</td>\n",
       "      <td>1</td>\n",
       "      <td>master</td>\n",
       "      <td>0</td>\n",
       "      <td>3.0</td>\n",
       "      <td>NaN</td>\n",
       "      <td>5</td>\n",
       "      <td>56</td>\n",
       "      <td>...</td>\n",
       "      <td>NaN</td>\n",
       "      <td>Python</td>\n",
       "      <td>4.0</td>\n",
       "      <td>1.0</td>\n",
       "      <td>4.0</td>\n",
       "      <td>0.0</td>\n",
       "      <td>2021-12-10T08:10:03</td>\n",
       "      <td>dd706167d52f8c9f556ee15869e00749c71df677</td>\n",
       "      <td>True</td>\n",
       "      <td>False</td>\n",
       "    </tr>\n",
       "    <tr>\n",
       "      <th>1</th>\n",
       "      <td>er10yi/magicude</td>\n",
       "      <td>False</td>\n",
       "      <td>98</td>\n",
       "      <td>2</td>\n",
       "      <td>main</td>\n",
       "      <td>12</td>\n",
       "      <td>1.0</td>\n",
       "      <td>NaN</td>\n",
       "      <td>12</td>\n",
       "      <td>423</td>\n",
       "      <td>...</td>\n",
       "      <td>NaN</td>\n",
       "      <td>Python</td>\n",
       "      <td>9.0</td>\n",
       "      <td>2.0</td>\n",
       "      <td>2.0</td>\n",
       "      <td>0.0</td>\n",
       "      <td>2022-01-10T03:28:29</td>\n",
       "      <td>b20f98939e928847f323d903f358221380a1ea74</td>\n",
       "      <td>True</td>\n",
       "      <td>False</td>\n",
       "    </tr>\n",
       "    <tr>\n",
       "      <th>2</th>\n",
       "      <td>keguoyu/minijvm</td>\n",
       "      <td>False</td>\n",
       "      <td>11</td>\n",
       "      <td>3</td>\n",
       "      <td>main</td>\n",
       "      <td>0</td>\n",
       "      <td>0.0</td>\n",
       "      <td>NaN</td>\n",
       "      <td>1</td>\n",
       "      <td>62</td>\n",
       "      <td>...</td>\n",
       "      <td>NaN</td>\n",
       "      <td>Python</td>\n",
       "      <td>NaN</td>\n",
       "      <td>NaN</td>\n",
       "      <td>NaN</td>\n",
       "      <td>NaN</td>\n",
       "      <td>2021-02-20T07:13:03</td>\n",
       "      <td>4da519cadead7164de37fb9b8913360dd45f9193</td>\n",
       "      <td>True</td>\n",
       "      <td>False</td>\n",
       "    </tr>\n",
       "    <tr>\n",
       "      <th>3</th>\n",
       "      <td>nordnet/next-api-v2-examples</td>\n",
       "      <td>False</td>\n",
       "      <td>35</td>\n",
       "      <td>2</td>\n",
       "      <td>master</td>\n",
       "      <td>0</td>\n",
       "      <td>10.0</td>\n",
       "      <td>MIT License</td>\n",
       "      <td>17</td>\n",
       "      <td>32</td>\n",
       "      <td>...</td>\n",
       "      <td>https://www.nordnet.se/externalapi/docs</td>\n",
       "      <td>Python</td>\n",
       "      <td>0.0</td>\n",
       "      <td>0.0</td>\n",
       "      <td>10.0</td>\n",
       "      <td>0.0</td>\n",
       "      <td>2022-03-10T11:18:36</td>\n",
       "      <td>73ed85404f10d879d8e5959a88a19dfad3b41827</td>\n",
       "      <td>False</td>\n",
       "      <td>False</td>\n",
       "    </tr>\n",
       "    <tr>\n",
       "      <th>4</th>\n",
       "      <td>aubreyrjones/parasol</td>\n",
       "      <td>False</td>\n",
       "      <td>70</td>\n",
       "      <td>1</td>\n",
       "      <td>master</td>\n",
       "      <td>0</td>\n",
       "      <td>1.0</td>\n",
       "      <td>BSD 2-Clause Simplified License</td>\n",
       "      <td>3</td>\n",
       "      <td>18</td>\n",
       "      <td>...</td>\n",
       "      <td>NaN</td>\n",
       "      <td>Python</td>\n",
       "      <td>0.0</td>\n",
       "      <td>0.0</td>\n",
       "      <td>0.0</td>\n",
       "      <td>0.0</td>\n",
       "      <td>2021-04-26T02:09:20</td>\n",
       "      <td>3110aec5b8824f10d324e35d02997b762f0436f4</td>\n",
       "      <td>True</td>\n",
       "      <td>False</td>\n",
       "    </tr>\n",
       "  </tbody>\n",
       "</table>\n",
       "<p>5 rows × 25 columns</p>\n",
       "</div>"
      ],
      "text/plain": [
       "                           name  isFork  commits  branches defaultBranch  \\\n",
       "0                   knadh/ml2en   False       23         1        master   \n",
       "1               er10yi/magicude   False       98         2          main   \n",
       "2               keguoyu/minijvm   False       11         3          main   \n",
       "3  nordnet/next-api-v2-examples   False       35         2        master   \n",
       "4          aubreyrjones/parasol   False       70         1        master   \n",
       "\n",
       "   releases  contributors                          license  watchers  \\\n",
       "0         0           3.0                              NaN         5   \n",
       "1        12           1.0                              NaN        12   \n",
       "2         0           0.0                              NaN         1   \n",
       "3         0          10.0                      MIT License        17   \n",
       "4         0           1.0  BSD 2-Clause Simplified License         3   \n",
       "\n",
       "   stargazers  ...                                 homepage  mainLanguage  \\\n",
       "0          56  ...                                      NaN        Python   \n",
       "1         423  ...                                      NaN        Python   \n",
       "2          62  ...                                      NaN        Python   \n",
       "3          32  ...  https://www.nordnet.se/externalapi/docs        Python   \n",
       "4          18  ...                                      NaN        Python   \n",
       "\n",
       "  totalIssues openIssues totalPullRequests openPullRequests  \\\n",
       "0         4.0        1.0               4.0              0.0   \n",
       "1         9.0        2.0               2.0              0.0   \n",
       "2         NaN        NaN               NaN              NaN   \n",
       "3         0.0        0.0              10.0              0.0   \n",
       "4         0.0        0.0               0.0              0.0   \n",
       "\n",
       "            lastCommit                             lastCommitSHA  hasWiki  \\\n",
       "0  2021-12-10T08:10:03  dd706167d52f8c9f556ee15869e00749c71df677     True   \n",
       "1  2022-01-10T03:28:29  b20f98939e928847f323d903f358221380a1ea74     True   \n",
       "2  2021-02-20T07:13:03  4da519cadead7164de37fb9b8913360dd45f9193     True   \n",
       "3  2022-03-10T11:18:36  73ed85404f10d879d8e5959a88a19dfad3b41827    False   \n",
       "4  2021-04-26T02:09:20  3110aec5b8824f10d324e35d02997b762f0436f4     True   \n",
       "\n",
       "   isArchived  \n",
       "0       False  \n",
       "1       False  \n",
       "2       False  \n",
       "3       False  \n",
       "4       False  \n",
       "\n",
       "[5 rows x 25 columns]"
      ]
     },
     "execution_count": 2,
     "metadata": {},
     "output_type": "execute_result"
    }
   ],
   "source": [
    "df = pd.read_csv('results.csv', encoding='latin-1')\n",
    "df.head()"
   ]
  },
  {
   "cell_type": "code",
   "execution_count": 3,
   "metadata": {},
   "outputs": [
    {
     "data": {
      "text/plain": [
       "(152562, 25)"
      ]
     },
     "execution_count": 3,
     "metadata": {},
     "output_type": "execute_result"
    }
   ],
   "source": [
    "df.shape"
   ]
  },
  {
   "cell_type": "code",
   "execution_count": 4,
   "metadata": {},
   "outputs": [
    {
     "data": {
      "text/plain": [
       "('https://github.com/knadh/ml2en', 'knadh')"
      ]
     },
     "execution_count": 4,
     "metadata": {},
     "output_type": "execute_result"
    }
   ],
   "source": [
    "urls = df['name'].apply(lambda x: \"https://github.com/\" + x)\n",
    "names = df['name'].apply(lambda x: x.split('/')[0])\n",
    "urls[0], names[0]"
   ]
  },
  {
   "cell_type": "code",
   "execution_count": 5,
   "metadata": {},
   "outputs": [],
   "source": [
    "processed_repos = set()\n",
    "with jsonlines.open(\"collected_info.jsonl\") as reader: \n",
    "    for obj in reader: # for writing\n",
    "        processed_repos.add(obj['rep_url'])"
   ]
  },
  {
   "cell_type": "code",
   "execution_count": 6,
   "metadata": {},
   "outputs": [],
   "source": [
    "import os\n",
    "if not os.path.exists('tmp_repos'):\n",
    "    os.mkdir('tmp_repos')"
   ]
  },
  {
   "cell_type": "code",
   "execution_count": 7,
   "metadata": {},
   "outputs": [],
   "source": [
    "def get_dir_size(path='.'):\n",
    "    total = 0\n",
    "    total_files = 0\n",
    "    total_py_files = 0\n",
    "    with os.scandir(path) as it:\n",
    "        for entry in it:\n",
    "            if entry.is_file():\n",
    "                total += entry.stat().st_size\n",
    "                total_files += 1\n",
    "                if entry.name[-3:] == '.py':\n",
    "                    total_py_files += 1\n",
    "            elif entry.is_dir():\n",
    "                a, b, c = get_dir_size(entry.path)\n",
    "                total += a\n",
    "                total_files += b\n",
    "                total_py_files += c\n",
    "    return total, total_files, total_py_files"
   ]
  },
  {
   "cell_type": "code",
   "execution_count": 8,
   "metadata": {},
   "outputs": [
    {
     "data": {
      "text/plain": [
       "['import re',\n",
       " 'import numpy as np',\n",
       " 'import os',\n",
       " 'import sys',\n",
       " 'import pandas as pd',\n",
       " 'from tqdm import tqdm',\n",
       " 'from math import log',\n",
       " 'from sklearn.metrics import r2_score']"
      ]
     },
     "execution_count": 8,
     "metadata": {},
     "output_type": "execute_result"
    }
   ],
   "source": [
    "def get_modules_from_py(file_text):\n",
    "    return re.findall('^import.*', file_text, re.M) + re.findall('^from.*', file_text, re.M)\n",
    "\n",
    "a = \"\"\"import re\n",
    "import numpy as np\n",
    "np.random.seed(10)\n",
    "from tqdm import tqdm\n",
    "b=10\n",
    "from math import log\n",
    "print(log(b))\n",
    "import os\n",
    "os.path.append('.')\n",
    "\n",
    "from sklearn.metrics import r2_score\n",
    "import sys\n",
    "import pandas as pd\n",
    "\"\"\"\n",
    "get_modules_from_py(a)"
   ]
  },
  {
   "cell_type": "code",
   "execution_count": 9,
   "metadata": {},
   "outputs": [],
   "source": [
    "assert len(urls) == len(names)"
   ]
  },
  {
   "cell_type": "code",
   "execution_count": 10,
   "metadata": {},
   "outputs": [],
   "source": [
    "json_keys = [\n",
    "    'rep_url', 'rep_size_on_disk', 'rep_total_files', 'rep_total_py_files', 'com_num_files',\n",
    "    'com_msg', 'com_msg_lang', 'com_num_py_files', 'com_py2mod_lines', 'com_py2nloc', \n",
    "    'com_py2lines_after', 'com_py2imports', 'com_hash', 'com_author', 'com_committer', \n",
    "    'committer_date', 'com_branches', 'com_in_main_branch', 'com_merge', 'com_deletions',\n",
    "    'com_insertions', 'com_lines', 'com_dmm_unit_size', 'com_dmm_unit_complexity',\n",
    "    'com_dmm_unit_interfacing', \n",
    "]"
   ]
  },
  {
   "cell_type": "code",
   "execution_count": null,
   "metadata": {
    "scrolled": false
   },
   "outputs": [
    {
     "name": "stderr",
     "output_type": "stream",
     "text": [
      "\r",
      "  0%|          | 0/152562 [00:00<?, ?it/s]"
     ]
    },
    {
     "name": "stdout",
     "output_type": "stream",
     "text": [
      "https://github.com/weixiao-huang/silver-spoon\n"
     ]
    },
    {
     "name": "stderr",
     "output_type": "stream",
     "text": [
      "\r",
      "  0%|          | 8/152562 [00:00<5:02:15,  8.41it/s]"
     ]
    },
    {
     "name": "stdout",
     "output_type": "stream",
     "text": [
      "https://github.com/pasquini-dario/plr\n"
     ]
    },
    {
     "name": "stderr",
     "output_type": "stream",
     "text": [
      "\r",
      "  0%|          | 14/152562 [00:05<12:22:46,  3.42it/s]"
     ]
    },
    {
     "name": "stdout",
     "output_type": "stream",
     "text": [
      "https://github.com/nvlabs/poserbpf\n"
     ]
    },
    {
     "name": "stderr",
     "output_type": "stream",
     "text": [
      "\r",
      "  0%|          | 16/152562 [00:07<24:59:07,  1.70it/s]"
     ]
    },
    {
     "name": "stdout",
     "output_type": "stream",
     "text": [
      "https://github.com/furo-org/vtc\n"
     ]
    },
    {
     "name": "stderr",
     "output_type": "stream",
     "text": [
      "\r",
      "  0%|          | 22/152562 [00:53<115:17:02,  2.72s/it]"
     ]
    },
    {
     "name": "stdout",
     "output_type": "stream",
     "text": [
      "https://github.com/microsoft/microsoft-rocketbox\n"
     ]
    }
   ],
   "source": [
    "pbar = tqdm(zip(urls, names), total=len(urls), position=0, leave=True)\n",
    "with open('urls_logger', 'w') as f:\n",
    "    pass\n",
    "\n",
    "for url, name in pbar:\n",
    "    with open('urls_logger', 'a') as f:\n",
    "        f.write(url+'\\n')\n",
    "        \n",
    "    if url in processed_repos:\n",
    "        continue\n",
    "    print(url)\n",
    "    if not os.path.exists(f'tmp_repos/{name}'):\n",
    "        os.mkdir(f'tmp_repos/{name}')\n",
    "    repo = pydriller.Repository(url, clone_repo_to=f'tmp_repos/{name}', only_modifications_with_file_types='.py',\n",
    "                                num_workers=6)\n",
    "    try:\n",
    "        commits = list(repo.traverse_commits())\n",
    "    except:\n",
    "        shutil.rmtree(f'tmp_repos/{name}')\n",
    "        continue\n",
    "    \n",
    "    try:\n",
    "        repo_size, total_files, total_py_files = get_dir_size(f'tmp_repos/{name}')\n",
    "        # if total_files > 60: # or repo_size * 10e-6 > 300: # or total_py_files / total_files < 0.2:\n",
    "    except:\n",
    "        repo_size, total_files, total_py_files = -1, -1, -1\n",
    "    \n",
    "    for i, commit in enumerate(commits):\n",
    "        new_obj = {\n",
    "            'rep_url': url,\n",
    "            'rep_size_on_disk': repo_size,\n",
    "            'rep_total_files': total_files,\n",
    "            'rep_total_py_files': total_py_files,\n",
    "        }\n",
    "        \n",
    "        msg = commit.msg if commit.msg else ''\n",
    "        new_obj['com_msg'] = msg\n",
    "        \n",
    "        com_lang = ''\n",
    "        try:\n",
    "            com_lang = detect(commit.msg) != 'en'\n",
    "        except:\n",
    "            pass\n",
    "        new_obj['com_msg_lang'] = com_lang\n",
    "        new_obj['com_num_files'] = commit.files\n",
    "        \n",
    "        new_obj['com_hash'] = commit.hash\n",
    "        new_obj['com_author'] = commit.author.name\n",
    "        new_obj['com_committer'] = commit.committer.name\n",
    "        new_obj['committer_date'] = str(commit.committer_date)\n",
    "        new_obj['com_branches'] = list(commit.branches)\n",
    "        new_obj['com_in_main_branch'] = commit.in_main_branch\n",
    "        new_obj['com_merge'] = commit.merge\n",
    "        new_obj['com_deletions'] = commit.deletions\n",
    "        new_obj['com_insertions'] = commit.insertions\n",
    "        new_obj['com_lines'] = commit.lines\n",
    "        new_obj['com_dmm_unit_size'] = commit.dmm_unit_size\n",
    "        new_obj['com_dmm_unit_complexity'] = commit.dmm_unit_complexity\n",
    "        new_obj['com_dmm_unit_interfacing'] = commit.dmm_unit_interfacing\n",
    "        \n",
    "        len_mod_files = 0 \n",
    "        num_py_files = 0  \n",
    "        py2add_lines = {} \n",
    "        py2del_lines = {}  \n",
    "        py2nloc = {} \n",
    "        py2lines_before = {}\n",
    "        py2lines_after = {}\n",
    "        py2imports_before = {}\n",
    "        py2imports_after = {}\n",
    "        py2paths = {} \n",
    "        py2ch_type = {} \n",
    "        mod_files = commit.modified_files\n",
    "        for mod_id, mod_file in enumerate(mod_files):\n",
    "            len_mod_files += 1\n",
    "            if mod_file.filename[-3:] == '.py':\n",
    "                num_py_files += 1\n",
    "                file_name = f'{mod_id}_{mod_file.filename}'\n",
    "                py2nloc[file_name] = mod_file.nloc\n",
    "                py2add_lines[file_name] = mod_file.added_lines\n",
    "                py2del_lines[file_name] = mod_file.deleted_lines\n",
    "                py2paths[file_name] = [mod_file.old_path, mod_file.new_path]\n",
    "                py2ch_type[file_name] = mod_file.change_type.name\n",
    "                \n",
    "                try:\n",
    "                    code_before = mod_files[0].content_before.decode(\"utf-8\") \n",
    "                except:\n",
    "                    code_before = ''\n",
    "\n",
    "                try:\n",
    "                    code_after = mod_files[0].content.decode(\"utf-8\")\n",
    "                except:\n",
    "                    code_after = ''\n",
    "                \n",
    "                lines_before = code_before.strip().count('\\n') + 1\n",
    "                lines_after = code_after.strip().count('\\n') + 1\n",
    "                imports_before = get_modules_from_py(code_before)\n",
    "                imports_after = get_modules_from_py(code_after)\n",
    "                \n",
    "                py2lines_before[file_name] = lines_before\n",
    "                py2lines_after[file_name] = lines_after\n",
    "                py2imports_before[file_name] = imports_before\n",
    "                py2imports_after[file_name] = imports_after\n",
    "                \n",
    "                \n",
    "                \n",
    "        \n",
    "        \n",
    "        new_obj['com_len_mod_files'] = len_mod_files\n",
    "        new_obj['com_num_py_files'] = num_py_files\n",
    "        new_obj['com_py2add_lines'] = py2add_lines\n",
    "        new_obj['com_py2del_lines'] = py2del_lines\n",
    "        new_obj['com_py2paths'] = py2paths\n",
    "        new_obj['com_py2nloc'] = py2nloc\n",
    "        new_obj['com_py2lines_after'] = py2lines_after\n",
    "        new_obj['com_py2lines_before'] = py2lines_before\n",
    "        new_obj['com_py2imports_before'] = py2imports_before\n",
    "        new_obj['com_py2imports_after'] = py2imports_after\n",
    "        new_obj['com_py2ch_type'] = py2ch_type\n",
    "        \n",
    "        with jsonlines.open(\"collected_info.jsonl\", \"a\") as writer:   # for writing\n",
    "            writer.write(new_obj)\n",
    "    \n",
    "    shutil.rmtree(f'tmp_repos/{name}')\n",
    "    # pbar.set_postfix({'num_good': counter, 'num_good_no_filter': counter_no_fiters})"
   ]
  },
  {
   "cell_type": "code",
   "execution_count": null,
   "metadata": {},
   "outputs": [],
   "source": [
    "1"
   ]
  },
  {
   "cell_type": "code",
   "execution_count": null,
   "metadata": {},
   "outputs": [],
   "source": []
  }
 ],
 "metadata": {
  "kernelspec": {
   "display_name": "Python 3",
   "language": "python",
   "name": "python3"
  },
  "language_info": {
   "codemirror_mode": {
    "name": "ipython",
    "version": 3
   },
   "file_extension": ".py",
   "mimetype": "text/x-python",
   "name": "python",
   "nbconvert_exporter": "python",
   "pygments_lexer": "ipython3",
   "version": "3.7.7"
  }
 },
 "nbformat": 4,
 "nbformat_minor": 2
}
