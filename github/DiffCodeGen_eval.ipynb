{
 "cells": [
  {
   "cell_type": "code",
   "execution_count": 1,
   "id": "e2e15714",
   "metadata": {},
   "outputs": [],
   "source": [
    "import json"
   ]
  },
  {
   "cell_type": "code",
   "execution_count": 2,
   "id": "d5af53ac",
   "metadata": {},
   "outputs": [],
   "source": [
    "with open('generated_diff-codegen-350m-v2.json', 'r') as f:\n",
    "    aaa = json.load(f)"
   ]
  },
  {
   "cell_type": "code",
   "execution_count": 3,
   "id": "1636b138",
   "metadata": {},
   "outputs": [
    {
     "data": {
      "text/plain": [
       "(74455,\n",
       " '    def _misc(self, func, opts, args):\\n        # tcrdbmisc opts are RDBMONOULOG\\n        socksend(self.sock, _t1FN(C.misc, func, opts, args, _t1FN(C.misc, _t1FN, opts, args)))\\n        socksuccess(self.sock)        numrecs = socklen(self.sock)\\n        for i in xrange(numrecs):\\n            yield sockstr(self.sock)')"
      ]
     },
     "execution_count": 3,
     "metadata": {},
     "output_type": "execute_result"
    }
   ],
   "source": [
    "len(aaa), aaa[0]"
   ]
  },
  {
   "cell_type": "code",
   "execution_count": 4,
   "id": "645b05d0",
   "metadata": {},
   "outputs": [
    {
     "data": {
      "text/plain": [
       "(74455, 10)"
      ]
     },
     "execution_count": 4,
     "metadata": {},
     "output_type": "execute_result"
    }
   ],
   "source": [
    "import pandas as pd\n",
    "import numpy as np\n",
    "\n",
    "df_new_disk = pd.read_json(r'final_data.json')\n",
    "df_new_disk.shape"
   ]
  },
  {
   "cell_type": "code",
   "execution_count": 5,
   "id": "e09a45b7",
   "metadata": {},
   "outputs": [],
   "source": [
    "with open('test_idxs.npy', 'rb') as f:\n",
    "    X_test_idx = np.load(f)\n",
    "    \n",
    "X_test = df_new_disk.iloc[X_test_idx]"
   ]
  },
  {
   "cell_type": "code",
   "execution_count": 6,
   "id": "8b24771d",
   "metadata": {},
   "outputs": [
    {
     "data": {
      "text/html": [
       "<div>\n",
       "<style scoped>\n",
       "    .dataframe tbody tr th:only-of-type {\n",
       "        vertical-align: middle;\n",
       "    }\n",
       "\n",
       "    .dataframe tbody tr th {\n",
       "        vertical-align: top;\n",
       "    }\n",
       "\n",
       "    .dataframe thead th {\n",
       "        text-align: right;\n",
       "    }\n",
       "</style>\n",
       "<table border=\"1\" class=\"dataframe\">\n",
       "  <thead>\n",
       "    <tr style=\"text-align: right;\">\n",
       "      <th></th>\n",
       "      <th>code_before</th>\n",
       "      <th>code_after</th>\n",
       "      <th>commit_msg</th>\n",
       "      <th>com_py2imports_before</th>\n",
       "      <th>com_py2imports_after</th>\n",
       "      <th>diff</th>\n",
       "      <th>com_hash</th>\n",
       "      <th>imports</th>\n",
       "      <th>lib8funcs</th>\n",
       "      <th>docs</th>\n",
       "    </tr>\n",
       "  </thead>\n",
       "  <tbody>\n",
       "    <tr>\n",
       "      <th>68464</th>\n",
       "      <td>def main(conf):\\n    \"\"\"\\n    Start the bot us...</td>\n",
       "      <td>def main(conf):\\n    \"\"\"\\n    Start the bot us...</td>\n",
       "      <td>Working nick changes</td>\n",
       "      <td>{'0_logbot.py': ['import os', 'import os.path'...</td>\n",
       "      <td>{'0_logbot.py': ['import os', 'import os.path'...</td>\n",
       "      <td>@@ -138,7 +138,7 @@ class LogBot(SingleServerI...</td>\n",
       "      <td>ab8f0a30784a09feea7a037b170437b644b31ecc</td>\n",
       "      <td>[from optparse import OptionParser, from ftpli...</td>\n",
       "      <td>[{'optparse': 'OptionParser', 'ftplib': 'FTP',...</td>\n",
       "      <td>[]</td>\n",
       "    </tr>\n",
       "    <tr>\n",
       "      <th>55523</th>\n",
       "      <td>def ezjail_admin(self, command, *params):\\...</td>\n",
       "      <td>def ezjail_admin(self, command, *params):\\...</td>\n",
       "      <td>pyflakes</td>\n",
       "      <td>{'0_ezjail.py': ['from collections import Orde...</td>\n",
       "      <td>{'0_ezjail.py': ['from collections import Orde...</td>\n",
       "      <td>@@ -13,7 +13,8 @@ from collections import Orde...</td>\n",
       "      <td>587394645cc7f8675ccbd51c82f3e4c0f96ef4b8</td>\n",
       "      <td>[from collections import OrderedDict]</td>\n",
       "      <td>[{'collections': 'OrderedDict'}, {'OrderedDict...</td>\n",
       "      <td>[]</td>\n",
       "    </tr>\n",
       "  </tbody>\n",
       "</table>\n",
       "</div>"
      ],
      "text/plain": [
       "                                             code_before  \\\n",
       "68464  def main(conf):\\n    \"\"\"\\n    Start the bot us...   \n",
       "55523      def ezjail_admin(self, command, *params):\\...   \n",
       "\n",
       "                                              code_after  \\\n",
       "68464  def main(conf):\\n    \"\"\"\\n    Start the bot us...   \n",
       "55523      def ezjail_admin(self, command, *params):\\...   \n",
       "\n",
       "                 commit_msg  \\\n",
       "68464  Working nick changes   \n",
       "55523              pyflakes   \n",
       "\n",
       "                                   com_py2imports_before  \\\n",
       "68464  {'0_logbot.py': ['import os', 'import os.path'...   \n",
       "55523  {'0_ezjail.py': ['from collections import Orde...   \n",
       "\n",
       "                                    com_py2imports_after  \\\n",
       "68464  {'0_logbot.py': ['import os', 'import os.path'...   \n",
       "55523  {'0_ezjail.py': ['from collections import Orde...   \n",
       "\n",
       "                                                    diff  \\\n",
       "68464  @@ -138,7 +138,7 @@ class LogBot(SingleServerI...   \n",
       "55523  @@ -13,7 +13,8 @@ from collections import Orde...   \n",
       "\n",
       "                                       com_hash  \\\n",
       "68464  ab8f0a30784a09feea7a037b170437b644b31ecc   \n",
       "55523  587394645cc7f8675ccbd51c82f3e4c0f96ef4b8   \n",
       "\n",
       "                                                 imports  \\\n",
       "68464  [from optparse import OptionParser, from ftpli...   \n",
       "55523              [from collections import OrderedDict]   \n",
       "\n",
       "                                               lib8funcs docs  \n",
       "68464  [{'optparse': 'OptionParser', 'ftplib': 'FTP',...   []  \n",
       "55523  [{'collections': 'OrderedDict'}, {'OrderedDict...   []  "
      ]
     },
     "execution_count": 6,
     "metadata": {},
     "output_type": "execute_result"
    }
   ],
   "source": [
    "X_test.head(2)"
   ]
  },
  {
   "cell_type": "code",
   "execution_count": 7,
   "id": "1607ae25",
   "metadata": {},
   "outputs": [
    {
     "data": {
      "text/plain": [
       "'def main(conf):\\n    \"\"\"\\n    Start the bot using a config file.\\n\\n    :Parameters:\\n       - `conf`: config file location\\n    \"\"\"\\n    CONFIG = ConfigParser()\\n    CONFIG.read(conf)\\n    \\n    # Get the irc network configuration\\n    server = CONFIG.get(\"irc\", \"server\")\\n    port = CONFIG.getint(\"irc\", \"port\")\\n    channels = CONFIG.get(\"irc\", \"channels\").split(\",\")\\n    nick = CONFIG.get(\"irc\", \"nick\")\\n    try:\\n        password = CONFIG.get(\"irc\", \"password\")\\n    except:\\n        password = None\\n    owner = CONFIG.get(\"irc\", \"owners\").split(\",\")\\n    \\n    # Get the log section\\n    folder = CONFIG.get(\"log\", \"folder\")\\n    stylesheet = CONFIG.get(\"log\", \"stylesheet\")\\n    \\n    # Get the formation information\\n    types = [\"join\", \"kick\", \"mode\", \"part\", \"pubmsg\", \"pubnotice\", \"quit\",\\n             \"topic\"]\\n    format = {}\\n    for type in types:\\n        format[type] = CONFIG.get(\"format\", type)\\n        \\n    bot = LogBot(server, port, channels, owner, nick, password)\\n    bot.set_format(folder, format, stylesheet)\\n    bot.start()'"
      ]
     },
     "execution_count": 7,
     "metadata": {},
     "output_type": "execute_result"
    }
   ],
   "source": [
    "X_test.iloc[0]['code_before']"
   ]
  },
  {
   "cell_type": "code",
   "execution_count": 8,
   "id": "55129631",
   "metadata": {},
   "outputs": [
    {
     "name": "stderr",
     "output_type": "stream",
     "text": [
      "/tmp/ipykernel_158478/2041224822.py:2: SettingWithCopyWarning: \n",
      "A value is trying to be set on a copy of a slice from a DataFrame.\n",
      "Try using .loc[row_indexer,col_indexer] = value instead\n",
      "\n",
      "See the caveats in the documentation: https://pandas.pydata.org/pandas-docs/stable/user_guide/indexing.html#returning-a-view-versus-a-copy\n",
      "  X_test['gen_code_after'] = bbb\n"
     ]
    }
   ],
   "source": [
    "bbb = np.array(aaa)[X_test_idx]\n",
    "X_test['gen_code_after'] = bbb"
   ]
  },
  {
   "cell_type": "code",
   "execution_count": 9,
   "id": "0eb6cf3f",
   "metadata": {},
   "outputs": [
    {
     "name": "stderr",
     "output_type": "stream",
     "text": [
      "/tmp/ipykernel_158478/2430124508.py:1: SettingWithCopyWarning: \n",
      "A value is trying to be set on a copy of a slice from a DataFrame.\n",
      "Try using .loc[row_indexer,col_indexer] = value instead\n",
      "\n",
      "See the caveats in the documentation: https://pandas.pydata.org/pandas-docs/stable/user_guide/indexing.html#returning-a-view-versus-a-copy\n",
      "  X_test['gen_code_after'] = X_test.apply(lambda x: x['code_before']\n"
     ]
    }
   ],
   "source": [
    "X_test['gen_code_after'] = X_test.apply(lambda x: x['code_before'] \n",
    "                                                  if x['gen_code_after'] == '' else x['gen_code_after'], axis=1)\n"
   ]
  },
  {
   "cell_type": "code",
   "execution_count": 10,
   "id": "8e27fc82",
   "metadata": {},
   "outputs": [
    {
     "name": "stdout",
     "output_type": "stream",
     "text": [
      "316\n",
      "0.0424388933655654\n"
     ]
    }
   ],
   "source": [
    "print(np.sum(X_test['gen_code_after'] == X_test['code_after']))\n",
    "print(np.sum(X_test['gen_code_after'] == X_test['code_after']) / X_test.shape[0])"
   ]
  },
  {
   "cell_type": "code",
   "execution_count": 11,
   "id": "36b5b72f",
   "metadata": {},
   "outputs": [
    {
     "name": "stdout",
     "output_type": "stream",
     "text": [
      "499\n",
      "0.06701584743486436\n"
     ]
    }
   ],
   "source": [
    "print(np.sum(X_test['code_before'] == X_test['code_after']))\n",
    "print(np.sum(X_test['code_before'] == X_test['code_after']) / X_test.shape[0])"
   ]
  },
  {
   "cell_type": "code",
   "execution_count": null,
   "id": "ca31f401",
   "metadata": {},
   "outputs": [],
   "source": []
  }
 ],
 "metadata": {
  "kernelspec": {
   "display_name": "Python 3 (ipykernel)",
   "language": "python",
   "name": "python3"
  },
  "language_info": {
   "codemirror_mode": {
    "name": "ipython",
    "version": 3
   },
   "file_extension": ".py",
   "mimetype": "text/x-python",
   "name": "python",
   "nbconvert_exporter": "python",
   "pygments_lexer": "ipython3",
   "version": "3.9.13"
  }
 },
 "nbformat": 4,
 "nbformat_minor": 5
}
