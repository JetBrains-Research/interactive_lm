{
 "cells": [
  {
   "cell_type": "code",
   "execution_count": 2,
   "id": "2d5c54e6",
   "metadata": {},
   "outputs": [],
   "source": [
    "import sys\n",
    "sys.path.append('..')"
   ]
  },
  {
   "cell_type": "code",
   "execution_count": 3,
   "id": "83a4e8c7",
   "metadata": {},
   "outputs": [],
   "source": [
    "import os\n",
    "os.environ['TOKENIZERS_PARALLELISM']='true'\n",
    "os.environ['CUDA_VISIBLE_DEVICES']='2'"
   ]
  },
  {
   "cell_type": "code",
   "execution_count": 4,
   "id": "73de4b82",
   "metadata": {},
   "outputs": [],
   "source": [
    "import re\n",
    "import os\n",
    "import torch\n",
    "import json\n",
    "import numpy as np\n",
    "import pandas as pd\n",
    "import seaborn as sns\n",
    "import transformers\n",
    "import catalyst\n",
    "import difflib\n",
    "import matplotlib.pyplot as plt\n",
    "import warnings\n",
    "warnings.filterwarnings(\"ignore\")\n",
    "\n",
    "from transformers import T5Tokenizer, T5TokenizerFast, T5ForConditionalGeneration\n",
    "from transformers.tokenization_utils import PreTrainedTokenizer\n",
    "from transformers.tokenization_utils_fast import PreTrainedTokenizerFast\n",
    "from typing import Callable, Union, Tuple\n",
    "from catalyst.loggers.wandb import WandbLogger\n",
    "from tqdm.notebook import tqdm\n",
    "from collections import Counter\n",
    "from torch import nn\n",
    "from catalyst import dl\n",
    "from catalyst.callbacks.periodic_loader import PeriodicLoaderCallback\n",
    "from langdetect import detect\n",
    "from easse.sari import corpus_sari\n",
    "from rouge import Rouge"
   ]
  },
  {
   "cell_type": "code",
   "execution_count": 5,
   "id": "99495a14",
   "metadata": {},
   "outputs": [],
   "source": [
    "from dataclasses import dataclass\n",
    "\n",
    "@dataclass\n",
    "class Config:\n",
    "    pass\n",
    "\n",
    "CONFIG = Config()\n",
    "CONFIG.seed = 1337\n",
    "\n",
    "import random\n",
    "\n",
    "random.seed(CONFIG.seed)\n",
    "os.environ['PYTHONHASHSEED'] = str(CONFIG.seed)\n",
    "np.random.seed(CONFIG.seed)\n",
    "torch.manual_seed(CONFIG.seed)\n",
    "torch.cuda.manual_seed(CONFIG.seed)\n",
    "torch.backends.cudnn.deterministic = True\n",
    "torch.backends.cudnn.benchmark = True"
   ]
  },
  {
   "cell_type": "markdown",
   "id": "c56b00cf",
   "metadata": {},
   "source": [
    "## Model"
   ]
  },
  {
   "cell_type": "code",
   "execution_count": 6,
   "id": "3f5804dd",
   "metadata": {},
   "outputs": [],
   "source": [
    "import torch\n",
    "from transformers import CodeGenForCausalLM, AutoTokenizer\n",
    "from transformers import RobertaTokenizer, T5ForConditionalGeneration\n",
    "\n",
    "CONFIG.src_max_len = 512\n",
    "CONFIG.tgt_max_len = 512\n",
    "CONFIG.pretrained = 'Salesforce/codet5-small'\n",
    "\n",
    "tokenizer = RobertaTokenizer.from_pretrained(CONFIG.pretrained)\n",
    "device = torch.device(\"cuda:0\" if torch.cuda.is_available() else \"cpu\")\n",
    "model = T5ForConditionalGeneration.from_pretrained(CONFIG.pretrained).to(device)\n",
    "\n",
    "SEP_TOKEN = str(tokenizer.__dict__['init_kwargs']['sep_token'])"
   ]
  },
  {
   "cell_type": "markdown",
   "id": "b15814f3",
   "metadata": {},
   "source": [
    "## Read data"
   ]
  },
  {
   "cell_type": "code",
   "execution_count": 7,
   "id": "645b05d0",
   "metadata": {},
   "outputs": [
    {
     "data": {
      "text/plain": [
       "(74455, 10)"
      ]
     },
     "execution_count": 7,
     "metadata": {},
     "output_type": "execute_result"
    }
   ],
   "source": [
    "import pandas as pd\n",
    "\n",
    "df_new_disk = pd.read_json(r'final_data.json')\n",
    "df_new_disk.shape"
   ]
  },
  {
   "cell_type": "code",
   "execution_count": 8,
   "id": "8b24771d",
   "metadata": {},
   "outputs": [
    {
     "data": {
      "text/html": [
       "<div>\n",
       "<style scoped>\n",
       "    .dataframe tbody tr th:only-of-type {\n",
       "        vertical-align: middle;\n",
       "    }\n",
       "\n",
       "    .dataframe tbody tr th {\n",
       "        vertical-align: top;\n",
       "    }\n",
       "\n",
       "    .dataframe thead th {\n",
       "        text-align: right;\n",
       "    }\n",
       "</style>\n",
       "<table border=\"1\" class=\"dataframe\">\n",
       "  <thead>\n",
       "    <tr style=\"text-align: right;\">\n",
       "      <th></th>\n",
       "      <th>code_before</th>\n",
       "      <th>code_after</th>\n",
       "      <th>commit_msg</th>\n",
       "      <th>com_py2imports_before</th>\n",
       "      <th>com_py2imports_after</th>\n",
       "      <th>diff</th>\n",
       "      <th>com_hash</th>\n",
       "      <th>imports</th>\n",
       "      <th>lib8funcs</th>\n",
       "      <th>docs</th>\n",
       "    </tr>\n",
       "  </thead>\n",
       "  <tbody>\n",
       "    <tr>\n",
       "      <th>0</th>\n",
       "      <td>def _misc(self, func, opts, args):\\n      ...</td>\n",
       "      <td>def _misc(self, func, opts, args):\\n      ...</td>\n",
       "      <td>http://code.google.com/p/pytyrant/issues/detai...</td>\n",
       "      <td>{'0_pytyrant.py': ['import socket', 'import st...</td>\n",
       "      <td>{'0_pytyrant.py': ['import socket', 'import st...</td>\n",
       "      <td>@@ -493,8 +493,10 @@ class Tyrant(object):\\n  ...</td>\n",
       "      <td>32618ec0a7a05bad587064e20adfb80cb7bd1860</td>\n",
       "      <td>[import UserDict, import struct, import socket]</td>\n",
       "      <td>[{'UserDict': '*', 'struct': '*', 'socket': '*...</td>\n",
       "      <td>[]</td>\n",
       "    </tr>\n",
       "    <tr>\n",
       "      <th>1</th>\n",
       "      <td>def _tDouble(code, key, integ, fract):\\n    re...</td>\n",
       "      <td>def _tDouble(code, key, integ, fract):\\n    re...</td>\n",
       "      <td>fix adddouble typo</td>\n",
       "      <td>{'0_pytyrant.py': ['import math', 'import sock...</td>\n",
       "      <td>{'0_pytyrant.py': ['import math', 'import sock...</td>\n",
       "      <td>@@ -147,7 +147,7 @@ def _t3F(code, func, opts,...</td>\n",
       "      <td>8b5d9f765a0fbbd76cc7b7ff8d2593436c6a2360</td>\n",
       "      <td>[import struct, import UserDict, import math, ...</td>\n",
       "      <td>[{'struct': '*', 'UserDict': '*', 'math': '*',...</td>\n",
       "      <td>[Functions to convert between Python values an...</td>\n",
       "    </tr>\n",
       "  </tbody>\n",
       "</table>\n",
       "</div>"
      ],
      "text/plain": [
       "                                         code_before  \\\n",
       "0      def _misc(self, func, opts, args):\\n      ...   \n",
       "1  def _tDouble(code, key, integ, fract):\\n    re...   \n",
       "\n",
       "                                          code_after  \\\n",
       "0      def _misc(self, func, opts, args):\\n      ...   \n",
       "1  def _tDouble(code, key, integ, fract):\\n    re...   \n",
       "\n",
       "                                          commit_msg  \\\n",
       "0  http://code.google.com/p/pytyrant/issues/detai...   \n",
       "1                                 fix adddouble typo   \n",
       "\n",
       "                               com_py2imports_before  \\\n",
       "0  {'0_pytyrant.py': ['import socket', 'import st...   \n",
       "1  {'0_pytyrant.py': ['import math', 'import sock...   \n",
       "\n",
       "                                com_py2imports_after  \\\n",
       "0  {'0_pytyrant.py': ['import socket', 'import st...   \n",
       "1  {'0_pytyrant.py': ['import math', 'import sock...   \n",
       "\n",
       "                                                diff  \\\n",
       "0  @@ -493,8 +493,10 @@ class Tyrant(object):\\n  ...   \n",
       "1  @@ -147,7 +147,7 @@ def _t3F(code, func, opts,...   \n",
       "\n",
       "                                   com_hash  \\\n",
       "0  32618ec0a7a05bad587064e20adfb80cb7bd1860   \n",
       "1  8b5d9f765a0fbbd76cc7b7ff8d2593436c6a2360   \n",
       "\n",
       "                                             imports  \\\n",
       "0    [import UserDict, import struct, import socket]   \n",
       "1  [import struct, import UserDict, import math, ...   \n",
       "\n",
       "                                           lib8funcs  \\\n",
       "0  [{'UserDict': '*', 'struct': '*', 'socket': '*...   \n",
       "1  [{'struct': '*', 'UserDict': '*', 'math': '*',...   \n",
       "\n",
       "                                                docs  \n",
       "0                                                 []  \n",
       "1  [Functions to convert between Python values an...  "
      ]
     },
     "execution_count": 8,
     "metadata": {},
     "output_type": "execute_result"
    }
   ],
   "source": [
    "df_new_disk.head(2)"
   ]
  },
  {
   "cell_type": "code",
   "execution_count": 9,
   "id": "396c523f",
   "metadata": {},
   "outputs": [],
   "source": [
    "df_new_disk['file_name'] = df_new_disk['com_py2imports_after'].apply(lambda x: list(x)[0])"
   ]
  },
  {
   "cell_type": "code",
   "execution_count": 10,
   "id": "51bac252",
   "metadata": {},
   "outputs": [],
   "source": [
    "def generate_prompts(row):\n",
    "    fn = row['file_name']\n",
    "    code_before = row['code_before']\n",
    "    commit_msg = row['commit_msg']\n",
    "    return f'{commit_msg} {SEP_TOKEN} {code_before}\\n'"
   ]
  },
  {
   "cell_type": "code",
   "execution_count": 11,
   "id": "14e2497f",
   "metadata": {},
   "outputs": [],
   "source": [
    "df_new_disk['prompt'] = df_new_disk.apply(lambda x: generate_prompts(x), axis=1)"
   ]
  },
  {
   "cell_type": "code",
   "execution_count": 12,
   "id": "5d5b6730",
   "metadata": {},
   "outputs": [
    {
     "name": "stdout",
     "output_type": "stream",
     "text": [
      "Fix RBF features. </s>     def __init__(self, nrows = 5, ncols = 5, walls=[(1,1),(1,2),(1,3),(2,1),(2,2),(2,3),(3,1),(3,2),(3,3)], endstates = [0]):\n",
      "        self.nrows = nrows\n",
      "        self.ncols = ncols\n",
      "\n",
      "        self.walls = walls\n",
      "        grid = [self.coords(i) for i in range(self.nrows * self.ncols)]\n",
      "        grid = [s for s in grid if not s in self.walls]\n",
      "        self.states = dict([(i,s) for (i,s) in enumerate(grid)])\n",
      "        self.rstates = dict([(s,i) for (i,s) in enumerate(grid)]) # reverse lookup by grid coords\n",
      "\n",
      "        self.nstates = len(self.states)\n",
      "        self.nactions = 8\n",
      "        self.endstates = endstates\n",
      "\n",
      "        MDP.__init__(self, nstates = self.nstates, nactions = self.nactions)\n",
      "\n"
     ]
    }
   ],
   "source": [
    "print(df_new_disk['prompt'].iloc[100])"
   ]
  },
  {
   "cell_type": "code",
   "execution_count": 13,
   "id": "1a18745c",
   "metadata": {},
   "outputs": [],
   "source": [
    "with open('train_idxs.npy', 'rb') as f:\n",
    "    X_train_idx = np.load(f)\n",
    "    \n",
    "with open('test_idxs.npy', 'rb') as f:\n",
    "    X_test_idx = np.load(f)"
   ]
  },
  {
   "cell_type": "code",
   "execution_count": 14,
   "id": "67a46a01",
   "metadata": {},
   "outputs": [],
   "source": [
    "X_train = df_new_disk.iloc[X_train_idx]\n",
    "X_test = df_new_disk.iloc[X_test_idx]\n",
    "X_test_sub = X_test.iloc[:600]"
   ]
  },
  {
   "cell_type": "code",
   "execution_count": 15,
   "id": "56433f90",
   "metadata": {},
   "outputs": [
    {
     "data": {
      "text/plain": [
       "((67009, 12), (7446, 12), (600, 12))"
      ]
     },
     "execution_count": 15,
     "metadata": {},
     "output_type": "execute_result"
    }
   ],
   "source": [
    "X_train.shape, X_test.shape, X_test_sub.shape"
   ]
  },
  {
   "cell_type": "markdown",
   "id": "f46059fe",
   "metadata": {},
   "source": [
    "## Dataset"
   ]
  },
  {
   "cell_type": "code",
   "execution_count": 16,
   "id": "c8b2ce9d",
   "metadata": {},
   "outputs": [],
   "source": [
    "from typing import Union, Callable, Tuple\n",
    "from transformers.tokenization_utils import PreTrainedTokenizer\n",
    "from transformers.tokenization_utils_fast import PreTrainedTokenizerFast\n",
    "\n",
    "class EditDataset(torch.utils.data.Dataset):\n",
    "    def __init__(self, \n",
    "                 dataset: pd.DataFrame, \n",
    "                 tokenizer: Union[PreTrainedTokenizer, PreTrainedTokenizerFast],\n",
    "                 config):\n",
    "        self.db = dataset\n",
    "        self.tokenizer = tokenizer\n",
    "        \n",
    "        src_text = self.db['prompt'].values\n",
    "        tgt_text = self.db['code_after'].values\n",
    "        \n",
    "        self.src_text_tokenized = [tokenizer(x,\n",
    "                                       max_length=config.src_max_len,\n",
    "                                       truncation=True,\n",
    "                                       return_attention_mask=False,\n",
    "                                       ) for x in src_text]\n",
    "        self.tgt_text_tokenized = [tokenizer(x,\n",
    "                                       max_length=config.tgt_max_len,\n",
    "                                       truncation=True,\n",
    "                                       return_attention_mask=False,\n",
    "                                       ) for x in tgt_text]\n",
    "\n",
    "    def __len__(self):\n",
    "        return len(self.db)\n",
    "\n",
    "    def __getitem__(self, \n",
    "                    idx: int) -> Tuple[torch.Tensor, torch.Tensor]:\n",
    "        src = self.src_text_tokenized[idx]\n",
    "        tgt = self.tgt_text_tokenized[idx]\n",
    "        return src, tgt\n",
    "    \n",
    "    @staticmethod\n",
    "    def collate_fn_new(samples: Tuple[torch.Tensor, torch.Tensor], \n",
    "                   tokenizer: Union[PreTrainedTokenizer, PreTrainedTokenizerFast], \n",
    "                   config: Config) -> Tuple[Tuple[torch.Tensor, torch.Tensor], torch.Tensor]:\n",
    "        src_samples = [x[0] for x in samples]\n",
    "        tgt_samples = [x[1] for x in samples]\n",
    "\n",
    "        src_samples = tokenizer.pad(src_samples,\n",
    "                                    padding='longest',\n",
    "                                    max_length=config.src_max_len,\n",
    "                                    return_attention_mask=False,\n",
    "                                    return_tensors='pt')['input_ids']\n",
    "\n",
    "        tgt_samples = tokenizer.pad(tgt_samples,\n",
    "                                    padding='longest',\n",
    "                                    max_length=config.tgt_max_len,\n",
    "                                    return_attention_mask=False,\n",
    "                                    return_tensors='pt')['input_ids']\n",
    "\n",
    "        return (src_samples, tgt_samples), tgt_samples"
   ]
  },
  {
   "cell_type": "code",
   "execution_count": 17,
   "id": "f84e9a48",
   "metadata": {},
   "outputs": [],
   "source": [
    "train_ds = EditDataset(X_train, tokenizer, CONFIG)\n",
    "test_ds = EditDataset(X_test, tokenizer, CONFIG)\n",
    "test_ds_sub = EditDataset(X_test_sub, tokenizer, CONFIG)"
   ]
  },
  {
   "cell_type": "code",
   "execution_count": 18,
   "id": "94aa9bdb",
   "metadata": {},
   "outputs": [],
   "source": [
    "import seaborn as sns\n",
    "import matplotlib.pyplot as plt"
   ]
  },
  {
   "cell_type": "markdown",
   "id": "c8fa9dbc",
   "metadata": {},
   "source": [
    "**Len distribution**"
   ]
  },
  {
   "cell_type": "code",
   "execution_count": 19,
   "id": "654f5c6a",
   "metadata": {},
   "outputs": [
    {
     "data": {
      "image/png": "[encoded data removed]",
      "text/plain": [
       "<Figure size 640x480 with 1 Axes>"
      ]
     },
     "metadata": {},
     "output_type": "display_data"
    }
   ],
   "source": [
    "arr_src = []\n",
    "arr_tgt = []\n",
    "for src_q, tgt_q in train_ds:\n",
    "    arr_src.append(len(src_q['input_ids']))\n",
    "    arr_tgt.append(len(tgt_q['input_ids']))\n",
    "\n",
    "sns.distplot(arr_src, label='src');\n",
    "plt.legend();\n",
    "sns.distplot(arr_tgt, label='tgt');\n",
    "plt.legend();"
   ]
  },
  {
   "cell_type": "markdown",
   "id": "2db868ea",
   "metadata": {},
   "source": [
    "## Model training"
   ]
  },
  {
   "cell_type": "code",
   "execution_count": 20,
   "id": "852e35d6",
   "metadata": {},
   "outputs": [],
   "source": [
    "CONFIG.batch_size = 4\n",
    "loaders = {\n",
    "    'train': torch.utils.data.DataLoader(train_ds, \n",
    "                                         batch_size=CONFIG.batch_size,\n",
    "                                         collate_fn=lambda x: EditDataset.collate_fn_new(x, tokenizer, CONFIG),\n",
    "                                         num_workers=4, shuffle=True),\n",
    "    'valid_full': torch.utils.data.DataLoader(test_ds, \n",
    "                                         batch_size=CONFIG.batch_size,\n",
    "                                         collate_fn=lambda x: EditDataset.collate_fn_new(x, tokenizer, CONFIG),\n",
    "                                         num_workers=4, shuffle=False),\n",
    "    'valid_subset': torch.utils.data.DataLoader(test_ds_sub, \n",
    "                                         batch_size=CONFIG.batch_size,\n",
    "                                         collate_fn=lambda x: EditDataset.collate_fn_new(x, tokenizer, CONFIG),\n",
    "                                         num_workers=4, shuffle=False)\n",
    "}"
   ]
  },
  {
   "cell_type": "code",
   "execution_count": 21,
   "id": "9c9e6608",
   "metadata": {},
   "outputs": [],
   "source": [
    "class EditModel(nn.Module):\n",
    "    def __init__(self, \n",
    "                 pretrained: transformers.modeling_utils.PreTrainedModel, \n",
    "                 config: Config):\n",
    "        super(EditModel, self).__init__()\n",
    "        self.pretrained = pretrained\n",
    "        \n",
    "\n",
    "    def forward(self, \n",
    "                x: Tuple[torch.Tensor, torch.Tensor]):\n",
    "        src, tgt = x\n",
    "        \n",
    "        tgt[tgt == 0] == -100\n",
    "        \n",
    "        loss = self.pretrained(\n",
    "            input_ids = src,\n",
    "            attention_mask = (src != 0).float(),\n",
    "            labels=tgt,\n",
    "        ).loss\n",
    "        return loss\n",
    "    \n",
    "    \n",
    "class Criterion(nn.Module):\n",
    "    def __init__(self):\n",
    "        super(Criterion, self).__init__()\n",
    "        \n",
    "    def forward(self, pred, tgt):\n",
    "        return pred"
   ]
  },
  {
   "cell_type": "code",
   "execution_count": 22,
   "id": "f06f1552",
   "metadata": {},
   "outputs": [],
   "source": [
    "model = EditModel(\n",
    "    T5ForConditionalGeneration.from_pretrained(CONFIG.pretrained),\n",
    "    CONFIG\n",
    ")\n",
    "CONFIG.optimizer = 'Adam(lr=0.0001)'\n",
    "optimizer = torch.optim.Adam(model.parameters(), lr=0.0001)\n",
    "\n",
    "CONFIG.name = f'{CONFIG.pretrained}'\n",
    "CONFIG.description = f'{CONFIG.name} p(x_t+1 | x_t, commit_msg)'\n",
    "CONFIG.group = \"code_edit\""
   ]
  },
  {
   "cell_type": "code",
   "execution_count": 23,
   "id": "6da942c9",
   "metadata": {},
   "outputs": [],
   "source": [
    "!rm -rf ./models/\"{CONFIG.description}\""
   ]
  },
  {
   "cell_type": "code",
   "execution_count": 24,
   "id": "ee4903a2",
   "metadata": {},
   "outputs": [],
   "source": [
    "from catalyst.core import IRunner\n",
    "from catalyst.metrics._additive import AdditiveMetric\n",
    "from catalyst.callbacks.metric import BatchMetricCallback, ICallbackBatchMetric\n",
    "\n",
    "\n",
    "class AccMetric(ICallbackBatchMetric):\n",
    "    def __init__(self, topk, compute_on_call=False):\n",
    "        super().__init__(compute_on_call=compute_on_call, prefix='', suffix='')\n",
    "        self.metric_name = 'sql_acc'\n",
    "        self.topk = topk\n",
    "        self.metrics: List[AdditiveMetric] = [\n",
    "            AdditiveMetric(compute_on_call=compute_on_call) for _ in range(len(self.topk))]\n",
    "\n",
    "    def reset(self) -> None:\n",
    "        for metric in self.metrics:\n",
    "            metric.reset()\n",
    "\n",
    "    def update(self, values, n_samples):\n",
    "        for value, metric in zip(values, self.metrics):\n",
    "            metric.update(value, n_samples)\n",
    "        return values\n",
    "\n",
    "    def update_key_value(self, values, n_samples):\n",
    "        values = self.update(values, n_samples)\n",
    "        output = {\n",
    "            f\"{self.prefix}{self.metric_name}{key:02d}{self.suffix}\": round(value, 6)\n",
    "            for key, value in zip(self.topk, values)\n",
    "        }\n",
    "        return output\n",
    "\n",
    "    def compute(self):\n",
    "        means, stds = zip(*(metric.compute() for metric in self.metrics))\n",
    "        return means, stds\n",
    "\n",
    "    def compute_key_value(self):\n",
    "        means, stds = self.compute()\n",
    "        output_mean = {\n",
    "            f\"{self.prefix}{self.metric_name}{key:02d}{self.suffix}\": round(value, 6)\n",
    "            for key, value in zip(self.topk, means)\n",
    "        }\n",
    "        output_std = {\n",
    "            f\"{self.prefix}{self.metric_name}{key:02d}{self.suffix}/std\": round(value, 6)\n",
    "            for key, value in zip(self.topk, stds)\n",
    "        }\n",
    "        return {**output_mean, **output_std}\n",
    "\n",
    "\n",
    "class AccCallback(BatchMetricCallback):\n",
    "\n",
    "    def __init__(self, beam_size):\n",
    "        super().__init__(\n",
    "            metric=AccMetric((1,beam_size)) if beam_size > 1 else AccMetric((1,)),\n",
    "            input_key='features', target_key='targets', log_on_batch=True)\n",
    "        self.beam_size = beam_size\n",
    "\n",
    "    def on_batch_end(self, runner: \"IRunner\") -> None:\n",
    "\n",
    "        if runner.loader_key == 'train':\n",
    "            runner.model.train()\n",
    "        elif runner.loader_key.startswith('valid'):\n",
    "            runner.model.eval()\n",
    "\n",
    "            src = runner.batch['features'][0]\n",
    "            tgt = runner.batch['features'][1]\n",
    "            max_len = tgt.shape[1]\n",
    "            with torch.no_grad():\n",
    "                pred = runner.model.pretrained.generate(src.to(runner.engine.device),\n",
    "                                                        attention_mask=(src != 0).float().to(runner.engine.device),\n",
    "                                                        # pad_token_id=tokenizer.pad_token_id,\n",
    "                                                        # bos_token_id=tokenizer.bos_token_id,\n",
    "                                                        # eos_token_id=tokenizer.eos_token_id,\n",
    "                                                        num_beams=self.beam_size,\n",
    "                                                        num_return_sequences=self.beam_size,\n",
    "                                                        max_length=max_len\n",
    "                                                        )\n",
    "\n",
    "            pred = pred[:,1:]\n",
    "            pred = pred.view(-1, self.beam_size, pred.shape[1])\n",
    "            acck = 0\n",
    "            acc1 = 0\n",
    "            for i in range(tgt.shape[0]):\n",
    "                tgt_subseq = tgt[i, :pred.shape[2]].to(runner.engine.device)\n",
    "\n",
    "                acck += float(torch.any(torch.all(tgt_subseq == pred[i], dim=1)))\n",
    "                acc1 += float(torch.all(tgt_subseq == pred[i, 0]))\n",
    "\n",
    "            acck /= len(src)\n",
    "            acc1 /= len(src)\n",
    "\n",
    "            metrics = self.metric.update_key_value([acc1, acck], len(src))\n",
    "\n",
    "            runner.batch_metrics.update(metrics)\n",
    "\n",
    "    def on_loader_end(self, runner: \"IRunner\") -> None:\n",
    "        if runner.loader_key.startswith('valid'):\n",
    "            metrics = self.metric.compute_key_value()\n",
    "            metrics = runner.engine.mean_reduce_ddp_metrics(metrics)\n",
    "            runner.loader_metrics.update(metrics)"
   ]
  },
  {
   "cell_type": "code",
   "execution_count": 25,
   "id": "26dedde5",
   "metadata": {},
   "outputs": [],
   "source": [
    "CONFIG.n_epochs = 300"
   ]
  },
  {
   "cell_type": "code",
   "execution_count": null,
   "id": "e13bc6e8",
   "metadata": {
    "scrolled": true
   },
   "outputs": [
    {
     "name": "stderr",
     "output_type": "stream",
     "text": [
      "\u001b[34m\u001b[1mwandb\u001b[0m: Currently logged in as: \u001b[33manton-sh\u001b[0m. Use \u001b[1m`wandb login --relogin`\u001b[0m to force relogin\n"
     ]
    },
    {
     "data": {
      "text/html": [
       "wandb version 0.13.10 is available!  To upgrade, please run:\n",
       " $ pip install wandb --upgrade"
      ],
      "text/plain": [
       "<IPython.core.display.HTML object>"
      ]
     },
     "metadata": {},
     "output_type": "display_data"
    },
    {
     "data": {
      "text/html": [
       "Tracking run with wandb version 0.13.9"
      ],
      "text/plain": [
       "<IPython.core.display.HTML object>"
      ]
     },
     "metadata": {},
     "output_type": "display_data"
    },
    {
     "data": {
      "text/html": [
       "Run data is saved locally in <code>/home/shapkin/interactive_lm/github/wandb/run-20230305_205949-8talioty</code>"
      ],
      "text/plain": [
       "<IPython.core.display.HTML object>"
      ]
     },
     "metadata": {},
     "output_type": "display_data"
    },
    {
     "data": {
      "text/html": [
       "Syncing run <strong><a href=\"https://wandb.ai/anton-sh/interactive_lm/runs/8talioty\" target=\"_blank\">Salesforce/codet5-small</a></strong> to <a href=\"https://wandb.ai/anton-sh/interactive_lm\" target=\"_blank\">Weights & Biases</a> (<a href=\"https://wandb.me/run\" target=\"_blank\">docs</a>)<br/>"
      ],
      "text/plain": [
       "<IPython.core.display.HTML object>"
      ]
     },
     "metadata": {},
     "output_type": "display_data"
    },
    {
     "data": {
      "text/html": [
       " View project at <a href=\"https://wandb.ai/anton-sh/interactive_lm\" target=\"_blank\">https://wandb.ai/anton-sh/interactive_lm</a>"
      ],
      "text/plain": [
       "<IPython.core.display.HTML object>"
      ]
     },
     "metadata": {},
     "output_type": "display_data"
    },
    {
     "data": {
      "text/html": [
       " View run at <a href=\"https://wandb.ai/anton-sh/interactive_lm/runs/8talioty\" target=\"_blank\">https://wandb.ai/anton-sh/interactive_lm/runs/8talioty</a>"
      ],
      "text/plain": [
       "<IPython.core.display.HTML object>"
      ]
     },
     "metadata": {},
     "output_type": "display_data"
    },
    {
     "data": {
      "application/vnd.jupyter.widget-view+json": {
       "model_id": "36b90b57751e453eb864eb3242aa7e6a",
       "version_major": 2,
       "version_minor": 0
      },
      "text/plain": [
       "1/300 * Epoch (train):   0%|          | 0/16753 [00:00<?, ?it/s]"
      ]
     },
     "metadata": {},
     "output_type": "display_data"
    },
    {
     "name": "stdout",
     "output_type": "stream",
     "text": [
      "train (1/300) loss: 0.24135010012855293 | loss/mean: 0.24135010012855293 | loss/std: 0.19018236455019433 | lr: 0.0001 | momentum: 0.9\n"
     ]
    },
    {
     "data": {
      "application/vnd.jupyter.widget-view+json": {
       "model_id": "e7843677c2e74386a8e41ada7ea122b3",
       "version_major": 2,
       "version_minor": 0
      },
      "text/plain": [
       "1/300 * Epoch (valid_subset):   0%|          | 0/150 [00:00<?, ?it/s]"
      ]
     },
     "metadata": {},
     "output_type": "display_data"
    },
    {
     "name": "stdout",
     "output_type": "stream",
     "text": [
      "valid_subset (1/300) loss: 0.1954269914204875 | loss/mean: 0.1954269914204875 | loss/std: 0.15844029615603947 | lr: 0.0001 | momentum: 0.9 | sql_acc01: 0.073333 | sql_acc01/std: 0.130961 | sql_acc02: 0.095 | sql_acc02/std: 0.146381\n",
      "* Epoch (1/300) \n"
     ]
    },
    {
     "data": {
      "application/vnd.jupyter.widget-view+json": {
       "model_id": "3fabb0ab95ec49dda65ff9de89d74ec3",
       "version_major": 2,
       "version_minor": 0
      },
      "text/plain": [
       "2/300 * Epoch (train):   0%|          | 0/16753 [00:00<?, ?it/s]"
      ]
     },
     "metadata": {},
     "output_type": "display_data"
    },
    {
     "name": "stdout",
     "output_type": "stream",
     "text": [
      "train (2/300) loss: 0.19320577546202128 | loss/mean: 0.19320577546202128 | loss/std: 0.1511303547207014 | lr: 0.0001 | momentum: 0.9\n"
     ]
    },
    {
     "data": {
      "application/vnd.jupyter.widget-view+json": {
       "model_id": "f66f950776d14d388545c14a08cf52c8",
       "version_major": 2,
       "version_minor": 0
      },
      "text/plain": [
       "2/300 * Epoch (valid_subset):   0%|          | 0/150 [00:00<?, ?it/s]"
      ]
     },
     "metadata": {},
     "output_type": "display_data"
    },
    {
     "name": "stdout",
     "output_type": "stream",
     "text": [
      "valid_subset (2/300) loss: 0.1788516067278882 | loss/mean: 0.1788516067278882 | loss/std: 0.14573245288344763 | lr: 0.0001 | momentum: 0.9 | sql_acc01: 0.08 | sql_acc01/std: 0.133403 | sql_acc02: 0.106667 | sql_acc02/std: 0.148298\n",
      "* Epoch (2/300) \n"
     ]
    },
    {
     "data": {
      "application/vnd.jupyter.widget-view+json": {
       "model_id": "6b3b39440bd84f72bdbfe161a249f639",
       "version_major": 2,
       "version_minor": 0
      },
      "text/plain": [
       "3/300 * Epoch (train):   0%|          | 0/16753 [00:00<?, ?it/s]"
      ]
     },
     "metadata": {},
     "output_type": "display_data"
    },
    {
     "name": "stdout",
     "output_type": "stream",
     "text": [
      "train (3/300) loss: 0.1750104712462276 | loss/mean: 0.1750104712462276 | loss/std: 0.1383602920874888 | lr: 0.0001 | momentum: 0.9\n"
     ]
    },
    {
     "data": {
      "application/vnd.jupyter.widget-view+json": {
       "model_id": "4235b946f89647df9b71fae7a97340bc",
       "version_major": 2,
       "version_minor": 0
      },
      "text/plain": [
       "3/300 * Epoch (valid_subset):   0%|          | 0/150 [00:00<?, ?it/s]"
      ]
     },
     "metadata": {},
     "output_type": "display_data"
    },
    {
     "name": "stdout",
     "output_type": "stream",
     "text": [
      "valid_subset (3/300) loss: 0.17003107587185995 | loss/mean: 0.17003107587185995 | loss/std: 0.13805634173714432 | lr: 0.0001 | momentum: 0.9 | sql_acc01: 0.08 | sql_acc01/std: 0.130237 | sql_acc02: 0.111667 | sql_acc02/std: 0.143113\n",
      "* Epoch (3/300) \n"
     ]
    },
    {
     "data": {
      "application/vnd.jupyter.widget-view+json": {
       "model_id": "1b1509c1e2714e62988af40929011075",
       "version_major": 2,
       "version_minor": 0
      },
      "text/plain": [
       "4/300 * Epoch (train):   0%|          | 0/16753 [00:00<?, ?it/s]"
      ]
     },
     "metadata": {},
     "output_type": "display_data"
    },
    {
     "name": "stdout",
     "output_type": "stream",
     "text": [
      "train (4/300) loss: 0.1624325444545755 | loss/mean: 0.1624325444545755 | loss/std: 0.13189375180935436 | lr: 0.0001 | momentum: 0.9\n"
     ]
    },
    {
     "data": {
      "application/vnd.jupyter.widget-view+json": {
       "model_id": "2b37dc911aa04a4e99c8114d34505139",
       "version_major": 2,
       "version_minor": 0
      },
      "text/plain": [
       "4/300 * Epoch (valid_subset):   0%|          | 0/150 [00:00<?, ?it/s]"
      ]
     },
     "metadata": {},
     "output_type": "display_data"
    },
    {
     "name": "stdout",
     "output_type": "stream",
     "text": [
      "valid_subset (4/300) loss: 0.16462270932272083 | loss/mean: 0.16462270932272083 | loss/std: 0.13633069073931722 | lr: 0.0001 | momentum: 0.9 | sql_acc01: 0.096667 | sql_acc01/std: 0.140909 | sql_acc02: 0.13 | sql_acc02/std: 0.154833\n",
      "* Epoch (4/300) \n"
     ]
    },
    {
     "data": {
      "application/vnd.jupyter.widget-view+json": {
       "model_id": "45f359bc98b14cc481514f18b75f68dd",
       "version_major": 2,
       "version_minor": 0
      },
      "text/plain": [
       "5/300 * Epoch (train):   0%|          | 0/16753 [00:00<?, ?it/s]"
      ]
     },
     "metadata": {},
     "output_type": "display_data"
    },
    {
     "name": "stdout",
     "output_type": "stream",
     "text": [
      "train (5/300) loss: 0.15189763804595713 | loss/mean: 0.15189763804595713 | loss/std: 0.12200039212764711 | lr: 0.0001 | momentum: 0.9\n"
     ]
    },
    {
     "data": {
      "application/vnd.jupyter.widget-view+json": {
       "model_id": "eec6fd7a475c402697f65a6d0f8ac0cd",
       "version_major": 2,
       "version_minor": 0
      },
      "text/plain": [
       "5/300 * Epoch (valid_subset):   0%|          | 0/150 [00:00<?, ?it/s]"
      ]
     },
     "metadata": {},
     "output_type": "display_data"
    },
    {
     "name": "stdout",
     "output_type": "stream",
     "text": [
      "valid_subset (5/300) loss: 0.16007237632138044 | loss/mean: 0.16007237632138044 | loss/std: 0.1329786070287323 | lr: 0.0001 | momentum: 0.9 | sql_acc01: 0.11 | sql_acc01/std: 0.148672 | sql_acc02: 0.136667 | sql_acc02/std: 0.164927\n",
      "* Epoch (5/300) \n"
     ]
    },
    {
     "data": {
      "application/vnd.jupyter.widget-view+json": {
       "model_id": "2d8b262a0d37495490bbf4243e9b47b1",
       "version_major": 2,
       "version_minor": 0
      },
      "text/plain": [
       "6/300 * Epoch (train):   0%|          | 0/16753 [00:00<?, ?it/s]"
      ]
     },
     "metadata": {},
     "output_type": "display_data"
    },
    {
     "name": "stdout",
     "output_type": "stream",
     "text": [
      "train (6/300) loss: 0.14348485877584763 | loss/mean: 0.14348485877584763 | loss/std: 0.11820195416869901 | lr: 0.0001 | momentum: 0.9\n"
     ]
    },
    {
     "data": {
      "application/vnd.jupyter.widget-view+json": {
       "model_id": "49f9749974684fb88e7a9ed3ad3e520a",
       "version_major": 2,
       "version_minor": 0
      },
      "text/plain": [
       "6/300 * Epoch (valid_subset):   0%|          | 0/150 [00:00<?, ?it/s]"
      ]
     },
     "metadata": {},
     "output_type": "display_data"
    },
    {
     "name": "stdout",
     "output_type": "stream",
     "text": [
      "valid_subset (6/300) loss: 0.1585418442077934 | loss/mean: 0.1585418442077934 | loss/std: 0.1304713340803188 | lr: 0.0001 | momentum: 0.9 | sql_acc01: 0.113333 | sql_acc01/std: 0.148972 | sql_acc02: 0.14 | sql_acc02/std: 0.164657\n",
      "* Epoch (6/300) \n"
     ]
    },
    {
     "data": {
      "application/vnd.jupyter.widget-view+json": {
       "model_id": "6bd15f504d734f3fa3050b5a70af3d42",
       "version_major": 2,
       "version_minor": 0
      },
      "text/plain": [
       "7/300 * Epoch (train):   0%|          | 0/16753 [00:00<?, ?it/s]"
      ]
     },
     "metadata": {},
     "output_type": "display_data"
    }
   ],
   "source": [
    "runner = dl.SupervisedRunner()\n",
    "\n",
    "wandb_logger = WandbLogger(project=\"interactive_lm\", \n",
    "                              name=CONFIG.name, \n",
    "                              group=CONFIG.group)\n",
    "\n",
    "runner.train(\n",
    "    loaders=loaders,\n",
    "    model=model,\n",
    "    criterion=Criterion(),\n",
    "    optimizer=optimizer,\n",
    "    num_epochs=CONFIG.n_epochs,\n",
    "    callbacks=[\n",
    "        PeriodicLoaderCallback(\n",
    "            valid_loader_key='valid_full',\n",
    "            valid_metric_key='loss',\n",
    "            minimize=True,\n",
    "            **{'valid_full': 10}\n",
    "        ),\n",
    "        AccCallback(2),\n",
    "        #dl.optimizer.OptimizerCallback(metric_key='loss', accumulation_steps=),\n",
    "    ],\n",
    "    loggers={'wandb': wandb_logger},\n",
    "    logdir=f'./models/{CONFIG.description}',\n",
    "    valid_loader='valid_subset',\n",
    "    valid_metric='loss',\n",
    "    minimize_valid_metric=True,\n",
    "    verbose=True,\n",
    "#     check=True,\n",
    "#     cpu=True,\n",
    ")"
   ]
  },
  {
   "cell_type": "code",
   "execution_count": null,
   "id": "9ce4621b",
   "metadata": {},
   "outputs": [],
   "source": []
  }
 ],
 "metadata": {
  "kernelspec": {
   "display_name": "Python 3 (ipykernel)",
   "language": "python",
   "name": "python3"
  },
  "language_info": {
   "codemirror_mode": {
    "name": "ipython",
    "version": 3
   },
   "file_extension": ".py",
   "mimetype": "text/x-python",
   "name": "python",
   "nbconvert_exporter": "python",
   "pygments_lexer": "ipython3",
   "version": "3.9.13"
  }
 },
 "nbformat": 4,
 "nbformat_minor": 5
}
