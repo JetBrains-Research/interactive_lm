{
 "cells": [
  {
   "cell_type": "code",
   "execution_count": 1,
   "id": "07e0af80",
   "metadata": {},
   "outputs": [],
   "source": [
    "import jsonlines\n",
    "import pandas as pd\n",
    "import numpy as np\n",
    "import seaborn as sns\n",
    "sns.set(style='darkgrid')"
   ]
  },
  {
   "cell_type": "code",
   "execution_count": 2,
   "id": "0835edc6",
   "metadata": {},
   "outputs": [],
   "source": [
    "collected_info = []\n",
    "with jsonlines.open('collected_info.jsonl') as reader:\n",
    "    for obj in reader:\n",
    "        collected_info.append(obj)\n"
   ]
  },
  {
   "cell_type": "code",
   "execution_count": 3,
   "id": "7aab322f",
   "metadata": {},
   "outputs": [
    {
     "data": {
      "text/html": [
       "<div>\n",
       "<style scoped>\n",
       "    .dataframe tbody tr th:only-of-type {\n",
       "        vertical-align: middle;\n",
       "    }\n",
       "\n",
       "    .dataframe tbody tr th {\n",
       "        vertical-align: top;\n",
       "    }\n",
       "\n",
       "    .dataframe thead th {\n",
       "        text-align: right;\n",
       "    }\n",
       "</style>\n",
       "<table border=\"1\" class=\"dataframe\">\n",
       "  <thead>\n",
       "    <tr style=\"text-align: right;\">\n",
       "      <th></th>\n",
       "      <th>rep_url</th>\n",
       "      <th>rep_size_on_disk</th>\n",
       "      <th>rep_total_files</th>\n",
       "      <th>rep_total_py_files</th>\n",
       "      <th>com_msg</th>\n",
       "      <th>com_msg_lang</th>\n",
       "      <th>com_num_files</th>\n",
       "      <th>com_hash</th>\n",
       "      <th>com_author</th>\n",
       "      <th>com_committer</th>\n",
       "      <th>...</th>\n",
       "      <th>com_num_py_files</th>\n",
       "      <th>com_py2add_lines</th>\n",
       "      <th>com_py2del_lines</th>\n",
       "      <th>com_py2paths</th>\n",
       "      <th>com_py2nloc</th>\n",
       "      <th>com_py2lines_after</th>\n",
       "      <th>com_py2lines_before</th>\n",
       "      <th>com_py2imports_before</th>\n",
       "      <th>com_py2imports_after</th>\n",
       "      <th>com_py2ch_type</th>\n",
       "    </tr>\n",
       "  </thead>\n",
       "  <tbody>\n",
       "    <tr>\n",
       "      <th>0</th>\n",
       "      <td>https://github.com/knadh/ml2en</td>\n",
       "      <td>143694</td>\n",
       "      <td>121</td>\n",
       "      <td>4</td>\n",
       "      <td>Fix README description, examples, and version</td>\n",
       "      <td>True</td>\n",
       "      <td>2</td>\n",
       "      <td>cf0c1b432def6b35af5115d34a85c0af6fd38cbe</td>\n",
       "      <td>Kailash Nadh</td>\n",
       "      <td>Kailash Nadh</td>\n",
       "      <td>...</td>\n",
       "      <td>1</td>\n",
       "      <td>{'1_setup.py': 1}</td>\n",
       "      <td>{'1_setup.py': 1}</td>\n",
       "      <td>{'1_setup.py': ['setup.py', 'setup.py']}</td>\n",
       "      <td>{'1_setup.py': 26}</td>\n",
       "      <td>{'1_setup.py': 44}</td>\n",
       "      <td>{'1_setup.py': 46}</td>\n",
       "      <td>{'1_setup.py': ['from ml2en import ml2en\r",
       "']}</td>\n",
       "      <td>{'1_setup.py': ['from ml2en import ml2en\r",
       "']}</td>\n",
       "      <td>{'1_setup.py': 'MODIFY'}</td>\n",
       "    </tr>\n",
       "    <tr>\n",
       "      <th>1</th>\n",
       "      <td>https://github.com/knadh/ml2en</td>\n",
       "      <td>143694</td>\n",
       "      <td>121</td>\n",
       "      <td>4</td>\n",
       "      <td>Adjust ml2en python scripts to pep8 indentatio...</td>\n",
       "      <td>False</td>\n",
       "      <td>2</td>\n",
       "      <td>1130192e3a60aafe50e069f353bb91cbccbc5913</td>\n",
       "      <td>Shreehari</td>\n",
       "      <td>Shreehari</td>\n",
       "      <td>...</td>\n",
       "      <td>2</td>\n",
       "      <td>{'0_ml2en.py': 204, '1_ml2en.py': 205}</td>\n",
       "      <td>{'0_ml2en.py': 121, '1_ml2en.py': 122}</td>\n",
       "      <td>{'0_ml2en.py': ['ml2en.py', 'ml2en.py'], '1_ml...</td>\n",
       "      <td>{'0_ml2en.py': 170, '1_ml2en.py': 172}</td>\n",
       "      <td>{'0_ml2en.py': 217, '1_ml2en.py': 217}</td>\n",
       "      <td>{'0_ml2en.py': 134, '1_ml2en.py': 134}</td>\n",
       "      <td>{'0_ml2en.py': ['import re'], '1_ml2en.py': ['...</td>\n",
       "      <td>{'0_ml2en.py': ['import re'], '1_ml2en.py': ['...</td>\n",
       "      <td>{'0_ml2en.py': 'MODIFY', '1_ml2en.py': 'MODIFY'}</td>\n",
       "    </tr>\n",
       "    <tr>\n",
       "      <th>2</th>\n",
       "      <td>https://github.com/knadh/ml2en</td>\n",
       "      <td>143694</td>\n",
       "      <td>121</td>\n",
       "      <td>4</td>\n",
       "      <td>Fixed comment typo</td>\n",
       "      <td>False</td>\n",
       "      <td>3</td>\n",
       "      <td>20172811d7ba6113115fdf464de56aab9aa82a6a</td>\n",
       "      <td>Kailash Nadh</td>\n",
       "      <td>Kailash Nadh</td>\n",
       "      <td>...</td>\n",
       "      <td>1</td>\n",
       "      <td>{'2_ml2en.py': 1}</td>\n",
       "      <td>{'2_ml2en.py': 1}</td>\n",
       "      <td>{'2_ml2en.py': ['ml2en.py', 'ml2en.py']}</td>\n",
       "      <td>{'2_ml2en.py': 87}</td>\n",
       "      <td>{'2_ml2en.py': 178}</td>\n",
       "      <td>{'2_ml2en.py': 178}</td>\n",
       "      <td>{'2_ml2en.py': []}</td>\n",
       "      <td>{'2_ml2en.py': []}</td>\n",
       "      <td>{'2_ml2en.py': 'MODIFY'}</td>\n",
       "    </tr>\n",
       "    <tr>\n",
       "      <th>3</th>\n",
       "      <td>https://github.com/knadh/ml2en</td>\n",
       "      <td>143694</td>\n",
       "      <td>121</td>\n",
       "      <td>4</td>\n",
       "      <td>Made transliterate() static</td>\n",
       "      <td>True</td>\n",
       "      <td>1</td>\n",
       "      <td>304ad8a713d6f13215082e4ae3fdb169a160a0e7</td>\n",
       "      <td>Kailash Nadh</td>\n",
       "      <td>Kailash Nadh</td>\n",
       "      <td>...</td>\n",
       "      <td>0</td>\n",
       "      <td>{}</td>\n",
       "      <td>{}</td>\n",
       "      <td>{}</td>\n",
       "      <td>{}</td>\n",
       "      <td>{}</td>\n",
       "      <td>{}</td>\n",
       "      <td>{}</td>\n",
       "      <td>{}</td>\n",
       "      <td>{}</td>\n",
       "    </tr>\n",
       "    <tr>\n",
       "      <th>4</th>\n",
       "      <td>https://github.com/knadh/ml2en</td>\n",
       "      <td>143694</td>\n",
       "      <td>121</td>\n",
       "      <td>4</td>\n",
       "      <td>Added new rule for ukaram+chandrakkala</td>\n",
       "      <td>True</td>\n",
       "      <td>4</td>\n",
       "      <td>a0762eff9e576707ca890e11b142d9daa913b192</td>\n",
       "      <td>Kailash Nadh</td>\n",
       "      <td>Kailash Nadh</td>\n",
       "      <td>...</td>\n",
       "      <td>1</td>\n",
       "      <td>{'2_ml2en.py': 1}</td>\n",
       "      <td>{'2_ml2en.py': 1}</td>\n",
       "      <td>{'2_ml2en.py': ['ml2en.py', 'ml2en.py']}</td>\n",
       "      <td>{'2_ml2en.py': 87}</td>\n",
       "      <td>{'2_ml2en.py': 178}</td>\n",
       "      <td>{'2_ml2en.py': 178}</td>\n",
       "      <td>{'2_ml2en.py': []}</td>\n",
       "      <td>{'2_ml2en.py': []}</td>\n",
       "      <td>{'2_ml2en.py': 'MODIFY'}</td>\n",
       "    </tr>\n",
       "  </tbody>\n",
       "</table>\n",
       "<p>5 rows × 31 columns</p>\n",
       "</div>"
      ],
      "text/plain": [
       "                          rep_url  rep_size_on_disk  rep_total_files  \\\n",
       "0  https://github.com/knadh/ml2en            143694              121   \n",
       "1  https://github.com/knadh/ml2en            143694              121   \n",
       "2  https://github.com/knadh/ml2en            143694              121   \n",
       "3  https://github.com/knadh/ml2en            143694              121   \n",
       "4  https://github.com/knadh/ml2en            143694              121   \n",
       "\n",
       "   rep_total_py_files                                            com_msg  \\\n",
       "0                   4      Fix README description, examples, and version   \n",
       "1                   4  Adjust ml2en python scripts to pep8 indentatio...   \n",
       "2                   4                                 Fixed comment typo   \n",
       "3                   4                        Made transliterate() static   \n",
       "4                   4             Added new rule for ukaram+chandrakkala   \n",
       "\n",
       "  com_msg_lang  com_num_files                                  com_hash  \\\n",
       "0         True              2  cf0c1b432def6b35af5115d34a85c0af6fd38cbe   \n",
       "1        False              2  1130192e3a60aafe50e069f353bb91cbccbc5913   \n",
       "2        False              3  20172811d7ba6113115fdf464de56aab9aa82a6a   \n",
       "3         True              1  304ad8a713d6f13215082e4ae3fdb169a160a0e7   \n",
       "4         True              4  a0762eff9e576707ca890e11b142d9daa913b192   \n",
       "\n",
       "     com_author com_committer  ... com_num_py_files  \\\n",
       "0  Kailash Nadh  Kailash Nadh  ...                1   \n",
       "1     Shreehari     Shreehari  ...                2   \n",
       "2  Kailash Nadh  Kailash Nadh  ...                1   \n",
       "3  Kailash Nadh  Kailash Nadh  ...                0   \n",
       "4  Kailash Nadh  Kailash Nadh  ...                1   \n",
       "\n",
       "                         com_py2add_lines  \\\n",
       "0                       {'1_setup.py': 1}   \n",
       "1  {'0_ml2en.py': 204, '1_ml2en.py': 205}   \n",
       "2                       {'2_ml2en.py': 1}   \n",
       "3                                      {}   \n",
       "4                       {'2_ml2en.py': 1}   \n",
       "\n",
       "                         com_py2del_lines  \\\n",
       "0                       {'1_setup.py': 1}   \n",
       "1  {'0_ml2en.py': 121, '1_ml2en.py': 122}   \n",
       "2                       {'2_ml2en.py': 1}   \n",
       "3                                      {}   \n",
       "4                       {'2_ml2en.py': 1}   \n",
       "\n",
       "                                        com_py2paths  \\\n",
       "0           {'1_setup.py': ['setup.py', 'setup.py']}   \n",
       "1  {'0_ml2en.py': ['ml2en.py', 'ml2en.py'], '1_ml...   \n",
       "2           {'2_ml2en.py': ['ml2en.py', 'ml2en.py']}   \n",
       "3                                                 {}   \n",
       "4           {'2_ml2en.py': ['ml2en.py', 'ml2en.py']}   \n",
       "\n",
       "                              com_py2nloc  \\\n",
       "0                      {'1_setup.py': 26}   \n",
       "1  {'0_ml2en.py': 170, '1_ml2en.py': 172}   \n",
       "2                      {'2_ml2en.py': 87}   \n",
       "3                                      {}   \n",
       "4                      {'2_ml2en.py': 87}   \n",
       "\n",
       "                       com_py2lines_after  \\\n",
       "0                      {'1_setup.py': 44}   \n",
       "1  {'0_ml2en.py': 217, '1_ml2en.py': 217}   \n",
       "2                     {'2_ml2en.py': 178}   \n",
       "3                                      {}   \n",
       "4                     {'2_ml2en.py': 178}   \n",
       "\n",
       "                      com_py2lines_before  \\\n",
       "0                      {'1_setup.py': 46}   \n",
       "1  {'0_ml2en.py': 134, '1_ml2en.py': 134}   \n",
       "2                     {'2_ml2en.py': 178}   \n",
       "3                                      {}   \n",
       "4                     {'2_ml2en.py': 178}   \n",
       "\n",
       "                               com_py2imports_before  \\\n",
       "0       {'1_setup.py': ['from ml2en import ml2en\n",
       "']}   \n",
       "1  {'0_ml2en.py': ['import re'], '1_ml2en.py': ['...   \n",
       "2                                 {'2_ml2en.py': []}   \n",
       "3                                                 {}   \n",
       "4                                 {'2_ml2en.py': []}   \n",
       "\n",
       "                                com_py2imports_after  \\\n",
       "0       {'1_setup.py': ['from ml2en import ml2en\n",
       "']}   \n",
       "1  {'0_ml2en.py': ['import re'], '1_ml2en.py': ['...   \n",
       "2                                 {'2_ml2en.py': []}   \n",
       "3                                                 {}   \n",
       "4                                 {'2_ml2en.py': []}   \n",
       "\n",
       "                                     com_py2ch_type  \n",
       "0                          {'1_setup.py': 'MODIFY'}  \n",
       "1  {'0_ml2en.py': 'MODIFY', '1_ml2en.py': 'MODIFY'}  \n",
       "2                          {'2_ml2en.py': 'MODIFY'}  \n",
       "3                                                {}  \n",
       "4                          {'2_ml2en.py': 'MODIFY'}  \n",
       "\n",
       "[5 rows x 31 columns]"
      ]
     },
     "execution_count": 3,
     "metadata": {},
     "output_type": "execute_result"
    }
   ],
   "source": [
    "df = pd.DataFrame.from_dict(collected_info)\n",
    "df.head()"
   ]
  },
  {
   "cell_type": "code",
   "execution_count": 4,
   "id": "bfe98b27",
   "metadata": {},
   "outputs": [],
   "source": [
    "df_grouped = df.groupby(by='rep_url')[['rep_size_on_disk', 'rep_total_files', 'rep_total_py_files']].mean()"
   ]
  },
  {
   "cell_type": "code",
   "execution_count": 5,
   "id": "138d35c7",
   "metadata": {},
   "outputs": [],
   "source": [
    "df_grouped = df_grouped.reset_index()"
   ]
  },
  {
   "cell_type": "code",
   "execution_count": 6,
   "id": "85cda825",
   "metadata": {},
   "outputs": [
    {
     "data": {
      "text/plain": [
       "<seaborn.axisgrid.FacetGrid at 0x7fb1fb0675b0>"
      ]
     },
     "execution_count": 6,
     "metadata": {},
     "output_type": "execute_result"
    },
    {
     "data": {
      "image/png": "[encoded data removed]",
      "text/plain": [
       "<Figure size 360x360 with 1 Axes>"
      ]
     },
     "metadata": {
      "needs_background": "light"
     },
     "output_type": "display_data"
    }
   ],
   "source": [
    "sns.displot(df_grouped, x='rep_total_files')"
   ]
  },
  {
   "cell_type": "code",
   "execution_count": 7,
   "id": "67f1d174",
   "metadata": {},
   "outputs": [],
   "source": [
    "df_grouped = df_grouped.loc[df_grouped['rep_total_files'] < 500]"
   ]
  },
  {
   "cell_type": "code",
   "execution_count": 8,
   "id": "59de8363",
   "metadata": {},
   "outputs": [
    {
     "data": {
      "text/plain": [
       "<seaborn.axisgrid.FacetGrid at 0x7fb18d03ef50>"
      ]
     },
     "execution_count": 8,
     "metadata": {},
     "output_type": "execute_result"
    },
    {
     "data": {
      "image/png": "[encoded data removed]",
      "text/plain": [
       "<Figure size 360x360 with 1 Axes>"
      ]
     },
     "metadata": {
      "needs_background": "light"
     },
     "output_type": "display_data"
    }
   ],
   "source": [
    "sns.displot(df_grouped, x='rep_total_files')"
   ]
  },
  {
   "cell_type": "code",
   "execution_count": 9,
   "id": "43ca3089",
   "metadata": {},
   "outputs": [
    {
     "data": {
      "text/plain": [
       "<seaborn.axisgrid.FacetGrid at 0x7fb12df5d600>"
      ]
     },
     "execution_count": 9,
     "metadata": {},
     "output_type": "execute_result"
    },
    {
     "data": {
      "image/png": "[encoded data removed]",
      "text/plain": [
       "<Figure size 360x360 with 1 Axes>"
      ]
     },
     "metadata": {
      "needs_background": "light"
     },
     "output_type": "display_data"
    }
   ],
   "source": [
    "sns.displot(df_grouped, x='rep_total_py_files')"
   ]
  },
  {
   "cell_type": "code",
   "execution_count": 10,
   "id": "3028078a",
   "metadata": {},
   "outputs": [],
   "source": [
    "df_grouped['py_perc'] = df_grouped['rep_total_py_files'] / df_grouped['rep_total_files']"
   ]
  },
  {
   "cell_type": "code",
   "execution_count": 11,
   "id": "00d7fef5",
   "metadata": {},
   "outputs": [
    {
     "data": {
      "text/plain": [
       "<seaborn.axisgrid.FacetGrid at 0x7fb18e567b80>"
      ]
     },
     "execution_count": 11,
     "metadata": {},
     "output_type": "execute_result"
    },
    {
     "data": {
      "image/png": "[encoded data removed]",
      "text/plain": [
       "<Figure size 360x360 with 1 Axes>"
      ]
     },
     "metadata": {
      "needs_background": "light"
     },
     "output_type": "display_data"
    }
   ],
   "source": [
    "sns.displot(df_grouped, x='py_perc')"
   ]
  },
  {
   "cell_type": "code",
   "execution_count": 12,
   "id": "0fea2832",
   "metadata": {
    "scrolled": true
   },
   "outputs": [
    {
     "name": "stdout",
     "output_type": "stream",
     "text": [
      "rep_url rep_size_on_disk rep_total_files rep_total_py_files com_msg com_msg_lang com_num_files com_hash com_author com_committer committer_date com_branches com_in_main_branch com_merge com_deletions com_insertions com_lines com_dmm_unit_size com_dmm_unit_complexity com_dmm_unit_interfacing com_len_mod_files com_num_py_files com_py2add_lines com_py2del_lines com_py2paths com_py2nloc com_py2lines_after com_py2lines_before com_py2imports_before com_py2imports_after com_py2ch_type\n"
     ]
    }
   ],
   "source": [
    "print(*df.columns.to_list())"
   ]
  },
  {
   "cell_type": "markdown",
   "id": "0f26461b",
   "metadata": {},
   "source": [
    "## Main info"
   ]
  },
  {
   "cell_type": "code",
   "execution_count": 13,
   "id": "f7482070",
   "metadata": {},
   "outputs": [
    {
     "name": "stdout",
     "output_type": "stream",
     "text": [
      "Num of downloaded revisions: 145392\n",
      "Num of repos: 9409\n"
     ]
    }
   ],
   "source": [
    "print('Num of downloaded revisions:', df.shape[0])\n",
    "print('Num of repos:', len(df.rep_url.unique()))"
   ]
  },
  {
   "cell_type": "code",
   "execution_count": 14,
   "id": "15555030",
   "metadata": {},
   "outputs": [
    {
     "name": "stdout",
     "output_type": "stream",
     "text": [
      "Empty commit percentage = 0.0019258281060856167\n",
      "clever English commit percentage = 0.7594090458897326\n",
      "naive English commit percentage = 0.9846552767690107\n"
     ]
    }
   ],
   "source": [
    "print('Empty commit percentage =', sum(df.com_msg.str.strip().str.len() == 0) / df.shape[0])\n",
    "print('clever English commit percentage =', 1 - sum(df.com_msg_lang.apply(bool)) / df.shape[0])\n",
    "com_msg_is_eng = df.com_msg.apply(lambda x: x.isascii())\n",
    "print('naive English commit percentage =', sum(com_msg_is_eng) / df.shape[0])"
   ]
  },
  {
   "cell_type": "code",
   "execution_count": 15,
   "id": "250e0ae9",
   "metadata": {},
   "outputs": [
    {
     "name": "stdout",
     "output_type": "stream",
     "text": [
      "Mean modified files per commit: 9.435367833168263 +- 223.3064453438519\n",
      "Mean modified files per commit (2): 9.435897435897436 +- 223.30647950052884\n"
     ]
    }
   ],
   "source": [
    "print('Mean modified files per commit:', df.com_num_files.mean(), '+-', df.com_num_files.std())\n",
    "print('Mean modified files per commit (2):', df.com_len_mod_files.mean(), '+-', df.com_len_mod_files.std())"
   ]
  },
  {
   "cell_type": "code",
   "execution_count": 16,
   "id": "7df16577",
   "metadata": {},
   "outputs": [
    {
     "name": "stdout",
     "output_type": "stream",
     "text": [
      "Mean PY files per commit: 3.4638425773082426 +- 60.46061749201764\n"
     ]
    }
   ],
   "source": [
    "print('Mean PY files per commit:', df.com_num_py_files.mean(), '+-', df.com_num_py_files.std())"
   ]
  },
  {
   "cell_type": "code",
   "execution_count": 17,
   "id": "b98a6e80",
   "metadata": {},
   "outputs": [
    {
     "name": "stdout",
     "output_type": "stream",
     "text": [
      "Main branch commits percentage: 1.0\n",
      "Merge commits percentage: 0.0\n"
     ]
    }
   ],
   "source": [
    "print('Main branch commits percentage:', sum(df.com_in_main_branch) / df.shape[0])\n",
    "print('Merge commits percentage:', sum(df.com_merge) / df.shape[0])"
   ]
  },
  {
   "cell_type": "code",
   "execution_count": 18,
   "id": "1dec769d",
   "metadata": {},
   "outputs": [
    {
     "name": "stdout",
     "output_type": "stream",
     "text": [
      "Mean modified lines per commit 4532.052334378783 +- 201968.29169298132\n",
      "Mean deletions lines per commit 714.5677891493342 +- 40688.65590009832\n",
      "Mean insertions lines per commit 3817.4845452294485 +- 196171.00107930604\n"
     ]
    }
   ],
   "source": [
    "print('Mean modified lines per commit', df.com_lines.mean(), '+-', df.com_lines.std())\n",
    "print('Mean deletions lines per commit', df.com_deletions.mean(), '+-', df.com_deletions.std())\n",
    "print('Mean insertions lines per commit', df.com_insertions.mean(), '+-', df.com_insertions.std())"
   ]
  },
  {
   "cell_type": "code",
   "execution_count": 19,
   "id": "4972a03a",
   "metadata": {},
   "outputs": [
    {
     "name": "stdout",
     "output_type": "stream",
     "text": [
      "Mean dmm_unit_size: 0.5734325050761717\n",
      "Mean dmm_unit_interfacing: 0.6594479726951256\n"
     ]
    }
   ],
   "source": [
    "print('Mean dmm_unit_size:', df.com_dmm_unit_size.mean()) \n",
    "print('Mean dmm_unit_interfacing:', df.com_dmm_unit_interfacing.mean())\n",
    "# lower - more risky"
   ]
  },
  {
   "cell_type": "code",
   "execution_count": 20,
   "id": "3cecf2d7",
   "metadata": {},
   "outputs": [
    {
     "name": "stdout",
     "output_type": "stream",
     "text": [
      "Only PY file per100: 0.4751430615164521\n"
     ]
    }
   ],
   "source": [
    "print('Only PY file per100:', df[(df.com_num_py_files==1) & (df.com_num_files==1)].shape[0] / df.shape[0])"
   ]
  },
  {
   "cell_type": "code",
   "execution_count": 21,
   "id": "c2285309",
   "metadata": {},
   "outputs": [
    {
     "name": "stdout",
     "output_type": "stream",
     "text": [
      "Only PY file + message per100: 0.47415263563332233\n"
     ]
    }
   ],
   "source": [
    "print('Only PY file + message per100:', df[(df.com_num_py_files==1) & (df.com_num_files==1) & (df.com_msg.str.len()>0)].shape[0] / df.shape[0])\n"
   ]
  },
  {
   "cell_type": "code",
   "execution_count": 22,
   "id": "b6e5a47a",
   "metadata": {},
   "outputs": [],
   "source": [
    "df['naive_en'] = df.com_msg.apply(lambda x: x.isascii())\n",
    "rep2en = {}\n",
    "for row_idx, row in df.iterrows():\n",
    "    rep = row['rep_url']\n",
    "    if rep not in rep2en:\n",
    "        rep2en[rep] = True\n",
    "    if not row['naive_en']:\n",
    "        rep2en[rep] = False"
   ]
  },
  {
   "cell_type": "code",
   "execution_count": 23,
   "id": "387aa61c",
   "metadata": {},
   "outputs": [],
   "source": [
    "df['rep_lang'] = df['rep_url'].apply(lambda x: rep2en[x])"
   ]
  },
  {
   "cell_type": "code",
   "execution_count": 24,
   "id": "65b3aa19",
   "metadata": {},
   "outputs": [
    {
     "data": {
      "text/plain": [
       "0.9537676692528431"
      ]
     },
     "execution_count": 24,
     "metadata": {},
     "output_type": "execute_result"
    }
   ],
   "source": [
    "len(df.loc[(df['rep_lang'] == True)]['rep_url'].unique()) / len(df.rep_url.unique())"
   ]
  },
  {
   "cell_type": "markdown",
   "id": "a8a7e376",
   "metadata": {},
   "source": [
    "## Work with Python only (en)"
   ]
  },
  {
   "cell_type": "code",
   "execution_count": 25,
   "id": "2a8b2bc6",
   "metadata": {},
   "outputs": [],
   "source": [
    "df_good = df[(df.com_num_py_files==1) & (df.com_num_files==1) & (df.com_msg.str.len()>0) & (df.rep_lang==True)]\n",
    "df_good = df_good[(df_good.com_lines<1000)]"
   ]
  },
  {
   "cell_type": "code",
   "execution_count": 26,
   "id": "e441a9cb",
   "metadata": {},
   "outputs": [
    {
     "name": "stdout",
     "output_type": "stream",
     "text": [
      "Mean modified lines per commit 30.653203841185352 +- 66.9369002696711\n",
      "Mean deletions lines per commit 8.755957105725981 +- 29.341417959900184\n",
      "Mean insertions lines per commit 21.89724673545937 +- 52.55358838099476\n"
     ]
    }
   ],
   "source": [
    "print('Mean modified lines per commit', df_good.com_lines.mean(), '+-', df_good.com_lines.std())\n",
    "print('Mean deletions lines per commit', df_good.com_deletions.mean(), '+-', df_good.com_deletions.std())\n",
    "print('Mean insertions lines per commit', df_good.com_insertions.mean(), '+-', df_good.com_insertions.std())"
   ]
  },
  {
   "cell_type": "code",
   "execution_count": 27,
   "id": "0a3a70fc",
   "metadata": {},
   "outputs": [
    {
     "data": {
      "text/plain": [
       "992"
      ]
     },
     "execution_count": 27,
     "metadata": {},
     "output_type": "execute_result"
    }
   ],
   "source": [
    "max(df_good.com_lines)"
   ]
  },
  {
   "cell_type": "code",
   "execution_count": 28,
   "id": "770419ab",
   "metadata": {},
   "outputs": [
    {
     "data": {
      "text/plain": [
       "<seaborn.axisgrid.FacetGrid at 0x7fb12e0df280>"
      ]
     },
     "execution_count": 28,
     "metadata": {},
     "output_type": "execute_result"
    },
    {
     "data": {
      "image/png": "[encoded data removed]",
      "text/plain": [
       "<Figure size 360x360 with 1 Axes>"
      ]
     },
     "metadata": {
      "needs_background": "light"
     },
     "output_type": "display_data"
    }
   ],
   "source": [
    "sns.displot(df_good, x='com_lines')"
   ]
  },
  {
   "cell_type": "markdown",
   "id": "4ef63bce",
   "metadata": {},
   "source": [
    "## Delete big changes"
   ]
  },
  {
   "cell_type": "code",
   "execution_count": 29,
   "id": "1684612e",
   "metadata": {},
   "outputs": [],
   "source": [
    "df_good = df[(df.com_num_py_files==1) & (df.com_num_files==1) & (df.com_msg.str.len()>0) & (df.rep_lang==True)]\n",
    "df_good = df_good[(df_good.com_lines<50)]"
   ]
  },
  {
   "cell_type": "code",
   "execution_count": 30,
   "id": "56551e4e",
   "metadata": {},
   "outputs": [
    {
     "data": {
      "text/plain": [
       "<seaborn.axisgrid.FacetGrid at 0x7fb12e0dec80>"
      ]
     },
     "execution_count": 30,
     "metadata": {},
     "output_type": "execute_result"
    },
    {
     "data": {
      "image/png": "[encoded data removed]",
      "text/plain": [
       "<Figure size 360x360 with 1 Axes>"
      ]
     },
     "metadata": {
      "needs_background": "light"
     },
     "output_type": "display_data"
    }
   ],
   "source": [
    "sns.displot(df_good, x='com_lines')"
   ]
  },
  {
   "cell_type": "code",
   "execution_count": 31,
   "id": "12b27fa8",
   "metadata": {},
   "outputs": [
    {
     "data": {
      "text/plain": [
       "(54086, 33)"
      ]
     },
     "execution_count": 31,
     "metadata": {},
     "output_type": "execute_result"
    }
   ],
   "source": [
    "df_good.shape"
   ]
  },
  {
   "cell_type": "markdown",
   "id": "6c7ba784",
   "metadata": {},
   "source": [
    "## Watch filters"
   ]
  },
  {
   "cell_type": "code",
   "execution_count": 32,
   "id": "f5a8c06b",
   "metadata": {},
   "outputs": [],
   "source": [
    "filters = ['numpy', 'pandas', 'sklearn', 'keras', 'torch', 'transformers', 'tensorflow',\n",
    "           'scipy', 'statsmodels', 'flask', 'django', 'fastapi', 'gensim', 'nltk']"
   ]
  },
  {
   "cell_type": "code",
   "execution_count": 33,
   "id": "1c95fdb5",
   "metadata": {},
   "outputs": [],
   "source": [
    "def is_filtered_before(row, filters=filters):\n",
    "    libs = ''\n",
    "    for k, v in row['com_py2imports_before'].items():\n",
    "        libs += ' '.join(v)\n",
    "        \n",
    "    for fil in filters:\n",
    "        if fil in libs:\n",
    "            return 1\n",
    "    return 0\n",
    "\n",
    "def is_filtered_after(row, filters=filters):\n",
    "    libs = ''\n",
    "    for k, v in row['com_py2imports_after'].items():\n",
    "        libs += ' '.join(v)\n",
    "        \n",
    "    for fil in filters:\n",
    "        if fil in libs:\n",
    "            return 1\n",
    "    return 0"
   ]
  },
  {
   "cell_type": "code",
   "execution_count": 34,
   "id": "d7495a06",
   "metadata": {},
   "outputs": [
    {
     "name": "stdout",
     "output_type": "stream",
     "text": [
      "Num of good commits with filter before: 10012\n",
      "Num of good commits with filter after: 10411\n"
     ]
    }
   ],
   "source": [
    "print('Num of good commits with filter before:', sum(df_good.apply(lambda x: is_filtered_before(x), axis=1)))\n",
    "print('Num of good commits with filter after:', sum(df_good.apply(lambda x: is_filtered_after(x), axis=1)))"
   ]
  },
  {
   "cell_type": "code",
   "execution_count": 35,
   "id": "951b08ec",
   "metadata": {},
   "outputs": [
    {
     "name": "stdout",
     "output_type": "stream",
     "text": [
      "Percentage good commits with filter before: 0.06886211070760427\n",
      "Percentage good commits with filter after: 0.07160641575877627\n"
     ]
    }
   ],
   "source": [
    "print('Percentage good commits with filter before:', sum(df_good.apply(lambda x: is_filtered_before(x), \n",
    "                                                                       axis=1)) / df.shape[0])\n",
    "print('Percentage good commits with filter after:', sum(df_good.apply(lambda x: is_filtered_after(x), \n",
    "                                                                      axis=1)) / df.shape[0])"
   ]
  },
  {
   "cell_type": "code",
   "execution_count": 36,
   "id": "3bce2732",
   "metadata": {},
   "outputs": [
    {
     "data": {
      "text/plain": [
       "0.18514188542884472"
      ]
     },
     "execution_count": 36,
     "metadata": {},
     "output_type": "execute_result"
    }
   ],
   "source": [
    "df_good['filt_web'] = df_good.apply(lambda x: is_filtered_before(x), axis=1)\n",
    "web_repos = df_good.loc[(df_good['filt_web']==1), :]['rep_url'].unique()\n",
    "len(web_repos) / len(df.rep_url.unique())"
   ]
  },
  {
   "cell_type": "code",
   "execution_count": 37,
   "id": "42fe695c",
   "metadata": {},
   "outputs": [
    {
     "data": {
      "text/plain": [
       "array(['https://github.com/johnboxall/django-ab',\n",
       "       'https://github.com/leah/django-elsewhere',\n",
       "       'https://github.com/howiworkdaily/django-newsletter',\n",
       "       'https://github.com/ericflo/django-tokyo-sessions',\n",
       "       'https://github.com/ericflo/django-couch-lifestream',\n",
       "       'https://github.com/rcrowley/django-twitterauth',\n",
       "       'https://github.com/lethain/django-userskins',\n",
       "       'https://github.com/lethain/django-springsteen',\n",
       "       'https://github.com/idan/djoosh',\n",
       "       'https://github.com/montylounge/django-google-analytics',\n",
       "       'https://github.com/lincolnloop/django-protected-files',\n",
       "       'https://github.com/ella/django-ratings',\n",
       "       'https://github.com/jezdez/django-comment-utils',\n",
       "       'https://github.com/alex/django-plugins',\n",
       "       'https://github.com/danfairs/fez.djangoskel',\n",
       "       'https://github.com/svetlyak40wt/django-pingback',\n",
       "       'https://github.com/bjornkri/django-tumblr',\n",
       "       'https://github.com/jchris/portable-google-app-engine-sdk',\n",
       "       'https://github.com/akaihola/django-wtform',\n",
       "       'https://github.com/adamg/django-repo-browser'], dtype=object)"
      ]
     },
     "execution_count": 37,
     "metadata": {},
     "output_type": "execute_result"
    }
   ],
   "source": [
    "web_repos[:20]"
   ]
  },
  {
   "cell_type": "code",
   "execution_count": 38,
   "id": "318ea0d0",
   "metadata": {},
   "outputs": [
    {
     "data": {
      "text/plain": [
       "<seaborn.axisgrid.FacetGrid at 0x7fb1c8327b50>"
      ]
     },
     "execution_count": 38,
     "metadata": {},
     "output_type": "execute_result"
    },
    {
     "data": {
      "image/png": "[encoded data removed]",
      "text/plain": [
       "<Figure size 360x360 with 1 Axes>"
      ]
     },
     "metadata": {
      "needs_background": "light"
     },
     "output_type": "display_data"
    }
   ],
   "source": [
    "sns.displot(df_good[df_good['rep_url'].isin(web_repos)], x='com_lines')"
   ]
  },
  {
   "cell_type": "code",
   "execution_count": 39,
   "id": "ca8b0dce",
   "metadata": {},
   "outputs": [
    {
     "data": {
      "text/plain": [
       "<seaborn.axisgrid.FacetGrid at 0x7fb18e48ba30>"
      ]
     },
     "execution_count": 39,
     "metadata": {},
     "output_type": "execute_result"
    },
    {
     "data": {
      "image/png": "[encoded data removed]",
      "text/plain": [
       "<Figure size 360x360 with 1 Axes>"
      ]
     },
     "metadata": {
      "needs_background": "light"
     },
     "output_type": "display_data"
    }
   ],
   "source": [
    "sns.displot(df_grouped[df_grouped['rep_url'].isin(web_repos)], x='rep_total_files')"
   ]
  },
  {
   "cell_type": "code",
   "execution_count": 40,
   "id": "5b30596b",
   "metadata": {},
   "outputs": [
    {
     "data": {
      "text/plain": [
       "<seaborn.axisgrid.FacetGrid at 0x7fb1c83c90f0>"
      ]
     },
     "execution_count": 40,
     "metadata": {},
     "output_type": "execute_result"
    },
    {
     "data": {
      "image/png": "[encoded data removed]",
      "text/plain": [
       "<Figure size 360x360 with 1 Axes>"
      ]
     },
     "metadata": {
      "needs_background": "light"
     },
     "output_type": "display_data"
    }
   ],
   "source": [
    "sns.displot(df_grouped[df_grouped['rep_url'].isin(web_repos)], x='rep_total_py_files')"
   ]
  },
  {
   "cell_type": "code",
   "execution_count": 41,
   "id": "ab3b9412",
   "metadata": {},
   "outputs": [
    {
     "data": {
      "text/plain": [
       "<seaborn.axisgrid.FacetGrid at 0x7fb18cfaa080>"
      ]
     },
     "execution_count": 41,
     "metadata": {},
     "output_type": "execute_result"
    },
    {
     "data": {
      "image/png": "[encoded data removed]",
      "text/plain": [
       "<Figure size 360x360 with 1 Axes>"
      ]
     },
     "metadata": {
      "needs_background": "light"
     },
     "output_type": "display_data"
    }
   ],
   "source": [
    "sns.displot(df_grouped[df_grouped['rep_url'].isin(web_repos)], x='py_perc')"
   ]
  },
  {
   "cell_type": "markdown",
   "id": "6ecdac55",
   "metadata": {},
   "source": [
    "## ML Filters"
   ]
  },
  {
   "cell_type": "code",
   "execution_count": 42,
   "id": "538e73df",
   "metadata": {},
   "outputs": [],
   "source": [
    "filters_no_web = ['sklearn', 'keras', 'torch', 'transformers', 'tensorflow',\n",
    "                  'gensim']"
   ]
  },
  {
   "cell_type": "code",
   "execution_count": 43,
   "id": "a65b2a73",
   "metadata": {},
   "outputs": [
    {
     "name": "stdout",
     "output_type": "stream",
     "text": [
      "Percentage good commits with filter before: 0.00147188290965115\n",
      "Percentage good commits with filter after: 0.0015337845273467592\n"
     ]
    }
   ],
   "source": [
    "print('Percentage good commits with filter before:', sum(df_good.apply(lambda x: is_filtered_before(x, \n",
    "                                                                                                    filters_no_web), \n",
    "                                                                       axis=1)) / df.shape[0])\n",
    "print('Percentage good commits with filter after:', sum(df_good.apply(lambda x: is_filtered_after(x,\n",
    "                                                                                                 filters_no_web), \n",
    "                                                                      axis=1)) / df.shape[0])"
   ]
  },
  {
   "cell_type": "code",
   "execution_count": 44,
   "id": "530c240b",
   "metadata": {},
   "outputs": [
    {
     "data": {
      "text/plain": [
       "214"
      ]
     },
     "execution_count": 44,
     "metadata": {},
     "output_type": "execute_result"
    }
   ],
   "source": [
    "sum(df_good.apply(lambda x: is_filtered_before(x, filters_no_web), axis=1))"
   ]
  },
  {
   "cell_type": "code",
   "execution_count": 45,
   "id": "1bdcb914",
   "metadata": {},
   "outputs": [],
   "source": [
    "df_good['filt_ml'] = df_good.apply(lambda x: is_filtered_before(x, filters_no_web), axis=1)"
   ]
  },
  {
   "cell_type": "code",
   "execution_count": 46,
   "id": "51d21f76",
   "metadata": {},
   "outputs": [],
   "source": [
    "ml_repos = df_good.loc[(df_good['filt_ml']==1), :]['rep_url'].unique()"
   ]
  },
  {
   "cell_type": "code",
   "execution_count": 47,
   "id": "a8a8138a",
   "metadata": {},
   "outputs": [
    {
     "data": {
      "text/plain": [
       "(0.0070145605271548514, 66)"
      ]
     },
     "execution_count": 47,
     "metadata": {},
     "output_type": "execute_result"
    }
   ],
   "source": [
    "len(ml_repos) / len(df.rep_url.unique()), len(ml_repos)"
   ]
  },
  {
   "cell_type": "code",
   "execution_count": 48,
   "id": "82ab0013",
   "metadata": {},
   "outputs": [
    {
     "data": {
      "text/plain": [
       "array(['https://github.com/petewarden/mlloworld',\n",
       "       'https://github.com/hammer/wikichallenge',\n",
       "       'https://github.com/mattspitz/sluggerml',\n",
       "       'https://github.com/coreylynch/enrontopicmodelling',\n",
       "       'https://github.com/drjasondavis/lending-club-learning',\n",
       "       'https://github.com/gburlet/chordrecog',\n",
       "       'https://github.com/wcbeard/authorship-attribution',\n",
       "       'https://github.com/naftaliharris/wordpress-lda',\n",
       "       'https://github.com/dell-zhang/zmusic_code',\n",
       "       'https://github.com/camdavidsonpilon/graphical-lasso-in-finance',\n",
       "       'https://github.com/nournia/wikifier',\n",
       "       'https://github.com/aflag/captcha-study',\n",
       "       'https://github.com/coreylynch/sklearn-transform',\n",
       "       'https://github.com/ramarlina/som',\n",
       "       'https://github.com/cjdd3b/nicar2013',\n",
       "       'https://github.com/benhamner/bluebookforbulldozers',\n",
       "       'https://github.com/3003/normalized-searchengine-index-distance',\n",
       "       'https://github.com/raghavan/semi-supervised-learning',\n",
       "       'https://github.com/rare-technologies/gensim-simserver',\n",
       "       'https://github.com/nmkridler/moby'], dtype=object)"
      ]
     },
     "execution_count": 48,
     "metadata": {},
     "output_type": "execute_result"
    }
   ],
   "source": [
    "ml_repos[:20]"
   ]
  },
  {
   "cell_type": "code",
   "execution_count": 49,
   "id": "6994491d",
   "metadata": {},
   "outputs": [
    {
     "data": {
      "text/plain": [
       "<seaborn.axisgrid.FacetGrid at 0x7fb1c8326980>"
      ]
     },
     "execution_count": 49,
     "metadata": {},
     "output_type": "execute_result"
    },
    {
     "data": {
      "image/png": "[encoded data removed]",
      "text/plain": [
       "<Figure size 360x360 with 1 Axes>"
      ]
     },
     "metadata": {
      "needs_background": "light"
     },
     "output_type": "display_data"
    }
   ],
   "source": [
    "sns.displot(df_good[df_good['rep_url'].isin(ml_repos)], x='com_lines')"
   ]
  },
  {
   "cell_type": "code",
   "execution_count": 50,
   "id": "93d219be",
   "metadata": {},
   "outputs": [
    {
     "data": {
      "text/plain": [
       "<seaborn.axisgrid.FacetGrid at 0x7fb0f9028880>"
      ]
     },
     "execution_count": 50,
     "metadata": {},
     "output_type": "execute_result"
    },
    {
     "data": {
      "image/png": "[encoded data removed]",
      "text/plain": [
       "<Figure size 360x360 with 1 Axes>"
      ]
     },
     "metadata": {
      "needs_background": "light"
     },
     "output_type": "display_data"
    }
   ],
   "source": [
    "sns.displot(df_grouped[df_grouped['rep_url'].isin(ml_repos)], x='rep_total_files')"
   ]
  },
  {
   "cell_type": "code",
   "execution_count": 51,
   "id": "18eb306c",
   "metadata": {},
   "outputs": [
    {
     "data": {
      "text/plain": [
       "<seaborn.axisgrid.FacetGrid at 0x7fb1de690c70>"
      ]
     },
     "execution_count": 51,
     "metadata": {},
     "output_type": "execute_result"
    },
    {
     "data": {
      "image/png": "[encoded data removed]",
      "text/plain": [
       "<Figure size 360x360 with 1 Axes>"
      ]
     },
     "metadata": {
      "needs_background": "light"
     },
     "output_type": "display_data"
    }
   ],
   "source": [
    "sns.displot(df_grouped[df_grouped['rep_url'].isin(ml_repos)], x='rep_total_py_files')"
   ]
  },
  {
   "cell_type": "code",
   "execution_count": 52,
   "id": "34d3448a",
   "metadata": {},
   "outputs": [
    {
     "data": {
      "text/plain": [
       "<seaborn.axisgrid.FacetGrid at 0x7fb1de613d30>"
      ]
     },
     "execution_count": 52,
     "metadata": {},
     "output_type": "execute_result"
    },
    {
     "data": {
      "image/png": "[encoded data removed]",
      "text/plain": [
       "<Figure size 360x360 with 1 Axes>"
      ]
     },
     "metadata": {
      "needs_background": "light"
     },
     "output_type": "display_data"
    }
   ],
   "source": [
    "sns.displot(df_grouped[df_grouped['rep_url'].isin(ml_repos)], x='py_perc')"
   ]
  },
  {
   "cell_type": "markdown",
   "id": "ef82cc87",
   "metadata": {},
   "source": [
    "## Watch libs"
   ]
  },
  {
   "cell_type": "code",
   "execution_count": 53,
   "id": "aa432d9d",
   "metadata": {},
   "outputs": [],
   "source": [
    "def extract_libname(import_line): # Not works with relative pathes\n",
    "    imp_ = import_line[:]\n",
    "    import_line = import_line.strip()\n",
    "    if import_line[:6] == 'import':\n",
    "        import_line = import_line[7:].strip()\n",
    "        as_idx = import_line.find(' as ')\n",
    "        if as_idx >= 0:\n",
    "            import_line = import_line[:as_idx].strip()\n",
    "    else:\n",
    "        import_line = import_line[4:].strip()\n",
    "        import_line = import_line.split(' import ')[0].strip()\n",
    "    if import_line.split('.')[0].strip() == '':\n",
    "        # print(imp_)\n",
    "        pass\n",
    "    return import_line.split('.')[0].strip()"
   ]
  },
  {
   "cell_type": "code",
   "execution_count": 54,
   "id": "15aa4175",
   "metadata": {},
   "outputs": [
    {
     "data": {
      "text/plain": [
       "['re', 'numpy', 'os', 'sys', 'pandas', 'tqdm', 'math', 'sklearn']"
      ]
     },
     "execution_count": 54,
     "metadata": {},
     "output_type": "execute_result"
    }
   ],
   "source": [
    "a = ['import re',\n",
    " 'import numpy as np',\n",
    " 'import os',\n",
    " 'import sys',\n",
    " 'import pandas as pd',\n",
    " 'from tqdm import tqdm',\n",
    " 'from math import log',\n",
    " 'from sklearn.metrics import r2_score']\n",
    "\n",
    "[extract_libname(b) for b in a]"
   ]
  },
  {
   "cell_type": "code",
   "execution_count": 55,
   "id": "4bcd9bac",
   "metadata": {},
   "outputs": [],
   "source": [
    "from collections import Counter\n",
    "\n",
    "libs_cnt = Counter()\n",
    "for row_idx, row in df_good.iterrows():\n",
    "    for k, v in row['com_py2imports_before'].items():\n",
    "        for imp_line in v:\n",
    "            libs_cnt[extract_libname(imp_line)] += 1"
   ]
  },
  {
   "cell_type": "code",
   "execution_count": 56,
   "id": "c1e08357",
   "metadata": {},
   "outputs": [
    {
     "data": {
      "text/plain": [
       "[('django', 18254),\n",
       " ('os', 15713),\n",
       " ('sys', 12371),\n",
       " ('time', 8161),\n",
       " ('re', 7651),\n",
       " ('datetime', 5775),\n",
       " ('logging', 5016),\n",
       " ('json', 3633),\n",
       " ('urllib', 3471),\n",
       " ('subprocess', 3274),\n",
       " ('numpy', 3059),\n",
       " ('google', 2782),\n",
       " ('', 2761),\n",
       " ('setuptools', 2602),\n",
       " ('urllib2', 2570),\n",
       " ('twisted', 2556),\n",
       " ('random', 2509),\n",
       " ('optparse', 2436),\n",
       " ('__future__', 2163),\n",
       " ('socket', 2153),\n",
       " ('collections', 2119),\n",
       " ('threading', 1925),\n",
       " ('argparse', 1829),\n",
       " ('math', 1686),\n",
       " ('hashlib', 1679),\n",
       " ('urlparse', 1610),\n",
       " ('xml', 1552),\n",
       " ('struct', 1446),\n",
       " ('shutil', 1436),\n",
       " ('tornado', 1397)]"
      ]
     },
     "execution_count": 56,
     "metadata": {},
     "output_type": "execute_result"
    }
   ],
   "source": [
    "libs_cnt.most_common(30)"
   ]
  },
  {
   "cell_type": "code",
   "execution_count": 57,
   "id": "b5f5dcda",
   "metadata": {},
   "outputs": [
    {
     "name": "stdout",
     "output_type": "stream",
     "text": [
      "Without rel imp: 0.9712494915504937\n"
     ]
    }
   ],
   "source": [
    "def has_relative_import(row):\n",
    "    for k, v in row['com_py2imports_before'].items():\n",
    "        for imp_line in v:\n",
    "            if extract_libname(imp_line) == '':\n",
    "                return 1\n",
    "    return 0\n",
    "\n",
    "df_good['has_rel_imp'] = df_good.apply(lambda x: has_relative_import(x), axis=1)\n",
    "print('Without rel imp:', 1 - sum(df_good['has_rel_imp']) / df_good.shape[0])"
   ]
  },
  {
   "cell_type": "code",
   "execution_count": 58,
   "id": "a62b5e4d",
   "metadata": {},
   "outputs": [
    {
     "data": {
      "text/plain": [
       "0.3720012105205238"
      ]
     },
     "execution_count": 58,
     "metadata": {},
     "output_type": "execute_result"
    }
   ],
   "source": [
    "df_good['rep_url'].shape[0] / df.shape[0]"
   ]
  },
  {
   "cell_type": "code",
   "execution_count": null,
   "id": "76b84286",
   "metadata": {},
   "outputs": [],
   "source": []
  }
 ],
 "metadata": {
  "kernelspec": {
   "display_name": "interactive_lm",
   "language": "python",
   "name": "interactive_lm"
  },
  "language_info": {
   "codemirror_mode": {
    "name": "ipython",
    "version": 3
   },
   "file_extension": ".py",
   "mimetype": "text/x-python",
   "name": "python",
   "nbconvert_exporter": "python",
   "pygments_lexer": "ipython3",
   "version": "3.10.4"
  }
 },
 "nbformat": 4,
 "nbformat_minor": 5
}
