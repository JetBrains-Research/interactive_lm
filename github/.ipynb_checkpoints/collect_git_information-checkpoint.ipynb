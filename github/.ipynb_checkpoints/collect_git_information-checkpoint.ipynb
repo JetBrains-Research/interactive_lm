{
 "cells": [
  {
   "cell_type": "code",
   "execution_count": 3,
   "metadata": {},
   "outputs": [],
   "source": [
    "import pydriller\n",
    "import pandas as pd\n",
    "from tqdm import tqdm\n",
    "import re\n",
    "import shutil\n",
    "import jsonlines\n",
    "import os\n",
    "import json\n",
    "import jsonlines\n",
    "\n",
    "from langdetect import detect"
   ]
  },
  {
   "cell_type": "code",
   "execution_count": 5,
   "metadata": {},
   "outputs": [
    {
     "data": {
      "text/html": [
       "<div>\n",
       "<style scoped>\n",
       "    .dataframe tbody tr th:only-of-type {\n",
       "        vertical-align: middle;\n",
       "    }\n",
       "\n",
       "    .dataframe tbody tr th {\n",
       "        vertical-align: top;\n",
       "    }\n",
       "\n",
       "    .dataframe thead th {\n",
       "        text-align: right;\n",
       "    }\n",
       "</style>\n",
       "<table border=\"1\" class=\"dataframe\">\n",
       "  <thead>\n",
       "    <tr style=\"text-align: right;\">\n",
       "      <th></th>\n",
       "      <th>name</th>\n",
       "      <th>isFork</th>\n",
       "      <th>commits</th>\n",
       "      <th>branches</th>\n",
       "      <th>defaultBranch</th>\n",
       "      <th>releases</th>\n",
       "      <th>contributors</th>\n",
       "      <th>license</th>\n",
       "      <th>watchers</th>\n",
       "      <th>stargazers</th>\n",
       "      <th>...</th>\n",
       "      <th>homepage</th>\n",
       "      <th>mainLanguage</th>\n",
       "      <th>totalIssues</th>\n",
       "      <th>openIssues</th>\n",
       "      <th>totalPullRequests</th>\n",
       "      <th>openPullRequests</th>\n",
       "      <th>lastCommit</th>\n",
       "      <th>lastCommitSHA</th>\n",
       "      <th>hasWiki</th>\n",
       "      <th>isArchived</th>\n",
       "    </tr>\n",
       "  </thead>\n",
       "  <tbody>\n",
       "    <tr>\n",
       "      <th>0</th>\n",
       "      <td>knadh/ml2en</td>\n",
       "      <td>False</td>\n",
       "      <td>23</td>\n",
       "      <td>1</td>\n",
       "      <td>master</td>\n",
       "      <td>0</td>\n",
       "      <td>3.0</td>\n",
       "      <td>NaN</td>\n",
       "      <td>5</td>\n",
       "      <td>56</td>\n",
       "      <td>...</td>\n",
       "      <td>NaN</td>\n",
       "      <td>Python</td>\n",
       "      <td>4.0</td>\n",
       "      <td>1.0</td>\n",
       "      <td>4.0</td>\n",
       "      <td>0.0</td>\n",
       "      <td>2021-12-10T08:10:03</td>\n",
       "      <td>dd706167d52f8c9f556ee15869e00749c71df677</td>\n",
       "      <td>True</td>\n",
       "      <td>False</td>\n",
       "    </tr>\n",
       "    <tr>\n",
       "      <th>1</th>\n",
       "      <td>er10yi/magicude</td>\n",
       "      <td>False</td>\n",
       "      <td>98</td>\n",
       "      <td>2</td>\n",
       "      <td>main</td>\n",
       "      <td>12</td>\n",
       "      <td>1.0</td>\n",
       "      <td>NaN</td>\n",
       "      <td>12</td>\n",
       "      <td>423</td>\n",
       "      <td>...</td>\n",
       "      <td>NaN</td>\n",
       "      <td>Python</td>\n",
       "      <td>9.0</td>\n",
       "      <td>2.0</td>\n",
       "      <td>2.0</td>\n",
       "      <td>0.0</td>\n",
       "      <td>2022-01-10T03:28:29</td>\n",
       "      <td>b20f98939e928847f323d903f358221380a1ea74</td>\n",
       "      <td>True</td>\n",
       "      <td>False</td>\n",
       "    </tr>\n",
       "    <tr>\n",
       "      <th>2</th>\n",
       "      <td>keguoyu/minijvm</td>\n",
       "      <td>False</td>\n",
       "      <td>11</td>\n",
       "      <td>3</td>\n",
       "      <td>main</td>\n",
       "      <td>0</td>\n",
       "      <td>0.0</td>\n",
       "      <td>NaN</td>\n",
       "      <td>1</td>\n",
       "      <td>62</td>\n",
       "      <td>...</td>\n",
       "      <td>NaN</td>\n",
       "      <td>Python</td>\n",
       "      <td>NaN</td>\n",
       "      <td>NaN</td>\n",
       "      <td>NaN</td>\n",
       "      <td>NaN</td>\n",
       "      <td>2021-02-20T07:13:03</td>\n",
       "      <td>4da519cadead7164de37fb9b8913360dd45f9193</td>\n",
       "      <td>True</td>\n",
       "      <td>False</td>\n",
       "    </tr>\n",
       "    <tr>\n",
       "      <th>3</th>\n",
       "      <td>nordnet/next-api-v2-examples</td>\n",
       "      <td>False</td>\n",
       "      <td>35</td>\n",
       "      <td>2</td>\n",
       "      <td>master</td>\n",
       "      <td>0</td>\n",
       "      <td>10.0</td>\n",
       "      <td>MIT License</td>\n",
       "      <td>17</td>\n",
       "      <td>32</td>\n",
       "      <td>...</td>\n",
       "      <td>https://www.nordnet.se/externalapi/docs</td>\n",
       "      <td>Python</td>\n",
       "      <td>0.0</td>\n",
       "      <td>0.0</td>\n",
       "      <td>10.0</td>\n",
       "      <td>0.0</td>\n",
       "      <td>2022-03-10T11:18:36</td>\n",
       "      <td>73ed85404f10d879d8e5959a88a19dfad3b41827</td>\n",
       "      <td>False</td>\n",
       "      <td>False</td>\n",
       "    </tr>\n",
       "    <tr>\n",
       "      <th>4</th>\n",
       "      <td>aubreyrjones/parasol</td>\n",
       "      <td>False</td>\n",
       "      <td>70</td>\n",
       "      <td>1</td>\n",
       "      <td>master</td>\n",
       "      <td>0</td>\n",
       "      <td>1.0</td>\n",
       "      <td>BSD 2-Clause Simplified License</td>\n",
       "      <td>3</td>\n",
       "      <td>18</td>\n",
       "      <td>...</td>\n",
       "      <td>NaN</td>\n",
       "      <td>Python</td>\n",
       "      <td>0.0</td>\n",
       "      <td>0.0</td>\n",
       "      <td>0.0</td>\n",
       "      <td>0.0</td>\n",
       "      <td>2021-04-26T02:09:20</td>\n",
       "      <td>3110aec5b8824f10d324e35d02997b762f0436f4</td>\n",
       "      <td>True</td>\n",
       "      <td>False</td>\n",
       "    </tr>\n",
       "  </tbody>\n",
       "</table>\n",
       "<p>5 rows × 25 columns</p>\n",
       "</div>"
      ],
      "text/plain": [
       "                           name  isFork  commits  branches defaultBranch  \\\n",
       "0                   knadh/ml2en   False       23         1        master   \n",
       "1               er10yi/magicude   False       98         2          main   \n",
       "2               keguoyu/minijvm   False       11         3          main   \n",
       "3  nordnet/next-api-v2-examples   False       35         2        master   \n",
       "4          aubreyrjones/parasol   False       70         1        master   \n",
       "\n",
       "   releases  contributors                          license  watchers  \\\n",
       "0         0           3.0                              NaN         5   \n",
       "1        12           1.0                              NaN        12   \n",
       "2         0           0.0                              NaN         1   \n",
       "3         0          10.0                      MIT License        17   \n",
       "4         0           1.0  BSD 2-Clause Simplified License         3   \n",
       "\n",
       "   stargazers  ...                                 homepage  mainLanguage  \\\n",
       "0          56  ...                                      NaN        Python   \n",
       "1         423  ...                                      NaN        Python   \n",
       "2          62  ...                                      NaN        Python   \n",
       "3          32  ...  https://www.nordnet.se/externalapi/docs        Python   \n",
       "4          18  ...                                      NaN        Python   \n",
       "\n",
       "  totalIssues openIssues totalPullRequests openPullRequests  \\\n",
       "0         4.0        1.0               4.0              0.0   \n",
       "1         9.0        2.0               2.0              0.0   \n",
       "2         NaN        NaN               NaN              NaN   \n",
       "3         0.0        0.0              10.0              0.0   \n",
       "4         0.0        0.0               0.0              0.0   \n",
       "\n",
       "            lastCommit                             lastCommitSHA  hasWiki  \\\n",
       "0  2021-12-10T08:10:03  dd706167d52f8c9f556ee15869e00749c71df677     True   \n",
       "1  2022-01-10T03:28:29  b20f98939e928847f323d903f358221380a1ea74     True   \n",
       "2  2021-02-20T07:13:03  4da519cadead7164de37fb9b8913360dd45f9193     True   \n",
       "3  2022-03-10T11:18:36  73ed85404f10d879d8e5959a88a19dfad3b41827    False   \n",
       "4  2021-04-26T02:09:20  3110aec5b8824f10d324e35d02997b762f0436f4     True   \n",
       "\n",
       "   isArchived  \n",
       "0       False  \n",
       "1       False  \n",
       "2       False  \n",
       "3       False  \n",
       "4       False  \n",
       "\n",
       "[5 rows x 25 columns]"
      ]
     },
     "execution_count": 5,
     "metadata": {},
     "output_type": "execute_result"
    }
   ],
   "source": [
    "df = pd.read_csv('results.csv', encoding='latin-1')\n",
    "df.head()"
   ]
  },
  {
   "cell_type": "code",
   "execution_count": 6,
   "metadata": {},
   "outputs": [
    {
     "data": {
      "text/plain": [
       "(152562, 25)"
      ]
     },
     "execution_count": 6,
     "metadata": {},
     "output_type": "execute_result"
    }
   ],
   "source": [
    "df.shape"
   ]
  },
  {
   "cell_type": "code",
   "execution_count": 7,
   "metadata": {},
   "outputs": [
    {
     "data": {
      "text/plain": [
       "('https://github.com/knadh/ml2en', 'knadh')"
      ]
     },
     "execution_count": 7,
     "metadata": {},
     "output_type": "execute_result"
    }
   ],
   "source": [
    "urls = df['name'].apply(lambda x: \"https://github.com/\" + x)\n",
    "names = df['name'].apply(lambda x: x.split('/')[0])\n",
    "urls[0], names[0]"
   ]
  },
  {
   "cell_type": "code",
   "execution_count": 8,
   "metadata": {},
   "outputs": [],
   "source": [
    "processed_repos = set()\n",
    "with jsonlines.open(\"collected_info.jsonl\") as reader: \n",
    "    for obj in reader: # for writing\n",
    "        processed_repos.add(obj['rep_url'])"
   ]
  },
  {
   "cell_type": "code",
   "execution_count": 9,
   "metadata": {},
   "outputs": [],
   "source": [
    "import os\n",
    "if not os.path.exists('tmp_repos'):\n",
    "    os.mkdir('tmp_repos')"
   ]
  },
  {
   "cell_type": "code",
   "execution_count": 10,
   "metadata": {},
   "outputs": [],
   "source": [
    "def get_dir_size(path='.'):\n",
    "    total = 0\n",
    "    total_files = 0\n",
    "    total_py_files = 0\n",
    "    with os.scandir(path) as it:\n",
    "        for entry in it:\n",
    "            if entry.is_file():\n",
    "                total += entry.stat().st_size\n",
    "                total_files += 1\n",
    "                if entry.name[-3:] == '.py':\n",
    "                    total_py_files += 1\n",
    "            elif entry.is_dir():\n",
    "                a, b, c = get_dir_size(entry.path)\n",
    "                total += a\n",
    "                total_files += b\n",
    "                total_py_files += c\n",
    "    return total, total_files, total_py_files"
   ]
  },
  {
   "cell_type": "code",
   "execution_count": 11,
   "metadata": {},
   "outputs": [
    {
     "data": {
      "text/plain": [
       "['import re',\n",
       " 'import numpy as np',\n",
       " 'import os',\n",
       " 'import sys',\n",
       " 'import pandas as pd',\n",
       " 'from tqdm import tqdm',\n",
       " 'from math import log',\n",
       " 'from sklearn.metrics import r2_score']"
      ]
     },
     "execution_count": 11,
     "metadata": {},
     "output_type": "execute_result"
    }
   ],
   "source": [
    "def get_modules_from_py(file_text):\n",
    "    return re.findall('^import.*', file_text, re.M) + re.findall('^from.*', file_text, re.M)\n",
    "\n",
    "a = \"\"\"import re\n",
    "import numpy as np\n",
    "np.random.seed(10)\n",
    "from tqdm import tqdm\n",
    "b=10\n",
    "from math import log\n",
    "print(log(b))\n",
    "import os\n",
    "os.path.append('.')\n",
    "\n",
    "from sklearn.metrics import r2_score\n",
    "import sys\n",
    "import pandas as pd\n",
    "\"\"\"\n",
    "get_modules_from_py(a)"
   ]
  },
  {
   "cell_type": "code",
   "execution_count": 12,
   "metadata": {},
   "outputs": [],
   "source": [
    "assert len(urls) == len(names)"
   ]
  },
  {
   "cell_type": "code",
   "execution_count": 14,
   "metadata": {},
   "outputs": [],
   "source": [
    "json_keys = [\n",
    "    'rep_url', 'rep_size_on_disk', 'rep_total_files', 'rep_total_py_files', 'com_num_files',\n",
    "    'com_msg', 'com_msg_lang', 'com_num_py_files', 'com_py2mod_lines', 'com_py2nloc', \n",
    "    'com_py2lines_after', 'com_py2imports', 'com_hash', 'com_author', 'com_committer', \n",
    "    'committer_date', 'com_branches', 'com_in_main_branch', 'com_merge', 'com_deletions',\n",
    "    'com_insertions', 'com_lines', 'com_dmm_unit_size', 'com_dmm_unit_complexity',\n",
    "    'com_dmm_unit_interfacing', \n",
    "]"
   ]
  },
  {
   "cell_type": "code",
   "execution_count": 15,
   "metadata": {
    "scrolled": false
   },
   "outputs": [
    {
     "name": "stderr",
     "output_type": "stream",
     "text": [
      "\r",
      "  0%|          | 0/152562 [00:00<?, ?it/s]"
     ]
    },
    {
     "name": "stdout",
     "output_type": "stream",
     "text": [
      "https://github.com/knadh/ml2en\n"
     ]
    },
    {
     "name": "stderr",
     "output_type": "stream",
     "text": [
      "\r",
      "  0%|          | 1/152562 [00:02<90:20:30,  2.13s/it]"
     ]
    },
    {
     "name": "stdout",
     "output_type": "stream",
     "text": [
      "https://github.com/er10yi/magicude\n"
     ]
    },
    {
     "name": "stderr",
     "output_type": "stream",
     "text": [
      "\r",
      "  0%|          | 2/152562 [00:07<126:42:17,  2.99s/it]"
     ]
    },
    {
     "name": "stdout",
     "output_type": "stream",
     "text": [
      "https://github.com/keguoyu/minijvm\n"
     ]
    },
    {
     "name": "stderr",
     "output_type": "stream",
     "text": [
      "\r",
      "  0%|          | 3/152562 [00:09<116:01:46,  2.74s/it]"
     ]
    },
    {
     "name": "stdout",
     "output_type": "stream",
     "text": [
      "https://github.com/nordnet/next-api-v2-examples\n"
     ]
    },
    {
     "name": "stderr",
     "output_type": "stream",
     "text": [
      "\r",
      "  0%|          | 4/152562 [00:10<101:09:32,  2.39s/it]"
     ]
    },
    {
     "name": "stdout",
     "output_type": "stream",
     "text": [
      "https://github.com/aubreyrjones/parasol\n"
     ]
    },
    {
     "name": "stderr",
     "output_type": "stream",
     "text": [
      "\r",
      "  0%|          | 5/152562 [00:18<170:06:41,  4.01s/it]"
     ]
    },
    {
     "name": "stdout",
     "output_type": "stream",
     "text": [
      "https://github.com/grassmunk/chicago95_extras\n"
     ]
    },
    {
     "name": "stderr",
     "output_type": "stream",
     "text": [
      "\r",
      "  0%|          | 6/152562 [00:23<177:10:34,  4.18s/it]"
     ]
    },
    {
     "name": "stdout",
     "output_type": "stream",
     "text": [
      "https://github.com/mjansson/mdns_lib\n"
     ]
    },
    {
     "name": "stderr",
     "output_type": "stream",
     "text": [
      "\r",
      "  0%|          | 7/152562 [00:27<172:13:46,  4.06s/it]"
     ]
    },
    {
     "name": "stdout",
     "output_type": "stream",
     "text": [
      "https://github.com/weixiao-huang/silver-spoon\n"
     ]
    },
    {
     "name": "stderr",
     "output_type": "stream",
     "text": [
      "\r",
      "  0%|          | 8/152562 [00:28<134:36:36,  3.18s/it]"
     ]
    },
    {
     "name": "stdout",
     "output_type": "stream",
     "text": [
      "https://github.com/xingshuo/python-kcp\n"
     ]
    },
    {
     "name": "stderr",
     "output_type": "stream",
     "text": [
      "\r",
      "  0%|          | 9/152562 [00:30<120:50:11,  2.85s/it]"
     ]
    },
    {
     "name": "stdout",
     "output_type": "stream",
     "text": [
      "https://github.com/friendlyarm/bakebit\n"
     ]
    },
    {
     "ename": "KeyboardInterrupt",
     "evalue": "",
     "output_type": "error",
     "traceback": [
      "\u001b[0;31m---------------------------------------------------------------------------\u001b[0m",
      "\u001b[0;31mKeyboardInterrupt\u001b[0m                         Traceback (most recent call last)",
      "\u001b[0;32m<ipython-input-15-ad8adb7261e7>\u001b[0m in \u001b[0;36m<module>\u001b[0;34m\u001b[0m\n\u001b[1;32m     53\u001b[0m         \u001b[0mnew_obj\u001b[0m\u001b[0;34m[\u001b[0m\u001b[0;34m'com_insertions'\u001b[0m\u001b[0;34m]\u001b[0m \u001b[0;34m=\u001b[0m \u001b[0mcommit\u001b[0m\u001b[0;34m.\u001b[0m\u001b[0minsertions\u001b[0m\u001b[0;34m\u001b[0m\u001b[0;34m\u001b[0m\u001b[0m\n\u001b[1;32m     54\u001b[0m         \u001b[0mnew_obj\u001b[0m\u001b[0;34m[\u001b[0m\u001b[0;34m'com_lines'\u001b[0m\u001b[0;34m]\u001b[0m \u001b[0;34m=\u001b[0m \u001b[0mcommit\u001b[0m\u001b[0;34m.\u001b[0m\u001b[0mlines\u001b[0m\u001b[0;34m\u001b[0m\u001b[0;34m\u001b[0m\u001b[0m\n\u001b[0;32m---> 55\u001b[0;31m         \u001b[0mnew_obj\u001b[0m\u001b[0;34m[\u001b[0m\u001b[0;34m'com_dmm_unit_size'\u001b[0m\u001b[0;34m]\u001b[0m \u001b[0;34m=\u001b[0m \u001b[0mcommit\u001b[0m\u001b[0;34m.\u001b[0m\u001b[0mdmm_unit_size\u001b[0m\u001b[0;34m\u001b[0m\u001b[0;34m\u001b[0m\u001b[0m\n\u001b[0m\u001b[1;32m     56\u001b[0m         \u001b[0mnew_obj\u001b[0m\u001b[0;34m[\u001b[0m\u001b[0;34m'com_dmm_unit_complexity'\u001b[0m\u001b[0;34m]\u001b[0m \u001b[0;34m=\u001b[0m \u001b[0mcommit\u001b[0m\u001b[0;34m.\u001b[0m\u001b[0mdmm_unit_complexity\u001b[0m\u001b[0;34m\u001b[0m\u001b[0;34m\u001b[0m\u001b[0m\n\u001b[1;32m     57\u001b[0m         \u001b[0mnew_obj\u001b[0m\u001b[0;34m[\u001b[0m\u001b[0;34m'com_dmm_unit_interfacing'\u001b[0m\u001b[0;34m]\u001b[0m \u001b[0;34m=\u001b[0m \u001b[0mcommit\u001b[0m\u001b[0;34m.\u001b[0m\u001b[0mdmm_unit_interfacing\u001b[0m\u001b[0;34m\u001b[0m\u001b[0;34m\u001b[0m\u001b[0m\n",
      "\u001b[0;32m~/anaconda3/lib/python3.7/site-packages/pydriller/domain/commit.py\u001b[0m in \u001b[0;36mdmm_unit_size\u001b[0;34m(self)\u001b[0m\n\u001b[1;32m    810\u001b[0m                  \u001b[0;32mor\u001b[0m \u001b[0;32mNone\u001b[0m \u001b[0;32mif\u001b[0m \u001b[0mnone\u001b[0m \u001b[0mof\u001b[0m \u001b[0mthe\u001b[0m \u001b[0mprogramming\u001b[0m \u001b[0mlanguages\u001b[0m \u001b[0;32min\u001b[0m \u001b[0mthe\u001b[0m \u001b[0mcommit\u001b[0m \u001b[0mare\u001b[0m \u001b[0msupported\u001b[0m\u001b[0;34m.\u001b[0m\u001b[0;34m\u001b[0m\u001b[0;34m\u001b[0m\u001b[0m\n\u001b[1;32m    811\u001b[0m         \"\"\"\n\u001b[0;32m--> 812\u001b[0;31m         \u001b[0;32mreturn\u001b[0m \u001b[0mself\u001b[0m\u001b[0;34m.\u001b[0m\u001b[0m_delta_maintainability\u001b[0m\u001b[0;34m(\u001b[0m\u001b[0mDMMProperty\u001b[0m\u001b[0;34m.\u001b[0m\u001b[0mUNIT_SIZE\u001b[0m\u001b[0;34m)\u001b[0m\u001b[0;34m\u001b[0m\u001b[0;34m\u001b[0m\u001b[0m\n\u001b[0m\u001b[1;32m    813\u001b[0m \u001b[0;34m\u001b[0m\u001b[0m\n\u001b[1;32m    814\u001b[0m     \u001b[0;34m@\u001b[0m\u001b[0mproperty\u001b[0m\u001b[0;34m\u001b[0m\u001b[0;34m\u001b[0m\u001b[0m\n",
      "\u001b[0;32m~/anaconda3/lib/python3.7/site-packages/pydriller/domain/commit.py\u001b[0m in \u001b[0;36m_delta_maintainability\u001b[0;34m(self, dmm_prop)\u001b[0m\n\u001b[1;32m    858\u001b[0m         \u001b[0;34m:\u001b[0m\u001b[0;32mreturn\u001b[0m\u001b[0;34m:\u001b[0m \u001b[0mdmm\u001b[0m \u001b[0mvalue\u001b[0m \u001b[0;34m(\u001b[0m\u001b[0mbetween\u001b[0m \u001b[0;36m0.0\u001b[0m \u001b[0;32mand\u001b[0m \u001b[0;36m1.0\u001b[0m\u001b[0;34m)\u001b[0m \u001b[0;32mfor\u001b[0m \u001b[0mthe\u001b[0m \u001b[0mproperty\u001b[0m \u001b[0mrepresented\u001b[0m \u001b[0;32min\u001b[0m \u001b[0mthe\u001b[0m \u001b[0mproperty\u001b[0m\u001b[0;34m.\u001b[0m\u001b[0;34m\u001b[0m\u001b[0;34m\u001b[0m\u001b[0m\n\u001b[1;32m    859\u001b[0m         \"\"\"\n\u001b[0;32m--> 860\u001b[0;31m         \u001b[0mdelta_profile\u001b[0m \u001b[0;34m=\u001b[0m \u001b[0mself\u001b[0m\u001b[0;34m.\u001b[0m\u001b[0m_delta_risk_profile\u001b[0m\u001b[0;34m(\u001b[0m\u001b[0mdmm_prop\u001b[0m\u001b[0;34m)\u001b[0m\u001b[0;34m\u001b[0m\u001b[0;34m\u001b[0m\u001b[0m\n\u001b[0m\u001b[1;32m    861\u001b[0m         \u001b[0;32mif\u001b[0m \u001b[0mdelta_profile\u001b[0m\u001b[0;34m:\u001b[0m\u001b[0;34m\u001b[0m\u001b[0;34m\u001b[0m\u001b[0m\n\u001b[1;32m    862\u001b[0m             \u001b[0;34m(\u001b[0m\u001b[0mdelta_low\u001b[0m\u001b[0;34m,\u001b[0m \u001b[0mdelta_high\u001b[0m\u001b[0;34m)\u001b[0m \u001b[0;34m=\u001b[0m \u001b[0mdelta_profile\u001b[0m\u001b[0;34m\u001b[0m\u001b[0;34m\u001b[0m\u001b[0m\n",
      "\u001b[0;32m~/anaconda3/lib/python3.7/site-packages/pydriller/domain/commit.py\u001b[0m in \u001b[0;36m_delta_risk_profile\u001b[0;34m(self, dmm_prop)\u001b[0m\n\u001b[1;32m    881\u001b[0m             deltas = [\n\u001b[1;32m    882\u001b[0m                 \u001b[0mmod\u001b[0m\u001b[0;34m.\u001b[0m\u001b[0m_delta_risk_profile\u001b[0m\u001b[0;34m(\u001b[0m\u001b[0mdmm_prop\u001b[0m\u001b[0;34m)\u001b[0m\u001b[0;34m\u001b[0m\u001b[0;34m\u001b[0m\u001b[0m\n\u001b[0;32m--> 883\u001b[0;31m                 \u001b[0;32mfor\u001b[0m \u001b[0mmod\u001b[0m \u001b[0;32min\u001b[0m \u001b[0msupported_modifications\u001b[0m\u001b[0;34m\u001b[0m\u001b[0;34m\u001b[0m\u001b[0m\n\u001b[0m\u001b[1;32m    884\u001b[0m             ]\n\u001b[1;32m    885\u001b[0m             \u001b[0mdelta_low\u001b[0m \u001b[0;34m=\u001b[0m \u001b[0msum\u001b[0m\u001b[0;34m(\u001b[0m\u001b[0mdlow\u001b[0m \u001b[0;32mfor\u001b[0m \u001b[0;34m(\u001b[0m\u001b[0mdlow\u001b[0m\u001b[0;34m,\u001b[0m \u001b[0mdhigh\u001b[0m\u001b[0;34m)\u001b[0m \u001b[0;32min\u001b[0m \u001b[0mdeltas\u001b[0m\u001b[0;34m)\u001b[0m\u001b[0;34m\u001b[0m\u001b[0;34m\u001b[0m\u001b[0m\n",
      "\u001b[0;32m~/anaconda3/lib/python3.7/site-packages/pydriller/domain/commit.py\u001b[0m in \u001b[0;36m<listcomp>\u001b[0;34m(.0)\u001b[0m\n\u001b[1;32m    881\u001b[0m             deltas = [\n\u001b[1;32m    882\u001b[0m                 \u001b[0mmod\u001b[0m\u001b[0;34m.\u001b[0m\u001b[0m_delta_risk_profile\u001b[0m\u001b[0;34m(\u001b[0m\u001b[0mdmm_prop\u001b[0m\u001b[0;34m)\u001b[0m\u001b[0;34m\u001b[0m\u001b[0;34m\u001b[0m\u001b[0m\n\u001b[0;32m--> 883\u001b[0;31m                 \u001b[0;32mfor\u001b[0m \u001b[0mmod\u001b[0m \u001b[0;32min\u001b[0m \u001b[0msupported_modifications\u001b[0m\u001b[0;34m\u001b[0m\u001b[0;34m\u001b[0m\u001b[0m\n\u001b[0m\u001b[1;32m    884\u001b[0m             ]\n\u001b[1;32m    885\u001b[0m             \u001b[0mdelta_low\u001b[0m \u001b[0;34m=\u001b[0m \u001b[0msum\u001b[0m\u001b[0;34m(\u001b[0m\u001b[0mdlow\u001b[0m \u001b[0;32mfor\u001b[0m \u001b[0;34m(\u001b[0m\u001b[0mdlow\u001b[0m\u001b[0;34m,\u001b[0m \u001b[0mdhigh\u001b[0m\u001b[0;34m)\u001b[0m \u001b[0;32min\u001b[0m \u001b[0mdeltas\u001b[0m\u001b[0;34m)\u001b[0m\u001b[0;34m\u001b[0m\u001b[0;34m\u001b[0m\u001b[0m\n",
      "\u001b[0;32m~/anaconda3/lib/python3.7/site-packages/pydriller/domain/commit.py\u001b[0m in \u001b[0;36m_delta_risk_profile\u001b[0;34m(self, dmm_prop)\u001b[0m\n\u001b[1;32m    445\u001b[0m         \u001b[0;32massert\u001b[0m \u001b[0mself\u001b[0m\u001b[0;34m.\u001b[0m\u001b[0mlanguage_supported\u001b[0m\u001b[0;34m\u001b[0m\u001b[0;34m\u001b[0m\u001b[0m\n\u001b[1;32m    446\u001b[0m         low_before, high_before = self._risk_profile(\n\u001b[0;32m--> 447\u001b[0;31m             \u001b[0mself\u001b[0m\u001b[0;34m.\u001b[0m\u001b[0mmethods_before\u001b[0m\u001b[0;34m,\u001b[0m \u001b[0mdmm_prop\u001b[0m\u001b[0;34m\u001b[0m\u001b[0;34m\u001b[0m\u001b[0m\n\u001b[0m\u001b[1;32m    448\u001b[0m         )\n\u001b[1;32m    449\u001b[0m         \u001b[0mlow_after\u001b[0m\u001b[0;34m,\u001b[0m \u001b[0mhigh_after\u001b[0m \u001b[0;34m=\u001b[0m \u001b[0mself\u001b[0m\u001b[0;34m.\u001b[0m\u001b[0m_risk_profile\u001b[0m\u001b[0;34m(\u001b[0m\u001b[0mself\u001b[0m\u001b[0;34m.\u001b[0m\u001b[0mmethods\u001b[0m\u001b[0;34m,\u001b[0m \u001b[0mdmm_prop\u001b[0m\u001b[0;34m)\u001b[0m\u001b[0;34m\u001b[0m\u001b[0;34m\u001b[0m\u001b[0m\n",
      "\u001b[0;32m~/anaconda3/lib/python3.7/site-packages/pydriller/domain/commit.py\u001b[0m in \u001b[0;36mmethods_before\u001b[0;34m(self)\u001b[0m\n\u001b[1;32m    384\u001b[0m         \u001b[0;34m:\u001b[0m\u001b[0;32mreturn\u001b[0m\u001b[0;34m:\u001b[0m \u001b[0mlist\u001b[0m \u001b[0mof\u001b[0m \u001b[0mmethods\u001b[0m\u001b[0;34m\u001b[0m\u001b[0;34m\u001b[0m\u001b[0m\n\u001b[1;32m    385\u001b[0m         \"\"\"\n\u001b[0;32m--> 386\u001b[0;31m         \u001b[0mself\u001b[0m\u001b[0;34m.\u001b[0m\u001b[0m_calculate_metrics\u001b[0m\u001b[0;34m(\u001b[0m\u001b[0minclude_before\u001b[0m\u001b[0;34m=\u001b[0m\u001b[0;32mTrue\u001b[0m\u001b[0;34m)\u001b[0m\u001b[0;34m\u001b[0m\u001b[0;34m\u001b[0m\u001b[0m\n\u001b[0m\u001b[1;32m    387\u001b[0m         \u001b[0;32mreturn\u001b[0m \u001b[0mself\u001b[0m\u001b[0;34m.\u001b[0m\u001b[0m_function_list_before\u001b[0m\u001b[0;34m\u001b[0m\u001b[0;34m\u001b[0m\u001b[0m\n\u001b[1;32m    388\u001b[0m \u001b[0;34m\u001b[0m\u001b[0m\n",
      "\u001b[0;32m~/anaconda3/lib/python3.7/site-packages/pydriller/domain/commit.py\u001b[0m in \u001b[0;36m_calculate_metrics\u001b[0;34m(self, include_before)\u001b[0m\n\u001b[1;32m    460\u001b[0m         \u001b[0;32mif\u001b[0m \u001b[0mself\u001b[0m\u001b[0;34m.\u001b[0m\u001b[0msource_code\u001b[0m \u001b[0;32mand\u001b[0m \u001b[0mself\u001b[0m\u001b[0;34m.\u001b[0m\u001b[0m_nloc\u001b[0m \u001b[0;32mis\u001b[0m \u001b[0;32mNone\u001b[0m\u001b[0;34m:\u001b[0m\u001b[0;34m\u001b[0m\u001b[0;34m\u001b[0m\u001b[0m\n\u001b[1;32m    461\u001b[0m             analysis = lizard.analyze_file.analyze_source_code(\n\u001b[0;32m--> 462\u001b[0;31m                 \u001b[0mself\u001b[0m\u001b[0;34m.\u001b[0m\u001b[0mfilename\u001b[0m\u001b[0;34m,\u001b[0m \u001b[0mself\u001b[0m\u001b[0;34m.\u001b[0m\u001b[0msource_code\u001b[0m\u001b[0;34m\u001b[0m\u001b[0;34m\u001b[0m\u001b[0m\n\u001b[0m\u001b[1;32m    463\u001b[0m             )\n\u001b[1;32m    464\u001b[0m             \u001b[0mself\u001b[0m\u001b[0;34m.\u001b[0m\u001b[0m_nloc\u001b[0m \u001b[0;34m=\u001b[0m \u001b[0manalysis\u001b[0m\u001b[0;34m.\u001b[0m\u001b[0mnloc\u001b[0m\u001b[0;34m\u001b[0m\u001b[0;34m\u001b[0m\u001b[0m\n",
      "\u001b[0;32m~/anaconda3/lib/python3.7/site-packages/lizard.py\u001b[0m in \u001b[0;36manalyze_source_code\u001b[0;34m(self, filename, code)\u001b[0m\n\u001b[1;32m    565\u001b[0m             \u001b[0;32mfor\u001b[0m \u001b[0mprocessor\u001b[0m \u001b[0;32min\u001b[0m \u001b[0mself\u001b[0m\u001b[0;34m.\u001b[0m\u001b[0mprocessors\u001b[0m\u001b[0;34m:\u001b[0m\u001b[0;34m\u001b[0m\u001b[0;34m\u001b[0m\u001b[0m\n\u001b[1;32m    566\u001b[0m                 \u001b[0mtokens\u001b[0m \u001b[0;34m=\u001b[0m \u001b[0mprocessor\u001b[0m\u001b[0;34m(\u001b[0m\u001b[0mtokens\u001b[0m\u001b[0;34m,\u001b[0m \u001b[0mreader\u001b[0m\u001b[0;34m)\u001b[0m\u001b[0;34m\u001b[0m\u001b[0;34m\u001b[0m\u001b[0m\n\u001b[0;32m--> 567\u001b[0;31m             \u001b[0;32mfor\u001b[0m \u001b[0m_\u001b[0m \u001b[0;32min\u001b[0m \u001b[0mreader\u001b[0m\u001b[0;34m(\u001b[0m\u001b[0mtokens\u001b[0m\u001b[0;34m,\u001b[0m \u001b[0mreader\u001b[0m\u001b[0;34m)\u001b[0m\u001b[0;34m:\u001b[0m\u001b[0;34m\u001b[0m\u001b[0;34m\u001b[0m\u001b[0m\n\u001b[0m\u001b[1;32m    568\u001b[0m                 \u001b[0;32mpass\u001b[0m\u001b[0;34m\u001b[0m\u001b[0;34m\u001b[0m\u001b[0m\n\u001b[1;32m    569\u001b[0m         \u001b[0;32mexcept\u001b[0m \u001b[0mRecursionError\u001b[0m \u001b[0;32mas\u001b[0m \u001b[0me\u001b[0m\u001b[0;34m:\u001b[0m\u001b[0;34m\u001b[0m\u001b[0;34m\u001b[0m\u001b[0m\n",
      "\u001b[0;32m~/anaconda3/lib/python3.7/site-packages/lizard_languages/code_reader.py\u001b[0m in \u001b[0;36m__call__\u001b[0;34m(self, tokens, reader)\u001b[0m\n\u001b[1;32m    159\u001b[0m     \u001b[0;32mdef\u001b[0m \u001b[0m__call__\u001b[0m\u001b[0;34m(\u001b[0m\u001b[0mself\u001b[0m\u001b[0;34m,\u001b[0m \u001b[0mtokens\u001b[0m\u001b[0;34m,\u001b[0m \u001b[0mreader\u001b[0m\u001b[0;34m)\u001b[0m\u001b[0;34m:\u001b[0m\u001b[0;34m\u001b[0m\u001b[0;34m\u001b[0m\u001b[0m\n\u001b[1;32m    160\u001b[0m         \u001b[0mself\u001b[0m\u001b[0;34m.\u001b[0m\u001b[0mcontext\u001b[0m \u001b[0;34m=\u001b[0m \u001b[0mreader\u001b[0m\u001b[0;34m.\u001b[0m\u001b[0mcontext\u001b[0m\u001b[0;34m\u001b[0m\u001b[0;34m\u001b[0m\u001b[0m\n\u001b[0;32m--> 161\u001b[0;31m         \u001b[0;32mfor\u001b[0m \u001b[0mtoken\u001b[0m \u001b[0;32min\u001b[0m \u001b[0mtokens\u001b[0m\u001b[0;34m:\u001b[0m\u001b[0;34m\u001b[0m\u001b[0;34m\u001b[0m\u001b[0m\n\u001b[0m\u001b[1;32m    162\u001b[0m             \u001b[0;32mfor\u001b[0m \u001b[0mstate\u001b[0m \u001b[0;32min\u001b[0m \u001b[0mself\u001b[0m\u001b[0;34m.\u001b[0m\u001b[0mparallel_states\u001b[0m\u001b[0;34m:\u001b[0m\u001b[0;34m\u001b[0m\u001b[0;34m\u001b[0m\u001b[0m\n\u001b[1;32m    163\u001b[0m                 \u001b[0mstate\u001b[0m\u001b[0;34m(\u001b[0m\u001b[0mtoken\u001b[0m\u001b[0;34m)\u001b[0m\u001b[0;34m\u001b[0m\u001b[0;34m\u001b[0m\u001b[0m\n",
      "\u001b[0;32m~/anaconda3/lib/python3.7/site-packages/lizard.py\u001b[0m in \u001b[0;36mcondition_counter\u001b[0;34m(tokens, reader)\u001b[0m\n\u001b[1;32m    531\u001b[0m \u001b[0;32mdef\u001b[0m \u001b[0mcondition_counter\u001b[0m\u001b[0;34m(\u001b[0m\u001b[0mtokens\u001b[0m\u001b[0;34m,\u001b[0m \u001b[0mreader\u001b[0m\u001b[0;34m)\u001b[0m\u001b[0;34m:\u001b[0m\u001b[0;34m\u001b[0m\u001b[0;34m\u001b[0m\u001b[0m\n\u001b[1;32m    532\u001b[0m     \u001b[0mconditions\u001b[0m \u001b[0;34m=\u001b[0m \u001b[0mreader\u001b[0m\u001b[0;34m.\u001b[0m\u001b[0mconditions\u001b[0m\u001b[0;34m\u001b[0m\u001b[0;34m\u001b[0m\u001b[0m\n\u001b[0;32m--> 533\u001b[0;31m     \u001b[0;32mfor\u001b[0m \u001b[0mtoken\u001b[0m \u001b[0;32min\u001b[0m \u001b[0mtokens\u001b[0m\u001b[0;34m:\u001b[0m\u001b[0;34m\u001b[0m\u001b[0;34m\u001b[0m\u001b[0m\n\u001b[0m\u001b[1;32m    534\u001b[0m         \u001b[0;32mif\u001b[0m \u001b[0mtoken\u001b[0m \u001b[0;32min\u001b[0m \u001b[0mconditions\u001b[0m\u001b[0;34m:\u001b[0m\u001b[0;34m\u001b[0m\u001b[0;34m\u001b[0m\u001b[0m\n\u001b[1;32m    535\u001b[0m             \u001b[0mreader\u001b[0m\u001b[0;34m.\u001b[0m\u001b[0mcontext\u001b[0m\u001b[0;34m.\u001b[0m\u001b[0madd_condition\u001b[0m\u001b[0;34m(\u001b[0m\u001b[0;34m)\u001b[0m\u001b[0;34m\u001b[0m\u001b[0;34m\u001b[0m\u001b[0m\n",
      "\u001b[0;32m~/anaconda3/lib/python3.7/site-packages/lizard.py\u001b[0m in \u001b[0;36mtoken_counter\u001b[0;34m(tokens, reader)\u001b[0m\n\u001b[1;32m    523\u001b[0m \u001b[0;32mdef\u001b[0m \u001b[0mtoken_counter\u001b[0m\u001b[0;34m(\u001b[0m\u001b[0mtokens\u001b[0m\u001b[0;34m,\u001b[0m \u001b[0mreader\u001b[0m\u001b[0;34m)\u001b[0m\u001b[0;34m:\u001b[0m\u001b[0;34m\u001b[0m\u001b[0;34m\u001b[0m\u001b[0m\n\u001b[1;32m    524\u001b[0m     \u001b[0mcontext\u001b[0m \u001b[0;34m=\u001b[0m \u001b[0mreader\u001b[0m\u001b[0;34m.\u001b[0m\u001b[0mcontext\u001b[0m\u001b[0;34m\u001b[0m\u001b[0;34m\u001b[0m\u001b[0m\n\u001b[0;32m--> 525\u001b[0;31m     \u001b[0;32mfor\u001b[0m \u001b[0mtoken\u001b[0m \u001b[0;32min\u001b[0m \u001b[0mtokens\u001b[0m\u001b[0;34m:\u001b[0m\u001b[0;34m\u001b[0m\u001b[0;34m\u001b[0m\u001b[0m\n\u001b[0m\u001b[1;32m    526\u001b[0m         \u001b[0mcontext\u001b[0m\u001b[0;34m.\u001b[0m\u001b[0mfileinfo\u001b[0m\u001b[0;34m.\u001b[0m\u001b[0mtoken_count\u001b[0m \u001b[0;34m+=\u001b[0m \u001b[0;36m1\u001b[0m\u001b[0;34m\u001b[0m\u001b[0;34m\u001b[0m\u001b[0m\n\u001b[1;32m    527\u001b[0m         \u001b[0mcontext\u001b[0m\u001b[0;34m.\u001b[0m\u001b[0mcurrent_function\u001b[0m\u001b[0;34m.\u001b[0m\u001b[0mtoken_count\u001b[0m \u001b[0;34m+=\u001b[0m \u001b[0;36m1\u001b[0m\u001b[0;34m\u001b[0m\u001b[0;34m\u001b[0m\u001b[0m\n",
      "\u001b[0;32m~/anaconda3/lib/python3.7/site-packages/lizard.py\u001b[0m in \u001b[0;36mline_counter\u001b[0;34m(tokens, reader)\u001b[0m\n\u001b[1;32m    512\u001b[0m         \u001b[0;32mif\u001b[0m \u001b[0mtoken\u001b[0m \u001b[0;34m!=\u001b[0m \u001b[0;34m\"\\n\"\u001b[0m\u001b[0;34m:\u001b[0m\u001b[0;34m\u001b[0m\u001b[0;34m\u001b[0m\u001b[0m\n\u001b[1;32m    513\u001b[0m             \u001b[0mcount\u001b[0m \u001b[0;34m=\u001b[0m \u001b[0mtoken\u001b[0m\u001b[0;34m.\u001b[0m\u001b[0mcount\u001b[0m\u001b[0;34m(\u001b[0m\u001b[0;34m'\\n'\u001b[0m\u001b[0;34m)\u001b[0m\u001b[0;34m\u001b[0m\u001b[0;34m\u001b[0m\u001b[0m\n\u001b[0;32m--> 514\u001b[0;31m             \u001b[0mcontext\u001b[0m\u001b[0;34m.\u001b[0m\u001b[0mcurrent_line\u001b[0m \u001b[0;34m+=\u001b[0m \u001b[0mcount\u001b[0m\u001b[0;34m\u001b[0m\u001b[0;34m\u001b[0m\u001b[0m\n\u001b[0m\u001b[1;32m    515\u001b[0m             \u001b[0mcontext\u001b[0m\u001b[0;34m.\u001b[0m\u001b[0madd_nloc\u001b[0m\u001b[0;34m(\u001b[0m\u001b[0mcount\u001b[0m \u001b[0;34m+\u001b[0m \u001b[0mnewline\u001b[0m\u001b[0;34m)\u001b[0m\u001b[0;34m\u001b[0m\u001b[0;34m\u001b[0m\u001b[0m\n\u001b[1;32m    516\u001b[0m             \u001b[0mnewline\u001b[0m \u001b[0;34m=\u001b[0m \u001b[0;36m0\u001b[0m\u001b[0;34m\u001b[0m\u001b[0;34m\u001b[0m\u001b[0m\n",
      "\u001b[0;31mKeyboardInterrupt\u001b[0m: "
     ]
    }
   ],
   "source": [
    "pbar = tqdm(zip(urls, names), total=len(urls), position=0, leave=True)\n",
    "with open('urls_logger', 'w') as f:\n",
    "    pass\n",
    "\n",
    "for url, name in pbar:\n",
    "    with open('urls_logger', 'a') as f:\n",
    "        f.write(url+'\\n')\n",
    "    if \n",
    "    print(url)\n",
    "    if not os.path.exists(f'tmp_repos/{name}'):\n",
    "        os.mkdir(f'tmp_repos/{name}')\n",
    "    repo = pydriller.Repository(url, clone_repo_to=f'tmp_repos/{name}', only_modifications_with_file_types='.py',\n",
    "                                num_workers=6)\n",
    "    try:\n",
    "        commits = list(repo.traverse_commits())\n",
    "    except:\n",
    "        shutil.rmtree(f'tmp_repos/{name}')\n",
    "        continue\n",
    "    \n",
    "    try:\n",
    "        repo_size, total_files, total_py_files = get_dir_size(f'tmp_repos/{name}')\n",
    "        # if total_files > 60: # or repo_size * 10e-6 > 300: # or total_py_files / total_files < 0.2:\n",
    "    except:\n",
    "        repo_size, total_files, total_py_files = -1, -1, -1\n",
    "    \n",
    "    for i, commit in enumerate(commits):\n",
    "        new_obj = {\n",
    "            'rep_url': url,\n",
    "            'rep_size_on_disk': repo_size,\n",
    "            'rep_total_files': total_files,\n",
    "            'rep_total_py_files': total_py_files,\n",
    "        }\n",
    "        \n",
    "        msg = commit.msg if commit.msg else ''\n",
    "        new_obj['com_msg'] = msg\n",
    "        \n",
    "        com_lang = ''\n",
    "        try:\n",
    "            com_lang = detect(commit.msg) != 'en'\n",
    "        except:\n",
    "            pass\n",
    "        new_obj['com_msg_lang'] = com_lang\n",
    "        new_obj['com_num_files'] = commit.files\n",
    "        \n",
    "        new_obj['com_hash'] = commit.hash\n",
    "        new_obj['com_author'] = commit.author.name\n",
    "        new_obj['com_committer'] = commit.committer.name\n",
    "        new_obj['committer_date'] = str(commit.committer_date)\n",
    "        new_obj['com_branches'] = list(commit.branches)\n",
    "        new_obj['com_in_main_branch'] = commit.in_main_branch\n",
    "        new_obj['com_merge'] = commit.merge\n",
    "        new_obj['com_deletions'] = commit.deletions\n",
    "        new_obj['com_insertions'] = commit.insertions\n",
    "        new_obj['com_lines'] = commit.lines\n",
    "        new_obj['com_dmm_unit_size'] = commit.dmm_unit_size\n",
    "        new_obj['com_dmm_unit_complexity'] = commit.dmm_unit_complexity\n",
    "        new_obj['com_dmm_unit_interfacing'] = commit.dmm_unit_interfacing\n",
    "        \n",
    "        len_mod_files = 0 \n",
    "        num_py_files = 0  \n",
    "        py2add_lines = {} \n",
    "        py2del_lines = {}  \n",
    "        py2nloc = {} \n",
    "        py2lines_before = {}\n",
    "        py2lines_after = {}\n",
    "        py2imports_before = {}\n",
    "        py2imports_after = {}\n",
    "        py2paths = {} \n",
    "        py2ch_type = {} \n",
    "        mod_files = commit.modified_files\n",
    "        for mod_id, mod_file in enumerate(mod_files):\n",
    "            len_mod_files += 1\n",
    "            if mod_file.filename[-3:] == '.py':\n",
    "                num_py_files += 1\n",
    "                file_name = f'{mod_id}_{mod_file.filename}'\n",
    "                py2nloc[file_name] = mod_file.nloc\n",
    "                py2add_lines[file_name] = mod_file.added_lines\n",
    "                py2del_lines[file_name] = mod_file.deleted_lines\n",
    "                py2paths[file_name] = [mod_file.old_path, mod_file.new_path]\n",
    "                py2ch_type[file_name] = mod_file.change_type.name\n",
    "                \n",
    "                try:\n",
    "                    code_before = mod_files[0].content_before.decode(\"utf-8\") \n",
    "                except:\n",
    "                    code_before = ''\n",
    "\n",
    "                try:\n",
    "                    code_after = mod_files[0].content.decode(\"utf-8\")\n",
    "                except:\n",
    "                    code_after = ''\n",
    "                \n",
    "                lines_before = code_before.strip().count('\\n') + 1\n",
    "                lines_after = code_after.strip().count('\\n') + 1\n",
    "                imports_before = get_modules_from_py(code_before)\n",
    "                imports_after = get_modules_from_py(code_after)\n",
    "                \n",
    "                py2lines_before[file_name] = lines_before\n",
    "                py2lines_after[file_name] = lines_after\n",
    "                py2imports_before[file_name] = imports_before\n",
    "                py2imports_after[file_name] = imports_after\n",
    "                \n",
    "                \n",
    "                \n",
    "        \n",
    "        \n",
    "        new_obj['com_len_mod_files'] = len_mod_files\n",
    "        new_obj['com_num_py_files'] = num_py_files\n",
    "        new_obj['com_py2add_lines'] = py2add_lines\n",
    "        new_obj['com_py2del_lines'] = py2del_lines\n",
    "        new_obj['com_py2paths'] = py2paths\n",
    "        new_obj['com_py2nloc'] = py2nloc\n",
    "        new_obj['com_py2lines_after'] = py2lines_after\n",
    "        new_obj['com_py2lines_before'] = py2lines_before\n",
    "        new_obj['com_py2imports_before'] = py2imports_before\n",
    "        new_obj['com_py2imports_after'] = py2imports_after\n",
    "        new_obj['com_py2ch_type'] = py2ch_type\n",
    "        \n",
    "        with jsonlines.open(\"collected_info.jsonl\", \"a\") as writer:   # for writing\n",
    "            writer.write(new_obj)\n",
    "    \n",
    "    shutil.rmtree(f'tmp_repos/{name}')\n",
    "    # pbar.set_postfix({'num_good': counter, 'num_good_no_filter': counter_no_fiters})"
   ]
  },
  {
   "cell_type": "code",
   "execution_count": null,
   "metadata": {},
   "outputs": [],
   "source": [
    "1"
   ]
  },
  {
   "cell_type": "code",
   "execution_count": null,
   "metadata": {},
   "outputs": [],
   "source": []
  }
 ],
 "metadata": {
  "kernelspec": {
   "display_name": "Python 3",
   "language": "python",
   "name": "python3"
  },
  "language_info": {
   "codemirror_mode": {
    "name": "ipython",
    "version": 3
   },
   "file_extension": ".py",
   "mimetype": "text/x-python",
   "name": "python",
   "nbconvert_exporter": "python",
   "pygments_lexer": "ipython3",
   "version": "3.7.7"
  }
 },
 "nbformat": 4,
 "nbformat_minor": 2
}
