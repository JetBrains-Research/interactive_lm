{
 "cells": [
  {
   "cell_type": "code",
   "execution_count": 1,
   "metadata": {},
   "outputs": [
    {
     "name": "stdout",
     "output_type": "stream",
     "text": [
      "Mon Feb 27 18:59:44 2023       \n",
      "+-----------------------------------------------------------------------------+\n",
      "| NVIDIA-SMI 525.85.12    Driver Version: 525.85.12    CUDA Version: 12.0     |\n",
      "|-------------------------------+----------------------+----------------------+\n",
      "| GPU  Name        Persistence-M| Bus-Id        Disp.A | Volatile Uncorr. ECC |\n",
      "| Fan  Temp  Perf  Pwr:Usage/Cap|         Memory-Usage | GPU-Util  Compute M. |\n",
      "|                               |                      |               MIG M. |\n",
      "|===============================+======================+======================|\n",
      "|   0  Tesla T4            On   | 00000000:00:04.0 Off |                    0 |\n",
      "| N/A   77C    P0    77W /  70W |  12129MiB / 15360MiB |     97%      Default |\n",
      "|                               |                      |                  N/A |\n",
      "+-------------------------------+----------------------+----------------------+\n",
      "|   1  Tesla T4            On   | 00000000:00:05.0 Off |                    0 |\n",
      "| N/A   36C    P8    12W /  70W |      2MiB / 15360MiB |      0%      Default |\n",
      "|                               |                      |                  N/A |\n",
      "+-------------------------------+----------------------+----------------------+\n",
      "|   2  Tesla T4            On   | 00000000:00:06.0 Off |                    0 |\n",
      "| N/A   41C    P8    12W /  70W |      2MiB / 15360MiB |      0%      Default |\n",
      "|                               |                      |                  N/A |\n",
      "+-------------------------------+----------------------+----------------------+\n",
      "|   3  Tesla T4            On   | 00000000:00:07.0 Off |                    0 |\n",
      "| N/A   42C    P8    12W /  70W |      2MiB / 15360MiB |      0%      Default |\n",
      "|                               |                      |                  N/A |\n",
      "+-------------------------------+----------------------+----------------------+\n",
      "                                                                               \n",
      "+-----------------------------------------------------------------------------+\n",
      "| Processes:                                                                  |\n",
      "|  GPU   GI   CI        PID   Type   Process name                  GPU Memory |\n",
      "|        ID   ID                                                   Usage      |\n",
      "|=============================================================================|\n",
      "|    0   N/A  N/A      7631      C   ...pkin/anaconda3/bin/python    12124MiB |\n",
      "+-----------------------------------------------------------------------------+\n"
     ]
    }
   ],
   "source": [
    "!nvidia-smi"
   ]
  },
  {
   "cell_type": "code",
   "execution_count": 2,
   "metadata": {},
   "outputs": [],
   "source": [
    "import sys\n",
    "sys.path.append('..')"
   ]
  },
  {
   "cell_type": "code",
   "execution_count": 3,
   "metadata": {},
   "outputs": [],
   "source": [
    "import os\n",
    "os.environ['TOKENIZERS_PARALLELISM']='true'\n",
    "os.environ['CUDA_VISIBLE_DEVICES']='3'"
   ]
  },
  {
   "cell_type": "code",
   "execution_count": 4,
   "metadata": {},
   "outputs": [],
   "source": [
    "import re\n",
    "import os\n",
    "import torch\n",
    "import json\n",
    "import numpy as np\n",
    "import pandas as pd\n",
    "import seaborn as sns\n",
    "import transformers\n",
    "import catalyst\n",
    "import matplotlib.pyplot as plt\n",
    "import warnings\n",
    "warnings.filterwarnings(\"ignore\")\n",
    "\n",
    "from transformers import T5Tokenizer, T5TokenizerFast, T5ForConditionalGeneration\n",
    "from transformers.tokenization_utils import PreTrainedTokenizer\n",
    "from transformers.tokenization_utils_fast import PreTrainedTokenizerFast\n",
    "from typing import Callable, Union, Tuple\n",
    "from catalyst.loggers.wandb import WandbLogger\n",
    "from tqdm.notebook import tqdm\n",
    "from collections import Counter\n",
    "from torch import nn\n",
    "from catalyst import dl\n",
    "from catalyst.callbacks.periodic_loader import PeriodicLoaderCallback\n",
    "from langdetect import detect\n",
    "from easse.sari import corpus_sari\n",
    "from rouge import Rouge \n",
    "\n",
    "from utils.dataset_utils import extract_com8text_from_tgt, extract_text8docs_from_src\n",
    "from utils.dataset_utils import EditDataset, get_tgt, get_src, COM_SEP, TEXT_SEP_SRC, TEXT_SEP_TGT, DOCS_SEP\n",
    "from utils.metrics_utils import PeerEditMetricsCallback\n",
    "from utils.config import Config\n",
    "\n",
    "\n",
    "DOCS_DIR = 'data'\n",
    "PAGES_DIR = 'data'"
   ]
  },
  {
   "cell_type": "code",
   "execution_count": 5,
   "metadata": {},
   "outputs": [],
   "source": [
    "CONFIG = Config()\n",
    "CONFIG.seed = 1337"
   ]
  },
  {
   "cell_type": "code",
   "execution_count": 6,
   "metadata": {},
   "outputs": [],
   "source": [
    "import random\n",
    "\n",
    "random.seed(CONFIG.seed)\n",
    "os.environ['PYTHONHASHSEED'] = str(CONFIG.seed)\n",
    "np.random.seed(CONFIG.seed)\n",
    "torch.manual_seed(CONFIG.seed)\n",
    "torch.cuda.manual_seed(CONFIG.seed)\n",
    "torch.backends.cudnn.deterministic = True\n",
    "torch.backends.cudnn.benchmark = True"
   ]
  },
  {
   "cell_type": "markdown",
   "metadata": {},
   "source": [
    "## Data preparing"
   ]
  },
  {
   "cell_type": "code",
   "execution_count": 7,
   "metadata": {},
   "outputs": [],
   "source": [
    "mp = json.load(open(r\"../data/column_mapper.json\"))\n",
    "\n",
    "train = pd.read_json(r'../data/new_train.json')\n",
    "train.set_axis(mp.values(), axis='columns', inplace=True)\n",
    "\n",
    "test = pd.read_json(r'../data/new_test.json')\n",
    "test.set_axis(mp.values(), axis='columns', inplace=True)\n",
    "\n",
    "val = pd.read_json(r'../data/new_val.json')\n",
    "val.set_axis(mp.values(), axis='columns', inplace=True)\n",
    "val1 = val.sample(600)"
   ]
  },
  {
   "cell_type": "code",
   "execution_count": 8,
   "metadata": {},
   "outputs": [
    {
     "data": {
      "text/html": [
       "<div>\n",
       "<style scoped>\n",
       "    .dataframe tbody tr th:only-of-type {\n",
       "        vertical-align: middle;\n",
       "    }\n",
       "\n",
       "    .dataframe tbody tr th {\n",
       "        vertical-align: top;\n",
       "    }\n",
       "\n",
       "    .dataframe thead th {\n",
       "        text-align: right;\n",
       "    }\n",
       "</style>\n",
       "<table border=\"1\" class=\"dataframe\">\n",
       "  <thead>\n",
       "    <tr style=\"text-align: right;\">\n",
       "      <th></th>\n",
       "      <th>obj_id</th>\n",
       "      <th>old_text</th>\n",
       "      <th>new_text</th>\n",
       "      <th>comment</th>\n",
       "      <th>docs</th>\n",
       "      <th>diff</th>\n",
       "      <th>title</th>\n",
       "      <th>search_queries</th>\n",
       "      <th>counter_found_docs</th>\n",
       "      <th>section_name</th>\n",
       "      <th>is_good</th>\n",
       "      <th>docs_processed</th>\n",
       "    </tr>\n",
       "  </thead>\n",
       "  <tbody>\n",
       "    <tr>\n",
       "      <th>0</th>\n",
       "      <td>1005</td>\n",
       "      <td>In rural regions of Germany, especially the Ha...</td>\n",
       "      <td>In rural regions of Germany, especially the Ha...</td>\n",
       "      <td>/* Germany */ grammar</td>\n",
       "      <td>Apr 30, 2020 — Depending on whom you ask, May ...</td>\n",
       "      <td>this opportunity to party,</td>\n",
       "      <td>May Day</td>\n",
       "      <td>[May Day Germany this opportunity to party,]</td>\n",
       "      <td>[27]</td>\n",
       "      <td>Germany</td>\n",
       "      <td>True</td>\n",
       "      <td>DOC0: Apr 30, 2020 — Depending on whom you ask...</td>\n",
       "    </tr>\n",
       "    <tr>\n",
       "      <th>1</th>\n",
       "      <td>55</td>\n",
       "      <td>\"This is the new WikiPedia!\" \\n-HomePage, the ...</td>\n",
       "      <td>\"This is the new WikiPedia!\" \\n-HomePage, the ...</td>\n",
       "      <td>Added subpage</td>\n",
       "      <td>English: Results of the 1929 New York City ald...</td>\n",
       "      <td>\\n*/New York City Board of Aldermen</td>\n",
       "      <td>John M Wolfson</td>\n",
       "      <td>[John M Wolfson \\n*/New York City Board of Ald...</td>\n",
       "      <td>[10, 4]</td>\n",
       "      <td></td>\n",
       "      <td>True</td>\n",
       "      <td>DOC0: English: Results of the 1929 New York Ci...</td>\n",
       "    </tr>\n",
       "    <tr>\n",
       "      <th>2</th>\n",
       "      <td>2329</td>\n",
       "      <td>Ares (Ancient Greek:  , Μodern Greek: Άρης ) i...</td>\n",
       "      <td>Ares (Ancient Greek:  , Μodern Greek: Άρης ) i...</td>\n",
       "      <td>repaired link to 'masculinity' ~~~~</td>\n",
       "      <td>Apr 7, 2014 — Let's explore the essence of mas...</td>\n",
       "      <td>masculinity, integrity, and personal courage.</td>\n",
       "      <td>Ares</td>\n",
       "      <td>[Ares masculinity, integrity, and personal cou...</td>\n",
       "      <td>[30]</td>\n",
       "      <td></td>\n",
       "      <td>True</td>\n",
       "      <td>DOC0: Apr 7, 2014 — Let's explore the essence ...</td>\n",
       "    </tr>\n",
       "    <tr>\n",
       "      <th>3</th>\n",
       "      <td>17206</td>\n",
       "      <td>Peter Velhorn (born 24 November 1932) is a Ger...</td>\n",
       "      <td>Peter Velhorn (24 November 1932 – 20 July 2016...</td>\n",
       "      <td>Passed away 2016, look at German article</td>\n",
       "      <td>Peter Velhorn (24 November 1932 – 20 July 2016...</td>\n",
       "      <td>– 20 July 2016</td>\n",
       "      <td>Peter Velhorn</td>\n",
       "      <td>[Peter Velhorn  – 20 July 2016]</td>\n",
       "      <td>[23]</td>\n",
       "      <td></td>\n",
       "      <td>True</td>\n",
       "      <td>DOC0: Peter Velhorn (24 November 1932 – 20 Jul...</td>\n",
       "    </tr>\n",
       "    <tr>\n",
       "      <th>4</th>\n",
       "      <td>47</td>\n",
       "      <td>Michael Palin was educated at Birkdale School,...</td>\n",
       "      <td>Michael Palin was educated at Birkdale School,...</td>\n",
       "      <td>/* Early career */ added info</td>\n",
       "      <td>Michael Palin, Nightingale House, in Clapham, ...</td>\n",
       "      <td>, Graeme Garden, Bill Oddie and Jonathan Lynn</td>\n",
       "      <td>Michael Palin</td>\n",
       "      <td>[Michael Palin  Early career , Graeme Garden, ...</td>\n",
       "      <td>[29]</td>\n",
       "      <td>Early career</td>\n",
       "      <td>True</td>\n",
       "      <td>DOC0: Michael Palin, Nightingale House, in Cla...</td>\n",
       "    </tr>\n",
       "  </tbody>\n",
       "</table>\n",
       "</div>"
      ],
      "text/plain": [
       "   obj_id                                           old_text  \\\n",
       "0    1005  In rural regions of Germany, especially the Ha...   \n",
       "1      55  \"This is the new WikiPedia!\" \\n-HomePage, the ...   \n",
       "2    2329  Ares (Ancient Greek:  , Μodern Greek: Άρης ) i...   \n",
       "3   17206  Peter Velhorn (born 24 November 1932) is a Ger...   \n",
       "4      47  Michael Palin was educated at Birkdale School,...   \n",
       "\n",
       "                                            new_text  \\\n",
       "0  In rural regions of Germany, especially the Ha...   \n",
       "1  \"This is the new WikiPedia!\" \\n-HomePage, the ...   \n",
       "2  Ares (Ancient Greek:  , Μodern Greek: Άρης ) i...   \n",
       "3  Peter Velhorn (24 November 1932 – 20 July 2016...   \n",
       "4  Michael Palin was educated at Birkdale School,...   \n",
       "\n",
       "                                    comment  \\\n",
       "0                     /* Germany */ grammar   \n",
       "1                             Added subpage   \n",
       "2       repaired link to 'masculinity' ~~~~   \n",
       "3  Passed away 2016, look at German article   \n",
       "4             /* Early career */ added info   \n",
       "\n",
       "                                                docs  \\\n",
       "0  Apr 30, 2020 — Depending on whom you ask, May ...   \n",
       "1  English: Results of the 1929 New York City ald...   \n",
       "2  Apr 7, 2014 — Let's explore the essence of mas...   \n",
       "3  Peter Velhorn (24 November 1932 – 20 July 2016...   \n",
       "4  Michael Palin, Nightingale House, in Clapham, ...   \n",
       "\n",
       "                                            diff           title  \\\n",
       "0                     this opportunity to party,         May Day   \n",
       "1            \\n*/New York City Board of Aldermen  John M Wolfson   \n",
       "2  masculinity, integrity, and personal courage.            Ares   \n",
       "3                                 – 20 July 2016   Peter Velhorn   \n",
       "4  , Graeme Garden, Bill Oddie and Jonathan Lynn   Michael Palin   \n",
       "\n",
       "                                      search_queries counter_found_docs  \\\n",
       "0       [May Day Germany this opportunity to party,]               [27]   \n",
       "1  [John M Wolfson \\n*/New York City Board of Ald...            [10, 4]   \n",
       "2  [Ares masculinity, integrity, and personal cou...               [30]   \n",
       "3                    [Peter Velhorn  – 20 July 2016]               [23]   \n",
       "4  [Michael Palin  Early career , Graeme Garden, ...               [29]   \n",
       "\n",
       "     section_name  is_good                                     docs_processed  \n",
       "0         Germany     True  DOC0: Apr 30, 2020 — Depending on whom you ask...  \n",
       "1                     True  DOC0: English: Results of the 1929 New York Ci...  \n",
       "2                     True  DOC0: Apr 7, 2014 — Let's explore the essence ...  \n",
       "3                     True  DOC0: Peter Velhorn (24 November 1932 – 20 Jul...  \n",
       "4   Early career      True  DOC0: Michael Palin, Nightingale House, in Cla...  "
      ]
     },
     "execution_count": 8,
     "metadata": {},
     "output_type": "execute_result"
    }
   ],
   "source": [
    "train.head()"
   ]
  },
  {
   "cell_type": "markdown",
   "metadata": {},
   "source": [
    "# Fruit preprocessing"
   ]
  },
  {
   "cell_type": "code",
   "execution_count": 9,
   "metadata": {},
   "outputs": [],
   "source": [
    "from nltk.tokenize import sent_tokenize"
   ]
  },
  {
   "cell_type": "code",
   "execution_count": 10,
   "metadata": {},
   "outputs": [],
   "source": [
    "def clean_closing(text: str):\n",
    "    text_sents = text.split('\\n')\n",
    "    ans = []\n",
    "    for snt in text_sents:\n",
    "        snt = snt.strip()\n",
    "        if len(snt) > 0:\n",
    "            if '[' in snt and snt.strip()[-2:] == ']]':\n",
    "                continue\n",
    "            if snt.strip()[-1] == ']':\n",
    "                continue\n",
    "            if snt.strip()[0] == '|' or snt.strip()[:2] == '{|' or snt.strip()[-2:] == '|}':\n",
    "                continue\n",
    "            if snt.strip()[-2:] == '--' or snt.strip()[0] == ':' or snt.strip()[0] == '!':\n",
    "                continue\n",
    "        sns = snt.replace('*/', '*').replace('/*', '*').replace('\\t', ' ').replace('*', '* ').replace('  ', ' ')\n",
    "        sns = sns.replace('  ', ' ').replace('  ', ' ').replace('  ', ' ')\n",
    "        if len(sns) > 0:\n",
    "            aaa = list(re.findall(r'[^\\w\\s]', sns[-1]))\n",
    "            if aaa and len(aaa) > 0:\n",
    "                ans.append(sns)\n",
    "            else:\n",
    "                ans.append(sns + '.')\n",
    "        else:\n",
    "            ans.append(sns)\n",
    "    return '\\n'.join(ans).strip()"
   ]
  },
  {
   "cell_type": "code",
   "execution_count": 11,
   "metadata": {},
   "outputs": [],
   "source": [
    "def numerate_sents(old_text, new_text):\n",
    "    old_text_clean = clean_closing(old_text)\n",
    "    new_text_clean = clean_closing(new_text)\n",
    "    \n",
    "    old_text_sents = sent_tokenize(old_text_clean)\n",
    "    new_text_sents = sent_tokenize(new_text_clean)\n",
    "    \n",
    "    sent2idx = {k:v for v, k in enumerate(old_text_sents)}\n",
    "    old_ans, new_ans = [], []\n",
    "    for sent in new_text_sents:\n",
    "        if sent in sent2idx:\n",
    "            new_sent = f\"[{sent2idx[sent]}]\"\n",
    "        else:\n",
    "            new_sent = sent\n",
    "        new_ans.append(new_sent)\n",
    "    \n",
    "    for sent_idx, sent in enumerate(old_text_sents):\n",
    "        new_sent = f\"[{sent_idx}] {sent}\"\n",
    "        old_ans.append(new_sent)\n",
    "    \n",
    "    old_ans_txt = ' '.join(old_ans)\n",
    "    new_ans_txt = ' '.join(new_ans)\n",
    "    return (old_ans_txt, new_ans_txt)"
   ]
  },
  {
   "cell_type": "code",
   "execution_count": 12,
   "metadata": {},
   "outputs": [],
   "source": [
    "idx = 1\n",
    "el_idx = train.iloc[idx]\n",
    "\n",
    "docs = el_idx['docs_processed']\n",
    "comment = el_idx['comment']\n",
    "old_text = el_idx['old_text']\n",
    "new_text = el_idx['new_text']"
   ]
  },
  {
   "cell_type": "code",
   "execution_count": 13,
   "metadata": {},
   "outputs": [
    {
     "data": {
      "text/plain": [
       "('[0] \"This is the new WikiPedia!\" [1] -HomePage, the first ever article created on Wikipedia, created by office.bomis.com on Mon, 15 Jan 2001 19:27:13. [2] Interested in Chicago and urban history, and other things. [3] SUBPAGES (Excl. [4] Sandbox):\\n* Chicago aldermanic notability. [5] * Louis B. Anderson. [6] * Chicago City Council since 1923. [7] * Town of Chicago. [8] \"FORMER\" SUBPAGES (content moved elsewhere, now serving as redirects):\\n* Notabilitymandering. [9] * List of Chicago aldermen since 1923. [10] * Chicago aldermanic elections before 1923.',\n",
       " '[0] [1] [2] [3] [4] [5] [6] [7] * New York City Board of Aldermen. [8] [9] [10]')"
      ]
     },
     "execution_count": 13,
     "metadata": {},
     "output_type": "execute_result"
    }
   ],
   "source": [
    "numerate_sents(old_text, new_text)"
   ]
  },
  {
   "cell_type": "code",
   "execution_count": 14,
   "metadata": {},
   "outputs": [],
   "source": [
    "train['numerate_ans'] = train.apply(lambda x: numerate_sents(x['old_text'], x['new_text']), axis=1)\n",
    "test['numerate_ans'] = test.apply(lambda x: numerate_sents(x['old_text'], x['new_text']), axis=1)\n",
    "val['numerate_ans'] = val.apply(lambda x: numerate_sents(x['old_text'], x['new_text']), axis=1)\n",
    "val1['numerate_ans'] = val1.apply(lambda x: numerate_sents(x['old_text'], x['new_text']), axis=1)\n",
    "\n",
    "train['old_text'] = train['numerate_ans'].apply(lambda x: x[0])\n",
    "train['new_text'] = train['numerate_ans'].apply(lambda x: x[1])\n",
    "test['old_text'] = test['numerate_ans'].apply(lambda x: x[0])\n",
    "test['new_text'] = test['numerate_ans'].apply(lambda x: x[1])\n",
    "val['old_text'] = val['numerate_ans'].apply(lambda x: x[0])\n",
    "val['new_text'] = val['numerate_ans'].apply(lambda x: x[1])\n",
    "val1['old_text'] = val1['numerate_ans'].apply(lambda x: x[0])\n",
    "val1['new_text'] = val1['numerate_ans'].apply(lambda x: x[1])"
   ]
  },
  {
   "cell_type": "code",
   "execution_count": null,
   "metadata": {},
   "outputs": [],
   "source": []
  },
  {
   "cell_type": "code",
   "execution_count": 15,
   "metadata": {},
   "outputs": [],
   "source": [
    "CONFIG.src_max_len = 1024\n",
    "CONFIG.tgt_max_len = 512\n",
    "CONFIG.pretrained = 't5-small'\n",
    "CONFIG.batch_size = 4\n",
    "\n",
    "tokenizer = T5Tokenizer.from_pretrained(CONFIG.pretrained, model_max_length=CONFIG.src_max_len)"
   ]
  },
  {
   "cell_type": "code",
   "execution_count": 16,
   "metadata": {
    "scrolled": true
   },
   "outputs": [
    {
     "name": "stdout",
     "output_type": "stream",
     "text": [
      "Old text: [0] \"This is the new WikiPedia!\" [1] -HomePage, the first ever article created on Wikipedia, created by office.bomis.com on Mon, 15 Jan 2001 19:27:13. [2] Interested in Chicago and urban history, and other things. [3] SUBPAGES (Excl. [4] Sandbox):\n",
      "* Chicago aldermanic notability. [5] * Louis B. Anderson. [6] * Chicago City Council since 1923. [7] * Town of Chicago. [8] \"FORMER\" SUBPAGES (content moved elsewhere, now serving as redirects):\n",
      "* Notabilitymandering. [9] * List of Chicago aldermen since 1923. [10] * Chicago aldermanic elections before 1923.\n",
      "\n",
      "\n",
      "New text: [0] [1] [2] [3] [4] [5] [6] [7] * New York City Board of Aldermen. [8] [9] [10]\n",
      "\n",
      "\n",
      "Comment: Added subpage\n",
      "\n",
      "\n",
      "Docs: DOC0: English: Results of the 1929 New York City aldermanic presidential election by assembly district. Color scheme is the same of those of similar maps DOC1: The New York City Board of Aldermen was a body that was the upper house of New York City's Common Council from 1824 to 1875, the lower house of its DOC2: English. Results of the 1929 New York City aldermanic presidential election by assembly district.. Source, Own work. Author, John M Wolfson DOC3: Comptroller of City of N. Y., as Cus- todian of N. Y. City Employees' Re- tirement System. Department of Health. 79621. 5-10-26 John J. Kearney DOC4: THE BOARD OF ALDERMEN OF THE CITY OF. NEW YORK. bine lane, Queens ; Leo Wolfson, 250 Riverside drive, Manhattan ; Joseph. J. M. Chaplain, Inc DOC5: Episcopal Zion Churches. . 144 Agricultural Dept, of State N.  Y. . . . 141 Aldermen. Board of 1.S7 Ambulance Board 139 Am. Museum of Natural History\n",
      "\n",
      "\n",
      "Src: TEXT_SEP [0] \"this is the new wikipedia!\" [1] -homepage, the first ever article created on wikipedia, created by office.bomis.com on mon, 15 jan 2001 19:27:13. [2] interested in chicago and urban history, and other things. [3] subpages (excl. [4] sandbox):\n",
      "* chicago aldermanic notability. [5] * louis b. anderson. [6] * chicago city council since 1923. [7] * town of chicago. [8] \"former\" subpages (content moved elsewhere, now serving as redirects):\n",
      "* notabilitymandering. [9] * list of chicago aldermen since 1923. [10] * chicago aldermanic elections before 1923. DOCS_SEP doc0: english: results of the 1929 new york city aldermanic presidential election by assembly district. color scheme is the same of those of similar maps doc1: the new york city board of aldermen was a body that was the upper house of new york city's common council from 1824 to 1875, the lower house of its doc2: english. results of the 1929 new york city aldermanic presidential election by assembly district.. source, own work. author, john m wolfson doc3: comptroller of city of n. y., as cus- todian of n. y. city employees' re- tirement system. department of health. 79621. 5-10-26 john j. kearney doc4: the board of aldermen of the city of. new york. bine lane, queens ; leo wolfson, 250 riverside drive, manhattan ; joseph. j. m. chaplain, inc doc5: episcopal zion churches. . 144 agricultural dept, of state n.  y. . . . 141 aldermen. board of 1.s7 ambulance board 139 am. museum of natural history\n",
      "\n",
      "\n",
      "Tgt: COM_SEP added subpage TEXT_SEP [0] [1] [2] [3] [4] [5] [6] [7] * new york city board of aldermen. [8] [9] [10]\n",
      "\n",
      "\n",
      "Extracted Old text: [0] \"this is the new wikipedia!\" [1] -homepage, the first ever article created on wikipedia, created by office.bomis.com on mon, 15 jan 2001 19:27:13. [2] interested in chicago and urban history, and other things. [3] subpages (excl. [4] sandbox):\n",
      "* chicago aldermanic notability. [5] * louis b. anderson. [6] * chicago city council since 1923. [7] * town of chicago. [8] \"former\" subpages (content moved elsewhere, now serving as redirects):\n",
      "* notabilitymandering. [9] * list of chicago aldermen since 1923. [10] * chicago aldermanic elections before 1923.\n",
      "\n",
      "\n",
      "Extracted New text: [0] [1] [2] [3] [4] [5] [6] [7] * new york city board of aldermen. [8] [9] [10]\n",
      "\n",
      "\n",
      "Extracted Comment: COM_SEP added subpage\n",
      "\n",
      "\n",
      "Extracted Docs: doc0: english: results of the 1929 new york city aldermanic presidential election by assembly district. color scheme is the same of those of similar maps doc1: the new york city board of aldermen was a body that was the upper house of new york city's common council from 1824 to 1875, the lower house of its doc2: english. results of the 1929 new york city aldermanic presidential election by assembly district.. source, own work. author, john m wolfson doc3: comptroller of city of n. y., as cus- todian of n. y. city employees' re- tirement system. department of health. 79621. 5-10-26 john j. kearney doc4: the board of aldermen of the city of. new york. bine lane, queens ; leo wolfson, 250 riverside drive, manhattan ; joseph. j. m. chaplain, inc doc5: episcopal zion churches. . 144 agricultural dept, of state n.  y. . . . 141 aldermen. board of 1.s7 ambulance board 139 am. museum of natural history\n",
      "\n",
      "\n"
     ]
    }
   ],
   "source": [
    "idx = 1\n",
    "el_idx = train.iloc[idx]\n",
    "\n",
    "docs = el_idx['docs_processed']\n",
    "comment = el_idx['comment']\n",
    "old_text = el_idx['old_text']\n",
    "new_text = el_idx['new_text']\n",
    "\n",
    "print(f'Old text: {old_text}\\n\\n')\n",
    "print(f'New text: {new_text}\\n\\n')\n",
    "print(f'Comment: {comment}\\n\\n')\n",
    "print(f'Docs: {docs}\\n\\n')\n",
    "\n",
    "src = get_src(el_idx)\n",
    "tgt = get_tgt(el_idx)\n",
    "\n",
    "print(f'Src: {src}\\n\\n')\n",
    "print(f'Tgt: {tgt}\\n\\n')\n",
    "\n",
    "comment, new_text = extract_com8text_from_tgt(tgt)\n",
    "old_text, docs = extract_text8docs_from_src(src)\n",
    "\n",
    "print(f'Extracted Old text: {old_text}\\n\\n')\n",
    "print(f'Extracted New text: {new_text}\\n\\n')\n",
    "print(f'Extracted Comment: {comment}\\n\\n')\n",
    "print(f'Extracted Docs: {docs}\\n\\n')"
   ]
  },
  {
   "cell_type": "markdown",
   "metadata": {},
   "source": [
    "**Make dataset**"
   ]
  },
  {
   "cell_type": "code",
   "execution_count": 17,
   "metadata": {},
   "outputs": [],
   "source": [
    "ds_train = EditDataset(train, tokenizer, CONFIG, text_to_lower=True, comment_to_lower=True)\n",
    "ds_val = EditDataset(val1, tokenizer, CONFIG, text_to_lower=True, comment_to_lower=True)\n",
    "ds_val_full = EditDataset(val, tokenizer, CONFIG, text_to_lower=True, comment_to_lower=True)"
   ]
  },
  {
   "cell_type": "markdown",
   "metadata": {},
   "source": [
    "**Len distribution**"
   ]
  },
  {
   "cell_type": "code",
   "execution_count": 18,
   "metadata": {},
   "outputs": [
    {
     "data": {
      "image/png": "[encoded data removed]",
      "text/plain": [
       "<Figure size 640x480 with 1 Axes>"
      ]
     },
     "metadata": {},
     "output_type": "display_data"
    }
   ],
   "source": [
    "arr_src = []\n",
    "arr_tgt = []\n",
    "for src_q, tgt_q in ds_train:\n",
    "    arr_src.append(len(src_q['input_ids']))\n",
    "    arr_tgt.append(len(tgt_q['input_ids']))\n",
    "\n",
    "sns.distplot(arr_src, label='src');\n",
    "plt.legend();\n",
    "sns.distplot(arr_tgt, label='tgt');\n",
    "plt.legend();"
   ]
  },
  {
   "cell_type": "code",
   "execution_count": 19,
   "metadata": {},
   "outputs": [
    {
     "data": {
      "image/png": "[encoded data removed]",
      "text/plain": [
       "<Figure size 640x480 with 1 Axes>"
      ]
     },
     "metadata": {},
     "output_type": "display_data"
    }
   ],
   "source": [
    "arr_src = []\n",
    "arr_tgt = []\n",
    "for src_q, tgt_q in ds_val:\n",
    "    arr_src.append(len(src_q['input_ids']))\n",
    "    arr_tgt.append(len(tgt_q['input_ids']))\n",
    "\n",
    "sns.distplot(arr_src, label='src');\n",
    "plt.legend();\n",
    "sns.distplot(arr_tgt, label='tgt');\n",
    "plt.legend();"
   ]
  },
  {
   "cell_type": "code",
   "execution_count": 20,
   "metadata": {},
   "outputs": [],
   "source": [
    "idx_num = 100\n",
    "src_text = tokenizer.decode(ds_train[idx_num][0]['input_ids'], skip_special_tokens=True)\n",
    "tgt_text = tokenizer.decode(ds_train[idx_num][1]['input_ids'], skip_special_tokens=True)"
   ]
  },
  {
   "cell_type": "code",
   "execution_count": 21,
   "metadata": {
    "scrolled": true
   },
   "outputs": [
    {
     "name": "stdout",
     "output_type": "stream",
     "text": [
      "TEXT_SEP [0] artheneidae is a family of true bugs in the order hemiptera. [1] there are about 7 genera and at least 20 described species in artheneidae. DOCS_SEP doc0: artheneidae is a family of true bugs in the order hemiptera. it was formerly included in lygaeidae. there are about 7 genera and at least 20 described doc1: the family was vastly larger, but numerous former subfamilies have been removed and given independent family status, including the artheneidae, blissidae, doc2: artheneidae is a family of true bugs in the order hemiptera. it was formerly included in lygaeidae.[1] there are about 7 genera and at least 20 described doc3: may 31, 2009 — formerly treated under lygaeidae. numbers. \"key to species of artheneidae of north america (from hoffman 1996)(3): doc4: items 1 - 20 of 15671 — the lygaeidae are a family in the hemiptera (true bugs),. the family was vastly larger, but numerous former subfamilies have been doc5: the family used to be vastly larger, as numerous former subfamilies have been removed and given independent family status, including artheneidae, blissidae,\n",
      "\n",
      "COM_SEP mention split from [[lygaeidae]] TEXT_SEP [0] it was formerly included in lygaeidae. [1]\n"
     ]
    }
   ],
   "source": [
    "print(f'{src_text}\\n\\n{tgt_text}')"
   ]
  },
  {
   "cell_type": "markdown",
   "metadata": {},
   "source": [
    "## Model training"
   ]
  },
  {
   "cell_type": "code",
   "execution_count": 22,
   "metadata": {},
   "outputs": [],
   "source": [
    "loaders = {\n",
    "    'train': torch.utils.data.DataLoader(ds_train, \n",
    "                                         batch_size=CONFIG.batch_size,\n",
    "                                         collate_fn=lambda x: EditDataset.collate_fn(x, tokenizer, CONFIG),\n",
    "                                         num_workers=4, shuffle=True),\n",
    "    'valid_full': torch.utils.data.DataLoader(ds_val_full, \n",
    "                                         batch_size=CONFIG.batch_size,\n",
    "                                         collate_fn=lambda x: EditDataset.collate_fn(x, tokenizer, CONFIG),\n",
    "                                         num_workers=4, shuffle=False),\n",
    "    'valid_subset': torch.utils.data.DataLoader(ds_val, \n",
    "                                         batch_size=CONFIG.batch_size,\n",
    "                                         collate_fn=lambda x: EditDataset.collate_fn(x, tokenizer, CONFIG),\n",
    "                                         num_workers=4, shuffle=False)\n",
    "}"
   ]
  },
  {
   "cell_type": "code",
   "execution_count": 23,
   "metadata": {},
   "outputs": [],
   "source": [
    "class EditModel(nn.Module):\n",
    "    def __init__(self, \n",
    "                 pretrained: transformers.modeling_utils.PreTrainedModel, \n",
    "                 config: Config):\n",
    "        super(EditModel, self).__init__()\n",
    "        self.pretrained = pretrained\n",
    "        \n",
    "\n",
    "    def forward(self, \n",
    "                x: Tuple[torch.Tensor, torch.Tensor]):\n",
    "        src, tgt = x\n",
    "        \n",
    "        tgt[tgt == 0] == -100\n",
    "        \n",
    "        loss = self.pretrained(\n",
    "            input_ids = src,\n",
    "            attention_mask = (src != 0).float(),\n",
    "            labels=tgt,\n",
    "        ).loss\n",
    "        return loss\n",
    "    \n",
    "    \n",
    "class Criterion(nn.Module):\n",
    "    def __init__(self):\n",
    "        super(Criterion, self).__init__()\n",
    "        \n",
    "    def forward(self, pred, tgt):\n",
    "        return pred"
   ]
  },
  {
   "cell_type": "code",
   "execution_count": 24,
   "metadata": {},
   "outputs": [],
   "source": [
    "model = EditModel(\n",
    "    T5ForConditionalGeneration.from_pretrained(CONFIG.pretrained),\n",
    "    CONFIG\n",
    ")\n",
    "CONFIG.optimizer = 'Adam(lr=0.0001)'\n",
    "optimizer = torch.optim.Adam(model.parameters(), lr=0.0001)\n",
    "\n",
    "CONFIG.name = f'{CONFIG.pretrained} fruit preprocessing'\n",
    "CONFIG.description = f'{CONFIG.name} p(comment, x_t+1 | x_t, doc)'\n",
    "CONFIG.group = \"wiki_edit\""
   ]
  },
  {
   "cell_type": "code",
   "execution_count": 25,
   "metadata": {},
   "outputs": [],
   "source": [
    "!rm -rf ./models/\"{CONFIG.description}\""
   ]
  },
  {
   "cell_type": "code",
   "execution_count": 26,
   "metadata": {},
   "outputs": [],
   "source": [
    "CONFIG.n_epochs = 35"
   ]
  },
  {
   "cell_type": "code",
   "execution_count": 27,
   "metadata": {},
   "outputs": [],
   "source": [
    "METRIC_LIST = [\n",
    "    'full__exact_match@1',\n",
    "    'text__exact_match@1',\n",
    "    'text__diff_exact_match@1',\n",
    "    'comment__exact_match@1',\n",
    "    'text__sari@1',\n",
    "    'text__rouge-1@1',\n",
    "    'text__rouge-2@1',\n",
    "    'text__rouge-l@1'\n",
    "]   "
   ]
  },
  {
   "cell_type": "code",
   "execution_count": null,
   "metadata": {
    "scrolled": false
   },
   "outputs": [
    {
     "name": "stderr",
     "output_type": "stream",
     "text": [
      "\u001b[34m\u001b[1mwandb\u001b[0m: Currently logged in as: \u001b[33manton-sh\u001b[0m. Use \u001b[1m`wandb login --relogin`\u001b[0m to force relogin\n"
     ]
    },
    {
     "data": {
      "text/html": [
       "wandb version 0.13.10 is available!  To upgrade, please run:\n",
       " $ pip install wandb --upgrade"
      ],
      "text/plain": [
       "<IPython.core.display.HTML object>"
      ]
     },
     "metadata": {},
     "output_type": "display_data"
    },
    {
     "data": {
      "text/html": [
       "Tracking run with wandb version 0.13.9"
      ],
      "text/plain": [
       "<IPython.core.display.HTML object>"
      ]
     },
     "metadata": {},
     "output_type": "display_data"
    },
    {
     "data": {
      "text/html": [
       "Run data is saved locally in <code>/home/shapkin/interactive_lm/wiki/fruit_preprocessing_pipeline/wandb/run-20230227_190640-7gygia0b</code>"
      ],
      "text/plain": [
       "<IPython.core.display.HTML object>"
      ]
     },
     "metadata": {},
     "output_type": "display_data"
    },
    {
     "data": {
      "text/html": [
       "Syncing run <strong><a href=\"https://wandb.ai/anton-sh/interactive_lm/runs/7gygia0b\" target=\"_blank\">t5-small fruit preprocessing</a></strong> to <a href=\"https://wandb.ai/anton-sh/interactive_lm\" target=\"_blank\">Weights & Biases</a> (<a href=\"https://wandb.me/run\" target=\"_blank\">docs</a>)<br/>"
      ],
      "text/plain": [
       "<IPython.core.display.HTML object>"
      ]
     },
     "metadata": {},
     "output_type": "display_data"
    },
    {
     "data": {
      "text/html": [
       " View project at <a href=\"https://wandb.ai/anton-sh/interactive_lm\" target=\"_blank\">https://wandb.ai/anton-sh/interactive_lm</a>"
      ],
      "text/plain": [
       "<IPython.core.display.HTML object>"
      ]
     },
     "metadata": {},
     "output_type": "display_data"
    },
    {
     "data": {
      "text/html": [
       " View run at <a href=\"https://wandb.ai/anton-sh/interactive_lm/runs/7gygia0b\" target=\"_blank\">https://wandb.ai/anton-sh/interactive_lm/runs/7gygia0b</a>"
      ],
      "text/plain": [
       "<IPython.core.display.HTML object>"
      ]
     },
     "metadata": {},
     "output_type": "display_data"
    },
    {
     "data": {
      "application/vnd.jupyter.widget-view+json": {
       "model_id": "2bc852d155c14220bf39c639c17370a9",
       "version_major": 2,
       "version_minor": 0
      },
      "text/plain": [
       "1/35 * Epoch (train):   0%|          | 0/29890 [00:00<?, ?it/s]"
      ]
     },
     "metadata": {},
     "output_type": "display_data"
    },
    {
     "name": "stdout",
     "output_type": "stream",
     "text": [
      "train (1/35) loss: 0.9381957200063881 | loss/mean: 0.9381957200063881 | loss/std: 0.488196271707623 | lr: 0.0001 | momentum: 0.9\n"
     ]
    },
    {
     "data": {
      "application/vnd.jupyter.widget-view+json": {
       "model_id": "1a41eac8538241caa286f49755f63981",
       "version_major": 2,
       "version_minor": 0
      },
      "text/plain": [
       "1/35 * Epoch (valid_subset):   0%|          | 0/150 [00:00<?, ?it/s]"
      ]
     },
     "metadata": {},
     "output_type": "display_data"
    },
    {
     "name": "stdout",
     "output_type": "stream",
     "text": [
      "valid_subset (1/35) comment__exact_match@1: 0.0 | comment__exact_match@1/std: 0.0 | full__exact_match@1: 0.0 | full__exact_match@1/std: 0.0 | loss: 0.7097448966900511 | loss/mean: 0.7097448966900511 | loss/std: 0.27171402497701574 | lr: 0.0001 | momentum: 0.9 | text__diff_exact_match@1: 0.528991 | text__diff_exact_match@1/std: 0.122068 | text__exact_match@1: 0.006667 | text__exact_match@1/std: 0.04031 | text__rouge-1@1: 0.414534 | text__rouge-1@1/std: 0.150589 | text__rouge-2@1: 0.283346 | text__rouge-2@1/std: 0.158855 | text__rouge-l@1: 0.402846 | text__rouge-l@1/std: 0.152837 | text__sari@1: 46.84859 | text__sari@1/std: 8.481546\n",
      "* Epoch (1/35) \n"
     ]
    },
    {
     "data": {
      "application/vnd.jupyter.widget-view+json": {
       "model_id": "2cd358e8b4524a5db82b08ef0c3e2dec",
       "version_major": 2,
       "version_minor": 0
      },
      "text/plain": [
       "2/35 * Epoch (train):   0%|          | 0/29890 [00:00<?, ?it/s]"
      ]
     },
     "metadata": {},
     "output_type": "display_data"
    }
   ],
   "source": [
    "runner = dl.SupervisedRunner()\n",
    "\n",
    "wandb_logger = WandbLogger(project=\"interactive_lm\", \n",
    "                              name=CONFIG.name, \n",
    "                              group=CONFIG.group)\n",
    "\n",
    "runner.train(\n",
    "    loaders=loaders,\n",
    "    model=model,\n",
    "    criterion=Criterion(),\n",
    "    optimizer=optimizer,\n",
    "    num_epochs=CONFIG.n_epochs,\n",
    "    callbacks=[\n",
    "        PeriodicLoaderCallback(\n",
    "            valid_loader_key='valid_full',\n",
    "            valid_metric_key='loss',\n",
    "            minimize=True,\n",
    "            **{'valid_full': 5}\n",
    "        ),\n",
    "        PeerEditMetricsCallback(METRIC_LIST, tokenizer),\n",
    "        dl.optimizer.OptimizerCallback(metric_key='loss', accumulation_steps=32),\n",
    "    ],\n",
    "    loggers={'wandb': wandb_logger},\n",
    "    logdir=f'./models/{CONFIG.description}',\n",
    "    valid_loader='valid_subset',\n",
    "    valid_metric='loss',\n",
    "    minimize_valid_metric=True,\n",
    "    verbose=True,\n",
    "#     check=True,\n",
    "#     cpu=True,\n",
    ")"
   ]
  },
  {
   "cell_type": "code",
   "execution_count": null,
   "metadata": {},
   "outputs": [],
   "source": []
  },
  {
   "cell_type": "code",
   "execution_count": null,
   "metadata": {},
   "outputs": [],
   "source": []
  },
  {
   "cell_type": "code",
   "execution_count": null,
   "metadata": {},
   "outputs": [],
   "source": []
  },
  {
   "cell_type": "code",
   "execution_count": null,
   "metadata": {},
   "outputs": [],
   "source": []
  },
  {
   "cell_type": "code",
   "execution_count": null,
   "metadata": {},
   "outputs": [],
   "source": []
  },
  {
   "cell_type": "code",
   "execution_count": null,
   "metadata": {},
   "outputs": [],
   "source": []
  },
  {
   "cell_type": "markdown",
   "metadata": {},
   "source": [
    "CONFIG.beam_size = 1"
   ]
  },
  {
   "cell_type": "markdown",
   "metadata": {
    "scrolled": false
   },
   "source": [
    "device = runner.engine.device\n",
    "runner.model.eval()\n",
    "with torch.no_grad():\n",
    "    for i in [0, 1, 2]:\n",
    "        src_, tgt_ = ds_train[i]\n",
    "        src_inp = torch.tensor(src_['input_ids']).view(1,-1).to(runner.engine.device)\n",
    "        generated = runner.model.pretrained.generate(src_inp,\n",
    "                                              attention_mask=(src_inp != 0).float().to(runner.engine.device),\n",
    "                                            # pad_token_id=tokenizer.pad_token_id,\n",
    "                                            # bos_token_id=tokenizer.bos_token_id,\n",
    "                                            # eos_token_id=tokenizer.eos_token_id,\n",
    "                                              num_beams=CONFIG.beam_size,\n",
    "                                              num_return_sequences=CONFIG.beam_size,\n",
    "                                              max_length=1000\n",
    "        )\n",
    "        \n",
    "        tgt_full = tokenizer.decode(tgt_['input_ids'], skip_special_tokens=True).strip()\n",
    "        tgt_comment, tgt_text = extract_com8text_from_tgt(tgt_full)\n",
    "\n",
    "        src_full = tokenizer.decode(src_['input_ids'], skip_special_tokens=True).strip()\n",
    "        src_text, _ = extract_text8docs_from_src(src_full)\n",
    "        \n",
    "        \n",
    "        print(f'\\n\\n----------------------------\\t QUERY {i}\\t ----------------------------\\n')\n",
    "        print(f'Src query:\\n {src_text}')\n",
    "        print(f'\\nTgt query:\\n {tgt_text}')\n",
    "        print(f'\\nTgt comment:\\n {tgt_comment}')\n",
    "        \n",
    "        print(f'\\n\\n----------------------------\\t GENERATED\\t ----------------------------\\n')\n",
    "\n",
    "        pred_full = []\n",
    "        pred_texts = []\n",
    "        pred_comments = []\n",
    "        for j in range(CONFIG.beam_size):\n",
    "            to_gen = generated[j]\n",
    "            gen_text = tokenizer.decode(to_gen, skip_special_tokens=True)\n",
    "            com_prediction, text_prediction = extract_com8text_from_tgt(gen_text)\n",
    "            \n",
    "            pred_full.append(gen_text)\n",
    "            pred_texts.append(text_prediction)\n",
    "            pred_comments.append(com_prediction)\n",
    "            \n",
    "            print(f'{j} TEXT:\\n{text_prediction}\\n')\n",
    "            print(f'{j} COMMENT:\\n{com_prediction}\\n\\n')\n",
    "        \n",
    "        print('Text sari:', sari_one(src_text, tgt_text, pred_texts))\n",
    "        print('Com em:', topN_diff_exact_match_one('', tgt_comment, pred_comments))\n",
    "        print('Full em:', topN_diff_exact_match_one(src_full, tgt_full, pred_full))\n",
    "        print('Text em:', topN_diff_exact_match_one(src_text, tgt_text, pred_texts))\n",
    "        print('Rouge text:', rouge_one(src_text, tgt_text, pred_texts)['rouge-1'])"
   ]
  }
 ],
 "metadata": {
  "kernelspec": {
   "display_name": "Python 3 (ipykernel)",
   "language": "python",
   "name": "python3"
  },
  "language_info": {
   "codemirror_mode": {
    "name": "ipython",
    "version": 3
   },
   "file_extension": ".py",
   "mimetype": "text/x-python",
   "name": "python",
   "nbconvert_exporter": "python",
   "pygments_lexer": "ipython3",
   "version": "3.9.13"
  }
 },
 "nbformat": 4,
 "nbformat_minor": 4
}
