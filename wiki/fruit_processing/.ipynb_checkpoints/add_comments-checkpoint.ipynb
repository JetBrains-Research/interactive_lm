{
 "cells": [
  {
   "cell_type": "code",
   "execution_count": 1,
   "id": "4a3b799f",
   "metadata": {
    "scrolled": true
   },
   "outputs": [
    {
     "name": "stdout",
     "output_type": "stream",
     "text": [
      "total 28\r\n",
      "drwxrwxr-x 5 shapkin shapkin 4096 Feb  4 09:30 't5-base stage 2 p(comment, x_t+1 | x_t, doc)'\r\n",
      "drwxrwxr-x 5 shapkin shapkin 4096 Feb  4 09:22 't5-base stage 2 p(comment, x_t+1 | x_t, doc)_new'\r\n",
      "drwxrwxr-x 5 shapkin shapkin 4096 Jan 30 07:51 't5-small p(comment | x_t, x_t+1, doc)'\r\n",
      "drwxrwxr-x 5 shapkin shapkin 4096 Feb  6 10:32 't5-small stage 2 _ 2 losses _ full p(comment, x_t+1 | x_t, doc)'\r\n",
      "drwxrwxr-x 5 shapkin shapkin 4096 Feb  5 21:28 't5-small stage 2 _ 2 losses p(comment, x_t+1 | x_t, doc)'\r\n",
      "drwxrwxr-x 5 shapkin shapkin 4096 Feb  7 10:04 't5-small stage 2 p(comment, x_t+1 | x_t, doc)'\r\n",
      "drwxrwxr-x 5 shapkin shapkin 4096 Feb  4 09:10 't5-small stage 2 p(comment, x_t+1 | x_t, doc)_new'\r\n"
     ]
    }
   ],
   "source": [
    "!ls -l ../interactive_lm/wiki/models/ "
   ]
  },
  {
   "cell_type": "code",
   "execution_count": 2,
   "id": "4a96936d",
   "metadata": {},
   "outputs": [],
   "source": [
    "import os\n",
    "os.environ['TOKENIZERS_PARALLELISM']='true'\n",
    "os.environ['CUDA_VISIBLE_DEVICES']='2'"
   ]
  },
  {
   "cell_type": "code",
   "execution_count": 3,
   "id": "b9fe736b",
   "metadata": {},
   "outputs": [],
   "source": [
    "import re\n",
    "import os\n",
    "import torch\n",
    "import json\n",
    "import numpy as np\n",
    "import pandas as pd\n",
    "import seaborn as sns\n",
    "import transformers\n",
    "import matplotlib.pyplot as plt\n",
    "import warnings\n",
    "warnings.filterwarnings(\"ignore\")\n",
    "\n",
    "from transformers import T5Tokenizer, T5TokenizerFast, T5ForConditionalGeneration\n",
    "from transformers.tokenization_utils import PreTrainedTokenizer\n",
    "from transformers.tokenization_utils_fast import PreTrainedTokenizerFast\n",
    "from typing import Callable, Union, Tuple\n",
    "from tqdm.notebook import tqdm\n",
    "from collections import Counter\n",
    "from torch import nn\n",
    "from catalyst import dl\n",
    "from catalyst.callbacks.periodic_loader import PeriodicLoaderCallback\n",
    "from langdetect import detect\n",
    "from easse.sari import corpus_sari\n",
    "from rouge import Rouge \n",
    "\n",
    "import sys\n",
    "sys.path.append('../interactive_lm/wiki')\n",
    "from utils.dataset_utils import extract_com8text_from_tgt, extract_text8docs_from_src\n",
    "from utils.dataset_utils import ExplainDataset, get_tgt, get_src, COM_SEP, TEXT_SEP_SRC, TEXT_SEP_TGT, DOCS_SEP\n",
    "from utils.metrics_utils import PeerEditMetricsCallback\n",
    "from utils.config import Config\n",
    "\n",
    "\n",
    "DOCS_DIR = 'data'\n",
    "PAGES_DIR = 'data'"
   ]
  },
  {
   "cell_type": "code",
   "execution_count": 4,
   "id": "03a01161",
   "metadata": {},
   "outputs": [],
   "source": [
    "CONFIG = Config()\n",
    "CONFIG.seed = 1337\n",
    "CONFIG.beam_size = 1"
   ]
  },
  {
   "cell_type": "code",
   "execution_count": 5,
   "id": "4c43d6e8",
   "metadata": {},
   "outputs": [],
   "source": [
    "import random\n",
    "\n",
    "random.seed(CONFIG.seed)\n",
    "os.environ['PYTHONHASHSEED'] = str(CONFIG.seed)\n",
    "np.random.seed(CONFIG.seed)\n",
    "torch.manual_seed(CONFIG.seed)\n",
    "torch.cuda.manual_seed(CONFIG.seed)\n",
    "torch.backends.cudnn.deterministic = True\n",
    "torch.backends.cudnn.benchmark = True"
   ]
  },
  {
   "cell_type": "markdown",
   "id": "6c411caa",
   "metadata": {},
   "source": [
    "## Data preparing"
   ]
  },
  {
   "cell_type": "code",
   "execution_count": 6,
   "id": "64728f87",
   "metadata": {},
   "outputs": [],
   "source": [
    "train = pd.read_csv(r'train_fruit.csv')"
   ]
  },
  {
   "cell_type": "code",
   "execution_count": 7,
   "id": "6291c7e5",
   "metadata": {},
   "outputs": [
    {
     "data": {
      "text/html": [
       "<div>\n",
       "<style scoped>\n",
       "    .dataframe tbody tr th:only-of-type {\n",
       "        vertical-align: middle;\n",
       "    }\n",
       "\n",
       "    .dataframe tbody tr th {\n",
       "        vertical-align: top;\n",
       "    }\n",
       "\n",
       "    .dataframe thead th {\n",
       "        text-align: right;\n",
       "    }\n",
       "</style>\n",
       "<table border=\"1\" class=\"dataframe\">\n",
       "  <thead>\n",
       "    <tr style=\"text-align: right;\">\n",
       "      <th></th>\n",
       "      <th>Unnamed: 0</th>\n",
       "      <th>old_texts</th>\n",
       "      <th>new_texts</th>\n",
       "      <th>doc_texts</th>\n",
       "      <th>titles</th>\n",
       "    </tr>\n",
       "  </thead>\n",
       "  <tbody>\n",
       "    <tr>\n",
       "      <th>0</th>\n",
       "      <td>0</td>\n",
       "      <td>Daniel R. Lucey is a senior scholar with the O...</td>\n",
       "      <td>Daniel R. Lucey is an American physician, rese...</td>\n",
       "      <td>DOC0: 2016 Angola and DR Congo yellow fever ou...</td>\n",
       "      <td>Public Health Emergency of International Concern</td>\n",
       "    </tr>\n",
       "    <tr>\n",
       "      <th>1</th>\n",
       "      <td>1</td>\n",
       "      <td>Rob Daviau is a prolific American game designe...</td>\n",
       "      <td>Rob Daviau is an American game designer known ...</td>\n",
       "      <td>DOC0: Return to Dark Tower Development In addi...</td>\n",
       "      <td>Spiel des Jahres</td>\n",
       "    </tr>\n",
       "    <tr>\n",
       "      <th>2</th>\n",
       "      <td>2</td>\n",
       "      <td>North Down is a parliamentary constituency in ...</td>\n",
       "      <td>North Down is a parliamentary constituency in ...</td>\n",
       "      <td>DOC0: List of parliamentary constituencies in ...</td>\n",
       "      <td>Liberalism in the United Kingdom</td>\n",
       "    </tr>\n",
       "    <tr>\n",
       "      <th>3</th>\n",
       "      <td>3</td>\n",
       "      <td>Chaldean Catholics (; ), also known as Chaldea...</td>\n",
       "      <td>Chaldean Catholics () (), also known as Chalde...</td>\n",
       "      <td>DOC0: Nusaybin History - Modern history Syrian...</td>\n",
       "      <td>Ibrahim Pasha Milli</td>\n",
       "    </tr>\n",
       "    <tr>\n",
       "      <th>4</th>\n",
       "      <td>4</td>\n",
       "      <td>Prevalence of tobacco use is reported by the W...</td>\n",
       "      <td>Prevalence of tobacco use is reported by the W...</td>\n",
       "      <td>DOC0: Sustainable Development Goal 3 Targets, ...</td>\n",
       "      <td>Heated tobacco product</td>\n",
       "    </tr>\n",
       "  </tbody>\n",
       "</table>\n",
       "</div>"
      ],
      "text/plain": [
       "   Unnamed: 0                                          old_texts  \\\n",
       "0           0  Daniel R. Lucey is a senior scholar with the O...   \n",
       "1           1  Rob Daviau is a prolific American game designe...   \n",
       "2           2  North Down is a parliamentary constituency in ...   \n",
       "3           3  Chaldean Catholics (; ), also known as Chaldea...   \n",
       "4           4  Prevalence of tobacco use is reported by the W...   \n",
       "\n",
       "                                           new_texts  \\\n",
       "0  Daniel R. Lucey is an American physician, rese...   \n",
       "1  Rob Daviau is an American game designer known ...   \n",
       "2  North Down is a parliamentary constituency in ...   \n",
       "3  Chaldean Catholics () (), also known as Chalde...   \n",
       "4  Prevalence of tobacco use is reported by the W...   \n",
       "\n",
       "                                           doc_texts  \\\n",
       "0  DOC0: 2016 Angola and DR Congo yellow fever ou...   \n",
       "1  DOC0: Return to Dark Tower Development In addi...   \n",
       "2  DOC0: List of parliamentary constituencies in ...   \n",
       "3  DOC0: Nusaybin History - Modern history Syrian...   \n",
       "4  DOC0: Sustainable Development Goal 3 Targets, ...   \n",
       "\n",
       "                                             titles  \n",
       "0  Public Health Emergency of International Concern  \n",
       "1                                  Spiel des Jahres  \n",
       "2                  Liberalism in the United Kingdom  \n",
       "3                               Ibrahim Pasha Milli  \n",
       "4                            Heated tobacco product  "
      ]
     },
     "execution_count": 7,
     "metadata": {},
     "output_type": "execute_result"
    }
   ],
   "source": [
    "train.head()"
   ]
  },
  {
   "cell_type": "code",
   "execution_count": 8,
   "id": "2dc15081",
   "metadata": {},
   "outputs": [],
   "source": [
    "train['comment'] = ''\n",
    "train = train.rename(columns={\"old_texts\": \"old_text\", \"new_texts\": \"new_text\", \"doc_texts\": \"docs_processed\"})"
   ]
  },
  {
   "cell_type": "code",
   "execution_count": 9,
   "id": "6a32aefc",
   "metadata": {},
   "outputs": [
    {
     "data": {
      "text/html": [
       "<div>\n",
       "<style scoped>\n",
       "    .dataframe tbody tr th:only-of-type {\n",
       "        vertical-align: middle;\n",
       "    }\n",
       "\n",
       "    .dataframe tbody tr th {\n",
       "        vertical-align: top;\n",
       "    }\n",
       "\n",
       "    .dataframe thead th {\n",
       "        text-align: right;\n",
       "    }\n",
       "</style>\n",
       "<table border=\"1\" class=\"dataframe\">\n",
       "  <thead>\n",
       "    <tr style=\"text-align: right;\">\n",
       "      <th></th>\n",
       "      <th>Unnamed: 0</th>\n",
       "      <th>old_text</th>\n",
       "      <th>new_text</th>\n",
       "      <th>docs_processed</th>\n",
       "      <th>titles</th>\n",
       "      <th>comment</th>\n",
       "    </tr>\n",
       "  </thead>\n",
       "  <tbody>\n",
       "    <tr>\n",
       "      <th>0</th>\n",
       "      <td>0</td>\n",
       "      <td>Daniel R. Lucey is a senior scholar with the O...</td>\n",
       "      <td>Daniel R. Lucey is an American physician, rese...</td>\n",
       "      <td>DOC0: 2016 Angola and DR Congo yellow fever ou...</td>\n",
       "      <td>Public Health Emergency of International Concern</td>\n",
       "      <td></td>\n",
       "    </tr>\n",
       "    <tr>\n",
       "      <th>1</th>\n",
       "      <td>1</td>\n",
       "      <td>Rob Daviau is a prolific American game designe...</td>\n",
       "      <td>Rob Daviau is an American game designer known ...</td>\n",
       "      <td>DOC0: Return to Dark Tower Development In addi...</td>\n",
       "      <td>Spiel des Jahres</td>\n",
       "      <td></td>\n",
       "    </tr>\n",
       "    <tr>\n",
       "      <th>2</th>\n",
       "      <td>2</td>\n",
       "      <td>North Down is a parliamentary constituency in ...</td>\n",
       "      <td>North Down is a parliamentary constituency in ...</td>\n",
       "      <td>DOC0: List of parliamentary constituencies in ...</td>\n",
       "      <td>Liberalism in the United Kingdom</td>\n",
       "      <td></td>\n",
       "    </tr>\n",
       "    <tr>\n",
       "      <th>3</th>\n",
       "      <td>3</td>\n",
       "      <td>Chaldean Catholics (; ), also known as Chaldea...</td>\n",
       "      <td>Chaldean Catholics () (), also known as Chalde...</td>\n",
       "      <td>DOC0: Nusaybin History - Modern history Syrian...</td>\n",
       "      <td>Ibrahim Pasha Milli</td>\n",
       "      <td></td>\n",
       "    </tr>\n",
       "    <tr>\n",
       "      <th>4</th>\n",
       "      <td>4</td>\n",
       "      <td>Prevalence of tobacco use is reported by the W...</td>\n",
       "      <td>Prevalence of tobacco use is reported by the W...</td>\n",
       "      <td>DOC0: Sustainable Development Goal 3 Targets, ...</td>\n",
       "      <td>Heated tobacco product</td>\n",
       "      <td></td>\n",
       "    </tr>\n",
       "  </tbody>\n",
       "</table>\n",
       "</div>"
      ],
      "text/plain": [
       "   Unnamed: 0                                           old_text  \\\n",
       "0           0  Daniel R. Lucey is a senior scholar with the O...   \n",
       "1           1  Rob Daviau is a prolific American game designe...   \n",
       "2           2  North Down is a parliamentary constituency in ...   \n",
       "3           3  Chaldean Catholics (; ), also known as Chaldea...   \n",
       "4           4  Prevalence of tobacco use is reported by the W...   \n",
       "\n",
       "                                            new_text  \\\n",
       "0  Daniel R. Lucey is an American physician, rese...   \n",
       "1  Rob Daviau is an American game designer known ...   \n",
       "2  North Down is a parliamentary constituency in ...   \n",
       "3  Chaldean Catholics () (), also known as Chalde...   \n",
       "4  Prevalence of tobacco use is reported by the W...   \n",
       "\n",
       "                                      docs_processed  \\\n",
       "0  DOC0: 2016 Angola and DR Congo yellow fever ou...   \n",
       "1  DOC0: Return to Dark Tower Development In addi...   \n",
       "2  DOC0: List of parliamentary constituencies in ...   \n",
       "3  DOC0: Nusaybin History - Modern history Syrian...   \n",
       "4  DOC0: Sustainable Development Goal 3 Targets, ...   \n",
       "\n",
       "                                             titles comment  \n",
       "0  Public Health Emergency of International Concern          \n",
       "1                                  Spiel des Jahres          \n",
       "2                  Liberalism in the United Kingdom          \n",
       "3                               Ibrahim Pasha Milli          \n",
       "4                            Heated tobacco product          "
      ]
     },
     "execution_count": 9,
     "metadata": {},
     "output_type": "execute_result"
    }
   ],
   "source": [
    "train['old_text'] = train['old_text'].apply(str)\n",
    "train['new_text'] = train['new_text'].apply(str)\n",
    "\n",
    "\n",
    "train.head()"
   ]
  },
  {
   "cell_type": "code",
   "execution_count": 10,
   "id": "7b675a58",
   "metadata": {},
   "outputs": [],
   "source": [
    "CONFIG.src_max_len = 1024\n",
    "CONFIG.tgt_max_len = 512\n",
    "CONFIG.pretrained = 't5-small'\n",
    "CONFIG.pattern_path = './models/t5-small p(comment | x_t, x_t+1, doc)'\n",
    "CONFIG.batch_size = 4\n",
    "\n",
    "tokenizer = T5TokenizerFast.from_pretrained(CONFIG.pretrained, model_max_length=CONFIG.src_max_len)"
   ]
  },
  {
   "cell_type": "markdown",
   "id": "fc0e8dd8",
   "metadata": {},
   "source": [
    "**Make dataset**"
   ]
  },
  {
   "cell_type": "code",
   "execution_count": 11,
   "id": "a0cc66a8",
   "metadata": {},
   "outputs": [],
   "source": [
    "ds_train = ExplainDataset(train, tokenizer, CONFIG, text_to_lower=True, comment_to_lower=True)\n",
    "#ds_val = ExplainDataset(val1, tokenizer, CONFIG, text_to_lower=True, comment_to_lower=True)\n",
    "#ds_val_full = EditDataset(val, tokenizer, CONFIG, text_to_lower=True, comment_to_lower=True)"
   ]
  },
  {
   "cell_type": "markdown",
   "id": "f3b1d9e7",
   "metadata": {},
   "source": [
    "**Len distribution**"
   ]
  },
  {
   "cell_type": "code",
   "execution_count": 12,
   "id": "7c4d3d6b",
   "metadata": {},
   "outputs": [],
   "source": [
    "idx_num = 100\n",
    "src_text = tokenizer.decode(ds_train[idx_num][0]['input_ids'], skip_special_tokens=True)\n",
    "tgt_text = tokenizer.decode(ds_train[idx_num][1]['input_ids'], skip_special_tokens=True)"
   ]
  },
  {
   "cell_type": "code",
   "execution_count": 13,
   "id": "335a83b8",
   "metadata": {
    "scrolled": true
   },
   "outputs": [
    {
     "name": "stdout",
     "output_type": "stream",
     "text": [
      "wycombe wanderers football club is a professional association football club based in the town of high wycombe, buckinghamshire, england. the team play in league one, the third tier of english football. the club plays at adams park, which is situated on the western outskirts of high wycombe, and traditionally play in quartered shirts of navy (oxford blue) and pale blue (cambridge blue). the club's nicknames are \"the chairboys\" and \"the blues\". the current manager of the club is gareth ainsworth, who was appointed as player/manager following a period during which he served as caretaker manager, after gary waddock was relieved of his duties following a 1–0 defeat at home to wimbledon on 22 september 2012. ainsworth retired from playing at the end of the 2012–13 season. he is assisted by richard dobson. the club was awarded the family club of the year award twice in a row in 2006–07 and 2007–08. this is the only time that the award has been given to the same club in consecutive seasons. the club received a football league family excellence award after the 2009–10, 2011–12 and 2013–14 seasons. TEXT_SEP wycombe wanderers football club is a professional association football club based in the town of high wycombe, buckinghamshire, england. the team compete in the, the second tier of the english football league system. they play their home matches at adams park, located on the western outskirts of high wycombe, having moved after 95 years at loakes park in 1990. the club traditionally plays in quartered shirts of navy (oxford blue) and pale blue (cambridge blue). the club's nicknames are \"the chairboys\" and \"the blues\". founded in 1887, they entered the southern league in 1896. they switched to the great western suburban league in 1908 and then the spartan league in 1919, before joining the isthmian league after winning the spartan league in 1919–20 and 1920–21. they spent 64 years in the isthmian league, winning eight league titles and one fa amateur cup title. having rejected numerous invitations to join the alliance premier (gola) league (now national league), they finally accepted an offer in 1985 and eventually found success in the fifth tier of english football under the management of martin o'neill, winning promotion into the football league as gm vauxhall conference champions in 1992–93. they also lifted the fa trophy in 1991 and 1993, and won the conference league cup, conference shield (three times) and conference charity shield. wycombe made an immediate impact in the football league, winning promotion out of the third division via the play-offs in 1994. they spent a decade in the third tier and reached the fa cup semi-finals in 2001, though were relegated three years later. they also reached the league cup semi-finals in 2007 and then gained promotion out of league two in 2008–09. this was the first of four successive seasons of promotions and relegations between league two and league one, which was followed by a decline that saw the club only avoid relegation into non-league on goal difference in 2014. the club secured promotion out of league two under gareth ainsworth's stewardship in 2017–18, who then took the club to the championship for the first time in the club's history with victory in the 2020 league one play-off final. DOCS_SEP doc0: uche ikpeazu statistics - table-0-17 [header] [col] club [col] season [col] league [col] fa cup [col] league cup [col] other [col] total [row] [col] wycombe wanderers [col] 2020–21 [col] championship [col] 4 [col] 0 [col] 0 [col] 0 [col] 0 [col] 0 [col] 0 [col] 0 [col] 4 [col] 0 doc1: fred onyedinma introduction wilfred oluwafemi onyedinma (born 24 november 1996) is a nigerian professional footballer who plays as a midfielder for championship club wycombe wanderers. doc\n",
      "\n",
      "\n"
     ]
    }
   ],
   "source": [
    "print(f'{src_text}\\n\\n{tgt_text}')"
   ]
  },
  {
   "cell_type": "markdown",
   "id": "2ac01c21",
   "metadata": {},
   "source": [
    "## Model training"
   ]
  },
  {
   "cell_type": "code",
   "execution_count": 14,
   "id": "bf5b8412",
   "metadata": {},
   "outputs": [],
   "source": [
    "class EditModel(nn.Module):\n",
    "    def __init__(self, \n",
    "                 pretrained: transformers.modeling_utils.PreTrainedModel, \n",
    "                 config: Config):\n",
    "        super(EditModel, self).__init__()\n",
    "        self.pretrained = pretrained\n",
    "        \n",
    "\n",
    "    def forward(self, \n",
    "                x: Tuple[torch.Tensor, torch.Tensor]):\n",
    "        src, tgt = x\n",
    "        \n",
    "        tgt[tgt == 0] == -100\n",
    "        \n",
    "        loss = self.pretrained(\n",
    "            input_ids = src,\n",
    "            attention_mask = (src != 0).float(),\n",
    "            labels=tgt,\n",
    "        ).loss\n",
    "        return loss\n",
    "    \n",
    "    \n",
    "class Criterion(nn.Module):\n",
    "    def __init__(self):\n",
    "        super(Criterion, self).__init__()\n",
    "        \n",
    "    def forward(self, pred, tgt):\n",
    "        return pred"
   ]
  },
  {
   "cell_type": "code",
   "execution_count": 15,
   "id": "42b90d96",
   "metadata": {},
   "outputs": [],
   "source": [
    "CONFIG.device = 'cuda'\n",
    "CONFIG.pattern_path = '../interactive_lm/wiki/models/t5-small p(comment | x_t, x_t+1, doc)'"
   ]
  },
  {
   "cell_type": "code",
   "execution_count": 16,
   "id": "bba37cfd",
   "metadata": {},
   "outputs": [
    {
     "name": "stdout",
     "output_type": "stream",
     "text": [
      "Success\n"
     ]
    }
   ],
   "source": [
    "model_edit = EditModel(T5ForConditionalGeneration.from_pretrained(CONFIG.pretrained), CONFIG)\n",
    "model_edit.load_state_dict(\n",
    "    torch.load(f'{CONFIG.pattern_path}/checkpoints/model.best.pth', \n",
    "               map_location=CONFIG.device))\n",
    "model_edit = model_edit.pretrained\n",
    "model_edit.to(CONFIG.device)\n",
    "model_edit.eval()\n",
    "print('Success')"
   ]
  },
  {
   "cell_type": "code",
   "execution_count": 17,
   "id": "3f892b9b",
   "metadata": {
    "scrolled": true
   },
   "outputs": [
    {
     "name": "stdout",
     "output_type": "stream",
     "text": [
      "\u001b[91m \n",
      "\n",
      "---------- QUERY 3223 ----------\n",
      "\u001b[95m SRC:\n",
      "\u001b[39m ''the head'' began as mini-series that originally ran under the title ''mtv's oddities'', on mtv between 1994 and 1996. it has begun airing on mtv2 in august 2009. it was released on dvd on december 15, 2009. TEXT_SEP ''the head'' is an american adult animated television series created by eric fogel for mtv. it originated as a science-fiction mini-series that aired under the ''mtv's oddities'' label between 1994 and 1996, and was followed by ''the maxx''. the was released on dvd on december 15, 2009. DOCS_SEP doc0: list of adult animated television series 1990s - united states - table-0-8 [header] [col] title [col] genre [col] seasons/episodes [col] show creator(s) [col] original release [col] network [col] studio [col] age rating [col] status [row] [col] ''the head'' [col] • action • adventure [col] 2 seasons, 14 episodes [col] eric fogel [col] september 1, 1994 – march 1, 1996 [col] mtv [col] mtv animation [col] tv-14 [col] ended doc1: mtv animation productions - television series - 1990s - table-0-3 [header] [col] ''liquid television'' [col] japhet asher [col] june 2, 1991may 15, 2014 [col] march 6, 1994june 12, 2014 [col] original series:(colossal) picturesbig picturesnoyes & laybourne enterprisesbbc enterprisesrevival series:titmouse, inc. [col] revived for the internet in 2014. [row] [col] ''the head'' [col] eric fogel [col] september 1, 1994 [col] march 1, 1996 [col] [col] doc2: 1996 in american television television programs - ending this year - table-0-14 [header] style=\"background:#ccc;\" [col] date [col] show [col] debut [row] [col] march 1 [col] ''the head'' [col] 1994 doc3: list of animated television series of 1994 introduction - table-0-41 [caption] animated television series first aired in 1994 [row] [col] ''the head'' [col] 2 [col] 14 [col] us [col] 1994–1996 [col] mtv [col] traditional doc4: teletoon at night programming - acquired series - table-0-25 [header] [col] title [col] premiere date [col] reruns [col] source(s) [row] [col] ''the head'' [col] prime [col] reruns [col] doc5: history of animation 1990s other 1990s cartoon series on mtv included ''the head'' (1994-1996) and ''the maxx'' (1995), both under the ''mtv's oddities'' banner. doc6: list of superhero television series animated - table-0-160 [header] [col] title [col] year(s) [col] publisher [col] network [col] notes [row] [col] ''the head'' [col] 1994–1996 [col] original [col] mtv [col] doc7: chris reilly filmography - television - table-0-1 [header] [col] [col] title [col] role [col] notes [row] [col] 2020 [col] ''the head'' [col] nils hedlund [col] doc8: mike judge filmography - television - table-0-4 [header] [col] year [col] title [col] functioned as [col] notes [row] [col] 1994 [col] ''the head'' [col] [col] [col] [col] [col] butt-head (voice) [col] episode: \"the head/the date\"\n",
      "\n",
      "\u001b[95m TGT:\n",
      "\u001b[39m \n",
      "\n",
      "\u001b[94m GEN:\u001b[39m /* release */ tense\n",
      "\n",
      "\u001b[91m \n",
      "\n",
      "---------- QUERY 57533 ----------\n",
      "\u001b[95m SRC:\n",
      "\u001b[39m 2201 oljato, provisional designation, is a stony and extremely eccentric asteroid and sizable near-earth object of the apollo group, approximately 2 kilometers in diameter. it has an earth minimum orbit intersection distance of and is associated with the beta taurids daytime meteor shower. TEXT_SEP 2201 oljato, provisional designation, is a stony and extremely eccentric active asteroid and sizable near-earth object of the apollo group, approximately 2 kilometers in diameter. it has an earth minimum orbit intersection distance of and is associated with the beta taurids daytime meteor shower. DOCS_SEP doc0: active asteroid members - table-0-3 [header] ---- [col] name [col] semi-major axis (au) [col] perihelion (au) [col] diameter (km) [col] cause [row] [col] 2201 oljato [col] 2.18 [col] 0.62 [col] 1.8 [col] outgassing\n",
      "\n",
      "\u001b[95m TGT:\n",
      "\u001b[39m \n",
      "\n",
      "\u001b[94m GEN:\u001b[39m added \"active\" to description of the subject.\n",
      "\n",
      "\u001b[91m \n",
      "\n",
      "---------- QUERY 99164 ----------\n",
      "\u001b[95m SRC:\n",
      "\u001b[39m ding junhui (; born 1 april 1987) is a chinese professional snooker player who has been considered the most successful asian player in the history of the sport. throughout his career, he has won 13 major ranking titles, including two uk championships in 2005 and 2009, two shanghai masters titles in 2013 and 2016, and one german masters title in 2014. he has also twice reached the final of the masters, winning once in 2011. representing china at the asian games, ding has won five gold medals in individual and team events. in 2016, he became the first asian player to reach the final of the world championship. the same year, he won his first six-red world championship. ding began playing snooker at age nine and rose to international prominence in 2002 after winning the asian under-21 championship, the asian championship. at age 15, he became the youngest winner of the ibsf world under-21 championship. in 2003, ding turned professional at the age of 16. his first major professional successes came in 2005 when he won the china open and the uk championship, becoming the first player from outside great britain and ireland to win the title. in the 2013/2014 season, ding tied stephen hendry's record of winning five ranking titles in a single season. during his career, ding—who is known as a prolific break-builder—has compiled more than 500 century breaks, including six maximum breaks, in professional play. he was the first and only asian player to be ranked world number one, which he first achieved in 2014 to become the 11th player to reach the top spot. aside from snooker, ding enrolled at shanghai jiao tong university in 2006 to study business administration and management. he is a long-time resident of sheffield, england, and practices at the english institute of sport. TEXT_SEP ding junhui (; born 1 april 1987) is a chinese professional snooker player who has been considered the most successful asian player in the history of the sport. throughout his career, he has won 14 major ranking titles, including three uk championships in 2005, 2009, and 2019; two shanghai masters titles in 2013 and 2016; and one german masters title in 2014. he has also twice reached the final of the masters, winning once in 2011. representing china at the asian games, ding has won five gold medals in individual and team events. in 2016, he became the first asian player to reach the final of the world championship. the same year, he won his first six-red world championship. ding began playing snooker at age nine and rose to international prominence in 2002 after winning the asian under-21 championship and the asian championship. at age 15, he became the youngest winner of the ibsf world under-21 championship. in 2003, ding turned professional at the age of 16. his first major professional successes came in 2005 when he won the china open and the uk championship, becoming the first player from outside great britain and ireland to win the title. during his career, ding—who is known as a prolific break-builder—has compiled more than 500 century breaks, including six maximum breaks, in professional play. he was the first and only asian player to be ranked world number one, which he first achieved in 2014 to become the 11th player to reach the top spot. aside from snooker, ding enrolled at shanghai jiao tong university in 2006 to study business administration and management. he is a long-time resident of sheffield, england, and practices at the english institute of sport. DOCS_SEP doc0: 2019–20 snooker season calendar - table-0-21 [header] [col] date [col] country [col] rank [col] tournament name [col] venue [col] city [col] winner [col] runner-up [col] score [col] [row] [col] 11-26 [col] 12-08 [col] [col] wr [col] uk championship [col] barbican centre [col] york [col] ding junhui [col] stephen maguire [col] 10–6 [col] doc1: 2020 uk championship introduction the\n",
      "\n",
      "\u001b[95m TGT:\n",
      "\u001b[39m \n",
      "\n",
      "\u001b[94m GEN:\u001b[39m ding has now won 14 major ranking titles.\n",
      "\n",
      "\u001b[91m \n",
      "\n",
      "---------- QUERY 9448 ----------\n",
      "\u001b[95m SRC:\n",
      "\u001b[39m \"\" (; in peace and joy i now depart) is a hymn by martin luther, a paraphrase in german of the, the canticle of simeon. luther wrote the text and melody in 1524 and it was first published in the same year. originally a song for purification, it has been used for funerals. luther included it in 1542 in'(christian chants... for funeral). the hymn appears in several translations, for example catherine winkworth's \"in peace and joy i now depart\", in nine hymnals. it has been used as the base for music, especially for vocal music such as dieterich buxtehude's funeral music and johann sebastian bach's chorale cantata. TEXT_SEP \"\" (; in peace and joy i now depart) is a hymn by martin luther, a paraphrase in german of the, the canticle of simeon. luther wrote the text and melody, zahn no. 3986, in 1524 and it was first published in the same year. originally a song for purification, it has been used for funerals. luther included it in 1542 in'(christian chants... for funeral). the hymn appears in several translations, for example catherine winkworth's \"in peace and joy i now depart\", in nine hymnals. it has been used as the base for music, especially for vocal music such as dieterich buxtehude's funeral music and johann sebastian bach's chorale cantata. DOCS_SEP doc0: bach cantata bach cantatas listed in the first chapter of the ''bach-werke-verzeichnis'' (1998) | cantata ''gottes zeit ist die allerbeste zeit'' (funeral; aka ''actus tragicus'') | e maj. | data-sort-value=\"satbsatb flx2 vdgx2 bc\" | satbsatb 2fl 2vdg bc | data-sort-value=\"000.23: 147\" | 23: 147 | data-sort-value=\"i/34: 001\" | i/34: 1 | after z 1680 (/2d), 3986 (/3b), 2461 (/4); text after [[johann olearius|olearius, j. doc1: bach cantata bach cantatas listed in the first chapter of the ''bach-werke-verzeichnis'' (1998) | rowspan=\"2\" | 1724-02-02 | cantata ''erfreute zeit im neuen bunde'' (purification) | f maj. | data-sort-value=\"atbsatb hnx2 obx2 vl str bc\" | atbsatb 2hn 2ob vl str bc | data-sort-value=\"000.20 1: 051\" | 201: 51 | data-sort-value=\"i/28 1: 003\" | i/28.1: 3 | after z 3986 (/5); text after lk 2:29-31 (/2), hb 4:16 (/3), by luther (/5) | |- style=\"background: #e3f6ce;\" | data-sort-value=\"0083.005\" | 83/5 | chorale setting \"mit fried und freud ich fahr dahin\" (s. 4) | d min. doc2: dietel manuscript content - table-1-49 [caption] four-part chorales in the dietel manuscript [header] [col] # [col] title (in dietel manuscript) [col] zahn [col] bwv [col] occasion [col] year [col] m-d [col] other info [row] [col] [http://www.bach-chorales.com/bwv0382.htm 51] [col] mit fried und freud ich fahr dahin [col] 3986 [col] [https://www.\n",
      "\n",
      "\u001b[95m TGT:\n",
      "\u001b[39m \n",
      "\n",
      "\u001b[94m GEN:\u001b[39m /* top */ zahn no. 3986\n",
      "\n"
     ]
    },
    {
     "name": "stdout",
     "output_type": "stream",
     "text": [
      "\u001b[91m \n",
      "\n",
      "---------- QUERY 85159 ----------\n",
      "\u001b[95m SRC:\n",
      "\u001b[39m ''the special london bridge special'' is a 1972 musical variety special. it was made to celebrate the acquisition of the london bridge in lake havasu city, arizona. it was filmed in lake havasu following the opening of the london bridge. it was produced, directed and choreographed by david winters and it starred tom jones, and jennifer o'neill. other guests included the carpenters, kirk douglas, jonathan winters, hermione gingold, lorne greene, chief dan george, charlton heston, george kirby, michael landon, terry-thomas, engelbert humperdinck, elliott gould, merle park, and rudolf nureyev. TEXT_SEP ''the special london bridge special'' is a 1972 musical variety television special. it was made to celebrate the acquisition of the london bridge in lake havasu city, arizona. it was filmed in lake havasu following the opening of the london bridge. it was produced, directed and choreographed by david winters and it starred tom jones and jennifer o'neill. other guests included the carpenters, kirk douglas, jonathan winters, hermione gingold, lorne greene, chief dan george, charlton heston, george kirby, michael landon, terry-thomas, engelbert humperdinck, elliott gould, merle park, and rudolf nureyev. DOCS_SEP doc0: chief dan george acting career - 1971–1981: subsequent success in 1972, he was a guest in david winters' musical television special ''the special london bridge special'', starring tom jones, and jennifer o'neill. doc1: kirk douglas career - 1970s–2020 in 1972, he was a guest on david winters' television special ''the special london bridge special'', starring tom jones. doc2: tom jones (singer) career - 1970s and 1980s decline in 1972, he reunited with director and choreographer david winters for the musical television special ''the special london bridge special'', co-starring jennifer o'neill. doc3: charlton heston filmography television - 1961–1980 - table-0-13 [header] style=\"background:#b0c4de;\" [col] date [col] title [col] episode [col] role [row] [col] may 7, 1972 [col] ''the special london bridge special'' [col] (tv special) [col] tennis player doc4: kirk douglas filmography filmography - table-0-58 [header] [col] year [col] title [col] role [col] notes [row] [col] ''the special london bridge special'' [col] the indian fighter [col] tv movie\n",
      "\n",
      "\u001b[95m TGT:\n",
      "\u001b[39m \n",
      "\n",
      "\u001b[94m GEN:\u001b[39m added \"television special\"\n",
      "\n"
     ]
    }
   ],
   "source": [
    "from IPython.display import HTML as html_print\n",
    "\n",
    "def colored(s, color='black'):\n",
    "    if color == 'green':\n",
    "        return f'\\033[93m {s}'\n",
    "    if color == 'yellow':\n",
    "        return f'\\033[92m {s}'\n",
    "    if color == 'red':\n",
    "        return f'\\033[91m {s}'\n",
    "    if color == 'blue':\n",
    "        return f'\\033[94m {s}'\n",
    "    if color == 'pink':\n",
    "        return f'\\033[95m {s}'\n",
    "    if color == 'bold':\n",
    "        return f'\\x1B[1mText {s} \\x1b[0m'\n",
    "    return f'\\033[39m {s}'\n",
    "\n",
    "device = CONFIG.device\n",
    "CONFIG.beam_size = 3\n",
    "idx_ = np.random.choice(len(ds_train), 5)\n",
    "\n",
    "with torch.no_grad():\n",
    "    for i in idx_:\n",
    "        src_, tgt_ = ds_train[i]\n",
    "\n",
    "        generated = model_edit.generate(torch.tensor(src_['input_ids']).view(1,-1).to(device), \n",
    "                                                      num_beams=CONFIG.beam_size, \n",
    "#                                                       pad_token_id=tokenizer.pad_token_id, \n",
    "#                                                       bos_token_id=tokenizer.bos_token_id, \n",
    "#                                                       eos_token_id=tokenizer.eos_token_id,\n",
    "                                                          num_return_sequences=1,\n",
    "                                                     max_length=512)\n",
    "        generated = generated.cpu()\n",
    "\n",
    "        src_text = tokenizer.decode(src_['input_ids'], skip_special_tokens=True)\n",
    "        tgt_text = tokenizer.decode(tgt_['input_ids'], skip_special_tokens=True)\n",
    "        \n",
    "        print(colored(f'\\n\\n---------- QUERY {i} ----------', 'red'))\n",
    "        print(colored(f'SRC:\\n', 'pink') + colored(src_text) + '\\n', sep='')\n",
    "        print(colored(f'TGT:\\n', 'pink') + colored(tgt_text) + '\\n', sep='')\n",
    "\n",
    "        for j in range(1):\n",
    "            to_gen = generated[j]\n",
    "            gen_text = tokenizer.decode(to_gen, skip_special_tokens=True)\n",
    "            print(colored(f'GEN:', 'blue') + colored(gen_text) + '\\n', sep='')\n",
    "    \n",
    "        #diff = ds_train.iloc[i]['diff']\n",
    "        #print(colored(f'Tgt diff:\\n', 'bold') + colored(diff) + '\\n', sep='')"
   ]
  },
  {
   "cell_type": "code",
   "execution_count": null,
   "id": "f9002149",
   "metadata": {},
   "outputs": [
    {
     "data": {
      "application/vnd.jupyter.widget-view+json": {
       "model_id": "492f584c4e804454a683853ad8c4d9a8",
       "version_major": 2,
       "version_minor": 0
      },
      "text/plain": [
       "  0%|          | 0/114515 [00:00<?, ?it/s]"
      ]
     },
     "metadata": {},
     "output_type": "display_data"
    }
   ],
   "source": [
    "generated_comments = []\n",
    "\n",
    "for i in tqdm(range(len(ds_train))):\n",
    "    src_, tgt_ = ds_train[i]\n",
    "\n",
    "    generated = model_edit.generate(torch.tensor(src_['input_ids']).view(1,-1).to(device), \n",
    "                                                  num_beams=CONFIG.beam_size, \n",
    "#                                                       pad_token_id=tokenizer.pad_token_id, \n",
    "#                                                       bos_token_id=tokenizer.bos_token_id, \n",
    "#                                                       eos_token_id=tokenizer.eos_token_id,\n",
    "                                                      num_return_sequences=1,\n",
    "                                                 max_length=512)\n",
    "    generated = generated.cpu()\n",
    "\n",
    "    src_text = tokenizer.decode(src_['input_ids'], skip_special_tokens=True)\n",
    "    tgt_text = tokenizer.decode(tgt_['input_ids'], skip_special_tokens=True)\n",
    "\n",
    "    #print(colored(f'\\n\\n---------- QUERY {i} ----------', 'red'))\n",
    "    #print(colored(f'SRC:\\n', 'pink') + colored(src_text) + '\\n', sep='')\n",
    "    #print(colored(f'TGT:\\n', 'pink') + colored(tgt_text) + '\\n', sep='')\n",
    "\n",
    "    for j in range(1):\n",
    "        to_gen = generated[j]\n",
    "        gen_text = tokenizer.decode(to_gen, skip_special_tokens=True)\n",
    "        # print(colored(f'GEN:', 'blue') + colored(gen_text) + '\\n', sep='')\n",
    "        generated_comments.append(gen_text)"
   ]
  },
  {
   "cell_type": "code",
   "execution_count": null,
   "id": "706841c2",
   "metadata": {},
   "outputs": [],
   "source": [
    "ds_train['generated_comment'] = generated_comments"
   ]
  },
  {
   "cell_type": "code",
   "execution_count": null,
   "id": "2912a5a5",
   "metadata": {},
   "outputs": [],
   "source": [
    "ds_train.to_csv('train_fruit_full.csv')"
   ]
  },
  {
   "cell_type": "code",
   "execution_count": 20,
   "id": "89623d0b",
   "metadata": {},
   "outputs": [
    {
     "ename": "AttributeError",
     "evalue": "'ExplainDataset' object has no attribute 'head'",
     "output_type": "error",
     "traceback": [
      "\u001b[0;31m---------------------------------------------------------------------------\u001b[0m",
      "\u001b[0;31mAttributeError\u001b[0m                            Traceback (most recent call last)",
      "\u001b[0;32m/tmp/ipykernel_305471/3540012213.py\u001b[0m in \u001b[0;36m<module>\u001b[0;34m\u001b[0m\n\u001b[0;32m----> 1\u001b[0;31m \u001b[0mds_train\u001b[0m\u001b[0;34m.\u001b[0m\u001b[0mhead\u001b[0m\u001b[0;34m(\u001b[0m\u001b[0;34m)\u001b[0m\u001b[0;34m\u001b[0m\u001b[0;34m\u001b[0m\u001b[0m\n\u001b[0m",
      "\u001b[0;31mAttributeError\u001b[0m: 'ExplainDataset' object has no attribute 'head'"
     ]
    }
   ],
   "source": [
    "ds_train.head()"
   ]
  },
  {
   "cell_type": "code",
   "execution_count": 21,
   "id": "02a7b1c8",
   "metadata": {},
   "outputs": [],
   "source": [
    "train['generated_comment'] = generated_comments\n",
    "train.to_csv('train_fruit_full.csv')"
   ]
  },
  {
   "cell_type": "code",
   "execution_count": 22,
   "id": "6165f2f8",
   "metadata": {},
   "outputs": [
    {
     "data": {
      "text/html": [
       "<div>\n",
       "<style scoped>\n",
       "    .dataframe tbody tr th:only-of-type {\n",
       "        vertical-align: middle;\n",
       "    }\n",
       "\n",
       "    .dataframe tbody tr th {\n",
       "        vertical-align: top;\n",
       "    }\n",
       "\n",
       "    .dataframe thead th {\n",
       "        text-align: right;\n",
       "    }\n",
       "</style>\n",
       "<table border=\"1\" class=\"dataframe\">\n",
       "  <thead>\n",
       "    <tr style=\"text-align: right;\">\n",
       "      <th></th>\n",
       "      <th>Unnamed: 0</th>\n",
       "      <th>old_text</th>\n",
       "      <th>new_text</th>\n",
       "      <th>docs_processed</th>\n",
       "      <th>titles</th>\n",
       "      <th>comment</th>\n",
       "      <th>generated_comment</th>\n",
       "    </tr>\n",
       "  </thead>\n",
       "  <tbody>\n",
       "    <tr>\n",
       "      <th>0</th>\n",
       "      <td>0</td>\n",
       "      <td>Daniel R. Lucey is a senior scholar with the O...</td>\n",
       "      <td>Daniel R. Lucey is an American physician, rese...</td>\n",
       "      <td>DOC0: 2016 Angola and DR Congo yellow fever ou...</td>\n",
       "      <td>Public Health Emergency of International Concern</td>\n",
       "      <td></td>\n",
       "      <td>copyedits, wikify</td>\n",
       "    </tr>\n",
       "    <tr>\n",
       "      <th>1</th>\n",
       "      <td>1</td>\n",
       "      <td>Rob Daviau is a prolific American game designe...</td>\n",
       "      <td>Rob Daviau is an American game designer known ...</td>\n",
       "      <td>DOC0: Return to Dark Tower Development In addi...</td>\n",
       "      <td>Spiel des Jahres</td>\n",
       "      <td></td>\n",
       "      <td>daviau is not credited as the designer of over...</td>\n",
       "    </tr>\n",
       "    <tr>\n",
       "      <th>2</th>\n",
       "      <td>2</td>\n",
       "      <td>North Down is a parliamentary constituency in ...</td>\n",
       "      <td>North Down is a parliamentary constituency in ...</td>\n",
       "      <td>DOC0: List of parliamentary constituencies in ...</td>\n",
       "      <td>Liberalism in the United Kingdom</td>\n",
       "      <td></td>\n",
       "      <td>update</td>\n",
       "    </tr>\n",
       "    <tr>\n",
       "      <th>3</th>\n",
       "      <td>3</td>\n",
       "      <td>Chaldean Catholics (; ), also known as Chaldea...</td>\n",
       "      <td>Chaldean Catholics () (), also known as Chalde...</td>\n",
       "      <td>DOC0: Nusaybin History - Modern history Syrian...</td>\n",
       "      <td>Ibrahim Pasha Milli</td>\n",
       "      <td></td>\n",
       "      <td>reworded intro a bit</td>\n",
       "    </tr>\n",
       "    <tr>\n",
       "      <th>4</th>\n",
       "      <td>4</td>\n",
       "      <td>Prevalence of tobacco use is reported by the W...</td>\n",
       "      <td>Prevalence of tobacco use is reported by the W...</td>\n",
       "      <td>DOC0: Sustainable Development Goal 3 Targets, ...</td>\n",
       "      <td>Heated tobacco product</td>\n",
       "      <td></td>\n",
       "      <td>/* prevalence */ reword who reference</td>\n",
       "    </tr>\n",
       "  </tbody>\n",
       "</table>\n",
       "</div>"
      ],
      "text/plain": [
       "   Unnamed: 0                                           old_text  \\\n",
       "0           0  Daniel R. Lucey is a senior scholar with the O...   \n",
       "1           1  Rob Daviau is a prolific American game designe...   \n",
       "2           2  North Down is a parliamentary constituency in ...   \n",
       "3           3  Chaldean Catholics (; ), also known as Chaldea...   \n",
       "4           4  Prevalence of tobacco use is reported by the W...   \n",
       "\n",
       "                                            new_text  \\\n",
       "0  Daniel R. Lucey is an American physician, rese...   \n",
       "1  Rob Daviau is an American game designer known ...   \n",
       "2  North Down is a parliamentary constituency in ...   \n",
       "3  Chaldean Catholics () (), also known as Chalde...   \n",
       "4  Prevalence of tobacco use is reported by the W...   \n",
       "\n",
       "                                      docs_processed  \\\n",
       "0  DOC0: 2016 Angola and DR Congo yellow fever ou...   \n",
       "1  DOC0: Return to Dark Tower Development In addi...   \n",
       "2  DOC0: List of parliamentary constituencies in ...   \n",
       "3  DOC0: Nusaybin History - Modern history Syrian...   \n",
       "4  DOC0: Sustainable Development Goal 3 Targets, ...   \n",
       "\n",
       "                                             titles comment  \\\n",
       "0  Public Health Emergency of International Concern           \n",
       "1                                  Spiel des Jahres           \n",
       "2                  Liberalism in the United Kingdom           \n",
       "3                               Ibrahim Pasha Milli           \n",
       "4                            Heated tobacco product           \n",
       "\n",
       "                                   generated_comment  \n",
       "0                                  copyedits, wikify  \n",
       "1  daviau is not credited as the designer of over...  \n",
       "2                                             update  \n",
       "3                               reworded intro a bit  \n",
       "4              /* prevalence */ reword who reference  "
      ]
     },
     "execution_count": 22,
     "metadata": {},
     "output_type": "execute_result"
    }
   ],
   "source": [
    "train.head()"
   ]
  },
  {
   "cell_type": "code",
   "execution_count": 23,
   "id": "6c98e223",
   "metadata": {},
   "outputs": [
    {
     "data": {
      "text/plain": [
       "(114515, 7)"
      ]
     },
     "execution_count": 23,
     "metadata": {},
     "output_type": "execute_result"
    }
   ],
   "source": [
    "train.shape"
   ]
  },
  {
   "cell_type": "code",
   "execution_count": null,
   "id": "63190b63",
   "metadata": {},
   "outputs": [],
   "source": []
  }
 ],
 "metadata": {
  "kernelspec": {
   "display_name": "Python 3 (ipykernel)",
   "language": "python",
   "name": "python3"
  },
  "language_info": {
   "codemirror_mode": {
    "name": "ipython",
    "version": 3
   },
   "file_extension": ".py",
   "mimetype": "text/x-python",
   "name": "python",
   "nbconvert_exporter": "python",
   "pygments_lexer": "ipython3",
   "version": "3.9.13"
  }
 },
 "nbformat": 4,
 "nbformat_minor": 5
}
