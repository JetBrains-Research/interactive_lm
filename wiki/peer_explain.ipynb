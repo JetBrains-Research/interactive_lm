{
 "cells": [
  {
   "cell_type": "code",
   "execution_count": 1,
   "metadata": {},
   "outputs": [],
   "source": [
    "import re\n",
    "import os\n",
    "import torch\n",
    "import json\n",
    "import numpy as np\n",
    "import pandas as pd\n",
    "import seaborn as sns\n",
    "import transformers\n",
    "import matplotlib.pyplot as plt\n",
    "import warnings\n",
    "warnings.filterwarnings(\"ignore\")\n",
    "\n",
    "from transformers import T5Tokenizer, T5TokenizerFast, T5ForConditionalGeneration\n",
    "from transformers.tokenization_utils import PreTrainedTokenizer\n",
    "from transformers.tokenization_utils_fast import PreTrainedTokenizerFast\n",
    "from typing import Callable, Union, Tuple\n",
    "from tqdm.notebook import tqdm\n",
    "from collections import Counter\n",
    "from torch import nn\n",
    "from catalyst import dl\n",
    "from catalyst.callbacks.periodic_loader import PeriodicLoaderCallback\n",
    "from langdetect import detect\n",
    "from easse.sari import corpus_sari\n",
    "from rouge import Rouge \n",
    "\n",
    "from utils.dataset_utils import extract_com8text_from_tgt, extract_text8docs_from_src\n",
    "from utils.dataset_utils import EditDataset, get_tgt, get_src, COM_SEP, TEXT_SEP_SRC, TEXT_SEP_TGT, DOCS_SEP\n",
    "from utils.dataset_utils import ExplainDataset, get_tgt_explain, get_src_explain\n",
    "from utils.metrics_utils import PeerEditMetricsCallback, PeerExplainMetricsCallback\n",
    "from utils.config import Config\n",
    "\n",
    "\n",
    "DOCS_DIR = 'data'\n",
    "PAGES_DIR = 'data'"
   ]
  },
  {
   "cell_type": "code",
   "execution_count": 2,
   "metadata": {},
   "outputs": [],
   "source": [
    "CONFIG = Config()\n",
    "CONFIG.seed = 1337"
   ]
  },
  {
   "cell_type": "code",
   "execution_count": 3,
   "metadata": {},
   "outputs": [],
   "source": [
    "import random\n",
    "\n",
    "random.seed(CONFIG.seed)\n",
    "os.environ['PYTHONHASHSEED'] = str(CONFIG.seed)\n",
    "np.random.seed(CONFIG.seed)\n",
    "torch.manual_seed(CONFIG.seed)\n",
    "torch.cuda.manual_seed(CONFIG.seed)\n",
    "torch.backends.cudnn.deterministic = True\n",
    "torch.backends.cudnn.benchmark = True"
   ]
  },
  {
   "cell_type": "markdown",
   "metadata": {},
   "source": [
    "## Data preparing"
   ]
  },
  {
   "cell_type": "code",
   "execution_count": 4,
   "metadata": {},
   "outputs": [],
   "source": [
    "mp = json.load(open(r\"data/column_mapper.json\"))\n",
    "\n",
    "train = pd.read_json(r'data/train.json')\n",
    "train.set_axis(mp.values(), axis='columns', inplace=True)\n",
    "\n",
    "test = pd.read_json(r'data/test.json')\n",
    "test.set_axis(mp.values(), axis='columns', inplace=True)\n",
    "\n",
    "val = pd.read_json(r'data/val.json')\n",
    "val.set_axis(mp.values(), axis='columns', inplace=True)\n",
    "val1 = val.sample(600)"
   ]
  },
  {
   "cell_type": "code",
   "execution_count": 5,
   "metadata": {},
   "outputs": [
    {
     "data": {
      "text/html": [
       "<div>\n",
       "<style scoped>\n",
       "    .dataframe tbody tr th:only-of-type {\n",
       "        vertical-align: middle;\n",
       "    }\n",
       "\n",
       "    .dataframe tbody tr th {\n",
       "        vertical-align: top;\n",
       "    }\n",
       "\n",
       "    .dataframe thead th {\n",
       "        text-align: right;\n",
       "    }\n",
       "</style>\n",
       "<table border=\"1\" class=\"dataframe\">\n",
       "  <thead>\n",
       "    <tr style=\"text-align: right;\">\n",
       "      <th></th>\n",
       "      <th>obj_id</th>\n",
       "      <th>old_text</th>\n",
       "      <th>new_text</th>\n",
       "      <th>comment</th>\n",
       "      <th>docs</th>\n",
       "      <th>diff</th>\n",
       "      <th>title</th>\n",
       "      <th>search_queries</th>\n",
       "      <th>counter_found_docs</th>\n",
       "      <th>section_name</th>\n",
       "      <th>is_good</th>\n",
       "      <th>docs_processed</th>\n",
       "    </tr>\n",
       "  </thead>\n",
       "  <tbody>\n",
       "    <tr>\n",
       "      <th>0</th>\n",
       "      <td>13807</td>\n",
       "      <td>People Who Fear People was another project tha...</td>\n",
       "      <td>People Who Fear People Variety, August 17th, 1...</td>\n",
       "      <td>/* People Who Fear People (1999) */ Added refe...</td>\n",
       "      <td>Maria Pitillo (born January 8, 1966) is an Ame...</td>\n",
       "      <td>Variety, August 17th, 1999 Page 5</td>\n",
       "      <td>Maria Pitillo</td>\n",
       "      <td>[Maria Pitillo  People Who Fear People (1999) ...</td>\n",
       "      <td>[28]</td>\n",
       "      <td>People Who Fear People (1999)</td>\n",
       "      <td>True</td>\n",
       "      <td>DOC0: Maria Pitillo (born January 8, 1966) is ...</td>\n",
       "    </tr>\n",
       "    <tr>\n",
       "      <th>1</th>\n",
       "      <td>1431</td>\n",
       "      <td>Thank you for signing my signbook. :) &lt;3 Tinkl...</td>\n",
       "      <td>Thank you for signing my signbook. :) &lt;3 Tinkl...</td>\n",
       "      <td>/* Thank You */ re</td>\n",
       "      <td>Councilmember Antonio López. 584 likes. Welcom...</td>\n",
       "      <td>\\n:your welcome</td>\n",
       "      <td>Antonio Lopez</td>\n",
       "      <td>[Antonio Lopez  Thank You \\n:your welcome]</td>\n",
       "      <td>[24]</td>\n",
       "      <td>Thank You</td>\n",
       "      <td>True</td>\n",
       "      <td>DOC0: Councilmember Antonio López. 584 likes. ...</td>\n",
       "    </tr>\n",
       "    <tr>\n",
       "      <th>2</th>\n",
       "      <td>1362</td>\n",
       "      <td>Mark Ward may refer to:\\n* Mark Ward (football...</td>\n",
       "      <td>Mark Ward may refer to:\\n* Mark Ward (football...</td>\n",
       "      <td>Added in Mark Ward Sinn Féin TD for Dublin Mid...</td>\n",
       "      <td>Email me. Spokesperson for Mental Health. Mark...</td>\n",
       "      <td>\\n* Mark Ward Sinn Féin TD for Dublin Mid West</td>\n",
       "      <td>Mark Ward</td>\n",
       "      <td>[Mark Ward \\n* Mark Ward Sinn Féin TD for Dubl...</td>\n",
       "      <td>[28]</td>\n",
       "      <td></td>\n",
       "      <td>True</td>\n",
       "      <td>DOC0: Email me. Spokesperson for Mental Health...</td>\n",
       "    </tr>\n",
       "    <tr>\n",
       "      <th>3</th>\n",
       "      <td>10057</td>\n",
       "      <td>National Schools Tree Day is held on the last ...</td>\n",
       "      <td>National Schools Tree Day is held on the last ...</td>\n",
       "      <td>Removed footnote reference to wikipedia article</td>\n",
       "      <td>While every day can be Tree Day, we dedicate c...</td>\n",
       "      <td>(See Planet Ark).</td>\n",
       "      <td>Arbor Day</td>\n",
       "      <td>[Arbor Day  Australia (See Planet Ark).]</td>\n",
       "      <td>[27]</td>\n",
       "      <td>Australia</td>\n",
       "      <td>True</td>\n",
       "      <td>DOC0: While every day can be Tree Day, we dedi...</td>\n",
       "    </tr>\n",
       "    <tr>\n",
       "      <th>4</th>\n",
       "      <td>4566</td>\n",
       "      <td>* Bea Alonzo as Architect Basha-Belinda Eugeni...</td>\n",
       "      <td>* Bea Alonzo as Architect Basha-Belinda Eugeni...</td>\n",
       "      <td>/* Cast */ Added links</td>\n",
       "      <td>Top cast ; John Lloyd Cruz · Popoy ; Bea Alonz...</td>\n",
       "      <td>Rodolfo \"</td>\n",
       "      <td>A Second Chance (2015 film)</td>\n",
       "      <td>[A Second Chance (2015 film) Cast Rodolfo \"]</td>\n",
       "      <td>[27]</td>\n",
       "      <td>Cast</td>\n",
       "      <td>True</td>\n",
       "      <td>DOC0: Top cast ; John Lloyd Cruz · Popoy ; Bea...</td>\n",
       "    </tr>\n",
       "  </tbody>\n",
       "</table>\n",
       "</div>"
      ],
      "text/plain": [
       "   obj_id                                           old_text  \\\n",
       "0   13807  People Who Fear People was another project tha...   \n",
       "1    1431  Thank you for signing my signbook. :) <3 Tinkl...   \n",
       "2    1362  Mark Ward may refer to:\\n* Mark Ward (football...   \n",
       "3   10057  National Schools Tree Day is held on the last ...   \n",
       "4    4566  * Bea Alonzo as Architect Basha-Belinda Eugeni...   \n",
       "\n",
       "                                            new_text  \\\n",
       "0  People Who Fear People Variety, August 17th, 1...   \n",
       "1  Thank you for signing my signbook. :) <3 Tinkl...   \n",
       "2  Mark Ward may refer to:\\n* Mark Ward (football...   \n",
       "3  National Schools Tree Day is held on the last ...   \n",
       "4  * Bea Alonzo as Architect Basha-Belinda Eugeni...   \n",
       "\n",
       "                                             comment  \\\n",
       "0  /* People Who Fear People (1999) */ Added refe...   \n",
       "1                                 /* Thank You */ re   \n",
       "2  Added in Mark Ward Sinn Féin TD for Dublin Mid...   \n",
       "3    Removed footnote reference to wikipedia article   \n",
       "4                             /* Cast */ Added links   \n",
       "\n",
       "                                                docs  \\\n",
       "0  Maria Pitillo (born January 8, 1966) is an Ame...   \n",
       "1  Councilmember Antonio López. 584 likes. Welcom...   \n",
       "2  Email me. Spokesperson for Mental Health. Mark...   \n",
       "3  While every day can be Tree Day, we dedicate c...   \n",
       "4  Top cast ; John Lloyd Cruz · Popoy ; Bea Alonz...   \n",
       "\n",
       "                                             diff  \\\n",
       "0               Variety, August 17th, 1999 Page 5   \n",
       "1                                 \\n:your welcome   \n",
       "2  \\n* Mark Ward Sinn Féin TD for Dublin Mid West   \n",
       "3                               (See Planet Ark).   \n",
       "4                                       Rodolfo \"   \n",
       "\n",
       "                         title  \\\n",
       "0                Maria Pitillo   \n",
       "1                Antonio Lopez   \n",
       "2                    Mark Ward   \n",
       "3                    Arbor Day   \n",
       "4  A Second Chance (2015 film)   \n",
       "\n",
       "                                      search_queries counter_found_docs  \\\n",
       "0  [Maria Pitillo  People Who Fear People (1999) ...               [28]   \n",
       "1         [Antonio Lopez  Thank You \\n:your welcome]               [24]   \n",
       "2  [Mark Ward \\n* Mark Ward Sinn Féin TD for Dubl...               [28]   \n",
       "3           [Arbor Day  Australia (See Planet Ark).]               [27]   \n",
       "4       [A Second Chance (2015 film) Cast Rodolfo \"]               [27]   \n",
       "\n",
       "                      section_name  is_good  \\\n",
       "0   People Who Fear People (1999)      True   \n",
       "1                       Thank You      True   \n",
       "2                                      True   \n",
       "3                       Australia      True   \n",
       "4                             Cast     True   \n",
       "\n",
       "                                      docs_processed  \n",
       "0  DOC0: Maria Pitillo (born January 8, 1966) is ...  \n",
       "1  DOC0: Councilmember Antonio López. 584 likes. ...  \n",
       "2  DOC0: Email me. Spokesperson for Mental Health...  \n",
       "3  DOC0: While every day can be Tree Day, we dedi...  \n",
       "4  DOC0: Top cast ; John Lloyd Cruz · Popoy ; Bea...  "
      ]
     },
     "execution_count": 5,
     "metadata": {},
     "output_type": "execute_result"
    }
   ],
   "source": [
    "train.head()"
   ]
  },
  {
   "cell_type": "code",
   "execution_count": 6,
   "metadata": {},
   "outputs": [],
   "source": [
    "CONFIG.src_max_len = 1024\n",
    "CONFIG.tgt_max_len = 128\n",
    "CONFIG.pretrained = 't5-small'\n",
    "CONFIG.batch_size = 4\n",
    "\n",
    "tokenizer = T5TokenizerFast.from_pretrained(CONFIG.pretrained, model_max_length=CONFIG.src_max_len)"
   ]
  },
  {
   "cell_type": "code",
   "execution_count": 7,
   "metadata": {},
   "outputs": [
    {
     "name": "stdout",
     "output_type": "stream",
     "text": [
      "Old text: Thank you for signing my signbook. :) <3 Tinkleheimer TALK!! 03:12, 10 June 2008 (UTC)\n",
      "\n",
      "\n",
      "New text: Thank you for signing my signbook. :) <3 Tinkleheimer TALK!! 03:12, 10 June 2008 (UTC)\n",
      ":your welcome\n",
      "\n",
      "\n",
      "Comment: /* Thank You */ re\n",
      "\n",
      "\n",
      "Docs: DOC0: Councilmember Antonio López. 584 likes. Welcome to my official government page for my office as councilman for the City of East Palo Alto. As its newest DOC1: Nov 24, 2021 — Hello and welcome to For The Wild Podcast, I'm Ayana Young.. Well, Antonio, thank you so much for spending time with us on For The Wild DOC2: Gruau - fashion illustrations. My scans. You're welcome to post these elsewhere but please consider linking back to my flickr. Thank you DOC3: Thank you to our former council for all… · Very excited to be a part of the… · Dear Friends, On Saturday, January… DOC4: Learn more about Antonio Lopez's work experience, education, connections & more by visiting their profile on LinkedIn.. Thank you for the award DOC5: Jan 5, 2021 — East Palo Alto City Council member Antonio Lopez is asking Sequoia. figured out that you need diversity within your leadership teams\n",
      "\n",
      "\n",
      "Src: thank you for signing my signbook. :) <3 tinkleheimer talk!! 03:12, 10 june 2008 (utc) TEXT_SEP thank you for signing my signbook. :) <3 tinkleheimer talk!! 03:12, 10 june 2008 (utc)\n",
      ":your welcome DOCS_SEP doc0: councilmember antonio lópez. 584 likes. welcome to my official government page for my office as councilman for the city of east palo alto. as its newest doc1: nov 24, 2021 — hello and welcome to for the wild podcast, i'm ayana young.. well, antonio, thank you so much for spending time with us on for the wild doc2: gruau - fashion illustrations. my scans. you're welcome to post these elsewhere but please consider linking back to my flickr. thank you doc3: thank you to our former council for all… · very excited to be a part of the… · dear friends, on saturday, january… doc4: learn more about antonio lopez's work experience, education, connections & more by visiting their profile on linkedin.. thank you for the award doc5: jan 5, 2021 — east palo alto city council member antonio lopez is asking sequoia. figured out that you need diversity within your leadership teams\n",
      "\n",
      "\n",
      "Tgt: /* thank you */ re\n",
      "\n",
      "\n"
     ]
    }
   ],
   "source": [
    "idx = 1\n",
    "el_idx = train.iloc[idx]\n",
    "\n",
    "docs = el_idx['docs_processed']\n",
    "comment = el_idx['comment']\n",
    "old_text = el_idx['old_text']\n",
    "new_text = el_idx['new_text']\n",
    "\n",
    "print(f'Old text: {old_text}\\n\\n')\n",
    "print(f'New text: {new_text}\\n\\n')\n",
    "print(f'Comment: {comment}\\n\\n')\n",
    "print(f'Docs: {docs}\\n\\n')\n",
    "\n",
    "src = get_src_explain(el_idx)\n",
    "tgt = get_tgt_explain(el_idx)\n",
    "\n",
    "print(f'Src: {src}\\n\\n')\n",
    "print(f'Tgt: {tgt}\\n\\n')"
   ]
  },
  {
   "cell_type": "markdown",
   "metadata": {},
   "source": [
    "**Make dataset**"
   ]
  },
  {
   "cell_type": "code",
   "execution_count": 8,
   "metadata": {},
   "outputs": [],
   "source": [
    "ds_train = ExplainDataset(train, tokenizer, CONFIG, text_to_lower=True, comment_to_lower=True)\n",
    "ds_val = ExplainDataset(val1, tokenizer, CONFIG, text_to_lower=True, comment_to_lower=True)\n",
    "ds_val_full = ExplainDataset(val, tokenizer, CONFIG, text_to_lower=True, comment_to_lower=True)"
   ]
  },
  {
   "cell_type": "markdown",
   "metadata": {},
   "source": [
    "**Len distribution**"
   ]
  },
  {
   "cell_type": "code",
   "execution_count": 9,
   "metadata": {},
   "outputs": [
    {
     "data": {
      "image/png": "[encoded data removed]",
      "text/plain": [
       "<Figure size 432x288 with 1 Axes>"
      ]
     },
     "metadata": {
      "needs_background": "light"
     },
     "output_type": "display_data"
    }
   ],
   "source": [
    "arr_src = []\n",
    "arr_tgt = []\n",
    "for src_q, tgt_q in ds_train:\n",
    "    arr_src.append(len(src_q['input_ids']))\n",
    "    arr_tgt.append(len(tgt_q['input_ids']))\n",
    "\n",
    "sns.distplot(arr_src, label='src');\n",
    "plt.legend();\n",
    "sns.distplot(arr_tgt, label='tgt');\n",
    "plt.legend();"
   ]
  },
  {
   "cell_type": "code",
   "execution_count": 10,
   "metadata": {},
   "outputs": [
    {
     "data": {
      "image/png": "[encoded data removed]",
      "text/plain": [
       "<Figure size 432x288 with 1 Axes>"
      ]
     },
     "metadata": {
      "needs_background": "light"
     },
     "output_type": "display_data"
    }
   ],
   "source": [
    "arr_src = []\n",
    "arr_tgt = []\n",
    "for src_q, tgt_q in ds_val:\n",
    "    arr_src.append(len(src_q['input_ids']))\n",
    "    arr_tgt.append(len(tgt_q['input_ids']))\n",
    "\n",
    "sns.distplot(arr_src, label='src');\n",
    "plt.legend();\n",
    "sns.distplot(arr_tgt, label='tgt');\n",
    "plt.legend();"
   ]
  },
  {
   "cell_type": "code",
   "execution_count": 11,
   "metadata": {},
   "outputs": [],
   "source": [
    "idx_num = 0\n",
    "src_text = tokenizer.decode(ds_train[idx_num][0]['input_ids'], skip_special_tokens=True)\n",
    "tgt_text = tokenizer.decode(ds_train[idx_num][1]['input_ids'], skip_special_tokens=True)"
   ]
  },
  {
   "cell_type": "code",
   "execution_count": 12,
   "metadata": {
    "scrolled": true
   },
   "outputs": [
    {
     "name": "stdout",
     "output_type": "stream",
     "text": [
      "people who fear people was another project that didn't get off the board, however, jon cryer, a partners co-star, was also penciled in to participate in this project. djfitzgerald111 (talk) 16:31, 17 november 2013 (utc) TEXT_SEP people who fear people variety, august 17th, 1999 page 5 was another project that didn't get off the board, however, jon cryer, a partners co-star, was also penciled in to participate in this project. djfitzgerald111 (talk) 16:31, 17 november 2013 (utc) DOCS_SEP doc0: maria pitillo (born january 8, 1966) is an american retired actress. she has starred in films and on television, most notably as audrey timmonds in godzilla (1998).. people who fear people (1999) w/jon cryer, directed by james burrows. jon cryer, a partners co-star, participated in this project doc1: aug 17, 1999 12:00am pt abc sets appointment for cryers couch trip pilot astin, krumholtz, campbell fear people by cynthia littleton abc is moving forward with a pilot for paramount doc2: 1999 - providence (1999) tv series ----- tina calcatera hansen (2001-2002). send me your maria pitillo page link and i will be glad to add it to the list.. and official links to their web sites... scans of people on the move by casenet people index people profiles top index www.casenet.com people editor - patricia burke pjskidoo doc3: top result for maria pitillo 1 the best result we found for your search is maria addison age 50s in calistoga, ca. they have also lived in west hollywood, ca and ross, ca. maria is related to michele lea rosier and david roger fortney as well as 2 additional people. select this result to view maria addisons phone number, address, and more doc4: entertainment news, film reviews, awards, film festivals, box office, entertainment industry conferences doc5: life path number 5 august 3, 1491 - maria of jülich-berg (d. 1543). life path number 8 june 18, 1521 - maria of portugal, duchess of viseu (d. 1577). life path number 6 june 21, 1528 - maria of austria, holy roman empress (d. 1603). life path number 7 may 15, 1531 - maria of austria, duchess of jülich-cleves-berg (d. 1581). life path\n",
      "\n",
      "/* people who fear people (1999) */ added reference\n"
     ]
    }
   ],
   "source": [
    "print(f'{src_text}\\n\\n{tgt_text}')"
   ]
  },
  {
   "cell_type": "markdown",
   "metadata": {},
   "source": [
    "## Model training"
   ]
  },
  {
   "cell_type": "code",
   "execution_count": 13,
   "metadata": {},
   "outputs": [],
   "source": [
    "loaders = {\n",
    "    'train': torch.utils.data.DataLoader(ds_train, \n",
    "                                         batch_size=CONFIG.batch_size,\n",
    "                                         collate_fn=lambda x: EditDataset.collate_fn(x, tokenizer, CONFIG),\n",
    "                                         num_workers=4, shuffle=True),\n",
    "    'valid_full': torch.utils.data.DataLoader(ds_val_full, \n",
    "                                         batch_size=CONFIG.batch_size,\n",
    "                                         collate_fn=lambda x: EditDataset.collate_fn(x, tokenizer, CONFIG),\n",
    "                                         num_workers=4, shuffle=False),\n",
    "    'valid_subset': torch.utils.data.DataLoader(ds_val, \n",
    "                                         batch_size=CONFIG.batch_size,\n",
    "                                         collate_fn=lambda x: EditDataset.collate_fn(x, tokenizer, CONFIG),\n",
    "                                         num_workers=4, shuffle=False)\n",
    "}"
   ]
  },
  {
   "cell_type": "code",
   "execution_count": 16,
   "metadata": {},
   "outputs": [],
   "source": [
    "class ExplainModel(nn.Module):\n",
    "    def __init__(self, \n",
    "                 pretrained: transformers.modeling_utils.PreTrainedModel, \n",
    "                 config: Config):\n",
    "        super(ExplainModel, self).__init__()\n",
    "        self.pretrained = pretrained\n",
    "        \n",
    "\n",
    "    def forward(self, \n",
    "                x: Tuple[torch.Tensor, torch.Tensor]):\n",
    "        src, tgt = x\n",
    "        \n",
    "        tgt[tgt == 0] == -100\n",
    "        \n",
    "        loss = self.pretrained(\n",
    "            input_ids = src,\n",
    "            attention_mask = (src != 0).float(),\n",
    "            labels=tgt,\n",
    "        ).loss\n",
    "        return loss\n",
    "    \n",
    "    \n",
    "class Criterion(nn.Module):\n",
    "    def __init__(self):\n",
    "        super(Criterion, self).__init__()\n",
    "        \n",
    "    def forward(self, pred, tgt):\n",
    "        return pred"
   ]
  },
  {
   "cell_type": "code",
   "execution_count": 17,
   "metadata": {},
   "outputs": [],
   "source": [
    "model = ExplainModel(\n",
    "    T5ForConditionalGeneration.from_pretrained(CONFIG.pretrained),\n",
    "    CONFIG\n",
    ")\n",
    "CONFIG.optimizer = 'Adam(lr=0.0001)'\n",
    "optimizer = torch.optim.Adam(model.parameters(), lr=0.0001)\n",
    "\n",
    "CONFIG.name = f'{CONFIG.pretrained}'\n",
    "CONFIG.description = f'{CONFIG.name} p(comment | x_t, x_t+1, doc)'\n",
    "CONFIG.group = \"wiki_explain\""
   ]
  },
  {
   "cell_type": "code",
   "execution_count": 18,
   "metadata": {},
   "outputs": [],
   "source": [
    "!rm -rf ./models/\"{CONFIG.description}\""
   ]
  },
  {
   "cell_type": "code",
   "execution_count": 19,
   "metadata": {},
   "outputs": [],
   "source": [
    "CONFIG.n_epochs = 40"
   ]
  },
  {
   "cell_type": "code",
   "execution_count": 20,
   "metadata": {},
   "outputs": [],
   "source": [
    "METRIC_LIST = [\n",
    "    'full__exact_match@1',\n",
    "    'full__exact_match@5'\n",
    "]   "
   ]
  },
  {
   "cell_type": "code",
   "execution_count": null,
   "metadata": {
    "scrolled": true
   },
   "outputs": [
    {
     "name": "stderr",
     "output_type": "stream",
     "text": [
      "Failed to detect the name of this notebook, you can set it manually with the WANDB_NOTEBOOK_NAME environment variable to enable code saving.\n",
      "\u001b[34m\u001b[1mwandb\u001b[0m: Currently logged in as: \u001b[33manton-sh\u001b[0m. Use \u001b[1m`wandb login --relogin`\u001b[0m to force relogin\n"
     ]
    },
    {
     "data": {
      "text/html": [
       "wandb version 0.13.9 is available!  To upgrade, please run:\n",
       " $ pip install wandb --upgrade"
      ],
      "text/plain": [
       "<IPython.core.display.HTML object>"
      ]
     },
     "metadata": {},
     "output_type": "display_data"
    },
    {
     "data": {
      "text/html": [
       "Tracking run with wandb version 0.13.6"
      ],
      "text/plain": [
       "<IPython.core.display.HTML object>"
      ]
     },
     "metadata": {},
     "output_type": "display_data"
    },
    {
     "data": {
      "text/html": [
       "Run data is saved locally in <code>/home/ubuntu/interactive_lm/wiki/wandb/run-20230114_155014-t6s25q2b</code>"
      ],
      "text/plain": [
       "<IPython.core.display.HTML object>"
      ]
     },
     "metadata": {},
     "output_type": "display_data"
    },
    {
     "data": {
      "text/html": [
       "Syncing run <strong><a href=\"https://wandb.ai/anton-sh/interactive_lm/runs/t6s25q2b\" target=\"_blank\">t5-small</a></strong> to <a href=\"https://wandb.ai/anton-sh/interactive_lm\" target=\"_blank\">Weights & Biases</a> (<a href=\"https://wandb.me/run\" target=\"_blank\">docs</a>)<br/>"
      ],
      "text/plain": [
       "<IPython.core.display.HTML object>"
      ]
     },
     "metadata": {},
     "output_type": "display_data"
    },
    {
     "data": {
      "application/vnd.jupyter.widget-view+json": {
       "model_id": "da245b8068a3405fb76e5cd78d1e3bce",
       "version_major": 2,
       "version_minor": 0
      },
      "text/plain": [
       "HBox(children=(FloatProgress(value=0.0, description='1/40 * Epoch (train)', max=17400.0, style=ProgressStyle(d…"
      ]
     },
     "metadata": {},
     "output_type": "display_data"
    },
    {
     "name": "stderr",
     "output_type": "stream",
     "text": [
      "You're using a T5TokenizerFast tokenizer. Please note that with a fast tokenizer, using the `__call__` method is faster than using a method to encode the text followed by a call to the `pad` method to get a padded encoding.\n",
      "You're using a T5TokenizerFast tokenizer. Please note that with a fast tokenizer, using the `__call__` method is faster than using a method to encode the text followed by a call to the `pad` method to get a padded encoding.\n",
      "You're using a T5TokenizerFast tokenizer. Please note that with a fast tokenizer, using the `__call__` method is faster than using a method to encode the text followed by a call to the `pad` method to get a padded encoding.\n",
      "You're using a T5TokenizerFast tokenizer. Please note that with a fast tokenizer, using the `__call__` method is faster than using a method to encode the text followed by a call to the `pad` method to get a padded encoding.\n"
     ]
    },
    {
     "name": "stdout",
     "output_type": "stream",
     "text": [
      "\r\n",
      "train (1/40) loss: 1.649361021394529 | loss/mean: 1.649361021394529 | loss/std: 0.6030974367873485 | lr: 0.0001 | momentum: 0.9\n"
     ]
    },
    {
     "data": {
      "application/vnd.jupyter.widget-view+json": {
       "model_id": "8e3b468d3fa24974805da6bd62a85cd3",
       "version_major": 2,
       "version_minor": 0
      },
      "text/plain": [
       "HBox(children=(FloatProgress(value=0.0, description='1/40 * Epoch (valid_subset)', max=150.0, style=ProgressSt…"
      ]
     },
     "metadata": {},
     "output_type": "display_data"
    },
    {
     "name": "stderr",
     "output_type": "stream",
     "text": [
      "You're using a T5TokenizerFast tokenizer. Please note that with a fast tokenizer, using the `__call__` method is faster than using a method to encode the text followed by a call to the `pad` method to get a padded encoding.\n",
      "You're using a T5TokenizerFast tokenizer. Please note that with a fast tokenizer, using the `__call__` method is faster than using a method to encode the text followed by a call to the `pad` method to get a padded encoding.\n",
      "You're using a T5TokenizerFast tokenizer. Please note that with a fast tokenizer, using the `__call__` method is faster than using a method to encode the text followed by a call to the `pad` method to get a padded encoding.\n",
      "You're using a T5TokenizerFast tokenizer. Please note that with a fast tokenizer, using the `__call__` method is faster than using a method to encode the text followed by a call to the `pad` method to get a padded encoding.\n"
     ]
    },
    {
     "name": "stdout",
     "output_type": "stream",
     "text": [
      "\n",
      "valid_subset (1/40) full__exact_match@1: 0.013333 | full__exact_match@1/std: 0.056221 | full__exact_match@5: 0.028333 | full__exact_match@5/std: 0.084414 | loss: 1.2900743212302532 | loss/mean: 1.2900743212302532 | loss/std: 0.5006436280814154 | lr: 0.0001 | momentum: 0.9\n",
      "* Epoch (1/40) \n"
     ]
    },
    {
     "data": {
      "application/vnd.jupyter.widget-view+json": {
       "model_id": "b0b25257cdfd41da954a21e6d5de554f",
       "version_major": 2,
       "version_minor": 0
      },
      "text/plain": [
       "HBox(children=(FloatProgress(value=0.0, description='2/40 * Epoch (train)', max=17400.0, style=ProgressStyle(d…"
      ]
     },
     "metadata": {},
     "output_type": "display_data"
    },
    {
     "name": "stderr",
     "output_type": "stream",
     "text": [
      "You're using a T5TokenizerFast tokenizer. Please note that with a fast tokenizer, using the `__call__` method is faster than using a method to encode the text followed by a call to the `pad` method to get a padded encoding.\n",
      "You're using a T5TokenizerFast tokenizer. Please note that with a fast tokenizer, using the `__call__` method is faster than using a method to encode the text followed by a call to the `pad` method to get a padded encoding.\n",
      "You're using a T5TokenizerFast tokenizer. Please note that with a fast tokenizer, using the `__call__` method is faster than using a method to encode the text followed by a call to the `pad` method to get a padded encoding.\n",
      "You're using a T5TokenizerFast tokenizer. Please note that with a fast tokenizer, using the `__call__` method is faster than using a method to encode the text followed by a call to the `pad` method to get a padded encoding.\n"
     ]
    },
    {
     "name": "stdout",
     "output_type": "stream",
     "text": [
      "\r\n",
      "train (2/40) loss: 1.409217166704521 | loss/mean: 1.409217166704521 | loss/std: 0.512855662655884 | lr: 0.0001 | momentum: 0.9\n"
     ]
    },
    {
     "data": {
      "application/vnd.jupyter.widget-view+json": {
       "model_id": "44a1328ff21d4dce92ebac85d6c1bf9b",
       "version_major": 2,
       "version_minor": 0
      },
      "text/plain": [
       "HBox(children=(FloatProgress(value=0.0, description='2/40 * Epoch (valid_subset)', max=150.0, style=ProgressSt…"
      ]
     },
     "metadata": {},
     "output_type": "display_data"
    },
    {
     "name": "stderr",
     "output_type": "stream",
     "text": [
      "You're using a T5TokenizerFast tokenizer. Please note that with a fast tokenizer, using the `__call__` method is faster than using a method to encode the text followed by a call to the `pad` method to get a padded encoding.\n",
      "You're using a T5TokenizerFast tokenizer. Please note that with a fast tokenizer, using the `__call__` method is faster than using a method to encode the text followed by a call to the `pad` method to get a padded encoding.\n",
      "You're using a T5TokenizerFast tokenizer. Please note that with a fast tokenizer, using the `__call__` method is faster than using a method to encode the text followed by a call to the `pad` method to get a padded encoding.\n",
      "You're using a T5TokenizerFast tokenizer. Please note that with a fast tokenizer, using the `__call__` method is faster than using a method to encode the text followed by a call to the `pad` method to get a padded encoding.\n"
     ]
    },
    {
     "name": "stdout",
     "output_type": "stream",
     "text": [
      "\n",
      "valid_subset (2/40) full__exact_match@1: 0.015 | full__exact_match@1/std: 0.059421 | full__exact_match@5: 0.03 | full__exact_match@5/std: 0.086289 | loss: 1.2147189020117133 | loss/mean: 1.2147189020117133 | loss/std: 0.49655456094779366 | lr: 0.0001 | momentum: 0.9\n",
      "* Epoch (2/40) \n"
     ]
    },
    {
     "data": {
      "application/vnd.jupyter.widget-view+json": {
       "model_id": "56a901bb7e5b4c50aecf3fae3a375bbf",
       "version_major": 2,
       "version_minor": 0
      },
      "text/plain": [
       "HBox(children=(FloatProgress(value=0.0, description='3/40 * Epoch (train)', max=17400.0, style=ProgressStyle(d…"
      ]
     },
     "metadata": {},
     "output_type": "display_data"
    },
    {
     "name": "stderr",
     "output_type": "stream",
     "text": [
      "You're using a T5TokenizerFast tokenizer. Please note that with a fast tokenizer, using the `__call__` method is faster than using a method to encode the text followed by a call to the `pad` method to get a padded encoding.\n",
      "You're using a T5TokenizerFast tokenizer. Please note that with a fast tokenizer, using the `__call__` method is faster than using a method to encode the text followed by a call to the `pad` method to get a padded encoding.\n",
      "You're using a T5TokenizerFast tokenizer. Please note that with a fast tokenizer, using the `__call__` method is faster than using a method to encode the text followed by a call to the `pad` method to get a padded encoding.\n",
      "You're using a T5TokenizerFast tokenizer. Please note that with a fast tokenizer, using the `__call__` method is faster than using a method to encode the text followed by a call to the `pad` method to get a padded encoding.\n"
     ]
    },
    {
     "name": "stdout",
     "output_type": "stream",
     "text": [
      "\r\n",
      "train (3/40) loss: 1.3205825111484055 | loss/mean: 1.3205825111484055 | loss/std: 0.5032721566526529 | lr: 0.0001 | momentum: 0.9\n"
     ]
    },
    {
     "data": {
      "application/vnd.jupyter.widget-view+json": {
       "model_id": "e28047ec0ef047449934792eef102748",
       "version_major": 2,
       "version_minor": 0
      },
      "text/plain": [
       "HBox(children=(FloatProgress(value=0.0, description='3/40 * Epoch (valid_subset)', max=150.0, style=ProgressSt…"
      ]
     },
     "metadata": {},
     "output_type": "display_data"
    },
    {
     "name": "stderr",
     "output_type": "stream",
     "text": [
      "You're using a T5TokenizerFast tokenizer. Please note that with a fast tokenizer, using the `__call__` method is faster than using a method to encode the text followed by a call to the `pad` method to get a padded encoding.\n",
      "You're using a T5TokenizerFast tokenizer. Please note that with a fast tokenizer, using the `__call__` method is faster than using a method to encode the text followed by a call to the `pad` method to get a padded encoding.\n",
      "You're using a T5TokenizerFast tokenizer. Please note that with a fast tokenizer, using the `__call__` method is faster than using a method to encode the text followed by a call to the `pad` method to get a padded encoding.\n",
      "You're using a T5TokenizerFast tokenizer. Please note that with a fast tokenizer, using the `__call__` method is faster than using a method to encode the text followed by a call to the `pad` method to get a padded encoding.\n"
     ]
    },
    {
     "name": "stdout",
     "output_type": "stream",
     "text": [
      "\n",
      "valid_subset (3/40) full__exact_match@1: 0.023333 | full__exact_match@1/std: 0.07831 | full__exact_match@5: 0.043333 | full__exact_match@5/std: 0.099021 | loss: 1.1831096577644349 | loss/mean: 1.1831096577644349 | loss/std: 0.5020773595445669 | lr: 0.0001 | momentum: 0.9\n",
      "* Epoch (3/40) \n"
     ]
    },
    {
     "data": {
      "application/vnd.jupyter.widget-view+json": {
       "model_id": "23e3db38c995442aadeec30fb2c2c7d4",
       "version_major": 2,
       "version_minor": 0
      },
      "text/plain": [
       "HBox(children=(FloatProgress(value=0.0, description='4/40 * Epoch (train)', max=17400.0, style=ProgressStyle(d…"
      ]
     },
     "metadata": {},
     "output_type": "display_data"
    },
    {
     "name": "stderr",
     "output_type": "stream",
     "text": [
      "You're using a T5TokenizerFast tokenizer. Please note that with a fast tokenizer, using the `__call__` method is faster than using a method to encode the text followed by a call to the `pad` method to get a padded encoding.\n",
      "You're using a T5TokenizerFast tokenizer. Please note that with a fast tokenizer, using the `__call__` method is faster than using a method to encode the text followed by a call to the `pad` method to get a padded encoding.\n",
      "You're using a T5TokenizerFast tokenizer. Please note that with a fast tokenizer, using the `__call__` method is faster than using a method to encode the text followed by a call to the `pad` method to get a padded encoding.\n",
      "You're using a T5TokenizerFast tokenizer. Please note that with a fast tokenizer, using the `__call__` method is faster than using a method to encode the text followed by a call to the `pad` method to get a padded encoding.\n"
     ]
    },
    {
     "name": "stdout",
     "output_type": "stream",
     "text": [
      "\r\n",
      "train (4/40) loss: 1.2602585762019796 | loss/mean: 1.2602585762019796 | loss/std: 0.4848418918210503 | lr: 0.0001 | momentum: 0.9\n"
     ]
    },
    {
     "data": {
      "application/vnd.jupyter.widget-view+json": {
       "model_id": "5e8597b93aed407babd93ac6c0e6c6b1",
       "version_major": 2,
       "version_minor": 0
      },
      "text/plain": [
       "HBox(children=(FloatProgress(value=0.0, description='4/40 * Epoch (valid_subset)', max=150.0, style=ProgressSt…"
      ]
     },
     "metadata": {},
     "output_type": "display_data"
    },
    {
     "name": "stderr",
     "output_type": "stream",
     "text": [
      "You're using a T5TokenizerFast tokenizer. Please note that with a fast tokenizer, using the `__call__` method is faster than using a method to encode the text followed by a call to the `pad` method to get a padded encoding.\n",
      "You're using a T5TokenizerFast tokenizer. Please note that with a fast tokenizer, using the `__call__` method is faster than using a method to encode the text followed by a call to the `pad` method to get a padded encoding.\n",
      "You're using a T5TokenizerFast tokenizer. Please note that with a fast tokenizer, using the `__call__` method is faster than using a method to encode the text followed by a call to the `pad` method to get a padded encoding.\n",
      "You're using a T5TokenizerFast tokenizer. Please note that with a fast tokenizer, using the `__call__` method is faster than using a method to encode the text followed by a call to the `pad` method to get a padded encoding.\n"
     ]
    },
    {
     "name": "stdout",
     "output_type": "stream",
     "text": [
      "\n",
      "valid_subset (4/40) full__exact_match@1: 0.025 | full__exact_match@1/std: 0.075063 | full__exact_match@5: 0.048333 | full__exact_match@5/std: 0.106925 | loss: 1.1638787601391467 | loss/mean: 1.1638787601391467 | loss/std: 0.5029170623074395 | lr: 0.0001 | momentum: 0.9\n",
      "* Epoch (4/40) \n"
     ]
    },
    {
     "data": {
      "application/vnd.jupyter.widget-view+json": {
       "model_id": "99499b722b2e4050aabec34fe28ca3da",
       "version_major": 2,
       "version_minor": 0
      },
      "text/plain": [
       "HBox(children=(FloatProgress(value=0.0, description='5/40 * Epoch (train)', max=17400.0, style=ProgressStyle(d…"
      ]
     },
     "metadata": {},
     "output_type": "display_data"
    },
    {
     "name": "stderr",
     "output_type": "stream",
     "text": [
      "You're using a T5TokenizerFast tokenizer. Please note that with a fast tokenizer, using the `__call__` method is faster than using a method to encode the text followed by a call to the `pad` method to get a padded encoding.\n",
      "You're using a T5TokenizerFast tokenizer. Please note that with a fast tokenizer, using the `__call__` method is faster than using a method to encode the text followed by a call to the `pad` method to get a padded encoding.\n",
      "You're using a T5TokenizerFast tokenizer. Please note that with a fast tokenizer, using the `__call__` method is faster than using a method to encode the text followed by a call to the `pad` method to get a padded encoding.\n",
      "You're using a T5TokenizerFast tokenizer. Please note that with a fast tokenizer, using the `__call__` method is faster than using a method to encode the text followed by a call to the `pad` method to get a padded encoding.\n"
     ]
    }
   ],
   "source": [
    "runner = dl.SupervisedRunner()\n",
    "\n",
    "wandb_logger = dl.WandbLogger(project=\"interactive_lm\", \n",
    "                              name=CONFIG.name, \n",
    "                              group=CONFIG.group)\n",
    "\n",
    "runner.train(\n",
    "    loaders=loaders,\n",
    "    model=model,\n",
    "    criterion=Criterion(),\n",
    "    optimizer=optimizer,\n",
    "    num_epochs=CONFIG.n_epochs,\n",
    "    callbacks=[\n",
    "        PeriodicLoaderCallback(\n",
    "            valid_loader_key='valid_full',\n",
    "            valid_metric_key='loss',\n",
    "            minimize=True,\n",
    "            **{'valid_full': 5}\n",
    "        ),\n",
    "        PeerExplainMetricsCallback(METRIC_LIST, tokenizer),\n",
    "    ],\n",
    "    loggers={'wandb': wandb_logger},\n",
    "    logdir=f'./models/{CONFIG.description}',\n",
    "    valid_loader='valid_subset',\n",
    "    valid_metric='loss',\n",
    "    minimize_valid_metric=True,\n",
    "    verbose=True,\n",
    "#     check=True,\n",
    "#     cpu=True,\n",
    ")"
   ]
  },
  {
   "cell_type": "code",
   "execution_count": null,
   "metadata": {},
   "outputs": [],
   "source": []
  },
  {
   "cell_type": "code",
   "execution_count": null,
   "metadata": {},
   "outputs": [],
   "source": []
  },
  {
   "cell_type": "code",
   "execution_count": null,
   "metadata": {},
   "outputs": [],
   "source": []
  },
  {
   "cell_type": "code",
   "execution_count": null,
   "metadata": {},
   "outputs": [],
   "source": []
  },
  {
   "cell_type": "code",
   "execution_count": null,
   "metadata": {},
   "outputs": [],
   "source": []
  },
  {
   "cell_type": "code",
   "execution_count": null,
   "metadata": {},
   "outputs": [],
   "source": []
  },
  {
   "cell_type": "code",
   "execution_count": null,
   "metadata": {},
   "outputs": [],
   "source": []
  },
  {
   "cell_type": "code",
   "execution_count": null,
   "metadata": {},
   "outputs": [],
   "source": []
  },
  {
   "cell_type": "code",
   "execution_count": null,
   "metadata": {},
   "outputs": [],
   "source": []
  },
  {
   "cell_type": "markdown",
   "metadata": {},
   "source": [
    "CONFIG.beam_size = 1"
   ]
  },
  {
   "cell_type": "markdown",
   "metadata": {
    "scrolled": false
   },
   "source": [
    "device = runner.engine.device\n",
    "runner.model.eval()\n",
    "with torch.no_grad():\n",
    "    for i in [0, 1, 2]:\n",
    "        src_, tgt_ = ds_train[i]\n",
    "        src_inp = torch.tensor(src_['input_ids']).view(1,-1).to(runner.engine.device)\n",
    "        generated = runner.model.pretrained.generate(src_inp,\n",
    "                                              attention_mask=(src_inp != 0).float().to(runner.engine.device),\n",
    "                                            # pad_token_id=tokenizer.pad_token_id,\n",
    "                                            # bos_token_id=tokenizer.bos_token_id,\n",
    "                                            # eos_token_id=tokenizer.eos_token_id,\n",
    "                                              num_beams=CONFIG.beam_size,\n",
    "                                              num_return_sequences=CONFIG.beam_size,\n",
    "                                              max_length=1000\n",
    "        )\n",
    "        \n",
    "        tgt_full = tokenizer.decode(tgt_['input_ids'], skip_special_tokens=True).strip()\n",
    "        tgt_comment, tgt_text = extract_com8text_from_tgt(tgt_full)\n",
    "\n",
    "        src_full = tokenizer.decode(src_['input_ids'], skip_special_tokens=True).strip()\n",
    "        src_text, _ = extract_text8docs_from_src(src_full)\n",
    "        \n",
    "        \n",
    "        print(f'\\n\\n----------------------------\\t QUERY {i}\\t ----------------------------\\n')\n",
    "        print(f'Src query:\\n {src_text}')\n",
    "        print(f'\\nTgt query:\\n {tgt_text}')\n",
    "        print(f'\\nTgt comment:\\n {tgt_comment}')\n",
    "        \n",
    "        print(f'\\n\\n----------------------------\\t GENERATED\\t ----------------------------\\n')\n",
    "\n",
    "        pred_full = []\n",
    "        pred_texts = []\n",
    "        pred_comments = []\n",
    "        for j in range(CONFIG.beam_size):\n",
    "            to_gen = generated[j]\n",
    "            gen_text = tokenizer.decode(to_gen, skip_special_tokens=True)\n",
    "            com_prediction, text_prediction = extract_com8text_from_tgt(gen_text)\n",
    "            \n",
    "            pred_full.append(gen_text)\n",
    "            pred_texts.append(text_prediction)\n",
    "            pred_comments.append(com_prediction)\n",
    "            \n",
    "            print(f'{j} TEXT:\\n{text_prediction}\\n')\n",
    "            print(f'{j} COMMENT:\\n{com_prediction}\\n\\n')\n",
    "        \n",
    "        print('Text sari:', sari_one(src_text, tgt_text, pred_texts))\n",
    "        print('Com em:', topN_diff_exact_match_one('', tgt_comment, pred_comments))\n",
    "        print('Full em:', topN_diff_exact_match_one(src_full, tgt_full, pred_full))\n",
    "        print('Text em:', topN_diff_exact_match_one(src_text, tgt_text, pred_texts))\n",
    "        print('Rouge text:', rouge_one(src_text, tgt_text, pred_texts)['rouge-1'])"
   ]
  }
 ],
 "metadata": {
  "kernelspec": {
   "display_name": "Python 3",
   "language": "python",
   "name": "python3"
  },
  "language_info": {
   "codemirror_mode": {
    "name": "ipython",
    "version": 3
   },
   "file_extension": ".py",
   "mimetype": "text/x-python",
   "name": "python",
   "nbconvert_exporter": "python",
   "pygments_lexer": "ipython3",
   "version": "3.7.7"
  }
 },
 "nbformat": 4,
 "nbformat_minor": 4
}
