{
 "cells": [
  {
   "cell_type": "code",
   "execution_count": 1,
   "metadata": {},
   "outputs": [
    {
     "name": "stdout",
     "output_type": "stream",
     "text": [
      "Wed Feb 15 09:00:51 2023       \n",
      "+-----------------------------------------------------------------------------+\n",
      "| NVIDIA-SMI 525.85.12    Driver Version: 525.85.12    CUDA Version: 12.0     |\n",
      "|-------------------------------+----------------------+----------------------+\n",
      "| GPU  Name        Persistence-M| Bus-Id        Disp.A | Volatile Uncorr. ECC |\n",
      "| Fan  Temp  Perf  Pwr:Usage/Cap|         Memory-Usage | GPU-Util  Compute M. |\n",
      "|                               |                      |               MIG M. |\n",
      "|===============================+======================+======================|\n",
      "|   0  Tesla T4            Off  | 00000000:00:04.0 Off |                    0 |\n",
      "| N/A   38C    P8    10W /  70W |      2MiB / 15360MiB |      0%      Default |\n",
      "|                               |                      |                  N/A |\n",
      "+-------------------------------+----------------------+----------------------+\n",
      "|   1  Tesla T4            Off  | 00000000:00:05.0 Off |                    0 |\n",
      "| N/A   40C    P8     9W /  70W |      2MiB / 15360MiB |      0%      Default |\n",
      "|                               |                      |                  N/A |\n",
      "+-------------------------------+----------------------+----------------------+\n",
      "|   2  Tesla T4            Off  | 00000000:00:06.0 Off |                    0 |\n",
      "| N/A   38C    P8     9W /  70W |      5MiB / 15360MiB |      0%      Default |\n",
      "|                               |                      |                  N/A |\n",
      "+-------------------------------+----------------------+----------------------+\n",
      "|   3  Tesla T4            Off  | 00000000:00:07.0 Off |                    0 |\n",
      "| N/A   39C    P8     9W /  70W |      2MiB / 15360MiB |      0%      Default |\n",
      "|                               |                      |                  N/A |\n",
      "+-------------------------------+----------------------+----------------------+\n",
      "                                                                               \n",
      "+-----------------------------------------------------------------------------+\n",
      "| Processes:                                                                  |\n",
      "|  GPU   GI   CI        PID   Type   Process name                  GPU Memory |\n",
      "|        ID   ID                                                   Usage      |\n",
      "|=============================================================================|\n",
      "|  No running processes found                                                 |\n",
      "+-----------------------------------------------------------------------------+\n"
     ]
    }
   ],
   "source": [
    "!nvidia-smi"
   ]
  },
  {
   "cell_type": "code",
   "execution_count": null,
   "metadata": {},
   "outputs": [],
   "source": [
    "import sys\n",
    "sys.path.append('..')"
   ]
  },
  {
   "cell_type": "code",
   "execution_count": 2,
   "metadata": {},
   "outputs": [],
   "source": [
    "import os\n",
    "os.environ['TOKENIZERS_PARALLELISM']='true'\n",
    "os.environ['CUDA_VISIBLE_DEVICES']='3'"
   ]
  },
  {
   "cell_type": "code",
   "execution_count": 3,
   "metadata": {},
   "outputs": [],
   "source": [
    "import re\n",
    "import os\n",
    "import torch\n",
    "import json\n",
    "import numpy as np\n",
    "import pandas as pd\n",
    "import seaborn as sns\n",
    "import transformers\n",
    "import catalyst\n",
    "import matplotlib.pyplot as plt\n",
    "import warnings\n",
    "warnings.filterwarnings(\"ignore\")\n",
    "\n",
    "from transformers import T5Tokenizer, T5TokenizerFast, T5ForConditionalGeneration\n",
    "from transformers.tokenization_utils import PreTrainedTokenizer\n",
    "from transformers.tokenization_utils_fast import PreTrainedTokenizerFast\n",
    "from typing import Callable, Union, Tuple\n",
    "from catalyst.loggers.wandb import WandbLogger\n",
    "from tqdm.notebook import tqdm\n",
    "from collections import Counter\n",
    "from torch import nn\n",
    "from catalyst import dl\n",
    "from catalyst.callbacks.periodic_loader import PeriodicLoaderCallback\n",
    "from langdetect import detect\n",
    "from easse.sari import corpus_sari\n",
    "from rouge import Rouge \n",
    "\n",
    "from utils.dataset_utils import extract_com8text_from_tgt, extract_text8docs_from_src\n",
    "from utils.dataset_utils import EditDataset, get_tgt, get_src, COM_SEP, TEXT_SEP_SRC, TEXT_SEP_TGT, DOCS_SEP\n",
    "from utils.metrics_utils import PeerEditMetricsCallback\n",
    "from utils.config import Config\n",
    "\n",
    "\n",
    "DOCS_DIR = 'data'\n",
    "PAGES_DIR = 'data'"
   ]
  },
  {
   "cell_type": "code",
   "execution_count": 4,
   "metadata": {},
   "outputs": [],
   "source": [
    "CONFIG = Config()\n",
    "CONFIG.seed = 1337"
   ]
  },
  {
   "cell_type": "code",
   "execution_count": 5,
   "metadata": {},
   "outputs": [],
   "source": [
    "import random\n",
    "\n",
    "random.seed(CONFIG.seed)\n",
    "os.environ['PYTHONHASHSEED'] = str(CONFIG.seed)\n",
    "np.random.seed(CONFIG.seed)\n",
    "torch.manual_seed(CONFIG.seed)\n",
    "torch.cuda.manual_seed(CONFIG.seed)\n",
    "torch.backends.cudnn.deterministic = True\n",
    "torch.backends.cudnn.benchmark = True"
   ]
  },
  {
   "cell_type": "markdown",
   "metadata": {},
   "source": [
    "## Data preparing"
   ]
  },
  {
   "cell_type": "code",
   "execution_count": 6,
   "metadata": {},
   "outputs": [],
   "source": [
    "mp = json.load(open(r\"data/column_mapper.json\"))\n",
    "\n",
    "train = pd.read_json(r'data/new_train.json')\n",
    "train.set_axis(mp.values(), axis='columns', inplace=True)\n",
    "\n",
    "test = pd.read_json(r'data/new_test.json')\n",
    "test.set_axis(mp.values(), axis='columns', inplace=True)\n",
    "\n",
    "val = pd.read_json(r'data/new_val.json')\n",
    "val.set_axis(mp.values(), axis='columns', inplace=True)\n",
    "val1 = val.sample(600)"
   ]
  },
  {
   "cell_type": "code",
   "execution_count": 7,
   "metadata": {},
   "outputs": [
    {
     "data": {
      "text/html": [
       "<div>\n",
       "<style scoped>\n",
       "    .dataframe tbody tr th:only-of-type {\n",
       "        vertical-align: middle;\n",
       "    }\n",
       "\n",
       "    .dataframe tbody tr th {\n",
       "        vertical-align: top;\n",
       "    }\n",
       "\n",
       "    .dataframe thead th {\n",
       "        text-align: right;\n",
       "    }\n",
       "</style>\n",
       "<table border=\"1\" class=\"dataframe\">\n",
       "  <thead>\n",
       "    <tr style=\"text-align: right;\">\n",
       "      <th></th>\n",
       "      <th>obj_id</th>\n",
       "      <th>old_text</th>\n",
       "      <th>new_text</th>\n",
       "      <th>comment</th>\n",
       "      <th>docs</th>\n",
       "      <th>diff</th>\n",
       "      <th>title</th>\n",
       "      <th>search_queries</th>\n",
       "      <th>counter_found_docs</th>\n",
       "      <th>section_name</th>\n",
       "      <th>is_good</th>\n",
       "      <th>docs_processed</th>\n",
       "    </tr>\n",
       "  </thead>\n",
       "  <tbody>\n",
       "    <tr>\n",
       "      <th>0</th>\n",
       "      <td>1005</td>\n",
       "      <td>In rural regions of Germany, especially the Ha...</td>\n",
       "      <td>In rural regions of Germany, especially the Ha...</td>\n",
       "      <td>/* Germany */ grammar</td>\n",
       "      <td>Apr 30, 2020 — Depending on whom you ask, May ...</td>\n",
       "      <td>this opportunity to party,</td>\n",
       "      <td>May Day</td>\n",
       "      <td>[May Day Germany this opportunity to party,]</td>\n",
       "      <td>[27]</td>\n",
       "      <td>Germany</td>\n",
       "      <td>True</td>\n",
       "      <td>DOC0: Apr 30, 2020 — Depending on whom you ask...</td>\n",
       "    </tr>\n",
       "    <tr>\n",
       "      <th>1</th>\n",
       "      <td>55</td>\n",
       "      <td>\"This is the new WikiPedia!\" \\n-HomePage, the ...</td>\n",
       "      <td>\"This is the new WikiPedia!\" \\n-HomePage, the ...</td>\n",
       "      <td>Added subpage</td>\n",
       "      <td>English: Results of the 1929 New York City ald...</td>\n",
       "      <td>\\n*/New York City Board of Aldermen</td>\n",
       "      <td>John M Wolfson</td>\n",
       "      <td>[John M Wolfson \\n*/New York City Board of Ald...</td>\n",
       "      <td>[10, 4]</td>\n",
       "      <td></td>\n",
       "      <td>True</td>\n",
       "      <td>DOC0: English: Results of the 1929 New York Ci...</td>\n",
       "    </tr>\n",
       "    <tr>\n",
       "      <th>2</th>\n",
       "      <td>2329</td>\n",
       "      <td>Ares (Ancient Greek:  , Μodern Greek: Άρης ) i...</td>\n",
       "      <td>Ares (Ancient Greek:  , Μodern Greek: Άρης ) i...</td>\n",
       "      <td>repaired link to 'masculinity' ~~~~</td>\n",
       "      <td>Apr 7, 2014 — Let's explore the essence of mas...</td>\n",
       "      <td>masculinity, integrity, and personal courage.</td>\n",
       "      <td>Ares</td>\n",
       "      <td>[Ares masculinity, integrity, and personal cou...</td>\n",
       "      <td>[30]</td>\n",
       "      <td></td>\n",
       "      <td>True</td>\n",
       "      <td>DOC0: Apr 7, 2014 — Let's explore the essence ...</td>\n",
       "    </tr>\n",
       "    <tr>\n",
       "      <th>3</th>\n",
       "      <td>17206</td>\n",
       "      <td>Peter Velhorn (born 24 November 1932) is a Ger...</td>\n",
       "      <td>Peter Velhorn (24 November 1932 – 20 July 2016...</td>\n",
       "      <td>Passed away 2016, look at German article</td>\n",
       "      <td>Peter Velhorn (24 November 1932 – 20 July 2016...</td>\n",
       "      <td>– 20 July 2016</td>\n",
       "      <td>Peter Velhorn</td>\n",
       "      <td>[Peter Velhorn  – 20 July 2016]</td>\n",
       "      <td>[23]</td>\n",
       "      <td></td>\n",
       "      <td>True</td>\n",
       "      <td>DOC0: Peter Velhorn (24 November 1932 – 20 Jul...</td>\n",
       "    </tr>\n",
       "    <tr>\n",
       "      <th>4</th>\n",
       "      <td>47</td>\n",
       "      <td>Michael Palin was educated at Birkdale School,...</td>\n",
       "      <td>Michael Palin was educated at Birkdale School,...</td>\n",
       "      <td>/* Early career */ added info</td>\n",
       "      <td>Michael Palin, Nightingale House, in Clapham, ...</td>\n",
       "      <td>, Graeme Garden, Bill Oddie and Jonathan Lynn</td>\n",
       "      <td>Michael Palin</td>\n",
       "      <td>[Michael Palin  Early career , Graeme Garden, ...</td>\n",
       "      <td>[29]</td>\n",
       "      <td>Early career</td>\n",
       "      <td>True</td>\n",
       "      <td>DOC0: Michael Palin, Nightingale House, in Cla...</td>\n",
       "    </tr>\n",
       "  </tbody>\n",
       "</table>\n",
       "</div>"
      ],
      "text/plain": [
       "   obj_id                                           old_text  \\\n",
       "0    1005  In rural regions of Germany, especially the Ha...   \n",
       "1      55  \"This is the new WikiPedia!\" \\n-HomePage, the ...   \n",
       "2    2329  Ares (Ancient Greek:  , Μodern Greek: Άρης ) i...   \n",
       "3   17206  Peter Velhorn (born 24 November 1932) is a Ger...   \n",
       "4      47  Michael Palin was educated at Birkdale School,...   \n",
       "\n",
       "                                            new_text  \\\n",
       "0  In rural regions of Germany, especially the Ha...   \n",
       "1  \"This is the new WikiPedia!\" \\n-HomePage, the ...   \n",
       "2  Ares (Ancient Greek:  , Μodern Greek: Άρης ) i...   \n",
       "3  Peter Velhorn (24 November 1932 – 20 July 2016...   \n",
       "4  Michael Palin was educated at Birkdale School,...   \n",
       "\n",
       "                                    comment  \\\n",
       "0                     /* Germany */ grammar   \n",
       "1                             Added subpage   \n",
       "2       repaired link to 'masculinity' ~~~~   \n",
       "3  Passed away 2016, look at German article   \n",
       "4             /* Early career */ added info   \n",
       "\n",
       "                                                docs  \\\n",
       "0  Apr 30, 2020 — Depending on whom you ask, May ...   \n",
       "1  English: Results of the 1929 New York City ald...   \n",
       "2  Apr 7, 2014 — Let's explore the essence of mas...   \n",
       "3  Peter Velhorn (24 November 1932 – 20 July 2016...   \n",
       "4  Michael Palin, Nightingale House, in Clapham, ...   \n",
       "\n",
       "                                            diff           title  \\\n",
       "0                     this opportunity to party,         May Day   \n",
       "1            \\n*/New York City Board of Aldermen  John M Wolfson   \n",
       "2  masculinity, integrity, and personal courage.            Ares   \n",
       "3                                 – 20 July 2016   Peter Velhorn   \n",
       "4  , Graeme Garden, Bill Oddie and Jonathan Lynn   Michael Palin   \n",
       "\n",
       "                                      search_queries counter_found_docs  \\\n",
       "0       [May Day Germany this opportunity to party,]               [27]   \n",
       "1  [John M Wolfson \\n*/New York City Board of Ald...            [10, 4]   \n",
       "2  [Ares masculinity, integrity, and personal cou...               [30]   \n",
       "3                    [Peter Velhorn  – 20 July 2016]               [23]   \n",
       "4  [Michael Palin  Early career , Graeme Garden, ...               [29]   \n",
       "\n",
       "     section_name  is_good                                     docs_processed  \n",
       "0         Germany     True  DOC0: Apr 30, 2020 — Depending on whom you ask...  \n",
       "1                     True  DOC0: English: Results of the 1929 New York Ci...  \n",
       "2                     True  DOC0: Apr 7, 2014 — Let's explore the essence ...  \n",
       "3                     True  DOC0: Peter Velhorn (24 November 1932 – 20 Jul...  \n",
       "4   Early career      True  DOC0: Michael Palin, Nightingale House, in Cla...  "
      ]
     },
     "execution_count": 7,
     "metadata": {},
     "output_type": "execute_result"
    }
   ],
   "source": [
    "train.head()"
   ]
  },
  {
   "cell_type": "code",
   "execution_count": null,
   "metadata": {},
   "outputs": [],
   "source": [
    "train.iloc[0]['']"
   ]
  },
  {
   "cell_type": "code",
   "execution_count": null,
   "metadata": {},
   "outputs": [],
   "source": []
  },
  {
   "cell_type": "code",
   "execution_count": 8,
   "metadata": {},
   "outputs": [],
   "source": [
    "CONFIG.src_max_len = 1024\n",
    "CONFIG.tgt_max_len = 512\n",
    "CONFIG.pretrained = 't5-small'\n",
    "CONFIG.batch_size = 4\n",
    "\n",
    "tokenizer = T5Tokenizer.from_pretrained(CONFIG.pretrained, model_max_length=CONFIG.src_max_len)"
   ]
  },
  {
   "cell_type": "code",
   "execution_count": 9,
   "metadata": {
    "scrolled": true
   },
   "outputs": [
    {
     "name": "stdout",
     "output_type": "stream",
     "text": [
      "Old text: \"This is the new WikiPedia!\" \n",
      "-HomePage, the first ever article created on Wikipedia, created by office.bomis.com on Mon, 15 Jan 2001 19:27:13 \n",
      "\n",
      "\n",
      "\n",
      "Interested in Chicago and urban history, and other things. \n",
      "\n",
      "SUBPAGES (Excl. Sandbox):\n",
      "*/Chicago aldermanic notability\n",
      "*/Louis B. Anderson\n",
      "*/Chicago City Council since 1923\n",
      "*/Town of Chicago\n",
      "\n",
      "\"FORMER\" SUBPAGES (content moved elsewhere, now serving as redirects):\n",
      "*/Notabilitymandering\n",
      "*/List of Chicago aldermen since 1923\n",
      "*/Chicago aldermanic elections before 1923\n",
      "\n",
      "\n",
      "New text: \"This is the new WikiPedia!\" \n",
      "-HomePage, the first ever article created on Wikipedia, created by office.bomis.com on Mon, 15 Jan 2001 19:27:13 \n",
      "\n",
      "\n",
      "\n",
      "Interested in Chicago and urban history, and other things. \n",
      "\n",
      "SUBPAGES (Excl. Sandbox):\n",
      "*/Chicago aldermanic notability\n",
      "*/Louis B. Anderson\n",
      "*/Chicago City Council since 1923\n",
      "*/Town of Chicago\n",
      "*/New York City Board of Aldermen\n",
      "\n",
      "\"FORMER\" SUBPAGES (content moved elsewhere, now serving as redirects):\n",
      "*/Notabilitymandering\n",
      "*/List of Chicago aldermen since 1923\n",
      "*/Chicago aldermanic elections before 1923\n",
      "\n",
      "\n",
      "Comment: Added subpage\n",
      "\n",
      "\n",
      "Docs: DOC0: English: Results of the 1929 New York City aldermanic presidential election by assembly district. Color scheme is the same of those of similar maps DOC1: The New York City Board of Aldermen was a body that was the upper house of New York City's Common Council from 1824 to 1875, the lower house of its DOC2: English. Results of the 1929 New York City aldermanic presidential election by assembly district.. Source, Own work. Author, John M Wolfson DOC3: Comptroller of City of N. Y., as Cus- todian of N. Y. City Employees' Re- tirement System. Department of Health. 79621. 5-10-26 John J. Kearney DOC4: THE BOARD OF ALDERMEN OF THE CITY OF. NEW YORK. bine lane, Queens ; Leo Wolfson, 250 Riverside drive, Manhattan ; Joseph. J. M. Chaplain, Inc DOC5: Episcopal Zion Churches. . 144 Agricultural Dept, of State N.  Y. . . . 141 Aldermen. Board of 1.S7 Ambulance Board 139 Am. Museum of Natural History\n",
      "\n",
      "\n",
      "Src: TEXT_SEP \"this is the new wikipedia!\" \n",
      "-homepage, the first ever article created on wikipedia, created by office.bomis.com on mon, 15 jan 2001 19:27:13 \n",
      "\n",
      "\n",
      "\n",
      "interested in chicago and urban history, and other things. \n",
      "\n",
      "subpages (excl. sandbox):\n",
      "*/chicago aldermanic notability\n",
      "*/louis b. anderson\n",
      "*/chicago city council since 1923\n",
      "*/town of chicago\n",
      "\n",
      "\"former\" subpages (content moved elsewhere, now serving as redirects):\n",
      "*/notabilitymandering\n",
      "*/list of chicago aldermen since 1923\n",
      "*/chicago aldermanic elections before 1923 DOCS_SEP doc0: english: results of the 1929 new york city aldermanic presidential election by assembly district. color scheme is the same of those of similar maps doc1: the new york city board of aldermen was a body that was the upper house of new york city's common council from 1824 to 1875, the lower house of its doc2: english. results of the 1929 new york city aldermanic presidential election by assembly district.. source, own work. author, john m wolfson doc3: comptroller of city of n. y., as cus- todian of n. y. city employees' re- tirement system. department of health. 79621. 5-10-26 john j. kearney doc4: the board of aldermen of the city of. new york. bine lane, queens ; leo wolfson, 250 riverside drive, manhattan ; joseph. j. m. chaplain, inc doc5: episcopal zion churches. . 144 agricultural dept, of state n.  y. . . . 141 aldermen. board of 1.s7 ambulance board 139 am. museum of natural history\n",
      "\n",
      "\n",
      "Tgt: COM_SEP added subpage TEXT_SEP \"this is the new wikipedia!\" \n",
      "-homepage, the first ever article created on wikipedia, created by office.bomis.com on mon, 15 jan 2001 19:27:13 \n",
      "\n",
      "\n",
      "\n",
      "interested in chicago and urban history, and other things. \n",
      "\n",
      "subpages (excl. sandbox):\n",
      "*/chicago aldermanic notability\n",
      "*/louis b. anderson\n",
      "*/chicago city council since 1923\n",
      "*/town of chicago\n",
      "*/new york city board of aldermen\n",
      "\n",
      "\"former\" subpages (content moved elsewhere, now serving as redirects):\n",
      "*/notabilitymandering\n",
      "*/list of chicago aldermen since 1923\n",
      "*/chicago aldermanic elections before 1923\n",
      "\n",
      "\n",
      "Extracted Old text: \"this is the new wikipedia!\" \n",
      "-homepage, the first ever article created on wikipedia, created by office.bomis.com on mon, 15 jan 2001 19:27:13 \n",
      "\n",
      "\n",
      "\n",
      "interested in chicago and urban history, and other things. \n",
      "\n",
      "subpages (excl. sandbox):\n",
      "*/chicago aldermanic notability\n",
      "*/louis b. anderson\n",
      "*/chicago city council since 1923\n",
      "*/town of chicago\n",
      "\n",
      "\"former\" subpages (content moved elsewhere, now serving as redirects):\n",
      "*/notabilitymandering\n",
      "*/list of chicago aldermen since 1923\n",
      "*/chicago aldermanic elections before 1923\n",
      "\n",
      "\n",
      "Extracted New text: \"this is the new wikipedia!\" \n",
      "-homepage, the first ever article created on wikipedia, created by office.bomis.com on mon, 15 jan 2001 19:27:13 \n",
      "\n",
      "\n",
      "\n",
      "interested in chicago and urban history, and other things. \n",
      "\n",
      "subpages (excl. sandbox):\n",
      "*/chicago aldermanic notability\n",
      "*/louis b. anderson\n",
      "*/chicago city council since 1923\n",
      "*/town of chicago\n",
      "*/new york city board of aldermen\n",
      "\n",
      "\"former\" subpages (content moved elsewhere, now serving as redirects):\n",
      "*/notabilitymandering\n",
      "*/list of chicago aldermen since 1923\n",
      "*/chicago aldermanic elections before 1923\n",
      "\n",
      "\n",
      "Extracted Comment: COM_SEP added subpage\n",
      "\n",
      "\n",
      "Extracted Docs: doc0: english: results of the 1929 new york city aldermanic presidential election by assembly district. color scheme is the same of those of similar maps doc1: the new york city board of aldermen was a body that was the upper house of new york city's common council from 1824 to 1875, the lower house of its doc2: english. results of the 1929 new york city aldermanic presidential election by assembly district.. source, own work. author, john m wolfson doc3: comptroller of city of n. y., as cus- todian of n. y. city employees' re- tirement system. department of health. 79621. 5-10-26 john j. kearney doc4: the board of aldermen of the city of. new york. bine lane, queens ; leo wolfson, 250 riverside drive, manhattan ; joseph. j. m. chaplain, inc doc5: episcopal zion churches. . 144 agricultural dept, of state n.  y. . . . 141 aldermen. board of 1.s7 ambulance board 139 am. museum of natural history\n",
      "\n",
      "\n"
     ]
    }
   ],
   "source": [
    "idx = 1\n",
    "el_idx = train.iloc[idx]\n",
    "\n",
    "docs = el_idx['docs_processed']\n",
    "comment = el_idx['comment']\n",
    "old_text = el_idx['old_text']\n",
    "new_text = el_idx['new_text']\n",
    "\n",
    "print(f'Old text: {old_text}\\n\\n')\n",
    "print(f'New text: {new_text}\\n\\n')\n",
    "print(f'Comment: {comment}\\n\\n')\n",
    "print(f'Docs: {docs}\\n\\n')\n",
    "\n",
    "src = get_src(el_idx)\n",
    "tgt = get_tgt(el_idx)\n",
    "\n",
    "print(f'Src: {src}\\n\\n')\n",
    "print(f'Tgt: {tgt}\\n\\n')\n",
    "\n",
    "comment, new_text = extract_com8text_from_tgt(tgt)\n",
    "old_text, docs = extract_text8docs_from_src(src)\n",
    "\n",
    "print(f'Extracted Old text: {old_text}\\n\\n')\n",
    "print(f'Extracted New text: {new_text}\\n\\n')\n",
    "print(f'Extracted Comment: {comment}\\n\\n')\n",
    "print(f'Extracted Docs: {docs}\\n\\n')"
   ]
  },
  {
   "cell_type": "markdown",
   "metadata": {},
   "source": [
    "**Make dataset**"
   ]
  },
  {
   "cell_type": "code",
   "execution_count": 10,
   "metadata": {},
   "outputs": [],
   "source": [
    "ds_train = EditDataset(train, tokenizer, CONFIG, text_to_lower=True, comment_to_lower=True)\n",
    "ds_val = EditDataset(val1, tokenizer, CONFIG, text_to_lower=True, comment_to_lower=True)\n",
    "ds_val_full = EditDataset(val, tokenizer, CONFIG, text_to_lower=True, comment_to_lower=True)"
   ]
  },
  {
   "cell_type": "markdown",
   "metadata": {},
   "source": [
    "**Len distribution**"
   ]
  },
  {
   "cell_type": "code",
   "execution_count": 11,
   "metadata": {},
   "outputs": [
    {
     "data": {
      "image/png": "[encoded data removed]",
      "text/plain": [
       "<Figure size 640x480 with 1 Axes>"
      ]
     },
     "metadata": {},
     "output_type": "display_data"
    }
   ],
   "source": [
    "arr_src = []\n",
    "arr_tgt = []\n",
    "for src_q, tgt_q in ds_train:\n",
    "    arr_src.append(len(src_q['input_ids']))\n",
    "    arr_tgt.append(len(tgt_q['input_ids']))\n",
    "\n",
    "sns.distplot(arr_src, label='src');\n",
    "plt.legend();\n",
    "sns.distplot(arr_tgt, label='tgt');\n",
    "plt.legend();"
   ]
  },
  {
   "cell_type": "code",
   "execution_count": 12,
   "metadata": {},
   "outputs": [
    {
     "data": {
      "image/png": "[encoded data removed]",
      "text/plain": [
       "<Figure size 640x480 with 1 Axes>"
      ]
     },
     "metadata": {},
     "output_type": "display_data"
    }
   ],
   "source": [
    "arr_src = []\n",
    "arr_tgt = []\n",
    "for src_q, tgt_q in ds_val:\n",
    "    arr_src.append(len(src_q['input_ids']))\n",
    "    arr_tgt.append(len(tgt_q['input_ids']))\n",
    "\n",
    "sns.distplot(arr_src, label='src');\n",
    "plt.legend();\n",
    "sns.distplot(arr_tgt, label='tgt');\n",
    "plt.legend();"
   ]
  },
  {
   "cell_type": "code",
   "execution_count": 13,
   "metadata": {},
   "outputs": [],
   "source": [
    "idx_num = 100\n",
    "src_text = tokenizer.decode(ds_train[idx_num][0]['input_ids'], skip_special_tokens=True)\n",
    "tgt_text = tokenizer.decode(ds_train[idx_num][1]['input_ids'], skip_special_tokens=True)"
   ]
  },
  {
   "cell_type": "code",
   "execution_count": 14,
   "metadata": {
    "scrolled": true
   },
   "outputs": [
    {
     "name": "stdout",
     "output_type": "stream",
     "text": [
      "TEXT_SEP artheneidae is a family of true bugs in the order hemiptera. there are about 7 genera and at least 20 described species in artheneidae. DOCS_SEP doc0: artheneidae is a family of true bugs in the order hemiptera. it was formerly included in lygaeidae. there are about 7 genera and at least 20 described doc1: the family was vastly larger, but numerous former subfamilies have been removed and given independent family status, including the artheneidae, blissidae, doc2: artheneidae is a family of true bugs in the order hemiptera. it was formerly included in lygaeidae.[1] there are about 7 genera and at least 20 described doc3: may 31, 2009 — formerly treated under lygaeidae. numbers. \"key to species of artheneidae of north america (from hoffman 1996)(3): doc4: items 1 - 20 of 15671 — the lygaeidae are a family in the hemiptera (true bugs),. the family was vastly larger, but numerous former subfamilies have been doc5: the family used to be vastly larger, as numerous former subfamilies have been removed and given independent family status, including artheneidae, blissidae,\n",
      "\n",
      "COM_SEP mention split from [[lygaeidae]] TEXT_SEP artheneidae is a family of true bugs in the order hemiptera. it was formerly included in lygaeidae. there are about 7 genera and at least 20 described species in artheneidae.\n"
     ]
    }
   ],
   "source": [
    "print(f'{src_text}\\n\\n{tgt_text}')"
   ]
  },
  {
   "cell_type": "markdown",
   "metadata": {},
   "source": [
    "## Model training"
   ]
  },
  {
   "cell_type": "code",
   "execution_count": 15,
   "metadata": {},
   "outputs": [],
   "source": [
    "loaders = {\n",
    "    'train': torch.utils.data.DataLoader(ds_train, \n",
    "                                         batch_size=CONFIG.batch_size,\n",
    "                                         collate_fn=lambda x: EditDataset.collate_fn(x, tokenizer, CONFIG),\n",
    "                                         num_workers=4, shuffle=True),\n",
    "    'valid_full': torch.utils.data.DataLoader(ds_val_full, \n",
    "                                         batch_size=CONFIG.batch_size,\n",
    "                                         collate_fn=lambda x: EditDataset.collate_fn(x, tokenizer, CONFIG),\n",
    "                                         num_workers=4, shuffle=False),\n",
    "    'valid_subset': torch.utils.data.DataLoader(ds_val, \n",
    "                                         batch_size=CONFIG.batch_size,\n",
    "                                         collate_fn=lambda x: EditDataset.collate_fn(x, tokenizer, CONFIG),\n",
    "                                         num_workers=4, shuffle=False)\n",
    "}"
   ]
  },
  {
   "cell_type": "code",
   "execution_count": 16,
   "metadata": {},
   "outputs": [],
   "source": [
    "class EditModel(nn.Module):\n",
    "    def __init__(self, \n",
    "                 pretrained: transformers.modeling_utils.PreTrainedModel, \n",
    "                 config: Config):\n",
    "        super(EditModel, self).__init__()\n",
    "        self.pretrained = pretrained\n",
    "        \n",
    "\n",
    "    def forward(self, \n",
    "                x: Tuple[torch.Tensor, torch.Tensor]):\n",
    "        src, tgt = x\n",
    "        \n",
    "        tgt[tgt == 0] == -100\n",
    "        \n",
    "        loss = self.pretrained(\n",
    "            input_ids = src,\n",
    "            attention_mask = (src != 0).float(),\n",
    "            labels=tgt,\n",
    "        ).loss\n",
    "        return loss\n",
    "    \n",
    "    \n",
    "class Criterion(nn.Module):\n",
    "    def __init__(self):\n",
    "        super(Criterion, self).__init__()\n",
    "        \n",
    "    def forward(self, pred, tgt):\n",
    "        return pred"
   ]
  },
  {
   "cell_type": "code",
   "execution_count": 17,
   "metadata": {},
   "outputs": [],
   "source": [
    "model = EditModel(\n",
    "    T5ForConditionalGeneration.from_pretrained(CONFIG.pretrained),\n",
    "    CONFIG\n",
    ")\n",
    "CONFIG.optimizer = 'Adam(lr=0.0001)'\n",
    "optimizer = torch.optim.Adam(model.parameters(), lr=0.0001)\n",
    "\n",
    "CONFIG.name = f'{CONFIG.pretrained} stage 2'\n",
    "CONFIG.description = f'{CONFIG.name} p(comment, x_t+1 | x_t, doc)'\n",
    "CONFIG.group = \"wiki_edit\""
   ]
  },
  {
   "cell_type": "code",
   "execution_count": 18,
   "metadata": {},
   "outputs": [],
   "source": [
    "!rm -rf ./models/\"{CONFIG.description}\""
   ]
  },
  {
   "cell_type": "code",
   "execution_count": null,
   "metadata": {},
   "outputs": [],
   "source": [
    "from catalyst.core import IRunner\n",
    "from catalyst.metrics._additive import AdditiveMetric\n",
    "from catalyst.callbacks.metric import BatchMetricCallback, ICallbackBatchMetric\n",
    "\n",
    "\n",
    "class AccMetric(ICallbackBatchMetric):\n",
    "    def __init__(self, topk, compute_on_call=False):\n",
    "        super().__init__(compute_on_call=compute_on_call, prefix='', suffix='')\n",
    "        self.metric_name = 'sql_acc'\n",
    "        self.topk = topk\n",
    "        self.metrics: List[AdditiveMetric] = [\n",
    "            AdditiveMetric(compute_on_call=compute_on_call) for _ in range(len(self.topk))]\n",
    "\n",
    "    def reset(self) -> None:\n",
    "        for metric in self.metrics:\n",
    "            metric.reset()\n",
    "\n",
    "    def update(self, values, n_samples):\n",
    "        for value, metric in zip(values, self.metrics):\n",
    "            metric.update(value, n_samples)\n",
    "        return values\n",
    "\n",
    "    def update_key_value(self, values, n_samples):\n",
    "        values = self.update(values, n_samples)\n",
    "        output = {\n",
    "            f\"{self.prefix}{self.metric_name}{key:02d}{self.suffix}\": round(value, 6)\n",
    "            for key, value in zip(self.topk, values)\n",
    "        }\n",
    "        return output\n",
    "\n",
    "    def compute(self):\n",
    "        means, stds = zip(*(metric.compute() for metric in self.metrics))\n",
    "        return means, stds\n",
    "\n",
    "    def compute_key_value(self):\n",
    "        means, stds = self.compute()\n",
    "        output_mean = {\n",
    "            f\"{self.prefix}{self.metric_name}{key:02d}{self.suffix}\": round(value, 6)\n",
    "            for key, value in zip(self.topk, means)\n",
    "        }\n",
    "        output_std = {\n",
    "            f\"{self.prefix}{self.metric_name}{key:02d}{self.suffix}/std\": round(value, 6)\n",
    "            for key, value in zip(self.topk, stds)\n",
    "        }\n",
    "        return {**output_mean, **output_std}\n",
    "\n",
    "\n",
    "class AccCallback(BatchMetricCallback):\n",
    "\n",
    "    def __init__(self, beam_size):\n",
    "        super().__init__(\n",
    "            metric=AccMetric((1,beam_size)) if beam_size > 1 else AccMetric((1,)),\n",
    "            input_key='features', target_key='targets', log_on_batch=True)\n",
    "        self.beam_size = beam_size\n",
    "\n",
    "    def on_batch_end(self, runner: \"IRunner\") -> None:\n",
    "\n",
    "        if runner.loader_key == 'train':\n",
    "            runner.model.train()\n",
    "        elif runner.loader_key.startswith('valid'):\n",
    "            runner.model.eval()\n",
    "\n",
    "            src = runner.batch['features'][0]\n",
    "            tgt = runner.batch['features'][1]\n",
    "            max_len = tgt.shape[1]\n",
    "            with torch.no_grad():\n",
    "                pred = runner.model.pretrained.generate(src.to(runner.engine.device),\n",
    "                                                        attention_mask=(src != 0).float().to(runner.engine.device),\n",
    "                                                        # pad_token_id=tokenizer.pad_token_id,\n",
    "                                                        # bos_token_id=tokenizer.bos_token_id,\n",
    "                                                        # eos_token_id=tokenizer.eos_token_id,\n",
    "                                                        num_beams=self.beam_size,\n",
    "                                                        num_return_sequences=self.beam_size,\n",
    "                                                        max_length=max_len\n",
    "                                                        )\n",
    "\n",
    "            pred = pred[:,1:]\n",
    "            pred = pred.view(-1, self.beam_size, pred.shape[1])\n",
    "            acck = 0\n",
    "            acc1 = 0\n",
    "            for i in range(tgt.shape[0]):\n",
    "                tgt_subseq = tgt[i, :pred.shape[2]].to(runner.engine.device)\n",
    "\n",
    "                acck += float(torch.any(torch.all(tgt_subseq == pred[i], dim=1)))\n",
    "                acc1 += float(torch.all(tgt_subseq == pred[i, 0]))\n",
    "\n",
    "            acck /= len(src)\n",
    "            acc1 /= len(src)\n",
    "\n",
    "            metrics = self.metric.update_key_value([acc1, acck], len(src))\n",
    "\n",
    "            runner.batch_metrics.update(metrics)\n",
    "\n",
    "    def on_loader_end(self, runner: \"IRunner\") -> None:\n",
    "        if runner.loader_key.startswith('valid'):\n",
    "            metrics = self.metric.compute_key_value()\n",
    "            metrics = runner.engine.mean_reduce_ddp_metrics(metrics)\n",
    "            runner.loader_metrics.update(metrics)"
   ]
  },
  {
   "cell_type": "code",
   "execution_count": 19,
   "metadata": {},
   "outputs": [],
   "source": [
    "CONFIG.n_epochs = 35"
   ]
  },
  {
   "cell_type": "code",
   "execution_count": 20,
   "metadata": {},
   "outputs": [],
   "source": [
    "METRIC_LIST = [\n",
    "    'full__exact_match@1',\n",
    "    'text__exact_match@1',\n",
    "    'text__diff_exact_match@1',\n",
    "    'comment__exact_match@1',\n",
    "    'text__sari@1',\n",
    "    'text__rouge-1@1',\n",
    "    'text__rouge-2@1',\n",
    "    'text__rouge-l@1'\n",
    "]   "
   ]
  },
  {
   "cell_type": "code",
   "execution_count": null,
   "metadata": {
    "scrolled": false
   },
   "outputs": [
    {
     "name": "stderr",
     "output_type": "stream",
     "text": [
      "\u001b[34m\u001b[1mwandb\u001b[0m: Currently logged in as: \u001b[33manton-sh\u001b[0m. Use \u001b[1m`wandb login --relogin`\u001b[0m to force relogin\n"
     ]
    },
    {
     "data": {
      "text/html": [
       "Tracking run with wandb version 0.13.9"
      ],
      "text/plain": [
       "<IPython.core.display.HTML object>"
      ]
     },
     "metadata": {},
     "output_type": "display_data"
    },
    {
     "data": {
      "text/html": [
       "Run data is saved locally in <code>/home/shapkin/interactive_lm/wiki/wandb/run-20230129_120041-vbnaxfqd</code>"
      ],
      "text/plain": [
       "<IPython.core.display.HTML object>"
      ]
     },
     "metadata": {},
     "output_type": "display_data"
    },
    {
     "data": {
      "text/html": [
       "Syncing run <strong><a href=\"https://wandb.ai/anton-sh/interactive_lm/runs/vbnaxfqd\" target=\"_blank\">t5-small stage 2</a></strong> to <a href=\"https://wandb.ai/anton-sh/interactive_lm\" target=\"_blank\">Weights & Biases</a> (<a href=\"https://wandb.me/run\" target=\"_blank\">docs</a>)<br/>"
      ],
      "text/plain": [
       "<IPython.core.display.HTML object>"
      ]
     },
     "metadata": {},
     "output_type": "display_data"
    },
    {
     "data": {
      "text/html": [
       " View project at <a href=\"https://wandb.ai/anton-sh/interactive_lm\" target=\"_blank\">https://wandb.ai/anton-sh/interactive_lm</a>"
      ],
      "text/plain": [
       "<IPython.core.display.HTML object>"
      ]
     },
     "metadata": {},
     "output_type": "display_data"
    },
    {
     "data": {
      "text/html": [
       " View run at <a href=\"https://wandb.ai/anton-sh/interactive_lm/runs/vbnaxfqd\" target=\"_blank\">https://wandb.ai/anton-sh/interactive_lm/runs/vbnaxfqd</a>"
      ],
      "text/plain": [
       "<IPython.core.display.HTML object>"
      ]
     },
     "metadata": {},
     "output_type": "display_data"
    },
    {
     "data": {
      "application/vnd.jupyter.widget-view+json": {
       "model_id": "1bb7d7302a9649ddb0485ab94a8351b2",
       "version_major": 2,
       "version_minor": 0
      },
      "text/plain": [
       "1/35 * Epoch (train):   0%|          | 0/29890 [00:00<?, ?it/s]"
      ]
     },
     "metadata": {},
     "output_type": "display_data"
    },
    {
     "name": "stdout",
     "output_type": "stream",
     "text": [
      "train (1/35) loss: 0.43199090642369004 | loss/mean: 0.43199090642369004 | loss/std: 0.2329313013465438 | lr: 0.0001 | momentum: 0.9\n"
     ]
    },
    {
     "data": {
      "application/vnd.jupyter.widget-view+json": {
       "model_id": "cf6837050ee34d9287d65bdeea62152e",
       "version_major": 2,
       "version_minor": 0
      },
      "text/plain": [
       "1/35 * Epoch (valid_subset):   0%|          | 0/150 [00:00<?, ?it/s]"
      ]
     },
     "metadata": {},
     "output_type": "display_data"
    },
    {
     "name": "stdout",
     "output_type": "stream",
     "text": [
      "valid_subset (1/35) comment__exact_match@1: 0.0 | comment__exact_match@1/std: 0.0 | full__exact_match@1: 0.0 | full__exact_match@1/std: 0.0 | loss: 0.3522328029076258 | loss/mean: 0.3522328029076258 | loss/std: 0.14610656577337988 | lr: 0.0001 | momentum: 0.9 | text__diff_exact_match@1: 0.021389 | text__diff_exact_match@1/std: 0.063287 | text__exact_match@1: 0.015 | text__exact_match@1/std: 0.059421 | text__rouge-1@1: 0.902002 | text__rouge-1@1/std: 0.082355 | text__rouge-2@1: 0.870195 | text__rouge-2@1/std: 0.086718 | text__rouge-l@1: 0.900318 | text__rouge-l@1/std: 0.082815 | text__sari@1: 33.119327 | text__sari@1/std: 5.320233\n",
      "* Epoch (1/35) \n"
     ]
    },
    {
     "data": {
      "application/vnd.jupyter.widget-view+json": {
       "model_id": "c391ee081ab1412aadd1cfbd6b3a95d4",
       "version_major": 2,
       "version_minor": 0
      },
      "text/plain": [
       "2/35 * Epoch (train):   0%|          | 0/29890 [00:00<?, ?it/s]"
      ]
     },
     "metadata": {},
     "output_type": "display_data"
    },
    {
     "name": "stdout",
     "output_type": "stream",
     "text": [
      "train (2/35) loss: 0.3625630353564652 | loss/mean: 0.3625630353564652 | loss/std: 0.14073348439279 | lr: 0.0001 | momentum: 0.9\n"
     ]
    },
    {
     "data": {
      "application/vnd.jupyter.widget-view+json": {
       "model_id": "9a60fd9eb1ca45768ed16530900281fa",
       "version_major": 2,
       "version_minor": 0
      },
      "text/plain": [
       "2/35 * Epoch (valid_subset):   0%|          | 0/150 [00:00<?, ?it/s]"
      ]
     },
     "metadata": {},
     "output_type": "display_data"
    },
    {
     "name": "stdout",
     "output_type": "stream",
     "text": [
      "valid_subset (2/35) comment__exact_match@1: 0.001667 | comment__exact_match@1/std: 0.020361 | full__exact_match@1: 0.001667 | full__exact_match@1/std: 0.020361 | loss: 0.33567184989651033 | loss/mean: 0.33567184989651033 | loss/std: 0.14321856762128193 | lr: 0.0001 | momentum: 0.9 | text__diff_exact_match@1: 0.038492 | text__diff_exact_match@1/std: 0.095408 | text__exact_match@1: 0.031667 | text__exact_match@1/std: 0.092709 | text__rouge-1@1: 0.914001 | text__rouge-1@1/std: 0.059697 | text__rouge-2@1: 0.880041 | text__rouge-2@1/std: 0.06962 | text__rouge-l@1: 0.91168 | text__rouge-l@1/std: 0.060256 | text__sari@1: 35.694366 | text__sari@1/std: 7.422838\n",
      "* Epoch (2/35) \n"
     ]
    },
    {
     "data": {
      "application/vnd.jupyter.widget-view+json": {
       "model_id": "47fd72ff82b1490d9de5ed557f272dd8",
       "version_major": 2,
       "version_minor": 0
      },
      "text/plain": [
       "3/35 * Epoch (train):   0%|          | 0/29890 [00:00<?, ?it/s]"
      ]
     },
     "metadata": {},
     "output_type": "display_data"
    },
    {
     "name": "stdout",
     "output_type": "stream",
     "text": [
      "train (3/35) loss: 0.3452450775756678 | loss/mean: 0.3452450775756678 | loss/std: 0.13655063486957517 | lr: 0.0001 | momentum: 0.9\n"
     ]
    },
    {
     "data": {
      "application/vnd.jupyter.widget-view+json": {
       "model_id": "990ca4b4f6f344cc8707b5e212ef11b9",
       "version_major": 2,
       "version_minor": 0
      },
      "text/plain": [
       "3/35 * Epoch (valid_subset):   0%|          | 0/150 [00:00<?, ?it/s]"
      ]
     },
     "metadata": {},
     "output_type": "display_data"
    },
    {
     "name": "stdout",
     "output_type": "stream",
     "text": [
      "valid_subset (3/35) comment__exact_match@1: 0.001667 | comment__exact_match@1/std: 0.020361 | full__exact_match@1: 0.001667 | full__exact_match@1/std: 0.020361 | loss: 0.3260809808472792 | loss/mean: 0.3260809808472792 | loss/std: 0.14026433618169712 | lr: 0.0001 | momentum: 0.9 | text__diff_exact_match@1: 0.049028 | text__diff_exact_match@1/std: 0.106022 | text__exact_match@1: 0.043333 | text__exact_match@1/std: 0.10315 | text__rouge-1@1: 0.917708 | text__rouge-1@1/std: 0.052671 | text__rouge-2@1: 0.88284 | text__rouge-2@1/std: 0.063856 | text__rouge-l@1: 0.914621 | text__rouge-l@1/std: 0.053456 | text__sari@1: 36.292482 | text__sari@1/std: 7.606898\n",
      "* Epoch (3/35) \n"
     ]
    },
    {
     "data": {
      "application/vnd.jupyter.widget-view+json": {
       "model_id": "0e3893f2dca34cc1b8b44c8109c122d4",
       "version_major": 2,
       "version_minor": 0
      },
      "text/plain": [
       "4/35 * Epoch (train):   0%|          | 0/29890 [00:00<?, ?it/s]"
      ]
     },
     "metadata": {},
     "output_type": "display_data"
    },
    {
     "name": "stdout",
     "output_type": "stream",
     "text": [
      "train (4/35) loss: 0.3339269377034467 | loss/mean: 0.3339269377034467 | loss/std: 0.13406917637033325 | lr: 0.0001 | momentum: 0.9\n"
     ]
    },
    {
     "data": {
      "application/vnd.jupyter.widget-view+json": {
       "model_id": "895cc534fa3c46889c5d75d9db1aaf74",
       "version_major": 2,
       "version_minor": 0
      },
      "text/plain": [
       "4/35 * Epoch (valid_subset):   0%|          | 0/150 [00:00<?, ?it/s]"
      ]
     },
     "metadata": {},
     "output_type": "display_data"
    },
    {
     "name": "stdout",
     "output_type": "stream",
     "text": [
      "valid_subset (4/35) comment__exact_match@1: 0.001667 | comment__exact_match@1/std: 0.020361 | full__exact_match@1: 0.001667 | full__exact_match@1/std: 0.020361 | loss: 0.32143303508559856 | loss/mean: 0.32143303508559856 | loss/std: 0.13989475864422854 | lr: 0.0001 | momentum: 0.9 | text__diff_exact_match@1: 0.063479 | text__diff_exact_match@1/std: 0.121127 | text__exact_match@1: 0.043333 | text__exact_match@1/std: 0.10712 | text__rouge-1@1: 0.909296 | text__rouge-1@1/std: 0.056629 | text__rouge-2@1: 0.869188 | text__rouge-2@1/std: 0.070302 | text__rouge-l@1: 0.905266 | text__rouge-l@1/std: 0.057492 | text__sari@1: 37.910384 | text__sari@1/std: 8.017624\n",
      "* Epoch (4/35) \n"
     ]
    },
    {
     "data": {
      "application/vnd.jupyter.widget-view+json": {
       "model_id": "168ba4d3ae424921b82be17eb4da00cc",
       "version_major": 2,
       "version_minor": 0
      },
      "text/plain": [
       "5/35 * Epoch (train):   0%|          | 0/29890 [00:00<?, ?it/s]"
      ]
     },
     "metadata": {},
     "output_type": "display_data"
    },
    {
     "name": "stdout",
     "output_type": "stream",
     "text": [
      "train (5/35) loss: 0.3251114904324651 | loss/mean: 0.3251114904324651 | loss/std: 0.13077943937901898 | lr: 0.0001 | momentum: 0.9\n"
     ]
    },
    {
     "data": {
      "application/vnd.jupyter.widget-view+json": {
       "model_id": "5ac8967fc4bf4f98aff11eca0c4971bf",
       "version_major": 2,
       "version_minor": 0
      },
      "text/plain": [
       "5/35 * Epoch (valid_full):   0%|          | 0/1661 [00:00<?, ?it/s]"
      ]
     },
     "metadata": {},
     "output_type": "display_data"
    },
    {
     "name": "stdout",
     "output_type": "stream",
     "text": [
      "valid_full (5/35) comment__exact_match@1: 0.007978 | comment__exact_match@1/std: 0.043946 | full__exact_match@1: 0.005871 | full__exact_match@1/std: 0.037861 | loss: 0.3075938685418681 | loss/mean: 0.3075938685418681 | loss/std: 0.12645534531730582 | lr: 0.0001 | momentum: 0.9 | text__diff_exact_match@1: 0.076037 | text__diff_exact_match@1/std: 0.11658 | text__exact_match@1: 0.054042 | text__exact_match@1/std: 0.112691 | text__rouge-1@1: 0.908351 | text__rouge-1@1/std: 0.055586 | text__rouge-2@1: 0.86927 | text__rouge-2@1/std: 0.067641 | text__rouge-l@1: 0.905021 | text__rouge-l@1/std: 0.056564 | text__sari@1: 39.797188 | text__sari@1/std: 7.90698\n"
     ]
    },
    {
     "data": {
      "application/vnd.jupyter.widget-view+json": {
       "model_id": "ea37e9e0b76045d8bb29a789270bcd67",
       "version_major": 2,
       "version_minor": 0
      },
      "text/plain": [
       "5/35 * Epoch (valid_subset):   0%|          | 0/150 [00:00<?, ?it/s]"
      ]
     },
     "metadata": {},
     "output_type": "display_data"
    },
    {
     "name": "stdout",
     "output_type": "stream",
     "text": [
      "valid_subset (5/35) comment__exact_match@1: 0.003333 | comment__exact_match@1/std: 0.028698 | full__exact_match@1: 0.001667 | full__exact_match@1/std: 0.020361 | loss: 0.3165225010613602 | loss/mean: 0.3165225010613602 | loss/std: 0.1385487793998872 | lr: 0.0001 | momentum: 0.9 | text__diff_exact_match@1: 0.065139 | text__diff_exact_match@1/std: 0.119422 | text__exact_match@1: 0.04 | text__exact_match@1/std: 0.100416 | text__rouge-1@1: 0.905135 | text__rouge-1@1/std: 0.057995 | text__rouge-2@1: 0.864696 | text__rouge-2@1/std: 0.070353 | text__rouge-l@1: 0.90042 | text__rouge-l@1/std: 0.058779 | text__sari@1: 38.310704 | text__sari@1/std: 7.991295\n",
      "* Epoch (5/35) \n"
     ]
    },
    {
     "data": {
      "application/vnd.jupyter.widget-view+json": {
       "model_id": "bab8154141d843b1be5b5b34e3257645",
       "version_major": 2,
       "version_minor": 0
      },
      "text/plain": [
       "6/35 * Epoch (train):   0%|          | 0/29890 [00:00<?, ?it/s]"
      ]
     },
     "metadata": {},
     "output_type": "display_data"
    },
    {
     "name": "stdout",
     "output_type": "stream",
     "text": [
      "train (6/35) loss: 0.31839229335560437 | loss/mean: 0.31839229335560437 | loss/std: 0.12989899165315302 | lr: 0.0001 | momentum: 0.9\n"
     ]
    },
    {
     "data": {
      "application/vnd.jupyter.widget-view+json": {
       "model_id": "67de815d1ed64de4b8fb33cb0533624f",
       "version_major": 2,
       "version_minor": 0
      },
      "text/plain": [
       "6/35 * Epoch (valid_subset):   0%|          | 0/150 [00:00<?, ?it/s]"
      ]
     },
     "metadata": {},
     "output_type": "display_data"
    },
    {
     "name": "stdout",
     "output_type": "stream",
     "text": [
      "valid_subset (6/35) comment__exact_match@1: 0.003333 | comment__exact_match@1/std: 0.028698 | full__exact_match@1: 0.001667 | full__exact_match@1/std: 0.020361 | loss: 0.3128262328604857 | loss/mean: 0.3128262328604857 | loss/std: 0.13807307182061837 | lr: 0.0001 | momentum: 0.9 | text__diff_exact_match@1: 0.062139 | text__diff_exact_match@1/std: 0.115425 | text__exact_match@1: 0.033333 | text__exact_match@1/std: 0.089828 | text__rouge-1@1: 0.904583 | text__rouge-1@1/std: 0.057473 | text__rouge-2@1: 0.860471 | text__rouge-2@1/std: 0.07169 | text__rouge-l@1: 0.89989 | text__rouge-l@1/std: 0.058586 | text__sari@1: 38.600455 | text__sari@1/std: 8.410184\n",
      "* Epoch (6/35) \n"
     ]
    },
    {
     "data": {
      "application/vnd.jupyter.widget-view+json": {
       "model_id": "6ce398c89ccc44b6bb71567e2a4b541c",
       "version_major": 2,
       "version_minor": 0
      },
      "text/plain": [
       "7/35 * Epoch (train):   0%|          | 0/29890 [00:00<?, ?it/s]"
      ]
     },
     "metadata": {},
     "output_type": "display_data"
    }
   ],
   "source": [
    "runner = dl.SupervisedRunner()\n",
    "\n",
    "wandb_logger = WandbLogger(project=\"interactive_lm\", \n",
    "                              name=CONFIG.name, \n",
    "                              group=CONFIG.group)\n",
    "\n",
    "runner.train(\n",
    "    loaders=loaders,\n",
    "    model=model,\n",
    "    criterion=Criterion(),\n",
    "    optimizer=optimizer,\n",
    "    num_epochs=CONFIG.n_epochs,\n",
    "    callbacks=[\n",
    "        PeriodicLoaderCallback(\n",
    "            valid_loader_key='valid_full',\n",
    "            valid_metric_key='loss',\n",
    "            minimize=True,\n",
    "            **{'valid_full': 5}\n",
    "        ),\n",
    "        PeerEditMetricsCallback(METRIC_LIST, tokenizer),\n",
    "        dl.optimizer.OptimizerCallback(metric_key='loss', accumulation_steps=4),\n",
    "    ],\n",
    "    loggers={'wandb': wandb_logger},\n",
    "    logdir=f'./models/{CONFIG.description}',\n",
    "    valid_loader='valid_subset',\n",
    "    valid_metric='loss',\n",
    "    minimize_valid_metric=True,\n",
    "    verbose=True,\n",
    "#     check=True,\n",
    "#     cpu=True,\n",
    ")"
   ]
  },
  {
   "cell_type": "code",
   "execution_count": null,
   "metadata": {},
   "outputs": [],
   "source": []
  },
  {
   "cell_type": "code",
   "execution_count": null,
   "metadata": {},
   "outputs": [],
   "source": []
  },
  {
   "cell_type": "code",
   "execution_count": null,
   "metadata": {},
   "outputs": [],
   "source": []
  },
  {
   "cell_type": "code",
   "execution_count": null,
   "metadata": {},
   "outputs": [],
   "source": []
  },
  {
   "cell_type": "code",
   "execution_count": null,
   "metadata": {},
   "outputs": [],
   "source": []
  },
  {
   "cell_type": "code",
   "execution_count": null,
   "metadata": {},
   "outputs": [],
   "source": []
  },
  {
   "cell_type": "markdown",
   "metadata": {},
   "source": [
    "CONFIG.beam_size = 1"
   ]
  },
  {
   "cell_type": "markdown",
   "metadata": {
    "scrolled": false
   },
   "source": [
    "device = runner.engine.device\n",
    "runner.model.eval()\n",
    "with torch.no_grad():\n",
    "    for i in [0, 1, 2]:\n",
    "        src_, tgt_ = ds_train[i]\n",
    "        src_inp = torch.tensor(src_['input_ids']).view(1,-1).to(runner.engine.device)\n",
    "        generated = runner.model.pretrained.generate(src_inp,\n",
    "                                              attention_mask=(src_inp != 0).float().to(runner.engine.device),\n",
    "                                            # pad_token_id=tokenizer.pad_token_id,\n",
    "                                            # bos_token_id=tokenizer.bos_token_id,\n",
    "                                            # eos_token_id=tokenizer.eos_token_id,\n",
    "                                              num_beams=CONFIG.beam_size,\n",
    "                                              num_return_sequences=CONFIG.beam_size,\n",
    "                                              max_length=1000\n",
    "        )\n",
    "        \n",
    "        tgt_full = tokenizer.decode(tgt_['input_ids'], skip_special_tokens=True).strip()\n",
    "        tgt_comment, tgt_text = extract_com8text_from_tgt(tgt_full)\n",
    "\n",
    "        src_full = tokenizer.decode(src_['input_ids'], skip_special_tokens=True).strip()\n",
    "        src_text, _ = extract_text8docs_from_src(src_full)\n",
    "        \n",
    "        \n",
    "        print(f'\\n\\n----------------------------\\t QUERY {i}\\t ----------------------------\\n')\n",
    "        print(f'Src query:\\n {src_text}')\n",
    "        print(f'\\nTgt query:\\n {tgt_text}')\n",
    "        print(f'\\nTgt comment:\\n {tgt_comment}')\n",
    "        \n",
    "        print(f'\\n\\n----------------------------\\t GENERATED\\t ----------------------------\\n')\n",
    "\n",
    "        pred_full = []\n",
    "        pred_texts = []\n",
    "        pred_comments = []\n",
    "        for j in range(CONFIG.beam_size):\n",
    "            to_gen = generated[j]\n",
    "            gen_text = tokenizer.decode(to_gen, skip_special_tokens=True)\n",
    "            com_prediction, text_prediction = extract_com8text_from_tgt(gen_text)\n",
    "            \n",
    "            pred_full.append(gen_text)\n",
    "            pred_texts.append(text_prediction)\n",
    "            pred_comments.append(com_prediction)\n",
    "            \n",
    "            print(f'{j} TEXT:\\n{text_prediction}\\n')\n",
    "            print(f'{j} COMMENT:\\n{com_prediction}\\n\\n')\n",
    "        \n",
    "        print('Text sari:', sari_one(src_text, tgt_text, pred_texts))\n",
    "        print('Com em:', topN_diff_exact_match_one('', tgt_comment, pred_comments))\n",
    "        print('Full em:', topN_diff_exact_match_one(src_full, tgt_full, pred_full))\n",
    "        print('Text em:', topN_diff_exact_match_one(src_text, tgt_text, pred_texts))\n",
    "        print('Rouge text:', rouge_one(src_text, tgt_text, pred_texts)['rouge-1'])"
   ]
  }
 ],
 "metadata": {
  "kernelspec": {
   "display_name": "Python 3 (ipykernel)",
   "language": "python",
   "name": "python3"
  },
  "language_info": {
   "codemirror_mode": {
    "name": "ipython",
    "version": 3
   },
   "file_extension": ".py",
   "mimetype": "text/x-python",
   "name": "python",
   "nbconvert_exporter": "python",
   "pygments_lexer": "ipython3",
   "version": "3.9.13"
  }
 },
 "nbformat": 4,
 "nbformat_minor": 4
}
