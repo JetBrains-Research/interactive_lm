{
 "cells": [
  {
   "cell_type": "code",
   "execution_count": 1,
   "metadata": {},
   "outputs": [
    {
     "name": "stdout",
     "output_type": "stream",
     "text": [
      "Mon Jan 30 07:47:36 2023       \n",
      "+-----------------------------------------------------------------------------+\n",
      "| NVIDIA-SMI 525.60.13    Driver Version: 525.60.13    CUDA Version: 12.0     |\n",
      "|-------------------------------+----------------------+----------------------+\n",
      "| GPU  Name        Persistence-M| Bus-Id        Disp.A | Volatile Uncorr. ECC |\n",
      "| Fan  Temp  Perf  Pwr:Usage/Cap|         Memory-Usage | GPU-Util  Compute M. |\n",
      "|                               |                      |               MIG M. |\n",
      "|===============================+======================+======================|\n",
      "|   0  Tesla T4            On   | 00000000:00:04.0 Off |                    0 |\n",
      "| N/A   37C    P8     9W /  70W |      2MiB / 15360MiB |      0%      Default |\n",
      "|                               |                      |                  N/A |\n",
      "+-------------------------------+----------------------+----------------------+\n",
      "|   1  Tesla T4            On   | 00000000:00:05.0 Off |                    0 |\n",
      "| N/A   39C    P8     9W /  70W |      2MiB / 15360MiB |      0%      Default |\n",
      "|                               |                      |                  N/A |\n",
      "+-------------------------------+----------------------+----------------------+\n",
      "|   2  Tesla T4            On   | 00000000:00:06.0 Off |                    0 |\n",
      "| N/A   32C    P8     9W /  70W |      2MiB / 15360MiB |      0%      Default |\n",
      "|                               |                      |                  N/A |\n",
      "+-------------------------------+----------------------+----------------------+\n",
      "|   3  Tesla T4            On   | 00000000:00:07.0 Off |                    0 |\n",
      "| N/A   77C    P0    69W /  70W |  12189MiB / 15360MiB |     96%      Default |\n",
      "|                               |                      |                  N/A |\n",
      "+-------------------------------+----------------------+----------------------+\n",
      "                                                                               \n",
      "+-----------------------------------------------------------------------------+\n",
      "| Processes:                                                                  |\n",
      "|  GPU   GI   CI        PID   Type   Process name                  GPU Memory |\n",
      "|        ID   ID                                                   Usage      |\n",
      "|=============================================================================|\n",
      "|    3   N/A  N/A    101135      C   ...pkin/anaconda3/bin/python    12184MiB |\n",
      "+-----------------------------------------------------------------------------+\n"
     ]
    }
   ],
   "source": [
    "!nvidia-smi"
   ]
  },
  {
   "cell_type": "code",
   "execution_count": null,
   "metadata": {},
   "outputs": [],
   "source": [
    "import sys\n",
    "sys.path.append('..')"
   ]
  },
  {
   "cell_type": "code",
   "execution_count": 2,
   "metadata": {},
   "outputs": [],
   "source": [
    "import os\n",
    "os.environ['TOKENIZERS_PARALLELISM']='true'\n",
    "os.environ['CUDA_VISIBLE_DEVICES']='2'"
   ]
  },
  {
   "cell_type": "code",
   "execution_count": 3,
   "metadata": {},
   "outputs": [],
   "source": [
    "import re\n",
    "import os\n",
    "import torch\n",
    "import json\n",
    "import numpy as np\n",
    "import pandas as pd\n",
    "import seaborn as sns\n",
    "import transformers\n",
    "import matplotlib.pyplot as plt\n",
    "import warnings\n",
    "warnings.filterwarnings(\"ignore\")\n",
    "\n",
    "from transformers import T5Tokenizer, T5TokenizerFast, T5ForConditionalGeneration\n",
    "from transformers.tokenization_utils import PreTrainedTokenizer\n",
    "from transformers.tokenization_utils_fast import PreTrainedTokenizerFast\n",
    "from typing import Callable, Union, Tuple\n",
    "from tqdm.notebook import tqdm\n",
    "from collections import Counter\n",
    "from torch import nn\n",
    "from catalyst import dl\n",
    "from catalyst.callbacks.periodic_loader import PeriodicLoaderCallback\n",
    "from langdetect import detect\n",
    "from easse.sari import corpus_sari\n",
    "from rouge import Rouge \n",
    "\n",
    "from utils.dataset_utils import extract_com8text_from_tgt, extract_text8docs_from_src\n",
    "from utils.dataset_utils import EditDataset, get_tgt, get_src, COM_SEP, TEXT_SEP_SRC, TEXT_SEP_TGT, DOCS_SEP\n",
    "from utils.dataset_utils import ExplainDataset, get_tgt_explain, get_src_explain\n",
    "from utils.metrics_utils import PeerEditMetricsCallback, PeerExplainMetricsCallback\n",
    "from utils.config import Config\n",
    "\n",
    "\n",
    "DOCS_DIR = 'data'\n",
    "PAGES_DIR = 'data'"
   ]
  },
  {
   "cell_type": "code",
   "execution_count": 4,
   "metadata": {},
   "outputs": [],
   "source": [
    "CONFIG = Config()\n",
    "CONFIG.seed = 1337"
   ]
  },
  {
   "cell_type": "code",
   "execution_count": 5,
   "metadata": {},
   "outputs": [],
   "source": [
    "import random\n",
    "\n",
    "random.seed(CONFIG.seed)\n",
    "os.environ['PYTHONHASHSEED'] = str(CONFIG.seed)\n",
    "np.random.seed(CONFIG.seed)\n",
    "torch.manual_seed(CONFIG.seed)\n",
    "torch.cuda.manual_seed(CONFIG.seed)\n",
    "torch.backends.cudnn.deterministic = True\n",
    "torch.backends.cudnn.benchmark = True"
   ]
  },
  {
   "cell_type": "markdown",
   "metadata": {},
   "source": [
    "## Data preparing"
   ]
  },
  {
   "cell_type": "code",
   "execution_count": 6,
   "metadata": {},
   "outputs": [],
   "source": [
    "mp = json.load(open(r\"../data/column_mapper.json\"))\n",
    "\n",
    "train = pd.read_json(r'../data/new_train.json')\n",
    "train.set_axis(mp.values(), axis='columns', inplace=True)\n",
    "\n",
    "test = pd.read_json(r'../data/new_test.json')\n",
    "test.set_axis(mp.values(), axis='columns', inplace=True)\n",
    "\n",
    "val = pd.read_json(r'../data/new_val.json')\n",
    "val.set_axis(mp.values(), axis='columns', inplace=True)\n",
    "val1 = val.sample(600)"
   ]
  },
  {
   "cell_type": "code",
   "execution_count": 7,
   "metadata": {},
   "outputs": [
    {
     "data": {
      "text/html": [
       "<div>\n",
       "<style scoped>\n",
       "    .dataframe tbody tr th:only-of-type {\n",
       "        vertical-align: middle;\n",
       "    }\n",
       "\n",
       "    .dataframe tbody tr th {\n",
       "        vertical-align: top;\n",
       "    }\n",
       "\n",
       "    .dataframe thead th {\n",
       "        text-align: right;\n",
       "    }\n",
       "</style>\n",
       "<table border=\"1\" class=\"dataframe\">\n",
       "  <thead>\n",
       "    <tr style=\"text-align: right;\">\n",
       "      <th></th>\n",
       "      <th>obj_id</th>\n",
       "      <th>old_text</th>\n",
       "      <th>new_text</th>\n",
       "      <th>comment</th>\n",
       "      <th>docs</th>\n",
       "      <th>diff</th>\n",
       "      <th>title</th>\n",
       "      <th>search_queries</th>\n",
       "      <th>counter_found_docs</th>\n",
       "      <th>section_name</th>\n",
       "      <th>is_good</th>\n",
       "      <th>docs_processed</th>\n",
       "    </tr>\n",
       "  </thead>\n",
       "  <tbody>\n",
       "    <tr>\n",
       "      <th>0</th>\n",
       "      <td>1005</td>\n",
       "      <td>In rural regions of Germany, especially the Ha...</td>\n",
       "      <td>In rural regions of Germany, especially the Ha...</td>\n",
       "      <td>/* Germany */ grammar</td>\n",
       "      <td>Apr 30, 2020 — Depending on whom you ask, May ...</td>\n",
       "      <td>this opportunity to party,</td>\n",
       "      <td>May Day</td>\n",
       "      <td>[May Day Germany this opportunity to party,]</td>\n",
       "      <td>[27]</td>\n",
       "      <td>Germany</td>\n",
       "      <td>True</td>\n",
       "      <td>DOC0: Apr 30, 2020 — Depending on whom you ask...</td>\n",
       "    </tr>\n",
       "    <tr>\n",
       "      <th>1</th>\n",
       "      <td>55</td>\n",
       "      <td>\"This is the new WikiPedia!\" \\n-HomePage, the ...</td>\n",
       "      <td>\"This is the new WikiPedia!\" \\n-HomePage, the ...</td>\n",
       "      <td>Added subpage</td>\n",
       "      <td>English: Results of the 1929 New York City ald...</td>\n",
       "      <td>\\n*/New York City Board of Aldermen</td>\n",
       "      <td>John M Wolfson</td>\n",
       "      <td>[John M Wolfson \\n*/New York City Board of Ald...</td>\n",
       "      <td>[10, 4]</td>\n",
       "      <td></td>\n",
       "      <td>True</td>\n",
       "      <td>DOC0: English: Results of the 1929 New York Ci...</td>\n",
       "    </tr>\n",
       "    <tr>\n",
       "      <th>2</th>\n",
       "      <td>2329</td>\n",
       "      <td>Ares (Ancient Greek:  , Μodern Greek: Άρης ) i...</td>\n",
       "      <td>Ares (Ancient Greek:  , Μodern Greek: Άρης ) i...</td>\n",
       "      <td>repaired link to 'masculinity' ~~~~</td>\n",
       "      <td>Apr 7, 2014 — Let's explore the essence of mas...</td>\n",
       "      <td>masculinity, integrity, and personal courage.</td>\n",
       "      <td>Ares</td>\n",
       "      <td>[Ares masculinity, integrity, and personal cou...</td>\n",
       "      <td>[30]</td>\n",
       "      <td></td>\n",
       "      <td>True</td>\n",
       "      <td>DOC0: Apr 7, 2014 — Let's explore the essence ...</td>\n",
       "    </tr>\n",
       "    <tr>\n",
       "      <th>3</th>\n",
       "      <td>17206</td>\n",
       "      <td>Peter Velhorn (born 24 November 1932) is a Ger...</td>\n",
       "      <td>Peter Velhorn (24 November 1932 – 20 July 2016...</td>\n",
       "      <td>Passed away 2016, look at German article</td>\n",
       "      <td>Peter Velhorn (24 November 1932 – 20 July 2016...</td>\n",
       "      <td>– 20 July 2016</td>\n",
       "      <td>Peter Velhorn</td>\n",
       "      <td>[Peter Velhorn  – 20 July 2016]</td>\n",
       "      <td>[23]</td>\n",
       "      <td></td>\n",
       "      <td>True</td>\n",
       "      <td>DOC0: Peter Velhorn (24 November 1932 – 20 Jul...</td>\n",
       "    </tr>\n",
       "    <tr>\n",
       "      <th>4</th>\n",
       "      <td>47</td>\n",
       "      <td>Michael Palin was educated at Birkdale School,...</td>\n",
       "      <td>Michael Palin was educated at Birkdale School,...</td>\n",
       "      <td>/* Early career */ added info</td>\n",
       "      <td>Michael Palin, Nightingale House, in Clapham, ...</td>\n",
       "      <td>, Graeme Garden, Bill Oddie and Jonathan Lynn</td>\n",
       "      <td>Michael Palin</td>\n",
       "      <td>[Michael Palin  Early career , Graeme Garden, ...</td>\n",
       "      <td>[29]</td>\n",
       "      <td>Early career</td>\n",
       "      <td>True</td>\n",
       "      <td>DOC0: Michael Palin, Nightingale House, in Cla...</td>\n",
       "    </tr>\n",
       "  </tbody>\n",
       "</table>\n",
       "</div>"
      ],
      "text/plain": [
       "   obj_id                                           old_text  \\\n",
       "0    1005  In rural regions of Germany, especially the Ha...   \n",
       "1      55  \"This is the new WikiPedia!\" \\n-HomePage, the ...   \n",
       "2    2329  Ares (Ancient Greek:  , Μodern Greek: Άρης ) i...   \n",
       "3   17206  Peter Velhorn (born 24 November 1932) is a Ger...   \n",
       "4      47  Michael Palin was educated at Birkdale School,...   \n",
       "\n",
       "                                            new_text  \\\n",
       "0  In rural regions of Germany, especially the Ha...   \n",
       "1  \"This is the new WikiPedia!\" \\n-HomePage, the ...   \n",
       "2  Ares (Ancient Greek:  , Μodern Greek: Άρης ) i...   \n",
       "3  Peter Velhorn (24 November 1932 – 20 July 2016...   \n",
       "4  Michael Palin was educated at Birkdale School,...   \n",
       "\n",
       "                                    comment  \\\n",
       "0                     /* Germany */ grammar   \n",
       "1                             Added subpage   \n",
       "2       repaired link to 'masculinity' ~~~~   \n",
       "3  Passed away 2016, look at German article   \n",
       "4             /* Early career */ added info   \n",
       "\n",
       "                                                docs  \\\n",
       "0  Apr 30, 2020 — Depending on whom you ask, May ...   \n",
       "1  English: Results of the 1929 New York City ald...   \n",
       "2  Apr 7, 2014 — Let's explore the essence of mas...   \n",
       "3  Peter Velhorn (24 November 1932 – 20 July 2016...   \n",
       "4  Michael Palin, Nightingale House, in Clapham, ...   \n",
       "\n",
       "                                            diff           title  \\\n",
       "0                     this opportunity to party,         May Day   \n",
       "1            \\n*/New York City Board of Aldermen  John M Wolfson   \n",
       "2  masculinity, integrity, and personal courage.            Ares   \n",
       "3                                 – 20 July 2016   Peter Velhorn   \n",
       "4  , Graeme Garden, Bill Oddie and Jonathan Lynn   Michael Palin   \n",
       "\n",
       "                                      search_queries counter_found_docs  \\\n",
       "0       [May Day Germany this opportunity to party,]               [27]   \n",
       "1  [John M Wolfson \\n*/New York City Board of Ald...            [10, 4]   \n",
       "2  [Ares masculinity, integrity, and personal cou...               [30]   \n",
       "3                    [Peter Velhorn  – 20 July 2016]               [23]   \n",
       "4  [Michael Palin  Early career , Graeme Garden, ...               [29]   \n",
       "\n",
       "     section_name  is_good                                     docs_processed  \n",
       "0         Germany     True  DOC0: Apr 30, 2020 — Depending on whom you ask...  \n",
       "1                     True  DOC0: English: Results of the 1929 New York Ci...  \n",
       "2                     True  DOC0: Apr 7, 2014 — Let's explore the essence ...  \n",
       "3                     True  DOC0: Peter Velhorn (24 November 1932 – 20 Jul...  \n",
       "4   Early career      True  DOC0: Michael Palin, Nightingale House, in Cla...  "
      ]
     },
     "execution_count": 7,
     "metadata": {},
     "output_type": "execute_result"
    }
   ],
   "source": [
    "train.head()"
   ]
  },
  {
   "cell_type": "code",
   "execution_count": 8,
   "metadata": {},
   "outputs": [],
   "source": [
    "CONFIG.src_max_len = 1024\n",
    "CONFIG.tgt_max_len = 128\n",
    "CONFIG.pretrained = 't5-small'\n",
    "CONFIG.batch_size = 4\n",
    "\n",
    "tokenizer = T5TokenizerFast.from_pretrained(CONFIG.pretrained, model_max_length=CONFIG.src_max_len)"
   ]
  },
  {
   "cell_type": "code",
   "execution_count": 9,
   "metadata": {},
   "outputs": [
    {
     "name": "stdout",
     "output_type": "stream",
     "text": [
      "Old text: \"This is the new WikiPedia!\" \n",
      "-HomePage, the first ever article created on Wikipedia, created by office.bomis.com on Mon, 15 Jan 2001 19:27:13 \n",
      "\n",
      "\n",
      "\n",
      "Interested in Chicago and urban history, and other things. \n",
      "\n",
      "SUBPAGES (Excl. Sandbox):\n",
      "*/Chicago aldermanic notability\n",
      "*/Louis B. Anderson\n",
      "*/Chicago City Council since 1923\n",
      "*/Town of Chicago\n",
      "\n",
      "\"FORMER\" SUBPAGES (content moved elsewhere, now serving as redirects):\n",
      "*/Notabilitymandering\n",
      "*/List of Chicago aldermen since 1923\n",
      "*/Chicago aldermanic elections before 1923\n",
      "\n",
      "\n",
      "New text: \"This is the new WikiPedia!\" \n",
      "-HomePage, the first ever article created on Wikipedia, created by office.bomis.com on Mon, 15 Jan 2001 19:27:13 \n",
      "\n",
      "\n",
      "\n",
      "Interested in Chicago and urban history, and other things. \n",
      "\n",
      "SUBPAGES (Excl. Sandbox):\n",
      "*/Chicago aldermanic notability\n",
      "*/Louis B. Anderson\n",
      "*/Chicago City Council since 1923\n",
      "*/Town of Chicago\n",
      "*/New York City Board of Aldermen\n",
      "\n",
      "\"FORMER\" SUBPAGES (content moved elsewhere, now serving as redirects):\n",
      "*/Notabilitymandering\n",
      "*/List of Chicago aldermen since 1923\n",
      "*/Chicago aldermanic elections before 1923\n",
      "\n",
      "\n",
      "Comment: Added subpage\n",
      "\n",
      "\n",
      "Docs: DOC0: English: Results of the 1929 New York City aldermanic presidential election by assembly district. Color scheme is the same of those of similar maps DOC1: The New York City Board of Aldermen was a body that was the upper house of New York City's Common Council from 1824 to 1875, the lower house of its DOC2: English. Results of the 1929 New York City aldermanic presidential election by assembly district.. Source, Own work. Author, John M Wolfson DOC3: Comptroller of City of N. Y., as Cus- todian of N. Y. City Employees' Re- tirement System. Department of Health. 79621. 5-10-26 John J. Kearney DOC4: THE BOARD OF ALDERMEN OF THE CITY OF. NEW YORK. bine lane, Queens ; Leo Wolfson, 250 Riverside drive, Manhattan ; Joseph. J. M. Chaplain, Inc DOC5: Episcopal Zion Churches. . 144 Agricultural Dept, of State N.  Y. . . . 141 Aldermen. Board of 1.S7 Ambulance Board 139 Am. Museum of Natural History\n",
      "\n",
      "\n",
      "Src: \"this is the new wikipedia!\" \n",
      "-homepage, the first ever article created on wikipedia, created by office.bomis.com on mon, 15 jan 2001 19:27:13 \n",
      "\n",
      "\n",
      "\n",
      "interested in chicago and urban history, and other things. \n",
      "\n",
      "subpages (excl. sandbox):\n",
      "*/chicago aldermanic notability\n",
      "*/louis b. anderson\n",
      "*/chicago city council since 1923\n",
      "*/town of chicago\n",
      "\n",
      "\"former\" subpages (content moved elsewhere, now serving as redirects):\n",
      "*/notabilitymandering\n",
      "*/list of chicago aldermen since 1923\n",
      "*/chicago aldermanic elections before 1923 TEXT_SEP \"this is the new wikipedia!\" \n",
      "-homepage, the first ever article created on wikipedia, created by office.bomis.com on mon, 15 jan 2001 19:27:13 \n",
      "\n",
      "\n",
      "\n",
      "interested in chicago and urban history, and other things. \n",
      "\n",
      "subpages (excl. sandbox):\n",
      "*/chicago aldermanic notability\n",
      "*/louis b. anderson\n",
      "*/chicago city council since 1923\n",
      "*/town of chicago\n",
      "*/new york city board of aldermen\n",
      "\n",
      "\"former\" subpages (content moved elsewhere, now serving as redirects):\n",
      "*/notabilitymandering\n",
      "*/list of chicago aldermen since 1923\n",
      "*/chicago aldermanic elections before 1923 DOCS_SEP doc0: english: results of the 1929 new york city aldermanic presidential election by assembly district. color scheme is the same of those of similar maps doc1: the new york city board of aldermen was a body that was the upper house of new york city's common council from 1824 to 1875, the lower house of its doc2: english. results of the 1929 new york city aldermanic presidential election by assembly district.. source, own work. author, john m wolfson doc3: comptroller of city of n. y., as cus- todian of n. y. city employees' re- tirement system. department of health. 79621. 5-10-26 john j. kearney doc4: the board of aldermen of the city of. new york. bine lane, queens ; leo wolfson, 250 riverside drive, manhattan ; joseph. j. m. chaplain, inc doc5: episcopal zion churches. . 144 agricultural dept, of state n.  y. . . . 141 aldermen. board of 1.s7 ambulance board 139 am. museum of natural history\n",
      "\n",
      "\n",
      "Tgt: added subpage\n",
      "\n",
      "\n"
     ]
    }
   ],
   "source": [
    "idx = 1\n",
    "el_idx = train.iloc[idx]\n",
    "\n",
    "docs = el_idx['docs_processed']\n",
    "comment = el_idx['comment']\n",
    "old_text = el_idx['old_text']\n",
    "new_text = el_idx['new_text']\n",
    "\n",
    "print(f'Old text: {old_text}\\n\\n')\n",
    "print(f'New text: {new_text}\\n\\n')\n",
    "print(f'Comment: {comment}\\n\\n')\n",
    "print(f'Docs: {docs}\\n\\n')\n",
    "\n",
    "src = get_src_explain(el_idx)\n",
    "tgt = get_tgt_explain(el_idx)\n",
    "\n",
    "print(f'Src: {src}\\n\\n')\n",
    "print(f'Tgt: {tgt}\\n\\n')"
   ]
  },
  {
   "cell_type": "markdown",
   "metadata": {},
   "source": [
    "**Make dataset**"
   ]
  },
  {
   "cell_type": "code",
   "execution_count": 10,
   "metadata": {},
   "outputs": [],
   "source": [
    "ds_train = ExplainDataset(train, tokenizer, CONFIG, text_to_lower=True, comment_to_lower=True)\n",
    "ds_val = ExplainDataset(val1, tokenizer, CONFIG, text_to_lower=True, comment_to_lower=True)\n",
    "ds_val_full = ExplainDataset(val, tokenizer, CONFIG, text_to_lower=True, comment_to_lower=True)"
   ]
  },
  {
   "cell_type": "markdown",
   "metadata": {},
   "source": [
    "**Len distribution**"
   ]
  },
  {
   "cell_type": "code",
   "execution_count": 11,
   "metadata": {},
   "outputs": [
    {
     "data": {
      "image/png": "[encoded data removed]",
      "text/plain": [
       "<Figure size 640x480 with 1 Axes>"
      ]
     },
     "metadata": {},
     "output_type": "display_data"
    }
   ],
   "source": [
    "arr_src = []\n",
    "arr_tgt = []\n",
    "for src_q, tgt_q in ds_train:\n",
    "    arr_src.append(len(src_q['input_ids']))\n",
    "    arr_tgt.append(len(tgt_q['input_ids']))\n",
    "\n",
    "sns.distplot(arr_src, label='src');\n",
    "plt.legend();\n",
    "sns.distplot(arr_tgt, label='tgt');\n",
    "plt.legend();"
   ]
  },
  {
   "cell_type": "code",
   "execution_count": 12,
   "metadata": {},
   "outputs": [
    {
     "data": {
      "image/png": "[encoded data removed]",
      "text/plain": [
       "<Figure size 640x480 with 1 Axes>"
      ]
     },
     "metadata": {},
     "output_type": "display_data"
    }
   ],
   "source": [
    "arr_src = []\n",
    "arr_tgt = []\n",
    "for src_q, tgt_q in ds_val:\n",
    "    arr_src.append(len(src_q['input_ids']))\n",
    "    arr_tgt.append(len(tgt_q['input_ids']))\n",
    "\n",
    "sns.distplot(arr_src, label='src');\n",
    "plt.legend();\n",
    "sns.distplot(arr_tgt, label='tgt');\n",
    "plt.legend();"
   ]
  },
  {
   "cell_type": "code",
   "execution_count": 13,
   "metadata": {},
   "outputs": [],
   "source": [
    "idx_num = 0\n",
    "src_text = tokenizer.decode(ds_train[idx_num][0]['input_ids'], skip_special_tokens=True)\n",
    "tgt_text = tokenizer.decode(ds_train[idx_num][1]['input_ids'], skip_special_tokens=True)"
   ]
  },
  {
   "cell_type": "code",
   "execution_count": 14,
   "metadata": {
    "scrolled": true
   },
   "outputs": [
    {
     "name": "stdout",
     "output_type": "stream",
     "text": [
      "in rural regions of germany, especially the harz mountains, walpurgisnacht celebrations of pagan origin are traditionally held on the night before may day, including bonfires and the wrapping of maypoles, and young people use opportunity to party, while the day itself is used by many families to get some fresh air. motto: \"tanz in den mai!\" (\"dance into may!\"). in the rhineland, a region in the western part of germany, may 1 is also celebrated by the delivery of a tree covered in streamers to the house of a girl the night before. the tree is typically from a love interest, though a tree wrapped only in white streamers is a sign of dislike. TEXT_SEP in rural regions of germany, especially the harz mountains, walpurgisnacht celebrations of pagan origin are traditionally held on the night before may day, including bonfires and the wrapping of maypoles, and young people use this opportunity to party, while the day itself is used by many families to get some fresh air. motto: \"tanz in den mai!\" (\"dance into may!\"). in the rhineland, a region in the western part of germany, may 1 is also celebrated by the delivery of a tree covered in streamers to the house of a girl the night before. the tree is typically from a love interest, though a tree wrapped only in white streamers is a sign of dislike. DOCS_SEP doc0: apr 30, 2020 — depending on whom you ask, may day in germany is either an innocent day full of deeply held traditions regarding courtship and the doc1: mar 27, 2019 — celebrating labour day can be an occasion for either partying or protesting, depending on your persuasion. many people enjoy both simultaneously doc2: may 1st, which falls on sunday this year, brings out weird and wonderful traditions in germany, from mountain-top witch parties to day-drinking and dancing doc3: apr 28, 2022 — berlin has a history both of peaceful and violent demonstration on may 1. photo: imago/seeliger. this sunday is may day doc4: oct 5, 2018 — get to know weird and wonderful may day celebrations that most people outside. germany loves to party, and may 1 is the perfect occasion doc5: on paper, may day isn't the most exciting festival in germany.. dancing at open-air parties and an incomparable energy of rebellion, chaos and anarchy\n",
      "\n",
      "/* germany */ grammar\n"
     ]
    }
   ],
   "source": [
    "print(f'{src_text}\\n\\n{tgt_text}')"
   ]
  },
  {
   "cell_type": "markdown",
   "metadata": {},
   "source": [
    "## Model training"
   ]
  },
  {
   "cell_type": "code",
   "execution_count": 15,
   "metadata": {},
   "outputs": [],
   "source": [
    "loaders = {\n",
    "    'train': torch.utils.data.DataLoader(ds_train, \n",
    "                                         batch_size=CONFIG.batch_size,\n",
    "                                         collate_fn=lambda x: EditDataset.collate_fn(x, tokenizer, CONFIG),\n",
    "                                         num_workers=4, shuffle=True),\n",
    "    'valid_full': torch.utils.data.DataLoader(ds_val_full, \n",
    "                                         batch_size=CONFIG.batch_size,\n",
    "                                         collate_fn=lambda x: EditDataset.collate_fn(x, tokenizer, CONFIG),\n",
    "                                         num_workers=4, shuffle=False),\n",
    "    'valid_subset': torch.utils.data.DataLoader(ds_val, \n",
    "                                         batch_size=CONFIG.batch_size,\n",
    "                                         collate_fn=lambda x: EditDataset.collate_fn(x, tokenizer, CONFIG),\n",
    "                                         num_workers=4, shuffle=False)\n",
    "}"
   ]
  },
  {
   "cell_type": "code",
   "execution_count": 16,
   "metadata": {},
   "outputs": [],
   "source": [
    "class ExplainModel(nn.Module):\n",
    "    def __init__(self, \n",
    "                 pretrained: transformers.modeling_utils.PreTrainedModel, \n",
    "                 config: Config):\n",
    "        super(ExplainModel, self).__init__()\n",
    "        self.pretrained = pretrained\n",
    "        \n",
    "\n",
    "    def forward(self, \n",
    "                x: Tuple[torch.Tensor, torch.Tensor]):\n",
    "        src, tgt = x\n",
    "        \n",
    "        tgt[tgt == 0] == -100\n",
    "        \n",
    "        loss = self.pretrained(\n",
    "            input_ids = src,\n",
    "            attention_mask = (src != 0).float(),\n",
    "            labels=tgt,\n",
    "        ).loss\n",
    "        return loss\n",
    "    \n",
    "    \n",
    "class Criterion(nn.Module):\n",
    "    def __init__(self):\n",
    "        super(Criterion, self).__init__()\n",
    "        \n",
    "    def forward(self, pred, tgt):\n",
    "        return pred"
   ]
  },
  {
   "cell_type": "code",
   "execution_count": 17,
   "metadata": {},
   "outputs": [],
   "source": [
    "model = ExplainModel(\n",
    "    T5ForConditionalGeneration.from_pretrained(CONFIG.pretrained),\n",
    "    CONFIG\n",
    ")\n",
    "CONFIG.optimizer = 'Adam(lr=0.0001)'\n",
    "optimizer = torch.optim.Adam(model.parameters(), lr=0.0001)\n",
    "\n",
    "CONFIG.name = f'{CONFIG.pretrained}'\n",
    "CONFIG.description = f'{CONFIG.name} p(comment | x_t, x_t+1, doc)'\n",
    "CONFIG.group = \"wiki_explain\""
   ]
  },
  {
   "cell_type": "code",
   "execution_count": 18,
   "metadata": {},
   "outputs": [],
   "source": [
    "!rm -rf ./models/\"{CONFIG.description}\""
   ]
  },
  {
   "cell_type": "code",
   "execution_count": 19,
   "metadata": {},
   "outputs": [],
   "source": [
    "CONFIG.n_epochs = 40"
   ]
  },
  {
   "cell_type": "code",
   "execution_count": 20,
   "metadata": {},
   "outputs": [],
   "source": [
    "METRIC_LIST = [\n",
    "    'full__exact_match@1',\n",
    "    'full__exact_match@5'\n",
    "]   "
   ]
  },
  {
   "cell_type": "code",
   "execution_count": null,
   "metadata": {
    "scrolled": true
   },
   "outputs": [
    {
     "name": "stderr",
     "output_type": "stream",
     "text": [
      "\u001b[34m\u001b[1mwandb\u001b[0m: Currently logged in as: \u001b[33manton-sh\u001b[0m. Use \u001b[1m`wandb login --relogin`\u001b[0m to force relogin\n"
     ]
    },
    {
     "data": {
      "text/html": [
       "Tracking run with wandb version 0.13.9"
      ],
      "text/plain": [
       "<IPython.core.display.HTML object>"
      ]
     },
     "metadata": {},
     "output_type": "display_data"
    },
    {
     "data": {
      "text/html": [
       "Run data is saved locally in <code>/home/shapkin/interactive_lm/wiki/wandb/run-20230130_075127-ncd7hwj3</code>"
      ],
      "text/plain": [
       "<IPython.core.display.HTML object>"
      ]
     },
     "metadata": {},
     "output_type": "display_data"
    },
    {
     "data": {
      "text/html": [
       "Syncing run <strong><a href=\"https://wandb.ai/anton-sh/interactive_lm/runs/ncd7hwj3\" target=\"_blank\">t5-small</a></strong> to <a href=\"https://wandb.ai/anton-sh/interactive_lm\" target=\"_blank\">Weights & Biases</a> (<a href=\"https://wandb.me/run\" target=\"_blank\">docs</a>)<br/>"
      ],
      "text/plain": [
       "<IPython.core.display.HTML object>"
      ]
     },
     "metadata": {},
     "output_type": "display_data"
    },
    {
     "data": {
      "text/html": [
       " View project at <a href=\"https://wandb.ai/anton-sh/interactive_lm\" target=\"_blank\">https://wandb.ai/anton-sh/interactive_lm</a>"
      ],
      "text/plain": [
       "<IPython.core.display.HTML object>"
      ]
     },
     "metadata": {},
     "output_type": "display_data"
    },
    {
     "data": {
      "text/html": [
       " View run at <a href=\"https://wandb.ai/anton-sh/interactive_lm/runs/ncd7hwj3\" target=\"_blank\">https://wandb.ai/anton-sh/interactive_lm/runs/ncd7hwj3</a>"
      ],
      "text/plain": [
       "<IPython.core.display.HTML object>"
      ]
     },
     "metadata": {},
     "output_type": "display_data"
    },
    {
     "data": {
      "application/vnd.jupyter.widget-view+json": {
       "model_id": "8e566f2f297e4ea997783fc32e4c0017",
       "version_major": 2,
       "version_minor": 0
      },
      "text/plain": [
       "1/40 * Epoch (train):   0%|          | 0/29890 [00:00<?, ?it/s]"
      ]
     },
     "metadata": {},
     "output_type": "display_data"
    },
    {
     "name": "stderr",
     "output_type": "stream",
     "text": [
      "You're using a T5TokenizerFast tokenizer. Please note that with a fast tokenizer, using the `__call__` method is faster than using a method to encode the text followed by a call to the `pad` method to get a padded encoding.\n",
      "You're using a T5TokenizerFast tokenizer. Please note that with a fast tokenizer, using the `__call__` method is faster than using a method to encode the text followed by a call to the `pad` method to get a padded encoding.\n",
      "You're using a T5TokenizerFast tokenizer. Please note that with a fast tokenizer, using the `__call__` method is faster than using a method to encode the text followed by a call to the `pad` method to get a padded encoding.\n",
      "You're using a T5TokenizerFast tokenizer. Please note that with a fast tokenizer, using the `__call__` method is faster than using a method to encode the text followed by a call to the `pad` method to get a padded encoding.\n"
     ]
    },
    {
     "name": "stdout",
     "output_type": "stream",
     "text": [
      "train (1/40) loss: 1.5953838284656099 | loss/mean: 1.5953838284656099 | loss/std: 0.5872764180858642 | lr: 0.0001 | momentum: 0.9\n"
     ]
    },
    {
     "data": {
      "application/vnd.jupyter.widget-view+json": {
       "model_id": "2d3ec46dd65f4f6899c8af63968093ae",
       "version_major": 2,
       "version_minor": 0
      },
      "text/plain": [
       "1/40 * Epoch (valid_subset):   0%|          | 0/150 [00:00<?, ?it/s]"
      ]
     },
     "metadata": {},
     "output_type": "display_data"
    },
    {
     "name": "stderr",
     "output_type": "stream",
     "text": [
      "You're using a T5TokenizerFast tokenizer. Please note that with a fast tokenizer, using the `__call__` method is faster than using a method to encode the text followed by a call to the `pad` method to get a padded encoding.\n",
      "You're using a T5TokenizerFast tokenizer. Please note that with a fast tokenizer, using the `__call__` method is faster than using a method to encode the text followed by a call to the `pad` method to get a padded encoding.\n",
      "You're using a T5TokenizerFast tokenizer. Please note that with a fast tokenizer, using the `__call__` method is faster than using a method to encode the text followed by a call to the `pad` method to get a padded encoding.\n",
      "You're using a T5TokenizerFast tokenizer. Please note that with a fast tokenizer, using the `__call__` method is faster than using a method to encode the text followed by a call to the `pad` method to get a padded encoding.\n"
     ]
    },
    {
     "name": "stdout",
     "output_type": "stream",
     "text": [
      "valid_subset (1/40) full__exact_match@1: 0.008333 | full__exact_match@1/std: 0.053404 | full__exact_match@5: 0.021667 | full__exact_match@5/std: 0.076093 | loss: 1.319076735476653 | loss/mean: 1.319076735476653 | loss/std: 0.515034060117327 | lr: 0.0001 | momentum: 0.9\n",
      "* Epoch (1/40) \n"
     ]
    },
    {
     "data": {
      "application/vnd.jupyter.widget-view+json": {
       "model_id": "d077582ed3fa4e4f9c973ff410ee5b0c",
       "version_major": 2,
       "version_minor": 0
      },
      "text/plain": [
       "2/40 * Epoch (train):   0%|          | 0/29890 [00:00<?, ?it/s]"
      ]
     },
     "metadata": {},
     "output_type": "display_data"
    },
    {
     "name": "stderr",
     "output_type": "stream",
     "text": [
      "You're using a T5TokenizerFast tokenizer. Please note that with a fast tokenizer, using the `__call__` method is faster than using a method to encode the text followed by a call to the `pad` method to get a padded encoding.\n",
      "You're using a T5TokenizerFast tokenizer. Please note that with a fast tokenizer, using the `__call__` method is faster than using a method to encode the text followed by a call to the `pad` method to get a padded encoding.\n",
      "You're using a T5TokenizerFast tokenizer. Please note that with a fast tokenizer, using the `__call__` method is faster than using a method to encode the text followed by a call to the `pad` method to get a padded encoding.\n",
      "You're using a T5TokenizerFast tokenizer. Please note that with a fast tokenizer, using the `__call__` method is faster than using a method to encode the text followed by a call to the `pad` method to get a padded encoding.\n"
     ]
    }
   ],
   "source": [
    "runner = dl.SupervisedRunner()\n",
    "\n",
    "wandb_logger = dl.WandbLogger(project=\"interactive_lm\", \n",
    "                              name=CONFIG.name, \n",
    "                              group=CONFIG.group)\n",
    "\n",
    "runner.train(\n",
    "    loaders=loaders,\n",
    "    model=model,\n",
    "    criterion=Criterion(),\n",
    "    optimizer=optimizer,\n",
    "    num_epochs=CONFIG.n_epochs,\n",
    "    callbacks=[\n",
    "        PeriodicLoaderCallback(\n",
    "            valid_loader_key='valid_full',\n",
    "            valid_metric_key='loss',\n",
    "            minimize=True,\n",
    "            **{'valid_full': 5}\n",
    "        ),\n",
    "        PeerExplainMetricsCallback(METRIC_LIST, tokenizer),\n",
    "    ],\n",
    "    loggers={'wandb': wandb_logger},\n",
    "    logdir=f'./models/{CONFIG.description}',\n",
    "    valid_loader='valid_subset',\n",
    "    valid_metric='loss',\n",
    "    minimize_valid_metric=True,\n",
    "    verbose=True,\n",
    "#     check=True,\n",
    "#     cpu=True,\n",
    ")"
   ]
  },
  {
   "cell_type": "code",
   "execution_count": null,
   "metadata": {},
   "outputs": [],
   "source": []
  },
  {
   "cell_type": "code",
   "execution_count": null,
   "metadata": {},
   "outputs": [],
   "source": []
  },
  {
   "cell_type": "code",
   "execution_count": null,
   "metadata": {},
   "outputs": [],
   "source": []
  },
  {
   "cell_type": "code",
   "execution_count": null,
   "metadata": {},
   "outputs": [],
   "source": []
  },
  {
   "cell_type": "code",
   "execution_count": null,
   "metadata": {},
   "outputs": [],
   "source": []
  },
  {
   "cell_type": "code",
   "execution_count": null,
   "metadata": {},
   "outputs": [],
   "source": []
  },
  {
   "cell_type": "code",
   "execution_count": null,
   "metadata": {},
   "outputs": [],
   "source": []
  },
  {
   "cell_type": "code",
   "execution_count": null,
   "metadata": {},
   "outputs": [],
   "source": []
  },
  {
   "cell_type": "code",
   "execution_count": null,
   "metadata": {},
   "outputs": [],
   "source": []
  },
  {
   "cell_type": "markdown",
   "metadata": {},
   "source": [
    "CONFIG.beam_size = 1"
   ]
  },
  {
   "cell_type": "markdown",
   "metadata": {
    "scrolled": false
   },
   "source": [
    "device = runner.engine.device\n",
    "runner.model.eval()\n",
    "with torch.no_grad():\n",
    "    for i in [0, 1, 2]:\n",
    "        src_, tgt_ = ds_train[i]\n",
    "        src_inp = torch.tensor(src_['input_ids']).view(1,-1).to(runner.engine.device)\n",
    "        generated = runner.model.pretrained.generate(src_inp,\n",
    "                                              attention_mask=(src_inp != 0).float().to(runner.engine.device),\n",
    "                                            # pad_token_id=tokenizer.pad_token_id,\n",
    "                                            # bos_token_id=tokenizer.bos_token_id,\n",
    "                                            # eos_token_id=tokenizer.eos_token_id,\n",
    "                                              num_beams=CONFIG.beam_size,\n",
    "                                              num_return_sequences=CONFIG.beam_size,\n",
    "                                              max_length=1000\n",
    "        )\n",
    "        \n",
    "        tgt_full = tokenizer.decode(tgt_['input_ids'], skip_special_tokens=True).strip()\n",
    "        tgt_comment, tgt_text = extract_com8text_from_tgt(tgt_full)\n",
    "\n",
    "        src_full = tokenizer.decode(src_['input_ids'], skip_special_tokens=True).strip()\n",
    "        src_text, _ = extract_text8docs_from_src(src_full)\n",
    "        \n",
    "        \n",
    "        print(f'\\n\\n----------------------------\\t QUERY {i}\\t ----------------------------\\n')\n",
    "        print(f'Src query:\\n {src_text}')\n",
    "        print(f'\\nTgt query:\\n {tgt_text}')\n",
    "        print(f'\\nTgt comment:\\n {tgt_comment}')\n",
    "        \n",
    "        print(f'\\n\\n----------------------------\\t GENERATED\\t ----------------------------\\n')\n",
    "\n",
    "        pred_full = []\n",
    "        pred_texts = []\n",
    "        pred_comments = []\n",
    "        for j in range(CONFIG.beam_size):\n",
    "            to_gen = generated[j]\n",
    "            gen_text = tokenizer.decode(to_gen, skip_special_tokens=True)\n",
    "            com_prediction, text_prediction = extract_com8text_from_tgt(gen_text)\n",
    "            \n",
    "            pred_full.append(gen_text)\n",
    "            pred_texts.append(text_prediction)\n",
    "            pred_comments.append(com_prediction)\n",
    "            \n",
    "            print(f'{j} TEXT:\\n{text_prediction}\\n')\n",
    "            print(f'{j} COMMENT:\\n{com_prediction}\\n\\n')\n",
    "        \n",
    "        print('Text sari:', sari_one(src_text, tgt_text, pred_texts))\n",
    "        print('Com em:', topN_diff_exact_match_one('', tgt_comment, pred_comments))\n",
    "        print('Full em:', topN_diff_exact_match_one(src_full, tgt_full, pred_full))\n",
    "        print('Text em:', topN_diff_exact_match_one(src_text, tgt_text, pred_texts))\n",
    "        print('Rouge text:', rouge_one(src_text, tgt_text, pred_texts)['rouge-1'])"
   ]
  }
 ],
 "metadata": {
  "kernelspec": {
   "display_name": "Python 3 (ipykernel)",
   "language": "python",
   "name": "python3"
  },
  "language_info": {
   "codemirror_mode": {
    "name": "ipython",
    "version": 3
   },
   "file_extension": ".py",
   "mimetype": "text/x-python",
   "name": "python",
   "nbconvert_exporter": "python",
   "pygments_lexer": "ipython3",
   "version": "3.9.13"
  }
 },
 "nbformat": 4,
 "nbformat_minor": 4
}
