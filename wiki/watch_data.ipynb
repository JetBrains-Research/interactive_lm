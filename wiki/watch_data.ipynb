{
 "cells": [
  {
   "cell_type": "code",
   "execution_count": 1,
   "metadata": {
    "scrolled": false
   },
   "outputs": [],
   "source": [
    "import re\n",
    "import os\n",
    "import torch\n",
    "import json\n",
    "import pandas as pd\n",
    "import numpy as np\n",
    "import seaborn as sns\n",
    "import matplotlib.pyplot as plt\n",
    "\n",
    "from transformers import T5TokenizerFast, T5ForConditionalGeneration\n",
    "from tqdm.notebook import tqdm\n",
    "from collections import Counter\n",
    "from torch import nn\n",
    "from catalyst import dl\n",
    "from langdetect import detect\n",
    "from nltk.tokenize import sent_tokenize, word_tokenize\n",
    "\n",
    "DOCS_DIR = 'data/final_data/documents'\n",
    "PAGES_DIR = 'data/final_data/revision'\n",
    "CHUNKS = sorted(os.listdir(DOCS_DIR))"
   ]
  },
  {
   "cell_type": "code",
   "execution_count": 2,
   "metadata": {},
   "outputs": [
    {
     "data": {
      "application/vnd.jupyter.widget-view+json": {
       "model_id": "61b468e233c24a298d0336232538189d",
       "version_major": 2,
       "version_minor": 0
      },
      "text/plain": [
       "HBox(children=(FloatProgress(value=0.0, max=5639.0), HTML(value='')))"
      ]
     },
     "metadata": {},
     "output_type": "display_data"
    },
    {
     "name": "stdout",
     "output_type": "stream",
     "text": [
      "\n"
     ]
    },
    {
     "data": {
      "application/vnd.jupyter.widget-view+json": {
       "model_id": "f7027a1e1f6b4b4f892fad01682f158d",
       "version_major": 2,
       "version_minor": 0
      },
      "text/plain": [
       "HBox(children=(FloatProgress(value=0.0, max=4139.0), HTML(value='')))"
      ]
     },
     "metadata": {},
     "output_type": "display_data"
    },
    {
     "name": "stdout",
     "output_type": "stream",
     "text": [
      "\n"
     ]
    },
    {
     "data": {
      "application/vnd.jupyter.widget-view+json": {
       "model_id": "71194ec9c66848e0b05bf024781d04cc",
       "version_major": 2,
       "version_minor": 0
      },
      "text/plain": [
       "HBox(children=(FloatProgress(value=0.0, max=1189.0), HTML(value='')))"
      ]
     },
     "metadata": {},
     "output_type": "display_data"
    },
    {
     "name": "stdout",
     "output_type": "stream",
     "text": [
      "\n"
     ]
    },
    {
     "data": {
      "application/vnd.jupyter.widget-view+json": {
       "model_id": "5604a1124c5b4bd99744bcbf36987074",
       "version_major": 2,
       "version_minor": 0
      },
      "text/plain": [
       "HBox(children=(FloatProgress(value=0.0, max=3299.0), HTML(value='')))"
      ]
     },
     "metadata": {},
     "output_type": "display_data"
    },
    {
     "name": "stdout",
     "output_type": "stream",
     "text": [
      "\n"
     ]
    },
    {
     "data": {
      "application/vnd.jupyter.widget-view+json": {
       "model_id": "08de7917fd1e4d10822115a13b20c732",
       "version_major": 2,
       "version_minor": 0
      },
      "text/plain": [
       "HBox(children=(FloatProgress(value=0.0, max=1340.0), HTML(value='')))"
      ]
     },
     "metadata": {},
     "output_type": "display_data"
    },
    {
     "name": "stdout",
     "output_type": "stream",
     "text": [
      "\n"
     ]
    },
    {
     "data": {
      "application/vnd.jupyter.widget-view+json": {
       "model_id": "50d525e6ace7447e8df95acc31a1f44b",
       "version_major": 2,
       "version_minor": 0
      },
      "text/plain": [
       "HBox(children=(FloatProgress(value=0.0, max=4121.0), HTML(value='')))"
      ]
     },
     "metadata": {},
     "output_type": "display_data"
    },
    {
     "name": "stdout",
     "output_type": "stream",
     "text": [
      "\n"
     ]
    },
    {
     "data": {
      "application/vnd.jupyter.widget-view+json": {
       "model_id": "ac6fbd3f611e4312992663ab424ded46",
       "version_major": 2,
       "version_minor": 0
      },
      "text/plain": [
       "HBox(children=(FloatProgress(value=0.0, max=2749.0), HTML(value='')))"
      ]
     },
     "metadata": {},
     "output_type": "display_data"
    },
    {
     "name": "stdout",
     "output_type": "stream",
     "text": [
      "\n"
     ]
    },
    {
     "data": {
      "application/vnd.jupyter.widget-view+json": {
       "model_id": "bc7e68088158486fa8281baab984ac4b",
       "version_major": 2,
       "version_minor": 0
      },
      "text/plain": [
       "HBox(children=(FloatProgress(value=0.0, max=1308.0), HTML(value='')))"
      ]
     },
     "metadata": {},
     "output_type": "display_data"
    },
    {
     "name": "stdout",
     "output_type": "stream",
     "text": [
      "\n"
     ]
    },
    {
     "data": {
      "application/vnd.jupyter.widget-view+json": {
       "model_id": "829229b89d7f4da5a2eb1d5070a765c4",
       "version_major": 2,
       "version_minor": 0
      },
      "text/plain": [
       "HBox(children=(FloatProgress(value=0.0, max=6644.0), HTML(value='')))"
      ]
     },
     "metadata": {},
     "output_type": "display_data"
    },
    {
     "name": "stdout",
     "output_type": "stream",
     "text": [
      "\n"
     ]
    },
    {
     "data": {
      "application/vnd.jupyter.widget-view+json": {
       "model_id": "bc2cb0cbcc8b49cfb66d3ef7e5b32e01",
       "version_major": 2,
       "version_minor": 0
      },
      "text/plain": [
       "HBox(children=(FloatProgress(value=0.0, max=20.0), HTML(value='')))"
      ]
     },
     "metadata": {},
     "output_type": "display_data"
    },
    {
     "name": "stdout",
     "output_type": "stream",
     "text": [
      "\n"
     ]
    },
    {
     "data": {
      "application/vnd.jupyter.widget-view+json": {
       "model_id": "a72647288814401bae9ef408b956f2b4",
       "version_major": 2,
       "version_minor": 0
      },
      "text/plain": [
       "HBox(children=(FloatProgress(value=0.0, max=40.0), HTML(value='')))"
      ]
     },
     "metadata": {},
     "output_type": "display_data"
    },
    {
     "name": "stdout",
     "output_type": "stream",
     "text": [
      "\n"
     ]
    },
    {
     "data": {
      "application/vnd.jupyter.widget-view+json": {
       "model_id": "20efb230b8b346edab91b8cca4209285",
       "version_major": 2,
       "version_minor": 0
      },
      "text/plain": [
       "HBox(children=(FloatProgress(value=0.0, max=1197.0), HTML(value='')))"
      ]
     },
     "metadata": {},
     "output_type": "display_data"
    },
    {
     "name": "stdout",
     "output_type": "stream",
     "text": [
      "\n"
     ]
    },
    {
     "data": {
      "application/vnd.jupyter.widget-view+json": {
       "model_id": "03b00b82c186409b8b29f3048bd3cf5c",
       "version_major": 2,
       "version_minor": 0
      },
      "text/plain": [
       "HBox(children=(FloatProgress(value=0.0, max=2775.0), HTML(value='')))"
      ]
     },
     "metadata": {},
     "output_type": "display_data"
    },
    {
     "name": "stdout",
     "output_type": "stream",
     "text": [
      "\n"
     ]
    },
    {
     "data": {
      "application/vnd.jupyter.widget-view+json": {
       "model_id": "31d1a4d592d54cf08cc88e60b28e0735",
       "version_major": 2,
       "version_minor": 0
      },
      "text/plain": [
       "HBox(children=(FloatProgress(value=0.0, max=8251.0), HTML(value='')))"
      ]
     },
     "metadata": {},
     "output_type": "display_data"
    },
    {
     "name": "stdout",
     "output_type": "stream",
     "text": [
      "\n"
     ]
    },
    {
     "data": {
      "application/vnd.jupyter.widget-view+json": {
       "model_id": "2bbb8b5a30fd4277823359eb9bb78134",
       "version_major": 2,
       "version_minor": 0
      },
      "text/plain": [
       "HBox(children=(FloatProgress(value=0.0, max=31.0), HTML(value='')))"
      ]
     },
     "metadata": {},
     "output_type": "display_data"
    },
    {
     "name": "stdout",
     "output_type": "stream",
     "text": [
      "\n"
     ]
    },
    {
     "data": {
      "application/vnd.jupyter.widget-view+json": {
       "model_id": "2d00e5571c9048e594b4f24a0713c0d7",
       "version_major": 2,
       "version_minor": 0
      },
      "text/plain": [
       "HBox(children=(FloatProgress(value=0.0, max=2883.0), HTML(value='')))"
      ]
     },
     "metadata": {},
     "output_type": "display_data"
    },
    {
     "name": "stdout",
     "output_type": "stream",
     "text": [
      "\n"
     ]
    },
    {
     "data": {
      "application/vnd.jupyter.widget-view+json": {
       "model_id": "560e7fca30ec43139564421250c49681",
       "version_major": 2,
       "version_minor": 0
      },
      "text/plain": [
       "HBox(children=(FloatProgress(value=0.0, max=2851.0), HTML(value='')))"
      ]
     },
     "metadata": {},
     "output_type": "display_data"
    },
    {
     "name": "stdout",
     "output_type": "stream",
     "text": [
      "\n"
     ]
    },
    {
     "data": {
      "application/vnd.jupyter.widget-view+json": {
       "model_id": "aab917bcb718419d85dfceb06ced6757",
       "version_major": 2,
       "version_minor": 0
      },
      "text/plain": [
       "HBox(children=(FloatProgress(value=0.0, max=2673.0), HTML(value='')))"
      ]
     },
     "metadata": {},
     "output_type": "display_data"
    },
    {
     "name": "stdout",
     "output_type": "stream",
     "text": [
      "\n"
     ]
    },
    {
     "data": {
      "application/vnd.jupyter.widget-view+json": {
       "model_id": "e368b6d840e246a4a53c80680df56ff4",
       "version_major": 2,
       "version_minor": 0
      },
      "text/plain": [
       "HBox(children=(FloatProgress(value=0.0, max=3799.0), HTML(value='')))"
      ]
     },
     "metadata": {},
     "output_type": "display_data"
    },
    {
     "name": "stdout",
     "output_type": "stream",
     "text": [
      "\n"
     ]
    },
    {
     "data": {
      "application/vnd.jupyter.widget-view+json": {
       "model_id": "524a8da1a19442b68c477f03cb54e502",
       "version_major": 2,
       "version_minor": 0
      },
      "text/plain": [
       "HBox(children=(FloatProgress(value=0.0, max=184.0), HTML(value='')))"
      ]
     },
     "metadata": {},
     "output_type": "display_data"
    },
    {
     "name": "stdout",
     "output_type": "stream",
     "text": [
      "\n"
     ]
    },
    {
     "data": {
      "application/vnd.jupyter.widget-view+json": {
       "model_id": "fdfa360857194fa8bb16d7729304eb76",
       "version_major": 2,
       "version_minor": 0
      },
      "text/plain": [
       "HBox(children=(FloatProgress(value=0.0, max=7552.0), HTML(value='')))"
      ]
     },
     "metadata": {},
     "output_type": "display_data"
    },
    {
     "name": "stdout",
     "output_type": "stream",
     "text": [
      "\n"
     ]
    },
    {
     "data": {
      "application/vnd.jupyter.widget-view+json": {
       "model_id": "1c91a994fa8e4c76bb72859a58d8d85e",
       "version_major": 2,
       "version_minor": 0
      },
      "text/plain": [
       "HBox(children=(FloatProgress(value=0.0, max=51.0), HTML(value='')))"
      ]
     },
     "metadata": {},
     "output_type": "display_data"
    },
    {
     "name": "stdout",
     "output_type": "stream",
     "text": [
      "\n"
     ]
    },
    {
     "data": {
      "application/vnd.jupyter.widget-view+json": {
       "model_id": "3ef55a429cc74cb3b3aa47bed146ef54",
       "version_major": 2,
       "version_minor": 0
      },
      "text/plain": [
       "HBox(children=(FloatProgress(value=0.0, max=5715.0), HTML(value='')))"
      ]
     },
     "metadata": {},
     "output_type": "display_data"
    },
    {
     "name": "stdout",
     "output_type": "stream",
     "text": [
      "\n"
     ]
    },
    {
     "data": {
      "application/vnd.jupyter.widget-view+json": {
       "model_id": "c6a4183928f84bf2a446a69bb8d2a992",
       "version_major": 2,
       "version_minor": 0
      },
      "text/plain": [
       "HBox(children=(FloatProgress(value=0.0, max=9036.0), HTML(value='')))"
      ]
     },
     "metadata": {},
     "output_type": "display_data"
    },
    {
     "name": "stdout",
     "output_type": "stream",
     "text": [
      "\n"
     ]
    },
    {
     "data": {
      "application/vnd.jupyter.widget-view+json": {
       "model_id": "77160506553e4119b7790c2d3c2f55eb",
       "version_major": 2,
       "version_minor": 0
      },
      "text/plain": [
       "HBox(children=(FloatProgress(value=0.0, max=69.0), HTML(value='')))"
      ]
     },
     "metadata": {},
     "output_type": "display_data"
    },
    {
     "name": "stdout",
     "output_type": "stream",
     "text": [
      "\n"
     ]
    },
    {
     "data": {
      "application/vnd.jupyter.widget-view+json": {
       "model_id": "1db1234388944b848ab34c2bb50b13cd",
       "version_major": 2,
       "version_minor": 0
      },
      "text/plain": [
       "HBox(children=(FloatProgress(value=0.0, max=53.0), HTML(value='')))"
      ]
     },
     "metadata": {},
     "output_type": "display_data"
    },
    {
     "name": "stdout",
     "output_type": "stream",
     "text": [
      "\n"
     ]
    },
    {
     "data": {
      "application/vnd.jupyter.widget-view+json": {
       "model_id": "8ecd280212f847229935387998f2a978",
       "version_major": 2,
       "version_minor": 0
      },
      "text/plain": [
       "HBox(children=(FloatProgress(value=0.0, max=6663.0), HTML(value='')))"
      ]
     },
     "metadata": {},
     "output_type": "display_data"
    },
    {
     "name": "stdout",
     "output_type": "stream",
     "text": [
      "\n"
     ]
    },
    {
     "data": {
      "application/vnd.jupyter.widget-view+json": {
       "model_id": "f6fbe8c947fd477abce00e246deab2e5",
       "version_major": 2,
       "version_minor": 0
      },
      "text/plain": [
       "HBox(children=(FloatProgress(value=0.0, max=2155.0), HTML(value='')))"
      ]
     },
     "metadata": {},
     "output_type": "display_data"
    },
    {
     "name": "stdout",
     "output_type": "stream",
     "text": [
      "\n"
     ]
    },
    {
     "data": {
      "application/vnd.jupyter.widget-view+json": {
       "model_id": "fec5d994284d41008211077f53b383f7",
       "version_major": 2,
       "version_minor": 0
      },
      "text/plain": [
       "HBox(children=(FloatProgress(value=0.0, max=1272.0), HTML(value='')))"
      ]
     },
     "metadata": {},
     "output_type": "display_data"
    },
    {
     "name": "stdout",
     "output_type": "stream",
     "text": [
      "\n"
     ]
    },
    {
     "data": {
      "application/vnd.jupyter.widget-view+json": {
       "model_id": "4c218c83bed549ab87ff50ad9eb66086",
       "version_major": 2,
       "version_minor": 0
      },
      "text/plain": [
       "HBox(children=(FloatProgress(value=0.0, max=1126.0), HTML(value='')))"
      ]
     },
     "metadata": {},
     "output_type": "display_data"
    },
    {
     "name": "stdout",
     "output_type": "stream",
     "text": [
      "\n"
     ]
    },
    {
     "data": {
      "application/vnd.jupyter.widget-view+json": {
       "model_id": "9013f6eb68f94eddb9ab03397f2066c4",
       "version_major": 2,
       "version_minor": 0
      },
      "text/plain": [
       "HBox(children=(FloatProgress(value=0.0, max=150.0), HTML(value='')))"
      ]
     },
     "metadata": {},
     "output_type": "display_data"
    },
    {
     "name": "stdout",
     "output_type": "stream",
     "text": [
      "\n"
     ]
    },
    {
     "data": {
      "application/vnd.jupyter.widget-view+json": {
       "model_id": "fb3e93ff91d04340ad4df217db5a91ab",
       "version_major": 2,
       "version_minor": 0
      },
      "text/plain": [
       "HBox(children=(FloatProgress(value=0.0, max=6725.0), HTML(value='')))"
      ]
     },
     "metadata": {},
     "output_type": "display_data"
    },
    {
     "name": "stdout",
     "output_type": "stream",
     "text": [
      "\n"
     ]
    },
    {
     "data": {
      "application/vnd.jupyter.widget-view+json": {
       "model_id": "edb3dec313124b7a9cb1179da820d759",
       "version_major": 2,
       "version_minor": 0
      },
      "text/plain": [
       "HBox(children=(FloatProgress(value=0.0, max=3574.0), HTML(value='')))"
      ]
     },
     "metadata": {},
     "output_type": "display_data"
    },
    {
     "name": "stdout",
     "output_type": "stream",
     "text": [
      "\n"
     ]
    },
    {
     "data": {
      "application/vnd.jupyter.widget-view+json": {
       "model_id": "d21d403dc90f49abb6337c2199f622aa",
       "version_major": 2,
       "version_minor": 0
      },
      "text/plain": [
       "HBox(children=(FloatProgress(value=0.0, max=6237.0), HTML(value='')))"
      ]
     },
     "metadata": {},
     "output_type": "display_data"
    },
    {
     "name": "stdout",
     "output_type": "stream",
     "text": [
      "\n"
     ]
    },
    {
     "data": {
      "application/vnd.jupyter.widget-view+json": {
       "model_id": "ea78fd32bb0b450eaa615afb5d6547aa",
       "version_major": 2,
       "version_minor": 0
      },
      "text/plain": [
       "HBox(children=(FloatProgress(value=0.0, max=5105.0), HTML(value='')))"
      ]
     },
     "metadata": {},
     "output_type": "display_data"
    },
    {
     "name": "stdout",
     "output_type": "stream",
     "text": [
      "\n"
     ]
    },
    {
     "data": {
      "application/vnd.jupyter.widget-view+json": {
       "model_id": "8c14855153504c3ca0c485ba22b40910",
       "version_major": 2,
       "version_minor": 0
      },
      "text/plain": [
       "HBox(children=(FloatProgress(value=0.0, max=1101.0), HTML(value='')))"
      ]
     },
     "metadata": {},
     "output_type": "display_data"
    },
    {
     "name": "stdout",
     "output_type": "stream",
     "text": [
      "\n"
     ]
    },
    {
     "data": {
      "application/vnd.jupyter.widget-view+json": {
       "model_id": "bd409ddd1afe4aa5b23f221790350416",
       "version_major": 2,
       "version_minor": 0
      },
      "text/plain": [
       "HBox(children=(FloatProgress(value=0.0, max=9004.0), HTML(value='')))"
      ]
     },
     "metadata": {},
     "output_type": "display_data"
    },
    {
     "name": "stdout",
     "output_type": "stream",
     "text": [
      "\n"
     ]
    }
   ],
   "source": [
    "total = 0\n",
    "db_dict = {'obj_id': [], 'old_text': [], 'new_text': [], 'comment': [], 'docs': [], 'diff': [],\n",
    "           'title': [], 'search_queries': [], 'counter_found_docs': [], 'section_name': []}\n",
    "for chunk in CHUNKS:\n",
    "    dataset_ids = list(map(lambda x: x.split('.')[0], os.listdir(f\"{DOCS_DIR}/{chunk}\")))\n",
    "    for dataset_obj_id in tqdm(dataset_ids):\n",
    "        total += 1\n",
    "        with open(f\"{PAGES_DIR}/{chunk}/{dataset_obj_id}.json\", 'r', encoding='utf-8') as f:\n",
    "            page_json = json.load(f)\n",
    "        docs_text = ''\n",
    "        added_docs = set()\n",
    "        count_docs = 0\n",
    "        with open(f\"{DOCS_DIR}/{chunk}/{dataset_obj_id}.txt\", 'r', encoding='utf-8') as f:\n",
    "            docs_text_plain = f.read()\n",
    "\n",
    "        diff = '\\n'.join(page_json['change_texts'][0][0])\n",
    "        db_dict['diff'].append(diff)\n",
    "        db_dict['obj_id'].append(dataset_obj_id)\n",
    "        db_dict['old_text'].append(page_json['old_text'])\n",
    "        db_dict['new_text'].append(page_json['new_text'])\n",
    "        db_dict['comment'].append(page_json['comment'])\n",
    "        db_dict['docs'].append(docs_text_plain)\n",
    "        db_dict['title'].append(page_json['title'])\n",
    "        db_dict['search_queries'].append(page_json['search_queries'])\n",
    "        db_dict['counter_found_docs'].append(page_json['counter_found_docs'])\n",
    "        db_dict['section_name'].append(page_json['section_name'])"
   ]
  },
  {
   "cell_type": "code",
   "execution_count": 3,
   "metadata": {},
   "outputs": [
    {
     "name": "stdout",
     "output_type": "stream",
     "text": [
      "(120720, 10)\n"
     ]
    }
   ],
   "source": [
    "df = pd.DataFrame.from_dict(db_dict)\n",
    "print(df.shape)"
   ]
  },
  {
   "cell_type": "code",
   "execution_count": 4,
   "metadata": {},
   "outputs": [
    {
     "data": {
      "text/html": [
       "<div>\n",
       "<style scoped>\n",
       "    .dataframe tbody tr th:only-of-type {\n",
       "        vertical-align: middle;\n",
       "    }\n",
       "\n",
       "    .dataframe tbody tr th {\n",
       "        vertical-align: top;\n",
       "    }\n",
       "\n",
       "    .dataframe thead th {\n",
       "        text-align: right;\n",
       "    }\n",
       "</style>\n",
       "<table border=\"1\" class=\"dataframe\">\n",
       "  <thead>\n",
       "    <tr style=\"text-align: right;\">\n",
       "      <th></th>\n",
       "      <th>obj_id</th>\n",
       "      <th>old_text</th>\n",
       "      <th>new_text</th>\n",
       "      <th>comment</th>\n",
       "      <th>docs</th>\n",
       "      <th>diff</th>\n",
       "      <th>title</th>\n",
       "      <th>search_queries</th>\n",
       "      <th>counter_found_docs</th>\n",
       "      <th>section_name</th>\n",
       "    </tr>\n",
       "  </thead>\n",
       "  <tbody>\n",
       "    <tr>\n",
       "      <th>0</th>\n",
       "      <td>3571</td>\n",
       "      <td>__NOTOC__\\n\\nThe Pacific Coast Marine Firemen,...</td>\n",
       "      <td>__NOTOC__\\n\\nThe Pacific Coast Marine Firemen,...</td>\n",
       "      <td>edited links.</td>\n",
       "      <td>The Pacific Coast Marine Firemen, Oilers, Wate...</td>\n",
       "      <td>, commonly\\n, is an</td>\n",
       "      <td>Marine Firemen's Union</td>\n",
       "      <td>[Marine Firemen's Union , commonly, Marine Fir...</td>\n",
       "      <td>[29, 23]</td>\n",
       "      <td></td>\n",
       "    </tr>\n",
       "    <tr>\n",
       "      <th>1</th>\n",
       "      <td>14256</td>\n",
       "      <td>Soon after its premiere, Martin Stein wrote \"S...</td>\n",
       "      <td>Soon after its premiere, Martin Stein wrote \"S...</td>\n",
       "      <td>/* Reception */ Added LAT.</td>\n",
       "      <td>The show opens with Siren leader Sin Cinnamon ...</td>\n",
       "      <td>The Los Angeles Times advised readers to avoid...</td>\n",
       "      <td>Sirens of TI</td>\n",
       "      <td>[Sirens of TI Reception The Los Angeles Times ...</td>\n",
       "      <td>[29]</td>\n",
       "      <td>Reception</td>\n",
       "    </tr>\n",
       "    <tr>\n",
       "      <th>2</th>\n",
       "      <td>17990</td>\n",
       "      <td>The film was released to DVD on June 12, 2007....</td>\n",
       "      <td>The film was released to DVD on June 12, 2007....</td>\n",
       "      <td>/* Release */ fixes</td>\n",
       "      <td>Romeo  Juliet: Sealed with a Kiss is a 2006 Am...</td>\n",
       "      <td>praising its amount of \\nonus content for a\\nc...</td>\n",
       "      <td>Romeo &amp; Juliet: Sealed with a Kiss</td>\n",
       "      <td>[Romeo &amp; Juliet: Sealed with a Kiss Home media...</td>\n",
       "      <td>[29, 12, 20]</td>\n",
       "      <td>Home media</td>\n",
       "    </tr>\n",
       "    <tr>\n",
       "      <th>3</th>\n",
       "      <td>1870</td>\n",
       "      <td>This template will categorise articles into :C...</td>\n",
       "      <td>This template will categorise articles into :C...</td>\n",
       "      <td>/* Usage */  added date</td>\n",
       "      <td>Listed below are several options for usage. { ...</td>\n",
       "      <td>date=August 2010}}\\n\\n{{hoax|section|date=Augu...</td>\n",
       "      <td>Hoax/doc</td>\n",
       "      <td>[Hoax/doc Usage date=August 2010}}\\n\\n{{hoax|s...</td>\n",
       "      <td>[29]</td>\n",
       "      <td>Usage</td>\n",
       "    </tr>\n",
       "    <tr>\n",
       "      <th>4</th>\n",
       "      <td>10259</td>\n",
       "      <td>Dallasaurus is a basal mosasauroid from the Up...</td>\n",
       "      <td>Dallasaurus (\"Dallas lizard\") is a basal mosas...</td>\n",
       "      <td>Adding a definition to the lead.</td>\n",
       "      <td>Dallasaurus (Dallas lizard) is a basal mosasau...</td>\n",
       "      <td>(\"Dallas lizard\") is a</td>\n",
       "      <td>Dallasaurus</td>\n",
       "      <td>[Dallasaurus (\"Dallas lizard\") is a]</td>\n",
       "      <td>[18]</td>\n",
       "      <td></td>\n",
       "    </tr>\n",
       "  </tbody>\n",
       "</table>\n",
       "</div>"
      ],
      "text/plain": [
       "  obj_id                                           old_text  \\\n",
       "0   3571  __NOTOC__\\n\\nThe Pacific Coast Marine Firemen,...   \n",
       "1  14256  Soon after its premiere, Martin Stein wrote \"S...   \n",
       "2  17990  The film was released to DVD on June 12, 2007....   \n",
       "3   1870  This template will categorise articles into :C...   \n",
       "4  10259  Dallasaurus is a basal mosasauroid from the Up...   \n",
       "\n",
       "                                            new_text  \\\n",
       "0  __NOTOC__\\n\\nThe Pacific Coast Marine Firemen,...   \n",
       "1  Soon after its premiere, Martin Stein wrote \"S...   \n",
       "2  The film was released to DVD on June 12, 2007....   \n",
       "3  This template will categorise articles into :C...   \n",
       "4  Dallasaurus (\"Dallas lizard\") is a basal mosas...   \n",
       "\n",
       "                            comment  \\\n",
       "0                     edited links.   \n",
       "1        /* Reception */ Added LAT.   \n",
       "2               /* Release */ fixes   \n",
       "3           /* Usage */  added date   \n",
       "4  Adding a definition to the lead.   \n",
       "\n",
       "                                                docs  \\\n",
       "0  The Pacific Coast Marine Firemen, Oilers, Wate...   \n",
       "1  The show opens with Siren leader Sin Cinnamon ...   \n",
       "2  Romeo  Juliet: Sealed with a Kiss is a 2006 Am...   \n",
       "3  Listed below are several options for usage. { ...   \n",
       "4  Dallasaurus (Dallas lizard) is a basal mosasau...   \n",
       "\n",
       "                                                diff  \\\n",
       "0                                , commonly\\n, is an   \n",
       "1  The Los Angeles Times advised readers to avoid...   \n",
       "2  praising its amount of \\nonus content for a\\nc...   \n",
       "3  date=August 2010}}\\n\\n{{hoax|section|date=Augu...   \n",
       "4                             (\"Dallas lizard\") is a   \n",
       "\n",
       "                                title  \\\n",
       "0              Marine Firemen's Union   \n",
       "1                        Sirens of TI   \n",
       "2  Romeo & Juliet: Sealed with a Kiss   \n",
       "3                            Hoax/doc   \n",
       "4                         Dallasaurus   \n",
       "\n",
       "                                      search_queries counter_found_docs  \\\n",
       "0  [Marine Firemen's Union , commonly, Marine Fir...           [29, 23]   \n",
       "1  [Sirens of TI Reception The Los Angeles Times ...               [29]   \n",
       "2  [Romeo & Juliet: Sealed with a Kiss Home media...       [29, 12, 20]   \n",
       "3  [Hoax/doc Usage date=August 2010}}\\n\\n{{hoax|s...               [29]   \n",
       "4               [Dallasaurus (\"Dallas lizard\") is a]               [18]   \n",
       "\n",
       "  section_name  \n",
       "0               \n",
       "1    Reception  \n",
       "2   Home media  \n",
       "3        Usage  \n",
       "4               "
      ]
     },
     "execution_count": 4,
     "metadata": {},
     "output_type": "execute_result"
    }
   ],
   "source": [
    "df.head()"
   ]
  },
  {
   "cell_type": "code",
   "execution_count": 5,
   "metadata": {
    "scrolled": true
   },
   "outputs": [
    {
     "data": {
      "text/plain": [
       "35682"
      ]
     },
     "execution_count": 5,
     "metadata": {},
     "output_type": "execute_result"
    }
   ],
   "source": [
    "titles = df.title.unique()\n",
    "len(titles)"
   ]
  },
  {
   "cell_type": "code",
   "execution_count": 6,
   "metadata": {},
   "outputs": [
    {
     "data": {
      "text/plain": [
       "'This template will categorise articles into :Category:Wikipedia suspected hoax articles.\\n\\nListed below are several options for usage.\\n\\n{{hoax}}\\n\\n{{hoax|section}}\\n\\nPlease use {{subst:Uw-hoax}} to add the appropriate user warning on the talk page of hoaxers.'"
      ]
     },
     "execution_count": 6,
     "metadata": {},
     "output_type": "execute_result"
    }
   ],
   "source": [
    "df.iloc[3]['old_text']"
   ]
  },
  {
   "cell_type": "code",
   "execution_count": 7,
   "metadata": {},
   "outputs": [
    {
     "data": {
      "text/plain": [
       "'This template will categorise articles into :Category:Wikipedia suspected hoax articles.\\n\\nListed below are several options for usage.\\n\\n{{hoax|date=August 2010}}\\n\\n{{hoax|section|date=August 2010}}\\n\\nPlease use {{subst:Uw-hoax}} to add the appropriate user warning on the talk page of hoaxers.'"
      ]
     },
     "execution_count": 7,
     "metadata": {},
     "output_type": "execute_result"
    }
   ],
   "source": [
    "df.iloc[3]['new_text']"
   ]
  },
  {
   "cell_type": "markdown",
   "metadata": {},
   "source": [
    "## TF-IDF Learning"
   ]
  },
  {
   "cell_type": "code",
   "execution_count": 8,
   "metadata": {},
   "outputs": [],
   "source": [
    "docs_corpus = []\n",
    "for row_idx, row in df.iterrows():\n",
    "    docs = row['old_text']\n",
    "    sents = sent_tokenize(docs)\n",
    "    docs_corpus += sents\n",
    "    "
   ]
  },
  {
   "cell_type": "code",
   "execution_count": 9,
   "metadata": {},
   "outputs": [
    {
     "data": {
      "text/plain": [
       "TfidfVectorizer(analyzer='char_wb', binary=False, decode_error='strict',\n",
       "                dtype=<class 'numpy.float64'>, encoding='utf-8',\n",
       "                input='content', lowercase=True, max_df=0.9, max_features=None,\n",
       "                min_df=1, ngram_range=(3, 5), norm='l2', preprocessor=None,\n",
       "                smooth_idf=True, stop_words=None, strip_accents=None,\n",
       "                sublinear_tf=False, token_pattern='(?u)\\\\b\\\\w\\\\w+\\\\b',\n",
       "                tokenizer=None, use_idf=True, vocabulary=None)"
      ]
     },
     "execution_count": 9,
     "metadata": {},
     "output_type": "execute_result"
    }
   ],
   "source": [
    "from sklearn.feature_extraction.text import TfidfVectorizer\n",
    "\n",
    "vectorizer = TfidfVectorizer(analyzer='char_wb', ngram_range=(3, 5), max_df=0.9)\n",
    "vectorizer.fit(docs_corpus)"
   ]
  },
  {
   "cell_type": "code",
   "execution_count": 10,
   "metadata": {},
   "outputs": [
    {
     "data": {
      "text/plain": [
       "1646280"
      ]
     },
     "execution_count": 10,
     "metadata": {},
     "output_type": "execute_result"
    }
   ],
   "source": [
    "len(vectorizer.vocabulary_)"
   ]
  },
  {
   "cell_type": "markdown",
   "metadata": {},
   "source": [
    "## Filter revisions"
   ]
  },
  {
   "cell_type": "code",
   "execution_count": 11,
   "metadata": {},
   "outputs": [],
   "source": [
    "def is_good(row):\n",
    "    if 'link' in row['comment'] and 'fix' in row['comment']:\n",
    "        return False\n",
    "    if '|' in row['old_text'] or '|' in row['new_text']:\n",
    "        return False\n",
    "    if 'this template' in row['old_text']:\n",
    "        return False\n",
    "    if 'image' in row['comment']:\n",
    "        return False\n",
    "    if '* \\n*' in row['old_text'] or '*\\n*' in row['old_text'] or '*  \\n*' in row['old_text']:\n",
    "        return False\n",
    "    if row['old_text'].count('*') > 8:\n",
    "        return False\n",
    "    if 'http' in row['diff'] or 'http://' in row['old_text'] or 'http://' in row['new_text']:\n",
    "        return False\n",
    "    if 'https' in row['diff'] or 'https://' in row['old_text'] or 'https://' in row['new_text']:\n",
    "        return False\n",
    "    if 'log in' in row['comment'] or 'sorry' in row['comment']:\n",
    "        return False\n",
    "    if ':Note:' in row['old_text'] or ':()' in row['old_text']:\n",
    "        return False\n",
    "    return True\n",
    "        "
   ]
  },
  {
   "cell_type": "code",
   "execution_count": 12,
   "metadata": {},
   "outputs": [],
   "source": [
    "df['is_good'] = df.apply(lambda x: is_good(x), axis=1)"
   ]
  },
  {
   "cell_type": "code",
   "execution_count": 13,
   "metadata": {},
   "outputs": [
    {
     "data": {
      "text/plain": [
       "(87000, 11)"
      ]
     },
     "execution_count": 13,
     "metadata": {},
     "output_type": "execute_result"
    }
   ],
   "source": [
    "df = df.loc[df['is_good'] == True]\n",
    "df.shape"
   ]
  },
  {
   "cell_type": "markdown",
   "metadata": {},
   "source": [
    "## Watch docs"
   ]
  },
  {
   "cell_type": "code",
   "execution_count": 14,
   "metadata": {},
   "outputs": [],
   "source": [
    "from sklearn.metrics.pairwise import cosine_similarity\n",
    "import numpy as np\n",
    "import string \n",
    "    \n",
    "# Storing the sets of punctuation in variable result \n",
    "punct_symbols = string.punctuation"
   ]
  },
  {
   "cell_type": "code",
   "execution_count": 15,
   "metadata": {
    "scrolled": true
   },
   "outputs": [
    {
     "name": "stdout",
     "output_type": "stream",
     "text": [
      "----------------------- NEW DATASET OBJECT (Electronarcosis ---- Livestock)-----------------------\n",
      "\n",
      "OLD TEXT:\n",
      "\n",
      "Electronarcosis is one of the  methods used to render animals unconscious before slaughter and unable to feel pain. Electronarcosis may be followed immediately by electrocution or by bleeding.\n",
      "\n",
      "Modern electronarcosis is typically performed by applying 200 Volts of high frequency alternating current of about 1500 Hertz for 3 seconds to the animals head.  High frequency is not felt as an electric shock and does not cause skeletal muscle contractions.  A wet animal will pass a current of over an Ampere.  If electronarcosis is not followed by other procedures, the animal will usually recover.\n",
      "\n",
      "Studies have been used to determine parameters for effective electronarcosis.\n",
      "\n",
      "NEW TEXT:\n",
      "\n",
      "Electronarcosis is one of the  methods used to render animals unconscious before slaughter and unable to feel pain. Electronarcosis may be followed immediately by electrocution or by bleeding.\n",
      "\n",
      "Modern electronarcosis is typically performed by applying 200 Volts of high frequency alternating current of about 1500 Hertz for 3 seconds to the animals head.  High frequency current is not felt as an electric shock and does not cause skeletal muscle contractions.  A wet animal will pass a current of over an Ampere.  If electronarcosis is not followed by other procedures, the animal will usually recover.\n",
      "\n",
      "Studies have been used to determine parameters for effective electronarcosis.\n",
      "\n",
      "DIFF:\tcurrent is not felt as an electric\n",
      "\n",
      "Comment:\tcurrent\n",
      "\n",
      "DOCS:\n",
      "High frequency current is alleged to not be felt as an electric shock or cause skeletal muscle contractions. A wet animal will pass a current of over an\n",
      "\n",
      "They recovered from narcosis several minutes after the electric current was. current of 0.24-0.30 V cm-1, taking care not to induce electronarcosis\n",
      "\n",
      "The current may bypass the brain. Even though the heart is stopped by the electrical current, the animal may feel the shock. To induce instant insensibility,\n",
      "\n",
      "by J Francis · 2015 · Cited by 25 — While a patient was being subjected to the electrical current by Dr. He had not felt the slightest sensation during the cutting and had\n",
      "\n",
      "Electronarcosis, also called electric stunning or electrostunning, is a profound stupor produced by passing an electric current through the brain\n",
      "Metrics:\t[0.93767202 0.67946365 0.67928679 0.62430771 0.58487089]\n",
      "----------------------- NEW DATASET OBJECT (Squaring the circle ----  Squaring or quadrature as integration )-----------------------\n",
      "\n",
      "OLD TEXT:\n",
      "\n",
      "The problem of finding the area under a curve, known as integration in calculus, or quadrature in numerical analysis, was known as squaring before the invention of calculus.  Since the techniques of calculus were unknown, it was generally presumed that a squaring should be done via geometric constructions, that is, by compass and straightedge.  For example Newton wrote to Oldenberg in 1676 \"I believe M. Leibnitz will not dislike þe Theorem towards þe beginning of my letter pag. 4 for squaring Curve lines Geometrically.\" (emphasis added)   After Newton and Leibniz invented calculus, they still referred to this integration problem as squaring a curve.\n",
      "\n",
      "NEW TEXT:\n",
      "\n",
      "The problem of finding the area under a curve, known as integration in calculus, or quadrature in numerical analysis, was known as squaring before the invention of calculus.  Since the techniques of calculus were unknown, it was generally presumed that a squaring should be done via geometric constructions, that is, by compass and straightedge.  For example Newton wrote to Oldenberg in 1676 \"I believe M. Leibnitz will not dislike the Theorem towards the beginning of my letter pag. 4 for squaring Curve lines Geometrically.\" (emphasis added)   After Newton and Leibniz invented calculus, they still referred to this integration problem as squaring a curve.\n",
      "\n",
      "DIFF:\tthe beginning of\n",
      "\n",
      "Comment:\t/* Squaring or quadrature as integration */ As per MOS\n",
      "\n",
      "DOCS:\n",
      "The problem of finding the area under an arbitrary curve, now known as integration in calculus, or quadrature in numerical analysis, was known as squaring\n",
      "\n",
      "geometrically constructing a square having the same area (squaring).. (see quadrature of the circle), but they did carry out quadrature's of some figures\n",
      "\n",
      "NounEdit. quadrature (countable and uncountable, plural quadratures). The process of making something square; squaring. (mathematics)\n",
      "\n",
      "For example, a quadrature of the circle, Lune of Hippocrates, The Quadrature of the Parabola. —Numerical integration [Similar quotes, lyrics]\n",
      "\n",
      "Other articles where squaring the circle is discussed: Quadrature of the Lune: …that someone had accomplished the squaring of the circle\n",
      "Metrics:\t[0.45850512 0.45818474 0.44053498 0.4230371  0.40984623]\n",
      "----------------------- NEW DATASET OBJECT (HMS Otter (S15) ---- )-----------------------\n",
      "\n",
      "OLD TEXT:\n",
      "\n",
      "HMS Otter was an Oberon-class submarine launched on the 15 May 1960. Scotts Shipbuilding, Greenock and was laid down on the 14 January 1960. She was commissioned on 20 August 1962. Otter was paid off on the 31 July 1991.\n",
      "\n",
      "NEW TEXT:\n",
      "\n",
      "HMS Otter (S15) was an Oberon-class submarine launched on 15 May 1960. Scotts Shipbuilding, Greenock and was laid down on 14 January 1960. She was commissioned on 20 August 1962. Otter was paid off on 31 July 1991.\n",
      "\n",
      "DIFF:\t(S15) was an\n",
      "\n",
      "Comment:\titalicized ship name and ship's class name; added defaultsort; removed unnecessary 'the' before every date\n",
      "\n",
      "DOCS:\n",
      "Hi - I was the last WEO of HMS Otter before she entered refit in Dec 1984 which included the replacement of the Type 187 Sonar. If this photo shows HMS Otter then it must have been taken before Dec 1984 as it shows the Type 187 still fitted\n",
      "\n",
      "HMS Otter (S15) was an Oberon-class submarine of the Royal Navy. The Oberon class was a direct follow on of the Porpoise-class, with the same dimensions and external design, but updates to equipment and internal fittings, and a higher grade of steel used for fabrication of the pressure hull\n",
      "\n",
      "HMS Otter (S15) was an Oberon-class submarine launched on 15 May 1960. Scotts Shipbuilding, Greenock and was laid down on 14 January 1960. She was commissioned on 20 August 1962\n",
      "\n",
      "HMS Otter (S15) was an Oberon-class submarine of the Royal Navy . She was launched on 15 May 1960 from Scotts Shipbuilding, Greenock and was laid down on 14 January 1960. She was commissioned on 20 August 1962. Otter was paid off on 31 July 1991\n",
      "\n",
      "HMS Otter (S15) was an Oberon-class submarine of the Royal Navy. She was launched on 15 May 1960 from Scotts Shipbuilding, Greenock and was laid down on 14 January 1960. She was commissioned on 20 August 1962. Otter was paid off on 31 July 1991\n",
      "Metrics:\t[0.06586047 0.05489042 0.04878415 0.04705699 0.04676023]\n",
      "----------------------- NEW DATASET OBJECT (The Master of the House ---- )-----------------------\n",
      "\n",
      "OLD TEXT:\n",
      "\n",
      "The Master of the House is a novel written by Radclyffe Hall and published in 1932, the first novel published after The Well of Loneliness.\n",
      "\n",
      "NEW TEXT:\n",
      "\n",
      "The Master of the House is a novel written by Radclyffe Hall and published in 1932, the first novel published after The Well of Loneliness.\n",
      "\n",
      "It was republished in 2013 by Wylie Press ().\n",
      "\n",
      "DIFF:\t\n",
      "\n",
      "It was republished in 2013 by Wylie Press ().\n",
      "\n",
      "Comment:\tadd recent edition with isbn\n",
      "\n",
      "DOCS:\n",
      "The Master of the House is a novel written by Radclyffe Hall and published in 1932. It was republished in 2013 by Wylie Press (ISBN 978-1473311886)\n",
      "\n",
      "The Master of the House is a novel written by Radclyffe Hall and published in 1932 — her. It was republished in 2013 by Wylie Press (ISBN 978-1473311886)\n",
      "\n",
      "While the advice and information in this book are believed to be true and accurate at the date of going to press, neither the\n",
      "\n",
      "University Press, 2000. 5 Bureau of Alcohol, Tobacco, and Firearms. Crime gun trace analysis reports: the illegal youth firearms markets in 17 communities\n",
      "\n",
      "March 21, 2020 Let's stay home and eat healthy to fight against Covid-19!. Material Context: Master Fine Art 2020/2021 Graduation Exhibition\n",
      "Metrics:\t[0.54736569 0.54673164 0.07495029 0.04405485 0.03686011]\n",
      "----------------------- NEW DATASET OBJECT (Essive case ---- )-----------------------\n",
      "\n",
      "OLD TEXT:\n",
      "\n",
      "The essive case, or similaris case (abbreviated ) is one example of a grammatical case, an inflectional morphological process by which a form is altered or marked to indicate its grammatical function.O'Grady, William, John Archibald, Mark Aronoff, and Janie Rees-Miller. \"Morphology: The Analysis of Word Structure.\" Contemporary Linguistics: An Introduction. 6th ed. Boston, MA: Bedford/St. Martin's, 2010. Print. The essive case on a noun can express it as a definite period of time during which something happens or during which a continuous action was completed. It can also denote a form as a temporary location, state of being, or character in which the subject was at a given time. The latter meaning is often referred to as the equivalent of the English phrase \"as a ___\".Niemi, Clemens. Finnish Grammar. 3rd ed. Duluth, MN: C.H. Salminen, 1945. Print.\n",
      "\n",
      "NEW TEXT:\n",
      "\n",
      "In grammar, the essive case, or similaris case, (abbreviated ) is a grammatical case.O'Grady, William, John Archibald, Mark Aronoff, and Janie Rees-Miller. \"Morphology: The Analysis of Word Structure.\" Contemporary Linguistics: An Introduction. 6th ed. Boston, MA: Bedford/St. Martin's, 2010. Print. The essive case on a noun can express it as a definite period of time during which something happens or during which a continuous action was completed. It can also denote a form as a temporary location, state of being, or character in which the subject was at a given time. The latter meaning is often referred to as the equivalent of the English phrase \"as a __\".Niemi, Clemens. Finnish Grammar. 3rd ed. Duluth, MN: C.H. Salminen, 1945. Print.\n",
      "\n",
      "DIFF:\tIn grammar, the\n",
      "a grammatical case\n",
      "\n",
      "Comment:\tadded \"In grammar,\" to the start of the article to match the article \"Genitive case\". I have also done this for the other articles on grammatical cases\n",
      "\n",
      "DOCS:\n",
      "Essive case. From Wikipedia, the free encyclopedia. In grammar, the essive case, or similaris case, (abbreviated ESS) is a grammatical case\n",
      "\n",
      "In grammar, the translative case (abbreviated TRANSL) is a grammatical case that indicates a change in state of a noun, with the general sense of \"becoming\n",
      "\n",
      "May 31, 2017 — Grammatical case ; In grammar ; Usually a language is said to \"have cases\" only if nouns change their form (decline) ; More formally, case has been\n",
      "\n",
      "In some languages, the so-called grammatical cases are used to express not only grammatical roles such as Agent, Patient, or Recipient, but also definiteness or\n",
      "\n",
      "A grammatical case is a category of nouns and noun modifiers , which corresponds to one or more potential grammatical functions for a nominal group in a\n",
      "Metrics:\t[0.31094288 0.30527701 0.30461156 0.29790491 0.28792128]\n",
      "----------------------- NEW DATASET OBJECT (Dick Thornton (Canadian football) ---- )-----------------------\n",
      "\n",
      "OLD TEXT:\n",
      "\n",
      "Richard Quincy (Dick) Thornton (born November 1, 1939 in Chicago, Illinois) was a football player in the Canadian Football League for twelve years years. Thornton played defensive back and wide receiver for the Winnipeg Blue Bombers and\n",
      "Toronto Argonauts from 1961-1972. He won two Grey Cups with Winnipeg in 1961 and 1962.  Later he played with the Memphis Southmen of the WFL. He was selected originally by the St. Louis Cardinals in the 1961 NFL Draft out of Northwestern University, where he starred at quarterback.\n",
      "\n",
      "NEW TEXT:\n",
      "\n",
      "Richard Quincy (Dick) Thornton (born November 1, 1939 in Chicago, Illinois) was a football player in the Canadian Football League for twelve years years. Thornton played defensive back and wide receiver for the Winnipeg Blue Bombers and\n",
      "Toronto Argonauts from 1961-1972. He won two Grey Cups with Winnipeg in 1961 and 1962.  Later he played with the Memphis Southmen of the WFL. He was selected originally by the St. Louis Cardinals in the 1961 NFL Draft out of Northwestern University, where he starred at quarterback.Reading Eagle \"Dick Thornton Picks Winipeg\" January 28, 1961\n",
      "\n",
      "DIFF:\tReading Eagle \"Dick Thornton Picks Winipeg\" January 28, 1961\n",
      "\n",
      "Comment:\tadded reference\n",
      "\n",
      "DOCS:\n",
      "Thornton played for the Philadelphia Eagles in 1933, playing in four games (including one start). In 1932 and 1933 he also played for the then-independent St. Louis Gunners. Personal. Thorntons son, Dick, played in the Canadian Football League from 1961 to 1972. Notes and References. News: Wildcats Dick Thornton Learned to Pass Early\n",
      "\n",
      "Dick Thornton (Canadian football) Richard Quincy Dick Thornton (November 1, 1939 - December 19, 2014) was a player in the Canadian Football League. Thornton played defensive back and wide receiver for the Winnipeg Blue Bombers and Toronto Argonauts from 1961 to 1972. [1][2] He died of lung cancer in 2014. [3] College and NFL draft\n",
      "\n",
      "Dick Thornton was a star defensive back and wide receiver for the Winnipeg Blue Bombers from 1961 to 1966. Thornton also subbed for Kenny Ploen when Winnipegs starting quarterback was injured. He won two Grey Cup games with them, the first in 1961, the 49th Grey Cup that went in overtime, the second in 1962, the 50th Grey Cup, played in\n",
      "\n",
      "Dick Thornton is a former Argos defensive quarterback great. Another year has gone, another season in which Dick Thornton has been passed over by the Canadian Football Hall of Fame. Story\n",
      "\n",
      "Dick Thornton (Canadian football) Dick Thornton (Canadian football) Dick Thornton (Canadian football) Date of birth: November 1, 1939 () (age 71) Place of birth: Chicago, Illinois: Position(s) Defensive back Wide receiver: College: Northwestern: NFL Draft: 1961\n",
      "Metrics:\t[0.3744104  0.30240356 0.28125366 0.26048042 0.25512527]\n"
     ]
    },
    {
     "name": "stdout",
     "output_type": "stream",
     "text": [
      "----------------------- NEW DATASET OBJECT (History of the Jews in Belgium ---- The Holocaust)-----------------------\n",
      "\n",
      "OLD TEXT:\n",
      "\n",
      "Just before the Second World War, the Jewish community of Belgium was at a peak of roughly 100,000 Jews (with concentrations of 55,000 in Antwerp and 35,000 in Brussels). Some 20,000 of this number were German-Jewish refugees. Belgium was occupied by Nazi Germany for the vast majority of the war, and a number of anti-Semitic policies were adopted in Belgium. Many Belgian Jews were taken to concentration camps, primarily Auschwitz. The Committee for Jewish Defence, which worked with the national resistance movement, was the largest Jewish defence movement in Belgium during the war. All told, some 25,000 Belgian Jews perished between 1942 and 1945.\n",
      "\n",
      "NEW TEXT:\n",
      "\n",
      "Just before the Second World War, the Jewish community of Belgium was at a peak of roughly 100,000 Jews (with concentrations of 55,000 in Antwerp and 35,000 in Brussels). Some 20,000 of this number were German-Jewish refugees. Belgium was occupied by Nazi Germany between May 1940 and September 1944, and anti-Semitic policies were adopted throughout Belgium, even though popular resistance in some cities hindered their full application.  Many Belgian Jews were taken to concentration camps, primarily Auschwitz. The Committee for Jewish Defence, which worked with the national resistance movement, was the largest Jewish defence movement in Belgium during the war. All told, some 25,000 Belgian Jews perished between 1942 and 1945. Belgium was the only occupied country in which a transport (Train XX) was halted to give deportees a chance to escape.\n",
      "\n",
      "DIFF:\tbetween Ma\n",
      "1940 and Septe\n",
      "1944, and\n",
      "throughout\n",
      ", even though popular resistance in some cities hindered their full application\n",
      " Belgium was the only occupied country in which a transport (Train XX) was halted to give deportees a chance to escape.\n",
      "\n",
      "Comment:\t/* The Holocaust */ mention Train XX incident\n",
      "\n",
      "DOCS:\n",
      "Some Belgian Jews who fled Belgium in 1940 were deported on transports from Drancy, France. A total of 28,900 Belgian Jews perished between 1942 and 1945. Belgium was the only occupied country in which a transport ( Train XX) was halted to give deportees a chance to escape. Belgium ID card for a foreign Jewish woman used in Vichy France\n",
      "\n",
      "Holocaust and Resistance. In this lesson, students reflect on the Holocaust from the point of view of those who actively resisted Nazi persecution. After reviewing the history of the Holocaust, in order to understand the legal and bureaucratic authority with which the Nazis systematically enforced their policies, students debate the options for\n",
      "\n",
      "The Holocaust in Belgium was the systematic dispossession, deportation, and murder of Jews and Roma in German-occupied Belgium during World War II. Out of about 66,000 Jews in the country in May 1940, around 28,000 were murdered during the Holocaust. [1] At the start of the war, the population of Belgium was overwhelmingly Catholic\n",
      "\n",
      "The Holocaust trains were railway transports run by German Nazis and their collaborators to forcibly deport interned Jews and other victims of the Holocaust to the German Nazi concentration and extermination camps \n",
      "\n",
      "The Holocaust in Belgiumwas the systematic dispossession, deportation, and murder of Jewsand Romain German-occupied Belgiumduring World War II. Out of about 66,000 Jews in the country in May 1940, around 28,000 were murdered during the Holocaust. [1] At the start of the war, the population of Belgium was overwhelmingly Catholic\n",
      "Metrics:\t[0.6884471  0.49153026 0.49087885 0.47651392 0.47639502]\n",
      "----------------------- NEW DATASET OBJECT (Lloyd Best ---- Death)-----------------------\n",
      "\n",
      "OLD TEXT:\n",
      "\n",
      "Lloyd Best died at his home, aged 73, from prostate cancer and diabetes.\n",
      "He was twice married, first (1958–2006) to Christiane Best, with whom he had four children -- three boys and a girl. He is survived by his second wife, journalist Sunity Maharaj, with whom he had two daughters.\n",
      "\n",
      "NEW TEXT:\n",
      "\n",
      "Lloyd Best died at his home, aged 73, from prostate cancer and diabetes.\n",
      "He was twice married, first (1958–2006) to Christiane Best, with whom he had four children—three boys and a girl. He is survived by his second wife, journalist Sunity Maharaj, with whom he had two daughters.\n",
      "\n",
      "DIFF:\t—three\n",
      "\n",
      "Comment:\tadd category\n",
      "\n",
      "DOCS:\n",
      "All Death, Burial, Cemetery  Obituaries results for lloyd byron best. Edit Search New Search Filters (1) To get better results, add more information such as Birth Info, Death Info and Location—even a guess will help. Edit your search or learn more. Utah, U.S., Death Registers, 1847-1966\n",
      "\n",
      "December 31, 1951 - April 13, 2022 Order Flowers Lloyds Obituary Lloyd Dale Best, 70 a native of Gaston Co., NC, passed away April 13, 2022, at the Robin Johnson House. Lloyd was born December 31, 1951, son of the late George Samuel and Lillie Best. In addition to his parents, he was preceded in death by his brother, Roger Dale Best\n",
      "\n",
      "This article relies largely or entirely on a single source. Relevant discussion may be found on the talk page. Please help improve this article by introducing citations to additional sources.Find sources: Lloyd Best - news · newspapers · books · scholar · JSTOR (May 2010\n",
      "\n",
      "Even though he was in failing health, during the last two weeks before his death, Lloyd Best was hard at work with his colleague and fellow Tapia house member Eric St Cyr, completing his newest work, titled Economic Policy and Management Choices: A Contemporary Economic History of Trinidad and Tobago, 1950-52. Death\n",
      "\n",
      "The grave site of Lloyd Best. Plot #53468047. Death record, obituary, funeral notice and information about the deceased person. [en] Vital records: Lloyd Best at +Archives + Follow.. 0 January, 1984, Sunday. This memorial website was created in memory of Lloyd Best, 57, born on October 3, 1926 and passed away on January 0, 1984. We will\n",
      "Metrics:\t[0.0457859  0.01657325 0.01599813 0.01349181 0.01284758]\n",
      "----------------------- NEW DATASET OBJECT (Professional Association of Diving Instructors ---- \"Distinctive\" specialties)-----------------------\n",
      "\n",
      "OLD TEXT:\n",
      "\n",
      "In addition to the mainstream specialty courses above, individual PADI instructors can prepare and teach (with PADI's approval) their own distinctive specialty courses, and dozens of such courses abound. Some of the courses represent less frequently used mainstream skills (such as \"Twin-set diver\", \"Full face-mask diver\", \"Surface Marker Buoy\" and \"Advanced wreck diver\" specialties).  Others are abstract either with reference to skills or locale (it is possible to take specialties in \"Golf ball diver\", \"Zen/Yoga diver\", \"Underwater wedding\" and even a \"Wreck of the Rhone diver\" specialty course). There is also a \"Spiegel Grove Diver\" Specialty from Ocean Divers.\n",
      "\n",
      ", PADI Divemaster\n",
      "*PADI Assistant Instructor\n",
      "*PADI Open Water Scuba Instructor (OWSI)\n",
      "*PADI Specialty Instructor\n",
      "*PADI Master Scuba Diver Trainer (MSDT)\n",
      "*PADI IDC Staff Instructor\n",
      "*PADI Master Instructor\n",
      "*PADI Course Director\n",
      "\n",
      "NEW TEXT:\n",
      "\n",
      "In addition to the mainstream specialty courses above, individual PADI instructors can prepare and teach (with PADI's approval) their own distinctive specialty courses, and dozens of such courses abound. Some of the courses represent less frequently used mainstream skills (such as \"Twin-set diver\", \"Full face-mask diver\", \"Surface Marker Buoy\" and \"Advanced wreck diver\" specialties).  Others are abstract either with reference to skills or locale (it is possible to take specialties in \"Golf ball diver\", \"Zen/Yoga diver\", \"Underwater wedding\" or site-specific specialties such as \"Wreck of the Rhone diver\" and \"Spiegel Grove Diver\").\n",
      "\n",
      ", PADI Divemaster\n",
      "*PADI Assistant Instructor\n",
      "*PADI Open Water Scuba Instructor (OWSI)\n",
      "*PADI Specialty Instructor\n",
      "*PADI Master Scuba Diver Trainer (MSDT)\n",
      "*PADI IDC Staff Instructor\n",
      "*PADI Master Instructor\n",
      "*PADI Course Director\n",
      "\n",
      "DIFF:\tor site-specific specialties such as\n",
      "and \"Spiegel Grove Diver\"\n",
      "\n",
      "Comment:\t/* \"Distinctive\" specialties */  Reorganized site-specific specialties to form a consistent list and remove advertising.\n",
      "\n",
      "DOCS:\n",
      "8.1 \"Distinctive\" specialties. 9 PADI. \"Underwater wedding\" or site-specific specialties such as \"Wreck of the Rhone diver\" and \"Spiegel Grove Diver\")\n",
      "\n",
      "There is also a \"Spiegel Grove Diver\" Specialty from Ocean Divers.. Neben den standardisierten PADI Specialties gibt es PADI Distinctive Specialties\n",
      "\n",
      "and teach (with PADI's approval) their own distinctive specialty courses,. specialties such as \"Wreck of the Rhone diver\" and \"Spiegel Grove Diver.\")\n",
      "\n",
      "Specialties focus on principles such as gas management, situational awareness and buddy. PADI Bull Shark Diving in Playa del Carmen Distinctive Specialty\n",
      "\n",
      "These PADI specialty courses are designed to help you master a specific diving. The first dive of this distinctive specialty course may credit as an\n",
      "Metrics:\t[1.09068724 0.82569252 0.77959094 0.69263845 0.68181918]\n",
      "----------------------- NEW DATASET OBJECT (Attack on Titan (video game) ---- Plot)-----------------------\n",
      "\n",
      "OLD TEXT:\n",
      "\n",
      "The game retells key moments from the first season of the anime, in addition to new scenarios involving the key characters.\n",
      "\n",
      "NEW TEXT:\n",
      "\n",
      "The game retells key moments from the first season of the Attack on Titan anime, in addition to new scenarios involving the key characters.\n",
      "\n",
      "DIFF:\t Attack on Titan\n",
      "\n",
      "Comment:\tClarifying link.\n",
      "\n",
      "DOCS:\n",
      "Mar 17, 2021 — With the show ending soon, a question on your mind might be whether or not the Attack on Titan games are any good and worth playing\n",
      "\n",
      "Attack on Titan closely follows the riveting story line of Attack on Titan's first season and focuses on the exploits of various key characters,\n",
      "\n",
      "Battle is joined between the man-eating Titans and Eren and his companions. Experience the illusion of being in the anime, and controlling the flow of the\n",
      "\n",
      "Battle is joined between the man-eating Titans and Eren and his companions. Experience the illusion of being in the anime, and controlling the flow of the story\n",
      "\n",
      "Jun 23, 2021 — Attack on Titan 2 does a really good job of letting you create your own character and slash through titans while retelling the story of the\n",
      "Metrics:\t[0.0346277  0.02140149 0.01503017 0.01483727 0.01105239]\n",
      "----------------------- NEW DATASET OBJECT (CPM ---- )-----------------------\n",
      "\n",
      "OLD TEXT:\n",
      "\n",
      "* combinatorial pattern matching\n",
      "* CP/M operating system\n",
      "\n",
      "This is a disambiguation page; that is, one that just points to other pages that might otherwise have the same name. If you followed a link here, you might want to go back and fix that link to point to the appropriate specific page.\n",
      "\n",
      "NEW TEXT:\n",
      "\n",
      "* combinatorial pattern matching\n",
      "* CP/M operating system\n",
      "* cost per mille\n",
      "\n",
      "This is a disambiguation page; that is, one that just points to other pages that might otherwise have the same name. If you followed a link here, you might want to go back and fix that link to point to the appropriate specific page.\n",
      "\n",
      "DIFF:\t\n",
      "* cost per mille\n",
      "\n",
      "Comment:\t* [[cost per mille]]\n",
      "\n",
      "DOCS:\n",
      "What is Cost Per Mille (CPM)? Cost Per Mille (CPM) is also known as Cost per Thousand (CPT). It is basically an ad campaign in which you have to pay a price for 1,000 Ad impression on the web page. The traditional definition of cost per mile (CPM) as an advertising term would refer to the cost of a certain distance traveled by working\n",
      "\n",
      "CPM / cost per thousand is a marketing phrase used to indicate the cost of one thousand ad impressions on a web page. The M in CPM stands for mille, which is Latin for a thousand. What is Cost Per Mille? In the programmatic advertising ecosystem, you can automatically buy and sell digital ad inventory. Cost per thousand is the\n",
      "\n",
      "CPM Formula Cost per mille for your campaign can be calculated by dividing the total number of impressions by the total cost or total budget if the project is still in the planning stages. CPM = Total Cost ÷ Number of Impressions X 1000 What Is CPM (Cost Per Mille) Exactly? When you run an ad online, it will gather impressions\n",
      "\n",
      "Cost per mille (CPM), also called cost per thousand (CPT) (in Latin, French and Italian, mille means one thousand), is a commonly-used measurement in advertising. It is the cost an advertiser pays for one thousand views or impressions of an advertisement\n",
      "\n",
      "Cost per thousand (CPM), also called cost per mille, is a marketing term used to denote the price of 1,000 advertisement impressions on one web page. If a website publisher charges $2.00\n",
      "Metrics:\t[0.23422298 0.20346445 0.18012769 0.1749417  0.17374437]\n"
     ]
    },
    {
     "name": "stdout",
     "output_type": "stream",
     "text": [
      "----------------------- NEW DATASET OBJECT (Georgian Stock Exchange ---- )-----------------------\n",
      "\n",
      "OLD TEXT:\n",
      "\n",
      "The Georgian Stock Exchange (Georgian: \"saqarTvelos safondo birJa\") is the principal stock exchange in the country of Georgia.  It was created by the \"Joint Stock Company Georgian Stock Exchange Charter\" which was registered and approved in 1999.  It is located in the capital city of Tbilisi and its abbreviation in English is GeSE.\n",
      "\n",
      "NEW TEXT:\n",
      "\n",
      "The Georgian Stock Exchange (, literally \"Georgian Stock Exchange Market\") is the principal stock exchange in the country of Georgia.  It was created by the \"Joint Stock Company Georgian Stock Exchange Charter\" which was registered and approved in 1999.  It is located in the capital city of Tbilisi and its abbreviation in English is GeSE.\n",
      "\n",
      "DIFF:\t, literally\n",
      "Georgian Stock Exchange Market\n",
      "\n",
      "Comment:\tstandardize\n",
      "\n",
      "DOCS:\n",
      "The Georgian Stock Exchange ( Georgian: საქართველოს საფონდო ბირჟა, literally Georgian Stock Exchange Market) is the principal stock exchange in the country of Georgia. It was created by the Joint Stock Company Georgian Stock Exchange Charter which was registered and approved in 1999\n",
      "\n",
      "The Georgian Stock Exchange (Georgian: საქართველოს საფონდო ბირჟა, literally Georgian Stock Exchange Market) is the\n",
      "\n",
      "The Georgian Stock Exchange (საქართველოს საფონდო ბირჟა, literally Georgian Stock Exchange Market) is the principal\n",
      "\n",
      "The Georgian Stock Exchange ( ka. საქართველოს საფონდო ბირჟა, literally Georgian Stock Exchange Market ) is the principal\n",
      "\n",
      "Georgian Stock Exchange (GSE) open_in_new This is the website for the Georgian Stock Exchange (GSE), the stock exchange center of Georgia. Information and reports are available on market listings, securities, companies, and rules. Categories: Stock Exchanges Country Specific Georgia\n",
      "Metrics:\t[0.8301848  0.78639022 0.78212399 0.77995229 0.75985532]\n",
      "----------------------- NEW DATASET OBJECT (Dave Follows ---- Personal life)-----------------------\n",
      "\n",
      "OLD TEXT:\n",
      "\n",
      "Follow was married to wife Audrey for 38 years at the time of his death. The couple had three children, sons Darren, Steve, and Chris. Steve is the guitarist in the Stafford-based band Bradbray Apartment.\n",
      "\n",
      "NEW TEXT:\n",
      "\n",
      "Follow was married to wife Audrey for 38 years at the time of his death from cancer. The couple had three children, sons Darren, Steve, and Chris. Steve is the guitarist in the Stafford-based band Bradbray Apartment.\n",
      "\n",
      "DIFF:\t from cancer\n",
      "\n",
      "Comment:\t/* Personal life */ cause of death, with cite\n",
      "\n",
      "DOCS:\n",
      "Personal life. Follow was married to wife Audrey for 38 years at the time of his death from cancer. The couple had three children, sons Darren, Steve, and Chris. Steve is the guitarist in the Stafford-based band Bradbray Apartment\n",
      "\n",
      "Personal life. Follow was married to wife Audrey for 38 years at the time of his death from cancer. [1] The couple had three children, sons Darren, Steve, and Chris. [1] Steve is the guitarist in the Stafford-based band Bradbray Apartment. [3\n",
      "\n",
      "Follows was a member of The Cartoonists Club of Great Britain. [citation needed] Personal life [ edit] Follow was married to wife Audrey for 38 years at the time of his death from cancer. [1] The couple had three children, sons Darren, Steve, and Chris. [1] Steve is the guitarist in the Stafford-based band Bradbray Apartment. [3\n",
      "\n",
      "Personal life. Follow was married to wife Audrey for 38 years at the time of his death from cancer. The couple had three children, sons Darren, Steve, and Chris. Steve is the guitarist in the Stafford-based band Bradbray Apartment. References. External links. Dave Follows official website. Archived from the original on April 22, 2016. Dave\n",
      "\n",
      "Cancer is a scary, fucked up thing, so its always good when anyone comes out the other end alive and well. Such is the case with Megadeth frontman Dave Mustaine, who had been diagnosed with throat cancer in May 2019.. While speaking with The Irish Times, Mustaine said his battle with cancer made a major impact on his life both on the stage and in person\n",
      "Metrics:\t[0.15793871 0.14625096 0.14505961 0.13985221 0.11963491]\n",
      "----------------------- NEW DATASET OBJECT (Archimedes ---- )-----------------------\n",
      "\n",
      "OLD TEXT:\n",
      "\n",
      ":For other uses, see Archimedes (disambiguation)\n",
      "\n",
      "Archimedes of Syracuse (circa 287 BC - 212 BC), was a Greek mathematician, astronomer, philosopher, physicist and engineer. He was killed by a Roman soldier during the sack of the city, despite orders from the Roman general, Marcellus, that he was not to be harmed. (The Greeks said that he was killed while drawing an equation in the sand, and told this story to contrast their high-mindedness with Roman ham-handedness; however, it should be noted that Archimedes designed the siege engines that devastated a substantial Roman invasion force, so his death may have been out of retribution.) Some math historians consider Archimedes to be one of history's greatest mathematicians, along with possibly Newton, Gauss, and Euler.\n",
      "\n",
      "NEW TEXT:\n",
      "\n",
      ":For other uses, see Archimedes (disambiguation)\n",
      "\n",
      "Archimedes (Greek: ΑΡΧΙΜΗΔΗΣ, Arkhimêdês) of Syracuse (circa 287 BC - 212 BC), was a Greek mathematician, astronomer, philosopher, physicist and engineer. He was killed by a Roman soldier during the sack of the city, despite orders from the Roman general, Marcellus, that he was not to be harmed. (The Greeks said that he was killed while drawing an equation in the sand, and told this story to contrast their high-mindedness with Roman ham-handedness; however, it should be noted that Archimedes designed the siege engines that devastated a substantial Roman invasion force, so his death may have been out of retribution.) Some math historians consider Archimedes to be one of history's greatest mathematicians, along with possibly Newton, Gauss, and Euler.\n",
      "\n",
      "DIFF:\t(Greek: ΑΡΧΙΜΗΔΗΣ, Arkhimêdês) \n",
      "\n",
      "Comment:\tGreek lang Archimedes\n",
      "\n",
      "DOCS:\n",
      "Αρχιμήδης, 287-212 BC , Ancient Greek mathematician & inventor. Archimedes The most-famous mathematician and inventor in ancient Greece. Archimedes is known\n",
      "\n",
      "See also: Αρχιμήδης. in particular, the 3rd century BCE mathematician Archimedes of Syracuse. Greek: Αρχιμήδης (Archimídis); → Latin: Archimēdēs\n",
      "\n",
      "Mar 11, 2022 — Archimedes (l. 287-212 BCE) was a Greek engineer and inventor who is regarded as the greatest mathematician of antiquity and one the\n",
      "\n",
      "Archimedes was born in the Greek city-state of Syracuse on the island of Sicily in approximately 287 BC. His father, Phidias, was an astronomer\n",
      "\n",
      "Archimedes of Syracuse was a Greek mathematician, inventor, physicist, engineer and astronomer. Not much is known about his life today, and unfortunately,\n",
      "Metrics:\t[0.63839812 0.5749878  0.38819645 0.37900213 0.36285769]\n",
      "----------------------- NEW DATASET OBJECT (Ozjasz Thon ---- )-----------------------\n",
      "\n",
      "OLD TEXT:\n",
      "\n",
      "Jehoshua Ozjasz Thon (also Osias, anglicized spelling; 1870, Lviv – 1936, Krakow) was a rabbi, early Zionist, and leader of the Jewish community in Poland.\n",
      "\n",
      "NEW TEXT:\n",
      "\n",
      "Abraham Ozjasz Thon (also Osias, anglicized spelling; 13 February 1870 in Lviv – 11 November 1936 in Kraków) was a rabbi, early Zionist, and leader of the Jewish community in Poland.\n",
      "\n",
      "DIFF:\t13 February \n",
      " 11 November\n",
      "\n",
      "Comment:\t.commons\n",
      "\n",
      "DOCS:\n",
      "Category:Ozjasz Thon From Wikimedia Commons, the free media repository Media in category Ozjasz Thon The following 11 files are in this category, out of 11 total. Jewish representatives to the Sejm 1920.png 512 × 335; 247 KB Kraków 1748.jpg 2,542 × 1,894; 938 KB Osias Thon.jpg 219 × 221; 11 KB Ozjasz Thon 1933.jpg 892 × 1,243; 632 KB\n",
      "\n",
      "Kazania 1895-1906 [Ozjasz Thon] on Amazon.com. *FREE* shipping on qualifying offers. Kazania 1895-1906\n",
      "\n",
      "Abraham Ozjasz Thon (also Osias, anglicized spelling; 13 February 1870 in Lviv - 11 November 1936 in Kraków) was a rabbi, early Zionist, and leader of the Jewish community in Poland. Ozjasz Thon: Thon studied philosophy and sociology under George Simmel. As a student, he assisted Theodor Herzl in the ideological preparations for the First\n",
      "\n",
      "Abraham Ozjasz Thon 13 February 1870 in Lviv - 11 November 1936 in Kraków was a rabbi, early Zionist, and leader of the Jewish community in Poland. Home Explore Nearby Profile Achievements\n",
      "\n",
      "Th is was the plan for Rabbi Ozjasz Th ons last journey, including detailed guidelines as to where the funeral procession would pass and who would be included in it. Moreover\n",
      "Metrics:\t[0.03996178 0.01693895 0.01392723 0.01115426 0.01114559]\n",
      "----------------------- NEW DATASET OBJECT (Aerobic exercise ---- External link)-----------------------\n",
      "\n",
      "OLD TEXT:\n",
      "\n",
      "*Impact of Exercise Intensity on Body Fatness and Skeletal Muscle Metabolism\n",
      "*Misc.fitness.aerobic FAQ\n",
      "\n",
      "NEW TEXT:\n",
      "\n",
      "*Impact of Exercise Intensity on Body Fatness and Skeletal Muscle Metabolism\n",
      "*Misc.fitness.aerobic FAQ\n",
      "\n",
      "fr:Aérobic\n",
      "\n",
      "DIFF:\t\n",
      "\n",
      "fr:Aérobic\n",
      "\n",
      "Comment:\t/* External link */ +interwiki fr:\n",
      "\n",
      "DOCS:\n",
      "the contributions of the external peer reviewers—David M. Buchner, MD, MPH;. intensity aerobic physical activity and should include vigorous-intensity\n",
      "\n",
      "by H Patel · 2017 · Cited by 257 — Aerobic and anaerobic exercises are two types of exercise that differ based on the intensity, interval and types of muscle fibers incorporated\n",
      "\n",
      "Aerobic exercise is physical exercise of low to high intensity that depends primarily on the aerobic energy-generating process. \"Aerobic\" is defined as\n",
      "\n",
      "by JE Donnelly · 2013 · Cited by 228 — The objective of this study was to evaluate aerobic exercise, without energy restriction, on weight loss in sedentary overweight and obese men and women\n",
      "\n",
      "A way to understand and measure the intensity of aerobic activity is by. you will not be able to say more than a few words without pausing for a breath\n",
      "Metrics:\t[0.10277566 0.02153882 0.00934731 0.00818408 0.00786351]\n",
      "----------------------- NEW DATASET OBJECT (Bombardier Inc. ---- )-----------------------\n",
      "\n",
      "OLD TEXT:\n",
      "\n",
      "Bombardier Inc. () is a Canadian company, founded by Joseph-Armand Bombardier as L'Auto-Neige Bombardier Limitée in 1942, at Valcourt in the Eastern Townships, Quebec. Over the years it has been a large manufacturer of regional aircraft, business jets, mass transportation equipment, recreational equipment and a financial services provider. Bombardier is a Fortune Global 500 conglomerate company Fortune Global 500 - Bombardier Inc. Company Snapshot 2007. Its headquarters are in Montreal, Quebec, Canada.\n",
      "\n",
      "NEW TEXT:\n",
      "\n",
      "Bombardier Inc. () is a Canadian conglomerate company, founded by Joseph-Armand Bombardier as L'Auto-Neige Bombardier Limitée in 1942, at Valcourt in the Eastern Townships, Quebec. Over the years it has been a large manufacturer of regional aircraft, business jets, mass transportation equipment, recreational equipment and a financial services provider. Bombardier is a Fortune Global 500 conglomerate company Fortune Global 500 - Bombardier Inc. Company Snapshot 2007. Its headquarters are in Montreal, Quebec, Canada.\n",
      "\n",
      "DIFF:\tconglomerate \n",
      "\n",
      "Comment:\tadded conglomerate link to List of Worldwide Conglomerate Companies\n",
      "\n",
      "DOCS:\n",
      "Currently part of Bombardier Inc., a Canadian conglomerate which also owns several other aviation manufacturers, the company has been forced to change its\n",
      "\n",
      "Feb 17, 2020 — Canadian industrial conglomerate Bombardier Inc. said Feb. 17 that it agreed to sell its train division to French rail company Alstom SA for\n",
      "\n",
      "Mar 31, 2022 — It is a Fortune Global 500 conglomerate company which was founded by Joseph-Armand Bombardier, the inventor of the Snowmobile,\n",
      "\n",
      "Feb 11, 2021 — Bombardier Inc. says it will lay off 1600 people and stop making. having gone from an integrated transportation conglomerate that made\n",
      "\n",
      "Feb 7, 2020 — Bombardier Inc. is racing to strike a deal to sell one of its two main. train side and U.S. conglomerate Textron Inc. and private equity\n",
      "Metrics:\t[0.36416665 0.33949582 0.33934978 0.33425113 0.33100507]\n"
     ]
    },
    {
     "name": "stdout",
     "output_type": "stream",
     "text": [
      "----------------------- NEW DATASET OBJECT (Calendar ---- Future reform)-----------------------\n",
      "\n",
      "OLD TEXT:\n",
      "\n",
      "There have been a number of proposals for reform of the calendar, such as the World calendar and International Fixed Calendar.  The United Nations considered adopting such a reformed calendar for a while in the 1950s, but these proposals have lost most of their popularity.\n",
      "\n",
      "NEW TEXT:\n",
      "\n",
      "There have been a number of proposals for reform of the calendar, such as the World calendar and International Fixed Calendar.  The United Nations considered adopting such a reformed calendar for a while in the 1950s, but these proposals have lost most of their popularity. Holocene calendar is another one for counting years.\n",
      "\n",
      "DIFF:\t Holocene calendar is another one for counting years.\n",
      "\n",
      "Comment:\t/* Future reform */ add\n",
      "\n",
      "DOCS:\n",
      "An environmental history. 2. Auflage. Oxford 1998, ISBN -631-18638-7. This idea is not new. You may have heard about Holocene Calendar - a calendar reform proposal made in 1993 by Cesare Emiliani. Old Era can be viewed as the first 10,000 years of that calendar. There was another calendar reform proposal in 1963 by E. R. Hope. He basically\n",
      "\n",
      "Can you say holiday? Then you can say holocene! Holiday, Holocene. Want an idea of how Cesare Emilianis Holocene Era (HE) Calendar reform idea flows? En\n",
      "\n",
      "Calendar reform or calendrical reform is any significant revision of a calendar system. The term sometimes is used instead for a proposal to switch to a different calendar design. Contents 1 Principles 2 Historical reforms 2.1 Reform of lunar and lunisolar calendars 2.2 Julian and Gregorian reforms 3 Proposals 3.1 Perennial calendars\n",
      "\n",
      "For the geological epoch, see Holocene Epoch. The Holocene calendar, popular term for the Holocene Era count or Human Era count, uses a dating system similar to astronomical year numbering but adds 10,000, placing a zero at the start of the Human Era (HE, the beginning of human civilization) the approximation of the Holocene Epoch (HE, post Ice\n",
      "\n",
      "You can now recognize humanitys accomplishments since the beginning of the Holocene Era circa 12,000 years ago. Put history into a flowing context using Emilianis fair-to-all-humans Holocene Era calendar reform idea. You can even use our HE calculator to convert your own research dates to the HE calendar. Then was then, Now is now\n",
      "Metrics:\t[0.5475055  0.54429155 0.52987698 0.49311363 0.4654712 ]\n",
      "----------------------- NEW DATASET OBJECT (Bronchiole ---- )-----------------------\n",
      "\n",
      "OLD TEXT:\n",
      "\n",
      "The bronchioles are the first  airway branches that no longer contain cartilage. They are branches of the bronchi, and are smaller than one millimeter in diameter.\n",
      "\n",
      "There are no glands or cartilage in any of the bronchioles, and the epithelial cells become more cuboidal in shape.\n",
      "\n",
      "The bronchioles terminate by entering the circular sacs called alveoli.\n",
      "\n",
      "Control of airflow resistance and air distrubution in the lungs is controlled by the bronchioles.\n",
      "\n",
      "NEW TEXT:\n",
      "\n",
      "The bronchioles are the first  airway branches that no longer contain cartilage. They are branches of the bronchi, and are smaller than one millimeter in diameter.\n",
      "\n",
      "There are no glands or cartilage in any of the bronchioles, and the epithelial cells become more cuboidal in shape.\n",
      "\n",
      "The bronchioles terminate by entering the circular sacs called alveoli.\n",
      "\n",
      "Control of airflow resistance and air distrubution in the lungs is controlled by the bronchioles.\n",
      "\n",
      "They are composed of hyaline cartilage.\n",
      "\n",
      "DIFF:\t\n",
      "\n",
      "They are composed of hyaline cartilage.\n",
      "\n",
      "Comment:\twhat bronchi is contained of\n",
      "\n",
      "DOCS:\n",
      "Sep 8, 2021 — skeletal muscle. hyaline cartilage. bone. Which of the following is devoid of hyaline cartilage? trachea; bronchus; larynx; bronchiole\n",
      "\n",
      "Carina: The angle made between the two primary bronchi when they diverge at the. that is composed of hyaline cartilage on the anterior and lateral walls\n",
      "\n",
      "Mar 23, 2018 — Similar to the trachea, they are composed of incomplete rings of hyaline cartilage, with the right bronchus membrane containing six to eight\n",
      "\n",
      "Terminal bronchioles give rise to respiratory bronchioles, which. is kept open by 20 tracheal cartilages, which are C-shaped rings of hyaline cartilage\n",
      "\n",
      "The cartilage and mucous membrane of the primary bronchi are similar to that in the trachea. As the branching continues through the bronchial tree,\n",
      "Metrics:\t[0.8005231  0.75821573 0.72670875 0.68338899 0.59351343]\n",
      "----------------------- NEW DATASET OBJECT (French Fifth Republic ---- )-----------------------\n",
      "\n",
      "OLD TEXT:\n",
      "\n",
      "This category contains articles on the people and government of the French Fifth Republic.\n",
      "\n",
      "\n",
      "\n",
      "cs:Kategorie:Pátá republika\n",
      "es:Categoría:Quinta República Francesa\n",
      "fr:Catégorie:Cinquième République\n",
      "it:Categoria:Quinta Repubblica francese\n",
      "oc:Categoria:Cinquena Republica\n",
      "\n",
      "NEW TEXT:\n",
      "\n",
      "This category contains articles on the people and government of the French Fifth Republic.\n",
      "\n",
      "\n",
      "\n",
      "cs:Kategorie:Pátá Francouzská republika\n",
      "es:Categoría:Quinta República Francesa\n",
      "fr:Catégorie:Cinquième République\n",
      "it:Categoria:Quinta Repubblica francese\n",
      "oc:Categoria:Cinquena Republica\n",
      "\n",
      "DIFF:\tFrancouzs\n",
      "á republik\n",
      "\n",
      "Comment:\tfix cs iw\n",
      "\n",
      "DOCS:\n",
      "As the Right dominated French politics for the first half of the Fifth Republic, it oversaw a period of the most dramatic growth in the state, across virtually all sectors. Growth in state spending declined steadily over the decades but particularly after the oil crisis and other events in the 1970s\n",
      "\n",
      "The Fifth French Republic is a study of modern French politics and history, discussing the five presidents who span from 1959 to the present--Charles de Gaulle, Georges Pompidou, Valry Giscard dEstang, Francois Mitterand and Jacques Chirac.. Philip Thody examines the importance of the similarities between the five men for an understanding of the general and political culture of France; the\n",
      "\n",
      "François Mitterrand, whose anti-Gaullist diatribe Le Coup dÉtat permanent (Paris: Plon, 1964) continues to be cited if not read, swiftly discarded his damning critique of the Fifth Republics institutions on acceding to the presidency\n",
      "\n",
      "Political parties of the French Fifth Republic ‎ (36 C, 1 F) Politicians of the French Fifth Republic ‎ (11 C) S Senate (French Fifth Republic) ‎ (1 C, 3 F) Media in category French Fifth Republic The following 9 files are in this category, out of 9 total. M373nch0n.jpg 1,440 × 1,760; 1,019 KB René-Pierre Signé.jpg 155 × 225; 30 KB\n",
      "\n",
      "The Fifth Republic, Frances current republican system of government, was established by Charles de Gaulle under the Constitution of the Fifth Republic on 4 October 1958. 99 relations. French Fifth Republic - Unionpedia, the concept map\n",
      "Metrics:\t[0.01366066 0.01311227 0.01035683 0.00940764 0.00797658]\n",
      "----------------------- NEW DATASET OBJECT (Ares ---- External link)-----------------------\n",
      "\n",
      "OLD TEXT:\n",
      "\n",
      "*Ares in Greek Religion\n",
      "\n",
      "bg:Арес\n",
      "ca:Ares\n",
      "da:Ares\n",
      "de:Ares\n",
      "el:Άρης (μυθολογία)\n",
      "eo:Areso\n",
      "es:Ares\n",
      "fr:Arès\n",
      "gl:Ares (deus)\n",
      "he:ארס (מיתולוגיה)\n",
      "hr:Ares\n",
      "it:Ares\n",
      "ja:アレス\n",
      "ko:아레스\n",
      "lt:Arėjas\n",
      "nl:Ares\n",
      "pl:Ares\n",
      "pt:Ares\n",
      "ro:Ares\n",
      "ru:Арес\n",
      "sl:Ares\n",
      "sr:Ареј\n",
      "sv:Ares\n",
      "uk:Арес\n",
      "zh:阿瑞斯\n",
      "\n",
      "NEW TEXT:\n",
      "\n",
      "*Ares in Greek Religion\n",
      "\n",
      "bg:Арес\n",
      "ca:Ares\n",
      "da:Ares\n",
      "de:Ares\n",
      "el:Άρης (μυθολογία)\n",
      "eo:Areso\n",
      "es:Ares\n",
      "fr:Arès\n",
      "gl:Ares (deus)\n",
      "he:ארס (מיתולוגיה)\n",
      "hr:Ares\n",
      "it:Ares\n",
      "ja:アレス\n",
      "ko:아레스\n",
      "lt:Arėjas\n",
      "hu:Árész\n",
      "nl:Ares\n",
      "pl:Ares\n",
      "pt:Ares\n",
      "ro:Ares\n",
      "ru:Арес\n",
      "sl:Ares\n",
      "sr:Ареј\n",
      "sv:Ares\n",
      "uk:Арес\n",
      "zh:阿瑞斯\n",
      "\n",
      "DIFF:\thu:Árész\n",
      "\n",
      "\n",
      "Comment:\tiw hu:\n",
      "\n",
      "DOCS:\n",
      "Árész has 14 translations in 14 languages .. HU EN English 1 translation . Ares ; Show more. HU ES Spanish 1 translation . Ares ; HU FR French 1 translation . Arès ; HU IT Italian 1 translation . Ares ; HU PT Portuguese 1 translation . Ares ; HU DE German 1 translation .. Arés {m} HU PL Polish 1 translation . Ares {m} HU DA Danish 1\n",
      "\n",
      "ARES EUROPA ARES HUNGARIA Gyár Utca 2 2040 Budaörs Hungria Tel.+36 12 722 200 Fax +36 12 306 055 areshun@aresgroup.net Google Maps ARES LOG Almakerek u.6 Ipari Park H1044 Budapest Hungria Tel.+36 12 722 200 Fax +36 12 306 055 areshun@aresgroup.net Google Maps Együttműködő partnereink A conqueror freiht network tagja\n",
      "\n",
      "Translation for Árész in the free Hungarian-English dictionary and many other English translations\n",
      "\n",
      "HU Árész {tulajdonnév} volume_up. Árész. volume_up. Ares {tul.név}. warning Request revision; The base for the Ares 4 mission was set inside a crater named Schiaparelli, the US space agency said. more_vert. open_in_new Link a forráshoz; warning Request revision; Its a joint camera between Ares and IMAX. more_vert\n",
      "\n",
      "„Ares și-ar datora numele firii sale bărbătești (árren) și vitejiei (andreion); sau, încă, asprimii și felului său neînduplecat de a fi, ceea ce se cheamă árraton (de neînfrînt), prin urmare, numele de Ares s-ar potrivi întru totul unui zeu al războiului. — Socrate, în Cratil de Platon [18] Caracterizare [ modificare | modificare sursă\n",
      "Metrics:\t[0.02649992 0.01170274 0.01048704 0.00475262 0.        ]\n",
      "----------------------- NEW DATASET OBJECT (Burgess Owens ---- )-----------------------\n",
      "\n",
      "OLD TEXT:\n",
      "\n",
      "Clarence Burgess Owens (born August 2, 1951) is an American politician, non-profit executive, and retired football safety who played ten seasons in the National Football League (NFL) for the New York Jets and the Oakland Raiders. Since leaving the NFL, Owens has founded several businesses and is the CEO of a non-profit dedicated to helping troubled and incarcerated youth. He is a frequent guest on Fox News. Owens is the Republican nominee for Utah's 4th congressional district in 2020 election.\n",
      "\n",
      "NEW TEXT:\n",
      "\n",
      "Clarence Burgess Owens (born August 2, 1951) is an American politician, non-profit executive, and retired football safety who played ten seasons in the National Football League (NFL) for the New York Jets and the Oakland Raiders. Since leaving the NFL, Owens has founded several businesses and is the CEO of a non-profit dedicated to helping troubled and incarcerated youth. He is a frequent guest on Fox News. Owens is the Republican nominee for Utah's 4th congressional district in 2020 election against freshman incumben Ben McAdams.\n",
      "\n",
      "DIFF:\t against freshman incumben Ben McAdams\n",
      "\n",
      "Comment:\tadded Burgess's opponent.\n",
      "\n",
      "DOCS:\n",
      "Republican and former NFL player Burgess Owens will defeat Democratic incumbent Rep. Ben McAdams in Utahs 4th Congressional District race, CNN projected Tuesday. McAdams loss is at\n",
      "\n",
      "Burgess Owens (R) defeated incumbent Rep. Ben McAdams (D) and John Molnar (L) in Utahs 4th Congressional District. McAdams was first elected in 2018, defeating incumbent Mia Love (R) 50.1% to 49.9%—a margin of 694 votes\n",
      "\n",
      "Republican Burgess Owens wins election to U.S. House in Utahs 4th Congressional District, beating incumbent Rep. Ben McAdams Read full article November 16, 2020, 3:04 PM\n",
      "\n",
      "Democrat Rep. Ben McAdams of Utah narrowly lost his bid to win reelection against former NFL player Burgess Owens, allowing Republicans to regain control of all four congressional seats in the conservative state. McAdams conceded in an online news conference Monday afternoon\n",
      "\n",
      "Freshman Democratic Rep. Ben McAdams, who lost the race last month by a margin of 3,765 votes to Republican Burgess Owens, spent $5.3 million over the course of the campaign in an effort\n",
      "Metrics:\t[0.52822649 0.5101151  0.45027715 0.42627455 0.42277367]\n"
     ]
    },
    {
     "name": "stdout",
     "output_type": "stream",
     "text": [
      "----------------------- NEW DATASET OBJECT (Southwest Airlines Flight 1380 ---- Aftermath)-----------------------\n",
      "\n",
      "OLD TEXT:\n",
      "\n",
      "The FAA issued a ground stop for aircraft on the ground planning to depart for Philadelphia until shortly before 2 p.m. Eastern Time. On the day of the incident, the continuation of flight 1380 from Dallas was renumbered as flight 8874.\n",
      "\n",
      "NEW TEXT:\n",
      "\n",
      "The FAA issued a ground stop for aircraft on the ground planning to depart for Philadelphia until shortly before 2 p.m. Eastern Time. On the day of the incident, the continuation of flight 1380 from Dallas was renumbered as flight 8874, and continued using a different Boeing 737 aircraft.\n",
      "\n",
      "DIFF:\t, and continued using a different Boeing 737 aircraft.\n",
      "\n",
      "Comment:\t/* Aftermath */ add\n",
      "\n",
      "DOCS:\n",
      "Nov 22, 2019 — After parts from a fan blade failure on the left engine of a Southwest Airlines Boeing 737 pierced the airplane's cabin causing one fatality\n",
      "\n",
      "On April 17, 2018, 12 minutes after departure from LaGuardia, the Boeing 737-7H4 was climbing through 32,000 feet (9,800 m) when the aircraft's number one CFM56\n",
      "\n",
      "2018 — Aircraft Accident Report. Left Engine Failure and Subsequent Depressurization. Southwest Airlines Flight 1380. Boeing 737-7H4, N772SW\n",
      "\n",
      "Dec 13, 2019 — The former Naval aviator and pilot of the Southwest Airlines Boeing 737 operating as Flight 1380 was called to action when a fan blade broke\n",
      "\n",
      "Nov 19, 2019 — Investigators with the NTSB examine a Southwest Airlines Boeing 737-700 after a catastrophic engine failure resulted in the death of a passenger\n",
      "Metrics:\t[0.28683468 0.2600286  0.23310282 0.22865637 0.20444161]\n",
      "----------------------- NEW DATASET OBJECT (May 13 ---- )-----------------------\n",
      "\n",
      "OLD TEXT:\n",
      "\n",
      "May 13 is the 133rd day of the year in the Gregorian Calendar (134th in leap years). There are 232 days remaining.\n",
      "\n",
      "NEW TEXT:\n",
      "\n",
      "May 13 is the 133rd day of the year in the Gregorian Calendar (134th in leap years). There are 232 days remaining. It is a Friday that occurs on the 13th of the month.\n",
      "\n",
      "DIFF:\t It is a Friday that occurs on the 13th of the month.\n",
      "\n",
      "Comment:\tFriday the 13th\n",
      "\n",
      "DOCS:\n",
      "When is Friday the 13th? It is celebrated whenever Friday falls on the 13th of the month. Plain and simple, Friday the 13th is a day for bad luck. Without a\n",
      "\n",
      "Friday the 13th is considered an unlucky day in Western superstition. It occurs when the 13th day of the month in the Gregorian calendar falls on a Friday,\n",
      "\n",
      "Apr 30, 2018 — Friday the 13th, which occurs whenever the 13th of any month falls on a Friday, is described as a day when bad things happen in the popular\n",
      "\n",
      "May 13, 2022 — Today, May 13, is a Friday the 13th. Friday the 13th has been a superstitious date for a very long time, but no one knows exactly why\n",
      "\n",
      "May 13, 2022 — “Fewer accidents and reports of fire and theft occur when the 13th of the month falls on a Friday than on other Fridays, because people are\n",
      "Metrics:\t[1.4389912  1.21823851 1.17302103 1.05441193 1.00282224]\n",
      "----------------------- NEW DATASET OBJECT (Nader Ghandri ---- )-----------------------\n",
      "\n",
      "OLD TEXT:\n",
      "\n",
      "Nader Ghandri (born 18 February 1995) is a Tunisian footballer who plays for Westerlo.\n",
      "\n",
      "NEW TEXT:\n",
      "\n",
      "Nader Ghandri (born 18 February 1995) is a Tunisian professional footballer who plays for Royal Antwerp.\n",
      "\n",
      "DIFF:\t professional\n",
      "Royal An\n",
      "\n",
      "Comment:\tUpdate for return from loan.\n",
      "\n",
      "DOCS:\n",
      "Get the latest news and updates on Nader Ghandri from The Athletic. Follow your favorite teams and leagues for in-depth analysis and expert coverage from\n",
      "\n",
      "Get the latest SOCCER news on Nader Ghandri. Stay up to date with SOCCER player news, rumors, updates, analysis, social feeds, and more at FOX Sports\n",
      "\n",
      "Nader Ghandri's player data and stats.. Nader Ghandri. نادر الغندرى. Ghandri's career statisticsLast updated on 16/12/2022 at 22:55. Offense. Defense\n",
      "\n",
      "2018-08-31T00:00:00.000Z, Loan, Royal Antwerp FC · KVC Westerlo. 2017-08-11T00:00:00.000Z, Full, Club Africain · Royal Antwerp FC. 2014-07-06T00:00:00.000Z\n",
      "\n",
      "Nader Ghandri is a professional footballer who plays as a defender for Tunisian Ligue Professionnelle 1 club Club Africain. Born in France, he plays for the\n",
      "Metrics:\t[0.17429996 0.1381455  0.08295474 0.02952148 0.02760372]\n",
      "----------------------- NEW DATASET OBJECT (Albert Goodman ---- )-----------------------\n",
      "\n",
      "OLD TEXT:\n",
      "\n",
      "Albert William Goodman (1880 – 22 August 1937) was a Conservative politician in the United Kingdom.\n",
      "\n",
      "At the 1929 general election, he unsuccessfully contested the safe Labour seat of Bow and Bromley in east London, losing by a wide margin to George Lansbury.\n",
      "\n",
      "As Labour's vote collapsed at the 1931 general election, he  won the Islington North from constituency Labour MP Robert Young, who had won it from the Conservatives in 1929.\n",
      "\n",
      "Goodman held his seat at the 1935 election, and died in 1937, aged 57 (the first of three 20th century MPs from that constituency to die in office).  The resulting by-election was won by Labour's Leslie Haden Guest.\n",
      "\n",
      "NEW TEXT:\n",
      "\n",
      "Albert William Goodman (1880 – 22 August 1937) was a Conservative politician in the United Kingdom.\n",
      "\n",
      "At the 1929 general election, he unsuccessfully contested the safe Labour seat of Bow and Bromley in east London, losing by a wide margin to George Lansbury.\n",
      "\n",
      "As Labour's vote collapsed at the 1931 general election, he won the Islington North from the constituency's Labour Member of Parliament (MP) Robert Young, who had won it from the Conservatives in 1929.\n",
      "\n",
      "Goodman held his seat at the 1935 election, and died in 1937, aged 57 (the first of three 20th century MPs from that constituency to die in office).  The resulting by-election was won by Labour's Leslie Haden Guest.\n",
      "\n",
      "DIFF:\twon the\n",
      "the constituency's\n",
      "Member of Parliament (\n",
      "\n",
      "Comment:\t[[Member of Parliament]] (MP), etc using [[Project:AWB|AWB]]\n",
      "\n",
      "DOCS:\n",
      "Members of Parliament are paid for their parliamentary work and have to attend the sittings. WhenParliament is not meeting, these MPs spend much of their time visiting the constituencies which have elected them. The opening of Parliament is an occasion of very picturesque ceremony\n",
      "\n",
      "Parliament works inWestminster Palace which since Edward the Confessors times was kings and queens residence, then it was shared by Parliament but since the 16th century (Henry VIII) it is entirely in Parliamentary use. The House of Parliament is one building 280 m long, stretching along the\n",
      "\n",
      "As Labours vote collapsed at the 1931 general election, he won the Islington North from the constituencys Labour Member of Parliament (MP) Robert Young, who had gained it from the Conservatives in 1929. api.parliament.ukcontributions in Parliament by Albert Goodman\n",
      "\n",
      "In the United Kingdom, a member of Parliament (MP) is an individual elected to serve in the House of Commons of the Parliament of the United Kingdom. All 650 members of the UK House of Commons are elected using the first-past-the-post voting system in single member constituencies across the\n",
      "\n",
      "Each Member of Parliament (MP) represents one of 650 constituencies in the UK. British elections are usually fought between political parties, not individuals. Therefore, people who want to be elected to Parliament need to be nominated by one of the main political parties\n",
      "Metrics:\t[0.82834361 0.7609206  0.68737258 0.67181835 0.61182139]\n",
      "----------------------- NEW DATASET OBJECT (Camelopardalis ---- Etymology)-----------------------\n",
      "\n",
      "OLD TEXT:\n",
      "\n",
      "First attested in English in 1785, the word camelopardalis comes from Latin, and it is the romanization of the Greek \"καμηλοπάρδαλις\" meaning \"giraffe\", from \"κάμηλος\" (kamēlos), \"camel\" + \"πάρδαλις\" (pardalis), \"leopard\", because it has a long neck like a camel and spots like a leopard.\n",
      "\n",
      "NEW TEXT:\n",
      "\n",
      "First attested in English in 1785, the word camelopardalis comes from Latin, and it is the romanization of the Greek \"καμηλοπάρδαλις\" meaning \"giraffe\", from \"κάμηλος\" (kamēlos), \"camel\" + \"πάρδαλις\" (pardalis), \"spotted\", because it has a long neck like a camel and spots.\n",
      "\n",
      "DIFF:\tspotted\",\n",
      "\n",
      "Comment:\t/* Etymology */Fixed detail in the etymology\n",
      "\n",
      "DOCS:\n",
      "Camelopardalis. Quite the same Wikipedia. Just better. Etymology. First attested in English in 1785, the word camelopardalis comes from Latin,[4] and it is the romanization of the Greek\n",
      "\n",
      "Expert Answers: Etymology. First attested in English in 1785, the word camelopardalis comes from Latin, and it is the romanization of the Greek καμηλοπάρδαλις meaning giraffe\n",
      "\n",
      "Camelopardalis is a large but faint constellation of the celestial sphere representing a giraffe. Etymology. First attested in English in 1785, the word camelopardalis comes from Latin, and it is the\n",
      "\n",
      "camelopardalis — ca·mel·o·par·da·lis … English syllables. camelopardalis — kəˌmeləˈpärdələs, ˌkamə(ˌ)lōˈ Etymology: New Latin, from Latin synonym of giraffa …\n",
      "\n",
      "camelopardalis. noun Etymology: Latin (genitive ~), camelopard Date: 1836 a northern constellation between Cassiopeia and Ursa Major. Merriam-Webster Collegiate Dictionary\n",
      "Metrics:\t[0.20489319 0.20140113 0.19590305 0.19335796 0.18708434]\n"
     ]
    },
    {
     "name": "stdout",
     "output_type": "stream",
     "text": [
      "----------------------- NEW DATASET OBJECT (Ahab ---- )-----------------------\n",
      "\n",
      "OLD TEXT:\n",
      "\n",
      "Ahab or Ach'av or Achab in Douay-Rheims (; ; ) was king of Israel and the son and successor of Omri.\n",
      "\n",
      "Ahab became king of Israel in the thirty-eighth year of Asa, king of Judah, and reigned for twenty-two years.  William F. Albright dated his reign to 869 – 850 BC, while E. R. Thiele offered the dates 874 – 853 BC.Edwin Thiele, The Mysterious Numbers of the Hebrew Kings, (1st ed.; New York: Macmillan, 1951;  2d ed.; Grand Rapids: Eerdmans, 1965; 3rd ed.; Grand Rapids: Zondervan/Kregel, 1983). ISBN 082543825X, 9780825438257\n",
      "\n",
      "NEW TEXT:\n",
      "\n",
      "Ahab or Ach'av or Achab in Douay-Rheims (; ; ) was king of Israel and the son and successor of Omri according to the Hebrew Bible.\n",
      "\n",
      "Ahab became king of Israel in the thirty-eighth year of Asa, king of Judah, and reigned for twenty-two years.  William F. Albright dated his reign to 869 – 850 BC, while E. R. Thiele offered the dates 874 – 853 BC.Edwin Thiele, The Mysterious Numbers of the Hebrew Kings, (1st ed.; New York: Macmillan, 1951;  2d ed.; Grand Rapids: Eerdmans, 1965; 3rd ed.; Grand Rapids: Zondervan/Kregel, 1983). ISBN 082543825X, 9780825438257\n",
      "\n",
      "DIFF:\t according to the Hebrew Bible\n",
      "\n",
      "Comment:\tSlight change to match the approach we take with [[David]] and [[Saul]], as the [[historicity]] of these individuals is not cut-and-dried.\n",
      "\n",
      "DOCS:\n",
      "by WM SCHNIEDEWIND · 1993 · Cited by 46 — 1 According to F. M. Cross ( Canaanite Myth and Hebrew Epic [Cambridge:. Hebrew Bible,22 twice in 1 Kings 21 where Elijah condemns Ahab for \"selling\n",
      "\n",
      "by FJ Flo · 2010 — Hebrew language presented stories of the Bible with earthy language that embodied. Another reinforcement to Ahab‟s diabolic lifestyle, according to the\n",
      "\n",
      "King Ahab. Ahab was the seventh king of Israel, the son and successor of King Omri and the husband of Jezebel of Sidon, according to the Hebrew Bible\n",
      "\n",
      "Feb 10, 2022 — Ahab is considered an exceptionally wicked king in the Hebrew Bible. According to 1 Kings 16:29-33, he married Jezebel, the daughter of\n",
      "\n",
      "According to biblical sources, Ahab was the seventh king of Israel. The Bible states that Ahab was more evil than all of the kings before him ( 1Kgs 16:30 )\n",
      "Metrics:\t[0.42169159 0.42156352 0.40937727 0.40588491 0.31682714]\n",
      "----------------------- NEW DATASET OBJECT (Charles J. Hart ---- )-----------------------\n",
      "\n",
      "OLD TEXT:\n",
      "\n",
      "Charles James Hart Sr. (June 27, 1896 – December 22, 1971) was an American football coach.  He served as the second head football coach at Brigham Young University (BYU), coaching for three seasons from 1925 to 1927, and compiling a record of 6–12–2. He was a longtime figure in the physical education departments at BYU, remaining at the university until the 1960s.Register of the Department of Health, Physical Education and Recreation Department Chair Records, 1931-1971 (Provo, UT: Brigham Young University, 2004) Brigham Young University High School website (accessed Oct. 24, 2017)\n",
      "\n",
      "NEW TEXT:\n",
      "\n",
      "Charles James \"Chic\" Hart Sr. (June 27, 1896 – December 22, 1971) was an American football coach.  He served as the second head football coach at Brigham Young University (BYU), coaching for three seasons from 1925 to 1927, and compiling a record of 6–12–2. He was a longtime figure in the physical education departments at BYU, remaining at the university until the 1960s.Register of the Department of Health, Physical Education and Recreation Department Chair Records, 1931-1971 (Provo, UT: Brigham Young University, 2004) Brigham Young University High School website (accessed Oct. 24, 2017)\n",
      "\n",
      "DIFF:\t\"Chic\" \n",
      "\n",
      "Comment:\tadd nickname to lead, add ==External links== * {{Find a Grave|memorial}}\n",
      "\n",
      "DOCS:\n",
      "Charles Hart in Maryland. Find Charles Harts phone number, address, and email on Spokeo, the leading people search directory for contact information and public records\n",
      "\n",
      "Charles Hart in Virginia. Find Charles Harts phone number, address, and email on Spokeo, the leading people search directory for contact information and public records. (Page 2\n",
      "\n",
      "We learned that not only has Chic been pretending to be Charles Cooper all this time, but he also claims to have accidentally killed him during a heated argument. At least thats one story hes selling ― he also told Alice that her real son overdosed on jingle jangle, a fictional drug with a name we will never take seriously\n",
      "\n",
      "Charles J. Chic Lauer. June 18, 1929 - May 10, 2013. Obituary Schulte  Mahon-Murphy Funeral Home 5252 Mayfield Road, Lyndhurst, OH 4090 Mayfield Road, South Euclid, OH Phone: (440) 442-0000. Nicol-Wells-Kloss-Murphy Funeral Home 5252 Mayfield Road, Lyndhurst, OH 4090 Mayfield Road, South Euclid, OH Phone: (440\n",
      "\n",
      "Issa Rae cuts a casual-chic figure in red jumpsuit and black coat as she leads stars at Amazing Grace Conservatorys Home For The Holidays 25th anniversary celebration Advertisement\n",
      "Metrics:\t[0.0483511  0.04652146 0.02579258 0.02416027 0.02230702]\n",
      "----------------------- NEW DATASET OBJECT (Nine Percent ---- )-----------------------\n",
      "\n",
      "OLD TEXT:\n",
      "\n",
      "Nine Percent is a nine-member Chinese boy group formed by the survival show Idol Producer by iQiyi in 2018. They made their debut on November 20th with the single \"Rulebreaker\"\n",
      "\n",
      "NEW TEXT:\n",
      "\n",
      "Nine Percent is a nine-member Chinese boy group formed by the survival show Idol Producer by iQiyi in 2018. Their debut album \"To The Nines\" is out on November 20th with the single \"Rulebreaker\"\n",
      "\n",
      "DIFF:\talbum \"To The Nines\" is out \n",
      "\n",
      "Comment:\tfixed content\n",
      "\n",
      "DOCS:\n",
      "Nine Percent is a 9 member cpop project boy group. They were the final lineup. The fandom name is Nines. They had 2 albums, first called To The Nines (7\n",
      "\n",
      "songs from their first album, \"To the Nines\", such as \"Rule Breaker\" (创新者), \"Good Things\", and \"Inseparable… October 12, 2019\n",
      "\n",
      "To The Nines is the debut studio album by NINE PERCENT. It was released on November 20, 2018. Advertisement. Track list\n",
      "\n",
      "Nine Percent (Chinese: 百分九少年; commonly stylized as NINE PERCENT) was a. debut album To The Nines earning more than 10 million RMB in China alone.[1]\n",
      "\n",
      "Nov 8, 2018 — nine percent album details to the nines nine percent to the nines cai xukun chen linong fan chengcheng justin huang minghao lin yanjun zhu\n",
      "Metrics:\t[0.32086865 0.29859267 0.29272607 0.28961536 0.2805134 ]\n"
     ]
    }
   ],
   "source": [
    "df_sample = df.sample(30)\n",
    "for row_idx, row in df_sample.iterrows():\n",
    "    old = row['old_text']\n",
    "    new = row['new_text']\n",
    "    com = row['comment']\n",
    "    diff = row['diff']\n",
    "    docs = row['docs']\n",
    "    \n",
    "    diff_arr = diff.split('\\n')\n",
    "    diff_arr = [txt for txt in diff_arr if len(txt) > 20]\n",
    "    \n",
    "    final_docs = []\n",
    "    for doc in docs.split('\\n\\nDOC_DELIMITER_TOKEN\\n\\n'):\n",
    "        texts = doc.split('...')\n",
    "        final_sents = []\n",
    "        for txt in texts:\n",
    "            if len(txt) > 15:\n",
    "                if txt[-1] in punct_symbols:\n",
    "                    final_sents.append(txt.strip()[:-1])\n",
    "                else:\n",
    "                    final_sents.append(txt.strip())\n",
    "        final_text = '. '.join(final_sents)\n",
    "        if final_text not in final_docs:\n",
    "            final_docs.append(final_text)\n",
    "    final_docs = np.array(final_docs)\n",
    "    \n",
    "    vectorized_com = vectorizer.transform([com])\n",
    "    vectorized_docs = vectorizer.transform(final_docs)\n",
    "    \n",
    "    cs = np.abs(cosine_similarity(vectorized_com, vectorized_docs))[0]\n",
    "    if len(diff_arr) > 0:\n",
    "        vectorized_diffs = vectorizer.transform(diff_arr)\n",
    "        cs2 = np.max(np.abs(cosine_similarity(vectorized_diffs, vectorized_docs)), axis=0)\n",
    "        cs += cs2\n",
    "    idxs = np.argsort(cs)[-5:][::-1]\n",
    "    docs = '\\n\\n'.join(final_docs[idxs])\n",
    "    \n",
    "    print(f'----------------------- NEW DATASET OBJECT ({row[\"title\"]} ---- {row[\"section_name\"]})-----------------------\\n')\n",
    "    print(f\"OLD TEXT:\\n\\n{old}\\n\\nNEW TEXT:\\n\\n{new}\\n\\nDIFF:\\t{diff}\\n\\nComment:\\t{com}\\n\\nDOCS:\\n{docs}\\nMetrics:\\t{cs[idxs]}\")"
   ]
  },
  {
   "cell_type": "markdown",
   "metadata": {},
   "source": [
    "## Docs preparing"
   ]
  },
  {
   "cell_type": "code",
   "execution_count": 16,
   "metadata": {},
   "outputs": [],
   "source": [
    "NUM_DOCS = 6\n",
    "def process_docs(row):\n",
    "    old = row['old_text']\n",
    "    new = row['new_text']\n",
    "    com = row['comment']\n",
    "    diff = row['diff']\n",
    "    docs = row['docs']\n",
    "    \n",
    "    diff_arr = diff.split('\\n')\n",
    "    diff_arr = [txt for txt in diff_arr if len(txt) > 20]\n",
    "    \n",
    "    final_docs = []\n",
    "    for doc in docs.split('\\n\\nDOC_DELIMITER_TOKEN\\n\\n'):\n",
    "        texts = doc.split('...')\n",
    "        final_sents = []\n",
    "        for txt in texts:\n",
    "            if len(txt) > 15:\n",
    "                if txt[-1] in punct_symbols:\n",
    "                    final_sents.append(txt.strip()[:-1])\n",
    "                else:\n",
    "                    final_sents.append(txt.strip())\n",
    "        final_text = '. '.join(final_sents)\n",
    "        if final_text not in final_docs:\n",
    "            final_docs.append(final_text)\n",
    "    final_docs = np.array(final_docs)\n",
    "    \n",
    "    vectorized_com = vectorizer.transform([com])\n",
    "    vectorized_docs = vectorizer.transform(final_docs)\n",
    "    \n",
    "    cs = np.abs(cosine_similarity(vectorized_com, vectorized_docs))[0]\n",
    "    if len(diff_arr) > 0:\n",
    "        vectorized_diffs = vectorizer.transform(diff_arr)\n",
    "        cs2 = np.max(np.abs(cosine_similarity(vectorized_diffs, vectorized_docs)), axis=0)\n",
    "        cs += cs2\n",
    "    idxs = np.argsort(cs)[-NUM_DOCS:][::-1]\n",
    "    docs_text = ''\n",
    "    for doc_idx, doc in enumerate(idxs):\n",
    "        doc_text = final_docs[doc_idx]\n",
    "        docs_text += f'DOC{doc_idx}: {doc_text} '\n",
    "    docs_text = docs_text.strip()    \n",
    "    return docs_text"
   ]
  },
  {
   "cell_type": "code",
   "execution_count": 17,
   "metadata": {
    "scrolled": false
   },
   "outputs": [
    {
     "data": {
      "text/plain": [
       "'DOC0: The show opens with Siren leader Sin Cinnamon narrating a warning about their power over the sea. Soon afterwards, the adventuring pirate Eros boards the Siren ship The Song, after which he is discovered and overwhelmed by its crew. Eros is bound to the mast and demands his release, threatening the Sirens with the wrath of Captain Mack DOC1: At that time, the show was presented four times daily, at 7, 8:30, 10 and 11:30 p.m. Beginning November 3, 2008, the show was presented at 5:30, 7, 8:30 and 10 p.m. daily. [6] On October 20, 2013, the show was halted for what was intended to be a temporary closure until December 26, for the construction of retail space nearby DOC2: The L.A. Times is a leading source of breaking news, entertainment, sports, politics, and more for Southern California and the world DOC3: Spend at least 20 seconds scrubbing with soap and water, or use a hand sanitizer if you dont have access to soap and water, Ferrer said. Its also a good idea to disinfect commonly touched DOC4: Where readers say solar and wind power should go - Los Angeles Times Letters to the Editor Letters to the Editor: We asked readers where to get wind and solar energy. Here are your ideas DOC5: There is however a new attraction at TI based around the Avengers. It describes itself as an immersive experience where you are invited into the Avengers training station. Adult tickets cost $34 (2016 prices) LOCATION  CONTACT Address: Treasure Island Resort  Casino, 3300 Las Vegas Boulevard South, Las Vegas, NV 89109, USA Tel: +1 702 894 7111'"
      ]
     },
     "execution_count": 17,
     "metadata": {},
     "output_type": "execute_result"
    }
   ],
   "source": [
    "process_docs(df.iloc[1])"
   ]
  },
  {
   "cell_type": "code",
   "execution_count": 18,
   "metadata": {},
   "outputs": [],
   "source": [
    "df['docs_processed'] = df.apply(lambda x: process_docs(x), axis=1)"
   ]
  },
  {
   "cell_type": "code",
   "execution_count": 19,
   "metadata": {},
   "outputs": [
    {
     "data": {
      "text/html": [
       "<div>\n",
       "<style scoped>\n",
       "    .dataframe tbody tr th:only-of-type {\n",
       "        vertical-align: middle;\n",
       "    }\n",
       "\n",
       "    .dataframe tbody tr th {\n",
       "        vertical-align: top;\n",
       "    }\n",
       "\n",
       "    .dataframe thead th {\n",
       "        text-align: right;\n",
       "    }\n",
       "</style>\n",
       "<table border=\"1\" class=\"dataframe\">\n",
       "  <thead>\n",
       "    <tr style=\"text-align: right;\">\n",
       "      <th></th>\n",
       "      <th>obj_id</th>\n",
       "      <th>old_text</th>\n",
       "      <th>new_text</th>\n",
       "      <th>comment</th>\n",
       "      <th>docs</th>\n",
       "      <th>diff</th>\n",
       "      <th>title</th>\n",
       "      <th>search_queries</th>\n",
       "      <th>counter_found_docs</th>\n",
       "      <th>section_name</th>\n",
       "      <th>is_good</th>\n",
       "      <th>docs_processed</th>\n",
       "    </tr>\n",
       "  </thead>\n",
       "  <tbody>\n",
       "    <tr>\n",
       "      <th>0</th>\n",
       "      <td>3571</td>\n",
       "      <td>__NOTOC__\\n\\nThe Pacific Coast Marine Firemen,...</td>\n",
       "      <td>__NOTOC__\\n\\nThe Pacific Coast Marine Firemen,...</td>\n",
       "      <td>edited links.</td>\n",
       "      <td>The Pacific Coast Marine Firemen, Oilers, Wate...</td>\n",
       "      <td>, commonly\\n, is an</td>\n",
       "      <td>Marine Firemen's Union</td>\n",
       "      <td>[Marine Firemen's Union , commonly, Marine Fir...</td>\n",
       "      <td>[29, 23]</td>\n",
       "      <td></td>\n",
       "      <td>True</td>\n",
       "      <td>DOC0: The Pacific Coast Marine Firemen, Oilers...</td>\n",
       "    </tr>\n",
       "    <tr>\n",
       "      <th>1</th>\n",
       "      <td>14256</td>\n",
       "      <td>Soon after its premiere, Martin Stein wrote \"S...</td>\n",
       "      <td>Soon after its premiere, Martin Stein wrote \"S...</td>\n",
       "      <td>/* Reception */ Added LAT.</td>\n",
       "      <td>The show opens with Siren leader Sin Cinnamon ...</td>\n",
       "      <td>The Los Angeles Times advised readers to avoid...</td>\n",
       "      <td>Sirens of TI</td>\n",
       "      <td>[Sirens of TI Reception The Los Angeles Times ...</td>\n",
       "      <td>[29]</td>\n",
       "      <td>Reception</td>\n",
       "      <td>True</td>\n",
       "      <td>DOC0: The show opens with Siren leader Sin Cin...</td>\n",
       "    </tr>\n",
       "    <tr>\n",
       "      <th>2</th>\n",
       "      <td>17990</td>\n",
       "      <td>The film was released to DVD on June 12, 2007....</td>\n",
       "      <td>The film was released to DVD on June 12, 2007....</td>\n",
       "      <td>/* Release */ fixes</td>\n",
       "      <td>Romeo  Juliet: Sealed with a Kiss is a 2006 Am...</td>\n",
       "      <td>praising its amount of \\nonus content for a\\nc...</td>\n",
       "      <td>Romeo &amp; Juliet: Sealed with a Kiss</td>\n",
       "      <td>[Romeo &amp; Juliet: Sealed with a Kiss Home media...</td>\n",
       "      <td>[29, 12, 20]</td>\n",
       "      <td>Home media</td>\n",
       "      <td>True</td>\n",
       "      <td>DOC0: Romeo  Juliet: Sealed with a Kiss is a 2...</td>\n",
       "    </tr>\n",
       "    <tr>\n",
       "      <th>4</th>\n",
       "      <td>10259</td>\n",
       "      <td>Dallasaurus is a basal mosasauroid from the Up...</td>\n",
       "      <td>Dallasaurus (\"Dallas lizard\") is a basal mosas...</td>\n",
       "      <td>Adding a definition to the lead.</td>\n",
       "      <td>Dallasaurus (Dallas lizard) is a basal mosasau...</td>\n",
       "      <td>(\"Dallas lizard\") is a</td>\n",
       "      <td>Dallasaurus</td>\n",
       "      <td>[Dallasaurus (\"Dallas lizard\") is a]</td>\n",
       "      <td>[18]</td>\n",
       "      <td></td>\n",
       "      <td>True</td>\n",
       "      <td>DOC0: Dallasaurus (Dallas lizard) is a basal m...</td>\n",
       "    </tr>\n",
       "    <tr>\n",
       "      <th>5</th>\n",
       "      <td>5712</td>\n",
       "      <td>The Vaiphei are an ethnic group who inhabit th...</td>\n",
       "      <td>The Vaiphei are an ethnic group who inhabit th...</td>\n",
       "      <td>rv unexplained edit  contradicting source, but...</td>\n",
       "      <td>Colonel J. Shakespeare (1887-1905), the first ...</td>\n",
       "      <td>Lt. Colonel J. Shakespeare (1887–1905), the fi...</td>\n",
       "      <td>Vaiphei people</td>\n",
       "      <td>[Vaiphei people Lt. Colonel J. Shakespeare (18...</td>\n",
       "      <td>[28, 26]</td>\n",
       "      <td></td>\n",
       "      <td>True</td>\n",
       "      <td>DOC0: Colonel J. Shakespeare (1887-1905), the ...</td>\n",
       "    </tr>\n",
       "  </tbody>\n",
       "</table>\n",
       "</div>"
      ],
      "text/plain": [
       "  obj_id                                           old_text  \\\n",
       "0   3571  __NOTOC__\\n\\nThe Pacific Coast Marine Firemen,...   \n",
       "1  14256  Soon after its premiere, Martin Stein wrote \"S...   \n",
       "2  17990  The film was released to DVD on June 12, 2007....   \n",
       "4  10259  Dallasaurus is a basal mosasauroid from the Up...   \n",
       "5   5712  The Vaiphei are an ethnic group who inhabit th...   \n",
       "\n",
       "                                            new_text  \\\n",
       "0  __NOTOC__\\n\\nThe Pacific Coast Marine Firemen,...   \n",
       "1  Soon after its premiere, Martin Stein wrote \"S...   \n",
       "2  The film was released to DVD on June 12, 2007....   \n",
       "4  Dallasaurus (\"Dallas lizard\") is a basal mosas...   \n",
       "5  The Vaiphei are an ethnic group who inhabit th...   \n",
       "\n",
       "                                             comment  \\\n",
       "0                                      edited links.   \n",
       "1                         /* Reception */ Added LAT.   \n",
       "2                                /* Release */ fixes   \n",
       "4                   Adding a definition to the lead.   \n",
       "5  rv unexplained edit  contradicting source, but...   \n",
       "\n",
       "                                                docs  \\\n",
       "0  The Pacific Coast Marine Firemen, Oilers, Wate...   \n",
       "1  The show opens with Siren leader Sin Cinnamon ...   \n",
       "2  Romeo  Juliet: Sealed with a Kiss is a 2006 Am...   \n",
       "4  Dallasaurus (Dallas lizard) is a basal mosasau...   \n",
       "5  Colonel J. Shakespeare (1887-1905), the first ...   \n",
       "\n",
       "                                                diff  \\\n",
       "0                                , commonly\\n, is an   \n",
       "1  The Los Angeles Times advised readers to avoid...   \n",
       "2  praising its amount of \\nonus content for a\\nc...   \n",
       "4                             (\"Dallas lizard\") is a   \n",
       "5  Lt. Colonel J. Shakespeare (1887–1905), the fi...   \n",
       "\n",
       "                                title  \\\n",
       "0              Marine Firemen's Union   \n",
       "1                        Sirens of TI   \n",
       "2  Romeo & Juliet: Sealed with a Kiss   \n",
       "4                         Dallasaurus   \n",
       "5                      Vaiphei people   \n",
       "\n",
       "                                      search_queries counter_found_docs  \\\n",
       "0  [Marine Firemen's Union , commonly, Marine Fir...           [29, 23]   \n",
       "1  [Sirens of TI Reception The Los Angeles Times ...               [29]   \n",
       "2  [Romeo & Juliet: Sealed with a Kiss Home media...       [29, 12, 20]   \n",
       "4               [Dallasaurus (\"Dallas lizard\") is a]               [18]   \n",
       "5  [Vaiphei people Lt. Colonel J. Shakespeare (18...           [28, 26]   \n",
       "\n",
       "  section_name  is_good                                     docs_processed  \n",
       "0                  True  DOC0: The Pacific Coast Marine Firemen, Oilers...  \n",
       "1    Reception     True  DOC0: The show opens with Siren leader Sin Cin...  \n",
       "2   Home media     True  DOC0: Romeo  Juliet: Sealed with a Kiss is a 2...  \n",
       "4                  True  DOC0: Dallasaurus (Dallas lizard) is a basal m...  \n",
       "5                  True  DOC0: Colonel J. Shakespeare (1887-1905), the ...  "
      ]
     },
     "execution_count": 19,
     "metadata": {},
     "output_type": "execute_result"
    }
   ],
   "source": [
    "df.head()"
   ]
  },
  {
   "cell_type": "code",
   "execution_count": 20,
   "metadata": {},
   "outputs": [
    {
     "data": {
      "text/plain": [
       "'DOC0: The Pacific Coast Marine Firemen, Oilers, Watertenders and Wipers Association, commonly referred to as the Marine Firemens Union, represents unlicensed merchant mariners who work in the engine department aboard a variety of ships. The union was formed October 1883 in San Francisco, California. The founding members were firemen on Pacif MISSION DOC1: The Pacific Coast Marine Firemen, Oilers, Watertenders and Wipers Association (MFOW), commonly referred to as the Marine Firemens Union, is an American labor union of mariners working aboard U.S. flag vessels. [1] The Marine Firemens Union is an affiliate union of the Seafarers International Union of North America AFL-CIO  DOC2: The Pacific Coast Marine Firemen, Oilers, Watertenders and Wipers Association , commonly referred to as the Marine Firemens Union, is an American labor union of mariners working aboard U.S. flag vessels.[1] The Marine Firemens Union is an affiliate union of the Seafarers International Union of North America AFL-CIO DOC3: The Pacific Coast Marine Firemen, Oilers, Watertenders and Wipers Association (MFOW), commonly referred to as the Marine Firemens Union, is an American labor union of mariners working aboard U.S. flag vessels. The Marine Firemens Union is an affiliate union of the Seafarers International Union of North America AFL-CIO.. The union was formed in San Francisco, California in October, 1883, by DOC4: The Marine Firemens Union dispatches members and non-seniority applicants to billets aboard vessels operated by contracted shipping companies. The union utilizes a seniority-based rotary dispatch system. The selection and eventual membership status of non-seniority applicants is determined by the union on an as needed basis DOC5: The Pacific Coast Marine Firemen, Oilers, Watertenders and Wipers Association (MFOW), commonly referred to as the Marine Firemens Union, is an American labor union of mariners working aboard U.S. flag vessels. The Marine Firemens Union is an affiliate union of the Seafarers International Union of'"
      ]
     },
     "execution_count": 20,
     "metadata": {},
     "output_type": "execute_result"
    }
   ],
   "source": [
    "df.docs_processed.iloc[0]"
   ]
  },
  {
   "cell_type": "markdown",
   "metadata": {},
   "source": [
    "## Train / test / val split"
   ]
  },
  {
   "cell_type": "code",
   "execution_count": 21,
   "metadata": {},
   "outputs": [
    {
     "name": "stdout",
     "output_type": "stream",
     "text": [
      "(78300, 12) (8700, 12)\n"
     ]
    }
   ],
   "source": [
    "from sklearn.model_selection import train_test_split\n",
    "\n",
    "train, test = train_test_split(df, test_size=0.1, random_state=42)\n",
    "print(train.shape, test.shape)"
   ]
  },
  {
   "cell_type": "code",
   "execution_count": 22,
   "metadata": {},
   "outputs": [
    {
     "name": "stdout",
     "output_type": "stream",
     "text": [
      "(69600, 12) (8700, 12) (8700, 12)\n"
     ]
    }
   ],
   "source": [
    "train, val = train_test_split(train, test_size=test.shape[0], random_state=42)\n",
    "print(train.shape, test.shape, val.shape)"
   ]
  },
  {
   "cell_type": "code",
   "execution_count": 23,
   "metadata": {},
   "outputs": [],
   "source": [
    "columns = df.columns.values\n",
    "idx2colname = {k:v for k, v in enumerate(columns)}\n",
    "\n",
    "with open(\"data/column_mapper.json\", \"w\") as outfile:\n",
    "    json.dump(idx2colname, outfile)"
   ]
  },
  {
   "cell_type": "code",
   "execution_count": 24,
   "metadata": {},
   "outputs": [],
   "source": [
    "train.to_json(r'data/train.json', orient='values')\n",
    "test.to_json(r'data/test.json', orient='values')\n",
    "val.to_json(r'data/val.json', orient='values')"
   ]
  },
  {
   "cell_type": "code",
   "execution_count": null,
   "metadata": {},
   "outputs": [],
   "source": []
  },
  {
   "cell_type": "code",
   "execution_count": null,
   "metadata": {},
   "outputs": [],
   "source": []
  },
  {
   "cell_type": "code",
   "execution_count": null,
   "metadata": {},
   "outputs": [],
   "source": []
  },
  {
   "cell_type": "code",
   "execution_count": null,
   "metadata": {},
   "outputs": [],
   "source": []
  },
  {
   "cell_type": "code",
   "execution_count": 52,
   "metadata": {},
   "outputs": [],
   "source": [
    "mp = json.load(open(r\"data/column_mapper.json\"))\n",
    "a = pd.read_json(r'data/train.json').head()"
   ]
  },
  {
   "cell_type": "code",
   "execution_count": 56,
   "metadata": {},
   "outputs": [],
   "source": [
    "a.set_axis(mp.values(), axis='columns', inplace=True)"
   ]
  },
  {
   "cell_type": "code",
   "execution_count": 57,
   "metadata": {},
   "outputs": [
    {
     "data": {
      "text/html": [
       "<div>\n",
       "<style scoped>\n",
       "    .dataframe tbody tr th:only-of-type {\n",
       "        vertical-align: middle;\n",
       "    }\n",
       "\n",
       "    .dataframe tbody tr th {\n",
       "        vertical-align: top;\n",
       "    }\n",
       "\n",
       "    .dataframe thead th {\n",
       "        text-align: right;\n",
       "    }\n",
       "</style>\n",
       "<table border=\"1\" class=\"dataframe\">\n",
       "  <thead>\n",
       "    <tr style=\"text-align: right;\">\n",
       "      <th></th>\n",
       "      <th>obj_id</th>\n",
       "      <th>old_text</th>\n",
       "      <th>new_text</th>\n",
       "      <th>comment</th>\n",
       "      <th>docs</th>\n",
       "      <th>diff</th>\n",
       "      <th>title</th>\n",
       "      <th>search_queries</th>\n",
       "      <th>counter_found_docs</th>\n",
       "      <th>section_name</th>\n",
       "      <th>is_good</th>\n",
       "      <th>docs_processed</th>\n",
       "    </tr>\n",
       "  </thead>\n",
       "  <tbody>\n",
       "    <tr>\n",
       "      <th>0</th>\n",
       "      <td>3571</td>\n",
       "      <td>__NOTOC__\\n\\nThe Pacific Coast Marine Firemen,...</td>\n",
       "      <td>__NOTOC__\\n\\nThe Pacific Coast Marine Firemen,...</td>\n",
       "      <td>edited links.</td>\n",
       "      <td>The Pacific Coast Marine Firemen, Oilers, Wate...</td>\n",
       "      <td>, commonly\\n, is an</td>\n",
       "      <td>Marine Firemen's Union</td>\n",
       "      <td>[Marine Firemen's Union , commonly, Marine Fir...</td>\n",
       "      <td>[29, 23]</td>\n",
       "      <td></td>\n",
       "      <td>True</td>\n",
       "      <td>DOC0: The Pacific Coast Marine Firemen, Oilers...</td>\n",
       "    </tr>\n",
       "    <tr>\n",
       "      <th>1</th>\n",
       "      <td>14256</td>\n",
       "      <td>Soon after its premiere, Martin Stein wrote \"S...</td>\n",
       "      <td>Soon after its premiere, Martin Stein wrote \"S...</td>\n",
       "      <td>/* Reception */ Added LAT.</td>\n",
       "      <td>The show opens with Siren leader Sin Cinnamon ...</td>\n",
       "      <td>The Los Angeles Times advised readers to avoid...</td>\n",
       "      <td>Sirens of TI</td>\n",
       "      <td>[Sirens of TI Reception The Los Angeles Times ...</td>\n",
       "      <td>[29]</td>\n",
       "      <td>Reception</td>\n",
       "      <td>True</td>\n",
       "      <td>DOC0: The show opens with Siren leader Sin Cin...</td>\n",
       "    </tr>\n",
       "    <tr>\n",
       "      <th>2</th>\n",
       "      <td>17990</td>\n",
       "      <td>The film was released to DVD on June 12, 2007....</td>\n",
       "      <td>The film was released to DVD on June 12, 2007....</td>\n",
       "      <td>/* Release */ fixes</td>\n",
       "      <td>Romeo  Juliet: Sealed with a Kiss is a 2006 Am...</td>\n",
       "      <td>praising its amount of \\nonus content for a\\nc...</td>\n",
       "      <td>Romeo &amp; Juliet: Sealed with a Kiss</td>\n",
       "      <td>[Romeo &amp; Juliet: Sealed with a Kiss Home media...</td>\n",
       "      <td>[29, 12, 20]</td>\n",
       "      <td>Home media</td>\n",
       "      <td>True</td>\n",
       "      <td>DOC0: Romeo  Juliet: Sealed with a Kiss is a 2...</td>\n",
       "    </tr>\n",
       "    <tr>\n",
       "      <th>3</th>\n",
       "      <td>10259</td>\n",
       "      <td>Dallasaurus is a basal mosasauroid from the Up...</td>\n",
       "      <td>Dallasaurus (\"Dallas lizard\") is a basal mosas...</td>\n",
       "      <td>Adding a definition to the lead.</td>\n",
       "      <td>Dallasaurus (Dallas lizard) is a basal mosasau...</td>\n",
       "      <td>(\"Dallas lizard\") is a</td>\n",
       "      <td>Dallasaurus</td>\n",
       "      <td>[Dallasaurus (\"Dallas lizard\") is a]</td>\n",
       "      <td>[18]</td>\n",
       "      <td></td>\n",
       "      <td>True</td>\n",
       "      <td>DOC0: Dallasaurus (Dallas lizard) is a basal m...</td>\n",
       "    </tr>\n",
       "    <tr>\n",
       "      <th>4</th>\n",
       "      <td>5712</td>\n",
       "      <td>The Vaiphei are an ethnic group who inhabit th...</td>\n",
       "      <td>The Vaiphei are an ethnic group who inhabit th...</td>\n",
       "      <td>rv unexplained edit  contradicting source, but...</td>\n",
       "      <td>Colonel J. Shakespeare (1887-1905), the first ...</td>\n",
       "      <td>Lt. Colonel J. Shakespeare (1887–1905), the fi...</td>\n",
       "      <td>Vaiphei people</td>\n",
       "      <td>[Vaiphei people Lt. Colonel J. Shakespeare (18...</td>\n",
       "      <td>[28, 26]</td>\n",
       "      <td></td>\n",
       "      <td>True</td>\n",
       "      <td>DOC0: Colonel J. Shakespeare (1887-1905), the ...</td>\n",
       "    </tr>\n",
       "  </tbody>\n",
       "</table>\n",
       "</div>"
      ],
      "text/plain": [
       "   obj_id                                           old_text  \\\n",
       "0    3571  __NOTOC__\\n\\nThe Pacific Coast Marine Firemen,...   \n",
       "1   14256  Soon after its premiere, Martin Stein wrote \"S...   \n",
       "2   17990  The film was released to DVD on June 12, 2007....   \n",
       "3   10259  Dallasaurus is a basal mosasauroid from the Up...   \n",
       "4    5712  The Vaiphei are an ethnic group who inhabit th...   \n",
       "\n",
       "                                            new_text  \\\n",
       "0  __NOTOC__\\n\\nThe Pacific Coast Marine Firemen,...   \n",
       "1  Soon after its premiere, Martin Stein wrote \"S...   \n",
       "2  The film was released to DVD on June 12, 2007....   \n",
       "3  Dallasaurus (\"Dallas lizard\") is a basal mosas...   \n",
       "4  The Vaiphei are an ethnic group who inhabit th...   \n",
       "\n",
       "                                             comment  \\\n",
       "0                                      edited links.   \n",
       "1                         /* Reception */ Added LAT.   \n",
       "2                                /* Release */ fixes   \n",
       "3                   Adding a definition to the lead.   \n",
       "4  rv unexplained edit  contradicting source, but...   \n",
       "\n",
       "                                                docs  \\\n",
       "0  The Pacific Coast Marine Firemen, Oilers, Wate...   \n",
       "1  The show opens with Siren leader Sin Cinnamon ...   \n",
       "2  Romeo  Juliet: Sealed with a Kiss is a 2006 Am...   \n",
       "3  Dallasaurus (Dallas lizard) is a basal mosasau...   \n",
       "4  Colonel J. Shakespeare (1887-1905), the first ...   \n",
       "\n",
       "                                                diff  \\\n",
       "0                                , commonly\\n, is an   \n",
       "1  The Los Angeles Times advised readers to avoid...   \n",
       "2  praising its amount of \\nonus content for a\\nc...   \n",
       "3                             (\"Dallas lizard\") is a   \n",
       "4  Lt. Colonel J. Shakespeare (1887–1905), the fi...   \n",
       "\n",
       "                                title  \\\n",
       "0              Marine Firemen's Union   \n",
       "1                        Sirens of TI   \n",
       "2  Romeo & Juliet: Sealed with a Kiss   \n",
       "3                         Dallasaurus   \n",
       "4                      Vaiphei people   \n",
       "\n",
       "                                      search_queries counter_found_docs  \\\n",
       "0  [Marine Firemen's Union , commonly, Marine Fir...           [29, 23]   \n",
       "1  [Sirens of TI Reception The Los Angeles Times ...               [29]   \n",
       "2  [Romeo & Juliet: Sealed with a Kiss Home media...       [29, 12, 20]   \n",
       "3               [Dallasaurus (\"Dallas lizard\") is a]               [18]   \n",
       "4  [Vaiphei people Lt. Colonel J. Shakespeare (18...           [28, 26]   \n",
       "\n",
       "  section_name  is_good                                     docs_processed  \n",
       "0                  True  DOC0: The Pacific Coast Marine Firemen, Oilers...  \n",
       "1    Reception     True  DOC0: The show opens with Siren leader Sin Cin...  \n",
       "2   Home media     True  DOC0: Romeo  Juliet: Sealed with a Kiss is a 2...  \n",
       "3                  True  DOC0: Dallasaurus (Dallas lizard) is a basal m...  \n",
       "4                  True  DOC0: Colonel J. Shakespeare (1887-1905), the ...  "
      ]
     },
     "execution_count": 57,
     "metadata": {},
     "output_type": "execute_result"
    }
   ],
   "source": [
    "a.head()"
   ]
  },
  {
   "cell_type": "code",
   "execution_count": null,
   "metadata": {},
   "outputs": [],
   "source": []
  }
 ],
 "metadata": {
  "kernelspec": {
   "display_name": "Python 3",
   "language": "python",
   "name": "python3"
  },
  "language_info": {
   "codemirror_mode": {
    "name": "ipython",
    "version": 3
   },
   "file_extension": ".py",
   "mimetype": "text/x-python",
   "name": "python",
   "nbconvert_exporter": "python",
   "pygments_lexer": "ipython3",
   "version": "3.7.7"
  }
 },
 "nbformat": 4,
 "nbformat_minor": 4
}
