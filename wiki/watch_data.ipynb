{
 "cells": [
  {
   "cell_type": "code",
   "execution_count": 1,
   "metadata": {},
   "outputs": [],
   "source": [
    "import re\n",
    "import os\n",
    "import torch\n",
    "import json\n",
    "import pandas as pd\n",
    "import numpy as np\n",
    "import seaborn as sns\n",
    "import matplotlib.pyplot as plt\n",
    "\n",
    "from transformers import T5TokenizerFast, T5ForConditionalGeneration\n",
    "from tqdm.notebook import tqdm\n",
    "from collections import Counter\n",
    "from torch import nn\n",
    "from catalyst import dl\n",
    "from langdetect import detect\n",
    "from nltk.tokenize import sent_tokenize, word_tokenize\n",
    "\n",
    "DOCS_DIR = 'data/final_data/documents'\n",
    "PAGES_DIR = 'data/final_data/revision'\n",
    "CHUNKS = sorted(os.listdir(DOCS_DIR))"
   ]
  },
  {
   "cell_type": "code",
   "execution_count": 2,
   "metadata": {},
   "outputs": [
    {
     "data": {
      "application/vnd.jupyter.widget-view+json": {
       "model_id": "3179e951193d488889b90143335ec6f4",
       "version_major": 2,
       "version_minor": 0
      },
      "text/plain": [
       "HBox(children=(FloatProgress(value=0.0, max=5639.0), HTML(value='')))"
      ]
     },
     "metadata": {},
     "output_type": "display_data"
    },
    {
     "name": "stdout",
     "output_type": "stream",
     "text": [
      "\n"
     ]
    },
    {
     "data": {
      "application/vnd.jupyter.widget-view+json": {
       "model_id": "e4c5df58268b4992b44d124c96f32f35",
       "version_major": 2,
       "version_minor": 0
      },
      "text/plain": [
       "HBox(children=(FloatProgress(value=0.0, max=4139.0), HTML(value='')))"
      ]
     },
     "metadata": {},
     "output_type": "display_data"
    },
    {
     "name": "stdout",
     "output_type": "stream",
     "text": [
      "\n"
     ]
    },
    {
     "data": {
      "application/vnd.jupyter.widget-view+json": {
       "model_id": "6d2301017f9640a5a8f8528810e0d7dc",
       "version_major": 2,
       "version_minor": 0
      },
      "text/plain": [
       "HBox(children=(FloatProgress(value=0.0, max=1189.0), HTML(value='')))"
      ]
     },
     "metadata": {},
     "output_type": "display_data"
    },
    {
     "name": "stdout",
     "output_type": "stream",
     "text": [
      "\n"
     ]
    },
    {
     "data": {
      "application/vnd.jupyter.widget-view+json": {
       "model_id": "04a5dffcdcba4c66b662d17702123556",
       "version_major": 2,
       "version_minor": 0
      },
      "text/plain": [
       "HBox(children=(FloatProgress(value=0.0, max=3299.0), HTML(value='')))"
      ]
     },
     "metadata": {},
     "output_type": "display_data"
    },
    {
     "name": "stdout",
     "output_type": "stream",
     "text": [
      "\n"
     ]
    },
    {
     "data": {
      "application/vnd.jupyter.widget-view+json": {
       "model_id": "bdbce1ce14604abeb688cb2a01f136a9",
       "version_major": 2,
       "version_minor": 0
      },
      "text/plain": [
       "HBox(children=(FloatProgress(value=0.0, max=1340.0), HTML(value='')))"
      ]
     },
     "metadata": {},
     "output_type": "display_data"
    },
    {
     "name": "stdout",
     "output_type": "stream",
     "text": [
      "\n"
     ]
    },
    {
     "data": {
      "application/vnd.jupyter.widget-view+json": {
       "model_id": "d810cfefd858415198912ecefa59ea86",
       "version_major": 2,
       "version_minor": 0
      },
      "text/plain": [
       "HBox(children=(FloatProgress(value=0.0, max=4121.0), HTML(value='')))"
      ]
     },
     "metadata": {},
     "output_type": "display_data"
    },
    {
     "name": "stdout",
     "output_type": "stream",
     "text": [
      "\n"
     ]
    },
    {
     "data": {
      "application/vnd.jupyter.widget-view+json": {
       "model_id": "17a4281717994a779cb2bebd19790341",
       "version_major": 2,
       "version_minor": 0
      },
      "text/plain": [
       "HBox(children=(FloatProgress(value=0.0, max=2749.0), HTML(value='')))"
      ]
     },
     "metadata": {},
     "output_type": "display_data"
    },
    {
     "name": "stdout",
     "output_type": "stream",
     "text": [
      "\n"
     ]
    },
    {
     "data": {
      "application/vnd.jupyter.widget-view+json": {
       "model_id": "c3657a62f93a4916af204face53dcccb",
       "version_major": 2,
       "version_minor": 0
      },
      "text/plain": [
       "HBox(children=(FloatProgress(value=0.0, max=1308.0), HTML(value='')))"
      ]
     },
     "metadata": {},
     "output_type": "display_data"
    },
    {
     "name": "stdout",
     "output_type": "stream",
     "text": [
      "\n"
     ]
    },
    {
     "data": {
      "application/vnd.jupyter.widget-view+json": {
       "model_id": "1179f47cb9ce43c881e33d5c33717553",
       "version_major": 2,
       "version_minor": 0
      },
      "text/plain": [
       "HBox(children=(FloatProgress(value=0.0, max=6644.0), HTML(value='')))"
      ]
     },
     "metadata": {},
     "output_type": "display_data"
    },
    {
     "name": "stdout",
     "output_type": "stream",
     "text": [
      "\n"
     ]
    },
    {
     "data": {
      "application/vnd.jupyter.widget-view+json": {
       "model_id": "fc6452e50fb947b7968236b2270c417e",
       "version_major": 2,
       "version_minor": 0
      },
      "text/plain": [
       "HBox(children=(FloatProgress(value=0.0, max=20.0), HTML(value='')))"
      ]
     },
     "metadata": {},
     "output_type": "display_data"
    },
    {
     "name": "stdout",
     "output_type": "stream",
     "text": [
      "\n"
     ]
    },
    {
     "data": {
      "application/vnd.jupyter.widget-view+json": {
       "model_id": "25fe7e3ff258459394b4c49cb76c2ae7",
       "version_major": 2,
       "version_minor": 0
      },
      "text/plain": [
       "HBox(children=(FloatProgress(value=0.0, max=40.0), HTML(value='')))"
      ]
     },
     "metadata": {},
     "output_type": "display_data"
    },
    {
     "name": "stdout",
     "output_type": "stream",
     "text": [
      "\n"
     ]
    },
    {
     "data": {
      "application/vnd.jupyter.widget-view+json": {
       "model_id": "4ff2f9fbca7641c2a84a2f4df3952129",
       "version_major": 2,
       "version_minor": 0
      },
      "text/plain": [
       "HBox(children=(FloatProgress(value=0.0, max=1197.0), HTML(value='')))"
      ]
     },
     "metadata": {},
     "output_type": "display_data"
    },
    {
     "name": "stdout",
     "output_type": "stream",
     "text": [
      "\n"
     ]
    },
    {
     "data": {
      "application/vnd.jupyter.widget-view+json": {
       "model_id": "073e0c792dc04869bbde9cd6602664c3",
       "version_major": 2,
       "version_minor": 0
      },
      "text/plain": [
       "HBox(children=(FloatProgress(value=0.0, max=2775.0), HTML(value='')))"
      ]
     },
     "metadata": {},
     "output_type": "display_data"
    },
    {
     "name": "stdout",
     "output_type": "stream",
     "text": [
      "\n"
     ]
    },
    {
     "data": {
      "application/vnd.jupyter.widget-view+json": {
       "model_id": "1b9bd3bbf3334246a3910f5e2e539c0b",
       "version_major": 2,
       "version_minor": 0
      },
      "text/plain": [
       "HBox(children=(FloatProgress(value=0.0, max=8251.0), HTML(value='')))"
      ]
     },
     "metadata": {},
     "output_type": "display_data"
    },
    {
     "name": "stdout",
     "output_type": "stream",
     "text": [
      "\n"
     ]
    },
    {
     "data": {
      "application/vnd.jupyter.widget-view+json": {
       "model_id": "3401f81290ff4473b529c594602f4b3e",
       "version_major": 2,
       "version_minor": 0
      },
      "text/plain": [
       "HBox(children=(FloatProgress(value=0.0, max=31.0), HTML(value='')))"
      ]
     },
     "metadata": {},
     "output_type": "display_data"
    },
    {
     "name": "stdout",
     "output_type": "stream",
     "text": [
      "\n"
     ]
    },
    {
     "data": {
      "application/vnd.jupyter.widget-view+json": {
       "model_id": "075f2c02ebb4441e8e2d5e4907ef3e73",
       "version_major": 2,
       "version_minor": 0
      },
      "text/plain": [
       "HBox(children=(FloatProgress(value=0.0, max=2883.0), HTML(value='')))"
      ]
     },
     "metadata": {},
     "output_type": "display_data"
    },
    {
     "name": "stdout",
     "output_type": "stream",
     "text": [
      "\n"
     ]
    },
    {
     "data": {
      "application/vnd.jupyter.widget-view+json": {
       "model_id": "bcaa7ff2ef724d748ca0d40d88e42dc8",
       "version_major": 2,
       "version_minor": 0
      },
      "text/plain": [
       "HBox(children=(FloatProgress(value=0.0, max=2851.0), HTML(value='')))"
      ]
     },
     "metadata": {},
     "output_type": "display_data"
    },
    {
     "name": "stdout",
     "output_type": "stream",
     "text": [
      "\n"
     ]
    },
    {
     "data": {
      "application/vnd.jupyter.widget-view+json": {
       "model_id": "e22dcdaf14f5473a84a10c89fed3b3f6",
       "version_major": 2,
       "version_minor": 0
      },
      "text/plain": [
       "HBox(children=(FloatProgress(value=0.0, max=2673.0), HTML(value='')))"
      ]
     },
     "metadata": {},
     "output_type": "display_data"
    },
    {
     "name": "stdout",
     "output_type": "stream",
     "text": [
      "\n"
     ]
    },
    {
     "data": {
      "application/vnd.jupyter.widget-view+json": {
       "model_id": "68586e45be4b4b32a9a54a56db69789d",
       "version_major": 2,
       "version_minor": 0
      },
      "text/plain": [
       "HBox(children=(FloatProgress(value=0.0, max=3799.0), HTML(value='')))"
      ]
     },
     "metadata": {},
     "output_type": "display_data"
    },
    {
     "name": "stdout",
     "output_type": "stream",
     "text": [
      "\n"
     ]
    },
    {
     "data": {
      "application/vnd.jupyter.widget-view+json": {
       "model_id": "279b79511cd448e6a12b6aa12443478a",
       "version_major": 2,
       "version_minor": 0
      },
      "text/plain": [
       "HBox(children=(FloatProgress(value=0.0, max=184.0), HTML(value='')))"
      ]
     },
     "metadata": {},
     "output_type": "display_data"
    },
    {
     "name": "stdout",
     "output_type": "stream",
     "text": [
      "\n"
     ]
    },
    {
     "data": {
      "application/vnd.jupyter.widget-view+json": {
       "model_id": "a69af4c143f745d197b5f34cffedf1cb",
       "version_major": 2,
       "version_minor": 0
      },
      "text/plain": [
       "HBox(children=(FloatProgress(value=0.0, max=7552.0), HTML(value='')))"
      ]
     },
     "metadata": {},
     "output_type": "display_data"
    },
    {
     "name": "stdout",
     "output_type": "stream",
     "text": [
      "\n"
     ]
    },
    {
     "data": {
      "application/vnd.jupyter.widget-view+json": {
       "model_id": "5179d851cab34a979854a7a21aa2ffc4",
       "version_major": 2,
       "version_minor": 0
      },
      "text/plain": [
       "HBox(children=(FloatProgress(value=0.0, max=51.0), HTML(value='')))"
      ]
     },
     "metadata": {},
     "output_type": "display_data"
    },
    {
     "name": "stdout",
     "output_type": "stream",
     "text": [
      "\n"
     ]
    },
    {
     "data": {
      "application/vnd.jupyter.widget-view+json": {
       "model_id": "8d8154b5037e479592094d8f11282859",
       "version_major": 2,
       "version_minor": 0
      },
      "text/plain": [
       "HBox(children=(FloatProgress(value=0.0, max=5715.0), HTML(value='')))"
      ]
     },
     "metadata": {},
     "output_type": "display_data"
    },
    {
     "name": "stdout",
     "output_type": "stream",
     "text": [
      "\n"
     ]
    },
    {
     "data": {
      "application/vnd.jupyter.widget-view+json": {
       "model_id": "fc210c2954ea49b79128e487fddf5bfc",
       "version_major": 2,
       "version_minor": 0
      },
      "text/plain": [
       "HBox(children=(FloatProgress(value=0.0, max=9036.0), HTML(value='')))"
      ]
     },
     "metadata": {},
     "output_type": "display_data"
    },
    {
     "name": "stdout",
     "output_type": "stream",
     "text": [
      "\n"
     ]
    },
    {
     "data": {
      "application/vnd.jupyter.widget-view+json": {
       "model_id": "678951468433406cb28cb756ee83516c",
       "version_major": 2,
       "version_minor": 0
      },
      "text/plain": [
       "HBox(children=(FloatProgress(value=0.0, max=69.0), HTML(value='')))"
      ]
     },
     "metadata": {},
     "output_type": "display_data"
    },
    {
     "name": "stdout",
     "output_type": "stream",
     "text": [
      "\n"
     ]
    },
    {
     "data": {
      "application/vnd.jupyter.widget-view+json": {
       "model_id": "64d627e2eca6450f991b8c0e3842cbab",
       "version_major": 2,
       "version_minor": 0
      },
      "text/plain": [
       "HBox(children=(FloatProgress(value=0.0, max=53.0), HTML(value='')))"
      ]
     },
     "metadata": {},
     "output_type": "display_data"
    },
    {
     "name": "stdout",
     "output_type": "stream",
     "text": [
      "\n"
     ]
    },
    {
     "data": {
      "application/vnd.jupyter.widget-view+json": {
       "model_id": "01489383034845b3b8b07751edc51e50",
       "version_major": 2,
       "version_minor": 0
      },
      "text/plain": [
       "HBox(children=(FloatProgress(value=0.0, max=6663.0), HTML(value='')))"
      ]
     },
     "metadata": {},
     "output_type": "display_data"
    },
    {
     "name": "stdout",
     "output_type": "stream",
     "text": [
      "\n"
     ]
    },
    {
     "data": {
      "application/vnd.jupyter.widget-view+json": {
       "model_id": "802ba787bb6c427283d825140eb10871",
       "version_major": 2,
       "version_minor": 0
      },
      "text/plain": [
       "HBox(children=(FloatProgress(value=0.0, max=2155.0), HTML(value='')))"
      ]
     },
     "metadata": {},
     "output_type": "display_data"
    },
    {
     "name": "stdout",
     "output_type": "stream",
     "text": [
      "\n"
     ]
    },
    {
     "data": {
      "application/vnd.jupyter.widget-view+json": {
       "model_id": "b5613b9ce2214ab1b37cceae8220c353",
       "version_major": 2,
       "version_minor": 0
      },
      "text/plain": [
       "HBox(children=(FloatProgress(value=0.0, max=1272.0), HTML(value='')))"
      ]
     },
     "metadata": {},
     "output_type": "display_data"
    },
    {
     "name": "stdout",
     "output_type": "stream",
     "text": [
      "\n"
     ]
    },
    {
     "data": {
      "application/vnd.jupyter.widget-view+json": {
       "model_id": "108f1f8cd49e4810920b880e7452f486",
       "version_major": 2,
       "version_minor": 0
      },
      "text/plain": [
       "HBox(children=(FloatProgress(value=0.0, max=1126.0), HTML(value='')))"
      ]
     },
     "metadata": {},
     "output_type": "display_data"
    },
    {
     "name": "stdout",
     "output_type": "stream",
     "text": [
      "\n"
     ]
    },
    {
     "data": {
      "application/vnd.jupyter.widget-view+json": {
       "model_id": "b9fa2af049c6401998646331f81588f8",
       "version_major": 2,
       "version_minor": 0
      },
      "text/plain": [
       "HBox(children=(FloatProgress(value=0.0, max=150.0), HTML(value='')))"
      ]
     },
     "metadata": {},
     "output_type": "display_data"
    },
    {
     "name": "stdout",
     "output_type": "stream",
     "text": [
      "\n"
     ]
    },
    {
     "data": {
      "application/vnd.jupyter.widget-view+json": {
       "model_id": "63b7316164eb46ce81f3b538ee522a08",
       "version_major": 2,
       "version_minor": 0
      },
      "text/plain": [
       "HBox(children=(FloatProgress(value=0.0, max=6725.0), HTML(value='')))"
      ]
     },
     "metadata": {},
     "output_type": "display_data"
    },
    {
     "name": "stdout",
     "output_type": "stream",
     "text": [
      "\n"
     ]
    },
    {
     "data": {
      "application/vnd.jupyter.widget-view+json": {
       "model_id": "21b6e7ab97cb4b44a4b14cb1fe51fc2c",
       "version_major": 2,
       "version_minor": 0
      },
      "text/plain": [
       "HBox(children=(FloatProgress(value=0.0, max=3574.0), HTML(value='')))"
      ]
     },
     "metadata": {},
     "output_type": "display_data"
    },
    {
     "name": "stdout",
     "output_type": "stream",
     "text": [
      "\n"
     ]
    },
    {
     "data": {
      "application/vnd.jupyter.widget-view+json": {
       "model_id": "7e0d41c7020243daa98445f6828d273c",
       "version_major": 2,
       "version_minor": 0
      },
      "text/plain": [
       "HBox(children=(FloatProgress(value=0.0, max=6237.0), HTML(value='')))"
      ]
     },
     "metadata": {},
     "output_type": "display_data"
    },
    {
     "name": "stdout",
     "output_type": "stream",
     "text": [
      "\n"
     ]
    },
    {
     "data": {
      "application/vnd.jupyter.widget-view+json": {
       "model_id": "ed0eff7aa50947b287ebd14ad6e8cb5a",
       "version_major": 2,
       "version_minor": 0
      },
      "text/plain": [
       "HBox(children=(FloatProgress(value=0.0, max=5105.0), HTML(value='')))"
      ]
     },
     "metadata": {},
     "output_type": "display_data"
    },
    {
     "name": "stdout",
     "output_type": "stream",
     "text": [
      "\n"
     ]
    },
    {
     "data": {
      "application/vnd.jupyter.widget-view+json": {
       "model_id": "a30befd1e0d4407c823dde3bbec172cc",
       "version_major": 2,
       "version_minor": 0
      },
      "text/plain": [
       "HBox(children=(FloatProgress(value=0.0, max=1101.0), HTML(value='')))"
      ]
     },
     "metadata": {},
     "output_type": "display_data"
    },
    {
     "name": "stdout",
     "output_type": "stream",
     "text": [
      "\n"
     ]
    },
    {
     "data": {
      "application/vnd.jupyter.widget-view+json": {
       "model_id": "8f16db20603f4927b9f8240d3646b362",
       "version_major": 2,
       "version_minor": 0
      },
      "text/plain": [
       "HBox(children=(FloatProgress(value=0.0, max=9004.0), HTML(value='')))"
      ]
     },
     "metadata": {},
     "output_type": "display_data"
    },
    {
     "name": "stdout",
     "output_type": "stream",
     "text": [
      "\n"
     ]
    }
   ],
   "source": [
    "total = 0\n",
    "db_dict = {'obj_id': [], 'old_text': [], 'new_text': [], 'comment': [], 'docs': [], 'diff': [],\n",
    "           'title': [], 'search_queries': [], 'counter_found_docs': [], 'section_name': []}\n",
    "for chunk in CHUNKS:\n",
    "    dataset_ids = list(map(lambda x: x.split('.')[0], os.listdir(f\"{DOCS_DIR}/{chunk}\")))\n",
    "    for dataset_obj_id in tqdm(dataset_ids):\n",
    "        total += 1\n",
    "        with open(f\"{PAGES_DIR}/{chunk}/{dataset_obj_id}.json\", 'r', encoding='utf-8') as f:\n",
    "            page_json = json.load(f)\n",
    "        docs_text = ''\n",
    "        added_docs = set()\n",
    "        count_docs = 0\n",
    "        with open(f\"{DOCS_DIR}/{chunk}/{dataset_obj_id}.txt\", 'r', encoding='utf-8') as f:\n",
    "            docs_text_plain = f.read()\n",
    "\n",
    "        diff = '\\n'.join(page_json['change_texts'][0][0])\n",
    "        db_dict['diff'].append(diff)\n",
    "        db_dict['obj_id'].append(dataset_obj_id)\n",
    "        db_dict['old_text'].append(page_json['old_text'])\n",
    "        db_dict['new_text'].append(page_json['new_text'])\n",
    "        db_dict['comment'].append(page_json['comment'])\n",
    "        db_dict['docs'].append(docs_text_plain)\n",
    "        db_dict['title'].append(page_json['title'])\n",
    "        db_dict['search_queries'].append(page_json['search_queries'])\n",
    "        db_dict['counter_found_docs'].append(page_json['counter_found_docs'])\n",
    "        db_dict['section_name'].append(page_json['section_name'])"
   ]
  },
  {
   "cell_type": "code",
   "execution_count": 3,
   "metadata": {},
   "outputs": [
    {
     "name": "stdout",
     "output_type": "stream",
     "text": [
      "(120720, 10)\n"
     ]
    }
   ],
   "source": [
    "df = pd.DataFrame.from_dict(db_dict)\n",
    "print(df.shape)"
   ]
  },
  {
   "cell_type": "code",
   "execution_count": 4,
   "metadata": {},
   "outputs": [
    {
     "data": {
      "text/html": [
       "<div>\n",
       "<style scoped>\n",
       "    .dataframe tbody tr th:only-of-type {\n",
       "        vertical-align: middle;\n",
       "    }\n",
       "\n",
       "    .dataframe tbody tr th {\n",
       "        vertical-align: top;\n",
       "    }\n",
       "\n",
       "    .dataframe thead th {\n",
       "        text-align: right;\n",
       "    }\n",
       "</style>\n",
       "<table border=\"1\" class=\"dataframe\">\n",
       "  <thead>\n",
       "    <tr style=\"text-align: right;\">\n",
       "      <th></th>\n",
       "      <th>obj_id</th>\n",
       "      <th>old_text</th>\n",
       "      <th>new_text</th>\n",
       "      <th>comment</th>\n",
       "      <th>docs</th>\n",
       "      <th>diff</th>\n",
       "      <th>title</th>\n",
       "      <th>search_queries</th>\n",
       "      <th>counter_found_docs</th>\n",
       "      <th>section_name</th>\n",
       "    </tr>\n",
       "  </thead>\n",
       "  <tbody>\n",
       "    <tr>\n",
       "      <th>0</th>\n",
       "      <td>3571</td>\n",
       "      <td>__NOTOC__\\n\\nThe Pacific Coast Marine Firemen,...</td>\n",
       "      <td>__NOTOC__\\n\\nThe Pacific Coast Marine Firemen,...</td>\n",
       "      <td>edited links.</td>\n",
       "      <td>The Pacific Coast Marine Firemen, Oilers, Wate...</td>\n",
       "      <td>, commonly\\n, is an</td>\n",
       "      <td>Marine Firemen's Union</td>\n",
       "      <td>[Marine Firemen's Union , commonly, Marine Fir...</td>\n",
       "      <td>[29, 23]</td>\n",
       "      <td></td>\n",
       "    </tr>\n",
       "    <tr>\n",
       "      <th>1</th>\n",
       "      <td>14256</td>\n",
       "      <td>Soon after its premiere, Martin Stein wrote \"S...</td>\n",
       "      <td>Soon after its premiere, Martin Stein wrote \"S...</td>\n",
       "      <td>/* Reception */ Added LAT.</td>\n",
       "      <td>The show opens with Siren leader Sin Cinnamon ...</td>\n",
       "      <td>The Los Angeles Times advised readers to avoid...</td>\n",
       "      <td>Sirens of TI</td>\n",
       "      <td>[Sirens of TI Reception The Los Angeles Times ...</td>\n",
       "      <td>[29]</td>\n",
       "      <td>Reception</td>\n",
       "    </tr>\n",
       "    <tr>\n",
       "      <th>2</th>\n",
       "      <td>17990</td>\n",
       "      <td>The film was released to DVD on June 12, 2007....</td>\n",
       "      <td>The film was released to DVD on June 12, 2007....</td>\n",
       "      <td>/* Release */ fixes</td>\n",
       "      <td>Romeo  Juliet: Sealed with a Kiss is a 2006 Am...</td>\n",
       "      <td>praising its amount of \\nonus content for a\\nc...</td>\n",
       "      <td>Romeo &amp; Juliet: Sealed with a Kiss</td>\n",
       "      <td>[Romeo &amp; Juliet: Sealed with a Kiss Home media...</td>\n",
       "      <td>[29, 12, 20]</td>\n",
       "      <td>Home media</td>\n",
       "    </tr>\n",
       "    <tr>\n",
       "      <th>3</th>\n",
       "      <td>1870</td>\n",
       "      <td>This template will categorise articles into :C...</td>\n",
       "      <td>This template will categorise articles into :C...</td>\n",
       "      <td>/* Usage */  added date</td>\n",
       "      <td>Listed below are several options for usage. { ...</td>\n",
       "      <td>date=August 2010}}\\n\\n{{hoax|section|date=Augu...</td>\n",
       "      <td>Hoax/doc</td>\n",
       "      <td>[Hoax/doc Usage date=August 2010}}\\n\\n{{hoax|s...</td>\n",
       "      <td>[29]</td>\n",
       "      <td>Usage</td>\n",
       "    </tr>\n",
       "    <tr>\n",
       "      <th>4</th>\n",
       "      <td>10259</td>\n",
       "      <td>Dallasaurus is a basal mosasauroid from the Up...</td>\n",
       "      <td>Dallasaurus (\"Dallas lizard\") is a basal mosas...</td>\n",
       "      <td>Adding a definition to the lead.</td>\n",
       "      <td>Dallasaurus (Dallas lizard) is a basal mosasau...</td>\n",
       "      <td>(\"Dallas lizard\") is a</td>\n",
       "      <td>Dallasaurus</td>\n",
       "      <td>[Dallasaurus (\"Dallas lizard\") is a]</td>\n",
       "      <td>[18]</td>\n",
       "      <td></td>\n",
       "    </tr>\n",
       "  </tbody>\n",
       "</table>\n",
       "</div>"
      ],
      "text/plain": [
       "  obj_id                                           old_text  \\\n",
       "0   3571  __NOTOC__\\n\\nThe Pacific Coast Marine Firemen,...   \n",
       "1  14256  Soon after its premiere, Martin Stein wrote \"S...   \n",
       "2  17990  The film was released to DVD on June 12, 2007....   \n",
       "3   1870  This template will categorise articles into :C...   \n",
       "4  10259  Dallasaurus is a basal mosasauroid from the Up...   \n",
       "\n",
       "                                            new_text  \\\n",
       "0  __NOTOC__\\n\\nThe Pacific Coast Marine Firemen,...   \n",
       "1  Soon after its premiere, Martin Stein wrote \"S...   \n",
       "2  The film was released to DVD on June 12, 2007....   \n",
       "3  This template will categorise articles into :C...   \n",
       "4  Dallasaurus (\"Dallas lizard\") is a basal mosas...   \n",
       "\n",
       "                            comment  \\\n",
       "0                     edited links.   \n",
       "1        /* Reception */ Added LAT.   \n",
       "2               /* Release */ fixes   \n",
       "3           /* Usage */  added date   \n",
       "4  Adding a definition to the lead.   \n",
       "\n",
       "                                                docs  \\\n",
       "0  The Pacific Coast Marine Firemen, Oilers, Wate...   \n",
       "1  The show opens with Siren leader Sin Cinnamon ...   \n",
       "2  Romeo  Juliet: Sealed with a Kiss is a 2006 Am...   \n",
       "3  Listed below are several options for usage. { ...   \n",
       "4  Dallasaurus (Dallas lizard) is a basal mosasau...   \n",
       "\n",
       "                                                diff  \\\n",
       "0                                , commonly\\n, is an   \n",
       "1  The Los Angeles Times advised readers to avoid...   \n",
       "2  praising its amount of \\nonus content for a\\nc...   \n",
       "3  date=August 2010}}\\n\\n{{hoax|section|date=Augu...   \n",
       "4                             (\"Dallas lizard\") is a   \n",
       "\n",
       "                                title  \\\n",
       "0              Marine Firemen's Union   \n",
       "1                        Sirens of TI   \n",
       "2  Romeo & Juliet: Sealed with a Kiss   \n",
       "3                            Hoax/doc   \n",
       "4                         Dallasaurus   \n",
       "\n",
       "                                      search_queries counter_found_docs  \\\n",
       "0  [Marine Firemen's Union , commonly, Marine Fir...           [29, 23]   \n",
       "1  [Sirens of TI Reception The Los Angeles Times ...               [29]   \n",
       "2  [Romeo & Juliet: Sealed with a Kiss Home media...       [29, 12, 20]   \n",
       "3  [Hoax/doc Usage date=August 2010}}\\n\\n{{hoax|s...               [29]   \n",
       "4               [Dallasaurus (\"Dallas lizard\") is a]               [18]   \n",
       "\n",
       "  section_name  \n",
       "0               \n",
       "1    Reception  \n",
       "2   Home media  \n",
       "3        Usage  \n",
       "4               "
      ]
     },
     "execution_count": 4,
     "metadata": {},
     "output_type": "execute_result"
    }
   ],
   "source": [
    "df.head()"
   ]
  },
  {
   "cell_type": "code",
   "execution_count": 5,
   "metadata": {
    "scrolled": true
   },
   "outputs": [
    {
     "data": {
      "text/plain": [
       "35682"
      ]
     },
     "execution_count": 5,
     "metadata": {},
     "output_type": "execute_result"
    }
   ],
   "source": [
    "titles = df.title.unique()\n",
    "len(titles)"
   ]
  },
  {
   "cell_type": "code",
   "execution_count": 6,
   "metadata": {},
   "outputs": [
    {
     "data": {
      "text/plain": [
       "'This template will categorise articles into :Category:Wikipedia suspected hoax articles.\\n\\nListed below are several options for usage.\\n\\n{{hoax}}\\n\\n{{hoax|section}}\\n\\nPlease use {{subst:Uw-hoax}} to add the appropriate user warning on the talk page of hoaxers.'"
      ]
     },
     "execution_count": 6,
     "metadata": {},
     "output_type": "execute_result"
    }
   ],
   "source": [
    "df.iloc[3]['old_text']"
   ]
  },
  {
   "cell_type": "code",
   "execution_count": 7,
   "metadata": {},
   "outputs": [
    {
     "data": {
      "text/plain": [
       "'This template will categorise articles into :Category:Wikipedia suspected hoax articles.\\n\\nListed below are several options for usage.\\n\\n{{hoax|date=August 2010}}\\n\\n{{hoax|section|date=August 2010}}\\n\\nPlease use {{subst:Uw-hoax}} to add the appropriate user warning on the talk page of hoaxers.'"
      ]
     },
     "execution_count": 7,
     "metadata": {},
     "output_type": "execute_result"
    }
   ],
   "source": [
    "df.iloc[3]['new_text']"
   ]
  },
  {
   "cell_type": "markdown",
   "metadata": {},
   "source": [
    "## Filter revisions"
   ]
  },
  {
   "cell_type": "code",
   "execution_count": 12,
   "metadata": {},
   "outputs": [],
   "source": [
    "def is_good(row):\n",
    "    if 'link' in row['comment'] and 'fix' in row['comment']:\n",
    "        return False\n",
    "    if '|' in row['old_text']:\n",
    "        return False\n",
    "    if 'this template' in row['old_text']:\n",
    "        return False\n",
    "    if 'image' in row['comment']:\n",
    "        return False\n",
    "    if '* \\n*' in row['old_text'] or '*\\n*' in row['old_text'] or '*  \\n*' in row['old_text']:\n",
    "        return False\n",
    "    if row['old_text'].count('*') > 8:\n",
    "        return False\n",
    "    if 'http' in row['diff']:\n",
    "        return False\n",
    "    return True\n",
    "        "
   ]
  },
  {
   "cell_type": "code",
   "execution_count": 13,
   "metadata": {},
   "outputs": [],
   "source": [
    "df['is_good'] = df.apply(lambda x: is_good(x), axis=1)"
   ]
  },
  {
   "cell_type": "code",
   "execution_count": 14,
   "metadata": {},
   "outputs": [
    {
     "data": {
      "text/plain": [
       "(92589, 11)"
      ]
     },
     "execution_count": 14,
     "metadata": {},
     "output_type": "execute_result"
    }
   ],
   "source": [
    "df = df.loc[df['is_good'] == True]\n",
    "df.shape"
   ]
  },
  {
   "cell_type": "markdown",
   "metadata": {},
   "source": [
    "## Watch docs"
   ]
  },
  {
   "cell_type": "code",
   "execution_count": 34,
   "metadata": {},
   "outputs": [],
   "source": [
    "docs_corpus = []\n",
    "for row_idx, row in df.iterrows():\n",
    "    docs = row['old_text']\n",
    "    sents = sent_tokenize(docs)\n",
    "    docs_corpus += sents\n",
    "    "
   ]
  },
  {
   "cell_type": "code",
   "execution_count": 35,
   "metadata": {},
   "outputs": [
    {
     "data": {
      "text/plain": [
       "TfidfVectorizer(analyzer='char_wb', binary=False, decode_error='strict',\n",
       "                dtype=<class 'numpy.float64'>, encoding='utf-8',\n",
       "                input='content', lowercase=True, max_df=0.9, max_features=None,\n",
       "                min_df=1, ngram_range=(3, 5), norm='l2', preprocessor=None,\n",
       "                smooth_idf=True, stop_words=None, strip_accents=None,\n",
       "                sublinear_tf=False, token_pattern='(?u)\\\\b\\\\w\\\\w+\\\\b',\n",
       "                tokenizer=None, use_idf=True, vocabulary=None)"
      ]
     },
     "execution_count": 35,
     "metadata": {},
     "output_type": "execute_result"
    }
   ],
   "source": [
    "from sklearn.feature_extraction.text import TfidfVectorizer\n",
    "\n",
    "vectorizer = TfidfVectorizer(analyzer='char_wb', ngram_range=(3, 5), max_df=0.9)\n",
    "vectorizer.fit(docs_corpus)"
   ]
  },
  {
   "cell_type": "code",
   "execution_count": 36,
   "metadata": {},
   "outputs": [
    {
     "data": {
      "text/plain": [
       "1339139"
      ]
     },
     "execution_count": 36,
     "metadata": {},
     "output_type": "execute_result"
    }
   ],
   "source": [
    "len(vectorizer.vocabulary_)"
   ]
  },
  {
   "cell_type": "code",
   "execution_count": 38,
   "metadata": {},
   "outputs": [],
   "source": [
    "from sklearn.metrics.pairwise import cosine_similarity\n",
    "import numpy as np\n"
   ]
  },
  {
   "cell_type": "code",
   "execution_count": 49,
   "metadata": {
    "scrolled": false
   },
   "outputs": [
    {
     "name": "stdout",
     "output_type": "stream",
     "text": [
      "----------------------- NEW DATASET OBJECT -----------------------\n",
      "\n",
      "OLD TEXT:\n",
      "\n",
      "This engine is considered a reverse flow 90 degree head V8 engine.  The exhaust gases are released internally to the valley of the engine to go straight into the turbo.  This corrects a common issue of long up pipe routing and it's durability.  The exhaust gases boost intake air through the turbocharger which then travels to a water to air charge air cooler that is different from normal air to air coolers and much smaller in size.  The intake air is then returned through the intake manifold into the heads which flow around to the outside of the head towards the intake valves.\n",
      "\n",
      "NEW TEXT:\n",
      "\n",
      "This engine is considered a reverse flow 90 degree head V8 engine.  The exhaust gases are released internally to the valley of the engine to go straight into the turbo.  This corrects a common issue of long up pipe routing and it's durability.  The exhaust gases boost intake air through the turbocharger which then travels to a water to air charge air cooler that is different from normal air to air coolers and much smaller in size.  The intake air is then returned through the intake manifold into the heads which flow around to the outside of the head towards the intake valves.  The cooling system is also very different than previous versions, as it contains 2 water pumps and 2 radiators.  One cooling system operates for the emissions system and other non-engine components such as the EGR and transmission.  The other cooler keeps the block of the engine cool.\n",
      "\n",
      "DIFF:\t  The cooling system is also very different than previous versions, as it contains 2 water pumps and 2 radiators.  One cooling system operates for the emissions system and other non-engine components such as the EGR and transmission.  The other cooler keeps the block of the engine cool.\n",
      "\n",
      "Comment:\tAdded more content.\n",
      "\n",
      "DOCS:\n",
      " system presents a bypass valve to the high pressure EGR cooler [FEV]\n",
      "\n",
      "The diesel has two separate cooling systems, each with its own radiator (one a two-stage design), and each with two thermostats and one belt-driven water pump\n",
      "\n",
      " of such a system operating on the exhaust gas of a 288 HP truck engine\n",
      "\n",
      " of the system is a CP4.2 high-pressure fuel pump from Bosch\n",
      "\n",
      "Mar 14, 2009 — FORD MOTOR COMPANY. REVISION DATE: APRIL 21, 2011. 09.01.00.02-PAGE 1 OF 149. 2012 MY OBD System Operation. Summary for 6.7L Diesel Engines\n",
      "Metrics:\t[0.30754158 0.26515447 0.25795463 0.16784866 0.15264457]\n",
      "----------------------- NEW DATASET OBJECT -----------------------\n",
      "\n",
      "OLD TEXT:\n",
      "\n",
      "* Feudal Society, Tr. L.A. Manyon, (Chicago: University of Chicago Press, 1961). ISBN 0226059790\n",
      "*Strange Defeat; a Statement of Evidence Written in 1940 (London: Oxford University Press, 1949).\n",
      "*The Historian's Craft, Tr. Peter Putnam, (New York: Vintage Book, 1953)\n",
      "\n",
      ",  Carole Fink, Marc Bloch: A Life in History (Cambridge University Press, 1989) ISBN 0-521-40671-4\n",
      "* Joseph Lambie, ed., Architects and Craftmen in History (1956)\n",
      "* H. Stuart Hughes, The Obstructed Path: French Social Thought in the Years of Desperation, 1930-1960 (1968)\n",
      "\n",
      ",  Bio at Lewis-Clark State College\n",
      "* Centre Marc Bloch\n",
      "* Université Marc Bloch\n",
      "* www.marcbloch.fr\n",
      "\n",
      "\n",
      "\n",
      "fr:Marc Bloch\n",
      "pl:Marc Bloch\n",
      "\n",
      "NEW TEXT:\n",
      "\n",
      "* Feudal Society, Tr. L.A. Manyon, (Chicago: University of Chicago Press, 1961). ISBN 0226059790\n",
      "*Strange Defeat; a Statement of Evidence Written in 1940 (London: Oxford University Press, 1949).\n",
      "*The Historian's Craft, Tr. Peter Putnam, (New York: Vintage Book, 1953)\n",
      "\n",
      ",  Carole Fink, Marc Bloch: A Life in History (Cambridge University Press, 1989) ISBN 0-521-40671-4\n",
      "* Joseph Lambie, ed., Architects and Craftmen in History (1956)\n",
      "* H. Stuart Hughes, The Obstructed Path: French Social Thought in the Years of Desperation, 1930-1960 (1968)\n",
      "\n",
      ",  Bio at Lewis-Clark State College\n",
      "* Centre Marc Bloch\n",
      "* Université Marc Bloch\n",
      "* www.marcbloch.fr\n",
      "\n",
      "\n",
      "\n",
      "de:Marc Bloch\n",
      "fr:Marc Bloch\n",
      "pl:Marc Bloch\n",
      "\n",
      "DIFF:\tBloch\n",
      "fr:Marc \n",
      "\n",
      "Comment:\tinterwikis:  Adding:de\n",
      "\n",
      "DOCS:\n",
      "Product Details ; ISBN-13: 9781138855946 · Publisher: Taylor & Francis · Publication date: 03/31/2021 · Routledge Revivals: Selected · Bloch. Pages: 182\n",
      "\n",
      "Dec 23, 2007 — Marc Bloch (1886-1944), French historian, was the cofounder of the Annales School of French social history, and a quintessential modernist\n",
      "\n",
      " The volume on the Ile de France to which his earlier work\n",
      "\n",
      "Mar 20, 2007 — Marc Bloch was born in 1886 in Lyon and grew up in Paris, where his father was an ancient historian at the Ecole Normale Supérieure\n",
      "\n",
      " The son of a Jewish university lecturer in Roman history, Marc Bloch's teenage years were spent under the shadow of the Dreyfus Affair\n",
      "Metrics:\t[0.00928441 0.00817025 0.00625114 0.00219337 0.00074031]\n",
      "----------------------- NEW DATASET OBJECT -----------------------\n",
      "\n",
      "OLD TEXT:\n",
      "\n",
      "*The Ala-Too range, only 40 km away, provides a spectacular backdrop to the city, and Ala Archa National Park is a sight worth visiting.\n",
      "*Several statues of Vladimir Lenin remain, the largest being opposite the parliament building in a leafy park -- having been moved there in 2003 from its original more conspicuous location on the main square of the city.\n",
      "*An equestrian statue of Mikhail Frunze still stands in a large park across from the train station.\n",
      "* The main government building, the White House, is a huge seven-story marble block and the former headquarters of the Communist Party of the Kirghiz SSR.\n",
      "\n",
      "\n",
      "da:Bisjkek\n",
      "de:Bischkek\n",
      "et:Biškek\n",
      "es:Bishkek\n",
      "fa:بیشکک\n",
      "fr:Bichkek\n",
      "id:Bishkek\n",
      "he:בישקק\n",
      "ja:ビシュケク\n",
      "ky:Бишкек\n",
      "pl:Biszkek\n",
      "pt:Bishkek\n",
      "ru:Бишкек\n",
      "fi:Biškek\n",
      "nl:Bisjkek\n",
      "sv:Bisjkek\n",
      "tr:Bişkek\n",
      "zh:比什凯克\n",
      "\n",
      "NEW TEXT:\n",
      "\n",
      "*The Ala-Too range, only 40 km away, provides a spectacular backdrop to the city, and Ala Archa National Park is a sight worth visiting.\n",
      "*Several statues of Vladimir Lenin remain, the largest being opposite the parliament building in a leafy park -- having been moved there in 2003 from its original more conspicuous location on the main square of the city.\n",
      "*An equestrian statue of Mikhail Frunze still stands in a large park across from the train station.\n",
      "* The main government building, the White House, is a huge seven-story marble block and the former headquarters of the Communist Party of the Kirghiz SSR.\n",
      "\n",
      "\n",
      "ky:Бишкек\n",
      "\n",
      "da:Bisjkek\n",
      "de:Bischkek\n",
      "et:Biškek\n",
      "es:Bishkek\n",
      "fa:بیشکک\n",
      "fr:Bichkek\n",
      "id:Bishkek\n",
      "he:בישקק\n",
      "nl:Bisjkek\n",
      "ja:ビシュケク\n",
      "pl:Biszkek\n",
      "pt:Bishkek\n",
      "ru:Бишкек\n",
      "sk:Biškek\n",
      "fi:Biškek\n",
      "sv:Bisjkek\n",
      "tr:Bişkek\n",
      "zh:比什凯克\n",
      "\n",
      "DIFF:\t\n",
      "da:Bisjkek\n",
      "de:Bischkek\n",
      "et:Biškek\n",
      "es:Bishkek\n",
      "fa:بیشکک\n",
      "fr:Bichkek\n",
      "id:Bishkek\n",
      "he:בישקק\n",
      "nl:Bisjkek\n",
      "ja:ビシュケク\n",
      "\n",
      "fi:Biš\n",
      "\n",
      "Comment:\twarnfile  Adding: sk\n",
      "\n",
      "DOCS:\n",
      "Sep 19, 2022 — 1. Osh Bazaar · 2. Ala-Too Square · 3. The Museum of Fine Arts · 4. Zhirgal Banya Bath house · 5. Victory Square · 6. The State History Museum · 7\n",
      "\n",
      "\n",
      "Metrics:\t[0. 0.]\n",
      "----------------------- NEW DATASET OBJECT -----------------------\n",
      "\n",
      "OLD TEXT:\n",
      "\n",
      "*Robert Alexander, born in Cecil County, delegate to the Continental Congress\n",
      "*John Andrews, one of the leaders of the separation of the Episcopal Church from the Anglican Church\n",
      "\n",
      "NEW TEXT:\n",
      "\n",
      "*Robert Alexander, born in Cecil County, delegate to the Continental Congress\n",
      "*John Andrews, (1746-1813), born in Cecil County, was one of the leaders of the separation of the Episcopal Church from the Anglican Church\n",
      "\n",
      "DIFF:\t(1746-1813), born in Cecil County, was one of the leaders of the\n",
      "\n",
      "Comment:\t/* Notable residents */ - changed phrasing of  John Andrews\n",
      "\n",
      "DOCS:\n",
      "Cecil County is a county located in the U.S. state of Maryland at the northeastern corner of the state, bordering both Pennsylvania and Delaware\n",
      "\n",
      "No one had told the couple that instant marriages in Maryland had slipped away long before these young people were born, the Sun reported. “This true story . \n",
      "\n",
      "\n",
      "Metrics:\t[0.22128793 0.05688874 0.        ]\n",
      "----------------------- NEW DATASET OBJECT -----------------------\n",
      "\n",
      "OLD TEXT:\n",
      "\n",
      "It should be noted that on a few records where white jazz guitarist Eddie Lang sat in with African American groups, the record companies listed Lang as \"Blind Blake\". Most of those recordings, principally with Lonnie Johnson, gave Lang the name \"Blind Willy Dunn\". \n",
      "\n",
      "There is also an entirely different artist who recorded multiple LPs under the name \"Blind Blake\". Alphonso \"Blind Blake\" Higgs was one of the most popular singers in The Bahamas in the 1950s, leading the house band at the Royal Victoria Hotel. His records were spread all over the U.S. by tourist fans, and several of his songs became folk standards. (Even Johnny Cash was influenced, basing his hit \"Delia\" on an old blues ballad from Georgia that Blake had adapted into a calypso).\n",
      "\n",
      "NEW TEXT:\n",
      "\n",
      "On a few records where white jazz guitarist Eddie Lang sat in with African American groups, the record companies listed Lang as \"Blind Blake\". Most of those recordings, principally with Lonnie Johnson, gave Lang the name \"Blind Willy Dunn\". \n",
      "\n",
      "There is also an entirely different artist who recorded multiple LPs under the name \"Blind Blake\". Alphonso \"Blind Blake\" Higgs was one of the most popular singers in The Bahamas in the 1950s, leading the house band at the Royal Victoria Hotel. His records were spread all over the U.S. by tourist fans, and several of his songs became folk standards. (Even Johnny Cash was influenced, basing his hit \"Delia\" on an old blues ballad from Georgia that Blake had adapted into a calypso).\n",
      "\n",
      "DIFF:\tOn a few records where white\n",
      "\n",
      "Comment:\t[[MOS:NOTED]]\n",
      "\n",
      "DOCS:\n",
      " legacy on different record labels, both as a soloist under various names\n",
      "\n",
      " People : Negro Music in White America (New York, N.Y.: W. Morrow, 1963)\n",
      "\n",
      "Nov 2, 2013 — Imagine that all of your favorite music — from Wynton Marsalis to Kanye West — was released by the same record label\n",
      "\n",
      " Blind Blake (real name, Arthur Blake) recorded about 80 sides for\n",
      "\n",
      " many blues artists that used pseudonyms to make more money on other labels\n",
      "Metrics:\t[0.1247935  0.11996405 0.1021254  0.0998805  0.01560872]\n",
      "----------------------- NEW DATASET OBJECT -----------------------\n",
      "\n",
      "OLD TEXT:\n",
      "\n",
      "Colonel Charles Edward (\"Chuck\") Jones (November 8, 1952 – September 11, 2001) was a United States Air Force officer, an aeronautical engineer, computer programmer, and an astronaut in the USAF Manned Spaceflight Engineer Program.\n",
      "\n",
      "NEW TEXT:\n",
      "\n",
      "Colonel Charles Edward (\"Chuck\") Jones (November 8, 1952 – September 11, 2001) was a United States Air Force officer, an aeronautical engineer, computer programmer, and an astronaut in the USAF Manned Spaceflight Engineer Program. He was killed in the attacks of September 11, 2001, aboard American Airlines Flight 11.\n",
      "\n",
      "DIFF:\t He was killed in the attacks of September 11, 2001, aboard American Airlines Flight 11.\n",
      "\n",
      "Comment:\tadded important detail re notability to Lead\n",
      "\n",
      "DOCS:\n",
      "Colonel Charles Edward ( Chuck ) Jones (November 8, 1952 - September 11, 2001) was a United States Air Force officer, a computer programmer, and an astronaut in the USAF Manned Spaceflight Engineer Program. He was killed at the age of 48 in the attacks of September 11, 2001, aboard American Airlines Flight 11\n",
      "\n",
      "Colonel Charles Edward (Chuck) Jones (November 8, 1952 - September 11, 2001) was a United States Air Force officer, an aeronautical engineer, computer programmer, and an astronaut in the USAF Manned Spaceflight Engineer Program. He was killed in the attacks of September 11, 2001, aboard American Airlines Flight 11\n",
      "\n",
      "American Astronaut Charles Jones (astronaut) was born Charles Edward Jones on 4th November, 1952 in Clinton, Indiana, U.S. and passed away on 11th Sep 2001 New York City, New York, United States aged 48. He is most remembered for killed in the attacks of September 11, 2001, aboard American Airlines Flight 11.. His zodiac sign is Scorpio\n",
      "\n",
      "September 12, 2001, 11:55 a.m. CST AMERICAN RELEASES PRELIMINARY PASSENGER LISTS FOR FLIGHTS INVOLVED IN YESTERDAY S TERRORIST ATTACKS FORT WORTH, Texas American Airlines is releasing a preliminary, partial passenger list and a crew list for its flights involved in yesterdays terrorist attacks\n",
      "\n",
      "On September 11, 2001, 2,977 people were killed in the deadliest terrorist attacks in American history. The World Trade Center in March, 2001 Wikimedia Commons. The moment shocked the nation. Two planes, hijacked by Islamic jihadists vowing death to all Americans, plowed into both towers at the World Trade Center in New York\n",
      "Metrics:\t[0.59728729 0.54356652 0.48983628 0.35174527 0.31747962]\n",
      "----------------------- NEW DATASET OBJECT -----------------------\n",
      "\n",
      "OLD TEXT:\n",
      "\n",
      "VHSIC was a 1980s U.S. government program to develop Very-High-Speed Integrated Circuits.  \n",
      "\n",
      "The United States Department of Defense launched the VHSIC project in 1980 as a joint tri-service (Army/Navy/Air Force) project.  The project led to advances in integrated circuit materials, lithography, packaging, testing, and algorithms, and created numerous computer-aided design tools.  A well-known part of the project's contribution is VHDL, a hardware description language.  The program also redirected the military's interest in GaAs ICs back toward the commercial mainstream of CMOS circuits.\n",
      "\n",
      "NEW TEXT:\n",
      "\n",
      "VHSIC was a 1980s U.S. government program to develop Very-High-Speed Integrated Circuits.  \n",
      "\n",
      "The United States Department of Defense launched the VHSIC project in 1980 as a joint tri-service (Army/Navy/Air Force) project.  The project led to advances in integrated circuit materials, lithography, packaging, testing, and algorithms, and created numerous computer-aided design tools.  A well-known part of the project's contribution is VHDL, a hardware description language.  The program also redirected the military's interest in GaAs ICs back toward the commercial mainstream of CMOS circuits.\n",
      "\n",
      "==See also=, VHDL\n",
      "\n",
      "DIFF:\t\n",
      "\n",
      "==See also=, VHDL\n",
      "\n",
      "Comment:\tadd vhdl\n",
      "\n",
      "DOCS:\n",
      "VHDL1 INTRODUCTION TO VHDL (VERY-HIGH-SPEED-INTEGRATED-CIRCUITS HARDWARE DESCRIPTION LANGUAGE) KH WONG (Some pictures are obtained from FPGA Express VHDL\n",
      "\n",
      "Originally Answered: Starting from the very basic level, how can I become the 'master' of VHDL (Very High Speed IC Hardware Description Language)?\n",
      "\n",
      "by MS Kamrowski · 1986 — This research investigates the requirements needed to simulate VHDL electronic circuit descriptions by using an MC68020 based parallel engine\n",
      "\n",
      " VHDL: VHSIC (Very High Speed Integrated Circuit) Hardware Description Language\n",
      "\n",
      "The VHDL (Very High Speed Integrated Circuit Hardware Description Language) is a powerful language for the description of digital circuits\n",
      "Metrics:\t[0.53093739 0.27789127 0.25870334 0.25448258 0.24929176]\n"
     ]
    },
    {
     "name": "stdout",
     "output_type": "stream",
     "text": [
      "----------------------- NEW DATASET OBJECT -----------------------\n",
      "\n",
      "OLD TEXT:\n",
      "\n",
      "George and the Big Bang is a 2014 children's book written by Stephen and Lucy Hawking. The book is the fourth book in the George series, following George's Secret Key to the Universe, George's Cosmic Treasure Hunt and George and the Big Bang.\n",
      "\n",
      "NEW TEXT:\n",
      "\n",
      "George and the Unbreakable Code is a 2014 children's book written by Stephen and Lucy Hawking. The book is the fourth book in the George series, following George's Secret Key to the Universe, George's Cosmic Treasure Hunt and George and the Big Bang.\n",
      "\n",
      "DIFF:\tUnbreakable Code is a\n",
      "\n",
      "Comment:\tCorrected user error\n",
      "\n",
      "DOCS:\n",
      " George and the Unbreakable Code\n",
      "\n",
      "George and the Unbreakable Code as it's meant to be heard, narrated by Roy McMillan, Sophie Aldred. Discover the English Audiobook at Audible\n",
      "\n",
      "George and the Unbreakable Code is written by Stephen Hawking; Lucy Hawking and published by Simon & Schuster Books For Young Readers\n",
      "\n",
      "George And The Unbreakable Code ; Author: Stephen Hawking ; Publisher: Corgi Books ; Released Date: 2015 ; ISBN: 9780552570053\n",
      "\n",
      "Book Title. George and the Unbreakable CODE ; Author. Lucy Hawking, Stephen Hawking ; Format. Paperback ; Language. English ; Topic. Science, Books\n",
      "Metrics:\t[0.90556405 0.44192292 0.44015829 0.42477437 0.38974791]\n",
      "----------------------- NEW DATASET OBJECT -----------------------\n",
      "\n",
      "OLD TEXT:\n",
      "\n",
      "Johnny Purvis was released from custody on January 15th, 1993. But he had his problems\n",
      "psychologically and had to undergo extensive psychiatric treatment after his release.\n",
      "He continues to live in Florida and the treatment has helped him.\n",
      "\n",
      "NEW TEXT:\n",
      "\n",
      "Johnny Purvis was released from custody on January 15th, 1993. But he had his problems\n",
      "psychologically and had to undergo extensive psychiatric treatment after his release.\n",
      "He continues to live in Florida and the treatment has helped him.\n",
      ", The Wrong Man: A True Story by Kevin Davis, Avon Books, 1996\n",
      "\n",
      "DIFF:\t\n",
      ", The Wrong Man: A True Story by Kevin Davis, Avon Books, 1996\n",
      "\n",
      "Comment:\t+ [[Category:United States wrongfully convicted people]]\n",
      "\n",
      "DOCS:\n",
      "John Gordon Purvis Jr. (born 1942) is a man who spent nine years in prison for a murder he did not commit. Bruce Wayne: Fugitive is a storyline that ran through the Batman comic books in 2002. Based on a story by Robert Hardy Andrews, the film is about a young man (Wayne) who finds himself suspected of involvement in ↑ The Wrong Man: A True Story by Kevin Davis, Avon Books, 1996\n",
      "\n",
      "John Gordon Purvis Jr. (1942 doğumlu), işlediği bir cinayetten dokuz yıl hapis yatmış bir adam taahhüt etmeyin. John Purvis, 1942de John ve Emma Jo Purvis için doğdu. Babası 20 Şubat 1945te ABDde öldü. ^The Wrong Man: A True Story, Kevin Davis, Avon Books , 1996\n",
      "\n",
      "Now the man who grew up as a girl tells the story of his life, and a medical controversy erupts. By 1965, the year of John and Kevin Thiessens birth, Moneys reputation was virtually unassailable. At 32, Kevin is a dark-bearded, bearlike man with the thickly muscled arms and shoulders of a manual But I like to do guy stuff. It doesnt match. So you figure, Well, theres something wrong here\n",
      "\n",
      "Something went wrong. Wait a moment and try again\n",
      "\n",
      "John Gordon Purvis Jr (1942 doğumlu) o işlemediği bir cinayet suçundan dokuz yıl geçiren bir adam. Johnny Purvis Babası ile, 20 Şubat 1945 tarihinde ülkesinin hizmetinde hayatını verdi 1942 yılında John ve Emma Jo Purvis doğdu ^ [1] Killing 9 yaşında Freed mı Tutuklu Man 2 Şüpheliler Bulunduğunda olarak. ^ Yanlış Adam: A True Story Kevin Davis tarafından Avon Books , 1996\n",
      "Metrics:\t[0.50328011 0.3734335  0.22193258 0.19178852 0.18769953]\n",
      "----------------------- NEW DATASET OBJECT -----------------------\n",
      "\n",
      "OLD TEXT:\n",
      "\n",
      "Candice Rene Accola was born in Houston, Texas, the daughter of Carolyn (Clark), who was an environmental engineer before becoming a homemaker, and Kevin Accola, a cardiothoracic surgeon. She grew up in Edgewood, Florida and attended Lake Highland Preparatory School. Both her parents are active members of the local Republican political party. She has one younger brother.MacKenzie, Carina (October 2, 2009). \"'The Vampire Diaries' cast off the hook\". Los Angeles Times. Retrieved October 17, 2009.\n",
      "\n",
      "NEW TEXT:\n",
      "\n",
      "Candice Rene Accola was born on May 13, 1987, in Houston, Texas, the daughter of Carolyn (Clark), who was an environmental engineer before becoming a homemaker, and Kevin Accola, a cardiothoracic surgeon. She grew up in Edgewood, Florida and attended Lake Highland Preparatory School. Both her parents are active members of the local Republican political party. She has one younger brother.MacKenzie, Carina (October 2, 2009). \"'The Vampire Diaries' cast off the hook\". Los Angeles Times. Retrieved October 17, 2009.\n",
      "\n",
      "DIFF:\ton May 13, 1987, in\n",
      "\n",
      "Comment:\t/* Early life */Now I've placed a font where she herself confirms that she was born on May 13, 1987, there's no way you can revert my edits again.\n",
      "\n",
      "DOCS:\n",
      " Candice King was born on May 13, 1987\n",
      "\n",
      "Candice King, born Candice Rene Accola on May 13, 1987, acquired massive popularity playing Caroline Forbes on the popular show “The Vampire Diaries\n",
      "\n",
      " Born: May 13, 1987. Age: 35 years. To contact/follow Candice Accola King\n",
      "\n",
      "Candice King · Birth Date: May 13, 1987 · Age: 35 years old · Birth Place: Houston, Texas\n",
      "\n",
      "Date of Birth, May 13, 1987 ; Full Name, Candice Rene King ; Profession, Actress ; Nationality, American ; Birthplace, Houston, Texas, United States\n",
      "Metrics:\t[0.22596216 0.14091841 0.12078581 0.10876285 0.08450791]\n",
      "----------------------- NEW DATASET OBJECT -----------------------\n",
      "\n",
      "OLD TEXT:\n",
      "\n",
      "*Porcius Festus, Roman governor of Judea from approximately 58 to 62 AD\n",
      "*Sextus Pompeius Festus (latter 2nd century), Roman grammarian\n",
      "*Festus (died 305), martyr along with Proculus of Pozzuoli\n",
      "*Festus (historian), Roman historian and secretary of the Emperor Valens\n",
      "*Postumius Rufius Festus Avienius, a poet from Etruria\n",
      "\n",
      "NEW TEXT:\n",
      "\n",
      "•Festus Ngetich, a kenyan man in the 21st century\n",
      "*Porcius Festus, Roman governor of Judea from approximately 58 to 62 AD\n",
      "*Sextus Pompeius Festus (latter 2nd century), Roman grammarian\n",
      "*Festus (died 305), martyr along with Proculus of Pozzuoli\n",
      "*Festus (historian), Roman historian and secretary of the Emperor Valens\n",
      "*Postumius Rufius Festus Avienius, a poet from Etruria\n",
      "\n",
      "DIFF:\t•Festus Ngetich, a kenyan man in the 21st century\n",
      "*Porcius Festus,\n",
      "\n",
      "Comment:\tAdditional information\n",
      "\n",
      "DOCS:\n",
      "Festus Kipkorir Ngetich currently works as the University Librarian at Jaramogi Oginga Odinga University of Science and Technology, Kisumu, Kenya\n",
      "Metrics:\t[0.25223288]\n",
      "----------------------- NEW DATASET OBJECT -----------------------\n",
      "\n",
      "OLD TEXT:\n",
      "\n",
      ":This article is about Helen of Troy. For other meanings of the word see Helen (disambiguation).\n",
      "\n",
      "Helen (Greek: , Helene) was reputed to be the most beautiful mortal woman, in Greek mythology. Her abduction by Paris brought about the Trojan War.\n",
      "\n",
      "NEW TEXT:\n",
      "\n",
      ":This article is about the mythological figure Helen of Troy. For other meanings of the word see Helen (disambiguation).\n",
      "\n",
      "In Greek mythology, Helen (Greek: , Helene) was reputed to be the most beautiful mortal woman. Her abduction by Paris brought about the Trojan War.\n",
      "\n",
      "DIFF:\tthe mythological figure Helen of\n",
      "In Greek mythology, Helen\n",
      "\n",
      "Comment:\trevert some changes: \"In [[Greek mythology]]\" is a standard opening, and Helen is certainly a mythological figure, whatever historical content her myth may or may not contain\n",
      "\n",
      "DOCS:\n",
      "In Greek mythology, Helen of Troy is known as the woman whose beauty sparked the Trojan War. But Helen's character is more complex than it seems\n",
      "\n",
      "also known as beautiful Helen, Helen of Argos, or Helen of Sparta, was a figure in Greek mythology said to have been the most beautiful woman in the world\n",
      "\n",
      "In Greek mythology, Helen ( Greek: Ἑλένη, Helénē), better known as Helen of Troy, was the daughter of Zeus and Leda and the wife of Menelaus, king of Sparta\n",
      "\n",
      "In Greek mythology, Helen was the most beautiful woman from the age of the heroes. She was the wife of Menelaus, king of Sparta (one of several Greek kingdoms)\n",
      "\n",
      "In Greek mythology, Helen (Greek: Ἑλένη, Helénē), better known as Helen of Troy, was the daughter of Zeus and Leda and the wife of Menelaus, king of Sparta\n",
      "Metrics:\t[0.76842528 0.73030223 0.7117806  0.70417269 0.69630818]\n",
      "----------------------- NEW DATASET OBJECT -----------------------\n",
      "\n",
      "OLD TEXT:\n",
      "\n",
      "Bodrum () is a district and a port city in Muğla Province, in the southwestern Aegean Region of Turkey. It is located on the southern coast of Bodrum Peninsula, at a point that checks the entry into the Gulf of Gökova, and is also the center of the eponymous district. The city was called Halicarnassus of Caria in ancient times and was famous for housing the Mausoleum of Mausolus, one of the Seven Wonders of the Ancient World. Bodrum Castle, built by the Crusaders in the 15th century, overlooks the harbour and the marina. The castle grounds include a Museum of Underwater Archeology and hosts several cultural festivals throughout the year.\n",
      "\n",
      "The city had a population of 118,237 in 2009.\n",
      "\n",
      "NEW TEXT:\n",
      "\n",
      "Bodrum () is a district and a port city in Muğla Province, in the southwestern Aegean Region of Turkey. It is located on the southern coast of Bodrum Peninsula, at a point that checks the entry into the Gulf of Gökova, and is also the center of the eponymous district. The city was called Halicarnassus of Caria in ancient times and was famous for housing the Mausoleum of Mausolus, one of the Seven Wonders of the Ancient World. Bodrum Castle, built by the Knights Hospitaller in the 15th century, overlooks the harbour and the marina. The castle grounds include a Museum of Underwater Archeology and hosts several cultural festivals throughout the year.\n",
      "\n",
      "The city had a population of 118,237 in 2009.\n",
      "\n",
      "DIFF:\tKnights Hospitaller in the\n",
      "\n",
      "Comment:\tto be specific\n",
      "\n",
      "DOCS:\n",
      "RM E4NY3F–Bodrum Castle bult by the Knights Hospitaller in the 15th Century, Bodrum, Turkey, Asia\n",
      "\n",
      "Built by the Knights Hospitaller in the 15th century, Bodrum Castle is a historical landmark which has seen many different battles and historical figures\n",
      "\n",
      "Confronted with the invasion of Seljuk Turks, the Knights Hospitaller, headquartered on the island of Rhodes, needed another stronghold on the mainland\n",
      "\n",
      "Templars and Knights Hospitaller. Observe Grand Harbour of Valletta from St Peter and Paul bastion, Malta. Sculpture in Bodrum Castle, Mugla, Turkey\n",
      "\n",
      "http://en.wikipedia.org/wiki/Bodrum_Castle\n",
      "Metrics:\t[0.43918841 0.41508833 0.37529976 0.36495686 0.        ]\n"
     ]
    },
    {
     "name": "stdout",
     "output_type": "stream",
     "text": [
      "----------------------- NEW DATASET OBJECT -----------------------\n",
      "\n",
      "OLD TEXT:\n",
      "\n",
      "Duval is the first person whom Paul kills in hand-to-hand combat.  As a civilian, Duval was a French printer, married and with a child.  When Duval dives into a sodden shell hole occupied by Paul while retreating from a failed attack, Paul stabs Duval three times in the chest.  As they sit, trapped together in a shell hole in No-Man's Land, Duval dies slowly and Paul experiences profound remorse, eventually swearing to devote his life to Duval's family.  Kropp and Kat later comfort Paul by noting the joyful abandon with which snipers kill many times each day, and Paul resolves to repress the encounter with Duval with the other horrors he has endured.\n",
      "\n",
      "NEW TEXT:\n",
      "\n",
      "Duval is the first person whom Paul kills in hand-to-hand combat. As a civilian, Duval was a French printer, married and with a child. When Duval dives into a sodden shell hole occupied by Paul while retreating from a failed attack, Paul stabs Duval three times in the chest. As they sit, trapped together in a shell hole in No-Man's Land, Duval dies slowly and Paul experiences profound remorse, even swearing to devote his life to Duval's family. Kropp and Kat later comfort Paul by noting the professional exaltation with which the German snipers kill many times each day, and Paul resolves to suppress in his mind the encounter with Duval, along with the other horrors he has endured.\n",
      "\n",
      "DIFF:\tprofessional exaltation with which the German snipers kill man\n",
      " times each da\n",
      "suppress in his mind the encounter with\n",
      ", along with the other horrors he has\n",
      "\n",
      "Comment:\t/* Gérard Duval */ some tweaks. Professional exaltation seemed a more fitting description of the snipers' manner than joyful abandon.\n",
      "\n",
      "DOCS:\n",
      "Paul's killing of Gérard Duval in Chapter Nine is his first encounter with hand-to-hand combat and, in a sense, with the reality of war\n",
      "\n",
      "Young German soldiers try to adjust to the horrors of World War I\n",
      "\n",
      " Gérard Duval - A French soldier whom Paul kills in No Man's Land\n",
      "\n",
      "As in the case of most of the characters in the novel, he is another example of someone without a future who simply exists in a meaningless world. Gérard Duval\n",
      "\n",
      " Paul stabbing the French soldier Gérard Duval in No Man's Land\n",
      "Metrics:\t[0.42595721 0.371983   0.33151926 0.29514701 0.28690319]\n",
      "----------------------- NEW DATASET OBJECT -----------------------\n",
      "\n",
      "OLD TEXT:\n",
      "\n",
      "* February 7 – Les Ross, né Meakin, English midlands DJ.\n",
      "* March 12 – David Mellor, English politician and radio presenter.\n",
      "* April 2 – Paul Gambaccini, American-born British music presenter.\n",
      "* April 20 – Paul Heiney, English broadcaster.\n",
      "* November – Neal Conan, American NPR host, producer, editor and correspondent, captured during the 1991 Gulf War by the Iraqi Republican Guard.\n",
      "* Philip Dodd, English creative arts academic and broadcaster.\n",
      "\n",
      "NEW TEXT:\n",
      "\n",
      "* February 7 – Les Ross, né Meakin, English midlands DJ.\n",
      "* March 12 – David Mellor, English politician and radio presenter.\n",
      "* April 2 – Paul Gambaccini, American-born British music presenter.\n",
      "* April 20 – Paul Heiney, English broadcaster.\n",
      "* November – Neal Conan, American NPR host, producer, editor and correspondent, captured during the 1991 Gulf War by the Iraqi Republican Guard.\n",
      "* December 12 – Bill Nighy, English actor.\n",
      "* Philip Dodd, English creative arts academic and broadcaster.\n",
      "\n",
      "DIFF:\tDecember 12 – Bill Nighy, English actor.\n",
      "* \n",
      "\n",
      "Comment:\t/* Births */ addition\n",
      "\n",
      "DOCS:\n",
      " December 12 - Bill Nighy, English actor. Philip Dodd, English creative arts academic and broadcaster\n",
      "\n",
      "English actor and comedian. Bill Nighy is a 72 years old English actor and comedian from Caterham, England. He was born on December 12, 1949 in Caterham, England as William Francis Nighy. His nickname is Nighy William Francis (birth name). Bill Nighy, English actor and comedian\n",
      "\n",
      "Bill Nighy Age  Birthday Bill Nighy is best known as Movie Actor who has born on December 12, 1949 in Caterham, England. Currently, Bill Nighy is 72 years, 11 months and 10 days old. Bill Nighy will celebrate 73rd birthday on Monday, 12th of December 2022. Below the countdown to Bill Nighy upcoming birthday\n",
      "\n",
      "Bill Nighy is an award-winning British character actor. He was born William Francis Nighy on December 12, 1949 in Caterham, Surrey, England, to Catherine Josephine (Whittaker), a psychiatric nurse from Glasgow, and Alfred Martin Nighy, who was English-born and managed a garage in Croydon\n",
      "\n",
      "He is 71 years old as of 12 December 2020. He was born William Francis Nighy in 1949 in Caterham, United Kingdom. Bill Nighy Family Catherine Josephine Nighy (née Whittaker), Nighys mother, was an Irish-born psychiatric nurse, and his English father, Alfred Martin Nighy, managed a car garage after working in the family chimney sweeping business\n",
      "Metrics:\t[0.68543725 0.59729753 0.59590642 0.46561906 0.44501495]\n",
      "----------------------- NEW DATASET OBJECT -----------------------\n",
      "\n",
      "OLD TEXT:\n",
      "\n",
      "The eleven Grands Prix of the season will be held in eight countries; Germany will hold three events and the Netherlands will hold two events, while France, Switzerland, Latvia, Czech Republic, Belgium, Estonia and Ukraine will all host one event. In comparison to 2015 the season will be reduced from 15 to 11 events. France lost two events while Switzerland and Latvia lost one and Spain was dropped off the calendar altogether. Ukraine, who had its 2014 and 2015 Grand Prix cancelled because of political events, had originally scheduled an event but this was later moved to Germany.\n",
      "\n",
      "NEW TEXT:\n",
      "\n",
      "The eleven Grands Prix of the season will be held in eight countries; Germany will hold three events and the Netherlands will hold two events, while France, Switzerland, Latvia, Czech Republic, Belgium and Estonia will all host one event. In comparison to 2015 the season will be reduced from 15 to 11 events. France lost two events while Switzerland and Latvia lost one and Spain was dropped off the calendar altogether. Ukraine, who had its 2014 and 2015 Grand Prix cancelled because of political events, had originally scheduled an event but this was later moved to Germany.\n",
      "\n",
      "DIFF:\twill all host one\n",
      "\n",
      "Comment:\t/* Overview */ fix mistake\n",
      "\n",
      "DOCS:\n",
      "The Sidecar Motocross World Championship is an annual event, first held in 1980. It is organized by the Fédération Internationale de Motocyclisme (FIM)\n",
      "\n",
      " We also have a fantastic offer for all ACU\n",
      "\n",
      "\n",
      "Metrics:\t[0.00193845 0.         0.        ]\n",
      "----------------------- NEW DATASET OBJECT -----------------------\n",
      "\n",
      "OLD TEXT:\n",
      "\n",
      "William Olaf Stapledon (10 May 1886 – 6 September 1950) – known as Olaf Stapledon – was a British philosopher and author of influential works of science fiction.Andy Sawyer, \"[William] Olaf Stapledon (1886-1950)\", in Bould, Mark, et al, eds. Fifty Key Figures in Science Fiction. New York: Routledge, 2010. (pp. 205–210) ISBN 1135285349.John Kinnaird, \"Stapledon,(William) Olaf\" in Curtis C. Smith, Twentieth-Century Science-Fiction Writers. Chicago, St. James, 1986. ISBN 0912289279 (pp. 693–6). In 2014, he was inducted into the Science Fiction and Fantasy Hall of Fame.\n",
      "\n",
      "NEW TEXT:\n",
      "\n",
      "William Olaf Stapledon (10 May 1886 – 6 September 1950) – known as Olaf Stapledon – was a British philosopher and author of  science fiction.Andy Sawyer, \"[William] Olaf Stapledon (1886-1950)\", in Bould, Mark, et al, eds. Fifty Key Figures in Science Fiction. New York: Routledge, 2010. (pp. 205–210) ISBN 1135285349.John Kinnaird, \"Stapledon,(William) Olaf\" in Curtis C. Smith, Twentieth-Century Science-Fiction Writers. Chicago, St. James, 1986. ISBN 0912289279 (pp. 693–6). In 2014, he was inducted into the Science Fiction and Fantasy Hall of Fame.\n",
      "\n",
      "DIFF:\t science fiction.Andy Sa\n",
      "\n",
      "Comment:\trm initial POV\n",
      "\n",
      "DOCS:\n",
      "Nov 28, 2011 — Andy Sawyer had visited from the Science & Science Fiction Library Special Collections and Archive of the University of Liverpool\n",
      "\n",
      " key influence by science-fiction masters such as Doris\n",
      "\n",
      "Plaque to science fiction author William Olaf Stapledon, who lived in the area, on Simon's Bridge across the Wirral Way in Caldy\n",
      "\n",
      "Science Fiction Studies. Olaf Stapledon. Survey; Articles; Review Pages; Notes and Correspondence. Survey\n",
      "\n",
      "by G Canavan · 2016 · Cited by 6 — SCIENCE FICTION STUDIES, VOLUME 43 (2016). Gerry Canavan. “A Dread Mystery, Compelling Adoration”: Olaf Stapledon,. Star Maker, and Totality\n",
      "Metrics:\t[0.35927304 0.23882228 0.17142114 0.16679145 0.12633636]\n",
      "----------------------- NEW DATASET OBJECT -----------------------\n",
      "\n",
      "OLD TEXT:\n",
      "\n",
      "Harold Briggs may refer to:,  Harold Rawdon Briggs, Director of Operations for the British Army in Malaya 1950–1951\n",
      "* Harold Briggs (politician) (1870–1945), British Conservative Member of Parliament for Manchester Blackley 1918–1923, 1924–1929\n",
      "\n",
      "NEW TEXT:\n",
      "\n",
      "Harold Briggs may refer to:, Harold Douglas Briggs (1877-1944), senior Royal Navy and Royal Air Force officer .\n",
      "*Harold Rawdon Briggs, Director of Operations for the British Army in Malaya 1950–1951\n",
      "*Harold Briggs (politician) (1870–1945), British Conservative Member of Parliament for Manchester Blackley 1918–1923, 1924–1929\n",
      "\n",
      "DIFF:\tDouglas Briggs (1877-1944), senior \n",
      "oyal Navy and Royal Air Force officer .\n",
      "*Harold R\n",
      "\n",
      "Comment:\tHarold Douglas Briggs\n",
      "\n",
      "DOCS:\n",
      "Brigadier General Harold Douglas Briggs, CMG (29 September 1877 - 13 September 1944) was a senior Royal Navy and Royal Air Force officer who played a leading role in British naval aviation during the First World War\n",
      "\n",
      "Brigadier-General Harold Douglas Briggs CMG (29 September 1877 - 13 September 1944) was a senior Royal Navy and Royal Air Force officer who played a leading role in British naval aviation during World War I . Contents 1 Background 2 Royal Air Force 3 Notes 4 External links Background Briggs was born 29 September 1877\n",
      "\n",
      "Brigadier General Harold Douglas Briggs, CMG (29 September 1877 - 13 September 1944) was a senior Royal Navy and Royal Air Force officer who played a leading role in British naval aviation during the First World War. Contents 1 Background 2 Royal Air Force 3 Notes 4 External links Background Briggs was born 29 September 1877\n",
      "\n",
      "Brigadier General Harold Douglas Briggs, CMG (29 September 1877 - 13 September 1944) was a senior Royal Navy and Royal Air Force officer who played a leading role in British naval aviation during the First World War . Contents 1 Background 2 Royal Air Force 3 Notes 4 External links Background [ edit] Briggs was born 29 September 1877\n",
      "\n",
      "Resides in Dillon, MT. Lived In Mesa AZ, San Jose CA, Sierra Vista AZ, Layton UT. Related To Joanne Briggs, Julie Briggs, Eric Briggs. Also known as Laron H Briggs, Ron Laron Briggs, H Briggs. Includes Address (13) Phone (9) Email (9) See Results. Harold Dean Briggs, 58\n",
      "Metrics:\t[0.79823023 0.79729517 0.77926434 0.77572833 0.69286529]\n",
      "----------------------- NEW DATASET OBJECT -----------------------\n",
      "\n",
      "OLD TEXT:\n",
      "\n",
      "Admiral Sir Kenneth John Eaton GBE KCB (born 12 August 1934) is a Royal Navy officer who went on to be Third Sea Lord.\n",
      "\n",
      "NEW TEXT:\n",
      "\n",
      "Admiral Sir Kenneth John Eaton GBE KCB (born 12 August 1934) is a Royal Navy officer who went on to be Controller of the Navy.\n",
      "\n",
      "DIFF:\tController of t\n",
      "\n",
      "Comment:\texpand\n",
      "\n",
      "DOCS:\n",
      " Centers for Disease Control and Prevention (CDC), Hyattsville, MD, USA\n",
      "\n",
      " And Armageddon couldn't threaten us if we kept whistling Bye Bye Blackbird\n",
      "\n",
      "The math just doesn't add up. All that a flat tax would do is decrease the tax burden on the ultra rich, and place it on those who are working a 9-to-5 job\n",
      "\n",
      "Admiral Sir Kenneth John Eaton GBE KCB (born 12 August 1934) is a Royal Navy officer who served as Controller of the Navy between 1989 and 1994\n",
      "\n",
      "Buy a cheap copy of Brain Voices book by Kenneth Eaton. Out here, no one could hear her scream, so he would take his time in torturing her\n",
      "Metrics:\t[0.00605495 0.00541638 0.00510048 0.00486352 0.        ]\n",
      "----------------------- NEW DATASET OBJECT -----------------------\n",
      "\n",
      "OLD TEXT:\n",
      "\n",
      "Sarah was previously seen in the background of season 2 episode Red Cell walking through McGee's apartment with what appears to be nothing but a long T-Shirt on.  At that time it was not revealed that she was his sister.\n",
      "\n",
      "Troian Bellisario is the daughter of series creator Donald Bellisario. This is not the first time she has appeared in one of her father's series, having appeared as a small child in the Quantum Leap Episode \"Another Mother\".\n",
      "\n",
      "Another Quantum Leap episode \"A Portrait for Troian\" is named for her. This episode guest stars Bellisario's then wife, Deborah Pratt in the role of Troian.\n",
      "\n",
      "NEW TEXT:\n",
      "\n",
      "Sarah was previously seen in the background of season 2 episode Red Cell walking through McGee's apartment with what appears to be nothing but a long T-Shirt on.  At that time it was not revealed that she was his sister.\n",
      "\n",
      "Troian Bellisario is the daughter of series creator Donald Bellisario. This is not the first time she has appeared in one of her father's series, having appeared as a small child in the Quantum Leap episode \"Another Mother\".\n",
      "\n",
      "Another Quantum Leap episode \"A Portrait for Troian\" is named for her. This episode guest stars Bellisario's then wife, Deborah Pratt, in the role of Troian.\n",
      "\n",
      "DIFF:\tepisode\n",
      ", in the role of\n",
      "\n",
      "Comment:\tstub sort\n",
      "\n",
      "DOCS:\n",
      "The best trivia for NCIS: Naval Criminal Investigative Service (2003). Beginning with season 2, the title was shortened to just NCIS, after the producers convinced CBS (the network had insisted on the longer title) that Navy: NCIS was redundant, since the N in NCIS stands for Naval\n",
      "\n",
      "Twisted Sister S4 E9 44min TV-PG After McGees sister appears at his door bloodied and confused, he struggles to piece together her whereabouts the night before. Soon he discovers that the NCIS team is investigating the murder of a Navy sailor who had a previous relationship with his sister\n",
      "\n",
      "Twisted Sister Help S4 E9 44min TV-PG After McGees sister appears at his door bloodied and confused, he struggles to piece together her whereabouts the night before. Soon he discovers that the NCIS team is investigating the murder of a Navy sailor who had a previous relationship with his sister\n",
      "\n",
      "The special agents of the Naval Criminal Investigative Service ( NCIS ) arent the only folks with Murrays stepsister, Troian Bellisario, plays his onscreen sister, Sarah McGee, who becomes the To nail the role, the Chilean-born actress linked up with a Hebrew language instructor. surrounding some of NCIS  more prominent characters are just as twisted as the shows most aberrant episodes\n",
      "\n",
      "As Insider notes, Troian Bellisario kept it in the family when she appeared on NCIS because the actors father, Donald Bellisario, actually created the hit show. Hes also responsible for the likes of JAG and Last Rites, on which Bellisario also starred when she was first starting out\n",
      "Metrics:\t[0.00453413 0.00424764 0.00421507 0.00366411 0.00356176]\n"
     ]
    },
    {
     "name": "stdout",
     "output_type": "stream",
     "text": [
      "----------------------- NEW DATASET OBJECT -----------------------\n",
      "\n",
      "OLD TEXT:\n",
      "\n",
      "Born to a Jewish family, Messing fled from Germany to the USSR before World War II. He claimed that his abilities came to the attention of Joseph Stalin. According to Messing, he was able to broadcast mental suggestions in order to alter people's perceptions.\n",
      "he died in ?\n",
      "\n",
      "NEW TEXT:\n",
      "\n",
      "Born to a Jewish family, Messing fled from Germany to the USSR before World War II. He claimed that his abilities came to the attention of Joseph Stalin. According to Messing, he was able to broadcast mental suggestions in order to alter people's perceptions.\n",
      "he died in November 8, 1974.\n",
      "\n",
      "DIFF:\tNovember 8, 1974.\n",
      "\n",
      "Comment:\t/* Biography */ Brought into agreement with earlier in article\n",
      "\n",
      "DOCS:\n",
      " had arrived [in Vienna] from Zürich, where he taught, in November 1913 \n",
      "\n",
      " all over the immense country, until his death on November 8, 1974\n",
      "\n",
      " He died on 8 November 1974 in Moscow\n",
      "\n",
      " It is known for certain that Wolf died on November 8, 1974 in Moscow\n",
      "\n",
      "The famous psychic Wolf Messing (Birth 10-9-1899; Death 8-11-1974) was born in a small village Gora Kaiwarida near Warsaw\n",
      "Metrics:\t[0.0198786  0.00760153 0.00683986 0.0061183  0.00605229]\n",
      "----------------------- NEW DATASET OBJECT -----------------------\n",
      "\n",
      "OLD TEXT:\n",
      "\n",
      "Spyridon (Greek: Σπυρίδων) is a Greek male given name. As with most Greek names nowadays, it is shortened to Σπύρος (Spyros, often Anglicised as Spyro or Spiro) since Spyridon sounds too archaic and ecclesiastical. The name's origins are traced to Latin spiritum and the Roman praenomen Spurius. Individuals bearing this name include:, St. Spyridon, Orthodox saint. \n",
      ":*St Spyridon College, Greek Orthodox school in Sydney.\n",
      "*Spyridon Marinatos, 20th century archaeologist. \n",
      "*Spyridon Louis, gold medallist of the first modern Marathon. \n",
      "*Spyridon of Athens, ex-Archbishop of Athens\n",
      "*Spyridon Trikoupis, 2nd Prime Minister of Greece.\n",
      "*Spyridon Stais, politician.\n",
      "*Spyridon Xyndas, 19th century musician.\n",
      "\n",
      "NEW TEXT:\n",
      "\n",
      "Spyridon (Greek: Σπυρίδων) is a Greek male given name. As with most Greek names nowadays, it is shortened to Σπύρος (Spyros, often Anglicised as Spyro or Spiro) since Spyridon sounds too archaic and ecclesiastical. The name's origins are traced to Latin spiritum and the Roman praenomen Spurius. Individuals bearing this name include:, St. Spyridon, Orthodox saint. \n",
      ":*St Spyridon College, Greek Orthodox school in Sydney.\n",
      "*Spyridon Marinatos, 20th century archaeologist. \n",
      "*Spyridon Louis, gold medallist of the first modern Marathon. \n",
      "*Archbishop Spyridon of Athens, former Archbishop of Athens\n",
      "*Spyridon Trikoupis, 2nd Prime Minister of Greece.\n",
      "*Spyridon Stais, politician.\n",
      "*Spyridon Xyndas, 19th century musician.\n",
      "\n",
      "DIFF:\tArchbishop Spyridon\n",
      "former \n",
      "\n",
      "Comment:\trename\n",
      "\n",
      "DOCS:\n",
      "Today, December 12, The Greek Orthodox Church commemorates and honors St Spyridon. In Corfu, it is a special day of joyous celebration, seeing that St Spyridon is the patron saint of the island. As you may know, Greeks dont just have birthdays; they also celebrate their name days with parties, offering sweets and receiving gifts\n",
      "\n",
      "Spyridon ( secular name: Σπυρίδων Βλάχος Spyridon Vlachos) was Archbishop of Athens and All Greece from 1949 until 1956. He was born in Chili (Χήλη), in present-day northern Turkey, and studied at the Halki seminary\n",
      "\n",
      "Spyridon was born in Askeia, in Cyprus. He worked as a shepherd and was known for his great piety. He married and had one daughter, Irene. Upon the death of his wife, Spyridon entered a monastery, and their daughter, a convent . Spyridon eventually became Bishop of Trimythous, or Tremithous (today called Tremetousia ), in the district of Larnaca\n",
      "\n",
      "Homily for the Feast of Saint Spyridon the Wonderworker Saint Spyridon Greek Orthodox Church New York, New York December 12, 2021 . Beloved Brothers and Sisters in Christ, Today is a day of great rejoicing and gladness for the Church worldwide! But especially for all who bear the name, Spyridon, whether they be individuals or Churches of God\n",
      "\n",
      "Archbishop Spyridon had evidently decided to begin his tenure by cleaning house. The decision to remove a group of clerical professors whom he considered too acculturated to American norms was consistent with his sense of the American problem, but probably didnt represent the patriarchates agenda for the American archdiocese\n",
      "Metrics:\t[0.02841073 0.01405144 0.01265249 0.01246181 0.01241634]\n",
      "----------------------- NEW DATASET OBJECT -----------------------\n",
      "\n",
      "OLD TEXT:\n",
      "\n",
      "Although previous cycling clubs have hosted vintage-themed rides before, the very first Tweed Run  was held on 24 January 2009, and organised via London Fixed Gear and Single Speed, an online cycling forum.  The second run was held on 10 April 2010, for 500 registered riders.\n",
      "\n",
      "Since then the Tweed Run has become an annual event with major sponsors. Participants were limited to 500 (due to health and safety rules) but by 2018 the numbers had increased to 1000 and due to high and popular demand a ticket ballot system had been in place but are now sold on a first come first served basis often selling out very quickly.\n",
      "\n",
      "NEW TEXT:\n",
      "\n",
      "Although previous cycling clubs have hosted vintage-themed rides before, the very first Tweed Run  was held on 24 January 2009, and organised by Ted Young-Ing via London Fixed Gear and Single Speed, an online cycling forum.  The second run was held on 10 April 2010, for 500 registered riders.\n",
      "\n",
      "Since then the Tweed Run has become an annual event with major sponsors. Participants were limited to 500 (due to health and safety rules) but by 2018 the numbers had increased to 1000 and due to high and popular demand a ticket ballot system had been in place but are now sold on a first come first served basis often selling out very quickly.\n",
      "\n",
      "DIFF:\tby Ted Young-Ing via\n",
      "\n",
      "Comment:\t/* First Tweed Run */added founder\n",
      "\n",
      "DOCS:\n",
      "Tweed Run · Ted Young Ing creator of #TweedRun · More like this\n",
      "\n",
      " GREAT BRITAIN / England / London / Tweed Run founder Ted Young-Ing Stock Photo\n",
      "\n",
      " Ted Young-Ing, co-Founder of the Tweed Run, checks his iphone\n",
      "\n",
      " Written by Ted Young-Ing, organizer of the Tweed Run\n",
      "\n",
      "Oct 4, 2011 — Ted Young-Ing founded The Tweed Run in 2009, as an excuse to rock an insane pair of plus-fours he found in a London shop\n",
      "Metrics:\t[0.33650476 0.29691047 0.26453157 0.26178989 0.25559858]\n",
      "----------------------- NEW DATASET OBJECT -----------------------\n",
      "\n",
      "OLD TEXT:\n",
      "\n",
      "In addition, Bethesda's primary public high schools were ranked by Newsweek Magazine in 2008 as among the best in the country. Bethesda-Chevy Chase High School was ranked 53rd nationally, Walt Whitman High School was ranked 44th, and Walter Johnson High School 75th. It also has several private schools, including Landon, Holton-Arms, Sidwell Friends Lower School (pre-K to 4th grade), Stone Ridge School of the Sacred Heart and Norwood.\n",
      "\n",
      "NEW TEXT:\n",
      "\n",
      "In addition, Bethesda's public high schools were ranked by Newsweek Magazine in 2008 as among the best in the country. Bethesda-Chevy Chase High School was ranked 53rd nationally, Walt Whitman High School was ranked 44th, and Walter Johnson High School 75th. It also has several private schools, including Landon, Holton-Arms, Sidwell Friends Lower School (pre-K to 4th grade), Stone Ridge School of the Sacred Heart and Norwood.\n",
      "\n",
      "Primary schools: Green Acres School (public), The Green Acres School (private)\n",
      "\n",
      "Middle schools: The Little Flower School (private)\n",
      "\n",
      "DIFF:\t\n",
      "\n",
      "Primary schools: Green Acres School (public), The Green Acres School (private)\n",
      "\n",
      "Middle schools: The Little Flower School (private)\n",
      "\n",
      "Comment:\t/* Education */ Primary schools: [[Green Acres]] (public), The [[Little Flower School]] (private)\n",
      "\n",
      "DOCS:\n",
      " Schools. Public Schools; Private Schools. Wood Acres Elementary. Public Elementary School\n",
      "\n",
      " St. Therese of the Little FLower School Y\n",
      "\n",
      "Welcome to Gay Parent Magazine's listing of infant classes, preschools, and private day and boarding schools. Select the state for the schools in your area\n",
      "\n",
      "schools, Westland Middle School, and Bethesda-Chevy. Chase High School. In the Walt Whitman Cluster, the Plan is within the service areas of Wood Acres\n",
      "\n",
      " JoAnn Leleck Elementary School at Broad Acres \n",
      "Metrics:\t[0.83029532 0.79774959 0.54231615 0.50208155 0.48226236]\n",
      "----------------------- NEW DATASET OBJECT -----------------------\n",
      "\n",
      "OLD TEXT:\n",
      "\n",
      "The above definitions of continuous functions can be generalized to functions from one topological spaces to another in a natural way; a function f : X → Y, where X and Y are topological spaces, is continuous iff for every open set V ⊆ Y, f −1(V) is open in X.\n",
      "\n",
      ",  uniform continuity\n",
      "* bounded linear operator\n",
      "* absolute continuity\n",
      "* semicontinuity\n",
      "* normal function\n",
      "* equicontinuity\n",
      "* continuous functor\n",
      "* Lipschitz continuity\n",
      "\n",
      "NEW TEXT:\n",
      "\n",
      "The above definitions of continuous functions can be generalized to functions from one topological spaces to another in a natural way; a function f : X → Y, where X and Y are topological spaces, is continuous iff for every open set V ⊆ Y, f −1(V) is open in X.\n",
      "\n",
      ",  uniform continuity\n",
      "* bounded linear operator\n",
      "* absolute continuity\n",
      "* semicontinuity\n",
      "* normal function\n",
      "* equicontinuity\n",
      "* continuous functor\n",
      "* Lipschitz continuity\n",
      "* Classification of discontinuities\n",
      "\n",
      "DIFF:\t\n",
      "* Classification of discontinuities\n",
      "\n",
      "Comment:\tsee also: [[Classification of discontinuities]] on the real line -- long overdue I would say\n",
      "\n",
      "DOCS:\n",
      "A continuous function can have zero limits. If its value is not stationary, the limit is not a discontinuous function. The worst type of discontinuity is an essential one. Its behavior is unbounded and often crazy. It may have many jump discontinuities over a short period of time. Other types of discontinuities may have no limits at all\n",
      "\n",
      "The definition of continuity of a function between two topological spaces is introduced and its equivalence to metrical continuity is seen\n",
      "\n",
      "Continuous functions are functions that have no restrictions throughout their domain or a given interval. Their graphs wont contain any asymptotes or signs of discontinuities as well. The graph of f ( x) = x 3 - 4 x 2 - x + 10 as shown below is a great example of a continuous functions graph\n",
      "\n",
      "We say that a function is continuous everywhere if it is continuous at every real value c. We can also say that a function is continuous on its domain if it is continuous at every real value c that falls in the domain of the function in question. We say that a function is discontinuous at x = c if any of the three conditions above fail to be true\n",
      "\n",
      "The two underlying mathematical operations in Calculus are Differentiation  Integration. These operations involve the computation of the derivative and the definite integral, each based on the notion of limit and continuity. Indeed, a continuous function is the most important class of functions studied in calculus\n",
      "Metrics:\t[0.83309172 0.47629342 0.44108648 0.37259334 0.31916719]\n",
      "----------------------- NEW DATASET OBJECT -----------------------\n",
      "\n",
      "OLD TEXT:\n",
      "\n",
      "Cureton was commissioned as an ensign in the Shropshire militia on 21 April 1806. He fought at the Battle of Talavera in July 1809, the Battle of Bussaco in September 1810 and the Battle of Fuentes de Oñoro in May 1811 during the Peninsular War. He also saw action at the Siege of Badajoz in April 1812, the Battle of Salamanca in July 1812 and the Battle of Vitoria in June 1813 as well as the Battle of Orthez in February 1814, the Battle of Tarbes in March 1814 and the Battle of Toulouse in April 1814. \n",
      "\n",
      "Cureton also fought at the Battle of Ghazni in July 1839 during the First Anglo-Afghan War and also took part in the Gwalior Campaign in December 1843. \n",
      "\n",
      "He served as Adjutant-General in India from April 1846 until his death in action in November 1848.\n",
      "\n",
      "NEW TEXT:\n",
      "\n",
      "Cureton was commissioned as an ensign in the Shropshire militia on 21 April 1806. He fought at the Battle of Talavera in July 1809, the Battle of Bussaco in September 1810 and the Battle of Fuentes de Oñoro in May 1811 during the Peninsular War. He also saw action at the Siege of Badajoz in April 1812, the Battle of Salamanca in July 1812 and the Battle of Vitoria in June 1813 as well as the Battle of Orthez in February 1814, the Battle of Tarbes in March 1814 and the Battle of Toulouse in April 1814. \n",
      "\n",
      "Cureton also fought at the Battle of Ghazni in July 1839 during the First Anglo-Afghan War and also took part in the Gwalior Campaign in December 1843. He commanded the cavalry at the Battle of Aliwal in January 1846 during the First Anglo-Sikh War.\n",
      "\n",
      "He served as Adjutant-General in India from April 1846 until his death in action in November 1848.\n",
      "\n",
      "DIFF:\tHe commanded the cavalry at the Battle of Aliwal in January 1846 during the First Anglo-Sikh War.\n",
      "\n",
      "Comment:\t/* Military career */ exp\n",
      "\n",
      "DOCS:\n",
      "He commanded the cavalry at the Battle of Aliwal in January 1846 and the Battle of Sobraon in February 1846 during the First Anglo-Sikh War\n",
      "\n",
      "General Harry Smith, British commander at the Battle of Aliwal on 28th January 1846 in the First Sikh War. Date of the Battle of Aliwal: 28th January 1846\n",
      "\n",
      "Haines became A.D.C. to Sir Hugh Gough,1 and he served as his Military Secretary through part of the first, and the whole of the second, Sikh war. The\n",
      "\n",
      "Aliwal (First Sikh War). Fought January 28, 1846, between the British, 10,000 strong, under Sir Harry Smith, and 20,000 Sikhs under Runjur Singh\n",
      "\n",
      " was ordered to reduce military expenses to \"within the narrow-\n",
      "Metrics:\t[0.87426467 0.62612562 0.30523597 0.30449524 0.23052116]\n"
     ]
    },
    {
     "name": "stdout",
     "output_type": "stream",
     "text": [
      "----------------------- NEW DATASET OBJECT -----------------------\n",
      "\n",
      "OLD TEXT:\n",
      "\n",
      "Sade can mean:,  Sade Adu, female singer, or the eponymous group she fronts, Sade\n",
      "* Donatien Alphonse François, Marquis de Sade, the eighteenth century aristocrat, writer and libertine\n",
      "* Sade (2000), a French film starring Daniel Auteuil as the Marquis de Sade\n",
      "* Sade Baderinwa, the WABC-TV Eyewitness News reporter and anchor\n",
      "* Tsadi, a letter  of the Aramaic alphabet\n",
      "* Sade (clan), a clan of Somalia\n",
      "\n",
      "de:Sade\n",
      "es:Sade\n",
      "fr:Sade\n",
      "it:Sade\n",
      "\n",
      "NEW TEXT:\n",
      "\n",
      "Sade can mean:,  Sade Adu, female singer, or the eponymous group she fronts, Sade\n",
      "* Donatien Alphonse François, Marquis de Sade, the eighteenth century aristocrat, writer and libertine\n",
      "* Sade (movie) (2000), a French film starring Daniel Auteuil as the Marquis de Sade\n",
      "* Sade Baderinwa, the WABC-TV Eyewitness News reporter and anchor\n",
      "* Tsadi, a letter  of the Aramaic alphabet\n",
      "* Sade (clan), a clan of Somalia\n",
      "\n",
      "de:Sade\n",
      "es:Sade\n",
      "fr:Sade\n",
      "it:Sade\n",
      "\n",
      "DIFF:\t (movie)\n",
      "\n",
      "Comment:\twikified, per [[Wikipedia:Manual of Style (disambiguation pages)]]\n",
      "\n",
      "DOCS:\n",
      "A man prepares himself to be transferred to a detention center and rest home where he will relive one more time the highlights of his youth\n",
      "\n",
      "Movie More Info. 1794. The Revolution has entered the bloodiest phase of the Terror, and the Marquis de Sade is once again in prison\n",
      "\n",
      "In 1794, while French aristocrats are beheaded daily as part of Robespierre's 'Reign of Terror,' the Marquis de Sade is being held at Saint Lazare prison\n",
      "\n",
      "If you're looking for a smart, nuanced look at de Sade and what might have happened at Picpus, Sade is your film. Jonathan Curiel. San Francisco Chronicle\n",
      "\n",
      "Apr 26, 2002 — Summary: Based on the novel by Serge Bramly, this film chronicles the later years of the infamous Marquis De Sade (Auteuil)\n",
      "Metrics:\t[0.00972712 0.00642583 0.00441105 0.0034446  0.00220098]\n",
      "----------------------- NEW DATASET OBJECT -----------------------\n",
      "\n",
      "OLD TEXT:\n",
      "\n",
      ": Main articles: Biologist and List of biologists\n",
      "\n",
      "Charles Robert Darwin -- Alfred Russel Wallace -- Jean-Baptiste Lamarck -- Sir Charles Lyell -- Alfred Wegener -- Alexander Fleming -- Andrew Huxley -- Robert Koch -- Konrad Lorenz -- Ernst Haeckel -- Theodor Bilharz -- Marcello Malpighi -- Antoni van Leeuwenhoek -- Konrad Lorenz -- Thomas Malthus -- Edward Jenner -- Carolus Linnaeus -- Sewall Wright -- Louis Pasteur -- Gregor Mendel -- Barbara McClintock -- James D. Watson -- Francis Crick -- Kary Mullis -- Rosalind Franklin -- Steven Jay Gould -- Lynn Margulis -- Carl Woese -- Jane Goodall\n",
      "\n",
      "NEW TEXT:\n",
      "\n",
      ": Main articles: Biologist and List of biologists\n",
      "\n",
      "Charles Robert Darwin -- Alfred Russel Wallace -- Jean-Baptiste Lamarck -- Sir Charles Lyell -- Alfred Wegener -- Alexander Fleming -- Andrew Huxley -- Robert Koch -- Konrad Lorenz -- Ernst Haeckel -- Theodor Bilharz -- Marcello Malpighi -- Antoni van Leeuwenhoek -- Konrad Lorenz -- Thomas Malthus -- Edward Jenner -- Carolus Linnaeus -- Sewall Wright -- Louis Pasteur -- Gregor Mendel -- Barbara McClintock -- James D. Watson -- Francis Crick -- Kary Mullis -- Rosalind Franklin -- Steven Jay Gould -- Lynn Margulis -- Carl Woese -- Jane Goodall -- E. O. Wilson\n",
      "\n",
      "DIFF:\t -- E. O. Wilson\n",
      "\n",
      "Comment:\t/* Influential biologists */ add e.o. wilson father of sociobiology  -  genes and behavior\n",
      "\n",
      "DOCS:\n",
      "E. O. Wilson is an American naturalist, biologist, and writer. An influential biologist, Wilson has earned several nicknames, such as The Darwin of the 21st century. He has also been referred to as the father of biodiversity and the father of sociobiology. In 1995, he was ranked among the most influential American personalities by Time magazine\n",
      "\n",
      "E.O. Wilson defined Sociobiology as the extension of population biology and evolutionary theory to social organization (Wilson 2000). Dr. Wilson, who until then had specialized in social insects, published a seven-hundred-page book in 1975: Sociobiology: The New Synthesis investigates social behaviors such as mating, territorial conflicts, pack hunting, and the social societies of hive insects\n",
      "\n",
      "Prof. E.O. Wilson says move over, physics. Its biologys century\n",
      "\n",
      "Two groups of evolutionary biologists took a closer look at E.O. Wilsons archived letters with a racist psychologist. The famous Harvard scientist died last month\n",
      "\n",
      "1929 - 2021 (92 years) Areas of Specialization: Myrmecology, Biodiversity, Sociobiology. Edward O. Wilson is the worlds leading expert on ants, a specialty known as myrmecology, but thats not all. He is also considered the father of biodiversity and the father of sociobiology\n",
      "Metrics:\t[0.5052239  0.4324125  0.36437503 0.32577086 0.3200632 ]\n",
      "----------------------- NEW DATASET OBJECT -----------------------\n",
      "\n",
      "OLD TEXT:\n",
      "\n",
      "Sanyasi is a 1975 Hindi film directed by Sohanlal Kanwar, starring Manoj Kumar and Hema Malini as leads. The film is noted for its music by Shankar Jaikishan. The film was third highest grossing film of the year.\n",
      "\n",
      "NEW TEXT:\n",
      "\n",
      "Sanyasi () is a 1975 Hindi film directed by Sohanlal Kanwar, starring Manoj Kumar and Hema Malini as leads. The film is noted for its music by Shankar Jaikishan. The film was third highest grossing film of the year.\n",
      "\n",
      "DIFF:\t() is a\n",
      "\n",
      "Comment:\t/* top */ Reference edited with [[Wikipedia:ProveIt|ProveIt]]\n",
      "\n",
      "DOCS:\n",
      "definition - sanyasi 1975 film definition of Wikipedia Advertizing Wikipedia Sanyasi (1975 film) From Wikipedia Jump to: navigation, search Synopsis Ram (Manoj Kumar): In a gorgeous place stays a sanyasi - a religious minded young man who runs away from the wedding nupitals. Aarti (Hema Malini): Todays Menaka\n",
      "\n",
      "Sanyasi is a 1975 Hindi film directed by Sohanlal Kanwar, starring Manoj Kumar and Hema Malini as leads. The film is noted for its music by Shankar Jaikishan. The film was the third highest grossing film of the year.[1] For faster navigation, this Iframe is preloading the Wikiwand page for Sanyasi (1975 film)\n",
      "\n",
      "Sanyasi Album Category: Hindi, Film Year: 1975 Music Director: Shankar - Jaikishan Lyricist: Vithalbhai Patel, Vishweshwar Sharma, M.G. Hashmat, Indeevar, Hasrat Jaipuri, Verma Malik Label: H.M.V. Overall Rating: My Rating: Album Credits: MUSIC ASSISTANTS: Dattaram Wadkar, Sebastian DSouza, Dhiraj Sharma\n",
      "\n",
      "Sanyasi (transl. Hermit) is a 1975 Hindi film directed by Sohanlal Kanwar, starring Manoj Kumar and Hema Malini as leads.The film is noted for its music by Shankar Jaikishan. The film was third highest grossing film of the year. Plot. Renukadevi (Sulochana) is widowed and the mother of a son named Ram (Manoj Kumar)\n",
      "\n",
      "Sanyasi (1975) Plot Showing all 1 items Jump to: Summaries (1) Summaries Renukadevi is widowed and the mother of a son named Ram. Her husband had indulged in all possible vices, and passed away unexpectedly\n",
      "Metrics:\t[0.0883959  0.01005455 0.00766082 0.00635151 0.00571931]\n",
      "----------------------- NEW DATASET OBJECT -----------------------\n",
      "\n",
      "OLD TEXT:\n",
      "\n",
      "*Roman Empire - second day of the Floralia in honor of Flora\n",
      "\n",
      "----\n",
      "\n",
      "April 28 - April 30 - March 28 - May 28 -- listing of all days\n",
      "\n",
      "bg:29 април\n",
      "ca:29 d'abril\n",
      "da:29. april\n",
      "de:29. April\n",
      "es:29 de abril\n",
      "eo:29-a de aprilo\n",
      "fr:29 avril\n",
      "fy:29 april\n",
      "hr:29. travanj\n",
      "it:29 aprile\n",
      "nl:29 april\n",
      "ja:4月29日\n",
      "no:29. april\n",
      "oc:29 d'abril\n",
      "pl:29 kwietnia\n",
      "ro:29 aprilie\n",
      "sl:29. april\n",
      "fi:29. huhtikuuta\n",
      "sv:29 april\n",
      "\n",
      "NEW TEXT:\n",
      "\n",
      "*Roman Empire - second day of the Floralia in honor of Flora\n",
      "*Catholicism - Feast of Saint Catherine of Siena\n",
      "\n",
      "----\n",
      "\n",
      "April 28 - April 30 - March 28 - May 28 -- listing of all days\n",
      "\n",
      "bg:29 април\n",
      "ca:29 d'abril\n",
      "da:29. april\n",
      "de:29. April\n",
      "es:29 de abril\n",
      "eo:29-a de aprilo\n",
      "fr:29 avril\n",
      "fy:29 april\n",
      "hr:29. travanj\n",
      "it:29 aprile\n",
      "nl:29 april\n",
      "ja:4月29日\n",
      "no:29. april\n",
      "oc:29 d'abril\n",
      "pl:29 kwietnia\n",
      "ro:29 aprilie\n",
      "sl:29. april\n",
      "fi:29. huhtikuuta\n",
      "sv:29 april\n",
      "\n",
      "DIFF:\t*Catholicism - Feast of Saint Catherine of Siena\n",
      "\n",
      "\n",
      "Comment:\t=Holidays and observances=\n",
      "\n",
      "DOCS:\n",
      " Sat Saint Catherine of Siena, Virgin and Doctor of the Church\n",
      "\n",
      " Fri Saint Catherine of Siena, Virgin and Doctor of the Church\n",
      "\n",
      " 29Friday. Saint Catherine of Siena, virgin and doctor of the Church\n",
      "\n",
      "Saint Catherine's Day, also called the Feast of Saint Catherine, is 25 November. It has retained its popularity throughout the centuries\n",
      "\n",
      "Delivering Excellence in Health Care St. Catherine of Siena Hospital, part of the Catholic Health system, is a community hospital located in Smithtown, NY\n",
      "Metrics:\t[0.45468306 0.45251725 0.44599546 0.41704032 0.33253503]\n"
     ]
    }
   ],
   "source": [
    "df_sample = df.sample(30)\n",
    "for row_idx, row in df_sample.iterrows():\n",
    "    old = row['old_text']\n",
    "    new = row['new_text']\n",
    "    com = row['comment']\n",
    "    diff = row['diff']\n",
    "    docs = row['docs']\n",
    "    \n",
    "    diff_arr = diff.split('\\n')\n",
    "    diff_arr = [txt for txt in diff_arr if len(txt) > 20]\n",
    "    \n",
    "    final_docs = []\n",
    "    for doc in docs.split('\\n\\nDOC_DELIMITER_TOKEN\\n\\n'):\n",
    "        texts = doc.split('...')\n",
    "        final_sents = []\n",
    "        for txt in texts:\n",
    "            if len(txt) > 15:\n",
    "                if txt[-1] == '.':\n",
    "                    final_sents.append(txt[:-1])\n",
    "        final_text = '. '.join(final_sents)\n",
    "        if final_text not in final_docs:\n",
    "            final_docs.append(final_text)\n",
    "    final_docs = np.array(final_docs)\n",
    "    \n",
    "    vectorized_com = vectorizer.transform([com])\n",
    "    vectorized_docs = vectorizer.transform(final_docs)\n",
    "    \n",
    "    cs = np.abs(cosine_similarity(vectorized_com, vectorized_docs))[0]\n",
    "    if len(diff_arr) > 0:\n",
    "        vectorized_diffs = vectorizer.transform(diff_arr)\n",
    "        cs2 = np.max(np.abs(cosine_similarity(vectorized_diffs, vectorized_docs)), axis=0)\n",
    "        cs += cs2\n",
    "    idxs = np.argsort(cs)[-5:][::-1]\n",
    "    docs = '\\n\\n'.join(final_docs[idxs])\n",
    "    \n",
    "    print('----------------------- NEW DATASET OBJECT -----------------------\\n')\n",
    "    print(f\"OLD TEXT:\\n\\n{old}\\n\\nNEW TEXT:\\n\\n{new}\\n\\nDIFF:\\t{diff}\\n\\nComment:\\t{com}\\n\\nDOCS:\\n{docs}\\nMetrics:\\t{cs[idxs]}\")"
   ]
  },
  {
   "cell_type": "code",
   "execution_count": null,
   "metadata": {},
   "outputs": [],
   "source": []
  }
 ],
 "metadata": {
  "kernelspec": {
   "display_name": "Python 3",
   "language": "python",
   "name": "python3"
  },
  "language_info": {
   "codemirror_mode": {
    "name": "ipython",
    "version": 3
   },
   "file_extension": ".py",
   "mimetype": "text/x-python",
   "name": "python",
   "nbconvert_exporter": "python",
   "pygments_lexer": "ipython3",
   "version": "3.7.7"
  }
 },
 "nbformat": 4,
 "nbformat_minor": 4
}
