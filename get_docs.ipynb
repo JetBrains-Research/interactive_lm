{
 "cells": [
  {
   "cell_type": "code",
   "execution_count": 1,
   "metadata": {},
   "outputs": [],
   "source": [
    "links = [('Enercon E-family, 330 Kw to 7.5 MW, Wind Turbine Specification ',\n",
    "  'http://www.enercon.de/p/downloads/EN_Productoverview_0710.pdf'),\n",
    " ('Enercon E-family, 330 Kw to 7.5 MW, Wind Turbine Specification ',\n",
    "  'https://web.archive.org/web/20110516022444/http://www.enercon.de/p/downloads/EN_Productoverview_0710.pdf'),\n",
    " ('Wind Energy Handbook', 'https://books.google.com/books?id=4UYm893y-34C'),\n",
    " ('11 years of wind data shows surprising production decrease ',\n",
    "  'http://ing.dk/artikel/11-aars-vinddata-afsloerede-overraskende-produktionsnedgang-163917')]"
   ]
  },
  {
   "cell_type": "code",
   "execution_count": 2,
   "metadata": {},
   "outputs": [
    {
     "name": "stderr",
     "output_type": "stream",
     "text": [
      "C:\\Users\\Anton\\anaconda3\\lib\\site-packages\\requests\\__init__.py:89: RequestsDependencyWarning: urllib3 (1.26.12) or chardet (5.0.0) doesn't match a supported version!\n",
      "  warnings.warn(\"urllib3 ({}) or chardet ({}) doesn't match a supported \"\n",
      "<ipython-input-2-ecb60cca02bc>:38: DeprecationWarning: executable_path has been deprecated, please pass in a Service object\n",
      "  driver = webdriver.Chrome(r'C:\\Users\\Anton\\Desktop\\chromedriver.exe')\n"
     ]
    }
   ],
   "source": [
    "import requests\n",
    "from selenium import webdriver\n",
    "from selenium.webdriver.common.by import By\n",
    "from bs4 import BeautifulSoup\n",
    "from io import StringIO, BytesIO\n",
    "from PyPDF2 import PdfReader, PdfFileReader\n",
    "import urllib3\n",
    "import html2text\n",
    "import os\n",
    "import time\n",
    "from os import listdir\n",
    "from os.path import isfile, join\n",
    "\n",
    "http_urllib = urllib3.PoolManager()\n",
    "tmp_path = './tmp'\n",
    "downl_path = r'C:\\Users\\Anton\\Downloads'\n",
    "if not os.path.exists(tmp_path):\n",
    "    os.makedirs(tmp_path)\n",
    "\n",
    "\n",
    "for link_id, link in enumerate(links):\n",
    "    title, url = link\n",
    "    with open(f'{tmp_path}/{link_id}___{title}.txt', 'w', encoding='utf-8') as f:\n",
    "        if 'pdf' == url[-3:]:\n",
    "            response = http_urllib.request('GET', url)\n",
    "            try:\n",
    "                if str(response.status).strip() == '200':\n",
    "                    memoryFile = BytesIO(response.data)\n",
    "                    pdfFile = PdfFileReader(memoryFile)\n",
    "                    answer = ''\n",
    "                    for pageNum in range(pdfFile.getNumPages()):\n",
    "                        currentPage = pdfFile.getPage(pageNum)\n",
    "                        answer += currentPage.extract_text() + '\\n'\n",
    "                    f.write(answer)\n",
    "                else:\n",
    "                    pass\n",
    "            except:\n",
    "                driver = webdriver.Chrome(r'C:\\Users\\Anton\\Desktop\\chromedriver.exe')\n",
    "                driver.get('https://pdfmyurl.com/')\n",
    "                a = driver.find_element(By.ID, 'url')\n",
    "                a.send_keys(url)\n",
    "                button_element = driver.find_element(By.NAME, \"submit\")\n",
    "                button_element.click()\n",
    "                time.sleep(30)\n",
    "                driver.close()\n",
    "                \n",
    "                pdf_saved_path = ''\n",
    "                for f_n in [f for f in listdir(downl_path) if isfile(join(downl_path, f))]:\n",
    "                    if 'pdf' in f_n:\n",
    "                        pdf_saved_path = f\"{downl_path}/{f_n}\"\n",
    "                        break\n",
    "                if pdf_saved_path:\n",
    "                    reader = PdfReader(pdf_saved_path)\n",
    "                    text = \"\"\n",
    "                    for page in reader.pages:\n",
    "                        text += page.extract_text() + \"\\n\"\n",
    "                    f.write(text)\n",
    "                    os.remove(pdf_saved_path)\n",
    "        \n",
    "        else:\n",
    "            response = requests.get(url)\n",
    "            if '200' in str(response):\n",
    "                text_html = response.text\n",
    "                clean_text = html2text.html2text(text_html)\n",
    "                f.write(clean_text)\n",
    "            else:\n",
    "                driver = webdriver.Chrome(r'C:\\Users\\Anton\\Desktop\\chromedriver.exe')\n",
    "                driver.get(url)\n",
    "                text_html = driver.page_source\n",
    "                clean_text = html2text.html2text(text_html)\n",
    "                f.write(clean_text)\n",
    "                driver.close()\n",
    "            "
   ]
  },
  {
   "cell_type": "code",
   "execution_count": null,
   "metadata": {},
   "outputs": [],
   "source": []
  }
 ],
 "metadata": {
  "kernelspec": {
   "display_name": "Python 3",
   "language": "python",
   "name": "python3"
  },
  "language_info": {
   "codemirror_mode": {
    "name": "ipython",
    "version": 3
   },
   "file_extension": ".py",
   "mimetype": "text/x-python",
   "name": "python",
   "nbconvert_exporter": "python",
   "pygments_lexer": "ipython3",
   "version": "3.8.3"
  }
 },
 "nbformat": 4,
 "nbformat_minor": 4
}
