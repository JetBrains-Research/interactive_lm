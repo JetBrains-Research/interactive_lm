{
 "cells": [
  {
   "cell_type": "code",
   "execution_count": 1,
   "metadata": {},
   "outputs": [],
   "source": [
    "import re\n",
    "import os\n",
    "import torch\n",
    "import json\n",
    "import pandas as pd\n",
    "import seaborn as sns\n",
    "import matplotlib.pyplot as plt\n",
    "\n",
    "from transformers import T5TokenizerFast, T5ForConditionalGeneration\n",
    "from tqdm.notebook import tqdm\n",
    "from collections import Counter\n",
    "from torch import nn\n",
    "from catalyst import dl\n",
    "from langdetect import detect\n",
    "\n",
    "DOCS_DIR = 'data/documents_new'\n",
    "PAGES_DIR = 'data/revision_new'"
   ]
  },
  {
   "cell_type": "code",
   "execution_count": 2,
   "metadata": {},
   "outputs": [
    {
     "data": {
      "text/plain": [
       "[3571, 3463, 1870, 266, 2773]"
      ]
     },
     "execution_count": 2,
     "metadata": {},
     "output_type": "execute_result"
    }
   ],
   "source": [
    "dataset_ids = list(map(lambda x: int(x.split('.')[0]), os.listdir(DOCS_DIR)))\n",
    "dataset_ids[:5]"
   ]
  },
  {
   "cell_type": "code",
   "execution_count": 3,
   "metadata": {},
   "outputs": [
    {
     "data": {
      "application/vnd.jupyter.widget-view+json": {
       "model_id": "6a1cf6a265f7483ab9c44ca09d9f433d",
       "version_major": 2,
       "version_minor": 0
      },
      "text/plain": [
       "  0%|          | 0/4171 [00:00<?, ?it/s]"
      ]
     },
     "metadata": {},
     "output_type": "display_data"
    }
   ],
   "source": [
    "db_dict = {'obj_id': [], 'old_text': [], 'new_text': [], 'comment': [], 'docs': [], 'diff': []}\n",
    "for dataset_obj_id in tqdm(dataset_ids):\n",
    "    with open(f\"{PAGES_DIR}/{dataset_obj_id}.json\", 'r', encoding='utf-8') as f:\n",
    "        page_json = json.load(f)\n",
    "    docs_text = ''\n",
    "    added_docs = set()\n",
    "    count_docs = 0\n",
    "    with open(f\"{DOCS_DIR}/{dataset_obj_id}.txt\", 'r', encoding='utf-8') as f:\n",
    "        docs_text_plain = f.read()\n",
    "        docs = docs_text_plain.split('\\n\\nDOC_DELIMITER_TOKEN\\n\\n')\n",
    "        for doc_id, doc in enumerate(docs):\n",
    "            if doc not in added_docs:\n",
    "                added_docs.add(doc)\n",
    "                count_docs += 1\n",
    "                docs_text += f\" DOC{count_docs}: {doc}\"\n",
    "            if count_docs > 2:\n",
    "                break\n",
    "\n",
    "    if count_docs < 3:\n",
    "        continue\n",
    "    if 'link' in db_dict['comment'] or 'ref' in db_dict['comment']:\n",
    "        continue\n",
    "    try:\n",
    "        text_lang = detect(page_json['old_text'])\n",
    "        comment_lang = detect(page_json['comment'])\n",
    "    except:\n",
    "        text_lang = ''\n",
    "        comment_lang = ''\n",
    "\n",
    "    if text_lang == 'en':\n",
    "        diff = '\\n'.join(page_json['change_texts'][0][0])\n",
    "        db_dict['diff'].append(diff)\n",
    "        db_dict['obj_id'].append(dataset_obj_id)\n",
    "        db_dict['old_text'].append(page_json['old_text'])\n",
    "        db_dict['new_text'].append(page_json['new_text'])\n",
    "        db_dict['comment'].append('Comment: ' + page_json['comment'])\n",
    "        db_dict['docs'].append(docs_text.strip())"
   ]
  },
  {
   "cell_type": "code",
   "execution_count": 4,
   "metadata": {},
   "outputs": [
    {
     "name": "stdout",
     "output_type": "stream",
     "text": [
      "(3749, 6)\n"
     ]
    }
   ],
   "source": [
    "df = pd.DataFrame.from_dict(db_dict)\n",
    "print(df.shape)"
   ]
  },
  {
   "cell_type": "code",
   "execution_count": 5,
   "metadata": {},
   "outputs": [
    {
     "data": {
      "text/html": [
       "<div>\n",
       "<style scoped>\n",
       "    .dataframe tbody tr th:only-of-type {\n",
       "        vertical-align: middle;\n",
       "    }\n",
       "\n",
       "    .dataframe tbody tr th {\n",
       "        vertical-align: top;\n",
       "    }\n",
       "\n",
       "    .dataframe thead th {\n",
       "        text-align: right;\n",
       "    }\n",
       "</style>\n",
       "<table border=\"1\" class=\"dataframe\">\n",
       "  <thead>\n",
       "    <tr style=\"text-align: right;\">\n",
       "      <th></th>\n",
       "      <th>obj_id</th>\n",
       "      <th>old_text</th>\n",
       "      <th>new_text</th>\n",
       "      <th>comment</th>\n",
       "      <th>docs</th>\n",
       "      <th>diff</th>\n",
       "    </tr>\n",
       "  </thead>\n",
       "  <tbody>\n",
       "    <tr>\n",
       "      <th>0</th>\n",
       "      <td>3571</td>\n",
       "      <td>right\\nCem Özdemir (born 21 December 1965 in B...</td>\n",
       "      <td>right|thumb|106px|Cem Özdemir\\nCem Özdemir (bo...</td>\n",
       "      <td>Comment: +eo +photo</td>\n",
       "      <td>DOC1: Cem Özdemir (German: [ˌdʒɛm ˈʔœzdɛmiːɐ̯]...</td>\n",
       "      <td>|thumb|106px|Cem Özdemir</td>\n",
       "    </tr>\n",
       "    <tr>\n",
       "      <th>1</th>\n",
       "      <td>3463</td>\n",
       "      <td>Farrant is an English surname. It may refer to...</td>\n",
       "      <td>Farrant is an English surname. It may refer to...</td>\n",
       "      <td>Comment: Adding link to orphaned article, Wiki...</td>\n",
       "      <td>DOC1: Tony Farrant Anthony John Farrant (20 Ju...</td>\n",
       "      <td>Anthony Farrant (born 1955), New Zealand crick...</td>\n",
       "    </tr>\n",
       "    <tr>\n",
       "      <th>2</th>\n",
       "      <td>1870</td>\n",
       "      <td>*Drakan - computer game\\n*Glorianna - Quest fo...</td>\n",
       "      <td>*Drakan - computer game\\n*Glorianna - Quest fo...</td>\n",
       "      <td>Comment: /* Computer and video games */ add link</td>\n",
       "      <td>DOC1: Krynn - Dragonlance games and novels, Du...</td>\n",
       "      <td>Aurbis (\\netheriu</td>\n",
       "    </tr>\n",
       "    <tr>\n",
       "      <th>3</th>\n",
       "      <td>266</td>\n",
       "      <td>WikiProjects connected with biology:\\n*Ecology...</td>\n",
       "      <td>WikiProjects connected with biology:\\n*Ecology...</td>\n",
       "      <td>Comment: added WikiProject Clinical medicine</td>\n",
       "      <td>DOC1: Antibiotics work by destabilizing the me...</td>\n",
       "      <td>Medicine\\n*</td>\n",
       "    </tr>\n",
       "    <tr>\n",
       "      <th>4</th>\n",
       "      <td>2773</td>\n",
       "      <td>Key or central characters:\\n*Raymond Babbitt (...</td>\n",
       "      <td>Key or central characters:\\n*Raymond Babbitt (...</td>\n",
       "      <td>Comment: /* Film */ +1</td>\n",
       "      <td>DOC1: This is a list of fictional characters t...</td>\n",
       "      <td>, Adam Raki (played by Hugh Dancy) from the f...</td>\n",
       "    </tr>\n",
       "  </tbody>\n",
       "</table>\n",
       "</div>"
      ],
      "text/plain": [
       "   obj_id                                           old_text  \\\n",
       "0    3571  right\\nCem Özdemir (born 21 December 1965 in B...   \n",
       "1    3463  Farrant is an English surname. It may refer to...   \n",
       "2    1870  *Drakan - computer game\\n*Glorianna - Quest fo...   \n",
       "3     266  WikiProjects connected with biology:\\n*Ecology...   \n",
       "4    2773  Key or central characters:\\n*Raymond Babbitt (...   \n",
       "\n",
       "                                            new_text  \\\n",
       "0  right|thumb|106px|Cem Özdemir\\nCem Özdemir (bo...   \n",
       "1  Farrant is an English surname. It may refer to...   \n",
       "2  *Drakan - computer game\\n*Glorianna - Quest fo...   \n",
       "3  WikiProjects connected with biology:\\n*Ecology...   \n",
       "4  Key or central characters:\\n*Raymond Babbitt (...   \n",
       "\n",
       "                                             comment  \\\n",
       "0                                Comment: +eo +photo   \n",
       "1  Comment: Adding link to orphaned article, Wiki...   \n",
       "2   Comment: /* Computer and video games */ add link   \n",
       "3       Comment: added WikiProject Clinical medicine   \n",
       "4                             Comment: /* Film */ +1   \n",
       "\n",
       "                                                docs  \\\n",
       "0  DOC1: Cem Özdemir (German: [ˌdʒɛm ˈʔœzdɛmiːɐ̯]...   \n",
       "1  DOC1: Tony Farrant Anthony John Farrant (20 Ju...   \n",
       "2  DOC1: Krynn - Dragonlance games and novels, Du...   \n",
       "3  DOC1: Antibiotics work by destabilizing the me...   \n",
       "4  DOC1: This is a list of fictional characters t...   \n",
       "\n",
       "                                                diff  \n",
       "0                           |thumb|106px|Cem Özdemir  \n",
       "1  Anthony Farrant (born 1955), New Zealand crick...  \n",
       "2                                  Aurbis (\\netheriu  \n",
       "3                                        Medicine\\n*  \n",
       "4   , Adam Raki (played by Hugh Dancy) from the f...  "
      ]
     },
     "execution_count": 5,
     "metadata": {},
     "output_type": "execute_result"
    }
   ],
   "source": [
    "df.head()"
   ]
  },
  {
   "cell_type": "code",
   "execution_count": 6,
   "metadata": {},
   "outputs": [],
   "source": [
    "df = df.sample(8)"
   ]
  },
  {
   "cell_type": "code",
   "execution_count": 7,
   "metadata": {},
   "outputs": [],
   "source": [
    "# df = df.iloc[7:8, :]"
   ]
  },
  {
   "cell_type": "code",
   "execution_count": 8,
   "metadata": {},
   "outputs": [
    {
     "data": {
      "text/html": [
       "<div>\n",
       "<style scoped>\n",
       "    .dataframe tbody tr th:only-of-type {\n",
       "        vertical-align: middle;\n",
       "    }\n",
       "\n",
       "    .dataframe tbody tr th {\n",
       "        vertical-align: top;\n",
       "    }\n",
       "\n",
       "    .dataframe thead th {\n",
       "        text-align: right;\n",
       "    }\n",
       "</style>\n",
       "<table border=\"1\" class=\"dataframe\">\n",
       "  <thead>\n",
       "    <tr style=\"text-align: right;\">\n",
       "      <th></th>\n",
       "      <th>obj_id</th>\n",
       "      <th>old_text</th>\n",
       "      <th>new_text</th>\n",
       "      <th>comment</th>\n",
       "      <th>docs</th>\n",
       "      <th>diff</th>\n",
       "    </tr>\n",
       "  </thead>\n",
       "  <tbody>\n",
       "    <tr>\n",
       "      <th>1560</th>\n",
       "      <td>1716</td>\n",
       "      <td>Stop Making Sense (1984) is a highly acclaimed...</td>\n",
       "      <td>Stop Making Sense (1984) is a highly acclaimed...</td>\n",
       "      <td>Comment: Modified opening paragraph \"The title...</td>\n",
       "      <td>DOC1: I got a girlfriend thats better than tha...</td>\n",
       "      <td>the lyrics of the song Girlfriend is Better: \"...</td>\n",
       "    </tr>\n",
       "    <tr>\n",
       "      <th>1349</th>\n",
       "      <td>3310</td>\n",
       "      <td>The third hurricane of the season formed in th...</td>\n",
       "      <td>The third hurricane of the season formed in th...</td>\n",
       "      <td>Comment: /* Hurricane Three */ fmt</td>\n",
       "      <td>DOC1: Along the Gulf Coast of the United State...</td>\n",
       "      <td>(1926 USD) in</td>\n",
       "    </tr>\n",
       "    <tr>\n",
       "      <th>3091</th>\n",
       "      <td>2580</td>\n",
       "      <td>;Australia\\n*Kilmore, Victoria\\n;Northern Irel...</td>\n",
       "      <td>;Australia\\n*Kilmore, Victoria\\n;Northern Irel...</td>\n",
       "      <td>Comment: Info added</td>\n",
       "      <td>DOC1: Kilmore is in the Electoral Division of ...</td>\n",
       "      <td>\\n*Kilmore, County Antrim, a townland in Count...</td>\n",
       "    </tr>\n",
       "    <tr>\n",
       "      <th>2957</th>\n",
       "      <td>2545</td>\n",
       "      <td>GameSpy called the game one of the weakest ear...</td>\n",
       "      <td>GameSpy called the game one of the weakest ear...</td>\n",
       "      <td>Comment: /* Reception and legacy */ cut</td>\n",
       "      <td>DOC1: Castlevania: The Adventure is an action-...</td>\n",
       "      <td>and cumbersome</td>\n",
       "    </tr>\n",
       "    <tr>\n",
       "      <th>3291</th>\n",
       "      <td>1384</td>\n",
       "      <td>* Kamikaze (album), a 2004 album by Twista\\n* ...</td>\n",
       "      <td>* Kamikaze (album), a 2004 album by Twista\\n* ...</td>\n",
       "      <td>Comment: /* Music */ corr link</td>\n",
       "      <td>DOC1: Kamikaze by WALK THE MOONNew music  a to...</td>\n",
       "      <td>(of Nazareth)\\n* \"Kamikaze\", a song by</td>\n",
       "    </tr>\n",
       "  </tbody>\n",
       "</table>\n",
       "</div>"
      ],
      "text/plain": [
       "      obj_id                                           old_text  \\\n",
       "1560    1716  Stop Making Sense (1984) is a highly acclaimed...   \n",
       "1349    3310  The third hurricane of the season formed in th...   \n",
       "3091    2580  ;Australia\\n*Kilmore, Victoria\\n;Northern Irel...   \n",
       "2957    2545  GameSpy called the game one of the weakest ear...   \n",
       "3291    1384  * Kamikaze (album), a 2004 album by Twista\\n* ...   \n",
       "\n",
       "                                               new_text  \\\n",
       "1560  Stop Making Sense (1984) is a highly acclaimed...   \n",
       "1349  The third hurricane of the season formed in th...   \n",
       "3091  ;Australia\\n*Kilmore, Victoria\\n;Northern Irel...   \n",
       "2957  GameSpy called the game one of the weakest ear...   \n",
       "3291  * Kamikaze (album), a 2004 album by Twista\\n* ...   \n",
       "\n",
       "                                                comment  \\\n",
       "1560  Comment: Modified opening paragraph \"The title...   \n",
       "1349                 Comment: /* Hurricane Three */ fmt   \n",
       "3091                                Comment: Info added   \n",
       "2957            Comment: /* Reception and legacy */ cut   \n",
       "3291                     Comment: /* Music */ corr link   \n",
       "\n",
       "                                                   docs  \\\n",
       "1560  DOC1: I got a girlfriend thats better than tha...   \n",
       "1349  DOC1: Along the Gulf Coast of the United State...   \n",
       "3091  DOC1: Kilmore is in the Electoral Division of ...   \n",
       "2957  DOC1: Castlevania: The Adventure is an action-...   \n",
       "3291  DOC1: Kamikaze by WALK THE MOONNew music  a to...   \n",
       "\n",
       "                                                   diff  \n",
       "1560  the lyrics of the song Girlfriend is Better: \"...  \n",
       "1349                                      (1926 USD) in  \n",
       "3091  \\n*Kilmore, County Antrim, a townland in Count...  \n",
       "2957                                     and cumbersome  \n",
       "3291             (of Nazareth)\\n* \"Kamikaze\", a song by  "
      ]
     },
     "execution_count": 8,
     "metadata": {},
     "output_type": "execute_result"
    }
   ],
   "source": [
    "df.head()"
   ]
  },
  {
   "cell_type": "code",
   "execution_count": 9,
   "metadata": {},
   "outputs": [],
   "source": [
    "def get_tgt(row, text_to_lower=True, comment_to_lower=True, comment_delimiter=' TEXT '):\n",
    "    new_text = row.new_text.lower() if text_to_lower else row.new_text\n",
    "    coms = row.comment.lower() if comment_to_lower else row.comment\n",
    "    tgt = coms + comment_delimiter + new_text\n",
    "    return tgt\n",
    "\n",
    "def get_src(row, text_to_lower=True, comment_to_lower=True, doc_delimiter=' DOCS '):\n",
    "    old_text = row.old_text.lower() if text_to_lower else row.old_text \n",
    "    docs = row.docs.lower() if text_to_lower else row.docs \n",
    "    src = 'TEXT ' + old_text + doc_delimiter + docs\n",
    "    return src\n",
    "    \n",
    "class EditDataset(torch.utils.data.Dataset):\n",
    "    def __init__(self, dataset: list, tokenizer, config,\n",
    "                 text_to_lower=True, comment_to_lower=True):\n",
    "        self.db = dataset\n",
    "        self.tokenizer = tokenizer\n",
    "\n",
    "        \n",
    "        src_text = self.db.apply(lambda x: get_src(x, text_to_lower, comment_to_lower), axis=1).values\n",
    "        tgt_text = self.db.apply(lambda x: get_tgt(x, text_to_lower, comment_to_lower), axis=1).values\n",
    "        \n",
    "        self.src_text_tokenized = [tokenizer(x,\n",
    "                                       max_length=config.src_max_len,\n",
    "                                       truncation=True,\n",
    "                                       return_attention_mask=False,\n",
    "                                       ) for x in src_text]\n",
    "        self.tgt_text_tokenized = [tokenizer(x,\n",
    "                                       max_length=config.tgt_max_len,\n",
    "                                       truncation=True,\n",
    "                                       return_attention_mask=False,\n",
    "                                       ) for x in tgt_text]\n",
    "\n",
    "    def __len__(self):\n",
    "        return len(self.db)\n",
    "\n",
    "    def __getitem__(self, idx: int):\n",
    "        src = self.src_text_tokenized[idx]\n",
    "        tgt = self.tgt_text_tokenized[idx]\n",
    "        return src, tgt\n",
    "\n",
    "    @staticmethod\n",
    "    def collate_fn(samples, tokenizer, config):\n",
    "        src_samples = [x[0] for x in samples]\n",
    "        tgt_samples = [x[1] for x in samples]\n",
    "\n",
    "        src_samples = tokenizer.pad(src_samples,\n",
    "                                    padding='longest',\n",
    "                                    max_length=config.final_src_max_len,\n",
    "                                    return_attention_mask=False,\n",
    "                                    return_tensors='pt')['input_ids']\n",
    "\n",
    "        tgt_samples = tokenizer.pad(tgt_samples,\n",
    "                                    padding='longest',\n",
    "                                    max_length=config.final_tgt_max_len,\n",
    "                                    return_attention_mask=False,\n",
    "                                    return_tensors='pt')['input_ids']\n",
    "\n",
    "        return (src_samples, tgt_samples), torch.ones(len(samples), 1)"
   ]
  },
  {
   "cell_type": "code",
   "execution_count": 10,
   "metadata": {},
   "outputs": [],
   "source": [
    "from dataclasses import dataclass\n",
    "\n",
    "@dataclass\n",
    "class Config:\n",
    "    pass\n",
    "    \n",
    "CONFIG = Config()\n",
    "CONFIG.seed = 1337\n",
    "CONFIG.src_max_len = 900\n",
    "CONFIG.tgt_max_len = 900\n",
    "CONFIG.pretrained = 't5-small'\n",
    "CONFIG.batch_size = 8\n",
    "\n",
    "tokenizer = T5TokenizerFast.from_pretrained(CONFIG.pretrained, model_max_length=1000)"
   ]
  },
  {
   "cell_type": "code",
   "execution_count": 11,
   "metadata": {},
   "outputs": [],
   "source": [
    "ds_edit = EditDataset(df, tokenizer, CONFIG, text_to_lower=True, comment_to_lower=True)\n",
    "ds_val = EditDataset(df, tokenizer, CONFIG, text_to_lower=True, comment_to_lower=True)"
   ]
  },
  {
   "cell_type": "code",
   "execution_count": 12,
   "metadata": {},
   "outputs": [
    {
     "data": {
      "image/png": "[encoded data removed]",
      "text/plain": [
       "<Figure size 360x360 with 1 Axes>"
      ]
     },
     "metadata": {
      "needs_background": "light"
     },
     "output_type": "display_data"
    },
    {
     "data": {
      "image/png": "[encoded data removed]",
      "text/plain": [
       "<Figure size 360x360 with 1 Axes>"
      ]
     },
     "metadata": {
      "needs_background": "light"
     },
     "output_type": "display_data"
    }
   ],
   "source": [
    "arr_src = []\n",
    "arr_tgt = []\n",
    "for src_q, tgt_q in ds_edit:\n",
    "    arr_src.append(len(src_q['input_ids']))\n",
    "    arr_tgt.append(len(tgt_q['input_ids']))\n",
    "\n",
    "sns.displot(arr_src, label='prev');\n",
    "plt.legend();\n",
    "sns.displot(arr_tgt, label='cur');\n",
    "plt.legend();"
   ]
  },
  {
   "cell_type": "markdown",
   "metadata": {},
   "source": [
    "## Learning"
   ]
  },
  {
   "cell_type": "code",
   "execution_count": 13,
   "metadata": {},
   "outputs": [],
   "source": [
    "CONFIG.batch_size = 8\n",
    "CONFIG.final_src_max_len = 800\n",
    "CONFIG.final_tgt_max_len = 500\n",
    "loaders = {\n",
    "    'train': torch.utils.data.DataLoader(ds_edit, \n",
    "                                         batch_size=CONFIG.batch_size,\n",
    "                                         collate_fn=lambda x: EditDataset.collate_fn(x, tokenizer, CONFIG),\n",
    "                                         num_workers=4, shuffle=True),\n",
    "    'valid': torch.utils.data.DataLoader(ds_val, \n",
    "                                         batch_size=CONFIG.batch_size,\n",
    "                                         collate_fn=lambda x: EditDataset.collate_fn(x, tokenizer, CONFIG),\n",
    "                                         num_workers=4, shuffle=True)\n",
    "}"
   ]
  },
  {
   "cell_type": "code",
   "execution_count": 14,
   "metadata": {},
   "outputs": [],
   "source": [
    "class EditModel(nn.Module):\n",
    "    def __init__(self, pretrained, config):\n",
    "        super(EditModel, self).__init__()\n",
    "        self.pretrained = pretrained\n",
    "        \n",
    "\n",
    "    def forward(self, x):\n",
    "        src, tgt = x\n",
    "        \n",
    "        tgt[tgt == 0] == -100\n",
    "        \n",
    "        loss = self.pretrained(\n",
    "            input_ids = src,\n",
    "            attention_mask = (src != 0).float(),\n",
    "            labels=tgt,\n",
    "        ).loss\n",
    "        return loss\n",
    "    \n",
    "    \n",
    "class Criterion(nn.Module):\n",
    "    def __init__(self):\n",
    "        super(Criterion, self).__init__()\n",
    "        \n",
    "    def forward(self, pred, tgt):\n",
    "        return pred"
   ]
  },
  {
   "cell_type": "code",
   "execution_count": 15,
   "metadata": {},
   "outputs": [],
   "source": [
    "model = EditModel(\n",
    "    T5ForConditionalGeneration.from_pretrained(CONFIG.pretrained),\n",
    "    CONFIG\n",
    ")\n",
    "CONFIG.optimizer = 'Adam(lr=0.0001)'\n",
    "optimizer = torch.optim.Adam(model.parameters(), lr=0.0001)\n",
    "\n",
    "CONFIG.name = f'{CONFIG.pretrained}_test_one_batch'\n",
    "CONFIG.description = f'{CONFIG.name} p(comment, x_t+1 | x_t, doc)'\n",
    "CONFIG.group = \"wiki_edit_test\""
   ]
  },
  {
   "cell_type": "code",
   "execution_count": 16,
   "metadata": {},
   "outputs": [],
   "source": [
    "!rm -rf ./models/\"{CONFIG.description}\""
   ]
  },
  {
   "cell_type": "code",
   "execution_count": 17,
   "metadata": {},
   "outputs": [],
   "source": [
    "import torch\n",
    "import catalyst\n",
    "\n",
    "from catalyst.core import IRunner\n",
    "from catalyst.metrics._additive import AdditiveMetric\n",
    "from catalyst.callbacks.metric import BatchMetricCallback, ICallbackBatchMetric\n",
    "\n",
    "\n",
    "class ExactMatchMetric(ICallbackBatchMetric):\n",
    "    def __init__(self, topk, compute_on_call=False):\n",
    "        super().__init__(compute_on_call=compute_on_call, prefix='', suffix='')\n",
    "        self.metric_name = 'exact_match'\n",
    "        self.topk = topk\n",
    "        self.metrics: List[AdditiveMetric] = [\n",
    "            AdditiveMetric(compute_on_call=compute_on_call) for _ in range(len(self.topk))]\n",
    "\n",
    "    def reset(self) -> None:\n",
    "        for metric in self.metrics:\n",
    "            metric.reset()\n",
    "\n",
    "    def update(self, values, n_samples):\n",
    "        for value, metric in zip(values, self.metrics):\n",
    "            metric.update(value, n_samples)\n",
    "        return values\n",
    "\n",
    "    def update_key_value(self, values, n_samples):\n",
    "        values = self.update(values, n_samples)\n",
    "        output = {\n",
    "            f\"{self.prefix}{self.metric_name}{key:02d}{self.suffix}\": round(value, 6)\n",
    "            for key, value in zip(self.topk, values)\n",
    "        }\n",
    "        return output\n",
    "\n",
    "    def compute(self):\n",
    "        means, stds = zip(*(metric.compute() for metric in self.metrics))\n",
    "        return means, stds\n",
    "\n",
    "    def compute_key_value(self):\n",
    "        means, stds = self.compute()\n",
    "        output_mean = {\n",
    "            f\"{self.prefix}{self.metric_name}{key:02d}{self.suffix}\": round(value, 6)\n",
    "            for key, value in zip(self.topk, means)\n",
    "        }\n",
    "        output_std = {\n",
    "            f\"{self.prefix}{self.metric_name}{key:02d}{self.suffix}/std\": round(value, 6)\n",
    "            for key, value in zip(self.topk, stds)\n",
    "        }\n",
    "        return {**output_mean, **output_std}\n",
    "\n",
    "\n",
    "class ExactMatchCallback(BatchMetricCallback):\n",
    "\n",
    "    def __init__(self, beam_size):\n",
    "        super().__init__(\n",
    "            metric= ExactMatchMetric((1,beam_size)) if beam_size > 1 else ExactMatchMetric((1,)),\n",
    "            input_key='features', target_key='targets', log_on_batch=True)\n",
    "        self.beam_size = beam_size\n",
    "\n",
    "    def on_batch_end(self, runner: \"IRunner\") -> None:\n",
    "\n",
    "        if runner.loader_key == 'train':\n",
    "            runner.model.train()\n",
    "        elif runner.loader_key.startswith('valid'):\n",
    "            runner.model.eval()\n",
    "\n",
    "            src = runner.batch['features'][0]\n",
    "            tgt = runner.batch['features'][1]\n",
    "            max_len = tgt.shape[1]\n",
    "            with torch.no_grad():\n",
    "                pred = runner.model.pretrained.generate(src.to(runner.engine.device),\n",
    "                                                        attention_mask=(src != 0).float().to(runner.engine.device),\n",
    "                                                        # pad_token_id=tokenizer.pad_token_id,\n",
    "                                                        # bos_token_id=tokenizer.bos_token_id,\n",
    "                                                        # eos_token_id=tokenizer.eos_token_id,\n",
    "                                                        num_beams=self.beam_size,\n",
    "                                                        num_return_sequences=self.beam_size,\n",
    "                                                        max_length=max_len\n",
    "                                                        )\n",
    "\n",
    "            pred = pred[:,1:]\n",
    "            pred = pred.view(-1, self.beam_size, pred.shape[1])\n",
    "            acck = 0\n",
    "            acc1 = 0\n",
    "            for i in range(tgt.shape[0]):\n",
    "                tgt_subseq = tgt[i, :pred.shape[2]].to(runner.engine.device)\n",
    "\n",
    "                acck += float(torch.any(torch.all(tgt_subseq == pred[i], dim=1)))\n",
    "                acc1 += float(torch.all(tgt_subseq == pred[i, 0]))\n",
    "\n",
    "            acck /= len(src)\n",
    "            acc1 /= len(src)\n",
    "\n",
    "            metrics = self.metric.update_key_value([acc1, acck], len(src))\n",
    "\n",
    "            runner.batch_metrics.update(metrics)\n",
    "\n",
    "    def on_loader_end(self, runner: \"IRunner\") -> None:\n",
    "        if runner.loader_key.startswith('valid'):\n",
    "            metrics = self.metric.compute_key_value()\n",
    "            metrics = runner.engine.mean_reduce_ddp_metrics(metrics)\n",
    "            runner.loader_metrics.update(metrics)"
   ]
  },
  {
   "cell_type": "code",
   "execution_count": 18,
   "metadata": {},
   "outputs": [],
   "source": [
    "CONFIG.n_epochs = 400\n",
    "CONFIG.beam_size = 5"
   ]
  },
  {
   "cell_type": "code",
   "execution_count": 19,
   "metadata": {
    "scrolled": true
   },
   "outputs": [
    {
     "name": "stderr",
     "output_type": "stream",
     "text": [
      "Failed to detect the name of this notebook, you can set it manually with the WANDB_NOTEBOOK_NAME environment variable to enable code saving.\n",
      "\u001b[34m\u001b[1mwandb\u001b[0m: Currently logged in as: \u001b[33mjdev8\u001b[0m (use `wandb login --relogin` to force relogin)\n",
      "\u001b[34m\u001b[1mwandb\u001b[0m: wandb version 0.13.5 is available!  To upgrade, please run:\n",
      "\u001b[34m\u001b[1mwandb\u001b[0m:  $ pip install wandb --upgrade\n"
     ]
    },
    {
     "data": {
      "text/html": [
       "\n",
       "                    Syncing run <strong><a href=\"https://wandb.ai/jdev8/interactive_lm/runs/36j7vr1z\" target=\"_blank\">t5-small_test_one_batch</a></strong> to <a href=\"https://wandb.ai/jdev8/interactive_lm\" target=\"_blank\">Weights & Biases</a> (<a href=\"https://docs.wandb.com/integrations/jupyter.html\" target=\"_blank\">docs</a>).<br/>\n",
       "\n",
       "                "
      ],
      "text/plain": [
       "<IPython.core.display.HTML object>"
      ]
     },
     "metadata": {},
     "output_type": "display_data"
    },
    {
     "data": {
      "application/vnd.jupyter.widget-view+json": {
       "model_id": "6b536b0527bf44bdb4318aef939d8c65",
       "version_major": 2,
       "version_minor": 0
      },
      "text/plain": [
       "1/1000 * Epoch (train):   0%|          | 0/1 [00:00<?, ?it/s]"
      ]
     },
     "metadata": {},
     "output_type": "display_data"
    },
    {
     "name": "stdout",
     "output_type": "stream",
     "text": [
      "train (1/1000) loss: 8.28531265258789 | loss/mean: 8.28531265258789 | loss/std: 0.0 | lr: 0.0001 | momentum: 0.9\n"
     ]
    },
    {
     "data": {
      "application/vnd.jupyter.widget-view+json": {
       "model_id": "11481378f063492db7f0376982d2e660",
       "version_major": 2,
       "version_minor": 0
      },
      "text/plain": [
       "1/1000 * Epoch (valid):   0%|          | 0/1 [00:00<?, ?it/s]"
      ]
     },
     "metadata": {},
     "output_type": "display_data"
    },
    {
     "name": "stdout",
     "output_type": "stream",
     "text": [
      "valid (1/1000) exact_match01: 0.0 | exact_match01/std: 0.0 | exact_match05: 0.0 | exact_match05/std: 0.0 | loss: 6.224942207336426 | loss/mean: 6.224942207336426 | loss/std: 0.0 | lr: 0.0001 | momentum: 0.9\n",
      "* Epoch (1/1000) \n"
     ]
    },
    {
     "data": {
      "application/vnd.jupyter.widget-view+json": {
       "model_id": "43c94c053c8b4e8b898026dd33996f95",
       "version_major": 2,
       "version_minor": 0
      },
      "text/plain": [
       "2/1000 * Epoch (train):   0%|          | 0/1 [00:00<?, ?it/s]"
      ]
     },
     "metadata": {},
     "output_type": "display_data"
    },
    {
     "name": "stdout",
     "output_type": "stream",
     "text": [
      "train (2/1000) loss: 6.469768524169922 | loss/mean: 6.469768524169922 | loss/std: 0.0 | lr: 0.0001 | momentum: 0.9\n"
     ]
    },
    {
     "data": {
      "application/vnd.jupyter.widget-view+json": {
       "model_id": "e957f5c6a37742ed931bf9497b9d987b",
       "version_major": 2,
       "version_minor": 0
      },
      "text/plain": [
       "2/1000 * Epoch (valid):   0%|          | 0/1 [00:00<?, ?it/s]"
      ]
     },
     "metadata": {},
     "output_type": "display_data"
    },
    {
     "name": "stdout",
     "output_type": "stream",
     "text": [
      "valid (2/1000) exact_match01: 0.0 | exact_match01/std: 0.0 | exact_match05: 0.0 | exact_match05/std: 0.0 | loss: 4.607202529907227 | loss/mean: 4.607202529907227 | loss/std: 0.0 | lr: 0.0001 | momentum: 0.9\n",
      "* Epoch (2/1000) \n"
     ]
    },
    {
     "data": {
      "application/vnd.jupyter.widget-view+json": {
       "model_id": "352e9719a8e94401a8ca76aee9390f28",
       "version_major": 2,
       "version_minor": 0
      },
      "text/plain": [
       "3/1000 * Epoch (train):   0%|          | 0/1 [00:00<?, ?it/s]"
      ]
     },
     "metadata": {},
     "output_type": "display_data"
    },
    {
     "name": "stdout",
     "output_type": "stream",
     "text": [
      "train (3/1000) loss: 4.9861063957214355 | loss/mean: 4.9861063957214355 | loss/std: 0.0 | lr: 0.0001 | momentum: 0.9\n"
     ]
    },
    {
     "data": {
      "application/vnd.jupyter.widget-view+json": {
       "model_id": "8b90ada6996f484bb9ab7bd37a7ab530",
       "version_major": 2,
       "version_minor": 0
      },
      "text/plain": [
       "3/1000 * Epoch (valid):   0%|          | 0/1 [00:00<?, ?it/s]"
      ]
     },
     "metadata": {},
     "output_type": "display_data"
    },
    {
     "name": "stdout",
     "output_type": "stream",
     "text": [
      "valid (3/1000) exact_match01: 0.0 | exact_match01/std: 0.0 | exact_match05: 0.0 | exact_match05/std: 0.0 | loss: 3.4922125339508057 | loss/mean: 3.4922125339508057 | loss/std: 0.0 | lr: 0.0001 | momentum: 0.9\n",
      "* Epoch (3/1000) \n"
     ]
    },
    {
     "data": {
      "application/vnd.jupyter.widget-view+json": {
       "model_id": "fbbf5622faee443f88340a4303e948b3",
       "version_major": 2,
       "version_minor": 0
      },
      "text/plain": [
       "4/1000 * Epoch (train):   0%|          | 0/1 [00:00<?, ?it/s]"
      ]
     },
     "metadata": {},
     "output_type": "display_data"
    },
    {
     "name": "stdout",
     "output_type": "stream",
     "text": [
      "train (4/1000) loss: 4.111112117767334 | loss/mean: 4.111112117767334 | loss/std: 0.0 | lr: 0.0001 | momentum: 0.9\n"
     ]
    },
    {
     "data": {
      "application/vnd.jupyter.widget-view+json": {
       "model_id": "7edcf9c6042f433990cc4bc5e40b91d3",
       "version_major": 2,
       "version_minor": 0
      },
      "text/plain": [
       "4/1000 * Epoch (valid):   0%|          | 0/1 [00:00<?, ?it/s]"
      ]
     },
     "metadata": {},
     "output_type": "display_data"
    },
    {
     "name": "stdout",
     "output_type": "stream",
     "text": [
      "valid (4/1000) exact_match01: 0.0 | exact_match01/std: 0.0 | exact_match05: 0.0 | exact_match05/std: 0.0 | loss: 2.7424187660217285 | loss/mean: 2.7424187660217285 | loss/std: 0.0 | lr: 0.0001 | momentum: 0.9\n",
      "* Epoch (4/1000) \n"
     ]
    },
    {
     "data": {
      "application/vnd.jupyter.widget-view+json": {
       "model_id": "bf00fab568214f7998bd205bca39e205",
       "version_major": 2,
       "version_minor": 0
      },
      "text/plain": [
       "5/1000 * Epoch (train):   0%|          | 0/1 [00:00<?, ?it/s]"
      ]
     },
     "metadata": {},
     "output_type": "display_data"
    },
    {
     "name": "stdout",
     "output_type": "stream",
     "text": [
      "train (5/1000) loss: 2.8735995292663574 | loss/mean: 2.8735995292663574 | loss/std: 0.0 | lr: 0.0001 | momentum: 0.9\n"
     ]
    },
    {
     "data": {
      "application/vnd.jupyter.widget-view+json": {
       "model_id": "c5e03e56396a46db82c71ab3e6672e5f",
       "version_major": 2,
       "version_minor": 0
      },
      "text/plain": [
       "5/1000 * Epoch (valid):   0%|          | 0/1 [00:00<?, ?it/s]"
      ]
     },
     "metadata": {},
     "output_type": "display_data"
    },
    {
     "name": "stdout",
     "output_type": "stream",
     "text": [
      "valid (5/1000) exact_match01: 0.0 | exact_match01/std: 0.0 | exact_match05: 0.0 | exact_match05/std: 0.0 | loss: 2.16945481300354 | loss/mean: 2.16945481300354 | loss/std: 0.0 | lr: 0.0001 | momentum: 0.9\n",
      "* Epoch (5/1000) \n"
     ]
    },
    {
     "data": {
      "application/vnd.jupyter.widget-view+json": {
       "model_id": "26fd2d1af4f348ce95f110541959cfc3",
       "version_major": 2,
       "version_minor": 0
      },
      "text/plain": [
       "6/1000 * Epoch (train):   0%|          | 0/1 [00:00<?, ?it/s]"
      ]
     },
     "metadata": {},
     "output_type": "display_data"
    },
    {
     "name": "stdout",
     "output_type": "stream",
     "text": [
      "train (6/1000) loss: 2.4072465896606445 | loss/mean: 2.4072465896606445 | loss/std: 0.0 | lr: 0.0001 | momentum: 0.9\n"
     ]
    },
    {
     "data": {
      "application/vnd.jupyter.widget-view+json": {
       "model_id": "baad4fb0717c4352bd7f11c39b059fbc",
       "version_major": 2,
       "version_minor": 0
      },
      "text/plain": [
       "6/1000 * Epoch (valid):   0%|          | 0/1 [00:00<?, ?it/s]"
      ]
     },
     "metadata": {},
     "output_type": "display_data"
    },
    {
     "name": "stdout",
     "output_type": "stream",
     "text": [
      "valid (6/1000) exact_match01: 0.0 | exact_match01/std: 0.0 | exact_match05: 0.0 | exact_match05/std: 0.0 | loss: 1.7346779108047485 | loss/mean: 1.7346779108047485 | loss/std: 0.0 | lr: 0.0001 | momentum: 0.9\n",
      "* Epoch (6/1000) \n"
     ]
    },
    {
     "data": {
      "application/vnd.jupyter.widget-view+json": {
       "model_id": "bfb79faf672446659ffb9ca2190679c8",
       "version_major": 2,
       "version_minor": 0
      },
      "text/plain": [
       "7/1000 * Epoch (train):   0%|          | 0/1 [00:00<?, ?it/s]"
      ]
     },
     "metadata": {},
     "output_type": "display_data"
    },
    {
     "name": "stdout",
     "output_type": "stream",
     "text": [
      "train (7/1000) loss: 2.266617774963379 | loss/mean: 2.266617774963379 | loss/std: 0.0 | lr: 0.0001 | momentum: 0.9\n"
     ]
    },
    {
     "data": {
      "application/vnd.jupyter.widget-view+json": {
       "model_id": "020acc9ef02642518da7ac452e06b8ed",
       "version_major": 2,
       "version_minor": 0
      },
      "text/plain": [
       "7/1000 * Epoch (valid):   0%|          | 0/1 [00:00<?, ?it/s]"
      ]
     },
     "metadata": {},
     "output_type": "display_data"
    },
    {
     "name": "stdout",
     "output_type": "stream",
     "text": [
      "valid (7/1000) exact_match01: 0.0 | exact_match01/std: 0.0 | exact_match05: 0.0 | exact_match05/std: 0.0 | loss: 1.452763319015503 | loss/mean: 1.452763319015503 | loss/std: 0.0 | lr: 0.0001 | momentum: 0.9\n",
      "* Epoch (7/1000) \n"
     ]
    },
    {
     "data": {
      "application/vnd.jupyter.widget-view+json": {
       "model_id": "a815fd9a765747f3b3e169cde3c6cfd7",
       "version_major": 2,
       "version_minor": 0
      },
      "text/plain": [
       "8/1000 * Epoch (train):   0%|          | 0/1 [00:00<?, ?it/s]"
      ]
     },
     "metadata": {},
     "output_type": "display_data"
    },
    {
     "name": "stdout",
     "output_type": "stream",
     "text": [
      "train (8/1000) loss: 1.9917361736297607 | loss/mean: 1.9917361736297607 | loss/std: 0.0 | lr: 0.0001 | momentum: 0.9\n"
     ]
    },
    {
     "data": {
      "application/vnd.jupyter.widget-view+json": {
       "model_id": "9342d28c58f3419e8ef70fce72a787bc",
       "version_major": 2,
       "version_minor": 0
      },
      "text/plain": [
       "8/1000 * Epoch (valid):   0%|          | 0/1 [00:00<?, ?it/s]"
      ]
     },
     "metadata": {},
     "output_type": "display_data"
    },
    {
     "name": "stdout",
     "output_type": "stream",
     "text": [
      "valid (8/1000) exact_match01: 0.0 | exact_match01/std: 0.0 | exact_match05: 0.0 | exact_match05/std: 0.0 | loss: 1.3129818439483643 | loss/mean: 1.3129818439483643 | loss/std: 0.0 | lr: 0.0001 | momentum: 0.9\n",
      "* Epoch (8/1000) \n"
     ]
    },
    {
     "data": {
      "application/vnd.jupyter.widget-view+json": {
       "model_id": "0648372d09db478dba2c0c0994dd33f9",
       "version_major": 2,
       "version_minor": 0
      },
      "text/plain": [
       "9/1000 * Epoch (train):   0%|          | 0/1 [00:00<?, ?it/s]"
      ]
     },
     "metadata": {},
     "output_type": "display_data"
    },
    {
     "name": "stdout",
     "output_type": "stream",
     "text": [
      "train (9/1000) loss: 1.958817958831787 | loss/mean: 1.958817958831787 | loss/std: 0.0 | lr: 0.0001 | momentum: 0.9\n"
     ]
    },
    {
     "data": {
      "application/vnd.jupyter.widget-view+json": {
       "model_id": "53bae37836534854849a239387fad679",
       "version_major": 2,
       "version_minor": 0
      },
      "text/plain": [
       "9/1000 * Epoch (valid):   0%|          | 0/1 [00:00<?, ?it/s]"
      ]
     },
     "metadata": {},
     "output_type": "display_data"
    },
    {
     "name": "stdout",
     "output_type": "stream",
     "text": [
      "valid (9/1000) exact_match01: 0.0 | exact_match01/std: 0.0 | exact_match05: 0.0 | exact_match05/std: 0.0 | loss: 1.2305694818496704 | loss/mean: 1.2305694818496704 | loss/std: 0.0 | lr: 0.0001 | momentum: 0.9\n",
      "* Epoch (9/1000) \n"
     ]
    },
    {
     "data": {
      "application/vnd.jupyter.widget-view+json": {
       "model_id": "20edc3d73052461280e916ef70f24ca9",
       "version_major": 2,
       "version_minor": 0
      },
      "text/plain": [
       "10/1000 * Epoch (train):   0%|          | 0/1 [00:00<?, ?it/s]"
      ]
     },
     "metadata": {},
     "output_type": "display_data"
    },
    {
     "name": "stdout",
     "output_type": "stream",
     "text": [
      "train (10/1000) loss: 1.5712536573410034 | loss/mean: 1.5712536573410034 | loss/std: 0.0 | lr: 0.0001 | momentum: 0.9\n"
     ]
    },
    {
     "data": {
      "application/vnd.jupyter.widget-view+json": {
       "model_id": "a8c27c1267b44eab81fe963232a9c77e",
       "version_major": 2,
       "version_minor": 0
      },
      "text/plain": [
       "10/1000 * Epoch (valid):   0%|          | 0/1 [00:00<?, ?it/s]"
      ]
     },
     "metadata": {},
     "output_type": "display_data"
    },
    {
     "name": "stdout",
     "output_type": "stream",
     "text": [
      "valid (10/1000) exact_match01: 0.0 | exact_match01/std: 0.0 | exact_match05: 0.0 | exact_match05/std: 0.0 | loss: 1.1557742357254028 | loss/mean: 1.1557742357254028 | loss/std: 0.0 | lr: 0.0001 | momentum: 0.9\n",
      "* Epoch (10/1000) \n"
     ]
    },
    {
     "data": {
      "application/vnd.jupyter.widget-view+json": {
       "model_id": "0edc3509979147188a26f4d793f25f17",
       "version_major": 2,
       "version_minor": 0
      },
      "text/plain": [
       "11/1000 * Epoch (train):   0%|          | 0/1 [00:00<?, ?it/s]"
      ]
     },
     "metadata": {},
     "output_type": "display_data"
    },
    {
     "name": "stdout",
     "output_type": "stream",
     "text": [
      "train (11/1000) loss: 1.5203139781951904 | loss/mean: 1.5203139781951904 | loss/std: 0.0 | lr: 0.0001 | momentum: 0.9\n"
     ]
    },
    {
     "data": {
      "application/vnd.jupyter.widget-view+json": {
       "model_id": "b4f070e78a7f45b7b9988522a9b9dfd8",
       "version_major": 2,
       "version_minor": 0
      },
      "text/plain": [
       "11/1000 * Epoch (valid):   0%|          | 0/1 [00:00<?, ?it/s]"
      ]
     },
     "metadata": {},
     "output_type": "display_data"
    },
    {
     "name": "stdout",
     "output_type": "stream",
     "text": [
      "valid (11/1000) exact_match01: 0.0 | exact_match01/std: 0.0 | exact_match05: 0.0 | exact_match05/std: 0.0 | loss: 1.0932285785675049 | loss/mean: 1.0932285785675049 | loss/std: 0.0 | lr: 0.0001 | momentum: 0.9\n",
      "* Epoch (11/1000) \n"
     ]
    },
    {
     "data": {
      "application/vnd.jupyter.widget-view+json": {
       "model_id": "a2bf8ac1484e464aa099eef6283846b9",
       "version_major": 2,
       "version_minor": 0
      },
      "text/plain": [
       "12/1000 * Epoch (train):   0%|          | 0/1 [00:00<?, ?it/s]"
      ]
     },
     "metadata": {},
     "output_type": "display_data"
    },
    {
     "name": "stdout",
     "output_type": "stream",
     "text": [
      "train (12/1000) loss: 1.4700530767440796 | loss/mean: 1.4700530767440796 | loss/std: 0.0 | lr: 0.0001 | momentum: 0.9\n"
     ]
    },
    {
     "data": {
      "application/vnd.jupyter.widget-view+json": {
       "model_id": "7dec206cb4594667a4a5c1b4f64522c2",
       "version_major": 2,
       "version_minor": 0
      },
      "text/plain": [
       "12/1000 * Epoch (valid):   0%|          | 0/1 [00:00<?, ?it/s]"
      ]
     },
     "metadata": {},
     "output_type": "display_data"
    },
    {
     "name": "stdout",
     "output_type": "stream",
     "text": [
      "valid (12/1000) exact_match01: 0.0 | exact_match01/std: 0.0 | exact_match05: 0.0 | exact_match05/std: 0.0 | loss: 1.0381022691726685 | loss/mean: 1.0381022691726685 | loss/std: 0.0 | lr: 0.0001 | momentum: 0.9\n",
      "* Epoch (12/1000) \n"
     ]
    },
    {
     "data": {
      "application/vnd.jupyter.widget-view+json": {
       "model_id": "cd678835388d44409e2295b510cc3e76",
       "version_major": 2,
       "version_minor": 0
      },
      "text/plain": [
       "13/1000 * Epoch (train):   0%|          | 0/1 [00:00<?, ?it/s]"
      ]
     },
     "metadata": {},
     "output_type": "display_data"
    },
    {
     "name": "stdout",
     "output_type": "stream",
     "text": [
      "train (13/1000) loss: 1.4752821922302246 | loss/mean: 1.4752821922302246 | loss/std: 0.0 | lr: 0.0001 | momentum: 0.9\n"
     ]
    },
    {
     "data": {
      "application/vnd.jupyter.widget-view+json": {
       "model_id": "e43af229b6124eb1b8dc4f563ff54560",
       "version_major": 2,
       "version_minor": 0
      },
      "text/plain": [
       "13/1000 * Epoch (valid):   0%|          | 0/1 [00:00<?, ?it/s]"
      ]
     },
     "metadata": {},
     "output_type": "display_data"
    },
    {
     "name": "stdout",
     "output_type": "stream",
     "text": [
      "valid (13/1000) exact_match01: 0.0 | exact_match01/std: 0.0 | exact_match05: 0.0 | exact_match05/std: 0.0 | loss: 0.9919755458831787 | loss/mean: 0.9919755458831787 | loss/std: 0.0 | lr: 0.0001 | momentum: 0.9\n",
      "* Epoch (13/1000) \n"
     ]
    },
    {
     "data": {
      "application/vnd.jupyter.widget-view+json": {
       "model_id": "74af631e58134d239fd803d3ecac36d7",
       "version_major": 2,
       "version_minor": 0
      },
      "text/plain": [
       "14/1000 * Epoch (train):   0%|          | 0/1 [00:00<?, ?it/s]"
      ]
     },
     "metadata": {},
     "output_type": "display_data"
    },
    {
     "name": "stdout",
     "output_type": "stream",
     "text": [
      "train (14/1000) loss: 1.4310505390167236 | loss/mean: 1.4310505390167236 | loss/std: 0.0 | lr: 0.0001 | momentum: 0.9\n"
     ]
    },
    {
     "data": {
      "application/vnd.jupyter.widget-view+json": {
       "model_id": "38c0857140874fd1a89e669a3361665a",
       "version_major": 2,
       "version_minor": 0
      },
      "text/plain": [
       "14/1000 * Epoch (valid):   0%|          | 0/1 [00:00<?, ?it/s]"
      ]
     },
     "metadata": {},
     "output_type": "display_data"
    },
    {
     "name": "stdout",
     "output_type": "stream",
     "text": [
      "valid (14/1000) exact_match01: 0.0 | exact_match01/std: 0.0 | exact_match05: 0.0 | exact_match05/std: 0.0 | loss: 0.9521640539169312 | loss/mean: 0.9521640539169312 | loss/std: 0.0 | lr: 0.0001 | momentum: 0.9\n",
      "* Epoch (14/1000) \n"
     ]
    },
    {
     "data": {
      "application/vnd.jupyter.widget-view+json": {
       "model_id": "1b7adc2ea8d342cca05a2c1e3dbd8d86",
       "version_major": 2,
       "version_minor": 0
      },
      "text/plain": [
       "15/1000 * Epoch (train):   0%|          | 0/1 [00:00<?, ?it/s]"
      ]
     },
     "metadata": {},
     "output_type": "display_data"
    },
    {
     "name": "stdout",
     "output_type": "stream",
     "text": [
      "train (15/1000) loss: 1.4027951955795288 | loss/mean: 1.4027951955795288 | loss/std: 0.0 | lr: 0.0001 | momentum: 0.9\n"
     ]
    },
    {
     "data": {
      "application/vnd.jupyter.widget-view+json": {
       "model_id": "7721ea52092d4bbdabdf538a79d7112f",
       "version_major": 2,
       "version_minor": 0
      },
      "text/plain": [
       "15/1000 * Epoch (valid):   0%|          | 0/1 [00:00<?, ?it/s]"
      ]
     },
     "metadata": {},
     "output_type": "display_data"
    },
    {
     "name": "stdout",
     "output_type": "stream",
     "text": [
      "valid (15/1000) exact_match01: 0.0 | exact_match01/std: 0.0 | exact_match05: 0.0 | exact_match05/std: 0.0 | loss: 0.9166181683540344 | loss/mean: 0.9166181683540344 | loss/std: 0.0 | lr: 0.0001 | momentum: 0.9\n",
      "* Epoch (15/1000) \n"
     ]
    },
    {
     "data": {
      "application/vnd.jupyter.widget-view+json": {
       "model_id": "d825f1922e8f4930828b2a8232554497",
       "version_major": 2,
       "version_minor": 0
      },
      "text/plain": [
       "16/1000 * Epoch (train):   0%|          | 0/1 [00:00<?, ?it/s]"
      ]
     },
     "metadata": {},
     "output_type": "display_data"
    },
    {
     "name": "stdout",
     "output_type": "stream",
     "text": [
      "train (16/1000) loss: 1.3976929187774658 | loss/mean: 1.3976929187774658 | loss/std: 0.0 | lr: 0.0001 | momentum: 0.9\n"
     ]
    },
    {
     "data": {
      "application/vnd.jupyter.widget-view+json": {
       "model_id": "6981ea0b881b4ffdb91104f4afe1242d",
       "version_major": 2,
       "version_minor": 0
      },
      "text/plain": [
       "16/1000 * Epoch (valid):   0%|          | 0/1 [00:00<?, ?it/s]"
      ]
     },
     "metadata": {},
     "output_type": "display_data"
    },
    {
     "name": "stdout",
     "output_type": "stream",
     "text": [
      "valid (16/1000) exact_match01: 0.0 | exact_match01/std: 0.0 | exact_match05: 0.0 | exact_match05/std: 0.0 | loss: 0.8850520253181458 | loss/mean: 0.8850520253181458 | loss/std: 0.0 | lr: 0.0001 | momentum: 0.9\n",
      "* Epoch (16/1000) \n"
     ]
    },
    {
     "data": {
      "application/vnd.jupyter.widget-view+json": {
       "model_id": "d5473634e16448739b0c57d502bc1e23",
       "version_major": 2,
       "version_minor": 0
      },
      "text/plain": [
       "17/1000 * Epoch (train):   0%|          | 0/1 [00:00<?, ?it/s]"
      ]
     },
     "metadata": {},
     "output_type": "display_data"
    },
    {
     "name": "stdout",
     "output_type": "stream",
     "text": [
      "train (17/1000) loss: 1.29600989818573 | loss/mean: 1.29600989818573 | loss/std: 0.0 | lr: 0.0001 | momentum: 0.9\n"
     ]
    },
    {
     "data": {
      "application/vnd.jupyter.widget-view+json": {
       "model_id": "9694f57a117b4fd8a85894456ace1ce8",
       "version_major": 2,
       "version_minor": 0
      },
      "text/plain": [
       "17/1000 * Epoch (valid):   0%|          | 0/1 [00:00<?, ?it/s]"
      ]
     },
     "metadata": {},
     "output_type": "display_data"
    },
    {
     "name": "stdout",
     "output_type": "stream",
     "text": [
      "valid (17/1000) exact_match01: 0.0 | exact_match01/std: 0.0 | exact_match05: 0.0 | exact_match05/std: 0.0 | loss: 0.8577103018760681 | loss/mean: 0.8577103018760681 | loss/std: 0.0 | lr: 0.0001 | momentum: 0.9\n",
      "* Epoch (17/1000) \n"
     ]
    },
    {
     "data": {
      "application/vnd.jupyter.widget-view+json": {
       "model_id": "1bdc29bb681945db8d3fef3105b7ba4f",
       "version_major": 2,
       "version_minor": 0
      },
      "text/plain": [
       "18/1000 * Epoch (train):   0%|          | 0/1 [00:00<?, ?it/s]"
      ]
     },
     "metadata": {},
     "output_type": "display_data"
    },
    {
     "name": "stdout",
     "output_type": "stream",
     "text": [
      "train (18/1000) loss: 1.3099099397659302 | loss/mean: 1.3099099397659302 | loss/std: 0.0 | lr: 0.0001 | momentum: 0.9\n"
     ]
    },
    {
     "data": {
      "application/vnd.jupyter.widget-view+json": {
       "model_id": "bb6981d4cbfb4400b99dc33494f449df",
       "version_major": 2,
       "version_minor": 0
      },
      "text/plain": [
       "18/1000 * Epoch (valid):   0%|          | 0/1 [00:00<?, ?it/s]"
      ]
     },
     "metadata": {},
     "output_type": "display_data"
    },
    {
     "name": "stdout",
     "output_type": "stream",
     "text": [
      "valid (18/1000) exact_match01: 0.0 | exact_match01/std: 0.0 | exact_match05: 0.0 | exact_match05/std: 0.0 | loss: 0.8330956101417542 | loss/mean: 0.8330956101417542 | loss/std: 0.0 | lr: 0.0001 | momentum: 0.9\n",
      "* Epoch (18/1000) \n"
     ]
    },
    {
     "data": {
      "application/vnd.jupyter.widget-view+json": {
       "model_id": "478db036f7924bbbacdc0b81110f20ff",
       "version_major": 2,
       "version_minor": 0
      },
      "text/plain": [
       "19/1000 * Epoch (train):   0%|          | 0/1 [00:00<?, ?it/s]"
      ]
     },
     "metadata": {},
     "output_type": "display_data"
    },
    {
     "name": "stdout",
     "output_type": "stream",
     "text": [
      "train (19/1000) loss: 1.2802746295928955 | loss/mean: 1.2802746295928955 | loss/std: 0.0 | lr: 0.0001 | momentum: 0.9\n"
     ]
    },
    {
     "data": {
      "application/vnd.jupyter.widget-view+json": {
       "model_id": "3eca7523775c4cca9ca46c6ff594cfd6",
       "version_major": 2,
       "version_minor": 0
      },
      "text/plain": [
       "19/1000 * Epoch (valid):   0%|          | 0/1 [00:00<?, ?it/s]"
      ]
     },
     "metadata": {},
     "output_type": "display_data"
    },
    {
     "name": "stdout",
     "output_type": "stream",
     "text": [
      "valid (19/1000) exact_match01: 0.0 | exact_match01/std: 0.0 | exact_match05: 0.0 | exact_match05/std: 0.0 | loss: 0.8113583922386169 | loss/mean: 0.8113583922386169 | loss/std: 0.0 | lr: 0.0001 | momentum: 0.9\n",
      "* Epoch (19/1000) \n"
     ]
    },
    {
     "data": {
      "application/vnd.jupyter.widget-view+json": {
       "model_id": "d64e351a000849af9353f50c3f55cdfa",
       "version_major": 2,
       "version_minor": 0
      },
      "text/plain": [
       "20/1000 * Epoch (train):   0%|          | 0/1 [00:00<?, ?it/s]"
      ]
     },
     "metadata": {},
     "output_type": "display_data"
    },
    {
     "name": "stdout",
     "output_type": "stream",
     "text": [
      "train (20/1000) loss: 1.227872610092163 | loss/mean: 1.227872610092163 | loss/std: 0.0 | lr: 0.0001 | momentum: 0.9\n"
     ]
    },
    {
     "data": {
      "application/vnd.jupyter.widget-view+json": {
       "model_id": "b041ab22f1b948dfb7debfa459c48b7f",
       "version_major": 2,
       "version_minor": 0
      },
      "text/plain": [
       "20/1000 * Epoch (valid):   0%|          | 0/1 [00:00<?, ?it/s]"
      ]
     },
     "metadata": {},
     "output_type": "display_data"
    },
    {
     "name": "stdout",
     "output_type": "stream",
     "text": [
      "valid (20/1000) exact_match01: 0.0 | exact_match01/std: 0.0 | exact_match05: 0.0 | exact_match05/std: 0.0 | loss: 0.792174756526947 | loss/mean: 0.792174756526947 | loss/std: 0.0 | lr: 0.0001 | momentum: 0.9\n",
      "* Epoch (20/1000) \n"
     ]
    },
    {
     "data": {
      "application/vnd.jupyter.widget-view+json": {
       "model_id": "5380633a15e94c05bccc00d137718641",
       "version_major": 2,
       "version_minor": 0
      },
      "text/plain": [
       "21/1000 * Epoch (train):   0%|          | 0/1 [00:00<?, ?it/s]"
      ]
     },
     "metadata": {},
     "output_type": "display_data"
    },
    {
     "name": "stdout",
     "output_type": "stream",
     "text": [
      "train (21/1000) loss: 1.2031303644180298 | loss/mean: 1.2031303644180298 | loss/std: 0.0 | lr: 0.0001 | momentum: 0.9\n"
     ]
    },
    {
     "data": {
      "application/vnd.jupyter.widget-view+json": {
       "model_id": "686399cd8dd542c7a104e1543ca8bc34",
       "version_major": 2,
       "version_minor": 0
      },
      "text/plain": [
       "21/1000 * Epoch (valid):   0%|          | 0/1 [00:00<?, ?it/s]"
      ]
     },
     "metadata": {},
     "output_type": "display_data"
    },
    {
     "name": "stdout",
     "output_type": "stream",
     "text": [
      "valid (21/1000) exact_match01: 0.0 | exact_match01/std: 0.0 | exact_match05: 0.0 | exact_match05/std: 0.0 | loss: 0.7745790481567383 | loss/mean: 0.7745790481567383 | loss/std: 0.0 | lr: 0.0001 | momentum: 0.9\n",
      "* Epoch (21/1000) \n"
     ]
    },
    {
     "data": {
      "application/vnd.jupyter.widget-view+json": {
       "model_id": "be1dfb41ef1d461796980332196b61a0",
       "version_major": 2,
       "version_minor": 0
      },
      "text/plain": [
       "22/1000 * Epoch (train):   0%|          | 0/1 [00:00<?, ?it/s]"
      ]
     },
     "metadata": {},
     "output_type": "display_data"
    },
    {
     "name": "stdout",
     "output_type": "stream",
     "text": [
      "train (22/1000) loss: 1.1509290933609009 | loss/mean: 1.1509290933609009 | loss/std: 0.0 | lr: 0.0001 | momentum: 0.9\n"
     ]
    },
    {
     "data": {
      "application/vnd.jupyter.widget-view+json": {
       "model_id": "be14010796c6446f8c6b150fcc86c7a2",
       "version_major": 2,
       "version_minor": 0
      },
      "text/plain": [
       "22/1000 * Epoch (valid):   0%|          | 0/1 [00:00<?, ?it/s]"
      ]
     },
     "metadata": {},
     "output_type": "display_data"
    },
    {
     "name": "stdout",
     "output_type": "stream",
     "text": [
      "valid (22/1000) exact_match01: 0.0 | exact_match01/std: 0.0 | exact_match05: 0.0 | exact_match05/std: 0.0 | loss: 0.7588014006614685 | loss/mean: 0.7588014006614685 | loss/std: 0.0 | lr: 0.0001 | momentum: 0.9\n",
      "* Epoch (22/1000) \n"
     ]
    },
    {
     "data": {
      "application/vnd.jupyter.widget-view+json": {
       "model_id": "a5b6dc4e76c443a8af04bc70f9588442",
       "version_major": 2,
       "version_minor": 0
      },
      "text/plain": [
       "23/1000 * Epoch (train):   0%|          | 0/1 [00:00<?, ?it/s]"
      ]
     },
     "metadata": {},
     "output_type": "display_data"
    },
    {
     "name": "stdout",
     "output_type": "stream",
     "text": [
      "train (23/1000) loss: 1.1372716426849365 | loss/mean: 1.1372716426849365 | loss/std: 0.0 | lr: 0.0001 | momentum: 0.9\n"
     ]
    },
    {
     "data": {
      "application/vnd.jupyter.widget-view+json": {
       "model_id": "698f505604d240c09bfe9f7bd0ce223e",
       "version_major": 2,
       "version_minor": 0
      },
      "text/plain": [
       "23/1000 * Epoch (valid):   0%|          | 0/1 [00:00<?, ?it/s]"
      ]
     },
     "metadata": {},
     "output_type": "display_data"
    },
    {
     "name": "stdout",
     "output_type": "stream",
     "text": [
      "valid (23/1000) exact_match01: 0.0 | exact_match01/std: 0.0 | exact_match05: 0.0 | exact_match05/std: 0.0 | loss: 0.743904709815979 | loss/mean: 0.743904709815979 | loss/std: 0.0 | lr: 0.0001 | momentum: 0.9\n",
      "* Epoch (23/1000) \n"
     ]
    },
    {
     "data": {
      "application/vnd.jupyter.widget-view+json": {
       "model_id": "f2ffc4f64d2540708b9007cd0168125a",
       "version_major": 2,
       "version_minor": 0
      },
      "text/plain": [
       "24/1000 * Epoch (train):   0%|          | 0/1 [00:00<?, ?it/s]"
      ]
     },
     "metadata": {},
     "output_type": "display_data"
    },
    {
     "name": "stdout",
     "output_type": "stream",
     "text": [
      "train (24/1000) loss: 1.091799020767212 | loss/mean: 1.091799020767212 | loss/std: 0.0 | lr: 0.0001 | momentum: 0.9\n"
     ]
    },
    {
     "data": {
      "application/vnd.jupyter.widget-view+json": {
       "model_id": "e7b1041cdf3f4e82a4b3e3c29ceb9f89",
       "version_major": 2,
       "version_minor": 0
      },
      "text/plain": [
       "24/1000 * Epoch (valid):   0%|          | 0/1 [00:00<?, ?it/s]"
      ]
     },
     "metadata": {},
     "output_type": "display_data"
    },
    {
     "name": "stdout",
     "output_type": "stream",
     "text": [
      "valid (24/1000) exact_match01: 0.0 | exact_match01/std: 0.0 | exact_match05: 0.0 | exact_match05/std: 0.0 | loss: 0.7297271490097046 | loss/mean: 0.7297271490097046 | loss/std: 0.0 | lr: 0.0001 | momentum: 0.9\n",
      "* Epoch (24/1000) \n"
     ]
    },
    {
     "data": {
      "application/vnd.jupyter.widget-view+json": {
       "model_id": "2375c4a731b7455980dad1c15f665ded",
       "version_major": 2,
       "version_minor": 0
      },
      "text/plain": [
       "25/1000 * Epoch (train):   0%|          | 0/1 [00:00<?, ?it/s]"
      ]
     },
     "metadata": {},
     "output_type": "display_data"
    },
    {
     "name": "stdout",
     "output_type": "stream",
     "text": [
      "train (25/1000) loss: 1.0709333419799805 | loss/mean: 1.0709333419799805 | loss/std: 0.0 | lr: 0.0001 | momentum: 0.9\n"
     ]
    },
    {
     "data": {
      "application/vnd.jupyter.widget-view+json": {
       "model_id": "c3929ce3932848a38125c9b3b8c8443a",
       "version_major": 2,
       "version_minor": 0
      },
      "text/plain": [
       "25/1000 * Epoch (valid):   0%|          | 0/1 [00:00<?, ?it/s]"
      ]
     },
     "metadata": {},
     "output_type": "display_data"
    },
    {
     "name": "stdout",
     "output_type": "stream",
     "text": [
      "valid (25/1000) exact_match01: 0.0 | exact_match01/std: 0.0 | exact_match05: 0.0 | exact_match05/std: 0.0 | loss: 0.7159630656242371 | loss/mean: 0.7159630656242371 | loss/std: 0.0 | lr: 0.0001 | momentum: 0.9\n",
      "* Epoch (25/1000) \n"
     ]
    },
    {
     "data": {
      "application/vnd.jupyter.widget-view+json": {
       "model_id": "ec168e2654784de69b58011db54e6ab7",
       "version_major": 2,
       "version_minor": 0
      },
      "text/plain": [
       "26/1000 * Epoch (train):   0%|          | 0/1 [00:00<?, ?it/s]"
      ]
     },
     "metadata": {},
     "output_type": "display_data"
    },
    {
     "name": "stdout",
     "output_type": "stream",
     "text": [
      "train (26/1000) loss: 1.044729232788086 | loss/mean: 1.044729232788086 | loss/std: 0.0 | lr: 0.0001 | momentum: 0.9\n"
     ]
    },
    {
     "data": {
      "application/vnd.jupyter.widget-view+json": {
       "model_id": "eaaf4c0a417f4faba99850261337ad69",
       "version_major": 2,
       "version_minor": 0
      },
      "text/plain": [
       "26/1000 * Epoch (valid):   0%|          | 0/1 [00:00<?, ?it/s]"
      ]
     },
     "metadata": {},
     "output_type": "display_data"
    },
    {
     "name": "stdout",
     "output_type": "stream",
     "text": [
      "valid (26/1000) exact_match01: 0.0 | exact_match01/std: 0.0 | exact_match05: 0.0 | exact_match05/std: 0.0 | loss: 0.7029166221618652 | loss/mean: 0.7029166221618652 | loss/std: 0.0 | lr: 0.0001 | momentum: 0.9\n",
      "* Epoch (26/1000) \n"
     ]
    },
    {
     "data": {
      "application/vnd.jupyter.widget-view+json": {
       "model_id": "dce44d35f2ce4ccd9b983b8b584fe0ef",
       "version_major": 2,
       "version_minor": 0
      },
      "text/plain": [
       "27/1000 * Epoch (train):   0%|          | 0/1 [00:00<?, ?it/s]"
      ]
     },
     "metadata": {},
     "output_type": "display_data"
    },
    {
     "name": "stdout",
     "output_type": "stream",
     "text": [
      "train (27/1000) loss: 1.017310619354248 | loss/mean: 1.017310619354248 | loss/std: 0.0 | lr: 0.0001 | momentum: 0.9\n"
     ]
    },
    {
     "data": {
      "application/vnd.jupyter.widget-view+json": {
       "model_id": "d35df10b1f1b4c8686c1c858d7c7c00b",
       "version_major": 2,
       "version_minor": 0
      },
      "text/plain": [
       "27/1000 * Epoch (valid):   0%|          | 0/1 [00:00<?, ?it/s]"
      ]
     },
     "metadata": {},
     "output_type": "display_data"
    },
    {
     "name": "stdout",
     "output_type": "stream",
     "text": [
      "valid (27/1000) exact_match01: 0.0 | exact_match01/std: 0.0 | exact_match05: 0.0 | exact_match05/std: 0.0 | loss: 0.6906929612159729 | loss/mean: 0.6906929612159729 | loss/std: 0.0 | lr: 0.0001 | momentum: 0.9\n",
      "* Epoch (27/1000) \n"
     ]
    },
    {
     "data": {
      "application/vnd.jupyter.widget-view+json": {
       "model_id": "65b3226d547b465b91e3763006722a1e",
       "version_major": 2,
       "version_minor": 0
      },
      "text/plain": [
       "28/1000 * Epoch (train):   0%|          | 0/1 [00:00<?, ?it/s]"
      ]
     },
     "metadata": {},
     "output_type": "display_data"
    },
    {
     "name": "stdout",
     "output_type": "stream",
     "text": [
      "train (28/1000) loss: 1.0050249099731445 | loss/mean: 1.0050249099731445 | loss/std: 0.0 | lr: 0.0001 | momentum: 0.9\n"
     ]
    },
    {
     "data": {
      "application/vnd.jupyter.widget-view+json": {
       "model_id": "b7ad0f642c094e7eaa92721204b249fd",
       "version_major": 2,
       "version_minor": 0
      },
      "text/plain": [
       "28/1000 * Epoch (valid):   0%|          | 0/1 [00:00<?, ?it/s]"
      ]
     },
     "metadata": {},
     "output_type": "display_data"
    },
    {
     "name": "stdout",
     "output_type": "stream",
     "text": [
      "valid (28/1000) exact_match01: 0.0 | exact_match01/std: 0.0 | exact_match05: 0.0 | exact_match05/std: 0.0 | loss: 0.6789177656173706 | loss/mean: 0.6789177656173706 | loss/std: 0.0 | lr: 0.0001 | momentum: 0.9\n",
      "* Epoch (28/1000) \n"
     ]
    },
    {
     "data": {
      "application/vnd.jupyter.widget-view+json": {
       "model_id": "0d253b3ba93e4946a1cc16dcb5b469c6",
       "version_major": 2,
       "version_minor": 0
      },
      "text/plain": [
       "29/1000 * Epoch (train):   0%|          | 0/1 [00:00<?, ?it/s]"
      ]
     },
     "metadata": {},
     "output_type": "display_data"
    },
    {
     "name": "stdout",
     "output_type": "stream",
     "text": [
      "train (29/1000) loss: 1.0131489038467407 | loss/mean: 1.0131489038467407 | loss/std: 0.0 | lr: 0.0001 | momentum: 0.9\n"
     ]
    },
    {
     "data": {
      "application/vnd.jupyter.widget-view+json": {
       "model_id": "195e510b8d7145b78a501968f0e5b781",
       "version_major": 2,
       "version_minor": 0
      },
      "text/plain": [
       "29/1000 * Epoch (valid):   0%|          | 0/1 [00:00<?, ?it/s]"
      ]
     },
     "metadata": {},
     "output_type": "display_data"
    },
    {
     "name": "stdout",
     "output_type": "stream",
     "text": [
      "valid (29/1000) exact_match01: 0.0 | exact_match01/std: 0.0 | exact_match05: 0.0 | exact_match05/std: 0.0 | loss: 0.667549729347229 | loss/mean: 0.667549729347229 | loss/std: 0.0 | lr: 0.0001 | momentum: 0.9\n",
      "* Epoch (29/1000) \n"
     ]
    },
    {
     "data": {
      "application/vnd.jupyter.widget-view+json": {
       "model_id": "5b8189132cd7416baf3ffadf4c30c098",
       "version_major": 2,
       "version_minor": 0
      },
      "text/plain": [
       "30/1000 * Epoch (train):   0%|          | 0/1 [00:00<?, ?it/s]"
      ]
     },
     "metadata": {},
     "output_type": "display_data"
    },
    {
     "name": "stdout",
     "output_type": "stream",
     "text": [
      "train (30/1000) loss: 0.9236617088317871 | loss/mean: 0.9236617088317871 | loss/std: 0.0 | lr: 0.0001 | momentum: 0.9\n"
     ]
    },
    {
     "data": {
      "application/vnd.jupyter.widget-view+json": {
       "model_id": "1fb73c745d4c4544bbf5b0906b5ec51e",
       "version_major": 2,
       "version_minor": 0
      },
      "text/plain": [
       "30/1000 * Epoch (valid):   0%|          | 0/1 [00:00<?, ?it/s]"
      ]
     },
     "metadata": {},
     "output_type": "display_data"
    },
    {
     "name": "stdout",
     "output_type": "stream",
     "text": [
      "valid (30/1000) exact_match01: 0.0 | exact_match01/std: 0.0 | exact_match05: 0.0 | exact_match05/std: 0.0 | loss: 0.6567782163619995 | loss/mean: 0.6567782163619995 | loss/std: 0.0 | lr: 0.0001 | momentum: 0.9\n",
      "* Epoch (30/1000) \n"
     ]
    },
    {
     "data": {
      "application/vnd.jupyter.widget-view+json": {
       "model_id": "1da806bd56d54bddabd6c09a33f318e6",
       "version_major": 2,
       "version_minor": 0
      },
      "text/plain": [
       "31/1000 * Epoch (train):   0%|          | 0/1 [00:00<?, ?it/s]"
      ]
     },
     "metadata": {},
     "output_type": "display_data"
    },
    {
     "name": "stdout",
     "output_type": "stream",
     "text": [
      "train (31/1000) loss: 0.9590662717819214 | loss/mean: 0.9590662717819214 | loss/std: 0.0 | lr: 0.0001 | momentum: 0.9\n"
     ]
    },
    {
     "data": {
      "application/vnd.jupyter.widget-view+json": {
       "model_id": "603fbf38c528482290663caf3fbda461",
       "version_major": 2,
       "version_minor": 0
      },
      "text/plain": [
       "31/1000 * Epoch (valid):   0%|          | 0/1 [00:00<?, ?it/s]"
      ]
     },
     "metadata": {},
     "output_type": "display_data"
    },
    {
     "name": "stdout",
     "output_type": "stream",
     "text": [
      "valid (31/1000) exact_match01: 0.0 | exact_match01/std: 0.0 | exact_match05: 0.0 | exact_match05/std: 0.0 | loss: 0.6468386650085449 | loss/mean: 0.6468386650085449 | loss/std: 0.0 | lr: 0.0001 | momentum: 0.9\n",
      "* Epoch (31/1000) \n"
     ]
    },
    {
     "data": {
      "application/vnd.jupyter.widget-view+json": {
       "model_id": "6fb7c789a0294c5f888fa993cd5459bf",
       "version_major": 2,
       "version_minor": 0
      },
      "text/plain": [
       "32/1000 * Epoch (train):   0%|          | 0/1 [00:00<?, ?it/s]"
      ]
     },
     "metadata": {},
     "output_type": "display_data"
    },
    {
     "name": "stdout",
     "output_type": "stream",
     "text": [
      "train (32/1000) loss: 0.9121398329734802 | loss/mean: 0.9121398329734802 | loss/std: 0.0 | lr: 0.0001 | momentum: 0.9\n"
     ]
    },
    {
     "data": {
      "application/vnd.jupyter.widget-view+json": {
       "model_id": "4b20ab3466184fe8a9607c67da5e9905",
       "version_major": 2,
       "version_minor": 0
      },
      "text/plain": [
       "32/1000 * Epoch (valid):   0%|          | 0/1 [00:00<?, ?it/s]"
      ]
     },
     "metadata": {},
     "output_type": "display_data"
    },
    {
     "name": "stdout",
     "output_type": "stream",
     "text": [
      "valid (32/1000) exact_match01: 0.0 | exact_match01/std: 0.0 | exact_match05: 0.0 | exact_match05/std: 0.0 | loss: 0.6375314593315125 | loss/mean: 0.6375314593315125 | loss/std: 0.0 | lr: 0.0001 | momentum: 0.9\n",
      "* Epoch (32/1000) \n"
     ]
    },
    {
     "data": {
      "application/vnd.jupyter.widget-view+json": {
       "model_id": "07b0c7586a104ac88e46c52ddfd6512c",
       "version_major": 2,
       "version_minor": 0
      },
      "text/plain": [
       "33/1000 * Epoch (train):   0%|          | 0/1 [00:00<?, ?it/s]"
      ]
     },
     "metadata": {},
     "output_type": "display_data"
    },
    {
     "name": "stdout",
     "output_type": "stream",
     "text": [
      "train (33/1000) loss: 0.8695862293243408 | loss/mean: 0.8695862293243408 | loss/std: 0.0 | lr: 0.0001 | momentum: 0.9\n"
     ]
    },
    {
     "data": {
      "application/vnd.jupyter.widget-view+json": {
       "model_id": "da6965924bba470c9257df6c3d5690ed",
       "version_major": 2,
       "version_minor": 0
      },
      "text/plain": [
       "33/1000 * Epoch (valid):   0%|          | 0/1 [00:00<?, ?it/s]"
      ]
     },
     "metadata": {},
     "output_type": "display_data"
    },
    {
     "name": "stdout",
     "output_type": "stream",
     "text": [
      "valid (33/1000) exact_match01: 0.0 | exact_match01/std: 0.0 | exact_match05: 0.0 | exact_match05/std: 0.0 | loss: 0.6285589933395386 | loss/mean: 0.6285589933395386 | loss/std: 0.0 | lr: 0.0001 | momentum: 0.9\n",
      "* Epoch (33/1000) \n"
     ]
    },
    {
     "data": {
      "application/vnd.jupyter.widget-view+json": {
       "model_id": "e05e1140cd9d480dbafa7671e1c5707d",
       "version_major": 2,
       "version_minor": 0
      },
      "text/plain": [
       "34/1000 * Epoch (train):   0%|          | 0/1 [00:00<?, ?it/s]"
      ]
     },
     "metadata": {},
     "output_type": "display_data"
    },
    {
     "name": "stdout",
     "output_type": "stream",
     "text": [
      "train (34/1000) loss: 0.8896523118019104 | loss/mean: 0.8896523118019104 | loss/std: 0.0 | lr: 0.0001 | momentum: 0.9\n"
     ]
    },
    {
     "data": {
      "application/vnd.jupyter.widget-view+json": {
       "model_id": "6c9e4d3075944c80b9dd9321e141475d",
       "version_major": 2,
       "version_minor": 0
      },
      "text/plain": [
       "34/1000 * Epoch (valid):   0%|          | 0/1 [00:00<?, ?it/s]"
      ]
     },
     "metadata": {},
     "output_type": "display_data"
    },
    {
     "name": "stdout",
     "output_type": "stream",
     "text": [
      "valid (34/1000) exact_match01: 0.0 | exact_match01/std: 0.0 | exact_match05: 0.0 | exact_match05/std: 0.0 | loss: 0.62003093957901 | loss/mean: 0.62003093957901 | loss/std: 0.0 | lr: 0.0001 | momentum: 0.9\n",
      "* Epoch (34/1000) \n"
     ]
    },
    {
     "data": {
      "application/vnd.jupyter.widget-view+json": {
       "model_id": "be84bbf626d64728b3c6c57f7c2fdcd8",
       "version_major": 2,
       "version_minor": 0
      },
      "text/plain": [
       "35/1000 * Epoch (train):   0%|          | 0/1 [00:00<?, ?it/s]"
      ]
     },
     "metadata": {},
     "output_type": "display_data"
    },
    {
     "name": "stdout",
     "output_type": "stream",
     "text": [
      "train (35/1000) loss: 0.8968968987464905 | loss/mean: 0.8968968987464905 | loss/std: 0.0 | lr: 0.0001 | momentum: 0.9\n"
     ]
    },
    {
     "data": {
      "application/vnd.jupyter.widget-view+json": {
       "model_id": "9b04e5bea20144edbf78792a3cedbf73",
       "version_major": 2,
       "version_minor": 0
      },
      "text/plain": [
       "35/1000 * Epoch (valid):   0%|          | 0/1 [00:00<?, ?it/s]"
      ]
     },
     "metadata": {},
     "output_type": "display_data"
    },
    {
     "name": "stdout",
     "output_type": "stream",
     "text": [
      "valid (35/1000) exact_match01: 0.0 | exact_match01/std: 0.0 | exact_match05: 0.0 | exact_match05/std: 0.0 | loss: 0.6117911338806152 | loss/mean: 0.6117911338806152 | loss/std: 0.0 | lr: 0.0001 | momentum: 0.9\n",
      "* Epoch (35/1000) \n"
     ]
    },
    {
     "data": {
      "application/vnd.jupyter.widget-view+json": {
       "model_id": "a8d5aca6f7ed470eb6e0a672d25ef41c",
       "version_major": 2,
       "version_minor": 0
      },
      "text/plain": [
       "36/1000 * Epoch (train):   0%|          | 0/1 [00:00<?, ?it/s]"
      ]
     },
     "metadata": {},
     "output_type": "display_data"
    },
    {
     "name": "stdout",
     "output_type": "stream",
     "text": [
      "train (36/1000) loss: 0.8948680758476257 | loss/mean: 0.8948680758476257 | loss/std: 0.0 | lr: 0.0001 | momentum: 0.9\n"
     ]
    },
    {
     "data": {
      "application/vnd.jupyter.widget-view+json": {
       "model_id": "ebf6d0f1b38c4c9887e387e6afda5ee6",
       "version_major": 2,
       "version_minor": 0
      },
      "text/plain": [
       "36/1000 * Epoch (valid):   0%|          | 0/1 [00:00<?, ?it/s]"
      ]
     },
     "metadata": {},
     "output_type": "display_data"
    },
    {
     "name": "stdout",
     "output_type": "stream",
     "text": [
      "valid (36/1000) exact_match01: 0.0 | exact_match01/std: 0.0 | exact_match05: 0.0 | exact_match05/std: 0.0 | loss: 0.6038899421691895 | loss/mean: 0.6038899421691895 | loss/std: 0.0 | lr: 0.0001 | momentum: 0.9\n",
      "* Epoch (36/1000) \n"
     ]
    },
    {
     "data": {
      "application/vnd.jupyter.widget-view+json": {
       "model_id": "d72796739d7346028dc832d971e19b98",
       "version_major": 2,
       "version_minor": 0
      },
      "text/plain": [
       "37/1000 * Epoch (train):   0%|          | 0/1 [00:00<?, ?it/s]"
      ]
     },
     "metadata": {},
     "output_type": "display_data"
    },
    {
     "name": "stdout",
     "output_type": "stream",
     "text": [
      "train (37/1000) loss: 0.8804287314414978 | loss/mean: 0.8804287314414978 | loss/std: 0.0 | lr: 0.0001 | momentum: 0.9\n"
     ]
    },
    {
     "data": {
      "application/vnd.jupyter.widget-view+json": {
       "model_id": "d5ea29cffe624fd68ec8b0492c22f901",
       "version_major": 2,
       "version_minor": 0
      },
      "text/plain": [
       "37/1000 * Epoch (valid):   0%|          | 0/1 [00:00<?, ?it/s]"
      ]
     },
     "metadata": {},
     "output_type": "display_data"
    },
    {
     "name": "stdout",
     "output_type": "stream",
     "text": [
      "valid (37/1000) exact_match01: 0.0 | exact_match01/std: 0.0 | exact_match05: 0.0 | exact_match05/std: 0.0 | loss: 0.5961246490478516 | loss/mean: 0.5961246490478516 | loss/std: 0.0 | lr: 0.0001 | momentum: 0.9\n",
      "* Epoch (37/1000) \n"
     ]
    },
    {
     "data": {
      "application/vnd.jupyter.widget-view+json": {
       "model_id": "3b38ae91f94441ea86d5f5d024d9de3b",
       "version_major": 2,
       "version_minor": 0
      },
      "text/plain": [
       "38/1000 * Epoch (train):   0%|          | 0/1 [00:00<?, ?it/s]"
      ]
     },
     "metadata": {},
     "output_type": "display_data"
    },
    {
     "name": "stdout",
     "output_type": "stream",
     "text": [
      "train (38/1000) loss: 0.8074321746826172 | loss/mean: 0.8074321746826172 | loss/std: 0.0 | lr: 0.0001 | momentum: 0.9\n"
     ]
    },
    {
     "data": {
      "application/vnd.jupyter.widget-view+json": {
       "model_id": "29da26c98d1d44158997545942265526",
       "version_major": 2,
       "version_minor": 0
      },
      "text/plain": [
       "38/1000 * Epoch (valid):   0%|          | 0/1 [00:00<?, ?it/s]"
      ]
     },
     "metadata": {},
     "output_type": "display_data"
    },
    {
     "name": "stdout",
     "output_type": "stream",
     "text": [
      "valid (38/1000) exact_match01: 0.0 | exact_match01/std: 0.0 | exact_match05: 0.0 | exact_match05/std: 0.0 | loss: 0.5887071490287781 | loss/mean: 0.5887071490287781 | loss/std: 0.0 | lr: 0.0001 | momentum: 0.9\n",
      "* Epoch (38/1000) \n"
     ]
    },
    {
     "data": {
      "application/vnd.jupyter.widget-view+json": {
       "model_id": "4a26efc7601d4c06b9d8c1a1801b5cc1",
       "version_major": 2,
       "version_minor": 0
      },
      "text/plain": [
       "39/1000 * Epoch (train):   0%|          | 0/1 [00:00<?, ?it/s]"
      ]
     },
     "metadata": {},
     "output_type": "display_data"
    },
    {
     "name": "stdout",
     "output_type": "stream",
     "text": [
      "train (39/1000) loss: 0.820487380027771 | loss/mean: 0.820487380027771 | loss/std: 0.0 | lr: 0.0001 | momentum: 0.9\n"
     ]
    },
    {
     "data": {
      "application/vnd.jupyter.widget-view+json": {
       "model_id": "7f031044faa6409188d0b5ee3a3b52e6",
       "version_major": 2,
       "version_minor": 0
      },
      "text/plain": [
       "39/1000 * Epoch (valid):   0%|          | 0/1 [00:00<?, ?it/s]"
      ]
     },
     "metadata": {},
     "output_type": "display_data"
    },
    {
     "name": "stdout",
     "output_type": "stream",
     "text": [
      "valid (39/1000) exact_match01: 0.0 | exact_match01/std: 0.0 | exact_match05: 0.0 | exact_match05/std: 0.0 | loss: 0.5818099975585938 | loss/mean: 0.5818099975585938 | loss/std: 0.0 | lr: 0.0001 | momentum: 0.9\n",
      "* Epoch (39/1000) \n"
     ]
    },
    {
     "data": {
      "application/vnd.jupyter.widget-view+json": {
       "model_id": "5c52103314334c90ab9b9e4f84bdfd32",
       "version_major": 2,
       "version_minor": 0
      },
      "text/plain": [
       "40/1000 * Epoch (train):   0%|          | 0/1 [00:00<?, ?it/s]"
      ]
     },
     "metadata": {},
     "output_type": "display_data"
    },
    {
     "name": "stdout",
     "output_type": "stream",
     "text": [
      "train (40/1000) loss: 0.8285207152366638 | loss/mean: 0.8285207152366638 | loss/std: 0.0 | lr: 0.0001 | momentum: 0.9\n"
     ]
    },
    {
     "data": {
      "application/vnd.jupyter.widget-view+json": {
       "model_id": "14bee780fddb4980820b1f1ae036fa50",
       "version_major": 2,
       "version_minor": 0
      },
      "text/plain": [
       "40/1000 * Epoch (valid):   0%|          | 0/1 [00:00<?, ?it/s]"
      ]
     },
     "metadata": {},
     "output_type": "display_data"
    },
    {
     "name": "stdout",
     "output_type": "stream",
     "text": [
      "valid (40/1000) exact_match01: 0.0 | exact_match01/std: 0.0 | exact_match05: 0.0 | exact_match05/std: 0.0 | loss: 0.5750587582588196 | loss/mean: 0.5750587582588196 | loss/std: 0.0 | lr: 0.0001 | momentum: 0.9\n",
      "* Epoch (40/1000) \n"
     ]
    },
    {
     "data": {
      "application/vnd.jupyter.widget-view+json": {
       "model_id": "1b1e59bea7f1493aafb2283a2c25be8d",
       "version_major": 2,
       "version_minor": 0
      },
      "text/plain": [
       "41/1000 * Epoch (train):   0%|          | 0/1 [00:00<?, ?it/s]"
      ]
     },
     "metadata": {},
     "output_type": "display_data"
    },
    {
     "name": "stdout",
     "output_type": "stream",
     "text": [
      "train (41/1000) loss: 0.7892069220542908 | loss/mean: 0.7892069220542908 | loss/std: 0.0 | lr: 0.0001 | momentum: 0.9\n"
     ]
    },
    {
     "data": {
      "application/vnd.jupyter.widget-view+json": {
       "model_id": "951a58c6de5f4a9c9db545997c2187b8",
       "version_major": 2,
       "version_minor": 0
      },
      "text/plain": [
       "41/1000 * Epoch (valid):   0%|          | 0/1 [00:00<?, ?it/s]"
      ]
     },
     "metadata": {},
     "output_type": "display_data"
    },
    {
     "name": "stdout",
     "output_type": "stream",
     "text": [
      "valid (41/1000) exact_match01: 0.0 | exact_match01/std: 0.0 | exact_match05: 0.0 | exact_match05/std: 0.0 | loss: 0.5683370232582092 | loss/mean: 0.5683370232582092 | loss/std: 0.0 | lr: 0.0001 | momentum: 0.9\n",
      "* Epoch (41/1000) \n"
     ]
    },
    {
     "data": {
      "application/vnd.jupyter.widget-view+json": {
       "model_id": "a584c16ae65041aea1e0db9e54254735",
       "version_major": 2,
       "version_minor": 0
      },
      "text/plain": [
       "42/1000 * Epoch (train):   0%|          | 0/1 [00:00<?, ?it/s]"
      ]
     },
     "metadata": {},
     "output_type": "display_data"
    },
    {
     "name": "stdout",
     "output_type": "stream",
     "text": [
      "train (42/1000) loss: 0.760744571685791 | loss/mean: 0.760744571685791 | loss/std: 0.0 | lr: 0.0001 | momentum: 0.9\n"
     ]
    },
    {
     "data": {
      "application/vnd.jupyter.widget-view+json": {
       "model_id": "435be6e2940a4064ba50a49471e7f59b",
       "version_major": 2,
       "version_minor": 0
      },
      "text/plain": [
       "42/1000 * Epoch (valid):   0%|          | 0/1 [00:00<?, ?it/s]"
      ]
     },
     "metadata": {},
     "output_type": "display_data"
    },
    {
     "name": "stdout",
     "output_type": "stream",
     "text": [
      "valid (42/1000) exact_match01: 0.0 | exact_match01/std: 0.0 | exact_match05: 0.0 | exact_match05/std: 0.0 | loss: 0.5619480609893799 | loss/mean: 0.5619480609893799 | loss/std: 0.0 | lr: 0.0001 | momentum: 0.9\n",
      "* Epoch (42/1000) \n"
     ]
    },
    {
     "data": {
      "application/vnd.jupyter.widget-view+json": {
       "model_id": "a8ace1d329a34020ab11e0416382b36c",
       "version_major": 2,
       "version_minor": 0
      },
      "text/plain": [
       "43/1000 * Epoch (train):   0%|          | 0/1 [00:00<?, ?it/s]"
      ]
     },
     "metadata": {},
     "output_type": "display_data"
    },
    {
     "name": "stdout",
     "output_type": "stream",
     "text": [
      "train (43/1000) loss: 0.773888349533081 | loss/mean: 0.773888349533081 | loss/std: 0.0 | lr: 0.0001 | momentum: 0.9\n"
     ]
    },
    {
     "data": {
      "application/vnd.jupyter.widget-view+json": {
       "model_id": "cf54def6892a4d0cb609156390066f85",
       "version_major": 2,
       "version_minor": 0
      },
      "text/plain": [
       "43/1000 * Epoch (valid):   0%|          | 0/1 [00:00<?, ?it/s]"
      ]
     },
     "metadata": {},
     "output_type": "display_data"
    },
    {
     "name": "stdout",
     "output_type": "stream",
     "text": [
      "valid (43/1000) exact_match01: 0.0 | exact_match01/std: 0.0 | exact_match05: 0.0 | exact_match05/std: 0.0 | loss: 0.5556532740592957 | loss/mean: 0.5556532740592957 | loss/std: 0.0 | lr: 0.0001 | momentum: 0.9\n",
      "* Epoch (43/1000) \n"
     ]
    },
    {
     "data": {
      "application/vnd.jupyter.widget-view+json": {
       "model_id": "692eb771c2a54322b8b29eec1b162b08",
       "version_major": 2,
       "version_minor": 0
      },
      "text/plain": [
       "44/1000 * Epoch (train):   0%|          | 0/1 [00:00<?, ?it/s]"
      ]
     },
     "metadata": {},
     "output_type": "display_data"
    },
    {
     "name": "stdout",
     "output_type": "stream",
     "text": [
      "train (44/1000) loss: 0.755770742893219 | loss/mean: 0.755770742893219 | loss/std: 0.0 | lr: 0.0001 | momentum: 0.9\n"
     ]
    },
    {
     "data": {
      "application/vnd.jupyter.widget-view+json": {
       "model_id": "67074b8815ed46839d152667ca950dd4",
       "version_major": 2,
       "version_minor": 0
      },
      "text/plain": [
       "44/1000 * Epoch (valid):   0%|          | 0/1 [00:00<?, ?it/s]"
      ]
     },
     "metadata": {},
     "output_type": "display_data"
    },
    {
     "name": "stdout",
     "output_type": "stream",
     "text": [
      "valid (44/1000) exact_match01: 0.0 | exact_match01/std: 0.0 | exact_match05: 0.0 | exact_match05/std: 0.0 | loss: 0.5495200753211975 | loss/mean: 0.5495200753211975 | loss/std: 0.0 | lr: 0.0001 | momentum: 0.9\n",
      "* Epoch (44/1000) \n"
     ]
    },
    {
     "data": {
      "application/vnd.jupyter.widget-view+json": {
       "model_id": "2aa679998c5c4280bad3ccb48f7d5d31",
       "version_major": 2,
       "version_minor": 0
      },
      "text/plain": [
       "45/1000 * Epoch (train):   0%|          | 0/1 [00:00<?, ?it/s]"
      ]
     },
     "metadata": {},
     "output_type": "display_data"
    },
    {
     "name": "stdout",
     "output_type": "stream",
     "text": [
      "train (45/1000) loss: 0.7542784214019775 | loss/mean: 0.7542784214019775 | loss/std: 0.0 | lr: 0.0001 | momentum: 0.9\n"
     ]
    },
    {
     "data": {
      "application/vnd.jupyter.widget-view+json": {
       "model_id": "0e342ae238e345ffa404bb1d3c3b7e5a",
       "version_major": 2,
       "version_minor": 0
      },
      "text/plain": [
       "45/1000 * Epoch (valid):   0%|          | 0/1 [00:00<?, ?it/s]"
      ]
     },
     "metadata": {},
     "output_type": "display_data"
    },
    {
     "name": "stdout",
     "output_type": "stream",
     "text": [
      "valid (45/1000) exact_match01: 0.0 | exact_match01/std: 0.0 | exact_match05: 0.0 | exact_match05/std: 0.0 | loss: 0.5432279109954834 | loss/mean: 0.5432279109954834 | loss/std: 0.0 | lr: 0.0001 | momentum: 0.9\n",
      "* Epoch (45/1000) \n"
     ]
    },
    {
     "data": {
      "application/vnd.jupyter.widget-view+json": {
       "model_id": "6400fffe29374c9a8c7441db83e4b365",
       "version_major": 2,
       "version_minor": 0
      },
      "text/plain": [
       "46/1000 * Epoch (train):   0%|          | 0/1 [00:00<?, ?it/s]"
      ]
     },
     "metadata": {},
     "output_type": "display_data"
    },
    {
     "name": "stdout",
     "output_type": "stream",
     "text": [
      "train (46/1000) loss: 0.7307957410812378 | loss/mean: 0.7307957410812378 | loss/std: 0.0 | lr: 0.0001 | momentum: 0.9\n"
     ]
    },
    {
     "data": {
      "application/vnd.jupyter.widget-view+json": {
       "model_id": "321fc2abcda1457fb34a08434981ef9c",
       "version_major": 2,
       "version_minor": 0
      },
      "text/plain": [
       "46/1000 * Epoch (valid):   0%|          | 0/1 [00:00<?, ?it/s]"
      ]
     },
     "metadata": {},
     "output_type": "display_data"
    },
    {
     "name": "stdout",
     "output_type": "stream",
     "text": [
      "valid (46/1000) exact_match01: 0.0 | exact_match01/std: 0.0 | exact_match05: 0.0 | exact_match05/std: 0.0 | loss: 0.5368390083312988 | loss/mean: 0.5368390083312988 | loss/std: 0.0 | lr: 0.0001 | momentum: 0.9\n",
      "* Epoch (46/1000) \n"
     ]
    },
    {
     "data": {
      "application/vnd.jupyter.widget-view+json": {
       "model_id": "18fa34cadd7f4bbcbd5df36a1af10c2f",
       "version_major": 2,
       "version_minor": 0
      },
      "text/plain": [
       "47/1000 * Epoch (train):   0%|          | 0/1 [00:00<?, ?it/s]"
      ]
     },
     "metadata": {},
     "output_type": "display_data"
    },
    {
     "name": "stdout",
     "output_type": "stream",
     "text": [
      "train (47/1000) loss: 0.6825675368309021 | loss/mean: 0.6825675368309021 | loss/std: 0.0 | lr: 0.0001 | momentum: 0.9\n"
     ]
    },
    {
     "data": {
      "application/vnd.jupyter.widget-view+json": {
       "model_id": "51f5f766f36041a5adcc83390b29e856",
       "version_major": 2,
       "version_minor": 0
      },
      "text/plain": [
       "47/1000 * Epoch (valid):   0%|          | 0/1 [00:00<?, ?it/s]"
      ]
     },
     "metadata": {},
     "output_type": "display_data"
    },
    {
     "name": "stdout",
     "output_type": "stream",
     "text": [
      "valid (47/1000) exact_match01: 0.0 | exact_match01/std: 0.0 | exact_match05: 0.0 | exact_match05/std: 0.0 | loss: 0.5306707620620728 | loss/mean: 0.5306707620620728 | loss/std: 0.0 | lr: 0.0001 | momentum: 0.9\n",
      "* Epoch (47/1000) \n"
     ]
    },
    {
     "data": {
      "application/vnd.jupyter.widget-view+json": {
       "model_id": "a34d7bfbd2634460bfb8ff00ffe6fc46",
       "version_major": 2,
       "version_minor": 0
      },
      "text/plain": [
       "48/1000 * Epoch (train):   0%|          | 0/1 [00:00<?, ?it/s]"
      ]
     },
     "metadata": {},
     "output_type": "display_data"
    },
    {
     "name": "stdout",
     "output_type": "stream",
     "text": [
      "train (48/1000) loss: 0.7241122722625732 | loss/mean: 0.7241122722625732 | loss/std: 0.0 | lr: 0.0001 | momentum: 0.9\n"
     ]
    },
    {
     "data": {
      "application/vnd.jupyter.widget-view+json": {
       "model_id": "2d9f1e8b9c9a4ea098737e606060df32",
       "version_major": 2,
       "version_minor": 0
      },
      "text/plain": [
       "48/1000 * Epoch (valid):   0%|          | 0/1 [00:00<?, ?it/s]"
      ]
     },
     "metadata": {},
     "output_type": "display_data"
    },
    {
     "name": "stdout",
     "output_type": "stream",
     "text": [
      "valid (48/1000) exact_match01: 0.0 | exact_match01/std: 0.0 | exact_match05: 0.0 | exact_match05/std: 0.0 | loss: 0.5244306921958923 | loss/mean: 0.5244306921958923 | loss/std: 0.0 | lr: 0.0001 | momentum: 0.9\n",
      "* Epoch (48/1000) \n"
     ]
    },
    {
     "data": {
      "application/vnd.jupyter.widget-view+json": {
       "model_id": "564808e9282441b9b9f2d21cbb067661",
       "version_major": 2,
       "version_minor": 0
      },
      "text/plain": [
       "49/1000 * Epoch (train):   0%|          | 0/1 [00:00<?, ?it/s]"
      ]
     },
     "metadata": {},
     "output_type": "display_data"
    },
    {
     "name": "stdout",
     "output_type": "stream",
     "text": [
      "train (49/1000) loss: 0.7318741083145142 | loss/mean: 0.7318741083145142 | loss/std: 0.0 | lr: 0.0001 | momentum: 0.9\n"
     ]
    },
    {
     "data": {
      "application/vnd.jupyter.widget-view+json": {
       "model_id": "c1a9467a6710405fb82060e7d1580465",
       "version_major": 2,
       "version_minor": 0
      },
      "text/plain": [
       "49/1000 * Epoch (valid):   0%|          | 0/1 [00:00<?, ?it/s]"
      ]
     },
     "metadata": {},
     "output_type": "display_data"
    },
    {
     "name": "stdout",
     "output_type": "stream",
     "text": [
      "valid (49/1000) exact_match01: 0.0 | exact_match01/std: 0.0 | exact_match05: 0.0 | exact_match05/std: 0.0 | loss: 0.5182908177375793 | loss/mean: 0.5182908177375793 | loss/std: 0.0 | lr: 0.0001 | momentum: 0.9\n",
      "* Epoch (49/1000) \n"
     ]
    },
    {
     "data": {
      "application/vnd.jupyter.widget-view+json": {
       "model_id": "d62b7e052bd147a6ae24ed2299211a4c",
       "version_major": 2,
       "version_minor": 0
      },
      "text/plain": [
       "50/1000 * Epoch (train):   0%|          | 0/1 [00:00<?, ?it/s]"
      ]
     },
     "metadata": {},
     "output_type": "display_data"
    },
    {
     "name": "stdout",
     "output_type": "stream",
     "text": [
      "train (50/1000) loss: 0.673896074295044 | loss/mean: 0.673896074295044 | loss/std: 0.0 | lr: 0.0001 | momentum: 0.9\n"
     ]
    },
    {
     "data": {
      "application/vnd.jupyter.widget-view+json": {
       "model_id": "7192006077684672bdc2c8763693985d",
       "version_major": 2,
       "version_minor": 0
      },
      "text/plain": [
       "50/1000 * Epoch (valid):   0%|          | 0/1 [00:00<?, ?it/s]"
      ]
     },
     "metadata": {},
     "output_type": "display_data"
    },
    {
     "name": "stdout",
     "output_type": "stream",
     "text": [
      "valid (50/1000) exact_match01: 0.0 | exact_match01/std: 0.0 | exact_match05: 0.0 | exact_match05/std: 0.0 | loss: 0.5123633146286011 | loss/mean: 0.5123633146286011 | loss/std: 0.0 | lr: 0.0001 | momentum: 0.9\n",
      "* Epoch (50/1000) \n"
     ]
    },
    {
     "data": {
      "application/vnd.jupyter.widget-view+json": {
       "model_id": "4b0d0d11dab94dba8dc4cf6e18e5a9a8",
       "version_major": 2,
       "version_minor": 0
      },
      "text/plain": [
       "51/1000 * Epoch (train):   0%|          | 0/1 [00:00<?, ?it/s]"
      ]
     },
     "metadata": {},
     "output_type": "display_data"
    },
    {
     "name": "stdout",
     "output_type": "stream",
     "text": [
      "train (51/1000) loss: 0.7229616045951843 | loss/mean: 0.7229616045951843 | loss/std: 0.0 | lr: 0.0001 | momentum: 0.9\n"
     ]
    },
    {
     "data": {
      "application/vnd.jupyter.widget-view+json": {
       "model_id": "a9016b2321f34ad893a83ddc70360b60",
       "version_major": 2,
       "version_minor": 0
      },
      "text/plain": [
       "51/1000 * Epoch (valid):   0%|          | 0/1 [00:00<?, ?it/s]"
      ]
     },
     "metadata": {},
     "output_type": "display_data"
    },
    {
     "name": "stdout",
     "output_type": "stream",
     "text": [
      "valid (51/1000) exact_match01: 0.0 | exact_match01/std: 0.0 | exact_match05: 0.0 | exact_match05/std: 0.0 | loss: 0.5063303709030151 | loss/mean: 0.5063303709030151 | loss/std: 0.0 | lr: 0.0001 | momentum: 0.9\n",
      "* Epoch (51/1000) \n"
     ]
    },
    {
     "data": {
      "application/vnd.jupyter.widget-view+json": {
       "model_id": "6bd3ef349ac347419184326e94f5989a",
       "version_major": 2,
       "version_minor": 0
      },
      "text/plain": [
       "52/1000 * Epoch (train):   0%|          | 0/1 [00:00<?, ?it/s]"
      ]
     },
     "metadata": {},
     "output_type": "display_data"
    },
    {
     "name": "stdout",
     "output_type": "stream",
     "text": [
      "train (52/1000) loss: 0.6793668270111084 | loss/mean: 0.6793668270111084 | loss/std: 0.0 | lr: 0.0001 | momentum: 0.9\n"
     ]
    },
    {
     "data": {
      "application/vnd.jupyter.widget-view+json": {
       "model_id": "f8cc2d84eee04f31b49dfc3fe668dc5a",
       "version_major": 2,
       "version_minor": 0
      },
      "text/plain": [
       "52/1000 * Epoch (valid):   0%|          | 0/1 [00:00<?, ?it/s]"
      ]
     },
     "metadata": {},
     "output_type": "display_data"
    },
    {
     "name": "stdout",
     "output_type": "stream",
     "text": [
      "valid (52/1000) exact_match01: 0.0 | exact_match01/std: 0.0 | exact_match05: 0.0 | exact_match05/std: 0.0 | loss: 0.5003154873847961 | loss/mean: 0.5003154873847961 | loss/std: 0.0 | lr: 0.0001 | momentum: 0.9\n",
      "* Epoch (52/1000) \n"
     ]
    },
    {
     "data": {
      "application/vnd.jupyter.widget-view+json": {
       "model_id": "11ae0d9bc2354bd7b6a0222719f1dffc",
       "version_major": 2,
       "version_minor": 0
      },
      "text/plain": [
       "53/1000 * Epoch (train):   0%|          | 0/1 [00:00<?, ?it/s]"
      ]
     },
     "metadata": {},
     "output_type": "display_data"
    },
    {
     "name": "stdout",
     "output_type": "stream",
     "text": [
      "train (53/1000) loss: 0.6894931197166443 | loss/mean: 0.6894931197166443 | loss/std: 0.0 | lr: 0.0001 | momentum: 0.9\n"
     ]
    },
    {
     "data": {
      "application/vnd.jupyter.widget-view+json": {
       "model_id": "7b9ce63f7e4e412c8d8773366b447dcf",
       "version_major": 2,
       "version_minor": 0
      },
      "text/plain": [
       "53/1000 * Epoch (valid):   0%|          | 0/1 [00:00<?, ?it/s]"
      ]
     },
     "metadata": {},
     "output_type": "display_data"
    },
    {
     "name": "stdout",
     "output_type": "stream",
     "text": [
      "valid (53/1000) exact_match01: 0.0 | exact_match01/std: 0.0 | exact_match05: 0.0 | exact_match05/std: 0.0 | loss: 0.49467581510543823 | loss/mean: 0.49467581510543823 | loss/std: 0.0 | lr: 0.0001 | momentum: 0.9\n",
      "* Epoch (53/1000) \n"
     ]
    },
    {
     "data": {
      "application/vnd.jupyter.widget-view+json": {
       "model_id": "6bd3b9bd3cbe4761bbfd5139629cada8",
       "version_major": 2,
       "version_minor": 0
      },
      "text/plain": [
       "54/1000 * Epoch (train):   0%|          | 0/1 [00:00<?, ?it/s]"
      ]
     },
     "metadata": {},
     "output_type": "display_data"
    },
    {
     "name": "stdout",
     "output_type": "stream",
     "text": [
      "train (54/1000) loss: 0.6483532786369324 | loss/mean: 0.6483532786369324 | loss/std: 0.0 | lr: 0.0001 | momentum: 0.9\n"
     ]
    },
    {
     "data": {
      "application/vnd.jupyter.widget-view+json": {
       "model_id": "4a37356a87194d5f9e9047039a60c5eb",
       "version_major": 2,
       "version_minor": 0
      },
      "text/plain": [
       "54/1000 * Epoch (valid):   0%|          | 0/1 [00:00<?, ?it/s]"
      ]
     },
     "metadata": {},
     "output_type": "display_data"
    },
    {
     "name": "stdout",
     "output_type": "stream",
     "text": [
      "valid (54/1000) exact_match01: 0.0 | exact_match01/std: 0.0 | exact_match05: 0.0 | exact_match05/std: 0.0 | loss: 0.4893207848072052 | loss/mean: 0.4893207848072052 | loss/std: 0.0 | lr: 0.0001 | momentum: 0.9\n",
      "* Epoch (54/1000) \n"
     ]
    },
    {
     "data": {
      "application/vnd.jupyter.widget-view+json": {
       "model_id": "f2b798740c5c4931b406ecc9f12c0ab0",
       "version_major": 2,
       "version_minor": 0
      },
      "text/plain": [
       "55/1000 * Epoch (train):   0%|          | 0/1 [00:00<?, ?it/s]"
      ]
     },
     "metadata": {},
     "output_type": "display_data"
    },
    {
     "name": "stdout",
     "output_type": "stream",
     "text": [
      "train (55/1000) loss: 0.6696169972419739 | loss/mean: 0.6696169972419739 | loss/std: 0.0 | lr: 0.0001 | momentum: 0.9\n"
     ]
    },
    {
     "data": {
      "application/vnd.jupyter.widget-view+json": {
       "model_id": "90d10576de264c2895ded400e88266aa",
       "version_major": 2,
       "version_minor": 0
      },
      "text/plain": [
       "55/1000 * Epoch (valid):   0%|          | 0/1 [00:00<?, ?it/s]"
      ]
     },
     "metadata": {},
     "output_type": "display_data"
    },
    {
     "name": "stdout",
     "output_type": "stream",
     "text": [
      "valid (55/1000) exact_match01: 0.0 | exact_match01/std: 0.0 | exact_match05: 0.0 | exact_match05/std: 0.0 | loss: 0.48403874039649963 | loss/mean: 0.48403874039649963 | loss/std: 0.0 | lr: 0.0001 | momentum: 0.9\n",
      "* Epoch (55/1000) \n"
     ]
    },
    {
     "data": {
      "application/vnd.jupyter.widget-view+json": {
       "model_id": "18ee5b6e2dd84597bdf9cda04b930962",
       "version_major": 2,
       "version_minor": 0
      },
      "text/plain": [
       "56/1000 * Epoch (train):   0%|          | 0/1 [00:00<?, ?it/s]"
      ]
     },
     "metadata": {},
     "output_type": "display_data"
    },
    {
     "name": "stdout",
     "output_type": "stream",
     "text": [
      "train (56/1000) loss: 0.6649205088615417 | loss/mean: 0.6649205088615417 | loss/std: 0.0 | lr: 0.0001 | momentum: 0.9\n"
     ]
    },
    {
     "data": {
      "application/vnd.jupyter.widget-view+json": {
       "model_id": "95bbdf9d89f9426eb2b29fbafce3894b",
       "version_major": 2,
       "version_minor": 0
      },
      "text/plain": [
       "56/1000 * Epoch (valid):   0%|          | 0/1 [00:00<?, ?it/s]"
      ]
     },
     "metadata": {},
     "output_type": "display_data"
    },
    {
     "name": "stdout",
     "output_type": "stream",
     "text": [
      "valid (56/1000) exact_match01: 0.0 | exact_match01/std: 0.0 | exact_match05: 0.0 | exact_match05/std: 0.0 | loss: 0.4788489043712616 | loss/mean: 0.4788489043712616 | loss/std: 0.0 | lr: 0.0001 | momentum: 0.9\n",
      "* Epoch (56/1000) \n"
     ]
    },
    {
     "data": {
      "application/vnd.jupyter.widget-view+json": {
       "model_id": "e33472e5baf44756a8b2a0576e97248d",
       "version_major": 2,
       "version_minor": 0
      },
      "text/plain": [
       "57/1000 * Epoch (train):   0%|          | 0/1 [00:00<?, ?it/s]"
      ]
     },
     "metadata": {},
     "output_type": "display_data"
    },
    {
     "name": "stdout",
     "output_type": "stream",
     "text": [
      "train (57/1000) loss: 0.6010651588439941 | loss/mean: 0.6010651588439941 | loss/std: 0.0 | lr: 0.0001 | momentum: 0.9\n"
     ]
    },
    {
     "data": {
      "application/vnd.jupyter.widget-view+json": {
       "model_id": "8020c47ea0414be0894c94d34574d7f3",
       "version_major": 2,
       "version_minor": 0
      },
      "text/plain": [
       "57/1000 * Epoch (valid):   0%|          | 0/1 [00:00<?, ?it/s]"
      ]
     },
     "metadata": {},
     "output_type": "display_data"
    },
    {
     "name": "stdout",
     "output_type": "stream",
     "text": [
      "valid (57/1000) exact_match01: 0.0 | exact_match01/std: 0.0 | exact_match05: 0.0 | exact_match05/std: 0.0 | loss: 0.47349366545677185 | loss/mean: 0.47349366545677185 | loss/std: 0.0 | lr: 0.0001 | momentum: 0.9\n",
      "* Epoch (57/1000) \n"
     ]
    },
    {
     "data": {
      "application/vnd.jupyter.widget-view+json": {
       "model_id": "2aaf3cce1b1047e3b04b0de552a23beb",
       "version_major": 2,
       "version_minor": 0
      },
      "text/plain": [
       "58/1000 * Epoch (train):   0%|          | 0/1 [00:00<?, ?it/s]"
      ]
     },
     "metadata": {},
     "output_type": "display_data"
    },
    {
     "name": "stdout",
     "output_type": "stream",
     "text": [
      "train (58/1000) loss: 0.6006086468696594 | loss/mean: 0.6006086468696594 | loss/std: 0.0 | lr: 0.0001 | momentum: 0.9\n"
     ]
    },
    {
     "data": {
      "application/vnd.jupyter.widget-view+json": {
       "model_id": "5a1ccb7a66564043b464cb291ccb9d63",
       "version_major": 2,
       "version_minor": 0
      },
      "text/plain": [
       "58/1000 * Epoch (valid):   0%|          | 0/1 [00:00<?, ?it/s]"
      ]
     },
     "metadata": {},
     "output_type": "display_data"
    },
    {
     "name": "stdout",
     "output_type": "stream",
     "text": [
      "valid (58/1000) exact_match01: 0.0 | exact_match01/std: 0.0 | exact_match05: 0.0 | exact_match05/std: 0.0 | loss: 0.46818462014198303 | loss/mean: 0.46818462014198303 | loss/std: 0.0 | lr: 0.0001 | momentum: 0.9\n",
      "* Epoch (58/1000) \n"
     ]
    },
    {
     "data": {
      "application/vnd.jupyter.widget-view+json": {
       "model_id": "1a665ba7845c4c2d8f4cc91911ae3a93",
       "version_major": 2,
       "version_minor": 0
      },
      "text/plain": [
       "59/1000 * Epoch (train):   0%|          | 0/1 [00:00<?, ?it/s]"
      ]
     },
     "metadata": {},
     "output_type": "display_data"
    },
    {
     "name": "stdout",
     "output_type": "stream",
     "text": [
      "train (59/1000) loss: 0.6223498582839966 | loss/mean: 0.6223498582839966 | loss/std: 0.0 | lr: 0.0001 | momentum: 0.9\n"
     ]
    },
    {
     "data": {
      "application/vnd.jupyter.widget-view+json": {
       "model_id": "8e46bff49696490f979bcb79346b7f8c",
       "version_major": 2,
       "version_minor": 0
      },
      "text/plain": [
       "59/1000 * Epoch (valid):   0%|          | 0/1 [00:00<?, ?it/s]"
      ]
     },
     "metadata": {},
     "output_type": "display_data"
    },
    {
     "name": "stdout",
     "output_type": "stream",
     "text": [
      "valid (59/1000) exact_match01: 0.0 | exact_match01/std: 0.0 | exact_match05: 0.0 | exact_match05/std: 0.0 | loss: 0.463168203830719 | loss/mean: 0.463168203830719 | loss/std: 0.0 | lr: 0.0001 | momentum: 0.9\n",
      "* Epoch (59/1000) \n"
     ]
    },
    {
     "data": {
      "application/vnd.jupyter.widget-view+json": {
       "model_id": "59d73c1895554acb931db44708ee97a8",
       "version_major": 2,
       "version_minor": 0
      },
      "text/plain": [
       "60/1000 * Epoch (train):   0%|          | 0/1 [00:00<?, ?it/s]"
      ]
     },
     "metadata": {},
     "output_type": "display_data"
    },
    {
     "name": "stdout",
     "output_type": "stream",
     "text": [
      "train (60/1000) loss: 0.6415399312973022 | loss/mean: 0.6415399312973022 | loss/std: 0.0 | lr: 0.0001 | momentum: 0.9\n"
     ]
    },
    {
     "data": {
      "application/vnd.jupyter.widget-view+json": {
       "model_id": "4a9b0fe2976d423288b54989667d9ba9",
       "version_major": 2,
       "version_minor": 0
      },
      "text/plain": [
       "60/1000 * Epoch (valid):   0%|          | 0/1 [00:00<?, ?it/s]"
      ]
     },
     "metadata": {},
     "output_type": "display_data"
    },
    {
     "name": "stdout",
     "output_type": "stream",
     "text": [
      "valid (60/1000) exact_match01: 0.0 | exact_match01/std: 0.0 | exact_match05: 0.0 | exact_match05/std: 0.0 | loss: 0.4585537314414978 | loss/mean: 0.4585537314414978 | loss/std: 0.0 | lr: 0.0001 | momentum: 0.9\n",
      "* Epoch (60/1000) \n"
     ]
    },
    {
     "data": {
      "application/vnd.jupyter.widget-view+json": {
       "model_id": "3d677c670e6a4b4390477455ac02b91e",
       "version_major": 2,
       "version_minor": 0
      },
      "text/plain": [
       "61/1000 * Epoch (train):   0%|          | 0/1 [00:00<?, ?it/s]"
      ]
     },
     "metadata": {},
     "output_type": "display_data"
    },
    {
     "name": "stdout",
     "output_type": "stream",
     "text": [
      "train (61/1000) loss: 0.6281266808509827 | loss/mean: 0.6281266808509827 | loss/std: 0.0 | lr: 0.0001 | momentum: 0.9\n"
     ]
    },
    {
     "data": {
      "application/vnd.jupyter.widget-view+json": {
       "model_id": "1372abedc97544d2a14cc7971b81fef8",
       "version_major": 2,
       "version_minor": 0
      },
      "text/plain": [
       "61/1000 * Epoch (valid):   0%|          | 0/1 [00:00<?, ?it/s]"
      ]
     },
     "metadata": {},
     "output_type": "display_data"
    },
    {
     "name": "stdout",
     "output_type": "stream",
     "text": [
      "valid (61/1000) exact_match01: 0.0 | exact_match01/std: 0.0 | exact_match05: 0.0 | exact_match05/std: 0.0 | loss: 0.45408472418785095 | loss/mean: 0.45408472418785095 | loss/std: 0.0 | lr: 0.0001 | momentum: 0.9\n",
      "* Epoch (61/1000) \n"
     ]
    },
    {
     "data": {
      "application/vnd.jupyter.widget-view+json": {
       "model_id": "7d6393b765f84d209fbb74d1668bc9f8",
       "version_major": 2,
       "version_minor": 0
      },
      "text/plain": [
       "62/1000 * Epoch (train):   0%|          | 0/1 [00:00<?, ?it/s]"
      ]
     },
     "metadata": {},
     "output_type": "display_data"
    },
    {
     "name": "stdout",
     "output_type": "stream",
     "text": [
      "train (62/1000) loss: 0.6230480074882507 | loss/mean: 0.6230480074882507 | loss/std: 0.0 | lr: 0.0001 | momentum: 0.9\n"
     ]
    },
    {
     "data": {
      "application/vnd.jupyter.widget-view+json": {
       "model_id": "a08fe643c3cd4ac69b8fb7959d875d9b",
       "version_major": 2,
       "version_minor": 0
      },
      "text/plain": [
       "62/1000 * Epoch (valid):   0%|          | 0/1 [00:00<?, ?it/s]"
      ]
     },
     "metadata": {},
     "output_type": "display_data"
    },
    {
     "name": "stdout",
     "output_type": "stream",
     "text": [
      "valid (62/1000) exact_match01: 0.0 | exact_match01/std: 0.0 | exact_match05: 0.0 | exact_match05/std: 0.0 | loss: 0.44984447956085205 | loss/mean: 0.44984447956085205 | loss/std: 0.0 | lr: 0.0001 | momentum: 0.9\n",
      "* Epoch (62/1000) \n"
     ]
    },
    {
     "data": {
      "application/vnd.jupyter.widget-view+json": {
       "model_id": "8605592bad3a4974879f39047bde089b",
       "version_major": 2,
       "version_minor": 0
      },
      "text/plain": [
       "63/1000 * Epoch (train):   0%|          | 0/1 [00:00<?, ?it/s]"
      ]
     },
     "metadata": {},
     "output_type": "display_data"
    },
    {
     "name": "stdout",
     "output_type": "stream",
     "text": [
      "train (63/1000) loss: 0.6004681587219238 | loss/mean: 0.6004681587219238 | loss/std: 0.0 | lr: 0.0001 | momentum: 0.9\n"
     ]
    },
    {
     "data": {
      "application/vnd.jupyter.widget-view+json": {
       "model_id": "8bfbcf42623b469a90f6b18028e349c8",
       "version_major": 2,
       "version_minor": 0
      },
      "text/plain": [
       "63/1000 * Epoch (valid):   0%|          | 0/1 [00:00<?, ?it/s]"
      ]
     },
     "metadata": {},
     "output_type": "display_data"
    },
    {
     "name": "stdout",
     "output_type": "stream",
     "text": [
      "valid (63/1000) exact_match01: 0.0 | exact_match01/std: 0.0 | exact_match05: 0.0 | exact_match05/std: 0.0 | loss: 0.445585697889328 | loss/mean: 0.445585697889328 | loss/std: 0.0 | lr: 0.0001 | momentum: 0.9\n",
      "* Epoch (63/1000) \n"
     ]
    },
    {
     "data": {
      "application/vnd.jupyter.widget-view+json": {
       "model_id": "63589c9b206441e195826577314b7eab",
       "version_major": 2,
       "version_minor": 0
      },
      "text/plain": [
       "64/1000 * Epoch (train):   0%|          | 0/1 [00:00<?, ?it/s]"
      ]
     },
     "metadata": {},
     "output_type": "display_data"
    },
    {
     "name": "stdout",
     "output_type": "stream",
     "text": [
      "train (64/1000) loss: 0.580269992351532 | loss/mean: 0.580269992351532 | loss/std: 0.0 | lr: 0.0001 | momentum: 0.9\n"
     ]
    },
    {
     "data": {
      "application/vnd.jupyter.widget-view+json": {
       "model_id": "806527ce66cc4e7ebd8abeabd6bdbaed",
       "version_major": 2,
       "version_minor": 0
      },
      "text/plain": [
       "64/1000 * Epoch (valid):   0%|          | 0/1 [00:00<?, ?it/s]"
      ]
     },
     "metadata": {},
     "output_type": "display_data"
    },
    {
     "name": "stdout",
     "output_type": "stream",
     "text": [
      "valid (64/1000) exact_match01: 0.0 | exact_match01/std: 0.0 | exact_match05: 0.0 | exact_match05/std: 0.0 | loss: 0.44150617718696594 | loss/mean: 0.44150617718696594 | loss/std: 0.0 | lr: 0.0001 | momentum: 0.9\n",
      "* Epoch (64/1000) \n"
     ]
    },
    {
     "data": {
      "application/vnd.jupyter.widget-view+json": {
       "model_id": "575270808cf141268d1bda87a81319a6",
       "version_major": 2,
       "version_minor": 0
      },
      "text/plain": [
       "65/1000 * Epoch (train):   0%|          | 0/1 [00:00<?, ?it/s]"
      ]
     },
     "metadata": {},
     "output_type": "display_data"
    },
    {
     "name": "stdout",
     "output_type": "stream",
     "text": [
      "train (65/1000) loss: 0.563850998878479 | loss/mean: 0.563850998878479 | loss/std: 0.0 | lr: 0.0001 | momentum: 0.9\n"
     ]
    },
    {
     "data": {
      "application/vnd.jupyter.widget-view+json": {
       "model_id": "27d3a0465c0e4b9a8bc45eabc63bb15a",
       "version_major": 2,
       "version_minor": 0
      },
      "text/plain": [
       "65/1000 * Epoch (valid):   0%|          | 0/1 [00:00<?, ?it/s]"
      ]
     },
     "metadata": {},
     "output_type": "display_data"
    },
    {
     "name": "stdout",
     "output_type": "stream",
     "text": [
      "valid (65/1000) exact_match01: 0.0 | exact_match01/std: 0.0 | exact_match05: 0.0 | exact_match05/std: 0.0 | loss: 0.4374551475048065 | loss/mean: 0.4374551475048065 | loss/std: 0.0 | lr: 0.0001 | momentum: 0.9\n",
      "* Epoch (65/1000) \n"
     ]
    },
    {
     "data": {
      "application/vnd.jupyter.widget-view+json": {
       "model_id": "bff9787499264bc896c0a2abfbedc6ca",
       "version_major": 2,
       "version_minor": 0
      },
      "text/plain": [
       "66/1000 * Epoch (train):   0%|          | 0/1 [00:00<?, ?it/s]"
      ]
     },
     "metadata": {},
     "output_type": "display_data"
    },
    {
     "name": "stdout",
     "output_type": "stream",
     "text": [
      "train (66/1000) loss: 0.5671843886375427 | loss/mean: 0.5671843886375427 | loss/std: 0.0 | lr: 0.0001 | momentum: 0.9\n"
     ]
    },
    {
     "data": {
      "application/vnd.jupyter.widget-view+json": {
       "model_id": "b105898f547b4ed2bee2cedf911ae94d",
       "version_major": 2,
       "version_minor": 0
      },
      "text/plain": [
       "66/1000 * Epoch (valid):   0%|          | 0/1 [00:00<?, ?it/s]"
      ]
     },
     "metadata": {},
     "output_type": "display_data"
    },
    {
     "name": "stdout",
     "output_type": "stream",
     "text": [
      "valid (66/1000) exact_match01: 0.0 | exact_match01/std: 0.0 | exact_match05: 0.0 | exact_match05/std: 0.0 | loss: 0.4332161247730255 | loss/mean: 0.4332161247730255 | loss/std: 0.0 | lr: 0.0001 | momentum: 0.9\n",
      "* Epoch (66/1000) \n"
     ]
    },
    {
     "data": {
      "application/vnd.jupyter.widget-view+json": {
       "model_id": "68e927e2f09e43dfb6a78b5a13514a99",
       "version_major": 2,
       "version_minor": 0
      },
      "text/plain": [
       "67/1000 * Epoch (train):   0%|          | 0/1 [00:00<?, ?it/s]"
      ]
     },
     "metadata": {},
     "output_type": "display_data"
    },
    {
     "name": "stdout",
     "output_type": "stream",
     "text": [
      "train (67/1000) loss: 0.5742108821868896 | loss/mean: 0.5742108821868896 | loss/std: 0.0 | lr: 0.0001 | momentum: 0.9\n"
     ]
    },
    {
     "data": {
      "application/vnd.jupyter.widget-view+json": {
       "model_id": "55cbbb680e4a45ff888098dddc6ac421",
       "version_major": 2,
       "version_minor": 0
      },
      "text/plain": [
       "67/1000 * Epoch (valid):   0%|          | 0/1 [00:00<?, ?it/s]"
      ]
     },
     "metadata": {},
     "output_type": "display_data"
    },
    {
     "name": "stdout",
     "output_type": "stream",
     "text": [
      "valid (67/1000) exact_match01: 0.0 | exact_match01/std: 0.0 | exact_match05: 0.0 | exact_match05/std: 0.0 | loss: 0.4289490580558777 | loss/mean: 0.4289490580558777 | loss/std: 0.0 | lr: 0.0001 | momentum: 0.9\n",
      "* Epoch (67/1000) \n"
     ]
    },
    {
     "data": {
      "application/vnd.jupyter.widget-view+json": {
       "model_id": "a766ad6a7de648af88d67d4d3a228769",
       "version_major": 2,
       "version_minor": 0
      },
      "text/plain": [
       "68/1000 * Epoch (train):   0%|          | 0/1 [00:00<?, ?it/s]"
      ]
     },
     "metadata": {},
     "output_type": "display_data"
    },
    {
     "name": "stdout",
     "output_type": "stream",
     "text": [
      "train (68/1000) loss: 0.5715838670730591 | loss/mean: 0.5715838670730591 | loss/std: 0.0 | lr: 0.0001 | momentum: 0.9\n"
     ]
    },
    {
     "data": {
      "application/vnd.jupyter.widget-view+json": {
       "model_id": "92b43f08d6cb4890bc4c813584a9d332",
       "version_major": 2,
       "version_minor": 0
      },
      "text/plain": [
       "68/1000 * Epoch (valid):   0%|          | 0/1 [00:00<?, ?it/s]"
      ]
     },
     "metadata": {},
     "output_type": "display_data"
    },
    {
     "name": "stdout",
     "output_type": "stream",
     "text": [
      "valid (68/1000) exact_match01: 0.0 | exact_match01/std: 0.0 | exact_match05: 0.0 | exact_match05/std: 0.0 | loss: 0.4247274100780487 | loss/mean: 0.4247274100780487 | loss/std: 0.0 | lr: 0.0001 | momentum: 0.9\n",
      "* Epoch (68/1000) \n"
     ]
    },
    {
     "data": {
      "application/vnd.jupyter.widget-view+json": {
       "model_id": "d513302d9dca4637945755b232db82f3",
       "version_major": 2,
       "version_minor": 0
      },
      "text/plain": [
       "69/1000 * Epoch (train):   0%|          | 0/1 [00:00<?, ?it/s]"
      ]
     },
     "metadata": {},
     "output_type": "display_data"
    },
    {
     "name": "stdout",
     "output_type": "stream",
     "text": [
      "train (69/1000) loss: 0.547015905380249 | loss/mean: 0.547015905380249 | loss/std: 0.0 | lr: 0.0001 | momentum: 0.9\n"
     ]
    },
    {
     "data": {
      "application/vnd.jupyter.widget-view+json": {
       "model_id": "1712286a48d94a34beee1f932a894e52",
       "version_major": 2,
       "version_minor": 0
      },
      "text/plain": [
       "69/1000 * Epoch (valid):   0%|          | 0/1 [00:00<?, ?it/s]"
      ]
     },
     "metadata": {},
     "output_type": "display_data"
    },
    {
     "name": "stdout",
     "output_type": "stream",
     "text": [
      "valid (69/1000) exact_match01: 0.0 | exact_match01/std: 0.0 | exact_match05: 0.0 | exact_match05/std: 0.0 | loss: 0.4203530251979828 | loss/mean: 0.4203530251979828 | loss/std: 0.0 | lr: 0.0001 | momentum: 0.9\n",
      "* Epoch (69/1000) \n"
     ]
    },
    {
     "data": {
      "application/vnd.jupyter.widget-view+json": {
       "model_id": "f5212b9c26c84e619ccd22de142cc617",
       "version_major": 2,
       "version_minor": 0
      },
      "text/plain": [
       "70/1000 * Epoch (train):   0%|          | 0/1 [00:00<?, ?it/s]"
      ]
     },
     "metadata": {},
     "output_type": "display_data"
    },
    {
     "name": "stdout",
     "output_type": "stream",
     "text": [
      "train (70/1000) loss: 0.5641673803329468 | loss/mean: 0.5641673803329468 | loss/std: 0.0 | lr: 0.0001 | momentum: 0.9\n"
     ]
    },
    {
     "data": {
      "application/vnd.jupyter.widget-view+json": {
       "model_id": "10c41bdb1b1247bda440ea69da69c57c",
       "version_major": 2,
       "version_minor": 0
      },
      "text/plain": [
       "70/1000 * Epoch (valid):   0%|          | 0/1 [00:00<?, ?it/s]"
      ]
     },
     "metadata": {},
     "output_type": "display_data"
    },
    {
     "name": "stdout",
     "output_type": "stream",
     "text": [
      "valid (70/1000) exact_match01: 0.0 | exact_match01/std: 0.0 | exact_match05: 0.0 | exact_match05/std: 0.0 | loss: 0.41580823063850403 | loss/mean: 0.41580823063850403 | loss/std: 0.0 | lr: 0.0001 | momentum: 0.9\n",
      "* Epoch (70/1000) \n"
     ]
    },
    {
     "data": {
      "application/vnd.jupyter.widget-view+json": {
       "model_id": "9a99953c7e144149b306b41060db3691",
       "version_major": 2,
       "version_minor": 0
      },
      "text/plain": [
       "71/1000 * Epoch (train):   0%|          | 0/1 [00:00<?, ?it/s]"
      ]
     },
     "metadata": {},
     "output_type": "display_data"
    },
    {
     "name": "stdout",
     "output_type": "stream",
     "text": [
      "train (71/1000) loss: 0.5487486720085144 | loss/mean: 0.5487486720085144 | loss/std: 0.0 | lr: 0.0001 | momentum: 0.9\n"
     ]
    },
    {
     "data": {
      "application/vnd.jupyter.widget-view+json": {
       "model_id": "e224240e0a9843dd93630f204a51f96b",
       "version_major": 2,
       "version_minor": 0
      },
      "text/plain": [
       "71/1000 * Epoch (valid):   0%|          | 0/1 [00:00<?, ?it/s]"
      ]
     },
     "metadata": {},
     "output_type": "display_data"
    },
    {
     "name": "stdout",
     "output_type": "stream",
     "text": [
      "valid (71/1000) exact_match01: 0.0 | exact_match01/std: 0.0 | exact_match05: 0.0 | exact_match05/std: 0.0 | loss: 0.41136863827705383 | loss/mean: 0.41136863827705383 | loss/std: 0.0 | lr: 0.0001 | momentum: 0.9\n",
      "* Epoch (71/1000) \n"
     ]
    },
    {
     "data": {
      "application/vnd.jupyter.widget-view+json": {
       "model_id": "0409e5d3710e48c08e9ae4deff0749be",
       "version_major": 2,
       "version_minor": 0
      },
      "text/plain": [
       "72/1000 * Epoch (train):   0%|          | 0/1 [00:00<?, ?it/s]"
      ]
     },
     "metadata": {},
     "output_type": "display_data"
    },
    {
     "name": "stdout",
     "output_type": "stream",
     "text": [
      "train (72/1000) loss: 0.539019763469696 | loss/mean: 0.539019763469696 | loss/std: 0.0 | lr: 0.0001 | momentum: 0.9\n"
     ]
    },
    {
     "data": {
      "application/vnd.jupyter.widget-view+json": {
       "model_id": "e11fd81a13f44cb080ded85619377641",
       "version_major": 2,
       "version_minor": 0
      },
      "text/plain": [
       "72/1000 * Epoch (valid):   0%|          | 0/1 [00:00<?, ?it/s]"
      ]
     },
     "metadata": {},
     "output_type": "display_data"
    },
    {
     "name": "stdout",
     "output_type": "stream",
     "text": [
      "valid (72/1000) exact_match01: 0.0 | exact_match01/std: 0.0 | exact_match05: 0.0 | exact_match05/std: 0.0 | loss: 0.406840980052948 | loss/mean: 0.406840980052948 | loss/std: 0.0 | lr: 0.0001 | momentum: 0.9\n",
      "* Epoch (72/1000) \n"
     ]
    },
    {
     "data": {
      "application/vnd.jupyter.widget-view+json": {
       "model_id": "265cf42b83d145528567ff3b6835e3e8",
       "version_major": 2,
       "version_minor": 0
      },
      "text/plain": [
       "73/1000 * Epoch (train):   0%|          | 0/1 [00:00<?, ?it/s]"
      ]
     },
     "metadata": {},
     "output_type": "display_data"
    },
    {
     "name": "stdout",
     "output_type": "stream",
     "text": [
      "train (73/1000) loss: 0.5620660185813904 | loss/mean: 0.5620660185813904 | loss/std: 0.0 | lr: 0.0001 | momentum: 0.9\n"
     ]
    },
    {
     "data": {
      "application/vnd.jupyter.widget-view+json": {
       "model_id": "5ad12314acff4616a5e767e8f04b73da",
       "version_major": 2,
       "version_minor": 0
      },
      "text/plain": [
       "73/1000 * Epoch (valid):   0%|          | 0/1 [00:00<?, ?it/s]"
      ]
     },
     "metadata": {},
     "output_type": "display_data"
    },
    {
     "name": "stdout",
     "output_type": "stream",
     "text": [
      "valid (73/1000) exact_match01: 0.0 | exact_match01/std: 0.0 | exact_match05: 0.0 | exact_match05/std: 0.0 | loss: 0.40247809886932373 | loss/mean: 0.40247809886932373 | loss/std: 0.0 | lr: 0.0001 | momentum: 0.9\n",
      "* Epoch (73/1000) \n"
     ]
    },
    {
     "data": {
      "application/vnd.jupyter.widget-view+json": {
       "model_id": "b0ff18fae3f04adcb1d5bf37030f608f",
       "version_major": 2,
       "version_minor": 0
      },
      "text/plain": [
       "74/1000 * Epoch (train):   0%|          | 0/1 [00:00<?, ?it/s]"
      ]
     },
     "metadata": {},
     "output_type": "display_data"
    },
    {
     "name": "stdout",
     "output_type": "stream",
     "text": [
      "train (74/1000) loss: 0.5420947074890137 | loss/mean: 0.5420947074890137 | loss/std: 0.0 | lr: 0.0001 | momentum: 0.9\n"
     ]
    },
    {
     "data": {
      "application/vnd.jupyter.widget-view+json": {
       "model_id": "799da3ca9d3846c8bd9eb87edc3eecfb",
       "version_major": 2,
       "version_minor": 0
      },
      "text/plain": [
       "74/1000 * Epoch (valid):   0%|          | 0/1 [00:00<?, ?it/s]"
      ]
     },
     "metadata": {},
     "output_type": "display_data"
    },
    {
     "name": "stdout",
     "output_type": "stream",
     "text": [
      "valid (74/1000) exact_match01: 0.0 | exact_match01/std: 0.0 | exact_match05: 0.0 | exact_match05/std: 0.0 | loss: 0.3983323574066162 | loss/mean: 0.3983323574066162 | loss/std: 0.0 | lr: 0.0001 | momentum: 0.9\n",
      "* Epoch (74/1000) \n"
     ]
    },
    {
     "data": {
      "application/vnd.jupyter.widget-view+json": {
       "model_id": "47b31be6fe0841b1bfebd2bdb8e01cb2",
       "version_major": 2,
       "version_minor": 0
      },
      "text/plain": [
       "75/1000 * Epoch (train):   0%|          | 0/1 [00:00<?, ?it/s]"
      ]
     },
     "metadata": {},
     "output_type": "display_data"
    },
    {
     "name": "stdout",
     "output_type": "stream",
     "text": [
      "train (75/1000) loss: 0.5357585549354553 | loss/mean: 0.5357585549354553 | loss/std: 0.0 | lr: 0.0001 | momentum: 0.9\n"
     ]
    },
    {
     "data": {
      "application/vnd.jupyter.widget-view+json": {
       "model_id": "5a98efed7c9a42a5ac8a76b66cda98d4",
       "version_major": 2,
       "version_minor": 0
      },
      "text/plain": [
       "75/1000 * Epoch (valid):   0%|          | 0/1 [00:00<?, ?it/s]"
      ]
     },
     "metadata": {},
     "output_type": "display_data"
    },
    {
     "name": "stdout",
     "output_type": "stream",
     "text": [
      "valid (75/1000) exact_match01: 0.0 | exact_match01/std: 0.0 | exact_match05: 0.0 | exact_match05/std: 0.0 | loss: 0.3943346440792084 | loss/mean: 0.3943346440792084 | loss/std: 0.0 | lr: 0.0001 | momentum: 0.9\n",
      "* Epoch (75/1000) \n"
     ]
    },
    {
     "data": {
      "application/vnd.jupyter.widget-view+json": {
       "model_id": "2a4cd1e79fc2481fb2ee69a1f293ee65",
       "version_major": 2,
       "version_minor": 0
      },
      "text/plain": [
       "76/1000 * Epoch (train):   0%|          | 0/1 [00:00<?, ?it/s]"
      ]
     },
     "metadata": {},
     "output_type": "display_data"
    },
    {
     "name": "stdout",
     "output_type": "stream",
     "text": [
      "train (76/1000) loss: 0.519115686416626 | loss/mean: 0.519115686416626 | loss/std: 0.0 | lr: 0.0001 | momentum: 0.9\n"
     ]
    },
    {
     "data": {
      "application/vnd.jupyter.widget-view+json": {
       "model_id": "722ce750fe65438d8ac25f1c4df22482",
       "version_major": 2,
       "version_minor": 0
      },
      "text/plain": [
       "76/1000 * Epoch (valid):   0%|          | 0/1 [00:00<?, ?it/s]"
      ]
     },
     "metadata": {},
     "output_type": "display_data"
    },
    {
     "name": "stdout",
     "output_type": "stream",
     "text": [
      "valid (76/1000) exact_match01: 0.0 | exact_match01/std: 0.0 | exact_match05: 0.0 | exact_match05/std: 0.0 | loss: 0.39045250415802 | loss/mean: 0.39045250415802 | loss/std: 0.0 | lr: 0.0001 | momentum: 0.9\n",
      "* Epoch (76/1000) \n"
     ]
    },
    {
     "data": {
      "application/vnd.jupyter.widget-view+json": {
       "model_id": "394fbb0a6ce64515bc222a40bd45b0a5",
       "version_major": 2,
       "version_minor": 0
      },
      "text/plain": [
       "77/1000 * Epoch (train):   0%|          | 0/1 [00:00<?, ?it/s]"
      ]
     },
     "metadata": {},
     "output_type": "display_data"
    },
    {
     "name": "stdout",
     "output_type": "stream",
     "text": [
      "train (77/1000) loss: 0.5120136737823486 | loss/mean: 0.5120136737823486 | loss/std: 0.0 | lr: 0.0001 | momentum: 0.9\n"
     ]
    },
    {
     "data": {
      "application/vnd.jupyter.widget-view+json": {
       "model_id": "0f7fc0cc0c5947be914614154844627a",
       "version_major": 2,
       "version_minor": 0
      },
      "text/plain": [
       "77/1000 * Epoch (valid):   0%|          | 0/1 [00:00<?, ?it/s]"
      ]
     },
     "metadata": {},
     "output_type": "display_data"
    },
    {
     "name": "stdout",
     "output_type": "stream",
     "text": [
      "valid (77/1000) exact_match01: 0.0 | exact_match01/std: 0.0 | exact_match05: 0.0 | exact_match05/std: 0.0 | loss: 0.3866327404975891 | loss/mean: 0.3866327404975891 | loss/std: 0.0 | lr: 0.0001 | momentum: 0.9\n",
      "* Epoch (77/1000) \n"
     ]
    },
    {
     "data": {
      "application/vnd.jupyter.widget-view+json": {
       "model_id": "77c10005593c488e8d45d4c2b90096dc",
       "version_major": 2,
       "version_minor": 0
      },
      "text/plain": [
       "78/1000 * Epoch (train):   0%|          | 0/1 [00:00<?, ?it/s]"
      ]
     },
     "metadata": {},
     "output_type": "display_data"
    },
    {
     "name": "stdout",
     "output_type": "stream",
     "text": [
      "train (78/1000) loss: 0.514691948890686 | loss/mean: 0.514691948890686 | loss/std: 0.0 | lr: 0.0001 | momentum: 0.9\n"
     ]
    },
    {
     "data": {
      "application/vnd.jupyter.widget-view+json": {
       "model_id": "073383c14ab548edbd92e252617a5ae4",
       "version_major": 2,
       "version_minor": 0
      },
      "text/plain": [
       "78/1000 * Epoch (valid):   0%|          | 0/1 [00:00<?, ?it/s]"
      ]
     },
     "metadata": {},
     "output_type": "display_data"
    },
    {
     "name": "stdout",
     "output_type": "stream",
     "text": [
      "valid (78/1000) exact_match01: 0.0 | exact_match01/std: 0.0 | exact_match05: 0.0 | exact_match05/std: 0.0 | loss: 0.38280442357063293 | loss/mean: 0.38280442357063293 | loss/std: 0.0 | lr: 0.0001 | momentum: 0.9\n",
      "* Epoch (78/1000) \n"
     ]
    },
    {
     "data": {
      "application/vnd.jupyter.widget-view+json": {
       "model_id": "8a9e5568684249759f41b3f7e9ec770f",
       "version_major": 2,
       "version_minor": 0
      },
      "text/plain": [
       "79/1000 * Epoch (train):   0%|          | 0/1 [00:00<?, ?it/s]"
      ]
     },
     "metadata": {},
     "output_type": "display_data"
    },
    {
     "name": "stdout",
     "output_type": "stream",
     "text": [
      "train (79/1000) loss: 0.5125852823257446 | loss/mean: 0.5125852823257446 | loss/std: 0.0 | lr: 0.0001 | momentum: 0.9\n"
     ]
    },
    {
     "data": {
      "application/vnd.jupyter.widget-view+json": {
       "model_id": "fe21e08466074f80b0f88cd51c9c041d",
       "version_major": 2,
       "version_minor": 0
      },
      "text/plain": [
       "79/1000 * Epoch (valid):   0%|          | 0/1 [00:00<?, ?it/s]"
      ]
     },
     "metadata": {},
     "output_type": "display_data"
    },
    {
     "name": "stdout",
     "output_type": "stream",
     "text": [
      "valid (79/1000) exact_match01: 0.0 | exact_match01/std: 0.0 | exact_match05: 0.0 | exact_match05/std: 0.0 | loss: 0.378903865814209 | loss/mean: 0.378903865814209 | loss/std: 0.0 | lr: 0.0001 | momentum: 0.9\n",
      "* Epoch (79/1000) \n"
     ]
    },
    {
     "data": {
      "application/vnd.jupyter.widget-view+json": {
       "model_id": "caf542fac4b14223937871ebbfea6e59",
       "version_major": 2,
       "version_minor": 0
      },
      "text/plain": [
       "80/1000 * Epoch (train):   0%|          | 0/1 [00:00<?, ?it/s]"
      ]
     },
     "metadata": {},
     "output_type": "display_data"
    },
    {
     "name": "stdout",
     "output_type": "stream",
     "text": [
      "train (80/1000) loss: 0.5014703869819641 | loss/mean: 0.5014703869819641 | loss/std: 0.0 | lr: 0.0001 | momentum: 0.9\n"
     ]
    },
    {
     "data": {
      "application/vnd.jupyter.widget-view+json": {
       "model_id": "6153cf96984b43f79bef1a2c7bebeeb7",
       "version_major": 2,
       "version_minor": 0
      },
      "text/plain": [
       "80/1000 * Epoch (valid):   0%|          | 0/1 [00:00<?, ?it/s]"
      ]
     },
     "metadata": {},
     "output_type": "display_data"
    },
    {
     "name": "stdout",
     "output_type": "stream",
     "text": [
      "valid (80/1000) exact_match01: 0.0 | exact_match01/std: 0.0 | exact_match05: 0.0 | exact_match05/std: 0.0 | loss: 0.3753655254840851 | loss/mean: 0.3753655254840851 | loss/std: 0.0 | lr: 0.0001 | momentum: 0.9\n",
      "* Epoch (80/1000) \n"
     ]
    },
    {
     "data": {
      "application/vnd.jupyter.widget-view+json": {
       "model_id": "6d471912382b48bca54c18b100ba84bf",
       "version_major": 2,
       "version_minor": 0
      },
      "text/plain": [
       "81/1000 * Epoch (train):   0%|          | 0/1 [00:00<?, ?it/s]"
      ]
     },
     "metadata": {},
     "output_type": "display_data"
    },
    {
     "name": "stdout",
     "output_type": "stream",
     "text": [
      "train (81/1000) loss: 0.5325881838798523 | loss/mean: 0.5325881838798523 | loss/std: 0.0 | lr: 0.0001 | momentum: 0.9\n"
     ]
    },
    {
     "data": {
      "application/vnd.jupyter.widget-view+json": {
       "model_id": "3da1c7fbbedf42068f7296f8bb7756b6",
       "version_major": 2,
       "version_minor": 0
      },
      "text/plain": [
       "81/1000 * Epoch (valid):   0%|          | 0/1 [00:00<?, ?it/s]"
      ]
     },
     "metadata": {},
     "output_type": "display_data"
    },
    {
     "name": "stdout",
     "output_type": "stream",
     "text": [
      "valid (81/1000) exact_match01: 0.0 | exact_match01/std: 0.0 | exact_match05: 0.0 | exact_match05/std: 0.0 | loss: 0.3721696138381958 | loss/mean: 0.3721696138381958 | loss/std: 0.0 | lr: 0.0001 | momentum: 0.9\n",
      "* Epoch (81/1000) \n"
     ]
    },
    {
     "data": {
      "application/vnd.jupyter.widget-view+json": {
       "model_id": "01a81581241d43d6be58c7ea7fc8a472",
       "version_major": 2,
       "version_minor": 0
      },
      "text/plain": [
       "82/1000 * Epoch (train):   0%|          | 0/1 [00:00<?, ?it/s]"
      ]
     },
     "metadata": {},
     "output_type": "display_data"
    },
    {
     "name": "stdout",
     "output_type": "stream",
     "text": [
      "train (82/1000) loss: 0.5026180744171143 | loss/mean: 0.5026180744171143 | loss/std: 0.0 | lr: 0.0001 | momentum: 0.9\n"
     ]
    },
    {
     "data": {
      "application/vnd.jupyter.widget-view+json": {
       "model_id": "02b2cd3b6f6c45f084c4d846ac2b1f96",
       "version_major": 2,
       "version_minor": 0
      },
      "text/plain": [
       "82/1000 * Epoch (valid):   0%|          | 0/1 [00:00<?, ?it/s]"
      ]
     },
     "metadata": {},
     "output_type": "display_data"
    },
    {
     "name": "stdout",
     "output_type": "stream",
     "text": [
      "valid (82/1000) exact_match01: 0.0 | exact_match01/std: 0.0 | exact_match05: 0.0 | exact_match05/std: 0.0 | loss: 0.3686921000480652 | loss/mean: 0.3686921000480652 | loss/std: 0.0 | lr: 0.0001 | momentum: 0.9\n",
      "* Epoch (82/1000) \n"
     ]
    },
    {
     "data": {
      "application/vnd.jupyter.widget-view+json": {
       "model_id": "0b4025e29f904918a855b3b955093dbc",
       "version_major": 2,
       "version_minor": 0
      },
      "text/plain": [
       "83/1000 * Epoch (train):   0%|          | 0/1 [00:00<?, ?it/s]"
      ]
     },
     "metadata": {},
     "output_type": "display_data"
    },
    {
     "name": "stdout",
     "output_type": "stream",
     "text": [
      "train (83/1000) loss: 0.5109767913818359 | loss/mean: 0.5109767913818359 | loss/std: 0.0 | lr: 0.0001 | momentum: 0.9\n"
     ]
    },
    {
     "data": {
      "application/vnd.jupyter.widget-view+json": {
       "model_id": "25e2171517fa46cc96f2559f6a3dd913",
       "version_major": 2,
       "version_minor": 0
      },
      "text/plain": [
       "83/1000 * Epoch (valid):   0%|          | 0/1 [00:00<?, ?it/s]"
      ]
     },
     "metadata": {},
     "output_type": "display_data"
    },
    {
     "name": "stdout",
     "output_type": "stream",
     "text": [
      "valid (83/1000) exact_match01: 0.0 | exact_match01/std: 0.0 | exact_match05: 0.0 | exact_match05/std: 0.0 | loss: 0.3652714192867279 | loss/mean: 0.3652714192867279 | loss/std: 0.0 | lr: 0.0001 | momentum: 0.9\n",
      "* Epoch (83/1000) \n"
     ]
    },
    {
     "data": {
      "application/vnd.jupyter.widget-view+json": {
       "model_id": "35cc5fe51d454ffca949934f594a2324",
       "version_major": 2,
       "version_minor": 0
      },
      "text/plain": [
       "84/1000 * Epoch (train):   0%|          | 0/1 [00:00<?, ?it/s]"
      ]
     },
     "metadata": {},
     "output_type": "display_data"
    },
    {
     "name": "stdout",
     "output_type": "stream",
     "text": [
      "train (84/1000) loss: 0.502296507358551 | loss/mean: 0.502296507358551 | loss/std: 0.0 | lr: 0.0001 | momentum: 0.9\n"
     ]
    },
    {
     "data": {
      "application/vnd.jupyter.widget-view+json": {
       "model_id": "c4a49b31623840c08a6bc5837d956a39",
       "version_major": 2,
       "version_minor": 0
      },
      "text/plain": [
       "84/1000 * Epoch (valid):   0%|          | 0/1 [00:00<?, ?it/s]"
      ]
     },
     "metadata": {},
     "output_type": "display_data"
    },
    {
     "name": "stdout",
     "output_type": "stream",
     "text": [
      "valid (84/1000) exact_match01: 0.0 | exact_match01/std: 0.0 | exact_match05: 0.0 | exact_match05/std: 0.0 | loss: 0.3617345690727234 | loss/mean: 0.3617345690727234 | loss/std: 0.0 | lr: 0.0001 | momentum: 0.9\n",
      "* Epoch (84/1000) \n"
     ]
    },
    {
     "data": {
      "application/vnd.jupyter.widget-view+json": {
       "model_id": "8868ea395323407583d362fc944e19e7",
       "version_major": 2,
       "version_minor": 0
      },
      "text/plain": [
       "85/1000 * Epoch (train):   0%|          | 0/1 [00:00<?, ?it/s]"
      ]
     },
     "metadata": {},
     "output_type": "display_data"
    },
    {
     "name": "stdout",
     "output_type": "stream",
     "text": [
      "train (85/1000) loss: 0.46044081449508667 | loss/mean: 0.46044081449508667 | loss/std: 0.0 | lr: 0.0001 | momentum: 0.9\n"
     ]
    },
    {
     "data": {
      "application/vnd.jupyter.widget-view+json": {
       "model_id": "e8501fc636d24b008990ee62631ba286",
       "version_major": 2,
       "version_minor": 0
      },
      "text/plain": [
       "85/1000 * Epoch (valid):   0%|          | 0/1 [00:00<?, ?it/s]"
      ]
     },
     "metadata": {},
     "output_type": "display_data"
    },
    {
     "name": "stdout",
     "output_type": "stream",
     "text": [
      "valid (85/1000) exact_match01: 0.0 | exact_match01/std: 0.0 | exact_match05: 0.0 | exact_match05/std: 0.0 | loss: 0.3584352433681488 | loss/mean: 0.3584352433681488 | loss/std: 0.0 | lr: 0.0001 | momentum: 0.9\n",
      "* Epoch (85/1000) \n"
     ]
    },
    {
     "data": {
      "application/vnd.jupyter.widget-view+json": {
       "model_id": "3d2c8d26f24f41318ad61d98ba3e3b3d",
       "version_major": 2,
       "version_minor": 0
      },
      "text/plain": [
       "86/1000 * Epoch (train):   0%|          | 0/1 [00:00<?, ?it/s]"
      ]
     },
     "metadata": {},
     "output_type": "display_data"
    },
    {
     "name": "stdout",
     "output_type": "stream",
     "text": [
      "train (86/1000) loss: 0.5101189017295837 | loss/mean: 0.5101189017295837 | loss/std: 0.0 | lr: 0.0001 | momentum: 0.9\n"
     ]
    },
    {
     "data": {
      "application/vnd.jupyter.widget-view+json": {
       "model_id": "6e3f0015c7c54b4b8279546433be1b2f",
       "version_major": 2,
       "version_minor": 0
      },
      "text/plain": [
       "86/1000 * Epoch (valid):   0%|          | 0/1 [00:00<?, ?it/s]"
      ]
     },
     "metadata": {},
     "output_type": "display_data"
    },
    {
     "name": "stdout",
     "output_type": "stream",
     "text": [
      "valid (86/1000) exact_match01: 0.0 | exact_match01/std: 0.0 | exact_match05: 0.0 | exact_match05/std: 0.0 | loss: 0.35518643260002136 | loss/mean: 0.35518643260002136 | loss/std: 0.0 | lr: 0.0001 | momentum: 0.9\n",
      "* Epoch (86/1000) \n"
     ]
    },
    {
     "data": {
      "application/vnd.jupyter.widget-view+json": {
       "model_id": "490378bc67964f46945ad5cc15ea8b97",
       "version_major": 2,
       "version_minor": 0
      },
      "text/plain": [
       "87/1000 * Epoch (train):   0%|          | 0/1 [00:00<?, ?it/s]"
      ]
     },
     "metadata": {},
     "output_type": "display_data"
    },
    {
     "name": "stdout",
     "output_type": "stream",
     "text": [
      "train (87/1000) loss: 0.4907620847225189 | loss/mean: 0.4907620847225189 | loss/std: 0.0 | lr: 0.0001 | momentum: 0.9\n"
     ]
    },
    {
     "data": {
      "application/vnd.jupyter.widget-view+json": {
       "model_id": "97521035febf46b2b0fc680681ebeaa6",
       "version_major": 2,
       "version_minor": 0
      },
      "text/plain": [
       "87/1000 * Epoch (valid):   0%|          | 0/1 [00:00<?, ?it/s]"
      ]
     },
     "metadata": {},
     "output_type": "display_data"
    },
    {
     "name": "stdout",
     "output_type": "stream",
     "text": [
      "valid (87/1000) exact_match01: 0.0 | exact_match01/std: 0.0 | exact_match05: 0.0 | exact_match05/std: 0.0 | loss: 0.3513234555721283 | loss/mean: 0.3513234555721283 | loss/std: 0.0 | lr: 0.0001 | momentum: 0.9\n",
      "* Epoch (87/1000) \n"
     ]
    },
    {
     "data": {
      "application/vnd.jupyter.widget-view+json": {
       "model_id": "810bbf01753d4f4f95e524796f2d3f14",
       "version_major": 2,
       "version_minor": 0
      },
      "text/plain": [
       "88/1000 * Epoch (train):   0%|          | 0/1 [00:00<?, ?it/s]"
      ]
     },
     "metadata": {},
     "output_type": "display_data"
    },
    {
     "name": "stdout",
     "output_type": "stream",
     "text": [
      "train (88/1000) loss: 0.4864392876625061 | loss/mean: 0.4864392876625061 | loss/std: 0.0 | lr: 0.0001 | momentum: 0.9\n"
     ]
    },
    {
     "data": {
      "application/vnd.jupyter.widget-view+json": {
       "model_id": "7faf6a14efcc445096299376631bdcaa",
       "version_major": 2,
       "version_minor": 0
      },
      "text/plain": [
       "88/1000 * Epoch (valid):   0%|          | 0/1 [00:00<?, ?it/s]"
      ]
     },
     "metadata": {},
     "output_type": "display_data"
    },
    {
     "name": "stdout",
     "output_type": "stream",
     "text": [
      "valid (88/1000) exact_match01: 0.0 | exact_match01/std: 0.0 | exact_match05: 0.0 | exact_match05/std: 0.0 | loss: 0.3480047881603241 | loss/mean: 0.3480047881603241 | loss/std: 0.0 | lr: 0.0001 | momentum: 0.9\n",
      "* Epoch (88/1000) \n"
     ]
    },
    {
     "data": {
      "application/vnd.jupyter.widget-view+json": {
       "model_id": "5d319acdf349473e87ba39bd430b0475",
       "version_major": 2,
       "version_minor": 0
      },
      "text/plain": [
       "89/1000 * Epoch (train):   0%|          | 0/1 [00:00<?, ?it/s]"
      ]
     },
     "metadata": {},
     "output_type": "display_data"
    },
    {
     "name": "stdout",
     "output_type": "stream",
     "text": [
      "train (89/1000) loss: 0.5009534955024719 | loss/mean: 0.5009534955024719 | loss/std: 0.0 | lr: 0.0001 | momentum: 0.9\n"
     ]
    },
    {
     "data": {
      "application/vnd.jupyter.widget-view+json": {
       "model_id": "bb2f8adbf98a4f8a83791d06aa35b28d",
       "version_major": 2,
       "version_minor": 0
      },
      "text/plain": [
       "89/1000 * Epoch (valid):   0%|          | 0/1 [00:00<?, ?it/s]"
      ]
     },
     "metadata": {},
     "output_type": "display_data"
    },
    {
     "name": "stdout",
     "output_type": "stream",
     "text": [
      "valid (89/1000) exact_match01: 0.0 | exact_match01/std: 0.0 | exact_match05: 0.0 | exact_match05/std: 0.0 | loss: 0.3446160852909088 | loss/mean: 0.3446160852909088 | loss/std: 0.0 | lr: 0.0001 | momentum: 0.9\n",
      "* Epoch (89/1000) \n"
     ]
    },
    {
     "data": {
      "application/vnd.jupyter.widget-view+json": {
       "model_id": "4503266898f146e4bd10d825c4aed390",
       "version_major": 2,
       "version_minor": 0
      },
      "text/plain": [
       "90/1000 * Epoch (train):   0%|          | 0/1 [00:00<?, ?it/s]"
      ]
     },
     "metadata": {},
     "output_type": "display_data"
    },
    {
     "name": "stdout",
     "output_type": "stream",
     "text": [
      "train (90/1000) loss: 0.4843084216117859 | loss/mean: 0.4843084216117859 | loss/std: 0.0 | lr: 0.0001 | momentum: 0.9\n"
     ]
    },
    {
     "data": {
      "application/vnd.jupyter.widget-view+json": {
       "model_id": "2bc603e161fa4ce391ef4689294ecc66",
       "version_major": 2,
       "version_minor": 0
      },
      "text/plain": [
       "90/1000 * Epoch (valid):   0%|          | 0/1 [00:00<?, ?it/s]"
      ]
     },
     "metadata": {},
     "output_type": "display_data"
    },
    {
     "name": "stdout",
     "output_type": "stream",
     "text": [
      "valid (90/1000) exact_match01: 0.0 | exact_match01/std: 0.0 | exact_match05: 0.0 | exact_match05/std: 0.0 | loss: 0.3414047956466675 | loss/mean: 0.3414047956466675 | loss/std: 0.0 | lr: 0.0001 | momentum: 0.9\n",
      "* Epoch (90/1000) \n"
     ]
    },
    {
     "data": {
      "application/vnd.jupyter.widget-view+json": {
       "model_id": "bad24ada73a34d5ba4f857bdfca901d7",
       "version_major": 2,
       "version_minor": 0
      },
      "text/plain": [
       "91/1000 * Epoch (train):   0%|          | 0/1 [00:00<?, ?it/s]"
      ]
     },
     "metadata": {},
     "output_type": "display_data"
    },
    {
     "name": "stdout",
     "output_type": "stream",
     "text": [
      "train (91/1000) loss: 0.4973636865615845 | loss/mean: 0.4973636865615845 | loss/std: 0.0 | lr: 0.0001 | momentum: 0.9\n"
     ]
    },
    {
     "data": {
      "application/vnd.jupyter.widget-view+json": {
       "model_id": "a26ad55eb30b4554ac0633ff20a6f3df",
       "version_major": 2,
       "version_minor": 0
      },
      "text/plain": [
       "91/1000 * Epoch (valid):   0%|          | 0/1 [00:00<?, ?it/s]"
      ]
     },
     "metadata": {},
     "output_type": "display_data"
    },
    {
     "name": "stdout",
     "output_type": "stream",
     "text": [
      "valid (91/1000) exact_match01: 0.0 | exact_match01/std: 0.0 | exact_match05: 0.0 | exact_match05/std: 0.0 | loss: 0.33803507685661316 | loss/mean: 0.33803507685661316 | loss/std: 0.0 | lr: 0.0001 | momentum: 0.9\n",
      "* Epoch (91/1000) \n"
     ]
    },
    {
     "data": {
      "application/vnd.jupyter.widget-view+json": {
       "model_id": "251f3c846d98427e9e6e8ac3c392fba2",
       "version_major": 2,
       "version_minor": 0
      },
      "text/plain": [
       "92/1000 * Epoch (train):   0%|          | 0/1 [00:00<?, ?it/s]"
      ]
     },
     "metadata": {},
     "output_type": "display_data"
    },
    {
     "name": "stdout",
     "output_type": "stream",
     "text": [
      "train (92/1000) loss: 0.45099303126335144 | loss/mean: 0.45099303126335144 | loss/std: 0.0 | lr: 0.0001 | momentum: 0.9\n"
     ]
    },
    {
     "data": {
      "application/vnd.jupyter.widget-view+json": {
       "model_id": "b5558ae8c7be41ef8cfc817995a58c32",
       "version_major": 2,
       "version_minor": 0
      },
      "text/plain": [
       "92/1000 * Epoch (valid):   0%|          | 0/1 [00:00<?, ?it/s]"
      ]
     },
     "metadata": {},
     "output_type": "display_data"
    },
    {
     "name": "stdout",
     "output_type": "stream",
     "text": [
      "valid (92/1000) exact_match01: 0.0 | exact_match01/std: 0.0 | exact_match05: 0.0 | exact_match05/std: 0.0 | loss: 0.33454430103302 | loss/mean: 0.33454430103302 | loss/std: 0.0 | lr: 0.0001 | momentum: 0.9\n",
      "* Epoch (92/1000) \n"
     ]
    },
    {
     "data": {
      "application/vnd.jupyter.widget-view+json": {
       "model_id": "094e623b6a834062b09daca0b7ccf343",
       "version_major": 2,
       "version_minor": 0
      },
      "text/plain": [
       "93/1000 * Epoch (train):   0%|          | 0/1 [00:00<?, ?it/s]"
      ]
     },
     "metadata": {},
     "output_type": "display_data"
    },
    {
     "name": "stdout",
     "output_type": "stream",
     "text": [
      "train (93/1000) loss: 0.4431098401546478 | loss/mean: 0.4431098401546478 | loss/std: 0.0 | lr: 0.0001 | momentum: 0.9\n"
     ]
    },
    {
     "data": {
      "application/vnd.jupyter.widget-view+json": {
       "model_id": "f1b457cba20d4bd798dc1a7cc2245fca",
       "version_major": 2,
       "version_minor": 0
      },
      "text/plain": [
       "93/1000 * Epoch (valid):   0%|          | 0/1 [00:00<?, ?it/s]"
      ]
     },
     "metadata": {},
     "output_type": "display_data"
    },
    {
     "name": "stdout",
     "output_type": "stream",
     "text": [
      "valid (93/1000) exact_match01: 0.0 | exact_match01/std: 0.0 | exact_match05: 0.0 | exact_match05/std: 0.0 | loss: 0.33110859990119934 | loss/mean: 0.33110859990119934 | loss/std: 0.0 | lr: 0.0001 | momentum: 0.9\n",
      "* Epoch (93/1000) \n"
     ]
    },
    {
     "data": {
      "application/vnd.jupyter.widget-view+json": {
       "model_id": "f57890e3646744bb884d4726308d3a99",
       "version_major": 2,
       "version_minor": 0
      },
      "text/plain": [
       "94/1000 * Epoch (train):   0%|          | 0/1 [00:00<?, ?it/s]"
      ]
     },
     "metadata": {},
     "output_type": "display_data"
    },
    {
     "name": "stdout",
     "output_type": "stream",
     "text": [
      "train (94/1000) loss: 0.46622559428215027 | loss/mean: 0.46622559428215027 | loss/std: 0.0 | lr: 0.0001 | momentum: 0.9\n"
     ]
    },
    {
     "data": {
      "application/vnd.jupyter.widget-view+json": {
       "model_id": "cd762c552b30457ca6a7160b6f42e45a",
       "version_major": 2,
       "version_minor": 0
      },
      "text/plain": [
       "94/1000 * Epoch (valid):   0%|          | 0/1 [00:00<?, ?it/s]"
      ]
     },
     "metadata": {},
     "output_type": "display_data"
    },
    {
     "name": "stdout",
     "output_type": "stream",
     "text": [
      "valid (94/1000) exact_match01: 0.0 | exact_match01/std: 0.0 | exact_match05: 0.0 | exact_match05/std: 0.0 | loss: 0.3278437554836273 | loss/mean: 0.3278437554836273 | loss/std: 0.0 | lr: 0.0001 | momentum: 0.9\n",
      "* Epoch (94/1000) \n"
     ]
    },
    {
     "data": {
      "application/vnd.jupyter.widget-view+json": {
       "model_id": "ce6a71da1ae74867b1696022d6b9655e",
       "version_major": 2,
       "version_minor": 0
      },
      "text/plain": [
       "95/1000 * Epoch (train):   0%|          | 0/1 [00:00<?, ?it/s]"
      ]
     },
     "metadata": {},
     "output_type": "display_data"
    },
    {
     "name": "stdout",
     "output_type": "stream",
     "text": [
      "train (95/1000) loss: 0.4027175307273865 | loss/mean: 0.4027175307273865 | loss/std: 0.0 | lr: 0.0001 | momentum: 0.9\n"
     ]
    },
    {
     "data": {
      "application/vnd.jupyter.widget-view+json": {
       "model_id": "82f22010efd941039566ae87e1c20090",
       "version_major": 2,
       "version_minor": 0
      },
      "text/plain": [
       "95/1000 * Epoch (valid):   0%|          | 0/1 [00:00<?, ?it/s]"
      ]
     },
     "metadata": {},
     "output_type": "display_data"
    },
    {
     "name": "stdout",
     "output_type": "stream",
     "text": [
      "valid (95/1000) exact_match01: 0.0 | exact_match01/std: 0.0 | exact_match05: 0.0 | exact_match05/std: 0.0 | loss: 0.32461491227149963 | loss/mean: 0.32461491227149963 | loss/std: 0.0 | lr: 0.0001 | momentum: 0.9\n",
      "* Epoch (95/1000) \n"
     ]
    },
    {
     "data": {
      "application/vnd.jupyter.widget-view+json": {
       "model_id": "e1ae7e402ed741daa560c52d254be506",
       "version_major": 2,
       "version_minor": 0
      },
      "text/plain": [
       "96/1000 * Epoch (train):   0%|          | 0/1 [00:00<?, ?it/s]"
      ]
     },
     "metadata": {},
     "output_type": "display_data"
    },
    {
     "name": "stdout",
     "output_type": "stream",
     "text": [
      "train (96/1000) loss: 0.44765275716781616 | loss/mean: 0.44765275716781616 | loss/std: 0.0 | lr: 0.0001 | momentum: 0.9\n"
     ]
    },
    {
     "data": {
      "application/vnd.jupyter.widget-view+json": {
       "model_id": "4efe59eeb1c442ff869644a1aae9ee1c",
       "version_major": 2,
       "version_minor": 0
      },
      "text/plain": [
       "96/1000 * Epoch (valid):   0%|          | 0/1 [00:00<?, ?it/s]"
      ]
     },
     "metadata": {},
     "output_type": "display_data"
    },
    {
     "name": "stdout",
     "output_type": "stream",
     "text": [
      "valid (96/1000) exact_match01: 0.0 | exact_match01/std: 0.0 | exact_match05: 0.0 | exact_match05/std: 0.0 | loss: 0.3212287425994873 | loss/mean: 0.3212287425994873 | loss/std: 0.0 | lr: 0.0001 | momentum: 0.9\n",
      "* Epoch (96/1000) \n"
     ]
    },
    {
     "data": {
      "application/vnd.jupyter.widget-view+json": {
       "model_id": "313825478c594a3383c0847960f98715",
       "version_major": 2,
       "version_minor": 0
      },
      "text/plain": [
       "97/1000 * Epoch (train):   0%|          | 0/1 [00:00<?, ?it/s]"
      ]
     },
     "metadata": {},
     "output_type": "display_data"
    },
    {
     "name": "stdout",
     "output_type": "stream",
     "text": [
      "train (97/1000) loss: 0.44834914803504944 | loss/mean: 0.44834914803504944 | loss/std: 0.0 | lr: 0.0001 | momentum: 0.9\n"
     ]
    },
    {
     "data": {
      "application/vnd.jupyter.widget-view+json": {
       "model_id": "3bec4708609d46c99a49dbef7dba52dc",
       "version_major": 2,
       "version_minor": 0
      },
      "text/plain": [
       "97/1000 * Epoch (valid):   0%|          | 0/1 [00:00<?, ?it/s]"
      ]
     },
     "metadata": {},
     "output_type": "display_data"
    },
    {
     "name": "stdout",
     "output_type": "stream",
     "text": [
      "valid (97/1000) exact_match01: 0.0 | exact_match01/std: 0.0 | exact_match05: 0.0 | exact_match05/std: 0.0 | loss: 0.31776735186576843 | loss/mean: 0.31776735186576843 | loss/std: 0.0 | lr: 0.0001 | momentum: 0.9\n",
      "* Epoch (97/1000) \n"
     ]
    },
    {
     "data": {
      "application/vnd.jupyter.widget-view+json": {
       "model_id": "298300eea6a94939834d415faa580c57",
       "version_major": 2,
       "version_minor": 0
      },
      "text/plain": [
       "98/1000 * Epoch (train):   0%|          | 0/1 [00:00<?, ?it/s]"
      ]
     },
     "metadata": {},
     "output_type": "display_data"
    },
    {
     "name": "stdout",
     "output_type": "stream",
     "text": [
      "train (98/1000) loss: 0.43522799015045166 | loss/mean: 0.43522799015045166 | loss/std: 0.0 | lr: 0.0001 | momentum: 0.9\n"
     ]
    },
    {
     "data": {
      "application/vnd.jupyter.widget-view+json": {
       "model_id": "2513e2c6eb4e41c2b688b2639047a8af",
       "version_major": 2,
       "version_minor": 0
      },
      "text/plain": [
       "98/1000 * Epoch (valid):   0%|          | 0/1 [00:00<?, ?it/s]"
      ]
     },
     "metadata": {},
     "output_type": "display_data"
    },
    {
     "name": "stdout",
     "output_type": "stream",
     "text": [
      "valid (98/1000) exact_match01: 0.0 | exact_match01/std: 0.0 | exact_match05: 0.0 | exact_match05/std: 0.0 | loss: 0.3146274983882904 | loss/mean: 0.3146274983882904 | loss/std: 0.0 | lr: 0.0001 | momentum: 0.9\n",
      "* Epoch (98/1000) \n"
     ]
    },
    {
     "data": {
      "application/vnd.jupyter.widget-view+json": {
       "model_id": "5cafc9d04ae8442c8bbb69ea675a64c7",
       "version_major": 2,
       "version_minor": 0
      },
      "text/plain": [
       "99/1000 * Epoch (train):   0%|          | 0/1 [00:00<?, ?it/s]"
      ]
     },
     "metadata": {},
     "output_type": "display_data"
    },
    {
     "name": "stdout",
     "output_type": "stream",
     "text": [
      "train (99/1000) loss: 0.4356578290462494 | loss/mean: 0.4356578290462494 | loss/std: 0.0 | lr: 0.0001 | momentum: 0.9\n"
     ]
    },
    {
     "data": {
      "application/vnd.jupyter.widget-view+json": {
       "model_id": "ecd34b00e595410dbe26fbf309242f4a",
       "version_major": 2,
       "version_minor": 0
      },
      "text/plain": [
       "99/1000 * Epoch (valid):   0%|          | 0/1 [00:00<?, ?it/s]"
      ]
     },
     "metadata": {},
     "output_type": "display_data"
    },
    {
     "name": "stdout",
     "output_type": "stream",
     "text": [
      "valid (99/1000) exact_match01: 0.0 | exact_match01/std: 0.0 | exact_match05: 0.0 | exact_match05/std: 0.0 | loss: 0.3110528886318207 | loss/mean: 0.3110528886318207 | loss/std: 0.0 | lr: 0.0001 | momentum: 0.9\n",
      "* Epoch (99/1000) \n"
     ]
    },
    {
     "data": {
      "application/vnd.jupyter.widget-view+json": {
       "model_id": "82711a9712594c50b47b535031634d0e",
       "version_major": 2,
       "version_minor": 0
      },
      "text/plain": [
       "100/1000 * Epoch (train):   0%|          | 0/1 [00:00<?, ?it/s]"
      ]
     },
     "metadata": {},
     "output_type": "display_data"
    },
    {
     "name": "stdout",
     "output_type": "stream",
     "text": [
      "train (100/1000) loss: 0.4308239221572876 | loss/mean: 0.4308239221572876 | loss/std: 0.0 | lr: 0.0001 | momentum: 0.9\n"
     ]
    },
    {
     "data": {
      "application/vnd.jupyter.widget-view+json": {
       "model_id": "594dd5cf8a3c432ea023505ba737e7ac",
       "version_major": 2,
       "version_minor": 0
      },
      "text/plain": [
       "100/1000 * Epoch (valid):   0%|          | 0/1 [00:00<?, ?it/s]"
      ]
     },
     "metadata": {},
     "output_type": "display_data"
    },
    {
     "name": "stdout",
     "output_type": "stream",
     "text": [
      "valid (100/1000) exact_match01: 0.0 | exact_match01/std: 0.0 | exact_match05: 0.0 | exact_match05/std: 0.0 | loss: 0.3073316216468811 | loss/mean: 0.3073316216468811 | loss/std: 0.0 | lr: 0.0001 | momentum: 0.9\n",
      "* Epoch (100/1000) \n"
     ]
    },
    {
     "data": {
      "application/vnd.jupyter.widget-view+json": {
       "model_id": "bd23c2a590b4472abce8fd6dd697f368",
       "version_major": 2,
       "version_minor": 0
      },
      "text/plain": [
       "101/1000 * Epoch (train):   0%|          | 0/1 [00:00<?, ?it/s]"
      ]
     },
     "metadata": {},
     "output_type": "display_data"
    },
    {
     "name": "stdout",
     "output_type": "stream",
     "text": [
      "train (101/1000) loss: 0.41523733735084534 | loss/mean: 0.41523733735084534 | loss/std: 0.0 | lr: 0.0001 | momentum: 0.9\n"
     ]
    },
    {
     "data": {
      "application/vnd.jupyter.widget-view+json": {
       "model_id": "3e8f17be21be4421914ae95775bb6ea9",
       "version_major": 2,
       "version_minor": 0
      },
      "text/plain": [
       "101/1000 * Epoch (valid):   0%|          | 0/1 [00:00<?, ?it/s]"
      ]
     },
     "metadata": {},
     "output_type": "display_data"
    },
    {
     "name": "stdout",
     "output_type": "stream",
     "text": [
      "valid (101/1000) exact_match01: 0.0 | exact_match01/std: 0.0 | exact_match05: 0.0 | exact_match05/std: 0.0 | loss: 0.3038647174835205 | loss/mean: 0.3038647174835205 | loss/std: 0.0 | lr: 0.0001 | momentum: 0.9\n",
      "* Epoch (101/1000) \n"
     ]
    },
    {
     "data": {
      "application/vnd.jupyter.widget-view+json": {
       "model_id": "f2c5c2b19491478eb2cb479ec6fc9650",
       "version_major": 2,
       "version_minor": 0
      },
      "text/plain": [
       "102/1000 * Epoch (train):   0%|          | 0/1 [00:00<?, ?it/s]"
      ]
     },
     "metadata": {},
     "output_type": "display_data"
    },
    {
     "name": "stdout",
     "output_type": "stream",
     "text": [
      "train (102/1000) loss: 0.43667134642601013 | loss/mean: 0.43667134642601013 | loss/std: 0.0 | lr: 0.0001 | momentum: 0.9\n"
     ]
    },
    {
     "data": {
      "application/vnd.jupyter.widget-view+json": {
       "model_id": "071c0f155ebd48e2983e45c56c278445",
       "version_major": 2,
       "version_minor": 0
      },
      "text/plain": [
       "102/1000 * Epoch (valid):   0%|          | 0/1 [00:00<?, ?it/s]"
      ]
     },
     "metadata": {},
     "output_type": "display_data"
    },
    {
     "name": "stdout",
     "output_type": "stream",
     "text": [
      "valid (102/1000) exact_match01: 0.0 | exact_match01/std: 0.0 | exact_match05: 0.0 | exact_match05/std: 0.0 | loss: 0.3003920614719391 | loss/mean: 0.3003920614719391 | loss/std: 0.0 | lr: 0.0001 | momentum: 0.9\n",
      "* Epoch (102/1000) \n"
     ]
    },
    {
     "data": {
      "application/vnd.jupyter.widget-view+json": {
       "model_id": "d54a3f167871497db21d84519be8a0c0",
       "version_major": 2,
       "version_minor": 0
      },
      "text/plain": [
       "103/1000 * Epoch (train):   0%|          | 0/1 [00:00<?, ?it/s]"
      ]
     },
     "metadata": {},
     "output_type": "display_data"
    },
    {
     "name": "stdout",
     "output_type": "stream",
     "text": [
      "train (103/1000) loss: 0.4119279980659485 | loss/mean: 0.4119279980659485 | loss/std: 0.0 | lr: 0.0001 | momentum: 0.9\n"
     ]
    },
    {
     "data": {
      "application/vnd.jupyter.widget-view+json": {
       "model_id": "1ffe290fb7d142b89de4a6461b7dd5f1",
       "version_major": 2,
       "version_minor": 0
      },
      "text/plain": [
       "103/1000 * Epoch (valid):   0%|          | 0/1 [00:00<?, ?it/s]"
      ]
     },
     "metadata": {},
     "output_type": "display_data"
    },
    {
     "name": "stdout",
     "output_type": "stream",
     "text": [
      "valid (103/1000) exact_match01: 0.0 | exact_match01/std: 0.0 | exact_match05: 0.0 | exact_match05/std: 0.0 | loss: 0.2968420386314392 | loss/mean: 0.2968420386314392 | loss/std: 0.0 | lr: 0.0001 | momentum: 0.9\n",
      "* Epoch (103/1000) \n"
     ]
    },
    {
     "data": {
      "application/vnd.jupyter.widget-view+json": {
       "model_id": "4616644e8f4649fd9be4b2251a3d27de",
       "version_major": 2,
       "version_minor": 0
      },
      "text/plain": [
       "104/1000 * Epoch (train):   0%|          | 0/1 [00:00<?, ?it/s]"
      ]
     },
     "metadata": {},
     "output_type": "display_data"
    },
    {
     "name": "stdout",
     "output_type": "stream",
     "text": [
      "train (104/1000) loss: 0.4063122570514679 | loss/mean: 0.4063122570514679 | loss/std: 0.0 | lr: 0.0001 | momentum: 0.9\n"
     ]
    },
    {
     "data": {
      "application/vnd.jupyter.widget-view+json": {
       "model_id": "8e8e605bee5541fab0412e76ceabc06f",
       "version_major": 2,
       "version_minor": 0
      },
      "text/plain": [
       "104/1000 * Epoch (valid):   0%|          | 0/1 [00:00<?, ?it/s]"
      ]
     },
     "metadata": {},
     "output_type": "display_data"
    },
    {
     "name": "stdout",
     "output_type": "stream",
     "text": [
      "valid (104/1000) exact_match01: 0.0 | exact_match01/std: 0.0 | exact_match05: 0.0 | exact_match05/std: 0.0 | loss: 0.293607234954834 | loss/mean: 0.293607234954834 | loss/std: 0.0 | lr: 0.0001 | momentum: 0.9\n",
      "* Epoch (104/1000) \n"
     ]
    },
    {
     "data": {
      "application/vnd.jupyter.widget-view+json": {
       "model_id": "57d5ba6599de4e2a89d6f30453e03ed3",
       "version_major": 2,
       "version_minor": 0
      },
      "text/plain": [
       "105/1000 * Epoch (train):   0%|          | 0/1 [00:00<?, ?it/s]"
      ]
     },
     "metadata": {},
     "output_type": "display_data"
    },
    {
     "name": "stdout",
     "output_type": "stream",
     "text": [
      "train (105/1000) loss: 0.4478762149810791 | loss/mean: 0.4478762149810791 | loss/std: 0.0 | lr: 0.0001 | momentum: 0.9\n"
     ]
    },
    {
     "data": {
      "application/vnd.jupyter.widget-view+json": {
       "model_id": "92ea3f8472e04c2c9f6c9cf46a3a5dff",
       "version_major": 2,
       "version_minor": 0
      },
      "text/plain": [
       "105/1000 * Epoch (valid):   0%|          | 0/1 [00:00<?, ?it/s]"
      ]
     },
     "metadata": {},
     "output_type": "display_data"
    },
    {
     "name": "stdout",
     "output_type": "stream",
     "text": [
      "valid (105/1000) exact_match01: 0.0 | exact_match01/std: 0.0 | exact_match05: 0.0 | exact_match05/std: 0.0 | loss: 0.29048383235931396 | loss/mean: 0.29048383235931396 | loss/std: 0.0 | lr: 0.0001 | momentum: 0.9\n",
      "* Epoch (105/1000) \n"
     ]
    },
    {
     "data": {
      "application/vnd.jupyter.widget-view+json": {
       "model_id": "7d03918004e447d6b2d902d2c540d81a",
       "version_major": 2,
       "version_minor": 0
      },
      "text/plain": [
       "106/1000 * Epoch (train):   0%|          | 0/1 [00:00<?, ?it/s]"
      ]
     },
     "metadata": {},
     "output_type": "display_data"
    },
    {
     "name": "stdout",
     "output_type": "stream",
     "text": [
      "train (106/1000) loss: 0.42036086320877075 | loss/mean: 0.42036086320877075 | loss/std: 0.0 | lr: 0.0001 | momentum: 0.9\n"
     ]
    },
    {
     "data": {
      "application/vnd.jupyter.widget-view+json": {
       "model_id": "cca0df5d36e94f46933236f0f6b12fe6",
       "version_major": 2,
       "version_minor": 0
      },
      "text/plain": [
       "106/1000 * Epoch (valid):   0%|          | 0/1 [00:00<?, ?it/s]"
      ]
     },
     "metadata": {},
     "output_type": "display_data"
    },
    {
     "name": "stdout",
     "output_type": "stream",
     "text": [
      "valid (106/1000) exact_match01: 0.0 | exact_match01/std: 0.0 | exact_match05: 0.0 | exact_match05/std: 0.0 | loss: 0.28730374574661255 | loss/mean: 0.28730374574661255 | loss/std: 0.0 | lr: 0.0001 | momentum: 0.9\n",
      "* Epoch (106/1000) \n"
     ]
    },
    {
     "data": {
      "application/vnd.jupyter.widget-view+json": {
       "model_id": "726b5f15a16e480cb50d930f9970ccc2",
       "version_major": 2,
       "version_minor": 0
      },
      "text/plain": [
       "107/1000 * Epoch (train):   0%|          | 0/1 [00:00<?, ?it/s]"
      ]
     },
     "metadata": {},
     "output_type": "display_data"
    },
    {
     "name": "stdout",
     "output_type": "stream",
     "text": [
      "train (107/1000) loss: 0.41437163949012756 | loss/mean: 0.41437163949012756 | loss/std: 0.0 | lr: 0.0001 | momentum: 0.9\n"
     ]
    },
    {
     "data": {
      "application/vnd.jupyter.widget-view+json": {
       "model_id": "b32dca656a8844be974123763de1ba09",
       "version_major": 2,
       "version_minor": 0
      },
      "text/plain": [
       "107/1000 * Epoch (valid):   0%|          | 0/1 [00:00<?, ?it/s]"
      ]
     },
     "metadata": {},
     "output_type": "display_data"
    },
    {
     "name": "stdout",
     "output_type": "stream",
     "text": [
      "valid (107/1000) exact_match01: 0.0 | exact_match01/std: 0.0 | exact_match05: 0.0 | exact_match05/std: 0.0 | loss: 0.2842228412628174 | loss/mean: 0.2842228412628174 | loss/std: 0.0 | lr: 0.0001 | momentum: 0.9\n",
      "* Epoch (107/1000) \n"
     ]
    },
    {
     "data": {
      "application/vnd.jupyter.widget-view+json": {
       "model_id": "feeae20968c844b985a62a4573b9e8ae",
       "version_major": 2,
       "version_minor": 0
      },
      "text/plain": [
       "108/1000 * Epoch (train):   0%|          | 0/1 [00:00<?, ?it/s]"
      ]
     },
     "metadata": {},
     "output_type": "display_data"
    },
    {
     "name": "stdout",
     "output_type": "stream",
     "text": [
      "train (108/1000) loss: 0.4013668894767761 | loss/mean: 0.4013668894767761 | loss/std: 0.0 | lr: 0.0001 | momentum: 0.9\n"
     ]
    },
    {
     "data": {
      "application/vnd.jupyter.widget-view+json": {
       "model_id": "fddf9f40ec0f4f288385329f60740244",
       "version_major": 2,
       "version_minor": 0
      },
      "text/plain": [
       "108/1000 * Epoch (valid):   0%|          | 0/1 [00:00<?, ?it/s]"
      ]
     },
     "metadata": {},
     "output_type": "display_data"
    },
    {
     "name": "stdout",
     "output_type": "stream",
     "text": [
      "valid (108/1000) exact_match01: 0.0 | exact_match01/std: 0.0 | exact_match05: 0.0 | exact_match05/std: 0.0 | loss: 0.2811294496059418 | loss/mean: 0.2811294496059418 | loss/std: 0.0 | lr: 0.0001 | momentum: 0.9\n",
      "* Epoch (108/1000) \n"
     ]
    },
    {
     "data": {
      "application/vnd.jupyter.widget-view+json": {
       "model_id": "32e42f606c1c4c21956a6d366e500418",
       "version_major": 2,
       "version_minor": 0
      },
      "text/plain": [
       "109/1000 * Epoch (train):   0%|          | 0/1 [00:00<?, ?it/s]"
      ]
     },
     "metadata": {},
     "output_type": "display_data"
    },
    {
     "name": "stdout",
     "output_type": "stream",
     "text": [
      "train (109/1000) loss: 0.4027552604675293 | loss/mean: 0.4027552604675293 | loss/std: 0.0 | lr: 0.0001 | momentum: 0.9\n"
     ]
    },
    {
     "data": {
      "application/vnd.jupyter.widget-view+json": {
       "model_id": "f02661a168804bd2b98400c1f843fe5d",
       "version_major": 2,
       "version_minor": 0
      },
      "text/plain": [
       "109/1000 * Epoch (valid):   0%|          | 0/1 [00:00<?, ?it/s]"
      ]
     },
     "metadata": {},
     "output_type": "display_data"
    },
    {
     "name": "stdout",
     "output_type": "stream",
     "text": [
      "valid (109/1000) exact_match01: 0.0 | exact_match01/std: 0.0 | exact_match05: 0.0 | exact_match05/std: 0.0 | loss: 0.2779693901538849 | loss/mean: 0.2779693901538849 | loss/std: 0.0 | lr: 0.0001 | momentum: 0.9\n",
      "* Epoch (109/1000) \n"
     ]
    },
    {
     "data": {
      "application/vnd.jupyter.widget-view+json": {
       "model_id": "6453cf0a805a405ea1ff9754e4759989",
       "version_major": 2,
       "version_minor": 0
      },
      "text/plain": [
       "110/1000 * Epoch (train):   0%|          | 0/1 [00:00<?, ?it/s]"
      ]
     },
     "metadata": {},
     "output_type": "display_data"
    },
    {
     "name": "stdout",
     "output_type": "stream",
     "text": [
      "train (110/1000) loss: 0.40586480498313904 | loss/mean: 0.40586480498313904 | loss/std: 0.0 | lr: 0.0001 | momentum: 0.9\n"
     ]
    },
    {
     "data": {
      "application/vnd.jupyter.widget-view+json": {
       "model_id": "2140da8d521c41b98ecad02c314e701b",
       "version_major": 2,
       "version_minor": 0
      },
      "text/plain": [
       "110/1000 * Epoch (valid):   0%|          | 0/1 [00:00<?, ?it/s]"
      ]
     },
     "metadata": {},
     "output_type": "display_data"
    },
    {
     "name": "stdout",
     "output_type": "stream",
     "text": [
      "valid (110/1000) exact_match01: 0.0 | exact_match01/std: 0.0 | exact_match05: 0.0 | exact_match05/std: 0.0 | loss: 0.2747780382633209 | loss/mean: 0.2747780382633209 | loss/std: 0.0 | lr: 0.0001 | momentum: 0.9\n",
      "* Epoch (110/1000) \n"
     ]
    },
    {
     "data": {
      "application/vnd.jupyter.widget-view+json": {
       "model_id": "f03bde6766b948eebf9e9f3e4fe29ddd",
       "version_major": 2,
       "version_minor": 0
      },
      "text/plain": [
       "111/1000 * Epoch (train):   0%|          | 0/1 [00:00<?, ?it/s]"
      ]
     },
     "metadata": {},
     "output_type": "display_data"
    },
    {
     "name": "stdout",
     "output_type": "stream",
     "text": [
      "train (111/1000) loss: 0.4048711657524109 | loss/mean: 0.4048711657524109 | loss/std: 0.0 | lr: 0.0001 | momentum: 0.9\n"
     ]
    },
    {
     "data": {
      "application/vnd.jupyter.widget-view+json": {
       "model_id": "ee04ab1b53a3479190dc9553fad61040",
       "version_major": 2,
       "version_minor": 0
      },
      "text/plain": [
       "111/1000 * Epoch (valid):   0%|          | 0/1 [00:00<?, ?it/s]"
      ]
     },
     "metadata": {},
     "output_type": "display_data"
    },
    {
     "name": "stdout",
     "output_type": "stream",
     "text": [
      "valid (111/1000) exact_match01: 0.0 | exact_match01/std: 0.0 | exact_match05: 0.0 | exact_match05/std: 0.0 | loss: 0.27139195799827576 | loss/mean: 0.27139195799827576 | loss/std: 0.0 | lr: 0.0001 | momentum: 0.9\n",
      "* Epoch (111/1000) \n"
     ]
    },
    {
     "data": {
      "application/vnd.jupyter.widget-view+json": {
       "model_id": "835abb875b7a404199c4efc07824fc1d",
       "version_major": 2,
       "version_minor": 0
      },
      "text/plain": [
       "112/1000 * Epoch (train):   0%|          | 0/1 [00:00<?, ?it/s]"
      ]
     },
     "metadata": {},
     "output_type": "display_data"
    },
    {
     "name": "stdout",
     "output_type": "stream",
     "text": [
      "train (112/1000) loss: 0.37872937321662903 | loss/mean: 0.37872937321662903 | loss/std: 0.0 | lr: 0.0001 | momentum: 0.9\n"
     ]
    },
    {
     "data": {
      "application/vnd.jupyter.widget-view+json": {
       "model_id": "c9e57a95587f4a12870e2cdbb83cc466",
       "version_major": 2,
       "version_minor": 0
      },
      "text/plain": [
       "112/1000 * Epoch (valid):   0%|          | 0/1 [00:00<?, ?it/s]"
      ]
     },
     "metadata": {},
     "output_type": "display_data"
    },
    {
     "name": "stdout",
     "output_type": "stream",
     "text": [
      "valid (112/1000) exact_match01: 0.0 | exact_match01/std: 0.0 | exact_match05: 0.0 | exact_match05/std: 0.0 | loss: 0.2682032287120819 | loss/mean: 0.2682032287120819 | loss/std: 0.0 | lr: 0.0001 | momentum: 0.9\n",
      "* Epoch (112/1000) \n"
     ]
    },
    {
     "data": {
      "application/vnd.jupyter.widget-view+json": {
       "model_id": "af9198cd94f74b28964f27e34db58008",
       "version_major": 2,
       "version_minor": 0
      },
      "text/plain": [
       "113/1000 * Epoch (train):   0%|          | 0/1 [00:00<?, ?it/s]"
      ]
     },
     "metadata": {},
     "output_type": "display_data"
    },
    {
     "name": "stdout",
     "output_type": "stream",
     "text": [
      "train (113/1000) loss: 0.41027286648750305 | loss/mean: 0.41027286648750305 | loss/std: 0.0 | lr: 0.0001 | momentum: 0.9\n"
     ]
    },
    {
     "data": {
      "application/vnd.jupyter.widget-view+json": {
       "model_id": "7c49cba3a4e9407ba66e5f8910d0f024",
       "version_major": 2,
       "version_minor": 0
      },
      "text/plain": [
       "113/1000 * Epoch (valid):   0%|          | 0/1 [00:00<?, ?it/s]"
      ]
     },
     "metadata": {},
     "output_type": "display_data"
    },
    {
     "name": "stdout",
     "output_type": "stream",
     "text": [
      "valid (113/1000) exact_match01: 0.0 | exact_match01/std: 0.0 | exact_match05: 0.0 | exact_match05/std: 0.0 | loss: 0.2651595175266266 | loss/mean: 0.2651595175266266 | loss/std: 0.0 | lr: 0.0001 | momentum: 0.9\n",
      "* Epoch (113/1000) \n"
     ]
    },
    {
     "data": {
      "application/vnd.jupyter.widget-view+json": {
       "model_id": "1295f4c568ee45e0b1ff38a96d2553b8",
       "version_major": 2,
       "version_minor": 0
      },
      "text/plain": [
       "114/1000 * Epoch (train):   0%|          | 0/1 [00:00<?, ?it/s]"
      ]
     },
     "metadata": {},
     "output_type": "display_data"
    },
    {
     "name": "stdout",
     "output_type": "stream",
     "text": [
      "train (114/1000) loss: 0.4179224669933319 | loss/mean: 0.4179224669933319 | loss/std: 0.0 | lr: 0.0001 | momentum: 0.9\n"
     ]
    },
    {
     "data": {
      "application/vnd.jupyter.widget-view+json": {
       "model_id": "98b07c3c69fc4494bbd06d4b18daced1",
       "version_major": 2,
       "version_minor": 0
      },
      "text/plain": [
       "114/1000 * Epoch (valid):   0%|          | 0/1 [00:00<?, ?it/s]"
      ]
     },
     "metadata": {},
     "output_type": "display_data"
    },
    {
     "name": "stdout",
     "output_type": "stream",
     "text": [
      "valid (114/1000) exact_match01: 0.0 | exact_match01/std: 0.0 | exact_match05: 0.0 | exact_match05/std: 0.0 | loss: 0.26186010241508484 | loss/mean: 0.26186010241508484 | loss/std: 0.0 | lr: 0.0001 | momentum: 0.9\n",
      "* Epoch (114/1000) \n"
     ]
    },
    {
     "data": {
      "application/vnd.jupyter.widget-view+json": {
       "model_id": "d63820e3ce724f74b092b1d11e7ac91a",
       "version_major": 2,
       "version_minor": 0
      },
      "text/plain": [
       "115/1000 * Epoch (train):   0%|          | 0/1 [00:00<?, ?it/s]"
      ]
     },
     "metadata": {},
     "output_type": "display_data"
    },
    {
     "name": "stdout",
     "output_type": "stream",
     "text": [
      "train (115/1000) loss: 0.38670361042022705 | loss/mean: 0.38670361042022705 | loss/std: 0.0 | lr: 0.0001 | momentum: 0.9\n"
     ]
    },
    {
     "data": {
      "application/vnd.jupyter.widget-view+json": {
       "model_id": "6b890c18287944bcb208447aa028afc3",
       "version_major": 2,
       "version_minor": 0
      },
      "text/plain": [
       "115/1000 * Epoch (valid):   0%|          | 0/1 [00:00<?, ?it/s]"
      ]
     },
     "metadata": {},
     "output_type": "display_data"
    },
    {
     "name": "stdout",
     "output_type": "stream",
     "text": [
      "valid (115/1000) exact_match01: 0.0 | exact_match01/std: 0.0 | exact_match05: 0.0 | exact_match05/std: 0.0 | loss: 0.2589792311191559 | loss/mean: 0.2589792311191559 | loss/std: 0.0 | lr: 0.0001 | momentum: 0.9\n",
      "* Epoch (115/1000) \n"
     ]
    },
    {
     "data": {
      "application/vnd.jupyter.widget-view+json": {
       "model_id": "3f5c53842c1d4e178eb357c5afca69bb",
       "version_major": 2,
       "version_minor": 0
      },
      "text/plain": [
       "116/1000 * Epoch (train):   0%|          | 0/1 [00:00<?, ?it/s]"
      ]
     },
     "metadata": {},
     "output_type": "display_data"
    },
    {
     "name": "stdout",
     "output_type": "stream",
     "text": [
      "train (116/1000) loss: 0.38576897978782654 | loss/mean: 0.38576897978782654 | loss/std: 0.0 | lr: 0.0001 | momentum: 0.9\n"
     ]
    },
    {
     "data": {
      "application/vnd.jupyter.widget-view+json": {
       "model_id": "b2ef6a934b734545af8aff70bd06632c",
       "version_major": 2,
       "version_minor": 0
      },
      "text/plain": [
       "116/1000 * Epoch (valid):   0%|          | 0/1 [00:00<?, ?it/s]"
      ]
     },
     "metadata": {},
     "output_type": "display_data"
    },
    {
     "name": "stdout",
     "output_type": "stream",
     "text": [
      "valid (116/1000) exact_match01: 0.0 | exact_match01/std: 0.0 | exact_match05: 0.0 | exact_match05/std: 0.0 | loss: 0.25615593791007996 | loss/mean: 0.25615593791007996 | loss/std: 0.0 | lr: 0.0001 | momentum: 0.9\n",
      "* Epoch (116/1000) \n"
     ]
    },
    {
     "data": {
      "application/vnd.jupyter.widget-view+json": {
       "model_id": "521d133eb34a46bba339f9645d4bae57",
       "version_major": 2,
       "version_minor": 0
      },
      "text/plain": [
       "117/1000 * Epoch (train):   0%|          | 0/1 [00:00<?, ?it/s]"
      ]
     },
     "metadata": {},
     "output_type": "display_data"
    },
    {
     "name": "stdout",
     "output_type": "stream",
     "text": [
      "train (117/1000) loss: 0.3783875107765198 | loss/mean: 0.3783875107765198 | loss/std: 0.0 | lr: 0.0001 | momentum: 0.9\n"
     ]
    },
    {
     "data": {
      "application/vnd.jupyter.widget-view+json": {
       "model_id": "3608516f7d8a4457aecdeaf078d525ca",
       "version_major": 2,
       "version_minor": 0
      },
      "text/plain": [
       "117/1000 * Epoch (valid):   0%|          | 0/1 [00:00<?, ?it/s]"
      ]
     },
     "metadata": {},
     "output_type": "display_data"
    },
    {
     "name": "stdout",
     "output_type": "stream",
     "text": [
      "valid (117/1000) exact_match01: 0.0 | exact_match01/std: 0.0 | exact_match05: 0.0 | exact_match05/std: 0.0 | loss: 0.25343868136405945 | loss/mean: 0.25343868136405945 | loss/std: 0.0 | lr: 0.0001 | momentum: 0.9\n",
      "* Epoch (117/1000) \n"
     ]
    },
    {
     "data": {
      "application/vnd.jupyter.widget-view+json": {
       "model_id": "085271bbaa93427c90966624a03600db",
       "version_major": 2,
       "version_minor": 0
      },
      "text/plain": [
       "118/1000 * Epoch (train):   0%|          | 0/1 [00:00<?, ?it/s]"
      ]
     },
     "metadata": {},
     "output_type": "display_data"
    },
    {
     "name": "stdout",
     "output_type": "stream",
     "text": [
      "train (118/1000) loss: 0.36606481671333313 | loss/mean: 0.36606481671333313 | loss/std: 0.0 | lr: 0.0001 | momentum: 0.9\n"
     ]
    },
    {
     "data": {
      "application/vnd.jupyter.widget-view+json": {
       "model_id": "2a291bc72daf4c91ba704a891e384f95",
       "version_major": 2,
       "version_minor": 0
      },
      "text/plain": [
       "118/1000 * Epoch (valid):   0%|          | 0/1 [00:00<?, ?it/s]"
      ]
     },
     "metadata": {},
     "output_type": "display_data"
    },
    {
     "name": "stdout",
     "output_type": "stream",
     "text": [
      "valid (118/1000) exact_match01: 0.0 | exact_match01/std: 0.0 | exact_match05: 0.0 | exact_match05/std: 0.0 | loss: 0.2506846487522125 | loss/mean: 0.2506846487522125 | loss/std: 0.0 | lr: 0.0001 | momentum: 0.9\n",
      "* Epoch (118/1000) \n"
     ]
    },
    {
     "data": {
      "application/vnd.jupyter.widget-view+json": {
       "model_id": "3eedb89a633f4ec690ec0a5125a4f178",
       "version_major": 2,
       "version_minor": 0
      },
      "text/plain": [
       "119/1000 * Epoch (train):   0%|          | 0/1 [00:00<?, ?it/s]"
      ]
     },
     "metadata": {},
     "output_type": "display_data"
    },
    {
     "name": "stdout",
     "output_type": "stream",
     "text": [
      "train (119/1000) loss: 0.3693738281726837 | loss/mean: 0.3693738281726837 | loss/std: 0.0 | lr: 0.0001 | momentum: 0.9\n"
     ]
    },
    {
     "data": {
      "application/vnd.jupyter.widget-view+json": {
       "model_id": "533497f4e68046809c9157afe8299fc2",
       "version_major": 2,
       "version_minor": 0
      },
      "text/plain": [
       "119/1000 * Epoch (valid):   0%|          | 0/1 [00:00<?, ?it/s]"
      ]
     },
     "metadata": {},
     "output_type": "display_data"
    },
    {
     "name": "stdout",
     "output_type": "stream",
     "text": [
      "valid (119/1000) exact_match01: 0.0 | exact_match01/std: 0.0 | exact_match05: 0.0 | exact_match05/std: 0.0 | loss: 0.24795833230018616 | loss/mean: 0.24795833230018616 | loss/std: 0.0 | lr: 0.0001 | momentum: 0.9\n",
      "* Epoch (119/1000) \n"
     ]
    },
    {
     "data": {
      "application/vnd.jupyter.widget-view+json": {
       "model_id": "c33cf27129c0486899d51bcf0681da2f",
       "version_major": 2,
       "version_minor": 0
      },
      "text/plain": [
       "120/1000 * Epoch (train):   0%|          | 0/1 [00:00<?, ?it/s]"
      ]
     },
     "metadata": {},
     "output_type": "display_data"
    },
    {
     "name": "stdout",
     "output_type": "stream",
     "text": [
      "train (120/1000) loss: 0.3888515830039978 | loss/mean: 0.3888515830039978 | loss/std: 0.0 | lr: 0.0001 | momentum: 0.9\n"
     ]
    },
    {
     "data": {
      "application/vnd.jupyter.widget-view+json": {
       "model_id": "7942a4064a934e389789b140cf777b48",
       "version_major": 2,
       "version_minor": 0
      },
      "text/plain": [
       "120/1000 * Epoch (valid):   0%|          | 0/1 [00:00<?, ?it/s]"
      ]
     },
     "metadata": {},
     "output_type": "display_data"
    },
    {
     "name": "stdout",
     "output_type": "stream",
     "text": [
      "valid (120/1000) exact_match01: 0.0 | exact_match01/std: 0.0 | exact_match05: 0.0 | exact_match05/std: 0.0 | loss: 0.2451705038547516 | loss/mean: 0.2451705038547516 | loss/std: 0.0 | lr: 0.0001 | momentum: 0.9\n",
      "* Epoch (120/1000) \n"
     ]
    },
    {
     "data": {
      "application/vnd.jupyter.widget-view+json": {
       "model_id": "3e7cc48da3154c2d9ec84618d9efad93",
       "version_major": 2,
       "version_minor": 0
      },
      "text/plain": [
       "121/1000 * Epoch (train):   0%|          | 0/1 [00:00<?, ?it/s]"
      ]
     },
     "metadata": {},
     "output_type": "display_data"
    },
    {
     "name": "stdout",
     "output_type": "stream",
     "text": [
      "train (121/1000) loss: 0.37370434403419495 | loss/mean: 0.37370434403419495 | loss/std: 0.0 | lr: 0.0001 | momentum: 0.9\n"
     ]
    },
    {
     "data": {
      "application/vnd.jupyter.widget-view+json": {
       "model_id": "9550d03ceb3d48e78b83afef8f2693a6",
       "version_major": 2,
       "version_minor": 0
      },
      "text/plain": [
       "121/1000 * Epoch (valid):   0%|          | 0/1 [00:00<?, ?it/s]"
      ]
     },
     "metadata": {},
     "output_type": "display_data"
    },
    {
     "name": "stdout",
     "output_type": "stream",
     "text": [
      "valid (121/1000) exact_match01: 0.0 | exact_match01/std: 0.0 | exact_match05: 0.0 | exact_match05/std: 0.0 | loss: 0.24249699711799622 | loss/mean: 0.24249699711799622 | loss/std: 0.0 | lr: 0.0001 | momentum: 0.9\n",
      "* Epoch (121/1000) \n"
     ]
    },
    {
     "data": {
      "application/vnd.jupyter.widget-view+json": {
       "model_id": "16ce85af12a247178962df8778d51177",
       "version_major": 2,
       "version_minor": 0
      },
      "text/plain": [
       "122/1000 * Epoch (train):   0%|          | 0/1 [00:00<?, ?it/s]"
      ]
     },
     "metadata": {},
     "output_type": "display_data"
    },
    {
     "name": "stdout",
     "output_type": "stream",
     "text": [
      "train (122/1000) loss: 0.3912941515445709 | loss/mean: 0.3912941515445709 | loss/std: 0.0 | lr: 0.0001 | momentum: 0.9\n"
     ]
    },
    {
     "data": {
      "application/vnd.jupyter.widget-view+json": {
       "model_id": "7966fc8f6ab9438fa9b7ee183278306a",
       "version_major": 2,
       "version_minor": 0
      },
      "text/plain": [
       "122/1000 * Epoch (valid):   0%|          | 0/1 [00:00<?, ?it/s]"
      ]
     },
     "metadata": {},
     "output_type": "display_data"
    },
    {
     "name": "stdout",
     "output_type": "stream",
     "text": [
      "valid (122/1000) exact_match01: 0.0 | exact_match01/std: 0.0 | exact_match05: 0.0 | exact_match05/std: 0.0 | loss: 0.23973293602466583 | loss/mean: 0.23973293602466583 | loss/std: 0.0 | lr: 0.0001 | momentum: 0.9\n",
      "* Epoch (122/1000) \n"
     ]
    },
    {
     "data": {
      "application/vnd.jupyter.widget-view+json": {
       "model_id": "0db9ccec449b4981bae817118eb4c95d",
       "version_major": 2,
       "version_minor": 0
      },
      "text/plain": [
       "123/1000 * Epoch (train):   0%|          | 0/1 [00:00<?, ?it/s]"
      ]
     },
     "metadata": {},
     "output_type": "display_data"
    },
    {
     "name": "stdout",
     "output_type": "stream",
     "text": [
      "train (123/1000) loss: 0.3830353915691376 | loss/mean: 0.3830353915691376 | loss/std: 0.0 | lr: 0.0001 | momentum: 0.9\n"
     ]
    },
    {
     "data": {
      "application/vnd.jupyter.widget-view+json": {
       "model_id": "47d28d42c0124b76b673c635961ff571",
       "version_major": 2,
       "version_minor": 0
      },
      "text/plain": [
       "123/1000 * Epoch (valid):   0%|          | 0/1 [00:00<?, ?it/s]"
      ]
     },
     "metadata": {},
     "output_type": "display_data"
    },
    {
     "name": "stdout",
     "output_type": "stream",
     "text": [
      "valid (123/1000) exact_match01: 0.0 | exact_match01/std: 0.0 | exact_match05: 0.0 | exact_match05/std: 0.0 | loss: 0.23708710074424744 | loss/mean: 0.23708710074424744 | loss/std: 0.0 | lr: 0.0001 | momentum: 0.9\n",
      "* Epoch (123/1000) \n"
     ]
    },
    {
     "data": {
      "application/vnd.jupyter.widget-view+json": {
       "model_id": "073bccf9d44749fca55a36346d8db777",
       "version_major": 2,
       "version_minor": 0
      },
      "text/plain": [
       "124/1000 * Epoch (train):   0%|          | 0/1 [00:00<?, ?it/s]"
      ]
     },
     "metadata": {},
     "output_type": "display_data"
    },
    {
     "name": "stdout",
     "output_type": "stream",
     "text": [
      "train (124/1000) loss: 0.34378013014793396 | loss/mean: 0.34378013014793396 | loss/std: 0.0 | lr: 0.0001 | momentum: 0.9\n"
     ]
    },
    {
     "data": {
      "application/vnd.jupyter.widget-view+json": {
       "model_id": "ca19a314e4df43bab32a640af7a83ebf",
       "version_major": 2,
       "version_minor": 0
      },
      "text/plain": [
       "124/1000 * Epoch (valid):   0%|          | 0/1 [00:00<?, ?it/s]"
      ]
     },
     "metadata": {},
     "output_type": "display_data"
    },
    {
     "name": "stdout",
     "output_type": "stream",
     "text": [
      "valid (124/1000) exact_match01: 0.0 | exact_match01/std: 0.0 | exact_match05: 0.0 | exact_match05/std: 0.0 | loss: 0.23432622849941254 | loss/mean: 0.23432622849941254 | loss/std: 0.0 | lr: 0.0001 | momentum: 0.9\n",
      "* Epoch (124/1000) \n"
     ]
    },
    {
     "data": {
      "application/vnd.jupyter.widget-view+json": {
       "model_id": "f99ce9168afa46e0a2b00381fe2b08d8",
       "version_major": 2,
       "version_minor": 0
      },
      "text/plain": [
       "125/1000 * Epoch (train):   0%|          | 0/1 [00:00<?, ?it/s]"
      ]
     },
     "metadata": {},
     "output_type": "display_data"
    },
    {
     "name": "stdout",
     "output_type": "stream",
     "text": [
      "train (125/1000) loss: 0.35304680466651917 | loss/mean: 0.35304680466651917 | loss/std: 0.0 | lr: 0.0001 | momentum: 0.9\n"
     ]
    },
    {
     "data": {
      "application/vnd.jupyter.widget-view+json": {
       "model_id": "8bd03d80a28b45a09a90236fc4f4d242",
       "version_major": 2,
       "version_minor": 0
      },
      "text/plain": [
       "125/1000 * Epoch (valid):   0%|          | 0/1 [00:00<?, ?it/s]"
      ]
     },
     "metadata": {},
     "output_type": "display_data"
    },
    {
     "name": "stdout",
     "output_type": "stream",
     "text": [
      "valid (125/1000) exact_match01: 0.0 | exact_match01/std: 0.0 | exact_match05: 0.0 | exact_match05/std: 0.0 | loss: 0.2313920557498932 | loss/mean: 0.2313920557498932 | loss/std: 0.0 | lr: 0.0001 | momentum: 0.9\n",
      "* Epoch (125/1000) \n"
     ]
    },
    {
     "data": {
      "application/vnd.jupyter.widget-view+json": {
       "model_id": "4c55fe892cf246c9abdb103d8bb28e25",
       "version_major": 2,
       "version_minor": 0
      },
      "text/plain": [
       "126/1000 * Epoch (train):   0%|          | 0/1 [00:00<?, ?it/s]"
      ]
     },
     "metadata": {},
     "output_type": "display_data"
    },
    {
     "name": "stdout",
     "output_type": "stream",
     "text": [
      "train (126/1000) loss: 0.33828210830688477 | loss/mean: 0.33828210830688477 | loss/std: 0.0 | lr: 0.0001 | momentum: 0.9\n"
     ]
    },
    {
     "data": {
      "application/vnd.jupyter.widget-view+json": {
       "model_id": "83fb59b9a4df4bbeae756dcb84f9a196",
       "version_major": 2,
       "version_minor": 0
      },
      "text/plain": [
       "126/1000 * Epoch (valid):   0%|          | 0/1 [00:00<?, ?it/s]"
      ]
     },
     "metadata": {},
     "output_type": "display_data"
    },
    {
     "name": "stdout",
     "output_type": "stream",
     "text": [
      "valid (126/1000) exact_match01: 0.0 | exact_match01/std: 0.0 | exact_match05: 0.0 | exact_match05/std: 0.0 | loss: 0.22849471867084503 | loss/mean: 0.22849471867084503 | loss/std: 0.0 | lr: 0.0001 | momentum: 0.9\n",
      "* Epoch (126/1000) \n"
     ]
    },
    {
     "data": {
      "application/vnd.jupyter.widget-view+json": {
       "model_id": "274721218b774205abb1ac26d2f3849e",
       "version_major": 2,
       "version_minor": 0
      },
      "text/plain": [
       "127/1000 * Epoch (train):   0%|          | 0/1 [00:00<?, ?it/s]"
      ]
     },
     "metadata": {},
     "output_type": "display_data"
    },
    {
     "name": "stdout",
     "output_type": "stream",
     "text": [
      "train (127/1000) loss: 0.3367047607898712 | loss/mean: 0.3367047607898712 | loss/std: 0.0 | lr: 0.0001 | momentum: 0.9\n"
     ]
    },
    {
     "data": {
      "application/vnd.jupyter.widget-view+json": {
       "model_id": "8e60b7185662470492572da794bde344",
       "version_major": 2,
       "version_minor": 0
      },
      "text/plain": [
       "127/1000 * Epoch (valid):   0%|          | 0/1 [00:00<?, ?it/s]"
      ]
     },
     "metadata": {},
     "output_type": "display_data"
    },
    {
     "name": "stdout",
     "output_type": "stream",
     "text": [
      "valid (127/1000) exact_match01: 0.0 | exact_match01/std: 0.0 | exact_match05: 0.0 | exact_match05/std: 0.0 | loss: 0.22557835280895233 | loss/mean: 0.22557835280895233 | loss/std: 0.0 | lr: 0.0001 | momentum: 0.9\n",
      "* Epoch (127/1000) \n"
     ]
    },
    {
     "data": {
      "application/vnd.jupyter.widget-view+json": {
       "model_id": "43ed68c3dfc247718e71a7dd6e0f573a",
       "version_major": 2,
       "version_minor": 0
      },
      "text/plain": [
       "128/1000 * Epoch (train):   0%|          | 0/1 [00:00<?, ?it/s]"
      ]
     },
     "metadata": {},
     "output_type": "display_data"
    },
    {
     "name": "stdout",
     "output_type": "stream",
     "text": [
      "train (128/1000) loss: 0.3351491391658783 | loss/mean: 0.3351491391658783 | loss/std: 0.0 | lr: 0.0001 | momentum: 0.9\n"
     ]
    },
    {
     "data": {
      "application/vnd.jupyter.widget-view+json": {
       "model_id": "cd6c4f3a9d274a02aadf90a14dbf23f0",
       "version_major": 2,
       "version_minor": 0
      },
      "text/plain": [
       "128/1000 * Epoch (valid):   0%|          | 0/1 [00:00<?, ?it/s]"
      ]
     },
     "metadata": {},
     "output_type": "display_data"
    },
    {
     "name": "stdout",
     "output_type": "stream",
     "text": [
      "valid (128/1000) exact_match01: 0.0 | exact_match01/std: 0.0 | exact_match05: 0.0 | exact_match05/std: 0.0 | loss: 0.22274638712406158 | loss/mean: 0.22274638712406158 | loss/std: 0.0 | lr: 0.0001 | momentum: 0.9\n",
      "* Epoch (128/1000) \n"
     ]
    },
    {
     "data": {
      "application/vnd.jupyter.widget-view+json": {
       "model_id": "f16b3b2c257046ae84994984520420b2",
       "version_major": 2,
       "version_minor": 0
      },
      "text/plain": [
       "129/1000 * Epoch (train):   0%|          | 0/1 [00:00<?, ?it/s]"
      ]
     },
     "metadata": {},
     "output_type": "display_data"
    },
    {
     "name": "stdout",
     "output_type": "stream",
     "text": [
      "train (129/1000) loss: 0.3603445887565613 | loss/mean: 0.3603445887565613 | loss/std: 0.0 | lr: 0.0001 | momentum: 0.9\n"
     ]
    },
    {
     "data": {
      "application/vnd.jupyter.widget-view+json": {
       "model_id": "92b2355e2948493e99676e15173af6c0",
       "version_major": 2,
       "version_minor": 0
      },
      "text/plain": [
       "129/1000 * Epoch (valid):   0%|          | 0/1 [00:00<?, ?it/s]"
      ]
     },
     "metadata": {},
     "output_type": "display_data"
    },
    {
     "name": "stdout",
     "output_type": "stream",
     "text": [
      "valid (129/1000) exact_match01: 0.0 | exact_match01/std: 0.0 | exact_match05: 0.0 | exact_match05/std: 0.0 | loss: 0.22002117335796356 | loss/mean: 0.22002117335796356 | loss/std: 0.0 | lr: 0.0001 | momentum: 0.9\n",
      "* Epoch (129/1000) \n"
     ]
    },
    {
     "data": {
      "application/vnd.jupyter.widget-view+json": {
       "model_id": "8f7b7ac8967c491aa1250a43f42b43ca",
       "version_major": 2,
       "version_minor": 0
      },
      "text/plain": [
       "130/1000 * Epoch (train):   0%|          | 0/1 [00:00<?, ?it/s]"
      ]
     },
     "metadata": {},
     "output_type": "display_data"
    },
    {
     "name": "stdout",
     "output_type": "stream",
     "text": [
      "train (130/1000) loss: 0.3430871367454529 | loss/mean: 0.3430871367454529 | loss/std: 0.0 | lr: 0.0001 | momentum: 0.9\n"
     ]
    },
    {
     "data": {
      "application/vnd.jupyter.widget-view+json": {
       "model_id": "ffaf13a89ae240b9b685f7623214ed68",
       "version_major": 2,
       "version_minor": 0
      },
      "text/plain": [
       "130/1000 * Epoch (valid):   0%|          | 0/1 [00:00<?, ?it/s]"
      ]
     },
     "metadata": {},
     "output_type": "display_data"
    },
    {
     "name": "stdout",
     "output_type": "stream",
     "text": [
      "valid (130/1000) exact_match01: 0.0 | exact_match01/std: 0.0 | exact_match05: 0.0 | exact_match05/std: 0.0 | loss: 0.21730530261993408 | loss/mean: 0.21730530261993408 | loss/std: 0.0 | lr: 0.0001 | momentum: 0.9\n",
      "* Epoch (130/1000) \n"
     ]
    },
    {
     "data": {
      "application/vnd.jupyter.widget-view+json": {
       "model_id": "86a999b18e084a2192b9c06d25f02358",
       "version_major": 2,
       "version_minor": 0
      },
      "text/plain": [
       "131/1000 * Epoch (train):   0%|          | 0/1 [00:00<?, ?it/s]"
      ]
     },
     "metadata": {},
     "output_type": "display_data"
    },
    {
     "name": "stdout",
     "output_type": "stream",
     "text": [
      "train (131/1000) loss: 0.34159624576568604 | loss/mean: 0.34159624576568604 | loss/std: 0.0 | lr: 0.0001 | momentum: 0.9\n"
     ]
    },
    {
     "data": {
      "application/vnd.jupyter.widget-view+json": {
       "model_id": "b85d817e108248a4870c33b653d164f5",
       "version_major": 2,
       "version_minor": 0
      },
      "text/plain": [
       "131/1000 * Epoch (valid):   0%|          | 0/1 [00:00<?, ?it/s]"
      ]
     },
     "metadata": {},
     "output_type": "display_data"
    },
    {
     "name": "stdout",
     "output_type": "stream",
     "text": [
      "valid (131/1000) exact_match01: 0.0 | exact_match01/std: 0.0 | exact_match05: 0.0 | exact_match05/std: 0.0 | loss: 0.21455435454845428 | loss/mean: 0.21455435454845428 | loss/std: 0.0 | lr: 0.0001 | momentum: 0.9\n",
      "* Epoch (131/1000) \n"
     ]
    },
    {
     "data": {
      "application/vnd.jupyter.widget-view+json": {
       "model_id": "d20071f389a84f528fd8e400e2b7e877",
       "version_major": 2,
       "version_minor": 0
      },
      "text/plain": [
       "132/1000 * Epoch (train):   0%|          | 0/1 [00:00<?, ?it/s]"
      ]
     },
     "metadata": {},
     "output_type": "display_data"
    },
    {
     "name": "stdout",
     "output_type": "stream",
     "text": [
      "train (132/1000) loss: 0.317364901304245 | loss/mean: 0.317364901304245 | loss/std: 0.0 | lr: 0.0001 | momentum: 0.9\n"
     ]
    },
    {
     "data": {
      "application/vnd.jupyter.widget-view+json": {
       "model_id": "9606ad35d434439b8088a177ef2ba0a4",
       "version_major": 2,
       "version_minor": 0
      },
      "text/plain": [
       "132/1000 * Epoch (valid):   0%|          | 0/1 [00:00<?, ?it/s]"
      ]
     },
     "metadata": {},
     "output_type": "display_data"
    },
    {
     "name": "stdout",
     "output_type": "stream",
     "text": [
      "valid (132/1000) exact_match01: 0.0 | exact_match01/std: 0.0 | exact_match05: 0.0 | exact_match05/std: 0.0 | loss: 0.2119230479001999 | loss/mean: 0.2119230479001999 | loss/std: 0.0 | lr: 0.0001 | momentum: 0.9\n",
      "* Epoch (132/1000) \n"
     ]
    },
    {
     "data": {
      "application/vnd.jupyter.widget-view+json": {
       "model_id": "2edf7e5eafb1459fa1581030be9f5bb8",
       "version_major": 2,
       "version_minor": 0
      },
      "text/plain": [
       "133/1000 * Epoch (train):   0%|          | 0/1 [00:00<?, ?it/s]"
      ]
     },
     "metadata": {},
     "output_type": "display_data"
    },
    {
     "name": "stdout",
     "output_type": "stream",
     "text": [
      "train (133/1000) loss: 0.3287523686885834 | loss/mean: 0.3287523686885834 | loss/std: 0.0 | lr: 0.0001 | momentum: 0.9\n"
     ]
    },
    {
     "data": {
      "application/vnd.jupyter.widget-view+json": {
       "model_id": "98f3eb85b1c644c8bd62ba57c3024577",
       "version_major": 2,
       "version_minor": 0
      },
      "text/plain": [
       "133/1000 * Epoch (valid):   0%|          | 0/1 [00:00<?, ?it/s]"
      ]
     },
     "metadata": {},
     "output_type": "display_data"
    },
    {
     "name": "stdout",
     "output_type": "stream",
     "text": [
      "valid (133/1000) exact_match01: 0.0 | exact_match01/std: 0.0 | exact_match05: 0.0 | exact_match05/std: 0.0 | loss: 0.20928432047367096 | loss/mean: 0.20928432047367096 | loss/std: 0.0 | lr: 0.0001 | momentum: 0.9\n",
      "* Epoch (133/1000) \n"
     ]
    },
    {
     "data": {
      "application/vnd.jupyter.widget-view+json": {
       "model_id": "b3bf652b904c4e8cbc9b0c7547cae888",
       "version_major": 2,
       "version_minor": 0
      },
      "text/plain": [
       "134/1000 * Epoch (train):   0%|          | 0/1 [00:00<?, ?it/s]"
      ]
     },
     "metadata": {},
     "output_type": "display_data"
    },
    {
     "name": "stdout",
     "output_type": "stream",
     "text": [
      "train (134/1000) loss: 0.35278019309043884 | loss/mean: 0.35278019309043884 | loss/std: 0.0 | lr: 0.0001 | momentum: 0.9\n"
     ]
    },
    {
     "data": {
      "application/vnd.jupyter.widget-view+json": {
       "model_id": "75c82ca82809422295bdd45d447cb838",
       "version_major": 2,
       "version_minor": 0
      },
      "text/plain": [
       "134/1000 * Epoch (valid):   0%|          | 0/1 [00:00<?, ?it/s]"
      ]
     },
     "metadata": {},
     "output_type": "display_data"
    },
    {
     "name": "stdout",
     "output_type": "stream",
     "text": [
      "valid (134/1000) exact_match01: 0.0 | exact_match01/std: 0.0 | exact_match05: 0.0 | exact_match05/std: 0.0 | loss: 0.20663024485111237 | loss/mean: 0.20663024485111237 | loss/std: 0.0 | lr: 0.0001 | momentum: 0.9\n",
      "* Epoch (134/1000) \n"
     ]
    },
    {
     "data": {
      "application/vnd.jupyter.widget-view+json": {
       "model_id": "cc42526a3c784bfa9f3fb269ffbc5603",
       "version_major": 2,
       "version_minor": 0
      },
      "text/plain": [
       "135/1000 * Epoch (train):   0%|          | 0/1 [00:00<?, ?it/s]"
      ]
     },
     "metadata": {},
     "output_type": "display_data"
    },
    {
     "name": "stdout",
     "output_type": "stream",
     "text": [
      "train (135/1000) loss: 0.34347519278526306 | loss/mean: 0.34347519278526306 | loss/std: 0.0 | lr: 0.0001 | momentum: 0.9\n"
     ]
    },
    {
     "data": {
      "application/vnd.jupyter.widget-view+json": {
       "model_id": "a3c501c040ca406cb49976e36384e5d0",
       "version_major": 2,
       "version_minor": 0
      },
      "text/plain": [
       "135/1000 * Epoch (valid):   0%|          | 0/1 [00:00<?, ?it/s]"
      ]
     },
     "metadata": {},
     "output_type": "display_data"
    },
    {
     "name": "stdout",
     "output_type": "stream",
     "text": [
      "valid (135/1000) exact_match01: 0.0 | exact_match01/std: 0.0 | exact_match05: 0.0 | exact_match05/std: 0.0 | loss: 0.20402520895004272 | loss/mean: 0.20402520895004272 | loss/std: 0.0 | lr: 0.0001 | momentum: 0.9\n",
      "* Epoch (135/1000) \n"
     ]
    },
    {
     "data": {
      "application/vnd.jupyter.widget-view+json": {
       "model_id": "1f3e7afc442048bc804855479eb644d7",
       "version_major": 2,
       "version_minor": 0
      },
      "text/plain": [
       "136/1000 * Epoch (train):   0%|          | 0/1 [00:00<?, ?it/s]"
      ]
     },
     "metadata": {},
     "output_type": "display_data"
    },
    {
     "name": "stdout",
     "output_type": "stream",
     "text": [
      "train (136/1000) loss: 0.32046955823898315 | loss/mean: 0.32046955823898315 | loss/std: 0.0 | lr: 0.0001 | momentum: 0.9\n"
     ]
    },
    {
     "data": {
      "application/vnd.jupyter.widget-view+json": {
       "model_id": "a82dda286b6e4f08bcc640f546189d00",
       "version_major": 2,
       "version_minor": 0
      },
      "text/plain": [
       "136/1000 * Epoch (valid):   0%|          | 0/1 [00:00<?, ?it/s]"
      ]
     },
     "metadata": {},
     "output_type": "display_data"
    },
    {
     "name": "stdout",
     "output_type": "stream",
     "text": [
      "valid (136/1000) exact_match01: 0.0 | exact_match01/std: 0.0 | exact_match05: 0.0 | exact_match05/std: 0.0 | loss: 0.201504647731781 | loss/mean: 0.201504647731781 | loss/std: 0.0 | lr: 0.0001 | momentum: 0.9\n",
      "* Epoch (136/1000) \n"
     ]
    },
    {
     "data": {
      "application/vnd.jupyter.widget-view+json": {
       "model_id": "da445e8ce3ce4512a7d73bde6decec0a",
       "version_major": 2,
       "version_minor": 0
      },
      "text/plain": [
       "137/1000 * Epoch (train):   0%|          | 0/1 [00:00<?, ?it/s]"
      ]
     },
     "metadata": {},
     "output_type": "display_data"
    },
    {
     "name": "stdout",
     "output_type": "stream",
     "text": [
      "train (137/1000) loss: 0.32905060052871704 | loss/mean: 0.32905060052871704 | loss/std: 0.0 | lr: 0.0001 | momentum: 0.9\n"
     ]
    },
    {
     "data": {
      "application/vnd.jupyter.widget-view+json": {
       "model_id": "52ddd0b17d334d88b9f001dd4ffbb45c",
       "version_major": 2,
       "version_minor": 0
      },
      "text/plain": [
       "137/1000 * Epoch (valid):   0%|          | 0/1 [00:00<?, ?it/s]"
      ]
     },
     "metadata": {},
     "output_type": "display_data"
    },
    {
     "name": "stdout",
     "output_type": "stream",
     "text": [
      "valid (137/1000) exact_match01: 0.0 | exact_match01/std: 0.0 | exact_match05: 0.0 | exact_match05/std: 0.0 | loss: 0.19907091557979584 | loss/mean: 0.19907091557979584 | loss/std: 0.0 | lr: 0.0001 | momentum: 0.9\n",
      "* Epoch (137/1000) \n"
     ]
    },
    {
     "data": {
      "application/vnd.jupyter.widget-view+json": {
       "model_id": "0b13df6935ef4a3cb75fcb2c67a82e66",
       "version_major": 2,
       "version_minor": 0
      },
      "text/plain": [
       "138/1000 * Epoch (train):   0%|          | 0/1 [00:00<?, ?it/s]"
      ]
     },
     "metadata": {},
     "output_type": "display_data"
    },
    {
     "name": "stdout",
     "output_type": "stream",
     "text": [
      "train (138/1000) loss: 0.33371445536613464 | loss/mean: 0.33371445536613464 | loss/std: 0.0 | lr: 0.0001 | momentum: 0.9\n"
     ]
    },
    {
     "data": {
      "application/vnd.jupyter.widget-view+json": {
       "model_id": "ce535a4a57884d55bc21b0c16ee61857",
       "version_major": 2,
       "version_minor": 0
      },
      "text/plain": [
       "138/1000 * Epoch (valid):   0%|          | 0/1 [00:00<?, ?it/s]"
      ]
     },
     "metadata": {},
     "output_type": "display_data"
    },
    {
     "name": "stdout",
     "output_type": "stream",
     "text": [
      "valid (138/1000) exact_match01: 0.0 | exact_match01/std: 0.0 | exact_match05: 0.0 | exact_match05/std: 0.0 | loss: 0.19654259085655212 | loss/mean: 0.19654259085655212 | loss/std: 0.0 | lr: 0.0001 | momentum: 0.9\n",
      "* Epoch (138/1000) \n"
     ]
    },
    {
     "data": {
      "application/vnd.jupyter.widget-view+json": {
       "model_id": "f5435a1b49aa43159965455fead030d8",
       "version_major": 2,
       "version_minor": 0
      },
      "text/plain": [
       "139/1000 * Epoch (train):   0%|          | 0/1 [00:00<?, ?it/s]"
      ]
     },
     "metadata": {},
     "output_type": "display_data"
    },
    {
     "name": "stdout",
     "output_type": "stream",
     "text": [
      "train (139/1000) loss: 0.31093689799308777 | loss/mean: 0.31093689799308777 | loss/std: 0.0 | lr: 0.0001 | momentum: 0.9\n"
     ]
    },
    {
     "data": {
      "application/vnd.jupyter.widget-view+json": {
       "model_id": "4c7bf3d73d404b869c693b76c8de4e9e",
       "version_major": 2,
       "version_minor": 0
      },
      "text/plain": [
       "139/1000 * Epoch (valid):   0%|          | 0/1 [00:00<?, ?it/s]"
      ]
     },
     "metadata": {},
     "output_type": "display_data"
    },
    {
     "name": "stdout",
     "output_type": "stream",
     "text": [
      "valid (139/1000) exact_match01: 0.0 | exact_match01/std: 0.0 | exact_match05: 0.0 | exact_match05/std: 0.0 | loss: 0.19413898885250092 | loss/mean: 0.19413898885250092 | loss/std: 0.0 | lr: 0.0001 | momentum: 0.9\n",
      "* Epoch (139/1000) \n"
     ]
    },
    {
     "data": {
      "application/vnd.jupyter.widget-view+json": {
       "model_id": "b26a304937814b80a34ec8f9c5291de7",
       "version_major": 2,
       "version_minor": 0
      },
      "text/plain": [
       "140/1000 * Epoch (train):   0%|          | 0/1 [00:00<?, ?it/s]"
      ]
     },
     "metadata": {},
     "output_type": "display_data"
    },
    {
     "name": "stdout",
     "output_type": "stream",
     "text": [
      "train (140/1000) loss: 0.316549152135849 | loss/mean: 0.316549152135849 | loss/std: 0.0 | lr: 0.0001 | momentum: 0.9\n"
     ]
    },
    {
     "data": {
      "application/vnd.jupyter.widget-view+json": {
       "model_id": "2afcb72a3fcd4268ace418ca8004ed05",
       "version_major": 2,
       "version_minor": 0
      },
      "text/plain": [
       "140/1000 * Epoch (valid):   0%|          | 0/1 [00:00<?, ?it/s]"
      ]
     },
     "metadata": {},
     "output_type": "display_data"
    },
    {
     "name": "stdout",
     "output_type": "stream",
     "text": [
      "valid (140/1000) exact_match01: 0.0 | exact_match01/std: 0.0 | exact_match05: 0.0 | exact_match05/std: 0.0 | loss: 0.19173763692378998 | loss/mean: 0.19173763692378998 | loss/std: 0.0 | lr: 0.0001 | momentum: 0.9\n",
      "* Epoch (140/1000) \n"
     ]
    },
    {
     "data": {
      "application/vnd.jupyter.widget-view+json": {
       "model_id": "a748141cf15041e0893882e120293e5a",
       "version_major": 2,
       "version_minor": 0
      },
      "text/plain": [
       "141/1000 * Epoch (train):   0%|          | 0/1 [00:00<?, ?it/s]"
      ]
     },
     "metadata": {},
     "output_type": "display_data"
    },
    {
     "name": "stdout",
     "output_type": "stream",
     "text": [
      "train (141/1000) loss: 0.3106978237628937 | loss/mean: 0.3106978237628937 | loss/std: 0.0 | lr: 0.0001 | momentum: 0.9\n"
     ]
    },
    {
     "data": {
      "application/vnd.jupyter.widget-view+json": {
       "model_id": "616785d48da34e25817e8269f0bcb352",
       "version_major": 2,
       "version_minor": 0
      },
      "text/plain": [
       "141/1000 * Epoch (valid):   0%|          | 0/1 [00:00<?, ?it/s]"
      ]
     },
     "metadata": {},
     "output_type": "display_data"
    },
    {
     "name": "stdout",
     "output_type": "stream",
     "text": [
      "valid (141/1000) exact_match01: 0.0 | exact_match01/std: 0.0 | exact_match05: 0.0 | exact_match05/std: 0.0 | loss: 0.18935774266719818 | loss/mean: 0.18935774266719818 | loss/std: 0.0 | lr: 0.0001 | momentum: 0.9\n",
      "* Epoch (141/1000) \n"
     ]
    },
    {
     "data": {
      "application/vnd.jupyter.widget-view+json": {
       "model_id": "c65ce0f2604f4594a086a06aa60923d5",
       "version_major": 2,
       "version_minor": 0
      },
      "text/plain": [
       "142/1000 * Epoch (train):   0%|          | 0/1 [00:00<?, ?it/s]"
      ]
     },
     "metadata": {},
     "output_type": "display_data"
    },
    {
     "name": "stdout",
     "output_type": "stream",
     "text": [
      "train (142/1000) loss: 0.2938740849494934 | loss/mean: 0.2938740849494934 | loss/std: 0.0 | lr: 0.0001 | momentum: 0.9\n"
     ]
    },
    {
     "data": {
      "application/vnd.jupyter.widget-view+json": {
       "model_id": "3bbf32783e2c42e8b657a31f92b43ea7",
       "version_major": 2,
       "version_minor": 0
      },
      "text/plain": [
       "142/1000 * Epoch (valid):   0%|          | 0/1 [00:00<?, ?it/s]"
      ]
     },
     "metadata": {},
     "output_type": "display_data"
    },
    {
     "name": "stdout",
     "output_type": "stream",
     "text": [
      "valid (142/1000) exact_match01: 0.0 | exact_match01/std: 0.0 | exact_match05: 0.0 | exact_match05/std: 0.0 | loss: 0.18689939379692078 | loss/mean: 0.18689939379692078 | loss/std: 0.0 | lr: 0.0001 | momentum: 0.9\n",
      "* Epoch (142/1000) \n"
     ]
    },
    {
     "data": {
      "application/vnd.jupyter.widget-view+json": {
       "model_id": "a37f462362b2438a8c215bb26078fb48",
       "version_major": 2,
       "version_minor": 0
      },
      "text/plain": [
       "143/1000 * Epoch (train):   0%|          | 0/1 [00:00<?, ?it/s]"
      ]
     },
     "metadata": {},
     "output_type": "display_data"
    },
    {
     "name": "stdout",
     "output_type": "stream",
     "text": [
      "train (143/1000) loss: 0.2907960116863251 | loss/mean: 0.2907960116863251 | loss/std: 0.0 | lr: 0.0001 | momentum: 0.9\n"
     ]
    },
    {
     "data": {
      "application/vnd.jupyter.widget-view+json": {
       "model_id": "a157af7e50f34807a12006a26316d72f",
       "version_major": 2,
       "version_minor": 0
      },
      "text/plain": [
       "143/1000 * Epoch (valid):   0%|          | 0/1 [00:00<?, ?it/s]"
      ]
     },
     "metadata": {},
     "output_type": "display_data"
    },
    {
     "name": "stdout",
     "output_type": "stream",
     "text": [
      "valid (143/1000) exact_match01: 0.0 | exact_match01/std: 0.0 | exact_match05: 0.0 | exact_match05/std: 0.0 | loss: 0.18434536457061768 | loss/mean: 0.18434536457061768 | loss/std: 0.0 | lr: 0.0001 | momentum: 0.9\n",
      "* Epoch (143/1000) \n"
     ]
    },
    {
     "data": {
      "application/vnd.jupyter.widget-view+json": {
       "model_id": "9295e85481aa46ae8e9a97b0fc5db187",
       "version_major": 2,
       "version_minor": 0
      },
      "text/plain": [
       "144/1000 * Epoch (train):   0%|          | 0/1 [00:00<?, ?it/s]"
      ]
     },
     "metadata": {},
     "output_type": "display_data"
    },
    {
     "name": "stdout",
     "output_type": "stream",
     "text": [
      "train (144/1000) loss: 0.29118800163269043 | loss/mean: 0.29118800163269043 | loss/std: 0.0 | lr: 0.0001 | momentum: 0.9\n"
     ]
    },
    {
     "data": {
      "application/vnd.jupyter.widget-view+json": {
       "model_id": "27b1ec11efc9441b823d72d0b1bf5d70",
       "version_major": 2,
       "version_minor": 0
      },
      "text/plain": [
       "144/1000 * Epoch (valid):   0%|          | 0/1 [00:00<?, ?it/s]"
      ]
     },
     "metadata": {},
     "output_type": "display_data"
    },
    {
     "name": "stdout",
     "output_type": "stream",
     "text": [
      "valid (144/1000) exact_match01: 0.0 | exact_match01/std: 0.0 | exact_match05: 0.0 | exact_match05/std: 0.0 | loss: 0.1818740963935852 | loss/mean: 0.1818740963935852 | loss/std: 0.0 | lr: 0.0001 | momentum: 0.9\n",
      "* Epoch (144/1000) \n"
     ]
    },
    {
     "data": {
      "application/vnd.jupyter.widget-view+json": {
       "model_id": "b4ddef01cbb146619f996fba67aaf556",
       "version_major": 2,
       "version_minor": 0
      },
      "text/plain": [
       "145/1000 * Epoch (train):   0%|          | 0/1 [00:00<?, ?it/s]"
      ]
     },
     "metadata": {},
     "output_type": "display_data"
    },
    {
     "name": "stdout",
     "output_type": "stream",
     "text": [
      "train (145/1000) loss: 0.29308557510375977 | loss/mean: 0.29308557510375977 | loss/std: 0.0 | lr: 0.0001 | momentum: 0.9\n"
     ]
    },
    {
     "data": {
      "application/vnd.jupyter.widget-view+json": {
       "model_id": "b6397d260c134c12bbc2f822a3bbd843",
       "version_major": 2,
       "version_minor": 0
      },
      "text/plain": [
       "145/1000 * Epoch (valid):   0%|          | 0/1 [00:00<?, ?it/s]"
      ]
     },
     "metadata": {},
     "output_type": "display_data"
    },
    {
     "name": "stdout",
     "output_type": "stream",
     "text": [
      "valid (145/1000) exact_match01: 0.0 | exact_match01/std: 0.0 | exact_match05: 0.0 | exact_match05/std: 0.0 | loss: 0.17940199375152588 | loss/mean: 0.17940199375152588 | loss/std: 0.0 | lr: 0.0001 | momentum: 0.9\n",
      "* Epoch (145/1000) \n"
     ]
    },
    {
     "data": {
      "application/vnd.jupyter.widget-view+json": {
       "model_id": "05b1151b4b454d929ad059e7b445578f",
       "version_major": 2,
       "version_minor": 0
      },
      "text/plain": [
       "146/1000 * Epoch (train):   0%|          | 0/1 [00:00<?, ?it/s]"
      ]
     },
     "metadata": {},
     "output_type": "display_data"
    },
    {
     "name": "stdout",
     "output_type": "stream",
     "text": [
      "train (146/1000) loss: 0.2983652353286743 | loss/mean: 0.2983652353286743 | loss/std: 0.0 | lr: 0.0001 | momentum: 0.9\n"
     ]
    },
    {
     "data": {
      "application/vnd.jupyter.widget-view+json": {
       "model_id": "c95937a3e22e4fbcbc8300d36dc8329d",
       "version_major": 2,
       "version_minor": 0
      },
      "text/plain": [
       "146/1000 * Epoch (valid):   0%|          | 0/1 [00:00<?, ?it/s]"
      ]
     },
     "metadata": {},
     "output_type": "display_data"
    },
    {
     "name": "stdout",
     "output_type": "stream",
     "text": [
      "valid (146/1000) exact_match01: 0.0 | exact_match01/std: 0.0 | exact_match05: 0.0 | exact_match05/std: 0.0 | loss: 0.1768171638250351 | loss/mean: 0.1768171638250351 | loss/std: 0.0 | lr: 0.0001 | momentum: 0.9\n",
      "* Epoch (146/1000) \n"
     ]
    },
    {
     "data": {
      "application/vnd.jupyter.widget-view+json": {
       "model_id": "5e23d26325194d728adc30ee8b8596c1",
       "version_major": 2,
       "version_minor": 0
      },
      "text/plain": [
       "147/1000 * Epoch (train):   0%|          | 0/1 [00:00<?, ?it/s]"
      ]
     },
     "metadata": {},
     "output_type": "display_data"
    },
    {
     "name": "stdout",
     "output_type": "stream",
     "text": [
      "train (147/1000) loss: 0.29379820823669434 | loss/mean: 0.29379820823669434 | loss/std: 0.0 | lr: 0.0001 | momentum: 0.9\n"
     ]
    },
    {
     "data": {
      "application/vnd.jupyter.widget-view+json": {
       "model_id": "078c493be1db4899b39281d80db90c9c",
       "version_major": 2,
       "version_minor": 0
      },
      "text/plain": [
       "147/1000 * Epoch (valid):   0%|          | 0/1 [00:00<?, ?it/s]"
      ]
     },
     "metadata": {},
     "output_type": "display_data"
    },
    {
     "name": "stdout",
     "output_type": "stream",
     "text": [
      "valid (147/1000) exact_match01: 0.0 | exact_match01/std: 0.0 | exact_match05: 0.0 | exact_match05/std: 0.0 | loss: 0.1742519587278366 | loss/mean: 0.1742519587278366 | loss/std: 0.0 | lr: 0.0001 | momentum: 0.9\n",
      "* Epoch (147/1000) \n"
     ]
    },
    {
     "data": {
      "application/vnd.jupyter.widget-view+json": {
       "model_id": "bd457e148b024d4fbc8c655685d77ab4",
       "version_major": 2,
       "version_minor": 0
      },
      "text/plain": [
       "148/1000 * Epoch (train):   0%|          | 0/1 [00:00<?, ?it/s]"
      ]
     },
     "metadata": {},
     "output_type": "display_data"
    },
    {
     "name": "stdout",
     "output_type": "stream",
     "text": [
      "train (148/1000) loss: 0.2802833020687103 | loss/mean: 0.2802833020687103 | loss/std: 0.0 | lr: 0.0001 | momentum: 0.9\n"
     ]
    },
    {
     "data": {
      "application/vnd.jupyter.widget-view+json": {
       "model_id": "2c891bf1e05a4373924f18e7d032a861",
       "version_major": 2,
       "version_minor": 0
      },
      "text/plain": [
       "148/1000 * Epoch (valid):   0%|          | 0/1 [00:00<?, ?it/s]"
      ]
     },
     "metadata": {},
     "output_type": "display_data"
    },
    {
     "name": "stdout",
     "output_type": "stream",
     "text": [
      "valid (148/1000) exact_match01: 0.0 | exact_match01/std: 0.0 | exact_match05: 0.0 | exact_match05/std: 0.0 | loss: 0.17173348367214203 | loss/mean: 0.17173348367214203 | loss/std: 0.0 | lr: 0.0001 | momentum: 0.9\n",
      "* Epoch (148/1000) \n"
     ]
    },
    {
     "data": {
      "application/vnd.jupyter.widget-view+json": {
       "model_id": "75ba8de40c244ad5ab984c54c35da4ee",
       "version_major": 2,
       "version_minor": 0
      },
      "text/plain": [
       "149/1000 * Epoch (train):   0%|          | 0/1 [00:00<?, ?it/s]"
      ]
     },
     "metadata": {},
     "output_type": "display_data"
    },
    {
     "name": "stdout",
     "output_type": "stream",
     "text": [
      "train (149/1000) loss: 0.27971190214157104 | loss/mean: 0.27971190214157104 | loss/std: 0.0 | lr: 0.0001 | momentum: 0.9\n"
     ]
    },
    {
     "data": {
      "application/vnd.jupyter.widget-view+json": {
       "model_id": "7661924bd5b04d6da983843356b12e6d",
       "version_major": 2,
       "version_minor": 0
      },
      "text/plain": [
       "149/1000 * Epoch (valid):   0%|          | 0/1 [00:00<?, ?it/s]"
      ]
     },
     "metadata": {},
     "output_type": "display_data"
    },
    {
     "name": "stdout",
     "output_type": "stream",
     "text": [
      "valid (149/1000) exact_match01: 0.0 | exact_match01/std: 0.0 | exact_match05: 0.0 | exact_match05/std: 0.0 | loss: 0.1692737489938736 | loss/mean: 0.1692737489938736 | loss/std: 0.0 | lr: 0.0001 | momentum: 0.9\n",
      "* Epoch (149/1000) \n"
     ]
    },
    {
     "data": {
      "application/vnd.jupyter.widget-view+json": {
       "model_id": "1ac05446105b4fe1af5ebc678852cf03",
       "version_major": 2,
       "version_minor": 0
      },
      "text/plain": [
       "150/1000 * Epoch (train):   0%|          | 0/1 [00:00<?, ?it/s]"
      ]
     },
     "metadata": {},
     "output_type": "display_data"
    },
    {
     "name": "stdout",
     "output_type": "stream",
     "text": [
      "train (150/1000) loss: 0.28473350405693054 | loss/mean: 0.28473350405693054 | loss/std: 0.0 | lr: 0.0001 | momentum: 0.9\n"
     ]
    },
    {
     "data": {
      "application/vnd.jupyter.widget-view+json": {
       "model_id": "6ccb4eda4a6d468facf3514052a85bf4",
       "version_major": 2,
       "version_minor": 0
      },
      "text/plain": [
       "150/1000 * Epoch (valid):   0%|          | 0/1 [00:00<?, ?it/s]"
      ]
     },
     "metadata": {},
     "output_type": "display_data"
    },
    {
     "name": "stdout",
     "output_type": "stream",
     "text": [
      "valid (150/1000) exact_match01: 0.0 | exact_match01/std: 0.0 | exact_match05: 0.0 | exact_match05/std: 0.0 | loss: 0.166743665933609 | loss/mean: 0.166743665933609 | loss/std: 0.0 | lr: 0.0001 | momentum: 0.9\n",
      "* Epoch (150/1000) \n"
     ]
    },
    {
     "data": {
      "application/vnd.jupyter.widget-view+json": {
       "model_id": "a3134869065b48b999c828c51fd4d820",
       "version_major": 2,
       "version_minor": 0
      },
      "text/plain": [
       "151/1000 * Epoch (train):   0%|          | 0/1 [00:00<?, ?it/s]"
      ]
     },
     "metadata": {},
     "output_type": "display_data"
    },
    {
     "name": "stdout",
     "output_type": "stream",
     "text": [
      "train (151/1000) loss: 0.2831481397151947 | loss/mean: 0.2831481397151947 | loss/std: 0.0 | lr: 0.0001 | momentum: 0.9\n"
     ]
    },
    {
     "data": {
      "application/vnd.jupyter.widget-view+json": {
       "model_id": "509f340efc7b4f1390e8568472ee5a76",
       "version_major": 2,
       "version_minor": 0
      },
      "text/plain": [
       "151/1000 * Epoch (valid):   0%|          | 0/1 [00:00<?, ?it/s]"
      ]
     },
     "metadata": {},
     "output_type": "display_data"
    },
    {
     "name": "stdout",
     "output_type": "stream",
     "text": [
      "valid (151/1000) exact_match01: 0.0 | exact_match01/std: 0.0 | exact_match05: 0.0 | exact_match05/std: 0.0 | loss: 0.16417501866817474 | loss/mean: 0.16417501866817474 | loss/std: 0.0 | lr: 0.0001 | momentum: 0.9\n",
      "* Epoch (151/1000) \n"
     ]
    },
    {
     "data": {
      "application/vnd.jupyter.widget-view+json": {
       "model_id": "156aec15d52341d0ae6fb42f784e9704",
       "version_major": 2,
       "version_minor": 0
      },
      "text/plain": [
       "152/1000 * Epoch (train):   0%|          | 0/1 [00:00<?, ?it/s]"
      ]
     },
     "metadata": {},
     "output_type": "display_data"
    },
    {
     "name": "stdout",
     "output_type": "stream",
     "text": [
      "train (152/1000) loss: 0.27644023299217224 | loss/mean: 0.27644023299217224 | loss/std: 0.0 | lr: 0.0001 | momentum: 0.9\n"
     ]
    },
    {
     "data": {
      "application/vnd.jupyter.widget-view+json": {
       "model_id": "d3296d8713e541f7a28d93e1b7ed26de",
       "version_major": 2,
       "version_minor": 0
      },
      "text/plain": [
       "152/1000 * Epoch (valid):   0%|          | 0/1 [00:00<?, ?it/s]"
      ]
     },
     "metadata": {},
     "output_type": "display_data"
    },
    {
     "name": "stdout",
     "output_type": "stream",
     "text": [
      "valid (152/1000) exact_match01: 0.0 | exact_match01/std: 0.0 | exact_match05: 0.0 | exact_match05/std: 0.0 | loss: 0.16169500350952148 | loss/mean: 0.16169500350952148 | loss/std: 0.0 | lr: 0.0001 | momentum: 0.9\n",
      "* Epoch (152/1000) \n"
     ]
    },
    {
     "data": {
      "application/vnd.jupyter.widget-view+json": {
       "model_id": "81d35bd37bb04974a5af0ba0334686b3",
       "version_major": 2,
       "version_minor": 0
      },
      "text/plain": [
       "153/1000 * Epoch (train):   0%|          | 0/1 [00:00<?, ?it/s]"
      ]
     },
     "metadata": {},
     "output_type": "display_data"
    },
    {
     "name": "stdout",
     "output_type": "stream",
     "text": [
      "train (153/1000) loss: 0.27184662222862244 | loss/mean: 0.27184662222862244 | loss/std: 0.0 | lr: 0.0001 | momentum: 0.9\n"
     ]
    },
    {
     "data": {
      "application/vnd.jupyter.widget-view+json": {
       "model_id": "627a2b0ecf0f40f6bb762d4610dcfc9d",
       "version_major": 2,
       "version_minor": 0
      },
      "text/plain": [
       "153/1000 * Epoch (valid):   0%|          | 0/1 [00:00<?, ?it/s]"
      ]
     },
     "metadata": {},
     "output_type": "display_data"
    },
    {
     "name": "stdout",
     "output_type": "stream",
     "text": [
      "valid (153/1000) exact_match01: 0.0 | exact_match01/std: 0.0 | exact_match05: 0.0 | exact_match05/std: 0.0 | loss: 0.15928864479064941 | loss/mean: 0.15928864479064941 | loss/std: 0.0 | lr: 0.0001 | momentum: 0.9\n",
      "* Epoch (153/1000) \n"
     ]
    },
    {
     "data": {
      "application/vnd.jupyter.widget-view+json": {
       "model_id": "2b1d42b9d0044454926ebffdbc542ba1",
       "version_major": 2,
       "version_minor": 0
      },
      "text/plain": [
       "154/1000 * Epoch (train):   0%|          | 0/1 [00:00<?, ?it/s]"
      ]
     },
     "metadata": {},
     "output_type": "display_data"
    },
    {
     "name": "stdout",
     "output_type": "stream",
     "text": [
      "train (154/1000) loss: 0.2675839066505432 | loss/mean: 0.2675839066505432 | loss/std: 0.0 | lr: 0.0001 | momentum: 0.9\n"
     ]
    },
    {
     "data": {
      "application/vnd.jupyter.widget-view+json": {
       "model_id": "d24b9478ac314244870e3bcb93261bb4",
       "version_major": 2,
       "version_minor": 0
      },
      "text/plain": [
       "154/1000 * Epoch (valid):   0%|          | 0/1 [00:00<?, ?it/s]"
      ]
     },
     "metadata": {},
     "output_type": "display_data"
    },
    {
     "name": "stdout",
     "output_type": "stream",
     "text": [
      "valid (154/1000) exact_match01: 0.0 | exact_match01/std: 0.0 | exact_match05: 0.0 | exact_match05/std: 0.0 | loss: 0.15688280761241913 | loss/mean: 0.15688280761241913 | loss/std: 0.0 | lr: 0.0001 | momentum: 0.9\n",
      "* Epoch (154/1000) \n"
     ]
    },
    {
     "data": {
      "application/vnd.jupyter.widget-view+json": {
       "model_id": "b8e91afc57a242fcb02ad79d2e4963e5",
       "version_major": 2,
       "version_minor": 0
      },
      "text/plain": [
       "155/1000 * Epoch (train):   0%|          | 0/1 [00:00<?, ?it/s]"
      ]
     },
     "metadata": {},
     "output_type": "display_data"
    },
    {
     "name": "stdout",
     "output_type": "stream",
     "text": [
      "train (155/1000) loss: 0.27546435594558716 | loss/mean: 0.27546435594558716 | loss/std: 0.0 | lr: 0.0001 | momentum: 0.9\n"
     ]
    },
    {
     "data": {
      "application/vnd.jupyter.widget-view+json": {
       "model_id": "588031233bf74e3da1c6493da86e211a",
       "version_major": 2,
       "version_minor": 0
      },
      "text/plain": [
       "155/1000 * Epoch (valid):   0%|          | 0/1 [00:00<?, ?it/s]"
      ]
     },
     "metadata": {},
     "output_type": "display_data"
    },
    {
     "name": "stdout",
     "output_type": "stream",
     "text": [
      "valid (155/1000) exact_match01: 0.0 | exact_match01/std: 0.0 | exact_match05: 0.0 | exact_match05/std: 0.0 | loss: 0.15452870726585388 | loss/mean: 0.15452870726585388 | loss/std: 0.0 | lr: 0.0001 | momentum: 0.9\n",
      "* Epoch (155/1000) \n"
     ]
    },
    {
     "data": {
      "application/vnd.jupyter.widget-view+json": {
       "model_id": "3e8c61b3880a4b478302baa8905e8edc",
       "version_major": 2,
       "version_minor": 0
      },
      "text/plain": [
       "156/1000 * Epoch (train):   0%|          | 0/1 [00:00<?, ?it/s]"
      ]
     },
     "metadata": {},
     "output_type": "display_data"
    },
    {
     "name": "stdout",
     "output_type": "stream",
     "text": [
      "train (156/1000) loss: 0.28006303310394287 | loss/mean: 0.28006303310394287 | loss/std: 0.0 | lr: 0.0001 | momentum: 0.9\n"
     ]
    },
    {
     "data": {
      "application/vnd.jupyter.widget-view+json": {
       "model_id": "011c50bfe4df4f6195b2e38ae9477459",
       "version_major": 2,
       "version_minor": 0
      },
      "text/plain": [
       "156/1000 * Epoch (valid):   0%|          | 0/1 [00:00<?, ?it/s]"
      ]
     },
     "metadata": {},
     "output_type": "display_data"
    },
    {
     "name": "stdout",
     "output_type": "stream",
     "text": [
      "valid (156/1000) exact_match01: 0.0 | exact_match01/std: 0.0 | exact_match05: 0.0 | exact_match05/std: 0.0 | loss: 0.15218371152877808 | loss/mean: 0.15218371152877808 | loss/std: 0.0 | lr: 0.0001 | momentum: 0.9\n",
      "* Epoch (156/1000) \n"
     ]
    },
    {
     "data": {
      "application/vnd.jupyter.widget-view+json": {
       "model_id": "1762371e2ea14372adc24b61174c82d2",
       "version_major": 2,
       "version_minor": 0
      },
      "text/plain": [
       "157/1000 * Epoch (train):   0%|          | 0/1 [00:00<?, ?it/s]"
      ]
     },
     "metadata": {},
     "output_type": "display_data"
    },
    {
     "name": "stdout",
     "output_type": "stream",
     "text": [
      "train (157/1000) loss: 0.2548291087150574 | loss/mean: 0.2548291087150574 | loss/std: 0.0 | lr: 0.0001 | momentum: 0.9\n"
     ]
    },
    {
     "data": {
      "application/vnd.jupyter.widget-view+json": {
       "model_id": "b66db3a99d42435fb3c90dbd48749165",
       "version_major": 2,
       "version_minor": 0
      },
      "text/plain": [
       "157/1000 * Epoch (valid):   0%|          | 0/1 [00:00<?, ?it/s]"
      ]
     },
     "metadata": {},
     "output_type": "display_data"
    },
    {
     "name": "stdout",
     "output_type": "stream",
     "text": [
      "valid (157/1000) exact_match01: 0.0 | exact_match01/std: 0.0 | exact_match05: 0.0 | exact_match05/std: 0.0 | loss: 0.14992927014827728 | loss/mean: 0.14992927014827728 | loss/std: 0.0 | lr: 0.0001 | momentum: 0.9\n",
      "* Epoch (157/1000) \n"
     ]
    },
    {
     "data": {
      "application/vnd.jupyter.widget-view+json": {
       "model_id": "2efa31c3636d461aa22be29c9532cd87",
       "version_major": 2,
       "version_minor": 0
      },
      "text/plain": [
       "158/1000 * Epoch (train):   0%|          | 0/1 [00:00<?, ?it/s]"
      ]
     },
     "metadata": {},
     "output_type": "display_data"
    },
    {
     "name": "stdout",
     "output_type": "stream",
     "text": [
      "train (158/1000) loss: 0.2634371817111969 | loss/mean: 0.2634371817111969 | loss/std: 0.0 | lr: 0.0001 | momentum: 0.9\n"
     ]
    },
    {
     "data": {
      "application/vnd.jupyter.widget-view+json": {
       "model_id": "4e909a2582874be18a4e8f89c6d73ca5",
       "version_major": 2,
       "version_minor": 0
      },
      "text/plain": [
       "158/1000 * Epoch (valid):   0%|          | 0/1 [00:00<?, ?it/s]"
      ]
     },
     "metadata": {},
     "output_type": "display_data"
    },
    {
     "name": "stdout",
     "output_type": "stream",
     "text": [
      "valid (158/1000) exact_match01: 0.0 | exact_match01/std: 0.0 | exact_match05: 0.0 | exact_match05/std: 0.0 | loss: 0.14774297177791595 | loss/mean: 0.14774297177791595 | loss/std: 0.0 | lr: 0.0001 | momentum: 0.9\n",
      "* Epoch (158/1000) \n"
     ]
    },
    {
     "data": {
      "application/vnd.jupyter.widget-view+json": {
       "model_id": "0c47f93d2c284fbdb79e37bcb7b5ac40",
       "version_major": 2,
       "version_minor": 0
      },
      "text/plain": [
       "159/1000 * Epoch (train):   0%|          | 0/1 [00:00<?, ?it/s]"
      ]
     },
     "metadata": {},
     "output_type": "display_data"
    },
    {
     "name": "stdout",
     "output_type": "stream",
     "text": [
      "train (159/1000) loss: 0.2703770697116852 | loss/mean: 0.2703770697116852 | loss/std: 0.0 | lr: 0.0001 | momentum: 0.9\n"
     ]
    },
    {
     "data": {
      "application/vnd.jupyter.widget-view+json": {
       "model_id": "e40dac60a32d4ad3ade7340dc18fdd56",
       "version_major": 2,
       "version_minor": 0
      },
      "text/plain": [
       "159/1000 * Epoch (valid):   0%|          | 0/1 [00:00<?, ?it/s]"
      ]
     },
     "metadata": {},
     "output_type": "display_data"
    },
    {
     "name": "stdout",
     "output_type": "stream",
     "text": [
      "valid (159/1000) exact_match01: 0.0 | exact_match01/std: 0.0 | exact_match05: 0.0 | exact_match05/std: 0.0 | loss: 0.14559805393218994 | loss/mean: 0.14559805393218994 | loss/std: 0.0 | lr: 0.0001 | momentum: 0.9\n",
      "* Epoch (159/1000) \n"
     ]
    },
    {
     "data": {
      "application/vnd.jupyter.widget-view+json": {
       "model_id": "f64631b37be14d03b4317bdcf67ce2e0",
       "version_major": 2,
       "version_minor": 0
      },
      "text/plain": [
       "160/1000 * Epoch (train):   0%|          | 0/1 [00:00<?, ?it/s]"
      ]
     },
     "metadata": {},
     "output_type": "display_data"
    },
    {
     "name": "stdout",
     "output_type": "stream",
     "text": [
      "train (160/1000) loss: 0.2689288556575775 | loss/mean: 0.2689288556575775 | loss/std: 0.0 | lr: 0.0001 | momentum: 0.9\n"
     ]
    },
    {
     "data": {
      "application/vnd.jupyter.widget-view+json": {
       "model_id": "7a46740504454c50a006c3042d994b3c",
       "version_major": 2,
       "version_minor": 0
      },
      "text/plain": [
       "160/1000 * Epoch (valid):   0%|          | 0/1 [00:00<?, ?it/s]"
      ]
     },
     "metadata": {},
     "output_type": "display_data"
    },
    {
     "name": "stdout",
     "output_type": "stream",
     "text": [
      "valid (160/1000) exact_match01: 0.0 | exact_match01/std: 0.0 | exact_match05: 0.0 | exact_match05/std: 0.0 | loss: 0.14349409937858582 | loss/mean: 0.14349409937858582 | loss/std: 0.0 | lr: 0.0001 | momentum: 0.9\n",
      "* Epoch (160/1000) \n"
     ]
    },
    {
     "data": {
      "application/vnd.jupyter.widget-view+json": {
       "model_id": "1eeb6009ad2d45c3a76f2f7c3d93da8a",
       "version_major": 2,
       "version_minor": 0
      },
      "text/plain": [
       "161/1000 * Epoch (train):   0%|          | 0/1 [00:00<?, ?it/s]"
      ]
     },
     "metadata": {},
     "output_type": "display_data"
    },
    {
     "name": "stdout",
     "output_type": "stream",
     "text": [
      "train (161/1000) loss: 0.25443944334983826 | loss/mean: 0.25443944334983826 | loss/std: 0.0 | lr: 0.0001 | momentum: 0.9\n"
     ]
    },
    {
     "data": {
      "application/vnd.jupyter.widget-view+json": {
       "model_id": "b271f4c15c6d4dd8827aca803073a682",
       "version_major": 2,
       "version_minor": 0
      },
      "text/plain": [
       "161/1000 * Epoch (valid):   0%|          | 0/1 [00:00<?, ?it/s]"
      ]
     },
     "metadata": {},
     "output_type": "display_data"
    },
    {
     "name": "stdout",
     "output_type": "stream",
     "text": [
      "valid (161/1000) exact_match01: 0.0 | exact_match01/std: 0.0 | exact_match05: 0.0 | exact_match05/std: 0.0 | loss: 0.14143326878547668 | loss/mean: 0.14143326878547668 | loss/std: 0.0 | lr: 0.0001 | momentum: 0.9\n",
      "* Epoch (161/1000) \n"
     ]
    },
    {
     "data": {
      "application/vnd.jupyter.widget-view+json": {
       "model_id": "9b1ee432ccf4491d882a7ed974519d4d",
       "version_major": 2,
       "version_minor": 0
      },
      "text/plain": [
       "162/1000 * Epoch (train):   0%|          | 0/1 [00:00<?, ?it/s]"
      ]
     },
     "metadata": {},
     "output_type": "display_data"
    },
    {
     "name": "stdout",
     "output_type": "stream",
     "text": [
      "train (162/1000) loss: 0.25803959369659424 | loss/mean: 0.25803959369659424 | loss/std: 0.0 | lr: 0.0001 | momentum: 0.9\n"
     ]
    },
    {
     "data": {
      "application/vnd.jupyter.widget-view+json": {
       "model_id": "4c6e435491b44ad0998baa2d2b33d594",
       "version_major": 2,
       "version_minor": 0
      },
      "text/plain": [
       "162/1000 * Epoch (valid):   0%|          | 0/1 [00:00<?, ?it/s]"
      ]
     },
     "metadata": {},
     "output_type": "display_data"
    },
    {
     "name": "stdout",
     "output_type": "stream",
     "text": [
      "valid (162/1000) exact_match01: 0.0 | exact_match01/std: 0.0 | exact_match05: 0.0 | exact_match05/std: 0.0 | loss: 0.1393846571445465 | loss/mean: 0.1393846571445465 | loss/std: 0.0 | lr: 0.0001 | momentum: 0.9\n",
      "* Epoch (162/1000) \n"
     ]
    },
    {
     "data": {
      "application/vnd.jupyter.widget-view+json": {
       "model_id": "725fb07376b24635bb281575abf58ac3",
       "version_major": 2,
       "version_minor": 0
      },
      "text/plain": [
       "163/1000 * Epoch (train):   0%|          | 0/1 [00:00<?, ?it/s]"
      ]
     },
     "metadata": {},
     "output_type": "display_data"
    },
    {
     "name": "stdout",
     "output_type": "stream",
     "text": [
      "train (163/1000) loss: 0.23459841310977936 | loss/mean: 0.23459841310977936 | loss/std: 0.0 | lr: 0.0001 | momentum: 0.9\n"
     ]
    },
    {
     "data": {
      "application/vnd.jupyter.widget-view+json": {
       "model_id": "64f0c51d032c44d0847485f137e25592",
       "version_major": 2,
       "version_minor": 0
      },
      "text/plain": [
       "163/1000 * Epoch (valid):   0%|          | 0/1 [00:00<?, ?it/s]"
      ]
     },
     "metadata": {},
     "output_type": "display_data"
    },
    {
     "name": "stdout",
     "output_type": "stream",
     "text": [
      "valid (163/1000) exact_match01: 0.0 | exact_match01/std: 0.0 | exact_match05: 0.0 | exact_match05/std: 0.0 | loss: 0.13729342818260193 | loss/mean: 0.13729342818260193 | loss/std: 0.0 | lr: 0.0001 | momentum: 0.9\n",
      "* Epoch (163/1000) \n"
     ]
    },
    {
     "data": {
      "application/vnd.jupyter.widget-view+json": {
       "model_id": "8bdd341918264afab2415385720cfe96",
       "version_major": 2,
       "version_minor": 0
      },
      "text/plain": [
       "164/1000 * Epoch (train):   0%|          | 0/1 [00:00<?, ?it/s]"
      ]
     },
     "metadata": {},
     "output_type": "display_data"
    },
    {
     "name": "stdout",
     "output_type": "stream",
     "text": [
      "train (164/1000) loss: 0.25109297037124634 | loss/mean: 0.25109297037124634 | loss/std: 0.0 | lr: 0.0001 | momentum: 0.9\n"
     ]
    },
    {
     "data": {
      "application/vnd.jupyter.widget-view+json": {
       "model_id": "8fb3023d627a4486ae7e01d64fddd4ee",
       "version_major": 2,
       "version_minor": 0
      },
      "text/plain": [
       "164/1000 * Epoch (valid):   0%|          | 0/1 [00:00<?, ?it/s]"
      ]
     },
     "metadata": {},
     "output_type": "display_data"
    },
    {
     "name": "stdout",
     "output_type": "stream",
     "text": [
      "valid (164/1000) exact_match01: 0.0 | exact_match01/std: 0.0 | exact_match05: 0.0 | exact_match05/std: 0.0 | loss: 0.13527576625347137 | loss/mean: 0.13527576625347137 | loss/std: 0.0 | lr: 0.0001 | momentum: 0.9\n",
      "* Epoch (164/1000) \n"
     ]
    },
    {
     "data": {
      "application/vnd.jupyter.widget-view+json": {
       "model_id": "94c577d6da4c45f88a6594dfe5c99c1a",
       "version_major": 2,
       "version_minor": 0
      },
      "text/plain": [
       "165/1000 * Epoch (train):   0%|          | 0/1 [00:00<?, ?it/s]"
      ]
     },
     "metadata": {},
     "output_type": "display_data"
    },
    {
     "name": "stdout",
     "output_type": "stream",
     "text": [
      "train (165/1000) loss: 0.24367401003837585 | loss/mean: 0.24367401003837585 | loss/std: 0.0 | lr: 0.0001 | momentum: 0.9\n"
     ]
    },
    {
     "data": {
      "application/vnd.jupyter.widget-view+json": {
       "model_id": "019a9bfd82464dd6a6776a967a83ac9a",
       "version_major": 2,
       "version_minor": 0
      },
      "text/plain": [
       "165/1000 * Epoch (valid):   0%|          | 0/1 [00:00<?, ?it/s]"
      ]
     },
     "metadata": {},
     "output_type": "display_data"
    },
    {
     "name": "stdout",
     "output_type": "stream",
     "text": [
      "valid (165/1000) exact_match01: 0.0 | exact_match01/std: 0.0 | exact_match05: 0.0 | exact_match05/std: 0.0 | loss: 0.13324709236621857 | loss/mean: 0.13324709236621857 | loss/std: 0.0 | lr: 0.0001 | momentum: 0.9\n",
      "* Epoch (165/1000) \n"
     ]
    },
    {
     "data": {
      "application/vnd.jupyter.widget-view+json": {
       "model_id": "a15f8995d436490ea999557628b7e257",
       "version_major": 2,
       "version_minor": 0
      },
      "text/plain": [
       "166/1000 * Epoch (train):   0%|          | 0/1 [00:00<?, ?it/s]"
      ]
     },
     "metadata": {},
     "output_type": "display_data"
    },
    {
     "name": "stdout",
     "output_type": "stream",
     "text": [
      "train (166/1000) loss: 0.25268426537513733 | loss/mean: 0.25268426537513733 | loss/std: 0.0 | lr: 0.0001 | momentum: 0.9\n"
     ]
    },
    {
     "data": {
      "application/vnd.jupyter.widget-view+json": {
       "model_id": "943011806f2043e6a4f72eb8351f985b",
       "version_major": 2,
       "version_minor": 0
      },
      "text/plain": [
       "166/1000 * Epoch (valid):   0%|          | 0/1 [00:00<?, ?it/s]"
      ]
     },
     "metadata": {},
     "output_type": "display_data"
    },
    {
     "name": "stdout",
     "output_type": "stream",
     "text": [
      "valid (166/1000) exact_match01: 0.0 | exact_match01/std: 0.0 | exact_match05: 0.0 | exact_match05/std: 0.0 | loss: 0.13124339282512665 | loss/mean: 0.13124339282512665 | loss/std: 0.0 | lr: 0.0001 | momentum: 0.9\n",
      "* Epoch (166/1000) \n"
     ]
    },
    {
     "data": {
      "application/vnd.jupyter.widget-view+json": {
       "model_id": "d7b9ac65a1a049f9baef7cc8d07b34e0",
       "version_major": 2,
       "version_minor": 0
      },
      "text/plain": [
       "167/1000 * Epoch (train):   0%|          | 0/1 [00:00<?, ?it/s]"
      ]
     },
     "metadata": {},
     "output_type": "display_data"
    },
    {
     "name": "stdout",
     "output_type": "stream",
     "text": [
      "train (167/1000) loss: 0.23530705273151398 | loss/mean: 0.23530705273151398 | loss/std: 0.0 | lr: 0.0001 | momentum: 0.9\n"
     ]
    },
    {
     "data": {
      "application/vnd.jupyter.widget-view+json": {
       "model_id": "d6735ec63e7947a0912b5b9703bb2e29",
       "version_major": 2,
       "version_minor": 0
      },
      "text/plain": [
       "167/1000 * Epoch (valid):   0%|          | 0/1 [00:00<?, ?it/s]"
      ]
     },
     "metadata": {},
     "output_type": "display_data"
    },
    {
     "name": "stdout",
     "output_type": "stream",
     "text": [
      "valid (167/1000) exact_match01: 0.0 | exact_match01/std: 0.0 | exact_match05: 0.0 | exact_match05/std: 0.0 | loss: 0.12918034195899963 | loss/mean: 0.12918034195899963 | loss/std: 0.0 | lr: 0.0001 | momentum: 0.9\n",
      "* Epoch (167/1000) \n"
     ]
    },
    {
     "data": {
      "application/vnd.jupyter.widget-view+json": {
       "model_id": "5e9019b902e842d1bb3c5e0a6e226878",
       "version_major": 2,
       "version_minor": 0
      },
      "text/plain": [
       "168/1000 * Epoch (train):   0%|          | 0/1 [00:00<?, ?it/s]"
      ]
     },
     "metadata": {},
     "output_type": "display_data"
    },
    {
     "name": "stdout",
     "output_type": "stream",
     "text": [
      "train (168/1000) loss: 0.22892940044403076 | loss/mean: 0.22892940044403076 | loss/std: 0.0 | lr: 0.0001 | momentum: 0.9\n"
     ]
    },
    {
     "data": {
      "application/vnd.jupyter.widget-view+json": {
       "model_id": "59a15c9556574209bc5b423706860a2f",
       "version_major": 2,
       "version_minor": 0
      },
      "text/plain": [
       "168/1000 * Epoch (valid):   0%|          | 0/1 [00:00<?, ?it/s]"
      ]
     },
     "metadata": {},
     "output_type": "display_data"
    },
    {
     "name": "stdout",
     "output_type": "stream",
     "text": [
      "valid (168/1000) exact_match01: 0.0 | exact_match01/std: 0.0 | exact_match05: 0.0 | exact_match05/std: 0.0 | loss: 0.12710215151309967 | loss/mean: 0.12710215151309967 | loss/std: 0.0 | lr: 0.0001 | momentum: 0.9\n",
      "* Epoch (168/1000) \n"
     ]
    },
    {
     "data": {
      "application/vnd.jupyter.widget-view+json": {
       "model_id": "28d2afb9f2cf492faa82296a7fa946bf",
       "version_major": 2,
       "version_minor": 0
      },
      "text/plain": [
       "169/1000 * Epoch (train):   0%|          | 0/1 [00:00<?, ?it/s]"
      ]
     },
     "metadata": {},
     "output_type": "display_data"
    },
    {
     "name": "stdout",
     "output_type": "stream",
     "text": [
      "train (169/1000) loss: 0.23203299939632416 | loss/mean: 0.23203299939632416 | loss/std: 0.0 | lr: 0.0001 | momentum: 0.9\n"
     ]
    },
    {
     "data": {
      "application/vnd.jupyter.widget-view+json": {
       "model_id": "ba1c9770ac89412285221ac510798f5f",
       "version_major": 2,
       "version_minor": 0
      },
      "text/plain": [
       "169/1000 * Epoch (valid):   0%|          | 0/1 [00:00<?, ?it/s]"
      ]
     },
     "metadata": {},
     "output_type": "display_data"
    },
    {
     "name": "stdout",
     "output_type": "stream",
     "text": [
      "valid (169/1000) exact_match01: 0.0 | exact_match01/std: 0.0 | exact_match05: 0.0 | exact_match05/std: 0.0 | loss: 0.1249566525220871 | loss/mean: 0.1249566525220871 | loss/std: 0.0 | lr: 0.0001 | momentum: 0.9\n",
      "* Epoch (169/1000) \n"
     ]
    },
    {
     "data": {
      "application/vnd.jupyter.widget-view+json": {
       "model_id": "66fbca4ab9de4426a85d24b848e9be75",
       "version_major": 2,
       "version_minor": 0
      },
      "text/plain": [
       "170/1000 * Epoch (train):   0%|          | 0/1 [00:00<?, ?it/s]"
      ]
     },
     "metadata": {},
     "output_type": "display_data"
    },
    {
     "name": "stdout",
     "output_type": "stream",
     "text": [
      "train (170/1000) loss: 0.23829367756843567 | loss/mean: 0.23829367756843567 | loss/std: 0.0 | lr: 0.0001 | momentum: 0.9\n"
     ]
    },
    {
     "data": {
      "application/vnd.jupyter.widget-view+json": {
       "model_id": "24358874586e47be8751889e587a9b00",
       "version_major": 2,
       "version_minor": 0
      },
      "text/plain": [
       "170/1000 * Epoch (valid):   0%|          | 0/1 [00:00<?, ?it/s]"
      ]
     },
     "metadata": {},
     "output_type": "display_data"
    },
    {
     "name": "stdout",
     "output_type": "stream",
     "text": [
      "valid (170/1000) exact_match01: 0.0 | exact_match01/std: 0.0 | exact_match05: 0.0 | exact_match05/std: 0.0 | loss: 0.1228739395737648 | loss/mean: 0.1228739395737648 | loss/std: 0.0 | lr: 0.0001 | momentum: 0.9\n",
      "* Epoch (170/1000) \n"
     ]
    },
    {
     "data": {
      "application/vnd.jupyter.widget-view+json": {
       "model_id": "4303538a157e4cd3a2846775008ea78b",
       "version_major": 2,
       "version_minor": 0
      },
      "text/plain": [
       "171/1000 * Epoch (train):   0%|          | 0/1 [00:00<?, ?it/s]"
      ]
     },
     "metadata": {},
     "output_type": "display_data"
    },
    {
     "name": "stdout",
     "output_type": "stream",
     "text": [
      "train (171/1000) loss: 0.24045413732528687 | loss/mean: 0.24045413732528687 | loss/std: 0.0 | lr: 0.0001 | momentum: 0.9\n"
     ]
    },
    {
     "data": {
      "application/vnd.jupyter.widget-view+json": {
       "model_id": "b2db1fa5a7ba43b79374b5c5ff67ecd8",
       "version_major": 2,
       "version_minor": 0
      },
      "text/plain": [
       "171/1000 * Epoch (valid):   0%|          | 0/1 [00:00<?, ?it/s]"
      ]
     },
     "metadata": {},
     "output_type": "display_data"
    },
    {
     "name": "stdout",
     "output_type": "stream",
     "text": [
      "valid (171/1000) exact_match01: 0.0 | exact_match01/std: 0.0 | exact_match05: 0.0 | exact_match05/std: 0.0 | loss: 0.12080992013216019 | loss/mean: 0.12080992013216019 | loss/std: 0.0 | lr: 0.0001 | momentum: 0.9\n",
      "* Epoch (171/1000) \n"
     ]
    },
    {
     "data": {
      "application/vnd.jupyter.widget-view+json": {
       "model_id": "cd9310eb98254552bbf9ce48b2563d1d",
       "version_major": 2,
       "version_minor": 0
      },
      "text/plain": [
       "172/1000 * Epoch (train):   0%|          | 0/1 [00:00<?, ?it/s]"
      ]
     },
     "metadata": {},
     "output_type": "display_data"
    },
    {
     "name": "stdout",
     "output_type": "stream",
     "text": [
      "train (172/1000) loss: 0.2258024960756302 | loss/mean: 0.2258024960756302 | loss/std: 0.0 | lr: 0.0001 | momentum: 0.9\n"
     ]
    },
    {
     "data": {
      "application/vnd.jupyter.widget-view+json": {
       "model_id": "601a2fc387394abbae28b82ed47f6c32",
       "version_major": 2,
       "version_minor": 0
      },
      "text/plain": [
       "172/1000 * Epoch (valid):   0%|          | 0/1 [00:00<?, ?it/s]"
      ]
     },
     "metadata": {},
     "output_type": "display_data"
    },
    {
     "name": "stdout",
     "output_type": "stream",
     "text": [
      "valid (172/1000) exact_match01: 0.0 | exact_match01/std: 0.0 | exact_match05: 0.0 | exact_match05/std: 0.0 | loss: 0.11871849745512009 | loss/mean: 0.11871849745512009 | loss/std: 0.0 | lr: 0.0001 | momentum: 0.9\n",
      "* Epoch (172/1000) \n"
     ]
    },
    {
     "data": {
      "application/vnd.jupyter.widget-view+json": {
       "model_id": "77e371025ca248dfba3002798f7fbb7e",
       "version_major": 2,
       "version_minor": 0
      },
      "text/plain": [
       "173/1000 * Epoch (train):   0%|          | 0/1 [00:00<?, ?it/s]"
      ]
     },
     "metadata": {},
     "output_type": "display_data"
    },
    {
     "name": "stdout",
     "output_type": "stream",
     "text": [
      "train (173/1000) loss: 0.22030219435691833 | loss/mean: 0.22030219435691833 | loss/std: 0.0 | lr: 0.0001 | momentum: 0.9\n"
     ]
    },
    {
     "data": {
      "application/vnd.jupyter.widget-view+json": {
       "model_id": "8644150180254a19a1f6c2de3ffec589",
       "version_major": 2,
       "version_minor": 0
      },
      "text/plain": [
       "173/1000 * Epoch (valid):   0%|          | 0/1 [00:00<?, ?it/s]"
      ]
     },
     "metadata": {},
     "output_type": "display_data"
    },
    {
     "name": "stdout",
     "output_type": "stream",
     "text": [
      "valid (173/1000) exact_match01: 0.0 | exact_match01/std: 0.0 | exact_match05: 0.0 | exact_match05/std: 0.0 | loss: 0.11665940284729004 | loss/mean: 0.11665940284729004 | loss/std: 0.0 | lr: 0.0001 | momentum: 0.9\n",
      "* Epoch (173/1000) \n"
     ]
    },
    {
     "data": {
      "application/vnd.jupyter.widget-view+json": {
       "model_id": "bba2fbe3084643d9be40b07c02a8fcba",
       "version_major": 2,
       "version_minor": 0
      },
      "text/plain": [
       "174/1000 * Epoch (train):   0%|          | 0/1 [00:00<?, ?it/s]"
      ]
     },
     "metadata": {},
     "output_type": "display_data"
    },
    {
     "name": "stdout",
     "output_type": "stream",
     "text": [
      "train (174/1000) loss: 0.20921893417835236 | loss/mean: 0.20921893417835236 | loss/std: 0.0 | lr: 0.0001 | momentum: 0.9\n"
     ]
    },
    {
     "data": {
      "application/vnd.jupyter.widget-view+json": {
       "model_id": "458bffdf13824863af4d95baf9129e8f",
       "version_major": 2,
       "version_minor": 0
      },
      "text/plain": [
       "174/1000 * Epoch (valid):   0%|          | 0/1 [00:00<?, ?it/s]"
      ]
     },
     "metadata": {},
     "output_type": "display_data"
    },
    {
     "name": "stdout",
     "output_type": "stream",
     "text": [
      "valid (174/1000) exact_match01: 0.0 | exact_match01/std: 0.0 | exact_match05: 0.0 | exact_match05/std: 0.0 | loss: 0.1146327331662178 | loss/mean: 0.1146327331662178 | loss/std: 0.0 | lr: 0.0001 | momentum: 0.9\n",
      "* Epoch (174/1000) \n"
     ]
    },
    {
     "data": {
      "application/vnd.jupyter.widget-view+json": {
       "model_id": "3d9220ece7184d3abadfd7a488f6b661",
       "version_major": 2,
       "version_minor": 0
      },
      "text/plain": [
       "175/1000 * Epoch (train):   0%|          | 0/1 [00:00<?, ?it/s]"
      ]
     },
     "metadata": {},
     "output_type": "display_data"
    },
    {
     "name": "stdout",
     "output_type": "stream",
     "text": [
      "train (175/1000) loss: 0.22306498885154724 | loss/mean: 0.22306498885154724 | loss/std: 0.0 | lr: 0.0001 | momentum: 0.9\n"
     ]
    },
    {
     "data": {
      "application/vnd.jupyter.widget-view+json": {
       "model_id": "2d07b08d9a684857b35c1d73dc97a711",
       "version_major": 2,
       "version_minor": 0
      },
      "text/plain": [
       "175/1000 * Epoch (valid):   0%|          | 0/1 [00:00<?, ?it/s]"
      ]
     },
     "metadata": {},
     "output_type": "display_data"
    },
    {
     "name": "stdout",
     "output_type": "stream",
     "text": [
      "valid (175/1000) exact_match01: 0.0 | exact_match01/std: 0.0 | exact_match05: 0.0 | exact_match05/std: 0.0 | loss: 0.11249532550573349 | loss/mean: 0.11249532550573349 | loss/std: 0.0 | lr: 0.0001 | momentum: 0.9\n",
      "* Epoch (175/1000) \n"
     ]
    },
    {
     "data": {
      "application/vnd.jupyter.widget-view+json": {
       "model_id": "fdcefbb880bf412b86abf6084a3bb689",
       "version_major": 2,
       "version_minor": 0
      },
      "text/plain": [
       "176/1000 * Epoch (train):   0%|          | 0/1 [00:00<?, ?it/s]"
      ]
     },
     "metadata": {},
     "output_type": "display_data"
    },
    {
     "name": "stdout",
     "output_type": "stream",
     "text": [
      "train (176/1000) loss: 0.22100740671157837 | loss/mean: 0.22100740671157837 | loss/std: 0.0 | lr: 0.0001 | momentum: 0.9\n"
     ]
    },
    {
     "data": {
      "application/vnd.jupyter.widget-view+json": {
       "model_id": "16f21e80e35840ce88e44657f95b748a",
       "version_major": 2,
       "version_minor": 0
      },
      "text/plain": [
       "176/1000 * Epoch (valid):   0%|          | 0/1 [00:00<?, ?it/s]"
      ]
     },
     "metadata": {},
     "output_type": "display_data"
    },
    {
     "name": "stdout",
     "output_type": "stream",
     "text": [
      "valid (176/1000) exact_match01: 0.0 | exact_match01/std: 0.0 | exact_match05: 0.0 | exact_match05/std: 0.0 | loss: 0.11040890961885452 | loss/mean: 0.11040890961885452 | loss/std: 0.0 | lr: 0.0001 | momentum: 0.9\n",
      "* Epoch (176/1000) \n"
     ]
    },
    {
     "data": {
      "application/vnd.jupyter.widget-view+json": {
       "model_id": "21687e0d66c84e918751503ca35a0a14",
       "version_major": 2,
       "version_minor": 0
      },
      "text/plain": [
       "177/1000 * Epoch (train):   0%|          | 0/1 [00:00<?, ?it/s]"
      ]
     },
     "metadata": {},
     "output_type": "display_data"
    },
    {
     "name": "stdout",
     "output_type": "stream",
     "text": [
      "train (177/1000) loss: 0.22487740218639374 | loss/mean: 0.22487740218639374 | loss/std: 0.0 | lr: 0.0001 | momentum: 0.9\n"
     ]
    },
    {
     "data": {
      "application/vnd.jupyter.widget-view+json": {
       "model_id": "99b3b33b91064f22a880f3156714bf05",
       "version_major": 2,
       "version_minor": 0
      },
      "text/plain": [
       "177/1000 * Epoch (valid):   0%|          | 0/1 [00:00<?, ?it/s]"
      ]
     },
     "metadata": {},
     "output_type": "display_data"
    },
    {
     "name": "stdout",
     "output_type": "stream",
     "text": [
      "valid (177/1000) exact_match01: 0.0 | exact_match01/std: 0.0 | exact_match05: 0.0 | exact_match05/std: 0.0 | loss: 0.10840611159801483 | loss/mean: 0.10840611159801483 | loss/std: 0.0 | lr: 0.0001 | momentum: 0.9\n",
      "* Epoch (177/1000) \n"
     ]
    },
    {
     "data": {
      "application/vnd.jupyter.widget-view+json": {
       "model_id": "371ca848eab546a7b37a0ffce91eed91",
       "version_major": 2,
       "version_minor": 0
      },
      "text/plain": [
       "178/1000 * Epoch (train):   0%|          | 0/1 [00:00<?, ?it/s]"
      ]
     },
     "metadata": {},
     "output_type": "display_data"
    },
    {
     "name": "stdout",
     "output_type": "stream",
     "text": [
      "train (178/1000) loss: 0.2132290154695511 | loss/mean: 0.2132290154695511 | loss/std: 0.0 | lr: 0.0001 | momentum: 0.9\n"
     ]
    },
    {
     "data": {
      "application/vnd.jupyter.widget-view+json": {
       "model_id": "b799be3378264633a76f790dc19d31c4",
       "version_major": 2,
       "version_minor": 0
      },
      "text/plain": [
       "178/1000 * Epoch (valid):   0%|          | 0/1 [00:00<?, ?it/s]"
      ]
     },
     "metadata": {},
     "output_type": "display_data"
    },
    {
     "name": "stdout",
     "output_type": "stream",
     "text": [
      "valid (178/1000) exact_match01: 0.0 | exact_match01/std: 0.0 | exact_match05: 0.0 | exact_match05/std: 0.0 | loss: 0.10642851144075394 | loss/mean: 0.10642851144075394 | loss/std: 0.0 | lr: 0.0001 | momentum: 0.9\n",
      "* Epoch (178/1000) \n"
     ]
    },
    {
     "data": {
      "application/vnd.jupyter.widget-view+json": {
       "model_id": "4f46afc4380b40a0b37a201135f2e0ab",
       "version_major": 2,
       "version_minor": 0
      },
      "text/plain": [
       "179/1000 * Epoch (train):   0%|          | 0/1 [00:00<?, ?it/s]"
      ]
     },
     "metadata": {},
     "output_type": "display_data"
    },
    {
     "name": "stdout",
     "output_type": "stream",
     "text": [
      "train (179/1000) loss: 0.20834019780158997 | loss/mean: 0.20834019780158997 | loss/std: 0.0 | lr: 0.0001 | momentum: 0.9\n"
     ]
    },
    {
     "data": {
      "application/vnd.jupyter.widget-view+json": {
       "model_id": "cb829aa48cb84b76b3b37e4c40f7df63",
       "version_major": 2,
       "version_minor": 0
      },
      "text/plain": [
       "179/1000 * Epoch (valid):   0%|          | 0/1 [00:00<?, ?it/s]"
      ]
     },
     "metadata": {},
     "output_type": "display_data"
    },
    {
     "name": "stdout",
     "output_type": "stream",
     "text": [
      "valid (179/1000) exact_match01: 0.0 | exact_match01/std: 0.0 | exact_match05: 0.0 | exact_match05/std: 0.0 | loss: 0.10447536408901215 | loss/mean: 0.10447536408901215 | loss/std: 0.0 | lr: 0.0001 | momentum: 0.9\n",
      "* Epoch (179/1000) \n"
     ]
    },
    {
     "data": {
      "application/vnd.jupyter.widget-view+json": {
       "model_id": "ce809a1c062f44b08c17558275e55555",
       "version_major": 2,
       "version_minor": 0
      },
      "text/plain": [
       "180/1000 * Epoch (train):   0%|          | 0/1 [00:00<?, ?it/s]"
      ]
     },
     "metadata": {},
     "output_type": "display_data"
    },
    {
     "name": "stdout",
     "output_type": "stream",
     "text": [
      "train (180/1000) loss: 0.21770493686199188 | loss/mean: 0.21770493686199188 | loss/std: 0.0 | lr: 0.0001 | momentum: 0.9\n"
     ]
    },
    {
     "data": {
      "application/vnd.jupyter.widget-view+json": {
       "model_id": "7776fadda1de41289b3be08dce822180",
       "version_major": 2,
       "version_minor": 0
      },
      "text/plain": [
       "180/1000 * Epoch (valid):   0%|          | 0/1 [00:00<?, ?it/s]"
      ]
     },
     "metadata": {},
     "output_type": "display_data"
    },
    {
     "name": "stdout",
     "output_type": "stream",
     "text": [
      "valid (180/1000) exact_match01: 0.0 | exact_match01/std: 0.0 | exact_match05: 0.0 | exact_match05/std: 0.0 | loss: 0.10250239074230194 | loss/mean: 0.10250239074230194 | loss/std: 0.0 | lr: 0.0001 | momentum: 0.9\n",
      "* Epoch (180/1000) \n"
     ]
    },
    {
     "data": {
      "application/vnd.jupyter.widget-view+json": {
       "model_id": "3cb9f533c02849ec97be16397fbcd620",
       "version_major": 2,
       "version_minor": 0
      },
      "text/plain": [
       "181/1000 * Epoch (train):   0%|          | 0/1 [00:00<?, ?it/s]"
      ]
     },
     "metadata": {},
     "output_type": "display_data"
    },
    {
     "name": "stdout",
     "output_type": "stream",
     "text": [
      "train (181/1000) loss: 0.21500514447689056 | loss/mean: 0.21500514447689056 | loss/std: 0.0 | lr: 0.0001 | momentum: 0.9\n"
     ]
    },
    {
     "data": {
      "application/vnd.jupyter.widget-view+json": {
       "model_id": "ba9d913a0fdf4563845e5cc86e8765a6",
       "version_major": 2,
       "version_minor": 0
      },
      "text/plain": [
       "181/1000 * Epoch (valid):   0%|          | 0/1 [00:00<?, ?it/s]"
      ]
     },
     "metadata": {},
     "output_type": "display_data"
    },
    {
     "name": "stdout",
     "output_type": "stream",
     "text": [
      "valid (181/1000) exact_match01: 0.0 | exact_match01/std: 0.0 | exact_match05: 0.0 | exact_match05/std: 0.0 | loss: 0.10037705302238464 | loss/mean: 0.10037705302238464 | loss/std: 0.0 | lr: 0.0001 | momentum: 0.9\n",
      "* Epoch (181/1000) \n"
     ]
    },
    {
     "data": {
      "application/vnd.jupyter.widget-view+json": {
       "model_id": "5593fafcd0a24f76893474631bea73f9",
       "version_major": 2,
       "version_minor": 0
      },
      "text/plain": [
       "182/1000 * Epoch (train):   0%|          | 0/1 [00:00<?, ?it/s]"
      ]
     },
     "metadata": {},
     "output_type": "display_data"
    },
    {
     "name": "stdout",
     "output_type": "stream",
     "text": [
      "train (182/1000) loss: 0.19930467009544373 | loss/mean: 0.19930467009544373 | loss/std: 0.0 | lr: 0.0001 | momentum: 0.9\n"
     ]
    },
    {
     "data": {
      "application/vnd.jupyter.widget-view+json": {
       "model_id": "09889f5f830c42078474c3f36479f18b",
       "version_major": 2,
       "version_minor": 0
      },
      "text/plain": [
       "182/1000 * Epoch (valid):   0%|          | 0/1 [00:00<?, ?it/s]"
      ]
     },
     "metadata": {},
     "output_type": "display_data"
    },
    {
     "name": "stdout",
     "output_type": "stream",
     "text": [
      "valid (182/1000) exact_match01: 0.0 | exact_match01/std: 0.0 | exact_match05: 0.0 | exact_match05/std: 0.0 | loss: 0.0984148234128952 | loss/mean: 0.0984148234128952 | loss/std: 0.0 | lr: 0.0001 | momentum: 0.9\n",
      "* Epoch (182/1000) \n"
     ]
    },
    {
     "data": {
      "application/vnd.jupyter.widget-view+json": {
       "model_id": "eafb9621d27c4748af3c011acb8509b9",
       "version_major": 2,
       "version_minor": 0
      },
      "text/plain": [
       "183/1000 * Epoch (train):   0%|          | 0/1 [00:00<?, ?it/s]"
      ]
     },
     "metadata": {},
     "output_type": "display_data"
    },
    {
     "name": "stdout",
     "output_type": "stream",
     "text": [
      "train (183/1000) loss: 0.21910929679870605 | loss/mean: 0.21910929679870605 | loss/std: 0.0 | lr: 0.0001 | momentum: 0.9\n"
     ]
    },
    {
     "data": {
      "application/vnd.jupyter.widget-view+json": {
       "model_id": "bdf235a420064873981dd92f913b73a6",
       "version_major": 2,
       "version_minor": 0
      },
      "text/plain": [
       "183/1000 * Epoch (valid):   0%|          | 0/1 [00:00<?, ?it/s]"
      ]
     },
     "metadata": {},
     "output_type": "display_data"
    },
    {
     "name": "stdout",
     "output_type": "stream",
     "text": [
      "valid (183/1000) exact_match01: 0.0 | exact_match01/std: 0.0 | exact_match05: 0.0 | exact_match05/std: 0.0 | loss: 0.09654521197080612 | loss/mean: 0.09654521197080612 | loss/std: 0.0 | lr: 0.0001 | momentum: 0.9\n",
      "* Epoch (183/1000) \n"
     ]
    },
    {
     "data": {
      "application/vnd.jupyter.widget-view+json": {
       "model_id": "c69b89e3ed604ebb9ca625ebf2ce7e15",
       "version_major": 2,
       "version_minor": 0
      },
      "text/plain": [
       "184/1000 * Epoch (train):   0%|          | 0/1 [00:00<?, ?it/s]"
      ]
     },
     "metadata": {},
     "output_type": "display_data"
    },
    {
     "name": "stdout",
     "output_type": "stream",
     "text": [
      "train (184/1000) loss: 0.2051810324192047 | loss/mean: 0.2051810324192047 | loss/std: 0.0 | lr: 0.0001 | momentum: 0.9\n"
     ]
    },
    {
     "data": {
      "application/vnd.jupyter.widget-view+json": {
       "model_id": "a352f175a0324753862bd2a3e83144b1",
       "version_major": 2,
       "version_minor": 0
      },
      "text/plain": [
       "184/1000 * Epoch (valid):   0%|          | 0/1 [00:00<?, ?it/s]"
      ]
     },
     "metadata": {},
     "output_type": "display_data"
    },
    {
     "name": "stdout",
     "output_type": "stream",
     "text": [
      "valid (184/1000) exact_match01: 0.0 | exact_match01/std: 0.0 | exact_match05: 0.0 | exact_match05/std: 0.0 | loss: 0.09467118978500366 | loss/mean: 0.09467118978500366 | loss/std: 0.0 | lr: 0.0001 | momentum: 0.9\n",
      "* Epoch (184/1000) \n"
     ]
    },
    {
     "data": {
      "application/vnd.jupyter.widget-view+json": {
       "model_id": "472f4d38ba7d45328c5d580e5d50371f",
       "version_major": 2,
       "version_minor": 0
      },
      "text/plain": [
       "185/1000 * Epoch (train):   0%|          | 0/1 [00:00<?, ?it/s]"
      ]
     },
     "metadata": {},
     "output_type": "display_data"
    },
    {
     "name": "stdout",
     "output_type": "stream",
     "text": [
      "train (185/1000) loss: 0.20875222980976105 | loss/mean: 0.20875222980976105 | loss/std: 0.0 | lr: 0.0001 | momentum: 0.9\n"
     ]
    },
    {
     "data": {
      "application/vnd.jupyter.widget-view+json": {
       "model_id": "e73c874d98b04e9b87a5a0f845853351",
       "version_major": 2,
       "version_minor": 0
      },
      "text/plain": [
       "185/1000 * Epoch (valid):   0%|          | 0/1 [00:00<?, ?it/s]"
      ]
     },
     "metadata": {},
     "output_type": "display_data"
    },
    {
     "name": "stdout",
     "output_type": "stream",
     "text": [
      "valid (185/1000) exact_match01: 0.0 | exact_match01/std: 0.0 | exact_match05: 0.0 | exact_match05/std: 0.0 | loss: 0.09283386915922165 | loss/mean: 0.09283386915922165 | loss/std: 0.0 | lr: 0.0001 | momentum: 0.9\n",
      "* Epoch (185/1000) \n"
     ]
    },
    {
     "data": {
      "application/vnd.jupyter.widget-view+json": {
       "model_id": "560ca6f5b8c94393b721bf0ea660c5bc",
       "version_major": 2,
       "version_minor": 0
      },
      "text/plain": [
       "186/1000 * Epoch (train):   0%|          | 0/1 [00:00<?, ?it/s]"
      ]
     },
     "metadata": {},
     "output_type": "display_data"
    },
    {
     "name": "stdout",
     "output_type": "stream",
     "text": [
      "train (186/1000) loss: 0.20056267082691193 | loss/mean: 0.20056267082691193 | loss/std: 0.0 | lr: 0.0001 | momentum: 0.9\n"
     ]
    },
    {
     "data": {
      "application/vnd.jupyter.widget-view+json": {
       "model_id": "6166a4edec5b4d2aae00561ca00680f9",
       "version_major": 2,
       "version_minor": 0
      },
      "text/plain": [
       "186/1000 * Epoch (valid):   0%|          | 0/1 [00:00<?, ?it/s]"
      ]
     },
     "metadata": {},
     "output_type": "display_data"
    },
    {
     "name": "stdout",
     "output_type": "stream",
     "text": [
      "valid (186/1000) exact_match01: 0.0 | exact_match01/std: 0.0 | exact_match05: 0.0 | exact_match05/std: 0.0 | loss: 0.09100546687841415 | loss/mean: 0.09100546687841415 | loss/std: 0.0 | lr: 0.0001 | momentum: 0.9\n",
      "* Epoch (186/1000) \n"
     ]
    },
    {
     "data": {
      "application/vnd.jupyter.widget-view+json": {
       "model_id": "f90f2e0946ea441ea4eae9ff94ccab48",
       "version_major": 2,
       "version_minor": 0
      },
      "text/plain": [
       "187/1000 * Epoch (train):   0%|          | 0/1 [00:00<?, ?it/s]"
      ]
     },
     "metadata": {},
     "output_type": "display_data"
    },
    {
     "name": "stdout",
     "output_type": "stream",
     "text": [
      "train (187/1000) loss: 0.20130079984664917 | loss/mean: 0.20130079984664917 | loss/std: 0.0 | lr: 0.0001 | momentum: 0.9\n"
     ]
    },
    {
     "data": {
      "application/vnd.jupyter.widget-view+json": {
       "model_id": "1d6bc405f8844beeb3d702126ca24e1b",
       "version_major": 2,
       "version_minor": 0
      },
      "text/plain": [
       "187/1000 * Epoch (valid):   0%|          | 0/1 [00:00<?, ?it/s]"
      ]
     },
     "metadata": {},
     "output_type": "display_data"
    },
    {
     "name": "stdout",
     "output_type": "stream",
     "text": [
      "valid (187/1000) exact_match01: 0.0 | exact_match01/std: 0.0 | exact_match05: 0.0 | exact_match05/std: 0.0 | loss: 0.08923294395208359 | loss/mean: 0.08923294395208359 | loss/std: 0.0 | lr: 0.0001 | momentum: 0.9\n",
      "* Epoch (187/1000) \n"
     ]
    },
    {
     "data": {
      "application/vnd.jupyter.widget-view+json": {
       "model_id": "ae2ffc53d40445f6b1679e2057a062f0",
       "version_major": 2,
       "version_minor": 0
      },
      "text/plain": [
       "188/1000 * Epoch (train):   0%|          | 0/1 [00:00<?, ?it/s]"
      ]
     },
     "metadata": {},
     "output_type": "display_data"
    },
    {
     "name": "stdout",
     "output_type": "stream",
     "text": [
      "train (188/1000) loss: 0.17958326637744904 | loss/mean: 0.17958326637744904 | loss/std: 0.0 | lr: 0.0001 | momentum: 0.9\n"
     ]
    },
    {
     "data": {
      "application/vnd.jupyter.widget-view+json": {
       "model_id": "638b4f222a9f433f95bc67d1f058f8c2",
       "version_major": 2,
       "version_minor": 0
      },
      "text/plain": [
       "188/1000 * Epoch (valid):   0%|          | 0/1 [00:00<?, ?it/s]"
      ]
     },
     "metadata": {},
     "output_type": "display_data"
    },
    {
     "name": "stdout",
     "output_type": "stream",
     "text": [
      "valid (188/1000) exact_match01: 0.0 | exact_match01/std: 0.0 | exact_match05: 0.0 | exact_match05/std: 0.0 | loss: 0.08752211183309555 | loss/mean: 0.08752211183309555 | loss/std: 0.0 | lr: 0.0001 | momentum: 0.9\n",
      "* Epoch (188/1000) \n"
     ]
    },
    {
     "data": {
      "application/vnd.jupyter.widget-view+json": {
       "model_id": "82bcc63b91fe47458fa14151919d8aec",
       "version_major": 2,
       "version_minor": 0
      },
      "text/plain": [
       "189/1000 * Epoch (train):   0%|          | 0/1 [00:00<?, ?it/s]"
      ]
     },
     "metadata": {},
     "output_type": "display_data"
    },
    {
     "name": "stdout",
     "output_type": "stream",
     "text": [
      "train (189/1000) loss: 0.19085699319839478 | loss/mean: 0.19085699319839478 | loss/std: 0.0 | lr: 0.0001 | momentum: 0.9\n"
     ]
    },
    {
     "data": {
      "application/vnd.jupyter.widget-view+json": {
       "model_id": "3e09661fd8164d80a9ff7870493c04b6",
       "version_major": 2,
       "version_minor": 0
      },
      "text/plain": [
       "189/1000 * Epoch (valid):   0%|          | 0/1 [00:00<?, ?it/s]"
      ]
     },
     "metadata": {},
     "output_type": "display_data"
    },
    {
     "name": "stdout",
     "output_type": "stream",
     "text": [
      "valid (189/1000) exact_match01: 0.0 | exact_match01/std: 0.0 | exact_match05: 0.0 | exact_match05/std: 0.0 | loss: 0.08587575703859329 | loss/mean: 0.08587575703859329 | loss/std: 0.0 | lr: 0.0001 | momentum: 0.9\n",
      "* Epoch (189/1000) \n"
     ]
    },
    {
     "data": {
      "application/vnd.jupyter.widget-view+json": {
       "model_id": "bfa318b22d2e4e9b864f084f49fadd54",
       "version_major": 2,
       "version_minor": 0
      },
      "text/plain": [
       "190/1000 * Epoch (train):   0%|          | 0/1 [00:00<?, ?it/s]"
      ]
     },
     "metadata": {},
     "output_type": "display_data"
    },
    {
     "name": "stdout",
     "output_type": "stream",
     "text": [
      "train (190/1000) loss: 0.1868409663438797 | loss/mean: 0.1868409663438797 | loss/std: 0.0 | lr: 0.0001 | momentum: 0.9\n"
     ]
    },
    {
     "data": {
      "application/vnd.jupyter.widget-view+json": {
       "model_id": "5a6755bebcdb4e63a3db10f16609babb",
       "version_major": 2,
       "version_minor": 0
      },
      "text/plain": [
       "190/1000 * Epoch (valid):   0%|          | 0/1 [00:00<?, ?it/s]"
      ]
     },
     "metadata": {},
     "output_type": "display_data"
    },
    {
     "name": "stdout",
     "output_type": "stream",
     "text": [
      "valid (190/1000) exact_match01: 0.0 | exact_match01/std: 0.0 | exact_match05: 0.0 | exact_match05/std: 0.0 | loss: 0.0842670127749443 | loss/mean: 0.0842670127749443 | loss/std: 0.0 | lr: 0.0001 | momentum: 0.9\n",
      "* Epoch (190/1000) \n"
     ]
    },
    {
     "data": {
      "application/vnd.jupyter.widget-view+json": {
       "model_id": "6e9010cfa9f943449ce74924f191c7d7",
       "version_major": 2,
       "version_minor": 0
      },
      "text/plain": [
       "191/1000 * Epoch (train):   0%|          | 0/1 [00:00<?, ?it/s]"
      ]
     },
     "metadata": {},
     "output_type": "display_data"
    },
    {
     "name": "stdout",
     "output_type": "stream",
     "text": [
      "train (191/1000) loss: 0.1973327398300171 | loss/mean: 0.1973327398300171 | loss/std: 0.0 | lr: 0.0001 | momentum: 0.9\n"
     ]
    },
    {
     "data": {
      "application/vnd.jupyter.widget-view+json": {
       "model_id": "54296fac887e4910b9bb68a01effe945",
       "version_major": 2,
       "version_minor": 0
      },
      "text/plain": [
       "191/1000 * Epoch (valid):   0%|          | 0/1 [00:00<?, ?it/s]"
      ]
     },
     "metadata": {},
     "output_type": "display_data"
    },
    {
     "name": "stdout",
     "output_type": "stream",
     "text": [
      "valid (191/1000) exact_match01: 0.0 | exact_match01/std: 0.0 | exact_match05: 0.0 | exact_match05/std: 0.0 | loss: 0.08260492235422134 | loss/mean: 0.08260492235422134 | loss/std: 0.0 | lr: 0.0001 | momentum: 0.9\n",
      "* Epoch (191/1000) \n"
     ]
    },
    {
     "data": {
      "application/vnd.jupyter.widget-view+json": {
       "model_id": "30b835ec9d704f3190d64c566dcad059",
       "version_major": 2,
       "version_minor": 0
      },
      "text/plain": [
       "192/1000 * Epoch (train):   0%|          | 0/1 [00:00<?, ?it/s]"
      ]
     },
     "metadata": {},
     "output_type": "display_data"
    },
    {
     "name": "stdout",
     "output_type": "stream",
     "text": [
      "train (192/1000) loss: 0.17586202919483185 | loss/mean: 0.17586202919483185 | loss/std: 0.0 | lr: 0.0001 | momentum: 0.9\n"
     ]
    },
    {
     "data": {
      "application/vnd.jupyter.widget-view+json": {
       "model_id": "7d0e6a2a136b4e4fa0ea3eb4d41424ad",
       "version_major": 2,
       "version_minor": 0
      },
      "text/plain": [
       "192/1000 * Epoch (valid):   0%|          | 0/1 [00:00<?, ?it/s]"
      ]
     },
     "metadata": {},
     "output_type": "display_data"
    },
    {
     "name": "stdout",
     "output_type": "stream",
     "text": [
      "valid (192/1000) exact_match01: 0.0 | exact_match01/std: 0.0 | exact_match05: 0.0 | exact_match05/std: 0.0 | loss: 0.08102386444807053 | loss/mean: 0.08102386444807053 | loss/std: 0.0 | lr: 0.0001 | momentum: 0.9\n",
      "* Epoch (192/1000) \n"
     ]
    },
    {
     "data": {
      "application/vnd.jupyter.widget-view+json": {
       "model_id": "ec3deaa3ed3645eb92ee8b18e01f7738",
       "version_major": 2,
       "version_minor": 0
      },
      "text/plain": [
       "193/1000 * Epoch (train):   0%|          | 0/1 [00:00<?, ?it/s]"
      ]
     },
     "metadata": {},
     "output_type": "display_data"
    },
    {
     "name": "stdout",
     "output_type": "stream",
     "text": [
      "train (193/1000) loss: 0.18384738266468048 | loss/mean: 0.18384738266468048 | loss/std: 0.0 | lr: 0.0001 | momentum: 0.9\n"
     ]
    },
    {
     "data": {
      "application/vnd.jupyter.widget-view+json": {
       "model_id": "d1a72feebc464c84be5c154c6086e20e",
       "version_major": 2,
       "version_minor": 0
      },
      "text/plain": [
       "193/1000 * Epoch (valid):   0%|          | 0/1 [00:00<?, ?it/s]"
      ]
     },
     "metadata": {},
     "output_type": "display_data"
    },
    {
     "name": "stdout",
     "output_type": "stream",
     "text": [
      "valid (193/1000) exact_match01: 0.0 | exact_match01/std: 0.0 | exact_match05: 0.0 | exact_match05/std: 0.0 | loss: 0.07948983460664749 | loss/mean: 0.07948983460664749 | loss/std: 0.0 | lr: 0.0001 | momentum: 0.9\n",
      "* Epoch (193/1000) \n"
     ]
    },
    {
     "data": {
      "application/vnd.jupyter.widget-view+json": {
       "model_id": "41faf08a6556476cab97340ede7c7a56",
       "version_major": 2,
       "version_minor": 0
      },
      "text/plain": [
       "194/1000 * Epoch (train):   0%|          | 0/1 [00:00<?, ?it/s]"
      ]
     },
     "metadata": {},
     "output_type": "display_data"
    },
    {
     "name": "stdout",
     "output_type": "stream",
     "text": [
      "train (194/1000) loss: 0.17622683942317963 | loss/mean: 0.17622683942317963 | loss/std: 0.0 | lr: 0.0001 | momentum: 0.9\n"
     ]
    },
    {
     "data": {
      "application/vnd.jupyter.widget-view+json": {
       "model_id": "db4dbe2035074db3af31f5aff9345a2f",
       "version_major": 2,
       "version_minor": 0
      },
      "text/plain": [
       "194/1000 * Epoch (valid):   0%|          | 0/1 [00:00<?, ?it/s]"
      ]
     },
     "metadata": {},
     "output_type": "display_data"
    },
    {
     "name": "stdout",
     "output_type": "stream",
     "text": [
      "valid (194/1000) exact_match01: 0.0 | exact_match01/std: 0.0 | exact_match05: 0.0 | exact_match05/std: 0.0 | loss: 0.0780307725071907 | loss/mean: 0.0780307725071907 | loss/std: 0.0 | lr: 0.0001 | momentum: 0.9\n",
      "* Epoch (194/1000) \n"
     ]
    },
    {
     "data": {
      "application/vnd.jupyter.widget-view+json": {
       "model_id": "0987dcb462374e348e69287bcae0da2a",
       "version_major": 2,
       "version_minor": 0
      },
      "text/plain": [
       "195/1000 * Epoch (train):   0%|          | 0/1 [00:00<?, ?it/s]"
      ]
     },
     "metadata": {},
     "output_type": "display_data"
    },
    {
     "name": "stdout",
     "output_type": "stream",
     "text": [
      "train (195/1000) loss: 0.16910502314567566 | loss/mean: 0.16910502314567566 | loss/std: 0.0 | lr: 0.0001 | momentum: 0.9\n"
     ]
    },
    {
     "data": {
      "application/vnd.jupyter.widget-view+json": {
       "model_id": "dda2cfec12dd4755ab9e788173d5e2c3",
       "version_major": 2,
       "version_minor": 0
      },
      "text/plain": [
       "195/1000 * Epoch (valid):   0%|          | 0/1 [00:00<?, ?it/s]"
      ]
     },
     "metadata": {},
     "output_type": "display_data"
    },
    {
     "name": "stdout",
     "output_type": "stream",
     "text": [
      "valid (195/1000) exact_match01: 0.0 | exact_match01/std: 0.0 | exact_match05: 0.0 | exact_match05/std: 0.0 | loss: 0.07657881826162338 | loss/mean: 0.07657881826162338 | loss/std: 0.0 | lr: 0.0001 | momentum: 0.9\n",
      "* Epoch (195/1000) \n"
     ]
    },
    {
     "data": {
      "application/vnd.jupyter.widget-view+json": {
       "model_id": "0a44dba76197443f92e00381de9b7f35",
       "version_major": 2,
       "version_minor": 0
      },
      "text/plain": [
       "196/1000 * Epoch (train):   0%|          | 0/1 [00:00<?, ?it/s]"
      ]
     },
     "metadata": {},
     "output_type": "display_data"
    },
    {
     "name": "stdout",
     "output_type": "stream",
     "text": [
      "train (196/1000) loss: 0.17003963887691498 | loss/mean: 0.17003963887691498 | loss/std: 0.0 | lr: 0.0001 | momentum: 0.9\n"
     ]
    },
    {
     "data": {
      "application/vnd.jupyter.widget-view+json": {
       "model_id": "14faec9da0a942028d498385c96843ae",
       "version_major": 2,
       "version_minor": 0
      },
      "text/plain": [
       "196/1000 * Epoch (valid):   0%|          | 0/1 [00:00<?, ?it/s]"
      ]
     },
     "metadata": {},
     "output_type": "display_data"
    },
    {
     "name": "stdout",
     "output_type": "stream",
     "text": [
      "valid (196/1000) exact_match01: 0.0 | exact_match01/std: 0.0 | exact_match05: 0.0 | exact_match05/std: 0.0 | loss: 0.0751502513885498 | loss/mean: 0.0751502513885498 | loss/std: 0.0 | lr: 0.0001 | momentum: 0.9\n",
      "* Epoch (196/1000) \n"
     ]
    },
    {
     "data": {
      "application/vnd.jupyter.widget-view+json": {
       "model_id": "453a0f6faa6140a38938f84478f2b97b",
       "version_major": 2,
       "version_minor": 0
      },
      "text/plain": [
       "197/1000 * Epoch (train):   0%|          | 0/1 [00:00<?, ?it/s]"
      ]
     },
     "metadata": {},
     "output_type": "display_data"
    },
    {
     "name": "stdout",
     "output_type": "stream",
     "text": [
      "train (197/1000) loss: 0.1939891278743744 | loss/mean: 0.1939891278743744 | loss/std: 0.0 | lr: 0.0001 | momentum: 0.9\n"
     ]
    },
    {
     "data": {
      "application/vnd.jupyter.widget-view+json": {
       "model_id": "3c28b6fb66db428b944e71256e77dda8",
       "version_major": 2,
       "version_minor": 0
      },
      "text/plain": [
       "197/1000 * Epoch (valid):   0%|          | 0/1 [00:00<?, ?it/s]"
      ]
     },
     "metadata": {},
     "output_type": "display_data"
    },
    {
     "name": "stdout",
     "output_type": "stream",
     "text": [
      "valid (197/1000) exact_match01: 0.0 | exact_match01/std: 0.0 | exact_match05: 0.0 | exact_match05/std: 0.0 | loss: 0.07381469756364822 | loss/mean: 0.07381469756364822 | loss/std: 0.0 | lr: 0.0001 | momentum: 0.9\n",
      "* Epoch (197/1000) \n"
     ]
    },
    {
     "data": {
      "application/vnd.jupyter.widget-view+json": {
       "model_id": "3b712f279e674db18131c8492b8f649d",
       "version_major": 2,
       "version_minor": 0
      },
      "text/plain": [
       "198/1000 * Epoch (train):   0%|          | 0/1 [00:00<?, ?it/s]"
      ]
     },
     "metadata": {},
     "output_type": "display_data"
    },
    {
     "name": "stdout",
     "output_type": "stream",
     "text": [
      "train (198/1000) loss: 0.1697843223810196 | loss/mean: 0.1697843223810196 | loss/std: 0.0 | lr: 0.0001 | momentum: 0.9\n"
     ]
    },
    {
     "data": {
      "application/vnd.jupyter.widget-view+json": {
       "model_id": "64bcbd6162cc42f18526f75d23301764",
       "version_major": 2,
       "version_minor": 0
      },
      "text/plain": [
       "198/1000 * Epoch (valid):   0%|          | 0/1 [00:00<?, ?it/s]"
      ]
     },
     "metadata": {},
     "output_type": "display_data"
    },
    {
     "name": "stdout",
     "output_type": "stream",
     "text": [
      "valid (198/1000) exact_match01: 0.0 | exact_match01/std: 0.0 | exact_match05: 0.0 | exact_match05/std: 0.0 | loss: 0.07253836840391159 | loss/mean: 0.07253836840391159 | loss/std: 0.0 | lr: 0.0001 | momentum: 0.9\n",
      "* Epoch (198/1000) \n"
     ]
    },
    {
     "data": {
      "application/vnd.jupyter.widget-view+json": {
       "model_id": "21bee3fc949c41f099493fdf57b370cc",
       "version_major": 2,
       "version_minor": 0
      },
      "text/plain": [
       "199/1000 * Epoch (train):   0%|          | 0/1 [00:00<?, ?it/s]"
      ]
     },
     "metadata": {},
     "output_type": "display_data"
    },
    {
     "name": "stdout",
     "output_type": "stream",
     "text": [
      "train (199/1000) loss: 0.16874167323112488 | loss/mean: 0.16874167323112488 | loss/std: 0.0 | lr: 0.0001 | momentum: 0.9\n"
     ]
    },
    {
     "data": {
      "application/vnd.jupyter.widget-view+json": {
       "model_id": "bb87c609979144db89800ea92d10139b",
       "version_major": 2,
       "version_minor": 0
      },
      "text/plain": [
       "199/1000 * Epoch (valid):   0%|          | 0/1 [00:00<?, ?it/s]"
      ]
     },
     "metadata": {},
     "output_type": "display_data"
    },
    {
     "name": "stdout",
     "output_type": "stream",
     "text": [
      "valid (199/1000) exact_match01: 0.0 | exact_match01/std: 0.0 | exact_match05: 0.0 | exact_match05/std: 0.0 | loss: 0.07126136869192123 | loss/mean: 0.07126136869192123 | loss/std: 0.0 | lr: 0.0001 | momentum: 0.9\n",
      "* Epoch (199/1000) \n"
     ]
    },
    {
     "data": {
      "application/vnd.jupyter.widget-view+json": {
       "model_id": "c535bd915b8b410fba7a58af121a1985",
       "version_major": 2,
       "version_minor": 0
      },
      "text/plain": [
       "200/1000 * Epoch (train):   0%|          | 0/1 [00:00<?, ?it/s]"
      ]
     },
     "metadata": {},
     "output_type": "display_data"
    },
    {
     "name": "stdout",
     "output_type": "stream",
     "text": [
      "train (200/1000) loss: 0.17349591851234436 | loss/mean: 0.17349591851234436 | loss/std: 0.0 | lr: 0.0001 | momentum: 0.9\n"
     ]
    },
    {
     "data": {
      "application/vnd.jupyter.widget-view+json": {
       "model_id": "319c6dbc89434417b286193f2f307e38",
       "version_major": 2,
       "version_minor": 0
      },
      "text/plain": [
       "200/1000 * Epoch (valid):   0%|          | 0/1 [00:00<?, ?it/s]"
      ]
     },
     "metadata": {},
     "output_type": "display_data"
    },
    {
     "name": "stdout",
     "output_type": "stream",
     "text": [
      "valid (200/1000) exact_match01: 0.0 | exact_match01/std: 0.0 | exact_match05: 0.0 | exact_match05/std: 0.0 | loss: 0.06999871134757996 | loss/mean: 0.06999871134757996 | loss/std: 0.0 | lr: 0.0001 | momentum: 0.9\n",
      "* Epoch (200/1000) \n"
     ]
    },
    {
     "data": {
      "application/vnd.jupyter.widget-view+json": {
       "model_id": "38a35cd433e841f9a719a4dfb1760249",
       "version_major": 2,
       "version_minor": 0
      },
      "text/plain": [
       "201/1000 * Epoch (train):   0%|          | 0/1 [00:00<?, ?it/s]"
      ]
     },
     "metadata": {},
     "output_type": "display_data"
    },
    {
     "name": "stdout",
     "output_type": "stream",
     "text": [
      "train (201/1000) loss: 0.18304209411144257 | loss/mean: 0.18304209411144257 | loss/std: 0.0 | lr: 0.0001 | momentum: 0.9\n"
     ]
    },
    {
     "data": {
      "application/vnd.jupyter.widget-view+json": {
       "model_id": "8c8407c1f9474c00814fd2908cbc606e",
       "version_major": 2,
       "version_minor": 0
      },
      "text/plain": [
       "201/1000 * Epoch (valid):   0%|          | 0/1 [00:00<?, ?it/s]"
      ]
     },
     "metadata": {},
     "output_type": "display_data"
    },
    {
     "name": "stdout",
     "output_type": "stream",
     "text": [
      "valid (201/1000) exact_match01: 0.0 | exact_match01/std: 0.0 | exact_match05: 0.0 | exact_match05/std: 0.0 | loss: 0.06874669343233109 | loss/mean: 0.06874669343233109 | loss/std: 0.0 | lr: 0.0001 | momentum: 0.9\n",
      "* Epoch (201/1000) \n"
     ]
    },
    {
     "data": {
      "application/vnd.jupyter.widget-view+json": {
       "model_id": "f9096c99c4324cf293f73b51aaca8e00",
       "version_major": 2,
       "version_minor": 0
      },
      "text/plain": [
       "202/1000 * Epoch (train):   0%|          | 0/1 [00:00<?, ?it/s]"
      ]
     },
     "metadata": {},
     "output_type": "display_data"
    },
    {
     "name": "stdout",
     "output_type": "stream",
     "text": [
      "train (202/1000) loss: 0.1495872586965561 | loss/mean: 0.1495872586965561 | loss/std: 0.0 | lr: 0.0001 | momentum: 0.9\n"
     ]
    },
    {
     "data": {
      "application/vnd.jupyter.widget-view+json": {
       "model_id": "cfa841aa02c648b8888957ebc1035249",
       "version_major": 2,
       "version_minor": 0
      },
      "text/plain": [
       "202/1000 * Epoch (valid):   0%|          | 0/1 [00:00<?, ?it/s]"
      ]
     },
     "metadata": {},
     "output_type": "display_data"
    },
    {
     "name": "stdout",
     "output_type": "stream",
     "text": [
      "valid (202/1000) exact_match01: 0.0 | exact_match01/std: 0.0 | exact_match05: 0.0 | exact_match05/std: 0.0 | loss: 0.06748492270708084 | loss/mean: 0.06748492270708084 | loss/std: 0.0 | lr: 0.0001 | momentum: 0.9\n",
      "* Epoch (202/1000) \n"
     ]
    },
    {
     "data": {
      "application/vnd.jupyter.widget-view+json": {
       "model_id": "ddf3d77eedce40d093d5dbaa5aefbb5a",
       "version_major": 2,
       "version_minor": 0
      },
      "text/plain": [
       "203/1000 * Epoch (train):   0%|          | 0/1 [00:00<?, ?it/s]"
      ]
     },
     "metadata": {},
     "output_type": "display_data"
    },
    {
     "name": "stdout",
     "output_type": "stream",
     "text": [
      "train (203/1000) loss: 0.16871553659439087 | loss/mean: 0.16871553659439087 | loss/std: 0.0 | lr: 0.0001 | momentum: 0.9\n"
     ]
    },
    {
     "data": {
      "application/vnd.jupyter.widget-view+json": {
       "model_id": "5dee61bcffea473a8017ec69f2d53d7f",
       "version_major": 2,
       "version_minor": 0
      },
      "text/plain": [
       "203/1000 * Epoch (valid):   0%|          | 0/1 [00:00<?, ?it/s]"
      ]
     },
     "metadata": {},
     "output_type": "display_data"
    },
    {
     "name": "stdout",
     "output_type": "stream",
     "text": [
      "valid (203/1000) exact_match01: 0.0 | exact_match01/std: 0.0 | exact_match05: 0.0 | exact_match05/std: 0.0 | loss: 0.0662430003285408 | loss/mean: 0.0662430003285408 | loss/std: 0.0 | lr: 0.0001 | momentum: 0.9\n",
      "* Epoch (203/1000) \n"
     ]
    },
    {
     "data": {
      "application/vnd.jupyter.widget-view+json": {
       "model_id": "78db56dd544542e49f3a6f228caed3a6",
       "version_major": 2,
       "version_minor": 0
      },
      "text/plain": [
       "204/1000 * Epoch (train):   0%|          | 0/1 [00:00<?, ?it/s]"
      ]
     },
     "metadata": {},
     "output_type": "display_data"
    },
    {
     "name": "stdout",
     "output_type": "stream",
     "text": [
      "train (204/1000) loss: 0.1545141339302063 | loss/mean: 0.1545141339302063 | loss/std: 0.0 | lr: 0.0001 | momentum: 0.9\n"
     ]
    },
    {
     "data": {
      "application/vnd.jupyter.widget-view+json": {
       "model_id": "ccaac5bc8d6c4f7e9b72f311ce0a681b",
       "version_major": 2,
       "version_minor": 0
      },
      "text/plain": [
       "204/1000 * Epoch (valid):   0%|          | 0/1 [00:00<?, ?it/s]"
      ]
     },
     "metadata": {},
     "output_type": "display_data"
    },
    {
     "name": "stdout",
     "output_type": "stream",
     "text": [
      "valid (204/1000) exact_match01: 0.0 | exact_match01/std: 0.0 | exact_match05: 0.0 | exact_match05/std: 0.0 | loss: 0.06501675397157669 | loss/mean: 0.06501675397157669 | loss/std: 0.0 | lr: 0.0001 | momentum: 0.9\n",
      "* Epoch (204/1000) \n"
     ]
    },
    {
     "data": {
      "application/vnd.jupyter.widget-view+json": {
       "model_id": "1e5530ee450446738cad71630e6843d8",
       "version_major": 2,
       "version_minor": 0
      },
      "text/plain": [
       "205/1000 * Epoch (train):   0%|          | 0/1 [00:00<?, ?it/s]"
      ]
     },
     "metadata": {},
     "output_type": "display_data"
    },
    {
     "name": "stdout",
     "output_type": "stream",
     "text": [
      "train (205/1000) loss: 0.15138767659664154 | loss/mean: 0.15138767659664154 | loss/std: 0.0 | lr: 0.0001 | momentum: 0.9\n"
     ]
    },
    {
     "data": {
      "application/vnd.jupyter.widget-view+json": {
       "model_id": "a42744f5ded84dca8967596f92993974",
       "version_major": 2,
       "version_minor": 0
      },
      "text/plain": [
       "205/1000 * Epoch (valid):   0%|          | 0/1 [00:00<?, ?it/s]"
      ]
     },
     "metadata": {},
     "output_type": "display_data"
    },
    {
     "name": "stdout",
     "output_type": "stream",
     "text": [
      "valid (205/1000) exact_match01: 0.0 | exact_match01/std: 0.0 | exact_match05: 0.0 | exact_match05/std: 0.0 | loss: 0.06385427713394165 | loss/mean: 0.06385427713394165 | loss/std: 0.0 | lr: 0.0001 | momentum: 0.9\n",
      "* Epoch (205/1000) \n"
     ]
    },
    {
     "data": {
      "application/vnd.jupyter.widget-view+json": {
       "model_id": "4a753dcec5ae45b69897b86da1925b12",
       "version_major": 2,
       "version_minor": 0
      },
      "text/plain": [
       "206/1000 * Epoch (train):   0%|          | 0/1 [00:00<?, ?it/s]"
      ]
     },
     "metadata": {},
     "output_type": "display_data"
    },
    {
     "name": "stdout",
     "output_type": "stream",
     "text": [
      "train (206/1000) loss: 0.1520954668521881 | loss/mean: 0.1520954668521881 | loss/std: 0.0 | lr: 0.0001 | momentum: 0.9\n"
     ]
    },
    {
     "data": {
      "application/vnd.jupyter.widget-view+json": {
       "model_id": "5fc1aa188d0d4fa6b11b217526298b77",
       "version_major": 2,
       "version_minor": 0
      },
      "text/plain": [
       "206/1000 * Epoch (valid):   0%|          | 0/1 [00:00<?, ?it/s]"
      ]
     },
     "metadata": {},
     "output_type": "display_data"
    },
    {
     "name": "stdout",
     "output_type": "stream",
     "text": [
      "valid (206/1000) exact_match01: 0.0 | exact_match01/std: 0.0 | exact_match05: 0.0 | exact_match05/std: 0.0 | loss: 0.06268075853586197 | loss/mean: 0.06268075853586197 | loss/std: 0.0 | lr: 0.0001 | momentum: 0.9\n",
      "* Epoch (206/1000) \n"
     ]
    },
    {
     "data": {
      "application/vnd.jupyter.widget-view+json": {
       "model_id": "ed195792fca34478be30890d98498586",
       "version_major": 2,
       "version_minor": 0
      },
      "text/plain": [
       "207/1000 * Epoch (train):   0%|          | 0/1 [00:00<?, ?it/s]"
      ]
     },
     "metadata": {},
     "output_type": "display_data"
    },
    {
     "name": "stdout",
     "output_type": "stream",
     "text": [
      "train (207/1000) loss: 0.1435084193944931 | loss/mean: 0.1435084193944931 | loss/std: 0.0 | lr: 0.0001 | momentum: 0.9\n"
     ]
    },
    {
     "data": {
      "application/vnd.jupyter.widget-view+json": {
       "model_id": "d6db31daefb84f50883a3d892aaa8cb8",
       "version_major": 2,
       "version_minor": 0
      },
      "text/plain": [
       "207/1000 * Epoch (valid):   0%|          | 0/1 [00:00<?, ?it/s]"
      ]
     },
     "metadata": {},
     "output_type": "display_data"
    },
    {
     "name": "stdout",
     "output_type": "stream",
     "text": [
      "valid (207/1000) exact_match01: 0.0 | exact_match01/std: 0.0 | exact_match05: 0.0 | exact_match05/std: 0.0 | loss: 0.06151344254612923 | loss/mean: 0.06151344254612923 | loss/std: 0.0 | lr: 0.0001 | momentum: 0.9\n",
      "* Epoch (207/1000) \n"
     ]
    },
    {
     "data": {
      "application/vnd.jupyter.widget-view+json": {
       "model_id": "b2e96f50f55944a58efb09cd164858fa",
       "version_major": 2,
       "version_minor": 0
      },
      "text/plain": [
       "208/1000 * Epoch (train):   0%|          | 0/1 [00:00<?, ?it/s]"
      ]
     },
     "metadata": {},
     "output_type": "display_data"
    },
    {
     "name": "stdout",
     "output_type": "stream",
     "text": [
      "train (208/1000) loss: 0.1686246395111084 | loss/mean: 0.1686246395111084 | loss/std: 0.0 | lr: 0.0001 | momentum: 0.9\n"
     ]
    },
    {
     "data": {
      "application/vnd.jupyter.widget-view+json": {
       "model_id": "6291c8eae2514f29b940fbdefec2f052",
       "version_major": 2,
       "version_minor": 0
      },
      "text/plain": [
       "208/1000 * Epoch (valid):   0%|          | 0/1 [00:00<?, ?it/s]"
      ]
     },
     "metadata": {},
     "output_type": "display_data"
    },
    {
     "name": "stdout",
     "output_type": "stream",
     "text": [
      "valid (208/1000) exact_match01: 0.0 | exact_match01/std: 0.0 | exact_match05: 0.0 | exact_match05/std: 0.0 | loss: 0.060396235436201096 | loss/mean: 0.060396235436201096 | loss/std: 0.0 | lr: 0.0001 | momentum: 0.9\n",
      "* Epoch (208/1000) \n"
     ]
    },
    {
     "data": {
      "application/vnd.jupyter.widget-view+json": {
       "model_id": "ecaa3359003a4b11a7f1c82e2c52b5b4",
       "version_major": 2,
       "version_minor": 0
      },
      "text/plain": [
       "209/1000 * Epoch (train):   0%|          | 0/1 [00:00<?, ?it/s]"
      ]
     },
     "metadata": {},
     "output_type": "display_data"
    },
    {
     "name": "stdout",
     "output_type": "stream",
     "text": [
      "train (209/1000) loss: 0.14713291823863983 | loss/mean: 0.14713291823863983 | loss/std: 0.0 | lr: 0.0001 | momentum: 0.9\n"
     ]
    },
    {
     "data": {
      "application/vnd.jupyter.widget-view+json": {
       "model_id": "66b0a4d4259143afb369bb12c9563444",
       "version_major": 2,
       "version_minor": 0
      },
      "text/plain": [
       "209/1000 * Epoch (valid):   0%|          | 0/1 [00:00<?, ?it/s]"
      ]
     },
     "metadata": {},
     "output_type": "display_data"
    },
    {
     "name": "stdout",
     "output_type": "stream",
     "text": [
      "valid (209/1000) exact_match01: 0.0 | exact_match01/std: 0.0 | exact_match05: 0.0 | exact_match05/std: 0.0 | loss: 0.05932148918509483 | loss/mean: 0.05932148918509483 | loss/std: 0.0 | lr: 0.0001 | momentum: 0.9\n",
      "* Epoch (209/1000) \n"
     ]
    },
    {
     "data": {
      "application/vnd.jupyter.widget-view+json": {
       "model_id": "e17b1919a332412cbbce6891f82c01ed",
       "version_major": 2,
       "version_minor": 0
      },
      "text/plain": [
       "210/1000 * Epoch (train):   0%|          | 0/1 [00:00<?, ?it/s]"
      ]
     },
     "metadata": {},
     "output_type": "display_data"
    },
    {
     "name": "stdout",
     "output_type": "stream",
     "text": [
      "train (210/1000) loss: 0.15684042870998383 | loss/mean: 0.15684042870998383 | loss/std: 0.0 | lr: 0.0001 | momentum: 0.9\n"
     ]
    },
    {
     "data": {
      "application/vnd.jupyter.widget-view+json": {
       "model_id": "12afc4b4b6844ca7b0dfa8d879e38500",
       "version_major": 2,
       "version_minor": 0
      },
      "text/plain": [
       "210/1000 * Epoch (valid):   0%|          | 0/1 [00:00<?, ?it/s]"
      ]
     },
     "metadata": {},
     "output_type": "display_data"
    },
    {
     "name": "stdout",
     "output_type": "stream",
     "text": [
      "valid (210/1000) exact_match01: 0.0 | exact_match01/std: 0.0 | exact_match05: 0.0 | exact_match05/std: 0.0 | loss: 0.05829990655183792 | loss/mean: 0.05829990655183792 | loss/std: 0.0 | lr: 0.0001 | momentum: 0.9\n",
      "* Epoch (210/1000) \n"
     ]
    },
    {
     "data": {
      "application/vnd.jupyter.widget-view+json": {
       "model_id": "db4d451111354a47bbde80952272dda3",
       "version_major": 2,
       "version_minor": 0
      },
      "text/plain": [
       "211/1000 * Epoch (train):   0%|          | 0/1 [00:00<?, ?it/s]"
      ]
     },
     "metadata": {},
     "output_type": "display_data"
    },
    {
     "name": "stdout",
     "output_type": "stream",
     "text": [
      "train (211/1000) loss: 0.14911052584648132 | loss/mean: 0.14911052584648132 | loss/std: 0.0 | lr: 0.0001 | momentum: 0.9\n"
     ]
    },
    {
     "data": {
      "application/vnd.jupyter.widget-view+json": {
       "model_id": "495e562eb9cb442daef8b53b1b481416",
       "version_major": 2,
       "version_minor": 0
      },
      "text/plain": [
       "211/1000 * Epoch (valid):   0%|          | 0/1 [00:00<?, ?it/s]"
      ]
     },
     "metadata": {},
     "output_type": "display_data"
    },
    {
     "name": "stdout",
     "output_type": "stream",
     "text": [
      "valid (211/1000) exact_match01: 0.0 | exact_match01/std: 0.0 | exact_match05: 0.0 | exact_match05/std: 0.0 | loss: 0.057363349944353104 | loss/mean: 0.057363349944353104 | loss/std: 0.0 | lr: 0.0001 | momentum: 0.9\n",
      "* Epoch (211/1000) \n"
     ]
    },
    {
     "data": {
      "application/vnd.jupyter.widget-view+json": {
       "model_id": "adc0a080d259407a97497af1f75650cd",
       "version_major": 2,
       "version_minor": 0
      },
      "text/plain": [
       "212/1000 * Epoch (train):   0%|          | 0/1 [00:00<?, ?it/s]"
      ]
     },
     "metadata": {},
     "output_type": "display_data"
    },
    {
     "name": "stdout",
     "output_type": "stream",
     "text": [
      "train (212/1000) loss: 0.1387145072221756 | loss/mean: 0.1387145072221756 | loss/std: 0.0 | lr: 0.0001 | momentum: 0.9\n"
     ]
    },
    {
     "data": {
      "application/vnd.jupyter.widget-view+json": {
       "model_id": "07aa7103491c4a54a7d919c601dd2712",
       "version_major": 2,
       "version_minor": 0
      },
      "text/plain": [
       "212/1000 * Epoch (valid):   0%|          | 0/1 [00:00<?, ?it/s]"
      ]
     },
     "metadata": {},
     "output_type": "display_data"
    },
    {
     "name": "stdout",
     "output_type": "stream",
     "text": [
      "valid (212/1000) exact_match01: 0.0 | exact_match01/std: 0.0 | exact_match05: 0.0 | exact_match05/std: 0.0 | loss: 0.05642339214682579 | loss/mean: 0.05642339214682579 | loss/std: 0.0 | lr: 0.0001 | momentum: 0.9\n",
      "* Epoch (212/1000) \n"
     ]
    },
    {
     "data": {
      "application/vnd.jupyter.widget-view+json": {
       "model_id": "e83e63607e9044e08967980fc0326fa6",
       "version_major": 2,
       "version_minor": 0
      },
      "text/plain": [
       "213/1000 * Epoch (train):   0%|          | 0/1 [00:00<?, ?it/s]"
      ]
     },
     "metadata": {},
     "output_type": "display_data"
    },
    {
     "name": "stdout",
     "output_type": "stream",
     "text": [
      "train (213/1000) loss: 0.13735142350196838 | loss/mean: 0.13735142350196838 | loss/std: 0.0 | lr: 0.0001 | momentum: 0.9\n"
     ]
    },
    {
     "data": {
      "application/vnd.jupyter.widget-view+json": {
       "model_id": "670b2fde091c421c84dc82c7e2fed19b",
       "version_major": 2,
       "version_minor": 0
      },
      "text/plain": [
       "213/1000 * Epoch (valid):   0%|          | 0/1 [00:00<?, ?it/s]"
      ]
     },
     "metadata": {},
     "output_type": "display_data"
    },
    {
     "name": "stdout",
     "output_type": "stream",
     "text": [
      "valid (213/1000) exact_match01: 0.0 | exact_match01/std: 0.0 | exact_match05: 0.0 | exact_match05/std: 0.0 | loss: 0.05545428767800331 | loss/mean: 0.05545428767800331 | loss/std: 0.0 | lr: 0.0001 | momentum: 0.9\n",
      "* Epoch (213/1000) \n"
     ]
    },
    {
     "data": {
      "application/vnd.jupyter.widget-view+json": {
       "model_id": "480fd5c9da404b85b97869046e906c50",
       "version_major": 2,
       "version_minor": 0
      },
      "text/plain": [
       "214/1000 * Epoch (train):   0%|          | 0/1 [00:00<?, ?it/s]"
      ]
     },
     "metadata": {},
     "output_type": "display_data"
    },
    {
     "name": "stdout",
     "output_type": "stream",
     "text": [
      "train (214/1000) loss: 0.15586848556995392 | loss/mean: 0.15586848556995392 | loss/std: 0.0 | lr: 0.0001 | momentum: 0.9\n"
     ]
    },
    {
     "data": {
      "application/vnd.jupyter.widget-view+json": {
       "model_id": "299a0d4a8bb544598635115a2724a1af",
       "version_major": 2,
       "version_minor": 0
      },
      "text/plain": [
       "214/1000 * Epoch (valid):   0%|          | 0/1 [00:00<?, ?it/s]"
      ]
     },
     "metadata": {},
     "output_type": "display_data"
    },
    {
     "name": "stdout",
     "output_type": "stream",
     "text": [
      "valid (214/1000) exact_match01: 0.0 | exact_match01/std: 0.0 | exact_match05: 0.0 | exact_match05/std: 0.0 | loss: 0.054567061364650726 | loss/mean: 0.054567061364650726 | loss/std: 0.0 | lr: 0.0001 | momentum: 0.9\n",
      "* Epoch (214/1000) \n"
     ]
    },
    {
     "data": {
      "application/vnd.jupyter.widget-view+json": {
       "model_id": "edfe06640b6c4bf99c531033bbf4ceb1",
       "version_major": 2,
       "version_minor": 0
      },
      "text/plain": [
       "215/1000 * Epoch (train):   0%|          | 0/1 [00:00<?, ?it/s]"
      ]
     },
     "metadata": {},
     "output_type": "display_data"
    },
    {
     "name": "stdout",
     "output_type": "stream",
     "text": [
      "train (215/1000) loss: 0.1420709788799286 | loss/mean: 0.1420709788799286 | loss/std: 0.0 | lr: 0.0001 | momentum: 0.9\n"
     ]
    },
    {
     "data": {
      "application/vnd.jupyter.widget-view+json": {
       "model_id": "32ee915c532a49f9b8256977b1da083b",
       "version_major": 2,
       "version_minor": 0
      },
      "text/plain": [
       "215/1000 * Epoch (valid):   0%|          | 0/1 [00:00<?, ?it/s]"
      ]
     },
     "metadata": {},
     "output_type": "display_data"
    },
    {
     "name": "stdout",
     "output_type": "stream",
     "text": [
      "valid (215/1000) exact_match01: 0.0 | exact_match01/std: 0.0 | exact_match05: 0.0 | exact_match05/std: 0.0 | loss: 0.0537157766520977 | loss/mean: 0.0537157766520977 | loss/std: 0.0 | lr: 0.0001 | momentum: 0.9\n",
      "* Epoch (215/1000) \n"
     ]
    },
    {
     "data": {
      "application/vnd.jupyter.widget-view+json": {
       "model_id": "7b7763b14285444387b4e2b0ebdf4c82",
       "version_major": 2,
       "version_minor": 0
      },
      "text/plain": [
       "216/1000 * Epoch (train):   0%|          | 0/1 [00:00<?, ?it/s]"
      ]
     },
     "metadata": {},
     "output_type": "display_data"
    },
    {
     "name": "stdout",
     "output_type": "stream",
     "text": [
      "train (216/1000) loss: 0.13415159285068512 | loss/mean: 0.13415159285068512 | loss/std: 0.0 | lr: 0.0001 | momentum: 0.9\n"
     ]
    },
    {
     "data": {
      "application/vnd.jupyter.widget-view+json": {
       "model_id": "9234a9e527f54f5586e01d9c222b91c6",
       "version_major": 2,
       "version_minor": 0
      },
      "text/plain": [
       "216/1000 * Epoch (valid):   0%|          | 0/1 [00:00<?, ?it/s]"
      ]
     },
     "metadata": {},
     "output_type": "display_data"
    },
    {
     "name": "stdout",
     "output_type": "stream",
     "text": [
      "valid (216/1000) exact_match01: 0.0 | exact_match01/std: 0.0 | exact_match05: 0.0 | exact_match05/std: 0.0 | loss: 0.0528174564242363 | loss/mean: 0.0528174564242363 | loss/std: 0.0 | lr: 0.0001 | momentum: 0.9\n",
      "* Epoch (216/1000) \n"
     ]
    },
    {
     "data": {
      "application/vnd.jupyter.widget-view+json": {
       "model_id": "a3e01bf78ca14be49166ba38b7c034a0",
       "version_major": 2,
       "version_minor": 0
      },
      "text/plain": [
       "217/1000 * Epoch (train):   0%|          | 0/1 [00:00<?, ?it/s]"
      ]
     },
     "metadata": {},
     "output_type": "display_data"
    },
    {
     "name": "stdout",
     "output_type": "stream",
     "text": [
      "train (217/1000) loss: 0.13423463702201843 | loss/mean: 0.13423463702201843 | loss/std: 0.0 | lr: 0.0001 | momentum: 0.9\n"
     ]
    },
    {
     "data": {
      "application/vnd.jupyter.widget-view+json": {
       "model_id": "e1981dab995f401c84560e5cda23f1e8",
       "version_major": 2,
       "version_minor": 0
      },
      "text/plain": [
       "217/1000 * Epoch (valid):   0%|          | 0/1 [00:00<?, ?it/s]"
      ]
     },
     "metadata": {},
     "output_type": "display_data"
    },
    {
     "name": "stdout",
     "output_type": "stream",
     "text": [
      "valid (217/1000) exact_match01: 0.0 | exact_match01/std: 0.0 | exact_match05: 0.0 | exact_match05/std: 0.0 | loss: 0.05183740332722664 | loss/mean: 0.05183740332722664 | loss/std: 0.0 | lr: 0.0001 | momentum: 0.9\n",
      "* Epoch (217/1000) \n"
     ]
    },
    {
     "data": {
      "application/vnd.jupyter.widget-view+json": {
       "model_id": "73c40d30157c4298b69975ad902d6c88",
       "version_major": 2,
       "version_minor": 0
      },
      "text/plain": [
       "218/1000 * Epoch (train):   0%|          | 0/1 [00:00<?, ?it/s]"
      ]
     },
     "metadata": {},
     "output_type": "display_data"
    },
    {
     "name": "stdout",
     "output_type": "stream",
     "text": [
      "train (218/1000) loss: 0.13030976057052612 | loss/mean: 0.13030976057052612 | loss/std: 0.0 | lr: 0.0001 | momentum: 0.9\n"
     ]
    },
    {
     "data": {
      "application/vnd.jupyter.widget-view+json": {
       "model_id": "2f0fd4a5d1af41d486c43fffa7dc53b5",
       "version_major": 2,
       "version_minor": 0
      },
      "text/plain": [
       "218/1000 * Epoch (valid):   0%|          | 0/1 [00:00<?, ?it/s]"
      ]
     },
     "metadata": {},
     "output_type": "display_data"
    },
    {
     "name": "stdout",
     "output_type": "stream",
     "text": [
      "valid (218/1000) exact_match01: 0.0 | exact_match01/std: 0.0 | exact_match05: 0.0 | exact_match05/std: 0.0 | loss: 0.05092792585492134 | loss/mean: 0.05092792585492134 | loss/std: 0.0 | lr: 0.0001 | momentum: 0.9\n",
      "* Epoch (218/1000) \n"
     ]
    },
    {
     "data": {
      "application/vnd.jupyter.widget-view+json": {
       "model_id": "064b509530214134a40e8b98b19a5030",
       "version_major": 2,
       "version_minor": 0
      },
      "text/plain": [
       "219/1000 * Epoch (train):   0%|          | 0/1 [00:00<?, ?it/s]"
      ]
     },
     "metadata": {},
     "output_type": "display_data"
    },
    {
     "name": "stdout",
     "output_type": "stream",
     "text": [
      "train (219/1000) loss: 0.13995593786239624 | loss/mean: 0.13995593786239624 | loss/std: 0.0 | lr: 0.0001 | momentum: 0.9\n"
     ]
    },
    {
     "data": {
      "application/vnd.jupyter.widget-view+json": {
       "model_id": "48ec0fa2ddb04f0f85c1ca5f15d717e7",
       "version_major": 2,
       "version_minor": 0
      },
      "text/plain": [
       "219/1000 * Epoch (valid):   0%|          | 0/1 [00:00<?, ?it/s]"
      ]
     },
     "metadata": {},
     "output_type": "display_data"
    },
    {
     "name": "stdout",
     "output_type": "stream",
     "text": [
      "valid (219/1000) exact_match01: 0.0 | exact_match01/std: 0.0 | exact_match05: 0.0 | exact_match05/std: 0.0 | loss: 0.05005224794149399 | loss/mean: 0.05005224794149399 | loss/std: 0.0 | lr: 0.0001 | momentum: 0.9\n",
      "* Epoch (219/1000) \n"
     ]
    },
    {
     "data": {
      "application/vnd.jupyter.widget-view+json": {
       "model_id": "d49406cec7044897b1890726a2d83404",
       "version_major": 2,
       "version_minor": 0
      },
      "text/plain": [
       "220/1000 * Epoch (train):   0%|          | 0/1 [00:00<?, ?it/s]"
      ]
     },
     "metadata": {},
     "output_type": "display_data"
    },
    {
     "name": "stdout",
     "output_type": "stream",
     "text": [
      "train (220/1000) loss: 0.12295227497816086 | loss/mean: 0.12295227497816086 | loss/std: 0.0 | lr: 0.0001 | momentum: 0.9\n"
     ]
    },
    {
     "data": {
      "application/vnd.jupyter.widget-view+json": {
       "model_id": "bda0bd8f56a24f83a9b9e7e72bf9388c",
       "version_major": 2,
       "version_minor": 0
      },
      "text/plain": [
       "220/1000 * Epoch (valid):   0%|          | 0/1 [00:00<?, ?it/s]"
      ]
     },
     "metadata": {},
     "output_type": "display_data"
    },
    {
     "name": "stdout",
     "output_type": "stream",
     "text": [
      "valid (220/1000) exact_match01: 0.0 | exact_match01/std: 0.0 | exact_match05: 0.0 | exact_match05/std: 0.0 | loss: 0.049233339726924896 | loss/mean: 0.049233339726924896 | loss/std: 0.0 | lr: 0.0001 | momentum: 0.9\n",
      "* Epoch (220/1000) \n"
     ]
    },
    {
     "data": {
      "application/vnd.jupyter.widget-view+json": {
       "model_id": "3d5c97bb6613492c987244c223d3f407",
       "version_major": 2,
       "version_minor": 0
      },
      "text/plain": [
       "221/1000 * Epoch (train):   0%|          | 0/1 [00:00<?, ?it/s]"
      ]
     },
     "metadata": {},
     "output_type": "display_data"
    },
    {
     "name": "stdout",
     "output_type": "stream",
     "text": [
      "train (221/1000) loss: 0.14060525596141815 | loss/mean: 0.14060525596141815 | loss/std: 0.0 | lr: 0.0001 | momentum: 0.9\n"
     ]
    },
    {
     "data": {
      "application/vnd.jupyter.widget-view+json": {
       "model_id": "9926fbe23b1748e68eb4291dbcc6beeb",
       "version_major": 2,
       "version_minor": 0
      },
      "text/plain": [
       "221/1000 * Epoch (valid):   0%|          | 0/1 [00:00<?, ?it/s]"
      ]
     },
     "metadata": {},
     "output_type": "display_data"
    },
    {
     "name": "stdout",
     "output_type": "stream",
     "text": [
      "valid (221/1000) exact_match01: 0.0 | exact_match01/std: 0.0 | exact_match05: 0.0 | exact_match05/std: 0.0 | loss: 0.04844724014401436 | loss/mean: 0.04844724014401436 | loss/std: 0.0 | lr: 0.0001 | momentum: 0.9\n",
      "* Epoch (221/1000) \n"
     ]
    },
    {
     "data": {
      "application/vnd.jupyter.widget-view+json": {
       "model_id": "34f60dddb61644cbaa5f3e5dda3d5781",
       "version_major": 2,
       "version_minor": 0
      },
      "text/plain": [
       "222/1000 * Epoch (train):   0%|          | 0/1 [00:00<?, ?it/s]"
      ]
     },
     "metadata": {},
     "output_type": "display_data"
    },
    {
     "name": "stdout",
     "output_type": "stream",
     "text": [
      "train (222/1000) loss: 0.11856473982334137 | loss/mean: 0.11856473982334137 | loss/std: 0.0 | lr: 0.0001 | momentum: 0.9\n"
     ]
    },
    {
     "data": {
      "application/vnd.jupyter.widget-view+json": {
       "model_id": "859fb41f65e348afad997f09f2eed835",
       "version_major": 2,
       "version_minor": 0
      },
      "text/plain": [
       "222/1000 * Epoch (valid):   0%|          | 0/1 [00:00<?, ?it/s]"
      ]
     },
     "metadata": {},
     "output_type": "display_data"
    },
    {
     "name": "stdout",
     "output_type": "stream",
     "text": [
      "valid (222/1000) exact_match01: 0.0 | exact_match01/std: 0.0 | exact_match05: 0.0 | exact_match05/std: 0.0 | loss: 0.047649823129177094 | loss/mean: 0.047649823129177094 | loss/std: 0.0 | lr: 0.0001 | momentum: 0.9\n",
      "* Epoch (222/1000) \n"
     ]
    },
    {
     "data": {
      "application/vnd.jupyter.widget-view+json": {
       "model_id": "6a7c638248f641c0968be48f3aedfa8a",
       "version_major": 2,
       "version_minor": 0
      },
      "text/plain": [
       "223/1000 * Epoch (train):   0%|          | 0/1 [00:00<?, ?it/s]"
      ]
     },
     "metadata": {},
     "output_type": "display_data"
    },
    {
     "name": "stdout",
     "output_type": "stream",
     "text": [
      "train (223/1000) loss: 0.12703633308410645 | loss/mean: 0.12703633308410645 | loss/std: 0.0 | lr: 0.0001 | momentum: 0.9\n"
     ]
    },
    {
     "data": {
      "application/vnd.jupyter.widget-view+json": {
       "model_id": "284e7bb4cbb349b2854a720af4a539a2",
       "version_major": 2,
       "version_minor": 0
      },
      "text/plain": [
       "223/1000 * Epoch (valid):   0%|          | 0/1 [00:00<?, ?it/s]"
      ]
     },
     "metadata": {},
     "output_type": "display_data"
    },
    {
     "name": "stdout",
     "output_type": "stream",
     "text": [
      "valid (223/1000) exact_match01: 0.0 | exact_match01/std: 0.0 | exact_match05: 0.0 | exact_match05/std: 0.0 | loss: 0.04683117941021919 | loss/mean: 0.04683117941021919 | loss/std: 0.0 | lr: 0.0001 | momentum: 0.9\n",
      "* Epoch (223/1000) \n"
     ]
    },
    {
     "data": {
      "application/vnd.jupyter.widget-view+json": {
       "model_id": "37b065f9ba7641da9e1a3558c991e6a8",
       "version_major": 2,
       "version_minor": 0
      },
      "text/plain": [
       "224/1000 * Epoch (train):   0%|          | 0/1 [00:00<?, ?it/s]"
      ]
     },
     "metadata": {},
     "output_type": "display_data"
    },
    {
     "name": "stdout",
     "output_type": "stream",
     "text": [
      "train (224/1000) loss: 0.13813462853431702 | loss/mean: 0.13813462853431702 | loss/std: 0.0 | lr: 0.0001 | momentum: 0.9\n"
     ]
    },
    {
     "data": {
      "application/vnd.jupyter.widget-view+json": {
       "model_id": "e0a960af07b14bdda0fa0494b792e44a",
       "version_major": 2,
       "version_minor": 0
      },
      "text/plain": [
       "224/1000 * Epoch (valid):   0%|          | 0/1 [00:00<?, ?it/s]"
      ]
     },
     "metadata": {},
     "output_type": "display_data"
    },
    {
     "name": "stdout",
     "output_type": "stream",
     "text": [
      "valid (224/1000) exact_match01: 0.0 | exact_match01/std: 0.0 | exact_match05: 0.0 | exact_match05/std: 0.0 | loss: 0.04601012170314789 | loss/mean: 0.04601012170314789 | loss/std: 0.0 | lr: 0.0001 | momentum: 0.9\n",
      "* Epoch (224/1000) \n"
     ]
    },
    {
     "data": {
      "application/vnd.jupyter.widget-view+json": {
       "model_id": "e70d2becc16c4683b5df570a7180a331",
       "version_major": 2,
       "version_minor": 0
      },
      "text/plain": [
       "225/1000 * Epoch (train):   0%|          | 0/1 [00:00<?, ?it/s]"
      ]
     },
     "metadata": {},
     "output_type": "display_data"
    },
    {
     "name": "stdout",
     "output_type": "stream",
     "text": [
      "train (225/1000) loss: 0.1325516253709793 | loss/mean: 0.1325516253709793 | loss/std: 0.0 | lr: 0.0001 | momentum: 0.9\n"
     ]
    },
    {
     "data": {
      "application/vnd.jupyter.widget-view+json": {
       "model_id": "4a81d12994c34c369090e3f7a7c9d2ea",
       "version_major": 2,
       "version_minor": 0
      },
      "text/plain": [
       "225/1000 * Epoch (valid):   0%|          | 0/1 [00:00<?, ?it/s]"
      ]
     },
     "metadata": {},
     "output_type": "display_data"
    },
    {
     "name": "stdout",
     "output_type": "stream",
     "text": [
      "valid (225/1000) exact_match01: 0.0 | exact_match01/std: 0.0 | exact_match05: 0.0 | exact_match05/std: 0.0 | loss: 0.04520248994231224 | loss/mean: 0.04520248994231224 | loss/std: 0.0 | lr: 0.0001 | momentum: 0.9\n",
      "* Epoch (225/1000) \n"
     ]
    },
    {
     "data": {
      "application/vnd.jupyter.widget-view+json": {
       "model_id": "084f421645a34499912bfa445f841769",
       "version_major": 2,
       "version_minor": 0
      },
      "text/plain": [
       "226/1000 * Epoch (train):   0%|          | 0/1 [00:00<?, ?it/s]"
      ]
     },
     "metadata": {},
     "output_type": "display_data"
    },
    {
     "name": "stdout",
     "output_type": "stream",
     "text": [
      "train (226/1000) loss: 0.11349380761384964 | loss/mean: 0.11349380761384964 | loss/std: 0.0 | lr: 0.0001 | momentum: 0.9\n"
     ]
    },
    {
     "data": {
      "application/vnd.jupyter.widget-view+json": {
       "model_id": "8a35f9af5a8a4612bb7c8543cf8a7846",
       "version_major": 2,
       "version_minor": 0
      },
      "text/plain": [
       "226/1000 * Epoch (valid):   0%|          | 0/1 [00:00<?, ?it/s]"
      ]
     },
     "metadata": {},
     "output_type": "display_data"
    },
    {
     "name": "stdout",
     "output_type": "stream",
     "text": [
      "valid (226/1000) exact_match01: 0.0 | exact_match01/std: 0.0 | exact_match05: 0.0 | exact_match05/std: 0.0 | loss: 0.044455721974372864 | loss/mean: 0.044455721974372864 | loss/std: 0.0 | lr: 0.0001 | momentum: 0.9\n",
      "* Epoch (226/1000) \n"
     ]
    },
    {
     "data": {
      "application/vnd.jupyter.widget-view+json": {
       "model_id": "616d90f166aa4d8a8c703bbbfb8b6f68",
       "version_major": 2,
       "version_minor": 0
      },
      "text/plain": [
       "227/1000 * Epoch (train):   0%|          | 0/1 [00:00<?, ?it/s]"
      ]
     },
     "metadata": {},
     "output_type": "display_data"
    },
    {
     "name": "stdout",
     "output_type": "stream",
     "text": [
      "train (227/1000) loss: 0.12213041633367538 | loss/mean: 0.12213041633367538 | loss/std: 0.0 | lr: 0.0001 | momentum: 0.9\n"
     ]
    },
    {
     "data": {
      "application/vnd.jupyter.widget-view+json": {
       "model_id": "ecd1b8ba3994458ea59ca945413d4842",
       "version_major": 2,
       "version_minor": 0
      },
      "text/plain": [
       "227/1000 * Epoch (valid):   0%|          | 0/1 [00:00<?, ?it/s]"
      ]
     },
     "metadata": {},
     "output_type": "display_data"
    },
    {
     "name": "stdout",
     "output_type": "stream",
     "text": [
      "valid (227/1000) exact_match01: 0.0 | exact_match01/std: 0.0 | exact_match05: 0.0 | exact_match05/std: 0.0 | loss: 0.04372230917215347 | loss/mean: 0.04372230917215347 | loss/std: 0.0 | lr: 0.0001 | momentum: 0.9\n",
      "* Epoch (227/1000) \n"
     ]
    },
    {
     "data": {
      "application/vnd.jupyter.widget-view+json": {
       "model_id": "d17283bc9d4a4b979030a8fc23307ef7",
       "version_major": 2,
       "version_minor": 0
      },
      "text/plain": [
       "228/1000 * Epoch (train):   0%|          | 0/1 [00:00<?, ?it/s]"
      ]
     },
     "metadata": {},
     "output_type": "display_data"
    },
    {
     "name": "stdout",
     "output_type": "stream",
     "text": [
      "train (228/1000) loss: 0.12179439514875412 | loss/mean: 0.12179439514875412 | loss/std: 0.0 | lr: 0.0001 | momentum: 0.9\n"
     ]
    },
    {
     "data": {
      "application/vnd.jupyter.widget-view+json": {
       "model_id": "d70fb7480b934b629f1ac06776a88b5c",
       "version_major": 2,
       "version_minor": 0
      },
      "text/plain": [
       "228/1000 * Epoch (valid):   0%|          | 0/1 [00:00<?, ?it/s]"
      ]
     },
     "metadata": {},
     "output_type": "display_data"
    },
    {
     "name": "stdout",
     "output_type": "stream",
     "text": [
      "valid (228/1000) exact_match01: 0.0 | exact_match01/std: 0.0 | exact_match05: 0.0 | exact_match05/std: 0.0 | loss: 0.04300130531191826 | loss/mean: 0.04300130531191826 | loss/std: 0.0 | lr: 0.0001 | momentum: 0.9\n",
      "* Epoch (228/1000) \n"
     ]
    },
    {
     "data": {
      "application/vnd.jupyter.widget-view+json": {
       "model_id": "a189acbf313e45e691461bbdeb92ebe9",
       "version_major": 2,
       "version_minor": 0
      },
      "text/plain": [
       "229/1000 * Epoch (train):   0%|          | 0/1 [00:00<?, ?it/s]"
      ]
     },
     "metadata": {},
     "output_type": "display_data"
    },
    {
     "name": "stdout",
     "output_type": "stream",
     "text": [
      "train (229/1000) loss: 0.11339833587408066 | loss/mean: 0.11339833587408066 | loss/std: 0.0 | lr: 0.0001 | momentum: 0.9\n"
     ]
    },
    {
     "data": {
      "application/vnd.jupyter.widget-view+json": {
       "model_id": "499cc5d8a21642b5979da463ca7510df",
       "version_major": 2,
       "version_minor": 0
      },
      "text/plain": [
       "229/1000 * Epoch (valid):   0%|          | 0/1 [00:00<?, ?it/s]"
      ]
     },
     "metadata": {},
     "output_type": "display_data"
    },
    {
     "name": "stdout",
     "output_type": "stream",
     "text": [
      "valid (229/1000) exact_match01: 0.0 | exact_match01/std: 0.0 | exact_match05: 0.0 | exact_match05/std: 0.0 | loss: 0.04229111224412918 | loss/mean: 0.04229111224412918 | loss/std: 0.0 | lr: 0.0001 | momentum: 0.9\n",
      "* Epoch (229/1000) \n"
     ]
    },
    {
     "data": {
      "application/vnd.jupyter.widget-view+json": {
       "model_id": "487015fc45664a548ddb443bfdb13eed",
       "version_major": 2,
       "version_minor": 0
      },
      "text/plain": [
       "230/1000 * Epoch (train):   0%|          | 0/1 [00:00<?, ?it/s]"
      ]
     },
     "metadata": {},
     "output_type": "display_data"
    },
    {
     "name": "stdout",
     "output_type": "stream",
     "text": [
      "train (230/1000) loss: 0.12662997841835022 | loss/mean: 0.12662997841835022 | loss/std: 0.0 | lr: 0.0001 | momentum: 0.9\n"
     ]
    },
    {
     "data": {
      "application/vnd.jupyter.widget-view+json": {
       "model_id": "fb866f21235c42df8e9b87b944042247",
       "version_major": 2,
       "version_minor": 0
      },
      "text/plain": [
       "230/1000 * Epoch (valid):   0%|          | 0/1 [00:00<?, ?it/s]"
      ]
     },
     "metadata": {},
     "output_type": "display_data"
    },
    {
     "name": "stdout",
     "output_type": "stream",
     "text": [
      "valid (230/1000) exact_match01: 0.0 | exact_match01/std: 0.0 | exact_match05: 0.0 | exact_match05/std: 0.0 | loss: 0.04161621630191803 | loss/mean: 0.04161621630191803 | loss/std: 0.0 | lr: 0.0001 | momentum: 0.9\n",
      "* Epoch (230/1000) \n"
     ]
    },
    {
     "data": {
      "application/vnd.jupyter.widget-view+json": {
       "model_id": "6208f486569c497591004e95f83ca06f",
       "version_major": 2,
       "version_minor": 0
      },
      "text/plain": [
       "231/1000 * Epoch (train):   0%|          | 0/1 [00:00<?, ?it/s]"
      ]
     },
     "metadata": {},
     "output_type": "display_data"
    },
    {
     "name": "stdout",
     "output_type": "stream",
     "text": [
      "train (231/1000) loss: 0.11419559270143509 | loss/mean: 0.11419559270143509 | loss/std: 0.0 | lr: 0.0001 | momentum: 0.9\n"
     ]
    },
    {
     "data": {
      "application/vnd.jupyter.widget-view+json": {
       "model_id": "97235dab18634dc5a81fe10a03ddd55b",
       "version_major": 2,
       "version_minor": 0
      },
      "text/plain": [
       "231/1000 * Epoch (valid):   0%|          | 0/1 [00:00<?, ?it/s]"
      ]
     },
     "metadata": {},
     "output_type": "display_data"
    },
    {
     "name": "stdout",
     "output_type": "stream",
     "text": [
      "valid (231/1000) exact_match01: 0.0 | exact_match01/std: 0.0 | exact_match05: 0.0 | exact_match05/std: 0.0 | loss: 0.04096636548638344 | loss/mean: 0.04096636548638344 | loss/std: 0.0 | lr: 0.0001 | momentum: 0.9\n",
      "* Epoch (231/1000) \n"
     ]
    },
    {
     "data": {
      "application/vnd.jupyter.widget-view+json": {
       "model_id": "bc1d00a4791343ea826fc500d4fd5a9e",
       "version_major": 2,
       "version_minor": 0
      },
      "text/plain": [
       "232/1000 * Epoch (train):   0%|          | 0/1 [00:00<?, ?it/s]"
      ]
     },
     "metadata": {},
     "output_type": "display_data"
    },
    {
     "name": "stdout",
     "output_type": "stream",
     "text": [
      "train (232/1000) loss: 0.11902469396591187 | loss/mean: 0.11902469396591187 | loss/std: 0.0 | lr: 0.0001 | momentum: 0.9\n"
     ]
    },
    {
     "data": {
      "application/vnd.jupyter.widget-view+json": {
       "model_id": "9a130e0a201b45e39b12457430566add",
       "version_major": 2,
       "version_minor": 0
      },
      "text/plain": [
       "232/1000 * Epoch (valid):   0%|          | 0/1 [00:00<?, ?it/s]"
      ]
     },
     "metadata": {},
     "output_type": "display_data"
    },
    {
     "name": "stdout",
     "output_type": "stream",
     "text": [
      "valid (232/1000) exact_match01: 0.0 | exact_match01/std: 0.0 | exact_match05: 0.0 | exact_match05/std: 0.0 | loss: 0.04033129662275314 | loss/mean: 0.04033129662275314 | loss/std: 0.0 | lr: 0.0001 | momentum: 0.9\n",
      "* Epoch (232/1000) \n"
     ]
    },
    {
     "data": {
      "application/vnd.jupyter.widget-view+json": {
       "model_id": "b7cdcec066884571bbbdec41295b5e84",
       "version_major": 2,
       "version_minor": 0
      },
      "text/plain": [
       "233/1000 * Epoch (train):   0%|          | 0/1 [00:00<?, ?it/s]"
      ]
     },
     "metadata": {},
     "output_type": "display_data"
    },
    {
     "name": "stdout",
     "output_type": "stream",
     "text": [
      "train (233/1000) loss: 0.11997576057910919 | loss/mean: 0.11997576057910919 | loss/std: 0.0 | lr: 0.0001 | momentum: 0.9\n"
     ]
    },
    {
     "data": {
      "application/vnd.jupyter.widget-view+json": {
       "model_id": "56470e82c7b2490fa9a96b57eb261580",
       "version_major": 2,
       "version_minor": 0
      },
      "text/plain": [
       "233/1000 * Epoch (valid):   0%|          | 0/1 [00:00<?, ?it/s]"
      ]
     },
     "metadata": {},
     "output_type": "display_data"
    },
    {
     "name": "stdout",
     "output_type": "stream",
     "text": [
      "valid (233/1000) exact_match01: 0.0 | exact_match01/std: 0.0 | exact_match05: 0.0 | exact_match05/std: 0.0 | loss: 0.03965159133076668 | loss/mean: 0.03965159133076668 | loss/std: 0.0 | lr: 0.0001 | momentum: 0.9\n",
      "* Epoch (233/1000) \n"
     ]
    },
    {
     "data": {
      "application/vnd.jupyter.widget-view+json": {
       "model_id": "8e9265e932c34ecd9fd62c78b3e8d986",
       "version_major": 2,
       "version_minor": 0
      },
      "text/plain": [
       "234/1000 * Epoch (train):   0%|          | 0/1 [00:00<?, ?it/s]"
      ]
     },
     "metadata": {},
     "output_type": "display_data"
    },
    {
     "name": "stdout",
     "output_type": "stream",
     "text": [
      "train (234/1000) loss: 0.11320406198501587 | loss/mean: 0.11320406198501587 | loss/std: 0.0 | lr: 0.0001 | momentum: 0.9\n"
     ]
    },
    {
     "data": {
      "application/vnd.jupyter.widget-view+json": {
       "model_id": "fcbd4727ef264a06b3f606b77a54bede",
       "version_major": 2,
       "version_minor": 0
      },
      "text/plain": [
       "234/1000 * Epoch (valid):   0%|          | 0/1 [00:00<?, ?it/s]"
      ]
     },
     "metadata": {},
     "output_type": "display_data"
    },
    {
     "name": "stdout",
     "output_type": "stream",
     "text": [
      "valid (234/1000) exact_match01: 0.0 | exact_match01/std: 0.0 | exact_match05: 0.0 | exact_match05/std: 0.0 | loss: 0.038942351937294006 | loss/mean: 0.038942351937294006 | loss/std: 0.0 | lr: 0.0001 | momentum: 0.9\n",
      "* Epoch (234/1000) \n"
     ]
    },
    {
     "data": {
      "application/vnd.jupyter.widget-view+json": {
       "model_id": "94ae0b3cd09f478c8af09d17c9d187c7",
       "version_major": 2,
       "version_minor": 0
      },
      "text/plain": [
       "235/1000 * Epoch (train):   0%|          | 0/1 [00:00<?, ?it/s]"
      ]
     },
     "metadata": {},
     "output_type": "display_data"
    },
    {
     "name": "stdout",
     "output_type": "stream",
     "text": [
      "train (235/1000) loss: 0.11036153882741928 | loss/mean: 0.11036153882741928 | loss/std: 0.0 | lr: 0.0001 | momentum: 0.9\n"
     ]
    },
    {
     "data": {
      "application/vnd.jupyter.widget-view+json": {
       "model_id": "41232fdde2d246149c2f5ec0e829a015",
       "version_major": 2,
       "version_minor": 0
      },
      "text/plain": [
       "235/1000 * Epoch (valid):   0%|          | 0/1 [00:00<?, ?it/s]"
      ]
     },
     "metadata": {},
     "output_type": "display_data"
    },
    {
     "name": "stdout",
     "output_type": "stream",
     "text": [
      "valid (235/1000) exact_match01: 0.0 | exact_match01/std: 0.0 | exact_match05: 0.125 | exact_match05/std: 0.0 | loss: 0.03816164284944534 | loss/mean: 0.03816164284944534 | loss/std: 0.0 | lr: 0.0001 | momentum: 0.9\n",
      "* Epoch (235/1000) \n"
     ]
    },
    {
     "data": {
      "application/vnd.jupyter.widget-view+json": {
       "model_id": "cfca2a5710e24662a196f4e805a521eb",
       "version_major": 2,
       "version_minor": 0
      },
      "text/plain": [
       "236/1000 * Epoch (train):   0%|          | 0/1 [00:00<?, ?it/s]"
      ]
     },
     "metadata": {},
     "output_type": "display_data"
    },
    {
     "name": "stdout",
     "output_type": "stream",
     "text": [
      "train (236/1000) loss: 0.09804344922304153 | loss/mean: 0.09804344922304153 | loss/std: 0.0 | lr: 0.0001 | momentum: 0.9\n"
     ]
    },
    {
     "data": {
      "application/vnd.jupyter.widget-view+json": {
       "model_id": "443dedb86c57477eb815d75be1cf1641",
       "version_major": 2,
       "version_minor": 0
      },
      "text/plain": [
       "236/1000 * Epoch (valid):   0%|          | 0/1 [00:00<?, ?it/s]"
      ]
     },
     "metadata": {},
     "output_type": "display_data"
    },
    {
     "name": "stdout",
     "output_type": "stream",
     "text": [
      "valid (236/1000) exact_match01: 0.0 | exact_match01/std: 0.0 | exact_match05: 0.125 | exact_match05/std: 0.0 | loss: 0.0374005101621151 | loss/mean: 0.0374005101621151 | loss/std: 0.0 | lr: 0.0001 | momentum: 0.9\n",
      "* Epoch (236/1000) \n"
     ]
    },
    {
     "data": {
      "application/vnd.jupyter.widget-view+json": {
       "model_id": "288aafa14b2f4ffbaf382cc34edfd2b6",
       "version_major": 2,
       "version_minor": 0
      },
      "text/plain": [
       "237/1000 * Epoch (train):   0%|          | 0/1 [00:00<?, ?it/s]"
      ]
     },
     "metadata": {},
     "output_type": "display_data"
    },
    {
     "name": "stdout",
     "output_type": "stream",
     "text": [
      "train (237/1000) loss: 0.1092333123087883 | loss/mean: 0.1092333123087883 | loss/std: 0.0 | lr: 0.0001 | momentum: 0.9\n"
     ]
    },
    {
     "data": {
      "application/vnd.jupyter.widget-view+json": {
       "model_id": "b73d316865654b168f420dc011edfac5",
       "version_major": 2,
       "version_minor": 0
      },
      "text/plain": [
       "237/1000 * Epoch (valid):   0%|          | 0/1 [00:00<?, ?it/s]"
      ]
     },
     "metadata": {},
     "output_type": "display_data"
    },
    {
     "name": "stdout",
     "output_type": "stream",
     "text": [
      "valid (237/1000) exact_match01: 0.0 | exact_match01/std: 0.0 | exact_match05: 0.125 | exact_match05/std: 0.0 | loss: 0.03663291037082672 | loss/mean: 0.03663291037082672 | loss/std: 0.0 | lr: 0.0001 | momentum: 0.9\n",
      "* Epoch (237/1000) \n"
     ]
    },
    {
     "data": {
      "application/vnd.jupyter.widget-view+json": {
       "model_id": "deebb4bd3583423c80b348f4140ef767",
       "version_major": 2,
       "version_minor": 0
      },
      "text/plain": [
       "238/1000 * Epoch (train):   0%|          | 0/1 [00:00<?, ?it/s]"
      ]
     },
     "metadata": {},
     "output_type": "display_data"
    },
    {
     "name": "stdout",
     "output_type": "stream",
     "text": [
      "train (238/1000) loss: 0.11435820162296295 | loss/mean: 0.11435820162296295 | loss/std: 0.0 | lr: 0.0001 | momentum: 0.9\n"
     ]
    },
    {
     "data": {
      "application/vnd.jupyter.widget-view+json": {
       "model_id": "79edbed39b29406fb97baef78c97a221",
       "version_major": 2,
       "version_minor": 0
      },
      "text/plain": [
       "238/1000 * Epoch (valid):   0%|          | 0/1 [00:00<?, ?it/s]"
      ]
     },
     "metadata": {},
     "output_type": "display_data"
    },
    {
     "name": "stdout",
     "output_type": "stream",
     "text": [
      "valid (238/1000) exact_match01: 0.0 | exact_match01/std: 0.0 | exact_match05: 0.125 | exact_match05/std: 0.0 | loss: 0.03579847887158394 | loss/mean: 0.03579847887158394 | loss/std: 0.0 | lr: 0.0001 | momentum: 0.9\n",
      "* Epoch (238/1000) \n"
     ]
    },
    {
     "data": {
      "application/vnd.jupyter.widget-view+json": {
       "model_id": "0737b56fd2b24bb9b4d6cf529d5c20a6",
       "version_major": 2,
       "version_minor": 0
      },
      "text/plain": [
       "239/1000 * Epoch (train):   0%|          | 0/1 [00:00<?, ?it/s]"
      ]
     },
     "metadata": {},
     "output_type": "display_data"
    },
    {
     "name": "stdout",
     "output_type": "stream",
     "text": [
      "train (239/1000) loss: 0.111038438975811 | loss/mean: 0.111038438975811 | loss/std: 0.0 | lr: 0.0001 | momentum: 0.9\n"
     ]
    },
    {
     "data": {
      "application/vnd.jupyter.widget-view+json": {
       "model_id": "514e180a42b347a09e1378b56a9d82cb",
       "version_major": 2,
       "version_minor": 0
      },
      "text/plain": [
       "239/1000 * Epoch (valid):   0%|          | 0/1 [00:00<?, ?it/s]"
      ]
     },
     "metadata": {},
     "output_type": "display_data"
    },
    {
     "name": "stdout",
     "output_type": "stream",
     "text": [
      "valid (239/1000) exact_match01: 0.0 | exact_match01/std: 0.0 | exact_match05: 0.125 | exact_match05/std: 0.0 | loss: 0.034969549626111984 | loss/mean: 0.034969549626111984 | loss/std: 0.0 | lr: 0.0001 | momentum: 0.9\n",
      "* Epoch (239/1000) \n"
     ]
    },
    {
     "data": {
      "application/vnd.jupyter.widget-view+json": {
       "model_id": "487d504c259d4bcda865599b1a798dc5",
       "version_major": 2,
       "version_minor": 0
      },
      "text/plain": [
       "240/1000 * Epoch (train):   0%|          | 0/1 [00:00<?, ?it/s]"
      ]
     },
     "metadata": {},
     "output_type": "display_data"
    },
    {
     "name": "stdout",
     "output_type": "stream",
     "text": [
      "train (240/1000) loss: 0.11128266900777817 | loss/mean: 0.11128266900777817 | loss/std: 0.0 | lr: 0.0001 | momentum: 0.9\n"
     ]
    },
    {
     "data": {
      "application/vnd.jupyter.widget-view+json": {
       "model_id": "0990e8ec8cf8452ca6890792981a815d",
       "version_major": 2,
       "version_minor": 0
      },
      "text/plain": [
       "240/1000 * Epoch (valid):   0%|          | 0/1 [00:00<?, ?it/s]"
      ]
     },
     "metadata": {},
     "output_type": "display_data"
    },
    {
     "name": "stdout",
     "output_type": "stream",
     "text": [
      "valid (240/1000) exact_match01: 0.0 | exact_match01/std: 0.0 | exact_match05: 0.125 | exact_match05/std: 0.0 | loss: 0.03417710214853287 | loss/mean: 0.03417710214853287 | loss/std: 0.0 | lr: 0.0001 | momentum: 0.9\n",
      "* Epoch (240/1000) \n"
     ]
    },
    {
     "data": {
      "application/vnd.jupyter.widget-view+json": {
       "model_id": "0f158a1acd014587867df143d82da763",
       "version_major": 2,
       "version_minor": 0
      },
      "text/plain": [
       "241/1000 * Epoch (train):   0%|          | 0/1 [00:00<?, ?it/s]"
      ]
     },
     "metadata": {},
     "output_type": "display_data"
    },
    {
     "name": "stdout",
     "output_type": "stream",
     "text": [
      "train (241/1000) loss: 0.10317505151033401 | loss/mean: 0.10317505151033401 | loss/std: 0.0 | lr: 0.0001 | momentum: 0.9\n"
     ]
    },
    {
     "data": {
      "application/vnd.jupyter.widget-view+json": {
       "model_id": "8fed233341f94b2586daa0cfdad636ae",
       "version_major": 2,
       "version_minor": 0
      },
      "text/plain": [
       "241/1000 * Epoch (valid):   0%|          | 0/1 [00:00<?, ?it/s]"
      ]
     },
     "metadata": {},
     "output_type": "display_data"
    },
    {
     "name": "stdout",
     "output_type": "stream",
     "text": [
      "valid (241/1000) exact_match01: 0.0 | exact_match01/std: 0.0 | exact_match05: 0.125 | exact_match05/std: 0.0 | loss: 0.033256251364946365 | loss/mean: 0.033256251364946365 | loss/std: 0.0 | lr: 0.0001 | momentum: 0.9\n",
      "* Epoch (241/1000) \n"
     ]
    },
    {
     "data": {
      "application/vnd.jupyter.widget-view+json": {
       "model_id": "f5f87583bd5c41e89f532db556cf5971",
       "version_major": 2,
       "version_minor": 0
      },
      "text/plain": [
       "242/1000 * Epoch (train):   0%|          | 0/1 [00:00<?, ?it/s]"
      ]
     },
     "metadata": {},
     "output_type": "display_data"
    },
    {
     "name": "stdout",
     "output_type": "stream",
     "text": [
      "train (242/1000) loss: 0.09910700470209122 | loss/mean: 0.09910700470209122 | loss/std: 0.0 | lr: 0.0001 | momentum: 0.9\n"
     ]
    },
    {
     "data": {
      "application/vnd.jupyter.widget-view+json": {
       "model_id": "bda1e79563364ccabe2a342821d29b51",
       "version_major": 2,
       "version_minor": 0
      },
      "text/plain": [
       "242/1000 * Epoch (valid):   0%|          | 0/1 [00:00<?, ?it/s]"
      ]
     },
     "metadata": {},
     "output_type": "display_data"
    },
    {
     "name": "stdout",
     "output_type": "stream",
     "text": [
      "valid (242/1000) exact_match01: 0.0 | exact_match01/std: 0.0 | exact_match05: 0.125 | exact_match05/std: 0.0 | loss: 0.03233031556010246 | loss/mean: 0.03233031556010246 | loss/std: 0.0 | lr: 0.0001 | momentum: 0.9\n",
      "* Epoch (242/1000) \n"
     ]
    },
    {
     "data": {
      "application/vnd.jupyter.widget-view+json": {
       "model_id": "3b1870496f1b4979a067412441a85ce8",
       "version_major": 2,
       "version_minor": 0
      },
      "text/plain": [
       "243/1000 * Epoch (train):   0%|          | 0/1 [00:00<?, ?it/s]"
      ]
     },
     "metadata": {},
     "output_type": "display_data"
    },
    {
     "name": "stdout",
     "output_type": "stream",
     "text": [
      "train (243/1000) loss: 0.10465741902589798 | loss/mean: 0.10465741902589798 | loss/std: 0.0 | lr: 0.0001 | momentum: 0.9\n"
     ]
    },
    {
     "data": {
      "application/vnd.jupyter.widget-view+json": {
       "model_id": "23d331746f0d4db6a8f714f36b225c50",
       "version_major": 2,
       "version_minor": 0
      },
      "text/plain": [
       "243/1000 * Epoch (valid):   0%|          | 0/1 [00:00<?, ?it/s]"
      ]
     },
     "metadata": {},
     "output_type": "display_data"
    },
    {
     "name": "stdout",
     "output_type": "stream",
     "text": [
      "valid (243/1000) exact_match01: 0.0 | exact_match01/std: 0.0 | exact_match05: 0.125 | exact_match05/std: 0.0 | loss: 0.03144415467977524 | loss/mean: 0.03144415467977524 | loss/std: 0.0 | lr: 0.0001 | momentum: 0.9\n",
      "* Epoch (243/1000) \n"
     ]
    },
    {
     "data": {
      "application/vnd.jupyter.widget-view+json": {
       "model_id": "65382b88bb2349ab88af9ec11af4edd6",
       "version_major": 2,
       "version_minor": 0
      },
      "text/plain": [
       "244/1000 * Epoch (train):   0%|          | 0/1 [00:00<?, ?it/s]"
      ]
     },
     "metadata": {},
     "output_type": "display_data"
    },
    {
     "name": "stdout",
     "output_type": "stream",
     "text": [
      "train (244/1000) loss: 0.12067260593175888 | loss/mean: 0.12067260593175888 | loss/std: 0.0 | lr: 0.0001 | momentum: 0.9\n"
     ]
    },
    {
     "data": {
      "application/vnd.jupyter.widget-view+json": {
       "model_id": "66e0bbf13c5441d4adb05de7fe3fbde5",
       "version_major": 2,
       "version_minor": 0
      },
      "text/plain": [
       "244/1000 * Epoch (valid):   0%|          | 0/1 [00:00<?, ?it/s]"
      ]
     },
     "metadata": {},
     "output_type": "display_data"
    },
    {
     "name": "stdout",
     "output_type": "stream",
     "text": [
      "valid (244/1000) exact_match01: 0.0 | exact_match01/std: 0.0 | exact_match05: 0.125 | exact_match05/std: 0.0 | loss: 0.030593963339924812 | loss/mean: 0.030593963339924812 | loss/std: 0.0 | lr: 0.0001 | momentum: 0.9\n",
      "* Epoch (244/1000) \n"
     ]
    },
    {
     "data": {
      "application/vnd.jupyter.widget-view+json": {
       "model_id": "c0ee972ff34948b0af46a7576603c3e9",
       "version_major": 2,
       "version_minor": 0
      },
      "text/plain": [
       "245/1000 * Epoch (train):   0%|          | 0/1 [00:00<?, ?it/s]"
      ]
     },
     "metadata": {},
     "output_type": "display_data"
    },
    {
     "name": "stdout",
     "output_type": "stream",
     "text": [
      "train (245/1000) loss: 0.11862681806087494 | loss/mean: 0.11862681806087494 | loss/std: 0.0 | lr: 0.0001 | momentum: 0.9\n"
     ]
    },
    {
     "data": {
      "application/vnd.jupyter.widget-view+json": {
       "model_id": "522ed1ea5c8546b9a7c8e6e392b310d7",
       "version_major": 2,
       "version_minor": 0
      },
      "text/plain": [
       "245/1000 * Epoch (valid):   0%|          | 0/1 [00:00<?, ?it/s]"
      ]
     },
     "metadata": {},
     "output_type": "display_data"
    },
    {
     "name": "stdout",
     "output_type": "stream",
     "text": [
      "valid (245/1000) exact_match01: 0.125 | exact_match01/std: 0.0 | exact_match05: 0.25 | exact_match05/std: 0.0 | loss: 0.029758665710687637 | loss/mean: 0.029758665710687637 | loss/std: 0.0 | lr: 0.0001 | momentum: 0.9\n",
      "* Epoch (245/1000) \n"
     ]
    },
    {
     "data": {
      "application/vnd.jupyter.widget-view+json": {
       "model_id": "915198c4ea0e46a4bb757bf54adb54b1",
       "version_major": 2,
       "version_minor": 0
      },
      "text/plain": [
       "246/1000 * Epoch (train):   0%|          | 0/1 [00:00<?, ?it/s]"
      ]
     },
     "metadata": {},
     "output_type": "display_data"
    },
    {
     "name": "stdout",
     "output_type": "stream",
     "text": [
      "train (246/1000) loss: 0.1012188121676445 | loss/mean: 0.1012188121676445 | loss/std: 0.0 | lr: 0.0001 | momentum: 0.9\n"
     ]
    },
    {
     "data": {
      "application/vnd.jupyter.widget-view+json": {
       "model_id": "214111a44e4349ffb56e6dd882171eff",
       "version_major": 2,
       "version_minor": 0
      },
      "text/plain": [
       "246/1000 * Epoch (valid):   0%|          | 0/1 [00:00<?, ?it/s]"
      ]
     },
     "metadata": {},
     "output_type": "display_data"
    },
    {
     "name": "stdout",
     "output_type": "stream",
     "text": [
      "valid (246/1000) exact_match01: 0.25 | exact_match01/std: 0.0 | exact_match05: 0.375 | exact_match05/std: 0.0 | loss: 0.028901919722557068 | loss/mean: 0.028901919722557068 | loss/std: 0.0 | lr: 0.0001 | momentum: 0.9\n",
      "* Epoch (246/1000) \n"
     ]
    },
    {
     "data": {
      "application/vnd.jupyter.widget-view+json": {
       "model_id": "a5b19ce44de84165aca83a4cd5d4b92c",
       "version_major": 2,
       "version_minor": 0
      },
      "text/plain": [
       "247/1000 * Epoch (train):   0%|          | 0/1 [00:00<?, ?it/s]"
      ]
     },
     "metadata": {},
     "output_type": "display_data"
    },
    {
     "name": "stdout",
     "output_type": "stream",
     "text": [
      "train (247/1000) loss: 0.10332521796226501 | loss/mean: 0.10332521796226501 | loss/std: 0.0 | lr: 0.0001 | momentum: 0.9\n"
     ]
    },
    {
     "data": {
      "application/vnd.jupyter.widget-view+json": {
       "model_id": "4d4207b152e949c880cc8aa2cb650d0e",
       "version_major": 2,
       "version_minor": 0
      },
      "text/plain": [
       "247/1000 * Epoch (valid):   0%|          | 0/1 [00:00<?, ?it/s]"
      ]
     },
     "metadata": {},
     "output_type": "display_data"
    },
    {
     "name": "stdout",
     "output_type": "stream",
     "text": [
      "valid (247/1000) exact_match01: 0.25 | exact_match01/std: 0.0 | exact_match05: 0.375 | exact_match05/std: 0.0 | loss: 0.028216876089572906 | loss/mean: 0.028216876089572906 | loss/std: 0.0 | lr: 0.0001 | momentum: 0.9\n",
      "* Epoch (247/1000) \n"
     ]
    },
    {
     "data": {
      "application/vnd.jupyter.widget-view+json": {
       "model_id": "dac26ccde6664385905d7bcfd37120c5",
       "version_major": 2,
       "version_minor": 0
      },
      "text/plain": [
       "248/1000 * Epoch (train):   0%|          | 0/1 [00:00<?, ?it/s]"
      ]
     },
     "metadata": {},
     "output_type": "display_data"
    },
    {
     "name": "stdout",
     "output_type": "stream",
     "text": [
      "train (248/1000) loss: 0.09728791564702988 | loss/mean: 0.09728791564702988 | loss/std: 0.0 | lr: 0.0001 | momentum: 0.9\n"
     ]
    },
    {
     "data": {
      "application/vnd.jupyter.widget-view+json": {
       "model_id": "0dfee9109f1f4241907294c8ecad75f6",
       "version_major": 2,
       "version_minor": 0
      },
      "text/plain": [
       "248/1000 * Epoch (valid):   0%|          | 0/1 [00:00<?, ?it/s]"
      ]
     },
     "metadata": {},
     "output_type": "display_data"
    },
    {
     "name": "stdout",
     "output_type": "stream",
     "text": [
      "valid (248/1000) exact_match01: 0.25 | exact_match01/std: 0.0 | exact_match05: 0.375 | exact_match05/std: 0.0 | loss: 0.027585681527853012 | loss/mean: 0.027585681527853012 | loss/std: 0.0 | lr: 0.0001 | momentum: 0.9\n",
      "* Epoch (248/1000) \n"
     ]
    },
    {
     "data": {
      "application/vnd.jupyter.widget-view+json": {
       "model_id": "f4a0bf83694e4925b5292b02107dd0c5",
       "version_major": 2,
       "version_minor": 0
      },
      "text/plain": [
       "249/1000 * Epoch (train):   0%|          | 0/1 [00:00<?, ?it/s]"
      ]
     },
     "metadata": {},
     "output_type": "display_data"
    },
    {
     "name": "stdout",
     "output_type": "stream",
     "text": [
      "train (249/1000) loss: 0.10009238868951797 | loss/mean: 0.10009238868951797 | loss/std: 0.0 | lr: 0.0001 | momentum: 0.9\n"
     ]
    },
    {
     "data": {
      "application/vnd.jupyter.widget-view+json": {
       "model_id": "0f8d2dcda1cb42a889ab1df43d8c9c17",
       "version_major": 2,
       "version_minor": 0
      },
      "text/plain": [
       "249/1000 * Epoch (valid):   0%|          | 0/1 [00:00<?, ?it/s]"
      ]
     },
     "metadata": {},
     "output_type": "display_data"
    },
    {
     "name": "stdout",
     "output_type": "stream",
     "text": [
      "valid (249/1000) exact_match01: 0.375 | exact_match01/std: 0.0 | exact_match05: 0.375 | exact_match05/std: 0.0 | loss: 0.026987561956048012 | loss/mean: 0.026987561956048012 | loss/std: 0.0 | lr: 0.0001 | momentum: 0.9\n",
      "* Epoch (249/1000) \n"
     ]
    },
    {
     "data": {
      "application/vnd.jupyter.widget-view+json": {
       "model_id": "67b74886d6454b099f7deb208ca2a0d5",
       "version_major": 2,
       "version_minor": 0
      },
      "text/plain": [
       "250/1000 * Epoch (train):   0%|          | 0/1 [00:00<?, ?it/s]"
      ]
     },
     "metadata": {},
     "output_type": "display_data"
    },
    {
     "name": "stdout",
     "output_type": "stream",
     "text": [
      "train (250/1000) loss: 0.08924145251512527 | loss/mean: 0.08924145251512527 | loss/std: 0.0 | lr: 0.0001 | momentum: 0.9\n"
     ]
    },
    {
     "data": {
      "application/vnd.jupyter.widget-view+json": {
       "model_id": "10a712583af246658d251d3f1b284a47",
       "version_major": 2,
       "version_minor": 0
      },
      "text/plain": [
       "250/1000 * Epoch (valid):   0%|          | 0/1 [00:00<?, ?it/s]"
      ]
     },
     "metadata": {},
     "output_type": "display_data"
    },
    {
     "name": "stdout",
     "output_type": "stream",
     "text": [
      "valid (250/1000) exact_match01: 0.25 | exact_match01/std: 0.0 | exact_match05: 0.375 | exact_match05/std: 0.0 | loss: 0.026421954855322838 | loss/mean: 0.026421954855322838 | loss/std: 0.0 | lr: 0.0001 | momentum: 0.9\n",
      "* Epoch (250/1000) \n"
     ]
    },
    {
     "data": {
      "application/vnd.jupyter.widget-view+json": {
       "model_id": "8dc70dec97ca4db9ac2970a958093f1b",
       "version_major": 2,
       "version_minor": 0
      },
      "text/plain": [
       "251/1000 * Epoch (train):   0%|          | 0/1 [00:00<?, ?it/s]"
      ]
     },
     "metadata": {},
     "output_type": "display_data"
    },
    {
     "name": "stdout",
     "output_type": "stream",
     "text": [
      "train (251/1000) loss: 0.09337092936038971 | loss/mean: 0.09337092936038971 | loss/std: 0.0 | lr: 0.0001 | momentum: 0.9\n"
     ]
    },
    {
     "data": {
      "application/vnd.jupyter.widget-view+json": {
       "model_id": "ce2e83e069244887875ac64d7ca2c163",
       "version_major": 2,
       "version_minor": 0
      },
      "text/plain": [
       "251/1000 * Epoch (valid):   0%|          | 0/1 [00:00<?, ?it/s]"
      ]
     },
     "metadata": {},
     "output_type": "display_data"
    },
    {
     "name": "stdout",
     "output_type": "stream",
     "text": [
      "valid (251/1000) exact_match01: 0.25 | exact_match01/std: 0.0 | exact_match05: 0.375 | exact_match05/std: 0.0 | loss: 0.025817034766077995 | loss/mean: 0.025817034766077995 | loss/std: 0.0 | lr: 0.0001 | momentum: 0.9\n",
      "* Epoch (251/1000) \n"
     ]
    },
    {
     "data": {
      "application/vnd.jupyter.widget-view+json": {
       "model_id": "3dfb58f673ce424a8308dd6d3c50cf75",
       "version_major": 2,
       "version_minor": 0
      },
      "text/plain": [
       "252/1000 * Epoch (train):   0%|          | 0/1 [00:00<?, ?it/s]"
      ]
     },
     "metadata": {},
     "output_type": "display_data"
    },
    {
     "name": "stdout",
     "output_type": "stream",
     "text": [
      "train (252/1000) loss: 0.09866254776716232 | loss/mean: 0.09866254776716232 | loss/std: 0.0 | lr: 0.0001 | momentum: 0.9\n"
     ]
    },
    {
     "data": {
      "application/vnd.jupyter.widget-view+json": {
       "model_id": "cff6567f88a2439bbee89c74e55f668c",
       "version_major": 2,
       "version_minor": 0
      },
      "text/plain": [
       "252/1000 * Epoch (valid):   0%|          | 0/1 [00:00<?, ?it/s]"
      ]
     },
     "metadata": {},
     "output_type": "display_data"
    },
    {
     "name": "stdout",
     "output_type": "stream",
     "text": [
      "valid (252/1000) exact_match01: 0.25 | exact_match01/std: 0.0 | exact_match05: 0.375 | exact_match05/std: 0.0 | loss: 0.02531410939991474 | loss/mean: 0.02531410939991474 | loss/std: 0.0 | lr: 0.0001 | momentum: 0.9\n",
      "* Epoch (252/1000) \n"
     ]
    },
    {
     "data": {
      "application/vnd.jupyter.widget-view+json": {
       "model_id": "a5a54abdbd72462daae436194d2219b6",
       "version_major": 2,
       "version_minor": 0
      },
      "text/plain": [
       "253/1000 * Epoch (train):   0%|          | 0/1 [00:00<?, ?it/s]"
      ]
     },
     "metadata": {},
     "output_type": "display_data"
    },
    {
     "name": "stdout",
     "output_type": "stream",
     "text": [
      "train (253/1000) loss: 0.09869648516178131 | loss/mean: 0.09869648516178131 | loss/std: 0.0 | lr: 0.0001 | momentum: 0.9\n"
     ]
    },
    {
     "data": {
      "application/vnd.jupyter.widget-view+json": {
       "model_id": "c4beab10ca684e09be5c784d81252ba1",
       "version_major": 2,
       "version_minor": 0
      },
      "text/plain": [
       "253/1000 * Epoch (valid):   0%|          | 0/1 [00:00<?, ?it/s]"
      ]
     },
     "metadata": {},
     "output_type": "display_data"
    },
    {
     "name": "stdout",
     "output_type": "stream",
     "text": [
      "valid (253/1000) exact_match01: 0.375 | exact_match01/std: 0.0 | exact_match05: 0.375 | exact_match05/std: 0.0 | loss: 0.02483457885682583 | loss/mean: 0.02483457885682583 | loss/std: 0.0 | lr: 0.0001 | momentum: 0.9\n",
      "* Epoch (253/1000) \n"
     ]
    },
    {
     "data": {
      "application/vnd.jupyter.widget-view+json": {
       "model_id": "aa31b1df00c3469094d1d527f10a4ab8",
       "version_major": 2,
       "version_minor": 0
      },
      "text/plain": [
       "254/1000 * Epoch (train):   0%|          | 0/1 [00:00<?, ?it/s]"
      ]
     },
     "metadata": {},
     "output_type": "display_data"
    },
    {
     "name": "stdout",
     "output_type": "stream",
     "text": [
      "train (254/1000) loss: 0.10126844793558121 | loss/mean: 0.10126844793558121 | loss/std: 0.0 | lr: 0.0001 | momentum: 0.9\n"
     ]
    },
    {
     "data": {
      "application/vnd.jupyter.widget-view+json": {
       "model_id": "ac8f8f973653463382beb68b4f484338",
       "version_major": 2,
       "version_minor": 0
      },
      "text/plain": [
       "254/1000 * Epoch (valid):   0%|          | 0/1 [00:00<?, ?it/s]"
      ]
     },
     "metadata": {},
     "output_type": "display_data"
    },
    {
     "name": "stdout",
     "output_type": "stream",
     "text": [
      "valid (254/1000) exact_match01: 0.375 | exact_match01/std: 0.0 | exact_match05: 0.375 | exact_match05/std: 0.0 | loss: 0.0243886336684227 | loss/mean: 0.0243886336684227 | loss/std: 0.0 | lr: 0.0001 | momentum: 0.9\n",
      "* Epoch (254/1000) \n"
     ]
    },
    {
     "data": {
      "application/vnd.jupyter.widget-view+json": {
       "model_id": "4c9c23d47677470f919a4a8d85fc08e9",
       "version_major": 2,
       "version_minor": 0
      },
      "text/plain": [
       "255/1000 * Epoch (train):   0%|          | 0/1 [00:00<?, ?it/s]"
      ]
     },
     "metadata": {},
     "output_type": "display_data"
    },
    {
     "name": "stdout",
     "output_type": "stream",
     "text": [
      "train (255/1000) loss: 0.1019926369190216 | loss/mean: 0.1019926369190216 | loss/std: 0.0 | lr: 0.0001 | momentum: 0.9\n"
     ]
    },
    {
     "data": {
      "application/vnd.jupyter.widget-view+json": {
       "model_id": "e150bf1d0d2b4dba8caebf73052f2ca7",
       "version_major": 2,
       "version_minor": 0
      },
      "text/plain": [
       "255/1000 * Epoch (valid):   0%|          | 0/1 [00:00<?, ?it/s]"
      ]
     },
     "metadata": {},
     "output_type": "display_data"
    },
    {
     "name": "stdout",
     "output_type": "stream",
     "text": [
      "valid (255/1000) exact_match01: 0.25 | exact_match01/std: 0.0 | exact_match05: 0.5 | exact_match05/std: 0.0 | loss: 0.02393043413758278 | loss/mean: 0.02393043413758278 | loss/std: 0.0 | lr: 0.0001 | momentum: 0.9\n",
      "* Epoch (255/1000) \n"
     ]
    },
    {
     "data": {
      "application/vnd.jupyter.widget-view+json": {
       "model_id": "7437a9ee881749d599eefe8e9a0c7999",
       "version_major": 2,
       "version_minor": 0
      },
      "text/plain": [
       "256/1000 * Epoch (train):   0%|          | 0/1 [00:00<?, ?it/s]"
      ]
     },
     "metadata": {},
     "output_type": "display_data"
    },
    {
     "name": "stdout",
     "output_type": "stream",
     "text": [
      "train (256/1000) loss: 0.08442803472280502 | loss/mean: 0.08442803472280502 | loss/std: 0.0 | lr: 0.0001 | momentum: 0.9\n"
     ]
    },
    {
     "data": {
      "application/vnd.jupyter.widget-view+json": {
       "model_id": "8d2b4d70860e4d2fb4f83126aab4dde1",
       "version_major": 2,
       "version_minor": 0
      },
      "text/plain": [
       "256/1000 * Epoch (valid):   0%|          | 0/1 [00:00<?, ?it/s]"
      ]
     },
     "metadata": {},
     "output_type": "display_data"
    },
    {
     "name": "stdout",
     "output_type": "stream",
     "text": [
      "valid (256/1000) exact_match01: 0.25 | exact_match01/std: 0.0 | exact_match05: 0.5 | exact_match05/std: 0.0 | loss: 0.02346896566450596 | loss/mean: 0.02346896566450596 | loss/std: 0.0 | lr: 0.0001 | momentum: 0.9\n",
      "* Epoch (256/1000) \n"
     ]
    },
    {
     "data": {
      "application/vnd.jupyter.widget-view+json": {
       "model_id": "738f032663b4437b989dd29d6284715f",
       "version_major": 2,
       "version_minor": 0
      },
      "text/plain": [
       "257/1000 * Epoch (train):   0%|          | 0/1 [00:00<?, ?it/s]"
      ]
     },
     "metadata": {},
     "output_type": "display_data"
    },
    {
     "name": "stdout",
     "output_type": "stream",
     "text": [
      "train (257/1000) loss: 0.08901979774236679 | loss/mean: 0.08901979774236679 | loss/std: 0.0 | lr: 0.0001 | momentum: 0.9\n"
     ]
    },
    {
     "data": {
      "application/vnd.jupyter.widget-view+json": {
       "model_id": "7fade4e781394a2e8664f29cdf35b7b9",
       "version_major": 2,
       "version_minor": 0
      },
      "text/plain": [
       "257/1000 * Epoch (valid):   0%|          | 0/1 [00:00<?, ?it/s]"
      ]
     },
     "metadata": {},
     "output_type": "display_data"
    },
    {
     "name": "stdout",
     "output_type": "stream",
     "text": [
      "valid (257/1000) exact_match01: 0.25 | exact_match01/std: 0.0 | exact_match05: 0.5 | exact_match05/std: 0.0 | loss: 0.0230241809040308 | loss/mean: 0.0230241809040308 | loss/std: 0.0 | lr: 0.0001 | momentum: 0.9\n",
      "* Epoch (257/1000) \n"
     ]
    },
    {
     "data": {
      "application/vnd.jupyter.widget-view+json": {
       "model_id": "f6f6c3903e1a4cc99f6ac176711981d1",
       "version_major": 2,
       "version_minor": 0
      },
      "text/plain": [
       "258/1000 * Epoch (train):   0%|          | 0/1 [00:00<?, ?it/s]"
      ]
     },
     "metadata": {},
     "output_type": "display_data"
    },
    {
     "name": "stdout",
     "output_type": "stream",
     "text": [
      "train (258/1000) loss: 0.08056406676769257 | loss/mean: 0.08056406676769257 | loss/std: 0.0 | lr: 0.0001 | momentum: 0.9\n"
     ]
    },
    {
     "data": {
      "application/vnd.jupyter.widget-view+json": {
       "model_id": "5121232398c34202aa447a727d6e5b55",
       "version_major": 2,
       "version_minor": 0
      },
      "text/plain": [
       "258/1000 * Epoch (valid):   0%|          | 0/1 [00:00<?, ?it/s]"
      ]
     },
     "metadata": {},
     "output_type": "display_data"
    },
    {
     "name": "stdout",
     "output_type": "stream",
     "text": [
      "valid (258/1000) exact_match01: 0.25 | exact_match01/std: 0.0 | exact_match05: 0.5 | exact_match05/std: 0.0 | loss: 0.02262553758919239 | loss/mean: 0.02262553758919239 | loss/std: 0.0 | lr: 0.0001 | momentum: 0.9\n",
      "* Epoch (258/1000) \n"
     ]
    },
    {
     "data": {
      "application/vnd.jupyter.widget-view+json": {
       "model_id": "e7ba31665e064104b0b1bb26b13c378e",
       "version_major": 2,
       "version_minor": 0
      },
      "text/plain": [
       "259/1000 * Epoch (train):   0%|          | 0/1 [00:00<?, ?it/s]"
      ]
     },
     "metadata": {},
     "output_type": "display_data"
    },
    {
     "name": "stdout",
     "output_type": "stream",
     "text": [
      "train (259/1000) loss: 0.08092515170574188 | loss/mean: 0.08092515170574188 | loss/std: 0.0 | lr: 0.0001 | momentum: 0.9\n"
     ]
    },
    {
     "data": {
      "application/vnd.jupyter.widget-view+json": {
       "model_id": "44580c34336941feb5e9a17b71d0d145",
       "version_major": 2,
       "version_minor": 0
      },
      "text/plain": [
       "259/1000 * Epoch (valid):   0%|          | 0/1 [00:00<?, ?it/s]"
      ]
     },
     "metadata": {},
     "output_type": "display_data"
    },
    {
     "name": "stdout",
     "output_type": "stream",
     "text": [
      "valid (259/1000) exact_match01: 0.375 | exact_match01/std: 0.0 | exact_match05: 0.625 | exact_match05/std: 0.0 | loss: 0.022179845720529556 | loss/mean: 0.022179845720529556 | loss/std: 0.0 | lr: 0.0001 | momentum: 0.9\n",
      "* Epoch (259/1000) \n"
     ]
    },
    {
     "data": {
      "application/vnd.jupyter.widget-view+json": {
       "model_id": "4d0b51898b51458fbe55ec9f54b2a911",
       "version_major": 2,
       "version_minor": 0
      },
      "text/plain": [
       "260/1000 * Epoch (train):   0%|          | 0/1 [00:00<?, ?it/s]"
      ]
     },
     "metadata": {},
     "output_type": "display_data"
    },
    {
     "name": "stdout",
     "output_type": "stream",
     "text": [
      "train (260/1000) loss: 0.07258909940719604 | loss/mean: 0.07258909940719604 | loss/std: 0.0 | lr: 0.0001 | momentum: 0.9\n"
     ]
    },
    {
     "data": {
      "application/vnd.jupyter.widget-view+json": {
       "model_id": "c55f7be44a044336b4226d26af479ff4",
       "version_major": 2,
       "version_minor": 0
      },
      "text/plain": [
       "260/1000 * Epoch (valid):   0%|          | 0/1 [00:00<?, ?it/s]"
      ]
     },
     "metadata": {},
     "output_type": "display_data"
    },
    {
     "name": "stdout",
     "output_type": "stream",
     "text": [
      "valid (260/1000) exact_match01: 0.5 | exact_match01/std: 0.0 | exact_match05: 0.75 | exact_match05/std: 0.0 | loss: 0.02172604762017727 | loss/mean: 0.02172604762017727 | loss/std: 0.0 | lr: 0.0001 | momentum: 0.9\n",
      "* Epoch (260/1000) \n"
     ]
    },
    {
     "data": {
      "application/vnd.jupyter.widget-view+json": {
       "model_id": "beee9f55f30f474698b3d897658e182c",
       "version_major": 2,
       "version_minor": 0
      },
      "text/plain": [
       "261/1000 * Epoch (train):   0%|          | 0/1 [00:00<?, ?it/s]"
      ]
     },
     "metadata": {},
     "output_type": "display_data"
    },
    {
     "name": "stdout",
     "output_type": "stream",
     "text": [
      "train (261/1000) loss: 0.06949100643396378 | loss/mean: 0.06949100643396378 | loss/std: 0.0 | lr: 0.0001 | momentum: 0.9\n"
     ]
    },
    {
     "data": {
      "application/vnd.jupyter.widget-view+json": {
       "model_id": "4c7b1a5a69a64b959bda705b980fda3c",
       "version_major": 2,
       "version_minor": 0
      },
      "text/plain": [
       "261/1000 * Epoch (valid):   0%|          | 0/1 [00:00<?, ?it/s]"
      ]
     },
     "metadata": {},
     "output_type": "display_data"
    },
    {
     "name": "stdout",
     "output_type": "stream",
     "text": [
      "valid (261/1000) exact_match01: 0.5 | exact_match01/std: 0.0 | exact_match05: 0.75 | exact_match05/std: 0.0 | loss: 0.021246787160634995 | loss/mean: 0.021246787160634995 | loss/std: 0.0 | lr: 0.0001 | momentum: 0.9\n",
      "* Epoch (261/1000) \n"
     ]
    },
    {
     "data": {
      "application/vnd.jupyter.widget-view+json": {
       "model_id": "5e5c2411a5b747dd9c98b57e9a06b158",
       "version_major": 2,
       "version_minor": 0
      },
      "text/plain": [
       "262/1000 * Epoch (train):   0%|          | 0/1 [00:00<?, ?it/s]"
      ]
     },
     "metadata": {},
     "output_type": "display_data"
    },
    {
     "name": "stdout",
     "output_type": "stream",
     "text": [
      "train (262/1000) loss: 0.0776539072394371 | loss/mean: 0.0776539072394371 | loss/std: 0.0 | lr: 0.0001 | momentum: 0.9\n"
     ]
    },
    {
     "data": {
      "application/vnd.jupyter.widget-view+json": {
       "model_id": "f6cec113bd6341b583f46d23826f718f",
       "version_major": 2,
       "version_minor": 0
      },
      "text/plain": [
       "262/1000 * Epoch (valid):   0%|          | 0/1 [00:00<?, ?it/s]"
      ]
     },
     "metadata": {},
     "output_type": "display_data"
    },
    {
     "name": "stdout",
     "output_type": "stream",
     "text": [
      "valid (262/1000) exact_match01: 0.5 | exact_match01/std: 0.0 | exact_match05: 0.75 | exact_match05/std: 0.0 | loss: 0.020780395716428757 | loss/mean: 0.020780395716428757 | loss/std: 0.0 | lr: 0.0001 | momentum: 0.9\n",
      "* Epoch (262/1000) \n"
     ]
    },
    {
     "data": {
      "application/vnd.jupyter.widget-view+json": {
       "model_id": "0bcf0e53317d41dd94f20336576112c4",
       "version_major": 2,
       "version_minor": 0
      },
      "text/plain": [
       "263/1000 * Epoch (train):   0%|          | 0/1 [00:00<?, ?it/s]"
      ]
     },
     "metadata": {},
     "output_type": "display_data"
    },
    {
     "name": "stdout",
     "output_type": "stream",
     "text": [
      "train (263/1000) loss: 0.07739868015050888 | loss/mean: 0.07739868015050888 | loss/std: 0.0 | lr: 0.0001 | momentum: 0.9\n"
     ]
    },
    {
     "data": {
      "application/vnd.jupyter.widget-view+json": {
       "model_id": "2003d9b0c68948fcb0bb20c22f0b6714",
       "version_major": 2,
       "version_minor": 0
      },
      "text/plain": [
       "263/1000 * Epoch (valid):   0%|          | 0/1 [00:00<?, ?it/s]"
      ]
     },
     "metadata": {},
     "output_type": "display_data"
    },
    {
     "name": "stdout",
     "output_type": "stream",
     "text": [
      "valid (263/1000) exact_match01: 0.5 | exact_match01/std: 0.0 | exact_match05: 0.75 | exact_match05/std: 0.0 | loss: 0.020330224186182022 | loss/mean: 0.020330224186182022 | loss/std: 0.0 | lr: 0.0001 | momentum: 0.9\n",
      "* Epoch (263/1000) \n"
     ]
    },
    {
     "data": {
      "application/vnd.jupyter.widget-view+json": {
       "model_id": "d43e0213105d49b2b5fcbdf4ea8bcc4a",
       "version_major": 2,
       "version_minor": 0
      },
      "text/plain": [
       "264/1000 * Epoch (train):   0%|          | 0/1 [00:00<?, ?it/s]"
      ]
     },
     "metadata": {},
     "output_type": "display_data"
    },
    {
     "name": "stdout",
     "output_type": "stream",
     "text": [
      "train (264/1000) loss: 0.08095443993806839 | loss/mean: 0.08095443993806839 | loss/std: 0.0 | lr: 0.0001 | momentum: 0.9\n"
     ]
    },
    {
     "data": {
      "application/vnd.jupyter.widget-view+json": {
       "model_id": "3833a728995b40e1a664ded33bc339da",
       "version_major": 2,
       "version_minor": 0
      },
      "text/plain": [
       "264/1000 * Epoch (valid):   0%|          | 0/1 [00:00<?, ?it/s]"
      ]
     },
     "metadata": {},
     "output_type": "display_data"
    },
    {
     "name": "stdout",
     "output_type": "stream",
     "text": [
      "valid (264/1000) exact_match01: 0.5 | exact_match01/std: 0.0 | exact_match05: 0.75 | exact_match05/std: 0.0 | loss: 0.019894730299711227 | loss/mean: 0.019894730299711227 | loss/std: 0.0 | lr: 0.0001 | momentum: 0.9\n",
      "* Epoch (264/1000) \n"
     ]
    },
    {
     "data": {
      "application/vnd.jupyter.widget-view+json": {
       "model_id": "7290fb83c7fb441abb8b278ab5b082a8",
       "version_major": 2,
       "version_minor": 0
      },
      "text/plain": [
       "265/1000 * Epoch (train):   0%|          | 0/1 [00:00<?, ?it/s]"
      ]
     },
     "metadata": {},
     "output_type": "display_data"
    },
    {
     "name": "stdout",
     "output_type": "stream",
     "text": [
      "train (265/1000) loss: 0.07503298670053482 | loss/mean: 0.07503298670053482 | loss/std: 0.0 | lr: 0.0001 | momentum: 0.9\n"
     ]
    },
    {
     "data": {
      "application/vnd.jupyter.widget-view+json": {
       "model_id": "c87a62f983964efa9325354a310c7dd1",
       "version_major": 2,
       "version_minor": 0
      },
      "text/plain": [
       "265/1000 * Epoch (valid):   0%|          | 0/1 [00:00<?, ?it/s]"
      ]
     },
     "metadata": {},
     "output_type": "display_data"
    },
    {
     "name": "stdout",
     "output_type": "stream",
     "text": [
      "valid (265/1000) exact_match01: 0.5 | exact_match01/std: 0.0 | exact_match05: 0.75 | exact_match05/std: 0.0 | loss: 0.019467946141958237 | loss/mean: 0.019467946141958237 | loss/std: 0.0 | lr: 0.0001 | momentum: 0.9\n",
      "* Epoch (265/1000) \n"
     ]
    },
    {
     "data": {
      "application/vnd.jupyter.widget-view+json": {
       "model_id": "b20caa75056d48a68b1156528c1f2a99",
       "version_major": 2,
       "version_minor": 0
      },
      "text/plain": [
       "266/1000 * Epoch (train):   0%|          | 0/1 [00:00<?, ?it/s]"
      ]
     },
     "metadata": {},
     "output_type": "display_data"
    },
    {
     "name": "stdout",
     "output_type": "stream",
     "text": [
      "train (266/1000) loss: 0.08011193573474884 | loss/mean: 0.08011193573474884 | loss/std: 0.0 | lr: 0.0001 | momentum: 0.9\n"
     ]
    },
    {
     "data": {
      "application/vnd.jupyter.widget-view+json": {
       "model_id": "0572400b04584162b1b97918a1cc1cd8",
       "version_major": 2,
       "version_minor": 0
      },
      "text/plain": [
       "266/1000 * Epoch (valid):   0%|          | 0/1 [00:00<?, ?it/s]"
      ]
     },
     "metadata": {},
     "output_type": "display_data"
    },
    {
     "name": "stdout",
     "output_type": "stream",
     "text": [
      "valid (266/1000) exact_match01: 0.5 | exact_match01/std: 0.0 | exact_match05: 0.75 | exact_match05/std: 0.0 | loss: 0.019051548093557358 | loss/mean: 0.019051548093557358 | loss/std: 0.0 | lr: 0.0001 | momentum: 0.9\n",
      "* Epoch (266/1000) \n"
     ]
    },
    {
     "data": {
      "application/vnd.jupyter.widget-view+json": {
       "model_id": "a6ac335057c44b1082c12e0bcc04e44d",
       "version_major": 2,
       "version_minor": 0
      },
      "text/plain": [
       "267/1000 * Epoch (train):   0%|          | 0/1 [00:00<?, ?it/s]"
      ]
     },
     "metadata": {},
     "output_type": "display_data"
    },
    {
     "name": "stdout",
     "output_type": "stream",
     "text": [
      "train (267/1000) loss: 0.07463287562131882 | loss/mean: 0.07463287562131882 | loss/std: 0.0 | lr: 0.0001 | momentum: 0.9\n"
     ]
    },
    {
     "data": {
      "application/vnd.jupyter.widget-view+json": {
       "model_id": "88554f16b6744e37a1d088514e82b181",
       "version_major": 2,
       "version_minor": 0
      },
      "text/plain": [
       "267/1000 * Epoch (valid):   0%|          | 0/1 [00:00<?, ?it/s]"
      ]
     },
     "metadata": {},
     "output_type": "display_data"
    },
    {
     "name": "stdout",
     "output_type": "stream",
     "text": [
      "valid (267/1000) exact_match01: 0.5 | exact_match01/std: 0.0 | exact_match05: 0.75 | exact_match05/std: 0.0 | loss: 0.018647413700819016 | loss/mean: 0.018647413700819016 | loss/std: 0.0 | lr: 0.0001 | momentum: 0.9\n",
      "* Epoch (267/1000) \n"
     ]
    },
    {
     "data": {
      "application/vnd.jupyter.widget-view+json": {
       "model_id": "996581621a3c4c7695f21daed8074e9d",
       "version_major": 2,
       "version_minor": 0
      },
      "text/plain": [
       "268/1000 * Epoch (train):   0%|          | 0/1 [00:00<?, ?it/s]"
      ]
     },
     "metadata": {},
     "output_type": "display_data"
    },
    {
     "name": "stdout",
     "output_type": "stream",
     "text": [
      "train (268/1000) loss: 0.06913931667804718 | loss/mean: 0.06913931667804718 | loss/std: 0.0 | lr: 0.0001 | momentum: 0.9\n"
     ]
    },
    {
     "data": {
      "application/vnd.jupyter.widget-view+json": {
       "model_id": "1302d4991dc9464993b7f5167b3d7b07",
       "version_major": 2,
       "version_minor": 0
      },
      "text/plain": [
       "268/1000 * Epoch (valid):   0%|          | 0/1 [00:00<?, ?it/s]"
      ]
     },
     "metadata": {},
     "output_type": "display_data"
    },
    {
     "name": "stdout",
     "output_type": "stream",
     "text": [
      "valid (268/1000) exact_match01: 0.625 | exact_match01/std: 0.0 | exact_match05: 0.75 | exact_match05/std: 0.0 | loss: 0.01832803711295128 | loss/mean: 0.01832803711295128 | loss/std: 0.0 | lr: 0.0001 | momentum: 0.9\n",
      "* Epoch (268/1000) \n"
     ]
    },
    {
     "data": {
      "application/vnd.jupyter.widget-view+json": {
       "model_id": "084b2562f81e4a0dabd3e945b0e4e550",
       "version_major": 2,
       "version_minor": 0
      },
      "text/plain": [
       "269/1000 * Epoch (train):   0%|          | 0/1 [00:00<?, ?it/s]"
      ]
     },
     "metadata": {},
     "output_type": "display_data"
    },
    {
     "name": "stdout",
     "output_type": "stream",
     "text": [
      "train (269/1000) loss: 0.08156587928533554 | loss/mean: 0.08156587928533554 | loss/std: 0.0 | lr: 0.0001 | momentum: 0.9\n"
     ]
    },
    {
     "data": {
      "application/vnd.jupyter.widget-view+json": {
       "model_id": "5b4544b2fc9d4ec9a94e7db12fa7159e",
       "version_major": 2,
       "version_minor": 0
      },
      "text/plain": [
       "269/1000 * Epoch (valid):   0%|          | 0/1 [00:00<?, ?it/s]"
      ]
     },
     "metadata": {},
     "output_type": "display_data"
    },
    {
     "name": "stdout",
     "output_type": "stream",
     "text": [
      "valid (269/1000) exact_match01: 0.625 | exact_match01/std: 0.0 | exact_match05: 0.75 | exact_match05/std: 0.0 | loss: 0.01808769442141056 | loss/mean: 0.01808769442141056 | loss/std: 0.0 | lr: 0.0001 | momentum: 0.9\n",
      "* Epoch (269/1000) \n"
     ]
    },
    {
     "data": {
      "application/vnd.jupyter.widget-view+json": {
       "model_id": "b5f510da303a43edbd99ddd16778ded0",
       "version_major": 2,
       "version_minor": 0
      },
      "text/plain": [
       "270/1000 * Epoch (train):   0%|          | 0/1 [00:00<?, ?it/s]"
      ]
     },
     "metadata": {},
     "output_type": "display_data"
    },
    {
     "name": "stdout",
     "output_type": "stream",
     "text": [
      "train (270/1000) loss: 0.08106543868780136 | loss/mean: 0.08106543868780136 | loss/std: 0.0 | lr: 0.0001 | momentum: 0.9\n"
     ]
    },
    {
     "data": {
      "application/vnd.jupyter.widget-view+json": {
       "model_id": "543f9190b01447d0ab200b018c48ff59",
       "version_major": 2,
       "version_minor": 0
      },
      "text/plain": [
       "270/1000 * Epoch (valid):   0%|          | 0/1 [00:00<?, ?it/s]"
      ]
     },
     "metadata": {},
     "output_type": "display_data"
    },
    {
     "name": "stdout",
     "output_type": "stream",
     "text": [
      "valid (270/1000) exact_match01: 0.625 | exact_match01/std: 0.0 | exact_match05: 0.75 | exact_match05/std: 0.0 | loss: 0.017807796597480774 | loss/mean: 0.017807796597480774 | loss/std: 0.0 | lr: 0.0001 | momentum: 0.9\n",
      "* Epoch (270/1000) \n"
     ]
    },
    {
     "data": {
      "application/vnd.jupyter.widget-view+json": {
       "model_id": "14795f5c7d374fa19706d3e48b2b2a33",
       "version_major": 2,
       "version_minor": 0
      },
      "text/plain": [
       "271/1000 * Epoch (train):   0%|          | 0/1 [00:00<?, ?it/s]"
      ]
     },
     "metadata": {},
     "output_type": "display_data"
    },
    {
     "name": "stdout",
     "output_type": "stream",
     "text": [
      "train (271/1000) loss: 0.07427314668893814 | loss/mean: 0.07427314668893814 | loss/std: 0.0 | lr: 0.0001 | momentum: 0.9\n"
     ]
    },
    {
     "data": {
      "application/vnd.jupyter.widget-view+json": {
       "model_id": "2a540ef26ba24abab7b196ef216eeade",
       "version_major": 2,
       "version_minor": 0
      },
      "text/plain": [
       "271/1000 * Epoch (valid):   0%|          | 0/1 [00:00<?, ?it/s]"
      ]
     },
     "metadata": {},
     "output_type": "display_data"
    },
    {
     "name": "stdout",
     "output_type": "stream",
     "text": [
      "valid (271/1000) exact_match01: 0.625 | exact_match01/std: 0.0 | exact_match05: 0.75 | exact_match05/std: 0.0 | loss: 0.017496157437562943 | loss/mean: 0.017496157437562943 | loss/std: 0.0 | lr: 0.0001 | momentum: 0.9\n",
      "* Epoch (271/1000) \n"
     ]
    },
    {
     "data": {
      "application/vnd.jupyter.widget-view+json": {
       "model_id": "5778057622de4c6e8f16f0e75bd982a7",
       "version_major": 2,
       "version_minor": 0
      },
      "text/plain": [
       "272/1000 * Epoch (train):   0%|          | 0/1 [00:00<?, ?it/s]"
      ]
     },
     "metadata": {},
     "output_type": "display_data"
    },
    {
     "name": "stdout",
     "output_type": "stream",
     "text": [
      "train (272/1000) loss: 0.06795590370893478 | loss/mean: 0.06795590370893478 | loss/std: 0.0 | lr: 0.0001 | momentum: 0.9\n"
     ]
    },
    {
     "data": {
      "application/vnd.jupyter.widget-view+json": {
       "model_id": "7d5bdc193da9405c81ae0cdcf73a8ffb",
       "version_major": 2,
       "version_minor": 0
      },
      "text/plain": [
       "272/1000 * Epoch (valid):   0%|          | 0/1 [00:00<?, ?it/s]"
      ]
     },
     "metadata": {},
     "output_type": "display_data"
    },
    {
     "name": "stdout",
     "output_type": "stream",
     "text": [
      "valid (272/1000) exact_match01: 0.625 | exact_match01/std: 0.0 | exact_match05: 0.75 | exact_match05/std: 0.0 | loss: 0.017177704721689224 | loss/mean: 0.017177704721689224 | loss/std: 0.0 | lr: 0.0001 | momentum: 0.9\n",
      "* Epoch (272/1000) \n"
     ]
    },
    {
     "data": {
      "application/vnd.jupyter.widget-view+json": {
       "model_id": "a765816228a044f188907dbcf00a668b",
       "version_major": 2,
       "version_minor": 0
      },
      "text/plain": [
       "273/1000 * Epoch (train):   0%|          | 0/1 [00:00<?, ?it/s]"
      ]
     },
     "metadata": {},
     "output_type": "display_data"
    },
    {
     "name": "stdout",
     "output_type": "stream",
     "text": [
      "train (273/1000) loss: 0.07353219389915466 | loss/mean: 0.07353219389915466 | loss/std: 0.0 | lr: 0.0001 | momentum: 0.9\n"
     ]
    },
    {
     "data": {
      "application/vnd.jupyter.widget-view+json": {
       "model_id": "12e5741f30f64afaa498be0226b6d94d",
       "version_major": 2,
       "version_minor": 0
      },
      "text/plain": [
       "273/1000 * Epoch (valid):   0%|          | 0/1 [00:00<?, ?it/s]"
      ]
     },
     "metadata": {},
     "output_type": "display_data"
    },
    {
     "name": "stdout",
     "output_type": "stream",
     "text": [
      "valid (273/1000) exact_match01: 0.625 | exact_match01/std: 0.0 | exact_match05: 0.75 | exact_match05/std: 0.0 | loss: 0.016888903453946114 | loss/mean: 0.016888903453946114 | loss/std: 0.0 | lr: 0.0001 | momentum: 0.9\n",
      "* Epoch (273/1000) \n"
     ]
    },
    {
     "data": {
      "application/vnd.jupyter.widget-view+json": {
       "model_id": "4c1201a49ec14a8a8e4d8d959afb2eed",
       "version_major": 2,
       "version_minor": 0
      },
      "text/plain": [
       "274/1000 * Epoch (train):   0%|          | 0/1 [00:00<?, ?it/s]"
      ]
     },
     "metadata": {},
     "output_type": "display_data"
    },
    {
     "name": "stdout",
     "output_type": "stream",
     "text": [
      "train (274/1000) loss: 0.06245744600892067 | loss/mean: 0.06245744600892067 | loss/std: 0.0 | lr: 0.0001 | momentum: 0.9\n"
     ]
    },
    {
     "data": {
      "application/vnd.jupyter.widget-view+json": {
       "model_id": "b23a554fda17451f85741caa5ffad833",
       "version_major": 2,
       "version_minor": 0
      },
      "text/plain": [
       "274/1000 * Epoch (valid):   0%|          | 0/1 [00:00<?, ?it/s]"
      ]
     },
     "metadata": {},
     "output_type": "display_data"
    },
    {
     "name": "stdout",
     "output_type": "stream",
     "text": [
      "valid (274/1000) exact_match01: 0.625 | exact_match01/std: 0.0 | exact_match05: 0.75 | exact_match05/std: 0.0 | loss: 0.016589881852269173 | loss/mean: 0.016589881852269173 | loss/std: 0.0 | lr: 0.0001 | momentum: 0.9\n",
      "* Epoch (274/1000) \n"
     ]
    },
    {
     "data": {
      "application/vnd.jupyter.widget-view+json": {
       "model_id": "17889bbba14a4dc1bdd2c106b0df55fe",
       "version_major": 2,
       "version_minor": 0
      },
      "text/plain": [
       "275/1000 * Epoch (train):   0%|          | 0/1 [00:00<?, ?it/s]"
      ]
     },
     "metadata": {},
     "output_type": "display_data"
    },
    {
     "name": "stdout",
     "output_type": "stream",
     "text": [
      "train (275/1000) loss: 0.07624202221632004 | loss/mean: 0.07624202221632004 | loss/std: 0.0 | lr: 0.0001 | momentum: 0.9\n"
     ]
    },
    {
     "data": {
      "application/vnd.jupyter.widget-view+json": {
       "model_id": "f6a081ec11464ae38ec38ae54ca7af0e",
       "version_major": 2,
       "version_minor": 0
      },
      "text/plain": [
       "275/1000 * Epoch (valid):   0%|          | 0/1 [00:00<?, ?it/s]"
      ]
     },
     "metadata": {},
     "output_type": "display_data"
    },
    {
     "name": "stdout",
     "output_type": "stream",
     "text": [
      "valid (275/1000) exact_match01: 0.625 | exact_match01/std: 0.0 | exact_match05: 0.75 | exact_match05/std: 0.0 | loss: 0.01631200686097145 | loss/mean: 0.01631200686097145 | loss/std: 0.0 | lr: 0.0001 | momentum: 0.9\n",
      "* Epoch (275/1000) \n"
     ]
    },
    {
     "data": {
      "application/vnd.jupyter.widget-view+json": {
       "model_id": "bafe0f0bf2594da78b532b63675c8275",
       "version_major": 2,
       "version_minor": 0
      },
      "text/plain": [
       "276/1000 * Epoch (train):   0%|          | 0/1 [00:00<?, ?it/s]"
      ]
     },
     "metadata": {},
     "output_type": "display_data"
    },
    {
     "name": "stdout",
     "output_type": "stream",
     "text": [
      "train (276/1000) loss: 0.07588458806276321 | loss/mean: 0.07588458806276321 | loss/std: 0.0 | lr: 0.0001 | momentum: 0.9\n"
     ]
    },
    {
     "data": {
      "application/vnd.jupyter.widget-view+json": {
       "model_id": "8d938c81b525459095fc6d49cde55153",
       "version_major": 2,
       "version_minor": 0
      },
      "text/plain": [
       "276/1000 * Epoch (valid):   0%|          | 0/1 [00:00<?, ?it/s]"
      ]
     },
     "metadata": {},
     "output_type": "display_data"
    },
    {
     "name": "stdout",
     "output_type": "stream",
     "text": [
      "valid (276/1000) exact_match01: 0.625 | exact_match01/std: 0.0 | exact_match05: 0.75 | exact_match05/std: 0.0 | loss: 0.016032462939620018 | loss/mean: 0.016032462939620018 | loss/std: 0.0 | lr: 0.0001 | momentum: 0.9\n",
      "* Epoch (276/1000) \n"
     ]
    },
    {
     "data": {
      "application/vnd.jupyter.widget-view+json": {
       "model_id": "0c28c9b583c14633a7ec0d002fc8a64e",
       "version_major": 2,
       "version_minor": 0
      },
      "text/plain": [
       "277/1000 * Epoch (train):   0%|          | 0/1 [00:00<?, ?it/s]"
      ]
     },
     "metadata": {},
     "output_type": "display_data"
    },
    {
     "name": "stdout",
     "output_type": "stream",
     "text": [
      "train (277/1000) loss: 0.08423066139221191 | loss/mean: 0.08423066139221191 | loss/std: 0.0 | lr: 0.0001 | momentum: 0.9\n"
     ]
    },
    {
     "data": {
      "application/vnd.jupyter.widget-view+json": {
       "model_id": "9d33dee17e7c455b921746772c58fcde",
       "version_major": 2,
       "version_minor": 0
      },
      "text/plain": [
       "277/1000 * Epoch (valid):   0%|          | 0/1 [00:00<?, ?it/s]"
      ]
     },
     "metadata": {},
     "output_type": "display_data"
    },
    {
     "name": "stdout",
     "output_type": "stream",
     "text": [
      "valid (277/1000) exact_match01: 0.75 | exact_match01/std: 0.0 | exact_match05: 0.75 | exact_match05/std: 0.0 | loss: 0.01575060747563839 | loss/mean: 0.01575060747563839 | loss/std: 0.0 | lr: 0.0001 | momentum: 0.9\n",
      "* Epoch (277/1000) \n"
     ]
    },
    {
     "data": {
      "application/vnd.jupyter.widget-view+json": {
       "model_id": "7d9abbe30d434f24bec692d658d64970",
       "version_major": 2,
       "version_minor": 0
      },
      "text/plain": [
       "278/1000 * Epoch (train):   0%|          | 0/1 [00:00<?, ?it/s]"
      ]
     },
     "metadata": {},
     "output_type": "display_data"
    },
    {
     "name": "stdout",
     "output_type": "stream",
     "text": [
      "train (278/1000) loss: 0.05810893699526787 | loss/mean: 0.05810893699526787 | loss/std: 0.0 | lr: 0.0001 | momentum: 0.9\n"
     ]
    },
    {
     "data": {
      "application/vnd.jupyter.widget-view+json": {
       "model_id": "9991f368c75f4645afddb48034285e51",
       "version_major": 2,
       "version_minor": 0
      },
      "text/plain": [
       "278/1000 * Epoch (valid):   0%|          | 0/1 [00:00<?, ?it/s]"
      ]
     },
     "metadata": {},
     "output_type": "display_data"
    },
    {
     "name": "stdout",
     "output_type": "stream",
     "text": [
      "valid (278/1000) exact_match01: 0.75 | exact_match01/std: 0.0 | exact_match05: 0.75 | exact_match05/std: 0.0 | loss: 0.015433686785399914 | loss/mean: 0.015433686785399914 | loss/std: 0.0 | lr: 0.0001 | momentum: 0.9\n",
      "* Epoch (278/1000) \n"
     ]
    },
    {
     "data": {
      "application/vnd.jupyter.widget-view+json": {
       "model_id": "92518535776b42db97e69d011948f62e",
       "version_major": 2,
       "version_minor": 0
      },
      "text/plain": [
       "279/1000 * Epoch (train):   0%|          | 0/1 [00:00<?, ?it/s]"
      ]
     },
     "metadata": {},
     "output_type": "display_data"
    },
    {
     "name": "stdout",
     "output_type": "stream",
     "text": [
      "train (279/1000) loss: 0.07429826259613037 | loss/mean: 0.07429826259613037 | loss/std: 0.0 | lr: 0.0001 | momentum: 0.9\n"
     ]
    },
    {
     "data": {
      "application/vnd.jupyter.widget-view+json": {
       "model_id": "927667c2147547f1916a9969d483cd21",
       "version_major": 2,
       "version_minor": 0
      },
      "text/plain": [
       "279/1000 * Epoch (valid):   0%|          | 0/1 [00:00<?, ?it/s]"
      ]
     },
     "metadata": {},
     "output_type": "display_data"
    },
    {
     "name": "stdout",
     "output_type": "stream",
     "text": [
      "valid (279/1000) exact_match01: 0.75 | exact_match01/std: 0.0 | exact_match05: 0.75 | exact_match05/std: 0.0 | loss: 0.015118231065571308 | loss/mean: 0.015118231065571308 | loss/std: 0.0 | lr: 0.0001 | momentum: 0.9\n",
      "* Epoch (279/1000) \n"
     ]
    },
    {
     "data": {
      "application/vnd.jupyter.widget-view+json": {
       "model_id": "72a6b6c74ffb4ff7a7c8a7919195e101",
       "version_major": 2,
       "version_minor": 0
      },
      "text/plain": [
       "280/1000 * Epoch (train):   0%|          | 0/1 [00:00<?, ?it/s]"
      ]
     },
     "metadata": {},
     "output_type": "display_data"
    },
    {
     "name": "stdout",
     "output_type": "stream",
     "text": [
      "train (280/1000) loss: 0.05510875582695007 | loss/mean: 0.05510875582695007 | loss/std: 0.0 | lr: 0.0001 | momentum: 0.9\n"
     ]
    },
    {
     "data": {
      "application/vnd.jupyter.widget-view+json": {
       "model_id": "3037f75afcde431fa77226ef98ae77c9",
       "version_major": 2,
       "version_minor": 0
      },
      "text/plain": [
       "280/1000 * Epoch (valid):   0%|          | 0/1 [00:00<?, ?it/s]"
      ]
     },
     "metadata": {},
     "output_type": "display_data"
    },
    {
     "name": "stdout",
     "output_type": "stream",
     "text": [
      "valid (280/1000) exact_match01: 0.75 | exact_match01/std: 0.0 | exact_match05: 0.75 | exact_match05/std: 0.0 | loss: 0.014830373227596283 | loss/mean: 0.014830373227596283 | loss/std: 0.0 | lr: 0.0001 | momentum: 0.9\n",
      "* Epoch (280/1000) \n"
     ]
    },
    {
     "data": {
      "application/vnd.jupyter.widget-view+json": {
       "model_id": "8b55c352df814dc5b4a45386a781dc1e",
       "version_major": 2,
       "version_minor": 0
      },
      "text/plain": [
       "281/1000 * Epoch (train):   0%|          | 0/1 [00:00<?, ?it/s]"
      ]
     },
     "metadata": {},
     "output_type": "display_data"
    },
    {
     "name": "stdout",
     "output_type": "stream",
     "text": [
      "train (281/1000) loss: 0.0677563026547432 | loss/mean: 0.0677563026547432 | loss/std: 0.0 | lr: 0.0001 | momentum: 0.9\n"
     ]
    },
    {
     "data": {
      "application/vnd.jupyter.widget-view+json": {
       "model_id": "039a7f67b7b84888adb072354edffbba",
       "version_major": 2,
       "version_minor": 0
      },
      "text/plain": [
       "281/1000 * Epoch (valid):   0%|          | 0/1 [00:00<?, ?it/s]"
      ]
     },
     "metadata": {},
     "output_type": "display_data"
    },
    {
     "name": "stdout",
     "output_type": "stream",
     "text": [
      "valid (281/1000) exact_match01: 0.75 | exact_match01/std: 0.0 | exact_match05: 0.75 | exact_match05/std: 0.0 | loss: 0.01452248077839613 | loss/mean: 0.01452248077839613 | loss/std: 0.0 | lr: 0.0001 | momentum: 0.9\n",
      "* Epoch (281/1000) \n"
     ]
    },
    {
     "data": {
      "application/vnd.jupyter.widget-view+json": {
       "model_id": "ba70d24a87f94386a1d81eab47856148",
       "version_major": 2,
       "version_minor": 0
      },
      "text/plain": [
       "282/1000 * Epoch (train):   0%|          | 0/1 [00:00<?, ?it/s]"
      ]
     },
     "metadata": {},
     "output_type": "display_data"
    },
    {
     "name": "stdout",
     "output_type": "stream",
     "text": [
      "train (282/1000) loss: 0.06878229975700378 | loss/mean: 0.06878229975700378 | loss/std: 0.0 | lr: 0.0001 | momentum: 0.9\n"
     ]
    },
    {
     "data": {
      "application/vnd.jupyter.widget-view+json": {
       "model_id": "89ccd3360e83480caaebbac2f2be9a1d",
       "version_major": 2,
       "version_minor": 0
      },
      "text/plain": [
       "282/1000 * Epoch (valid):   0%|          | 0/1 [00:00<?, ?it/s]"
      ]
     },
     "metadata": {},
     "output_type": "display_data"
    },
    {
     "name": "stdout",
     "output_type": "stream",
     "text": [
      "valid (282/1000) exact_match01: 0.75 | exact_match01/std: 0.0 | exact_match05: 0.75 | exact_match05/std: 0.0 | loss: 0.014169278554618359 | loss/mean: 0.014169278554618359 | loss/std: 0.0 | lr: 0.0001 | momentum: 0.9\n",
      "* Epoch (282/1000) \n"
     ]
    },
    {
     "data": {
      "application/vnd.jupyter.widget-view+json": {
       "model_id": "5045c5b59c4b46e9aec80cb1a634254d",
       "version_major": 2,
       "version_minor": 0
      },
      "text/plain": [
       "283/1000 * Epoch (train):   0%|          | 0/1 [00:00<?, ?it/s]"
      ]
     },
     "metadata": {},
     "output_type": "display_data"
    },
    {
     "name": "stdout",
     "output_type": "stream",
     "text": [
      "train (283/1000) loss: 0.06657514721155167 | loss/mean: 0.06657514721155167 | loss/std: 0.0 | lr: 0.0001 | momentum: 0.9\n"
     ]
    },
    {
     "data": {
      "application/vnd.jupyter.widget-view+json": {
       "model_id": "28f55d178fa24659bf385d44a8d824fb",
       "version_major": 2,
       "version_minor": 0
      },
      "text/plain": [
       "283/1000 * Epoch (valid):   0%|          | 0/1 [00:00<?, ?it/s]"
      ]
     },
     "metadata": {},
     "output_type": "display_data"
    },
    {
     "name": "stdout",
     "output_type": "stream",
     "text": [
      "valid (283/1000) exact_match01: 0.75 | exact_match01/std: 0.0 | exact_match05: 0.75 | exact_match05/std: 0.0 | loss: 0.01377935241907835 | loss/mean: 0.01377935241907835 | loss/std: 0.0 | lr: 0.0001 | momentum: 0.9\n",
      "* Epoch (283/1000) \n"
     ]
    },
    {
     "data": {
      "application/vnd.jupyter.widget-view+json": {
       "model_id": "fdf6c1df7f1c466f98e7eccc69aac172",
       "version_major": 2,
       "version_minor": 0
      },
      "text/plain": [
       "284/1000 * Epoch (train):   0%|          | 0/1 [00:00<?, ?it/s]"
      ]
     },
     "metadata": {},
     "output_type": "display_data"
    },
    {
     "name": "stdout",
     "output_type": "stream",
     "text": [
      "train (284/1000) loss: 0.06674824655056 | loss/mean: 0.06674824655056 | loss/std: 0.0 | lr: 0.0001 | momentum: 0.9\n"
     ]
    },
    {
     "data": {
      "application/vnd.jupyter.widget-view+json": {
       "model_id": "3335b592c3124922ba3e6ad1ee693545",
       "version_major": 2,
       "version_minor": 0
      },
      "text/plain": [
       "284/1000 * Epoch (valid):   0%|          | 0/1 [00:00<?, ?it/s]"
      ]
     },
     "metadata": {},
     "output_type": "display_data"
    },
    {
     "name": "stdout",
     "output_type": "stream",
     "text": [
      "valid (284/1000) exact_match01: 0.75 | exact_match01/std: 0.0 | exact_match05: 0.75 | exact_match05/std: 0.0 | loss: 0.013414457440376282 | loss/mean: 0.013414457440376282 | loss/std: 0.0 | lr: 0.0001 | momentum: 0.9\n",
      "* Epoch (284/1000) \n"
     ]
    },
    {
     "data": {
      "application/vnd.jupyter.widget-view+json": {
       "model_id": "e7d753ef036b47729df411e4081817f3",
       "version_major": 2,
       "version_minor": 0
      },
      "text/plain": [
       "285/1000 * Epoch (train):   0%|          | 0/1 [00:00<?, ?it/s]"
      ]
     },
     "metadata": {},
     "output_type": "display_data"
    },
    {
     "name": "stdout",
     "output_type": "stream",
     "text": [
      "train (285/1000) loss: 0.05528012663125992 | loss/mean: 0.05528012663125992 | loss/std: 0.0 | lr: 0.0001 | momentum: 0.9\n"
     ]
    },
    {
     "data": {
      "application/vnd.jupyter.widget-view+json": {
       "model_id": "c9d67d13233e41b7b9daa6467e0fc15b",
       "version_major": 2,
       "version_minor": 0
      },
      "text/plain": [
       "285/1000 * Epoch (valid):   0%|          | 0/1 [00:00<?, ?it/s]"
      ]
     },
     "metadata": {},
     "output_type": "display_data"
    },
    {
     "name": "stdout",
     "output_type": "stream",
     "text": [
      "valid (285/1000) exact_match01: 0.75 | exact_match01/std: 0.0 | exact_match05: 0.75 | exact_match05/std: 0.0 | loss: 0.013092249631881714 | loss/mean: 0.013092249631881714 | loss/std: 0.0 | lr: 0.0001 | momentum: 0.9\n",
      "* Epoch (285/1000) \n"
     ]
    },
    {
     "data": {
      "application/vnd.jupyter.widget-view+json": {
       "model_id": "b35514975d1f4adeaca5bd3ad0a0a62d",
       "version_major": 2,
       "version_minor": 0
      },
      "text/plain": [
       "286/1000 * Epoch (train):   0%|          | 0/1 [00:00<?, ?it/s]"
      ]
     },
     "metadata": {},
     "output_type": "display_data"
    },
    {
     "name": "stdout",
     "output_type": "stream",
     "text": [
      "train (286/1000) loss: 0.058322448283433914 | loss/mean: 0.058322448283433914 | loss/std: 0.0 | lr: 0.0001 | momentum: 0.9\n"
     ]
    },
    {
     "data": {
      "application/vnd.jupyter.widget-view+json": {
       "model_id": "937c02b4b8694419967b68daef43ca0d",
       "version_major": 2,
       "version_minor": 0
      },
      "text/plain": [
       "286/1000 * Epoch (valid):   0%|          | 0/1 [00:00<?, ?it/s]"
      ]
     },
     "metadata": {},
     "output_type": "display_data"
    },
    {
     "name": "stdout",
     "output_type": "stream",
     "text": [
      "valid (286/1000) exact_match01: 0.75 | exact_match01/std: 0.0 | exact_match05: 0.75 | exact_match05/std: 0.0 | loss: 0.012772728689014912 | loss/mean: 0.012772728689014912 | loss/std: 0.0 | lr: 0.0001 | momentum: 0.9\n",
      "* Epoch (286/1000) \n"
     ]
    },
    {
     "data": {
      "application/vnd.jupyter.widget-view+json": {
       "model_id": "4877dfc6e53d435a8c8d7cf888948e19",
       "version_major": 2,
       "version_minor": 0
      },
      "text/plain": [
       "287/1000 * Epoch (train):   0%|          | 0/1 [00:00<?, ?it/s]"
      ]
     },
     "metadata": {},
     "output_type": "display_data"
    },
    {
     "name": "stdout",
     "output_type": "stream",
     "text": [
      "train (287/1000) loss: 0.057552605867385864 | loss/mean: 0.057552605867385864 | loss/std: 0.0 | lr: 0.0001 | momentum: 0.9\n"
     ]
    },
    {
     "data": {
      "application/vnd.jupyter.widget-view+json": {
       "model_id": "709d3aa0fea24d8da0c3b76bbaaecb1b",
       "version_major": 2,
       "version_minor": 0
      },
      "text/plain": [
       "287/1000 * Epoch (valid):   0%|          | 0/1 [00:00<?, ?it/s]"
      ]
     },
     "metadata": {},
     "output_type": "display_data"
    },
    {
     "name": "stdout",
     "output_type": "stream",
     "text": [
      "valid (287/1000) exact_match01: 0.75 | exact_match01/std: 0.0 | exact_match05: 0.75 | exact_match05/std: 0.0 | loss: 0.012460533529520035 | loss/mean: 0.012460533529520035 | loss/std: 0.0 | lr: 0.0001 | momentum: 0.9\n",
      "* Epoch (287/1000) \n"
     ]
    },
    {
     "data": {
      "application/vnd.jupyter.widget-view+json": {
       "model_id": "24a6ead7aa8840439f4e2272232b87f0",
       "version_major": 2,
       "version_minor": 0
      },
      "text/plain": [
       "288/1000 * Epoch (train):   0%|          | 0/1 [00:00<?, ?it/s]"
      ]
     },
     "metadata": {},
     "output_type": "display_data"
    },
    {
     "name": "stdout",
     "output_type": "stream",
     "text": [
      "train (288/1000) loss: 0.05170023441314697 | loss/mean: 0.05170023441314697 | loss/std: 0.0 | lr: 0.0001 | momentum: 0.9\n"
     ]
    },
    {
     "data": {
      "application/vnd.jupyter.widget-view+json": {
       "model_id": "b302459781a04f02859181111e3c6bad",
       "version_major": 2,
       "version_minor": 0
      },
      "text/plain": [
       "288/1000 * Epoch (valid):   0%|          | 0/1 [00:00<?, ?it/s]"
      ]
     },
     "metadata": {},
     "output_type": "display_data"
    },
    {
     "name": "stdout",
     "output_type": "stream",
     "text": [
      "valid (288/1000) exact_match01: 0.75 | exact_match01/std: 0.0 | exact_match05: 0.75 | exact_match05/std: 0.0 | loss: 0.012145350687205791 | loss/mean: 0.012145350687205791 | loss/std: 0.0 | lr: 0.0001 | momentum: 0.9\n",
      "* Epoch (288/1000) \n"
     ]
    },
    {
     "data": {
      "application/vnd.jupyter.widget-view+json": {
       "model_id": "2cef810ca580457ba2739a31b5e46964",
       "version_major": 2,
       "version_minor": 0
      },
      "text/plain": [
       "289/1000 * Epoch (train):   0%|          | 0/1 [00:00<?, ?it/s]"
      ]
     },
     "metadata": {},
     "output_type": "display_data"
    },
    {
     "name": "stdout",
     "output_type": "stream",
     "text": [
      "train (289/1000) loss: 0.06183663755655289 | loss/mean: 0.06183663755655289 | loss/std: 0.0 | lr: 0.0001 | momentum: 0.9\n"
     ]
    },
    {
     "data": {
      "application/vnd.jupyter.widget-view+json": {
       "model_id": "960cd98c9bbe4a96ba3426433ad300b2",
       "version_major": 2,
       "version_minor": 0
      },
      "text/plain": [
       "289/1000 * Epoch (valid):   0%|          | 0/1 [00:00<?, ?it/s]"
      ]
     },
     "metadata": {},
     "output_type": "display_data"
    },
    {
     "name": "stdout",
     "output_type": "stream",
     "text": [
      "valid (289/1000) exact_match01: 0.75 | exact_match01/std: 0.0 | exact_match05: 0.75 | exact_match05/std: 0.0 | loss: 0.011841541156172752 | loss/mean: 0.011841541156172752 | loss/std: 0.0 | lr: 0.0001 | momentum: 0.9\n",
      "* Epoch (289/1000) \n"
     ]
    },
    {
     "data": {
      "application/vnd.jupyter.widget-view+json": {
       "model_id": "6c9733ec98e64621846829d51269faed",
       "version_major": 2,
       "version_minor": 0
      },
      "text/plain": [
       "290/1000 * Epoch (train):   0%|          | 0/1 [00:00<?, ?it/s]"
      ]
     },
     "metadata": {},
     "output_type": "display_data"
    },
    {
     "name": "stdout",
     "output_type": "stream",
     "text": [
      "train (290/1000) loss: 0.06563233584165573 | loss/mean: 0.06563233584165573 | loss/std: 0.0 | lr: 0.0001 | momentum: 0.9\n"
     ]
    },
    {
     "data": {
      "application/vnd.jupyter.widget-view+json": {
       "model_id": "9e1d89fb36ef45229eb6711947cd9333",
       "version_major": 2,
       "version_minor": 0
      },
      "text/plain": [
       "290/1000 * Epoch (valid):   0%|          | 0/1 [00:00<?, ?it/s]"
      ]
     },
     "metadata": {},
     "output_type": "display_data"
    },
    {
     "name": "stdout",
     "output_type": "stream",
     "text": [
      "valid (290/1000) exact_match01: 0.75 | exact_match01/std: 0.0 | exact_match05: 0.75 | exact_match05/std: 0.0 | loss: 0.011558180674910545 | loss/mean: 0.011558180674910545 | loss/std: 0.0 | lr: 0.0001 | momentum: 0.9\n",
      "* Epoch (290/1000) \n"
     ]
    },
    {
     "data": {
      "application/vnd.jupyter.widget-view+json": {
       "model_id": "d728fb179cfe4b4795b28625ea946db4",
       "version_major": 2,
       "version_minor": 0
      },
      "text/plain": [
       "291/1000 * Epoch (train):   0%|          | 0/1 [00:00<?, ?it/s]"
      ]
     },
     "metadata": {},
     "output_type": "display_data"
    },
    {
     "name": "stdout",
     "output_type": "stream",
     "text": [
      "train (291/1000) loss: 0.05784110724925995 | loss/mean: 0.05784110724925995 | loss/std: 0.0 | lr: 0.0001 | momentum: 0.9\n"
     ]
    },
    {
     "data": {
      "application/vnd.jupyter.widget-view+json": {
       "model_id": "3d7c99a9696040e1b69758e975c33ddd",
       "version_major": 2,
       "version_minor": 0
      },
      "text/plain": [
       "291/1000 * Epoch (valid):   0%|          | 0/1 [00:00<?, ?it/s]"
      ]
     },
     "metadata": {},
     "output_type": "display_data"
    },
    {
     "name": "stdout",
     "output_type": "stream",
     "text": [
      "valid (291/1000) exact_match01: 0.75 | exact_match01/std: 0.0 | exact_match05: 0.75 | exact_match05/std: 0.0 | loss: 0.011275488883256912 | loss/mean: 0.011275488883256912 | loss/std: 0.0 | lr: 0.0001 | momentum: 0.9\n",
      "* Epoch (291/1000) \n"
     ]
    },
    {
     "data": {
      "application/vnd.jupyter.widget-view+json": {
       "model_id": "2d77cec7573348f5962662b7026bf0f6",
       "version_major": 2,
       "version_minor": 0
      },
      "text/plain": [
       "292/1000 * Epoch (train):   0%|          | 0/1 [00:00<?, ?it/s]"
      ]
     },
     "metadata": {},
     "output_type": "display_data"
    },
    {
     "name": "stdout",
     "output_type": "stream",
     "text": [
      "train (292/1000) loss: 0.053441449999809265 | loss/mean: 0.053441449999809265 | loss/std: 0.0 | lr: 0.0001 | momentum: 0.9\n"
     ]
    },
    {
     "data": {
      "application/vnd.jupyter.widget-view+json": {
       "model_id": "5d734f34cb95405c92796c86d6b8c9df",
       "version_major": 2,
       "version_minor": 0
      },
      "text/plain": [
       "292/1000 * Epoch (valid):   0%|          | 0/1 [00:00<?, ?it/s]"
      ]
     },
     "metadata": {},
     "output_type": "display_data"
    },
    {
     "name": "stdout",
     "output_type": "stream",
     "text": [
      "valid (292/1000) exact_match01: 0.75 | exact_match01/std: 0.0 | exact_match05: 0.75 | exact_match05/std: 0.0 | loss: 0.011008120141923428 | loss/mean: 0.011008120141923428 | loss/std: 0.0 | lr: 0.0001 | momentum: 0.9\n",
      "* Epoch (292/1000) \n"
     ]
    },
    {
     "data": {
      "application/vnd.jupyter.widget-view+json": {
       "model_id": "f15cb51a8791493387b0a1c479c44859",
       "version_major": 2,
       "version_minor": 0
      },
      "text/plain": [
       "293/1000 * Epoch (train):   0%|          | 0/1 [00:00<?, ?it/s]"
      ]
     },
     "metadata": {},
     "output_type": "display_data"
    },
    {
     "name": "stdout",
     "output_type": "stream",
     "text": [
      "train (293/1000) loss: 0.07181767374277115 | loss/mean: 0.07181767374277115 | loss/std: 0.0 | lr: 0.0001 | momentum: 0.9\n"
     ]
    },
    {
     "data": {
      "application/vnd.jupyter.widget-view+json": {
       "model_id": "e08a69323eb44d86a22d5c5c1e6912aa",
       "version_major": 2,
       "version_minor": 0
      },
      "text/plain": [
       "293/1000 * Epoch (valid):   0%|          | 0/1 [00:00<?, ?it/s]"
      ]
     },
     "metadata": {},
     "output_type": "display_data"
    },
    {
     "name": "stdout",
     "output_type": "stream",
     "text": [
      "valid (293/1000) exact_match01: 0.75 | exact_match01/std: 0.0 | exact_match05: 0.75 | exact_match05/std: 0.0 | loss: 0.01072639599442482 | loss/mean: 0.01072639599442482 | loss/std: 0.0 | lr: 0.0001 | momentum: 0.9\n",
      "* Epoch (293/1000) \n"
     ]
    },
    {
     "data": {
      "application/vnd.jupyter.widget-view+json": {
       "model_id": "9e43e83c45a8416bab117ce14ad1ba8a",
       "version_major": 2,
       "version_minor": 0
      },
      "text/plain": [
       "294/1000 * Epoch (train):   0%|          | 0/1 [00:00<?, ?it/s]"
      ]
     },
     "metadata": {},
     "output_type": "display_data"
    },
    {
     "name": "stdout",
     "output_type": "stream",
     "text": [
      "train (294/1000) loss: 0.04690981283783913 | loss/mean: 0.04690981283783913 | loss/std: 0.0 | lr: 0.0001 | momentum: 0.9\n"
     ]
    },
    {
     "data": {
      "application/vnd.jupyter.widget-view+json": {
       "model_id": "cd9eec6d0e954ca9a42e2fb0ebdcbc5f",
       "version_major": 2,
       "version_minor": 0
      },
      "text/plain": [
       "294/1000 * Epoch (valid):   0%|          | 0/1 [00:00<?, ?it/s]"
      ]
     },
     "metadata": {},
     "output_type": "display_data"
    },
    {
     "name": "stdout",
     "output_type": "stream",
     "text": [
      "valid (294/1000) exact_match01: 0.75 | exact_match01/std: 0.0 | exact_match05: 0.75 | exact_match05/std: 0.0 | loss: 0.010421250015497208 | loss/mean: 0.010421250015497208 | loss/std: 0.0 | lr: 0.0001 | momentum: 0.9\n",
      "* Epoch (294/1000) \n"
     ]
    },
    {
     "data": {
      "application/vnd.jupyter.widget-view+json": {
       "model_id": "5d97975e016d4289a94a4c2d3b3c8cb5",
       "version_major": 2,
       "version_minor": 0
      },
      "text/plain": [
       "295/1000 * Epoch (train):   0%|          | 0/1 [00:00<?, ?it/s]"
      ]
     },
     "metadata": {},
     "output_type": "display_data"
    },
    {
     "name": "stdout",
     "output_type": "stream",
     "text": [
      "train (295/1000) loss: 0.06480950862169266 | loss/mean: 0.06480950862169266 | loss/std: 0.0 | lr: 0.0001 | momentum: 0.9\n"
     ]
    },
    {
     "data": {
      "application/vnd.jupyter.widget-view+json": {
       "model_id": "48539777d4dc463c8d12149ae179d667",
       "version_major": 2,
       "version_minor": 0
      },
      "text/plain": [
       "295/1000 * Epoch (valid):   0%|          | 0/1 [00:00<?, ?it/s]"
      ]
     },
     "metadata": {},
     "output_type": "display_data"
    },
    {
     "name": "stdout",
     "output_type": "stream",
     "text": [
      "valid (295/1000) exact_match01: 0.75 | exact_match01/std: 0.0 | exact_match05: 0.75 | exact_match05/std: 0.0 | loss: 0.010129407048225403 | loss/mean: 0.010129407048225403 | loss/std: 0.0 | lr: 0.0001 | momentum: 0.9\n",
      "* Epoch (295/1000) \n"
     ]
    },
    {
     "data": {
      "application/vnd.jupyter.widget-view+json": {
       "model_id": "9b032453acc94b6d91e44dd10f09cbf9",
       "version_major": 2,
       "version_minor": 0
      },
      "text/plain": [
       "296/1000 * Epoch (train):   0%|          | 0/1 [00:00<?, ?it/s]"
      ]
     },
     "metadata": {},
     "output_type": "display_data"
    },
    {
     "name": "stdout",
     "output_type": "stream",
     "text": [
      "train (296/1000) loss: 0.057653333991765976 | loss/mean: 0.057653333991765976 | loss/std: 0.0 | lr: 0.0001 | momentum: 0.9\n"
     ]
    },
    {
     "data": {
      "application/vnd.jupyter.widget-view+json": {
       "model_id": "a91875ae652b4daf9a5111b0a10951ae",
       "version_major": 2,
       "version_minor": 0
      },
      "text/plain": [
       "296/1000 * Epoch (valid):   0%|          | 0/1 [00:00<?, ?it/s]"
      ]
     },
     "metadata": {},
     "output_type": "display_data"
    },
    {
     "name": "stdout",
     "output_type": "stream",
     "text": [
      "valid (296/1000) exact_match01: 0.75 | exact_match01/std: 0.0 | exact_match05: 0.75 | exact_match05/std: 0.0 | loss: 0.009842311032116413 | loss/mean: 0.009842311032116413 | loss/std: 0.0 | lr: 0.0001 | momentum: 0.9\n",
      "* Epoch (296/1000) \n"
     ]
    },
    {
     "data": {
      "application/vnd.jupyter.widget-view+json": {
       "model_id": "713b54da0ca444d6aa19fd6f6d14b45c",
       "version_major": 2,
       "version_minor": 0
      },
      "text/plain": [
       "297/1000 * Epoch (train):   0%|          | 0/1 [00:00<?, ?it/s]"
      ]
     },
     "metadata": {},
     "output_type": "display_data"
    },
    {
     "name": "stdout",
     "output_type": "stream",
     "text": [
      "train (297/1000) loss: 0.054022859781980515 | loss/mean: 0.054022859781980515 | loss/std: 0.0 | lr: 0.0001 | momentum: 0.9\n"
     ]
    },
    {
     "data": {
      "application/vnd.jupyter.widget-view+json": {
       "model_id": "d32bad5fd62f48b69715919752420952",
       "version_major": 2,
       "version_minor": 0
      },
      "text/plain": [
       "297/1000 * Epoch (valid):   0%|          | 0/1 [00:00<?, ?it/s]"
      ]
     },
     "metadata": {},
     "output_type": "display_data"
    },
    {
     "name": "stdout",
     "output_type": "stream",
     "text": [
      "valid (297/1000) exact_match01: 0.75 | exact_match01/std: 0.0 | exact_match05: 0.75 | exact_match05/std: 0.0 | loss: 0.009502716362476349 | loss/mean: 0.009502716362476349 | loss/std: 0.0 | lr: 0.0001 | momentum: 0.9\n",
      "* Epoch (297/1000) \n"
     ]
    },
    {
     "data": {
      "application/vnd.jupyter.widget-view+json": {
       "model_id": "8c5811b4e4d3459ea812609eb32ac265",
       "version_major": 2,
       "version_minor": 0
      },
      "text/plain": [
       "298/1000 * Epoch (train):   0%|          | 0/1 [00:00<?, ?it/s]"
      ]
     },
     "metadata": {},
     "output_type": "display_data"
    },
    {
     "name": "stdout",
     "output_type": "stream",
     "text": [
      "train (298/1000) loss: 0.04497646167874336 | loss/mean: 0.04497646167874336 | loss/std: 0.0 | lr: 0.0001 | momentum: 0.9\n"
     ]
    },
    {
     "data": {
      "application/vnd.jupyter.widget-view+json": {
       "model_id": "06da83ce974b4a51922202a1d9db99b7",
       "version_major": 2,
       "version_minor": 0
      },
      "text/plain": [
       "298/1000 * Epoch (valid):   0%|          | 0/1 [00:00<?, ?it/s]"
      ]
     },
     "metadata": {},
     "output_type": "display_data"
    },
    {
     "name": "stdout",
     "output_type": "stream",
     "text": [
      "valid (298/1000) exact_match01: 0.75 | exact_match01/std: 0.0 | exact_match05: 0.75 | exact_match05/std: 0.0 | loss: 0.009172779507935047 | loss/mean: 0.009172779507935047 | loss/std: 0.0 | lr: 0.0001 | momentum: 0.9\n",
      "* Epoch (298/1000) \n"
     ]
    },
    {
     "data": {
      "application/vnd.jupyter.widget-view+json": {
       "model_id": "9e484676c3f5421f980ca3550fd407a9",
       "version_major": 2,
       "version_minor": 0
      },
      "text/plain": [
       "299/1000 * Epoch (train):   0%|          | 0/1 [00:00<?, ?it/s]"
      ]
     },
     "metadata": {},
     "output_type": "display_data"
    },
    {
     "name": "stdout",
     "output_type": "stream",
     "text": [
      "train (299/1000) loss: 0.057886358350515366 | loss/mean: 0.057886358350515366 | loss/std: 0.0 | lr: 0.0001 | momentum: 0.9\n"
     ]
    },
    {
     "data": {
      "application/vnd.jupyter.widget-view+json": {
       "model_id": "732a75f9fe984d3899bb3c77c0b921f5",
       "version_major": 2,
       "version_minor": 0
      },
      "text/plain": [
       "299/1000 * Epoch (valid):   0%|          | 0/1 [00:00<?, ?it/s]"
      ]
     },
     "metadata": {},
     "output_type": "display_data"
    },
    {
     "name": "stdout",
     "output_type": "stream",
     "text": [
      "valid (299/1000) exact_match01: 0.875 | exact_match01/std: 0.0 | exact_match05: 0.875 | exact_match05/std: 0.0 | loss: 0.008856832049787045 | loss/mean: 0.008856832049787045 | loss/std: 0.0 | lr: 0.0001 | momentum: 0.9\n",
      "* Epoch (299/1000) \n"
     ]
    },
    {
     "data": {
      "application/vnd.jupyter.widget-view+json": {
       "model_id": "e16ef37cfb2546a09739fdb04012dd80",
       "version_major": 2,
       "version_minor": 0
      },
      "text/plain": [
       "300/1000 * Epoch (train):   0%|          | 0/1 [00:00<?, ?it/s]"
      ]
     },
     "metadata": {},
     "output_type": "display_data"
    },
    {
     "name": "stdout",
     "output_type": "stream",
     "text": [
      "train (300/1000) loss: 0.04516986384987831 | loss/mean: 0.04516986384987831 | loss/std: 0.0 | lr: 0.0001 | momentum: 0.9\n"
     ]
    },
    {
     "data": {
      "application/vnd.jupyter.widget-view+json": {
       "model_id": "4d73cf92c385476a87ac170985e2c42a",
       "version_major": 2,
       "version_minor": 0
      },
      "text/plain": [
       "300/1000 * Epoch (valid):   0%|          | 0/1 [00:00<?, ?it/s]"
      ]
     },
     "metadata": {},
     "output_type": "display_data"
    },
    {
     "name": "stdout",
     "output_type": "stream",
     "text": [
      "valid (300/1000) exact_match01: 0.875 | exact_match01/std: 0.0 | exact_match05: 0.875 | exact_match05/std: 0.0 | loss: 0.008572379127144814 | loss/mean: 0.008572379127144814 | loss/std: 0.0 | lr: 0.0001 | momentum: 0.9\n",
      "* Epoch (300/1000) \n"
     ]
    },
    {
     "data": {
      "application/vnd.jupyter.widget-view+json": {
       "model_id": "050052b276054dcdbef63dbaf90568a1",
       "version_major": 2,
       "version_minor": 0
      },
      "text/plain": [
       "301/1000 * Epoch (train):   0%|          | 0/1 [00:00<?, ?it/s]"
      ]
     },
     "metadata": {},
     "output_type": "display_data"
    },
    {
     "name": "stdout",
     "output_type": "stream",
     "text": [
      "train (301/1000) loss: 0.05150160565972328 | loss/mean: 0.05150160565972328 | loss/std: 0.0 | lr: 0.0001 | momentum: 0.9\n"
     ]
    },
    {
     "data": {
      "application/vnd.jupyter.widget-view+json": {
       "model_id": "48cb38cc93f743f99c5217156390f0a4",
       "version_major": 2,
       "version_minor": 0
      },
      "text/plain": [
       "301/1000 * Epoch (valid):   0%|          | 0/1 [00:00<?, ?it/s]"
      ]
     },
     "metadata": {},
     "output_type": "display_data"
    },
    {
     "name": "stdout",
     "output_type": "stream",
     "text": [
      "valid (301/1000) exact_match01: 0.875 | exact_match01/std: 0.0 | exact_match05: 0.875 | exact_match05/std: 0.0 | loss: 0.00831574760377407 | loss/mean: 0.00831574760377407 | loss/std: 0.0 | lr: 0.0001 | momentum: 0.9\n",
      "* Epoch (301/1000) \n"
     ]
    },
    {
     "data": {
      "application/vnd.jupyter.widget-view+json": {
       "model_id": "04b418f180a64a269550a6d03a8fcef1",
       "version_major": 2,
       "version_minor": 0
      },
      "text/plain": [
       "302/1000 * Epoch (train):   0%|          | 0/1 [00:00<?, ?it/s]"
      ]
     },
     "metadata": {},
     "output_type": "display_data"
    },
    {
     "name": "stdout",
     "output_type": "stream",
     "text": [
      "train (302/1000) loss: 0.05384298413991928 | loss/mean: 0.05384298413991928 | loss/std: 0.0 | lr: 0.0001 | momentum: 0.9\n"
     ]
    },
    {
     "data": {
      "application/vnd.jupyter.widget-view+json": {
       "model_id": "201b9941a7c04d7aa26ef88249550f7e",
       "version_major": 2,
       "version_minor": 0
      },
      "text/plain": [
       "302/1000 * Epoch (valid):   0%|          | 0/1 [00:00<?, ?it/s]"
      ]
     },
     "metadata": {},
     "output_type": "display_data"
    },
    {
     "name": "stdout",
     "output_type": "stream",
     "text": [
      "valid (302/1000) exact_match01: 0.875 | exact_match01/std: 0.0 | exact_match05: 0.875 | exact_match05/std: 0.0 | loss: 0.008056788705289364 | loss/mean: 0.008056788705289364 | loss/std: 0.0 | lr: 0.0001 | momentum: 0.9\n",
      "* Epoch (302/1000) \n"
     ]
    },
    {
     "data": {
      "application/vnd.jupyter.widget-view+json": {
       "model_id": "afb66e5aac4049c4a425d074952828f7",
       "version_major": 2,
       "version_minor": 0
      },
      "text/plain": [
       "303/1000 * Epoch (train):   0%|          | 0/1 [00:00<?, ?it/s]"
      ]
     },
     "metadata": {},
     "output_type": "display_data"
    },
    {
     "name": "stdout",
     "output_type": "stream",
     "text": [
      "train (303/1000) loss: 0.0546388141810894 | loss/mean: 0.0546388141810894 | loss/std: 0.0 | lr: 0.0001 | momentum: 0.9\n"
     ]
    },
    {
     "data": {
      "application/vnd.jupyter.widget-view+json": {
       "model_id": "99912f810f85434e8d6a97cff3a93fc3",
       "version_major": 2,
       "version_minor": 0
      },
      "text/plain": [
       "303/1000 * Epoch (valid):   0%|          | 0/1 [00:00<?, ?it/s]"
      ]
     },
     "metadata": {},
     "output_type": "display_data"
    },
    {
     "name": "stdout",
     "output_type": "stream",
     "text": [
      "valid (303/1000) exact_match01: 0.875 | exact_match01/std: 0.0 | exact_match05: 0.875 | exact_match05/std: 0.0 | loss: 0.007782940287142992 | loss/mean: 0.007782940287142992 | loss/std: 0.0 | lr: 0.0001 | momentum: 0.9\n",
      "* Epoch (303/1000) \n"
     ]
    },
    {
     "data": {
      "application/vnd.jupyter.widget-view+json": {
       "model_id": "064420b9e4014501901dc7274091550d",
       "version_major": 2,
       "version_minor": 0
      },
      "text/plain": [
       "304/1000 * Epoch (train):   0%|          | 0/1 [00:00<?, ?it/s]"
      ]
     },
     "metadata": {},
     "output_type": "display_data"
    },
    {
     "name": "stdout",
     "output_type": "stream",
     "text": [
      "train (304/1000) loss: 0.05910112336277962 | loss/mean: 0.05910112336277962 | loss/std: 0.0 | lr: 0.0001 | momentum: 0.9\n"
     ]
    },
    {
     "data": {
      "application/vnd.jupyter.widget-view+json": {
       "model_id": "3f3e435534bf4e4d89628f8a5e18d623",
       "version_major": 2,
       "version_minor": 0
      },
      "text/plain": [
       "304/1000 * Epoch (valid):   0%|          | 0/1 [00:00<?, ?it/s]"
      ]
     },
     "metadata": {},
     "output_type": "display_data"
    },
    {
     "name": "stdout",
     "output_type": "stream",
     "text": [
      "valid (304/1000) exact_match01: 0.875 | exact_match01/std: 0.0 | exact_match05: 0.875 | exact_match05/std: 0.0 | loss: 0.0075219119898974895 | loss/mean: 0.0075219119898974895 | loss/std: 0.0 | lr: 0.0001 | momentum: 0.9\n",
      "* Epoch (304/1000) \n"
     ]
    },
    {
     "data": {
      "application/vnd.jupyter.widget-view+json": {
       "model_id": "f539df0a512742cfbfe4ee1cb4958091",
       "version_major": 2,
       "version_minor": 0
      },
      "text/plain": [
       "305/1000 * Epoch (train):   0%|          | 0/1 [00:00<?, ?it/s]"
      ]
     },
     "metadata": {},
     "output_type": "display_data"
    },
    {
     "name": "stdout",
     "output_type": "stream",
     "text": [
      "train (305/1000) loss: 0.0489056333899498 | loss/mean: 0.0489056333899498 | loss/std: 0.0 | lr: 0.0001 | momentum: 0.9\n"
     ]
    },
    {
     "data": {
      "application/vnd.jupyter.widget-view+json": {
       "model_id": "6f5938e564414577b35b19c361445427",
       "version_major": 2,
       "version_minor": 0
      },
      "text/plain": [
       "305/1000 * Epoch (valid):   0%|          | 0/1 [00:00<?, ?it/s]"
      ]
     },
     "metadata": {},
     "output_type": "display_data"
    },
    {
     "name": "stdout",
     "output_type": "stream",
     "text": [
      "valid (305/1000) exact_match01: 0.875 | exact_match01/std: 0.0 | exact_match05: 0.875 | exact_match05/std: 0.0 | loss: 0.007249108981341124 | loss/mean: 0.007249108981341124 | loss/std: 0.0 | lr: 0.0001 | momentum: 0.9\n",
      "* Epoch (305/1000) \n"
     ]
    },
    {
     "data": {
      "application/vnd.jupyter.widget-view+json": {
       "model_id": "d6b75c06a5ac4152beed45608a50d2f7",
       "version_major": 2,
       "version_minor": 0
      },
      "text/plain": [
       "306/1000 * Epoch (train):   0%|          | 0/1 [00:00<?, ?it/s]"
      ]
     },
     "metadata": {},
     "output_type": "display_data"
    },
    {
     "name": "stdout",
     "output_type": "stream",
     "text": [
      "train (306/1000) loss: 0.05556990206241608 | loss/mean: 0.05556990206241608 | loss/std: 0.0 | lr: 0.0001 | momentum: 0.9\n"
     ]
    },
    {
     "data": {
      "application/vnd.jupyter.widget-view+json": {
       "model_id": "b6cc776ced6e418d8c1cd85974c0a9a5",
       "version_major": 2,
       "version_minor": 0
      },
      "text/plain": [
       "306/1000 * Epoch (valid):   0%|          | 0/1 [00:00<?, ?it/s]"
      ]
     },
     "metadata": {},
     "output_type": "display_data"
    },
    {
     "name": "stdout",
     "output_type": "stream",
     "text": [
      "valid (306/1000) exact_match01: 0.875 | exact_match01/std: 0.0 | exact_match05: 0.875 | exact_match05/std: 0.0 | loss: 0.007020036689937115 | loss/mean: 0.007020036689937115 | loss/std: 0.0 | lr: 0.0001 | momentum: 0.9\n",
      "* Epoch (306/1000) \n"
     ]
    },
    {
     "data": {
      "application/vnd.jupyter.widget-view+json": {
       "model_id": "acab972d031146f9950fdd6eb1679cbe",
       "version_major": 2,
       "version_minor": 0
      },
      "text/plain": [
       "307/1000 * Epoch (train):   0%|          | 0/1 [00:00<?, ?it/s]"
      ]
     },
     "metadata": {},
     "output_type": "display_data"
    },
    {
     "name": "stdout",
     "output_type": "stream",
     "text": [
      "train (307/1000) loss: 0.05010664090514183 | loss/mean: 0.05010664090514183 | loss/std: 0.0 | lr: 0.0001 | momentum: 0.9\n"
     ]
    },
    {
     "data": {
      "application/vnd.jupyter.widget-view+json": {
       "model_id": "e0e858eac371414cbd7642309ffb8cb9",
       "version_major": 2,
       "version_minor": 0
      },
      "text/plain": [
       "307/1000 * Epoch (valid):   0%|          | 0/1 [00:00<?, ?it/s]"
      ]
     },
     "metadata": {},
     "output_type": "display_data"
    },
    {
     "name": "stdout",
     "output_type": "stream",
     "text": [
      "valid (307/1000) exact_match01: 0.875 | exact_match01/std: 0.0 | exact_match05: 0.875 | exact_match05/std: 0.0 | loss: 0.006820151582360268 | loss/mean: 0.006820151582360268 | loss/std: 0.0 | lr: 0.0001 | momentum: 0.9\n",
      "* Epoch (307/1000) \n"
     ]
    },
    {
     "data": {
      "application/vnd.jupyter.widget-view+json": {
       "model_id": "bdd839f388a14528b67782c90fc2590d",
       "version_major": 2,
       "version_minor": 0
      },
      "text/plain": [
       "308/1000 * Epoch (train):   0%|          | 0/1 [00:00<?, ?it/s]"
      ]
     },
     "metadata": {},
     "output_type": "display_data"
    },
    {
     "name": "stdout",
     "output_type": "stream",
     "text": [
      "train (308/1000) loss: 0.059491824358701706 | loss/mean: 0.059491824358701706 | loss/std: 0.0 | lr: 0.0001 | momentum: 0.9\n"
     ]
    },
    {
     "data": {
      "application/vnd.jupyter.widget-view+json": {
       "model_id": "03330dfaa2c9489d958c8980bba80673",
       "version_major": 2,
       "version_minor": 0
      },
      "text/plain": [
       "308/1000 * Epoch (valid):   0%|          | 0/1 [00:00<?, ?it/s]"
      ]
     },
     "metadata": {},
     "output_type": "display_data"
    },
    {
     "name": "stdout",
     "output_type": "stream",
     "text": [
      "valid (308/1000) exact_match01: 0.875 | exact_match01/std: 0.0 | exact_match05: 1.0 | exact_match05/std: 0.0 | loss: 0.006666898261755705 | loss/mean: 0.006666898261755705 | loss/std: 0.0 | lr: 0.0001 | momentum: 0.9\n",
      "* Epoch (308/1000) \n"
     ]
    },
    {
     "data": {
      "application/vnd.jupyter.widget-view+json": {
       "model_id": "7d27b6a995b746e2955c5b39fcc56163",
       "version_major": 2,
       "version_minor": 0
      },
      "text/plain": [
       "309/1000 * Epoch (train):   0%|          | 0/1 [00:00<?, ?it/s]"
      ]
     },
     "metadata": {},
     "output_type": "display_data"
    },
    {
     "name": "stdout",
     "output_type": "stream",
     "text": [
      "train (309/1000) loss: 0.0445966012775898 | loss/mean: 0.0445966012775898 | loss/std: 0.0 | lr: 0.0001 | momentum: 0.9\n"
     ]
    },
    {
     "data": {
      "application/vnd.jupyter.widget-view+json": {
       "model_id": "027454f2646d44c5a62f245dd1016338",
       "version_major": 2,
       "version_minor": 0
      },
      "text/plain": [
       "309/1000 * Epoch (valid):   0%|          | 0/1 [00:00<?, ?it/s]"
      ]
     },
     "metadata": {},
     "output_type": "display_data"
    },
    {
     "name": "stdout",
     "output_type": "stream",
     "text": [
      "valid (309/1000) exact_match01: 0.875 | exact_match01/std: 0.0 | exact_match05: 1.0 | exact_match05/std: 0.0 | loss: 0.0065107690170407295 | loss/mean: 0.0065107690170407295 | loss/std: 0.0 | lr: 0.0001 | momentum: 0.9\n",
      "* Epoch (309/1000) \n"
     ]
    },
    {
     "data": {
      "application/vnd.jupyter.widget-view+json": {
       "model_id": "6e1b9c1018ab41abb9b4820bde82ac05",
       "version_major": 2,
       "version_minor": 0
      },
      "text/plain": [
       "310/1000 * Epoch (train):   0%|          | 0/1 [00:00<?, ?it/s]"
      ]
     },
     "metadata": {},
     "output_type": "display_data"
    },
    {
     "name": "stdout",
     "output_type": "stream",
     "text": [
      "train (310/1000) loss: 0.045935556292533875 | loss/mean: 0.045935556292533875 | loss/std: 0.0 | lr: 0.0001 | momentum: 0.9\n"
     ]
    },
    {
     "data": {
      "application/vnd.jupyter.widget-view+json": {
       "model_id": "651235620e894aeb9e3cfc090d15aef8",
       "version_major": 2,
       "version_minor": 0
      },
      "text/plain": [
       "310/1000 * Epoch (valid):   0%|          | 0/1 [00:00<?, ?it/s]"
      ]
     },
     "metadata": {},
     "output_type": "display_data"
    },
    {
     "name": "stdout",
     "output_type": "stream",
     "text": [
      "valid (310/1000) exact_match01: 0.875 | exact_match01/std: 0.0 | exact_match05: 1.0 | exact_match05/std: 0.0 | loss: 0.006341249216347933 | loss/mean: 0.006341249216347933 | loss/std: 0.0 | lr: 0.0001 | momentum: 0.9\n",
      "* Epoch (310/1000) \n"
     ]
    },
    {
     "data": {
      "application/vnd.jupyter.widget-view+json": {
       "model_id": "9adaeb4234cb47eead796db83542f702",
       "version_major": 2,
       "version_minor": 0
      },
      "text/plain": [
       "311/1000 * Epoch (train):   0%|          | 0/1 [00:00<?, ?it/s]"
      ]
     },
     "metadata": {},
     "output_type": "display_data"
    },
    {
     "name": "stdout",
     "output_type": "stream",
     "text": [
      "train (311/1000) loss: 0.056885458528995514 | loss/mean: 0.056885458528995514 | loss/std: 0.0 | lr: 0.0001 | momentum: 0.9\n"
     ]
    },
    {
     "data": {
      "application/vnd.jupyter.widget-view+json": {
       "model_id": "081efd219df74323bcae578a40290d47",
       "version_major": 2,
       "version_minor": 0
      },
      "text/plain": [
       "311/1000 * Epoch (valid):   0%|          | 0/1 [00:00<?, ?it/s]"
      ]
     },
     "metadata": {},
     "output_type": "display_data"
    },
    {
     "name": "stdout",
     "output_type": "stream",
     "text": [
      "valid (311/1000) exact_match01: 0.875 | exact_match01/std: 0.0 | exact_match05: 1.0 | exact_match05/std: 0.0 | loss: 0.00617508590221405 | loss/mean: 0.00617508590221405 | loss/std: 0.0 | lr: 0.0001 | momentum: 0.9\n",
      "* Epoch (311/1000) \n"
     ]
    },
    {
     "data": {
      "application/vnd.jupyter.widget-view+json": {
       "model_id": "35aff312b9cf4bad8caf9833ed782ce9",
       "version_major": 2,
       "version_minor": 0
      },
      "text/plain": [
       "312/1000 * Epoch (train):   0%|          | 0/1 [00:00<?, ?it/s]"
      ]
     },
     "metadata": {},
     "output_type": "display_data"
    },
    {
     "name": "stdout",
     "output_type": "stream",
     "text": [
      "train (312/1000) loss: 0.057029057294130325 | loss/mean: 0.057029057294130325 | loss/std: 0.0 | lr: 0.0001 | momentum: 0.9\n"
     ]
    },
    {
     "data": {
      "application/vnd.jupyter.widget-view+json": {
       "model_id": "d8255fb3cc9c47a89c27bcd346c68b78",
       "version_major": 2,
       "version_minor": 0
      },
      "text/plain": [
       "312/1000 * Epoch (valid):   0%|          | 0/1 [00:00<?, ?it/s]"
      ]
     },
     "metadata": {},
     "output_type": "display_data"
    },
    {
     "name": "stdout",
     "output_type": "stream",
     "text": [
      "valid (312/1000) exact_match01: 0.875 | exact_match01/std: 0.0 | exact_match05: 1.0 | exact_match05/std: 0.0 | loss: 0.006013971287757158 | loss/mean: 0.006013971287757158 | loss/std: 0.0 | lr: 0.0001 | momentum: 0.9\n",
      "* Epoch (312/1000) \n"
     ]
    },
    {
     "data": {
      "application/vnd.jupyter.widget-view+json": {
       "model_id": "bc6f6550664a4adc96ad97f31dbf2dfe",
       "version_major": 2,
       "version_minor": 0
      },
      "text/plain": [
       "313/1000 * Epoch (train):   0%|          | 0/1 [00:00<?, ?it/s]"
      ]
     },
     "metadata": {},
     "output_type": "display_data"
    },
    {
     "name": "stdout",
     "output_type": "stream",
     "text": [
      "train (313/1000) loss: 0.045605454593896866 | loss/mean: 0.045605454593896866 | loss/std: 0.0 | lr: 0.0001 | momentum: 0.9\n"
     ]
    },
    {
     "data": {
      "application/vnd.jupyter.widget-view+json": {
       "model_id": "f51468141d544e56b4fda99e011c74bb",
       "version_major": 2,
       "version_minor": 0
      },
      "text/plain": [
       "313/1000 * Epoch (valid):   0%|          | 0/1 [00:00<?, ?it/s]"
      ]
     },
     "metadata": {},
     "output_type": "display_data"
    },
    {
     "name": "stdout",
     "output_type": "stream",
     "text": [
      "valid (313/1000) exact_match01: 1.0 | exact_match01/std: 0.0 | exact_match05: 1.0 | exact_match05/std: 0.0 | loss: 0.00581616023555398 | loss/mean: 0.00581616023555398 | loss/std: 0.0 | lr: 0.0001 | momentum: 0.9\n",
      "* Epoch (313/1000) \n"
     ]
    },
    {
     "data": {
      "application/vnd.jupyter.widget-view+json": {
       "model_id": "391d8df9492f45f8aaedf3ff6503fa98",
       "version_major": 2,
       "version_minor": 0
      },
      "text/plain": [
       "314/1000 * Epoch (train):   0%|          | 0/1 [00:00<?, ?it/s]"
      ]
     },
     "metadata": {},
     "output_type": "display_data"
    },
    {
     "name": "stdout",
     "output_type": "stream",
     "text": [
      "train (314/1000) loss: 0.04573264345526695 | loss/mean: 0.04573264345526695 | loss/std: 0.0 | lr: 0.0001 | momentum: 0.9\n"
     ]
    },
    {
     "data": {
      "application/vnd.jupyter.widget-view+json": {
       "model_id": "ca370070735a4e68a479af064c79732c",
       "version_major": 2,
       "version_minor": 0
      },
      "text/plain": [
       "314/1000 * Epoch (valid):   0%|          | 0/1 [00:00<?, ?it/s]"
      ]
     },
     "metadata": {},
     "output_type": "display_data"
    },
    {
     "name": "stdout",
     "output_type": "stream",
     "text": [
      "valid (314/1000) exact_match01: 1.0 | exact_match01/std: 0.0 | exact_match05: 1.0 | exact_match05/std: 0.0 | loss: 0.005623179953545332 | loss/mean: 0.005623179953545332 | loss/std: 0.0 | lr: 0.0001 | momentum: 0.9\n",
      "* Epoch (314/1000) \n"
     ]
    },
    {
     "data": {
      "application/vnd.jupyter.widget-view+json": {
       "model_id": "441b2e2d12fe4a859bc6944f4c3ca7bf",
       "version_major": 2,
       "version_minor": 0
      },
      "text/plain": [
       "315/1000 * Epoch (train):   0%|          | 0/1 [00:00<?, ?it/s]"
      ]
     },
     "metadata": {},
     "output_type": "display_data"
    },
    {
     "name": "stdout",
     "output_type": "stream",
     "text": [
      "train (315/1000) loss: 0.042199570685625076 | loss/mean: 0.042199570685625076 | loss/std: 0.0 | lr: 0.0001 | momentum: 0.9\n"
     ]
    },
    {
     "data": {
      "application/vnd.jupyter.widget-view+json": {
       "model_id": "a039aeeab363426889be1d2284fd58b7",
       "version_major": 2,
       "version_minor": 0
      },
      "text/plain": [
       "315/1000 * Epoch (valid):   0%|          | 0/1 [00:00<?, ?it/s]"
      ]
     },
     "metadata": {},
     "output_type": "display_data"
    },
    {
     "name": "stdout",
     "output_type": "stream",
     "text": [
      "valid (315/1000) exact_match01: 1.0 | exact_match01/std: 0.0 | exact_match05: 1.0 | exact_match05/std: 0.0 | loss: 0.005422143265604973 | loss/mean: 0.005422143265604973 | loss/std: 0.0 | lr: 0.0001 | momentum: 0.9\n",
      "* Epoch (315/1000) \n"
     ]
    },
    {
     "data": {
      "application/vnd.jupyter.widget-view+json": {
       "model_id": "7418aea028e649bd849a224b205d040c",
       "version_major": 2,
       "version_minor": 0
      },
      "text/plain": [
       "316/1000 * Epoch (train):   0%|          | 0/1 [00:00<?, ?it/s]"
      ]
     },
     "metadata": {},
     "output_type": "display_data"
    },
    {
     "name": "stdout",
     "output_type": "stream",
     "text": [
      "train (316/1000) loss: 0.04125155135989189 | loss/mean: 0.04125155135989189 | loss/std: 0.0 | lr: 0.0001 | momentum: 0.9\n"
     ]
    },
    {
     "data": {
      "application/vnd.jupyter.widget-view+json": {
       "model_id": "eb0c9d8c038d43a8a3c72ab2e6ddd06c",
       "version_major": 2,
       "version_minor": 0
      },
      "text/plain": [
       "316/1000 * Epoch (valid):   0%|          | 0/1 [00:00<?, ?it/s]"
      ]
     },
     "metadata": {},
     "output_type": "display_data"
    },
    {
     "name": "stdout",
     "output_type": "stream",
     "text": [
      "valid (316/1000) exact_match01: 1.0 | exact_match01/std: 0.0 | exact_match05: 1.0 | exact_match05/std: 0.0 | loss: 0.0051918476819992065 | loss/mean: 0.0051918476819992065 | loss/std: 0.0 | lr: 0.0001 | momentum: 0.9\n",
      "* Epoch (316/1000) \n"
     ]
    },
    {
     "data": {
      "application/vnd.jupyter.widget-view+json": {
       "model_id": "298fe39c8450481d83d94b9115198140",
       "version_major": 2,
       "version_minor": 0
      },
      "text/plain": [
       "317/1000 * Epoch (train):   0%|          | 0/1 [00:00<?, ?it/s]"
      ]
     },
     "metadata": {},
     "output_type": "display_data"
    },
    {
     "name": "stdout",
     "output_type": "stream",
     "text": [
      "train (317/1000) loss: 0.04415309429168701 | loss/mean: 0.04415309429168701 | loss/std: 0.0 | lr: 0.0001 | momentum: 0.9\n"
     ]
    },
    {
     "data": {
      "application/vnd.jupyter.widget-view+json": {
       "model_id": "ea3b91376b8f4905baa4d7dece8d9c28",
       "version_major": 2,
       "version_minor": 0
      },
      "text/plain": [
       "317/1000 * Epoch (valid):   0%|          | 0/1 [00:00<?, ?it/s]"
      ]
     },
     "metadata": {},
     "output_type": "display_data"
    },
    {
     "name": "stdout",
     "output_type": "stream",
     "text": [
      "valid (317/1000) exact_match01: 1.0 | exact_match01/std: 0.0 | exact_match05: 1.0 | exact_match05/std: 0.0 | loss: 0.004975227173417807 | loss/mean: 0.004975227173417807 | loss/std: 0.0 | lr: 0.0001 | momentum: 0.9\n",
      "* Epoch (317/1000) \n"
     ]
    },
    {
     "data": {
      "application/vnd.jupyter.widget-view+json": {
       "model_id": "46109a2f8d8b4570b436309fc72efd6c",
       "version_major": 2,
       "version_minor": 0
      },
      "text/plain": [
       "318/1000 * Epoch (train):   0%|          | 0/1 [00:00<?, ?it/s]"
      ]
     },
     "metadata": {},
     "output_type": "display_data"
    },
    {
     "name": "stdout",
     "output_type": "stream",
     "text": [
      "train (318/1000) loss: 0.04805051535367966 | loss/mean: 0.04805051535367966 | loss/std: 0.0 | lr: 0.0001 | momentum: 0.9\n"
     ]
    },
    {
     "data": {
      "application/vnd.jupyter.widget-view+json": {
       "model_id": "c0e5816c15444344a5be2c326bf16432",
       "version_major": 2,
       "version_minor": 0
      },
      "text/plain": [
       "318/1000 * Epoch (valid):   0%|          | 0/1 [00:00<?, ?it/s]"
      ]
     },
     "metadata": {},
     "output_type": "display_data"
    },
    {
     "name": "stdout",
     "output_type": "stream",
     "text": [
      "valid (318/1000) exact_match01: 1.0 | exact_match01/std: 0.0 | exact_match05: 1.0 | exact_match05/std: 0.0 | loss: 0.0047767553478479385 | loss/mean: 0.0047767553478479385 | loss/std: 0.0 | lr: 0.0001 | momentum: 0.9\n",
      "* Epoch (318/1000) \n"
     ]
    },
    {
     "data": {
      "application/vnd.jupyter.widget-view+json": {
       "model_id": "6400e32f715542d78b829e35e82a3a29",
       "version_major": 2,
       "version_minor": 0
      },
      "text/plain": [
       "319/1000 * Epoch (train):   0%|          | 0/1 [00:00<?, ?it/s]"
      ]
     },
     "metadata": {},
     "output_type": "display_data"
    },
    {
     "name": "stdout",
     "output_type": "stream",
     "text": [
      "train (319/1000) loss: 0.03940563276410103 | loss/mean: 0.03940563276410103 | loss/std: 0.0 | lr: 0.0001 | momentum: 0.9\n"
     ]
    },
    {
     "data": {
      "application/vnd.jupyter.widget-view+json": {
       "model_id": "7c46a20f455f497c92b8d7c4575b2664",
       "version_major": 2,
       "version_minor": 0
      },
      "text/plain": [
       "319/1000 * Epoch (valid):   0%|          | 0/1 [00:00<?, ?it/s]"
      ]
     },
     "metadata": {},
     "output_type": "display_data"
    },
    {
     "name": "stdout",
     "output_type": "stream",
     "text": [
      "valid (319/1000) exact_match01: 1.0 | exact_match01/std: 0.0 | exact_match05: 1.0 | exact_match05/std: 0.0 | loss: 0.004595645237714052 | loss/mean: 0.004595645237714052 | loss/std: 0.0 | lr: 0.0001 | momentum: 0.9\n",
      "* Epoch (319/1000) \n"
     ]
    },
    {
     "data": {
      "application/vnd.jupyter.widget-view+json": {
       "model_id": "0c469a73300d4e7c8770820c371cfd4e",
       "version_major": 2,
       "version_minor": 0
      },
      "text/plain": [
       "320/1000 * Epoch (train):   0%|          | 0/1 [00:00<?, ?it/s]"
      ]
     },
     "metadata": {},
     "output_type": "display_data"
    },
    {
     "name": "stdout",
     "output_type": "stream",
     "text": [
      "train (320/1000) loss: 0.04400612786412239 | loss/mean: 0.04400612786412239 | loss/std: 0.0 | lr: 0.0001 | momentum: 0.9\n"
     ]
    },
    {
     "data": {
      "application/vnd.jupyter.widget-view+json": {
       "model_id": "eb8cdf1d7e424627af57aa28702c134f",
       "version_major": 2,
       "version_minor": 0
      },
      "text/plain": [
       "320/1000 * Epoch (valid):   0%|          | 0/1 [00:00<?, ?it/s]"
      ]
     },
     "metadata": {},
     "output_type": "display_data"
    },
    {
     "name": "stdout",
     "output_type": "stream",
     "text": [
      "valid (320/1000) exact_match01: 1.0 | exact_match01/std: 0.0 | exact_match05: 1.0 | exact_match05/std: 0.0 | loss: 0.004421971272677183 | loss/mean: 0.004421971272677183 | loss/std: 0.0 | lr: 0.0001 | momentum: 0.9\n",
      "* Epoch (320/1000) \n"
     ]
    },
    {
     "data": {
      "application/vnd.jupyter.widget-view+json": {
       "model_id": "650bba53b5f8483db94da9c1d20db51b",
       "version_major": 2,
       "version_minor": 0
      },
      "text/plain": [
       "321/1000 * Epoch (train):   0%|          | 0/1 [00:00<?, ?it/s]"
      ]
     },
     "metadata": {},
     "output_type": "display_data"
    },
    {
     "name": "stdout",
     "output_type": "stream",
     "text": [
      "train (321/1000) loss: 0.04789773374795914 | loss/mean: 0.04789773374795914 | loss/std: 0.0 | lr: 0.0001 | momentum: 0.9\n"
     ]
    },
    {
     "data": {
      "application/vnd.jupyter.widget-view+json": {
       "model_id": "d48b6a40bf9f4606a808ab439bc9f125",
       "version_major": 2,
       "version_minor": 0
      },
      "text/plain": [
       "321/1000 * Epoch (valid):   0%|          | 0/1 [00:00<?, ?it/s]"
      ]
     },
     "metadata": {},
     "output_type": "display_data"
    },
    {
     "name": "stdout",
     "output_type": "stream",
     "text": [
      "valid (321/1000) exact_match01: 1.0 | exact_match01/std: 0.0 | exact_match05: 1.0 | exact_match05/std: 0.0 | loss: 0.0042702932842075825 | loss/mean: 0.0042702932842075825 | loss/std: 0.0 | lr: 0.0001 | momentum: 0.9\n",
      "* Epoch (321/1000) \n"
     ]
    },
    {
     "data": {
      "application/vnd.jupyter.widget-view+json": {
       "model_id": "007b7b021ea447af8b9b831948ecfb27",
       "version_major": 2,
       "version_minor": 0
      },
      "text/plain": [
       "322/1000 * Epoch (train):   0%|          | 0/1 [00:00<?, ?it/s]"
      ]
     },
     "metadata": {},
     "output_type": "display_data"
    },
    {
     "name": "stdout",
     "output_type": "stream",
     "text": [
      "train (322/1000) loss: 0.04758144170045853 | loss/mean: 0.04758144170045853 | loss/std: 0.0 | lr: 0.0001 | momentum: 0.9\n"
     ]
    },
    {
     "data": {
      "application/vnd.jupyter.widget-view+json": {
       "model_id": "929b33bc1a5c476d9bd70cb476128bf0",
       "version_major": 2,
       "version_minor": 0
      },
      "text/plain": [
       "322/1000 * Epoch (valid):   0%|          | 0/1 [00:00<?, ?it/s]"
      ]
     },
     "metadata": {},
     "output_type": "display_data"
    },
    {
     "name": "stdout",
     "output_type": "stream",
     "text": [
      "valid (322/1000) exact_match01: 1.0 | exact_match01/std: 0.0 | exact_match05: 1.0 | exact_match05/std: 0.0 | loss: 0.004107109736651182 | loss/mean: 0.004107109736651182 | loss/std: 0.0 | lr: 0.0001 | momentum: 0.9\n",
      "* Epoch (322/1000) \n"
     ]
    },
    {
     "data": {
      "application/vnd.jupyter.widget-view+json": {
       "model_id": "a0f28539a82a4772a86d99bc27b1e779",
       "version_major": 2,
       "version_minor": 0
      },
      "text/plain": [
       "323/1000 * Epoch (train):   0%|          | 0/1 [00:00<?, ?it/s]"
      ]
     },
     "metadata": {},
     "output_type": "display_data"
    },
    {
     "name": "stdout",
     "output_type": "stream",
     "text": [
      "train (323/1000) loss: 0.05370038002729416 | loss/mean: 0.05370038002729416 | loss/std: 0.0 | lr: 0.0001 | momentum: 0.9\n"
     ]
    },
    {
     "data": {
      "application/vnd.jupyter.widget-view+json": {
       "model_id": "bbb96688c1734425833b004304799c91",
       "version_major": 2,
       "version_minor": 0
      },
      "text/plain": [
       "323/1000 * Epoch (valid):   0%|          | 0/1 [00:00<?, ?it/s]"
      ]
     },
     "metadata": {},
     "output_type": "display_data"
    },
    {
     "name": "stdout",
     "output_type": "stream",
     "text": [
      "valid (323/1000) exact_match01: 1.0 | exact_match01/std: 0.0 | exact_match05: 1.0 | exact_match05/std: 0.0 | loss: 0.003966405987739563 | loss/mean: 0.003966405987739563 | loss/std: 0.0 | lr: 0.0001 | momentum: 0.9\n",
      "* Epoch (323/1000) \n"
     ]
    },
    {
     "data": {
      "application/vnd.jupyter.widget-view+json": {
       "model_id": "3b5a31838f884cb2ac8b6beb58a9c036",
       "version_major": 2,
       "version_minor": 0
      },
      "text/plain": [
       "324/1000 * Epoch (train):   0%|          | 0/1 [00:00<?, ?it/s]"
      ]
     },
     "metadata": {},
     "output_type": "display_data"
    },
    {
     "name": "stdout",
     "output_type": "stream",
     "text": [
      "train (324/1000) loss: 0.04141288995742798 | loss/mean: 0.04141288995742798 | loss/std: 0.0 | lr: 0.0001 | momentum: 0.9\n"
     ]
    },
    {
     "data": {
      "application/vnd.jupyter.widget-view+json": {
       "model_id": "a6dd0a5e7efc4a058f1218507fa8858c",
       "version_major": 2,
       "version_minor": 0
      },
      "text/plain": [
       "324/1000 * Epoch (valid):   0%|          | 0/1 [00:00<?, ?it/s]"
      ]
     },
     "metadata": {},
     "output_type": "display_data"
    },
    {
     "name": "stdout",
     "output_type": "stream",
     "text": [
      "valid (324/1000) exact_match01: 1.0 | exact_match01/std: 0.0 | exact_match05: 1.0 | exact_match05/std: 0.0 | loss: 0.0038402308709919453 | loss/mean: 0.0038402308709919453 | loss/std: 0.0 | lr: 0.0001 | momentum: 0.9\n",
      "* Epoch (324/1000) \n"
     ]
    },
    {
     "data": {
      "application/vnd.jupyter.widget-view+json": {
       "model_id": "559247ae6ef4445d841f33cb1458e444",
       "version_major": 2,
       "version_minor": 0
      },
      "text/plain": [
       "325/1000 * Epoch (train):   0%|          | 0/1 [00:00<?, ?it/s]"
      ]
     },
     "metadata": {},
     "output_type": "display_data"
    },
    {
     "name": "stdout",
     "output_type": "stream",
     "text": [
      "train (325/1000) loss: 0.045027028769254684 | loss/mean: 0.045027028769254684 | loss/std: 0.0 | lr: 0.0001 | momentum: 0.9\n"
     ]
    },
    {
     "data": {
      "application/vnd.jupyter.widget-view+json": {
       "model_id": "5f1847a5800e4ca9919470d7b68a1ea9",
       "version_major": 2,
       "version_minor": 0
      },
      "text/plain": [
       "325/1000 * Epoch (valid):   0%|          | 0/1 [00:00<?, ?it/s]"
      ]
     },
     "metadata": {},
     "output_type": "display_data"
    },
    {
     "name": "stdout",
     "output_type": "stream",
     "text": [
      "valid (325/1000) exact_match01: 1.0 | exact_match01/std: 0.0 | exact_match05: 1.0 | exact_match05/std: 0.0 | loss: 0.003729462157934904 | loss/mean: 0.003729462157934904 | loss/std: 0.0 | lr: 0.0001 | momentum: 0.9\n",
      "* Epoch (325/1000) \n"
     ]
    },
    {
     "data": {
      "application/vnd.jupyter.widget-view+json": {
       "model_id": "f596bc7d6c3f46608a29f3b4220ba0bb",
       "version_major": 2,
       "version_minor": 0
      },
      "text/plain": [
       "326/1000 * Epoch (train):   0%|          | 0/1 [00:00<?, ?it/s]"
      ]
     },
     "metadata": {},
     "output_type": "display_data"
    },
    {
     "name": "stdout",
     "output_type": "stream",
     "text": [
      "train (326/1000) loss: 0.0383550301194191 | loss/mean: 0.0383550301194191 | loss/std: 0.0 | lr: 0.0001 | momentum: 0.9\n"
     ]
    },
    {
     "data": {
      "application/vnd.jupyter.widget-view+json": {
       "model_id": "36349c54776c4ba28aa9d5cae8428ff1",
       "version_major": 2,
       "version_minor": 0
      },
      "text/plain": [
       "326/1000 * Epoch (valid):   0%|          | 0/1 [00:00<?, ?it/s]"
      ]
     },
     "metadata": {},
     "output_type": "display_data"
    },
    {
     "name": "stdout",
     "output_type": "stream",
     "text": [
      "valid (326/1000) exact_match01: 1.0 | exact_match01/std: 0.0 | exact_match05: 1.0 | exact_match05/std: 0.0 | loss: 0.0036232909187674522 | loss/mean: 0.0036232909187674522 | loss/std: 0.0 | lr: 0.0001 | momentum: 0.9\n",
      "* Epoch (326/1000) \n"
     ]
    },
    {
     "data": {
      "application/vnd.jupyter.widget-view+json": {
       "model_id": "6b6587c4ca9b492f8bd844245980f525",
       "version_major": 2,
       "version_minor": 0
      },
      "text/plain": [
       "327/1000 * Epoch (train):   0%|          | 0/1 [00:00<?, ?it/s]"
      ]
     },
     "metadata": {},
     "output_type": "display_data"
    },
    {
     "name": "stdout",
     "output_type": "stream",
     "text": [
      "train (327/1000) loss: 0.04998837038874626 | loss/mean: 0.04998837038874626 | loss/std: 0.0 | lr: 0.0001 | momentum: 0.9\n"
     ]
    },
    {
     "data": {
      "application/vnd.jupyter.widget-view+json": {
       "model_id": "f86aa99de8ba438a83415fef0e600045",
       "version_major": 2,
       "version_minor": 0
      },
      "text/plain": [
       "327/1000 * Epoch (valid):   0%|          | 0/1 [00:00<?, ?it/s]"
      ]
     },
     "metadata": {},
     "output_type": "display_data"
    },
    {
     "name": "stdout",
     "output_type": "stream",
     "text": [
      "valid (327/1000) exact_match01: 1.0 | exact_match01/std: 0.0 | exact_match05: 1.0 | exact_match05/std: 0.0 | loss: 0.0035258468706160784 | loss/mean: 0.0035258468706160784 | loss/std: 0.0 | lr: 0.0001 | momentum: 0.9\n",
      "* Epoch (327/1000) \n"
     ]
    },
    {
     "data": {
      "application/vnd.jupyter.widget-view+json": {
       "model_id": "43434ce1730a42d0b05bda5d885ea580",
       "version_major": 2,
       "version_minor": 0
      },
      "text/plain": [
       "328/1000 * Epoch (train):   0%|          | 0/1 [00:00<?, ?it/s]"
      ]
     },
     "metadata": {},
     "output_type": "display_data"
    },
    {
     "name": "stdout",
     "output_type": "stream",
     "text": [
      "train (328/1000) loss: 0.05818714573979378 | loss/mean: 0.05818714573979378 | loss/std: 0.0 | lr: 0.0001 | momentum: 0.9\n"
     ]
    },
    {
     "data": {
      "application/vnd.jupyter.widget-view+json": {
       "model_id": "6c10b5e72add40fb9958c96e5ca05fd5",
       "version_major": 2,
       "version_minor": 0
      },
      "text/plain": [
       "328/1000 * Epoch (valid):   0%|          | 0/1 [00:00<?, ?it/s]"
      ]
     },
     "metadata": {},
     "output_type": "display_data"
    },
    {
     "name": "stdout",
     "output_type": "stream",
     "text": [
      "valid (328/1000) exact_match01: 1.0 | exact_match01/std: 0.0 | exact_match05: 1.0 | exact_match05/std: 0.0 | loss: 0.003437943523749709 | loss/mean: 0.003437943523749709 | loss/std: 0.0 | lr: 0.0001 | momentum: 0.9\n",
      "* Epoch (328/1000) \n"
     ]
    },
    {
     "data": {
      "application/vnd.jupyter.widget-view+json": {
       "model_id": "531649f6f3344dd4baf139488ebbfeb6",
       "version_major": 2,
       "version_minor": 0
      },
      "text/plain": [
       "329/1000 * Epoch (train):   0%|          | 0/1 [00:00<?, ?it/s]"
      ]
     },
     "metadata": {},
     "output_type": "display_data"
    },
    {
     "name": "stdout",
     "output_type": "stream",
     "text": [
      "train (329/1000) loss: 0.04603058472275734 | loss/mean: 0.04603058472275734 | loss/std: 0.0 | lr: 0.0001 | momentum: 0.9\n"
     ]
    },
    {
     "data": {
      "application/vnd.jupyter.widget-view+json": {
       "model_id": "9944dd161f7b446bbd8c3ae38caaffce",
       "version_major": 2,
       "version_minor": 0
      },
      "text/plain": [
       "329/1000 * Epoch (valid):   0%|          | 0/1 [00:00<?, ?it/s]"
      ]
     },
     "metadata": {},
     "output_type": "display_data"
    },
    {
     "name": "stdout",
     "output_type": "stream",
     "text": [
      "valid (329/1000) exact_match01: 1.0 | exact_match01/std: 0.0 | exact_match05: 1.0 | exact_match05/std: 0.0 | loss: 0.0033531473018229008 | loss/mean: 0.0033531473018229008 | loss/std: 0.0 | lr: 0.0001 | momentum: 0.9\n",
      "* Epoch (329/1000) \n"
     ]
    },
    {
     "data": {
      "application/vnd.jupyter.widget-view+json": {
       "model_id": "61d0a7b126124d689d483b118546b67d",
       "version_major": 2,
       "version_minor": 0
      },
      "text/plain": [
       "330/1000 * Epoch (train):   0%|          | 0/1 [00:00<?, ?it/s]"
      ]
     },
     "metadata": {},
     "output_type": "display_data"
    },
    {
     "name": "stdout",
     "output_type": "stream",
     "text": [
      "train (330/1000) loss: 0.041169434785842896 | loss/mean: 0.041169434785842896 | loss/std: 0.0 | lr: 0.0001 | momentum: 0.9\n"
     ]
    },
    {
     "data": {
      "application/vnd.jupyter.widget-view+json": {
       "model_id": "2167f2960ec440b0b964041457ab7e35",
       "version_major": 2,
       "version_minor": 0
      },
      "text/plain": [
       "330/1000 * Epoch (valid):   0%|          | 0/1 [00:00<?, ?it/s]"
      ]
     },
     "metadata": {},
     "output_type": "display_data"
    },
    {
     "name": "stdout",
     "output_type": "stream",
     "text": [
      "valid (330/1000) exact_match01: 1.0 | exact_match01/std: 0.0 | exact_match05: 1.0 | exact_match05/std: 0.0 | loss: 0.003274164628237486 | loss/mean: 0.003274164628237486 | loss/std: 0.0 | lr: 0.0001 | momentum: 0.9\n",
      "* Epoch (330/1000) \n"
     ]
    },
    {
     "data": {
      "application/vnd.jupyter.widget-view+json": {
       "model_id": "71e5502fd35e44e28961656df5c91cd5",
       "version_major": 2,
       "version_minor": 0
      },
      "text/plain": [
       "331/1000 * Epoch (train):   0%|          | 0/1 [00:00<?, ?it/s]"
      ]
     },
     "metadata": {},
     "output_type": "display_data"
    },
    {
     "name": "stdout",
     "output_type": "stream",
     "text": [
      "train (331/1000) loss: 0.03809989616274834 | loss/mean: 0.03809989616274834 | loss/std: 0.0 | lr: 0.0001 | momentum: 0.9\n"
     ]
    },
    {
     "data": {
      "application/vnd.jupyter.widget-view+json": {
       "model_id": "c3dd0dfaf25c4ac9a41e082831e14c9e",
       "version_major": 2,
       "version_minor": 0
      },
      "text/plain": [
       "331/1000 * Epoch (valid):   0%|          | 0/1 [00:00<?, ?it/s]"
      ]
     },
     "metadata": {},
     "output_type": "display_data"
    },
    {
     "name": "stdout",
     "output_type": "stream",
     "text": [
      "valid (331/1000) exact_match01: 1.0 | exact_match01/std: 0.0 | exact_match05: 1.0 | exact_match05/std: 0.0 | loss: 0.003194507909938693 | loss/mean: 0.003194507909938693 | loss/std: 0.0 | lr: 0.0001 | momentum: 0.9\n",
      "* Epoch (331/1000) \n"
     ]
    },
    {
     "data": {
      "application/vnd.jupyter.widget-view+json": {
       "model_id": "0bd1fedc6604495ba2f310a078256a76",
       "version_major": 2,
       "version_minor": 0
      },
      "text/plain": [
       "332/1000 * Epoch (train):   0%|          | 0/1 [00:00<?, ?it/s]"
      ]
     },
     "metadata": {},
     "output_type": "display_data"
    },
    {
     "name": "stdout",
     "output_type": "stream",
     "text": [
      "train (332/1000) loss: 0.03545926511287689 | loss/mean: 0.03545926511287689 | loss/std: 0.0 | lr: 0.0001 | momentum: 0.9\n"
     ]
    },
    {
     "data": {
      "application/vnd.jupyter.widget-view+json": {
       "model_id": "6674650cbeb64b30aa0735a0e83051be",
       "version_major": 2,
       "version_minor": 0
      },
      "text/plain": [
       "332/1000 * Epoch (valid):   0%|          | 0/1 [00:00<?, ?it/s]"
      ]
     },
     "metadata": {},
     "output_type": "display_data"
    },
    {
     "name": "stdout",
     "output_type": "stream",
     "text": [
      "valid (332/1000) exact_match01: 1.0 | exact_match01/std: 0.0 | exact_match05: 1.0 | exact_match05/std: 0.0 | loss: 0.003113385057076812 | loss/mean: 0.003113385057076812 | loss/std: 0.0 | lr: 0.0001 | momentum: 0.9\n",
      "* Epoch (332/1000) \n"
     ]
    },
    {
     "data": {
      "application/vnd.jupyter.widget-view+json": {
       "model_id": "a4307da1652b49ca9bb038610df4426e",
       "version_major": 2,
       "version_minor": 0
      },
      "text/plain": [
       "333/1000 * Epoch (train):   0%|          | 0/1 [00:00<?, ?it/s]"
      ]
     },
     "metadata": {},
     "output_type": "display_data"
    },
    {
     "name": "stdout",
     "output_type": "stream",
     "text": [
      "train (333/1000) loss: 0.04501095041632652 | loss/mean: 0.04501095041632652 | loss/std: 0.0 | lr: 0.0001 | momentum: 0.9\n"
     ]
    },
    {
     "data": {
      "application/vnd.jupyter.widget-view+json": {
       "model_id": "28e20889b2814d56bb451cbeb9cecb08",
       "version_major": 2,
       "version_minor": 0
      },
      "text/plain": [
       "333/1000 * Epoch (valid):   0%|          | 0/1 [00:00<?, ?it/s]"
      ]
     },
     "metadata": {},
     "output_type": "display_data"
    },
    {
     "name": "stdout",
     "output_type": "stream",
     "text": [
      "valid (333/1000) exact_match01: 1.0 | exact_match01/std: 0.0 | exact_match05: 1.0 | exact_match05/std: 0.0 | loss: 0.003036776790395379 | loss/mean: 0.003036776790395379 | loss/std: 0.0 | lr: 0.0001 | momentum: 0.9\n",
      "* Epoch (333/1000) \n"
     ]
    },
    {
     "data": {
      "application/vnd.jupyter.widget-view+json": {
       "model_id": "d847fec1c84d4c438293729db4992d1f",
       "version_major": 2,
       "version_minor": 0
      },
      "text/plain": [
       "334/1000 * Epoch (train):   0%|          | 0/1 [00:00<?, ?it/s]"
      ]
     },
     "metadata": {},
     "output_type": "display_data"
    },
    {
     "name": "stdout",
     "output_type": "stream",
     "text": [
      "train (334/1000) loss: 0.035291727632284164 | loss/mean: 0.035291727632284164 | loss/std: 0.0 | lr: 0.0001 | momentum: 0.9\n"
     ]
    },
    {
     "data": {
      "application/vnd.jupyter.widget-view+json": {
       "model_id": "4f5e688a7ba64877abd8bfa78445001f",
       "version_major": 2,
       "version_minor": 0
      },
      "text/plain": [
       "334/1000 * Epoch (valid):   0%|          | 0/1 [00:00<?, ?it/s]"
      ]
     },
     "metadata": {},
     "output_type": "display_data"
    },
    {
     "name": "stdout",
     "output_type": "stream",
     "text": [
      "valid (334/1000) exact_match01: 1.0 | exact_match01/std: 0.0 | exact_match05: 1.0 | exact_match05/std: 0.0 | loss: 0.0029634421225637197 | loss/mean: 0.0029634421225637197 | loss/std: 0.0 | lr: 0.0001 | momentum: 0.9\n",
      "* Epoch (334/1000) \n"
     ]
    },
    {
     "data": {
      "application/vnd.jupyter.widget-view+json": {
       "model_id": "4ac5274c4f4646fca0415a93960b9bbe",
       "version_major": 2,
       "version_minor": 0
      },
      "text/plain": [
       "335/1000 * Epoch (train):   0%|          | 0/1 [00:00<?, ?it/s]"
      ]
     },
     "metadata": {},
     "output_type": "display_data"
    },
    {
     "name": "stdout",
     "output_type": "stream",
     "text": [
      "train (335/1000) loss: 0.039635539054870605 | loss/mean: 0.039635539054870605 | loss/std: 0.0 | lr: 0.0001 | momentum: 0.9\n"
     ]
    },
    {
     "data": {
      "application/vnd.jupyter.widget-view+json": {
       "model_id": "8ce34c255cae47c78878abb4ac6227d6",
       "version_major": 2,
       "version_minor": 0
      },
      "text/plain": [
       "335/1000 * Epoch (valid):   0%|          | 0/1 [00:00<?, ?it/s]"
      ]
     },
     "metadata": {},
     "output_type": "display_data"
    },
    {
     "name": "stdout",
     "output_type": "stream",
     "text": [
      "valid (335/1000) exact_match01: 1.0 | exact_match01/std: 0.0 | exact_match05: 1.0 | exact_match05/std: 0.0 | loss: 0.0029022558592259884 | loss/mean: 0.0029022558592259884 | loss/std: 0.0 | lr: 0.0001 | momentum: 0.9\n",
      "* Epoch (335/1000) \n"
     ]
    },
    {
     "data": {
      "application/vnd.jupyter.widget-view+json": {
       "model_id": "ddd1f482fd6f43f6bfe7bcd2411d3b44",
       "version_major": 2,
       "version_minor": 0
      },
      "text/plain": [
       "336/1000 * Epoch (train):   0%|          | 0/1 [00:00<?, ?it/s]"
      ]
     },
     "metadata": {},
     "output_type": "display_data"
    },
    {
     "name": "stdout",
     "output_type": "stream",
     "text": [
      "train (336/1000) loss: 0.03787533938884735 | loss/mean: 0.03787533938884735 | loss/std: 0.0 | lr: 0.0001 | momentum: 0.9\n"
     ]
    },
    {
     "data": {
      "application/vnd.jupyter.widget-view+json": {
       "model_id": "145576a9129d4f46959a30bc8f8dca3d",
       "version_major": 2,
       "version_minor": 0
      },
      "text/plain": [
       "336/1000 * Epoch (valid):   0%|          | 0/1 [00:00<?, ?it/s]"
      ]
     },
     "metadata": {},
     "output_type": "display_data"
    },
    {
     "name": "stdout",
     "output_type": "stream",
     "text": [
      "valid (336/1000) exact_match01: 1.0 | exact_match01/std: 0.0 | exact_match05: 1.0 | exact_match05/std: 0.0 | loss: 0.002841972280293703 | loss/mean: 0.002841972280293703 | loss/std: 0.0 | lr: 0.0001 | momentum: 0.9\n",
      "* Epoch (336/1000) \n"
     ]
    },
    {
     "data": {
      "application/vnd.jupyter.widget-view+json": {
       "model_id": "ce943c46bdd6493483f50a02db48e6ae",
       "version_major": 2,
       "version_minor": 0
      },
      "text/plain": [
       "337/1000 * Epoch (train):   0%|          | 0/1 [00:00<?, ?it/s]"
      ]
     },
     "metadata": {},
     "output_type": "display_data"
    },
    {
     "name": "stdout",
     "output_type": "stream",
     "text": [
      "train (337/1000) loss: 0.03422744572162628 | loss/mean: 0.03422744572162628 | loss/std: 0.0 | lr: 0.0001 | momentum: 0.9\n"
     ]
    },
    {
     "data": {
      "application/vnd.jupyter.widget-view+json": {
       "model_id": "3cf1aacdd40149b5b94b65dc4da5aa70",
       "version_major": 2,
       "version_minor": 0
      },
      "text/plain": [
       "337/1000 * Epoch (valid):   0%|          | 0/1 [00:00<?, ?it/s]"
      ]
     },
     "metadata": {},
     "output_type": "display_data"
    },
    {
     "name": "stdout",
     "output_type": "stream",
     "text": [
      "valid (337/1000) exact_match01: 1.0 | exact_match01/std: 0.0 | exact_match05: 1.0 | exact_match05/std: 0.0 | loss: 0.0027823341079056263 | loss/mean: 0.0027823341079056263 | loss/std: 0.0 | lr: 0.0001 | momentum: 0.9\n",
      "* Epoch (337/1000) \n"
     ]
    },
    {
     "data": {
      "application/vnd.jupyter.widget-view+json": {
       "model_id": "17c21fd862734645a20de7d3d901b6ab",
       "version_major": 2,
       "version_minor": 0
      },
      "text/plain": [
       "338/1000 * Epoch (train):   0%|          | 0/1 [00:00<?, ?it/s]"
      ]
     },
     "metadata": {},
     "output_type": "display_data"
    },
    {
     "name": "stdout",
     "output_type": "stream",
     "text": [
      "train (338/1000) loss: 0.04033739119768143 | loss/mean: 0.04033739119768143 | loss/std: 0.0 | lr: 0.0001 | momentum: 0.9\n"
     ]
    },
    {
     "data": {
      "application/vnd.jupyter.widget-view+json": {
       "model_id": "79b6a9ab55f243ccb92531c6587ce038",
       "version_major": 2,
       "version_minor": 0
      },
      "text/plain": [
       "338/1000 * Epoch (valid):   0%|          | 0/1 [00:00<?, ?it/s]"
      ]
     },
     "metadata": {},
     "output_type": "display_data"
    },
    {
     "name": "stdout",
     "output_type": "stream",
     "text": [
      "valid (338/1000) exact_match01: 1.0 | exact_match01/std: 0.0 | exact_match05: 1.0 | exact_match05/std: 0.0 | loss: 0.0027322068344801664 | loss/mean: 0.0027322068344801664 | loss/std: 0.0 | lr: 0.0001 | momentum: 0.9\n",
      "* Epoch (338/1000) \n"
     ]
    },
    {
     "data": {
      "application/vnd.jupyter.widget-view+json": {
       "model_id": "f95af8cacfaa49639458d76e7dc2ca21",
       "version_major": 2,
       "version_minor": 0
      },
      "text/plain": [
       "339/1000 * Epoch (train):   0%|          | 0/1 [00:00<?, ?it/s]"
      ]
     },
     "metadata": {},
     "output_type": "display_data"
    },
    {
     "name": "stdout",
     "output_type": "stream",
     "text": [
      "train (339/1000) loss: 0.053036682307720184 | loss/mean: 0.053036682307720184 | loss/std: 0.0 | lr: 0.0001 | momentum: 0.9\n"
     ]
    },
    {
     "data": {
      "application/vnd.jupyter.widget-view+json": {
       "model_id": "48d6f58fbf604f14b78a7c415a76d665",
       "version_major": 2,
       "version_minor": 0
      },
      "text/plain": [
       "339/1000 * Epoch (valid):   0%|          | 0/1 [00:00<?, ?it/s]"
      ]
     },
     "metadata": {},
     "output_type": "display_data"
    },
    {
     "name": "stdout",
     "output_type": "stream",
     "text": [
      "valid (339/1000) exact_match01: 1.0 | exact_match01/std: 0.0 | exact_match05: 1.0 | exact_match05/std: 0.0 | loss: 0.0026636766269803047 | loss/mean: 0.0026636766269803047 | loss/std: 0.0 | lr: 0.0001 | momentum: 0.9\n",
      "* Epoch (339/1000) \n"
     ]
    },
    {
     "data": {
      "application/vnd.jupyter.widget-view+json": {
       "model_id": "d3b658ece0d3433fb70bf10cf2fa9184",
       "version_major": 2,
       "version_minor": 0
      },
      "text/plain": [
       "340/1000 * Epoch (train):   0%|          | 0/1 [00:00<?, ?it/s]"
      ]
     },
     "metadata": {},
     "output_type": "display_data"
    },
    {
     "name": "stdout",
     "output_type": "stream",
     "text": [
      "train (340/1000) loss: 0.03579014912247658 | loss/mean: 0.03579014912247658 | loss/std: 0.0 | lr: 0.0001 | momentum: 0.9\n"
     ]
    },
    {
     "data": {
      "application/vnd.jupyter.widget-view+json": {
       "model_id": "a1910ab17d0444ee8916b73fb9ce48e0",
       "version_major": 2,
       "version_minor": 0
      },
      "text/plain": [
       "340/1000 * Epoch (valid):   0%|          | 0/1 [00:00<?, ?it/s]"
      ]
     },
     "metadata": {},
     "output_type": "display_data"
    },
    {
     "name": "stdout",
     "output_type": "stream",
     "text": [
      "valid (340/1000) exact_match01: 1.0 | exact_match01/std: 0.0 | exact_match05: 1.0 | exact_match05/std: 0.0 | loss: 0.00258601363748312 | loss/mean: 0.00258601363748312 | loss/std: 0.0 | lr: 0.0001 | momentum: 0.9\n",
      "* Epoch (340/1000) \n"
     ]
    },
    {
     "data": {
      "application/vnd.jupyter.widget-view+json": {
       "model_id": "45a7d610cbb04d8aacac765fefbaab3c",
       "version_major": 2,
       "version_minor": 0
      },
      "text/plain": [
       "341/1000 * Epoch (train):   0%|          | 0/1 [00:00<?, ?it/s]"
      ]
     },
     "metadata": {},
     "output_type": "display_data"
    },
    {
     "name": "stdout",
     "output_type": "stream",
     "text": [
      "train (341/1000) loss: 0.03164098784327507 | loss/mean: 0.03164098784327507 | loss/std: 0.0 | lr: 0.0001 | momentum: 0.9\n"
     ]
    },
    {
     "data": {
      "application/vnd.jupyter.widget-view+json": {
       "model_id": "3bb70c0ffe614fb0ad1b46a454b8868d",
       "version_major": 2,
       "version_minor": 0
      },
      "text/plain": [
       "341/1000 * Epoch (valid):   0%|          | 0/1 [00:00<?, ?it/s]"
      ]
     },
     "metadata": {},
     "output_type": "display_data"
    },
    {
     "name": "stdout",
     "output_type": "stream",
     "text": [
      "valid (341/1000) exact_match01: 1.0 | exact_match01/std: 0.0 | exact_match05: 1.0 | exact_match05/std: 0.0 | loss: 0.0024996830616146326 | loss/mean: 0.0024996830616146326 | loss/std: 0.0 | lr: 0.0001 | momentum: 0.9\n",
      "* Epoch (341/1000) \n"
     ]
    },
    {
     "data": {
      "application/vnd.jupyter.widget-view+json": {
       "model_id": "afc061817fee4a418a089d7ebb0e4dc8",
       "version_major": 2,
       "version_minor": 0
      },
      "text/plain": [
       "342/1000 * Epoch (train):   0%|          | 0/1 [00:00<?, ?it/s]"
      ]
     },
     "metadata": {},
     "output_type": "display_data"
    },
    {
     "name": "stdout",
     "output_type": "stream",
     "text": [
      "train (342/1000) loss: 0.03290285915136337 | loss/mean: 0.03290285915136337 | loss/std: 0.0 | lr: 0.0001 | momentum: 0.9\n"
     ]
    },
    {
     "data": {
      "application/vnd.jupyter.widget-view+json": {
       "model_id": "9b36996758524d9ca3cdf65247653f75",
       "version_major": 2,
       "version_minor": 0
      },
      "text/plain": [
       "342/1000 * Epoch (valid):   0%|          | 0/1 [00:00<?, ?it/s]"
      ]
     },
     "metadata": {},
     "output_type": "display_data"
    },
    {
     "name": "stdout",
     "output_type": "stream",
     "text": [
      "valid (342/1000) exact_match01: 1.0 | exact_match01/std: 0.0 | exact_match05: 1.0 | exact_match05/std: 0.0 | loss: 0.0023984357248991728 | loss/mean: 0.0023984357248991728 | loss/std: 0.0 | lr: 0.0001 | momentum: 0.9\n",
      "* Epoch (342/1000) \n"
     ]
    },
    {
     "data": {
      "application/vnd.jupyter.widget-view+json": {
       "model_id": "bb59dbdf06084b96a3f7edef57bee11d",
       "version_major": 2,
       "version_minor": 0
      },
      "text/plain": [
       "343/1000 * Epoch (train):   0%|          | 0/1 [00:00<?, ?it/s]"
      ]
     },
     "metadata": {},
     "output_type": "display_data"
    },
    {
     "name": "stdout",
     "output_type": "stream",
     "text": [
      "train (343/1000) loss: 0.03503657132387161 | loss/mean: 0.03503657132387161 | loss/std: 0.0 | lr: 0.0001 | momentum: 0.9\n"
     ]
    },
    {
     "data": {
      "application/vnd.jupyter.widget-view+json": {
       "model_id": "42dfcd857d004c2487aab9e45ad3f4e3",
       "version_major": 2,
       "version_minor": 0
      },
      "text/plain": [
       "343/1000 * Epoch (valid):   0%|          | 0/1 [00:00<?, ?it/s]"
      ]
     },
     "metadata": {},
     "output_type": "display_data"
    },
    {
     "name": "stdout",
     "output_type": "stream",
     "text": [
      "valid (343/1000) exact_match01: 1.0 | exact_match01/std: 0.0 | exact_match05: 1.0 | exact_match05/std: 0.0 | loss: 0.002307334216311574 | loss/mean: 0.002307334216311574 | loss/std: 0.0 | lr: 0.0001 | momentum: 0.9\n",
      "* Epoch (343/1000) \n"
     ]
    },
    {
     "data": {
      "application/vnd.jupyter.widget-view+json": {
       "model_id": "db6e9c93f7d643d398b2552554a296d2",
       "version_major": 2,
       "version_minor": 0
      },
      "text/plain": [
       "344/1000 * Epoch (train):   0%|          | 0/1 [00:00<?, ?it/s]"
      ]
     },
     "metadata": {},
     "output_type": "display_data"
    },
    {
     "name": "stdout",
     "output_type": "stream",
     "text": [
      "train (344/1000) loss: 0.028183717280626297 | loss/mean: 0.028183717280626297 | loss/std: 0.0 | lr: 0.0001 | momentum: 0.9\n"
     ]
    },
    {
     "data": {
      "application/vnd.jupyter.widget-view+json": {
       "model_id": "df4c52be81674958ad9fea7278657542",
       "version_major": 2,
       "version_minor": 0
      },
      "text/plain": [
       "344/1000 * Epoch (valid):   0%|          | 0/1 [00:00<?, ?it/s]"
      ]
     },
     "metadata": {},
     "output_type": "display_data"
    },
    {
     "name": "stdout",
     "output_type": "stream",
     "text": [
      "valid (344/1000) exact_match01: 1.0 | exact_match01/std: 0.0 | exact_match05: 1.0 | exact_match05/std: 0.0 | loss: 0.0022181386593729258 | loss/mean: 0.0022181386593729258 | loss/std: 0.0 | lr: 0.0001 | momentum: 0.9\n",
      "* Epoch (344/1000) \n"
     ]
    },
    {
     "data": {
      "application/vnd.jupyter.widget-view+json": {
       "model_id": "09cc7d3428f34d13a3898527c731977a",
       "version_major": 2,
       "version_minor": 0
      },
      "text/plain": [
       "345/1000 * Epoch (train):   0%|          | 0/1 [00:00<?, ?it/s]"
      ]
     },
     "metadata": {},
     "output_type": "display_data"
    },
    {
     "name": "stdout",
     "output_type": "stream",
     "text": [
      "train (345/1000) loss: 0.026919787749648094 | loss/mean: 0.026919787749648094 | loss/std: 0.0 | lr: 0.0001 | momentum: 0.9\n"
     ]
    },
    {
     "data": {
      "application/vnd.jupyter.widget-view+json": {
       "model_id": "d3baf22f20b04f888d45578a7ed3f158",
       "version_major": 2,
       "version_minor": 0
      },
      "text/plain": [
       "345/1000 * Epoch (valid):   0%|          | 0/1 [00:00<?, ?it/s]"
      ]
     },
     "metadata": {},
     "output_type": "display_data"
    },
    {
     "name": "stdout",
     "output_type": "stream",
     "text": [
      "valid (345/1000) exact_match01: 1.0 | exact_match01/std: 0.0 | exact_match05: 1.0 | exact_match05/std: 0.0 | loss: 0.0021408195607364178 | loss/mean: 0.0021408195607364178 | loss/std: 0.0 | lr: 0.0001 | momentum: 0.9\n",
      "* Epoch (345/1000) \n"
     ]
    },
    {
     "data": {
      "application/vnd.jupyter.widget-view+json": {
       "model_id": "70d40b4589584f1c987f419f3364bc15",
       "version_major": 2,
       "version_minor": 0
      },
      "text/plain": [
       "346/1000 * Epoch (train):   0%|          | 0/1 [00:00<?, ?it/s]"
      ]
     },
     "metadata": {},
     "output_type": "display_data"
    },
    {
     "name": "stdout",
     "output_type": "stream",
     "text": [
      "train (346/1000) loss: 0.040836088359355927 | loss/mean: 0.040836088359355927 | loss/std: 0.0 | lr: 0.0001 | momentum: 0.9\n"
     ]
    },
    {
     "data": {
      "application/vnd.jupyter.widget-view+json": {
       "model_id": "7e70530fe6564d2ab38e903535f9072f",
       "version_major": 2,
       "version_minor": 0
      },
      "text/plain": [
       "346/1000 * Epoch (valid):   0%|          | 0/1 [00:00<?, ?it/s]"
      ]
     },
     "metadata": {},
     "output_type": "display_data"
    },
    {
     "name": "stdout",
     "output_type": "stream",
     "text": [
      "valid (346/1000) exact_match01: 1.0 | exact_match01/std: 0.0 | exact_match05: 1.0 | exact_match05/std: 0.0 | loss: 0.002055298537015915 | loss/mean: 0.002055298537015915 | loss/std: 0.0 | lr: 0.0001 | momentum: 0.9\n",
      "* Epoch (346/1000) \n"
     ]
    },
    {
     "data": {
      "application/vnd.jupyter.widget-view+json": {
       "model_id": "a37657233a454250b47fe82fc254c73c",
       "version_major": 2,
       "version_minor": 0
      },
      "text/plain": [
       "347/1000 * Epoch (train):   0%|          | 0/1 [00:00<?, ?it/s]"
      ]
     },
     "metadata": {},
     "output_type": "display_data"
    },
    {
     "name": "stdout",
     "output_type": "stream",
     "text": [
      "train (347/1000) loss: 0.03652210533618927 | loss/mean: 0.03652210533618927 | loss/std: 0.0 | lr: 0.0001 | momentum: 0.9\n"
     ]
    },
    {
     "data": {
      "application/vnd.jupyter.widget-view+json": {
       "model_id": "a1ea6a27de2f4f17bc82412b7e4a0e46",
       "version_major": 2,
       "version_minor": 0
      },
      "text/plain": [
       "347/1000 * Epoch (valid):   0%|          | 0/1 [00:00<?, ?it/s]"
      ]
     },
     "metadata": {},
     "output_type": "display_data"
    },
    {
     "name": "stdout",
     "output_type": "stream",
     "text": [
      "valid (347/1000) exact_match01: 1.0 | exact_match01/std: 0.0 | exact_match05: 1.0 | exact_match05/std: 0.0 | loss: 0.001976429484784603 | loss/mean: 0.001976429484784603 | loss/std: 0.0 | lr: 0.0001 | momentum: 0.9\n",
      "* Epoch (347/1000) \n"
     ]
    },
    {
     "data": {
      "application/vnd.jupyter.widget-view+json": {
       "model_id": "c510a632c9ad4be2ac3d1d4fd130d8a4",
       "version_major": 2,
       "version_minor": 0
      },
      "text/plain": [
       "348/1000 * Epoch (train):   0%|          | 0/1 [00:00<?, ?it/s]"
      ]
     },
     "metadata": {},
     "output_type": "display_data"
    },
    {
     "name": "stdout",
     "output_type": "stream",
     "text": [
      "train (348/1000) loss: 0.0384739451110363 | loss/mean: 0.0384739451110363 | loss/std: 0.0 | lr: 0.0001 | momentum: 0.9\n"
     ]
    },
    {
     "data": {
      "application/vnd.jupyter.widget-view+json": {
       "model_id": "84f96c3d5bf9445a9fbff228cfb24c90",
       "version_major": 2,
       "version_minor": 0
      },
      "text/plain": [
       "348/1000 * Epoch (valid):   0%|          | 0/1 [00:00<?, ?it/s]"
      ]
     },
     "metadata": {},
     "output_type": "display_data"
    },
    {
     "name": "stdout",
     "output_type": "stream",
     "text": [
      "valid (348/1000) exact_match01: 1.0 | exact_match01/std: 0.0 | exact_match05: 1.0 | exact_match05/std: 0.0 | loss: 0.0019094001036137342 | loss/mean: 0.0019094001036137342 | loss/std: 0.0 | lr: 0.0001 | momentum: 0.9\n",
      "* Epoch (348/1000) \n"
     ]
    },
    {
     "data": {
      "application/vnd.jupyter.widget-view+json": {
       "model_id": "c64b03e8c4eb415a879eb48a79decbf5",
       "version_major": 2,
       "version_minor": 0
      },
      "text/plain": [
       "349/1000 * Epoch (train):   0%|          | 0/1 [00:00<?, ?it/s]"
      ]
     },
     "metadata": {},
     "output_type": "display_data"
    },
    {
     "name": "stdout",
     "output_type": "stream",
     "text": [
      "train (349/1000) loss: 0.031967371702194214 | loss/mean: 0.031967371702194214 | loss/std: 0.0 | lr: 0.0001 | momentum: 0.9\n"
     ]
    },
    {
     "data": {
      "application/vnd.jupyter.widget-view+json": {
       "model_id": "4abffeeb512f4836a063f96492f4f0a5",
       "version_major": 2,
       "version_minor": 0
      },
      "text/plain": [
       "349/1000 * Epoch (valid):   0%|          | 0/1 [00:00<?, ?it/s]"
      ]
     },
     "metadata": {},
     "output_type": "display_data"
    },
    {
     "name": "stdout",
     "output_type": "stream",
     "text": [
      "valid (349/1000) exact_match01: 1.0 | exact_match01/std: 0.0 | exact_match05: 1.0 | exact_match05/std: 0.0 | loss: 0.0018477917183190584 | loss/mean: 0.0018477917183190584 | loss/std: 0.0 | lr: 0.0001 | momentum: 0.9\n",
      "* Epoch (349/1000) \n"
     ]
    },
    {
     "data": {
      "application/vnd.jupyter.widget-view+json": {
       "model_id": "16fccbab458743c99188cb51bca217d3",
       "version_major": 2,
       "version_minor": 0
      },
      "text/plain": [
       "350/1000 * Epoch (train):   0%|          | 0/1 [00:00<?, ?it/s]"
      ]
     },
     "metadata": {},
     "output_type": "display_data"
    },
    {
     "name": "stdout",
     "output_type": "stream",
     "text": [
      "train (350/1000) loss: 0.03464824706315994 | loss/mean: 0.03464824706315994 | loss/std: 0.0 | lr: 0.0001 | momentum: 0.9\n"
     ]
    },
    {
     "data": {
      "application/vnd.jupyter.widget-view+json": {
       "model_id": "54b8aa6915eb4bb48fd7854104fb47d3",
       "version_major": 2,
       "version_minor": 0
      },
      "text/plain": [
       "350/1000 * Epoch (valid):   0%|          | 0/1 [00:00<?, ?it/s]"
      ]
     },
     "metadata": {},
     "output_type": "display_data"
    },
    {
     "name": "stdout",
     "output_type": "stream",
     "text": [
      "valid (350/1000) exact_match01: 1.0 | exact_match01/std: 0.0 | exact_match05: 1.0 | exact_match05/std: 0.0 | loss: 0.0017893891781568527 | loss/mean: 0.0017893891781568527 | loss/std: 0.0 | lr: 0.0001 | momentum: 0.9\n",
      "* Epoch (350/1000) \n"
     ]
    },
    {
     "data": {
      "application/vnd.jupyter.widget-view+json": {
       "model_id": "ac7f121b235f41e49960afdf04906407",
       "version_major": 2,
       "version_minor": 0
      },
      "text/plain": [
       "351/1000 * Epoch (train):   0%|          | 0/1 [00:00<?, ?it/s]"
      ]
     },
     "metadata": {},
     "output_type": "display_data"
    },
    {
     "name": "stdout",
     "output_type": "stream",
     "text": [
      "train (351/1000) loss: 0.031441982835531235 | loss/mean: 0.031441982835531235 | loss/std: 0.0 | lr: 0.0001 | momentum: 0.9\n"
     ]
    },
    {
     "data": {
      "application/vnd.jupyter.widget-view+json": {
       "model_id": "cbdd1b03d1ce41efad1cbad450c1c02f",
       "version_major": 2,
       "version_minor": 0
      },
      "text/plain": [
       "351/1000 * Epoch (valid):   0%|          | 0/1 [00:00<?, ?it/s]"
      ]
     },
     "metadata": {},
     "output_type": "display_data"
    },
    {
     "name": "stdout",
     "output_type": "stream",
     "text": [
      "valid (351/1000) exact_match01: 1.0 | exact_match01/std: 0.0 | exact_match05: 1.0 | exact_match05/std: 0.0 | loss: 0.0017316477606073022 | loss/mean: 0.0017316477606073022 | loss/std: 0.0 | lr: 0.0001 | momentum: 0.9\n",
      "* Epoch (351/1000) \n"
     ]
    },
    {
     "data": {
      "application/vnd.jupyter.widget-view+json": {
       "model_id": "12ef9b6f2568461a90e3180357109dcb",
       "version_major": 2,
       "version_minor": 0
      },
      "text/plain": [
       "352/1000 * Epoch (train):   0%|          | 0/1 [00:00<?, ?it/s]"
      ]
     },
     "metadata": {},
     "output_type": "display_data"
    },
    {
     "name": "stdout",
     "output_type": "stream",
     "text": [
      "train (352/1000) loss: 0.03587430343031883 | loss/mean: 0.03587430343031883 | loss/std: 0.0 | lr: 0.0001 | momentum: 0.9\n"
     ]
    },
    {
     "data": {
      "application/vnd.jupyter.widget-view+json": {
       "model_id": "7e887360d39c45fea6c147c5985a878a",
       "version_major": 2,
       "version_minor": 0
      },
      "text/plain": [
       "352/1000 * Epoch (valid):   0%|          | 0/1 [00:00<?, ?it/s]"
      ]
     },
     "metadata": {},
     "output_type": "display_data"
    },
    {
     "name": "stdout",
     "output_type": "stream",
     "text": [
      "valid (352/1000) exact_match01: 1.0 | exact_match01/std: 0.0 | exact_match05: 1.0 | exact_match05/std: 0.0 | loss: 0.0016727658221498132 | loss/mean: 0.0016727658221498132 | loss/std: 0.0 | lr: 0.0001 | momentum: 0.9\n",
      "* Epoch (352/1000) \n"
     ]
    },
    {
     "data": {
      "application/vnd.jupyter.widget-view+json": {
       "model_id": "59d00183c6ad43d99c224b52928700e7",
       "version_major": 2,
       "version_minor": 0
      },
      "text/plain": [
       "353/1000 * Epoch (train):   0%|          | 0/1 [00:00<?, ?it/s]"
      ]
     },
     "metadata": {},
     "output_type": "display_data"
    },
    {
     "name": "stdout",
     "output_type": "stream",
     "text": [
      "train (353/1000) loss: 0.026985885575413704 | loss/mean: 0.026985885575413704 | loss/std: 0.0 | lr: 0.0001 | momentum: 0.9\n"
     ]
    },
    {
     "data": {
      "application/vnd.jupyter.widget-view+json": {
       "model_id": "4a66a979c3e6456793376450c2fa395c",
       "version_major": 2,
       "version_minor": 0
      },
      "text/plain": [
       "353/1000 * Epoch (valid):   0%|          | 0/1 [00:00<?, ?it/s]"
      ]
     },
     "metadata": {},
     "output_type": "display_data"
    },
    {
     "name": "stdout",
     "output_type": "stream",
     "text": [
      "valid (353/1000) exact_match01: 1.0 | exact_match01/std: 0.0 | exact_match05: 1.0 | exact_match05/std: 0.0 | loss: 0.0016262190183624625 | loss/mean: 0.0016262190183624625 | loss/std: 0.0 | lr: 0.0001 | momentum: 0.9\n",
      "* Epoch (353/1000) \n"
     ]
    },
    {
     "data": {
      "application/vnd.jupyter.widget-view+json": {
       "model_id": "a6607b7c5733447eb217093ccd53b125",
       "version_major": 2,
       "version_minor": 0
      },
      "text/plain": [
       "354/1000 * Epoch (train):   0%|          | 0/1 [00:00<?, ?it/s]"
      ]
     },
     "metadata": {},
     "output_type": "display_data"
    },
    {
     "name": "stdout",
     "output_type": "stream",
     "text": [
      "train (354/1000) loss: 0.031380366533994675 | loss/mean: 0.031380366533994675 | loss/std: 0.0 | lr: 0.0001 | momentum: 0.9\n"
     ]
    },
    {
     "data": {
      "application/vnd.jupyter.widget-view+json": {
       "model_id": "ca4759d39a0944a89c7f5aae98f65147",
       "version_major": 2,
       "version_minor": 0
      },
      "text/plain": [
       "354/1000 * Epoch (valid):   0%|          | 0/1 [00:00<?, ?it/s]"
      ]
     },
     "metadata": {},
     "output_type": "display_data"
    },
    {
     "name": "stdout",
     "output_type": "stream",
     "text": [
      "valid (354/1000) exact_match01: 1.0 | exact_match01/std: 0.0 | exact_match05: 1.0 | exact_match05/std: 0.0 | loss: 0.0015816757222637534 | loss/mean: 0.0015816757222637534 | loss/std: 0.0 | lr: 0.0001 | momentum: 0.9\n",
      "* Epoch (354/1000) \n"
     ]
    },
    {
     "data": {
      "application/vnd.jupyter.widget-view+json": {
       "model_id": "62a3198b3d87432e975a3157efc20d4e",
       "version_major": 2,
       "version_minor": 0
      },
      "text/plain": [
       "355/1000 * Epoch (train):   0%|          | 0/1 [00:00<?, ?it/s]"
      ]
     },
     "metadata": {},
     "output_type": "display_data"
    },
    {
     "name": "stdout",
     "output_type": "stream",
     "text": [
      "train (355/1000) loss: 0.03008202463388443 | loss/mean: 0.03008202463388443 | loss/std: 0.0 | lr: 0.0001 | momentum: 0.9\n"
     ]
    },
    {
     "data": {
      "application/vnd.jupyter.widget-view+json": {
       "model_id": "7edd375bb89f498490a3794a6decff33",
       "version_major": 2,
       "version_minor": 0
      },
      "text/plain": [
       "355/1000 * Epoch (valid):   0%|          | 0/1 [00:00<?, ?it/s]"
      ]
     },
     "metadata": {},
     "output_type": "display_data"
    },
    {
     "name": "stdout",
     "output_type": "stream",
     "text": [
      "valid (355/1000) exact_match01: 1.0 | exact_match01/std: 0.0 | exact_match05: 1.0 | exact_match05/std: 0.0 | loss: 0.0015325809363275766 | loss/mean: 0.0015325809363275766 | loss/std: 0.0 | lr: 0.0001 | momentum: 0.9\n",
      "* Epoch (355/1000) \n"
     ]
    },
    {
     "data": {
      "application/vnd.jupyter.widget-view+json": {
       "model_id": "3934d4e3226141f8bd583abd1ceb3075",
       "version_major": 2,
       "version_minor": 0
      },
      "text/plain": [
       "356/1000 * Epoch (train):   0%|          | 0/1 [00:00<?, ?it/s]"
      ]
     },
     "metadata": {},
     "output_type": "display_data"
    },
    {
     "name": "stdout",
     "output_type": "stream",
     "text": [
      "train (356/1000) loss: 0.03244951367378235 | loss/mean: 0.03244951367378235 | loss/std: 0.0 | lr: 0.0001 | momentum: 0.9\n"
     ]
    },
    {
     "data": {
      "application/vnd.jupyter.widget-view+json": {
       "model_id": "d7f8d8a6c414491d9b7a5d7a336f33b9",
       "version_major": 2,
       "version_minor": 0
      },
      "text/plain": [
       "356/1000 * Epoch (valid):   0%|          | 0/1 [00:00<?, ?it/s]"
      ]
     },
     "metadata": {},
     "output_type": "display_data"
    },
    {
     "name": "stdout",
     "output_type": "stream",
     "text": [
      "valid (356/1000) exact_match01: 1.0 | exact_match01/std: 0.0 | exact_match05: 1.0 | exact_match05/std: 0.0 | loss: 0.0014848987339064479 | loss/mean: 0.0014848987339064479 | loss/std: 0.0 | lr: 0.0001 | momentum: 0.9\n",
      "* Epoch (356/1000) \n"
     ]
    },
    {
     "data": {
      "application/vnd.jupyter.widget-view+json": {
       "model_id": "56349a3ab6494970bdb65e7e1bfa8875",
       "version_major": 2,
       "version_minor": 0
      },
      "text/plain": [
       "357/1000 * Epoch (train):   0%|          | 0/1 [00:00<?, ?it/s]"
      ]
     },
     "metadata": {},
     "output_type": "display_data"
    },
    {
     "name": "stdout",
     "output_type": "stream",
     "text": [
      "train (357/1000) loss: 0.028554093092679977 | loss/mean: 0.028554093092679977 | loss/std: 0.0 | lr: 0.0001 | momentum: 0.9\n"
     ]
    },
    {
     "data": {
      "application/vnd.jupyter.widget-view+json": {
       "model_id": "420683d1d0d541269357c532485f07a5",
       "version_major": 2,
       "version_minor": 0
      },
      "text/plain": [
       "357/1000 * Epoch (valid):   0%|          | 0/1 [00:00<?, ?it/s]"
      ]
     },
     "metadata": {},
     "output_type": "display_data"
    },
    {
     "name": "stdout",
     "output_type": "stream",
     "text": [
      "valid (357/1000) exact_match01: 1.0 | exact_match01/std: 0.0 | exact_match05: 1.0 | exact_match05/std: 0.0 | loss: 0.0014373267767950892 | loss/mean: 0.0014373267767950892 | loss/std: 0.0 | lr: 0.0001 | momentum: 0.9\n",
      "* Epoch (357/1000) \n"
     ]
    },
    {
     "data": {
      "application/vnd.jupyter.widget-view+json": {
       "model_id": "9d81b0e37f0443768db8f8769b3107c8",
       "version_major": 2,
       "version_minor": 0
      },
      "text/plain": [
       "358/1000 * Epoch (train):   0%|          | 0/1 [00:00<?, ?it/s]"
      ]
     },
     "metadata": {},
     "output_type": "display_data"
    },
    {
     "name": "stdout",
     "output_type": "stream",
     "text": [
      "train (358/1000) loss: 0.038672447204589844 | loss/mean: 0.038672447204589844 | loss/std: 0.0 | lr: 0.0001 | momentum: 0.9\n"
     ]
    },
    {
     "data": {
      "application/vnd.jupyter.widget-view+json": {
       "model_id": "b94e5ff3e2844f1cb0a0942176effc55",
       "version_major": 2,
       "version_minor": 0
      },
      "text/plain": [
       "358/1000 * Epoch (valid):   0%|          | 0/1 [00:00<?, ?it/s]"
      ]
     },
     "metadata": {},
     "output_type": "display_data"
    },
    {
     "name": "stdout",
     "output_type": "stream",
     "text": [
      "valid (358/1000) exact_match01: 1.0 | exact_match01/std: 0.0 | exact_match05: 1.0 | exact_match05/std: 0.0 | loss: 0.0013974925968796015 | loss/mean: 0.0013974925968796015 | loss/std: 0.0 | lr: 0.0001 | momentum: 0.9\n",
      "* Epoch (358/1000) \n"
     ]
    },
    {
     "data": {
      "application/vnd.jupyter.widget-view+json": {
       "model_id": "ddb89668aab34f98b1595928d5261dbf",
       "version_major": 2,
       "version_minor": 0
      },
      "text/plain": [
       "359/1000 * Epoch (train):   0%|          | 0/1 [00:00<?, ?it/s]"
      ]
     },
     "metadata": {},
     "output_type": "display_data"
    },
    {
     "name": "stdout",
     "output_type": "stream",
     "text": [
      "train (359/1000) loss: 0.028720160946249962 | loss/mean: 0.028720160946249962 | loss/std: 0.0 | lr: 0.0001 | momentum: 0.9\n"
     ]
    },
    {
     "data": {
      "application/vnd.jupyter.widget-view+json": {
       "model_id": "d524cf30ca9441e0b89a8a642a8ec08c",
       "version_major": 2,
       "version_minor": 0
      },
      "text/plain": [
       "359/1000 * Epoch (valid):   0%|          | 0/1 [00:00<?, ?it/s]"
      ]
     },
     "metadata": {},
     "output_type": "display_data"
    },
    {
     "name": "stdout",
     "output_type": "stream",
     "text": [
      "valid (359/1000) exact_match01: 1.0 | exact_match01/std: 0.0 | exact_match05: 1.0 | exact_match05/std: 0.0 | loss: 0.0013603438856080174 | loss/mean: 0.0013603438856080174 | loss/std: 0.0 | lr: 0.0001 | momentum: 0.9\n",
      "* Epoch (359/1000) \n"
     ]
    },
    {
     "data": {
      "application/vnd.jupyter.widget-view+json": {
       "model_id": "296a1adaf0a7460fbaa35b74f4195702",
       "version_major": 2,
       "version_minor": 0
      },
      "text/plain": [
       "360/1000 * Epoch (train):   0%|          | 0/1 [00:00<?, ?it/s]"
      ]
     },
     "metadata": {},
     "output_type": "display_data"
    },
    {
     "name": "stdout",
     "output_type": "stream",
     "text": [
      "train (360/1000) loss: 0.03256493806838989 | loss/mean: 0.03256493806838989 | loss/std: 0.0 | lr: 0.0001 | momentum: 0.9\n"
     ]
    },
    {
     "data": {
      "application/vnd.jupyter.widget-view+json": {
       "model_id": "67d2e696bd764044bcb1295de97e23ad",
       "version_major": 2,
       "version_minor": 0
      },
      "text/plain": [
       "360/1000 * Epoch (valid):   0%|          | 0/1 [00:00<?, ?it/s]"
      ]
     },
     "metadata": {},
     "output_type": "display_data"
    },
    {
     "name": "stdout",
     "output_type": "stream",
     "text": [
      "valid (360/1000) exact_match01: 1.0 | exact_match01/std: 0.0 | exact_match05: 1.0 | exact_match05/std: 0.0 | loss: 0.0013255246449261904 | loss/mean: 0.0013255246449261904 | loss/std: 0.0 | lr: 0.0001 | momentum: 0.9\n",
      "* Epoch (360/1000) \n"
     ]
    },
    {
     "data": {
      "application/vnd.jupyter.widget-view+json": {
       "model_id": "230e47b35f804780a850085b5903701d",
       "version_major": 2,
       "version_minor": 0
      },
      "text/plain": [
       "361/1000 * Epoch (train):   0%|          | 0/1 [00:00<?, ?it/s]"
      ]
     },
     "metadata": {},
     "output_type": "display_data"
    },
    {
     "name": "stdout",
     "output_type": "stream",
     "text": [
      "train (361/1000) loss: 0.03149615600705147 | loss/mean: 0.03149615600705147 | loss/std: 0.0 | lr: 0.0001 | momentum: 0.9\n"
     ]
    },
    {
     "data": {
      "application/vnd.jupyter.widget-view+json": {
       "model_id": "ff07f12ea865499ab9e593e0b0c161dc",
       "version_major": 2,
       "version_minor": 0
      },
      "text/plain": [
       "361/1000 * Epoch (valid):   0%|          | 0/1 [00:00<?, ?it/s]"
      ]
     },
     "metadata": {},
     "output_type": "display_data"
    },
    {
     "name": "stdout",
     "output_type": "stream",
     "text": [
      "valid (361/1000) exact_match01: 1.0 | exact_match01/std: 0.0 | exact_match05: 1.0 | exact_match05/std: 0.0 | loss: 0.001295525929890573 | loss/mean: 0.001295525929890573 | loss/std: 0.0 | lr: 0.0001 | momentum: 0.9\n",
      "* Epoch (361/1000) \n"
     ]
    },
    {
     "data": {
      "application/vnd.jupyter.widget-view+json": {
       "model_id": "d20064f268d641fabec5ce0736a69a1f",
       "version_major": 2,
       "version_minor": 0
      },
      "text/plain": [
       "362/1000 * Epoch (train):   0%|          | 0/1 [00:00<?, ?it/s]"
      ]
     },
     "metadata": {},
     "output_type": "display_data"
    },
    {
     "name": "stdout",
     "output_type": "stream",
     "text": [
      "train (362/1000) loss: 0.03433899208903313 | loss/mean: 0.03433899208903313 | loss/std: 0.0 | lr: 0.0001 | momentum: 0.9\n"
     ]
    },
    {
     "data": {
      "application/vnd.jupyter.widget-view+json": {
       "model_id": "b3854242fa9845279d39ac55c53e2692",
       "version_major": 2,
       "version_minor": 0
      },
      "text/plain": [
       "362/1000 * Epoch (valid):   0%|          | 0/1 [00:00<?, ?it/s]"
      ]
     },
     "metadata": {},
     "output_type": "display_data"
    },
    {
     "name": "stdout",
     "output_type": "stream",
     "text": [
      "valid (362/1000) exact_match01: 1.0 | exact_match01/std: 0.0 | exact_match05: 1.0 | exact_match05/std: 0.0 | loss: 0.0012667597038671374 | loss/mean: 0.0012667597038671374 | loss/std: 0.0 | lr: 0.0001 | momentum: 0.9\n",
      "* Epoch (362/1000) \n"
     ]
    },
    {
     "data": {
      "application/vnd.jupyter.widget-view+json": {
       "model_id": "9865586db5404f0fafe6a262a141ba1a",
       "version_major": 2,
       "version_minor": 0
      },
      "text/plain": [
       "363/1000 * Epoch (train):   0%|          | 0/1 [00:00<?, ?it/s]"
      ]
     },
     "metadata": {},
     "output_type": "display_data"
    },
    {
     "name": "stdout",
     "output_type": "stream",
     "text": [
      "train (363/1000) loss: 0.029969779774546623 | loss/mean: 0.029969779774546623 | loss/std: 0.0 | lr: 0.0001 | momentum: 0.9\n"
     ]
    },
    {
     "data": {
      "application/vnd.jupyter.widget-view+json": {
       "model_id": "7058b8f5a56c4186940c305166c4c5a1",
       "version_major": 2,
       "version_minor": 0
      },
      "text/plain": [
       "363/1000 * Epoch (valid):   0%|          | 0/1 [00:00<?, ?it/s]"
      ]
     },
     "metadata": {},
     "output_type": "display_data"
    },
    {
     "name": "stdout",
     "output_type": "stream",
     "text": [
      "valid (363/1000) exact_match01: 1.0 | exact_match01/std: 0.0 | exact_match05: 1.0 | exact_match05/std: 0.0 | loss: 0.0012361694825813174 | loss/mean: 0.0012361694825813174 | loss/std: 0.0 | lr: 0.0001 | momentum: 0.9\n",
      "* Epoch (363/1000) \n"
     ]
    },
    {
     "data": {
      "application/vnd.jupyter.widget-view+json": {
       "model_id": "8b9ac6029de24dbbb1c65463c7570dfa",
       "version_major": 2,
       "version_minor": 0
      },
      "text/plain": [
       "364/1000 * Epoch (train):   0%|          | 0/1 [00:00<?, ?it/s]"
      ]
     },
     "metadata": {},
     "output_type": "display_data"
    },
    {
     "name": "stdout",
     "output_type": "stream",
     "text": [
      "train (364/1000) loss: 0.039451874792575836 | loss/mean: 0.039451874792575836 | loss/std: 0.0 | lr: 0.0001 | momentum: 0.9\n"
     ]
    },
    {
     "data": {
      "application/vnd.jupyter.widget-view+json": {
       "model_id": "0c08b5ebfcb640f9acb150beab2c4c6d",
       "version_major": 2,
       "version_minor": 0
      },
      "text/plain": [
       "364/1000 * Epoch (valid):   0%|          | 0/1 [00:00<?, ?it/s]"
      ]
     },
     "metadata": {},
     "output_type": "display_data"
    },
    {
     "name": "stdout",
     "output_type": "stream",
     "text": [
      "valid (364/1000) exact_match01: 1.0 | exact_match01/std: 0.0 | exact_match05: 1.0 | exact_match05/std: 0.0 | loss: 0.0012076020939275622 | loss/mean: 0.0012076020939275622 | loss/std: 0.0 | lr: 0.0001 | momentum: 0.9\n",
      "* Epoch (364/1000) \n"
     ]
    },
    {
     "data": {
      "application/vnd.jupyter.widget-view+json": {
       "model_id": "f2beb2ce943046d580d1b713cc495963",
       "version_major": 2,
       "version_minor": 0
      },
      "text/plain": [
       "365/1000 * Epoch (train):   0%|          | 0/1 [00:00<?, ?it/s]"
      ]
     },
     "metadata": {},
     "output_type": "display_data"
    },
    {
     "name": "stdout",
     "output_type": "stream",
     "text": [
      "train (365/1000) loss: 0.03909482806921005 | loss/mean: 0.03909482806921005 | loss/std: 0.0 | lr: 0.0001 | momentum: 0.9\n"
     ]
    },
    {
     "data": {
      "application/vnd.jupyter.widget-view+json": {
       "model_id": "5ba3c2c46cc2415482411b611f997258",
       "version_major": 2,
       "version_minor": 0
      },
      "text/plain": [
       "365/1000 * Epoch (valid):   0%|          | 0/1 [00:00<?, ?it/s]"
      ]
     },
     "metadata": {},
     "output_type": "display_data"
    },
    {
     "name": "stdout",
     "output_type": "stream",
     "text": [
      "valid (365/1000) exact_match01: 1.0 | exact_match01/std: 0.0 | exact_match05: 1.0 | exact_match05/std: 0.0 | loss: 0.0011811350705102086 | loss/mean: 0.0011811350705102086 | loss/std: 0.0 | lr: 0.0001 | momentum: 0.9\n",
      "* Epoch (365/1000) \n"
     ]
    },
    {
     "data": {
      "application/vnd.jupyter.widget-view+json": {
       "model_id": "465306411bd44374a316aaff57a919f2",
       "version_major": 2,
       "version_minor": 0
      },
      "text/plain": [
       "366/1000 * Epoch (train):   0%|          | 0/1 [00:00<?, ?it/s]"
      ]
     },
     "metadata": {},
     "output_type": "display_data"
    },
    {
     "name": "stdout",
     "output_type": "stream",
     "text": [
      "train (366/1000) loss: 0.031206034123897552 | loss/mean: 0.031206034123897552 | loss/std: 0.0 | lr: 0.0001 | momentum: 0.9\n"
     ]
    },
    {
     "data": {
      "application/vnd.jupyter.widget-view+json": {
       "model_id": "dbdf6372740d411bbe68514daf0db2a8",
       "version_major": 2,
       "version_minor": 0
      },
      "text/plain": [
       "366/1000 * Epoch (valid):   0%|          | 0/1 [00:00<?, ?it/s]"
      ]
     },
     "metadata": {},
     "output_type": "display_data"
    },
    {
     "name": "stdout",
     "output_type": "stream",
     "text": [
      "valid (366/1000) exact_match01: 1.0 | exact_match01/std: 0.0 | exact_match05: 1.0 | exact_match05/std: 0.0 | loss: 0.001155257923528552 | loss/mean: 0.001155257923528552 | loss/std: 0.0 | lr: 0.0001 | momentum: 0.9\n",
      "* Epoch (366/1000) \n"
     ]
    },
    {
     "data": {
      "application/vnd.jupyter.widget-view+json": {
       "model_id": "c55dd7366c934ef3b80e561590a790b6",
       "version_major": 2,
       "version_minor": 0
      },
      "text/plain": [
       "367/1000 * Epoch (train):   0%|          | 0/1 [00:00<?, ?it/s]"
      ]
     },
     "metadata": {},
     "output_type": "display_data"
    },
    {
     "name": "stdout",
     "output_type": "stream",
     "text": [
      "train (367/1000) loss: 0.03383593633770943 | loss/mean: 0.03383593633770943 | loss/std: 0.0 | lr: 0.0001 | momentum: 0.9\n"
     ]
    },
    {
     "data": {
      "application/vnd.jupyter.widget-view+json": {
       "model_id": "b18667634ad44ac29b3c7c1e6efe73ab",
       "version_major": 2,
       "version_minor": 0
      },
      "text/plain": [
       "367/1000 * Epoch (valid):   0%|          | 0/1 [00:00<?, ?it/s]"
      ]
     },
     "metadata": {},
     "output_type": "display_data"
    },
    {
     "name": "stdout",
     "output_type": "stream",
     "text": [
      "valid (367/1000) exact_match01: 1.0 | exact_match01/std: 0.0 | exact_match05: 1.0 | exact_match05/std: 0.0 | loss: 0.0011298765894025564 | loss/mean: 0.0011298765894025564 | loss/std: 0.0 | lr: 0.0001 | momentum: 0.9\n",
      "* Epoch (367/1000) \n"
     ]
    },
    {
     "data": {
      "application/vnd.jupyter.widget-view+json": {
       "model_id": "7667a8c583b74e3fbac9a31dba13af24",
       "version_major": 2,
       "version_minor": 0
      },
      "text/plain": [
       "368/1000 * Epoch (train):   0%|          | 0/1 [00:00<?, ?it/s]"
      ]
     },
     "metadata": {},
     "output_type": "display_data"
    },
    {
     "name": "stdout",
     "output_type": "stream",
     "text": [
      "train (368/1000) loss: 0.03171013668179512 | loss/mean: 0.03171013668179512 | loss/std: 0.0 | lr: 0.0001 | momentum: 0.9\n"
     ]
    },
    {
     "data": {
      "application/vnd.jupyter.widget-view+json": {
       "model_id": "4ccc8fff15024f85a4facbd5c14be44b",
       "version_major": 2,
       "version_minor": 0
      },
      "text/plain": [
       "368/1000 * Epoch (valid):   0%|          | 0/1 [00:00<?, ?it/s]"
      ]
     },
     "metadata": {},
     "output_type": "display_data"
    },
    {
     "name": "stdout",
     "output_type": "stream",
     "text": [
      "valid (368/1000) exact_match01: 1.0 | exact_match01/std: 0.0 | exact_match05: 1.0 | exact_match05/std: 0.0 | loss: 0.0011042500846087933 | loss/mean: 0.0011042500846087933 | loss/std: 0.0 | lr: 0.0001 | momentum: 0.9\n",
      "* Epoch (368/1000) \n"
     ]
    },
    {
     "data": {
      "application/vnd.jupyter.widget-view+json": {
       "model_id": "d09b95de1a9844679c5ce581e98b583d",
       "version_major": 2,
       "version_minor": 0
      },
      "text/plain": [
       "369/1000 * Epoch (train):   0%|          | 0/1 [00:00<?, ?it/s]"
      ]
     },
     "metadata": {},
     "output_type": "display_data"
    },
    {
     "name": "stdout",
     "output_type": "stream",
     "text": [
      "train (369/1000) loss: 0.02399319037795067 | loss/mean: 0.02399319037795067 | loss/std: 0.0 | lr: 0.0001 | momentum: 0.9\n"
     ]
    },
    {
     "data": {
      "application/vnd.jupyter.widget-view+json": {
       "model_id": "bac4735769034e9a861485f89950a9ba",
       "version_major": 2,
       "version_minor": 0
      },
      "text/plain": [
       "369/1000 * Epoch (valid):   0%|          | 0/1 [00:00<?, ?it/s]"
      ]
     },
     "metadata": {},
     "output_type": "display_data"
    },
    {
     "name": "stdout",
     "output_type": "stream",
     "text": [
      "valid (369/1000) exact_match01: 1.0 | exact_match01/std: 0.0 | exact_match05: 1.0 | exact_match05/std: 0.0 | loss: 0.0010789820225909352 | loss/mean: 0.0010789820225909352 | loss/std: 0.0 | lr: 0.0001 | momentum: 0.9\n",
      "* Epoch (369/1000) \n"
     ]
    },
    {
     "data": {
      "application/vnd.jupyter.widget-view+json": {
       "model_id": "c719bdcb9ff941d0b8af689b8289959c",
       "version_major": 2,
       "version_minor": 0
      },
      "text/plain": [
       "370/1000 * Epoch (train):   0%|          | 0/1 [00:00<?, ?it/s]"
      ]
     },
     "metadata": {},
     "output_type": "display_data"
    },
    {
     "name": "stdout",
     "output_type": "stream",
     "text": [
      "train (370/1000) loss: 0.025004422292113304 | loss/mean: 0.025004422292113304 | loss/std: 0.0 | lr: 0.0001 | momentum: 0.9\n"
     ]
    },
    {
     "data": {
      "application/vnd.jupyter.widget-view+json": {
       "model_id": "b3b0dc4212ad40b99b1a3fffdd8e3b1b",
       "version_major": 2,
       "version_minor": 0
      },
      "text/plain": [
       "370/1000 * Epoch (valid):   0%|          | 0/1 [00:00<?, ?it/s]"
      ]
     },
     "metadata": {},
     "output_type": "display_data"
    },
    {
     "name": "stdout",
     "output_type": "stream",
     "text": [
      "valid (370/1000) exact_match01: 1.0 | exact_match01/std: 0.0 | exact_match05: 1.0 | exact_match05/std: 0.0 | loss: 0.0010558913927525282 | loss/mean: 0.0010558913927525282 | loss/std: 0.0 | lr: 0.0001 | momentum: 0.9\n",
      "* Epoch (370/1000) \n"
     ]
    },
    {
     "data": {
      "application/vnd.jupyter.widget-view+json": {
       "model_id": "9f4a8c656f054784bd58a823cea9e0ce",
       "version_major": 2,
       "version_minor": 0
      },
      "text/plain": [
       "371/1000 * Epoch (train):   0%|          | 0/1 [00:00<?, ?it/s]"
      ]
     },
     "metadata": {},
     "output_type": "display_data"
    },
    {
     "name": "stdout",
     "output_type": "stream",
     "text": [
      "train (371/1000) loss: 0.03180371969938278 | loss/mean: 0.03180371969938278 | loss/std: 0.0 | lr: 0.0001 | momentum: 0.9\n"
     ]
    },
    {
     "data": {
      "application/vnd.jupyter.widget-view+json": {
       "model_id": "f21eca30d19a42919787de608f029c5f",
       "version_major": 2,
       "version_minor": 0
      },
      "text/plain": [
       "371/1000 * Epoch (valid):   0%|          | 0/1 [00:00<?, ?it/s]"
      ]
     },
     "metadata": {},
     "output_type": "display_data"
    },
    {
     "name": "stdout",
     "output_type": "stream",
     "text": [
      "valid (371/1000) exact_match01: 1.0 | exact_match01/std: 0.0 | exact_match05: 1.0 | exact_match05/std: 0.0 | loss: 0.001031392370350659 | loss/mean: 0.001031392370350659 | loss/std: 0.0 | lr: 0.0001 | momentum: 0.9\n",
      "* Epoch (371/1000) \n"
     ]
    },
    {
     "data": {
      "application/vnd.jupyter.widget-view+json": {
       "model_id": "d2976d2cf68e4ba6a4d351b4d87a9590",
       "version_major": 2,
       "version_minor": 0
      },
      "text/plain": [
       "372/1000 * Epoch (train):   0%|          | 0/1 [00:00<?, ?it/s]"
      ]
     },
     "metadata": {},
     "output_type": "display_data"
    },
    {
     "name": "stdout",
     "output_type": "stream",
     "text": [
      "train (372/1000) loss: 0.02521783486008644 | loss/mean: 0.02521783486008644 | loss/std: 0.0 | lr: 0.0001 | momentum: 0.9\n"
     ]
    },
    {
     "data": {
      "application/vnd.jupyter.widget-view+json": {
       "model_id": "99a2bab645f8446ab88538dafe86ddca",
       "version_major": 2,
       "version_minor": 0
      },
      "text/plain": [
       "372/1000 * Epoch (valid):   0%|          | 0/1 [00:00<?, ?it/s]"
      ]
     },
     "metadata": {},
     "output_type": "display_data"
    },
    {
     "name": "stdout",
     "output_type": "stream",
     "text": [
      "valid (372/1000) exact_match01: 1.0 | exact_match01/std: 0.0 | exact_match05: 1.0 | exact_match05/std: 0.0 | loss: 0.0010085819521918893 | loss/mean: 0.0010085819521918893 | loss/std: 0.0 | lr: 0.0001 | momentum: 0.9\n",
      "* Epoch (372/1000) \n"
     ]
    },
    {
     "data": {
      "application/vnd.jupyter.widget-view+json": {
       "model_id": "ed633fa2ea334ae286f4496794e41b34",
       "version_major": 2,
       "version_minor": 0
      },
      "text/plain": [
       "373/1000 * Epoch (train):   0%|          | 0/1 [00:00<?, ?it/s]"
      ]
     },
     "metadata": {},
     "output_type": "display_data"
    },
    {
     "name": "stdout",
     "output_type": "stream",
     "text": [
      "train (373/1000) loss: 0.02606077678501606 | loss/mean: 0.02606077678501606 | loss/std: 0.0 | lr: 0.0001 | momentum: 0.9\n"
     ]
    },
    {
     "data": {
      "application/vnd.jupyter.widget-view+json": {
       "model_id": "7b49bbd5f88b4850a0e325d7f5348ada",
       "version_major": 2,
       "version_minor": 0
      },
      "text/plain": [
       "373/1000 * Epoch (valid):   0%|          | 0/1 [00:00<?, ?it/s]"
      ]
     },
     "metadata": {},
     "output_type": "display_data"
    },
    {
     "name": "stdout",
     "output_type": "stream",
     "text": [
      "valid (373/1000) exact_match01: 1.0 | exact_match01/std: 0.0 | exact_match05: 1.0 | exact_match05/std: 0.0 | loss: 0.0009867491899058223 | loss/mean: 0.0009867491899058223 | loss/std: 0.0 | lr: 0.0001 | momentum: 0.9\n",
      "* Epoch (373/1000) \n"
     ]
    },
    {
     "data": {
      "application/vnd.jupyter.widget-view+json": {
       "model_id": "f89000673bf34f00bd8482d15e7c1c0e",
       "version_major": 2,
       "version_minor": 0
      },
      "text/plain": [
       "374/1000 * Epoch (train):   0%|          | 0/1 [00:00<?, ?it/s]"
      ]
     },
     "metadata": {},
     "output_type": "display_data"
    },
    {
     "name": "stdout",
     "output_type": "stream",
     "text": [
      "train (374/1000) loss: 0.02754783257842064 | loss/mean: 0.02754783257842064 | loss/std: 0.0 | lr: 0.0001 | momentum: 0.9\n"
     ]
    },
    {
     "data": {
      "application/vnd.jupyter.widget-view+json": {
       "model_id": "98f0089caaea40979d9ae73ee7ad2f2b",
       "version_major": 2,
       "version_minor": 0
      },
      "text/plain": [
       "374/1000 * Epoch (valid):   0%|          | 0/1 [00:00<?, ?it/s]"
      ]
     },
     "metadata": {},
     "output_type": "display_data"
    },
    {
     "name": "stdout",
     "output_type": "stream",
     "text": [
      "valid (374/1000) exact_match01: 1.0 | exact_match01/std: 0.0 | exact_match05: 1.0 | exact_match05/std: 0.0 | loss: 0.0009695716435089707 | loss/mean: 0.0009695716435089707 | loss/std: 0.0 | lr: 0.0001 | momentum: 0.9\n",
      "* Epoch (374/1000) \n"
     ]
    },
    {
     "data": {
      "application/vnd.jupyter.widget-view+json": {
       "model_id": "b58d0ad53bbb4385833034c3b946a314",
       "version_major": 2,
       "version_minor": 0
      },
      "text/plain": [
       "375/1000 * Epoch (train):   0%|          | 0/1 [00:00<?, ?it/s]"
      ]
     },
     "metadata": {},
     "output_type": "display_data"
    },
    {
     "name": "stdout",
     "output_type": "stream",
     "text": [
      "train (375/1000) loss: 0.024712076410651207 | loss/mean: 0.024712076410651207 | loss/std: 0.0 | lr: 0.0001 | momentum: 0.9\n"
     ]
    },
    {
     "data": {
      "application/vnd.jupyter.widget-view+json": {
       "model_id": "9721a8236c9b47f89582b328aac75ec1",
       "version_major": 2,
       "version_minor": 0
      },
      "text/plain": [
       "375/1000 * Epoch (valid):   0%|          | 0/1 [00:00<?, ?it/s]"
      ]
     },
     "metadata": {},
     "output_type": "display_data"
    },
    {
     "name": "stdout",
     "output_type": "stream",
     "text": [
      "valid (375/1000) exact_match01: 1.0 | exact_match01/std: 0.0 | exact_match05: 1.0 | exact_match05/std: 0.0 | loss: 0.0009535430581308901 | loss/mean: 0.0009535430581308901 | loss/std: 0.0 | lr: 0.0001 | momentum: 0.9\n",
      "* Epoch (375/1000) \n"
     ]
    },
    {
     "data": {
      "application/vnd.jupyter.widget-view+json": {
       "model_id": "97507597b4594c8eaa48e96fd188fa91",
       "version_major": 2,
       "version_minor": 0
      },
      "text/plain": [
       "376/1000 * Epoch (train):   0%|          | 0/1 [00:00<?, ?it/s]"
      ]
     },
     "metadata": {},
     "output_type": "display_data"
    },
    {
     "name": "stdout",
     "output_type": "stream",
     "text": [
      "train (376/1000) loss: 0.020153043791651726 | loss/mean: 0.020153043791651726 | loss/std: 0.0 | lr: 0.0001 | momentum: 0.9\n"
     ]
    },
    {
     "data": {
      "application/vnd.jupyter.widget-view+json": {
       "model_id": "5d99879148d44236834f55810a6eb529",
       "version_major": 2,
       "version_minor": 0
      },
      "text/plain": [
       "376/1000 * Epoch (valid):   0%|          | 0/1 [00:00<?, ?it/s]"
      ]
     },
     "metadata": {},
     "output_type": "display_data"
    },
    {
     "name": "stdout",
     "output_type": "stream",
     "text": [
      "valid (376/1000) exact_match01: 1.0 | exact_match01/std: 0.0 | exact_match05: 1.0 | exact_match05/std: 0.0 | loss: 0.0009359866962768137 | loss/mean: 0.0009359866962768137 | loss/std: 0.0 | lr: 0.0001 | momentum: 0.9\n",
      "* Epoch (376/1000) \n"
     ]
    },
    {
     "data": {
      "application/vnd.jupyter.widget-view+json": {
       "model_id": "333fe6e6283f4a689dbd073a72eeb481",
       "version_major": 2,
       "version_minor": 0
      },
      "text/plain": [
       "377/1000 * Epoch (train):   0%|          | 0/1 [00:00<?, ?it/s]"
      ]
     },
     "metadata": {},
     "output_type": "display_data"
    },
    {
     "name": "stdout",
     "output_type": "stream",
     "text": [
      "train (377/1000) loss: 0.0305325984954834 | loss/mean: 0.0305325984954834 | loss/std: 0.0 | lr: 0.0001 | momentum: 0.9\n"
     ]
    },
    {
     "data": {
      "application/vnd.jupyter.widget-view+json": {
       "model_id": "5632210cb12c4e5795658c3f8b60be75",
       "version_major": 2,
       "version_minor": 0
      },
      "text/plain": [
       "377/1000 * Epoch (valid):   0%|          | 0/1 [00:00<?, ?it/s]"
      ]
     },
     "metadata": {},
     "output_type": "display_data"
    },
    {
     "name": "stdout",
     "output_type": "stream",
     "text": [
      "valid (377/1000) exact_match01: 1.0 | exact_match01/std: 0.0 | exact_match05: 1.0 | exact_match05/std: 0.0 | loss: 0.0009194557787850499 | loss/mean: 0.0009194557787850499 | loss/std: 0.0 | lr: 0.0001 | momentum: 0.9\n",
      "* Epoch (377/1000) \n"
     ]
    },
    {
     "data": {
      "application/vnd.jupyter.widget-view+json": {
       "model_id": "de9260e240a64dd8ace0e3c2413156b1",
       "version_major": 2,
       "version_minor": 0
      },
      "text/plain": [
       "378/1000 * Epoch (train):   0%|          | 0/1 [00:00<?, ?it/s]"
      ]
     },
     "metadata": {},
     "output_type": "display_data"
    },
    {
     "name": "stdout",
     "output_type": "stream",
     "text": [
      "train (378/1000) loss: 0.023850632831454277 | loss/mean: 0.023850632831454277 | loss/std: 0.0 | lr: 0.0001 | momentum: 0.9\n"
     ]
    },
    {
     "data": {
      "application/vnd.jupyter.widget-view+json": {
       "model_id": "2716865fe89e403c9db94981ded207eb",
       "version_major": 2,
       "version_minor": 0
      },
      "text/plain": [
       "378/1000 * Epoch (valid):   0%|          | 0/1 [00:00<?, ?it/s]"
      ]
     },
     "metadata": {},
     "output_type": "display_data"
    },
    {
     "name": "stdout",
     "output_type": "stream",
     "text": [
      "valid (378/1000) exact_match01: 1.0 | exact_match01/std: 0.0 | exact_match05: 1.0 | exact_match05/std: 0.0 | loss: 0.0009046430350281298 | loss/mean: 0.0009046430350281298 | loss/std: 0.0 | lr: 0.0001 | momentum: 0.9\n",
      "* Epoch (378/1000) \n"
     ]
    },
    {
     "data": {
      "application/vnd.jupyter.widget-view+json": {
       "model_id": "3162aa651fde4712908b4c0c15f067be",
       "version_major": 2,
       "version_minor": 0
      },
      "text/plain": [
       "379/1000 * Epoch (train):   0%|          | 0/1 [00:00<?, ?it/s]"
      ]
     },
     "metadata": {},
     "output_type": "display_data"
    },
    {
     "name": "stdout",
     "output_type": "stream",
     "text": [
      "train (379/1000) loss: 0.027744656428694725 | loss/mean: 0.027744656428694725 | loss/std: 0.0 | lr: 0.0001 | momentum: 0.9\n"
     ]
    },
    {
     "data": {
      "application/vnd.jupyter.widget-view+json": {
       "model_id": "a941ec4543f14cb193929998981b8608",
       "version_major": 2,
       "version_minor": 0
      },
      "text/plain": [
       "379/1000 * Epoch (valid):   0%|          | 0/1 [00:00<?, ?it/s]"
      ]
     },
     "metadata": {},
     "output_type": "display_data"
    },
    {
     "name": "stdout",
     "output_type": "stream",
     "text": [
      "valid (379/1000) exact_match01: 1.0 | exact_match01/std: 0.0 | exact_match05: 1.0 | exact_match05/std: 0.0 | loss: 0.0008900602697394788 | loss/mean: 0.0008900602697394788 | loss/std: 0.0 | lr: 0.0001 | momentum: 0.9\n",
      "* Epoch (379/1000) \n"
     ]
    },
    {
     "data": {
      "application/vnd.jupyter.widget-view+json": {
       "model_id": "adcd5be425984416866f2f30ed2af51d",
       "version_major": 2,
       "version_minor": 0
      },
      "text/plain": [
       "380/1000 * Epoch (train):   0%|          | 0/1 [00:00<?, ?it/s]"
      ]
     },
     "metadata": {},
     "output_type": "display_data"
    },
    {
     "name": "stdout",
     "output_type": "stream",
     "text": [
      "train (380/1000) loss: 0.02415201999247074 | loss/mean: 0.02415201999247074 | loss/std: 0.0 | lr: 0.0001 | momentum: 0.9\n"
     ]
    },
    {
     "data": {
      "application/vnd.jupyter.widget-view+json": {
       "model_id": "fd904840776d4ef6bdbccebe7837c661",
       "version_major": 2,
       "version_minor": 0
      },
      "text/plain": [
       "380/1000 * Epoch (valid):   0%|          | 0/1 [00:00<?, ?it/s]"
      ]
     },
     "metadata": {},
     "output_type": "display_data"
    },
    {
     "name": "stdout",
     "output_type": "stream",
     "text": [
      "valid (380/1000) exact_match01: 1.0 | exact_match01/std: 0.0 | exact_match05: 1.0 | exact_match05/std: 0.0 | loss: 0.0008739645127207041 | loss/mean: 0.0008739645127207041 | loss/std: 0.0 | lr: 0.0001 | momentum: 0.9\n",
      "* Epoch (380/1000) \n"
     ]
    },
    {
     "data": {
      "application/vnd.jupyter.widget-view+json": {
       "model_id": "ed7b4413b0d346a795783f8fcd5a0fa5",
       "version_major": 2,
       "version_minor": 0
      },
      "text/plain": [
       "381/1000 * Epoch (train):   0%|          | 0/1 [00:00<?, ?it/s]"
      ]
     },
     "metadata": {},
     "output_type": "display_data"
    },
    {
     "name": "stdout",
     "output_type": "stream",
     "text": [
      "train (381/1000) loss: 0.023829324170947075 | loss/mean: 0.023829324170947075 | loss/std: 0.0 | lr: 0.0001 | momentum: 0.9\n"
     ]
    },
    {
     "data": {
      "application/vnd.jupyter.widget-view+json": {
       "model_id": "3d779202187541c39bb684d77449b682",
       "version_major": 2,
       "version_minor": 0
      },
      "text/plain": [
       "381/1000 * Epoch (valid):   0%|          | 0/1 [00:00<?, ?it/s]"
      ]
     },
     "metadata": {},
     "output_type": "display_data"
    },
    {
     "name": "stdout",
     "output_type": "stream",
     "text": [
      "valid (381/1000) exact_match01: 1.0 | exact_match01/std: 0.0 | exact_match05: 1.0 | exact_match05/std: 0.0 | loss: 0.0008625383488833904 | loss/mean: 0.0008625383488833904 | loss/std: 0.0 | lr: 0.0001 | momentum: 0.9\n",
      "* Epoch (381/1000) \n"
     ]
    },
    {
     "data": {
      "application/vnd.jupyter.widget-view+json": {
       "model_id": "4658013a8d1047619cae4c6c4e9a3ab8",
       "version_major": 2,
       "version_minor": 0
      },
      "text/plain": [
       "382/1000 * Epoch (train):   0%|          | 0/1 [00:00<?, ?it/s]"
      ]
     },
     "metadata": {},
     "output_type": "display_data"
    },
    {
     "name": "stdout",
     "output_type": "stream",
     "text": [
      "train (382/1000) loss: 0.031504951417446136 | loss/mean: 0.031504951417446136 | loss/std: 0.0 | lr: 0.0001 | momentum: 0.9\n"
     ]
    },
    {
     "data": {
      "application/vnd.jupyter.widget-view+json": {
       "model_id": "49d776ad0159456a9e451e5fec61bf38",
       "version_major": 2,
       "version_minor": 0
      },
      "text/plain": [
       "382/1000 * Epoch (valid):   0%|          | 0/1 [00:00<?, ?it/s]"
      ]
     },
     "metadata": {},
     "output_type": "display_data"
    },
    {
     "name": "stdout",
     "output_type": "stream",
     "text": [
      "valid (382/1000) exact_match01: 1.0 | exact_match01/std: 0.0 | exact_match05: 1.0 | exact_match05/std: 0.0 | loss: 0.00084790273103863 | loss/mean: 0.00084790273103863 | loss/std: 0.0 | lr: 0.0001 | momentum: 0.9\n",
      "* Epoch (382/1000) \n"
     ]
    },
    {
     "data": {
      "application/vnd.jupyter.widget-view+json": {
       "model_id": "4b2462fbc3d4462abebc033016f52d2a",
       "version_major": 2,
       "version_minor": 0
      },
      "text/plain": [
       "383/1000 * Epoch (train):   0%|          | 0/1 [00:00<?, ?it/s]"
      ]
     },
     "metadata": {},
     "output_type": "display_data"
    },
    {
     "name": "stdout",
     "output_type": "stream",
     "text": [
      "train (383/1000) loss: 0.01952436938881874 | loss/mean: 0.01952436938881874 | loss/std: 0.0 | lr: 0.0001 | momentum: 0.9\n"
     ]
    },
    {
     "data": {
      "application/vnd.jupyter.widget-view+json": {
       "model_id": "acd927505c014701973cbd327ddcb936",
       "version_major": 2,
       "version_minor": 0
      },
      "text/plain": [
       "383/1000 * Epoch (valid):   0%|          | 0/1 [00:00<?, ?it/s]"
      ]
     },
     "metadata": {},
     "output_type": "display_data"
    },
    {
     "name": "stdout",
     "output_type": "stream",
     "text": [
      "valid (383/1000) exact_match01: 1.0 | exact_match01/std: 0.0 | exact_match05: 1.0 | exact_match05/std: 0.0 | loss: 0.0008324967348016798 | loss/mean: 0.0008324967348016798 | loss/std: 0.0 | lr: 0.0001 | momentum: 0.9\n",
      "* Epoch (383/1000) \n"
     ]
    },
    {
     "data": {
      "application/vnd.jupyter.widget-view+json": {
       "model_id": "e9fc928b4dbb407d974930ee335892e8",
       "version_major": 2,
       "version_minor": 0
      },
      "text/plain": [
       "384/1000 * Epoch (train):   0%|          | 0/1 [00:00<?, ?it/s]"
      ]
     },
     "metadata": {},
     "output_type": "display_data"
    },
    {
     "name": "stdout",
     "output_type": "stream",
     "text": [
      "train (384/1000) loss: 0.01921514980494976 | loss/mean: 0.01921514980494976 | loss/std: 0.0 | lr: 0.0001 | momentum: 0.9\n"
     ]
    },
    {
     "data": {
      "application/vnd.jupyter.widget-view+json": {
       "model_id": "bfaade5b502745c2b70430078bbadfac",
       "version_major": 2,
       "version_minor": 0
      },
      "text/plain": [
       "384/1000 * Epoch (valid):   0%|          | 0/1 [00:00<?, ?it/s]"
      ]
     },
     "metadata": {},
     "output_type": "display_data"
    },
    {
     "name": "stdout",
     "output_type": "stream",
     "text": [
      "valid (384/1000) exact_match01: 1.0 | exact_match01/std: 0.0 | exact_match05: 1.0 | exact_match05/std: 0.0 | loss: 0.0008185874903574586 | loss/mean: 0.0008185874903574586 | loss/std: 0.0 | lr: 0.0001 | momentum: 0.9\n",
      "* Epoch (384/1000) \n"
     ]
    },
    {
     "data": {
      "application/vnd.jupyter.widget-view+json": {
       "model_id": "5a45b4cd16a144729447fe4e16b822e4",
       "version_major": 2,
       "version_minor": 0
      },
      "text/plain": [
       "385/1000 * Epoch (train):   0%|          | 0/1 [00:00<?, ?it/s]"
      ]
     },
     "metadata": {},
     "output_type": "display_data"
    },
    {
     "name": "stdout",
     "output_type": "stream",
     "text": [
      "train (385/1000) loss: 0.019922584295272827 | loss/mean: 0.019922584295272827 | loss/std: 0.0 | lr: 0.0001 | momentum: 0.9\n"
     ]
    },
    {
     "data": {
      "application/vnd.jupyter.widget-view+json": {
       "model_id": "e795186ce49e49cf8c467dc57a2cb5ba",
       "version_major": 2,
       "version_minor": 0
      },
      "text/plain": [
       "385/1000 * Epoch (valid):   0%|          | 0/1 [00:00<?, ?it/s]"
      ]
     },
     "metadata": {},
     "output_type": "display_data"
    },
    {
     "name": "stdout",
     "output_type": "stream",
     "text": [
      "valid (385/1000) exact_match01: 1.0 | exact_match01/std: 0.0 | exact_match05: 1.0 | exact_match05/std: 0.0 | loss: 0.000803908274974674 | loss/mean: 0.000803908274974674 | loss/std: 0.0 | lr: 0.0001 | momentum: 0.9\n",
      "* Epoch (385/1000) \n"
     ]
    },
    {
     "data": {
      "application/vnd.jupyter.widget-view+json": {
       "model_id": "c84b2d15e23e4cb8a1fc27e93e98fafc",
       "version_major": 2,
       "version_minor": 0
      },
      "text/plain": [
       "386/1000 * Epoch (train):   0%|          | 0/1 [00:00<?, ?it/s]"
      ]
     },
     "metadata": {},
     "output_type": "display_data"
    },
    {
     "name": "stdout",
     "output_type": "stream",
     "text": [
      "train (386/1000) loss: 0.022432517260313034 | loss/mean: 0.022432517260313034 | loss/std: 0.0 | lr: 0.0001 | momentum: 0.9\n"
     ]
    },
    {
     "data": {
      "application/vnd.jupyter.widget-view+json": {
       "model_id": "840b26ed43384a27a339f4cde8120ebe",
       "version_major": 2,
       "version_minor": 0
      },
      "text/plain": [
       "386/1000 * Epoch (valid):   0%|          | 0/1 [00:00<?, ?it/s]"
      ]
     },
     "metadata": {},
     "output_type": "display_data"
    },
    {
     "name": "stdout",
     "output_type": "stream",
     "text": [
      "valid (386/1000) exact_match01: 1.0 | exact_match01/std: 0.0 | exact_match05: 1.0 | exact_match05/std: 0.0 | loss: 0.0007970170117914677 | loss/mean: 0.0007970170117914677 | loss/std: 0.0 | lr: 0.0001 | momentum: 0.9\n",
      "* Epoch (386/1000) \n"
     ]
    },
    {
     "data": {
      "application/vnd.jupyter.widget-view+json": {
       "model_id": "520aff3be1f34a26b411d2b8dc7b97aa",
       "version_major": 2,
       "version_minor": 0
      },
      "text/plain": [
       "387/1000 * Epoch (train):   0%|          | 0/1 [00:00<?, ?it/s]"
      ]
     },
     "metadata": {},
     "output_type": "display_data"
    },
    {
     "name": "stdout",
     "output_type": "stream",
     "text": [
      "train (387/1000) loss: 0.02295750379562378 | loss/mean: 0.02295750379562378 | loss/std: 0.0 | lr: 0.0001 | momentum: 0.9\n"
     ]
    },
    {
     "data": {
      "application/vnd.jupyter.widget-view+json": {
       "model_id": "3e0f6442dac543c59562168b68a97cf2",
       "version_major": 2,
       "version_minor": 0
      },
      "text/plain": [
       "387/1000 * Epoch (valid):   0%|          | 0/1 [00:00<?, ?it/s]"
      ]
     },
     "metadata": {},
     "output_type": "display_data"
    },
    {
     "name": "stdout",
     "output_type": "stream",
     "text": [
      "valid (387/1000) exact_match01: 1.0 | exact_match01/std: 0.0 | exact_match05: 1.0 | exact_match05/std: 0.0 | loss: 0.0007862356724217534 | loss/mean: 0.0007862356724217534 | loss/std: 0.0 | lr: 0.0001 | momentum: 0.9\n",
      "* Epoch (387/1000) \n"
     ]
    },
    {
     "data": {
      "application/vnd.jupyter.widget-view+json": {
       "model_id": "2613996aefa44733aaadcdefaf8de517",
       "version_major": 2,
       "version_minor": 0
      },
      "text/plain": [
       "388/1000 * Epoch (train):   0%|          | 0/1 [00:00<?, ?it/s]"
      ]
     },
     "metadata": {},
     "output_type": "display_data"
    },
    {
     "name": "stdout",
     "output_type": "stream",
     "text": [
      "train (388/1000) loss: 0.033498696982860565 | loss/mean: 0.033498696982860565 | loss/std: 0.0 | lr: 0.0001 | momentum: 0.9\n"
     ]
    },
    {
     "data": {
      "application/vnd.jupyter.widget-view+json": {
       "model_id": "67f7fb8ab05a4c22a4b64292751fde6f",
       "version_major": 2,
       "version_minor": 0
      },
      "text/plain": [
       "388/1000 * Epoch (valid):   0%|          | 0/1 [00:00<?, ?it/s]"
      ]
     },
     "metadata": {},
     "output_type": "display_data"
    },
    {
     "name": "stdout",
     "output_type": "stream",
     "text": [
      "valid (388/1000) exact_match01: 1.0 | exact_match01/std: 0.0 | exact_match05: 1.0 | exact_match05/std: 0.0 | loss: 0.0007765538757666945 | loss/mean: 0.0007765538757666945 | loss/std: 0.0 | lr: 0.0001 | momentum: 0.9\n",
      "* Epoch (388/1000) \n"
     ]
    },
    {
     "data": {
      "application/vnd.jupyter.widget-view+json": {
       "model_id": "ff7a457d931a43cfad2c3db377c9aac4",
       "version_major": 2,
       "version_minor": 0
      },
      "text/plain": [
       "389/1000 * Epoch (train):   0%|          | 0/1 [00:00<?, ?it/s]"
      ]
     },
     "metadata": {},
     "output_type": "display_data"
    },
    {
     "name": "stdout",
     "output_type": "stream",
     "text": [
      "train (389/1000) loss: 0.020319268107414246 | loss/mean: 0.020319268107414246 | loss/std: 0.0 | lr: 0.0001 | momentum: 0.9\n"
     ]
    },
    {
     "data": {
      "application/vnd.jupyter.widget-view+json": {
       "model_id": "924d767f7fd5437f8664178d612a9df9",
       "version_major": 2,
       "version_minor": 0
      },
      "text/plain": [
       "389/1000 * Epoch (valid):   0%|          | 0/1 [00:00<?, ?it/s]"
      ]
     },
     "metadata": {},
     "output_type": "display_data"
    },
    {
     "name": "stdout",
     "output_type": "stream",
     "text": [
      "valid (389/1000) exact_match01: 1.0 | exact_match01/std: 0.0 | exact_match05: 1.0 | exact_match05/std: 0.0 | loss: 0.0007663544383831322 | loss/mean: 0.0007663544383831322 | loss/std: 0.0 | lr: 0.0001 | momentum: 0.9\n",
      "* Epoch (389/1000) \n"
     ]
    },
    {
     "data": {
      "application/vnd.jupyter.widget-view+json": {
       "model_id": "a533c9ee494944b989165f7597461c83",
       "version_major": 2,
       "version_minor": 0
      },
      "text/plain": [
       "390/1000 * Epoch (train):   0%|          | 0/1 [00:00<?, ?it/s]"
      ]
     },
     "metadata": {},
     "output_type": "display_data"
    },
    {
     "name": "stdout",
     "output_type": "stream",
     "text": [
      "train (390/1000) loss: 0.02252679318189621 | loss/mean: 0.02252679318189621 | loss/std: 0.0 | lr: 0.0001 | momentum: 0.9\n"
     ]
    },
    {
     "data": {
      "application/vnd.jupyter.widget-view+json": {
       "model_id": "abad5cfd9fda4fb780a25f575e8a2e15",
       "version_major": 2,
       "version_minor": 0
      },
      "text/plain": [
       "390/1000 * Epoch (valid):   0%|          | 0/1 [00:00<?, ?it/s]"
      ]
     },
     "metadata": {},
     "output_type": "display_data"
    },
    {
     "name": "stdout",
     "output_type": "stream",
     "text": [
      "valid (390/1000) exact_match01: 1.0 | exact_match01/std: 0.0 | exact_match05: 1.0 | exact_match05/std: 0.0 | loss: 0.0007565947016701102 | loss/mean: 0.0007565947016701102 | loss/std: 0.0 | lr: 0.0001 | momentum: 0.9\n",
      "* Epoch (390/1000) \n"
     ]
    },
    {
     "data": {
      "application/vnd.jupyter.widget-view+json": {
       "model_id": "4845a921cb1440e3943ca89b616b34a1",
       "version_major": 2,
       "version_minor": 0
      },
      "text/plain": [
       "391/1000 * Epoch (train):   0%|          | 0/1 [00:00<?, ?it/s]"
      ]
     },
     "metadata": {},
     "output_type": "display_data"
    },
    {
     "name": "stdout",
     "output_type": "stream",
     "text": [
      "train (391/1000) loss: 0.02382001467049122 | loss/mean: 0.02382001467049122 | loss/std: 0.0 | lr: 0.0001 | momentum: 0.9\n"
     ]
    },
    {
     "data": {
      "application/vnd.jupyter.widget-view+json": {
       "model_id": "39ec702fba7342258cf4d7231aae25cd",
       "version_major": 2,
       "version_minor": 0
      },
      "text/plain": [
       "391/1000 * Epoch (valid):   0%|          | 0/1 [00:00<?, ?it/s]"
      ]
     },
     "metadata": {},
     "output_type": "display_data"
    },
    {
     "name": "stdout",
     "output_type": "stream",
     "text": [
      "valid (391/1000) exact_match01: 1.0 | exact_match01/std: 0.0 | exact_match05: 1.0 | exact_match05/std: 0.0 | loss: 0.0007457524770870805 | loss/mean: 0.0007457524770870805 | loss/std: 0.0 | lr: 0.0001 | momentum: 0.9\n",
      "* Epoch (391/1000) \n"
     ]
    },
    {
     "data": {
      "application/vnd.jupyter.widget-view+json": {
       "model_id": "44d9d7497a7f462eb7db78d2b0c60ffe",
       "version_major": 2,
       "version_minor": 0
      },
      "text/plain": [
       "392/1000 * Epoch (train):   0%|          | 0/1 [00:00<?, ?it/s]"
      ]
     },
     "metadata": {},
     "output_type": "display_data"
    },
    {
     "name": "stdout",
     "output_type": "stream",
     "text": [
      "train (392/1000) loss: 0.01736721210181713 | loss/mean: 0.01736721210181713 | loss/std: 0.0 | lr: 0.0001 | momentum: 0.9\n"
     ]
    },
    {
     "data": {
      "application/vnd.jupyter.widget-view+json": {
       "model_id": "f65aca2774dc4de9970e3cf4d99d21b7",
       "version_major": 2,
       "version_minor": 0
      },
      "text/plain": [
       "392/1000 * Epoch (valid):   0%|          | 0/1 [00:00<?, ?it/s]"
      ]
     },
     "metadata": {},
     "output_type": "display_data"
    },
    {
     "name": "stdout",
     "output_type": "stream",
     "text": [
      "valid (392/1000) exact_match01: 1.0 | exact_match01/std: 0.0 | exact_match05: 1.0 | exact_match05/std: 0.0 | loss: 0.0007362077012658119 | loss/mean: 0.0007362077012658119 | loss/std: 0.0 | lr: 0.0001 | momentum: 0.9\n",
      "* Epoch (392/1000) \n"
     ]
    },
    {
     "data": {
      "application/vnd.jupyter.widget-view+json": {
       "model_id": "84895325e67442d48e4fa7aec5c70ac4",
       "version_major": 2,
       "version_minor": 0
      },
      "text/plain": [
       "393/1000 * Epoch (train):   0%|          | 0/1 [00:00<?, ?it/s]"
      ]
     },
     "metadata": {},
     "output_type": "display_data"
    },
    {
     "name": "stdout",
     "output_type": "stream",
     "text": [
      "train (393/1000) loss: 0.017040198668837547 | loss/mean: 0.017040198668837547 | loss/std: 0.0 | lr: 0.0001 | momentum: 0.9\n"
     ]
    },
    {
     "data": {
      "application/vnd.jupyter.widget-view+json": {
       "model_id": "88074a4b593747c0b160a3167a5f3341",
       "version_major": 2,
       "version_minor": 0
      },
      "text/plain": [
       "393/1000 * Epoch (valid):   0%|          | 0/1 [00:00<?, ?it/s]"
      ]
     },
     "metadata": {},
     "output_type": "display_data"
    },
    {
     "name": "stdout",
     "output_type": "stream",
     "text": [
      "valid (393/1000) exact_match01: 1.0 | exact_match01/std: 0.0 | exact_match05: 1.0 | exact_match05/std: 0.0 | loss: 0.0007264756713993847 | loss/mean: 0.0007264756713993847 | loss/std: 0.0 | lr: 0.0001 | momentum: 0.9\n",
      "* Epoch (393/1000) \n"
     ]
    },
    {
     "data": {
      "application/vnd.jupyter.widget-view+json": {
       "model_id": "eab6e08e002f4f12a01ed22ffc078955",
       "version_major": 2,
       "version_minor": 0
      },
      "text/plain": [
       "394/1000 * Epoch (train):   0%|          | 0/1 [00:00<?, ?it/s]"
      ]
     },
     "metadata": {},
     "output_type": "display_data"
    },
    {
     "name": "stdout",
     "output_type": "stream",
     "text": [
      "train (394/1000) loss: 0.016044195741415024 | loss/mean: 0.016044195741415024 | loss/std: 0.0 | lr: 0.0001 | momentum: 0.9\n"
     ]
    },
    {
     "data": {
      "application/vnd.jupyter.widget-view+json": {
       "model_id": "fd08381c4e48484caf6e3e3fe1d5a354",
       "version_major": 2,
       "version_minor": 0
      },
      "text/plain": [
       "394/1000 * Epoch (valid):   0%|          | 0/1 [00:00<?, ?it/s]"
      ]
     },
     "metadata": {},
     "output_type": "display_data"
    },
    {
     "name": "stdout",
     "output_type": "stream",
     "text": [
      "valid (394/1000) exact_match01: 1.0 | exact_match01/std: 0.0 | exact_match05: 1.0 | exact_match05/std: 0.0 | loss: 0.0007172022014856339 | loss/mean: 0.0007172022014856339 | loss/std: 0.0 | lr: 0.0001 | momentum: 0.9\n",
      "* Epoch (394/1000) \n"
     ]
    },
    {
     "data": {
      "application/vnd.jupyter.widget-view+json": {
       "model_id": "b4c8e8bcaed848de98686c3b422b9e6b",
       "version_major": 2,
       "version_minor": 0
      },
      "text/plain": [
       "395/1000 * Epoch (train):   0%|          | 0/1 [00:00<?, ?it/s]"
      ]
     },
     "metadata": {},
     "output_type": "display_data"
    },
    {
     "name": "stdout",
     "output_type": "stream",
     "text": [
      "train (395/1000) loss: 0.02198474109172821 | loss/mean: 0.02198474109172821 | loss/std: 0.0 | lr: 0.0001 | momentum: 0.9\n"
     ]
    },
    {
     "data": {
      "application/vnd.jupyter.widget-view+json": {
       "model_id": "01ee8567d2154185bf69848f01e0db15",
       "version_major": 2,
       "version_minor": 0
      },
      "text/plain": [
       "395/1000 * Epoch (valid):   0%|          | 0/1 [00:00<?, ?it/s]"
      ]
     },
     "metadata": {},
     "output_type": "display_data"
    },
    {
     "name": "stdout",
     "output_type": "stream",
     "text": [
      "valid (395/1000) exact_match01: 1.0 | exact_match01/std: 0.0 | exact_match05: 1.0 | exact_match05/std: 0.0 | loss: 0.0007073281449265778 | loss/mean: 0.0007073281449265778 | loss/std: 0.0 | lr: 0.0001 | momentum: 0.9\n",
      "* Epoch (395/1000) \n"
     ]
    },
    {
     "data": {
      "application/vnd.jupyter.widget-view+json": {
       "model_id": "279bc24cce0245a8ad5da4c1b037640a",
       "version_major": 2,
       "version_minor": 0
      },
      "text/plain": [
       "396/1000 * Epoch (train):   0%|          | 0/1 [00:00<?, ?it/s]"
      ]
     },
     "metadata": {},
     "output_type": "display_data"
    },
    {
     "name": "stdout",
     "output_type": "stream",
     "text": [
      "train (396/1000) loss: 0.028645021840929985 | loss/mean: 0.028645021840929985 | loss/std: 0.0 | lr: 0.0001 | momentum: 0.9\n"
     ]
    },
    {
     "data": {
      "application/vnd.jupyter.widget-view+json": {
       "model_id": "90921efb1aec49c4a0cdbf86cde2c499",
       "version_major": 2,
       "version_minor": 0
      },
      "text/plain": [
       "396/1000 * Epoch (valid):   0%|          | 0/1 [00:00<?, ?it/s]"
      ]
     },
     "metadata": {},
     "output_type": "display_data"
    },
    {
     "name": "stdout",
     "output_type": "stream",
     "text": [
      "valid (396/1000) exact_match01: 1.0 | exact_match01/std: 0.0 | exact_match05: 1.0 | exact_match05/std: 0.0 | loss: 0.0006985330837778747 | loss/mean: 0.0006985330837778747 | loss/std: 0.0 | lr: 0.0001 | momentum: 0.9\n",
      "* Epoch (396/1000) \n"
     ]
    },
    {
     "data": {
      "application/vnd.jupyter.widget-view+json": {
       "model_id": "7c77cd069eac47eeba1dcabcc1fba186",
       "version_major": 2,
       "version_minor": 0
      },
      "text/plain": [
       "397/1000 * Epoch (train):   0%|          | 0/1 [00:00<?, ?it/s]"
      ]
     },
     "metadata": {},
     "output_type": "display_data"
    },
    {
     "name": "stdout",
     "output_type": "stream",
     "text": [
      "train (397/1000) loss: 0.012557930313050747 | loss/mean: 0.012557930313050747 | loss/std: 0.0 | lr: 0.0001 | momentum: 0.9\n"
     ]
    },
    {
     "data": {
      "application/vnd.jupyter.widget-view+json": {
       "model_id": "ccfcca0579934094b415a5735be46ac0",
       "version_major": 2,
       "version_minor": 0
      },
      "text/plain": [
       "397/1000 * Epoch (valid):   0%|          | 0/1 [00:00<?, ?it/s]"
      ]
     },
     "metadata": {},
     "output_type": "display_data"
    },
    {
     "name": "stdout",
     "output_type": "stream",
     "text": [
      "valid (397/1000) exact_match01: 1.0 | exact_match01/std: 0.0 | exact_match05: 1.0 | exact_match05/std: 0.0 | loss: 0.0006901180604472756 | loss/mean: 0.0006901180604472756 | loss/std: 0.0 | lr: 0.0001 | momentum: 0.9\n",
      "* Epoch (397/1000) \n"
     ]
    },
    {
     "data": {
      "application/vnd.jupyter.widget-view+json": {
       "model_id": "be99fe3b9cab4a778c4bd600712773f7",
       "version_major": 2,
       "version_minor": 0
      },
      "text/plain": [
       "398/1000 * Epoch (train):   0%|          | 0/1 [00:00<?, ?it/s]"
      ]
     },
     "metadata": {},
     "output_type": "display_data"
    },
    {
     "name": "stdout",
     "output_type": "stream",
     "text": [
      "train (398/1000) loss: 0.018766287714242935 | loss/mean: 0.018766287714242935 | loss/std: 0.0 | lr: 0.0001 | momentum: 0.9\n"
     ]
    },
    {
     "data": {
      "application/vnd.jupyter.widget-view+json": {
       "model_id": "c27d3aa2665d4bf199a4d19b94cd9681",
       "version_major": 2,
       "version_minor": 0
      },
      "text/plain": [
       "398/1000 * Epoch (valid):   0%|          | 0/1 [00:00<?, ?it/s]"
      ]
     },
     "metadata": {},
     "output_type": "display_data"
    },
    {
     "name": "stdout",
     "output_type": "stream",
     "text": [
      "valid (398/1000) exact_match01: 1.0 | exact_match01/std: 0.0 | exact_match05: 1.0 | exact_match05/std: 0.0 | loss: 0.0006794874789193273 | loss/mean: 0.0006794874789193273 | loss/std: 0.0 | lr: 0.0001 | momentum: 0.9\n",
      "* Epoch (398/1000) \n"
     ]
    },
    {
     "data": {
      "application/vnd.jupyter.widget-view+json": {
       "model_id": "3315daf580f34246b57ce6d3d9013082",
       "version_major": 2,
       "version_minor": 0
      },
      "text/plain": [
       "399/1000 * Epoch (train):   0%|          | 0/1 [00:00<?, ?it/s]"
      ]
     },
     "metadata": {},
     "output_type": "display_data"
    },
    {
     "name": "stdout",
     "output_type": "stream",
     "text": [
      "train (399/1000) loss: 0.02001357264816761 | loss/mean: 0.02001357264816761 | loss/std: 0.0 | lr: 0.0001 | momentum: 0.9\n"
     ]
    },
    {
     "data": {
      "application/vnd.jupyter.widget-view+json": {
       "model_id": "7487194daf5946abb3237f1aa2435190",
       "version_major": 2,
       "version_minor": 0
      },
      "text/plain": [
       "399/1000 * Epoch (valid):   0%|          | 0/1 [00:00<?, ?it/s]"
      ]
     },
     "metadata": {},
     "output_type": "display_data"
    },
    {
     "name": "stdout",
     "output_type": "stream",
     "text": [
      "valid (399/1000) exact_match01: 1.0 | exact_match01/std: 0.0 | exact_match05: 1.0 | exact_match05/std: 0.0 | loss: 0.0006691512535326183 | loss/mean: 0.0006691512535326183 | loss/std: 0.0 | lr: 0.0001 | momentum: 0.9\n",
      "* Epoch (399/1000) \n"
     ]
    },
    {
     "data": {
      "application/vnd.jupyter.widget-view+json": {
       "model_id": "239c2257362b40a09cf415e608a3eb41",
       "version_major": 2,
       "version_minor": 0
      },
      "text/plain": [
       "400/1000 * Epoch (train):   0%|          | 0/1 [00:00<?, ?it/s]"
      ]
     },
     "metadata": {},
     "output_type": "display_data"
    },
    {
     "name": "stdout",
     "output_type": "stream",
     "text": [
      "train (400/1000) loss: 0.020517399534583092 | loss/mean: 0.020517399534583092 | loss/std: 0.0 | lr: 0.0001 | momentum: 0.9\n"
     ]
    },
    {
     "data": {
      "application/vnd.jupyter.widget-view+json": {
       "model_id": "978afcaebd64478b93f3b0e1b0000662",
       "version_major": 2,
       "version_minor": 0
      },
      "text/plain": [
       "400/1000 * Epoch (valid):   0%|          | 0/1 [00:00<?, ?it/s]"
      ]
     },
     "metadata": {},
     "output_type": "display_data"
    },
    {
     "name": "stdout",
     "output_type": "stream",
     "text": [
      "valid (400/1000) exact_match01: 1.0 | exact_match01/std: 0.0 | exact_match05: 1.0 | exact_match05/std: 0.0 | loss: 0.000658393488265574 | loss/mean: 0.000658393488265574 | loss/std: 0.0 | lr: 0.0001 | momentum: 0.9\n",
      "* Epoch (400/1000) \n"
     ]
    },
    {
     "data": {
      "application/vnd.jupyter.widget-view+json": {
       "model_id": "79d448b9200041d288eb2bf09d2c9de8",
       "version_major": 2,
       "version_minor": 0
      },
      "text/plain": [
       "401/1000 * Epoch (train):   0%|          | 0/1 [00:00<?, ?it/s]"
      ]
     },
     "metadata": {},
     "output_type": "display_data"
    },
    {
     "name": "stdout",
     "output_type": "stream",
     "text": [
      "train (401/1000) loss: 0.01936669647693634 | loss/mean: 0.01936669647693634 | loss/std: 0.0 | lr: 0.0001 | momentum: 0.9\n"
     ]
    },
    {
     "data": {
      "application/vnd.jupyter.widget-view+json": {
       "model_id": "5a188eb048bc4de2924de9e581f21010",
       "version_major": 2,
       "version_minor": 0
      },
      "text/plain": [
       "401/1000 * Epoch (valid):   0%|          | 0/1 [00:00<?, ?it/s]"
      ]
     },
     "metadata": {},
     "output_type": "display_data"
    },
    {
     "name": "stdout",
     "output_type": "stream",
     "text": [
      "valid (401/1000) exact_match01: 1.0 | exact_match01/std: 0.0 | exact_match05: 1.0 | exact_match05/std: 0.0 | loss: 0.0006476425332948565 | loss/mean: 0.0006476425332948565 | loss/std: 0.0 | lr: 0.0001 | momentum: 0.9\n",
      "* Epoch (401/1000) \n"
     ]
    },
    {
     "data": {
      "application/vnd.jupyter.widget-view+json": {
       "model_id": "c0526652efce4ed4a92501a4942df5d4",
       "version_major": 2,
       "version_minor": 0
      },
      "text/plain": [
       "402/1000 * Epoch (train):   0%|          | 0/1 [00:00<?, ?it/s]"
      ]
     },
     "metadata": {},
     "output_type": "display_data"
    },
    {
     "name": "stdout",
     "output_type": "stream",
     "text": [
      "train (402/1000) loss: 0.025720838457345963 | loss/mean: 0.025720838457345963 | loss/std: 0.0 | lr: 0.0001 | momentum: 0.9\n"
     ]
    },
    {
     "data": {
      "application/vnd.jupyter.widget-view+json": {
       "model_id": "5169cc31d5824316ae43f0613211fdcf",
       "version_major": 2,
       "version_minor": 0
      },
      "text/plain": [
       "402/1000 * Epoch (valid):   0%|          | 0/1 [00:00<?, ?it/s]"
      ]
     },
     "metadata": {},
     "output_type": "display_data"
    },
    {
     "name": "stdout",
     "output_type": "stream",
     "text": [
      "valid (402/1000) exact_match01: 1.0 | exact_match01/std: 0.0 | exact_match05: 1.0 | exact_match05/std: 0.0 | loss: 0.0006369337206706405 | loss/mean: 0.0006369337206706405 | loss/std: 0.0 | lr: 0.0001 | momentum: 0.9\n",
      "* Epoch (402/1000) \n"
     ]
    },
    {
     "data": {
      "application/vnd.jupyter.widget-view+json": {
       "model_id": "17528e093d54440fbe7889def2206d3a",
       "version_major": 2,
       "version_minor": 0
      },
      "text/plain": [
       "403/1000 * Epoch (train):   0%|          | 0/1 [00:00<?, ?it/s]"
      ]
     },
     "metadata": {},
     "output_type": "display_data"
    },
    {
     "name": "stdout",
     "output_type": "stream",
     "text": [
      "train (403/1000) loss: 0.02520618587732315 | loss/mean: 0.02520618587732315 | loss/std: 0.0 | lr: 0.0001 | momentum: 0.9\n"
     ]
    },
    {
     "data": {
      "application/vnd.jupyter.widget-view+json": {
       "model_id": "eab25c7ebe02453491e29367eadb6b0e",
       "version_major": 2,
       "version_minor": 0
      },
      "text/plain": [
       "403/1000 * Epoch (valid):   0%|          | 0/1 [00:00<?, ?it/s]"
      ]
     },
     "metadata": {},
     "output_type": "display_data"
    },
    {
     "name": "stdout",
     "output_type": "stream",
     "text": [
      "valid (403/1000) exact_match01: 1.0 | exact_match01/std: 0.0 | exact_match05: 1.0 | exact_match05/std: 0.0 | loss: 0.0006274114712141454 | loss/mean: 0.0006274114712141454 | loss/std: 0.0 | lr: 0.0001 | momentum: 0.9\n",
      "* Epoch (403/1000) \n"
     ]
    },
    {
     "data": {
      "application/vnd.jupyter.widget-view+json": {
       "model_id": "630ed9c139d04983b0c28ed04b34f6aa",
       "version_major": 2,
       "version_minor": 0
      },
      "text/plain": [
       "404/1000 * Epoch (train):   0%|          | 0/1 [00:00<?, ?it/s]"
      ]
     },
     "metadata": {},
     "output_type": "display_data"
    },
    {
     "name": "stdout",
     "output_type": "stream",
     "text": [
      "train (404/1000) loss: 0.02467949502170086 | loss/mean: 0.02467949502170086 | loss/std: 0.0 | lr: 0.0001 | momentum: 0.9\n"
     ]
    },
    {
     "data": {
      "application/vnd.jupyter.widget-view+json": {
       "model_id": "5a52b49f1a5042f1a067f5372648bea2",
       "version_major": 2,
       "version_minor": 0
      },
      "text/plain": [
       "404/1000 * Epoch (valid):   0%|          | 0/1 [00:00<?, ?it/s]"
      ]
     },
     "metadata": {},
     "output_type": "display_data"
    },
    {
     "name": "stdout",
     "output_type": "stream",
     "text": [
      "valid (404/1000) exact_match01: 1.0 | exact_match01/std: 0.0 | exact_match05: 1.0 | exact_match05/std: 0.0 | loss: 0.000617806741502136 | loss/mean: 0.000617806741502136 | loss/std: 0.0 | lr: 0.0001 | momentum: 0.9\n",
      "* Epoch (404/1000) \n"
     ]
    },
    {
     "data": {
      "application/vnd.jupyter.widget-view+json": {
       "model_id": "6162fe6d148647c6a64fe4440691607f",
       "version_major": 2,
       "version_minor": 0
      },
      "text/plain": [
       "405/1000 * Epoch (train):   0%|          | 0/1 [00:00<?, ?it/s]"
      ]
     },
     "metadata": {},
     "output_type": "display_data"
    },
    {
     "name": "stdout",
     "output_type": "stream",
     "text": [
      "train (405/1000) loss: 0.01892911083996296 | loss/mean: 0.01892911083996296 | loss/std: 0.0 | lr: 0.0001 | momentum: 0.9\n"
     ]
    },
    {
     "data": {
      "application/vnd.jupyter.widget-view+json": {
       "model_id": "a2c84fa16b2145d1817def7f3155cd8c",
       "version_major": 2,
       "version_minor": 0
      },
      "text/plain": [
       "405/1000 * Epoch (valid):   0%|          | 0/1 [00:00<?, ?it/s]"
      ]
     },
     "metadata": {},
     "output_type": "display_data"
    },
    {
     "name": "stdout",
     "output_type": "stream",
     "text": [
      "valid (405/1000) exact_match01: 1.0 | exact_match01/std: 0.0 | exact_match05: 1.0 | exact_match05/std: 0.0 | loss: 0.0006104393978603184 | loss/mean: 0.0006104393978603184 | loss/std: 0.0 | lr: 0.0001 | momentum: 0.9\n",
      "* Epoch (405/1000) \n"
     ]
    },
    {
     "data": {
      "application/vnd.jupyter.widget-view+json": {
       "model_id": "4b3d58e424b84548833d300f54594de4",
       "version_major": 2,
       "version_minor": 0
      },
      "text/plain": [
       "406/1000 * Epoch (train):   0%|          | 0/1 [00:00<?, ?it/s]"
      ]
     },
     "metadata": {},
     "output_type": "display_data"
    },
    {
     "name": "stdout",
     "output_type": "stream",
     "text": [
      "train (406/1000) loss: 0.02238479256629944 | loss/mean: 0.02238479256629944 | loss/std: 0.0 | lr: 0.0001 | momentum: 0.9\n"
     ]
    },
    {
     "data": {
      "application/vnd.jupyter.widget-view+json": {
       "model_id": "ccd8327c70144885bdd13bfe83b20166",
       "version_major": 2,
       "version_minor": 0
      },
      "text/plain": [
       "406/1000 * Epoch (valid):   0%|          | 0/1 [00:00<?, ?it/s]"
      ]
     },
     "metadata": {},
     "output_type": "display_data"
    },
    {
     "name": "stdout",
     "output_type": "stream",
     "text": [
      "valid (406/1000) exact_match01: 1.0 | exact_match01/std: 0.0 | exact_match05: 1.0 | exact_match05/std: 0.0 | loss: 0.0006043084431439638 | loss/mean: 0.0006043084431439638 | loss/std: 0.0 | lr: 0.0001 | momentum: 0.9\n",
      "* Epoch (406/1000) \n"
     ]
    },
    {
     "data": {
      "application/vnd.jupyter.widget-view+json": {
       "model_id": "1f30151500fb43b6b62afb5ffb40b977",
       "version_major": 2,
       "version_minor": 0
      },
      "text/plain": [
       "407/1000 * Epoch (train):   0%|          | 0/1 [00:00<?, ?it/s]"
      ]
     },
     "metadata": {},
     "output_type": "display_data"
    },
    {
     "name": "stdout",
     "output_type": "stream",
     "text": [
      "train (407/1000) loss: 0.024706125259399414 | loss/mean: 0.024706125259399414 | loss/std: 0.0 | lr: 0.0001 | momentum: 0.9\n"
     ]
    },
    {
     "data": {
      "application/vnd.jupyter.widget-view+json": {
       "model_id": "0e1fc1be90df461b839e414fcda28cff",
       "version_major": 2,
       "version_minor": 0
      },
      "text/plain": [
       "407/1000 * Epoch (valid):   0%|          | 0/1 [00:00<?, ?it/s]"
      ]
     },
     "metadata": {},
     "output_type": "display_data"
    },
    {
     "name": "stdout",
     "output_type": "stream",
     "text": [
      "valid (407/1000) exact_match01: 1.0 | exact_match01/std: 0.0 | exact_match05: 1.0 | exact_match05/std: 0.0 | loss: 0.0005984953022561967 | loss/mean: 0.0005984953022561967 | loss/std: 0.0 | lr: 0.0001 | momentum: 0.9\n",
      "* Epoch (407/1000) \n"
     ]
    },
    {
     "data": {
      "application/vnd.jupyter.widget-view+json": {
       "model_id": "69f4f4a1663f41ca84b4e1d6b60ca364",
       "version_major": 2,
       "version_minor": 0
      },
      "text/plain": [
       "408/1000 * Epoch (train):   0%|          | 0/1 [00:00<?, ?it/s]"
      ]
     },
     "metadata": {},
     "output_type": "display_data"
    },
    {
     "name": "stdout",
     "output_type": "stream",
     "text": [
      "train (408/1000) loss: 0.029665160924196243 | loss/mean: 0.029665160924196243 | loss/std: 0.0 | lr: 0.0001 | momentum: 0.9\n"
     ]
    },
    {
     "data": {
      "application/vnd.jupyter.widget-view+json": {
       "model_id": "dc4ab412332a434088fb5c027e694cbf",
       "version_major": 2,
       "version_minor": 0
      },
      "text/plain": [
       "408/1000 * Epoch (valid):   0%|          | 0/1 [00:00<?, ?it/s]"
      ]
     },
     "metadata": {},
     "output_type": "display_data"
    },
    {
     "name": "stdout",
     "output_type": "stream",
     "text": [
      "valid (408/1000) exact_match01: 1.0 | exact_match01/std: 0.0 | exact_match05: 1.0 | exact_match05/std: 0.0 | loss: 0.0005930292536504567 | loss/mean: 0.0005930292536504567 | loss/std: 0.0 | lr: 0.0001 | momentum: 0.9\n",
      "* Epoch (408/1000) \n"
     ]
    },
    {
     "data": {
      "application/vnd.jupyter.widget-view+json": {
       "model_id": "a9e2af6a9c5c4998abaf8c6f2d37a955",
       "version_major": 2,
       "version_minor": 0
      },
      "text/plain": [
       "409/1000 * Epoch (train):   0%|          | 0/1 [00:00<?, ?it/s]"
      ]
     },
     "metadata": {},
     "output_type": "display_data"
    },
    {
     "name": "stdout",
     "output_type": "stream",
     "text": [
      "train (409/1000) loss: 0.017717046663165092 | loss/mean: 0.017717046663165092 | loss/std: 0.0 | lr: 0.0001 | momentum: 0.9\n"
     ]
    },
    {
     "data": {
      "application/vnd.jupyter.widget-view+json": {
       "model_id": "e54dc2aa5ae94862884ee4b7dcbac297",
       "version_major": 2,
       "version_minor": 0
      },
      "text/plain": [
       "409/1000 * Epoch (valid):   0%|          | 0/1 [00:00<?, ?it/s]"
      ]
     },
     "metadata": {},
     "output_type": "display_data"
    },
    {
     "name": "stdout",
     "output_type": "stream",
     "text": [
      "valid (409/1000) exact_match01: 1.0 | exact_match01/std: 0.0 | exact_match05: 1.0 | exact_match05/std: 0.0 | loss: 0.0005870492313988507 | loss/mean: 0.0005870492313988507 | loss/std: 0.0 | lr: 0.0001 | momentum: 0.9\n",
      "* Epoch (409/1000) \n"
     ]
    },
    {
     "data": {
      "application/vnd.jupyter.widget-view+json": {
       "model_id": "a55c7ba3dc644702adbdab4c4c4e0cce",
       "version_major": 2,
       "version_minor": 0
      },
      "text/plain": [
       "410/1000 * Epoch (train):   0%|          | 0/1 [00:00<?, ?it/s]"
      ]
     },
     "metadata": {},
     "output_type": "display_data"
    },
    {
     "name": "stdout",
     "output_type": "stream",
     "text": [
      "train (410/1000) loss: 0.018823595717549324 | loss/mean: 0.018823595717549324 | loss/std: 0.0 | lr: 0.0001 | momentum: 0.9\n"
     ]
    },
    {
     "data": {
      "application/vnd.jupyter.widget-view+json": {
       "model_id": "c3ed215f9e5e42ca80e13c7cae9368a4",
       "version_major": 2,
       "version_minor": 0
      },
      "text/plain": [
       "410/1000 * Epoch (valid):   0%|          | 0/1 [00:00<?, ?it/s]"
      ]
     },
     "metadata": {},
     "output_type": "display_data"
    },
    {
     "name": "stdout",
     "output_type": "stream",
     "text": [
      "valid (410/1000) exact_match01: 1.0 | exact_match01/std: 0.0 | exact_match05: 1.0 | exact_match05/std: 0.0 | loss: 0.000581005122512579 | loss/mean: 0.000581005122512579 | loss/std: 0.0 | lr: 0.0001 | momentum: 0.9\n",
      "* Epoch (410/1000) \n"
     ]
    },
    {
     "data": {
      "application/vnd.jupyter.widget-view+json": {
       "model_id": "37a0db5b8c8348e8a1658bcfe3d2e67c",
       "version_major": 2,
       "version_minor": 0
      },
      "text/plain": [
       "411/1000 * Epoch (train):   0%|          | 0/1 [00:00<?, ?it/s]"
      ]
     },
     "metadata": {},
     "output_type": "display_data"
    },
    {
     "name": "stdout",
     "output_type": "stream",
     "text": [
      "train (411/1000) loss: 0.017058832570910454 | loss/mean: 0.017058832570910454 | loss/std: 0.0 | lr: 0.0001 | momentum: 0.9\n"
     ]
    },
    {
     "data": {
      "application/vnd.jupyter.widget-view+json": {
       "model_id": "d13fcb7985b346a0ae7ad55408deee9a",
       "version_major": 2,
       "version_minor": 0
      },
      "text/plain": [
       "411/1000 * Epoch (valid):   0%|          | 0/1 [00:00<?, ?it/s]"
      ]
     },
     "metadata": {},
     "output_type": "display_data"
    },
    {
     "name": "stdout",
     "output_type": "stream",
     "text": [
      "valid (411/1000) exact_match01: 1.0 | exact_match01/std: 0.0 | exact_match05: 1.0 | exact_match05/std: 0.0 | loss: 0.0005748461117036641 | loss/mean: 0.0005748461117036641 | loss/std: 0.0 | lr: 0.0001 | momentum: 0.9\n",
      "* Epoch (411/1000) \n"
     ]
    },
    {
     "data": {
      "application/vnd.jupyter.widget-view+json": {
       "model_id": "e10c2c380fa049f79f541ada3dcd4dbd",
       "version_major": 2,
       "version_minor": 0
      },
      "text/plain": [
       "412/1000 * Epoch (train):   0%|          | 0/1 [00:00<?, ?it/s]"
      ]
     },
     "metadata": {},
     "output_type": "display_data"
    },
    {
     "name": "stdout",
     "output_type": "stream",
     "text": [
      "train (412/1000) loss: 0.015609368681907654 | loss/mean: 0.015609368681907654 | loss/std: 0.0 | lr: 0.0001 | momentum: 0.9\n"
     ]
    },
    {
     "data": {
      "application/vnd.jupyter.widget-view+json": {
       "model_id": "81ca21c869934ad087e0a5ca8e91bddf",
       "version_major": 2,
       "version_minor": 0
      },
      "text/plain": [
       "412/1000 * Epoch (valid):   0%|          | 0/1 [00:00<?, ?it/s]"
      ]
     },
     "metadata": {},
     "output_type": "display_data"
    },
    {
     "name": "stdout",
     "output_type": "stream",
     "text": [
      "valid (412/1000) exact_match01: 1.0 | exact_match01/std: 0.0 | exact_match05: 1.0 | exact_match05/std: 0.0 | loss: 0.0005685602664016187 | loss/mean: 0.0005685602664016187 | loss/std: 0.0 | lr: 0.0001 | momentum: 0.9\n",
      "* Epoch (412/1000) \n"
     ]
    },
    {
     "data": {
      "application/vnd.jupyter.widget-view+json": {
       "model_id": "1b96a2473be14a1cb40a9975af4b06b6",
       "version_major": 2,
       "version_minor": 0
      },
      "text/plain": [
       "413/1000 * Epoch (train):   0%|          | 0/1 [00:00<?, ?it/s]"
      ]
     },
     "metadata": {},
     "output_type": "display_data"
    },
    {
     "name": "stdout",
     "output_type": "stream",
     "text": [
      "train (413/1000) loss: 0.017412418499588966 | loss/mean: 0.017412418499588966 | loss/std: 0.0 | lr: 0.0001 | momentum: 0.9\n"
     ]
    },
    {
     "data": {
      "application/vnd.jupyter.widget-view+json": {
       "model_id": "8b352e61167a43cd93769d905d401194",
       "version_major": 2,
       "version_minor": 0
      },
      "text/plain": [
       "413/1000 * Epoch (valid):   0%|          | 0/1 [00:00<?, ?it/s]"
      ]
     },
     "metadata": {},
     "output_type": "display_data"
    },
    {
     "name": "stdout",
     "output_type": "stream",
     "text": [
      "valid (413/1000) exact_match01: 1.0 | exact_match01/std: 0.0 | exact_match05: 1.0 | exact_match05/std: 0.0 | loss: 0.0005608382052741945 | loss/mean: 0.0005608382052741945 | loss/std: 0.0 | lr: 0.0001 | momentum: 0.9\n",
      "* Epoch (413/1000) \n"
     ]
    },
    {
     "data": {
      "application/vnd.jupyter.widget-view+json": {
       "model_id": "2937e0b3cf9b4d77b7ce3de058a582ef",
       "version_major": 2,
       "version_minor": 0
      },
      "text/plain": [
       "414/1000 * Epoch (train):   0%|          | 0/1 [00:00<?, ?it/s]"
      ]
     },
     "metadata": {},
     "output_type": "display_data"
    },
    {
     "name": "stdout",
     "output_type": "stream",
     "text": [
      "train (414/1000) loss: 0.019661691039800644 | loss/mean: 0.019661691039800644 | loss/std: 0.0 | lr: 0.0001 | momentum: 0.9\n"
     ]
    },
    {
     "data": {
      "application/vnd.jupyter.widget-view+json": {
       "model_id": "92b8817aa7ba4986b901f592e3f96489",
       "version_major": 2,
       "version_minor": 0
      },
      "text/plain": [
       "414/1000 * Epoch (valid):   0%|          | 0/1 [00:00<?, ?it/s]"
      ]
     },
     "metadata": {},
     "output_type": "display_data"
    },
    {
     "name": "stdout",
     "output_type": "stream",
     "text": [
      "valid (414/1000) exact_match01: 1.0 | exact_match01/std: 0.0 | exact_match05: 1.0 | exact_match05/std: 0.0 | loss: 0.0005532989162020385 | loss/mean: 0.0005532989162020385 | loss/std: 0.0 | lr: 0.0001 | momentum: 0.9\n",
      "* Epoch (414/1000) \n"
     ]
    },
    {
     "data": {
      "application/vnd.jupyter.widget-view+json": {
       "model_id": "6d32e01f0c014e9e9b243cc4489dc332",
       "version_major": 2,
       "version_minor": 0
      },
      "text/plain": [
       "415/1000 * Epoch (train):   0%|          | 0/1 [00:00<?, ?it/s]"
      ]
     },
     "metadata": {},
     "output_type": "display_data"
    },
    {
     "name": "stdout",
     "output_type": "stream",
     "text": [
      "train (415/1000) loss: 0.017063474282622337 | loss/mean: 0.017063474282622337 | loss/std: 0.0 | lr: 0.0001 | momentum: 0.9\n"
     ]
    },
    {
     "data": {
      "application/vnd.jupyter.widget-view+json": {
       "model_id": "95333121d93e42e5bcae539cc44b2e55",
       "version_major": 2,
       "version_minor": 0
      },
      "text/plain": [
       "415/1000 * Epoch (valid):   0%|          | 0/1 [00:00<?, ?it/s]"
      ]
     },
     "metadata": {},
     "output_type": "display_data"
    },
    {
     "name": "stdout",
     "output_type": "stream",
     "text": [
      "valid (415/1000) exact_match01: 1.0 | exact_match01/std: 0.0 | exact_match05: 1.0 | exact_match05/std: 0.0 | loss: 0.0005467811715789139 | loss/mean: 0.0005467811715789139 | loss/std: 0.0 | lr: 0.0001 | momentum: 0.9\n",
      "* Epoch (415/1000) \n"
     ]
    },
    {
     "data": {
      "application/vnd.jupyter.widget-view+json": {
       "model_id": "8668e22272554309950de67276b18cac",
       "version_major": 2,
       "version_minor": 0
      },
      "text/plain": [
       "416/1000 * Epoch (train):   0%|          | 0/1 [00:00<?, ?it/s]"
      ]
     },
     "metadata": {},
     "output_type": "display_data"
    },
    {
     "name": "stdout",
     "output_type": "stream",
     "text": [
      "train (416/1000) loss: 0.02465982362627983 | loss/mean: 0.02465982362627983 | loss/std: 0.0 | lr: 0.0001 | momentum: 0.9\n"
     ]
    },
    {
     "data": {
      "application/vnd.jupyter.widget-view+json": {
       "model_id": "e3a34e83c6bf4731865d8e8e790e3fe9",
       "version_major": 2,
       "version_minor": 0
      },
      "text/plain": [
       "416/1000 * Epoch (valid):   0%|          | 0/1 [00:00<?, ?it/s]"
      ]
     },
     "metadata": {},
     "output_type": "display_data"
    },
    {
     "name": "stdout",
     "output_type": "stream",
     "text": [
      "valid (416/1000) exact_match01: 1.0 | exact_match01/std: 0.0 | exact_match05: 1.0 | exact_match05/std: 0.0 | loss: 0.0005408120923675597 | loss/mean: 0.0005408120923675597 | loss/std: 0.0 | lr: 0.0001 | momentum: 0.9\n",
      "* Epoch (416/1000) \n"
     ]
    },
    {
     "data": {
      "application/vnd.jupyter.widget-view+json": {
       "model_id": "1424012857db41b4be2dd07f7db528d6",
       "version_major": 2,
       "version_minor": 0
      },
      "text/plain": [
       "417/1000 * Epoch (train):   0%|          | 0/1 [00:00<?, ?it/s]"
      ]
     },
     "metadata": {},
     "output_type": "display_data"
    },
    {
     "name": "stdout",
     "output_type": "stream",
     "text": [
      "train (417/1000) loss: 0.02260790765285492 | loss/mean: 0.02260790765285492 | loss/std: 0.0 | lr: 0.0001 | momentum: 0.9\n"
     ]
    },
    {
     "data": {
      "application/vnd.jupyter.widget-view+json": {
       "model_id": "d2cb74225b9f4e53a6300fba6c4f6a38",
       "version_major": 2,
       "version_minor": 0
      },
      "text/plain": [
       "417/1000 * Epoch (valid):   0%|          | 0/1 [00:00<?, ?it/s]"
      ]
     },
     "metadata": {},
     "output_type": "display_data"
    },
    {
     "name": "stdout",
     "output_type": "stream",
     "text": [
      "valid (417/1000) exact_match01: 1.0 | exact_match01/std: 0.0 | exact_match05: 1.0 | exact_match05/std: 0.0 | loss: 0.0005345561658032238 | loss/mean: 0.0005345561658032238 | loss/std: 0.0 | lr: 0.0001 | momentum: 0.9\n",
      "* Epoch (417/1000) \n"
     ]
    },
    {
     "data": {
      "application/vnd.jupyter.widget-view+json": {
       "model_id": "46e682f483214ac5b49d3b150f22aa4e",
       "version_major": 2,
       "version_minor": 0
      },
      "text/plain": [
       "418/1000 * Epoch (train):   0%|          | 0/1 [00:00<?, ?it/s]"
      ]
     },
     "metadata": {},
     "output_type": "display_data"
    },
    {
     "name": "stdout",
     "output_type": "stream",
     "text": [
      "train (418/1000) loss: 0.018480204045772552 | loss/mean: 0.018480204045772552 | loss/std: 0.0 | lr: 0.0001 | momentum: 0.9\n"
     ]
    },
    {
     "data": {
      "application/vnd.jupyter.widget-view+json": {
       "model_id": "5fa5394a913e400ba5601f8b10220903",
       "version_major": 2,
       "version_minor": 0
      },
      "text/plain": [
       "418/1000 * Epoch (valid):   0%|          | 0/1 [00:00<?, ?it/s]"
      ]
     },
     "metadata": {},
     "output_type": "display_data"
    },
    {
     "name": "stdout",
     "output_type": "stream",
     "text": [
      "valid (418/1000) exact_match01: 1.0 | exact_match01/std: 0.0 | exact_match05: 1.0 | exact_match05/std: 0.0 | loss: 0.0005288482643663883 | loss/mean: 0.0005288482643663883 | loss/std: 0.0 | lr: 0.0001 | momentum: 0.9\n",
      "* Epoch (418/1000) \n"
     ]
    },
    {
     "data": {
      "application/vnd.jupyter.widget-view+json": {
       "model_id": "4ac547ac47d54a4196ae7cd1f64209d8",
       "version_major": 2,
       "version_minor": 0
      },
      "text/plain": [
       "419/1000 * Epoch (train):   0%|          | 0/1 [00:00<?, ?it/s]"
      ]
     },
     "metadata": {},
     "output_type": "display_data"
    },
    {
     "name": "stdout",
     "output_type": "stream",
     "text": [
      "train (419/1000) loss: 0.019673453643918037 | loss/mean: 0.019673453643918037 | loss/std: 0.0 | lr: 0.0001 | momentum: 0.9\n"
     ]
    },
    {
     "data": {
      "application/vnd.jupyter.widget-view+json": {
       "model_id": "e200596dbb9f42e59bd8c872ff6f2369",
       "version_major": 2,
       "version_minor": 0
      },
      "text/plain": [
       "419/1000 * Epoch (valid):   0%|          | 0/1 [00:00<?, ?it/s]"
      ]
     },
     "metadata": {},
     "output_type": "display_data"
    },
    {
     "name": "stdout",
     "output_type": "stream",
     "text": [
      "valid (419/1000) exact_match01: 1.0 | exact_match01/std: 0.0 | exact_match05: 1.0 | exact_match05/std: 0.0 | loss: 0.0005237453151494265 | loss/mean: 0.0005237453151494265 | loss/std: 0.0 | lr: 0.0001 | momentum: 0.9\n",
      "* Epoch (419/1000) \n"
     ]
    },
    {
     "data": {
      "application/vnd.jupyter.widget-view+json": {
       "model_id": "a786e0350d77480da5f06db7c91f910b",
       "version_major": 2,
       "version_minor": 0
      },
      "text/plain": [
       "420/1000 * Epoch (train):   0%|          | 0/1 [00:00<?, ?it/s]"
      ]
     },
     "metadata": {},
     "output_type": "display_data"
    },
    {
     "name": "stdout",
     "output_type": "stream",
     "text": [
      "train (420/1000) loss: 0.02449180744588375 | loss/mean: 0.02449180744588375 | loss/std: 0.0 | lr: 0.0001 | momentum: 0.9\n"
     ]
    },
    {
     "data": {
      "application/vnd.jupyter.widget-view+json": {
       "model_id": "698efb21689846b1ab538d35c7401aba",
       "version_major": 2,
       "version_minor": 0
      },
      "text/plain": [
       "420/1000 * Epoch (valid):   0%|          | 0/1 [00:00<?, ?it/s]"
      ]
     },
     "metadata": {},
     "output_type": "display_data"
    },
    {
     "name": "stdout",
     "output_type": "stream",
     "text": [
      "valid (420/1000) exact_match01: 1.0 | exact_match01/std: 0.0 | exact_match05: 1.0 | exact_match05/std: 0.0 | loss: 0.0005193830584175885 | loss/mean: 0.0005193830584175885 | loss/std: 0.0 | lr: 0.0001 | momentum: 0.9\n",
      "* Epoch (420/1000) \n"
     ]
    },
    {
     "data": {
      "application/vnd.jupyter.widget-view+json": {
       "model_id": "868e2d4afd124ad298e9b025713c3afe",
       "version_major": 2,
       "version_minor": 0
      },
      "text/plain": [
       "421/1000 * Epoch (train):   0%|          | 0/1 [00:00<?, ?it/s]"
      ]
     },
     "metadata": {},
     "output_type": "display_data"
    },
    {
     "name": "stdout",
     "output_type": "stream",
     "text": [
      "train (421/1000) loss: 0.023853708058595657 | loss/mean: 0.023853708058595657 | loss/std: 0.0 | lr: 0.0001 | momentum: 0.9\n"
     ]
    },
    {
     "data": {
      "application/vnd.jupyter.widget-view+json": {
       "model_id": "730daf77ea944f46a04c621101256c62",
       "version_major": 2,
       "version_minor": 0
      },
      "text/plain": [
       "421/1000 * Epoch (valid):   0%|          | 0/1 [00:00<?, ?it/s]"
      ]
     },
     "metadata": {},
     "output_type": "display_data"
    },
    {
     "name": "stdout",
     "output_type": "stream",
     "text": [
      "valid (421/1000) exact_match01: 1.0 | exact_match01/std: 0.0 | exact_match05: 1.0 | exact_match05/std: 0.0 | loss: 0.0005143110174685717 | loss/mean: 0.0005143110174685717 | loss/std: 0.0 | lr: 0.0001 | momentum: 0.9\n",
      "* Epoch (421/1000) \n"
     ]
    },
    {
     "data": {
      "application/vnd.jupyter.widget-view+json": {
       "model_id": "07e2adad9deb47358bcf3ad994283d5a",
       "version_major": 2,
       "version_minor": 0
      },
      "text/plain": [
       "422/1000 * Epoch (train):   0%|          | 0/1 [00:00<?, ?it/s]"
      ]
     },
     "metadata": {},
     "output_type": "display_data"
    },
    {
     "name": "stdout",
     "output_type": "stream",
     "text": [
      "train (422/1000) loss: 0.02023678459227085 | loss/mean: 0.02023678459227085 | loss/std: 0.0 | lr: 0.0001 | momentum: 0.9\n"
     ]
    },
    {
     "data": {
      "application/vnd.jupyter.widget-view+json": {
       "model_id": "bcfdb189de954d7b85ede34ba5e2e8c5",
       "version_major": 2,
       "version_minor": 0
      },
      "text/plain": [
       "422/1000 * Epoch (valid):   0%|          | 0/1 [00:00<?, ?it/s]"
      ]
     },
     "metadata": {},
     "output_type": "display_data"
    },
    {
     "name": "stdout",
     "output_type": "stream",
     "text": [
      "valid (422/1000) exact_match01: 1.0 | exact_match01/std: 0.0 | exact_match05: 1.0 | exact_match05/std: 0.0 | loss: 0.0005093429936096072 | loss/mean: 0.0005093429936096072 | loss/std: 0.0 | lr: 0.0001 | momentum: 0.9\n",
      "* Epoch (422/1000) \n"
     ]
    },
    {
     "data": {
      "application/vnd.jupyter.widget-view+json": {
       "model_id": "75936b04c73d415f82ade5fef8759873",
       "version_major": 2,
       "version_minor": 0
      },
      "text/plain": [
       "423/1000 * Epoch (train):   0%|          | 0/1 [00:00<?, ?it/s]"
      ]
     },
     "metadata": {},
     "output_type": "display_data"
    },
    {
     "name": "stdout",
     "output_type": "stream",
     "text": [
      "train (423/1000) loss: 0.020979510620236397 | loss/mean: 0.020979510620236397 | loss/std: 0.0 | lr: 0.0001 | momentum: 0.9\n"
     ]
    },
    {
     "data": {
      "application/vnd.jupyter.widget-view+json": {
       "model_id": "9fb657105c934f108ee2685faeccf689",
       "version_major": 2,
       "version_minor": 0
      },
      "text/plain": [
       "423/1000 * Epoch (valid):   0%|          | 0/1 [00:00<?, ?it/s]"
      ]
     },
     "metadata": {},
     "output_type": "display_data"
    },
    {
     "name": "stdout",
     "output_type": "stream",
     "text": [
      "valid (423/1000) exact_match01: 1.0 | exact_match01/std: 0.0 | exact_match05: 1.0 | exact_match05/std: 0.0 | loss: 0.0005036701331846416 | loss/mean: 0.0005036701331846416 | loss/std: 0.0 | lr: 0.0001 | momentum: 0.9\n",
      "* Epoch (423/1000) \n"
     ]
    },
    {
     "data": {
      "application/vnd.jupyter.widget-view+json": {
       "model_id": "d8104f0c9575470fb591b339cb8078b4",
       "version_major": 2,
       "version_minor": 0
      },
      "text/plain": [
       "424/1000 * Epoch (train):   0%|          | 0/1 [00:00<?, ?it/s]"
      ]
     },
     "metadata": {},
     "output_type": "display_data"
    },
    {
     "name": "stdout",
     "output_type": "stream",
     "text": [
      "train (424/1000) loss: 0.01919306069612503 | loss/mean: 0.01919306069612503 | loss/std: 0.0 | lr: 0.0001 | momentum: 0.9\n"
     ]
    },
    {
     "data": {
      "application/vnd.jupyter.widget-view+json": {
       "model_id": "6fdcd7072fa74961b068ebc91328f6ec",
       "version_major": 2,
       "version_minor": 0
      },
      "text/plain": [
       "424/1000 * Epoch (valid):   0%|          | 0/1 [00:00<?, ?it/s]"
      ]
     },
     "metadata": {},
     "output_type": "display_data"
    },
    {
     "name": "stdout",
     "output_type": "stream",
     "text": [
      "valid (424/1000) exact_match01: 1.0 | exact_match01/std: 0.0 | exact_match05: 1.0 | exact_match05/std: 0.0 | loss: 0.0004984671249985695 | loss/mean: 0.0004984671249985695 | loss/std: 0.0 | lr: 0.0001 | momentum: 0.9\n",
      "* Epoch (424/1000) \n"
     ]
    },
    {
     "data": {
      "application/vnd.jupyter.widget-view+json": {
       "model_id": "87230529d9124c65ac8f79ea6254412b",
       "version_major": 2,
       "version_minor": 0
      },
      "text/plain": [
       "425/1000 * Epoch (train):   0%|          | 0/1 [00:00<?, ?it/s]"
      ]
     },
     "metadata": {},
     "output_type": "display_data"
    },
    {
     "name": "stdout",
     "output_type": "stream",
     "text": [
      "train (425/1000) loss: 0.01853328011929989 | loss/mean: 0.01853328011929989 | loss/std: 0.0 | lr: 0.0001 | momentum: 0.9\n"
     ]
    },
    {
     "data": {
      "application/vnd.jupyter.widget-view+json": {
       "model_id": "f9f42a41bba04cda88dac25fc82e070f",
       "version_major": 2,
       "version_minor": 0
      },
      "text/plain": [
       "425/1000 * Epoch (valid):   0%|          | 0/1 [00:00<?, ?it/s]"
      ]
     },
     "metadata": {},
     "output_type": "display_data"
    },
    {
     "name": "stdout",
     "output_type": "stream",
     "text": [
      "valid (425/1000) exact_match01: 1.0 | exact_match01/std: 0.0 | exact_match05: 1.0 | exact_match05/std: 0.0 | loss: 0.0004923745291307569 | loss/mean: 0.0004923745291307569 | loss/std: 0.0 | lr: 0.0001 | momentum: 0.9\n",
      "* Epoch (425/1000) \n"
     ]
    },
    {
     "data": {
      "application/vnd.jupyter.widget-view+json": {
       "model_id": "3d77f31b468348269677a1bba5d9ad54",
       "version_major": 2,
       "version_minor": 0
      },
      "text/plain": [
       "426/1000 * Epoch (train):   0%|          | 0/1 [00:00<?, ?it/s]"
      ]
     },
     "metadata": {},
     "output_type": "display_data"
    },
    {
     "name": "stdout",
     "output_type": "stream",
     "text": [
      "train (426/1000) loss: 0.018365975469350815 | loss/mean: 0.018365975469350815 | loss/std: 0.0 | lr: 0.0001 | momentum: 0.9\n"
     ]
    },
    {
     "data": {
      "application/vnd.jupyter.widget-view+json": {
       "model_id": "5647bd223a014700a461ec35fb20d140",
       "version_major": 2,
       "version_minor": 0
      },
      "text/plain": [
       "426/1000 * Epoch (valid):   0%|          | 0/1 [00:00<?, ?it/s]"
      ]
     },
     "metadata": {},
     "output_type": "display_data"
    },
    {
     "name": "stdout",
     "output_type": "stream",
     "text": [
      "valid (426/1000) exact_match01: 1.0 | exact_match01/std: 0.0 | exact_match05: 1.0 | exact_match05/std: 0.0 | loss: 0.00048626240459270775 | loss/mean: 0.00048626240459270775 | loss/std: 0.0 | lr: 0.0001 | momentum: 0.9\n",
      "* Epoch (426/1000) \n"
     ]
    },
    {
     "data": {
      "application/vnd.jupyter.widget-view+json": {
       "model_id": "b0d5d219a92d412f9af30a4abd71d657",
       "version_major": 2,
       "version_minor": 0
      },
      "text/plain": [
       "427/1000 * Epoch (train):   0%|          | 0/1 [00:00<?, ?it/s]"
      ]
     },
     "metadata": {},
     "output_type": "display_data"
    },
    {
     "name": "stdout",
     "output_type": "stream",
     "text": [
      "train (427/1000) loss: 0.022017456591129303 | loss/mean: 0.022017456591129303 | loss/std: 0.0 | lr: 0.0001 | momentum: 0.9\n"
     ]
    },
    {
     "data": {
      "application/vnd.jupyter.widget-view+json": {
       "model_id": "72b586941e424cb7b0d18ef23eb4d2ea",
       "version_major": 2,
       "version_minor": 0
      },
      "text/plain": [
       "427/1000 * Epoch (valid):   0%|          | 0/1 [00:00<?, ?it/s]"
      ]
     },
     "metadata": {},
     "output_type": "display_data"
    },
    {
     "name": "stdout",
     "output_type": "stream",
     "text": [
      "valid (427/1000) exact_match01: 1.0 | exact_match01/std: 0.0 | exact_match05: 1.0 | exact_match05/std: 0.0 | loss: 0.00048094376688823104 | loss/mean: 0.00048094376688823104 | loss/std: 0.0 | lr: 0.0001 | momentum: 0.9\n",
      "* Epoch (427/1000) \n"
     ]
    },
    {
     "data": {
      "application/vnd.jupyter.widget-view+json": {
       "model_id": "6cafdfb051cb43bd839af4d0b7f9b12a",
       "version_major": 2,
       "version_minor": 0
      },
      "text/plain": [
       "428/1000 * Epoch (train):   0%|          | 0/1 [00:00<?, ?it/s]"
      ]
     },
     "metadata": {},
     "output_type": "display_data"
    },
    {
     "name": "stdout",
     "output_type": "stream",
     "text": [
      "train (428/1000) loss: 0.016842788085341454 | loss/mean: 0.016842788085341454 | loss/std: 0.0 | lr: 0.0001 | momentum: 0.9\n"
     ]
    },
    {
     "data": {
      "application/vnd.jupyter.widget-view+json": {
       "model_id": "24615b2bd5524f33a90c7e9f2d42ab8d",
       "version_major": 2,
       "version_minor": 0
      },
      "text/plain": [
       "428/1000 * Epoch (valid):   0%|          | 0/1 [00:00<?, ?it/s]"
      ]
     },
     "metadata": {},
     "output_type": "display_data"
    },
    {
     "name": "stdout",
     "output_type": "stream",
     "text": [
      "valid (428/1000) exact_match01: 1.0 | exact_match01/std: 0.0 | exact_match05: 1.0 | exact_match05/std: 0.0 | loss: 0.00047571721370331943 | loss/mean: 0.00047571721370331943 | loss/std: 0.0 | lr: 0.0001 | momentum: 0.9\n",
      "* Epoch (428/1000) \n"
     ]
    },
    {
     "data": {
      "application/vnd.jupyter.widget-view+json": {
       "model_id": "85d2ede9a1dc42e6bef2bb3c5a54170b",
       "version_major": 2,
       "version_minor": 0
      },
      "text/plain": [
       "429/1000 * Epoch (train):   0%|          | 0/1 [00:00<?, ?it/s]"
      ]
     },
     "metadata": {},
     "output_type": "display_data"
    },
    {
     "name": "stdout",
     "output_type": "stream",
     "text": [
      "train (429/1000) loss: 0.01998385787010193 | loss/mean: 0.01998385787010193 | loss/std: 0.0 | lr: 0.0001 | momentum: 0.9\n"
     ]
    },
    {
     "data": {
      "application/vnd.jupyter.widget-view+json": {
       "model_id": "aa8e3394dfe74c238ac6bda5abb835e9",
       "version_major": 2,
       "version_minor": 0
      },
      "text/plain": [
       "429/1000 * Epoch (valid):   0%|          | 0/1 [00:00<?, ?it/s]"
      ]
     },
     "metadata": {},
     "output_type": "display_data"
    },
    {
     "name": "stdout",
     "output_type": "stream",
     "text": [
      "valid (429/1000) exact_match01: 1.0 | exact_match01/std: 0.0 | exact_match05: 1.0 | exact_match05/std: 0.0 | loss: 0.00047076994087547064 | loss/mean: 0.00047076994087547064 | loss/std: 0.0 | lr: 0.0001 | momentum: 0.9\n",
      "* Epoch (429/1000) \n"
     ]
    },
    {
     "data": {
      "application/vnd.jupyter.widget-view+json": {
       "model_id": "6ca294290e044f66a6bfdb21ad57cd3e",
       "version_major": 2,
       "version_minor": 0
      },
      "text/plain": [
       "430/1000 * Epoch (train):   0%|          | 0/1 [00:00<?, ?it/s]"
      ]
     },
     "metadata": {},
     "output_type": "display_data"
    },
    {
     "name": "stdout",
     "output_type": "stream",
     "text": [
      "train (430/1000) loss: 0.014479024335741997 | loss/mean: 0.014479024335741997 | loss/std: 0.0 | lr: 0.0001 | momentum: 0.9\n"
     ]
    },
    {
     "data": {
      "application/vnd.jupyter.widget-view+json": {
       "model_id": "f9ce23c8bbd44ed5b0566651737b895f",
       "version_major": 2,
       "version_minor": 0
      },
      "text/plain": [
       "430/1000 * Epoch (valid):   0%|          | 0/1 [00:00<?, ?it/s]"
      ]
     },
     "metadata": {},
     "output_type": "display_data"
    },
    {
     "name": "stdout",
     "output_type": "stream",
     "text": [
      "valid (430/1000) exact_match01: 1.0 | exact_match01/std: 0.0 | exact_match05: 1.0 | exact_match05/std: 0.0 | loss: 0.0004667308821808547 | loss/mean: 0.0004667308821808547 | loss/std: 0.0 | lr: 0.0001 | momentum: 0.9\n",
      "* Epoch (430/1000) \n"
     ]
    },
    {
     "data": {
      "application/vnd.jupyter.widget-view+json": {
       "model_id": "8066ad82e49a4f5fba5647060fead43e",
       "version_major": 2,
       "version_minor": 0
      },
      "text/plain": [
       "431/1000 * Epoch (train):   0%|          | 0/1 [00:00<?, ?it/s]"
      ]
     },
     "metadata": {},
     "output_type": "display_data"
    },
    {
     "name": "stdout",
     "output_type": "stream",
     "text": [
      "train (431/1000) loss: 0.018370453268289566 | loss/mean: 0.018370453268289566 | loss/std: 0.0 | lr: 0.0001 | momentum: 0.9\n"
     ]
    },
    {
     "data": {
      "application/vnd.jupyter.widget-view+json": {
       "model_id": "8b9d4e20e5ea4a28a8ce5f313d049ec4",
       "version_major": 2,
       "version_minor": 0
      },
      "text/plain": [
       "431/1000 * Epoch (valid):   0%|          | 0/1 [00:00<?, ?it/s]"
      ]
     },
     "metadata": {},
     "output_type": "display_data"
    },
    {
     "name": "stdout",
     "output_type": "stream",
     "text": [
      "valid (431/1000) exact_match01: 1.0 | exact_match01/std: 0.0 | exact_match05: 1.0 | exact_match05/std: 0.0 | loss: 0.00046208547428250313 | loss/mean: 0.00046208547428250313 | loss/std: 0.0 | lr: 0.0001 | momentum: 0.9\n",
      "* Epoch (431/1000) \n"
     ]
    },
    {
     "data": {
      "application/vnd.jupyter.widget-view+json": {
       "model_id": "f486232a318148779cb24893e22790a8",
       "version_major": 2,
       "version_minor": 0
      },
      "text/plain": [
       "432/1000 * Epoch (train):   0%|          | 0/1 [00:00<?, ?it/s]"
      ]
     },
     "metadata": {},
     "output_type": "display_data"
    },
    {
     "name": "stdout",
     "output_type": "stream",
     "text": [
      "train (432/1000) loss: 0.011252477765083313 | loss/mean: 0.011252477765083313 | loss/std: 0.0 | lr: 0.0001 | momentum: 0.9\n"
     ]
    },
    {
     "data": {
      "application/vnd.jupyter.widget-view+json": {
       "model_id": "7ad5fc234d6142e1856a52e6cc562ec7",
       "version_major": 2,
       "version_minor": 0
      },
      "text/plain": [
       "432/1000 * Epoch (valid):   0%|          | 0/1 [00:00<?, ?it/s]"
      ]
     },
     "metadata": {},
     "output_type": "display_data"
    },
    {
     "name": "stdout",
     "output_type": "stream",
     "text": [
      "valid (432/1000) exact_match01: 1.0 | exact_match01/std: 0.0 | exact_match05: 1.0 | exact_match05/std: 0.0 | loss: 0.000457148504210636 | loss/mean: 0.000457148504210636 | loss/std: 0.0 | lr: 0.0001 | momentum: 0.9\n",
      "* Epoch (432/1000) \n"
     ]
    },
    {
     "data": {
      "application/vnd.jupyter.widget-view+json": {
       "model_id": "9a62a41241e043b58d0d22fb9d89c173",
       "version_major": 2,
       "version_minor": 0
      },
      "text/plain": [
       "433/1000 * Epoch (train):   0%|          | 0/1 [00:00<?, ?it/s]"
      ]
     },
     "metadata": {},
     "output_type": "display_data"
    },
    {
     "name": "stdout",
     "output_type": "stream",
     "text": [
      "train (433/1000) loss: 0.0249418243765831 | loss/mean: 0.0249418243765831 | loss/std: 0.0 | lr: 0.0001 | momentum: 0.9\n"
     ]
    },
    {
     "data": {
      "application/vnd.jupyter.widget-view+json": {
       "model_id": "209740f1774c4b198d338e83708f1886",
       "version_major": 2,
       "version_minor": 0
      },
      "text/plain": [
       "433/1000 * Epoch (valid):   0%|          | 0/1 [00:00<?, ?it/s]"
      ]
     },
     "metadata": {},
     "output_type": "display_data"
    },
    {
     "name": "stdout",
     "output_type": "stream",
     "text": [
      "valid (433/1000) exact_match01: 1.0 | exact_match01/std: 0.0 | exact_match05: 1.0 | exact_match05/std: 0.0 | loss: 0.00045232672709971666 | loss/mean: 0.00045232672709971666 | loss/std: 0.0 | lr: 0.0001 | momentum: 0.9\n",
      "* Epoch (433/1000) \n"
     ]
    },
    {
     "data": {
      "application/vnd.jupyter.widget-view+json": {
       "model_id": "7f48f00971a3491eb0f070cc5c4300fb",
       "version_major": 2,
       "version_minor": 0
      },
      "text/plain": [
       "434/1000 * Epoch (train):   0%|          | 0/1 [00:00<?, ?it/s]"
      ]
     },
     "metadata": {},
     "output_type": "display_data"
    },
    {
     "name": "stdout",
     "output_type": "stream",
     "text": [
      "train (434/1000) loss: 0.02004607394337654 | loss/mean: 0.02004607394337654 | loss/std: 0.0 | lr: 0.0001 | momentum: 0.9\n"
     ]
    },
    {
     "data": {
      "application/vnd.jupyter.widget-view+json": {
       "model_id": "8553e60af473451099d1a7bfcacc3b37",
       "version_major": 2,
       "version_minor": 0
      },
      "text/plain": [
       "434/1000 * Epoch (valid):   0%|          | 0/1 [00:00<?, ?it/s]"
      ]
     },
     "metadata": {},
     "output_type": "display_data"
    },
    {
     "name": "stdout",
     "output_type": "stream",
     "text": [
      "valid (434/1000) exact_match01: 1.0 | exact_match01/std: 0.0 | exact_match05: 1.0 | exact_match05/std: 0.0 | loss: 0.0004480535280890763 | loss/mean: 0.0004480535280890763 | loss/std: 0.0 | lr: 0.0001 | momentum: 0.9\n",
      "* Epoch (434/1000) \n"
     ]
    },
    {
     "data": {
      "application/vnd.jupyter.widget-view+json": {
       "model_id": "0f9cceafca50493abf35e0bc6c0a05e2",
       "version_major": 2,
       "version_minor": 0
      },
      "text/plain": [
       "435/1000 * Epoch (train):   0%|          | 0/1 [00:00<?, ?it/s]"
      ]
     },
     "metadata": {},
     "output_type": "display_data"
    },
    {
     "name": "stdout",
     "output_type": "stream",
     "text": [
      "train (435/1000) loss: 0.01782342977821827 | loss/mean: 0.01782342977821827 | loss/std: 0.0 | lr: 0.0001 | momentum: 0.9\n"
     ]
    },
    {
     "data": {
      "application/vnd.jupyter.widget-view+json": {
       "model_id": "6d84cf8b882e41c2880b36e278348cf2",
       "version_major": 2,
       "version_minor": 0
      },
      "text/plain": [
       "435/1000 * Epoch (valid):   0%|          | 0/1 [00:00<?, ?it/s]"
      ]
     },
     "metadata": {},
     "output_type": "display_data"
    },
    {
     "name": "stdout",
     "output_type": "stream",
     "text": [
      "valid (435/1000) exact_match01: 1.0 | exact_match01/std: 0.0 | exact_match05: 1.0 | exact_match05/std: 0.0 | loss: 0.0004424184444360435 | loss/mean: 0.0004424184444360435 | loss/std: 0.0 | lr: 0.0001 | momentum: 0.9\n",
      "* Epoch (435/1000) \n"
     ]
    },
    {
     "data": {
      "application/vnd.jupyter.widget-view+json": {
       "model_id": "e9f0fe140da2477e99f5d38f393a7378",
       "version_major": 2,
       "version_minor": 0
      },
      "text/plain": [
       "436/1000 * Epoch (train):   0%|          | 0/1 [00:00<?, ?it/s]"
      ]
     },
     "metadata": {},
     "output_type": "display_data"
    },
    {
     "name": "stdout",
     "output_type": "stream",
     "text": [
      "train (436/1000) loss: 0.01783745177090168 | loss/mean: 0.01783745177090168 | loss/std: 0.0 | lr: 0.0001 | momentum: 0.9\n"
     ]
    },
    {
     "data": {
      "application/vnd.jupyter.widget-view+json": {
       "model_id": "7f8ccfb02fa1463b9ca4b5c556538858",
       "version_major": 2,
       "version_minor": 0
      },
      "text/plain": [
       "436/1000 * Epoch (valid):   0%|          | 0/1 [00:00<?, ?it/s]"
      ]
     },
     "metadata": {},
     "output_type": "display_data"
    },
    {
     "name": "stdout",
     "output_type": "stream",
     "text": [
      "valid (436/1000) exact_match01: 1.0 | exact_match01/std: 0.0 | exact_match05: 1.0 | exact_match05/std: 0.0 | loss: 0.0004370383976493031 | loss/mean: 0.0004370383976493031 | loss/std: 0.0 | lr: 0.0001 | momentum: 0.9\n",
      "* Epoch (436/1000) \n"
     ]
    },
    {
     "data": {
      "application/vnd.jupyter.widget-view+json": {
       "model_id": "2610745d6be749a19bcb3e6219de7403",
       "version_major": 2,
       "version_minor": 0
      },
      "text/plain": [
       "437/1000 * Epoch (train):   0%|          | 0/1 [00:00<?, ?it/s]"
      ]
     },
     "metadata": {},
     "output_type": "display_data"
    },
    {
     "name": "stdout",
     "output_type": "stream",
     "text": [
      "train (437/1000) loss: 0.013881916180253029 | loss/mean: 0.013881916180253029 | loss/std: 0.0 | lr: 0.0001 | momentum: 0.9\n"
     ]
    },
    {
     "data": {
      "application/vnd.jupyter.widget-view+json": {
       "model_id": "40f96a653997478193baf0119f883be1",
       "version_major": 2,
       "version_minor": 0
      },
      "text/plain": [
       "437/1000 * Epoch (valid):   0%|          | 0/1 [00:00<?, ?it/s]"
      ]
     },
     "metadata": {},
     "output_type": "display_data"
    },
    {
     "name": "stdout",
     "output_type": "stream",
     "text": [
      "valid (437/1000) exact_match01: 1.0 | exact_match01/std: 0.0 | exact_match05: 1.0 | exact_match05/std: 0.0 | loss: 0.000433041132055223 | loss/mean: 0.000433041132055223 | loss/std: 0.0 | lr: 0.0001 | momentum: 0.9\n",
      "* Epoch (437/1000) \n"
     ]
    },
    {
     "data": {
      "application/vnd.jupyter.widget-view+json": {
       "model_id": "71dc8c3234c14141bd77977971700e1f",
       "version_major": 2,
       "version_minor": 0
      },
      "text/plain": [
       "438/1000 * Epoch (train):   0%|          | 0/1 [00:00<?, ?it/s]"
      ]
     },
     "metadata": {},
     "output_type": "display_data"
    },
    {
     "name": "stdout",
     "output_type": "stream",
     "text": [
      "train (438/1000) loss: 0.019897907972335815 | loss/mean: 0.019897907972335815 | loss/std: 0.0 | lr: 0.0001 | momentum: 0.9\n"
     ]
    },
    {
     "data": {
      "application/vnd.jupyter.widget-view+json": {
       "model_id": "2cfd866f1653448ba8b8504b21ad063a",
       "version_major": 2,
       "version_minor": 0
      },
      "text/plain": [
       "438/1000 * Epoch (valid):   0%|          | 0/1 [00:00<?, ?it/s]"
      ]
     },
     "metadata": {},
     "output_type": "display_data"
    },
    {
     "name": "stdout",
     "output_type": "stream",
     "text": [
      "valid (438/1000) exact_match01: 1.0 | exact_match01/std: 0.0 | exact_match05: 1.0 | exact_match05/std: 0.0 | loss: 0.0004285166796762496 | loss/mean: 0.0004285166796762496 | loss/std: 0.0 | lr: 0.0001 | momentum: 0.9\n",
      "* Epoch (438/1000) \n"
     ]
    },
    {
     "data": {
      "application/vnd.jupyter.widget-view+json": {
       "model_id": "b878a119b70749f4b213c774f7692f73",
       "version_major": 2,
       "version_minor": 0
      },
      "text/plain": [
       "439/1000 * Epoch (train):   0%|          | 0/1 [00:00<?, ?it/s]"
      ]
     },
     "metadata": {},
     "output_type": "display_data"
    },
    {
     "name": "stdout",
     "output_type": "stream",
     "text": [
      "train (439/1000) loss: 0.015361534431576729 | loss/mean: 0.015361534431576729 | loss/std: 0.0 | lr: 0.0001 | momentum: 0.9\n"
     ]
    },
    {
     "data": {
      "application/vnd.jupyter.widget-view+json": {
       "model_id": "4820ca726ed44e6e855cbe011dac7ab0",
       "version_major": 2,
       "version_minor": 0
      },
      "text/plain": [
       "439/1000 * Epoch (valid):   0%|          | 0/1 [00:00<?, ?it/s]"
      ]
     },
     "metadata": {},
     "output_type": "display_data"
    },
    {
     "name": "stdout",
     "output_type": "stream",
     "text": [
      "valid (439/1000) exact_match01: 1.0 | exact_match01/std: 0.0 | exact_match05: 1.0 | exact_match05/std: 0.0 | loss: 0.0004238123365212232 | loss/mean: 0.0004238123365212232 | loss/std: 0.0 | lr: 0.0001 | momentum: 0.9\n",
      "* Epoch (439/1000) \n"
     ]
    },
    {
     "data": {
      "application/vnd.jupyter.widget-view+json": {
       "model_id": "566d6469f0804dccb3fda81308a5310a",
       "version_major": 2,
       "version_minor": 0
      },
      "text/plain": [
       "440/1000 * Epoch (train):   0%|          | 0/1 [00:00<?, ?it/s]"
      ]
     },
     "metadata": {},
     "output_type": "display_data"
    },
    {
     "name": "stdout",
     "output_type": "stream",
     "text": [
      "train (440/1000) loss: 0.01575377956032753 | loss/mean: 0.01575377956032753 | loss/std: 0.0 | lr: 0.0001 | momentum: 0.9\n"
     ]
    },
    {
     "data": {
      "application/vnd.jupyter.widget-view+json": {
       "model_id": "bb578e846adb4ea7aed0db21840501d1",
       "version_major": 2,
       "version_minor": 0
      },
      "text/plain": [
       "440/1000 * Epoch (valid):   0%|          | 0/1 [00:00<?, ?it/s]"
      ]
     },
     "metadata": {},
     "output_type": "display_data"
    },
    {
     "name": "stdout",
     "output_type": "stream",
     "text": [
      "valid (440/1000) exact_match01: 1.0 | exact_match01/std: 0.0 | exact_match05: 1.0 | exact_match05/std: 0.0 | loss: 0.00041927784332074225 | loss/mean: 0.00041927784332074225 | loss/std: 0.0 | lr: 0.0001 | momentum: 0.9\n",
      "* Epoch (440/1000) \n"
     ]
    },
    {
     "data": {
      "application/vnd.jupyter.widget-view+json": {
       "model_id": "2ead1421c3ab477a92f6f395dd002a40",
       "version_major": 2,
       "version_minor": 0
      },
      "text/plain": [
       "441/1000 * Epoch (train):   0%|          | 0/1 [00:00<?, ?it/s]"
      ]
     },
     "metadata": {},
     "output_type": "display_data"
    },
    {
     "name": "stdout",
     "output_type": "stream",
     "text": [
      "train (441/1000) loss: 0.024187395349144936 | loss/mean: 0.024187395349144936 | loss/std: 0.0 | lr: 0.0001 | momentum: 0.9\n"
     ]
    },
    {
     "data": {
      "application/vnd.jupyter.widget-view+json": {
       "model_id": "2170c0a7ada04b65baa1d1e5dd2ee996",
       "version_major": 2,
       "version_minor": 0
      },
      "text/plain": [
       "441/1000 * Epoch (valid):   0%|          | 0/1 [00:00<?, ?it/s]"
      ]
     },
     "metadata": {},
     "output_type": "display_data"
    },
    {
     "name": "stdout",
     "output_type": "stream",
     "text": [
      "valid (441/1000) exact_match01: 1.0 | exact_match01/std: 0.0 | exact_match05: 1.0 | exact_match05/std: 0.0 | loss: 0.000414167414419353 | loss/mean: 0.000414167414419353 | loss/std: 0.0 | lr: 0.0001 | momentum: 0.9\n",
      "* Epoch (441/1000) \n"
     ]
    },
    {
     "data": {
      "application/vnd.jupyter.widget-view+json": {
       "model_id": "c98e432e6a7a41bc805e4b7826544754",
       "version_major": 2,
       "version_minor": 0
      },
      "text/plain": [
       "442/1000 * Epoch (train):   0%|          | 0/1 [00:00<?, ?it/s]"
      ]
     },
     "metadata": {},
     "output_type": "display_data"
    },
    {
     "name": "stdout",
     "output_type": "stream",
     "text": [
      "train (442/1000) loss: 0.020200517028570175 | loss/mean: 0.020200517028570175 | loss/std: 0.0 | lr: 0.0001 | momentum: 0.9\n"
     ]
    },
    {
     "data": {
      "application/vnd.jupyter.widget-view+json": {
       "model_id": "549a1efb3b9a4cd88f12d89cf49adfd6",
       "version_major": 2,
       "version_minor": 0
      },
      "text/plain": [
       "442/1000 * Epoch (valid):   0%|          | 0/1 [00:00<?, ?it/s]"
      ]
     },
     "metadata": {},
     "output_type": "display_data"
    },
    {
     "name": "stdout",
     "output_type": "stream",
     "text": [
      "valid (442/1000) exact_match01: 1.0 | exact_match01/std: 0.0 | exact_match05: 1.0 | exact_match05/std: 0.0 | loss: 0.00040967605309560895 | loss/mean: 0.00040967605309560895 | loss/std: 0.0 | lr: 0.0001 | momentum: 0.9\n",
      "* Epoch (442/1000) \n"
     ]
    },
    {
     "data": {
      "application/vnd.jupyter.widget-view+json": {
       "model_id": "6e240d5ebb9d4a66856385238c964ae2",
       "version_major": 2,
       "version_minor": 0
      },
      "text/plain": [
       "443/1000 * Epoch (train):   0%|          | 0/1 [00:00<?, ?it/s]"
      ]
     },
     "metadata": {},
     "output_type": "display_data"
    },
    {
     "name": "stdout",
     "output_type": "stream",
     "text": [
      "train (443/1000) loss: 0.014621235430240631 | loss/mean: 0.014621235430240631 | loss/std: 0.0 | lr: 0.0001 | momentum: 0.9\n"
     ]
    },
    {
     "data": {
      "application/vnd.jupyter.widget-view+json": {
       "model_id": "07532676368c47f2b1e9ef16a4b627ca",
       "version_major": 2,
       "version_minor": 0
      },
      "text/plain": [
       "443/1000 * Epoch (valid):   0%|          | 0/1 [00:00<?, ?it/s]"
      ]
     },
     "metadata": {},
     "output_type": "display_data"
    },
    {
     "name": "stdout",
     "output_type": "stream",
     "text": [
      "valid (443/1000) exact_match01: 1.0 | exact_match01/std: 0.0 | exact_match05: 1.0 | exact_match05/std: 0.0 | loss: 0.00040559351327829063 | loss/mean: 0.00040559351327829063 | loss/std: 0.0 | lr: 0.0001 | momentum: 0.9\n",
      "* Epoch (443/1000) \n"
     ]
    },
    {
     "data": {
      "application/vnd.jupyter.widget-view+json": {
       "model_id": "9b3679b23a53491cb41d6d852fd1353f",
       "version_major": 2,
       "version_minor": 0
      },
      "text/plain": [
       "444/1000 * Epoch (train):   0%|          | 0/1 [00:00<?, ?it/s]"
      ]
     },
     "metadata": {},
     "output_type": "display_data"
    },
    {
     "name": "stdout",
     "output_type": "stream",
     "text": [
      "train (444/1000) loss: 0.01331720408052206 | loss/mean: 0.01331720408052206 | loss/std: 0.0 | lr: 0.0001 | momentum: 0.9\n"
     ]
    },
    {
     "data": {
      "application/vnd.jupyter.widget-view+json": {
       "model_id": "2461c43ba4de434f9ebc9c0a95f77931",
       "version_major": 2,
       "version_minor": 0
      },
      "text/plain": [
       "444/1000 * Epoch (valid):   0%|          | 0/1 [00:00<?, ?it/s]"
      ]
     },
     "metadata": {},
     "output_type": "display_data"
    },
    {
     "name": "stdout",
     "output_type": "stream",
     "text": [
      "valid (444/1000) exact_match01: 1.0 | exact_match01/std: 0.0 | exact_match05: 1.0 | exact_match05/std: 0.0 | loss: 0.0004015029699075967 | loss/mean: 0.0004015029699075967 | loss/std: 0.0 | lr: 0.0001 | momentum: 0.9\n",
      "* Epoch (444/1000) \n"
     ]
    },
    {
     "data": {
      "application/vnd.jupyter.widget-view+json": {
       "model_id": "e4ac6f222ab04e809c3e8511c60598ca",
       "version_major": 2,
       "version_minor": 0
      },
      "text/plain": [
       "445/1000 * Epoch (train):   0%|          | 0/1 [00:00<?, ?it/s]"
      ]
     },
     "metadata": {},
     "output_type": "display_data"
    },
    {
     "name": "stdout",
     "output_type": "stream",
     "text": [
      "train (445/1000) loss: 0.014435747638344765 | loss/mean: 0.014435747638344765 | loss/std: 0.0 | lr: 0.0001 | momentum: 0.9\n"
     ]
    },
    {
     "data": {
      "application/vnd.jupyter.widget-view+json": {
       "model_id": "08cc6876cc134b048102d9868fe84a0b",
       "version_major": 2,
       "version_minor": 0
      },
      "text/plain": [
       "445/1000 * Epoch (valid):   0%|          | 0/1 [00:00<?, ?it/s]"
      ]
     },
     "metadata": {},
     "output_type": "display_data"
    },
    {
     "name": "stdout",
     "output_type": "stream",
     "text": [
      "valid (445/1000) exact_match01: 1.0 | exact_match01/std: 0.0 | exact_match05: 1.0 | exact_match05/std: 0.0 | loss: 0.00039676326559856534 | loss/mean: 0.00039676326559856534 | loss/std: 0.0 | lr: 0.0001 | momentum: 0.9\n",
      "* Epoch (445/1000) \n"
     ]
    },
    {
     "data": {
      "application/vnd.jupyter.widget-view+json": {
       "model_id": "53eebe1732e94ba58cdd059aee87805c",
       "version_major": 2,
       "version_minor": 0
      },
      "text/plain": [
       "446/1000 * Epoch (train):   0%|          | 0/1 [00:00<?, ?it/s]"
      ]
     },
     "metadata": {},
     "output_type": "display_data"
    },
    {
     "name": "stdout",
     "output_type": "stream",
     "text": [
      "train (446/1000) loss: 0.015097985044121742 | loss/mean: 0.015097985044121742 | loss/std: 0.0 | lr: 0.0001 | momentum: 0.9\n"
     ]
    },
    {
     "data": {
      "application/vnd.jupyter.widget-view+json": {
       "model_id": "ac220412df4d447f88c83ae9467a98a7",
       "version_major": 2,
       "version_minor": 0
      },
      "text/plain": [
       "446/1000 * Epoch (valid):   0%|          | 0/1 [00:00<?, ?it/s]"
      ]
     },
     "metadata": {},
     "output_type": "display_data"
    },
    {
     "name": "stdout",
     "output_type": "stream",
     "text": [
      "valid (446/1000) exact_match01: 1.0 | exact_match01/std: 0.0 | exact_match05: 1.0 | exact_match05/std: 0.0 | loss: 0.00039176628342829645 | loss/mean: 0.00039176628342829645 | loss/std: 0.0 | lr: 0.0001 | momentum: 0.9\n",
      "* Epoch (446/1000) \n"
     ]
    },
    {
     "data": {
      "application/vnd.jupyter.widget-view+json": {
       "model_id": "7d4e0c7ee99846b08e2dc9783bd98e0f",
       "version_major": 2,
       "version_minor": 0
      },
      "text/plain": [
       "447/1000 * Epoch (train):   0%|          | 0/1 [00:00<?, ?it/s]"
      ]
     },
     "metadata": {},
     "output_type": "display_data"
    },
    {
     "name": "stdout",
     "output_type": "stream",
     "text": [
      "train (447/1000) loss: 0.01586940884590149 | loss/mean: 0.01586940884590149 | loss/std: 0.0 | lr: 0.0001 | momentum: 0.9\n"
     ]
    },
    {
     "data": {
      "application/vnd.jupyter.widget-view+json": {
       "model_id": "6c64f20881e04672b02e6a76fa51a0f0",
       "version_major": 2,
       "version_minor": 0
      },
      "text/plain": [
       "447/1000 * Epoch (valid):   0%|          | 0/1 [00:00<?, ?it/s]"
      ]
     },
     "metadata": {},
     "output_type": "display_data"
    },
    {
     "name": "stdout",
     "output_type": "stream",
     "text": [
      "valid (447/1000) exact_match01: 1.0 | exact_match01/std: 0.0 | exact_match05: 1.0 | exact_match05/std: 0.0 | loss: 0.0003873541718348861 | loss/mean: 0.0003873541718348861 | loss/std: 0.0 | lr: 0.0001 | momentum: 0.9\n",
      "* Epoch (447/1000) \n"
     ]
    },
    {
     "data": {
      "application/vnd.jupyter.widget-view+json": {
       "model_id": "48075f268a624503bedc9d55fe5a0de1",
       "version_major": 2,
       "version_minor": 0
      },
      "text/plain": [
       "448/1000 * Epoch (train):   0%|          | 0/1 [00:00<?, ?it/s]"
      ]
     },
     "metadata": {},
     "output_type": "display_data"
    },
    {
     "name": "stdout",
     "output_type": "stream",
     "text": [
      "train (448/1000) loss: 0.018078939989209175 | loss/mean: 0.018078939989209175 | loss/std: 0.0 | lr: 0.0001 | momentum: 0.9\n"
     ]
    },
    {
     "data": {
      "application/vnd.jupyter.widget-view+json": {
       "model_id": "d66c284d848d4e31ae538d8b929e0b98",
       "version_major": 2,
       "version_minor": 0
      },
      "text/plain": [
       "448/1000 * Epoch (valid):   0%|          | 0/1 [00:00<?, ?it/s]"
      ]
     },
     "metadata": {},
     "output_type": "display_data"
    },
    {
     "name": "stdout",
     "output_type": "stream",
     "text": [
      "valid (448/1000) exact_match01: 1.0 | exact_match01/std: 0.0 | exact_match05: 1.0 | exact_match05/std: 0.0 | loss: 0.00038283728645183146 | loss/mean: 0.00038283728645183146 | loss/std: 0.0 | lr: 0.0001 | momentum: 0.9\n",
      "* Epoch (448/1000) \n"
     ]
    },
    {
     "data": {
      "application/vnd.jupyter.widget-view+json": {
       "model_id": "8995714ccbe64449afb39733906f4d29",
       "version_major": 2,
       "version_minor": 0
      },
      "text/plain": [
       "449/1000 * Epoch (train):   0%|          | 0/1 [00:00<?, ?it/s]"
      ]
     },
     "metadata": {},
     "output_type": "display_data"
    },
    {
     "name": "stdout",
     "output_type": "stream",
     "text": [
      "train (449/1000) loss: 0.022230524569749832 | loss/mean: 0.022230524569749832 | loss/std: 0.0 | lr: 0.0001 | momentum: 0.9\n"
     ]
    },
    {
     "data": {
      "application/vnd.jupyter.widget-view+json": {
       "model_id": "598d2c0cde4f4658b1ff2c29e4b93366",
       "version_major": 2,
       "version_minor": 0
      },
      "text/plain": [
       "449/1000 * Epoch (valid):   0%|          | 0/1 [00:00<?, ?it/s]"
      ]
     },
     "metadata": {},
     "output_type": "display_data"
    },
    {
     "name": "stdout",
     "output_type": "stream",
     "text": [
      "valid (449/1000) exact_match01: 1.0 | exact_match01/std: 0.0 | exact_match05: 1.0 | exact_match05/std: 0.0 | loss: 0.00037914523272775114 | loss/mean: 0.00037914523272775114 | loss/std: 0.0 | lr: 0.0001 | momentum: 0.9\n",
      "* Epoch (449/1000) \n"
     ]
    },
    {
     "data": {
      "application/vnd.jupyter.widget-view+json": {
       "model_id": "2b2fea20d211424c94fb35f989ac8b31",
       "version_major": 2,
       "version_minor": 0
      },
      "text/plain": [
       "450/1000 * Epoch (train):   0%|          | 0/1 [00:00<?, ?it/s]"
      ]
     },
     "metadata": {},
     "output_type": "display_data"
    },
    {
     "name": "stdout",
     "output_type": "stream",
     "text": [
      "train (450/1000) loss: 0.011722938157618046 | loss/mean: 0.011722938157618046 | loss/std: 0.0 | lr: 0.0001 | momentum: 0.9\n"
     ]
    },
    {
     "data": {
      "application/vnd.jupyter.widget-view+json": {
       "model_id": "83f4169a89d04fe4bed39230a77a0dfb",
       "version_major": 2,
       "version_minor": 0
      },
      "text/plain": [
       "450/1000 * Epoch (valid):   0%|          | 0/1 [00:00<?, ?it/s]"
      ]
     },
     "metadata": {},
     "output_type": "display_data"
    },
    {
     "name": "stdout",
     "output_type": "stream",
     "text": [
      "valid (450/1000) exact_match01: 1.0 | exact_match01/std: 0.0 | exact_match05: 1.0 | exact_match05/std: 0.0 | loss: 0.00037570687709376216 | loss/mean: 0.00037570687709376216 | loss/std: 0.0 | lr: 0.0001 | momentum: 0.9\n",
      "* Epoch (450/1000) \n"
     ]
    },
    {
     "data": {
      "application/vnd.jupyter.widget-view+json": {
       "model_id": "4a4baffdb3d847de842398b3abd14ccc",
       "version_major": 2,
       "version_minor": 0
      },
      "text/plain": [
       "451/1000 * Epoch (train):   0%|          | 0/1 [00:00<?, ?it/s]"
      ]
     },
     "metadata": {},
     "output_type": "display_data"
    },
    {
     "name": "stdout",
     "output_type": "stream",
     "text": [
      "train (451/1000) loss: 0.011741213500499725 | loss/mean: 0.011741213500499725 | loss/std: 0.0 | lr: 0.0001 | momentum: 0.9\n"
     ]
    },
    {
     "data": {
      "application/vnd.jupyter.widget-view+json": {
       "model_id": "259285e76ceb4aecbeaa5ddc5f305204",
       "version_major": 2,
       "version_minor": 0
      },
      "text/plain": [
       "451/1000 * Epoch (valid):   0%|          | 0/1 [00:00<?, ?it/s]"
      ]
     },
     "metadata": {},
     "output_type": "display_data"
    },
    {
     "name": "stdout",
     "output_type": "stream",
     "text": [
      "valid (451/1000) exact_match01: 1.0 | exact_match01/std: 0.0 | exact_match05: 1.0 | exact_match05/std: 0.0 | loss: 0.000372139154933393 | loss/mean: 0.000372139154933393 | loss/std: 0.0 | lr: 0.0001 | momentum: 0.9\n",
      "* Epoch (451/1000) \n"
     ]
    },
    {
     "data": {
      "application/vnd.jupyter.widget-view+json": {
       "model_id": "fb8107ed60ba41029974c6648b999bdc",
       "version_major": 2,
       "version_minor": 0
      },
      "text/plain": [
       "452/1000 * Epoch (train):   0%|          | 0/1 [00:00<?, ?it/s]"
      ]
     },
     "metadata": {},
     "output_type": "display_data"
    },
    {
     "name": "stdout",
     "output_type": "stream",
     "text": [
      "train (452/1000) loss: 0.011333766393363476 | loss/mean: 0.011333766393363476 | loss/std: 0.0 | lr: 0.0001 | momentum: 0.9\n"
     ]
    },
    {
     "data": {
      "application/vnd.jupyter.widget-view+json": {
       "model_id": "d565f73b2464498fa1d3bd7ab1cb4106",
       "version_major": 2,
       "version_minor": 0
      },
      "text/plain": [
       "452/1000 * Epoch (valid):   0%|          | 0/1 [00:00<?, ?it/s]"
      ]
     },
     "metadata": {},
     "output_type": "display_data"
    },
    {
     "name": "stdout",
     "output_type": "stream",
     "text": [
      "valid (452/1000) exact_match01: 1.0 | exact_match01/std: 0.0 | exact_match05: 1.0 | exact_match05/std: 0.0 | loss: 0.0003683099348563701 | loss/mean: 0.0003683099348563701 | loss/std: 0.0 | lr: 0.0001 | momentum: 0.9\n",
      "* Epoch (452/1000) \n"
     ]
    },
    {
     "data": {
      "application/vnd.jupyter.widget-view+json": {
       "model_id": "42bd14e400ae4740819d68831e92f440",
       "version_major": 2,
       "version_minor": 0
      },
      "text/plain": [
       "453/1000 * Epoch (train):   0%|          | 0/1 [00:00<?, ?it/s]"
      ]
     },
     "metadata": {},
     "output_type": "display_data"
    },
    {
     "name": "stdout",
     "output_type": "stream",
     "text": [
      "train (453/1000) loss: 0.017014030367136 | loss/mean: 0.017014030367136 | loss/std: 0.0 | lr: 0.0001 | momentum: 0.9\n"
     ]
    },
    {
     "data": {
      "application/vnd.jupyter.widget-view+json": {
       "model_id": "81bcc1a810e44bbfb97e697dc3903d14",
       "version_major": 2,
       "version_minor": 0
      },
      "text/plain": [
       "453/1000 * Epoch (valid):   0%|          | 0/1 [00:00<?, ?it/s]"
      ]
     },
     "metadata": {},
     "output_type": "display_data"
    },
    {
     "name": "stdout",
     "output_type": "stream",
     "text": [
      "valid (453/1000) exact_match01: 1.0 | exact_match01/std: 0.0 | exact_match05: 1.0 | exact_match05/std: 0.0 | loss: 0.0003644076350610703 | loss/mean: 0.0003644076350610703 | loss/std: 0.0 | lr: 0.0001 | momentum: 0.9\n",
      "* Epoch (453/1000) \n"
     ]
    },
    {
     "data": {
      "application/vnd.jupyter.widget-view+json": {
       "model_id": "73f2c0e8878e4cc0bef37cfd368a12e6",
       "version_major": 2,
       "version_minor": 0
      },
      "text/plain": [
       "454/1000 * Epoch (train):   0%|          | 0/1 [00:00<?, ?it/s]"
      ]
     },
     "metadata": {},
     "output_type": "display_data"
    },
    {
     "name": "stdout",
     "output_type": "stream",
     "text": [
      "train (454/1000) loss: 0.019610244780778885 | loss/mean: 0.019610244780778885 | loss/std: 0.0 | lr: 0.0001 | momentum: 0.9\n"
     ]
    },
    {
     "data": {
      "application/vnd.jupyter.widget-view+json": {
       "model_id": "ee310446027b471ab7f1772a2b80a014",
       "version_major": 2,
       "version_minor": 0
      },
      "text/plain": [
       "454/1000 * Epoch (valid):   0%|          | 0/1 [00:00<?, ?it/s]"
      ]
     },
     "metadata": {},
     "output_type": "display_data"
    },
    {
     "name": "stdout",
     "output_type": "stream",
     "text": [
      "valid (454/1000) exact_match01: 1.0 | exact_match01/std: 0.0 | exact_match05: 1.0 | exact_match05/std: 0.0 | loss: 0.0003600257623475045 | loss/mean: 0.0003600257623475045 | loss/std: 0.0 | lr: 0.0001 | momentum: 0.9\n",
      "* Epoch (454/1000) \n"
     ]
    },
    {
     "data": {
      "application/vnd.jupyter.widget-view+json": {
       "model_id": "da9496b4fb1640d49c8f36385749df5a",
       "version_major": 2,
       "version_minor": 0
      },
      "text/plain": [
       "455/1000 * Epoch (train):   0%|          | 0/1 [00:00<?, ?it/s]"
      ]
     },
     "metadata": {},
     "output_type": "display_data"
    },
    {
     "name": "stdout",
     "output_type": "stream",
     "text": [
      "train (455/1000) loss: 0.013820037245750427 | loss/mean: 0.013820037245750427 | loss/std: 0.0 | lr: 0.0001 | momentum: 0.9\n"
     ]
    },
    {
     "data": {
      "application/vnd.jupyter.widget-view+json": {
       "model_id": "4a7fd24db2684afeb5d2f5511d55e045",
       "version_major": 2,
       "version_minor": 0
      },
      "text/plain": [
       "455/1000 * Epoch (valid):   0%|          | 0/1 [00:00<?, ?it/s]"
      ]
     },
     "metadata": {},
     "output_type": "display_data"
    },
    {
     "name": "stdout",
     "output_type": "stream",
     "text": [
      "valid (455/1000) exact_match01: 1.0 | exact_match01/std: 0.0 | exact_match05: 1.0 | exact_match05/std: 0.0 | loss: 0.0003557722957339138 | loss/mean: 0.0003557722957339138 | loss/std: 0.0 | lr: 0.0001 | momentum: 0.9\n",
      "* Epoch (455/1000) \n"
     ]
    },
    {
     "data": {
      "application/vnd.jupyter.widget-view+json": {
       "model_id": "dd00dfa6cf2f4a94a3cdc89ca51e04a3",
       "version_major": 2,
       "version_minor": 0
      },
      "text/plain": [
       "456/1000 * Epoch (train):   0%|          | 0/1 [00:00<?, ?it/s]"
      ]
     },
     "metadata": {},
     "output_type": "display_data"
    },
    {
     "name": "stdout",
     "output_type": "stream",
     "text": [
      "train (456/1000) loss: 0.02081342227756977 | loss/mean: 0.02081342227756977 | loss/std: 0.0 | lr: 0.0001 | momentum: 0.9\n"
     ]
    },
    {
     "data": {
      "application/vnd.jupyter.widget-view+json": {
       "model_id": "306fc011de354743849e5d12660838df",
       "version_major": 2,
       "version_minor": 0
      },
      "text/plain": [
       "456/1000 * Epoch (valid):   0%|          | 0/1 [00:00<?, ?it/s]"
      ]
     },
     "metadata": {},
     "output_type": "display_data"
    },
    {
     "name": "stdout",
     "output_type": "stream",
     "text": [
      "valid (456/1000) exact_match01: 1.0 | exact_match01/std: 0.0 | exact_match05: 1.0 | exact_match05/std: 0.0 | loss: 0.0003514170821290463 | loss/mean: 0.0003514170821290463 | loss/std: 0.0 | lr: 0.0001 | momentum: 0.9\n",
      "* Epoch (456/1000) \n"
     ]
    },
    {
     "data": {
      "application/vnd.jupyter.widget-view+json": {
       "model_id": "37ab475e50e34622926f8f60a7c94fe6",
       "version_major": 2,
       "version_minor": 0
      },
      "text/plain": [
       "457/1000 * Epoch (train):   0%|          | 0/1 [00:00<?, ?it/s]"
      ]
     },
     "metadata": {},
     "output_type": "display_data"
    },
    {
     "name": "stdout",
     "output_type": "stream",
     "text": [
      "Keyboard Interrupt\n"
     ]
    },
    {
     "ename": "KeyboardInterrupt",
     "evalue": "",
     "output_type": "error",
     "traceback": [
      "\u001b[0;31m---------------------------------------------------------------------------\u001b[0m",
      "\u001b[0;31mKeyboardInterrupt\u001b[0m                         Traceback (most recent call last)",
      "\u001b[0;32m<ipython-input-19-7568f6d03d73>\u001b[0m in \u001b[0;36m<module>\u001b[0;34m\u001b[0m\n\u001b[1;32m     26\u001b[0m     \u001b[0mvalid_metric\u001b[0m\u001b[0;34m=\u001b[0m\u001b[0;34m'loss'\u001b[0m\u001b[0;34m,\u001b[0m\u001b[0;34m\u001b[0m\u001b[0;34m\u001b[0m\u001b[0m\n\u001b[1;32m     27\u001b[0m     \u001b[0mminimize_valid_metric\u001b[0m\u001b[0;34m=\u001b[0m\u001b[0;32mTrue\u001b[0m\u001b[0;34m,\u001b[0m\u001b[0;34m\u001b[0m\u001b[0;34m\u001b[0m\u001b[0m\n\u001b[0;32m---> 28\u001b[0;31m     \u001b[0mverbose\u001b[0m\u001b[0;34m=\u001b[0m\u001b[0;32mTrue\u001b[0m\u001b[0;34m,\u001b[0m\u001b[0;34m\u001b[0m\u001b[0;34m\u001b[0m\u001b[0m\n\u001b[0m\u001b[1;32m     29\u001b[0m \u001b[0;31m#     check=True,\u001b[0m\u001b[0;34m\u001b[0m\u001b[0;34m\u001b[0m\u001b[0;34m\u001b[0m\u001b[0m\n\u001b[1;32m     30\u001b[0m \u001b[0;31m#     cpu=True,\u001b[0m\u001b[0;34m\u001b[0m\u001b[0;34m\u001b[0m\u001b[0;34m\u001b[0m\u001b[0m\n",
      "\u001b[0;32m~/anaconda3/lib/python3.7/site-packages/catalyst/runners/runner.py\u001b[0m in \u001b[0;36mtrain\u001b[0;34m(self, loaders, model, engine, criterion, optimizer, scheduler, callbacks, loggers, seed, hparams, num_epochs, logdir, resume, valid_loader, valid_metric, minimize_valid_metric, verbose, timeit, check, overfit, profile, load_best_on_end, cpu, fp16, ddp)\u001b[0m\n\u001b[1;32m    375\u001b[0m         \u001b[0mself\u001b[0m\u001b[0;34m.\u001b[0m\u001b[0m_load_best_on_end\u001b[0m \u001b[0;34m=\u001b[0m \u001b[0mload_best_on_end\u001b[0m\u001b[0;34m\u001b[0m\u001b[0;34m\u001b[0m\u001b[0m\n\u001b[1;32m    376\u001b[0m         \u001b[0;31m# run\u001b[0m\u001b[0;34m\u001b[0m\u001b[0;34m\u001b[0m\u001b[0;34m\u001b[0m\u001b[0m\n\u001b[0;32m--> 377\u001b[0;31m         \u001b[0mself\u001b[0m\u001b[0;34m.\u001b[0m\u001b[0mrun\u001b[0m\u001b[0;34m(\u001b[0m\u001b[0;34m)\u001b[0m\u001b[0;34m\u001b[0m\u001b[0;34m\u001b[0m\u001b[0m\n\u001b[0m\u001b[1;32m    378\u001b[0m \u001b[0;34m\u001b[0m\u001b[0m\n\u001b[1;32m    379\u001b[0m     \u001b[0;34m@\u001b[0m\u001b[0mtorch\u001b[0m\u001b[0;34m.\u001b[0m\u001b[0mno_grad\u001b[0m\u001b[0;34m(\u001b[0m\u001b[0;34m)\u001b[0m\u001b[0;34m\u001b[0m\u001b[0;34m\u001b[0m\u001b[0m\n",
      "\u001b[0;32m~/anaconda3/lib/python3.7/site-packages/catalyst/core/runner.py\u001b[0m in \u001b[0;36mrun\u001b[0;34m(self)\u001b[0m\n\u001b[1;32m    420\u001b[0m         \u001b[0;32mexcept\u001b[0m \u001b[0;34m(\u001b[0m\u001b[0mException\u001b[0m\u001b[0;34m,\u001b[0m \u001b[0mKeyboardInterrupt\u001b[0m\u001b[0;34m)\u001b[0m \u001b[0;32mas\u001b[0m \u001b[0mex\u001b[0m\u001b[0;34m:\u001b[0m\u001b[0;34m\u001b[0m\u001b[0;34m\u001b[0m\u001b[0m\n\u001b[1;32m    421\u001b[0m             \u001b[0mself\u001b[0m\u001b[0;34m.\u001b[0m\u001b[0mexception\u001b[0m \u001b[0;34m=\u001b[0m \u001b[0mex\u001b[0m\u001b[0;34m\u001b[0m\u001b[0;34m\u001b[0m\u001b[0m\n\u001b[0;32m--> 422\u001b[0;31m             \u001b[0mself\u001b[0m\u001b[0;34m.\u001b[0m\u001b[0m_run_event\u001b[0m\u001b[0;34m(\u001b[0m\u001b[0;34m\"on_exception\"\u001b[0m\u001b[0;34m)\u001b[0m\u001b[0;34m\u001b[0m\u001b[0;34m\u001b[0m\u001b[0m\n\u001b[0m\u001b[1;32m    423\u001b[0m         \u001b[0;32mreturn\u001b[0m \u001b[0mself\u001b[0m\u001b[0;34m\u001b[0m\u001b[0;34m\u001b[0m\u001b[0m\n\u001b[1;32m    424\u001b[0m \u001b[0;34m\u001b[0m\u001b[0m\n",
      "\u001b[0;32m~/anaconda3/lib/python3.7/site-packages/catalyst/core/runner.py\u001b[0m in \u001b[0;36m_run_event\u001b[0;34m(self, event)\u001b[0m\n\u001b[1;32m    363\u001b[0m             \u001b[0mgetattr\u001b[0m\u001b[0;34m(\u001b[0m\u001b[0mcallback\u001b[0m\u001b[0;34m,\u001b[0m \u001b[0mevent\u001b[0m\u001b[0;34m)\u001b[0m\u001b[0;34m(\u001b[0m\u001b[0mself\u001b[0m\u001b[0;34m)\u001b[0m\u001b[0;34m\u001b[0m\u001b[0;34m\u001b[0m\u001b[0m\n\u001b[1;32m    364\u001b[0m         \u001b[0;32mif\u001b[0m \u001b[0mis_str_intersections\u001b[0m\u001b[0;34m(\u001b[0m\u001b[0mevent\u001b[0m\u001b[0;34m,\u001b[0m \u001b[0;34m(\u001b[0m\u001b[0;34m\"_end\"\u001b[0m\u001b[0;34m,\u001b[0m \u001b[0;34m\"_exception\"\u001b[0m\u001b[0;34m)\u001b[0m\u001b[0;34m)\u001b[0m\u001b[0;34m:\u001b[0m\u001b[0;34m\u001b[0m\u001b[0;34m\u001b[0m\u001b[0m\n\u001b[0;32m--> 365\u001b[0;31m             \u001b[0mgetattr\u001b[0m\u001b[0;34m(\u001b[0m\u001b[0mself\u001b[0m\u001b[0;34m,\u001b[0m \u001b[0mevent\u001b[0m\u001b[0;34m)\u001b[0m\u001b[0;34m(\u001b[0m\u001b[0mself\u001b[0m\u001b[0;34m)\u001b[0m\u001b[0;34m\u001b[0m\u001b[0;34m\u001b[0m\u001b[0m\n\u001b[0m\u001b[1;32m    366\u001b[0m \u001b[0;34m\u001b[0m\u001b[0m\n\u001b[1;32m    367\u001b[0m     \u001b[0;34m@\u001b[0m\u001b[0mabstractmethod\u001b[0m\u001b[0;34m\u001b[0m\u001b[0;34m\u001b[0m\u001b[0m\n",
      "\u001b[0;32m~/anaconda3/lib/python3.7/site-packages/catalyst/core/runner.py\u001b[0m in \u001b[0;36mon_exception\u001b[0;34m(self, runner)\u001b[0m\n\u001b[1;32m    355\u001b[0m     \u001b[0;32mdef\u001b[0m \u001b[0mon_exception\u001b[0m\u001b[0;34m(\u001b[0m\u001b[0mself\u001b[0m\u001b[0;34m,\u001b[0m \u001b[0mrunner\u001b[0m\u001b[0;34m:\u001b[0m \u001b[0;34m\"IRunner\"\u001b[0m\u001b[0;34m)\u001b[0m\u001b[0;34m:\u001b[0m\u001b[0;34m\u001b[0m\u001b[0;34m\u001b[0m\u001b[0m\n\u001b[1;32m    356\u001b[0m         \u001b[0;34m\"\"\"Event handler.\"\"\"\u001b[0m\u001b[0;34m\u001b[0m\u001b[0;34m\u001b[0m\u001b[0m\n\u001b[0;32m--> 357\u001b[0;31m         \u001b[0;32mraise\u001b[0m \u001b[0mself\u001b[0m\u001b[0;34m.\u001b[0m\u001b[0mexception\u001b[0m\u001b[0;34m\u001b[0m\u001b[0;34m\u001b[0m\u001b[0m\n\u001b[0m\u001b[1;32m    358\u001b[0m \u001b[0;34m\u001b[0m\u001b[0m\n\u001b[1;32m    359\u001b[0m     \u001b[0;32mdef\u001b[0m \u001b[0m_run_event\u001b[0m\u001b[0;34m(\u001b[0m\u001b[0mself\u001b[0m\u001b[0;34m,\u001b[0m \u001b[0mevent\u001b[0m\u001b[0;34m:\u001b[0m \u001b[0mstr\u001b[0m\u001b[0;34m)\u001b[0m \u001b[0;34m->\u001b[0m \u001b[0;32mNone\u001b[0m\u001b[0;34m:\u001b[0m\u001b[0;34m\u001b[0m\u001b[0;34m\u001b[0m\u001b[0m\n",
      "\u001b[0;32m~/anaconda3/lib/python3.7/site-packages/catalyst/core/runner.py\u001b[0m in \u001b[0;36mrun\u001b[0;34m(self)\u001b[0m\n\u001b[1;32m    417\u001b[0m         \"\"\"\n\u001b[1;32m    418\u001b[0m         \u001b[0;32mtry\u001b[0m\u001b[0;34m:\u001b[0m\u001b[0;34m\u001b[0m\u001b[0;34m\u001b[0m\u001b[0m\n\u001b[0;32m--> 419\u001b[0;31m             \u001b[0mself\u001b[0m\u001b[0;34m.\u001b[0m\u001b[0m_run\u001b[0m\u001b[0;34m(\u001b[0m\u001b[0;34m)\u001b[0m\u001b[0;34m\u001b[0m\u001b[0;34m\u001b[0m\u001b[0m\n\u001b[0m\u001b[1;32m    420\u001b[0m         \u001b[0;32mexcept\u001b[0m \u001b[0;34m(\u001b[0m\u001b[0mException\u001b[0m\u001b[0;34m,\u001b[0m \u001b[0mKeyboardInterrupt\u001b[0m\u001b[0;34m)\u001b[0m \u001b[0;32mas\u001b[0m \u001b[0mex\u001b[0m\u001b[0;34m:\u001b[0m\u001b[0;34m\u001b[0m\u001b[0;34m\u001b[0m\u001b[0m\n\u001b[1;32m    421\u001b[0m             \u001b[0mself\u001b[0m\u001b[0;34m.\u001b[0m\u001b[0mexception\u001b[0m \u001b[0;34m=\u001b[0m \u001b[0mex\u001b[0m\u001b[0;34m\u001b[0m\u001b[0;34m\u001b[0m\u001b[0m\n",
      "\u001b[0;32m~/anaconda3/lib/python3.7/site-packages/catalyst/core/runner.py\u001b[0m in \u001b[0;36m_run\u001b[0;34m(self)\u001b[0m\n\u001b[1;32m    408\u001b[0m     \u001b[0;32mdef\u001b[0m \u001b[0m_run\u001b[0m\u001b[0;34m(\u001b[0m\u001b[0mself\u001b[0m\u001b[0;34m)\u001b[0m \u001b[0;34m->\u001b[0m \u001b[0;32mNone\u001b[0m\u001b[0;34m:\u001b[0m\u001b[0;34m\u001b[0m\u001b[0;34m\u001b[0m\u001b[0m\n\u001b[1;32m    409\u001b[0m         \u001b[0mself\u001b[0m\u001b[0;34m.\u001b[0m\u001b[0mengine\u001b[0m \u001b[0;34m=\u001b[0m \u001b[0mself\u001b[0m\u001b[0;34m.\u001b[0m\u001b[0mget_engine\u001b[0m\u001b[0;34m(\u001b[0m\u001b[0;34m)\u001b[0m\u001b[0;34m\u001b[0m\u001b[0;34m\u001b[0m\u001b[0m\n\u001b[0;32m--> 410\u001b[0;31m         \u001b[0mself\u001b[0m\u001b[0;34m.\u001b[0m\u001b[0mengine\u001b[0m\u001b[0;34m.\u001b[0m\u001b[0mspawn\u001b[0m\u001b[0;34m(\u001b[0m\u001b[0mself\u001b[0m\u001b[0;34m.\u001b[0m\u001b[0m_run_local\u001b[0m\u001b[0;34m)\u001b[0m\u001b[0;34m\u001b[0m\u001b[0;34m\u001b[0m\u001b[0m\n\u001b[0m\u001b[1;32m    411\u001b[0m \u001b[0;34m\u001b[0m\u001b[0m\n\u001b[1;32m    412\u001b[0m     \u001b[0;32mdef\u001b[0m \u001b[0mrun\u001b[0m\u001b[0;34m(\u001b[0m\u001b[0mself\u001b[0m\u001b[0;34m)\u001b[0m \u001b[0;34m->\u001b[0m \u001b[0;34m\"IRunner\"\u001b[0m\u001b[0;34m:\u001b[0m\u001b[0;34m\u001b[0m\u001b[0;34m\u001b[0m\u001b[0m\n",
      "\u001b[0;32m~/anaconda3/lib/python3.7/site-packages/catalyst/core/engine.py\u001b[0m in \u001b[0;36mspawn\u001b[0;34m(self, fn, *args, **kwargs)\u001b[0m\n\u001b[1;32m     57\u001b[0m             \u001b[0mwrapped\u001b[0m \u001b[0mfunction\u001b[0m \u001b[0;34m(\u001b[0m\u001b[0;32mif\u001b[0m \u001b[0mneeded\u001b[0m\u001b[0;34m)\u001b[0m\u001b[0;34m.\u001b[0m\u001b[0;34m\u001b[0m\u001b[0;34m\u001b[0m\u001b[0m\n\u001b[1;32m     58\u001b[0m         \"\"\"\n\u001b[0;32m---> 59\u001b[0;31m         \u001b[0;32mreturn\u001b[0m \u001b[0mfn\u001b[0m\u001b[0;34m(\u001b[0m\u001b[0;34m*\u001b[0m\u001b[0margs\u001b[0m\u001b[0;34m,\u001b[0m \u001b[0;34m**\u001b[0m\u001b[0mkwargs\u001b[0m\u001b[0;34m)\u001b[0m\u001b[0;34m\u001b[0m\u001b[0;34m\u001b[0m\u001b[0m\n\u001b[0m\u001b[1;32m     60\u001b[0m \u001b[0;34m\u001b[0m\u001b[0m\n\u001b[1;32m     61\u001b[0m     \u001b[0;32mdef\u001b[0m \u001b[0msetup\u001b[0m\u001b[0;34m(\u001b[0m\u001b[0mself\u001b[0m\u001b[0;34m,\u001b[0m \u001b[0mlocal_rank\u001b[0m\u001b[0;34m:\u001b[0m \u001b[0mint\u001b[0m\u001b[0;34m,\u001b[0m \u001b[0mworld_size\u001b[0m\u001b[0;34m:\u001b[0m \u001b[0mint\u001b[0m\u001b[0;34m)\u001b[0m\u001b[0;34m:\u001b[0m\u001b[0;34m\u001b[0m\u001b[0;34m\u001b[0m\u001b[0m\n",
      "\u001b[0;32m~/anaconda3/lib/python3.7/site-packages/catalyst/core/runner.py\u001b[0m in \u001b[0;36m_run_local\u001b[0;34m(self, local_rank, world_size)\u001b[0m\n\u001b[1;32m    403\u001b[0m         \u001b[0mself\u001b[0m\u001b[0;34m.\u001b[0m\u001b[0m_local_rank\u001b[0m\u001b[0;34m,\u001b[0m \u001b[0mself\u001b[0m\u001b[0;34m.\u001b[0m\u001b[0m_world_size\u001b[0m \u001b[0;34m=\u001b[0m \u001b[0mlocal_rank\u001b[0m\u001b[0;34m,\u001b[0m \u001b[0mworld_size\u001b[0m\u001b[0;34m\u001b[0m\u001b[0;34m\u001b[0m\u001b[0m\n\u001b[1;32m    404\u001b[0m         \u001b[0mself\u001b[0m\u001b[0;34m.\u001b[0m\u001b[0m_run_event\u001b[0m\u001b[0;34m(\u001b[0m\u001b[0;34m\"on_experiment_start\"\u001b[0m\u001b[0;34m)\u001b[0m\u001b[0;34m\u001b[0m\u001b[0;34m\u001b[0m\u001b[0m\n\u001b[0;32m--> 405\u001b[0;31m         \u001b[0mself\u001b[0m\u001b[0;34m.\u001b[0m\u001b[0m_run_experiment\u001b[0m\u001b[0;34m(\u001b[0m\u001b[0;34m)\u001b[0m\u001b[0;34m\u001b[0m\u001b[0;34m\u001b[0m\u001b[0m\n\u001b[0m\u001b[1;32m    406\u001b[0m         \u001b[0mself\u001b[0m\u001b[0;34m.\u001b[0m\u001b[0m_run_event\u001b[0m\u001b[0;34m(\u001b[0m\u001b[0;34m\"on_experiment_end\"\u001b[0m\u001b[0;34m)\u001b[0m\u001b[0;34m\u001b[0m\u001b[0;34m\u001b[0m\u001b[0m\n\u001b[1;32m    407\u001b[0m \u001b[0;34m\u001b[0m\u001b[0m\n",
      "\u001b[0;32m~/anaconda3/lib/python3.7/site-packages/catalyst/core/runner.py\u001b[0m in \u001b[0;36m_run_experiment\u001b[0;34m(self)\u001b[0m\n\u001b[1;32m    397\u001b[0m                 \u001b[0;32mbreak\u001b[0m\u001b[0;34m\u001b[0m\u001b[0;34m\u001b[0m\u001b[0m\n\u001b[1;32m    398\u001b[0m             \u001b[0mself\u001b[0m\u001b[0;34m.\u001b[0m\u001b[0m_run_event\u001b[0m\u001b[0;34m(\u001b[0m\u001b[0;34m\"on_epoch_start\"\u001b[0m\u001b[0;34m)\u001b[0m\u001b[0;34m\u001b[0m\u001b[0;34m\u001b[0m\u001b[0m\n\u001b[0;32m--> 399\u001b[0;31m             \u001b[0mself\u001b[0m\u001b[0;34m.\u001b[0m\u001b[0m_run_epoch\u001b[0m\u001b[0;34m(\u001b[0m\u001b[0;34m)\u001b[0m\u001b[0;34m\u001b[0m\u001b[0;34m\u001b[0m\u001b[0m\n\u001b[0m\u001b[1;32m    400\u001b[0m             \u001b[0mself\u001b[0m\u001b[0;34m.\u001b[0m\u001b[0m_run_event\u001b[0m\u001b[0;34m(\u001b[0m\u001b[0;34m\"on_epoch_end\"\u001b[0m\u001b[0;34m)\u001b[0m\u001b[0;34m\u001b[0m\u001b[0;34m\u001b[0m\u001b[0m\n\u001b[1;32m    401\u001b[0m \u001b[0;34m\u001b[0m\u001b[0m\n",
      "\u001b[0;32m~/anaconda3/lib/python3.7/site-packages/catalyst/core/runner.py\u001b[0m in \u001b[0;36m_run_epoch\u001b[0;34m(self)\u001b[0m\n\u001b[1;32m    389\u001b[0m         \u001b[0;32mfor\u001b[0m \u001b[0mself\u001b[0m\u001b[0;34m.\u001b[0m\u001b[0mloader_key\u001b[0m\u001b[0;34m,\u001b[0m \u001b[0mself\u001b[0m\u001b[0;34m.\u001b[0m\u001b[0mloader\u001b[0m \u001b[0;32min\u001b[0m \u001b[0mself\u001b[0m\u001b[0;34m.\u001b[0m\u001b[0mloaders\u001b[0m\u001b[0;34m.\u001b[0m\u001b[0mitems\u001b[0m\u001b[0;34m(\u001b[0m\u001b[0;34m)\u001b[0m\u001b[0;34m:\u001b[0m\u001b[0;34m\u001b[0m\u001b[0;34m\u001b[0m\u001b[0m\n\u001b[1;32m    390\u001b[0m             \u001b[0mself\u001b[0m\u001b[0;34m.\u001b[0m\u001b[0m_run_event\u001b[0m\u001b[0;34m(\u001b[0m\u001b[0;34m\"on_loader_start\"\u001b[0m\u001b[0;34m)\u001b[0m\u001b[0;34m\u001b[0m\u001b[0;34m\u001b[0m\u001b[0m\n\u001b[0;32m--> 391\u001b[0;31m             \u001b[0mself\u001b[0m\u001b[0;34m.\u001b[0m\u001b[0m_run_loader\u001b[0m\u001b[0;34m(\u001b[0m\u001b[0;34m)\u001b[0m\u001b[0;34m\u001b[0m\u001b[0;34m\u001b[0m\u001b[0m\n\u001b[0m\u001b[1;32m    392\u001b[0m             \u001b[0mself\u001b[0m\u001b[0;34m.\u001b[0m\u001b[0m_run_event\u001b[0m\u001b[0;34m(\u001b[0m\u001b[0;34m\"on_loader_end\"\u001b[0m\u001b[0;34m)\u001b[0m\u001b[0;34m\u001b[0m\u001b[0;34m\u001b[0m\u001b[0m\n\u001b[1;32m    393\u001b[0m \u001b[0;34m\u001b[0m\u001b[0m\n",
      "\u001b[0;32m~/anaconda3/lib/python3.7/site-packages/catalyst/core/runner.py\u001b[0m in \u001b[0;36m_run_loader\u001b[0;34m(self)\u001b[0m\n\u001b[1;32m    383\u001b[0m                     \u001b[0;32mbreak\u001b[0m\u001b[0;34m\u001b[0m\u001b[0;34m\u001b[0m\u001b[0m\n\u001b[1;32m    384\u001b[0m                 \u001b[0mself\u001b[0m\u001b[0;34m.\u001b[0m\u001b[0m_run_event\u001b[0m\u001b[0;34m(\u001b[0m\u001b[0;34m\"on_batch_start\"\u001b[0m\u001b[0;34m)\u001b[0m\u001b[0;34m\u001b[0m\u001b[0;34m\u001b[0m\u001b[0m\n\u001b[0;32m--> 385\u001b[0;31m                 \u001b[0mself\u001b[0m\u001b[0;34m.\u001b[0m\u001b[0mhandle_batch\u001b[0m\u001b[0;34m(\u001b[0m\u001b[0mbatch\u001b[0m\u001b[0;34m=\u001b[0m\u001b[0mself\u001b[0m\u001b[0;34m.\u001b[0m\u001b[0mbatch\u001b[0m\u001b[0;34m)\u001b[0m\u001b[0;34m\u001b[0m\u001b[0;34m\u001b[0m\u001b[0m\n\u001b[0m\u001b[1;32m    386\u001b[0m                 \u001b[0mself\u001b[0m\u001b[0;34m.\u001b[0m\u001b[0m_run_event\u001b[0m\u001b[0;34m(\u001b[0m\u001b[0;34m\"on_batch_end\"\u001b[0m\u001b[0;34m)\u001b[0m\u001b[0;34m\u001b[0m\u001b[0;34m\u001b[0m\u001b[0m\n\u001b[1;32m    387\u001b[0m \u001b[0;34m\u001b[0m\u001b[0m\n",
      "\u001b[0;32m~/anaconda3/lib/python3.7/site-packages/catalyst/runners/supervised.py\u001b[0m in \u001b[0;36mhandle_batch\u001b[0;34m(self, batch)\u001b[0m\n\u001b[1;32m    158\u001b[0m             \u001b[0mbatch\u001b[0m\u001b[0;34m:\u001b[0m \u001b[0mdictionary\u001b[0m \u001b[0;32mwith\u001b[0m \u001b[0mdata\u001b[0m \u001b[0mbatches\u001b[0m \u001b[0;32mfrom\u001b[0m \u001b[0mDataLoader\u001b[0m\u001b[0;34m.\u001b[0m\u001b[0;34m\u001b[0m\u001b[0;34m\u001b[0m\u001b[0m\n\u001b[1;32m    159\u001b[0m         \"\"\"\n\u001b[0;32m--> 160\u001b[0;31m         \u001b[0mself\u001b[0m\u001b[0;34m.\u001b[0m\u001b[0mbatch\u001b[0m \u001b[0;34m=\u001b[0m \u001b[0;34m{\u001b[0m\u001b[0;34m**\u001b[0m\u001b[0mbatch\u001b[0m\u001b[0;34m,\u001b[0m \u001b[0;34m**\u001b[0m\u001b[0mself\u001b[0m\u001b[0;34m.\u001b[0m\u001b[0mforward\u001b[0m\u001b[0;34m(\u001b[0m\u001b[0mbatch\u001b[0m\u001b[0;34m)\u001b[0m\u001b[0;34m}\u001b[0m\u001b[0;34m\u001b[0m\u001b[0;34m\u001b[0m\u001b[0m\n\u001b[0m\u001b[1;32m    161\u001b[0m \u001b[0;34m\u001b[0m\u001b[0m\n\u001b[1;32m    162\u001b[0m \u001b[0;34m\u001b[0m\u001b[0m\n",
      "\u001b[0;32m~/anaconda3/lib/python3.7/site-packages/catalyst/runners/supervised.py\u001b[0m in \u001b[0;36mforward\u001b[0;34m(self, batch, **kwargs)\u001b[0m\n\u001b[1;32m    141\u001b[0m             \u001b[0mdict\u001b[0m \u001b[0;32mwith\u001b[0m \u001b[0mmodel\u001b[0m \u001b[0moutput\u001b[0m \u001b[0mbatch\u001b[0m\u001b[0;34m\u001b[0m\u001b[0;34m\u001b[0m\u001b[0m\n\u001b[1;32m    142\u001b[0m         \"\"\"\n\u001b[0;32m--> 143\u001b[0;31m         \u001b[0moutput\u001b[0m \u001b[0;34m=\u001b[0m \u001b[0mself\u001b[0m\u001b[0;34m.\u001b[0m\u001b[0m_process_input\u001b[0m\u001b[0;34m(\u001b[0m\u001b[0mbatch\u001b[0m\u001b[0;34m,\u001b[0m \u001b[0;34m**\u001b[0m\u001b[0mkwargs\u001b[0m\u001b[0;34m)\u001b[0m\u001b[0;34m\u001b[0m\u001b[0;34m\u001b[0m\u001b[0m\n\u001b[0m\u001b[1;32m    144\u001b[0m         \u001b[0moutput\u001b[0m \u001b[0;34m=\u001b[0m \u001b[0mself\u001b[0m\u001b[0;34m.\u001b[0m\u001b[0m_process_output\u001b[0m\u001b[0;34m(\u001b[0m\u001b[0moutput\u001b[0m\u001b[0;34m)\u001b[0m\u001b[0;34m\u001b[0m\u001b[0;34m\u001b[0m\u001b[0m\n\u001b[1;32m    145\u001b[0m         \u001b[0;32mreturn\u001b[0m \u001b[0moutput\u001b[0m\u001b[0;34m\u001b[0m\u001b[0;34m\u001b[0m\u001b[0m\n",
      "\u001b[0;32m~/anaconda3/lib/python3.7/site-packages/catalyst/runners/supervised.py\u001b[0m in \u001b[0;36m_process_input_str\u001b[0;34m(self, batch, **kwargs)\u001b[0m\n\u001b[1;32m    104\u001b[0m \u001b[0;34m\u001b[0m\u001b[0m\n\u001b[1;32m    105\u001b[0m     \u001b[0;32mdef\u001b[0m \u001b[0m_process_input_str\u001b[0m\u001b[0;34m(\u001b[0m\u001b[0mself\u001b[0m\u001b[0;34m,\u001b[0m \u001b[0mbatch\u001b[0m\u001b[0;34m:\u001b[0m \u001b[0mMapping\u001b[0m\u001b[0;34m[\u001b[0m\u001b[0mstr\u001b[0m\u001b[0;34m,\u001b[0m \u001b[0mAny\u001b[0m\u001b[0;34m]\u001b[0m\u001b[0;34m,\u001b[0m \u001b[0;34m**\u001b[0m\u001b[0mkwargs\u001b[0m\u001b[0;34m)\u001b[0m\u001b[0;34m:\u001b[0m\u001b[0;34m\u001b[0m\u001b[0;34m\u001b[0m\u001b[0m\n\u001b[0;32m--> 106\u001b[0;31m         \u001b[0moutput\u001b[0m \u001b[0;34m=\u001b[0m \u001b[0mself\u001b[0m\u001b[0;34m.\u001b[0m\u001b[0mmodel\u001b[0m\u001b[0;34m(\u001b[0m\u001b[0mbatch\u001b[0m\u001b[0;34m[\u001b[0m\u001b[0mself\u001b[0m\u001b[0;34m.\u001b[0m\u001b[0m_input_key\u001b[0m\u001b[0;34m]\u001b[0m\u001b[0;34m,\u001b[0m \u001b[0;34m**\u001b[0m\u001b[0mkwargs\u001b[0m\u001b[0;34m)\u001b[0m\u001b[0;34m\u001b[0m\u001b[0;34m\u001b[0m\u001b[0m\n\u001b[0m\u001b[1;32m    107\u001b[0m         \u001b[0;32mreturn\u001b[0m \u001b[0moutput\u001b[0m\u001b[0;34m\u001b[0m\u001b[0;34m\u001b[0m\u001b[0m\n\u001b[1;32m    108\u001b[0m \u001b[0;34m\u001b[0m\u001b[0m\n",
      "\u001b[0;32m~/anaconda3/lib/python3.7/site-packages/torch/nn/modules/module.py\u001b[0m in \u001b[0;36m_call_impl\u001b[0;34m(self, *input, **kwargs)\u001b[0m\n\u001b[1;32m   1128\u001b[0m         if not (self._backward_hooks or self._forward_hooks or self._forward_pre_hooks or _global_backward_hooks\n\u001b[1;32m   1129\u001b[0m                 or _global_forward_hooks or _global_forward_pre_hooks):\n\u001b[0;32m-> 1130\u001b[0;31m             \u001b[0;32mreturn\u001b[0m \u001b[0mforward_call\u001b[0m\u001b[0;34m(\u001b[0m\u001b[0;34m*\u001b[0m\u001b[0minput\u001b[0m\u001b[0;34m,\u001b[0m \u001b[0;34m**\u001b[0m\u001b[0mkwargs\u001b[0m\u001b[0;34m)\u001b[0m\u001b[0;34m\u001b[0m\u001b[0;34m\u001b[0m\u001b[0m\n\u001b[0m\u001b[1;32m   1131\u001b[0m         \u001b[0;31m# Do not call functions when jit is used\u001b[0m\u001b[0;34m\u001b[0m\u001b[0;34m\u001b[0m\u001b[0;34m\u001b[0m\u001b[0m\n\u001b[1;32m   1132\u001b[0m         \u001b[0mfull_backward_hooks\u001b[0m\u001b[0;34m,\u001b[0m \u001b[0mnon_full_backward_hooks\u001b[0m \u001b[0;34m=\u001b[0m \u001b[0;34m[\u001b[0m\u001b[0;34m]\u001b[0m\u001b[0;34m,\u001b[0m \u001b[0;34m[\u001b[0m\u001b[0;34m]\u001b[0m\u001b[0;34m\u001b[0m\u001b[0;34m\u001b[0m\u001b[0m\n",
      "\u001b[0;32m<ipython-input-14-58191b931219>\u001b[0m in \u001b[0;36mforward\u001b[0;34m(self, x)\u001b[0m\n\u001b[1;32m     17\u001b[0m             \u001b[0minput_ids\u001b[0m \u001b[0;34m=\u001b[0m \u001b[0msrc\u001b[0m\u001b[0;34m,\u001b[0m\u001b[0;34m\u001b[0m\u001b[0;34m\u001b[0m\u001b[0m\n\u001b[1;32m     18\u001b[0m             \u001b[0mattention_mask\u001b[0m \u001b[0;34m=\u001b[0m \u001b[0;34m(\u001b[0m\u001b[0msrc\u001b[0m \u001b[0;34m!=\u001b[0m \u001b[0;36m0\u001b[0m\u001b[0;34m)\u001b[0m\u001b[0;34m.\u001b[0m\u001b[0mfloat\u001b[0m\u001b[0;34m(\u001b[0m\u001b[0;34m)\u001b[0m\u001b[0;34m,\u001b[0m\u001b[0;34m\u001b[0m\u001b[0;34m\u001b[0m\u001b[0m\n\u001b[0;32m---> 19\u001b[0;31m             \u001b[0mlabels\u001b[0m\u001b[0;34m=\u001b[0m\u001b[0mtgt\u001b[0m\u001b[0;34m,\u001b[0m\u001b[0;34m\u001b[0m\u001b[0;34m\u001b[0m\u001b[0m\n\u001b[0m\u001b[1;32m     20\u001b[0m         ).loss\n\u001b[1;32m     21\u001b[0m         \u001b[0;32mreturn\u001b[0m \u001b[0mloss\u001b[0m\u001b[0;34m\u001b[0m\u001b[0;34m\u001b[0m\u001b[0m\n",
      "\u001b[0;32m~/anaconda3/lib/python3.7/site-packages/torch/nn/modules/module.py\u001b[0m in \u001b[0;36m_call_impl\u001b[0;34m(self, *input, **kwargs)\u001b[0m\n\u001b[1;32m   1128\u001b[0m         if not (self._backward_hooks or self._forward_hooks or self._forward_pre_hooks or _global_backward_hooks\n\u001b[1;32m   1129\u001b[0m                 or _global_forward_hooks or _global_forward_pre_hooks):\n\u001b[0;32m-> 1130\u001b[0;31m             \u001b[0;32mreturn\u001b[0m \u001b[0mforward_call\u001b[0m\u001b[0;34m(\u001b[0m\u001b[0;34m*\u001b[0m\u001b[0minput\u001b[0m\u001b[0;34m,\u001b[0m \u001b[0;34m**\u001b[0m\u001b[0mkwargs\u001b[0m\u001b[0;34m)\u001b[0m\u001b[0;34m\u001b[0m\u001b[0;34m\u001b[0m\u001b[0m\n\u001b[0m\u001b[1;32m   1131\u001b[0m         \u001b[0;31m# Do not call functions when jit is used\u001b[0m\u001b[0;34m\u001b[0m\u001b[0;34m\u001b[0m\u001b[0;34m\u001b[0m\u001b[0m\n\u001b[1;32m   1132\u001b[0m         \u001b[0mfull_backward_hooks\u001b[0m\u001b[0;34m,\u001b[0m \u001b[0mnon_full_backward_hooks\u001b[0m \u001b[0;34m=\u001b[0m \u001b[0;34m[\u001b[0m\u001b[0;34m]\u001b[0m\u001b[0;34m,\u001b[0m \u001b[0;34m[\u001b[0m\u001b[0;34m]\u001b[0m\u001b[0;34m\u001b[0m\u001b[0;34m\u001b[0m\u001b[0m\n",
      "\u001b[0;32m~/anaconda3/lib/python3.7/site-packages/transformers/models/t5/modeling_t5.py\u001b[0m in \u001b[0;36mforward\u001b[0;34m(self, input_ids, attention_mask, decoder_input_ids, decoder_attention_mask, head_mask, decoder_head_mask, cross_attn_head_mask, encoder_outputs, past_key_values, inputs_embeds, decoder_inputs_embeds, labels, use_cache, output_attentions, output_hidden_states, return_dict)\u001b[0m\n\u001b[1;32m   1624\u001b[0m         \u001b[0;32mif\u001b[0m \u001b[0mlabels\u001b[0m \u001b[0;32mis\u001b[0m \u001b[0;32mnot\u001b[0m \u001b[0;32mNone\u001b[0m \u001b[0;32mand\u001b[0m \u001b[0mdecoder_input_ids\u001b[0m \u001b[0;32mis\u001b[0m \u001b[0;32mNone\u001b[0m \u001b[0;32mand\u001b[0m \u001b[0mdecoder_inputs_embeds\u001b[0m \u001b[0;32mis\u001b[0m \u001b[0;32mNone\u001b[0m\u001b[0;34m:\u001b[0m\u001b[0;34m\u001b[0m\u001b[0;34m\u001b[0m\u001b[0m\n\u001b[1;32m   1625\u001b[0m             \u001b[0;31m# get decoder inputs from shifting lm labels to the right\u001b[0m\u001b[0;34m\u001b[0m\u001b[0;34m\u001b[0m\u001b[0;34m\u001b[0m\u001b[0m\n\u001b[0;32m-> 1626\u001b[0;31m             \u001b[0mdecoder_input_ids\u001b[0m \u001b[0;34m=\u001b[0m \u001b[0mself\u001b[0m\u001b[0;34m.\u001b[0m\u001b[0m_shift_right\u001b[0m\u001b[0;34m(\u001b[0m\u001b[0mlabels\u001b[0m\u001b[0;34m)\u001b[0m\u001b[0;34m\u001b[0m\u001b[0;34m\u001b[0m\u001b[0m\n\u001b[0m\u001b[1;32m   1627\u001b[0m \u001b[0;34m\u001b[0m\u001b[0m\n\u001b[1;32m   1628\u001b[0m         \u001b[0;31m# Set device for model parallelism\u001b[0m\u001b[0;34m\u001b[0m\u001b[0;34m\u001b[0m\u001b[0;34m\u001b[0m\u001b[0m\n",
      "\u001b[0;32m~/anaconda3/lib/python3.7/site-packages/transformers/models/t5/modeling_t5.py\u001b[0m in \u001b[0;36m_shift_right\u001b[0;34m(self, input_ids)\u001b[0m\n\u001b[1;32m    828\u001b[0m         \u001b[0mshifted_input_ids\u001b[0m\u001b[0;34m.\u001b[0m\u001b[0mmasked_fill_\u001b[0m\u001b[0;34m(\u001b[0m\u001b[0mshifted_input_ids\u001b[0m \u001b[0;34m==\u001b[0m \u001b[0;34m-\u001b[0m\u001b[0;36m100\u001b[0m\u001b[0;34m,\u001b[0m \u001b[0mpad_token_id\u001b[0m\u001b[0;34m)\u001b[0m\u001b[0;34m\u001b[0m\u001b[0;34m\u001b[0m\u001b[0m\n\u001b[1;32m    829\u001b[0m \u001b[0;34m\u001b[0m\u001b[0m\n\u001b[0;32m--> 830\u001b[0;31m         \u001b[0;32massert\u001b[0m \u001b[0mtorch\u001b[0m\u001b[0;34m.\u001b[0m\u001b[0mall\u001b[0m\u001b[0;34m(\u001b[0m\u001b[0mshifted_input_ids\u001b[0m \u001b[0;34m>=\u001b[0m \u001b[0;36m0\u001b[0m\u001b[0;34m)\u001b[0m\u001b[0;34m.\u001b[0m\u001b[0mitem\u001b[0m\u001b[0;34m(\u001b[0m\u001b[0;34m)\u001b[0m\u001b[0;34m,\u001b[0m \u001b[0;34m\"Verify that `shifted_input_ids` has only positive values\"\u001b[0m\u001b[0;34m\u001b[0m\u001b[0;34m\u001b[0m\u001b[0m\n\u001b[0m\u001b[1;32m    831\u001b[0m \u001b[0;34m\u001b[0m\u001b[0m\n\u001b[1;32m    832\u001b[0m         \u001b[0;32mreturn\u001b[0m \u001b[0mshifted_input_ids\u001b[0m\u001b[0;34m\u001b[0m\u001b[0;34m\u001b[0m\u001b[0m\n",
      "\u001b[0;31mKeyboardInterrupt\u001b[0m: "
     ]
    }
   ],
   "source": [
    "runner = dl.SupervisedRunner()\n",
    "\n",
    "# CONFIG.scheduler = 'OneCycleLR(max_lr=0.005, base_momentum=0.85, max_momentum=0.95, div_factor=10.0)'\n",
    "\n",
    "wandb_logger = dl.WandbLogger(project=\"interactive_lm\", \n",
    "                              name=CONFIG.name, \n",
    "                              group=CONFIG.group)\n",
    "# wandb_logger.log_hparams(CONFIG.__dict__)\n",
    "\n",
    "runner.train(\n",
    "    loaders=loaders,\n",
    "    model=model,\n",
    "    criterion=Criterion(),\n",
    "    optimizer=optimizer,\n",
    "#     scheduler=torch.optim.lr_scheduler.OneCycleLR(optimizer, 0.005, \n",
    "#                                                   total_steps=CONFIG.n_epochs*len(loaders_pattern['train']), \n",
    "#                                                   base_momentum=0.85, max_momentum=0.95, div_factor=10.0),\n",
    "    num_epochs=CONFIG.n_epochs,\n",
    "    callbacks=[\n",
    "        # dl.EarlyStoppingCallback(loader_key='valid', metric_key='exact_match02', minimize=False, patience=5),\n",
    "        ExactMatchCallback(beam_size=CONFIG.beam_size),\n",
    "    ],\n",
    "    loggers={'wandb': wandb_logger},\n",
    "    logdir=f'./models/{CONFIG.description}',\n",
    "    valid_loader='valid',\n",
    "    valid_metric='loss',\n",
    "    minimize_valid_metric=True,\n",
    "    verbose=True,\n",
    "#     check=True,\n",
    "#     cpu=True,\n",
    ")"
   ]
  },
  {
   "cell_type": "code",
   "execution_count": null,
   "metadata": {},
   "outputs": [],
   "source": []
  },
  {
   "cell_type": "code",
   "execution_count": null,
   "metadata": {},
   "outputs": [],
   "source": []
  },
  {
   "cell_type": "code",
   "execution_count": null,
   "metadata": {},
   "outputs": [],
   "source": []
  },
  {
   "cell_type": "code",
   "execution_count": null,
   "metadata": {},
   "outputs": [],
   "source": []
  },
  {
   "cell_type": "code",
   "execution_count": null,
   "metadata": {},
   "outputs": [],
   "source": []
  },
  {
   "cell_type": "code",
   "execution_count": null,
   "metadata": {},
   "outputs": [],
   "source": []
  },
  {
   "cell_type": "code",
   "execution_count": 21,
   "metadata": {
    "scrolled": false
   },
   "outputs": [
    {
     "name": "stdout",
     "output_type": "stream",
     "text": [
      "\n",
      "\n",
      "----------------------------\t QUERY 0\t ----------------------------\n",
      "\n",
      "Src query:\n",
      " TEXT what a load of drivel. deb 18:29, 6 feb 2005 (utc) * drivel, yes; true drivel, also yes. (note: i mean that this really did exist as an anti-david beckham soccer chant, not that it accurately describes their sexual practices.) but, that said, i don't think it's notable enough to warrant its own article. delete. bearcat 20:51, 6 feb 2005 (utc) *...and yes, it's nowhere as notable as any other member of :category:football songs and chants. delete. samaritan 23:10, 6 feb 2005 (utc) *delete. non-notable rjfjr 00:02, feb 7, 2005 (utc) DOCS doc1: victoria beckhams been causing something of a stir on her victoria beckham beauty instagram account of late, sharing a series of throwback spice girls photos and videos with the hashtag... doc2: former spice girl admits she never sang live. victoria beckham, aka posh spice, has admitted miming all her live performances with the spice girls - shocker. beckhams relative lack of musical... doc3: victoria beckhams tiktok debut did not go as expected. the former member of the spice girls took to the social media platform on thursday and one of her first videos was deemed out of touch...\n",
      "\n",
      "Tgt query:\n",
      " comment: /* [[posh spice takes it up the arse]] */ redirect TEXT what a load of drivel. deb 18:29, 6 feb 2005 (utc) * drivel, yes; true drivel, also yes. (note: i mean that this really did exist as an anti-david beckham soccer chant, not that it accurately describes their sexual practices.) but, that said, i don't think it's notable enough to warrant its own article. delete. bearcat 20:51, 6 feb 2005 (utc) *...and yes, it's nowhere as notable as any other member of :category:football songs and chants. delete. samaritan 23:10, 6 feb 2005 (utc) *delete. non-notable rjfjr 00:02, feb 7, 2005 (utc) *redirect to victoria beckham, already mentioned there. kappa 00:03, 7 feb 2005 (utc)\n",
      "\n",
      "\n",
      "----------------------------\t GENERATED\t ----------------------------\n",
      "\n",
      "0:\n",
      "comment: /* [[posh spice takes it up the arse]] */ redirect TEXT what a load of drivel. deb 18:29, 6 feb 2005 (utc) * drivel, yes; true drivel, also yes. (note: i mean that this really did exist as an anti-david beckham soccer chant, not that it accurately describes their sexual practices.) but, that said, i don't think it's notable enough to warrant its own article. delete. bearcat 20:51, 6 feb 2005 (utc) *...and yes, it's nowhere as notable as any other member of :category:football songs and chants. delete. samaritan 23:10, 6 feb 2005 (utc) *delete. non-notable rjfjr 00:02, feb 7, 2005 (utc) *delete. non-notable rjfjr 00:02, feb 7, 2005 (utc)\n",
      "\n",
      "1:\n",
      "comment: /* [[posh spice takes it up the arse]] */ redirect TEXT what a load of drivel. deb 18:29, 6 feb 2005 (utc) * drivel, yes; true drivel, also yes. (note: i mean that this really did exist as an anti-david beckham soccer chant, not that it accurately describes their sexual practices.) but, that said, i don't think it's notable enough to warrant its own article. delete. bearcat 20:51, 6 feb 2005 (utc) *...and yes, it's nowhere as notable as any other member of :category:football songs and chants. delete. samaritan 23:10, 6 feb 2005 (utc) *delete. non-notable rjfjr 00:02, feb 7, 2005 (utc) *redirect to victoria beckham, already mentioned there. kappa 00:03, 7 feb 2005 (utc)\n",
      "\n",
      "2:\n",
      "comment: /* [[posh spice takes it up the arse]] */ redirect TEXT what a load of drivel. deb 18:29, 6 feb 2005 (utc) * drivel, yes; true drivel, also yes. (note: i mean that this really did exist as an anti-david beckham soccer chant, not that it accurately describes their sexual practices.) but, that said, i don't think it's notable enough to warrant its own article. delete. bearcat 20:51, 6 feb 2005 (utc) *...and yes, it's nowhere as notable as any other member of :category:football songs and chants. delete. samaritan 23:10, 6 feb 2005 (utc) *delete. non-notable rjfjr 00:02, feb 7, 2005 (utc) *delete. non-notable rjfjr 00:03, 7 feb 2005 (utc)\n",
      "\n",
      "3:\n",
      "comment: /* [[posh spice takes it up the arse]] */ redirect TEXT what a load of drivel. deb 18:29, 6 feb 2005 (utc) * drivel, yes; true drivel, also yes. (note: i mean that this really did exist as an anti-david beckham soccer chant, not that it accurately describes their sexual practices.) but, that said, i don't think it's notable enough to warrant its own article. delete. bearcat 20:51, 6 feb 2005 (utc) *...and yes, it's nowhere as notable as any other member of :category:football songs and chants. delete. samaritan 23:10, 6 feb 2005 (utc) *delete. non-notable rjfjr 00:02, feb 7, 2005 (utc) *redirect to victoria beckham, already mentioned there. kappa 00:02, feb 7, 2005 (utc)\n",
      "\n",
      "4:\n",
      "comment: /* [[posh spice takes it up the arse]] */ redirect TEXT what a load of drivel. deb 18:29, 6 feb 2005 (utc) * drivel, yes; true drivel, also yes. (note: i mean that this really did exist as an anti-david beckham soccer chant, not that it accurately describes their sexual practices.) but, that said, i don't think it's notable enough to warrant its own article. delete. bearcat 20:51, 6 feb 2005 (utc) *...and yes, it's nowhere as notable as any other member of :category:football songs and chants. delete. samaritan 23:10, 6 feb 2005 (utc) *delete. non-notable rjfjr 00:02, feb 7, 2005 (utc)\n",
      "\n",
      "\n",
      "X_T:\n",
      "What a load of drivel. Deb 18:29, 6 Feb 2005 (UTC)\n",
      "* Drivel, yes; true drivel, also yes. (Note: I mean that this really did exist as an anti-David Beckham soccer chant, not that it accurately describes their sexual practices.) But, that said, I don't think it's notable enough to warrant its own article. Delete. Bearcat 20:51, 6 Feb 2005 (UTC)\n",
      "*...and yes, it's nowhere as notable as any other member of :Category:Football songs and chants. Delete. Samaritan 23:10, 6 Feb 2005 (UTC)\n",
      "*Delete. non-notable RJFJR 00:02, Feb 7, 2005 (UTC)\n",
      "\n",
      "X_T+1:\n",
      "What a load of drivel. Deb 18:29, 6 Feb 2005 (UTC)\n",
      "* Drivel, yes; true drivel, also yes. (Note: I mean that this really did exist as an anti-David Beckham soccer chant, not that it accurately describes their sexual practices.) But, that said, I don't think it's notable enough to warrant its own article. Delete. Bearcat 20:51, 6 Feb 2005 (UTC)\n",
      "*...and yes, it's nowhere as notable as any other member of :Category:Football songs and chants. Delete. Samaritan 23:10, 6 Feb 2005 (UTC)\n",
      "*Delete. non-notable RJFJR 00:02, Feb 7, 2005 (UTC)\n",
      "*Redirect to Victoria Beckham, already mentioned there. Kappa 00:03, 7 Feb 2005 (UTC)\n",
      "\n",
      "diff:\n",
      "\n",
      "*Redirect to Victoria Beckham, already mentioned there. Kappa 00:03, 7 Feb 2005 (UTC)\n",
      "\n",
      "\n",
      "----------------------------\t QUERY 1\t ----------------------------\n",
      "\n",
      "Src query:\n",
      " TEXT fritz william weaver (january 19, 1926  november 26, 2016) was an american actor in television, stage, and motion pictures. in cinema, he is best recognized from his debut film fail safe (1964), as well as marathon man (1976), creepshow (1982) and the thomas crown affair (1999). among many television roles, he performed in two seminal projects: the movie the legend of lizzie borden (1975) and the mini-series holocaust (1978), for which he was nominated for a primetime emmy award. he was further known for his work in science fiction and fantasy, especially in television series and movies like the twilight zone, night gallery, the x-files, the martian chronicles and demon seed, and also narrated educational tv programs. DOCS doc1: among many television roles, he performed in the movie the legend of lizzie borden (1975). he also worked in science fiction and fantasy, especially in television series and movies like the twilight zone, way out, night gallery, the x-files, the martian chronicles, and demon seed. weaver also narrated educational tv programs. contents 1 early life doc2: he served in civilian public service as a conscientious objector during world war ii, breaking into acting in the early 1950s. he made his broadway debut in october 1955 in the chalk garden, which garnered five tony award nominations, including one for... see full bio » born: january 19, 1926 in pittsburgh, pennsylvania, usa died: doc3: way out is a 1961 american horror, fantasy, and science fiction television anthology series hosted by writer roald dahl.... doris roberts, and fritz weaver. roald dahl was initially hired to host the series for three consecutive episodes at a salary of $650 per episode. cbs contracted david susskind to produce a total of 26 half-hour episodes.\n",
      "\n",
      "Tgt query:\n",
      " comment: added tv show 'way out TEXT fritz william weaver (january 19, 1926  november 26, 2016) was an american actor in television, stage, and motion pictures. in cinema, he is best recognized from his debut film fail safe (1964), as well as marathon man (1976), creepshow (1982) and the thomas crown affair (1999). among many television roles, he performed in two seminal projects: the movie the legend of lizzie borden (1975) and the mini-series holocaust (1978), for which he was nominated for a primetime emmy award. he was further known for his work in science fiction and fantasy, especially in television series and movies like the twilight zone, 'way out, night gallery, the x-files, the martian chronicles and demon seed, and also narrated educational tv programs.\n",
      "\n",
      "\n",
      "----------------------------\t GENERATED\t ----------------------------\n",
      "\n",
      "0:\n",
      "comment: added tv show 'way out TEXT fritz william weaver (january 19, 1926  november 26, 2016) was an american actor in television, stage, and motion pictures. in cinema, he is best recognized from his debut film fail safe (1964), as well as marathon man (1976), creepshow (1982) and the thomas crown affair (1999). among many television roles, he performed in two seminal projects: the movie the legend of lizzie borden (1975) and the mini-series holocaust (1978), for which he was nominated for a primetime emmy award. he was further known for his work in science fiction and fantasy, especially in television series and movies like the twilight zone, 'way out, night gallery, the x-files, the martian chronicles and demon seed, and also narrated educational tv programs.\n",
      "\n",
      "1:\n",
      "comment: added tv show 'way out TEXT fritz william weaver (january 19, 1926  november 26, 2016) was an american actor in television, stage, and motion pictures. in cinema, he is best recognized from his debut film fail safe (1964), as well as marathon man (1976), creepshow (1982) and the thomas crown affair (1999). among many television roles, he performed in two seminal projects: the movie the legend of lizzie borden (1975) and the mini-series holocaust (1978), for which he was nominated for a primetime emmy award. he was further known for his work in science fiction and fantasy, particularly in television series and movies like the twilight zone, 'way out, night gallery, the x-files, the martian chronicles and demon seed, and also narrated educational tv programs.\n",
      "\n",
      "2:\n",
      "comment: add tv show 'way out TEXT fritz william weaver (january 19, 1926  november 26, 2016) was an american actor in television, stage, and motion pictures. in cinema, he is best recognized from his debut film fail safe (1964), as well as marathon man (1976), creepshow (1982) and the thomas crown affair (1999). among many television roles, he performed in two seminal projects: the movie the legend of lizzie borden (1975) and the mini-series holocaust (1978), for which he was nominated for a primetime emmy award. he was further known for his work in science fiction and fantasy, especially in television series and movies like the twilight zone, 'way out, night gallery, the x-files, the martian chronicles and demon seed, and also narrated educational tv programs.\n",
      "\n",
      "3:\n",
      "comment: added tv show 'way out TEXT fritz william weaver (january 19, 1926  november 26, 2016) was an american actor in television, stage, and motion pictures. in cinema, he is best recognized from his debut film fail safe (1964), as well as marathon man (1976), creepshow (1982) and the thomas crown affair (1999). among many television roles, he performed in two seminal projects: the movie the legend of lizzie borden (1975) and the mini-series holocaust (1978), for which he was nominated for a primetime emmy award. he was further known for his work in science fiction and fantasy, especially in television series and films like the twilight zone, 'way out, night gallery, the x-files, the martian chronicles and demon seed, and also narrated educational tv programs.\n",
      "\n",
      "4:\n",
      "comment: adding tv show 'way out TEXT fritz william weaver (january 19, 1926  november 26, 2016) was an american actor in television, stage, and motion pictures. in cinema, he is best recognized from his debut film fail safe (1964), as well as marathon man (1976), creepshow (1982) and the thomas crown affair (1999). among many television roles, he performed in two seminal projects: the movie the legend of lizzie borden (1975) and the mini-series holocaust (1978), for which he was nominated for a primetime emmy award. he was further known for his work in science fiction and fantasy, especially in television series and movies like the twilight zone, 'way out, night gallery, the x-files, the martian chronicles and demon seed, and also narrated educational tv programs.\n",
      "\n",
      "\n",
      "X_T:\n",
      "Fritz William Weaver (January 19, 1926 − November 26, 2016) was an American actor in television, stage, and motion pictures. In cinema, he is best recognized from his debut film Fail Safe (1964), as well as Marathon Man (1976), Creepshow (1982) and The Thomas Crown Affair (1999). Among many television roles, he performed in two seminal projects: the movie The Legend of Lizzie Borden (1975) and the mini-series Holocaust (1978), for which he was nominated for a Primetime Emmy Award. He was further known for his work in science fiction and fantasy, especially in television series and movies like The Twilight Zone, Night Gallery, The X-Files, The Martian Chronicles and Demon Seed, and also narrated educational TV programs.\n",
      "\n",
      "X_T+1:\n",
      "Fritz William Weaver (January 19, 1926 − November 26, 2016) was an American actor in television, stage, and motion pictures. In cinema, he is best recognized from his debut film Fail Safe (1964), as well as Marathon Man (1976), Creepshow (1982) and The Thomas Crown Affair (1999). Among many television roles, he performed in two seminal projects: the movie The Legend of Lizzie Borden (1975) and the mini-series Holocaust (1978), for which he was nominated for a Primetime Emmy Award. He was further known for his work in science fiction and fantasy, especially in television series and movies like The Twilight Zone, 'Way Out, Night Gallery, The X-Files, The Martian Chronicles and Demon Seed, and also narrated educational TV programs.\n",
      "\n",
      "diff:\n",
      "'Way Out, \n"
     ]
    },
    {
     "name": "stdout",
     "output_type": "stream",
     "text": [
      "\n",
      "\n",
      "----------------------------\t QUERY 2\t ----------------------------\n",
      "\n",
      "Src query:\n",
      " TEXT the blood orange is a variety of orange (citrus sinensis) with crimson, blood-colored flesh. the fruit is smaller than an average orange; its skin is usually pitted, but can be smooth. the juice is sweet but somewhat bitter and less acidic than regular table oranges.blood orange origin the distinctive dark flesh color is due to the presence of anthocyanin, a pigment common to many flowers and fruit, but uncommon in citrus fruits. sometimes there is dark coloring on the exterior of the rind as well, depending on the variety of blood orange. the degree of coloration depends on to light, temperature and variety. the blood orange is a hybrid of ancient origin, possibly between the pomelo and the tangerine. it probably originated in sicily. DOCS doc1: blood oranges are highly acidic, and regular consumption can cause problems for those with acid refluxdisease. this can lead to regurgitation or heartburn(x). blood orange extract dosage when used as a flavoring extract, it is best to mix 1 tsp (approximately 3 grams) into a beverage or use as needed for baking, cooking and desserts. doc2: the most popular table orange in italy, it is thought to have derived from a mutation of the sanguinello. it is referred to as half-blood, because the flesh is not accentuated in red pigmentation as much as with the moro and sanguinello varieties. it has thin orange skin, slightly blushed in red tones. doc3: blood oranges are a rather gruesome name for a wonderfully sweet and beautifully colored citrus fruit. they tend to be a bit smaller than other types of oranges, with a thick, pitted skin that may or may not have a reddish blush, but they look like regular oranges from the outside.\n",
      "\n",
      "Tgt query:\n",
      " comment: grammar. TEXT the blood orange is a variety of orange (citrus sinensis) with crimson, blood-colored flesh. the fruit is smaller than an average orange; its skin is usually pitted, but can be smooth. the juice is sweet but somewhat bitter and less acidic than that of regular table oranges.blood orange origin the distinctive dark flesh color is due to the presence of anthocyanin, a pigment common to many flowers and fruit, but uncommon in citrus fruits. sometimes there is dark coloring on the exterior of the rind as well, depending on the variety of blood orange. the degree of coloration depends on to light, temperature and variety. the blood orange is a hybrid of ancient origin, possibly between the pomelo and the tangerine. it probably originated in sicily.\n",
      "\n",
      "\n",
      "----------------------------\t GENERATED\t ----------------------------\n",
      "\n",
      "0:\n",
      "comment: grammar. TEXT the blood orange is a variety of orange (citrus sinensis) with crimson, blood-colored flesh. the fruit is smaller than an average orange; its skin is usually pitted, but can be smooth. the juice is sweet but somewhat bitter and less acidic than that of regular table oranges.blood orange origin the distinctive dark flesh color is due to the presence of anthocyanin, a pigment common to many flowers and fruit, but uncommon in citrus fruits. sometimes there is dark coloring on the exterior of the rind as well, depending on the variety of blood orange. the degree of coloration depends on to light, temperature and variety. the blood orange is a hybrid of ancient origin, possibly between the pomelo and the tangerine. it probably originated in sicily.\n",
      "\n",
      "1:\n",
      "comment: grammar. TEXT the blood orange is a variety of orange (citrus sinensis) with crimson, blood-colored flesh. the fruit is smaller than an average orange; its skin is normally pitted, but can be smooth. the juice is sweet but somewhat bitter and less acidic than that of regular table oranges.blood orange origin the distinctive dark flesh color is due to the presence of anthocyanin, a pigment common to many flowers and fruit, but uncommon in citrus fruits. sometimes there is dark coloring on the exterior of the rind as well, depending on the variety of blood orange. the degree of coloration depends on to light, temperature and variety. the blood orange is a hybrid of ancient origin, possibly between the pomelo and the tangerine. it probably originated in sicily.\n",
      "\n",
      "2:\n",
      "comment: grammar. grammar. TEXT the blood orange is a variety of orange (citrus sinensis) with crimson, blood-colored flesh. the fruit is smaller than an average orange; its skin is usually pitted, but can be smooth. the juice is sweet but somewhat bitter and less acidic than that of regular table oranges.blood orange origin the distinctive dark flesh color is due to the presence of anthocyanin, a pigment common to many flowers and fruit, but uncommon in citrus fruits. sometimes there is dark coloring on the exterior of the rind as well, depending on the variety of blood orange. the degree of coloration depends on to light, temperature and variety. the blood orange is a hybrid of ancient origin, possibly between the pomelo and the tangerine. it probably originated in sicily.\n",
      "\n",
      "3:\n",
      "comment: grammar TEXT the blood orange is a variety of orange (citrus sinensis) with crimson, blood-colored flesh. the fruit is smaller than an average orange; its skin is usually pitted, but can be smooth. the juice is sweet but somewhat bitter and less acidic than that of regular table oranges.blood orange origin the distinctive dark flesh color is due to the presence of anthocyanin, a pigment common to many flowers and fruit, but uncommon in citrus fruits. sometimes there is dark coloring on the exterior of the rind as well, depending on the variety of blood orange. the degree of coloration depends on to light, temperature and variety. the blood orange is a hybrid of ancient origin, possibly between the pomelo and the tangerine. it probably originated in sicily.\n",
      "\n",
      "4:\n",
      "comment: grammar. TEXT the blood orange is a variety of orange (citrus sinensis) with crimson, blood-colored flesh. the fruit is smaller than an average orange; its skin is usually pitted, but can be smooth. the juice is sweet but somewhat bitter and less acidic than that of regular table oranges.blood orange origin the distinctive dark flesh color is due to the presence of anthocyanin, a pigment common to many flowers and fruits, but uncommon in citrus fruits. sometimes there is dark coloring on the exterior of the rind as well, depending on the variety of blood orange. the degree of coloration depends on to light, temperature and variety. the blood orange is a hybrid of ancient origin, possibly between the pomelo and the tangerine. it probably originated in sicily.\n",
      "\n",
      "\n",
      "X_T:\n",
      "The blood orange is a variety of orange (Citrus sinensis) with crimson, blood-colored flesh. The fruit is smaller than an average orange; its skin is usually pitted, but can be smooth.  The juice is sweet but somewhat bitter and less acidic than regular table oranges.Blood Orange Origin  The distinctive dark flesh color is due to the presence of anthocyanin, a pigment common to many flowers and fruit, but uncommon in citrus fruits.  Sometimes there is dark coloring on the exterior of the rind as well, depending on the variety of blood orange.  The degree of coloration depends on to light, temperature and variety.\n",
      "\n",
      "The blood orange is a hybrid of ancient origin, possibly between the pomelo and the tangerine.  It probably originated in Sicily.\n",
      "\n",
      "X_T+1:\n",
      "The blood orange is a variety of orange (Citrus sinensis) with crimson, blood-colored flesh. The fruit is smaller than an average orange; its skin is usually pitted, but can be smooth.  The juice is sweet but somewhat bitter and less acidic than that of regular table oranges.Blood Orange Origin  The distinctive dark flesh color is due to the presence of anthocyanin, a pigment common to many flowers and fruit, but uncommon in citrus fruits.  Sometimes there is dark coloring on the exterior of the rind as well, depending on the variety of blood orange.  The degree of coloration depends on to light, temperature and variety.\n",
      "\n",
      "The blood orange is a hybrid of ancient origin, possibly between the pomelo and the tangerine.  It probably originated in Sicily.\n",
      "\n",
      "diff:\n",
      "that of regular table\n",
      "\n",
      "\n",
      "----------------------------\t QUERY 3\t ----------------------------\n",
      "\n",
      "Src query:\n",
      " TEXT i just reverted a vandalistic edit by an anon back to your edit. the words \"canada:lozl\" did not have a link. excuse me while i get over my weird dream of mariska hargitay last night, but i feel she should put the smackdown on the vandals who vandalized the current event which left one dead (i have gotta stop making law & order references when talking). --d.f. \"jun kazama master\" williams 16:09, 15 september 2006 (utc) DOCS doc1: a follow-up study conducted by the mcgill university health centre research institute found that 30% of dawson students at the time of the shooting suffered mental health consequences including post-traumatic stress disorder, major depression, alcohol dependence, and social phobia, a level twice that found in the general population. doc2: when a lone gunman killed 18-year-old anastasia de sousa and injured 19 others. the gunman started firing outside the school at 12:41 p.m. on sept. 13, 2006 before entering the atrium. i still... doc3: survivors and families of victims of the 2006 dawson college shooting in montreal are marking the 15th anniversary of the tragedy on monday by urging canadians to think twice before voting for the...\n",
      "\n",
      "Tgt query:\n",
      " comment: /* vandalism to [[dawson college shooting]] */ fixed sentence. [[mariska hargitay]] should put the smackdown on that last vandal in the dawson shooting. TEXT i just reverted a vandalistic edit by an anon back to your edit. the words \"canada:lozl\" did not have a link. excuse me while i get over my weird dream of mariska hargitay last night, but i feel she should put the smackdown on the vandals who vandalized the current event which left one dead (i have gotta stop making law & order references when talking to people about reverting vandalistic edits). --d.f. \"jun kazama master\" williams 16:09, 15 september 2006 (utc)\n",
      "\n",
      "\n",
      "----------------------------\t GENERATED\t ----------------------------\n",
      "\n",
      "0:\n",
      "comment: /* vandalism to [[dawson college shooting]] */ fixed sentence. [[mariska hargitay]] should put the smackdown on that last vandal in the dawson shooting. TEXT i just reverted a vandalistic edit by an anon back to your edit. the words \"canada:lozl\" did not have a link. excuse me while i get over my weird dream of mariska hargitay last night, but i feel she should put the smackdown on the vandals who vandalized the current event which left one dead (i have gotta stop making law & order references when talking to people about reverting vandalistic edits). --d.f. \"jun kazama master\" williams 16:09, 15 september 2006 (utc)\n",
      "\n",
      "1:\n",
      "comment: /* vandalism to [[dawson college shooting]] */ fixed sentence. [[mariska hargitay]] should put the smackdown on that last vandal in the dawson shooting. TEXT i just reverted a vandalistic edit by an anon back to your edit. the words \"canada:lozl\" did not have a link. excuse me while i get over my weird dream of mariska hargitay last night, but i feel she should put the smackdown on that last vandals who vandalized the current event which left one dead (i have gotta stop making law & order references when talking to people about reverting vandalistic edits). --d.f. \"jun kazama master\" williams 16:09, 15 september 2006 (utc)\n",
      "\n",
      "2:\n",
      "comment: /* vandalism to [[dawson college shooting]] */ fixed sentence. [[mariska hargitay]] should put the smackdown on that last vandal in the dawson shooting. [[mariska hargitay]] should put the smackdown on that last vandal in the dawson shooting. TEXT i just reverted a vandalistic edit by an anon back to your edit. the words \"canada:lozl\" did not have a link. excuse me while i get over my weird dream of mariska hargitay last night, but i feel she should put the smackdown on the vandals who vandalized the current event which left one dead (i have gotta stop making law & order references when talking to people about reverting vandalistic edits). --d.f. \"jun kazama master\" williams 16:09, 15 september 2006 (utc)\n",
      "\n",
      "3:\n",
      "comment: /* vandalism to [[dawson college shooting]] */ fixed sentence. [[mariska hargitay]] should put the smackdown on that last vandal in the dawson shooting. [[mariska hargitay]] should put the smackdown on that last vandal in the dawson shooting. TEXT i just reverted a vandalistic edit by an anon back to your edit. the words \"canada:lozl\" did not have a link. excuse me while i get over my weird dream of mariska hargitay last night, but i feel she should put the smackdown on that last vandal in the current event which left one dead (i have gotta stop making law & order references when talking to people about reverting vandalistic edits). --d.f. \"jun kazama master\" williams 16:09, 15 september 2006 (utc)\n",
      "\n",
      "4:\n",
      "comment: /* vandalism to [[dawson college shooting]] */ fixed sentence. [[mariska hargitay]] should put the smackdown on that last vandal in the dawson shooting. TEXT i just reverted a vandalistic edit by an anon back to your edit. the words \"canada:lozl\" did not have a link. excuse me while i get over my weird dream of mariska hargitay last night, but i feel she should put the smackdown on that last vandal in the general population). --d.f. \"jun kazama master\" williams 16:09, 15 september 2006 (utc)\n",
      "\n",
      "\n",
      "X_T:\n",
      "I just reverted a vandalistic edit by an anon back to your edit. The words \"Canada:lozl\" did NOT have a link. Excuse me while I get over my weird dream of Mariska Hargitay last night, but I feel she should put the smackdown on the vandals who vandalized the current event which left one dead (I have gotta stop making Law & Order references when talking).  --D.F. \"Jun Kazama Master\" Williams 16:09, 15 September 2006 (UTC)\n",
      "\n",
      "X_T+1:\n",
      "I just reverted a vandalistic edit by an anon back to your edit. The words \"Canada:lozl\" did NOT have a link. Excuse me while I get over my weird dream of Mariska Hargitay last night, but I feel she should put the smackdown on the vandals who vandalized the current event which left one dead (I have gotta stop making Law & Order references when talking to people about reverting vandalistic edits).  --D.F. \"Jun Kazama Master\" Williams 16:09, 15 September 2006 (UTC)\n",
      "\n",
      "diff:\n",
      " to people about reverting vandalistic edits\n"
     ]
    },
    {
     "name": "stdout",
     "output_type": "stream",
     "text": [
      "\n",
      "\n",
      "----------------------------\t QUERY 4\t ----------------------------\n",
      "\n",
      "Src query:\n",
      " TEXT apur sansar (, yr. the world of apu), also known as the world of apu, is the third and final part of the apu trilogy, about a boy named apu in early twentieth century bengal, directed by satyajit ray. released in 1959, the world of apu focuses on apu's adult life, and also introduces the actors soumitra chatterjee and sharmila tagore, who would go on to appear in many subsequent ray films. the film is based on the novel aparajito by bibhutibhushan bandopadhyay. the film won the national film award for best film and several international awards, including the sutherland award for best original and imaginative film and national board of review award for best foreign language film. it has frequently been listed among the greatest films of all time. DOCS doc1: the world of apu original title: apur sansar 1959 not rated 1 h 45 m imdb rating 8.5 /10 15k your rating rate play trailer 2:03 1 video 52 photos drama this final installment in satyajit rays apu trilogy follows apus life as an orphaned adult aspiring to be a writer. director satyajit ray writers doc2: the world of apu apur sansar ( bengali:   ), also known as the world of apu, is a 1959 indian bengali -language drama film produced, written and directed by satyajit ray. it is based on the second half of bibhutibhushan bandopadhyay s novel aparajito. doc3: sharmila tagore first appeared onscreen as the young wife in the third part of satyajit rays groundbreaking apu trilogy. in the world of apu, the title character is now an indigent would-be writer.when the bridegroom at a wedding he is attending suffers a prenuptial nervous breakdown, apu is persuaded to replace him in order to save the brides honor.\n",
      "\n",
      "Tgt query:\n",
      " comment: bengali film TEXT apur sansar (, yr. the world of apu), also known as the world of apu, is a bengali film directed by satyajit ray. it is the third and final part of the apu trilogy, about a boy named apu in early twentieth century bengal. released in 1959, the world of apu focuses on apu's adult life, and also introduces the actors soumitra chatterjee and sharmila tagore, who would go on to appear in many subsequent ray films. the film is based on the novel aparajito by bibhutibhushan bandopadhyay. the film won the national film award for best film and several international awards, including the sutherland award for best original and imaginative film and national board of review award for best foreign language film. it has frequently been listed among the greatest films of all time.\n",
      "\n",
      "\n",
      "----------------------------\t GENERATED\t ----------------------------\n",
      "\n",
      "0:\n",
      "comment: bengali film TEXT apur sansar (, yr. the world of apu), also known as the world of apu, is a bengali film directed by satyajit ray. it is the third and final part of the apu trilogy, about a boy named apu in early twentieth century bengal. released in 1959, the world of apu focuses on apu's adult life, and also introduces the actors soumitra chatterjee and sharmila tagore, who would go on to appear in many subsequent ray films. the film is based on the novel aparajito by bibhutibhushan bandopadhyay. the film won the national film award for best film and several international awards, including the sutherland award for best original and imaginative film and national board of review award for best foreign language film. it has frequently been listed among the greatest films of all time.\n",
      "\n",
      "1:\n",
      "comment: bengali film TEXT apur sansar (, yr. the world of apu), also known as the world of apu, is a bengali movie directed by satyajit ray. it is the third and final part of the apu trilogy, about a boy named apu in early twentieth century bengal. released in 1959, the world of apu focuses on apu's adult life, and also introduces the actors soumitra chatterjee and sharmila tagore, who would go on to appear in many subsequent ray films. the film is based on the novel aparajito by bibhutibhushan bandopadhyay. the film won the national film award for best film and several international awards, including the sutherland award for best original and imaginative film and national board of review award for best foreign language film. it has frequently been listed among the greatest films of all time.\n",
      "\n",
      "2:\n",
      "comment: bengali movie TEXT apur sansar (, yr. the world of apu), also known as the world of apu, is a bengali film directed by satyajit ray. it is the third and final part of the apu trilogy, about a boy named apu in early twentieth century bengal. released in 1959, the world of apu focuses on apu's adult life, and also introduces the actors soumitra chatterjee and sharmila tagore, who would go on to appear in many subsequent ray films. the film is based on the novel aparajito by bibhutibhushan bandopadhyay. the film won the national film award for best film and several international awards, including the sutherland award for best original and imaginative film and national board of review award for best foreign language film. it has frequently been listed among the greatest films of all time.\n",
      "\n",
      "3:\n",
      "comment: bengali film TEXT apur sansar (, yr. the world of apu), also known as the world of apu, is a bengali film directed by satyajit ray. the film is the third and final part of the apu trilogy, about a boy named apu in early twentieth century bengal. released in 1959, the world of apu focuses on apu's adult life, and also introduces the actors soumitra chatterjee and sharmila tagore, who would go on to appear in many subsequent ray films. the film is based on the novel aparajito by bibhutibhushan bandopadhyay. the film won the national film award for best film and several international awards, including the sutherland award for best original and imaginative film and national board of review award for best foreign language film. it has frequently been listed among the greatest films of all time.\n",
      "\n",
      "4:\n",
      "comment: bengali film TEXT apur sansar (, yr. the world of apu), also known as the world of apu, is a bengali film directed by satyajit ray. it is the third and final part of the apu trilogy, about a boy named apu in early twentieth century bengal. released in 1959, the world of apu focuses on apu's adult life, and also introduces the actors soumitra chatterjee and sharmila tagore, who would go on to appear in many subsequent ray films. the film is based on the novel aparajito by bibhutibhushan bandopadhyay. the film won the national film award for best film and several international awards, including the sutherland award for best original and imaginative film and national board of review award for best foreign language film. it has frequently been listed among greatest films of all time.\n",
      "\n",
      "\n",
      "X_T:\n",
      "Apur Sansar (, yr. The World of Apu), also known as The World of Apu, is the third and final part of The Apu Trilogy, about a boy named Apu in early twentieth century Bengal, directed by Satyajit Ray.\n",
      "\n",
      "Released in 1959, The World of Apu focuses on Apu's adult life, and also introduces the actors Soumitra Chatterjee and Sharmila Tagore, who would go on to appear in many subsequent Ray films. The film is based on the novel Aparajito by Bibhutibhushan Bandopadhyay. The film won the National Film Award for Best Film and several international awards, including the Sutherland Award for Best Original And Imaginative Film and National Board of Review Award for Best Foreign Language Film. It has frequently been listed among the greatest films of all time.\n",
      "\n",
      "X_T+1:\n",
      "Apur Sansar (, yr. The World of Apu), also known as The World of Apu, is a Bengali film directed by Satyajit Ray. It is the third and final part of The Apu Trilogy, about a boy named Apu in early twentieth century Bengal.\n",
      "\n",
      "Released in 1959, The World of Apu focuses on Apu's adult life, and also introduces the actors Soumitra Chatterjee and Sharmila Tagore, who would go on to appear in many subsequent Ray films. The film is based on the novel Aparajito by Bibhutibhushan Bandopadhyay. The film won the National Film Award for Best Film and several international awards, including the Sutherland Award for Best Original And Imaginative Film and National Board of Review Award for Best Foreign Language Film. It has frequently been listed among the greatest films of all time.\n",
      "\n",
      "diff:\n",
      "a Bengali film directed by Satyajit Ray. It is the third and final part of\n"
     ]
    }
   ],
   "source": [
    "device = runner.engine.device\n",
    "runner.model.eval()\n",
    "with torch.no_grad():\n",
    "    for i in [0, 1, 2, 3, 4]:\n",
    "        src_, tgt_ = ds_edit[i]\n",
    "        src_inp = torch.tensor(src_['input_ids']).view(1,-1).to(runner.engine.device)\n",
    "        generated = runner.model.pretrained.generate(src_inp,\n",
    "                                              attention_mask=(src_inp != 0).float().to(runner.engine.device),\n",
    "                                            # pad_token_id=tokenizer.pad_token_id,\n",
    "                                            # bos_token_id=tokenizer.bos_token_id,\n",
    "                                            # eos_token_id=tokenizer.eos_token_id,\n",
    "                                              num_beams=CONFIG.beam_size,\n",
    "                                              num_return_sequences=CONFIG.beam_size,\n",
    "                                              max_length=1000\n",
    "        )\n",
    "        src_text = tokenizer.decode(src_['input_ids'], skip_special_tokens=True)\n",
    "        tgt_text = tokenizer.decode(tgt_['input_ids'], skip_special_tokens=True)\n",
    "        print(f'\\n\\n----------------------------\\t QUERY {i}\\t ----------------------------\\n')\n",
    "        print(f'Src query:\\n {src_text}')\n",
    "        print(f'\\nTgt query:\\n {tgt_text}')\n",
    "        \n",
    "        print(f'\\n\\n----------------------------\\t GENERATED\\t ----------------------------\\n')\n",
    "\n",
    "        for j in range(CONFIG.beam_size):\n",
    "            to_gen = generated[j]\n",
    "            gen_text = tokenizer.decode(to_gen, skip_special_tokens=True)\n",
    "            print(f'{j}:\\n{gen_text}\\n')\n",
    "        \n",
    "        src_text = df.iloc[i]['old_text']\n",
    "        tgt_text = df.iloc[i]['new_text']\n",
    "        diff_text = df.iloc[i]['diff']\n",
    "        print(f'\\nX_T:\\n{src_text}')\n",
    "        print(f'\\nX_T+1:\\n{tgt_text}')\n",
    "        print(f'\\ndiff:\\n{diff_text}')"
   ]
  },
  {
   "cell_type": "code",
   "execution_count": null,
   "metadata": {},
   "outputs": [],
   "source": []
  }
 ],
 "metadata": {
  "kernelspec": {
   "display_name": "Python 3",
   "language": "python",
   "name": "python3"
  },
  "language_info": {
   "codemirror_mode": {
    "name": "ipython",
    "version": 3
   },
   "file_extension": ".py",
   "mimetype": "text/x-python",
   "name": "python",
   "nbconvert_exporter": "python",
   "pygments_lexer": "ipython3",
   "version": "3.7.7"
  }
 },
 "nbformat": 4,
 "nbformat_minor": 4
}
