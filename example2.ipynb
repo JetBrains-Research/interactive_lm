{
 "cells": [
  {
   "cell_type": "code",
   "execution_count": 1,
   "metadata": {
    "scrolled": true
   },
   "outputs": [],
   "source": [
    "from wikiparser_utils import WikiXMLDump, WikiPage\n",
    "import os\n",
    "import nltk\n",
    "import numpy as np\n",
    "from difflib import Differ \n",
    "from utils.difflibparser import DifflibParser, DiffCode"
   ]
  },
  {
   "cell_type": "code",
   "execution_count": 2,
   "metadata": {},
   "outputs": [],
   "source": [
    "dump = WikiXMLDump('data/history.xml')"
   ]
  },
  {
   "cell_type": "code",
   "execution_count": 3,
   "metadata": {},
   "outputs": [],
   "source": [
    "#dump.get_save_on_disk('data/pages')"
   ]
  },
  {
   "cell_type": "code",
   "execution_count": 4,
   "metadata": {},
   "outputs": [
    {
     "name": "stderr",
     "output_type": "stream",
     "text": [
      " 13%|█▎        | 121/925 [00:10<00:53, 14.90it/s]"
     ]
    },
    {
     "name": "stdout",
     "output_type": "stream",
     "text": [
      "Anthony Laffranchi_2934955\n"
     ]
    },
    {
     "name": "stderr",
     "output_type": "stream",
     "text": [
      " 19%|█▉        | 180/925 [00:11<00:17, 43.70it/s]"
     ]
    },
    {
     "name": "stdout",
     "output_type": "stream",
     "text": [
      "Ben Galea_2935226\n"
     ]
    },
    {
     "name": "stderr",
     "output_type": "stream",
     "text": [
      " 31%|███       | 286/925 [00:24<01:05,  9.72it/s]"
     ]
    },
    {
     "name": "stdout",
     "output_type": "stream",
     "text": [
      "Daniel Weiss art historian_2935340\n",
      "Darkwood Dub_2935508\n"
     ]
    },
    {
     "name": "stderr",
     "output_type": "stream",
     "text": [
      " 36%|███▌      | 330/925 [00:33<01:23,  7.14it/s]"
     ]
    },
    {
     "name": "stdout",
     "output_type": "stream",
     "text": [
      "Energy industry_2935251\n"
     ]
    },
    {
     "name": "stderr",
     "output_type": "stream",
     "text": [
      " 42%|████▏     | 387/925 [00:34<00:13, 41.28it/s]"
     ]
    },
    {
     "name": "stdout",
     "output_type": "stream",
     "text": [
      "Gilles De Bilde_2935331\n"
     ]
    },
    {
     "name": "stderr",
     "output_type": "stream",
     "text": [
      " 51%|█████▏    | 476/925 [00:40<00:30, 14.51it/s]"
     ]
    },
    {
     "name": "stdout",
     "output_type": "stream",
     "text": [
      "Kirup Western Australia_2935236\n"
     ]
    },
    {
     "name": "stderr",
     "output_type": "stream",
     "text": [
      " 60%|█████▉    | 551/925 [00:58<00:31, 11.81it/s]"
     ]
    },
    {
     "name": "stdout",
     "output_type": "stream",
     "text": [
      "Mark ONeill rugby league_2934838\n"
     ]
    },
    {
     "name": "stderr",
     "output_type": "stream",
     "text": [
      " 61%|██████▏   | 568/925 [00:58<00:16, 21.70it/s]"
     ]
    },
    {
     "name": "stdout",
     "output_type": "stream",
     "text": [
      "Medal of Valor Israel_2934862\n"
     ]
    },
    {
     "name": "stderr",
     "output_type": "stream",
     "text": [
      " 67%|██████▋   | 623/925 [01:03<00:20, 14.75it/s]"
     ]
    },
    {
     "name": "stdout",
     "output_type": "stream",
     "text": [
      "Openwave_2935786\n"
     ]
    },
    {
     "name": "stderr",
     "output_type": "stream",
     "text": [
      " 70%|███████   | 650/925 [01:06<00:21, 13.08it/s]"
     ]
    },
    {
     "name": "stdout",
     "output_type": "stream",
     "text": [
      "Philippe Albert_2935301\n"
     ]
    },
    {
     "name": "stderr",
     "output_type": "stream",
     "text": [
      "100%|██████████| 925/925 [01:44<00:00,  8.81it/s]\n"
     ]
    }
   ],
   "source": [
    "from tqdm import tqdm\n",
    "\n",
    "counter1 = 0\n",
    "counter3 = 0\n",
    "counter5 = 0\n",
    "counter10 = 0\n",
    "dirs = sorted(os.listdir('data/pages'))\n",
    "for dir_ in tqdm(dirs):\n",
    "    page_revisions = WikiPage().load_revisions(f\"data/pages/{dir_}\")\n",
    "    if len(page_revisions) > 1:\n",
    "        counter1 += 1\n",
    "    if len(page_revisions) > 3:\n",
    "        counter3 += 1\n",
    "    if len(page_revisions) > 5:\n",
    "        counter5 += 1\n",
    "    if len(page_revisions) > 10:\n",
    "        if not counter10:\n",
    "            pass\n",
    "            #print(dir_)\n",
    "        counter10 += 1\n",
    "    if True and len(page_revisions) > 30 and len(page_revisions) < 300:\n",
    "        rev_list = sorted(list(page_revisions))\n",
    "        if len(page_revisions[rev_list[-1]].get_links()[0]) > 10:\n",
    "            print(dir_)\n",
    "        "
   ]
  },
  {
   "cell_type": "code",
   "execution_count": 5,
   "metadata": {},
   "outputs": [
    {
     "data": {
      "text/plain": [
       "(837, 679, 606, 521)"
      ]
     },
     "execution_count": 5,
     "metadata": {},
     "output_type": "execute_result"
    }
   ],
   "source": [
    "counter1, counter3, counter5, counter10"
   ]
  },
  {
   "cell_type": "code",
   "execution_count": 6,
   "metadata": {},
   "outputs": [],
   "source": [
    "page_revisions = WikiPage().load_revisions(f\"data/pages/New Balance_2935379\")\n",
    "rev_list = list(page_revisions)"
   ]
  },
  {
   "cell_type": "code",
   "execution_count": 7,
   "metadata": {
    "scrolled": true
   },
   "outputs": [
    {
     "data": {
      "text/plain": [
       "([1109774145, 1111429991, 1111497925, 1111954890, 1112319310], 1509)"
      ]
     },
     "execution_count": 7,
     "metadata": {},
     "output_type": "execute_result"
    }
   ],
   "source": [
    "rev_list[-5:], len(rev_list)"
   ]
  },
  {
   "cell_type": "code",
   "execution_count": 21,
   "metadata": {
    "scrolled": false
   },
   "outputs": [],
   "source": [
    "last_revision = page_revisions[rev_list[-50]]\n",
    "prelast_revision = page_revisions[rev_list[-100]]\n",
    "lr_links, _ = last_revision.get_links()\n",
    "plr_links, _ = prelast_revision.get_links()"
   ]
  },
  {
   "cell_type": "code",
   "execution_count": 22,
   "metadata": {},
   "outputs": [],
   "source": [
    "def links_diff(links_old, links_new):\n",
    "    set_old = set(links_old)\n",
    "    set_new = set(links_new)\n",
    "    set_diff = set_new - set_old\n",
    "    return list(set_diff)"
   ]
  },
  {
   "cell_type": "code",
   "execution_count": 23,
   "metadata": {},
   "outputs": [
    {
     "data": {
      "text/plain": [
       "[('Rockport is a Massachusetts shoe company again',\n",
       "  'http://www.bizjournals.com/boston/news/2015/08/03/rockport-is-a-massachusetts-shoe-company-again.html'),\n",
       " ('The Trump-Era Corporate Boycott',\n",
       "  'http://www.newyorker.com/magazine/2017/01/09/the-trump-era-corporate-boycott'),\n",
       " ('Berkshire Partners and New Balance to Acquire The Rockport Company',\n",
       "  'https://www.businesswire.com/news/home/20150123005093/en/Berkshire-Partners-and-New-Balance-to-Acquire-The-Rockport-Company'),\n",
       " (\"Fast times for New Balance: New Methuen plant to employ 200 by year's end on strong demand - The Boston Globe \",\n",
       "  'https://www.bostonglobe.com/2022/03/28/business/fast-times-new-balance-new-methuen-plant-employ-200-by-years-end-strong-demand/'),\n",
       " (\"2 LI shoe stores close in parent's bankruptcy}}</ref>\",\n",
       "  'https://www.newsday.com/business/rockport-tanger-roosevelt-field-1.20152428'),\n",
       " ('Jack Harlow Signs with New Balance ',\n",
       "  'https://www.sneakerfreaker.com/news/jack-harlow-new-balance-sneaker-deal'),\n",
       " ('Shoemaker Rockport files for bankruptcy protection ',\n",
       "  'https://www.bostonglobe.com/business/2018/05/14/shoemaker-rockport-files-for-bankruptcy-protection/LDdWUokwMJ9YS3TvWHLj2J/story.html'),\n",
       " ('Can Cobb Hill, Aravon, And Dunham Products Still Be Purchased? ',\n",
       "  'https://support.newbalance.com/hc/en-us/articles/224557808-Can-Cobb-Hill-Aravon-And-Dunham-Products-Still-Be-Purchased-')]"
      ]
     },
     "execution_count": 23,
     "metadata": {},
     "output_type": "execute_result"
    }
   ],
   "source": [
    "links_diff(plr_links, lr_links)"
   ]
  },
  {
   "cell_type": "code",
   "execution_count": 24,
   "metadata": {},
   "outputs": [],
   "source": [
    "def text_diff(old_rev, new_rev):\n",
    "    old_sec, _ = old_rev.get_clean_sections()\n",
    "    new_sec, _ = new_rev.get_clean_sections()\n",
    "    set_old = set(old_sec)\n",
    "    set_new = set(new_sec)\n",
    "    set_diff = set_new - set_old\n",
    "    return list(set_diff)"
   ]
  },
  {
   "cell_type": "code",
   "execution_count": 25,
   "metadata": {},
   "outputs": [
    {
     "name": "stdout",
     "output_type": "stream",
     "text": [
      "16 \n",
      "\n",
      "\n",
      "\n",
      "(' Players ', '== Players ==\\n*  Claudinho\\n*  Bukayo Saka\\n*   Eberechi Eze\\n*  Harvey Elliott\\n*  Raheem Sterling\\n*  Rose Lavelle\\n*  Sadio Mane\\n*  Toni Martinez\\n*  Yeferson Soteldo\\n\\n')\n"
     ]
    }
   ],
   "source": [
    "td = text_diff(prelast_revision, last_revision)\n",
    "print(len(td), '\\n\\n')\n",
    "print(td[0])"
   ]
  },
  {
   "cell_type": "code",
   "execution_count": 27,
   "metadata": {
    "scrolled": false
   },
   "outputs": [],
   "source": [
    "old_text = prelast_revision.get_plain_text()\n",
    "new_text = last_revision.get_plain_text()\n",
    "sent_text_old = nltk.sent_tokenize(old_text)\n",
    "sent_text_new = nltk.sent_tokenize(new_text)\n",
    "\n",
    "d = Differ()\n",
    "result = list(d.compare(sent_text_old, sent_text_new))\n",
    "\n",
    "if False:\n",
    "    for line in result: \n",
    "        if '+' == line[0]:\n",
    "            print(line)\n",
    "\n",
    "    for line in result: \n",
    "        if '-' == line[0]:\n",
    "            print(line)"
   ]
  },
  {
   "cell_type": "code",
   "execution_count": 28,
   "metadata": {},
   "outputs": [],
   "source": [
    "def text_diff_diff(old_rev, new_rev, sentence_tokenizer=nltk.sent_tokenize, epsilon=2, beta=2*2):\n",
    "    d = Differ()\n",
    "    old_text = old_rev.get_plain_text()\n",
    "    new_text = new_rev.get_plain_text()\n",
    "    \n",
    "    sent_text_old = sentence_tokenizer(old_text)\n",
    "    sent_text_new = sentence_tokenizer(new_text)\n",
    "    \n",
    "    old_sents = []\n",
    "    for i in range(epsilon, len(sent_text_old) - epsilon):\n",
    "        old_sents.append(' '.join(sent_text_old[(i-epsilon):(i+epsilon+1)]))\n",
    "    if not old_sents:\n",
    "        old_sents = [' '.join(sent_text_old)]\n",
    "        \n",
    "    new_sents = []\n",
    "    for i in range(epsilon, len(sent_text_new) - epsilon):\n",
    "        new_sents.append(' '.join(sent_text_new[(i-epsilon):(i+epsilon+1)]))\n",
    "    if not new_sents:\n",
    "        new_sents = [' '.join(sent_text_new)]\n",
    "        \n",
    "    \n",
    "    result = []\n",
    "    dif_result = list(DifflibParser(old_sents, new_sents))\n",
    "    old_text, new_text, last_diff_id = [], [], -1000\n",
    "    for dif_id, dif_line in enumerate(dif_result):\n",
    "        if dif_line['code'] != DiffCode.SIMILAR:\n",
    "            if np.abs(dif_id - last_diff_id) > beta:\n",
    "                result.append(dif_line)  \n",
    "                last_diff_id = dif_id\n",
    "    return result"
   ]
  },
  {
   "cell_type": "code",
   "execution_count": 42,
   "metadata": {},
   "outputs": [],
   "source": [
    "def get_changes(diffs):\n",
    "    all_changes = {}\n",
    "    for diff_id, diff_obj in enumerate(diffs):\n",
    "        if diff_obj['code'] == DiffCode.RIGHTONLY:\n",
    "            all_changes[diff_id] = ([diff_obj['line']], 'r')\n",
    "        elif diff_obj['code'] == DiffCode.LEFTONLY:\n",
    "            all_changes[diff_id] = ([diff_obj['line']], 'l')\n",
    "        elif diff_obj['code'] == DiffCode.CHANGED:\n",
    "            r_change = diff_obj['rightchanges']\n",
    "            cur_ch = -10\n",
    "            prev_ch = -10\n",
    "            all_r_changes = []\n",
    "            for ch in r_change:\n",
    "                if prev_ch < 0:\n",
    "                    prev_ch = ch\n",
    "                    cur_ch = ch\n",
    "                if np.abs(ch - cur_ch) > 1:\n",
    "                    new_change = diff_obj['newline'][prev_ch:cur_ch+1]\n",
    "                    all_r_changes.append(new_change)\n",
    "                    prev_ch = ch\n",
    "                cur_ch = ch\n",
    "            new_change = diff_obj['newline'][prev_ch:cur_ch+1]\n",
    "            all_r_changes.append(new_change)\n",
    "            all_changes[diff_id] = (all_r_changes, 'c')\n",
    "    return all_changes"
   ]
  },
  {
   "cell_type": "code",
   "execution_count": 49,
   "metadata": {
    "scrolled": false
   },
   "outputs": [
    {
     "name": "stdout",
     "output_type": "stream",
     "text": [
      "Total num of diffs: 14 \n",
      "\n",
      "Key 0_c:\n",
      " that includes brands Aravon, Dunham, and New Balance\n",
      "\n",
      "\n",
      "Key 1_c:\n",
      "Billion Dollars in\n",
      "0 and are made up of\n",
      "\n",
      "\n",
      "Key 2_c:\n",
      " February\n",
      "5\n",
      "the company announced its entry into the global soccer (association football) mar\n",
      "et\n",
      "\n",
      "\n",
      "Key 3_l:\n",
      "DeMartini's background includes Procter & Gamble and Gillette Shave Company. Today, 30 percent of the New Balance shoes sold in the European market are manufactured at the New Balance facility in Flimby, England. In 2011 New Balance placed its Aravon, Cobb Hill, and Dunham brands under its Drydock Footwear affiliate. In 2015, New Balance's parent, together with Berkshire Partners, bought the  Rockport shoe company from the Adidas Group and combined it with Drydock Footwear under the name The Rockport Group, now with the Aravon, Cobb Hill, Dunham, and Rockport brands. In 2018, The Rockport Group went into bankruptcy and was sold.\n",
      "\n",
      "\n",
      "Key 4_c:\n",
      "the company announced its entry into the global soccer (association football) market. \n",
      "had started its soccer business through its subsidiary\n",
      "\n",
      "\n",
      "Key 5_c:\n",
      "==Operations==\n",
      "New Balance maintains a manufacturing presence in the United States, as well as in the United Kingdom for the European market, where they produce some of their most popular models such as the 99\n",
      " model—in contrast to its competitors\n",
      "which often manufacture exclusively outside the United \n",
      "tes and Europe\n",
      "\n",
      "\n",
      "Key 6_c:\n",
      "The company's brand ambassadors include Boston Red Sox Shortstop Xander Bogaerts, entertainer Jaden Smith and US Olympic sprinter Sydney McLaughlin. \n",
      "July\n",
      "1\n",
      "it was announced that South Korean superstar IU will be partne\n",
      "with \n",
      "ew \n",
      "alance as a brand ambassador for its \"\n",
      " Got\n",
      "ow\" campa\n",
      "\n",
      "\n",
      "Key 7_c:\n",
      "Oceania ==\n",
      "\n",
      "*  Brisbane Roar\n",
      "*  Campbelltown City SC\n",
      "*  North \n",
      "astern MetroStars SC\n",
      "*  West Adelaide SC\n",
      "\n",
      "== Europe ==\n",
      "*\n",
      "FC \n",
      "Atlético Junior\n",
      "* \n",
      "\n",
      "\n",
      "Key 8_r:\n",
      "== Players ==\n",
      "*  Sadio Mane\n",
      "*  Rose Lavelle\n",
      "*  Toni Martinez\n",
      "*  Harvey Elliott\n",
      "*   Eberechi Eze\n",
      "*  Raheem Sterling\n",
      "*  Bukayo Saka\n",
      "*  Yeferson Soteldo\n",
      "\n",
      "== Athletics ==\n",
      "From 2013, New Balance has considerably increased the number of athletes it sponsors. Noticeable athletes signed by the company include Olympian Stephanie Twell and since 2015, they have sponsored the young rising star Trayvon Bromell. New Balance also sponsors athletics teams such as New Zealand and the Antigua and Barbuda national team. *  Harry Aikines-Aryeetey\n",
      "*  Michel Butter\n",
      "*  Trayvon Bromell \n",
      "*  Lisanne de Witte\n",
      "*  Richard Douma\n",
      "*  Sydney McLaughlin\n",
      "*  Jenny Simpson\n",
      "*  Emma Coburn\n",
      "\n",
      "==Australian rules football==\n",
      "*  Gold Coast Suns\n",
      "*  Melbourne Football Club\n",
      "*  St Kilda Football Club\n",
      "*  West Adelaide Football Club\n",
      "*  Central District Football Club\n",
      "*  Casey Demons\n",
      "*  Southern Saints\n",
      "*  Sandringham Football Club\n",
      "*  Frankston Football Club\n",
      "\n",
      "==Baseball club teams==\n",
      "*  kt wiz\n",
      "*  Perth Heat\n",
      "\n",
      "==Basketball==\n",
      "The company previously partnered with Matt Bonner of the National Basketball Association (NBA)'s San Antonio Spurs, providing him with shoes over a period of several years. James Worthy from the Los Angeles Lakers also used New Balance shoes.\n",
      "\n",
      "\n",
      "Key 9_l:\n",
      "== Players ==\n",
      "*  Claudinho\n",
      "*  Bukayo Saka\n",
      "*   Eberechi Eze\n",
      "*  Harvey Elliott\n",
      "*  Raheem Sterling\n",
      "*  Rose Lavelle\n",
      "*  Sadio Mane\n",
      "*  Toni Martinez\n",
      "*  Yeferson Soteldo\n",
      "\n",
      "== Athletics ==\n",
      "From 2013, New Balance has considerably increased the number of athletes it sponsors. Noticeable athletes signed by the company include Sydney McLaughlin and since 2015, they have sponsored the young rising star Trayvon Bromell. New Balance also sponsors athletics teams such as New Zealand and the Antigua and Barbuda national team. *  Rose Davies\n",
      "*  Nana Owusu-Afriyie\n",
      "*  Celeste Mucci\n",
      "*  Harry Aikines-Aryeetey\n",
      "*  Callum Hawkins\n",
      "*  Zoe Hobbs\n",
      "*  Trayvon Bromell \n",
      "*  Lisanne de Witte\n",
      "*  Richard Douma\n",
      "*  Sydney McLaughlin\n",
      "*  Jenny Simpson\n",
      "*  Emma Coburn\n",
      "\n",
      "==Australian rules football==\n",
      "Since 2011, New Balance have supplied the official uniforms of the Melbourne Football Club in the AFL, the top league of Australian rules football. The company's other official involvement in the game has also included supplying uniforms for both the St Kilda Football Club and Gold Coast Suns since 2021 while providing supplies for lower level competitions including the VFL and SANFL.\n",
      "\n",
      "\n",
      "Key 10_l:\n",
      "*  Melbourne Football Club\n",
      "*  St Kilda Football Club\n",
      "*  Gold Coast Suns\n",
      "*  Casey Demons\n",
      "*  Sandringham Football Club\n",
      "*  Southern Saints\n",
      "*  Frankston Football Club\n",
      "*  Central District Football Club\n",
      "*  West Adelaide Football Club\n",
      "\n",
      "==Baseball club teams==\n",
      "*  kt wiz\n",
      "*  Perth Heat\n",
      "\n",
      "==Basketball==\n",
      "The company previously partnered with Matt Bonner of the National Basketball Association (NBA)'s San Antonio Spurs, providing him with shoes over a period of several years. James Worthy from the Los Angeles Lakers also used New Balance shoes. During the 2010–11 NBA season, Bonner was sent a prototype for a signature shoe that he was developing with the brand, but the shoes fell apart at the beginning of the game that he first wore them in. After Bonner was informed that the prototype shoes were not meant to be worn, a representative informed him that New Balance was ceasing its sponsorship of basketball. In 2018, New Balance signed then Toronto Raptors small forward, Kawhi Leonard.\n",
      "\n",
      "\n",
      "Key 11_l:\n",
      ";Sponsorship\n",
      "* Kawhi Leonard\n",
      "* Dejounte Murray\n",
      "* Jamal Murray\n",
      "* Darius Bazley\n",
      ";Formerly\n",
      "*Matt Bonner\n",
      "*James Worthy\n",
      "\n",
      "==Cricket==\n",
      "From 2017, New Balance signed a deal with the England & Wales Cricket Board, to become kit supplier to the England teams. New Balance also sponsors the following international cricketers. ==Cricket Domestic and Local Teams==\n",
      "\n",
      "*  ACT Meteors\n",
      "*  Melbourne Cricket Club\n",
      "*  NSW Blues\n",
      "*  NSW Breakers\n",
      "*  Queensland Bulls\n",
      "*  Queensland Fire\n",
      "*  South Australian Redbacks\n",
      "*  South Australian Scorpions\n",
      "*  Tasmanian Tigers\n",
      "*  Victoria\n",
      "*  Western Australia\n",
      "*  Birmingham Phoenix\n",
      "*  Gloucestershire\n",
      "*  Hampshire\n",
      "*  London Spirit\n",
      "*  Manchester Originals\n",
      "*  Northern Superchargers\n",
      "*  Southern Brave\n",
      "*  Southern Vipers\n",
      "*  Trent Rockets\n",
      "*  Welsh Fire\n",
      "\n",
      "\n",
      "==Cricket Players==\n",
      "\n",
      "*  Pat Cummins\n",
      "*  Steve Smith\n",
      "*  Matthew Wade\n",
      "*  Meg Lanning\n",
      "*  Sophie Molineux\n",
      "*  Joe Root\n",
      "*  Jason Roy\n",
      "*  Liam Plunkett\n",
      "*  Mark Wood\n",
      "*  Danni Wyatt\n",
      "*  Charlotte Edwards\n",
      "*  James Anderson\n",
      "*  Jos Buttler\n",
      "*  Babar Hayat\n",
      "*  Nizakat Khan\n",
      "*  Tanwir Afzal\n",
      "*  Anshuman Rath\n",
      "*  Taniya Bhatia\n",
      "*  Mitchell Santner\n",
      "*  Ish Sodhi\n",
      "*  Trent Boult\n",
      "*  Glenn Phillips\n",
      "*  Grant Elliott\n",
      "*  Mitchell McClenaghan\n",
      "*  Suzie Bates\n",
      "*  Dale Steyn\n",
      "*  Temba Bavuma\n",
      "*  Wiaan Mulder\n",
      "\n",
      "\n",
      "==Cycling==\n",
      "\n",
      "\n",
      "Following the official launch in July 2011, New Balance was the primary sponsor of Boston's bike share system, the New Balance Hubway. New Balance began a partnership with American professional cycling team  in 2011, providing the team kits as well as their \"exclusive off bike athletic footwear\" sponsor. ==Lacrosse==\n",
      "After its merger in 2004 with Warrior Sports New Balance began to produce lacrosse products, which then leads to sponsorships of players.\n",
      "\n",
      "\n",
      "Key 12_r:\n",
      ";Sponsorship\n",
      "* Kawhi Leonard\n",
      "* Dejounte Murray\n",
      "* Jamal Murray\n",
      "* Darius Bazley\n",
      ";Formerly\n",
      "*Matt Bonner\n",
      "*James Worthy\n",
      "\n",
      "==Cricket==\n",
      "From 2017, New Balance signed a deal with the England & Wales Cricket Board, to become kit supplier to the England teams. New Balance also sponsors the following international cricketers. ==Cricket Domestic and Local Teams==\n",
      "*  Hampshire\n",
      "*  Manchester Originals\n",
      "*  Northern Superchargers\n",
      "*  Birmingham Phoenix\n",
      "*  Trent Rockets\n",
      "*  London Spirit\n",
      "*  Southern Brave\n",
      "*  Welsh Fire\n",
      "*  Western Australia\n",
      "*  Victoria\n",
      "*  Tasmania Tigers\n",
      "*  SA Redbacks & SA Scorpions\n",
      "*  Queensland Bulls & Queensland Fire\n",
      "*  NSW Blues & NSW Breakers\n",
      "*  ACT Meteors\n",
      "*  Melbourne Cricket Club\n",
      "\n",
      "==Cricket Players==\n",
      "\n",
      "*  Pat Cummins\n",
      "*  Steve Smith\n",
      "*  Matthew Wade\n",
      "*  Meg Lanning\n",
      "*  Sophie Molineux\n",
      "*  Joe Root\n",
      "*  Jason Roy\n",
      "*  Liam Plunkett\n",
      "*  Mark Wood\n",
      "*  Danni Wyatt\n",
      "*  Charlotte Edwards\n",
      "*  James Anderson\n",
      "*  Jos Buttler\n",
      "*  Babar Hayat\n",
      "*  Nizakat Khan\n",
      "*  Tanwir Afzal\n",
      "*  Anshuman Rath\n",
      "*  Taniya Bhatia\n",
      "*  Mitchell Santner\n",
      "*  Ish Sodhi\n",
      "*  Trent Boult\n",
      "*  Glenn Phillips\n",
      "*  Grant Elliott\n",
      "*  Mitchell McClenaghan\n",
      "*  Suzie Bates\n",
      "*  Dale Steyn\n",
      "*  Temba Bavuma\n",
      "*  Wiaan Mulder\n",
      "\n",
      "\n",
      "Formerly\n",
      "\n",
      "==Cricket National Teams==\n",
      "*  England\n",
      "*  South Africa\n",
      "\n",
      "==Cycling==\n",
      "\n",
      "\n",
      "Following the official launch in July 2011, New Balance was the primary sponsor of Boston's bike share system, the New Balance Hubway. New Balance began a partnership with American professional cycling team  in 2011, providing the team kits as well as their \"exclusive off bike athletic footwear\" sponsor. ==Lacrosse==\n",
      "After its merger in 2004 with Warrior Sports New Balance began to produce lacrosse products, which then leads to sponsorships of players.\n",
      "\n",
      "\n",
      "Key 13_c:\n",
      "  Trevor Baptiste\n",
      "*\n",
      "Sunshine Coast Lightning\n",
      "*  West Coast Fever\n",
      "\n",
      "==Rugby League==\n",
      "*  Josh Papalii\n",
      "* \n",
      "ean\n",
      "hare\n",
      "\n",
      "==Rugby Union==\n",
      "* \n",
      "ijian\n",
      "rua\n",
      "*\n",
      "Providence Friars (track & field only)\n",
      "*  \n",
      "\n",
      "==Water\n",
      "olo==\n",
      "*  Water Polo Australia\n",
      "\n",
      "==New Balance\n",
      "oundation==\n",
      "The \n",
      " \n",
      "as established in\n",
      "\n",
      "\n"
     ]
    }
   ],
   "source": [
    "diffs = text_diff_diff(last_revision, prelast_revision)\n",
    "print('Total num of diffs:', len(diffs), '\\n')\n",
    "for k, v in get_changes(diffs).items():\n",
    "    v_str = '\\n'.join(v[0])\n",
    "    print(f\"Key {k}_{v[1]}:\\n{v_str}\\n\\n\")"
   ]
  },
  {
   "cell_type": "code",
   "execution_count": null,
   "metadata": {},
   "outputs": [],
   "source": []
  }
 ],
 "metadata": {
  "kernelspec": {
   "display_name": "Python 3",
   "language": "python",
   "name": "python3"
  },
  "language_info": {
   "codemirror_mode": {
    "name": "ipython",
    "version": 3
   },
   "file_extension": ".py",
   "mimetype": "text/x-python",
   "name": "python",
   "nbconvert_exporter": "python",
   "pygments_lexer": "ipython3",
   "version": "3.7.7"
  }
 },
 "nbformat": 4,
 "nbformat_minor": 2
}
