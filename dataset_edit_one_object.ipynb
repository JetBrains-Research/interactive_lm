{
 "cells": [
  {
   "cell_type": "code",
   "execution_count": 1,
   "metadata": {},
   "outputs": [],
   "source": [
    "import re\n",
    "import os\n",
    "import torch\n",
    "import json\n",
    "import pandas as pd\n",
    "import seaborn as sns\n",
    "import matplotlib.pyplot as plt\n",
    "\n",
    "from transformers import T5TokenizerFast, T5ForConditionalGeneration\n",
    "from tqdm.notebook import tqdm\n",
    "from collections import Counter\n",
    "from torch import nn\n",
    "from catalyst import dl\n",
    "from langdetect import detect\n",
    "\n",
    "DOCS_DIR = 'data/documents_new'\n",
    "PAGES_DIR = 'data/revision_new'"
   ]
  },
  {
   "cell_type": "code",
   "execution_count": 2,
   "metadata": {},
   "outputs": [
    {
     "data": {
      "text/plain": [
       "[3571, 3463, 1870, 266, 2773]"
      ]
     },
     "execution_count": 2,
     "metadata": {},
     "output_type": "execute_result"
    }
   ],
   "source": [
    "dataset_ids = list(map(lambda x: int(x.split('.')[0]), os.listdir(DOCS_DIR)))\n",
    "dataset_ids[:5]"
   ]
  },
  {
   "cell_type": "code",
   "execution_count": 3,
   "metadata": {},
   "outputs": [
    {
     "data": {
      "application/vnd.jupyter.widget-view+json": {
       "model_id": "2fe57d91088b4794b53bd8215174ba9d",
       "version_major": 2,
       "version_minor": 0
      },
      "text/plain": [
       "  0%|          | 0/4171 [00:00<?, ?it/s]"
      ]
     },
     "metadata": {},
     "output_type": "display_data"
    }
   ],
   "source": [
    "db_dict = {'obj_id': [], 'old_text': [], 'new_text': [], 'comment': [], 'docs': [], 'diff': []}\n",
    "for dataset_obj_id in tqdm(dataset_ids):\n",
    "    with open(f\"{PAGES_DIR}/{dataset_obj_id}.json\", 'r', encoding='utf-8') as f:\n",
    "        page_json = json.load(f)\n",
    "    docs_text = ''\n",
    "    added_docs = set()\n",
    "    count_docs = 0\n",
    "    with open(f\"{DOCS_DIR}/{dataset_obj_id}.txt\", 'r', encoding='utf-8') as f:\n",
    "        docs_text_plain = f.read()\n",
    "        docs = docs_text_plain.split('\\n\\nDOC_DELIMITER_TOKEN\\n\\n')\n",
    "        for doc_id, doc in enumerate(docs):\n",
    "            if doc not in added_docs:\n",
    "                added_docs.add(doc)\n",
    "                count_docs += 1\n",
    "                docs_text += f\" DOC{count_docs}: {doc}\"\n",
    "            if count_docs > 2:\n",
    "                break\n",
    "\n",
    "    if count_docs < 3:\n",
    "        continue\n",
    "    if 'link' in db_dict['comment'] or 'ref' in db_dict['comment']:\n",
    "        continue\n",
    "    try:\n",
    "        text_lang = detect(page_json['old_text'])\n",
    "        comment_lang = detect(page_json['comment'])\n",
    "    except:\n",
    "        text_lang = ''\n",
    "        comment_lang = ''\n",
    "\n",
    "    if text_lang == 'en':\n",
    "        diff = '\\n'.join(page_json['change_texts'][0][0])\n",
    "        db_dict['diff'].append(diff)\n",
    "        db_dict['obj_id'].append(dataset_obj_id)\n",
    "        db_dict['old_text'].append(page_json['old_text'])\n",
    "        db_dict['new_text'].append(page_json['new_text'])\n",
    "        db_dict['comment'].append('Comment: ' + page_json['comment'])\n",
    "        db_dict['docs'].append(docs_text.strip())"
   ]
  },
  {
   "cell_type": "code",
   "execution_count": 4,
   "metadata": {},
   "outputs": [
    {
     "name": "stdout",
     "output_type": "stream",
     "text": [
      "(3747, 6)\n"
     ]
    }
   ],
   "source": [
    "df = pd.DataFrame.from_dict(db_dict)\n",
    "print(df.shape)"
   ]
  },
  {
   "cell_type": "code",
   "execution_count": 5,
   "metadata": {},
   "outputs": [
    {
     "data": {
      "text/html": [
       "<div>\n",
       "<style scoped>\n",
       "    .dataframe tbody tr th:only-of-type {\n",
       "        vertical-align: middle;\n",
       "    }\n",
       "\n",
       "    .dataframe tbody tr th {\n",
       "        vertical-align: top;\n",
       "    }\n",
       "\n",
       "    .dataframe thead th {\n",
       "        text-align: right;\n",
       "    }\n",
       "</style>\n",
       "<table border=\"1\" class=\"dataframe\">\n",
       "  <thead>\n",
       "    <tr style=\"text-align: right;\">\n",
       "      <th></th>\n",
       "      <th>obj_id</th>\n",
       "      <th>old_text</th>\n",
       "      <th>new_text</th>\n",
       "      <th>comment</th>\n",
       "      <th>docs</th>\n",
       "      <th>diff</th>\n",
       "    </tr>\n",
       "  </thead>\n",
       "  <tbody>\n",
       "    <tr>\n",
       "      <th>0</th>\n",
       "      <td>3571</td>\n",
       "      <td>right\\nCem Özdemir (born 21 December 1965 in B...</td>\n",
       "      <td>right|thumb|106px|Cem Özdemir\\nCem Özdemir (bo...</td>\n",
       "      <td>Comment: +eo +photo</td>\n",
       "      <td>DOC1: Cem Özdemir (German: [ˌdʒɛm ˈʔœzdɛmiːɐ̯]...</td>\n",
       "      <td>|thumb|106px|Cem Özdemir</td>\n",
       "    </tr>\n",
       "    <tr>\n",
       "      <th>1</th>\n",
       "      <td>3463</td>\n",
       "      <td>Farrant is an English surname. It may refer to...</td>\n",
       "      <td>Farrant is an English surname. It may refer to...</td>\n",
       "      <td>Comment: Adding link to orphaned article, Wiki...</td>\n",
       "      <td>DOC1: Tony Farrant Anthony John Farrant (20 Ju...</td>\n",
       "      <td>Anthony Farrant (born 1955), New Zealand crick...</td>\n",
       "    </tr>\n",
       "    <tr>\n",
       "      <th>2</th>\n",
       "      <td>1870</td>\n",
       "      <td>*Drakan - computer game\\n*Glorianna - Quest fo...</td>\n",
       "      <td>*Drakan - computer game\\n*Glorianna - Quest fo...</td>\n",
       "      <td>Comment: /* Computer and video games */ add link</td>\n",
       "      <td>DOC1: Krynn - Dragonlance games and novels, Du...</td>\n",
       "      <td>Aurbis (\\netheriu</td>\n",
       "    </tr>\n",
       "    <tr>\n",
       "      <th>3</th>\n",
       "      <td>266</td>\n",
       "      <td>WikiProjects connected with biology:\\n*Ecology...</td>\n",
       "      <td>WikiProjects connected with biology:\\n*Ecology...</td>\n",
       "      <td>Comment: added WikiProject Clinical medicine</td>\n",
       "      <td>DOC1: Antibiotics work by destabilizing the me...</td>\n",
       "      <td>Medicine\\n*</td>\n",
       "    </tr>\n",
       "    <tr>\n",
       "      <th>4</th>\n",
       "      <td>2773</td>\n",
       "      <td>Key or central characters:\\n*Raymond Babbitt (...</td>\n",
       "      <td>Key or central characters:\\n*Raymond Babbitt (...</td>\n",
       "      <td>Comment: /* Film */ +1</td>\n",
       "      <td>DOC1: This is a list of fictional characters t...</td>\n",
       "      <td>, Adam Raki (played by Hugh Dancy) from the f...</td>\n",
       "    </tr>\n",
       "  </tbody>\n",
       "</table>\n",
       "</div>"
      ],
      "text/plain": [
       "   obj_id                                           old_text  \\\n",
       "0    3571  right\\nCem Özdemir (born 21 December 1965 in B...   \n",
       "1    3463  Farrant is an English surname. It may refer to...   \n",
       "2    1870  *Drakan - computer game\\n*Glorianna - Quest fo...   \n",
       "3     266  WikiProjects connected with biology:\\n*Ecology...   \n",
       "4    2773  Key or central characters:\\n*Raymond Babbitt (...   \n",
       "\n",
       "                                            new_text  \\\n",
       "0  right|thumb|106px|Cem Özdemir\\nCem Özdemir (bo...   \n",
       "1  Farrant is an English surname. It may refer to...   \n",
       "2  *Drakan - computer game\\n*Glorianna - Quest fo...   \n",
       "3  WikiProjects connected with biology:\\n*Ecology...   \n",
       "4  Key or central characters:\\n*Raymond Babbitt (...   \n",
       "\n",
       "                                             comment  \\\n",
       "0                                Comment: +eo +photo   \n",
       "1  Comment: Adding link to orphaned article, Wiki...   \n",
       "2   Comment: /* Computer and video games */ add link   \n",
       "3       Comment: added WikiProject Clinical medicine   \n",
       "4                             Comment: /* Film */ +1   \n",
       "\n",
       "                                                docs  \\\n",
       "0  DOC1: Cem Özdemir (German: [ˌdʒɛm ˈʔœzdɛmiːɐ̯]...   \n",
       "1  DOC1: Tony Farrant Anthony John Farrant (20 Ju...   \n",
       "2  DOC1: Krynn - Dragonlance games and novels, Du...   \n",
       "3  DOC1: Antibiotics work by destabilizing the me...   \n",
       "4  DOC1: This is a list of fictional characters t...   \n",
       "\n",
       "                                                diff  \n",
       "0                           |thumb|106px|Cem Özdemir  \n",
       "1  Anthony Farrant (born 1955), New Zealand crick...  \n",
       "2                                  Aurbis (\\netheriu  \n",
       "3                                        Medicine\\n*  \n",
       "4   , Adam Raki (played by Hugh Dancy) from the f...  "
      ]
     },
     "execution_count": 5,
     "metadata": {},
     "output_type": "execute_result"
    }
   ],
   "source": [
    "df.head()"
   ]
  },
  {
   "cell_type": "code",
   "execution_count": 6,
   "metadata": {},
   "outputs": [],
   "source": [
    "df = df.sample(30)"
   ]
  },
  {
   "cell_type": "code",
   "execution_count": 7,
   "metadata": {},
   "outputs": [],
   "source": [
    "df = df.iloc[7:8, :]"
   ]
  },
  {
   "cell_type": "code",
   "execution_count": 8,
   "metadata": {},
   "outputs": [
    {
     "data": {
      "text/html": [
       "<div>\n",
       "<style scoped>\n",
       "    .dataframe tbody tr th:only-of-type {\n",
       "        vertical-align: middle;\n",
       "    }\n",
       "\n",
       "    .dataframe tbody tr th {\n",
       "        vertical-align: top;\n",
       "    }\n",
       "\n",
       "    .dataframe thead th {\n",
       "        text-align: right;\n",
       "    }\n",
       "</style>\n",
       "<table border=\"1\" class=\"dataframe\">\n",
       "  <thead>\n",
       "    <tr style=\"text-align: right;\">\n",
       "      <th></th>\n",
       "      <th>obj_id</th>\n",
       "      <th>old_text</th>\n",
       "      <th>new_text</th>\n",
       "      <th>comment</th>\n",
       "      <th>docs</th>\n",
       "      <th>diff</th>\n",
       "    </tr>\n",
       "  </thead>\n",
       "  <tbody>\n",
       "    <tr>\n",
       "      <th>760</th>\n",
       "      <td>3953</td>\n",
       "      <td>Vinge may refer to:, Advokatfirman Vinge, one ...</td>\n",
       "      <td>Vinge may refer to:,  Advokatfirman Vinge, one...</td>\n",
       "      <td>Comment: cleanup</td>\n",
       "      <td>DOC1: Vernor Steffen Vinge (/ ˈ v ɜːr n ər ˈ v...</td>\n",
       "      <td>Vernor Vinge\\n\\n,  Ving (disambiguation)</td>\n",
       "    </tr>\n",
       "  </tbody>\n",
       "</table>\n",
       "</div>"
      ],
      "text/plain": [
       "     obj_id                                           old_text  \\\n",
       "760    3953  Vinge may refer to:, Advokatfirman Vinge, one ...   \n",
       "\n",
       "                                              new_text           comment  \\\n",
       "760  Vinge may refer to:,  Advokatfirman Vinge, one...  Comment: cleanup   \n",
       "\n",
       "                                                  docs  \\\n",
       "760  DOC1: Vernor Steffen Vinge (/ ˈ v ɜːr n ər ˈ v...   \n",
       "\n",
       "                                          diff  \n",
       "760   Vernor Vinge\\n\\n,  Ving (disambiguation)  "
      ]
     },
     "execution_count": 8,
     "metadata": {},
     "output_type": "execute_result"
    }
   ],
   "source": [
    "df.head()"
   ]
  },
  {
   "cell_type": "code",
   "execution_count": 9,
   "metadata": {},
   "outputs": [],
   "source": [
    "def get_tgt(row, text_to_lower=True, comment_to_lower=True, comment_delimiter=' TEXT '):\n",
    "    new_text = row.new_text.lower() if text_to_lower else row.new_text\n",
    "    coms = row.comment.lower() if comment_to_lower else row.comment\n",
    "    tgt = coms + comment_delimiter + new_text\n",
    "    return tgt\n",
    "\n",
    "def get_src(row, text_to_lower=True, comment_to_lower=True, doc_delimiter=' DOCS '):\n",
    "    old_text = row.old_text.lower() if text_to_lower else row.old_text \n",
    "    docs = row.docs.lower() if text_to_lower else row.docs \n",
    "    src = 'TEXT ' + old_text + doc_delimiter + docs\n",
    "    return src\n",
    "    \n",
    "class EditDataset(torch.utils.data.Dataset):\n",
    "    def __init__(self, dataset: list, tokenizer, config,\n",
    "                 text_to_lower=True, comment_to_lower=True):\n",
    "        self.db = dataset\n",
    "        self.tokenizer = tokenizer\n",
    "\n",
    "        \n",
    "        src_text = self.db.apply(lambda x: get_src(x, text_to_lower, comment_to_lower), axis=1).values\n",
    "        tgt_text = self.db.apply(lambda x: get_tgt(x, text_to_lower, comment_to_lower), axis=1).values\n",
    "        \n",
    "        self.src_text_tokenized = [tokenizer(x,\n",
    "                                       max_length=config.src_max_len,\n",
    "                                       truncation=True,\n",
    "                                       return_attention_mask=False,\n",
    "                                       ) for x in src_text]\n",
    "        self.tgt_text_tokenized = [tokenizer(x,\n",
    "                                       max_length=config.tgt_max_len,\n",
    "                                       truncation=True,\n",
    "                                       return_attention_mask=False,\n",
    "                                       ) for x in tgt_text]\n",
    "\n",
    "    def __len__(self):\n",
    "        return len(self.db)\n",
    "\n",
    "    def __getitem__(self, idx: int):\n",
    "        src = self.src_text_tokenized[idx]\n",
    "        tgt = self.tgt_text_tokenized[idx]\n",
    "        return src, tgt\n",
    "\n",
    "    @staticmethod\n",
    "    def collate_fn(samples, tokenizer, config):\n",
    "        src_samples = [x[0] for x in samples]\n",
    "        tgt_samples = [x[1] for x in samples]\n",
    "\n",
    "        src_samples = tokenizer.pad(src_samples,\n",
    "                                    padding='longest',\n",
    "                                    max_length=config.final_src_max_len,\n",
    "                                    return_attention_mask=False,\n",
    "                                    return_tensors='pt')['input_ids']\n",
    "\n",
    "        tgt_samples = tokenizer.pad(tgt_samples,\n",
    "                                    padding='longest',\n",
    "                                    max_length=config.final_tgt_max_len,\n",
    "                                    return_attention_mask=False,\n",
    "                                    return_tensors='pt')['input_ids']\n",
    "\n",
    "        return (src_samples, tgt_samples), torch.ones(len(samples), 1)"
   ]
  },
  {
   "cell_type": "code",
   "execution_count": 10,
   "metadata": {},
   "outputs": [],
   "source": [
    "from dataclasses import dataclass\n",
    "\n",
    "@dataclass\n",
    "class Config:\n",
    "    pass\n",
    "    \n",
    "CONFIG = Config()\n",
    "CONFIG.seed = 1337\n",
    "CONFIG.src_max_len = 900\n",
    "CONFIG.tgt_max_len = 900\n",
    "CONFIG.pretrained = 't5-small'\n",
    "CONFIG.batch_size = 8\n",
    "\n",
    "tokenizer = T5TokenizerFast.from_pretrained(CONFIG.pretrained, model_max_length=1000)"
   ]
  },
  {
   "cell_type": "code",
   "execution_count": 11,
   "metadata": {},
   "outputs": [],
   "source": [
    "ds_edit = EditDataset(df, tokenizer, CONFIG, text_to_lower=True, comment_to_lower=True)\n",
    "ds_val = EditDataset(df, tokenizer, CONFIG, text_to_lower=True, comment_to_lower=True)"
   ]
  },
  {
   "cell_type": "code",
   "execution_count": 12,
   "metadata": {},
   "outputs": [
    {
     "data": {
      "image/png": "[encoded data removed]",
      "text/plain": [
       "<Figure size 360x360 with 1 Axes>"
      ]
     },
     "metadata": {
      "needs_background": "light"
     },
     "output_type": "display_data"
    },
    {
     "data": {
      "image/png": "[encoded data removed]",
      "text/plain": [
       "<Figure size 360x360 with 1 Axes>"
      ]
     },
     "metadata": {
      "needs_background": "light"
     },
     "output_type": "display_data"
    }
   ],
   "source": [
    "arr_src = []\n",
    "arr_tgt = []\n",
    "for src_q, tgt_q in ds_edit:\n",
    "    arr_src.append(len(src_q['input_ids']))\n",
    "    arr_tgt.append(len(tgt_q['input_ids']))\n",
    "\n",
    "sns.displot(arr_src, label='prev');\n",
    "plt.legend();\n",
    "sns.displot(arr_tgt, label='cur');\n",
    "plt.legend();"
   ]
  },
  {
   "cell_type": "markdown",
   "metadata": {},
   "source": [
    "## Learning"
   ]
  },
  {
   "cell_type": "code",
   "execution_count": 13,
   "metadata": {},
   "outputs": [],
   "source": [
    "CONFIG.batch_size = 8\n",
    "CONFIG.final_src_max_len = 800\n",
    "CONFIG.final_tgt_max_len = 500\n",
    "loaders = {\n",
    "    'train': torch.utils.data.DataLoader(ds_edit, \n",
    "                                         batch_size=CONFIG.batch_size,\n",
    "                                         collate_fn=lambda x: EditDataset.collate_fn(x, tokenizer, CONFIG),\n",
    "                                         num_workers=4, shuffle=True),\n",
    "    'valid': torch.utils.data.DataLoader(ds_val, \n",
    "                                         batch_size=CONFIG.batch_size,\n",
    "                                         collate_fn=lambda x: EditDataset.collate_fn(x, tokenizer, CONFIG),\n",
    "                                         num_workers=4, shuffle=True)\n",
    "}"
   ]
  },
  {
   "cell_type": "code",
   "execution_count": 16,
   "metadata": {},
   "outputs": [],
   "source": [
    "class EditModel(nn.Module):\n",
    "    def __init__(self, pretrained, config):\n",
    "        super(EditModel, self).__init__()\n",
    "        self.pretrained = pretrained\n",
    "        \n",
    "\n",
    "    def forward(self, x):\n",
    "        src, tgt = x\n",
    "        \n",
    "        tgt[tgt == 0] == -100\n",
    "        \n",
    "        loss = self.pretrained(\n",
    "            input_ids = src,\n",
    "            attention_mask = (src != 0).float(),\n",
    "            labels=tgt,\n",
    "        ).loss\n",
    "        return loss\n",
    "    \n",
    "    \n",
    "class Criterion(nn.Module):\n",
    "    def __init__(self):\n",
    "        super(Criterion, self).__init__()\n",
    "        \n",
    "    def forward(self, pred, tgt):\n",
    "        return pred"
   ]
  },
  {
   "cell_type": "code",
   "execution_count": 17,
   "metadata": {},
   "outputs": [],
   "source": [
    "model = EditModel(\n",
    "    T5ForConditionalGeneration.from_pretrained(CONFIG.pretrained),\n",
    "    CONFIG\n",
    ")\n",
    "CONFIG.optimizer = 'Adam(lr=0.0001)'\n",
    "optimizer = torch.optim.Adam(model.parameters(), lr=0.0001)\n",
    "\n",
    "CONFIG.name = f'{CONFIG.pretrained}_test_one_object'\n",
    "CONFIG.description = f'{CONFIG.name} p(comment, x_t+1 | x_t, doc)'\n",
    "CONFIG.group = \"wiki_edit_test\""
   ]
  },
  {
   "cell_type": "code",
   "execution_count": 18,
   "metadata": {},
   "outputs": [],
   "source": [
    "!rm -rf ./models/\"{CONFIG.description}\""
   ]
  },
  {
   "cell_type": "code",
   "execution_count": 19,
   "metadata": {},
   "outputs": [],
   "source": [
    "import torch\n",
    "import catalyst\n",
    "\n",
    "from catalyst.core import IRunner\n",
    "from catalyst.metrics._additive import AdditiveMetric\n",
    "from catalyst.callbacks.metric import BatchMetricCallback, ICallbackBatchMetric\n",
    "\n",
    "\n",
    "class ExactMatchMetric(ICallbackBatchMetric):\n",
    "    def __init__(self, topk, compute_on_call=False):\n",
    "        super().__init__(compute_on_call=compute_on_call, prefix='', suffix='')\n",
    "        self.metric_name = 'exact_match'\n",
    "        self.topk = topk\n",
    "        self.metrics: List[AdditiveMetric] = [\n",
    "            AdditiveMetric(compute_on_call=compute_on_call) for _ in range(len(self.topk))]\n",
    "\n",
    "    def reset(self) -> None:\n",
    "        for metric in self.metrics:\n",
    "            metric.reset()\n",
    "\n",
    "    def update(self, values, n_samples):\n",
    "        for value, metric in zip(values, self.metrics):\n",
    "            metric.update(value, n_samples)\n",
    "        return values\n",
    "\n",
    "    def update_key_value(self, values, n_samples):\n",
    "        values = self.update(values, n_samples)\n",
    "        output = {\n",
    "            f\"{self.prefix}{self.metric_name}{key:02d}{self.suffix}\": round(value, 6)\n",
    "            for key, value in zip(self.topk, values)\n",
    "        }\n",
    "        return output\n",
    "\n",
    "    def compute(self):\n",
    "        means, stds = zip(*(metric.compute() for metric in self.metrics))\n",
    "        return means, stds\n",
    "\n",
    "    def compute_key_value(self):\n",
    "        means, stds = self.compute()\n",
    "        output_mean = {\n",
    "            f\"{self.prefix}{self.metric_name}{key:02d}{self.suffix}\": round(value, 6)\n",
    "            for key, value in zip(self.topk, means)\n",
    "        }\n",
    "        output_std = {\n",
    "            f\"{self.prefix}{self.metric_name}{key:02d}{self.suffix}/std\": round(value, 6)\n",
    "            for key, value in zip(self.topk, stds)\n",
    "        }\n",
    "        return {**output_mean, **output_std}\n",
    "\n",
    "\n",
    "class ExactMatchCallback(BatchMetricCallback):\n",
    "\n",
    "    def __init__(self, beam_size):\n",
    "        super().__init__(\n",
    "            metric= ExactMatchMetric((1,beam_size)) if beam_size > 1 else ExactMatchMetric((1,)),\n",
    "            input_key='features', target_key='targets', log_on_batch=True)\n",
    "        self.beam_size = beam_size\n",
    "\n",
    "    def on_batch_end(self, runner: \"IRunner\") -> None:\n",
    "\n",
    "        if runner.loader_key == 'train':\n",
    "            runner.model.train()\n",
    "        elif runner.loader_key.startswith('valid'):\n",
    "            runner.model.eval()\n",
    "\n",
    "            src = runner.batch['features'][0]\n",
    "            tgt = runner.batch['features'][1]\n",
    "            max_len = tgt.shape[1]\n",
    "            with torch.no_grad():\n",
    "                pred = runner.model.pretrained.generate(src.to(runner.engine.device),\n",
    "                                                        attention_mask=(src != 0).float().to(runner.engine.device),\n",
    "                                                        # pad_token_id=tokenizer.pad_token_id,\n",
    "                                                        # bos_token_id=tokenizer.bos_token_id,\n",
    "                                                        # eos_token_id=tokenizer.eos_token_id,\n",
    "                                                        num_beams=self.beam_size,\n",
    "                                                        num_return_sequences=self.beam_size,\n",
    "                                                        max_length=max_len\n",
    "                                                        )\n",
    "\n",
    "            pred = pred[:,1:]\n",
    "            pred = pred.view(-1, self.beam_size, pred.shape[1])\n",
    "            acck = 0\n",
    "            acc1 = 0\n",
    "            for i in range(tgt.shape[0]):\n",
    "                tgt_subseq = tgt[i, :pred.shape[2]].to(runner.engine.device)\n",
    "\n",
    "                acck += float(torch.any(torch.all(tgt_subseq == pred[i], dim=1)))\n",
    "                acc1 += float(torch.all(tgt_subseq == pred[i, 0]))\n",
    "\n",
    "            acck /= len(src)\n",
    "            acc1 /= len(src)\n",
    "\n",
    "            metrics = self.metric.update_key_value([acc1, acck], len(src))\n",
    "\n",
    "            runner.batch_metrics.update(metrics)\n",
    "\n",
    "    def on_loader_end(self, runner: \"IRunner\") -> None:\n",
    "        if runner.loader_key.startswith('valid'):\n",
    "            metrics = self.metric.compute_key_value()\n",
    "            metrics = runner.engine.mean_reduce_ddp_metrics(metrics)\n",
    "            runner.loader_metrics.update(metrics)"
   ]
  },
  {
   "cell_type": "code",
   "execution_count": 20,
   "metadata": {},
   "outputs": [],
   "source": [
    "CONFIG.n_epochs = 300\n",
    "CONFIG.beam_size = 2"
   ]
  },
  {
   "cell_type": "code",
   "execution_count": 21,
   "metadata": {
    "scrolled": true
   },
   "outputs": [
    {
     "name": "stderr",
     "output_type": "stream",
     "text": [
      "Failed to detect the name of this notebook, you can set it manually with the WANDB_NOTEBOOK_NAME environment variable to enable code saving.\n",
      "\u001b[34m\u001b[1mwandb\u001b[0m: Currently logged in as: \u001b[33mjdev8\u001b[0m (use `wandb login --relogin` to force relogin)\n",
      "\u001b[34m\u001b[1mwandb\u001b[0m: wandb version 0.13.5 is available!  To upgrade, please run:\n",
      "\u001b[34m\u001b[1mwandb\u001b[0m:  $ pip install wandb --upgrade\n"
     ]
    },
    {
     "data": {
      "text/html": [
       "\n",
       "                    Syncing run <strong><a href=\"https://wandb.ai/jdev8/interactive_lm/runs/31wg8zke\" target=\"_blank\">t5-small_test_one_object</a></strong> to <a href=\"https://wandb.ai/jdev8/interactive_lm\" target=\"_blank\">Weights & Biases</a> (<a href=\"https://docs.wandb.com/integrations/jupyter.html\" target=\"_blank\">docs</a>).<br/>\n",
       "\n",
       "                "
      ],
      "text/plain": [
       "<IPython.core.display.HTML object>"
      ]
     },
     "metadata": {},
     "output_type": "display_data"
    },
    {
     "data": {
      "application/vnd.jupyter.widget-view+json": {
       "model_id": "d59211f2b9d442139261bb7c2b928670",
       "version_major": 2,
       "version_minor": 0
      },
      "text/plain": [
       "1/300 * Epoch (train):   0%|          | 0/1 [00:00<?, ?it/s]"
      ]
     },
     "metadata": {},
     "output_type": "display_data"
    },
    {
     "name": "stdout",
     "output_type": "stream",
     "text": [
      "train (1/300) loss: 1.4894130229949951 | loss/mean: 1.4894130229949951 | loss/std: 0.0 | lr: 0.0001 | momentum: 0.9\n"
     ]
    },
    {
     "data": {
      "application/vnd.jupyter.widget-view+json": {
       "model_id": "1c4a5732ef56485d8da3d41bb344a041",
       "version_major": 2,
       "version_minor": 0
      },
      "text/plain": [
       "1/300 * Epoch (valid):   0%|          | 0/1 [00:00<?, ?it/s]"
      ]
     },
     "metadata": {},
     "output_type": "display_data"
    },
    {
     "name": "stdout",
     "output_type": "stream",
     "text": [
      "valid (1/300) exact_match01: 0.0 | exact_match01/std: 0.0 | exact_match02: 0.0 | exact_match02/std: 0.0 | loss: 1.1644688844680786 | loss/mean: 1.1644688844680786 | loss/std: 0.0 | lr: 0.0001 | momentum: 0.9\n",
      "* Epoch (1/300) \n"
     ]
    },
    {
     "data": {
      "application/vnd.jupyter.widget-view+json": {
       "model_id": "0b2a4e366dd745458bfeedbe7f0543c2",
       "version_major": 2,
       "version_minor": 0
      },
      "text/plain": [
       "2/300 * Epoch (train):   0%|          | 0/1 [00:00<?, ?it/s]"
      ]
     },
     "metadata": {},
     "output_type": "display_data"
    },
    {
     "name": "stdout",
     "output_type": "stream",
     "text": [
      "train (2/300) loss: 1.2743356227874756 | loss/mean: 1.2743356227874756 | loss/std: 0.0 | lr: 0.0001 | momentum: 0.9\n"
     ]
    },
    {
     "data": {
      "application/vnd.jupyter.widget-view+json": {
       "model_id": "047c760b606d4f03b15ccb0642413694",
       "version_major": 2,
       "version_minor": 0
      },
      "text/plain": [
       "2/300 * Epoch (valid):   0%|          | 0/1 [00:00<?, ?it/s]"
      ]
     },
     "metadata": {},
     "output_type": "display_data"
    },
    {
     "name": "stdout",
     "output_type": "stream",
     "text": [
      "valid (2/300) exact_match01: 0.0 | exact_match01/std: 0.0 | exact_match02: 0.0 | exact_match02/std: 0.0 | loss: 1.094394564628601 | loss/mean: 1.094394564628601 | loss/std: 0.0 | lr: 0.0001 | momentum: 0.9\n",
      "* Epoch (2/300) \n"
     ]
    },
    {
     "data": {
      "application/vnd.jupyter.widget-view+json": {
       "model_id": "0983ead420784180b1ea9c2ee2135fa6",
       "version_major": 2,
       "version_minor": 0
      },
      "text/plain": [
       "3/300 * Epoch (train):   0%|          | 0/1 [00:00<?, ?it/s]"
      ]
     },
     "metadata": {},
     "output_type": "display_data"
    },
    {
     "name": "stdout",
     "output_type": "stream",
     "text": [
      "train (3/300) loss: 1.3296546936035156 | loss/mean: 1.3296546936035156 | loss/std: 0.0 | lr: 0.0001 | momentum: 0.9\n"
     ]
    },
    {
     "data": {
      "application/vnd.jupyter.widget-view+json": {
       "model_id": "22ee9f2c829449908e080e67eec624d9",
       "version_major": 2,
       "version_minor": 0
      },
      "text/plain": [
       "3/300 * Epoch (valid):   0%|          | 0/1 [00:00<?, ?it/s]"
      ]
     },
     "metadata": {},
     "output_type": "display_data"
    },
    {
     "name": "stdout",
     "output_type": "stream",
     "text": [
      "valid (3/300) exact_match01: 0.0 | exact_match01/std: 0.0 | exact_match02: 0.0 | exact_match02/std: 0.0 | loss: 1.0174541473388672 | loss/mean: 1.0174541473388672 | loss/std: 0.0 | lr: 0.0001 | momentum: 0.9\n",
      "* Epoch (3/300) \n"
     ]
    },
    {
     "data": {
      "application/vnd.jupyter.widget-view+json": {
       "model_id": "855c70a75b054d6a98dd197a7c52b439",
       "version_major": 2,
       "version_minor": 0
      },
      "text/plain": [
       "4/300 * Epoch (train):   0%|          | 0/1 [00:00<?, ?it/s]"
      ]
     },
     "metadata": {},
     "output_type": "display_data"
    },
    {
     "name": "stdout",
     "output_type": "stream",
     "text": [
      "train (4/300) loss: 1.0378817319869995 | loss/mean: 1.0378817319869995 | loss/std: 0.0 | lr: 0.0001 | momentum: 0.9\n"
     ]
    },
    {
     "data": {
      "application/vnd.jupyter.widget-view+json": {
       "model_id": "0ec34295528042aaa6f45c9e02a914f8",
       "version_major": 2,
       "version_minor": 0
      },
      "text/plain": [
       "4/300 * Epoch (valid):   0%|          | 0/1 [00:00<?, ?it/s]"
      ]
     },
     "metadata": {},
     "output_type": "display_data"
    },
    {
     "name": "stdout",
     "output_type": "stream",
     "text": [
      "valid (4/300) exact_match01: 0.0 | exact_match01/std: 0.0 | exact_match02: 0.0 | exact_match02/std: 0.0 | loss: 0.9263269901275635 | loss/mean: 0.9263269901275635 | loss/std: 0.0 | lr: 0.0001 | momentum: 0.9\n",
      "* Epoch (4/300) \n"
     ]
    },
    {
     "data": {
      "application/vnd.jupyter.widget-view+json": {
       "model_id": "838f680cda514621a5fc32e6b7a18425",
       "version_major": 2,
       "version_minor": 0
      },
      "text/plain": [
       "5/300 * Epoch (train):   0%|          | 0/1 [00:00<?, ?it/s]"
      ]
     },
     "metadata": {},
     "output_type": "display_data"
    },
    {
     "name": "stdout",
     "output_type": "stream",
     "text": [
      "train (5/300) loss: 1.1769911050796509 | loss/mean: 1.1769911050796509 | loss/std: 0.0 | lr: 0.0001 | momentum: 0.9\n"
     ]
    },
    {
     "data": {
      "application/vnd.jupyter.widget-view+json": {
       "model_id": "0b2eb869e3fd4ef29144cf5103e9c618",
       "version_major": 2,
       "version_minor": 0
      },
      "text/plain": [
       "5/300 * Epoch (valid):   0%|          | 0/1 [00:00<?, ?it/s]"
      ]
     },
     "metadata": {},
     "output_type": "display_data"
    },
    {
     "name": "stdout",
     "output_type": "stream",
     "text": [
      "valid (5/300) exact_match01: 0.0 | exact_match01/std: 0.0 | exact_match02: 0.0 | exact_match02/std: 0.0 | loss: 0.8229784369468689 | loss/mean: 0.8229784369468689 | loss/std: 0.0 | lr: 0.0001 | momentum: 0.9\n",
      "* Epoch (5/300) \n"
     ]
    },
    {
     "data": {
      "application/vnd.jupyter.widget-view+json": {
       "model_id": "4d20d8e771df49fb90916740f5f35815",
       "version_major": 2,
       "version_minor": 0
      },
      "text/plain": [
       "6/300 * Epoch (train):   0%|          | 0/1 [00:00<?, ?it/s]"
      ]
     },
     "metadata": {},
     "output_type": "display_data"
    },
    {
     "name": "stdout",
     "output_type": "stream",
     "text": [
      "train (6/300) loss: 1.0093927383422852 | loss/mean: 1.0093927383422852 | loss/std: 0.0 | lr: 0.0001 | momentum: 0.9\n"
     ]
    },
    {
     "data": {
      "application/vnd.jupyter.widget-view+json": {
       "model_id": "fc600b858a6044dd938aff1f63434f6d",
       "version_major": 2,
       "version_minor": 0
      },
      "text/plain": [
       "6/300 * Epoch (valid):   0%|          | 0/1 [00:00<?, ?it/s]"
      ]
     },
     "metadata": {},
     "output_type": "display_data"
    },
    {
     "name": "stdout",
     "output_type": "stream",
     "text": [
      "valid (6/300) exact_match01: 0.0 | exact_match01/std: 0.0 | exact_match02: 0.0 | exact_match02/std: 0.0 | loss: 0.7368474006652832 | loss/mean: 0.7368474006652832 | loss/std: 0.0 | lr: 0.0001 | momentum: 0.9\n",
      "* Epoch (6/300) \n"
     ]
    },
    {
     "data": {
      "application/vnd.jupyter.widget-view+json": {
       "model_id": "6edcaf6f58ed42d9854d992d045838a2",
       "version_major": 2,
       "version_minor": 0
      },
      "text/plain": [
       "7/300 * Epoch (train):   0%|          | 0/1 [00:00<?, ?it/s]"
      ]
     },
     "metadata": {},
     "output_type": "display_data"
    },
    {
     "name": "stdout",
     "output_type": "stream",
     "text": [
      "train (7/300) loss: 0.8864843845367432 | loss/mean: 0.8864843845367432 | loss/std: 0.0 | lr: 0.0001 | momentum: 0.9\n"
     ]
    },
    {
     "data": {
      "application/vnd.jupyter.widget-view+json": {
       "model_id": "bd5f64d7e353454391de14e6729aefb6",
       "version_major": 2,
       "version_minor": 0
      },
      "text/plain": [
       "7/300 * Epoch (valid):   0%|          | 0/1 [00:00<?, ?it/s]"
      ]
     },
     "metadata": {},
     "output_type": "display_data"
    },
    {
     "name": "stdout",
     "output_type": "stream",
     "text": [
      "valid (7/300) exact_match01: 0.0 | exact_match01/std: 0.0 | exact_match02: 0.0 | exact_match02/std: 0.0 | loss: 0.6704879999160767 | loss/mean: 0.6704879999160767 | loss/std: 0.0 | lr: 0.0001 | momentum: 0.9\n",
      "* Epoch (7/300) \n"
     ]
    },
    {
     "data": {
      "application/vnd.jupyter.widget-view+json": {
       "model_id": "3ccf8b19e1f44ba8a5f9d4e7ff2dda4b",
       "version_major": 2,
       "version_minor": 0
      },
      "text/plain": [
       "8/300 * Epoch (train):   0%|          | 0/1 [00:00<?, ?it/s]"
      ]
     },
     "metadata": {},
     "output_type": "display_data"
    },
    {
     "name": "stdout",
     "output_type": "stream",
     "text": [
      "train (8/300) loss: 0.846189022064209 | loss/mean: 0.846189022064209 | loss/std: 0.0 | lr: 0.0001 | momentum: 0.9\n"
     ]
    },
    {
     "data": {
      "application/vnd.jupyter.widget-view+json": {
       "model_id": "32f7b2a6a4a14b4aa76845b2472e43cf",
       "version_major": 2,
       "version_minor": 0
      },
      "text/plain": [
       "8/300 * Epoch (valid):   0%|          | 0/1 [00:00<?, ?it/s]"
      ]
     },
     "metadata": {},
     "output_type": "display_data"
    },
    {
     "name": "stdout",
     "output_type": "stream",
     "text": [
      "valid (8/300) exact_match01: 0.0 | exact_match01/std: 0.0 | exact_match02: 0.0 | exact_match02/std: 0.0 | loss: 0.6206017136573792 | loss/mean: 0.6206017136573792 | loss/std: 0.0 | lr: 0.0001 | momentum: 0.9\n",
      "* Epoch (8/300) \n"
     ]
    },
    {
     "data": {
      "application/vnd.jupyter.widget-view+json": {
       "model_id": "eab9075ca7864725a4eeeb061dab4938",
       "version_major": 2,
       "version_minor": 0
      },
      "text/plain": [
       "9/300 * Epoch (train):   0%|          | 0/1 [00:00<?, ?it/s]"
      ]
     },
     "metadata": {},
     "output_type": "display_data"
    },
    {
     "name": "stdout",
     "output_type": "stream",
     "text": [
      "train (9/300) loss: 0.8253238201141357 | loss/mean: 0.8253238201141357 | loss/std: 0.0 | lr: 0.0001 | momentum: 0.9\n"
     ]
    },
    {
     "data": {
      "application/vnd.jupyter.widget-view+json": {
       "model_id": "7237970404544ac0bd2e635251411f12",
       "version_major": 2,
       "version_minor": 0
      },
      "text/plain": [
       "9/300 * Epoch (valid):   0%|          | 0/1 [00:00<?, ?it/s]"
      ]
     },
     "metadata": {},
     "output_type": "display_data"
    },
    {
     "name": "stdout",
     "output_type": "stream",
     "text": [
      "valid (9/300) exact_match01: 0.0 | exact_match01/std: 0.0 | exact_match02: 0.0 | exact_match02/std: 0.0 | loss: 0.586393415927887 | loss/mean: 0.586393415927887 | loss/std: 0.0 | lr: 0.0001 | momentum: 0.9\n",
      "* Epoch (9/300) \n"
     ]
    },
    {
     "data": {
      "application/vnd.jupyter.widget-view+json": {
       "model_id": "4b589a9f998242f1b748960afa018fea",
       "version_major": 2,
       "version_minor": 0
      },
      "text/plain": [
       "10/300 * Epoch (train):   0%|          | 0/1 [00:00<?, ?it/s]"
      ]
     },
     "metadata": {},
     "output_type": "display_data"
    },
    {
     "name": "stdout",
     "output_type": "stream",
     "text": [
      "train (10/300) loss: 0.6793018579483032 | loss/mean: 0.6793018579483032 | loss/std: 0.0 | lr: 0.0001 | momentum: 0.9\n"
     ]
    },
    {
     "data": {
      "application/vnd.jupyter.widget-view+json": {
       "model_id": "127e782ba0204d98815500f9cf7257c0",
       "version_major": 2,
       "version_minor": 0
      },
      "text/plain": [
       "10/300 * Epoch (valid):   0%|          | 0/1 [00:00<?, ?it/s]"
      ]
     },
     "metadata": {},
     "output_type": "display_data"
    },
    {
     "name": "stdout",
     "output_type": "stream",
     "text": [
      "valid (10/300) exact_match01: 0.0 | exact_match01/std: 0.0 | exact_match02: 0.0 | exact_match02/std: 0.0 | loss: 0.5539495944976807 | loss/mean: 0.5539495944976807 | loss/std: 0.0 | lr: 0.0001 | momentum: 0.9\n",
      "* Epoch (10/300) \n"
     ]
    },
    {
     "data": {
      "application/vnd.jupyter.widget-view+json": {
       "model_id": "2f2eabf7b51e40ffadb690073e3409c8",
       "version_major": 2,
       "version_minor": 0
      },
      "text/plain": [
       "11/300 * Epoch (train):   0%|          | 0/1 [00:00<?, ?it/s]"
      ]
     },
     "metadata": {},
     "output_type": "display_data"
    },
    {
     "name": "stdout",
     "output_type": "stream",
     "text": [
      "train (11/300) loss: 0.5879976153373718 | loss/mean: 0.5879976153373718 | loss/std: 0.0 | lr: 0.0001 | momentum: 0.9\n"
     ]
    },
    {
     "data": {
      "application/vnd.jupyter.widget-view+json": {
       "model_id": "9e4818075d964f139d844e229d6b5280",
       "version_major": 2,
       "version_minor": 0
      },
      "text/plain": [
       "11/300 * Epoch (valid):   0%|          | 0/1 [00:00<?, ?it/s]"
      ]
     },
     "metadata": {},
     "output_type": "display_data"
    },
    {
     "name": "stdout",
     "output_type": "stream",
     "text": [
      "valid (11/300) exact_match01: 0.0 | exact_match01/std: 0.0 | exact_match02: 0.0 | exact_match02/std: 0.0 | loss: 0.5224945545196533 | loss/mean: 0.5224945545196533 | loss/std: 0.0 | lr: 0.0001 | momentum: 0.9\n",
      "* Epoch (11/300) \n"
     ]
    },
    {
     "data": {
      "application/vnd.jupyter.widget-view+json": {
       "model_id": "9e040a64f1004943af24cc113bef5aa9",
       "version_major": 2,
       "version_minor": 0
      },
      "text/plain": [
       "12/300 * Epoch (train):   0%|          | 0/1 [00:00<?, ?it/s]"
      ]
     },
     "metadata": {},
     "output_type": "display_data"
    },
    {
     "name": "stdout",
     "output_type": "stream",
     "text": [
      "train (12/300) loss: 0.6565902829170227 | loss/mean: 0.6565902829170227 | loss/std: 0.0 | lr: 0.0001 | momentum: 0.9\n"
     ]
    },
    {
     "data": {
      "application/vnd.jupyter.widget-view+json": {
       "model_id": "7a564bfcf0344e058fbefcaa950c255f",
       "version_major": 2,
       "version_minor": 0
      },
      "text/plain": [
       "12/300 * Epoch (valid):   0%|          | 0/1 [00:00<?, ?it/s]"
      ]
     },
     "metadata": {},
     "output_type": "display_data"
    },
    {
     "name": "stdout",
     "output_type": "stream",
     "text": [
      "valid (12/300) exact_match01: 0.0 | exact_match01/std: 0.0 | exact_match02: 0.0 | exact_match02/std: 0.0 | loss: 0.4955597221851349 | loss/mean: 0.4955597221851349 | loss/std: 0.0 | lr: 0.0001 | momentum: 0.9\n",
      "* Epoch (12/300) \n"
     ]
    },
    {
     "data": {
      "application/vnd.jupyter.widget-view+json": {
       "model_id": "fec19a57d6124e2699bfeb018995114e",
       "version_major": 2,
       "version_minor": 0
      },
      "text/plain": [
       "13/300 * Epoch (train):   0%|          | 0/1 [00:00<?, ?it/s]"
      ]
     },
     "metadata": {},
     "output_type": "display_data"
    },
    {
     "name": "stdout",
     "output_type": "stream",
     "text": [
      "train (13/300) loss: 0.6130516529083252 | loss/mean: 0.6130516529083252 | loss/std: 0.0 | lr: 0.0001 | momentum: 0.9\n"
     ]
    },
    {
     "data": {
      "application/vnd.jupyter.widget-view+json": {
       "model_id": "009cd07b16eb4f079fa0c7d6155b9f07",
       "version_major": 2,
       "version_minor": 0
      },
      "text/plain": [
       "13/300 * Epoch (valid):   0%|          | 0/1 [00:00<?, ?it/s]"
      ]
     },
     "metadata": {},
     "output_type": "display_data"
    },
    {
     "name": "stdout",
     "output_type": "stream",
     "text": [
      "valid (13/300) exact_match01: 0.0 | exact_match01/std: 0.0 | exact_match02: 0.0 | exact_match02/std: 0.0 | loss: 0.4733516573905945 | loss/mean: 0.4733516573905945 | loss/std: 0.0 | lr: 0.0001 | momentum: 0.9\n",
      "* Epoch (13/300) \n"
     ]
    },
    {
     "data": {
      "application/vnd.jupyter.widget-view+json": {
       "model_id": "d9ec6359aea7487fb3d733d7ddd2a9be",
       "version_major": 2,
       "version_minor": 0
      },
      "text/plain": [
       "14/300 * Epoch (train):   0%|          | 0/1 [00:00<?, ?it/s]"
      ]
     },
     "metadata": {},
     "output_type": "display_data"
    },
    {
     "name": "stdout",
     "output_type": "stream",
     "text": [
      "train (14/300) loss: 0.591317892074585 | loss/mean: 0.591317892074585 | loss/std: 0.0 | lr: 0.0001 | momentum: 0.9\n"
     ]
    },
    {
     "data": {
      "application/vnd.jupyter.widget-view+json": {
       "model_id": "693ac69e79064fb9b81bf9a34a62ff6c",
       "version_major": 2,
       "version_minor": 0
      },
      "text/plain": [
       "14/300 * Epoch (valid):   0%|          | 0/1 [00:00<?, ?it/s]"
      ]
     },
     "metadata": {},
     "output_type": "display_data"
    },
    {
     "name": "stdout",
     "output_type": "stream",
     "text": [
      "valid (14/300) exact_match01: 0.0 | exact_match01/std: 0.0 | exact_match02: 0.0 | exact_match02/std: 0.0 | loss: 0.4486451745033264 | loss/mean: 0.4486451745033264 | loss/std: 0.0 | lr: 0.0001 | momentum: 0.9\n",
      "* Epoch (14/300) \n"
     ]
    },
    {
     "data": {
      "application/vnd.jupyter.widget-view+json": {
       "model_id": "a6edc964632c4079b7ac0705f6e7f0e3",
       "version_major": 2,
       "version_minor": 0
      },
      "text/plain": [
       "15/300 * Epoch (train):   0%|          | 0/1 [00:00<?, ?it/s]"
      ]
     },
     "metadata": {},
     "output_type": "display_data"
    },
    {
     "name": "stdout",
     "output_type": "stream",
     "text": [
      "train (15/300) loss: 0.5491901636123657 | loss/mean: 0.5491901636123657 | loss/std: 0.0 | lr: 0.0001 | momentum: 0.9\n"
     ]
    },
    {
     "data": {
      "application/vnd.jupyter.widget-view+json": {
       "model_id": "c9f5cc6bc6774afca7bc613da4557083",
       "version_major": 2,
       "version_minor": 0
      },
      "text/plain": [
       "15/300 * Epoch (valid):   0%|          | 0/1 [00:00<?, ?it/s]"
      ]
     },
     "metadata": {},
     "output_type": "display_data"
    },
    {
     "name": "stdout",
     "output_type": "stream",
     "text": [
      "valid (15/300) exact_match01: 0.0 | exact_match01/std: 0.0 | exact_match02: 0.0 | exact_match02/std: 0.0 | loss: 0.4245300590991974 | loss/mean: 0.4245300590991974 | loss/std: 0.0 | lr: 0.0001 | momentum: 0.9\n",
      "* Epoch (15/300) \n"
     ]
    },
    {
     "data": {
      "application/vnd.jupyter.widget-view+json": {
       "model_id": "6176687445d54fbc8b2c2fcfe4d058d2",
       "version_major": 2,
       "version_minor": 0
      },
      "text/plain": [
       "16/300 * Epoch (train):   0%|          | 0/1 [00:00<?, ?it/s]"
      ]
     },
     "metadata": {},
     "output_type": "display_data"
    },
    {
     "name": "stdout",
     "output_type": "stream",
     "text": [
      "train (16/300) loss: 0.4420647919178009 | loss/mean: 0.4420647919178009 | loss/std: 0.0 | lr: 0.0001 | momentum: 0.9\n"
     ]
    },
    {
     "data": {
      "application/vnd.jupyter.widget-view+json": {
       "model_id": "4d414c2a5cab447aa9574af4ee7bf875",
       "version_major": 2,
       "version_minor": 0
      },
      "text/plain": [
       "16/300 * Epoch (valid):   0%|          | 0/1 [00:00<?, ?it/s]"
      ]
     },
     "metadata": {},
     "output_type": "display_data"
    },
    {
     "name": "stdout",
     "output_type": "stream",
     "text": [
      "valid (16/300) exact_match01: 0.0 | exact_match01/std: 0.0 | exact_match02: 0.0 | exact_match02/std: 0.0 | loss: 0.4023236036300659 | loss/mean: 0.4023236036300659 | loss/std: 0.0 | lr: 0.0001 | momentum: 0.9\n",
      "* Epoch (16/300) \n"
     ]
    },
    {
     "data": {
      "application/vnd.jupyter.widget-view+json": {
       "model_id": "0d6b6ed844fc4794840bc73b5a57beb2",
       "version_major": 2,
       "version_minor": 0
      },
      "text/plain": [
       "17/300 * Epoch (train):   0%|          | 0/1 [00:00<?, ?it/s]"
      ]
     },
     "metadata": {},
     "output_type": "display_data"
    },
    {
     "name": "stdout",
     "output_type": "stream",
     "text": [
      "train (17/300) loss: 0.5356690287590027 | loss/mean: 0.5356690287590027 | loss/std: 0.0 | lr: 0.0001 | momentum: 0.9\n"
     ]
    },
    {
     "data": {
      "application/vnd.jupyter.widget-view+json": {
       "model_id": "1425bc7260f647178755d3e5478bf6e0",
       "version_major": 2,
       "version_minor": 0
      },
      "text/plain": [
       "17/300 * Epoch (valid):   0%|          | 0/1 [00:00<?, ?it/s]"
      ]
     },
     "metadata": {},
     "output_type": "display_data"
    },
    {
     "name": "stdout",
     "output_type": "stream",
     "text": [
      "valid (17/300) exact_match01: 0.0 | exact_match01/std: 0.0 | exact_match02: 0.0 | exact_match02/std: 0.0 | loss: 0.3829488456249237 | loss/mean: 0.3829488456249237 | loss/std: 0.0 | lr: 0.0001 | momentum: 0.9\n",
      "* Epoch (17/300) \n"
     ]
    },
    {
     "data": {
      "application/vnd.jupyter.widget-view+json": {
       "model_id": "02537d3ca67e41b3aeee4e9c91341970",
       "version_major": 2,
       "version_minor": 0
      },
      "text/plain": [
       "18/300 * Epoch (train):   0%|          | 0/1 [00:00<?, ?it/s]"
      ]
     },
     "metadata": {},
     "output_type": "display_data"
    },
    {
     "name": "stdout",
     "output_type": "stream",
     "text": [
      "train (18/300) loss: 0.4656733274459839 | loss/mean: 0.4656733274459839 | loss/std: 0.0 | lr: 0.0001 | momentum: 0.9\n"
     ]
    },
    {
     "data": {
      "application/vnd.jupyter.widget-view+json": {
       "model_id": "9072e0f2a4a34373ba7d374c7f468dac",
       "version_major": 2,
       "version_minor": 0
      },
      "text/plain": [
       "18/300 * Epoch (valid):   0%|          | 0/1 [00:00<?, ?it/s]"
      ]
     },
     "metadata": {},
     "output_type": "display_data"
    },
    {
     "name": "stdout",
     "output_type": "stream",
     "text": [
      "valid (18/300) exact_match01: 0.0 | exact_match01/std: 0.0 | exact_match02: 0.0 | exact_match02/std: 0.0 | loss: 0.3658360540866852 | loss/mean: 0.3658360540866852 | loss/std: 0.0 | lr: 0.0001 | momentum: 0.9\n",
      "* Epoch (18/300) \n"
     ]
    },
    {
     "data": {
      "application/vnd.jupyter.widget-view+json": {
       "model_id": "af5d12b306314eb48d2ab7796f958e34",
       "version_major": 2,
       "version_minor": 0
      },
      "text/plain": [
       "19/300 * Epoch (train):   0%|          | 0/1 [00:00<?, ?it/s]"
      ]
     },
     "metadata": {},
     "output_type": "display_data"
    },
    {
     "name": "stdout",
     "output_type": "stream",
     "text": [
      "train (19/300) loss: 0.5071709752082825 | loss/mean: 0.5071709752082825 | loss/std: 0.0 | lr: 0.0001 | momentum: 0.9\n"
     ]
    },
    {
     "data": {
      "application/vnd.jupyter.widget-view+json": {
       "model_id": "d1b13bf200ff4d8884ba7f97ffd4c016",
       "version_major": 2,
       "version_minor": 0
      },
      "text/plain": [
       "19/300 * Epoch (valid):   0%|          | 0/1 [00:00<?, ?it/s]"
      ]
     },
     "metadata": {},
     "output_type": "display_data"
    },
    {
     "name": "stdout",
     "output_type": "stream",
     "text": [
      "valid (19/300) exact_match01: 0.0 | exact_match01/std: 0.0 | exact_match02: 0.0 | exact_match02/std: 0.0 | loss: 0.348858118057251 | loss/mean: 0.348858118057251 | loss/std: 0.0 | lr: 0.0001 | momentum: 0.9\n",
      "* Epoch (19/300) \n"
     ]
    },
    {
     "data": {
      "application/vnd.jupyter.widget-view+json": {
       "model_id": "011d453317864c43a323a98416a19211",
       "version_major": 2,
       "version_minor": 0
      },
      "text/plain": [
       "20/300 * Epoch (train):   0%|          | 0/1 [00:00<?, ?it/s]"
      ]
     },
     "metadata": {},
     "output_type": "display_data"
    },
    {
     "name": "stdout",
     "output_type": "stream",
     "text": [
      "train (20/300) loss: 0.37855565547943115 | loss/mean: 0.37855565547943115 | loss/std: 0.0 | lr: 0.0001 | momentum: 0.9\n"
     ]
    },
    {
     "data": {
      "application/vnd.jupyter.widget-view+json": {
       "model_id": "d0c11c6375b04c4d846694c1e19eea21",
       "version_major": 2,
       "version_minor": 0
      },
      "text/plain": [
       "20/300 * Epoch (valid):   0%|          | 0/1 [00:00<?, ?it/s]"
      ]
     },
     "metadata": {},
     "output_type": "display_data"
    },
    {
     "name": "stdout",
     "output_type": "stream",
     "text": [
      "valid (20/300) exact_match01: 0.0 | exact_match01/std: 0.0 | exact_match02: 0.0 | exact_match02/std: 0.0 | loss: 0.33264702558517456 | loss/mean: 0.33264702558517456 | loss/std: 0.0 | lr: 0.0001 | momentum: 0.9\n",
      "* Epoch (20/300) \n"
     ]
    },
    {
     "data": {
      "application/vnd.jupyter.widget-view+json": {
       "model_id": "7e87df53bc1748fc985bbeae16af9139",
       "version_major": 2,
       "version_minor": 0
      },
      "text/plain": [
       "21/300 * Epoch (train):   0%|          | 0/1 [00:00<?, ?it/s]"
      ]
     },
     "metadata": {},
     "output_type": "display_data"
    },
    {
     "name": "stdout",
     "output_type": "stream",
     "text": [
      "train (21/300) loss: 0.41226986050605774 | loss/mean: 0.41226986050605774 | loss/std: 0.0 | lr: 0.0001 | momentum: 0.9\n"
     ]
    },
    {
     "data": {
      "application/vnd.jupyter.widget-view+json": {
       "model_id": "3d1dcb19e26841089b3d1a35dea3dce7",
       "version_major": 2,
       "version_minor": 0
      },
      "text/plain": [
       "21/300 * Epoch (valid):   0%|          | 0/1 [00:00<?, ?it/s]"
      ]
     },
     "metadata": {},
     "output_type": "display_data"
    },
    {
     "name": "stdout",
     "output_type": "stream",
     "text": [
      "valid (21/300) exact_match01: 0.0 | exact_match01/std: 0.0 | exact_match02: 0.0 | exact_match02/std: 0.0 | loss: 0.31645405292510986 | loss/mean: 0.31645405292510986 | loss/std: 0.0 | lr: 0.0001 | momentum: 0.9\n",
      "* Epoch (21/300) \n"
     ]
    },
    {
     "data": {
      "application/vnd.jupyter.widget-view+json": {
       "model_id": "384f7d733b9542ea8e92995a26f94ce5",
       "version_major": 2,
       "version_minor": 0
      },
      "text/plain": [
       "22/300 * Epoch (train):   0%|          | 0/1 [00:00<?, ?it/s]"
      ]
     },
     "metadata": {},
     "output_type": "display_data"
    },
    {
     "name": "stdout",
     "output_type": "stream",
     "text": [
      "train (22/300) loss: 0.40348780155181885 | loss/mean: 0.40348780155181885 | loss/std: 0.0 | lr: 0.0001 | momentum: 0.9\n"
     ]
    },
    {
     "data": {
      "application/vnd.jupyter.widget-view+json": {
       "model_id": "37a0d8125a804d5391dd4dc7c4be91fe",
       "version_major": 2,
       "version_minor": 0
      },
      "text/plain": [
       "22/300 * Epoch (valid):   0%|          | 0/1 [00:00<?, ?it/s]"
      ]
     },
     "metadata": {},
     "output_type": "display_data"
    },
    {
     "name": "stdout",
     "output_type": "stream",
     "text": [
      "valid (22/300) exact_match01: 0.0 | exact_match01/std: 0.0 | exact_match02: 0.0 | exact_match02/std: 0.0 | loss: 0.30132928490638733 | loss/mean: 0.30132928490638733 | loss/std: 0.0 | lr: 0.0001 | momentum: 0.9\n",
      "* Epoch (22/300) \n"
     ]
    },
    {
     "data": {
      "application/vnd.jupyter.widget-view+json": {
       "model_id": "be8333c48f06465592e0efad0e392e5f",
       "version_major": 2,
       "version_minor": 0
      },
      "text/plain": [
       "23/300 * Epoch (train):   0%|          | 0/1 [00:00<?, ?it/s]"
      ]
     },
     "metadata": {},
     "output_type": "display_data"
    },
    {
     "name": "stdout",
     "output_type": "stream",
     "text": [
      "train (23/300) loss: 0.386972576379776 | loss/mean: 0.386972576379776 | loss/std: 0.0 | lr: 0.0001 | momentum: 0.9\n"
     ]
    },
    {
     "data": {
      "application/vnd.jupyter.widget-view+json": {
       "model_id": "30c44a38509c4644aa261e71bf683997",
       "version_major": 2,
       "version_minor": 0
      },
      "text/plain": [
       "23/300 * Epoch (valid):   0%|          | 0/1 [00:00<?, ?it/s]"
      ]
     },
     "metadata": {},
     "output_type": "display_data"
    },
    {
     "name": "stdout",
     "output_type": "stream",
     "text": [
      "valid (23/300) exact_match01: 0.0 | exact_match01/std: 0.0 | exact_match02: 0.0 | exact_match02/std: 0.0 | loss: 0.285183846950531 | loss/mean: 0.285183846950531 | loss/std: 0.0 | lr: 0.0001 | momentum: 0.9\n",
      "* Epoch (23/300) \n"
     ]
    },
    {
     "data": {
      "application/vnd.jupyter.widget-view+json": {
       "model_id": "ec6edb59bfb141a1b9f3ed614f2edacf",
       "version_major": 2,
       "version_minor": 0
      },
      "text/plain": [
       "24/300 * Epoch (train):   0%|          | 0/1 [00:00<?, ?it/s]"
      ]
     },
     "metadata": {},
     "output_type": "display_data"
    },
    {
     "name": "stdout",
     "output_type": "stream",
     "text": [
      "train (24/300) loss: 0.41396716237068176 | loss/mean: 0.41396716237068176 | loss/std: 0.0 | lr: 0.0001 | momentum: 0.9\n"
     ]
    },
    {
     "data": {
      "application/vnd.jupyter.widget-view+json": {
       "model_id": "28438383668f43d58a2f045e9fa26f37",
       "version_major": 2,
       "version_minor": 0
      },
      "text/plain": [
       "24/300 * Epoch (valid):   0%|          | 0/1 [00:00<?, ?it/s]"
      ]
     },
     "metadata": {},
     "output_type": "display_data"
    },
    {
     "name": "stdout",
     "output_type": "stream",
     "text": [
      "valid (24/300) exact_match01: 0.0 | exact_match01/std: 0.0 | exact_match02: 0.0 | exact_match02/std: 0.0 | loss: 0.2691819667816162 | loss/mean: 0.2691819667816162 | loss/std: 0.0 | lr: 0.0001 | momentum: 0.9\n",
      "* Epoch (24/300) \n"
     ]
    },
    {
     "data": {
      "application/vnd.jupyter.widget-view+json": {
       "model_id": "0dd94e0289ad400984f95c972d38f7cd",
       "version_major": 2,
       "version_minor": 0
      },
      "text/plain": [
       "25/300 * Epoch (train):   0%|          | 0/1 [00:00<?, ?it/s]"
      ]
     },
     "metadata": {},
     "output_type": "display_data"
    },
    {
     "name": "stdout",
     "output_type": "stream",
     "text": [
      "train (25/300) loss: 0.35884830355644226 | loss/mean: 0.35884830355644226 | loss/std: 0.0 | lr: 0.0001 | momentum: 0.9\n"
     ]
    },
    {
     "data": {
      "application/vnd.jupyter.widget-view+json": {
       "model_id": "83368961e13c4ccca9e3ad440f77676c",
       "version_major": 2,
       "version_minor": 0
      },
      "text/plain": [
       "25/300 * Epoch (valid):   0%|          | 0/1 [00:00<?, ?it/s]"
      ]
     },
     "metadata": {},
     "output_type": "display_data"
    },
    {
     "name": "stdout",
     "output_type": "stream",
     "text": [
      "valid (25/300) exact_match01: 0.0 | exact_match01/std: 0.0 | exact_match02: 0.0 | exact_match02/std: 0.0 | loss: 0.25428134202957153 | loss/mean: 0.25428134202957153 | loss/std: 0.0 | lr: 0.0001 | momentum: 0.9\n",
      "* Epoch (25/300) \n"
     ]
    },
    {
     "data": {
      "application/vnd.jupyter.widget-view+json": {
       "model_id": "53e16e5750264861846b842a9caf8610",
       "version_major": 2,
       "version_minor": 0
      },
      "text/plain": [
       "26/300 * Epoch (train):   0%|          | 0/1 [00:00<?, ?it/s]"
      ]
     },
     "metadata": {},
     "output_type": "display_data"
    },
    {
     "name": "stdout",
     "output_type": "stream",
     "text": [
      "train (26/300) loss: 0.3400762677192688 | loss/mean: 0.3400762677192688 | loss/std: 0.0 | lr: 0.0001 | momentum: 0.9\n"
     ]
    },
    {
     "data": {
      "application/vnd.jupyter.widget-view+json": {
       "model_id": "33e1668e3a02473e8e26e2e84713e307",
       "version_major": 2,
       "version_minor": 0
      },
      "text/plain": [
       "26/300 * Epoch (valid):   0%|          | 0/1 [00:00<?, ?it/s]"
      ]
     },
     "metadata": {},
     "output_type": "display_data"
    },
    {
     "name": "stdout",
     "output_type": "stream",
     "text": [
      "valid (26/300) exact_match01: 0.0 | exact_match01/std: 0.0 | exact_match02: 0.0 | exact_match02/std: 0.0 | loss: 0.2428077757358551 | loss/mean: 0.2428077757358551 | loss/std: 0.0 | lr: 0.0001 | momentum: 0.9\n",
      "* Epoch (26/300) \n"
     ]
    },
    {
     "data": {
      "application/vnd.jupyter.widget-view+json": {
       "model_id": "63182b5c8bef4afdac6d7418871deda4",
       "version_major": 2,
       "version_minor": 0
      },
      "text/plain": [
       "27/300 * Epoch (train):   0%|          | 0/1 [00:00<?, ?it/s]"
      ]
     },
     "metadata": {},
     "output_type": "display_data"
    },
    {
     "name": "stdout",
     "output_type": "stream",
     "text": [
      "train (27/300) loss: 0.30314332246780396 | loss/mean: 0.30314332246780396 | loss/std: 0.0 | lr: 0.0001 | momentum: 0.9\n"
     ]
    },
    {
     "data": {
      "application/vnd.jupyter.widget-view+json": {
       "model_id": "7fb1cca9fa4647cda5454226278b46fa",
       "version_major": 2,
       "version_minor": 0
      },
      "text/plain": [
       "27/300 * Epoch (valid):   0%|          | 0/1 [00:00<?, ?it/s]"
      ]
     },
     "metadata": {},
     "output_type": "display_data"
    },
    {
     "name": "stdout",
     "output_type": "stream",
     "text": [
      "valid (27/300) exact_match01: 0.0 | exact_match01/std: 0.0 | exact_match02: 0.0 | exact_match02/std: 0.0 | loss: 0.2326303869485855 | loss/mean: 0.2326303869485855 | loss/std: 0.0 | lr: 0.0001 | momentum: 0.9\n",
      "* Epoch (27/300) \n"
     ]
    },
    {
     "data": {
      "application/vnd.jupyter.widget-view+json": {
       "model_id": "1d4a9ba6923d41779728776084463f20",
       "version_major": 2,
       "version_minor": 0
      },
      "text/plain": [
       "28/300 * Epoch (train):   0%|          | 0/1 [00:00<?, ?it/s]"
      ]
     },
     "metadata": {},
     "output_type": "display_data"
    },
    {
     "name": "stdout",
     "output_type": "stream",
     "text": [
      "train (28/300) loss: 0.4104669690132141 | loss/mean: 0.4104669690132141 | loss/std: 0.0 | lr: 0.0001 | momentum: 0.9\n"
     ]
    },
    {
     "data": {
      "application/vnd.jupyter.widget-view+json": {
       "model_id": "6cf638d3566f46598209824b5155f066",
       "version_major": 2,
       "version_minor": 0
      },
      "text/plain": [
       "28/300 * Epoch (valid):   0%|          | 0/1 [00:00<?, ?it/s]"
      ]
     },
     "metadata": {},
     "output_type": "display_data"
    },
    {
     "name": "stdout",
     "output_type": "stream",
     "text": [
      "valid (28/300) exact_match01: 0.0 | exact_match01/std: 0.0 | exact_match02: 0.0 | exact_match02/std: 0.0 | loss: 0.22316224873065948 | loss/mean: 0.22316224873065948 | loss/std: 0.0 | lr: 0.0001 | momentum: 0.9\n",
      "* Epoch (28/300) \n"
     ]
    },
    {
     "data": {
      "application/vnd.jupyter.widget-view+json": {
       "model_id": "67f0bfe383dd4e7b8b6db016623c6201",
       "version_major": 2,
       "version_minor": 0
      },
      "text/plain": [
       "29/300 * Epoch (train):   0%|          | 0/1 [00:00<?, ?it/s]"
      ]
     },
     "metadata": {},
     "output_type": "display_data"
    },
    {
     "name": "stdout",
     "output_type": "stream",
     "text": [
      "train (29/300) loss: 0.27313199639320374 | loss/mean: 0.27313199639320374 | loss/std: 0.0 | lr: 0.0001 | momentum: 0.9\n"
     ]
    },
    {
     "data": {
      "application/vnd.jupyter.widget-view+json": {
       "model_id": "b885e07e29b84c8fba869704f76584e7",
       "version_major": 2,
       "version_minor": 0
      },
      "text/plain": [
       "29/300 * Epoch (valid):   0%|          | 0/1 [00:00<?, ?it/s]"
      ]
     },
     "metadata": {},
     "output_type": "display_data"
    },
    {
     "name": "stdout",
     "output_type": "stream",
     "text": [
      "valid (29/300) exact_match01: 0.0 | exact_match01/std: 0.0 | exact_match02: 0.0 | exact_match02/std: 0.0 | loss: 0.21412000060081482 | loss/mean: 0.21412000060081482 | loss/std: 0.0 | lr: 0.0001 | momentum: 0.9\n",
      "* Epoch (29/300) \n"
     ]
    },
    {
     "data": {
      "application/vnd.jupyter.widget-view+json": {
       "model_id": "5dccace96b094fd3819afac05348f084",
       "version_major": 2,
       "version_minor": 0
      },
      "text/plain": [
       "30/300 * Epoch (train):   0%|          | 0/1 [00:00<?, ?it/s]"
      ]
     },
     "metadata": {},
     "output_type": "display_data"
    },
    {
     "name": "stdout",
     "output_type": "stream",
     "text": [
      "train (30/300) loss: 0.2952651083469391 | loss/mean: 0.2952651083469391 | loss/std: 0.0 | lr: 0.0001 | momentum: 0.9\n"
     ]
    },
    {
     "data": {
      "application/vnd.jupyter.widget-view+json": {
       "model_id": "4d98dea9337e49ff9836f2780a3b3014",
       "version_major": 2,
       "version_minor": 0
      },
      "text/plain": [
       "30/300 * Epoch (valid):   0%|          | 0/1 [00:00<?, ?it/s]"
      ]
     },
     "metadata": {},
     "output_type": "display_data"
    },
    {
     "name": "stdout",
     "output_type": "stream",
     "text": [
      "valid (30/300) exact_match01: 0.0 | exact_match01/std: 0.0 | exact_match02: 0.0 | exact_match02/std: 0.0 | loss: 0.20577217638492584 | loss/mean: 0.20577217638492584 | loss/std: 0.0 | lr: 0.0001 | momentum: 0.9\n",
      "* Epoch (30/300) \n"
     ]
    },
    {
     "data": {
      "application/vnd.jupyter.widget-view+json": {
       "model_id": "552ce15e321f4883a5885a50c84f74ea",
       "version_major": 2,
       "version_minor": 0
      },
      "text/plain": [
       "31/300 * Epoch (train):   0%|          | 0/1 [00:00<?, ?it/s]"
      ]
     },
     "metadata": {},
     "output_type": "display_data"
    },
    {
     "name": "stdout",
     "output_type": "stream",
     "text": [
      "train (31/300) loss: 0.3053111135959625 | loss/mean: 0.3053111135959625 | loss/std: 0.0 | lr: 0.0001 | momentum: 0.9\n"
     ]
    },
    {
     "data": {
      "application/vnd.jupyter.widget-view+json": {
       "model_id": "021b05ef0c98491ea33c250ba4447a85",
       "version_major": 2,
       "version_minor": 0
      },
      "text/plain": [
       "31/300 * Epoch (valid):   0%|          | 0/1 [00:00<?, ?it/s]"
      ]
     },
     "metadata": {},
     "output_type": "display_data"
    },
    {
     "name": "stdout",
     "output_type": "stream",
     "text": [
      "valid (31/300) exact_match01: 0.0 | exact_match01/std: 0.0 | exact_match02: 0.0 | exact_match02/std: 0.0 | loss: 0.19855527579784393 | loss/mean: 0.19855527579784393 | loss/std: 0.0 | lr: 0.0001 | momentum: 0.9\n",
      "* Epoch (31/300) \n"
     ]
    },
    {
     "data": {
      "application/vnd.jupyter.widget-view+json": {
       "model_id": "4149f0b25408431790f40efecd1d235d",
       "version_major": 2,
       "version_minor": 0
      },
      "text/plain": [
       "32/300 * Epoch (train):   0%|          | 0/1 [00:00<?, ?it/s]"
      ]
     },
     "metadata": {},
     "output_type": "display_data"
    },
    {
     "name": "stdout",
     "output_type": "stream",
     "text": [
      "train (32/300) loss: 0.23993541300296783 | loss/mean: 0.23993541300296783 | loss/std: 0.0 | lr: 0.0001 | momentum: 0.9\n"
     ]
    },
    {
     "data": {
      "application/vnd.jupyter.widget-view+json": {
       "model_id": "dff0e1507f114bd082d52742acb0527f",
       "version_major": 2,
       "version_minor": 0
      },
      "text/plain": [
       "32/300 * Epoch (valid):   0%|          | 0/1 [00:00<?, ?it/s]"
      ]
     },
     "metadata": {},
     "output_type": "display_data"
    },
    {
     "name": "stdout",
     "output_type": "stream",
     "text": [
      "valid (32/300) exact_match01: 0.0 | exact_match01/std: 0.0 | exact_match02: 0.0 | exact_match02/std: 0.0 | loss: 0.19158095121383667 | loss/mean: 0.19158095121383667 | loss/std: 0.0 | lr: 0.0001 | momentum: 0.9\n",
      "* Epoch (32/300) \n"
     ]
    },
    {
     "data": {
      "application/vnd.jupyter.widget-view+json": {
       "model_id": "5dbc248adc3a4f78bc786dc36015910c",
       "version_major": 2,
       "version_minor": 0
      },
      "text/plain": [
       "33/300 * Epoch (train):   0%|          | 0/1 [00:00<?, ?it/s]"
      ]
     },
     "metadata": {},
     "output_type": "display_data"
    },
    {
     "name": "stdout",
     "output_type": "stream",
     "text": [
      "train (33/300) loss: 0.2878294587135315 | loss/mean: 0.2878294587135315 | loss/std: 0.0 | lr: 0.0001 | momentum: 0.9\n"
     ]
    },
    {
     "data": {
      "application/vnd.jupyter.widget-view+json": {
       "model_id": "7d9c938804c14851add048a2c32edb81",
       "version_major": 2,
       "version_minor": 0
      },
      "text/plain": [
       "33/300 * Epoch (valid):   0%|          | 0/1 [00:00<?, ?it/s]"
      ]
     },
     "metadata": {},
     "output_type": "display_data"
    },
    {
     "name": "stdout",
     "output_type": "stream",
     "text": [
      "valid (33/300) exact_match01: 0.0 | exact_match01/std: 0.0 | exact_match02: 0.0 | exact_match02/std: 0.0 | loss: 0.1848086565732956 | loss/mean: 0.1848086565732956 | loss/std: 0.0 | lr: 0.0001 | momentum: 0.9\n",
      "* Epoch (33/300) \n"
     ]
    },
    {
     "data": {
      "application/vnd.jupyter.widget-view+json": {
       "model_id": "98f167c27b724a1f9b964908b3a9f59f",
       "version_major": 2,
       "version_minor": 0
      },
      "text/plain": [
       "34/300 * Epoch (train):   0%|          | 0/1 [00:00<?, ?it/s]"
      ]
     },
     "metadata": {},
     "output_type": "display_data"
    },
    {
     "name": "stdout",
     "output_type": "stream",
     "text": [
      "train (34/300) loss: 0.23721714317798615 | loss/mean: 0.23721714317798615 | loss/std: 0.0 | lr: 0.0001 | momentum: 0.9\n"
     ]
    },
    {
     "data": {
      "application/vnd.jupyter.widget-view+json": {
       "model_id": "3d638e37019047d8aa532138c28dac94",
       "version_major": 2,
       "version_minor": 0
      },
      "text/plain": [
       "34/300 * Epoch (valid):   0%|          | 0/1 [00:00<?, ?it/s]"
      ]
     },
     "metadata": {},
     "output_type": "display_data"
    },
    {
     "name": "stdout",
     "output_type": "stream",
     "text": [
      "valid (34/300) exact_match01: 0.0 | exact_match01/std: 0.0 | exact_match02: 0.0 | exact_match02/std: 0.0 | loss: 0.17527443170547485 | loss/mean: 0.17527443170547485 | loss/std: 0.0 | lr: 0.0001 | momentum: 0.9\n",
      "* Epoch (34/300) \n"
     ]
    },
    {
     "data": {
      "application/vnd.jupyter.widget-view+json": {
       "model_id": "de8dba9b8b3647339fcb72e943412b94",
       "version_major": 2,
       "version_minor": 0
      },
      "text/plain": [
       "35/300 * Epoch (train):   0%|          | 0/1 [00:00<?, ?it/s]"
      ]
     },
     "metadata": {},
     "output_type": "display_data"
    },
    {
     "name": "stdout",
     "output_type": "stream",
     "text": [
      "train (35/300) loss: 0.18654046952724457 | loss/mean: 0.18654046952724457 | loss/std: 0.0 | lr: 0.0001 | momentum: 0.9\n"
     ]
    },
    {
     "data": {
      "application/vnd.jupyter.widget-view+json": {
       "model_id": "df88c458afba434ab684b654092abbcc",
       "version_major": 2,
       "version_minor": 0
      },
      "text/plain": [
       "35/300 * Epoch (valid):   0%|          | 0/1 [00:00<?, ?it/s]"
      ]
     },
     "metadata": {},
     "output_type": "display_data"
    },
    {
     "name": "stdout",
     "output_type": "stream",
     "text": [
      "valid (35/300) exact_match01: 0.0 | exact_match01/std: 0.0 | exact_match02: 0.0 | exact_match02/std: 0.0 | loss: 0.16483592987060547 | loss/mean: 0.16483592987060547 | loss/std: 0.0 | lr: 0.0001 | momentum: 0.9\n",
      "* Epoch (35/300) \n"
     ]
    },
    {
     "data": {
      "application/vnd.jupyter.widget-view+json": {
       "model_id": "cb887bc5dc724dd49972b86bd076936d",
       "version_major": 2,
       "version_minor": 0
      },
      "text/plain": [
       "36/300 * Epoch (train):   0%|          | 0/1 [00:00<?, ?it/s]"
      ]
     },
     "metadata": {},
     "output_type": "display_data"
    },
    {
     "name": "stdout",
     "output_type": "stream",
     "text": [
      "train (36/300) loss: 0.21546225249767303 | loss/mean: 0.21546225249767303 | loss/std: 0.0 | lr: 0.0001 | momentum: 0.9\n"
     ]
    },
    {
     "data": {
      "application/vnd.jupyter.widget-view+json": {
       "model_id": "7b2136a55b3a41f88569dd4de6d1c869",
       "version_major": 2,
       "version_minor": 0
      },
      "text/plain": [
       "36/300 * Epoch (valid):   0%|          | 0/1 [00:00<?, ?it/s]"
      ]
     },
     "metadata": {},
     "output_type": "display_data"
    },
    {
     "name": "stdout",
     "output_type": "stream",
     "text": [
      "valid (36/300) exact_match01: 0.0 | exact_match01/std: 0.0 | exact_match02: 0.0 | exact_match02/std: 0.0 | loss: 0.15346570312976837 | loss/mean: 0.15346570312976837 | loss/std: 0.0 | lr: 0.0001 | momentum: 0.9\n",
      "* Epoch (36/300) \n"
     ]
    },
    {
     "data": {
      "application/vnd.jupyter.widget-view+json": {
       "model_id": "85fe3c89f26544d7a61dd471855bb2c5",
       "version_major": 2,
       "version_minor": 0
      },
      "text/plain": [
       "37/300 * Epoch (train):   0%|          | 0/1 [00:00<?, ?it/s]"
      ]
     },
     "metadata": {},
     "output_type": "display_data"
    },
    {
     "name": "stdout",
     "output_type": "stream",
     "text": [
      "train (37/300) loss: 0.22260551154613495 | loss/mean: 0.22260551154613495 | loss/std: 0.0 | lr: 0.0001 | momentum: 0.9\n"
     ]
    },
    {
     "data": {
      "application/vnd.jupyter.widget-view+json": {
       "model_id": "3be157b8888e423ab35af92f6ce07ead",
       "version_major": 2,
       "version_minor": 0
      },
      "text/plain": [
       "37/300 * Epoch (valid):   0%|          | 0/1 [00:00<?, ?it/s]"
      ]
     },
     "metadata": {},
     "output_type": "display_data"
    },
    {
     "name": "stdout",
     "output_type": "stream",
     "text": [
      "valid (37/300) exact_match01: 0.0 | exact_match01/std: 0.0 | exact_match02: 0.0 | exact_match02/std: 0.0 | loss: 0.1428387314081192 | loss/mean: 0.1428387314081192 | loss/std: 0.0 | lr: 0.0001 | momentum: 0.9\n",
      "* Epoch (37/300) \n"
     ]
    },
    {
     "data": {
      "application/vnd.jupyter.widget-view+json": {
       "model_id": "6a3bac30784c47a296a748676ed12004",
       "version_major": 2,
       "version_minor": 0
      },
      "text/plain": [
       "38/300 * Epoch (train):   0%|          | 0/1 [00:00<?, ?it/s]"
      ]
     },
     "metadata": {},
     "output_type": "display_data"
    },
    {
     "name": "stdout",
     "output_type": "stream",
     "text": [
      "train (38/300) loss: 0.1886385679244995 | loss/mean: 0.1886385679244995 | loss/std: 0.0 | lr: 0.0001 | momentum: 0.9\n"
     ]
    },
    {
     "data": {
      "application/vnd.jupyter.widget-view+json": {
       "model_id": "486b0022fd2a46dbaba6ef7d135af400",
       "version_major": 2,
       "version_minor": 0
      },
      "text/plain": [
       "38/300 * Epoch (valid):   0%|          | 0/1 [00:00<?, ?it/s]"
      ]
     },
     "metadata": {},
     "output_type": "display_data"
    },
    {
     "name": "stdout",
     "output_type": "stream",
     "text": [
      "valid (38/300) exact_match01: 0.0 | exact_match01/std: 0.0 | exact_match02: 0.0 | exact_match02/std: 0.0 | loss: 0.1314738243818283 | loss/mean: 0.1314738243818283 | loss/std: 0.0 | lr: 0.0001 | momentum: 0.9\n",
      "* Epoch (38/300) \n"
     ]
    },
    {
     "data": {
      "application/vnd.jupyter.widget-view+json": {
       "model_id": "a4519d37d9ae47c8a293fad6774c8a05",
       "version_major": 2,
       "version_minor": 0
      },
      "text/plain": [
       "39/300 * Epoch (train):   0%|          | 0/1 [00:00<?, ?it/s]"
      ]
     },
     "metadata": {},
     "output_type": "display_data"
    },
    {
     "name": "stdout",
     "output_type": "stream",
     "text": [
      "train (39/300) loss: 0.18921911716461182 | loss/mean: 0.18921911716461182 | loss/std: 0.0 | lr: 0.0001 | momentum: 0.9\n"
     ]
    },
    {
     "data": {
      "application/vnd.jupyter.widget-view+json": {
       "model_id": "be240c15385047319fa2325c2569d4e1",
       "version_major": 2,
       "version_minor": 0
      },
      "text/plain": [
       "39/300 * Epoch (valid):   0%|          | 0/1 [00:00<?, ?it/s]"
      ]
     },
     "metadata": {},
     "output_type": "display_data"
    },
    {
     "name": "stdout",
     "output_type": "stream",
     "text": [
      "valid (39/300) exact_match01: 0.0 | exact_match01/std: 0.0 | exact_match02: 0.0 | exact_match02/std: 0.0 | loss: 0.11940126121044159 | loss/mean: 0.11940126121044159 | loss/std: 0.0 | lr: 0.0001 | momentum: 0.9\n",
      "* Epoch (39/300) \n"
     ]
    },
    {
     "data": {
      "application/vnd.jupyter.widget-view+json": {
       "model_id": "13dfe983055d40e1a169b2e31baefec1",
       "version_major": 2,
       "version_minor": 0
      },
      "text/plain": [
       "40/300 * Epoch (train):   0%|          | 0/1 [00:00<?, ?it/s]"
      ]
     },
     "metadata": {},
     "output_type": "display_data"
    },
    {
     "name": "stdout",
     "output_type": "stream",
     "text": [
      "train (40/300) loss: 0.16778446733951569 | loss/mean: 0.16778446733951569 | loss/std: 0.0 | lr: 0.0001 | momentum: 0.9\n"
     ]
    },
    {
     "data": {
      "application/vnd.jupyter.widget-view+json": {
       "model_id": "742ba44b9cfd4fa286d05ebee8194f94",
       "version_major": 2,
       "version_minor": 0
      },
      "text/plain": [
       "40/300 * Epoch (valid):   0%|          | 0/1 [00:00<?, ?it/s]"
      ]
     },
     "metadata": {},
     "output_type": "display_data"
    },
    {
     "name": "stdout",
     "output_type": "stream",
     "text": [
      "valid (40/300) exact_match01: 0.0 | exact_match01/std: 0.0 | exact_match02: 0.0 | exact_match02/std: 0.0 | loss: 0.1075574979186058 | loss/mean: 0.1075574979186058 | loss/std: 0.0 | lr: 0.0001 | momentum: 0.9\n",
      "* Epoch (40/300) \n"
     ]
    },
    {
     "data": {
      "application/vnd.jupyter.widget-view+json": {
       "model_id": "f6d34e2c07194be6960f6ef3af4978ef",
       "version_major": 2,
       "version_minor": 0
      },
      "text/plain": [
       "41/300 * Epoch (train):   0%|          | 0/1 [00:00<?, ?it/s]"
      ]
     },
     "metadata": {},
     "output_type": "display_data"
    },
    {
     "name": "stdout",
     "output_type": "stream",
     "text": [
      "train (41/300) loss: 0.1606207638978958 | loss/mean: 0.1606207638978958 | loss/std: 0.0 | lr: 0.0001 | momentum: 0.9\n"
     ]
    },
    {
     "data": {
      "application/vnd.jupyter.widget-view+json": {
       "model_id": "877ca9a507b745b99025a36ee12276bb",
       "version_major": 2,
       "version_minor": 0
      },
      "text/plain": [
       "41/300 * Epoch (valid):   0%|          | 0/1 [00:00<?, ?it/s]"
      ]
     },
     "metadata": {},
     "output_type": "display_data"
    },
    {
     "name": "stdout",
     "output_type": "stream",
     "text": [
      "valid (41/300) exact_match01: 0.0 | exact_match01/std: 0.0 | exact_match02: 0.0 | exact_match02/std: 0.0 | loss: 0.0955454409122467 | loss/mean: 0.0955454409122467 | loss/std: 0.0 | lr: 0.0001 | momentum: 0.9\n",
      "* Epoch (41/300) \n"
     ]
    },
    {
     "data": {
      "application/vnd.jupyter.widget-view+json": {
       "model_id": "e32a00bc7cbc45f8a126536052b7bf89",
       "version_major": 2,
       "version_minor": 0
      },
      "text/plain": [
       "42/300 * Epoch (train):   0%|          | 0/1 [00:00<?, ?it/s]"
      ]
     },
     "metadata": {},
     "output_type": "display_data"
    },
    {
     "name": "stdout",
     "output_type": "stream",
     "text": [
      "train (42/300) loss: 0.1444275677204132 | loss/mean: 0.1444275677204132 | loss/std: 0.0 | lr: 0.0001 | momentum: 0.9\n"
     ]
    },
    {
     "data": {
      "application/vnd.jupyter.widget-view+json": {
       "model_id": "79568225364f4954ab5920130fbe7be0",
       "version_major": 2,
       "version_minor": 0
      },
      "text/plain": [
       "42/300 * Epoch (valid):   0%|          | 0/1 [00:00<?, ?it/s]"
      ]
     },
     "metadata": {},
     "output_type": "display_data"
    },
    {
     "name": "stdout",
     "output_type": "stream",
     "text": [
      "valid (42/300) exact_match01: 0.0 | exact_match01/std: 0.0 | exact_match02: 0.0 | exact_match02/std: 0.0 | loss: 0.08372551947832108 | loss/mean: 0.08372551947832108 | loss/std: 0.0 | lr: 0.0001 | momentum: 0.9\n",
      "* Epoch (42/300) \n"
     ]
    },
    {
     "data": {
      "application/vnd.jupyter.widget-view+json": {
       "model_id": "2235988f3ccb4cf28aa7c9e96dae1f11",
       "version_major": 2,
       "version_minor": 0
      },
      "text/plain": [
       "43/300 * Epoch (train):   0%|          | 0/1 [00:00<?, ?it/s]"
      ]
     },
     "metadata": {},
     "output_type": "display_data"
    },
    {
     "name": "stdout",
     "output_type": "stream",
     "text": [
      "train (43/300) loss: 0.15800970792770386 | loss/mean: 0.15800970792770386 | loss/std: 0.0 | lr: 0.0001 | momentum: 0.9\n"
     ]
    },
    {
     "data": {
      "application/vnd.jupyter.widget-view+json": {
       "model_id": "bc72713395b74b6b8bb6028a6068f5a1",
       "version_major": 2,
       "version_minor": 0
      },
      "text/plain": [
       "43/300 * Epoch (valid):   0%|          | 0/1 [00:00<?, ?it/s]"
      ]
     },
     "metadata": {},
     "output_type": "display_data"
    },
    {
     "name": "stdout",
     "output_type": "stream",
     "text": [
      "valid (43/300) exact_match01: 0.0 | exact_match01/std: 0.0 | exact_match02: 0.0 | exact_match02/std: 0.0 | loss: 0.0732349082827568 | loss/mean: 0.0732349082827568 | loss/std: 0.0 | lr: 0.0001 | momentum: 0.9\n",
      "* Epoch (43/300) \n"
     ]
    },
    {
     "data": {
      "application/vnd.jupyter.widget-view+json": {
       "model_id": "281473217a574227bddf5563f7c0b32a",
       "version_major": 2,
       "version_minor": 0
      },
      "text/plain": [
       "44/300 * Epoch (train):   0%|          | 0/1 [00:00<?, ?it/s]"
      ]
     },
     "metadata": {},
     "output_type": "display_data"
    },
    {
     "name": "stdout",
     "output_type": "stream",
     "text": [
      "train (44/300) loss: 0.11528615653514862 | loss/mean: 0.11528615653514862 | loss/std: 0.0 | lr: 0.0001 | momentum: 0.9\n"
     ]
    },
    {
     "data": {
      "application/vnd.jupyter.widget-view+json": {
       "model_id": "23471d1d2e7f4afe84edebec249a32e4",
       "version_major": 2,
       "version_minor": 0
      },
      "text/plain": [
       "44/300 * Epoch (valid):   0%|          | 0/1 [00:00<?, ?it/s]"
      ]
     },
     "metadata": {},
     "output_type": "display_data"
    },
    {
     "name": "stdout",
     "output_type": "stream",
     "text": [
      "valid (44/300) exact_match01: 0.0 | exact_match01/std: 0.0 | exact_match02: 0.0 | exact_match02/std: 0.0 | loss: 0.06357399374246597 | loss/mean: 0.06357399374246597 | loss/std: 0.0 | lr: 0.0001 | momentum: 0.9\n",
      "* Epoch (44/300) \n"
     ]
    },
    {
     "data": {
      "application/vnd.jupyter.widget-view+json": {
       "model_id": "7ededd1ea33945adb64a08aa9f65e295",
       "version_major": 2,
       "version_minor": 0
      },
      "text/plain": [
       "45/300 * Epoch (train):   0%|          | 0/1 [00:00<?, ?it/s]"
      ]
     },
     "metadata": {},
     "output_type": "display_data"
    },
    {
     "name": "stdout",
     "output_type": "stream",
     "text": [
      "train (45/300) loss: 0.17410890758037567 | loss/mean: 0.17410890758037567 | loss/std: 0.0 | lr: 0.0001 | momentum: 0.9\n"
     ]
    },
    {
     "data": {
      "application/vnd.jupyter.widget-view+json": {
       "model_id": "98ee45da811843199fb4d9d5b86122a7",
       "version_major": 2,
       "version_minor": 0
      },
      "text/plain": [
       "45/300 * Epoch (valid):   0%|          | 0/1 [00:00<?, ?it/s]"
      ]
     },
     "metadata": {},
     "output_type": "display_data"
    },
    {
     "name": "stdout",
     "output_type": "stream",
     "text": [
      "valid (45/300) exact_match01: 0.0 | exact_match01/std: 0.0 | exact_match02: 0.0 | exact_match02/std: 0.0 | loss: 0.05447772517800331 | loss/mean: 0.05447772517800331 | loss/std: 0.0 | lr: 0.0001 | momentum: 0.9\n",
      "* Epoch (45/300) \n"
     ]
    },
    {
     "data": {
      "application/vnd.jupyter.widget-view+json": {
       "model_id": "e6c7dc2e7d9e4641b4234d9d4b18942f",
       "version_major": 2,
       "version_minor": 0
      },
      "text/plain": [
       "46/300 * Epoch (train):   0%|          | 0/1 [00:00<?, ?it/s]"
      ]
     },
     "metadata": {},
     "output_type": "display_data"
    },
    {
     "name": "stdout",
     "output_type": "stream",
     "text": [
      "train (46/300) loss: 0.115211620926857 | loss/mean: 0.115211620926857 | loss/std: 0.0 | lr: 0.0001 | momentum: 0.9\n"
     ]
    },
    {
     "data": {
      "application/vnd.jupyter.widget-view+json": {
       "model_id": "f7a2c06e0ec747feaa9b3aa5c461d02b",
       "version_major": 2,
       "version_minor": 0
      },
      "text/plain": [
       "46/300 * Epoch (valid):   0%|          | 0/1 [00:00<?, ?it/s]"
      ]
     },
     "metadata": {},
     "output_type": "display_data"
    },
    {
     "name": "stdout",
     "output_type": "stream",
     "text": [
      "valid (46/300) exact_match01: 0.0 | exact_match01/std: 0.0 | exact_match02: 0.0 | exact_match02/std: 0.0 | loss: 0.047024961560964584 | loss/mean: 0.047024961560964584 | loss/std: 0.0 | lr: 0.0001 | momentum: 0.9\n",
      "* Epoch (46/300) \n"
     ]
    },
    {
     "data": {
      "application/vnd.jupyter.widget-view+json": {
       "model_id": "c228f8f9e9bb4ea49df5a13b783e9a53",
       "version_major": 2,
       "version_minor": 0
      },
      "text/plain": [
       "47/300 * Epoch (train):   0%|          | 0/1 [00:00<?, ?it/s]"
      ]
     },
     "metadata": {},
     "output_type": "display_data"
    },
    {
     "name": "stdout",
     "output_type": "stream",
     "text": [
      "train (47/300) loss: 0.12223216891288757 | loss/mean: 0.12223216891288757 | loss/std: 0.0 | lr: 0.0001 | momentum: 0.9\n"
     ]
    },
    {
     "data": {
      "application/vnd.jupyter.widget-view+json": {
       "model_id": "f507e4f0e99044db9d1618907d86b305",
       "version_major": 2,
       "version_minor": 0
      },
      "text/plain": [
       "47/300 * Epoch (valid):   0%|          | 0/1 [00:00<?, ?it/s]"
      ]
     },
     "metadata": {},
     "output_type": "display_data"
    },
    {
     "name": "stdout",
     "output_type": "stream",
     "text": [
      "valid (47/300) exact_match01: 0.0 | exact_match01/std: 0.0 | exact_match02: 0.0 | exact_match02/std: 0.0 | loss: 0.040320731699466705 | loss/mean: 0.040320731699466705 | loss/std: 0.0 | lr: 0.0001 | momentum: 0.9\n",
      "* Epoch (47/300) \n"
     ]
    },
    {
     "data": {
      "application/vnd.jupyter.widget-view+json": {
       "model_id": "50a105479b6549dbab168db81bdc7b87",
       "version_major": 2,
       "version_minor": 0
      },
      "text/plain": [
       "48/300 * Epoch (train):   0%|          | 0/1 [00:00<?, ?it/s]"
      ]
     },
     "metadata": {},
     "output_type": "display_data"
    },
    {
     "name": "stdout",
     "output_type": "stream",
     "text": [
      "train (48/300) loss: 0.1276240050792694 | loss/mean: 0.1276240050792694 | loss/std: 0.0 | lr: 0.0001 | momentum: 0.9\n"
     ]
    },
    {
     "data": {
      "application/vnd.jupyter.widget-view+json": {
       "model_id": "52c55411c96c43ad9b4db413c5ac5472",
       "version_major": 2,
       "version_minor": 0
      },
      "text/plain": [
       "48/300 * Epoch (valid):   0%|          | 0/1 [00:00<?, ?it/s]"
      ]
     },
     "metadata": {},
     "output_type": "display_data"
    },
    {
     "name": "stdout",
     "output_type": "stream",
     "text": [
      "valid (48/300) exact_match01: 0.0 | exact_match01/std: 0.0 | exact_match02: 0.0 | exact_match02/std: 0.0 | loss: 0.03575798124074936 | loss/mean: 0.03575798124074936 | loss/std: 0.0 | lr: 0.0001 | momentum: 0.9\n",
      "* Epoch (48/300) \n"
     ]
    },
    {
     "data": {
      "application/vnd.jupyter.widget-view+json": {
       "model_id": "75eb91915def45b1b6cc7e5b11766dc5",
       "version_major": 2,
       "version_minor": 0
      },
      "text/plain": [
       "49/300 * Epoch (train):   0%|          | 0/1 [00:00<?, ?it/s]"
      ]
     },
     "metadata": {},
     "output_type": "display_data"
    },
    {
     "name": "stdout",
     "output_type": "stream",
     "text": [
      "train (49/300) loss: 0.1385425329208374 | loss/mean: 0.1385425329208374 | loss/std: 0.0 | lr: 0.0001 | momentum: 0.9\n"
     ]
    },
    {
     "data": {
      "application/vnd.jupyter.widget-view+json": {
       "model_id": "ed5c9eaf6e6e42f1a436ca981656ae2b",
       "version_major": 2,
       "version_minor": 0
      },
      "text/plain": [
       "49/300 * Epoch (valid):   0%|          | 0/1 [00:00<?, ?it/s]"
      ]
     },
     "metadata": {},
     "output_type": "display_data"
    },
    {
     "name": "stdout",
     "output_type": "stream",
     "text": [
      "valid (49/300) exact_match01: 0.0 | exact_match01/std: 0.0 | exact_match02: 0.0 | exact_match02/std: 0.0 | loss: 0.03033764846622944 | loss/mean: 0.03033764846622944 | loss/std: 0.0 | lr: 0.0001 | momentum: 0.9\n",
      "* Epoch (49/300) \n"
     ]
    },
    {
     "data": {
      "application/vnd.jupyter.widget-view+json": {
       "model_id": "e9644965ace64ff0bf6397c6f7e219d1",
       "version_major": 2,
       "version_minor": 0
      },
      "text/plain": [
       "50/300 * Epoch (train):   0%|          | 0/1 [00:00<?, ?it/s]"
      ]
     },
     "metadata": {},
     "output_type": "display_data"
    },
    {
     "name": "stdout",
     "output_type": "stream",
     "text": [
      "train (50/300) loss: 0.1283731907606125 | loss/mean: 0.1283731907606125 | loss/std: 0.0 | lr: 0.0001 | momentum: 0.9\n"
     ]
    },
    {
     "data": {
      "application/vnd.jupyter.widget-view+json": {
       "model_id": "fbcd64f4527a43769dd0d70bf028beaf",
       "version_major": 2,
       "version_minor": 0
      },
      "text/plain": [
       "50/300 * Epoch (valid):   0%|          | 0/1 [00:00<?, ?it/s]"
      ]
     },
     "metadata": {},
     "output_type": "display_data"
    },
    {
     "name": "stdout",
     "output_type": "stream",
     "text": [
      "valid (50/300) exact_match01: 1.0 | exact_match01/std: 0.0 | exact_match02: 1.0 | exact_match02/std: 0.0 | loss: 0.02639188803732395 | loss/mean: 0.02639188803732395 | loss/std: 0.0 | lr: 0.0001 | momentum: 0.9\n",
      "* Epoch (50/300) \n"
     ]
    },
    {
     "data": {
      "application/vnd.jupyter.widget-view+json": {
       "model_id": "90defe2638934a308b163f643b4b6a3f",
       "version_major": 2,
       "version_minor": 0
      },
      "text/plain": [
       "51/300 * Epoch (train):   0%|          | 0/1 [00:00<?, ?it/s]"
      ]
     },
     "metadata": {},
     "output_type": "display_data"
    },
    {
     "name": "stdout",
     "output_type": "stream",
     "text": [
      "train (51/300) loss: 0.07780690491199493 | loss/mean: 0.07780690491199493 | loss/std: 0.0 | lr: 0.0001 | momentum: 0.9\n"
     ]
    },
    {
     "data": {
      "application/vnd.jupyter.widget-view+json": {
       "model_id": "8af644209dae4fe5a0f1332c64d7914d",
       "version_major": 2,
       "version_minor": 0
      },
      "text/plain": [
       "51/300 * Epoch (valid):   0%|          | 0/1 [00:00<?, ?it/s]"
      ]
     },
     "metadata": {},
     "output_type": "display_data"
    },
    {
     "name": "stdout",
     "output_type": "stream",
     "text": [
      "valid (51/300) exact_match01: 1.0 | exact_match01/std: 0.0 | exact_match02: 1.0 | exact_match02/std: 0.0 | loss: 0.02245393767952919 | loss/mean: 0.02245393767952919 | loss/std: 0.0 | lr: 0.0001 | momentum: 0.9\n",
      "* Epoch (51/300) \n"
     ]
    },
    {
     "data": {
      "application/vnd.jupyter.widget-view+json": {
       "model_id": "87c0c60829ce4459944a7bc98cfa6360",
       "version_major": 2,
       "version_minor": 0
      },
      "text/plain": [
       "52/300 * Epoch (train):   0%|          | 0/1 [00:00<?, ?it/s]"
      ]
     },
     "metadata": {},
     "output_type": "display_data"
    },
    {
     "name": "stdout",
     "output_type": "stream",
     "text": [
      "train (52/300) loss: 0.11915400624275208 | loss/mean: 0.11915400624275208 | loss/std: 0.0 | lr: 0.0001 | momentum: 0.9\n"
     ]
    },
    {
     "data": {
      "application/vnd.jupyter.widget-view+json": {
       "model_id": "4dbcf3fb4683478e8425e17b726dc1e3",
       "version_major": 2,
       "version_minor": 0
      },
      "text/plain": [
       "52/300 * Epoch (valid):   0%|          | 0/1 [00:00<?, ?it/s]"
      ]
     },
     "metadata": {},
     "output_type": "display_data"
    },
    {
     "name": "stdout",
     "output_type": "stream",
     "text": [
      "valid (52/300) exact_match01: 1.0 | exact_match01/std: 0.0 | exact_match02: 1.0 | exact_match02/std: 0.0 | loss: 0.018561819568276405 | loss/mean: 0.018561819568276405 | loss/std: 0.0 | lr: 0.0001 | momentum: 0.9\n",
      "* Epoch (52/300) \n"
     ]
    },
    {
     "data": {
      "application/vnd.jupyter.widget-view+json": {
       "model_id": "f00713218b074a72b000ef4eaa77bfa4",
       "version_major": 2,
       "version_minor": 0
      },
      "text/plain": [
       "53/300 * Epoch (train):   0%|          | 0/1 [00:00<?, ?it/s]"
      ]
     },
     "metadata": {},
     "output_type": "display_data"
    },
    {
     "name": "stdout",
     "output_type": "stream",
     "text": [
      "train (53/300) loss: 0.03417093679308891 | loss/mean: 0.03417093679308891 | loss/std: 0.0 | lr: 0.0001 | momentum: 0.9\n"
     ]
    },
    {
     "data": {
      "application/vnd.jupyter.widget-view+json": {
       "model_id": "411f649a7e944d3f9f95e11dd92ffa39",
       "version_major": 2,
       "version_minor": 0
      },
      "text/plain": [
       "53/300 * Epoch (valid):   0%|          | 0/1 [00:00<?, ?it/s]"
      ]
     },
     "metadata": {},
     "output_type": "display_data"
    },
    {
     "name": "stdout",
     "output_type": "stream",
     "text": [
      "valid (53/300) exact_match01: 1.0 | exact_match01/std: 0.0 | exact_match02: 1.0 | exact_match02/std: 0.0 | loss: 0.015366734005510807 | loss/mean: 0.015366734005510807 | loss/std: 0.0 | lr: 0.0001 | momentum: 0.9\n",
      "* Epoch (53/300) \n"
     ]
    },
    {
     "data": {
      "application/vnd.jupyter.widget-view+json": {
       "model_id": "c6ec5b82d0b0449793aef0ee31676814",
       "version_major": 2,
       "version_minor": 0
      },
      "text/plain": [
       "54/300 * Epoch (train):   0%|          | 0/1 [00:00<?, ?it/s]"
      ]
     },
     "metadata": {},
     "output_type": "display_data"
    },
    {
     "name": "stdout",
     "output_type": "stream",
     "text": [
      "train (54/300) loss: 0.06237839534878731 | loss/mean: 0.06237839534878731 | loss/std: 0.0 | lr: 0.0001 | momentum: 0.9\n"
     ]
    },
    {
     "data": {
      "application/vnd.jupyter.widget-view+json": {
       "model_id": "1700f0c46ad44c658e72aca6b6afd699",
       "version_major": 2,
       "version_minor": 0
      },
      "text/plain": [
       "54/300 * Epoch (valid):   0%|          | 0/1 [00:00<?, ?it/s]"
      ]
     },
     "metadata": {},
     "output_type": "display_data"
    },
    {
     "name": "stdout",
     "output_type": "stream",
     "text": [
      "valid (54/300) exact_match01: 1.0 | exact_match01/std: 0.0 | exact_match02: 1.0 | exact_match02/std: 0.0 | loss: 0.012447360903024673 | loss/mean: 0.012447360903024673 | loss/std: 0.0 | lr: 0.0001 | momentum: 0.9\n",
      "* Epoch (54/300) \n"
     ]
    },
    {
     "data": {
      "application/vnd.jupyter.widget-view+json": {
       "model_id": "e3b4c2c9acd14d1b99ce225d7fa7384f",
       "version_major": 2,
       "version_minor": 0
      },
      "text/plain": [
       "55/300 * Epoch (train):   0%|          | 0/1 [00:00<?, ?it/s]"
      ]
     },
     "metadata": {},
     "output_type": "display_data"
    },
    {
     "name": "stdout",
     "output_type": "stream",
     "text": [
      "train (55/300) loss: 0.07352551072835922 | loss/mean: 0.07352551072835922 | loss/std: 0.0 | lr: 0.0001 | momentum: 0.9\n"
     ]
    },
    {
     "data": {
      "application/vnd.jupyter.widget-view+json": {
       "model_id": "888f1b2d7d0d40bc914f7d718a1dada0",
       "version_major": 2,
       "version_minor": 0
      },
      "text/plain": [
       "55/300 * Epoch (valid):   0%|          | 0/1 [00:00<?, ?it/s]"
      ]
     },
     "metadata": {},
     "output_type": "display_data"
    },
    {
     "name": "stdout",
     "output_type": "stream",
     "text": [
      "valid (55/300) exact_match01: 1.0 | exact_match01/std: 0.0 | exact_match02: 1.0 | exact_match02/std: 0.0 | loss: 0.010285258293151855 | loss/mean: 0.010285258293151855 | loss/std: 0.0 | lr: 0.0001 | momentum: 0.9\n",
      "* Epoch (55/300) \n"
     ]
    },
    {
     "data": {
      "application/vnd.jupyter.widget-view+json": {
       "model_id": "a56f7a8951fa48bdab7a7fff23cfcdcf",
       "version_major": 2,
       "version_minor": 0
      },
      "text/plain": [
       "56/300 * Epoch (train):   0%|          | 0/1 [00:00<?, ?it/s]"
      ]
     },
     "metadata": {},
     "output_type": "display_data"
    },
    {
     "name": "stdout",
     "output_type": "stream",
     "text": [
      "train (56/300) loss: 0.04839519411325455 | loss/mean: 0.04839519411325455 | loss/std: 0.0 | lr: 0.0001 | momentum: 0.9\n"
     ]
    },
    {
     "data": {
      "application/vnd.jupyter.widget-view+json": {
       "model_id": "6067c55f19084c3b85427fff99a948ef",
       "version_major": 2,
       "version_minor": 0
      },
      "text/plain": [
       "56/300 * Epoch (valid):   0%|          | 0/1 [00:00<?, ?it/s]"
      ]
     },
     "metadata": {},
     "output_type": "display_data"
    },
    {
     "name": "stdout",
     "output_type": "stream",
     "text": [
      "valid (56/300) exact_match01: 1.0 | exact_match01/std: 0.0 | exact_match02: 1.0 | exact_match02/std: 0.0 | loss: 0.00803880300372839 | loss/mean: 0.00803880300372839 | loss/std: 0.0 | lr: 0.0001 | momentum: 0.9\n",
      "* Epoch (56/300) \n"
     ]
    },
    {
     "data": {
      "application/vnd.jupyter.widget-view+json": {
       "model_id": "bd677336acac4323990bc8d737f95ee4",
       "version_major": 2,
       "version_minor": 0
      },
      "text/plain": [
       "57/300 * Epoch (train):   0%|          | 0/1 [00:00<?, ?it/s]"
      ]
     },
     "metadata": {},
     "output_type": "display_data"
    },
    {
     "name": "stdout",
     "output_type": "stream",
     "text": [
      "train (57/300) loss: 0.03859131038188934 | loss/mean: 0.03859131038188934 | loss/std: 0.0 | lr: 0.0001 | momentum: 0.9\n"
     ]
    },
    {
     "data": {
      "application/vnd.jupyter.widget-view+json": {
       "model_id": "dac34d1f42b54d5ca05464e0c294c9df",
       "version_major": 2,
       "version_minor": 0
      },
      "text/plain": [
       "57/300 * Epoch (valid):   0%|          | 0/1 [00:00<?, ?it/s]"
      ]
     },
     "metadata": {},
     "output_type": "display_data"
    },
    {
     "name": "stdout",
     "output_type": "stream",
     "text": [
      "valid (57/300) exact_match01: 1.0 | exact_match01/std: 0.0 | exact_match02: 1.0 | exact_match02/std: 0.0 | loss: 0.006530093494802713 | loss/mean: 0.006530093494802713 | loss/std: 0.0 | lr: 0.0001 | momentum: 0.9\n",
      "* Epoch (57/300) \n"
     ]
    },
    {
     "data": {
      "application/vnd.jupyter.widget-view+json": {
       "model_id": "a5c9c27cb34f49789476bc7e49709b37",
       "version_major": 2,
       "version_minor": 0
      },
      "text/plain": [
       "58/300 * Epoch (train):   0%|          | 0/1 [00:00<?, ?it/s]"
      ]
     },
     "metadata": {},
     "output_type": "display_data"
    },
    {
     "name": "stdout",
     "output_type": "stream",
     "text": [
      "train (58/300) loss: 0.032210856676101685 | loss/mean: 0.032210856676101685 | loss/std: 0.0 | lr: 0.0001 | momentum: 0.9\n"
     ]
    },
    {
     "data": {
      "application/vnd.jupyter.widget-view+json": {
       "model_id": "8acba5d5568e47b38d4687c9b37adb0c",
       "version_major": 2,
       "version_minor": 0
      },
      "text/plain": [
       "58/300 * Epoch (valid):   0%|          | 0/1 [00:00<?, ?it/s]"
      ]
     },
     "metadata": {},
     "output_type": "display_data"
    },
    {
     "name": "stdout",
     "output_type": "stream",
     "text": [
      "valid (58/300) exact_match01: 1.0 | exact_match01/std: 0.0 | exact_match02: 1.0 | exact_match02/std: 0.0 | loss: 0.005235742777585983 | loss/mean: 0.005235742777585983 | loss/std: 0.0 | lr: 0.0001 | momentum: 0.9\n",
      "* Epoch (58/300) \n"
     ]
    },
    {
     "data": {
      "application/vnd.jupyter.widget-view+json": {
       "model_id": "bce6c4fef8d64a418f3a8523588e9d0a",
       "version_major": 2,
       "version_minor": 0
      },
      "text/plain": [
       "59/300 * Epoch (train):   0%|          | 0/1 [00:00<?, ?it/s]"
      ]
     },
     "metadata": {},
     "output_type": "display_data"
    },
    {
     "name": "stdout",
     "output_type": "stream",
     "text": [
      "train (59/300) loss: 0.0492352694272995 | loss/mean: 0.0492352694272995 | loss/std: 0.0 | lr: 0.0001 | momentum: 0.9\n"
     ]
    },
    {
     "data": {
      "application/vnd.jupyter.widget-view+json": {
       "model_id": "3916374dfcb24416ae9aea3b7a2cb489",
       "version_major": 2,
       "version_minor": 0
      },
      "text/plain": [
       "59/300 * Epoch (valid):   0%|          | 0/1 [00:00<?, ?it/s]"
      ]
     },
     "metadata": {},
     "output_type": "display_data"
    },
    {
     "name": "stdout",
     "output_type": "stream",
     "text": [
      "valid (59/300) exact_match01: 1.0 | exact_match01/std: 0.0 | exact_match02: 1.0 | exact_match02/std: 0.0 | loss: 0.004178998991847038 | loss/mean: 0.004178998991847038 | loss/std: 0.0 | lr: 0.0001 | momentum: 0.9\n",
      "* Epoch (59/300) \n"
     ]
    },
    {
     "data": {
      "application/vnd.jupyter.widget-view+json": {
       "model_id": "67ff3bf8c9d44a36b8399a0b4893b6bb",
       "version_major": 2,
       "version_minor": 0
      },
      "text/plain": [
       "60/300 * Epoch (train):   0%|          | 0/1 [00:00<?, ?it/s]"
      ]
     },
     "metadata": {},
     "output_type": "display_data"
    },
    {
     "name": "stdout",
     "output_type": "stream",
     "text": [
      "train (60/300) loss: 0.027791406959295273 | loss/mean: 0.027791406959295273 | loss/std: 0.0 | lr: 0.0001 | momentum: 0.9\n"
     ]
    },
    {
     "data": {
      "application/vnd.jupyter.widget-view+json": {
       "model_id": "c580d6ccc0c34c548eeb69c170a849b8",
       "version_major": 2,
       "version_minor": 0
      },
      "text/plain": [
       "60/300 * Epoch (valid):   0%|          | 0/1 [00:00<?, ?it/s]"
      ]
     },
     "metadata": {},
     "output_type": "display_data"
    },
    {
     "name": "stdout",
     "output_type": "stream",
     "text": [
      "valid (60/300) exact_match01: 1.0 | exact_match01/std: 0.0 | exact_match02: 1.0 | exact_match02/std: 0.0 | loss: 0.003436747705563903 | loss/mean: 0.003436747705563903 | loss/std: 0.0 | lr: 0.0001 | momentum: 0.9\n",
      "* Epoch (60/300) \n"
     ]
    },
    {
     "data": {
      "application/vnd.jupyter.widget-view+json": {
       "model_id": "b429b4c3218f405bac6f8214d960fc2c",
       "version_major": 2,
       "version_minor": 0
      },
      "text/plain": [
       "61/300 * Epoch (train):   0%|          | 0/1 [00:00<?, ?it/s]"
      ]
     },
     "metadata": {},
     "output_type": "display_data"
    },
    {
     "name": "stdout",
     "output_type": "stream",
     "text": [
      "train (61/300) loss: 0.02961169183254242 | loss/mean: 0.02961169183254242 | loss/std: 0.0 | lr: 0.0001 | momentum: 0.9\n"
     ]
    },
    {
     "data": {
      "application/vnd.jupyter.widget-view+json": {
       "model_id": "371bfb2b9a504d0aa5f36dae94028718",
       "version_major": 2,
       "version_minor": 0
      },
      "text/plain": [
       "61/300 * Epoch (valid):   0%|          | 0/1 [00:00<?, ?it/s]"
      ]
     },
     "metadata": {},
     "output_type": "display_data"
    },
    {
     "name": "stdout",
     "output_type": "stream",
     "text": [
      "valid (61/300) exact_match01: 1.0 | exact_match01/std: 0.0 | exact_match02: 1.0 | exact_match02/std: 0.0 | loss: 0.002899765269830823 | loss/mean: 0.002899765269830823 | loss/std: 0.0 | lr: 0.0001 | momentum: 0.9\n",
      "* Epoch (61/300) \n"
     ]
    },
    {
     "data": {
      "application/vnd.jupyter.widget-view+json": {
       "model_id": "8ac3de57caa54ba79d45e53b978c178b",
       "version_major": 2,
       "version_minor": 0
      },
      "text/plain": [
       "62/300 * Epoch (train):   0%|          | 0/1 [00:00<?, ?it/s]"
      ]
     },
     "metadata": {},
     "output_type": "display_data"
    },
    {
     "name": "stdout",
     "output_type": "stream",
     "text": [
      "train (62/300) loss: 0.023670369759202003 | loss/mean: 0.023670369759202003 | loss/std: 0.0 | lr: 0.0001 | momentum: 0.9\n"
     ]
    },
    {
     "data": {
      "application/vnd.jupyter.widget-view+json": {
       "model_id": "9e0e55bbaf204b1c8e080d12139cc80a",
       "version_major": 2,
       "version_minor": 0
      },
      "text/plain": [
       "62/300 * Epoch (valid):   0%|          | 0/1 [00:00<?, ?it/s]"
      ]
     },
     "metadata": {},
     "output_type": "display_data"
    },
    {
     "name": "stdout",
     "output_type": "stream",
     "text": [
      "valid (62/300) exact_match01: 1.0 | exact_match01/std: 0.0 | exact_match02: 1.0 | exact_match02/std: 0.0 | loss: 0.002355748089030385 | loss/mean: 0.002355748089030385 | loss/std: 0.0 | lr: 0.0001 | momentum: 0.9\n",
      "* Epoch (62/300) \n"
     ]
    },
    {
     "data": {
      "application/vnd.jupyter.widget-view+json": {
       "model_id": "6c6dbb591c3040eb86d1612584875bb1",
       "version_major": 2,
       "version_minor": 0
      },
      "text/plain": [
       "63/300 * Epoch (train):   0%|          | 0/1 [00:00<?, ?it/s]"
      ]
     },
     "metadata": {},
     "output_type": "display_data"
    },
    {
     "name": "stdout",
     "output_type": "stream",
     "text": [
      "train (63/300) loss: 0.041721634566783905 | loss/mean: 0.041721634566783905 | loss/std: 0.0 | lr: 0.0001 | momentum: 0.9\n"
     ]
    },
    {
     "data": {
      "application/vnd.jupyter.widget-view+json": {
       "model_id": "233c85a622724c328a0a7638f19791e1",
       "version_major": 2,
       "version_minor": 0
      },
      "text/plain": [
       "63/300 * Epoch (valid):   0%|          | 0/1 [00:00<?, ?it/s]"
      ]
     },
     "metadata": {},
     "output_type": "display_data"
    },
    {
     "name": "stdout",
     "output_type": "stream",
     "text": [
      "valid (63/300) exact_match01: 1.0 | exact_match01/std: 0.0 | exact_match02: 1.0 | exact_match02/std: 0.0 | loss: 0.0019353805109858513 | loss/mean: 0.0019353805109858513 | loss/std: 0.0 | lr: 0.0001 | momentum: 0.9\n",
      "* Epoch (63/300) \n"
     ]
    },
    {
     "data": {
      "application/vnd.jupyter.widget-view+json": {
       "model_id": "af7a93634a714bd790d94dbf02496132",
       "version_major": 2,
       "version_minor": 0
      },
      "text/plain": [
       "64/300 * Epoch (train):   0%|          | 0/1 [00:00<?, ?it/s]"
      ]
     },
     "metadata": {},
     "output_type": "display_data"
    },
    {
     "name": "stdout",
     "output_type": "stream",
     "text": [
      "train (64/300) loss: 0.14527295529842377 | loss/mean: 0.14527295529842377 | loss/std: 0.0 | lr: 0.0001 | momentum: 0.9\n"
     ]
    },
    {
     "data": {
      "application/vnd.jupyter.widget-view+json": {
       "model_id": "b98325d2b9b741b39e648bf7db1bce37",
       "version_major": 2,
       "version_minor": 0
      },
      "text/plain": [
       "64/300 * Epoch (valid):   0%|          | 0/1 [00:00<?, ?it/s]"
      ]
     },
     "metadata": {},
     "output_type": "display_data"
    },
    {
     "name": "stdout",
     "output_type": "stream",
     "text": [
      "valid (64/300) exact_match01: 1.0 | exact_match01/std: 0.0 | exact_match02: 1.0 | exact_match02/std: 0.0 | loss: 0.00162700901273638 | loss/mean: 0.00162700901273638 | loss/std: 0.0 | lr: 0.0001 | momentum: 0.9\n",
      "* Epoch (64/300) \n"
     ]
    },
    {
     "data": {
      "application/vnd.jupyter.widget-view+json": {
       "model_id": "4a3bce4005744b7fb93da29263de3e3f",
       "version_major": 2,
       "version_minor": 0
      },
      "text/plain": [
       "65/300 * Epoch (train):   0%|          | 0/1 [00:00<?, ?it/s]"
      ]
     },
     "metadata": {},
     "output_type": "display_data"
    },
    {
     "name": "stdout",
     "output_type": "stream",
     "text": [
      "train (65/300) loss: 0.03419259563088417 | loss/mean: 0.03419259563088417 | loss/std: 0.0 | lr: 0.0001 | momentum: 0.9\n"
     ]
    },
    {
     "data": {
      "application/vnd.jupyter.widget-view+json": {
       "model_id": "b2f58c558e0b480ab4092539a851e531",
       "version_major": 2,
       "version_minor": 0
      },
      "text/plain": [
       "65/300 * Epoch (valid):   0%|          | 0/1 [00:00<?, ?it/s]"
      ]
     },
     "metadata": {},
     "output_type": "display_data"
    },
    {
     "name": "stdout",
     "output_type": "stream",
     "text": [
      "valid (65/300) exact_match01: 1.0 | exact_match01/std: 0.0 | exact_match02: 1.0 | exact_match02/std: 0.0 | loss: 0.0014000365044921637 | loss/mean: 0.0014000365044921637 | loss/std: 0.0 | lr: 0.0001 | momentum: 0.9\n",
      "* Epoch (65/300) \n"
     ]
    },
    {
     "data": {
      "application/vnd.jupyter.widget-view+json": {
       "model_id": "36e5f10421014422bbb76fce468fc652",
       "version_major": 2,
       "version_minor": 0
      },
      "text/plain": [
       "66/300 * Epoch (train):   0%|          | 0/1 [00:00<?, ?it/s]"
      ]
     },
     "metadata": {},
     "output_type": "display_data"
    },
    {
     "name": "stdout",
     "output_type": "stream",
     "text": [
      "train (66/300) loss: 0.059325069189071655 | loss/mean: 0.059325069189071655 | loss/std: 0.0 | lr: 0.0001 | momentum: 0.9\n"
     ]
    },
    {
     "data": {
      "application/vnd.jupyter.widget-view+json": {
       "model_id": "1f03a0ff90894f708bfa03acd6f58dce",
       "version_major": 2,
       "version_minor": 0
      },
      "text/plain": [
       "66/300 * Epoch (valid):   0%|          | 0/1 [00:00<?, ?it/s]"
      ]
     },
     "metadata": {},
     "output_type": "display_data"
    },
    {
     "name": "stdout",
     "output_type": "stream",
     "text": [
      "valid (66/300) exact_match01: 1.0 | exact_match01/std: 0.0 | exact_match02: 1.0 | exact_match02/std: 0.0 | loss: 0.0012213137233629823 | loss/mean: 0.0012213137233629823 | loss/std: 0.0 | lr: 0.0001 | momentum: 0.9\n",
      "* Epoch (66/300) \n"
     ]
    },
    {
     "data": {
      "application/vnd.jupyter.widget-view+json": {
       "model_id": "cd2190fbbba54bf59cadf1409b213dd3",
       "version_major": 2,
       "version_minor": 0
      },
      "text/plain": [
       "67/300 * Epoch (train):   0%|          | 0/1 [00:00<?, ?it/s]"
      ]
     },
     "metadata": {},
     "output_type": "display_data"
    },
    {
     "name": "stdout",
     "output_type": "stream",
     "text": [
      "train (67/300) loss: 0.025595853105187416 | loss/mean: 0.025595853105187416 | loss/std: 0.0 | lr: 0.0001 | momentum: 0.9\n"
     ]
    },
    {
     "data": {
      "application/vnd.jupyter.widget-view+json": {
       "model_id": "6b6ae67a06ed44669cda54262934e872",
       "version_major": 2,
       "version_minor": 0
      },
      "text/plain": [
       "67/300 * Epoch (valid):   0%|          | 0/1 [00:00<?, ?it/s]"
      ]
     },
     "metadata": {},
     "output_type": "display_data"
    },
    {
     "name": "stdout",
     "output_type": "stream",
     "text": [
      "valid (67/300) exact_match01: 1.0 | exact_match01/std: 0.0 | exact_match02: 1.0 | exact_match02/std: 0.0 | loss: 0.001105206785723567 | loss/mean: 0.001105206785723567 | loss/std: 0.0 | lr: 0.0001 | momentum: 0.9\n",
      "* Epoch (67/300) \n"
     ]
    },
    {
     "data": {
      "application/vnd.jupyter.widget-view+json": {
       "model_id": "b52aaae5cad848f0b09d4f9dfcd1d267",
       "version_major": 2,
       "version_minor": 0
      },
      "text/plain": [
       "68/300 * Epoch (train):   0%|          | 0/1 [00:00<?, ?it/s]"
      ]
     },
     "metadata": {},
     "output_type": "display_data"
    },
    {
     "name": "stdout",
     "output_type": "stream",
     "text": [
      "train (68/300) loss: 0.01683030277490616 | loss/mean: 0.01683030277490616 | loss/std: 0.0 | lr: 0.0001 | momentum: 0.9\n"
     ]
    },
    {
     "data": {
      "application/vnd.jupyter.widget-view+json": {
       "model_id": "9d19689cb30242539082ee5e20a9d721",
       "version_major": 2,
       "version_minor": 0
      },
      "text/plain": [
       "68/300 * Epoch (valid):   0%|          | 0/1 [00:00<?, ?it/s]"
      ]
     },
     "metadata": {},
     "output_type": "display_data"
    },
    {
     "name": "stdout",
     "output_type": "stream",
     "text": [
      "valid (68/300) exact_match01: 1.0 | exact_match01/std: 0.0 | exact_match02: 1.0 | exact_match02/std: 0.0 | loss: 0.001003141631372273 | loss/mean: 0.001003141631372273 | loss/std: 0.0 | lr: 0.0001 | momentum: 0.9\n",
      "* Epoch (68/300) \n"
     ]
    },
    {
     "data": {
      "application/vnd.jupyter.widget-view+json": {
       "model_id": "1e88172c84d043c5a4ab115fc895631a",
       "version_major": 2,
       "version_minor": 0
      },
      "text/plain": [
       "69/300 * Epoch (train):   0%|          | 0/1 [00:00<?, ?it/s]"
      ]
     },
     "metadata": {},
     "output_type": "display_data"
    },
    {
     "name": "stdout",
     "output_type": "stream",
     "text": [
      "train (69/300) loss: 0.030041612684726715 | loss/mean: 0.030041612684726715 | loss/std: 0.0 | lr: 0.0001 | momentum: 0.9\n"
     ]
    },
    {
     "data": {
      "application/vnd.jupyter.widget-view+json": {
       "model_id": "91cd480f345243feb4951c60df5a3a74",
       "version_major": 2,
       "version_minor": 0
      },
      "text/plain": [
       "69/300 * Epoch (valid):   0%|          | 0/1 [00:00<?, ?it/s]"
      ]
     },
     "metadata": {},
     "output_type": "display_data"
    },
    {
     "name": "stdout",
     "output_type": "stream",
     "text": [
      "valid (69/300) exact_match01: 1.0 | exact_match01/std: 0.0 | exact_match02: 1.0 | exact_match02/std: 0.0 | loss: 0.0009079657029360533 | loss/mean: 0.0009079657029360533 | loss/std: 0.0 | lr: 0.0001 | momentum: 0.9\n",
      "* Epoch (69/300) \n"
     ]
    },
    {
     "data": {
      "application/vnd.jupyter.widget-view+json": {
       "model_id": "f7e3f440acbb4640995b96384ecf096e",
       "version_major": 2,
       "version_minor": 0
      },
      "text/plain": [
       "70/300 * Epoch (train):   0%|          | 0/1 [00:00<?, ?it/s]"
      ]
     },
     "metadata": {},
     "output_type": "display_data"
    },
    {
     "name": "stdout",
     "output_type": "stream",
     "text": [
      "train (70/300) loss: 0.024693498387932777 | loss/mean: 0.024693498387932777 | loss/std: 0.0 | lr: 0.0001 | momentum: 0.9\n"
     ]
    },
    {
     "data": {
      "application/vnd.jupyter.widget-view+json": {
       "model_id": "3532b3982db14b84accf66aec8e290fc",
       "version_major": 2,
       "version_minor": 0
      },
      "text/plain": [
       "70/300 * Epoch (valid):   0%|          | 0/1 [00:00<?, ?it/s]"
      ]
     },
     "metadata": {},
     "output_type": "display_data"
    },
    {
     "name": "stdout",
     "output_type": "stream",
     "text": [
      "valid (70/300) exact_match01: 1.0 | exact_match01/std: 0.0 | exact_match02: 1.0 | exact_match02/std: 0.0 | loss: 0.0008376804762519896 | loss/mean: 0.0008376804762519896 | loss/std: 0.0 | lr: 0.0001 | momentum: 0.9\n",
      "* Epoch (70/300) \n"
     ]
    },
    {
     "data": {
      "application/vnd.jupyter.widget-view+json": {
       "model_id": "4e1316335a93424ab5a7f99c8b9152d9",
       "version_major": 2,
       "version_minor": 0
      },
      "text/plain": [
       "71/300 * Epoch (train):   0%|          | 0/1 [00:00<?, ?it/s]"
      ]
     },
     "metadata": {},
     "output_type": "display_data"
    },
    {
     "name": "stdout",
     "output_type": "stream",
     "text": [
      "train (71/300) loss: 0.01401436049491167 | loss/mean: 0.01401436049491167 | loss/std: 0.0 | lr: 0.0001 | momentum: 0.9\n"
     ]
    },
    {
     "data": {
      "application/vnd.jupyter.widget-view+json": {
       "model_id": "8f499ab5a98241d796d7c2afd5987f74",
       "version_major": 2,
       "version_minor": 0
      },
      "text/plain": [
       "71/300 * Epoch (valid):   0%|          | 0/1 [00:00<?, ?it/s]"
      ]
     },
     "metadata": {},
     "output_type": "display_data"
    },
    {
     "name": "stdout",
     "output_type": "stream",
     "text": [
      "valid (71/300) exact_match01: 1.0 | exact_match01/std: 0.0 | exact_match02: 1.0 | exact_match02/std: 0.0 | loss: 0.000778080546297133 | loss/mean: 0.000778080546297133 | loss/std: 0.0 | lr: 0.0001 | momentum: 0.9\n",
      "* Epoch (71/300) \n"
     ]
    },
    {
     "data": {
      "application/vnd.jupyter.widget-view+json": {
       "model_id": "5e18a9e774c14116bb8c8acb1785807f",
       "version_major": 2,
       "version_minor": 0
      },
      "text/plain": [
       "72/300 * Epoch (train):   0%|          | 0/1 [00:00<?, ?it/s]"
      ]
     },
     "metadata": {},
     "output_type": "display_data"
    },
    {
     "name": "stdout",
     "output_type": "stream",
     "text": [
      "train (72/300) loss: 0.013613156042993069 | loss/mean: 0.013613156042993069 | loss/std: 0.0 | lr: 0.0001 | momentum: 0.9\n"
     ]
    },
    {
     "data": {
      "application/vnd.jupyter.widget-view+json": {
       "model_id": "590b4f1bc0264bab96cc5cba39514853",
       "version_major": 2,
       "version_minor": 0
      },
      "text/plain": [
       "72/300 * Epoch (valid):   0%|          | 0/1 [00:00<?, ?it/s]"
      ]
     },
     "metadata": {},
     "output_type": "display_data"
    },
    {
     "name": "stdout",
     "output_type": "stream",
     "text": [
      "valid (72/300) exact_match01: 1.0 | exact_match01/std: 0.0 | exact_match02: 1.0 | exact_match02/std: 0.0 | loss: 0.000729859690181911 | loss/mean: 0.000729859690181911 | loss/std: 0.0 | lr: 0.0001 | momentum: 0.9\n",
      "* Epoch (72/300) \n"
     ]
    },
    {
     "data": {
      "application/vnd.jupyter.widget-view+json": {
       "model_id": "6103e64904424d0fac6d7cde3f7939f9",
       "version_major": 2,
       "version_minor": 0
      },
      "text/plain": [
       "73/300 * Epoch (train):   0%|          | 0/1 [00:00<?, ?it/s]"
      ]
     },
     "metadata": {},
     "output_type": "display_data"
    },
    {
     "name": "stdout",
     "output_type": "stream",
     "text": [
      "train (73/300) loss: 0.038921549916267395 | loss/mean: 0.038921549916267395 | loss/std: 0.0 | lr: 0.0001 | momentum: 0.9\n"
     ]
    },
    {
     "data": {
      "application/vnd.jupyter.widget-view+json": {
       "model_id": "4f3ed4135e594b849c96bfd8ece283c8",
       "version_major": 2,
       "version_minor": 0
      },
      "text/plain": [
       "73/300 * Epoch (valid):   0%|          | 0/1 [00:00<?, ?it/s]"
      ]
     },
     "metadata": {},
     "output_type": "display_data"
    },
    {
     "name": "stdout",
     "output_type": "stream",
     "text": [
      "valid (73/300) exact_match01: 1.0 | exact_match01/std: 0.0 | exact_match02: 1.0 | exact_match02/std: 0.0 | loss: 0.000707605155184865 | loss/mean: 0.000707605155184865 | loss/std: 0.0 | lr: 0.0001 | momentum: 0.9\n",
      "* Epoch (73/300) \n"
     ]
    },
    {
     "data": {
      "application/vnd.jupyter.widget-view+json": {
       "model_id": "70c3ce55df4241a09a5ce944a043a356",
       "version_major": 2,
       "version_minor": 0
      },
      "text/plain": [
       "74/300 * Epoch (train):   0%|          | 0/1 [00:00<?, ?it/s]"
      ]
     },
     "metadata": {},
     "output_type": "display_data"
    },
    {
     "name": "stdout",
     "output_type": "stream",
     "text": [
      "train (74/300) loss: 0.017152931541204453 | loss/mean: 0.017152931541204453 | loss/std: 0.0 | lr: 0.0001 | momentum: 0.9\n"
     ]
    },
    {
     "data": {
      "application/vnd.jupyter.widget-view+json": {
       "model_id": "a8802d07e9884e339cfe1a0836858e22",
       "version_major": 2,
       "version_minor": 0
      },
      "text/plain": [
       "74/300 * Epoch (valid):   0%|          | 0/1 [00:00<?, ?it/s]"
      ]
     },
     "metadata": {},
     "output_type": "display_data"
    },
    {
     "name": "stdout",
     "output_type": "stream",
     "text": [
      "valid (74/300) exact_match01: 1.0 | exact_match01/std: 0.0 | exact_match02: 1.0 | exact_match02/std: 0.0 | loss: 0.0006899889558553696 | loss/mean: 0.0006899889558553696 | loss/std: 0.0 | lr: 0.0001 | momentum: 0.9\n",
      "* Epoch (74/300) \n"
     ]
    },
    {
     "data": {
      "application/vnd.jupyter.widget-view+json": {
       "model_id": "0ecf25f66b9b45c7bbf61c0a7c2f72ab",
       "version_major": 2,
       "version_minor": 0
      },
      "text/plain": [
       "75/300 * Epoch (train):   0%|          | 0/1 [00:00<?, ?it/s]"
      ]
     },
     "metadata": {},
     "output_type": "display_data"
    },
    {
     "name": "stdout",
     "output_type": "stream",
     "text": [
      "train (75/300) loss: 0.009906310588121414 | loss/mean: 0.009906310588121414 | loss/std: 0.0 | lr: 0.0001 | momentum: 0.9\n"
     ]
    },
    {
     "data": {
      "application/vnd.jupyter.widget-view+json": {
       "model_id": "e06f3b4ffb854bc4b430faa607581738",
       "version_major": 2,
       "version_minor": 0
      },
      "text/plain": [
       "75/300 * Epoch (valid):   0%|          | 0/1 [00:00<?, ?it/s]"
      ]
     },
     "metadata": {},
     "output_type": "display_data"
    },
    {
     "name": "stdout",
     "output_type": "stream",
     "text": [
      "valid (75/300) exact_match01: 1.0 | exact_match01/std: 0.0 | exact_match02: 1.0 | exact_match02/std: 0.0 | loss: 0.0006750529282726347 | loss/mean: 0.0006750529282726347 | loss/std: 0.0 | lr: 0.0001 | momentum: 0.9\n",
      "* Epoch (75/300) \n"
     ]
    },
    {
     "data": {
      "application/vnd.jupyter.widget-view+json": {
       "model_id": "04199e6448ea4408b48804e945c6875f",
       "version_major": 2,
       "version_minor": 0
      },
      "text/plain": [
       "76/300 * Epoch (train):   0%|          | 0/1 [00:00<?, ?it/s]"
      ]
     },
     "metadata": {},
     "output_type": "display_data"
    },
    {
     "name": "stdout",
     "output_type": "stream",
     "text": [
      "train (76/300) loss: 0.010132857598364353 | loss/mean: 0.010132857598364353 | loss/std: 0.0 | lr: 0.0001 | momentum: 0.9\n"
     ]
    },
    {
     "data": {
      "application/vnd.jupyter.widget-view+json": {
       "model_id": "860bc71ae2954764abbe684e1e6dac78",
       "version_major": 2,
       "version_minor": 0
      },
      "text/plain": [
       "76/300 * Epoch (valid):   0%|          | 0/1 [00:00<?, ?it/s]"
      ]
     },
     "metadata": {},
     "output_type": "display_data"
    },
    {
     "name": "stdout",
     "output_type": "stream",
     "text": [
      "valid (76/300) exact_match01: 1.0 | exact_match01/std: 0.0 | exact_match02: 1.0 | exact_match02/std: 0.0 | loss: 0.0006591501878574491 | loss/mean: 0.0006591501878574491 | loss/std: 0.0 | lr: 0.0001 | momentum: 0.9\n",
      "* Epoch (76/300) \n"
     ]
    },
    {
     "data": {
      "application/vnd.jupyter.widget-view+json": {
       "model_id": "37f0afe034674ee791767afa07e977cd",
       "version_major": 2,
       "version_minor": 0
      },
      "text/plain": [
       "77/300 * Epoch (train):   0%|          | 0/1 [00:00<?, ?it/s]"
      ]
     },
     "metadata": {},
     "output_type": "display_data"
    },
    {
     "name": "stdout",
     "output_type": "stream",
     "text": [
      "train (77/300) loss: 0.010489940643310547 | loss/mean: 0.010489940643310547 | loss/std: 0.0 | lr: 0.0001 | momentum: 0.9\n"
     ]
    },
    {
     "data": {
      "application/vnd.jupyter.widget-view+json": {
       "model_id": "147248865f394d02a8af793b537aa9b2",
       "version_major": 2,
       "version_minor": 0
      },
      "text/plain": [
       "77/300 * Epoch (valid):   0%|          | 0/1 [00:00<?, ?it/s]"
      ]
     },
     "metadata": {},
     "output_type": "display_data"
    },
    {
     "name": "stdout",
     "output_type": "stream",
     "text": [
      "valid (77/300) exact_match01: 1.0 | exact_match01/std: 0.0 | exact_match02: 1.0 | exact_match02/std: 0.0 | loss: 0.0006413666415028274 | loss/mean: 0.0006413666415028274 | loss/std: 0.0 | lr: 0.0001 | momentum: 0.9\n",
      "* Epoch (77/300) \n"
     ]
    },
    {
     "data": {
      "application/vnd.jupyter.widget-view+json": {
       "model_id": "fe6370ac584b46d2846cba202eeb05fb",
       "version_major": 2,
       "version_minor": 0
      },
      "text/plain": [
       "78/300 * Epoch (train):   0%|          | 0/1 [00:00<?, ?it/s]"
      ]
     },
     "metadata": {},
     "output_type": "display_data"
    },
    {
     "name": "stdout",
     "output_type": "stream",
     "text": [
      "train (78/300) loss: 0.012837606482207775 | loss/mean: 0.012837606482207775 | loss/std: 0.0 | lr: 0.0001 | momentum: 0.9\n"
     ]
    },
    {
     "data": {
      "application/vnd.jupyter.widget-view+json": {
       "model_id": "888e0eb68a7f4503ab8952b45a0f546d",
       "version_major": 2,
       "version_minor": 0
      },
      "text/plain": [
       "78/300 * Epoch (valid):   0%|          | 0/1 [00:00<?, ?it/s]"
      ]
     },
     "metadata": {},
     "output_type": "display_data"
    },
    {
     "name": "stdout",
     "output_type": "stream",
     "text": [
      "valid (78/300) exact_match01: 1.0 | exact_match01/std: 0.0 | exact_match02: 1.0 | exact_match02/std: 0.0 | loss: 0.0006320508546195924 | loss/mean: 0.0006320508546195924 | loss/std: 0.0 | lr: 0.0001 | momentum: 0.9\n",
      "* Epoch (78/300) \n"
     ]
    },
    {
     "data": {
      "application/vnd.jupyter.widget-view+json": {
       "model_id": "3afb25758857462b8149b18cd46a4f94",
       "version_major": 2,
       "version_minor": 0
      },
      "text/plain": [
       "79/300 * Epoch (train):   0%|          | 0/1 [00:00<?, ?it/s]"
      ]
     },
     "metadata": {},
     "output_type": "display_data"
    },
    {
     "name": "stdout",
     "output_type": "stream",
     "text": [
      "train (79/300) loss: 0.01006144005805254 | loss/mean: 0.01006144005805254 | loss/std: 0.0 | lr: 0.0001 | momentum: 0.9\n"
     ]
    },
    {
     "data": {
      "application/vnd.jupyter.widget-view+json": {
       "model_id": "326c8995b75945efb5592471ff529bc6",
       "version_major": 2,
       "version_minor": 0
      },
      "text/plain": [
       "79/300 * Epoch (valid):   0%|          | 0/1 [00:00<?, ?it/s]"
      ]
     },
     "metadata": {},
     "output_type": "display_data"
    },
    {
     "name": "stdout",
     "output_type": "stream",
     "text": [
      "valid (79/300) exact_match01: 1.0 | exact_match01/std: 0.0 | exact_match02: 1.0 | exact_match02/std: 0.0 | loss: 0.0006168998661451042 | loss/mean: 0.0006168998661451042 | loss/std: 0.0 | lr: 0.0001 | momentum: 0.9\n",
      "* Epoch (79/300) \n"
     ]
    },
    {
     "data": {
      "application/vnd.jupyter.widget-view+json": {
       "model_id": "be830b533bdc4ee6a68022d918ff3dac",
       "version_major": 2,
       "version_minor": 0
      },
      "text/plain": [
       "80/300 * Epoch (train):   0%|          | 0/1 [00:00<?, ?it/s]"
      ]
     },
     "metadata": {},
     "output_type": "display_data"
    },
    {
     "name": "stdout",
     "output_type": "stream",
     "text": [
      "train (80/300) loss: 0.018189458176493645 | loss/mean: 0.018189458176493645 | loss/std: 0.0 | lr: 0.0001 | momentum: 0.9\n"
     ]
    },
    {
     "data": {
      "application/vnd.jupyter.widget-view+json": {
       "model_id": "0778c67dfef149baa61e0a364ceb4ff6",
       "version_major": 2,
       "version_minor": 0
      },
      "text/plain": [
       "80/300 * Epoch (valid):   0%|          | 0/1 [00:00<?, ?it/s]"
      ]
     },
     "metadata": {},
     "output_type": "display_data"
    },
    {
     "name": "stdout",
     "output_type": "stream",
     "text": [
      "valid (80/300) exact_match01: 1.0 | exact_match01/std: 0.0 | exact_match02: 1.0 | exact_match02/std: 0.0 | loss: 0.0005853473558090627 | loss/mean: 0.0005853473558090627 | loss/std: 0.0 | lr: 0.0001 | momentum: 0.9\n",
      "* Epoch (80/300) \n"
     ]
    },
    {
     "data": {
      "application/vnd.jupyter.widget-view+json": {
       "model_id": "250b432cbc994972af8ae0cd163160d0",
       "version_major": 2,
       "version_minor": 0
      },
      "text/plain": [
       "81/300 * Epoch (train):   0%|          | 0/1 [00:00<?, ?it/s]"
      ]
     },
     "metadata": {},
     "output_type": "display_data"
    },
    {
     "name": "stdout",
     "output_type": "stream",
     "text": [
      "train (81/300) loss: 0.007292391266673803 | loss/mean: 0.007292391266673803 | loss/std: 0.0 | lr: 0.0001 | momentum: 0.9\n"
     ]
    },
    {
     "data": {
      "application/vnd.jupyter.widget-view+json": {
       "model_id": "7399ae5a9a314c97b74c8d500e0e4174",
       "version_major": 2,
       "version_minor": 0
      },
      "text/plain": [
       "81/300 * Epoch (valid):   0%|          | 0/1 [00:00<?, ?it/s]"
      ]
     },
     "metadata": {},
     "output_type": "display_data"
    },
    {
     "name": "stdout",
     "output_type": "stream",
     "text": [
      "valid (81/300) exact_match01: 1.0 | exact_match01/std: 0.0 | exact_match02: 1.0 | exact_match02/std: 0.0 | loss: 0.0005596040282398462 | loss/mean: 0.0005596040282398462 | loss/std: 0.0 | lr: 0.0001 | momentum: 0.9\n",
      "* Epoch (81/300) \n"
     ]
    },
    {
     "data": {
      "application/vnd.jupyter.widget-view+json": {
       "model_id": "b06adadb9e02442c8709a7f7aab15498",
       "version_major": 2,
       "version_minor": 0
      },
      "text/plain": [
       "82/300 * Epoch (train):   0%|          | 0/1 [00:00<?, ?it/s]"
      ]
     },
     "metadata": {},
     "output_type": "display_data"
    },
    {
     "name": "stdout",
     "output_type": "stream",
     "text": [
      "train (82/300) loss: 0.006994426250457764 | loss/mean: 0.006994426250457764 | loss/std: 0.0 | lr: 0.0001 | momentum: 0.9\n"
     ]
    },
    {
     "data": {
      "application/vnd.jupyter.widget-view+json": {
       "model_id": "54560277bf8e49cd921afe3ea9aae562",
       "version_major": 2,
       "version_minor": 0
      },
      "text/plain": [
       "82/300 * Epoch (valid):   0%|          | 0/1 [00:00<?, ?it/s]"
      ]
     },
     "metadata": {},
     "output_type": "display_data"
    },
    {
     "name": "stdout",
     "output_type": "stream",
     "text": [
      "valid (82/300) exact_match01: 1.0 | exact_match01/std: 0.0 | exact_match02: 1.0 | exact_match02/std: 0.0 | loss: 0.000535767525434494 | loss/mean: 0.000535767525434494 | loss/std: 0.0 | lr: 0.0001 | momentum: 0.9\n",
      "* Epoch (82/300) \n"
     ]
    },
    {
     "data": {
      "application/vnd.jupyter.widget-view+json": {
       "model_id": "6a3b252d1bcc49ba9419a5c80454c0f2",
       "version_major": 2,
       "version_minor": 0
      },
      "text/plain": [
       "83/300 * Epoch (train):   0%|          | 0/1 [00:00<?, ?it/s]"
      ]
     },
     "metadata": {},
     "output_type": "display_data"
    },
    {
     "name": "stdout",
     "output_type": "stream",
     "text": [
      "train (83/300) loss: 0.006848483812063932 | loss/mean: 0.006848483812063932 | loss/std: 0.0 | lr: 0.0001 | momentum: 0.9\n"
     ]
    },
    {
     "data": {
      "application/vnd.jupyter.widget-view+json": {
       "model_id": "9fadd9ad02bf4a95993d19b07b440221",
       "version_major": 2,
       "version_minor": 0
      },
      "text/plain": [
       "83/300 * Epoch (valid):   0%|          | 0/1 [00:00<?, ?it/s]"
      ]
     },
     "metadata": {},
     "output_type": "display_data"
    },
    {
     "name": "stdout",
     "output_type": "stream",
     "text": [
      "valid (83/300) exact_match01: 1.0 | exact_match01/std: 0.0 | exact_match02: 1.0 | exact_match02/std: 0.0 | loss: 0.0005143707967363298 | loss/mean: 0.0005143707967363298 | loss/std: 0.0 | lr: 0.0001 | momentum: 0.9\n",
      "* Epoch (83/300) \n"
     ]
    },
    {
     "data": {
      "application/vnd.jupyter.widget-view+json": {
       "model_id": "d8792d9a43944d758f72bfffdcebb6f0",
       "version_major": 2,
       "version_minor": 0
      },
      "text/plain": [
       "84/300 * Epoch (train):   0%|          | 0/1 [00:00<?, ?it/s]"
      ]
     },
     "metadata": {},
     "output_type": "display_data"
    },
    {
     "name": "stdout",
     "output_type": "stream",
     "text": [
      "train (84/300) loss: 0.009453557431697845 | loss/mean: 0.009453557431697845 | loss/std: 0.0 | lr: 0.0001 | momentum: 0.9\n"
     ]
    },
    {
     "data": {
      "application/vnd.jupyter.widget-view+json": {
       "model_id": "62e77187184f4612b053c95dd1acbe03",
       "version_major": 2,
       "version_minor": 0
      },
      "text/plain": [
       "84/300 * Epoch (valid):   0%|          | 0/1 [00:00<?, ?it/s]"
      ]
     },
     "metadata": {},
     "output_type": "display_data"
    },
    {
     "name": "stdout",
     "output_type": "stream",
     "text": [
      "valid (84/300) exact_match01: 1.0 | exact_match01/std: 0.0 | exact_match02: 1.0 | exact_match02/std: 0.0 | loss: 0.0004962427774444222 | loss/mean: 0.0004962427774444222 | loss/std: 0.0 | lr: 0.0001 | momentum: 0.9\n",
      "* Epoch (84/300) \n"
     ]
    },
    {
     "data": {
      "application/vnd.jupyter.widget-view+json": {
       "model_id": "ab7b66abf83045fbabc8d4954df89440",
       "version_major": 2,
       "version_minor": 0
      },
      "text/plain": [
       "85/300 * Epoch (train):   0%|          | 0/1 [00:00<?, ?it/s]"
      ]
     },
     "metadata": {},
     "output_type": "display_data"
    },
    {
     "name": "stdout",
     "output_type": "stream",
     "text": [
      "train (85/300) loss: 0.004553212318569422 | loss/mean: 0.004553212318569422 | loss/std: 0.0 | lr: 0.0001 | momentum: 0.9\n"
     ]
    },
    {
     "data": {
      "application/vnd.jupyter.widget-view+json": {
       "model_id": "57d80f9db485424cb67e3b8404463802",
       "version_major": 2,
       "version_minor": 0
      },
      "text/plain": [
       "85/300 * Epoch (valid):   0%|          | 0/1 [00:00<?, ?it/s]"
      ]
     },
     "metadata": {},
     "output_type": "display_data"
    },
    {
     "name": "stdout",
     "output_type": "stream",
     "text": [
      "valid (85/300) exact_match01: 1.0 | exact_match01/std: 0.0 | exact_match02: 1.0 | exact_match02/std: 0.0 | loss: 0.0004805911739822477 | loss/mean: 0.0004805911739822477 | loss/std: 0.0 | lr: 0.0001 | momentum: 0.9\n",
      "* Epoch (85/300) \n"
     ]
    },
    {
     "data": {
      "application/vnd.jupyter.widget-view+json": {
       "model_id": "1d42c2ab49a14b0185ca087a73f6e786",
       "version_major": 2,
       "version_minor": 0
      },
      "text/plain": [
       "86/300 * Epoch (train):   0%|          | 0/1 [00:00<?, ?it/s]"
      ]
     },
     "metadata": {},
     "output_type": "display_data"
    },
    {
     "name": "stdout",
     "output_type": "stream",
     "text": [
      "train (86/300) loss: 0.011565013788640499 | loss/mean: 0.011565013788640499 | loss/std: 0.0 | lr: 0.0001 | momentum: 0.9\n"
     ]
    },
    {
     "data": {
      "application/vnd.jupyter.widget-view+json": {
       "model_id": "4269e10eb7c9469b9e2989ec6d2b3b27",
       "version_major": 2,
       "version_minor": 0
      },
      "text/plain": [
       "86/300 * Epoch (valid):   0%|          | 0/1 [00:00<?, ?it/s]"
      ]
     },
     "metadata": {},
     "output_type": "display_data"
    },
    {
     "name": "stdout",
     "output_type": "stream",
     "text": [
      "valid (86/300) exact_match01: 1.0 | exact_match01/std: 0.0 | exact_match02: 1.0 | exact_match02/std: 0.0 | loss: 0.0004631653428077698 | loss/mean: 0.0004631653428077698 | loss/std: 0.0 | lr: 0.0001 | momentum: 0.9\n",
      "* Epoch (86/300) \n"
     ]
    },
    {
     "data": {
      "application/vnd.jupyter.widget-view+json": {
       "model_id": "b00ebdbf7ca047909ed06e5dd088b337",
       "version_major": 2,
       "version_minor": 0
      },
      "text/plain": [
       "87/300 * Epoch (train):   0%|          | 0/1 [00:00<?, ?it/s]"
      ]
     },
     "metadata": {},
     "output_type": "display_data"
    },
    {
     "name": "stdout",
     "output_type": "stream",
     "text": [
      "train (87/300) loss: 0.0054327319376170635 | loss/mean: 0.0054327319376170635 | loss/std: 0.0 | lr: 0.0001 | momentum: 0.9\n"
     ]
    },
    {
     "data": {
      "application/vnd.jupyter.widget-view+json": {
       "model_id": "5f44144125124064ba72521b8b8e90dd",
       "version_major": 2,
       "version_minor": 0
      },
      "text/plain": [
       "87/300 * Epoch (valid):   0%|          | 0/1 [00:00<?, ?it/s]"
      ]
     },
     "metadata": {},
     "output_type": "display_data"
    },
    {
     "name": "stdout",
     "output_type": "stream",
     "text": [
      "valid (87/300) exact_match01: 1.0 | exact_match01/std: 0.0 | exact_match02: 1.0 | exact_match02/std: 0.0 | loss: 0.00044804360368289053 | loss/mean: 0.00044804360368289053 | loss/std: 0.0 | lr: 0.0001 | momentum: 0.9\n",
      "* Epoch (87/300) \n"
     ]
    },
    {
     "data": {
      "application/vnd.jupyter.widget-view+json": {
       "model_id": "fb1a0406bd744c74a9912c70b6535fc3",
       "version_major": 2,
       "version_minor": 0
      },
      "text/plain": [
       "88/300 * Epoch (train):   0%|          | 0/1 [00:00<?, ?it/s]"
      ]
     },
     "metadata": {},
     "output_type": "display_data"
    },
    {
     "name": "stdout",
     "output_type": "stream",
     "text": [
      "train (88/300) loss: 0.012007394805550575 | loss/mean: 0.012007394805550575 | loss/std: 0.0 | lr: 0.0001 | momentum: 0.9\n"
     ]
    },
    {
     "data": {
      "application/vnd.jupyter.widget-view+json": {
       "model_id": "1d9d57edc15a4eaeb9399c2a66930dd9",
       "version_major": 2,
       "version_minor": 0
      },
      "text/plain": [
       "88/300 * Epoch (valid):   0%|          | 0/1 [00:00<?, ?it/s]"
      ]
     },
     "metadata": {},
     "output_type": "display_data"
    },
    {
     "name": "stdout",
     "output_type": "stream",
     "text": [
      "valid (88/300) exact_match01: 1.0 | exact_match01/std: 0.0 | exact_match02: 1.0 | exact_match02/std: 0.0 | loss: 0.0004332720418460667 | loss/mean: 0.0004332720418460667 | loss/std: 0.0 | lr: 0.0001 | momentum: 0.9\n",
      "* Epoch (88/300) \n"
     ]
    },
    {
     "data": {
      "application/vnd.jupyter.widget-view+json": {
       "model_id": "8281b004331a43a299690c51f9cec0fc",
       "version_major": 2,
       "version_minor": 0
      },
      "text/plain": [
       "89/300 * Epoch (train):   0%|          | 0/1 [00:00<?, ?it/s]"
      ]
     },
     "metadata": {},
     "output_type": "display_data"
    },
    {
     "name": "stdout",
     "output_type": "stream",
     "text": [
      "train (89/300) loss: 0.007499122992157936 | loss/mean: 0.007499122992157936 | loss/std: 0.0 | lr: 0.0001 | momentum: 0.9\n"
     ]
    },
    {
     "data": {
      "application/vnd.jupyter.widget-view+json": {
       "model_id": "ca4c76d86fef48eb9ece6dcb5ab8d406",
       "version_major": 2,
       "version_minor": 0
      },
      "text/plain": [
       "89/300 * Epoch (valid):   0%|          | 0/1 [00:00<?, ?it/s]"
      ]
     },
     "metadata": {},
     "output_type": "display_data"
    },
    {
     "name": "stdout",
     "output_type": "stream",
     "text": [
      "valid (89/300) exact_match01: 1.0 | exact_match01/std: 0.0 | exact_match02: 1.0 | exact_match02/std: 0.0 | loss: 0.00042034167563542724 | loss/mean: 0.00042034167563542724 | loss/std: 0.0 | lr: 0.0001 | momentum: 0.9\n",
      "* Epoch (89/300) \n"
     ]
    },
    {
     "data": {
      "application/vnd.jupyter.widget-view+json": {
       "model_id": "f7f2b1bcaaf142f39003b6780fddcbfb",
       "version_major": 2,
       "version_minor": 0
      },
      "text/plain": [
       "90/300 * Epoch (train):   0%|          | 0/1 [00:00<?, ?it/s]"
      ]
     },
     "metadata": {},
     "output_type": "display_data"
    },
    {
     "name": "stdout",
     "output_type": "stream",
     "text": [
      "train (90/300) loss: 0.010773944668471813 | loss/mean: 0.010773944668471813 | loss/std: 0.0 | lr: 0.0001 | momentum: 0.9\n"
     ]
    },
    {
     "data": {
      "application/vnd.jupyter.widget-view+json": {
       "model_id": "95cae2c05c7c48adb693c72049353a08",
       "version_major": 2,
       "version_minor": 0
      },
      "text/plain": [
       "90/300 * Epoch (valid):   0%|          | 0/1 [00:00<?, ?it/s]"
      ]
     },
     "metadata": {},
     "output_type": "display_data"
    },
    {
     "name": "stdout",
     "output_type": "stream",
     "text": [
      "valid (90/300) exact_match01: 1.0 | exact_match01/std: 0.0 | exact_match02: 1.0 | exact_match02/std: 0.0 | loss: 0.00040794932283461094 | loss/mean: 0.00040794932283461094 | loss/std: 0.0 | lr: 0.0001 | momentum: 0.9\n",
      "* Epoch (90/300) \n"
     ]
    },
    {
     "data": {
      "application/vnd.jupyter.widget-view+json": {
       "model_id": "f68ec72b10334b7594850aaeb0707c3c",
       "version_major": 2,
       "version_minor": 0
      },
      "text/plain": [
       "91/300 * Epoch (train):   0%|          | 0/1 [00:00<?, ?it/s]"
      ]
     },
     "metadata": {},
     "output_type": "display_data"
    },
    {
     "name": "stdout",
     "output_type": "stream",
     "text": [
      "train (91/300) loss: 0.00541197182610631 | loss/mean: 0.00541197182610631 | loss/std: 0.0 | lr: 0.0001 | momentum: 0.9\n"
     ]
    },
    {
     "data": {
      "application/vnd.jupyter.widget-view+json": {
       "model_id": "dfa15fa4df9b4f6da58dac4a47346352",
       "version_major": 2,
       "version_minor": 0
      },
      "text/plain": [
       "91/300 * Epoch (valid):   0%|          | 0/1 [00:00<?, ?it/s]"
      ]
     },
     "metadata": {},
     "output_type": "display_data"
    },
    {
     "name": "stdout",
     "output_type": "stream",
     "text": [
      "valid (91/300) exact_match01: 1.0 | exact_match01/std: 0.0 | exact_match02: 1.0 | exact_match02/std: 0.0 | loss: 0.0003970880061388016 | loss/mean: 0.0003970880061388016 | loss/std: 0.0 | lr: 0.0001 | momentum: 0.9\n",
      "* Epoch (91/300) \n"
     ]
    },
    {
     "data": {
      "application/vnd.jupyter.widget-view+json": {
       "model_id": "313a3528f8cf4a3f9cf0760d2d221af0",
       "version_major": 2,
       "version_minor": 0
      },
      "text/plain": [
       "92/300 * Epoch (train):   0%|          | 0/1 [00:00<?, ?it/s]"
      ]
     },
     "metadata": {},
     "output_type": "display_data"
    },
    {
     "name": "stdout",
     "output_type": "stream",
     "text": [
      "train (92/300) loss: 0.008546005934476852 | loss/mean: 0.008546005934476852 | loss/std: 0.0 | lr: 0.0001 | momentum: 0.9\n"
     ]
    },
    {
     "data": {
      "application/vnd.jupyter.widget-view+json": {
       "model_id": "d36d612293bc430aafac042a7c78ba6f",
       "version_major": 2,
       "version_minor": 0
      },
      "text/plain": [
       "92/300 * Epoch (valid):   0%|          | 0/1 [00:00<?, ?it/s]"
      ]
     },
     "metadata": {},
     "output_type": "display_data"
    },
    {
     "name": "stdout",
     "output_type": "stream",
     "text": [
      "valid (92/300) exact_match01: 1.0 | exact_match01/std: 0.0 | exact_match02: 1.0 | exact_match02/std: 0.0 | loss: 0.0003867621999233961 | loss/mean: 0.0003867621999233961 | loss/std: 0.0 | lr: 0.0001 | momentum: 0.9\n",
      "* Epoch (92/300) \n"
     ]
    },
    {
     "data": {
      "application/vnd.jupyter.widget-view+json": {
       "model_id": "5746c8f86efe47369984bd5934533c06",
       "version_major": 2,
       "version_minor": 0
      },
      "text/plain": [
       "93/300 * Epoch (train):   0%|          | 0/1 [00:00<?, ?it/s]"
      ]
     },
     "metadata": {},
     "output_type": "display_data"
    },
    {
     "name": "stdout",
     "output_type": "stream",
     "text": [
      "train (93/300) loss: 0.015732061117887497 | loss/mean: 0.015732061117887497 | loss/std: 0.0 | lr: 0.0001 | momentum: 0.9\n"
     ]
    },
    {
     "data": {
      "application/vnd.jupyter.widget-view+json": {
       "model_id": "84e16d00447d450e8142ca2e2525323a",
       "version_major": 2,
       "version_minor": 0
      },
      "text/plain": [
       "93/300 * Epoch (valid):   0%|          | 0/1 [00:00<?, ?it/s]"
      ]
     },
     "metadata": {},
     "output_type": "display_data"
    },
    {
     "name": "stdout",
     "output_type": "stream",
     "text": [
      "valid (93/300) exact_match01: 1.0 | exact_match01/std: 0.0 | exact_match02: 1.0 | exact_match02/std: 0.0 | loss: 0.00037748258910141885 | loss/mean: 0.00037748258910141885 | loss/std: 0.0 | lr: 0.0001 | momentum: 0.9\n",
      "* Epoch (93/300) \n"
     ]
    },
    {
     "data": {
      "application/vnd.jupyter.widget-view+json": {
       "model_id": "ca7c204a8c6a4a79ba6e45f603e003bc",
       "version_major": 2,
       "version_minor": 0
      },
      "text/plain": [
       "94/300 * Epoch (train):   0%|          | 0/1 [00:00<?, ?it/s]"
      ]
     },
     "metadata": {},
     "output_type": "display_data"
    },
    {
     "name": "stdout",
     "output_type": "stream",
     "text": [
      "train (94/300) loss: 0.004459071438759565 | loss/mean: 0.004459071438759565 | loss/std: 0.0 | lr: 0.0001 | momentum: 0.9\n"
     ]
    },
    {
     "data": {
      "application/vnd.jupyter.widget-view+json": {
       "model_id": "8fd1f72068b644de901e75f82a57946b",
       "version_major": 2,
       "version_minor": 0
      },
      "text/plain": [
       "94/300 * Epoch (valid):   0%|          | 0/1 [00:00<?, ?it/s]"
      ]
     },
     "metadata": {},
     "output_type": "display_data"
    },
    {
     "name": "stdout",
     "output_type": "stream",
     "text": [
      "valid (94/300) exact_match01: 1.0 | exact_match01/std: 0.0 | exact_match02: 1.0 | exact_match02/std: 0.0 | loss: 0.00036853214260190725 | loss/mean: 0.00036853214260190725 | loss/std: 0.0 | lr: 0.0001 | momentum: 0.9\n",
      "* Epoch (94/300) \n"
     ]
    },
    {
     "data": {
      "application/vnd.jupyter.widget-view+json": {
       "model_id": "b962422098d94674850ba54ba9569989",
       "version_major": 2,
       "version_minor": 0
      },
      "text/plain": [
       "95/300 * Epoch (train):   0%|          | 0/1 [00:00<?, ?it/s]"
      ]
     },
     "metadata": {},
     "output_type": "display_data"
    },
    {
     "name": "stdout",
     "output_type": "stream",
     "text": [
      "train (95/300) loss: 0.009962543845176697 | loss/mean: 0.009962543845176697 | loss/std: 0.0 | lr: 0.0001 | momentum: 0.9\n"
     ]
    },
    {
     "data": {
      "application/vnd.jupyter.widget-view+json": {
       "model_id": "5f500cf946224552b7360043d7ebabaa",
       "version_major": 2,
       "version_minor": 0
      },
      "text/plain": [
       "95/300 * Epoch (valid):   0%|          | 0/1 [00:00<?, ?it/s]"
      ]
     },
     "metadata": {},
     "output_type": "display_data"
    },
    {
     "name": "stdout",
     "output_type": "stream",
     "text": [
      "valid (95/300) exact_match01: 1.0 | exact_match01/std: 0.0 | exact_match02: 1.0 | exact_match02/std: 0.0 | loss: 0.0003616187022998929 | loss/mean: 0.0003616187022998929 | loss/std: 0.0 | lr: 0.0001 | momentum: 0.9\n",
      "* Epoch (95/300) \n"
     ]
    },
    {
     "data": {
      "application/vnd.jupyter.widget-view+json": {
       "model_id": "b0ce06a376274830bae52cb182cdc0c7",
       "version_major": 2,
       "version_minor": 0
      },
      "text/plain": [
       "96/300 * Epoch (train):   0%|          | 0/1 [00:00<?, ?it/s]"
      ]
     },
     "metadata": {},
     "output_type": "display_data"
    },
    {
     "name": "stdout",
     "output_type": "stream",
     "text": [
      "train (96/300) loss: 0.011746878735721111 | loss/mean: 0.011746878735721111 | loss/std: 0.0 | lr: 0.0001 | momentum: 0.9\n"
     ]
    },
    {
     "data": {
      "application/vnd.jupyter.widget-view+json": {
       "model_id": "8ded5f93dc95433ea7d31090225c548a",
       "version_major": 2,
       "version_minor": 0
      },
      "text/plain": [
       "96/300 * Epoch (valid):   0%|          | 0/1 [00:00<?, ?it/s]"
      ]
     },
     "metadata": {},
     "output_type": "display_data"
    },
    {
     "name": "stdout",
     "output_type": "stream",
     "text": [
      "valid (96/300) exact_match01: 1.0 | exact_match01/std: 0.0 | exact_match02: 1.0 | exact_match02/std: 0.0 | loss: 0.00035493483301252127 | loss/mean: 0.00035493483301252127 | loss/std: 0.0 | lr: 0.0001 | momentum: 0.9\n",
      "* Epoch (96/300) \n"
     ]
    },
    {
     "data": {
      "application/vnd.jupyter.widget-view+json": {
       "model_id": "63dee4d84b44441bab90fab55a549f2a",
       "version_major": 2,
       "version_minor": 0
      },
      "text/plain": [
       "97/300 * Epoch (train):   0%|          | 0/1 [00:00<?, ?it/s]"
      ]
     },
     "metadata": {},
     "output_type": "display_data"
    },
    {
     "name": "stdout",
     "output_type": "stream",
     "text": [
      "train (97/300) loss: 0.004544677212834358 | loss/mean: 0.004544677212834358 | loss/std: 0.0 | lr: 0.0001 | momentum: 0.9\n"
     ]
    },
    {
     "data": {
      "application/vnd.jupyter.widget-view+json": {
       "model_id": "0e70798b89bb4a589929db2be4b25382",
       "version_major": 2,
       "version_minor": 0
      },
      "text/plain": [
       "97/300 * Epoch (valid):   0%|          | 0/1 [00:00<?, ?it/s]"
      ]
     },
     "metadata": {},
     "output_type": "display_data"
    },
    {
     "name": "stdout",
     "output_type": "stream",
     "text": [
      "valid (97/300) exact_match01: 1.0 | exact_match01/std: 0.0 | exact_match02: 1.0 | exact_match02/std: 0.0 | loss: 0.00034925027284771204 | loss/mean: 0.00034925027284771204 | loss/std: 0.0 | lr: 0.0001 | momentum: 0.9\n",
      "* Epoch (97/300) \n"
     ]
    },
    {
     "data": {
      "application/vnd.jupyter.widget-view+json": {
       "model_id": "646c440332554e61b35ca17a6e6ec58c",
       "version_major": 2,
       "version_minor": 0
      },
      "text/plain": [
       "98/300 * Epoch (train):   0%|          | 0/1 [00:00<?, ?it/s]"
      ]
     },
     "metadata": {},
     "output_type": "display_data"
    },
    {
     "name": "stdout",
     "output_type": "stream",
     "text": [
      "train (98/300) loss: 0.006693558301776648 | loss/mean: 0.006693558301776648 | loss/std: 0.0 | lr: 0.0001 | momentum: 0.9\n"
     ]
    },
    {
     "data": {
      "application/vnd.jupyter.widget-view+json": {
       "model_id": "a6ad7e80dfa94b57a6c509eb09759043",
       "version_major": 2,
       "version_minor": 0
      },
      "text/plain": [
       "98/300 * Epoch (valid):   0%|          | 0/1 [00:00<?, ?it/s]"
      ]
     },
     "metadata": {},
     "output_type": "display_data"
    },
    {
     "name": "stdout",
     "output_type": "stream",
     "text": [
      "valid (98/300) exact_match01: 1.0 | exact_match01/std: 0.0 | exact_match02: 1.0 | exact_match02/std: 0.0 | loss: 0.0003441088192630559 | loss/mean: 0.0003441088192630559 | loss/std: 0.0 | lr: 0.0001 | momentum: 0.9\n",
      "* Epoch (98/300) \n"
     ]
    },
    {
     "data": {
      "application/vnd.jupyter.widget-view+json": {
       "model_id": "7d268d944fb2486b81395b1da1078232",
       "version_major": 2,
       "version_minor": 0
      },
      "text/plain": [
       "99/300 * Epoch (train):   0%|          | 0/1 [00:00<?, ?it/s]"
      ]
     },
     "metadata": {},
     "output_type": "display_data"
    },
    {
     "name": "stdout",
     "output_type": "stream",
     "text": [
      "train (99/300) loss: 0.003810842288658023 | loss/mean: 0.003810842288658023 | loss/std: 0.0 | lr: 0.0001 | momentum: 0.9\n"
     ]
    },
    {
     "data": {
      "application/vnd.jupyter.widget-view+json": {
       "model_id": "02d1703d6b4d451a8ec8fa9ea5cb1fd7",
       "version_major": 2,
       "version_minor": 0
      },
      "text/plain": [
       "99/300 * Epoch (valid):   0%|          | 0/1 [00:00<?, ?it/s]"
      ]
     },
     "metadata": {},
     "output_type": "display_data"
    },
    {
     "name": "stdout",
     "output_type": "stream",
     "text": [
      "valid (99/300) exact_match01: 1.0 | exact_match01/std: 0.0 | exact_match02: 1.0 | exact_match02/std: 0.0 | loss: 0.0003383192524779588 | loss/mean: 0.0003383192524779588 | loss/std: 0.0 | lr: 0.0001 | momentum: 0.9\n",
      "* Epoch (99/300) \n"
     ]
    },
    {
     "data": {
      "application/vnd.jupyter.widget-view+json": {
       "model_id": "69b5a7e510d64313b2e71ab373498db4",
       "version_major": 2,
       "version_minor": 0
      },
      "text/plain": [
       "100/300 * Epoch (train):   0%|          | 0/1 [00:00<?, ?it/s]"
      ]
     },
     "metadata": {},
     "output_type": "display_data"
    },
    {
     "name": "stdout",
     "output_type": "stream",
     "text": [
      "train (100/300) loss: 0.014848893508315086 | loss/mean: 0.014848893508315086 | loss/std: 0.0 | lr: 0.0001 | momentum: 0.9\n"
     ]
    },
    {
     "data": {
      "application/vnd.jupyter.widget-view+json": {
       "model_id": "627e2a2f39434c9ba7f7923bf235acd6",
       "version_major": 2,
       "version_minor": 0
      },
      "text/plain": [
       "100/300 * Epoch (valid):   0%|          | 0/1 [00:00<?, ?it/s]"
      ]
     },
     "metadata": {},
     "output_type": "display_data"
    },
    {
     "name": "stdout",
     "output_type": "stream",
     "text": [
      "valid (100/300) exact_match01: 1.0 | exact_match01/std: 0.0 | exact_match02: 1.0 | exact_match02/std: 0.0 | loss: 0.00032565559376962483 | loss/mean: 0.00032565559376962483 | loss/std: 0.0 | lr: 0.0001 | momentum: 0.9\n",
      "* Epoch (100/300) \n"
     ]
    },
    {
     "data": {
      "application/vnd.jupyter.widget-view+json": {
       "model_id": "ae44318cee5e4830b17a89c1e202cc52",
       "version_major": 2,
       "version_minor": 0
      },
      "text/plain": [
       "101/300 * Epoch (train):   0%|          | 0/1 [00:00<?, ?it/s]"
      ]
     },
     "metadata": {},
     "output_type": "display_data"
    },
    {
     "name": "stdout",
     "output_type": "stream",
     "text": [
      "train (101/300) loss: 0.004988109692931175 | loss/mean: 0.004988109692931175 | loss/std: 0.0 | lr: 0.0001 | momentum: 0.9\n"
     ]
    },
    {
     "data": {
      "application/vnd.jupyter.widget-view+json": {
       "model_id": "cf8375e5e0a04d58969899c4fb3b5ee2",
       "version_major": 2,
       "version_minor": 0
      },
      "text/plain": [
       "101/300 * Epoch (valid):   0%|          | 0/1 [00:00<?, ?it/s]"
      ]
     },
     "metadata": {},
     "output_type": "display_data"
    },
    {
     "name": "stdout",
     "output_type": "stream",
     "text": [
      "valid (101/300) exact_match01: 1.0 | exact_match01/std: 0.0 | exact_match02: 1.0 | exact_match02/std: 0.0 | loss: 0.0003144956426694989 | loss/mean: 0.0003144956426694989 | loss/std: 0.0 | lr: 0.0001 | momentum: 0.9\n",
      "* Epoch (101/300) \n"
     ]
    },
    {
     "data": {
      "application/vnd.jupyter.widget-view+json": {
       "model_id": "6fd61e13dba347c2b298d950e6a9da20",
       "version_major": 2,
       "version_minor": 0
      },
      "text/plain": [
       "102/300 * Epoch (train):   0%|          | 0/1 [00:00<?, ?it/s]"
      ]
     },
     "metadata": {},
     "output_type": "display_data"
    },
    {
     "name": "stdout",
     "output_type": "stream",
     "text": [
      "train (102/300) loss: 0.005158454179763794 | loss/mean: 0.005158454179763794 | loss/std: 0.0 | lr: 0.0001 | momentum: 0.9\n"
     ]
    },
    {
     "data": {
      "application/vnd.jupyter.widget-view+json": {
       "model_id": "1056c18fca274156baa33bcf301e6271",
       "version_major": 2,
       "version_minor": 0
      },
      "text/plain": [
       "102/300 * Epoch (valid):   0%|          | 0/1 [00:00<?, ?it/s]"
      ]
     },
     "metadata": {},
     "output_type": "display_data"
    },
    {
     "name": "stdout",
     "output_type": "stream",
     "text": [
      "valid (102/300) exact_match01: 1.0 | exact_match01/std: 0.0 | exact_match02: 1.0 | exact_match02/std: 0.0 | loss: 0.0003043058968614787 | loss/mean: 0.0003043058968614787 | loss/std: 0.0 | lr: 0.0001 | momentum: 0.9\n",
      "* Epoch (102/300) \n"
     ]
    },
    {
     "data": {
      "application/vnd.jupyter.widget-view+json": {
       "model_id": "b780a094b6b14a7eb08b373f8489374d",
       "version_major": 2,
       "version_minor": 0
      },
      "text/plain": [
       "103/300 * Epoch (train):   0%|          | 0/1 [00:00<?, ?it/s]"
      ]
     },
     "metadata": {},
     "output_type": "display_data"
    },
    {
     "name": "stdout",
     "output_type": "stream",
     "text": [
      "train (103/300) loss: 0.009316940791904926 | loss/mean: 0.009316940791904926 | loss/std: 0.0 | lr: 0.0001 | momentum: 0.9\n"
     ]
    },
    {
     "data": {
      "application/vnd.jupyter.widget-view+json": {
       "model_id": "09d65d50f51b4594a701093135cf546c",
       "version_major": 2,
       "version_minor": 0
      },
      "text/plain": [
       "103/300 * Epoch (valid):   0%|          | 0/1 [00:00<?, ?it/s]"
      ]
     },
     "metadata": {},
     "output_type": "display_data"
    },
    {
     "name": "stdout",
     "output_type": "stream",
     "text": [
      "valid (103/300) exact_match01: 1.0 | exact_match01/std: 0.0 | exact_match02: 1.0 | exact_match02/std: 0.0 | loss: 0.0002947413013316691 | loss/mean: 0.0002947413013316691 | loss/std: 0.0 | lr: 0.0001 | momentum: 0.9\n",
      "* Epoch (103/300) \n"
     ]
    },
    {
     "data": {
      "application/vnd.jupyter.widget-view+json": {
       "model_id": "eff498902323488e959a878ac1187f45",
       "version_major": 2,
       "version_minor": 0
      },
      "text/plain": [
       "104/300 * Epoch (train):   0%|          | 0/1 [00:00<?, ?it/s]"
      ]
     },
     "metadata": {},
     "output_type": "display_data"
    },
    {
     "name": "stdout",
     "output_type": "stream",
     "text": [
      "train (104/300) loss: 0.004096293356269598 | loss/mean: 0.004096293356269598 | loss/std: 0.0 | lr: 0.0001 | momentum: 0.9\n"
     ]
    },
    {
     "data": {
      "application/vnd.jupyter.widget-view+json": {
       "model_id": "71d64fc75e664e6b88397f0d8e20f2b5",
       "version_major": 2,
       "version_minor": 0
      },
      "text/plain": [
       "104/300 * Epoch (valid):   0%|          | 0/1 [00:00<?, ?it/s]"
      ]
     },
     "metadata": {},
     "output_type": "display_data"
    },
    {
     "name": "stdout",
     "output_type": "stream",
     "text": [
      "valid (104/300) exact_match01: 1.0 | exact_match01/std: 0.0 | exact_match02: 1.0 | exact_match02/std: 0.0 | loss: 0.0002864179841708392 | loss/mean: 0.0002864179841708392 | loss/std: 0.0 | lr: 0.0001 | momentum: 0.9\n",
      "* Epoch (104/300) \n"
     ]
    },
    {
     "data": {
      "application/vnd.jupyter.widget-view+json": {
       "model_id": "08168aca8dd147f2a5e142fcfc8fe553",
       "version_major": 2,
       "version_minor": 0
      },
      "text/plain": [
       "105/300 * Epoch (train):   0%|          | 0/1 [00:00<?, ?it/s]"
      ]
     },
     "metadata": {},
     "output_type": "display_data"
    },
    {
     "name": "stdout",
     "output_type": "stream",
     "text": [
      "train (105/300) loss: 0.005525423213839531 | loss/mean: 0.005525423213839531 | loss/std: 0.0 | lr: 0.0001 | momentum: 0.9\n"
     ]
    },
    {
     "data": {
      "application/vnd.jupyter.widget-view+json": {
       "model_id": "2e6e1798e10f4b1fb4957a1dd99d677a",
       "version_major": 2,
       "version_minor": 0
      },
      "text/plain": [
       "105/300 * Epoch (valid):   0%|          | 0/1 [00:00<?, ?it/s]"
      ]
     },
     "metadata": {},
     "output_type": "display_data"
    },
    {
     "name": "stdout",
     "output_type": "stream",
     "text": [
      "valid (105/300) exact_match01: 1.0 | exact_match01/std: 0.0 | exact_match02: 1.0 | exact_match02/std: 0.0 | loss: 0.0002786794793792069 | loss/mean: 0.0002786794793792069 | loss/std: 0.0 | lr: 0.0001 | momentum: 0.9\n",
      "* Epoch (105/300) \n"
     ]
    },
    {
     "data": {
      "application/vnd.jupyter.widget-view+json": {
       "model_id": "1d0c8c24eb014c3998016be9204a823b",
       "version_major": 2,
       "version_minor": 0
      },
      "text/plain": [
       "106/300 * Epoch (train):   0%|          | 0/1 [00:00<?, ?it/s]"
      ]
     },
     "metadata": {},
     "output_type": "display_data"
    },
    {
     "name": "stdout",
     "output_type": "stream",
     "text": [
      "train (106/300) loss: 0.007044053170830011 | loss/mean: 0.007044053170830011 | loss/std: 0.0 | lr: 0.0001 | momentum: 0.9\n"
     ]
    },
    {
     "data": {
      "application/vnd.jupyter.widget-view+json": {
       "model_id": "c3528bc2b09446a982aeefa2a0f58d8d",
       "version_major": 2,
       "version_minor": 0
      },
      "text/plain": [
       "106/300 * Epoch (valid):   0%|          | 0/1 [00:00<?, ?it/s]"
      ]
     },
     "metadata": {},
     "output_type": "display_data"
    },
    {
     "name": "stdout",
     "output_type": "stream",
     "text": [
      "valid (106/300) exact_match01: 1.0 | exact_match01/std: 0.0 | exact_match02: 1.0 | exact_match02/std: 0.0 | loss: 0.0002677705488167703 | loss/mean: 0.0002677705488167703 | loss/std: 0.0 | lr: 0.0001 | momentum: 0.9\n",
      "* Epoch (106/300) \n"
     ]
    },
    {
     "data": {
      "application/vnd.jupyter.widget-view+json": {
       "model_id": "17b52cb7dd0a4ffca6ac6ca2b035423c",
       "version_major": 2,
       "version_minor": 0
      },
      "text/plain": [
       "107/300 * Epoch (train):   0%|          | 0/1 [00:00<?, ?it/s]"
      ]
     },
     "metadata": {},
     "output_type": "display_data"
    },
    {
     "name": "stdout",
     "output_type": "stream",
     "text": [
      "train (107/300) loss: 0.00588212488219142 | loss/mean: 0.00588212488219142 | loss/std: 0.0 | lr: 0.0001 | momentum: 0.9\n"
     ]
    },
    {
     "data": {
      "application/vnd.jupyter.widget-view+json": {
       "model_id": "8966bc35633a45f4b77da9a108407823",
       "version_major": 2,
       "version_minor": 0
      },
      "text/plain": [
       "107/300 * Epoch (valid):   0%|          | 0/1 [00:00<?, ?it/s]"
      ]
     },
     "metadata": {},
     "output_type": "display_data"
    },
    {
     "name": "stdout",
     "output_type": "stream",
     "text": [
      "valid (107/300) exact_match01: 1.0 | exact_match01/std: 0.0 | exact_match02: 1.0 | exact_match02/std: 0.0 | loss: 0.0002576956176199019 | loss/mean: 0.0002576956176199019 | loss/std: 0.0 | lr: 0.0001 | momentum: 0.9\n",
      "* Epoch (107/300) \n"
     ]
    },
    {
     "data": {
      "application/vnd.jupyter.widget-view+json": {
       "model_id": "f962b803db244a9c80502d3aab0086fd",
       "version_major": 2,
       "version_minor": 0
      },
      "text/plain": [
       "108/300 * Epoch (train):   0%|          | 0/1 [00:00<?, ?it/s]"
      ]
     },
     "metadata": {},
     "output_type": "display_data"
    },
    {
     "name": "stdout",
     "output_type": "stream",
     "text": [
      "train (108/300) loss: 0.003925005439668894 | loss/mean: 0.003925005439668894 | loss/std: 0.0 | lr: 0.0001 | momentum: 0.9\n"
     ]
    },
    {
     "data": {
      "application/vnd.jupyter.widget-view+json": {
       "model_id": "5bacd9ba210a440bb7faed71cf6834ad",
       "version_major": 2,
       "version_minor": 0
      },
      "text/plain": [
       "108/300 * Epoch (valid):   0%|          | 0/1 [00:00<?, ?it/s]"
      ]
     },
     "metadata": {},
     "output_type": "display_data"
    },
    {
     "name": "stdout",
     "output_type": "stream",
     "text": [
      "valid (108/300) exact_match01: 1.0 | exact_match01/std: 0.0 | exact_match02: 1.0 | exact_match02/std: 0.0 | loss: 0.0002488990139681846 | loss/mean: 0.0002488990139681846 | loss/std: 0.0 | lr: 0.0001 | momentum: 0.9\n",
      "* Epoch (108/300) \n"
     ]
    },
    {
     "data": {
      "application/vnd.jupyter.widget-view+json": {
       "model_id": "0fb9982552414fd5ad3c6087973178b7",
       "version_major": 2,
       "version_minor": 0
      },
      "text/plain": [
       "109/300 * Epoch (train):   0%|          | 0/1 [00:00<?, ?it/s]"
      ]
     },
     "metadata": {},
     "output_type": "display_data"
    },
    {
     "name": "stdout",
     "output_type": "stream",
     "text": [
      "train (109/300) loss: 0.00393840204924345 | loss/mean: 0.00393840204924345 | loss/std: 0.0 | lr: 0.0001 | momentum: 0.9\n"
     ]
    },
    {
     "data": {
      "application/vnd.jupyter.widget-view+json": {
       "model_id": "ef3cef25aa8441bab187bd11c6ba3f19",
       "version_major": 2,
       "version_minor": 0
      },
      "text/plain": [
       "109/300 * Epoch (valid):   0%|          | 0/1 [00:00<?, ?it/s]"
      ]
     },
     "metadata": {},
     "output_type": "display_data"
    },
    {
     "name": "stdout",
     "output_type": "stream",
     "text": [
      "valid (109/300) exact_match01: 1.0 | exact_match01/std: 0.0 | exact_match02: 1.0 | exact_match02/std: 0.0 | loss: 0.00024114156258292496 | loss/mean: 0.00024114156258292496 | loss/std: 0.0 | lr: 0.0001 | momentum: 0.9\n",
      "* Epoch (109/300) \n"
     ]
    },
    {
     "data": {
      "application/vnd.jupyter.widget-view+json": {
       "model_id": "21d889d3a5714ac381eb1e092dce3ae0",
       "version_major": 2,
       "version_minor": 0
      },
      "text/plain": [
       "110/300 * Epoch (train):   0%|          | 0/1 [00:00<?, ?it/s]"
      ]
     },
     "metadata": {},
     "output_type": "display_data"
    },
    {
     "name": "stdout",
     "output_type": "stream",
     "text": [
      "train (110/300) loss: 0.010397534817457199 | loss/mean: 0.010397534817457199 | loss/std: 0.0 | lr: 0.0001 | momentum: 0.9\n"
     ]
    },
    {
     "data": {
      "application/vnd.jupyter.widget-view+json": {
       "model_id": "82f365e168404cda9722eac8edc130b2",
       "version_major": 2,
       "version_minor": 0
      },
      "text/plain": [
       "110/300 * Epoch (valid):   0%|          | 0/1 [00:00<?, ?it/s]"
      ]
     },
     "metadata": {},
     "output_type": "display_data"
    },
    {
     "name": "stdout",
     "output_type": "stream",
     "text": [
      "valid (110/300) exact_match01: 1.0 | exact_match01/std: 0.0 | exact_match02: 1.0 | exact_match02/std: 0.0 | loss: 0.00023288412194233388 | loss/mean: 0.00023288412194233388 | loss/std: 0.0 | lr: 0.0001 | momentum: 0.9\n",
      "* Epoch (110/300) \n"
     ]
    },
    {
     "data": {
      "application/vnd.jupyter.widget-view+json": {
       "model_id": "aca4cc0cd4bc432da5b90fdcf3958217",
       "version_major": 2,
       "version_minor": 0
      },
      "text/plain": [
       "111/300 * Epoch (train):   0%|          | 0/1 [00:00<?, ?it/s]"
      ]
     },
     "metadata": {},
     "output_type": "display_data"
    },
    {
     "name": "stdout",
     "output_type": "stream",
     "text": [
      "train (111/300) loss: 0.0033212737180292606 | loss/mean: 0.0033212737180292606 | loss/std: 0.0 | lr: 0.0001 | momentum: 0.9\n"
     ]
    },
    {
     "data": {
      "application/vnd.jupyter.widget-view+json": {
       "model_id": "81adb098e2ff4148898b141591bf9613",
       "version_major": 2,
       "version_minor": 0
      },
      "text/plain": [
       "111/300 * Epoch (valid):   0%|          | 0/1 [00:00<?, ?it/s]"
      ]
     },
     "metadata": {},
     "output_type": "display_data"
    },
    {
     "name": "stdout",
     "output_type": "stream",
     "text": [
      "valid (111/300) exact_match01: 1.0 | exact_match01/std: 0.0 | exact_match02: 1.0 | exact_match02/std: 0.0 | loss: 0.00022526425891555846 | loss/mean: 0.00022526425891555846 | loss/std: 0.0 | lr: 0.0001 | momentum: 0.9\n",
      "* Epoch (111/300) \n"
     ]
    },
    {
     "data": {
      "application/vnd.jupyter.widget-view+json": {
       "model_id": "700c839aa63f4a189cbd4a0451c8e849",
       "version_major": 2,
       "version_minor": 0
      },
      "text/plain": [
       "112/300 * Epoch (train):   0%|          | 0/1 [00:00<?, ?it/s]"
      ]
     },
     "metadata": {},
     "output_type": "display_data"
    },
    {
     "name": "stdout",
     "output_type": "stream",
     "text": [
      "train (112/300) loss: 0.0034596065524965525 | loss/mean: 0.0034596065524965525 | loss/std: 0.0 | lr: 0.0001 | momentum: 0.9\n"
     ]
    },
    {
     "data": {
      "application/vnd.jupyter.widget-view+json": {
       "model_id": "08f2bf9ae5f54e7698e395adc1ce4ea1",
       "version_major": 2,
       "version_minor": 0
      },
      "text/plain": [
       "112/300 * Epoch (valid):   0%|          | 0/1 [00:00<?, ?it/s]"
      ]
     },
     "metadata": {},
     "output_type": "display_data"
    },
    {
     "name": "stdout",
     "output_type": "stream",
     "text": [
      "valid (112/300) exact_match01: 1.0 | exact_match01/std: 0.0 | exact_match02: 1.0 | exact_match02/std: 0.0 | loss: 0.0002179654111387208 | loss/mean: 0.0002179654111387208 | loss/std: 0.0 | lr: 0.0001 | momentum: 0.9\n",
      "* Epoch (112/300) \n"
     ]
    },
    {
     "data": {
      "application/vnd.jupyter.widget-view+json": {
       "model_id": "5e15a0d5af6440f98d744200935d7c14",
       "version_major": 2,
       "version_minor": 0
      },
      "text/plain": [
       "113/300 * Epoch (train):   0%|          | 0/1 [00:00<?, ?it/s]"
      ]
     },
     "metadata": {},
     "output_type": "display_data"
    },
    {
     "name": "stdout",
     "output_type": "stream",
     "text": [
      "train (113/300) loss: 0.003886002115905285 | loss/mean: 0.003886002115905285 | loss/std: 0.0 | lr: 0.0001 | momentum: 0.9\n"
     ]
    },
    {
     "data": {
      "application/vnd.jupyter.widget-view+json": {
       "model_id": "f5fce9a46f0e449181fb1c57e6618708",
       "version_major": 2,
       "version_minor": 0
      },
      "text/plain": [
       "113/300 * Epoch (valid):   0%|          | 0/1 [00:00<?, ?it/s]"
      ]
     },
     "metadata": {},
     "output_type": "display_data"
    },
    {
     "name": "stdout",
     "output_type": "stream",
     "text": [
      "valid (113/300) exact_match01: 1.0 | exact_match01/std: 0.0 | exact_match02: 1.0 | exact_match02/std: 0.0 | loss: 0.00021160506003070623 | loss/mean: 0.00021160506003070623 | loss/std: 0.0 | lr: 0.0001 | momentum: 0.9\n",
      "* Epoch (113/300) \n"
     ]
    },
    {
     "data": {
      "application/vnd.jupyter.widget-view+json": {
       "model_id": "31dbbaa3f4e0432391b1bc57a399d069",
       "version_major": 2,
       "version_minor": 0
      },
      "text/plain": [
       "114/300 * Epoch (train):   0%|          | 0/1 [00:00<?, ?it/s]"
      ]
     },
     "metadata": {},
     "output_type": "display_data"
    },
    {
     "name": "stdout",
     "output_type": "stream",
     "text": [
      "train (114/300) loss: 0.005447946023195982 | loss/mean: 0.005447946023195982 | loss/std: 0.0 | lr: 0.0001 | momentum: 0.9\n"
     ]
    },
    {
     "data": {
      "application/vnd.jupyter.widget-view+json": {
       "model_id": "5acc024ff7144483a732b23730d89d5d",
       "version_major": 2,
       "version_minor": 0
      },
      "text/plain": [
       "114/300 * Epoch (valid):   0%|          | 0/1 [00:00<?, ?it/s]"
      ]
     },
     "metadata": {},
     "output_type": "display_data"
    },
    {
     "name": "stdout",
     "output_type": "stream",
     "text": [
      "valid (114/300) exact_match01: 1.0 | exact_match01/std: 0.0 | exact_match02: 1.0 | exact_match02/std: 0.0 | loss: 0.00020543270511552691 | loss/mean: 0.00020543270511552691 | loss/std: 0.0 | lr: 0.0001 | momentum: 0.9\n",
      "* Epoch (114/300) \n"
     ]
    },
    {
     "data": {
      "application/vnd.jupyter.widget-view+json": {
       "model_id": "fecbf7934f4546cbbe31c0a27d1ead86",
       "version_major": 2,
       "version_minor": 0
      },
      "text/plain": [
       "115/300 * Epoch (train):   0%|          | 0/1 [00:00<?, ?it/s]"
      ]
     },
     "metadata": {},
     "output_type": "display_data"
    },
    {
     "name": "stdout",
     "output_type": "stream",
     "text": [
      "train (115/300) loss: 0.022367918863892555 | loss/mean: 0.022367918863892555 | loss/std: 0.0 | lr: 0.0001 | momentum: 0.9\n"
     ]
    },
    {
     "data": {
      "application/vnd.jupyter.widget-view+json": {
       "model_id": "5149a13de21a44458410ac48233d89ad",
       "version_major": 2,
       "version_minor": 0
      },
      "text/plain": [
       "115/300 * Epoch (valid):   0%|          | 0/1 [00:00<?, ?it/s]"
      ]
     },
     "metadata": {},
     "output_type": "display_data"
    },
    {
     "name": "stdout",
     "output_type": "stream",
     "text": [
      "valid (115/300) exact_match01: 1.0 | exact_match01/std: 0.0 | exact_match02: 1.0 | exact_match02/std: 0.0 | loss: 0.00020145719463471323 | loss/mean: 0.00020145719463471323 | loss/std: 0.0 | lr: 0.0001 | momentum: 0.9\n",
      "* Epoch (115/300) \n"
     ]
    },
    {
     "data": {
      "application/vnd.jupyter.widget-view+json": {
       "model_id": "86741f84447242999780cb11b6dd3915",
       "version_major": 2,
       "version_minor": 0
      },
      "text/plain": [
       "116/300 * Epoch (train):   0%|          | 0/1 [00:00<?, ?it/s]"
      ]
     },
     "metadata": {},
     "output_type": "display_data"
    },
    {
     "name": "stdout",
     "output_type": "stream",
     "text": [
      "train (116/300) loss: 0.002392110414803028 | loss/mean: 0.002392110414803028 | loss/std: 0.0 | lr: 0.0001 | momentum: 0.9\n"
     ]
    },
    {
     "data": {
      "application/vnd.jupyter.widget-view+json": {
       "model_id": "b8a3e20ca5174ded80bc897908fa2177",
       "version_major": 2,
       "version_minor": 0
      },
      "text/plain": [
       "116/300 * Epoch (valid):   0%|          | 0/1 [00:00<?, ?it/s]"
      ]
     },
     "metadata": {},
     "output_type": "display_data"
    },
    {
     "name": "stdout",
     "output_type": "stream",
     "text": [
      "valid (116/300) exact_match01: 1.0 | exact_match01/std: 0.0 | exact_match02: 1.0 | exact_match02/std: 0.0 | loss: 0.0001980080851353705 | loss/mean: 0.0001980080851353705 | loss/std: 0.0 | lr: 0.0001 | momentum: 0.9\n",
      "* Epoch (116/300) \n"
     ]
    },
    {
     "data": {
      "application/vnd.jupyter.widget-view+json": {
       "model_id": "89d7897b579840c9b04e9620ec0eeb52",
       "version_major": 2,
       "version_minor": 0
      },
      "text/plain": [
       "117/300 * Epoch (train):   0%|          | 0/1 [00:00<?, ?it/s]"
      ]
     },
     "metadata": {},
     "output_type": "display_data"
    },
    {
     "name": "stdout",
     "output_type": "stream",
     "text": [
      "train (117/300) loss: 0.0040023960173130035 | loss/mean: 0.0040023960173130035 | loss/std: 0.0 | lr: 0.0001 | momentum: 0.9\n"
     ]
    },
    {
     "data": {
      "application/vnd.jupyter.widget-view+json": {
       "model_id": "3c67d12e93a643cd9f79f81cd160117a",
       "version_major": 2,
       "version_minor": 0
      },
      "text/plain": [
       "117/300 * Epoch (valid):   0%|          | 0/1 [00:00<?, ?it/s]"
      ]
     },
     "metadata": {},
     "output_type": "display_data"
    },
    {
     "name": "stdout",
     "output_type": "stream",
     "text": [
      "valid (117/300) exact_match01: 1.0 | exact_match01/std: 0.0 | exact_match02: 1.0 | exact_match02/std: 0.0 | loss: 0.0001949746219906956 | loss/mean: 0.0001949746219906956 | loss/std: 0.0 | lr: 0.0001 | momentum: 0.9\n",
      "* Epoch (117/300) \n"
     ]
    },
    {
     "data": {
      "application/vnd.jupyter.widget-view+json": {
       "model_id": "318e949abf67494ea17e020b9c83c686",
       "version_major": 2,
       "version_minor": 0
      },
      "text/plain": [
       "118/300 * Epoch (train):   0%|          | 0/1 [00:00<?, ?it/s]"
      ]
     },
     "metadata": {},
     "output_type": "display_data"
    },
    {
     "name": "stdout",
     "output_type": "stream",
     "text": [
      "train (118/300) loss: 0.004291113466024399 | loss/mean: 0.004291113466024399 | loss/std: 0.0 | lr: 0.0001 | momentum: 0.9\n"
     ]
    },
    {
     "data": {
      "application/vnd.jupyter.widget-view+json": {
       "model_id": "94d04014394b4814b0312aaf57a2e153",
       "version_major": 2,
       "version_minor": 0
      },
      "text/plain": [
       "118/300 * Epoch (valid):   0%|          | 0/1 [00:00<?, ?it/s]"
      ]
     },
     "metadata": {},
     "output_type": "display_data"
    },
    {
     "name": "stdout",
     "output_type": "stream",
     "text": [
      "valid (118/300) exact_match01: 1.0 | exact_match01/std: 0.0 | exact_match02: 1.0 | exact_match02/std: 0.0 | loss: 0.00019225224968977273 | loss/mean: 0.00019225224968977273 | loss/std: 0.0 | lr: 0.0001 | momentum: 0.9\n",
      "* Epoch (118/300) \n"
     ]
    },
    {
     "data": {
      "application/vnd.jupyter.widget-view+json": {
       "model_id": "5980aa9acd91451982e56ac901c2eeb1",
       "version_major": 2,
       "version_minor": 0
      },
      "text/plain": [
       "119/300 * Epoch (train):   0%|          | 0/1 [00:00<?, ?it/s]"
      ]
     },
     "metadata": {},
     "output_type": "display_data"
    },
    {
     "name": "stdout",
     "output_type": "stream",
     "text": [
      "train (119/300) loss: 0.003109685843810439 | loss/mean: 0.003109685843810439 | loss/std: 0.0 | lr: 0.0001 | momentum: 0.9\n"
     ]
    },
    {
     "data": {
      "application/vnd.jupyter.widget-view+json": {
       "model_id": "1962262a12bb42729811cfef4cfe1fd7",
       "version_major": 2,
       "version_minor": 0
      },
      "text/plain": [
       "119/300 * Epoch (valid):   0%|          | 0/1 [00:00<?, ?it/s]"
      ]
     },
     "metadata": {},
     "output_type": "display_data"
    },
    {
     "name": "stdout",
     "output_type": "stream",
     "text": [
      "valid (119/300) exact_match01: 1.0 | exact_match01/std: 0.0 | exact_match02: 1.0 | exact_match02/std: 0.0 | loss: 0.00018973430269397795 | loss/mean: 0.00018973430269397795 | loss/std: 0.0 | lr: 0.0001 | momentum: 0.9\n",
      "* Epoch (119/300) \n"
     ]
    },
    {
     "data": {
      "application/vnd.jupyter.widget-view+json": {
       "model_id": "1e11b7558ff4429bb1823313367a46cc",
       "version_major": 2,
       "version_minor": 0
      },
      "text/plain": [
       "120/300 * Epoch (train):   0%|          | 0/1 [00:00<?, ?it/s]"
      ]
     },
     "metadata": {},
     "output_type": "display_data"
    },
    {
     "name": "stdout",
     "output_type": "stream",
     "text": [
      "train (120/300) loss: 0.00381873338483274 | loss/mean: 0.00381873338483274 | loss/std: 0.0 | lr: 0.0001 | momentum: 0.9\n"
     ]
    },
    {
     "data": {
      "application/vnd.jupyter.widget-view+json": {
       "model_id": "6f5148d5820b46a184b9fe5b71a01ab2",
       "version_major": 2,
       "version_minor": 0
      },
      "text/plain": [
       "120/300 * Epoch (valid):   0%|          | 0/1 [00:00<?, ?it/s]"
      ]
     },
     "metadata": {},
     "output_type": "display_data"
    },
    {
     "name": "stdout",
     "output_type": "stream",
     "text": [
      "valid (120/300) exact_match01: 1.0 | exact_match01/std: 0.0 | exact_match02: 1.0 | exact_match02/std: 0.0 | loss: 0.00018730867304839194 | loss/mean: 0.00018730867304839194 | loss/std: 0.0 | lr: 0.0001 | momentum: 0.9\n",
      "* Epoch (120/300) \n"
     ]
    },
    {
     "data": {
      "application/vnd.jupyter.widget-view+json": {
       "model_id": "ea82e1f6e50a4fd4ac383c7738d0d83e",
       "version_major": 2,
       "version_minor": 0
      },
      "text/plain": [
       "121/300 * Epoch (train):   0%|          | 0/1 [00:00<?, ?it/s]"
      ]
     },
     "metadata": {},
     "output_type": "display_data"
    },
    {
     "name": "stdout",
     "output_type": "stream",
     "text": [
      "train (121/300) loss: 0.0034808337222784758 | loss/mean: 0.0034808337222784758 | loss/std: 0.0 | lr: 0.0001 | momentum: 0.9\n"
     ]
    },
    {
     "data": {
      "application/vnd.jupyter.widget-view+json": {
       "model_id": "ea44ef5e483a4a5799612d02bd77ce2e",
       "version_major": 2,
       "version_minor": 0
      },
      "text/plain": [
       "121/300 * Epoch (valid):   0%|          | 0/1 [00:00<?, ?it/s]"
      ]
     },
     "metadata": {},
     "output_type": "display_data"
    },
    {
     "name": "stdout",
     "output_type": "stream",
     "text": [
      "valid (121/300) exact_match01: 1.0 | exact_match01/std: 0.0 | exact_match02: 1.0 | exact_match02/std: 0.0 | loss: 0.00018479826394468546 | loss/mean: 0.00018479826394468546 | loss/std: 0.0 | lr: 0.0001 | momentum: 0.9\n",
      "* Epoch (121/300) \n"
     ]
    },
    {
     "data": {
      "application/vnd.jupyter.widget-view+json": {
       "model_id": "3d347f8c9d384fe98d5b357a4cec799a",
       "version_major": 2,
       "version_minor": 0
      },
      "text/plain": [
       "122/300 * Epoch (train):   0%|          | 0/1 [00:00<?, ?it/s]"
      ]
     },
     "metadata": {},
     "output_type": "display_data"
    },
    {
     "name": "stdout",
     "output_type": "stream",
     "text": [
      "train (122/300) loss: 0.00834336131811142 | loss/mean: 0.00834336131811142 | loss/std: 0.0 | lr: 0.0001 | momentum: 0.9\n"
     ]
    },
    {
     "data": {
      "application/vnd.jupyter.widget-view+json": {
       "model_id": "c8db43aab6544c53ae1086f417e7e5ff",
       "version_major": 2,
       "version_minor": 0
      },
      "text/plain": [
       "122/300 * Epoch (valid):   0%|          | 0/1 [00:00<?, ?it/s]"
      ]
     },
     "metadata": {},
     "output_type": "display_data"
    },
    {
     "name": "stdout",
     "output_type": "stream",
     "text": [
      "valid (122/300) exact_match01: 1.0 | exact_match01/std: 0.0 | exact_match02: 1.0 | exact_match02/std: 0.0 | loss: 0.00018183230713475496 | loss/mean: 0.00018183230713475496 | loss/std: 0.0 | lr: 0.0001 | momentum: 0.9\n",
      "* Epoch (122/300) \n"
     ]
    },
    {
     "data": {
      "application/vnd.jupyter.widget-view+json": {
       "model_id": "8156e5c030764cd1a78e6c0894c94b9b",
       "version_major": 2,
       "version_minor": 0
      },
      "text/plain": [
       "123/300 * Epoch (train):   0%|          | 0/1 [00:00<?, ?it/s]"
      ]
     },
     "metadata": {},
     "output_type": "display_data"
    },
    {
     "name": "stdout",
     "output_type": "stream",
     "text": [
      "train (123/300) loss: 0.0021559896413236856 | loss/mean: 0.0021559896413236856 | loss/std: 0.0 | lr: 0.0001 | momentum: 0.9\n"
     ]
    },
    {
     "data": {
      "application/vnd.jupyter.widget-view+json": {
       "model_id": "ccad6a6454474434bdaeb7282cbf50c0",
       "version_major": 2,
       "version_minor": 0
      },
      "text/plain": [
       "123/300 * Epoch (valid):   0%|          | 0/1 [00:00<?, ?it/s]"
      ]
     },
     "metadata": {},
     "output_type": "display_data"
    },
    {
     "name": "stdout",
     "output_type": "stream",
     "text": [
      "valid (123/300) exact_match01: 1.0 | exact_match01/std: 0.0 | exact_match02: 1.0 | exact_match02/std: 0.0 | loss: 0.0001788272347766906 | loss/mean: 0.0001788272347766906 | loss/std: 0.0 | lr: 0.0001 | momentum: 0.9\n",
      "* Epoch (123/300) \n"
     ]
    },
    {
     "data": {
      "application/vnd.jupyter.widget-view+json": {
       "model_id": "6fa92ddca829452988a08bc8f68ab8ac",
       "version_major": 2,
       "version_minor": 0
      },
      "text/plain": [
       "124/300 * Epoch (train):   0%|          | 0/1 [00:00<?, ?it/s]"
      ]
     },
     "metadata": {},
     "output_type": "display_data"
    },
    {
     "name": "stdout",
     "output_type": "stream",
     "text": [
      "train (124/300) loss: 0.002214025938883424 | loss/mean: 0.002214025938883424 | loss/std: 0.0 | lr: 0.0001 | momentum: 0.9\n"
     ]
    },
    {
     "data": {
      "application/vnd.jupyter.widget-view+json": {
       "model_id": "8190d5a53bff4d19af35e9bea749db66",
       "version_major": 2,
       "version_minor": 0
      },
      "text/plain": [
       "124/300 * Epoch (valid):   0%|          | 0/1 [00:00<?, ?it/s]"
      ]
     },
     "metadata": {},
     "output_type": "display_data"
    },
    {
     "name": "stdout",
     "output_type": "stream",
     "text": [
      "valid (124/300) exact_match01: 1.0 | exact_match01/std: 0.0 | exact_match02: 1.0 | exact_match02/std: 0.0 | loss: 0.00017600407591089606 | loss/mean: 0.00017600407591089606 | loss/std: 0.0 | lr: 0.0001 | momentum: 0.9\n",
      "* Epoch (124/300) \n"
     ]
    },
    {
     "data": {
      "application/vnd.jupyter.widget-view+json": {
       "model_id": "09da6f76123243db919903af79ae8344",
       "version_major": 2,
       "version_minor": 0
      },
      "text/plain": [
       "125/300 * Epoch (train):   0%|          | 0/1 [00:00<?, ?it/s]"
      ]
     },
     "metadata": {},
     "output_type": "display_data"
    },
    {
     "name": "stdout",
     "output_type": "stream",
     "text": [
      "train (125/300) loss: 0.009912203997373581 | loss/mean: 0.009912203997373581 | loss/std: 0.0 | lr: 0.0001 | momentum: 0.9\n"
     ]
    },
    {
     "data": {
      "application/vnd.jupyter.widget-view+json": {
       "model_id": "83a3b565503447f5a3382bc98ae195d2",
       "version_major": 2,
       "version_minor": 0
      },
      "text/plain": [
       "125/300 * Epoch (valid):   0%|          | 0/1 [00:00<?, ?it/s]"
      ]
     },
     "metadata": {},
     "output_type": "display_data"
    },
    {
     "name": "stdout",
     "output_type": "stream",
     "text": [
      "valid (125/300) exact_match01: 1.0 | exact_match01/std: 0.0 | exact_match02: 1.0 | exact_match02/std: 0.0 | loss: 0.00017312528507318348 | loss/mean: 0.00017312528507318348 | loss/std: 0.0 | lr: 0.0001 | momentum: 0.9\n",
      "* Epoch (125/300) \n"
     ]
    },
    {
     "data": {
      "application/vnd.jupyter.widget-view+json": {
       "model_id": "bdfc48acad294e26af3474d939fa3606",
       "version_major": 2,
       "version_minor": 0
      },
      "text/plain": [
       "126/300 * Epoch (train):   0%|          | 0/1 [00:00<?, ?it/s]"
      ]
     },
     "metadata": {},
     "output_type": "display_data"
    },
    {
     "name": "stdout",
     "output_type": "stream",
     "text": [
      "train (126/300) loss: 0.0037728778552263975 | loss/mean: 0.0037728778552263975 | loss/std: 0.0 | lr: 0.0001 | momentum: 0.9\n"
     ]
    },
    {
     "data": {
      "application/vnd.jupyter.widget-view+json": {
       "model_id": "5743ba4133d8470695bc1af06f733cd6",
       "version_major": 2,
       "version_minor": 0
      },
      "text/plain": [
       "126/300 * Epoch (valid):   0%|          | 0/1 [00:00<?, ?it/s]"
      ]
     },
     "metadata": {},
     "output_type": "display_data"
    },
    {
     "name": "stdout",
     "output_type": "stream",
     "text": [
      "valid (126/300) exact_match01: 1.0 | exact_match01/std: 0.0 | exact_match02: 1.0 | exact_match02/std: 0.0 | loss: 0.00017039735394064337 | loss/mean: 0.00017039735394064337 | loss/std: 0.0 | lr: 0.0001 | momentum: 0.9\n",
      "* Epoch (126/300) \n"
     ]
    },
    {
     "data": {
      "application/vnd.jupyter.widget-view+json": {
       "model_id": "b066c975e87c434781f21dfb79de902d",
       "version_major": 2,
       "version_minor": 0
      },
      "text/plain": [
       "127/300 * Epoch (train):   0%|          | 0/1 [00:00<?, ?it/s]"
      ]
     },
     "metadata": {},
     "output_type": "display_data"
    },
    {
     "name": "stdout",
     "output_type": "stream",
     "text": [
      "train (127/300) loss: 0.019320793449878693 | loss/mean: 0.019320793449878693 | loss/std: 0.0 | lr: 0.0001 | momentum: 0.9\n"
     ]
    },
    {
     "data": {
      "application/vnd.jupyter.widget-view+json": {
       "model_id": "5396e2a360fb4584b31faee1ddc2b173",
       "version_major": 2,
       "version_minor": 0
      },
      "text/plain": [
       "127/300 * Epoch (valid):   0%|          | 0/1 [00:00<?, ?it/s]"
      ]
     },
     "metadata": {},
     "output_type": "display_data"
    },
    {
     "name": "stdout",
     "output_type": "stream",
     "text": [
      "valid (127/300) exact_match01: 1.0 | exact_match01/std: 0.0 | exact_match02: 1.0 | exact_match02/std: 0.0 | loss: 0.00016634799249004573 | loss/mean: 0.00016634799249004573 | loss/std: 0.0 | lr: 0.0001 | momentum: 0.9\n",
      "* Epoch (127/300) \n"
     ]
    },
    {
     "data": {
      "application/vnd.jupyter.widget-view+json": {
       "model_id": "67566f7ed8b54a3aae6da447e44d13ba",
       "version_major": 2,
       "version_minor": 0
      },
      "text/plain": [
       "128/300 * Epoch (train):   0%|          | 0/1 [00:00<?, ?it/s]"
      ]
     },
     "metadata": {},
     "output_type": "display_data"
    },
    {
     "name": "stdout",
     "output_type": "stream",
     "text": [
      "train (128/300) loss: 0.001983440713956952 | loss/mean: 0.001983440713956952 | loss/std: 0.0 | lr: 0.0001 | momentum: 0.9\n"
     ]
    },
    {
     "data": {
      "application/vnd.jupyter.widget-view+json": {
       "model_id": "1117158af4d748b39354325063081694",
       "version_major": 2,
       "version_minor": 0
      },
      "text/plain": [
       "128/300 * Epoch (valid):   0%|          | 0/1 [00:00<?, ?it/s]"
      ]
     },
     "metadata": {},
     "output_type": "display_data"
    },
    {
     "name": "stdout",
     "output_type": "stream",
     "text": [
      "valid (128/300) exact_match01: 1.0 | exact_match01/std: 0.0 | exact_match02: 1.0 | exact_match02/std: 0.0 | loss: 0.0001632716739550233 | loss/mean: 0.0001632716739550233 | loss/std: 0.0 | lr: 0.0001 | momentum: 0.9\n",
      "* Epoch (128/300) \n"
     ]
    },
    {
     "data": {
      "application/vnd.jupyter.widget-view+json": {
       "model_id": "558de216a2ee4323a6c14d13c216cc4e",
       "version_major": 2,
       "version_minor": 0
      },
      "text/plain": [
       "129/300 * Epoch (train):   0%|          | 0/1 [00:00<?, ?it/s]"
      ]
     },
     "metadata": {},
     "output_type": "display_data"
    },
    {
     "name": "stdout",
     "output_type": "stream",
     "text": [
      "train (129/300) loss: 0.007865925319492817 | loss/mean: 0.007865925319492817 | loss/std: 0.0 | lr: 0.0001 | momentum: 0.9\n"
     ]
    },
    {
     "data": {
      "application/vnd.jupyter.widget-view+json": {
       "model_id": "b4358c7e670848439e49fd9cdef69871",
       "version_major": 2,
       "version_minor": 0
      },
      "text/plain": [
       "129/300 * Epoch (valid):   0%|          | 0/1 [00:00<?, ?it/s]"
      ]
     },
     "metadata": {},
     "output_type": "display_data"
    },
    {
     "name": "stdout",
     "output_type": "stream",
     "text": [
      "valid (129/300) exact_match01: 1.0 | exact_match01/std: 0.0 | exact_match02: 1.0 | exact_match02/std: 0.0 | loss: 0.0001614633947610855 | loss/mean: 0.0001614633947610855 | loss/std: 0.0 | lr: 0.0001 | momentum: 0.9\n",
      "* Epoch (129/300) \n"
     ]
    },
    {
     "data": {
      "application/vnd.jupyter.widget-view+json": {
       "model_id": "d1ec2cb1d7ab48208b242921e5078ac7",
       "version_major": 2,
       "version_minor": 0
      },
      "text/plain": [
       "130/300 * Epoch (train):   0%|          | 0/1 [00:00<?, ?it/s]"
      ]
     },
     "metadata": {},
     "output_type": "display_data"
    },
    {
     "name": "stdout",
     "output_type": "stream",
     "text": [
      "train (130/300) loss: 0.005448917858302593 | loss/mean: 0.005448917858302593 | loss/std: 0.0 | lr: 0.0001 | momentum: 0.9\n"
     ]
    },
    {
     "data": {
      "application/vnd.jupyter.widget-view+json": {
       "model_id": "8648191791ba47b8b5fe4f286247a847",
       "version_major": 2,
       "version_minor": 0
      },
      "text/plain": [
       "130/300 * Epoch (valid):   0%|          | 0/1 [00:00<?, ?it/s]"
      ]
     },
     "metadata": {},
     "output_type": "display_data"
    },
    {
     "name": "stdout",
     "output_type": "stream",
     "text": [
      "valid (130/300) exact_match01: 1.0 | exact_match01/std: 0.0 | exact_match02: 1.0 | exact_match02/std: 0.0 | loss: 0.00016029317339416593 | loss/mean: 0.00016029317339416593 | loss/std: 0.0 | lr: 0.0001 | momentum: 0.9\n",
      "* Epoch (130/300) \n"
     ]
    },
    {
     "data": {
      "application/vnd.jupyter.widget-view+json": {
       "model_id": "b86ed3f90a3945099158b3387c7c9355",
       "version_major": 2,
       "version_minor": 0
      },
      "text/plain": [
       "131/300 * Epoch (train):   0%|          | 0/1 [00:00<?, ?it/s]"
      ]
     },
     "metadata": {},
     "output_type": "display_data"
    },
    {
     "name": "stdout",
     "output_type": "stream",
     "text": [
      "train (131/300) loss: 0.0027552463579922915 | loss/mean: 0.0027552463579922915 | loss/std: 0.0 | lr: 0.0001 | momentum: 0.9\n"
     ]
    },
    {
     "data": {
      "application/vnd.jupyter.widget-view+json": {
       "model_id": "165809ac4764421eb5a37b2b6fce6dce",
       "version_major": 2,
       "version_minor": 0
      },
      "text/plain": [
       "131/300 * Epoch (valid):   0%|          | 0/1 [00:00<?, ?it/s]"
      ]
     },
     "metadata": {},
     "output_type": "display_data"
    },
    {
     "name": "stdout",
     "output_type": "stream",
     "text": [
      "valid (131/300) exact_match01: 1.0 | exact_match01/std: 0.0 | exact_match02: 1.0 | exact_match02/std: 0.0 | loss: 0.0001594871428096667 | loss/mean: 0.0001594871428096667 | loss/std: 0.0 | lr: 0.0001 | momentum: 0.9\n",
      "* Epoch (131/300) \n"
     ]
    },
    {
     "data": {
      "application/vnd.jupyter.widget-view+json": {
       "model_id": "289bcda64af548c189dc054ba0320ab6",
       "version_major": 2,
       "version_minor": 0
      },
      "text/plain": [
       "132/300 * Epoch (train):   0%|          | 0/1 [00:00<?, ?it/s]"
      ]
     },
     "metadata": {},
     "output_type": "display_data"
    },
    {
     "name": "stdout",
     "output_type": "stream",
     "text": [
      "train (132/300) loss: 0.009185422211885452 | loss/mean: 0.009185422211885452 | loss/std: 0.0 | lr: 0.0001 | momentum: 0.9\n"
     ]
    },
    {
     "data": {
      "application/vnd.jupyter.widget-view+json": {
       "model_id": "48202e613b204aa980b51788bd606408",
       "version_major": 2,
       "version_minor": 0
      },
      "text/plain": [
       "132/300 * Epoch (valid):   0%|          | 0/1 [00:00<?, ?it/s]"
      ]
     },
     "metadata": {},
     "output_type": "display_data"
    },
    {
     "name": "stdout",
     "output_type": "stream",
     "text": [
      "valid (132/300) exact_match01: 1.0 | exact_match01/std: 0.0 | exact_match02: 1.0 | exact_match02/std: 0.0 | loss: 0.0001582786935614422 | loss/mean: 0.0001582786935614422 | loss/std: 0.0 | lr: 0.0001 | momentum: 0.9\n",
      "* Epoch (132/300) \n"
     ]
    },
    {
     "data": {
      "application/vnd.jupyter.widget-view+json": {
       "model_id": "9354ee7972e0407cb85c07dbd8bda8a5",
       "version_major": 2,
       "version_minor": 0
      },
      "text/plain": [
       "133/300 * Epoch (train):   0%|          | 0/1 [00:00<?, ?it/s]"
      ]
     },
     "metadata": {},
     "output_type": "display_data"
    },
    {
     "name": "stdout",
     "output_type": "stream",
     "text": [
      "train (133/300) loss: 0.026298167183995247 | loss/mean: 0.026298167183995247 | loss/std: 0.0 | lr: 0.0001 | momentum: 0.9\n"
     ]
    },
    {
     "data": {
      "application/vnd.jupyter.widget-view+json": {
       "model_id": "47daa7578dd64b54bf80fbd809c99b9b",
       "version_major": 2,
       "version_minor": 0
      },
      "text/plain": [
       "133/300 * Epoch (valid):   0%|          | 0/1 [00:00<?, ?it/s]"
      ]
     },
     "metadata": {},
     "output_type": "display_data"
    },
    {
     "name": "stdout",
     "output_type": "stream",
     "text": [
      "valid (133/300) exact_match01: 1.0 | exact_match01/std: 0.0 | exact_match02: 1.0 | exact_match02/std: 0.0 | loss: 0.000158447161084041 | loss/mean: 0.000158447161084041 | loss/std: 0.0 | lr: 0.0001 | momentum: 0.9\n",
      "* Epoch (133/300) \n"
     ]
    },
    {
     "data": {
      "application/vnd.jupyter.widget-view+json": {
       "model_id": "d911943efdab40819cb3a53f263a41c3",
       "version_major": 2,
       "version_minor": 0
      },
      "text/plain": [
       "134/300 * Epoch (train):   0%|          | 0/1 [00:00<?, ?it/s]"
      ]
     },
     "metadata": {},
     "output_type": "display_data"
    },
    {
     "name": "stdout",
     "output_type": "stream",
     "text": [
      "train (134/300) loss: 0.07051749527454376 | loss/mean: 0.07051749527454376 | loss/std: 0.0 | lr: 0.0001 | momentum: 0.9\n"
     ]
    },
    {
     "data": {
      "application/vnd.jupyter.widget-view+json": {
       "model_id": "8c2e4d5eeeb34f1faa8a8c02750632da",
       "version_major": 2,
       "version_minor": 0
      },
      "text/plain": [
       "134/300 * Epoch (valid):   0%|          | 0/1 [00:00<?, ?it/s]"
      ]
     },
     "metadata": {},
     "output_type": "display_data"
    },
    {
     "name": "stdout",
     "output_type": "stream",
     "text": [
      "valid (134/300) exact_match01: 1.0 | exact_match01/std: 0.0 | exact_match02: 1.0 | exact_match02/std: 0.0 | loss: 0.00015677482588216662 | loss/mean: 0.00015677482588216662 | loss/std: 0.0 | lr: 0.0001 | momentum: 0.9\n",
      "* Epoch (134/300) \n"
     ]
    },
    {
     "data": {
      "application/vnd.jupyter.widget-view+json": {
       "model_id": "069275167e82479db0d39dfd42b5e11d",
       "version_major": 2,
       "version_minor": 0
      },
      "text/plain": [
       "135/300 * Epoch (train):   0%|          | 0/1 [00:00<?, ?it/s]"
      ]
     },
     "metadata": {},
     "output_type": "display_data"
    },
    {
     "name": "stdout",
     "output_type": "stream",
     "text": [
      "train (135/300) loss: 0.003513728966936469 | loss/mean: 0.003513728966936469 | loss/std: 0.0 | lr: 0.0001 | momentum: 0.9\n"
     ]
    },
    {
     "data": {
      "application/vnd.jupyter.widget-view+json": {
       "model_id": "61bd622a512e4a1b9fde2e1c5d04f3ad",
       "version_major": 2,
       "version_minor": 0
      },
      "text/plain": [
       "135/300 * Epoch (valid):   0%|          | 0/1 [00:00<?, ?it/s]"
      ]
     },
     "metadata": {},
     "output_type": "display_data"
    },
    {
     "name": "stdout",
     "output_type": "stream",
     "text": [
      "valid (135/300) exact_match01: 1.0 | exact_match01/std: 0.0 | exact_match02: 1.0 | exact_match02/std: 0.0 | loss: 0.0001554262125864625 | loss/mean: 0.0001554262125864625 | loss/std: 0.0 | lr: 0.0001 | momentum: 0.9\n",
      "* Epoch (135/300) \n"
     ]
    },
    {
     "data": {
      "application/vnd.jupyter.widget-view+json": {
       "model_id": "c9ed17d8299d4f5d8e01ef301abb0647",
       "version_major": 2,
       "version_minor": 0
      },
      "text/plain": [
       "136/300 * Epoch (train):   0%|          | 0/1 [00:00<?, ?it/s]"
      ]
     },
     "metadata": {},
     "output_type": "display_data"
    },
    {
     "name": "stdout",
     "output_type": "stream",
     "text": [
      "train (136/300) loss: 0.008463045582175255 | loss/mean: 0.008463045582175255 | loss/std: 0.0 | lr: 0.0001 | momentum: 0.9\n"
     ]
    },
    {
     "data": {
      "application/vnd.jupyter.widget-view+json": {
       "model_id": "da1d118befd24dd5bf98c9329850783b",
       "version_major": 2,
       "version_minor": 0
      },
      "text/plain": [
       "136/300 * Epoch (valid):   0%|          | 0/1 [00:00<?, ?it/s]"
      ]
     },
     "metadata": {},
     "output_type": "display_data"
    },
    {
     "name": "stdout",
     "output_type": "stream",
     "text": [
      "valid (136/300) exact_match01: 1.0 | exact_match01/std: 0.0 | exact_match02: 1.0 | exact_match02/std: 0.0 | loss: 0.00015589900431223214 | loss/mean: 0.00015589900431223214 | loss/std: 0.0 | lr: 0.0001 | momentum: 0.9\n",
      "* Epoch (136/300) \n"
     ]
    },
    {
     "data": {
      "application/vnd.jupyter.widget-view+json": {
       "model_id": "933dc5b7a54d48739fe8e922bdcf5c2c",
       "version_major": 2,
       "version_minor": 0
      },
      "text/plain": [
       "137/300 * Epoch (train):   0%|          | 0/1 [00:00<?, ?it/s]"
      ]
     },
     "metadata": {},
     "output_type": "display_data"
    },
    {
     "name": "stdout",
     "output_type": "stream",
     "text": [
      "train (137/300) loss: 0.00316429790109396 | loss/mean: 0.00316429790109396 | loss/std: 0.0 | lr: 0.0001 | momentum: 0.9\n"
     ]
    },
    {
     "data": {
      "application/vnd.jupyter.widget-view+json": {
       "model_id": "28e5147a553b46b69006f5860218f4af",
       "version_major": 2,
       "version_minor": 0
      },
      "text/plain": [
       "137/300 * Epoch (valid):   0%|          | 0/1 [00:00<?, ?it/s]"
      ]
     },
     "metadata": {},
     "output_type": "display_data"
    },
    {
     "name": "stdout",
     "output_type": "stream",
     "text": [
      "valid (137/300) exact_match01: 1.0 | exact_match01/std: 0.0 | exact_match02: 1.0 | exact_match02/std: 0.0 | loss: 0.0001564929261803627 | loss/mean: 0.0001564929261803627 | loss/std: 0.0 | lr: 0.0001 | momentum: 0.9\n",
      "* Epoch (137/300) \n"
     ]
    },
    {
     "data": {
      "application/vnd.jupyter.widget-view+json": {
       "model_id": "9dfa2517e308432bb7cc952c122217ed",
       "version_major": 2,
       "version_minor": 0
      },
      "text/plain": [
       "138/300 * Epoch (train):   0%|          | 0/1 [00:00<?, ?it/s]"
      ]
     },
     "metadata": {},
     "output_type": "display_data"
    },
    {
     "name": "stdout",
     "output_type": "stream",
     "text": [
      "train (138/300) loss: 0.004712707828730345 | loss/mean: 0.004712707828730345 | loss/std: 0.0 | lr: 0.0001 | momentum: 0.9\n"
     ]
    },
    {
     "data": {
      "application/vnd.jupyter.widget-view+json": {
       "model_id": "e8f8e8f6a0014e35949a9be365294f79",
       "version_major": 2,
       "version_minor": 0
      },
      "text/plain": [
       "138/300 * Epoch (valid):   0%|          | 0/1 [00:00<?, ?it/s]"
      ]
     },
     "metadata": {},
     "output_type": "display_data"
    },
    {
     "name": "stdout",
     "output_type": "stream",
     "text": [
      "valid (138/300) exact_match01: 1.0 | exact_match01/std: 0.0 | exact_match02: 1.0 | exact_match02/std: 0.0 | loss: 0.00015728993457742035 | loss/mean: 0.00015728993457742035 | loss/std: 0.0 | lr: 0.0001 | momentum: 0.9\n",
      "* Epoch (138/300) \n"
     ]
    },
    {
     "data": {
      "application/vnd.jupyter.widget-view+json": {
       "model_id": "109c0bc695824f4e8fafa2867f0b332f",
       "version_major": 2,
       "version_minor": 0
      },
      "text/plain": [
       "139/300 * Epoch (train):   0%|          | 0/1 [00:00<?, ?it/s]"
      ]
     },
     "metadata": {},
     "output_type": "display_data"
    },
    {
     "name": "stdout",
     "output_type": "stream",
     "text": [
      "train (139/300) loss: 0.002990612993016839 | loss/mean: 0.002990612993016839 | loss/std: 0.0 | lr: 0.0001 | momentum: 0.9\n"
     ]
    },
    {
     "data": {
      "application/vnd.jupyter.widget-view+json": {
       "model_id": "23e017f02ff246de9bf9f78bd458cb39",
       "version_major": 2,
       "version_minor": 0
      },
      "text/plain": [
       "139/300 * Epoch (valid):   0%|          | 0/1 [00:00<?, ?it/s]"
      ]
     },
     "metadata": {},
     "output_type": "display_data"
    },
    {
     "name": "stdout",
     "output_type": "stream",
     "text": [
      "valid (139/300) exact_match01: 1.0 | exact_match01/std: 0.0 | exact_match02: 1.0 | exact_match02/std: 0.0 | loss: 0.00015830207848921418 | loss/mean: 0.00015830207848921418 | loss/std: 0.0 | lr: 0.0001 | momentum: 0.9\n",
      "* Epoch (139/300) \n"
     ]
    },
    {
     "data": {
      "application/vnd.jupyter.widget-view+json": {
       "model_id": "ef9f0314c4034324a5fdc308f0ac3861",
       "version_major": 2,
       "version_minor": 0
      },
      "text/plain": [
       "140/300 * Epoch (train):   0%|          | 0/1 [00:00<?, ?it/s]"
      ]
     },
     "metadata": {},
     "output_type": "display_data"
    },
    {
     "name": "stdout",
     "output_type": "stream",
     "text": [
      "train (140/300) loss: 0.0031863031908869743 | loss/mean: 0.0031863031908869743 | loss/std: 0.0 | lr: 0.0001 | momentum: 0.9\n"
     ]
    },
    {
     "data": {
      "application/vnd.jupyter.widget-view+json": {
       "model_id": "9b09beb054844e92923f7d3427d840ae",
       "version_major": 2,
       "version_minor": 0
      },
      "text/plain": [
       "140/300 * Epoch (valid):   0%|          | 0/1 [00:00<?, ?it/s]"
      ]
     },
     "metadata": {},
     "output_type": "display_data"
    },
    {
     "name": "stdout",
     "output_type": "stream",
     "text": [
      "valid (140/300) exact_match01: 1.0 | exact_match01/std: 0.0 | exact_match02: 1.0 | exact_match02/std: 0.0 | loss: 0.00015938543947413564 | loss/mean: 0.00015938543947413564 | loss/std: 0.0 | lr: 0.0001 | momentum: 0.9\n",
      "* Epoch (140/300) \n"
     ]
    },
    {
     "data": {
      "application/vnd.jupyter.widget-view+json": {
       "model_id": "44b8e27e570d47ddba1c0127f7292659",
       "version_major": 2,
       "version_minor": 0
      },
      "text/plain": [
       "141/300 * Epoch (train):   0%|          | 0/1 [00:00<?, ?it/s]"
      ]
     },
     "metadata": {},
     "output_type": "display_data"
    },
    {
     "name": "stdout",
     "output_type": "stream",
     "text": [
      "train (141/300) loss: 0.0034816444385796785 | loss/mean: 0.0034816444385796785 | loss/std: 0.0 | lr: 0.0001 | momentum: 0.9\n"
     ]
    },
    {
     "data": {
      "application/vnd.jupyter.widget-view+json": {
       "model_id": "11cedb1b64c54f7483a7f2b00973c89a",
       "version_major": 2,
       "version_minor": 0
      },
      "text/plain": [
       "141/300 * Epoch (valid):   0%|          | 0/1 [00:00<?, ?it/s]"
      ]
     },
     "metadata": {},
     "output_type": "display_data"
    },
    {
     "name": "stdout",
     "output_type": "stream",
     "text": [
      "valid (141/300) exact_match01: 1.0 | exact_match01/std: 0.0 | exact_match02: 1.0 | exact_match02/std: 0.0 | loss: 0.00016041599155869335 | loss/mean: 0.00016041599155869335 | loss/std: 0.0 | lr: 0.0001 | momentum: 0.9\n",
      "* Epoch (141/300) \n"
     ]
    },
    {
     "data": {
      "application/vnd.jupyter.widget-view+json": {
       "model_id": "3f2b640edc404a9786d34b94818f8aaa",
       "version_major": 2,
       "version_minor": 0
      },
      "text/plain": [
       "142/300 * Epoch (train):   0%|          | 0/1 [00:00<?, ?it/s]"
      ]
     },
     "metadata": {},
     "output_type": "display_data"
    },
    {
     "name": "stdout",
     "output_type": "stream",
     "text": [
      "train (142/300) loss: 0.0018037420231848955 | loss/mean: 0.0018037420231848955 | loss/std: 0.0 | lr: 0.0001 | momentum: 0.9\n"
     ]
    },
    {
     "data": {
      "application/vnd.jupyter.widget-view+json": {
       "model_id": "cc5277e9a4e2452db14d5dfb293e2c6d",
       "version_major": 2,
       "version_minor": 0
      },
      "text/plain": [
       "142/300 * Epoch (valid):   0%|          | 0/1 [00:00<?, ?it/s]"
      ]
     },
     "metadata": {},
     "output_type": "display_data"
    },
    {
     "name": "stdout",
     "output_type": "stream",
     "text": [
      "valid (142/300) exact_match01: 1.0 | exact_match01/std: 0.0 | exact_match02: 1.0 | exact_match02/std: 0.0 | loss: 0.0001613404747331515 | loss/mean: 0.0001613404747331515 | loss/std: 0.0 | lr: 0.0001 | momentum: 0.9\n",
      "* Epoch (142/300) \n"
     ]
    },
    {
     "data": {
      "application/vnd.jupyter.widget-view+json": {
       "model_id": "53f8cdbcd7c347a98caa6d9f79f190e4",
       "version_major": 2,
       "version_minor": 0
      },
      "text/plain": [
       "143/300 * Epoch (train):   0%|          | 0/1 [00:00<?, ?it/s]"
      ]
     },
     "metadata": {},
     "output_type": "display_data"
    },
    {
     "name": "stdout",
     "output_type": "stream",
     "text": [
      "train (143/300) loss: 0.002633832162246108 | loss/mean: 0.002633832162246108 | loss/std: 0.0 | lr: 0.0001 | momentum: 0.9\n"
     ]
    },
    {
     "data": {
      "application/vnd.jupyter.widget-view+json": {
       "model_id": "1c592890e73e42708c809acae39a63dc",
       "version_major": 2,
       "version_minor": 0
      },
      "text/plain": [
       "143/300 * Epoch (valid):   0%|          | 0/1 [00:00<?, ?it/s]"
      ]
     },
     "metadata": {},
     "output_type": "display_data"
    },
    {
     "name": "stdout",
     "output_type": "stream",
     "text": [
      "valid (143/300) exact_match01: 1.0 | exact_match01/std: 0.0 | exact_match02: 1.0 | exact_match02/std: 0.0 | loss: 0.0001620742114027962 | loss/mean: 0.0001620742114027962 | loss/std: 0.0 | lr: 0.0001 | momentum: 0.9\n",
      "* Epoch (143/300) \n"
     ]
    },
    {
     "data": {
      "application/vnd.jupyter.widget-view+json": {
       "model_id": "3c0f00edee4343cfb6cb07498c4b9e3a",
       "version_major": 2,
       "version_minor": 0
      },
      "text/plain": [
       "144/300 * Epoch (train):   0%|          | 0/1 [00:00<?, ?it/s]"
      ]
     },
     "metadata": {},
     "output_type": "display_data"
    },
    {
     "name": "stdout",
     "output_type": "stream",
     "text": [
      "train (144/300) loss: 0.003934528678655624 | loss/mean: 0.003934528678655624 | loss/std: 0.0 | lr: 0.0001 | momentum: 0.9\n"
     ]
    },
    {
     "data": {
      "application/vnd.jupyter.widget-view+json": {
       "model_id": "b987bec70da24ccc8b501d25795b8a97",
       "version_major": 2,
       "version_minor": 0
      },
      "text/plain": [
       "144/300 * Epoch (valid):   0%|          | 0/1 [00:00<?, ?it/s]"
      ]
     },
     "metadata": {},
     "output_type": "display_data"
    },
    {
     "name": "stdout",
     "output_type": "stream",
     "text": [
      "valid (144/300) exact_match01: 1.0 | exact_match01/std: 0.0 | exact_match02: 1.0 | exact_match02/std: 0.0 | loss: 0.0001625123550184071 | loss/mean: 0.0001625123550184071 | loss/std: 0.0 | lr: 0.0001 | momentum: 0.9\n",
      "* Epoch (144/300) \n"
     ]
    },
    {
     "data": {
      "application/vnd.jupyter.widget-view+json": {
       "model_id": "428219c6bcae4c0f897dd8533c743c80",
       "version_major": 2,
       "version_minor": 0
      },
      "text/plain": [
       "145/300 * Epoch (train):   0%|          | 0/1 [00:00<?, ?it/s]"
      ]
     },
     "metadata": {},
     "output_type": "display_data"
    },
    {
     "name": "stdout",
     "output_type": "stream",
     "text": [
      "train (145/300) loss: 0.002860402222722769 | loss/mean: 0.002860402222722769 | loss/std: 0.0 | lr: 0.0001 | momentum: 0.9\n"
     ]
    },
    {
     "data": {
      "application/vnd.jupyter.widget-view+json": {
       "model_id": "f69dfd24011e430baf1a7ef5b8644943",
       "version_major": 2,
       "version_minor": 0
      },
      "text/plain": [
       "145/300 * Epoch (valid):   0%|          | 0/1 [00:00<?, ?it/s]"
      ]
     },
     "metadata": {},
     "output_type": "display_data"
    },
    {
     "name": "stdout",
     "output_type": "stream",
     "text": [
      "valid (145/300) exact_match01: 1.0 | exact_match01/std: 0.0 | exact_match02: 1.0 | exact_match02/std: 0.0 | loss: 0.0001627753663342446 | loss/mean: 0.0001627753663342446 | loss/std: 0.0 | lr: 0.0001 | momentum: 0.9\n",
      "* Epoch (145/300) \n"
     ]
    },
    {
     "data": {
      "application/vnd.jupyter.widget-view+json": {
       "model_id": "70ed34177e2b43e9b3220b4f20cad20d",
       "version_major": 2,
       "version_minor": 0
      },
      "text/plain": [
       "146/300 * Epoch (train):   0%|          | 0/1 [00:00<?, ?it/s]"
      ]
     },
     "metadata": {},
     "output_type": "display_data"
    },
    {
     "name": "stdout",
     "output_type": "stream",
     "text": [
      "train (146/300) loss: 0.014984969049692154 | loss/mean: 0.014984969049692154 | loss/std: 0.0 | lr: 0.0001 | momentum: 0.9\n"
     ]
    },
    {
     "data": {
      "application/vnd.jupyter.widget-view+json": {
       "model_id": "73a5de26fb0a465da86fabf9eccb95db",
       "version_major": 2,
       "version_minor": 0
      },
      "text/plain": [
       "146/300 * Epoch (valid):   0%|          | 0/1 [00:00<?, ?it/s]"
      ]
     },
     "metadata": {},
     "output_type": "display_data"
    },
    {
     "name": "stdout",
     "output_type": "stream",
     "text": [
      "valid (146/300) exact_match01: 1.0 | exact_match01/std: 0.0 | exact_match02: 1.0 | exact_match02/std: 0.0 | loss: 0.00016318858251906931 | loss/mean: 0.00016318858251906931 | loss/std: 0.0 | lr: 0.0001 | momentum: 0.9\n",
      "* Epoch (146/300) \n"
     ]
    },
    {
     "data": {
      "application/vnd.jupyter.widget-view+json": {
       "model_id": "b7e450cc84ee46e4899d1a9370790166",
       "version_major": 2,
       "version_minor": 0
      },
      "text/plain": [
       "147/300 * Epoch (train):   0%|          | 0/1 [00:00<?, ?it/s]"
      ]
     },
     "metadata": {},
     "output_type": "display_data"
    },
    {
     "name": "stdout",
     "output_type": "stream",
     "text": [
      "train (147/300) loss: 0.006418698467314243 | loss/mean: 0.006418698467314243 | loss/std: 0.0 | lr: 0.0001 | momentum: 0.9\n"
     ]
    },
    {
     "data": {
      "application/vnd.jupyter.widget-view+json": {
       "model_id": "00e5109b61ef4514a8ba4a700df13fe1",
       "version_major": 2,
       "version_minor": 0
      },
      "text/plain": [
       "147/300 * Epoch (valid):   0%|          | 0/1 [00:00<?, ?it/s]"
      ]
     },
     "metadata": {},
     "output_type": "display_data"
    },
    {
     "name": "stdout",
     "output_type": "stream",
     "text": [
      "valid (147/300) exact_match01: 1.0 | exact_match01/std: 0.0 | exact_match02: 1.0 | exact_match02/std: 0.0 | loss: 0.0001630656624911353 | loss/mean: 0.0001630656624911353 | loss/std: 0.0 | lr: 0.0001 | momentum: 0.9\n",
      "* Epoch (147/300) \n"
     ]
    },
    {
     "data": {
      "application/vnd.jupyter.widget-view+json": {
       "model_id": "b773795cdb604d82b680d7cd17c277d0",
       "version_major": 2,
       "version_minor": 0
      },
      "text/plain": [
       "148/300 * Epoch (train):   0%|          | 0/1 [00:00<?, ?it/s]"
      ]
     },
     "metadata": {},
     "output_type": "display_data"
    },
    {
     "name": "stdout",
     "output_type": "stream",
     "text": [
      "train (148/300) loss: 0.008588184602558613 | loss/mean: 0.008588184602558613 | loss/std: 0.0 | lr: 0.0001 | momentum: 0.9\n"
     ]
    },
    {
     "data": {
      "application/vnd.jupyter.widget-view+json": {
       "model_id": "21c341a5b30e4bc19b37f590b199bad9",
       "version_major": 2,
       "version_minor": 0
      },
      "text/plain": [
       "148/300 * Epoch (valid):   0%|          | 0/1 [00:00<?, ?it/s]"
      ]
     },
     "metadata": {},
     "output_type": "display_data"
    },
    {
     "name": "stdout",
     "output_type": "stream",
     "text": [
      "valid (148/300) exact_match01: 1.0 | exact_match01/std: 0.0 | exact_match02: 1.0 | exact_match02/std: 0.0 | loss: 0.0001626727171242237 | loss/mean: 0.0001626727171242237 | loss/std: 0.0 | lr: 0.0001 | momentum: 0.9\n",
      "* Epoch (148/300) \n"
     ]
    },
    {
     "data": {
      "application/vnd.jupyter.widget-view+json": {
       "model_id": "1e5786a4c1f646e193cdaa89f8f104b8",
       "version_major": 2,
       "version_minor": 0
      },
      "text/plain": [
       "149/300 * Epoch (train):   0%|          | 0/1 [00:00<?, ?it/s]"
      ]
     },
     "metadata": {},
     "output_type": "display_data"
    },
    {
     "name": "stdout",
     "output_type": "stream",
     "text": [
      "train (149/300) loss: 0.0019576745107769966 | loss/mean: 0.0019576745107769966 | loss/std: 0.0 | lr: 0.0001 | momentum: 0.9\n"
     ]
    },
    {
     "data": {
      "application/vnd.jupyter.widget-view+json": {
       "model_id": "93d877b0c4fc4241958cff8ca6971f25",
       "version_major": 2,
       "version_minor": 0
      },
      "text/plain": [
       "149/300 * Epoch (valid):   0%|          | 0/1 [00:00<?, ?it/s]"
      ]
     },
     "metadata": {},
     "output_type": "display_data"
    },
    {
     "name": "stdout",
     "output_type": "stream",
     "text": [
      "valid (149/300) exact_match01: 1.0 | exact_match01/std: 0.0 | exact_match02: 1.0 | exact_match02/std: 0.0 | loss: 0.00016181310638785362 | loss/mean: 0.00016181310638785362 | loss/std: 0.0 | lr: 0.0001 | momentum: 0.9\n",
      "* Epoch (149/300) \n"
     ]
    },
    {
     "data": {
      "application/vnd.jupyter.widget-view+json": {
       "model_id": "ca404279dd6f4af484cb2097e3cf8bd5",
       "version_major": 2,
       "version_minor": 0
      },
      "text/plain": [
       "150/300 * Epoch (train):   0%|          | 0/1 [00:00<?, ?it/s]"
      ]
     },
     "metadata": {},
     "output_type": "display_data"
    },
    {
     "name": "stdout",
     "output_type": "stream",
     "text": [
      "train (150/300) loss: 0.0031417019199579954 | loss/mean: 0.0031417019199579954 | loss/std: 0.0 | lr: 0.0001 | momentum: 0.9\n"
     ]
    },
    {
     "data": {
      "application/vnd.jupyter.widget-view+json": {
       "model_id": "8d064456fc7a480bb2e02ccaf5c02f7c",
       "version_major": 2,
       "version_minor": 0
      },
      "text/plain": [
       "150/300 * Epoch (valid):   0%|          | 0/1 [00:00<?, ?it/s]"
      ]
     },
     "metadata": {},
     "output_type": "display_data"
    },
    {
     "name": "stdout",
     "output_type": "stream",
     "text": [
      "valid (150/300) exact_match01: 1.0 | exact_match01/std: 0.0 | exact_match02: 1.0 | exact_match02/std: 0.0 | loss: 0.00016088789561763406 | loss/mean: 0.00016088789561763406 | loss/std: 0.0 | lr: 0.0001 | momentum: 0.9\n",
      "* Epoch (150/300) \n"
     ]
    },
    {
     "data": {
      "application/vnd.jupyter.widget-view+json": {
       "model_id": "1edbc8256e634fe79ecb260c112bb31b",
       "version_major": 2,
       "version_minor": 0
      },
      "text/plain": [
       "151/300 * Epoch (train):   0%|          | 0/1 [00:00<?, ?it/s]"
      ]
     },
     "metadata": {},
     "output_type": "display_data"
    },
    {
     "name": "stdout",
     "output_type": "stream",
     "text": [
      "train (151/300) loss: 0.007082171272486448 | loss/mean: 0.007082171272486448 | loss/std: 0.0 | lr: 0.0001 | momentum: 0.9\n"
     ]
    },
    {
     "data": {
      "application/vnd.jupyter.widget-view+json": {
       "model_id": "0f2793f7a3e34ffb890dab09b482d2ab",
       "version_major": 2,
       "version_minor": 0
      },
      "text/plain": [
       "151/300 * Epoch (valid):   0%|          | 0/1 [00:00<?, ?it/s]"
      ]
     },
     "metadata": {},
     "output_type": "display_data"
    },
    {
     "name": "stdout",
     "output_type": "stream",
     "text": [
      "valid (151/300) exact_match01: 1.0 | exact_match01/std: 0.0 | exact_match02: 1.0 | exact_match02/std: 0.0 | loss: 0.00015968791558407247 | loss/mean: 0.00015968791558407247 | loss/std: 0.0 | lr: 0.0001 | momentum: 0.9\n",
      "* Epoch (151/300) \n"
     ]
    },
    {
     "data": {
      "application/vnd.jupyter.widget-view+json": {
       "model_id": "c198aaffd6f34bfe8e86096c010b9236",
       "version_major": 2,
       "version_minor": 0
      },
      "text/plain": [
       "152/300 * Epoch (train):   0%|          | 0/1 [00:00<?, ?it/s]"
      ]
     },
     "metadata": {},
     "output_type": "display_data"
    },
    {
     "name": "stdout",
     "output_type": "stream",
     "text": [
      "train (152/300) loss: 0.004802511539310217 | loss/mean: 0.004802511539310217 | loss/std: 0.0 | lr: 0.0001 | momentum: 0.9\n"
     ]
    },
    {
     "data": {
      "application/vnd.jupyter.widget-view+json": {
       "model_id": "7a5a9af068074641865af3f7ba4ebdcb",
       "version_major": 2,
       "version_minor": 0
      },
      "text/plain": [
       "152/300 * Epoch (valid):   0%|          | 0/1 [00:00<?, ?it/s]"
      ]
     },
     "metadata": {},
     "output_type": "display_data"
    },
    {
     "name": "stdout",
     "output_type": "stream",
     "text": [
      "valid (152/300) exact_match01: 1.0 | exact_match01/std: 0.0 | exact_match02: 1.0 | exact_match02/std: 0.0 | loss: 0.00015822243585716933 | loss/mean: 0.00015822243585716933 | loss/std: 0.0 | lr: 0.0001 | momentum: 0.9\n",
      "* Epoch (152/300) \n"
     ]
    },
    {
     "data": {
      "application/vnd.jupyter.widget-view+json": {
       "model_id": "71f006704f1d4bb080ad5ee94df419f3",
       "version_major": 2,
       "version_minor": 0
      },
      "text/plain": [
       "153/300 * Epoch (train):   0%|          | 0/1 [00:00<?, ?it/s]"
      ]
     },
     "metadata": {},
     "output_type": "display_data"
    },
    {
     "name": "stdout",
     "output_type": "stream",
     "text": [
      "train (153/300) loss: 0.002970883622765541 | loss/mean: 0.002970883622765541 | loss/std: 0.0 | lr: 0.0001 | momentum: 0.9\n"
     ]
    },
    {
     "data": {
      "application/vnd.jupyter.widget-view+json": {
       "model_id": "0b1877f28da748ef874ae8853ed96537",
       "version_major": 2,
       "version_minor": 0
      },
      "text/plain": [
       "153/300 * Epoch (valid):   0%|          | 0/1 [00:00<?, ?it/s]"
      ]
     },
     "metadata": {},
     "output_type": "display_data"
    },
    {
     "name": "stdout",
     "output_type": "stream",
     "text": [
      "valid (153/300) exact_match01: 1.0 | exact_match01/std: 0.0 | exact_match02: 1.0 | exact_match02/std: 0.0 | loss: 0.00015653780428692698 | loss/mean: 0.00015653780428692698 | loss/std: 0.0 | lr: 0.0001 | momentum: 0.9\n",
      "* Epoch (153/300) \n"
     ]
    },
    {
     "data": {
      "application/vnd.jupyter.widget-view+json": {
       "model_id": "625e9aa479ce48d6b4f203eb0bdb5114",
       "version_major": 2,
       "version_minor": 0
      },
      "text/plain": [
       "154/300 * Epoch (train):   0%|          | 0/1 [00:00<?, ?it/s]"
      ]
     },
     "metadata": {},
     "output_type": "display_data"
    },
    {
     "name": "stdout",
     "output_type": "stream",
     "text": [
      "train (154/300) loss: 0.061657026410102844 | loss/mean: 0.061657026410102844 | loss/std: 0.0 | lr: 0.0001 | momentum: 0.9\n"
     ]
    },
    {
     "data": {
      "application/vnd.jupyter.widget-view+json": {
       "model_id": "e25f1f98ec9740c2b83b8ed9823a6e0f",
       "version_major": 2,
       "version_minor": 0
      },
      "text/plain": [
       "154/300 * Epoch (valid):   0%|          | 0/1 [00:00<?, ?it/s]"
      ]
     },
     "metadata": {},
     "output_type": "display_data"
    },
    {
     "name": "stdout",
     "output_type": "stream",
     "text": [
      "valid (154/300) exact_match01: 1.0 | exact_match01/std: 0.0 | exact_match02: 1.0 | exact_match02/std: 0.0 | loss: 0.0001529024011688307 | loss/mean: 0.0001529024011688307 | loss/std: 0.0 | lr: 0.0001 | momentum: 0.9\n",
      "* Epoch (154/300) \n"
     ]
    },
    {
     "data": {
      "application/vnd.jupyter.widget-view+json": {
       "model_id": "5ccdd5252ebf43b69f9e3a9991b8682f",
       "version_major": 2,
       "version_minor": 0
      },
      "text/plain": [
       "155/300 * Epoch (train):   0%|          | 0/1 [00:00<?, ?it/s]"
      ]
     },
     "metadata": {},
     "output_type": "display_data"
    },
    {
     "name": "stdout",
     "output_type": "stream",
     "text": [
      "train (155/300) loss: 0.002218896523118019 | loss/mean: 0.002218896523118019 | loss/std: 0.0 | lr: 0.0001 | momentum: 0.9\n"
     ]
    },
    {
     "data": {
      "application/vnd.jupyter.widget-view+json": {
       "model_id": "a9a015ef53e5484c80584d76b719169f",
       "version_major": 2,
       "version_minor": 0
      },
      "text/plain": [
       "155/300 * Epoch (valid):   0%|          | 0/1 [00:00<?, ?it/s]"
      ]
     },
     "metadata": {},
     "output_type": "display_data"
    },
    {
     "name": "stdout",
     "output_type": "stream",
     "text": [
      "valid (155/300) exact_match01: 1.0 | exact_match01/std: 0.0 | exact_match02: 1.0 | exact_match02/std: 0.0 | loss: 0.00015075079863891006 | loss/mean: 0.00015075079863891006 | loss/std: 0.0 | lr: 0.0001 | momentum: 0.9\n",
      "* Epoch (155/300) \n"
     ]
    },
    {
     "data": {
      "application/vnd.jupyter.widget-view+json": {
       "model_id": "fd4cd28189fe449685a5afbc1a043c52",
       "version_major": 2,
       "version_minor": 0
      },
      "text/plain": [
       "156/300 * Epoch (train):   0%|          | 0/1 [00:00<?, ?it/s]"
      ]
     },
     "metadata": {},
     "output_type": "display_data"
    },
    {
     "name": "stdout",
     "output_type": "stream",
     "text": [
      "train (156/300) loss: 0.0046171038411557674 | loss/mean: 0.0046171038411557674 | loss/std: 0.0 | lr: 0.0001 | momentum: 0.9\n"
     ]
    },
    {
     "data": {
      "application/vnd.jupyter.widget-view+json": {
       "model_id": "5ac34a3561304e0ca398b1cb890065f9",
       "version_major": 2,
       "version_minor": 0
      },
      "text/plain": [
       "156/300 * Epoch (valid):   0%|          | 0/1 [00:00<?, ?it/s]"
      ]
     },
     "metadata": {},
     "output_type": "display_data"
    },
    {
     "name": "stdout",
     "output_type": "stream",
     "text": [
      "valid (156/300) exact_match01: 1.0 | exact_match01/std: 0.0 | exact_match02: 1.0 | exact_match02/std: 0.0 | loss: 0.00014909497986081988 | loss/mean: 0.00014909497986081988 | loss/std: 0.0 | lr: 0.0001 | momentum: 0.9\n",
      "* Epoch (156/300) \n"
     ]
    },
    {
     "data": {
      "application/vnd.jupyter.widget-view+json": {
       "model_id": "2facc995d72c4c39b032512af5453bed",
       "version_major": 2,
       "version_minor": 0
      },
      "text/plain": [
       "157/300 * Epoch (train):   0%|          | 0/1 [00:00<?, ?it/s]"
      ]
     },
     "metadata": {},
     "output_type": "display_data"
    },
    {
     "name": "stdout",
     "output_type": "stream",
     "text": [
      "train (157/300) loss: 0.004903963301330805 | loss/mean: 0.004903963301330805 | loss/std: 0.0 | lr: 0.0001 | momentum: 0.9\n"
     ]
    },
    {
     "data": {
      "application/vnd.jupyter.widget-view+json": {
       "model_id": "6996f8c28de6486aaff4a283d4f94105",
       "version_major": 2,
       "version_minor": 0
      },
      "text/plain": [
       "157/300 * Epoch (valid):   0%|          | 0/1 [00:00<?, ?it/s]"
      ]
     },
     "metadata": {},
     "output_type": "display_data"
    },
    {
     "name": "stdout",
     "output_type": "stream",
     "text": [
      "valid (157/300) exact_match01: 1.0 | exact_match01/std: 0.0 | exact_match02: 1.0 | exact_match02/std: 0.0 | loss: 0.00014826393453404307 | loss/mean: 0.00014826393453404307 | loss/std: 0.0 | lr: 0.0001 | momentum: 0.9\n",
      "* Epoch (157/300) \n"
     ]
    },
    {
     "data": {
      "application/vnd.jupyter.widget-view+json": {
       "model_id": "c4a02eab0a014915a7afabbe3cf255b8",
       "version_major": 2,
       "version_minor": 0
      },
      "text/plain": [
       "158/300 * Epoch (train):   0%|          | 0/1 [00:00<?, ?it/s]"
      ]
     },
     "metadata": {},
     "output_type": "display_data"
    },
    {
     "name": "stdout",
     "output_type": "stream",
     "text": [
      "train (158/300) loss: 0.00204942817799747 | loss/mean: 0.00204942817799747 | loss/std: 0.0 | lr: 0.0001 | momentum: 0.9\n"
     ]
    },
    {
     "data": {
      "application/vnd.jupyter.widget-view+json": {
       "model_id": "c7c1b35c82e94cd093e0116dc90e4132",
       "version_major": 2,
       "version_minor": 0
      },
      "text/plain": [
       "158/300 * Epoch (valid):   0%|          | 0/1 [00:00<?, ?it/s]"
      ]
     },
     "metadata": {},
     "output_type": "display_data"
    },
    {
     "name": "stdout",
     "output_type": "stream",
     "text": [
      "valid (158/300) exact_match01: 1.0 | exact_match01/std: 0.0 | exact_match02: 1.0 | exact_match02/std: 0.0 | loss: 0.00014744451618753374 | loss/mean: 0.00014744451618753374 | loss/std: 0.0 | lr: 0.0001 | momentum: 0.9\n",
      "* Epoch (158/300) \n"
     ]
    },
    {
     "data": {
      "application/vnd.jupyter.widget-view+json": {
       "model_id": "e5d3b74d90f949f4b7a7f26e3cc1d79d",
       "version_major": 2,
       "version_minor": 0
      },
      "text/plain": [
       "159/300 * Epoch (train):   0%|          | 0/1 [00:00<?, ?it/s]"
      ]
     },
     "metadata": {},
     "output_type": "display_data"
    },
    {
     "name": "stdout",
     "output_type": "stream",
     "text": [
      "train (159/300) loss: 0.0016419516177847981 | loss/mean: 0.0016419516177847981 | loss/std: 0.0 | lr: 0.0001 | momentum: 0.9\n"
     ]
    },
    {
     "data": {
      "application/vnd.jupyter.widget-view+json": {
       "model_id": "0b56ee57807a419d8f02837b5491f22d",
       "version_major": 2,
       "version_minor": 0
      },
      "text/plain": [
       "159/300 * Epoch (valid):   0%|          | 0/1 [00:00<?, ?it/s]"
      ]
     },
     "metadata": {},
     "output_type": "display_data"
    },
    {
     "name": "stdout",
     "output_type": "stream",
     "text": [
      "valid (159/300) exact_match01: 1.0 | exact_match01/std: 0.0 | exact_match02: 1.0 | exact_match02/std: 0.0 | loss: 0.0001468832924729213 | loss/mean: 0.0001468832924729213 | loss/std: 0.0 | lr: 0.0001 | momentum: 0.9\n",
      "* Epoch (159/300) \n"
     ]
    },
    {
     "data": {
      "application/vnd.jupyter.widget-view+json": {
       "model_id": "ea4df49addce40e8a2e5b6b92214dab0",
       "version_major": 2,
       "version_minor": 0
      },
      "text/plain": [
       "160/300 * Epoch (train):   0%|          | 0/1 [00:00<?, ?it/s]"
      ]
     },
     "metadata": {},
     "output_type": "display_data"
    },
    {
     "name": "stdout",
     "output_type": "stream",
     "text": [
      "train (160/300) loss: 0.014736468903720379 | loss/mean: 0.014736468903720379 | loss/std: 0.0 | lr: 0.0001 | momentum: 0.9\n"
     ]
    },
    {
     "data": {
      "application/vnd.jupyter.widget-view+json": {
       "model_id": "5a7880d25449491e96a6e2b1c73e7ee9",
       "version_major": 2,
       "version_minor": 0
      },
      "text/plain": [
       "160/300 * Epoch (valid):   0%|          | 0/1 [00:00<?, ?it/s]"
      ]
     },
     "metadata": {},
     "output_type": "display_data"
    },
    {
     "name": "stdout",
     "output_type": "stream",
     "text": [
      "valid (160/300) exact_match01: 1.0 | exact_match01/std: 0.0 | exact_match02: 1.0 | exact_match02/std: 0.0 | loss: 0.00014658033614978194 | loss/mean: 0.00014658033614978194 | loss/std: 0.0 | lr: 0.0001 | momentum: 0.9\n",
      "* Epoch (160/300) \n"
     ]
    },
    {
     "data": {
      "application/vnd.jupyter.widget-view+json": {
       "model_id": "ecb9248e26d84d638d9633c3ff0b10b0",
       "version_major": 2,
       "version_minor": 0
      },
      "text/plain": [
       "161/300 * Epoch (train):   0%|          | 0/1 [00:00<?, ?it/s]"
      ]
     },
     "metadata": {},
     "output_type": "display_data"
    },
    {
     "name": "stdout",
     "output_type": "stream",
     "text": [
      "train (161/300) loss: 0.0040144287049770355 | loss/mean: 0.0040144287049770355 | loss/std: 0.0 | lr: 0.0001 | momentum: 0.9\n"
     ]
    },
    {
     "data": {
      "application/vnd.jupyter.widget-view+json": {
       "model_id": "93c64d5417b042829fee11b010fa1cc0",
       "version_major": 2,
       "version_minor": 0
      },
      "text/plain": [
       "161/300 * Epoch (valid):   0%|          | 0/1 [00:00<?, ?it/s]"
      ]
     },
     "metadata": {},
     "output_type": "display_data"
    },
    {
     "name": "stdout",
     "output_type": "stream",
     "text": [
      "valid (161/300) exact_match01: 1.0 | exact_match01/std: 0.0 | exact_match02: 1.0 | exact_match02/std: 0.0 | loss: 0.00014631080557592213 | loss/mean: 0.00014631080557592213 | loss/std: 0.0 | lr: 0.0001 | momentum: 0.9\n",
      "* Epoch (161/300) \n"
     ]
    },
    {
     "data": {
      "application/vnd.jupyter.widget-view+json": {
       "model_id": "db0514e855a14d0891dc9e866a89b5a6",
       "version_major": 2,
       "version_minor": 0
      },
      "text/plain": [
       "162/300 * Epoch (train):   0%|          | 0/1 [00:00<?, ?it/s]"
      ]
     },
     "metadata": {},
     "output_type": "display_data"
    },
    {
     "name": "stdout",
     "output_type": "stream",
     "text": [
      "train (162/300) loss: 0.005143329035490751 | loss/mean: 0.005143329035490751 | loss/std: 0.0 | lr: 0.0001 | momentum: 0.9\n"
     ]
    },
    {
     "data": {
      "application/vnd.jupyter.widget-view+json": {
       "model_id": "bde361cd70304074a0107f39f51aed72",
       "version_major": 2,
       "version_minor": 0
      },
      "text/plain": [
       "162/300 * Epoch (valid):   0%|          | 0/1 [00:00<?, ?it/s]"
      ]
     },
     "metadata": {},
     "output_type": "display_data"
    },
    {
     "name": "stdout",
     "output_type": "stream",
     "text": [
      "valid (162/300) exact_match01: 1.0 | exact_match01/std: 0.0 | exact_match02: 1.0 | exact_match02/std: 0.0 | loss: 0.00014501664554700255 | loss/mean: 0.00014501664554700255 | loss/std: 0.0 | lr: 0.0001 | momentum: 0.9\n",
      "* Epoch (162/300) \n"
     ]
    },
    {
     "data": {
      "application/vnd.jupyter.widget-view+json": {
       "model_id": "17ff7a3a093b49638fd4f65db25230a0",
       "version_major": 2,
       "version_minor": 0
      },
      "text/plain": [
       "163/300 * Epoch (train):   0%|          | 0/1 [00:00<?, ?it/s]"
      ]
     },
     "metadata": {},
     "output_type": "display_data"
    },
    {
     "name": "stdout",
     "output_type": "stream",
     "text": [
      "train (163/300) loss: 0.012106120586395264 | loss/mean: 0.012106120586395264 | loss/std: 0.0 | lr: 0.0001 | momentum: 0.9\n"
     ]
    },
    {
     "data": {
      "application/vnd.jupyter.widget-view+json": {
       "model_id": "2d7e8706289f43c3b048b5353239d370",
       "version_major": 2,
       "version_minor": 0
      },
      "text/plain": [
       "163/300 * Epoch (valid):   0%|          | 0/1 [00:00<?, ?it/s]"
      ]
     },
     "metadata": {},
     "output_type": "display_data"
    },
    {
     "name": "stdout",
     "output_type": "stream",
     "text": [
      "valid (163/300) exact_match01: 1.0 | exact_match01/std: 0.0 | exact_match02: 1.0 | exact_match02/std: 0.0 | loss: 0.0001437103346688673 | loss/mean: 0.0001437103346688673 | loss/std: 0.0 | lr: 0.0001 | momentum: 0.9\n",
      "* Epoch (163/300) \n"
     ]
    },
    {
     "data": {
      "application/vnd.jupyter.widget-view+json": {
       "model_id": "172a3ab428a54571aa72f7c472f07d25",
       "version_major": 2,
       "version_minor": 0
      },
      "text/plain": [
       "164/300 * Epoch (train):   0%|          | 0/1 [00:00<?, ?it/s]"
      ]
     },
     "metadata": {},
     "output_type": "display_data"
    },
    {
     "name": "stdout",
     "output_type": "stream",
     "text": [
      "train (164/300) loss: 0.003471833188086748 | loss/mean: 0.003471833188086748 | loss/std: 0.0 | lr: 0.0001 | momentum: 0.9\n"
     ]
    },
    {
     "data": {
      "application/vnd.jupyter.widget-view+json": {
       "model_id": "06a0220c15cb465eb9f7b8146480b6ff",
       "version_major": 2,
       "version_minor": 0
      },
      "text/plain": [
       "164/300 * Epoch (valid):   0%|          | 0/1 [00:00<?, ?it/s]"
      ]
     },
     "metadata": {},
     "output_type": "display_data"
    },
    {
     "name": "stdout",
     "output_type": "stream",
     "text": [
      "valid (164/300) exact_match01: 1.0 | exact_match01/std: 0.0 | exact_match02: 1.0 | exact_match02/std: 0.0 | loss: 0.00014273400302045047 | loss/mean: 0.00014273400302045047 | loss/std: 0.0 | lr: 0.0001 | momentum: 0.9\n",
      "* Epoch (164/300) \n"
     ]
    },
    {
     "data": {
      "application/vnd.jupyter.widget-view+json": {
       "model_id": "76f19720dce34589babf6dd621939094",
       "version_major": 2,
       "version_minor": 0
      },
      "text/plain": [
       "165/300 * Epoch (train):   0%|          | 0/1 [00:00<?, ?it/s]"
      ]
     },
     "metadata": {},
     "output_type": "display_data"
    },
    {
     "name": "stdout",
     "output_type": "stream",
     "text": [
      "train (165/300) loss: 0.005279975943267345 | loss/mean: 0.005279975943267345 | loss/std: 0.0 | lr: 0.0001 | momentum: 0.9\n"
     ]
    },
    {
     "data": {
      "application/vnd.jupyter.widget-view+json": {
       "model_id": "948ce644d5e940c1af40ca7e75bdcfce",
       "version_major": 2,
       "version_minor": 0
      },
      "text/plain": [
       "165/300 * Epoch (valid):   0%|          | 0/1 [00:00<?, ?it/s]"
      ]
     },
     "metadata": {},
     "output_type": "display_data"
    },
    {
     "name": "stdout",
     "output_type": "stream",
     "text": [
      "valid (165/300) exact_match01: 1.0 | exact_match01/std: 0.0 | exact_match02: 1.0 | exact_match02/std: 0.0 | loss: 0.0001417803723597899 | loss/mean: 0.0001417803723597899 | loss/std: 0.0 | lr: 0.0001 | momentum: 0.9\n",
      "* Epoch (165/300) \n"
     ]
    },
    {
     "data": {
      "application/vnd.jupyter.widget-view+json": {
       "model_id": "03202a9fc20a4cbf9bb375288d4fe033",
       "version_major": 2,
       "version_minor": 0
      },
      "text/plain": [
       "166/300 * Epoch (train):   0%|          | 0/1 [00:00<?, ?it/s]"
      ]
     },
     "metadata": {},
     "output_type": "display_data"
    },
    {
     "name": "stdout",
     "output_type": "stream",
     "text": [
      "train (166/300) loss: 0.0047793034464120865 | loss/mean: 0.0047793034464120865 | loss/std: 0.0 | lr: 0.0001 | momentum: 0.9\n"
     ]
    },
    {
     "data": {
      "application/vnd.jupyter.widget-view+json": {
       "model_id": "ebbb9a68ff98474bbc07db6dd8c39212",
       "version_major": 2,
       "version_minor": 0
      },
      "text/plain": [
       "166/300 * Epoch (valid):   0%|          | 0/1 [00:00<?, ?it/s]"
      ]
     },
     "metadata": {},
     "output_type": "display_data"
    },
    {
     "name": "stdout",
     "output_type": "stream",
     "text": [
      "valid (166/300) exact_match01: 1.0 | exact_match01/std: 0.0 | exact_match02: 1.0 | exact_match02/std: 0.0 | loss: 0.00014089455362409353 | loss/mean: 0.00014089455362409353 | loss/std: 0.0 | lr: 0.0001 | momentum: 0.9\n",
      "* Epoch (166/300) \n"
     ]
    },
    {
     "data": {
      "application/vnd.jupyter.widget-view+json": {
       "model_id": "9b8f1c6d6380437382e1d35e3040b5b0",
       "version_major": 2,
       "version_minor": 0
      },
      "text/plain": [
       "167/300 * Epoch (train):   0%|          | 0/1 [00:00<?, ?it/s]"
      ]
     },
     "metadata": {},
     "output_type": "display_data"
    },
    {
     "name": "stdout",
     "output_type": "stream",
     "text": [
      "train (167/300) loss: 0.005011165514588356 | loss/mean: 0.005011165514588356 | loss/std: 0.0 | lr: 0.0001 | momentum: 0.9\n"
     ]
    },
    {
     "data": {
      "application/vnd.jupyter.widget-view+json": {
       "model_id": "8554028a9652494cae82ea04cc601a6e",
       "version_major": 2,
       "version_minor": 0
      },
      "text/plain": [
       "167/300 * Epoch (valid):   0%|          | 0/1 [00:00<?, ?it/s]"
      ]
     },
     "metadata": {},
     "output_type": "display_data"
    },
    {
     "name": "stdout",
     "output_type": "stream",
     "text": [
      "valid (167/300) exact_match01: 1.0 | exact_match01/std: 0.0 | exact_match02: 1.0 | exact_match02/std: 0.0 | loss: 0.00013989208673592657 | loss/mean: 0.00013989208673592657 | loss/std: 0.0 | lr: 0.0001 | momentum: 0.9\n",
      "* Epoch (167/300) \n"
     ]
    },
    {
     "data": {
      "application/vnd.jupyter.widget-view+json": {
       "model_id": "0d60e4b905da406fa708ef46f859252b",
       "version_major": 2,
       "version_minor": 0
      },
      "text/plain": [
       "168/300 * Epoch (train):   0%|          | 0/1 [00:00<?, ?it/s]"
      ]
     },
     "metadata": {},
     "output_type": "display_data"
    },
    {
     "name": "stdout",
     "output_type": "stream",
     "text": [
      "train (168/300) loss: 0.005308378953486681 | loss/mean: 0.005308378953486681 | loss/std: 0.0 | lr: 0.0001 | momentum: 0.9\n"
     ]
    },
    {
     "data": {
      "application/vnd.jupyter.widget-view+json": {
       "model_id": "97d75aa90a2a4e7ba6800b4cc4ba57e7",
       "version_major": 2,
       "version_minor": 0
      },
      "text/plain": [
       "168/300 * Epoch (valid):   0%|          | 0/1 [00:00<?, ?it/s]"
      ]
     },
     "metadata": {},
     "output_type": "display_data"
    },
    {
     "name": "stdout",
     "output_type": "stream",
     "text": [
      "valid (168/300) exact_match01: 1.0 | exact_match01/std: 0.0 | exact_match02: 1.0 | exact_match02/std: 0.0 | loss: 0.0001387598313158378 | loss/mean: 0.0001387598313158378 | loss/std: 0.0 | lr: 0.0001 | momentum: 0.9\n",
      "* Epoch (168/300) \n"
     ]
    },
    {
     "data": {
      "application/vnd.jupyter.widget-view+json": {
       "model_id": "bd5692086ab64aeeb0720561329eedcf",
       "version_major": 2,
       "version_minor": 0
      },
      "text/plain": [
       "169/300 * Epoch (train):   0%|          | 0/1 [00:00<?, ?it/s]"
      ]
     },
     "metadata": {},
     "output_type": "display_data"
    },
    {
     "name": "stdout",
     "output_type": "stream",
     "text": [
      "train (169/300) loss: 0.0014435022603720427 | loss/mean: 0.0014435022603720427 | loss/std: 0.0 | lr: 0.0001 | momentum: 0.9\n"
     ]
    },
    {
     "data": {
      "application/vnd.jupyter.widget-view+json": {
       "model_id": "4de03528bb774d97b5ed773eb94b8634",
       "version_major": 2,
       "version_minor": 0
      },
      "text/plain": [
       "169/300 * Epoch (valid):   0%|          | 0/1 [00:00<?, ?it/s]"
      ]
     },
     "metadata": {},
     "output_type": "display_data"
    },
    {
     "name": "stdout",
     "output_type": "stream",
     "text": [
      "valid (169/300) exact_match01: 1.0 | exact_match01/std: 0.0 | exact_match02: 1.0 | exact_match02/std: 0.0 | loss: 0.00013771817611996084 | loss/mean: 0.00013771817611996084 | loss/std: 0.0 | lr: 0.0001 | momentum: 0.9\n",
      "* Epoch (169/300) \n"
     ]
    },
    {
     "data": {
      "application/vnd.jupyter.widget-view+json": {
       "model_id": "3a774cc30bfc4fd4808de69558be3132",
       "version_major": 2,
       "version_minor": 0
      },
      "text/plain": [
       "170/300 * Epoch (train):   0%|          | 0/1 [00:00<?, ?it/s]"
      ]
     },
     "metadata": {},
     "output_type": "display_data"
    },
    {
     "name": "stdout",
     "output_type": "stream",
     "text": [
      "train (170/300) loss: 0.005781114567071199 | loss/mean: 0.005781114567071199 | loss/std: 0.0 | lr: 0.0001 | momentum: 0.9\n"
     ]
    },
    {
     "data": {
      "application/vnd.jupyter.widget-view+json": {
       "model_id": "f0931660c62f402eb27d00330f571915",
       "version_major": 2,
       "version_minor": 0
      },
      "text/plain": [
       "170/300 * Epoch (valid):   0%|          | 0/1 [00:00<?, ?it/s]"
      ]
     },
     "metadata": {},
     "output_type": "display_data"
    },
    {
     "name": "stdout",
     "output_type": "stream",
     "text": [
      "valid (170/300) exact_match01: 1.0 | exact_match01/std: 0.0 | exact_match02: 1.0 | exact_match02/std: 0.0 | loss: 0.00013708726328331977 | loss/mean: 0.00013708726328331977 | loss/std: 0.0 | lr: 0.0001 | momentum: 0.9\n",
      "* Epoch (170/300) \n"
     ]
    },
    {
     "data": {
      "application/vnd.jupyter.widget-view+json": {
       "model_id": "63ee7778cc424d7faa3ef10d6aaa7305",
       "version_major": 2,
       "version_minor": 0
      },
      "text/plain": [
       "171/300 * Epoch (train):   0%|          | 0/1 [00:00<?, ?it/s]"
      ]
     },
     "metadata": {},
     "output_type": "display_data"
    },
    {
     "name": "stdout",
     "output_type": "stream",
     "text": [
      "train (171/300) loss: 0.006625484209507704 | loss/mean: 0.006625484209507704 | loss/std: 0.0 | lr: 0.0001 | momentum: 0.9\n"
     ]
    },
    {
     "data": {
      "application/vnd.jupyter.widget-view+json": {
       "model_id": "ac8c7053f08545e09b813a35e38735af",
       "version_major": 2,
       "version_minor": 0
      },
      "text/plain": [
       "171/300 * Epoch (valid):   0%|          | 0/1 [00:00<?, ?it/s]"
      ]
     },
     "metadata": {},
     "output_type": "display_data"
    },
    {
     "name": "stdout",
     "output_type": "stream",
     "text": [
      "valid (171/300) exact_match01: 1.0 | exact_match01/std: 0.0 | exact_match02: 1.0 | exact_match02/std: 0.0 | loss: 0.00013633965863846242 | loss/mean: 0.00013633965863846242 | loss/std: 0.0 | lr: 0.0001 | momentum: 0.9\n",
      "* Epoch (171/300) \n"
     ]
    },
    {
     "data": {
      "application/vnd.jupyter.widget-view+json": {
       "model_id": "57ae7a4a0a8c4971ad8062a553d5546a",
       "version_major": 2,
       "version_minor": 0
      },
      "text/plain": [
       "172/300 * Epoch (train):   0%|          | 0/1 [00:00<?, ?it/s]"
      ]
     },
     "metadata": {},
     "output_type": "display_data"
    },
    {
     "name": "stdout",
     "output_type": "stream",
     "text": [
      "train (172/300) loss: 0.0031184738036245108 | loss/mean: 0.0031184738036245108 | loss/std: 0.0 | lr: 0.0001 | momentum: 0.9\n"
     ]
    },
    {
     "data": {
      "application/vnd.jupyter.widget-view+json": {
       "model_id": "2cfff74d411941978f12ba235d3e3be0",
       "version_major": 2,
       "version_minor": 0
      },
      "text/plain": [
       "172/300 * Epoch (valid):   0%|          | 0/1 [00:00<?, ?it/s]"
      ]
     },
     "metadata": {},
     "output_type": "display_data"
    },
    {
     "name": "stdout",
     "output_type": "stream",
     "text": [
      "valid (172/300) exact_match01: 1.0 | exact_match01/std: 0.0 | exact_match02: 1.0 | exact_match02/std: 0.0 | loss: 0.00013592645700555295 | loss/mean: 0.00013592645700555295 | loss/std: 0.0 | lr: 0.0001 | momentum: 0.9\n",
      "* Epoch (172/300) \n"
     ]
    },
    {
     "data": {
      "application/vnd.jupyter.widget-view+json": {
       "model_id": "b24ddca1edca432f93cfda8adb91e181",
       "version_major": 2,
       "version_minor": 0
      },
      "text/plain": [
       "173/300 * Epoch (train):   0%|          | 0/1 [00:00<?, ?it/s]"
      ]
     },
     "metadata": {},
     "output_type": "display_data"
    },
    {
     "name": "stdout",
     "output_type": "stream",
     "text": [
      "train (173/300) loss: 0.00333111803047359 | loss/mean: 0.00333111803047359 | loss/std: 0.0 | lr: 0.0001 | momentum: 0.9\n"
     ]
    },
    {
     "data": {
      "application/vnd.jupyter.widget-view+json": {
       "model_id": "d0eea77f541242679f32cbe59437c96d",
       "version_major": 2,
       "version_minor": 0
      },
      "text/plain": [
       "173/300 * Epoch (valid):   0%|          | 0/1 [00:00<?, ?it/s]"
      ]
     },
     "metadata": {},
     "output_type": "display_data"
    },
    {
     "name": "stdout",
     "output_type": "stream",
     "text": [
      "valid (173/300) exact_match01: 1.0 | exact_match01/std: 0.0 | exact_match02: 1.0 | exact_match02/std: 0.0 | loss: 0.00013523946108762175 | loss/mean: 0.00013523946108762175 | loss/std: 0.0 | lr: 0.0001 | momentum: 0.9\n",
      "* Epoch (173/300) \n"
     ]
    },
    {
     "data": {
      "application/vnd.jupyter.widget-view+json": {
       "model_id": "7d6511b39a9c460e9550126718a8e0c0",
       "version_major": 2,
       "version_minor": 0
      },
      "text/plain": [
       "174/300 * Epoch (train):   0%|          | 0/1 [00:00<?, ?it/s]"
      ]
     },
     "metadata": {},
     "output_type": "display_data"
    },
    {
     "name": "stdout",
     "output_type": "stream",
     "text": [
      "train (174/300) loss: 0.0015090719098225236 | loss/mean: 0.0015090719098225236 | loss/std: 0.0 | lr: 0.0001 | momentum: 0.9\n"
     ]
    },
    {
     "data": {
      "application/vnd.jupyter.widget-view+json": {
       "model_id": "69a5b62b83cb4d948735e9d54a3ab7c3",
       "version_major": 2,
       "version_minor": 0
      },
      "text/plain": [
       "174/300 * Epoch (valid):   0%|          | 0/1 [00:00<?, ?it/s]"
      ]
     },
     "metadata": {},
     "output_type": "display_data"
    },
    {
     "name": "stdout",
     "output_type": "stream",
     "text": [
      "valid (174/300) exact_match01: 1.0 | exact_match01/std: 0.0 | exact_match02: 1.0 | exact_match02/std: 0.0 | loss: 0.00013467035023495555 | loss/mean: 0.00013467035023495555 | loss/std: 0.0 | lr: 0.0001 | momentum: 0.9\n",
      "* Epoch (174/300) \n"
     ]
    },
    {
     "data": {
      "application/vnd.jupyter.widget-view+json": {
       "model_id": "0b57354850144b0182ed029510b4cdec",
       "version_major": 2,
       "version_minor": 0
      },
      "text/plain": [
       "175/300 * Epoch (train):   0%|          | 0/1 [00:00<?, ?it/s]"
      ]
     },
     "metadata": {},
     "output_type": "display_data"
    },
    {
     "name": "stdout",
     "output_type": "stream",
     "text": [
      "train (175/300) loss: 0.0026157526299357414 | loss/mean: 0.0026157526299357414 | loss/std: 0.0 | lr: 0.0001 | momentum: 0.9\n"
     ]
    },
    {
     "data": {
      "application/vnd.jupyter.widget-view+json": {
       "model_id": "4af908d3fc054da58520080fd799ebf6",
       "version_major": 2,
       "version_minor": 0
      },
      "text/plain": [
       "175/300 * Epoch (valid):   0%|          | 0/1 [00:00<?, ?it/s]"
      ]
     },
     "metadata": {},
     "output_type": "display_data"
    },
    {
     "name": "stdout",
     "output_type": "stream",
     "text": [
      "valid (175/300) exact_match01: 1.0 | exact_match01/std: 0.0 | exact_match02: 1.0 | exact_match02/std: 0.0 | loss: 0.0001340929011348635 | loss/mean: 0.0001340929011348635 | loss/std: 0.0 | lr: 0.0001 | momentum: 0.9\n",
      "* Epoch (175/300) \n"
     ]
    },
    {
     "data": {
      "application/vnd.jupyter.widget-view+json": {
       "model_id": "ab9aeb99f27741e6b019fa274dfd3da1",
       "version_major": 2,
       "version_minor": 0
      },
      "text/plain": [
       "176/300 * Epoch (train):   0%|          | 0/1 [00:00<?, ?it/s]"
      ]
     },
     "metadata": {},
     "output_type": "display_data"
    },
    {
     "name": "stdout",
     "output_type": "stream",
     "text": [
      "train (176/300) loss: 0.007084272336214781 | loss/mean: 0.007084272336214781 | loss/std: 0.0 | lr: 0.0001 | momentum: 0.9\n"
     ]
    },
    {
     "data": {
      "application/vnd.jupyter.widget-view+json": {
       "model_id": "10d8298b70f440b5a9b7c438b11afac6",
       "version_major": 2,
       "version_minor": 0
      },
      "text/plain": [
       "176/300 * Epoch (valid):   0%|          | 0/1 [00:00<?, ?it/s]"
      ]
     },
     "metadata": {},
     "output_type": "display_data"
    },
    {
     "name": "stdout",
     "output_type": "stream",
     "text": [
      "valid (176/300) exact_match01: 1.0 | exact_match01/std: 0.0 | exact_match02: 1.0 | exact_match02/std: 0.0 | loss: 0.00013313553063198924 | loss/mean: 0.00013313553063198924 | loss/std: 0.0 | lr: 0.0001 | momentum: 0.9\n",
      "* Epoch (176/300) \n"
     ]
    },
    {
     "data": {
      "application/vnd.jupyter.widget-view+json": {
       "model_id": "b400ae9b68df47e4a06c7f4359d900d2",
       "version_major": 2,
       "version_minor": 0
      },
      "text/plain": [
       "177/300 * Epoch (train):   0%|          | 0/1 [00:00<?, ?it/s]"
      ]
     },
     "metadata": {},
     "output_type": "display_data"
    },
    {
     "name": "stdout",
     "output_type": "stream",
     "text": [
      "train (177/300) loss: 0.0017736456356942654 | loss/mean: 0.0017736456356942654 | loss/std: 0.0 | lr: 0.0001 | momentum: 0.9\n"
     ]
    },
    {
     "data": {
      "application/vnd.jupyter.widget-view+json": {
       "model_id": "0353866c80c94e78a68e9e2d4ead0b55",
       "version_major": 2,
       "version_minor": 0
      },
      "text/plain": [
       "177/300 * Epoch (valid):   0%|          | 0/1 [00:00<?, ?it/s]"
      ]
     },
     "metadata": {},
     "output_type": "display_data"
    },
    {
     "name": "stdout",
     "output_type": "stream",
     "text": [
      "valid (177/300) exact_match01: 1.0 | exact_match01/std: 0.0 | exact_match02: 1.0 | exact_match02/std: 0.0 | loss: 0.00013211880286689848 | loss/mean: 0.00013211880286689848 | loss/std: 0.0 | lr: 0.0001 | momentum: 0.9\n",
      "* Epoch (177/300) \n"
     ]
    },
    {
     "data": {
      "application/vnd.jupyter.widget-view+json": {
       "model_id": "4f31121b56eb4f2aa5ace03f5cd6868b",
       "version_major": 2,
       "version_minor": 0
      },
      "text/plain": [
       "178/300 * Epoch (train):   0%|          | 0/1 [00:00<?, ?it/s]"
      ]
     },
     "metadata": {},
     "output_type": "display_data"
    },
    {
     "name": "stdout",
     "output_type": "stream",
     "text": [
      "train (178/300) loss: 0.0018532942049205303 | loss/mean: 0.0018532942049205303 | loss/std: 0.0 | lr: 0.0001 | momentum: 0.9\n"
     ]
    },
    {
     "data": {
      "application/vnd.jupyter.widget-view+json": {
       "model_id": "1109540338e94db19ab81d7dabafd77e",
       "version_major": 2,
       "version_minor": 0
      },
      "text/plain": [
       "178/300 * Epoch (valid):   0%|          | 0/1 [00:00<?, ?it/s]"
      ]
     },
     "metadata": {},
     "output_type": "display_data"
    },
    {
     "name": "stdout",
     "output_type": "stream",
     "text": [
      "valid (178/300) exact_match01: 1.0 | exact_match01/std: 0.0 | exact_match02: 1.0 | exact_match02/std: 0.0 | loss: 0.00013096642214804888 | loss/mean: 0.00013096642214804888 | loss/std: 0.0 | lr: 0.0001 | momentum: 0.9\n",
      "* Epoch (178/300) \n"
     ]
    },
    {
     "data": {
      "application/vnd.jupyter.widget-view+json": {
       "model_id": "7195765ba16f4fc8bc38c48d76363c29",
       "version_major": 2,
       "version_minor": 0
      },
      "text/plain": [
       "179/300 * Epoch (train):   0%|          | 0/1 [00:00<?, ?it/s]"
      ]
     },
     "metadata": {},
     "output_type": "display_data"
    },
    {
     "name": "stdout",
     "output_type": "stream",
     "text": [
      "train (179/300) loss: 0.0026178027037531137 | loss/mean: 0.0026178027037531137 | loss/std: 0.0 | lr: 0.0001 | momentum: 0.9\n"
     ]
    },
    {
     "data": {
      "application/vnd.jupyter.widget-view+json": {
       "model_id": "923f7bad145c4e65843d26d4649b3972",
       "version_major": 2,
       "version_minor": 0
      },
      "text/plain": [
       "179/300 * Epoch (valid):   0%|          | 0/1 [00:00<?, ?it/s]"
      ]
     },
     "metadata": {},
     "output_type": "display_data"
    },
    {
     "name": "stdout",
     "output_type": "stream",
     "text": [
      "valid (179/300) exact_match01: 1.0 | exact_match01/std: 0.0 | exact_match02: 1.0 | exact_match02/std: 0.0 | loss: 0.00012965229689143598 | loss/mean: 0.00012965229689143598 | loss/std: 0.0 | lr: 0.0001 | momentum: 0.9\n",
      "* Epoch (179/300) \n"
     ]
    },
    {
     "data": {
      "application/vnd.jupyter.widget-view+json": {
       "model_id": "93ebbc6a7e5f4bfb859facf7241e1afa",
       "version_major": 2,
       "version_minor": 0
      },
      "text/plain": [
       "180/300 * Epoch (train):   0%|          | 0/1 [00:00<?, ?it/s]"
      ]
     },
     "metadata": {},
     "output_type": "display_data"
    },
    {
     "name": "stdout",
     "output_type": "stream",
     "text": [
      "train (180/300) loss: 0.0027471035718917847 | loss/mean: 0.0027471035718917847 | loss/std: 0.0 | lr: 0.0001 | momentum: 0.9\n"
     ]
    },
    {
     "data": {
      "application/vnd.jupyter.widget-view+json": {
       "model_id": "13fcc24a89694f86b8329fbb8db98986",
       "version_major": 2,
       "version_minor": 0
      },
      "text/plain": [
       "180/300 * Epoch (valid):   0%|          | 0/1 [00:00<?, ?it/s]"
      ]
     },
     "metadata": {},
     "output_type": "display_data"
    },
    {
     "name": "stdout",
     "output_type": "stream",
     "text": [
      "valid (180/300) exact_match01: 1.0 | exact_match01/std: 0.0 | exact_match02: 1.0 | exact_match02/std: 0.0 | loss: 0.00012836561654694378 | loss/mean: 0.00012836561654694378 | loss/std: 0.0 | lr: 0.0001 | momentum: 0.9\n",
      "* Epoch (180/300) \n"
     ]
    },
    {
     "data": {
      "application/vnd.jupyter.widget-view+json": {
       "model_id": "223e6b2844244e2da4a55b280a35ae8b",
       "version_major": 2,
       "version_minor": 0
      },
      "text/plain": [
       "181/300 * Epoch (train):   0%|          | 0/1 [00:00<?, ?it/s]"
      ]
     },
     "metadata": {},
     "output_type": "display_data"
    },
    {
     "name": "stdout",
     "output_type": "stream",
     "text": [
      "train (181/300) loss: 0.001935866428539157 | loss/mean: 0.001935866428539157 | loss/std: 0.0 | lr: 0.0001 | momentum: 0.9\n"
     ]
    },
    {
     "data": {
      "application/vnd.jupyter.widget-view+json": {
       "model_id": "7e419de4adf940af9faa9a326edfaa13",
       "version_major": 2,
       "version_minor": 0
      },
      "text/plain": [
       "181/300 * Epoch (valid):   0%|          | 0/1 [00:00<?, ?it/s]"
      ]
     },
     "metadata": {},
     "output_type": "display_data"
    },
    {
     "name": "stdout",
     "output_type": "stream",
     "text": [
      "valid (181/300) exact_match01: 1.0 | exact_match01/std: 0.0 | exact_match02: 1.0 | exact_match02/std: 0.0 | loss: 0.0001271646615350619 | loss/mean: 0.0001271646615350619 | loss/std: 0.0 | lr: 0.0001 | momentum: 0.9\n",
      "* Epoch (181/300) \n"
     ]
    },
    {
     "data": {
      "application/vnd.jupyter.widget-view+json": {
       "model_id": "df1d43a63fb74be98e6516fe826bde49",
       "version_major": 2,
       "version_minor": 0
      },
      "text/plain": [
       "182/300 * Epoch (train):   0%|          | 0/1 [00:00<?, ?it/s]"
      ]
     },
     "metadata": {},
     "output_type": "display_data"
    },
    {
     "name": "stdout",
     "output_type": "stream",
     "text": [
      "train (182/300) loss: 0.0030360885430127382 | loss/mean: 0.0030360885430127382 | loss/std: 0.0 | lr: 0.0001 | momentum: 0.9\n"
     ]
    },
    {
     "data": {
      "application/vnd.jupyter.widget-view+json": {
       "model_id": "6345c582554f4c24b31737a0140ee746",
       "version_major": 2,
       "version_minor": 0
      },
      "text/plain": [
       "182/300 * Epoch (valid):   0%|          | 0/1 [00:00<?, ?it/s]"
      ]
     },
     "metadata": {},
     "output_type": "display_data"
    },
    {
     "name": "stdout",
     "output_type": "stream",
     "text": [
      "valid (182/300) exact_match01: 1.0 | exact_match01/std: 0.0 | exact_match02: 1.0 | exact_match02/std: 0.0 | loss: 0.00012623603106476367 | loss/mean: 0.00012623603106476367 | loss/std: 0.0 | lr: 0.0001 | momentum: 0.9\n",
      "* Epoch (182/300) \n"
     ]
    },
    {
     "data": {
      "application/vnd.jupyter.widget-view+json": {
       "model_id": "0ca7f440739d47f9b94d490a370f464f",
       "version_major": 2,
       "version_minor": 0
      },
      "text/plain": [
       "183/300 * Epoch (train):   0%|          | 0/1 [00:00<?, ?it/s]"
      ]
     },
     "metadata": {},
     "output_type": "display_data"
    },
    {
     "name": "stdout",
     "output_type": "stream",
     "text": [
      "train (183/300) loss: 0.003439599648118019 | loss/mean: 0.003439599648118019 | loss/std: 0.0 | lr: 0.0001 | momentum: 0.9\n"
     ]
    },
    {
     "data": {
      "application/vnd.jupyter.widget-view+json": {
       "model_id": "90839c09d60a4cf88a0dcd6e28399d1b",
       "version_major": 2,
       "version_minor": 0
      },
      "text/plain": [
       "183/300 * Epoch (valid):   0%|          | 0/1 [00:00<?, ?it/s]"
      ]
     },
     "metadata": {},
     "output_type": "display_data"
    },
    {
     "name": "stdout",
     "output_type": "stream",
     "text": [
      "valid (183/300) exact_match01: 1.0 | exact_match01/std: 0.0 | exact_match02: 1.0 | exact_match02/std: 0.0 | loss: 0.000124971687910147 | loss/mean: 0.000124971687910147 | loss/std: 0.0 | lr: 0.0001 | momentum: 0.9\n",
      "* Epoch (183/300) \n"
     ]
    },
    {
     "data": {
      "application/vnd.jupyter.widget-view+json": {
       "model_id": "45ea6a00891d498d93e875f643158e97",
       "version_major": 2,
       "version_minor": 0
      },
      "text/plain": [
       "184/300 * Epoch (train):   0%|          | 0/1 [00:00<?, ?it/s]"
      ]
     },
     "metadata": {},
     "output_type": "display_data"
    },
    {
     "name": "stdout",
     "output_type": "stream",
     "text": [
      "train (184/300) loss: 0.005727259907871485 | loss/mean: 0.005727259907871485 | loss/std: 0.0 | lr: 0.0001 | momentum: 0.9\n"
     ]
    },
    {
     "data": {
      "application/vnd.jupyter.widget-view+json": {
       "model_id": "45b970e82a60485abc1884b3ba460d30",
       "version_major": 2,
       "version_minor": 0
      },
      "text/plain": [
       "184/300 * Epoch (valid):   0%|          | 0/1 [00:00<?, ?it/s]"
      ]
     },
     "metadata": {},
     "output_type": "display_data"
    },
    {
     "name": "stdout",
     "output_type": "stream",
     "text": [
      "valid (184/300) exact_match01: 1.0 | exact_match01/std: 0.0 | exact_match02: 1.0 | exact_match02/std: 0.0 | loss: 0.00012305537529755384 | loss/mean: 0.00012305537529755384 | loss/std: 0.0 | lr: 0.0001 | momentum: 0.9\n",
      "* Epoch (184/300) \n"
     ]
    },
    {
     "data": {
      "application/vnd.jupyter.widget-view+json": {
       "model_id": "2382d9fc536c44bf94223e1f97978a32",
       "version_major": 2,
       "version_minor": 0
      },
      "text/plain": [
       "185/300 * Epoch (train):   0%|          | 0/1 [00:00<?, ?it/s]"
      ]
     },
     "metadata": {},
     "output_type": "display_data"
    },
    {
     "name": "stdout",
     "output_type": "stream",
     "text": [
      "train (185/300) loss: 0.003294978756457567 | loss/mean: 0.003294978756457567 | loss/std: 0.0 | lr: 0.0001 | momentum: 0.9\n"
     ]
    },
    {
     "data": {
      "application/vnd.jupyter.widget-view+json": {
       "model_id": "756674f85fa04677a2ce437ea6693883",
       "version_major": 2,
       "version_minor": 0
      },
      "text/plain": [
       "185/300 * Epoch (valid):   0%|          | 0/1 [00:00<?, ?it/s]"
      ]
     },
     "metadata": {},
     "output_type": "display_data"
    },
    {
     "name": "stdout",
     "output_type": "stream",
     "text": [
      "valid (185/300) exact_match01: 1.0 | exact_match01/std: 0.0 | exact_match02: 1.0 | exact_match02/std: 0.0 | loss: 0.00012122946645831689 | loss/mean: 0.00012122946645831689 | loss/std: 0.0 | lr: 0.0001 | momentum: 0.9\n",
      "* Epoch (185/300) \n"
     ]
    },
    {
     "data": {
      "application/vnd.jupyter.widget-view+json": {
       "model_id": "da6f986923bf45f9939d2c1fd13dbbef",
       "version_major": 2,
       "version_minor": 0
      },
      "text/plain": [
       "186/300 * Epoch (train):   0%|          | 0/1 [00:00<?, ?it/s]"
      ]
     },
     "metadata": {},
     "output_type": "display_data"
    },
    {
     "name": "stdout",
     "output_type": "stream",
     "text": [
      "train (186/300) loss: 0.012752214446663857 | loss/mean: 0.012752214446663857 | loss/std: 0.0 | lr: 0.0001 | momentum: 0.9\n"
     ]
    },
    {
     "data": {
      "application/vnd.jupyter.widget-view+json": {
       "model_id": "0b198cfab4d54fccba88a72903cf3fca",
       "version_major": 2,
       "version_minor": 0
      },
      "text/plain": [
       "186/300 * Epoch (valid):   0%|          | 0/1 [00:00<?, ?it/s]"
      ]
     },
     "metadata": {},
     "output_type": "display_data"
    },
    {
     "name": "stdout",
     "output_type": "stream",
     "text": [
      "valid (186/300) exact_match01: 1.0 | exact_match01/std: 0.0 | exact_match02: 1.0 | exact_match02/std: 0.0 | loss: 0.00011989392078248784 | loss/mean: 0.00011989392078248784 | loss/std: 0.0 | lr: 0.0001 | momentum: 0.9\n",
      "* Epoch (186/300) \n"
     ]
    },
    {
     "data": {
      "application/vnd.jupyter.widget-view+json": {
       "model_id": "90e2c30b56124a6895fcf9b668e4c633",
       "version_major": 2,
       "version_minor": 0
      },
      "text/plain": [
       "187/300 * Epoch (train):   0%|          | 0/1 [00:00<?, ?it/s]"
      ]
     },
     "metadata": {},
     "output_type": "display_data"
    },
    {
     "name": "stdout",
     "output_type": "stream",
     "text": [
      "train (187/300) loss: 0.0015031072543933988 | loss/mean: 0.0015031072543933988 | loss/std: 0.0 | lr: 0.0001 | momentum: 0.9\n"
     ]
    },
    {
     "data": {
      "application/vnd.jupyter.widget-view+json": {
       "model_id": "2fc422fea7414ae3bbb24293b8c545cd",
       "version_major": 2,
       "version_minor": 0
      },
      "text/plain": [
       "187/300 * Epoch (valid):   0%|          | 0/1 [00:00<?, ?it/s]"
      ]
     },
     "metadata": {},
     "output_type": "display_data"
    },
    {
     "name": "stdout",
     "output_type": "stream",
     "text": [
      "valid (187/300) exact_match01: 1.0 | exact_match01/std: 0.0 | exact_match02: 1.0 | exact_match02/std: 0.0 | loss: 0.00011861923121614382 | loss/mean: 0.00011861923121614382 | loss/std: 0.0 | lr: 0.0001 | momentum: 0.9\n",
      "* Epoch (187/300) \n"
     ]
    },
    {
     "data": {
      "application/vnd.jupyter.widget-view+json": {
       "model_id": "2c6bff483193456bb310f403e3055466",
       "version_major": 2,
       "version_minor": 0
      },
      "text/plain": [
       "188/300 * Epoch (train):   0%|          | 0/1 [00:00<?, ?it/s]"
      ]
     },
     "metadata": {},
     "output_type": "display_data"
    },
    {
     "name": "stdout",
     "output_type": "stream",
     "text": [
      "train (188/300) loss: 0.0036574890837073326 | loss/mean: 0.0036574890837073326 | loss/std: 0.0 | lr: 0.0001 | momentum: 0.9\n"
     ]
    },
    {
     "data": {
      "application/vnd.jupyter.widget-view+json": {
       "model_id": "4ab6ce25249445d2b4f426a931271c72",
       "version_major": 2,
       "version_minor": 0
      },
      "text/plain": [
       "188/300 * Epoch (valid):   0%|          | 0/1 [00:00<?, ?it/s]"
      ]
     },
     "metadata": {},
     "output_type": "display_data"
    },
    {
     "name": "stdout",
     "output_type": "stream",
     "text": [
      "valid (188/300) exact_match01: 1.0 | exact_match01/std: 0.0 | exact_match02: 1.0 | exact_match02/std: 0.0 | loss: 0.00011752798309316859 | loss/mean: 0.00011752798309316859 | loss/std: 0.0 | lr: 0.0001 | momentum: 0.9\n",
      "* Epoch (188/300) \n"
     ]
    },
    {
     "data": {
      "application/vnd.jupyter.widget-view+json": {
       "model_id": "46fcda16a169452b8be5f2bf8fe80869",
       "version_major": 2,
       "version_minor": 0
      },
      "text/plain": [
       "189/300 * Epoch (train):   0%|          | 0/1 [00:00<?, ?it/s]"
      ]
     },
     "metadata": {},
     "output_type": "display_data"
    },
    {
     "name": "stdout",
     "output_type": "stream",
     "text": [
      "train (189/300) loss: 0.0018351797480136156 | loss/mean: 0.0018351797480136156 | loss/std: 0.0 | lr: 0.0001 | momentum: 0.9\n"
     ]
    },
    {
     "data": {
      "application/vnd.jupyter.widget-view+json": {
       "model_id": "27bc22334af840b8a23bd3ac51add388",
       "version_major": 2,
       "version_minor": 0
      },
      "text/plain": [
       "189/300 * Epoch (valid):   0%|          | 0/1 [00:00<?, ?it/s]"
      ]
     },
     "metadata": {},
     "output_type": "display_data"
    },
    {
     "name": "stdout",
     "output_type": "stream",
     "text": [
      "valid (189/300) exact_match01: 1.0 | exact_match01/std: 0.0 | exact_match02: 1.0 | exact_match02/std: 0.0 | loss: 0.00011647967039607465 | loss/mean: 0.00011647967039607465 | loss/std: 0.0 | lr: 0.0001 | momentum: 0.9\n",
      "* Epoch (189/300) \n"
     ]
    },
    {
     "data": {
      "application/vnd.jupyter.widget-view+json": {
       "model_id": "9b8c6aad66464b4eb080d0612b72f2ff",
       "version_major": 2,
       "version_minor": 0
      },
      "text/plain": [
       "190/300 * Epoch (train):   0%|          | 0/1 [00:00<?, ?it/s]"
      ]
     },
     "metadata": {},
     "output_type": "display_data"
    },
    {
     "name": "stdout",
     "output_type": "stream",
     "text": [
      "train (190/300) loss: 0.0014276676811277866 | loss/mean: 0.0014276676811277866 | loss/std: 0.0 | lr: 0.0001 | momentum: 0.9\n"
     ]
    },
    {
     "data": {
      "application/vnd.jupyter.widget-view+json": {
       "model_id": "fe0954806b884c7b9dd5388f0a078b65",
       "version_major": 2,
       "version_minor": 0
      },
      "text/plain": [
       "190/300 * Epoch (valid):   0%|          | 0/1 [00:00<?, ?it/s]"
      ]
     },
     "metadata": {},
     "output_type": "display_data"
    },
    {
     "name": "stdout",
     "output_type": "stream",
     "text": [
      "valid (190/300) exact_match01: 1.0 | exact_match01/std: 0.0 | exact_match02: 1.0 | exact_match02/std: 0.0 | loss: 0.00011540519335540012 | loss/mean: 0.00011540519335540012 | loss/std: 0.0 | lr: 0.0001 | momentum: 0.9\n",
      "* Epoch (190/300) \n"
     ]
    },
    {
     "data": {
      "application/vnd.jupyter.widget-view+json": {
       "model_id": "a4fe8080ad7045b7a87407e523e937cf",
       "version_major": 2,
       "version_minor": 0
      },
      "text/plain": [
       "191/300 * Epoch (train):   0%|          | 0/1 [00:00<?, ?it/s]"
      ]
     },
     "metadata": {},
     "output_type": "display_data"
    },
    {
     "name": "stdout",
     "output_type": "stream",
     "text": [
      "train (191/300) loss: 0.0030719933565706015 | loss/mean: 0.0030719933565706015 | loss/std: 0.0 | lr: 0.0001 | momentum: 0.9\n"
     ]
    },
    {
     "data": {
      "application/vnd.jupyter.widget-view+json": {
       "model_id": "475975c3a5dd4b489f27948bbb4b4354",
       "version_major": 2,
       "version_minor": 0
      },
      "text/plain": [
       "191/300 * Epoch (valid):   0%|          | 0/1 [00:00<?, ?it/s]"
      ]
     },
     "metadata": {},
     "output_type": "display_data"
    },
    {
     "name": "stdout",
     "output_type": "stream",
     "text": [
      "valid (191/300) exact_match01: 1.0 | exact_match01/std: 0.0 | exact_match02: 1.0 | exact_match02/std: 0.0 | loss: 0.00011330167762935162 | loss/mean: 0.00011330167762935162 | loss/std: 0.0 | lr: 0.0001 | momentum: 0.9\n",
      "* Epoch (191/300) \n"
     ]
    },
    {
     "data": {
      "application/vnd.jupyter.widget-view+json": {
       "model_id": "146c66852a2b49fb8f81af45c2db4c93",
       "version_major": 2,
       "version_minor": 0
      },
      "text/plain": [
       "192/300 * Epoch (train):   0%|          | 0/1 [00:00<?, ?it/s]"
      ]
     },
     "metadata": {},
     "output_type": "display_data"
    },
    {
     "name": "stdout",
     "output_type": "stream",
     "text": [
      "train (192/300) loss: 0.006148466840386391 | loss/mean: 0.006148466840386391 | loss/std: 0.0 | lr: 0.0001 | momentum: 0.9\n"
     ]
    },
    {
     "data": {
      "application/vnd.jupyter.widget-view+json": {
       "model_id": "6ca236851e254c868a81ea702baf7729",
       "version_major": 2,
       "version_minor": 0
      },
      "text/plain": [
       "192/300 * Epoch (valid):   0%|          | 0/1 [00:00<?, ?it/s]"
      ]
     },
     "metadata": {},
     "output_type": "display_data"
    },
    {
     "name": "stdout",
     "output_type": "stream",
     "text": [
      "valid (192/300) exact_match01: 1.0 | exact_match01/std: 0.0 | exact_match02: 1.0 | exact_match02/std: 0.0 | loss: 0.00011139074194943532 | loss/mean: 0.00011139074194943532 | loss/std: 0.0 | lr: 0.0001 | momentum: 0.9\n",
      "* Epoch (192/300) \n"
     ]
    },
    {
     "data": {
      "application/vnd.jupyter.widget-view+json": {
       "model_id": "b32f7e29dc2f4efabc583c97cfda48ef",
       "version_major": 2,
       "version_minor": 0
      },
      "text/plain": [
       "193/300 * Epoch (train):   0%|          | 0/1 [00:00<?, ?it/s]"
      ]
     },
     "metadata": {},
     "output_type": "display_data"
    },
    {
     "name": "stdout",
     "output_type": "stream",
     "text": [
      "train (193/300) loss: 0.002545586321502924 | loss/mean: 0.002545586321502924 | loss/std: 0.0 | lr: 0.0001 | momentum: 0.9\n"
     ]
    },
    {
     "data": {
      "application/vnd.jupyter.widget-view+json": {
       "model_id": "2bb25ce9b49443f5a95b13939bc21d8d",
       "version_major": 2,
       "version_minor": 0
      },
      "text/plain": [
       "193/300 * Epoch (valid):   0%|          | 0/1 [00:00<?, ?it/s]"
      ]
     },
     "metadata": {},
     "output_type": "display_data"
    },
    {
     "name": "stdout",
     "output_type": "stream",
     "text": [
      "valid (193/300) exact_match01: 1.0 | exact_match01/std: 0.0 | exact_match02: 1.0 | exact_match02/std: 0.0 | loss: 0.00010955226753139868 | loss/mean: 0.00010955226753139868 | loss/std: 0.0 | lr: 0.0001 | momentum: 0.9\n",
      "* Epoch (193/300) \n"
     ]
    },
    {
     "data": {
      "application/vnd.jupyter.widget-view+json": {
       "model_id": "12cad8c77213492db8776f7b1c794767",
       "version_major": 2,
       "version_minor": 0
      },
      "text/plain": [
       "194/300 * Epoch (train):   0%|          | 0/1 [00:00<?, ?it/s]"
      ]
     },
     "metadata": {},
     "output_type": "display_data"
    },
    {
     "name": "stdout",
     "output_type": "stream",
     "text": [
      "train (194/300) loss: 0.005981749389320612 | loss/mean: 0.005981749389320612 | loss/std: 0.0 | lr: 0.0001 | momentum: 0.9\n"
     ]
    },
    {
     "data": {
      "application/vnd.jupyter.widget-view+json": {
       "model_id": "89196be3816e4765bb91b322b318f546",
       "version_major": 2,
       "version_minor": 0
      },
      "text/plain": [
       "194/300 * Epoch (valid):   0%|          | 0/1 [00:00<?, ?it/s]"
      ]
     },
     "metadata": {},
     "output_type": "display_data"
    },
    {
     "name": "stdout",
     "output_type": "stream",
     "text": [
      "valid (194/300) exact_match01: 1.0 | exact_match01/std: 0.0 | exact_match02: 1.0 | exact_match02/std: 0.0 | loss: 0.00010752901289379224 | loss/mean: 0.00010752901289379224 | loss/std: 0.0 | lr: 0.0001 | momentum: 0.9\n",
      "* Epoch (194/300) \n"
     ]
    },
    {
     "data": {
      "application/vnd.jupyter.widget-view+json": {
       "model_id": "9d487ef032a94562af9026efb22a79d7",
       "version_major": 2,
       "version_minor": 0
      },
      "text/plain": [
       "195/300 * Epoch (train):   0%|          | 0/1 [00:00<?, ?it/s]"
      ]
     },
     "metadata": {},
     "output_type": "display_data"
    },
    {
     "name": "stdout",
     "output_type": "stream",
     "text": [
      "train (195/300) loss: 0.0026725393254309893 | loss/mean: 0.0026725393254309893 | loss/std: 0.0 | lr: 0.0001 | momentum: 0.9\n"
     ]
    },
    {
     "data": {
      "application/vnd.jupyter.widget-view+json": {
       "model_id": "3587e108c1fa47c394962bf6a6df0b65",
       "version_major": 2,
       "version_minor": 0
      },
      "text/plain": [
       "195/300 * Epoch (valid):   0%|          | 0/1 [00:00<?, ?it/s]"
      ]
     },
     "metadata": {},
     "output_type": "display_data"
    },
    {
     "name": "stdout",
     "output_type": "stream",
     "text": [
      "valid (195/300) exact_match01: 1.0 | exact_match01/std: 0.0 | exact_match02: 1.0 | exact_match02/std: 0.0 | loss: 0.00010570094309514388 | loss/mean: 0.00010570094309514388 | loss/std: 0.0 | lr: 0.0001 | momentum: 0.9\n",
      "* Epoch (195/300) \n"
     ]
    },
    {
     "data": {
      "application/vnd.jupyter.widget-view+json": {
       "model_id": "32f2706019444e9bbb9f43b716885c19",
       "version_major": 2,
       "version_minor": 0
      },
      "text/plain": [
       "196/300 * Epoch (train):   0%|          | 0/1 [00:00<?, ?it/s]"
      ]
     },
     "metadata": {},
     "output_type": "display_data"
    },
    {
     "name": "stdout",
     "output_type": "stream",
     "text": [
      "train (196/300) loss: 0.0026364591903984547 | loss/mean: 0.0026364591903984547 | loss/std: 0.0 | lr: 0.0001 | momentum: 0.9\n"
     ]
    },
    {
     "data": {
      "application/vnd.jupyter.widget-view+json": {
       "model_id": "2590031e24e64ae8839163d648642f31",
       "version_major": 2,
       "version_minor": 0
      },
      "text/plain": [
       "196/300 * Epoch (valid):   0%|          | 0/1 [00:00<?, ?it/s]"
      ]
     },
     "metadata": {},
     "output_type": "display_data"
    },
    {
     "name": "stdout",
     "output_type": "stream",
     "text": [
      "valid (196/300) exact_match01: 1.0 | exact_match01/std: 0.0 | exact_match02: 1.0 | exact_match02/std: 0.0 | loss: 0.00010398580343462527 | loss/mean: 0.00010398580343462527 | loss/std: 0.0 | lr: 0.0001 | momentum: 0.9\n",
      "* Epoch (196/300) \n"
     ]
    },
    {
     "data": {
      "application/vnd.jupyter.widget-view+json": {
       "model_id": "48de51d38977485581e3d609f0a59eb8",
       "version_major": 2,
       "version_minor": 0
      },
      "text/plain": [
       "197/300 * Epoch (train):   0%|          | 0/1 [00:00<?, ?it/s]"
      ]
     },
     "metadata": {},
     "output_type": "display_data"
    },
    {
     "name": "stdout",
     "output_type": "stream",
     "text": [
      "train (197/300) loss: 0.002035715151578188 | loss/mean: 0.002035715151578188 | loss/std: 0.0 | lr: 0.0001 | momentum: 0.9\n"
     ]
    },
    {
     "data": {
      "application/vnd.jupyter.widget-view+json": {
       "model_id": "23a90801e5494ee88ebe3ee2d3924e1b",
       "version_major": 2,
       "version_minor": 0
      },
      "text/plain": [
       "197/300 * Epoch (valid):   0%|          | 0/1 [00:00<?, ?it/s]"
      ]
     },
     "metadata": {},
     "output_type": "display_data"
    },
    {
     "name": "stdout",
     "output_type": "stream",
     "text": [
      "valid (197/300) exact_match01: 1.0 | exact_match01/std: 0.0 | exact_match02: 1.0 | exact_match02/std: 0.0 | loss: 0.00010224684228887782 | loss/mean: 0.00010224684228887782 | loss/std: 0.0 | lr: 0.0001 | momentum: 0.9\n",
      "* Epoch (197/300) \n"
     ]
    },
    {
     "data": {
      "application/vnd.jupyter.widget-view+json": {
       "model_id": "5586f2db72414d36b16d57d6e16dbdca",
       "version_major": 2,
       "version_minor": 0
      },
      "text/plain": [
       "198/300 * Epoch (train):   0%|          | 0/1 [00:00<?, ?it/s]"
      ]
     },
     "metadata": {},
     "output_type": "display_data"
    },
    {
     "name": "stdout",
     "output_type": "stream",
     "text": [
      "train (198/300) loss: 0.0013746549375355244 | loss/mean: 0.0013746549375355244 | loss/std: 0.0 | lr: 0.0001 | momentum: 0.9\n"
     ]
    },
    {
     "data": {
      "application/vnd.jupyter.widget-view+json": {
       "model_id": "04b4776a3e3a40ec8bd1894c0da5d7b8",
       "version_major": 2,
       "version_minor": 0
      },
      "text/plain": [
       "198/300 * Epoch (valid):   0%|          | 0/1 [00:00<?, ?it/s]"
      ]
     },
     "metadata": {},
     "output_type": "display_data"
    },
    {
     "name": "stdout",
     "output_type": "stream",
     "text": [
      "valid (198/300) exact_match01: 1.0 | exact_match01/std: 0.0 | exact_match02: 1.0 | exact_match02/std: 0.0 | loss: 0.0001005710000754334 | loss/mean: 0.0001005710000754334 | loss/std: 0.0 | lr: 0.0001 | momentum: 0.9\n",
      "* Epoch (198/300) \n"
     ]
    },
    {
     "data": {
      "application/vnd.jupyter.widget-view+json": {
       "model_id": "b4c9c2e96e7c431ca9b4297752350428",
       "version_major": 2,
       "version_minor": 0
      },
      "text/plain": [
       "199/300 * Epoch (train):   0%|          | 0/1 [00:00<?, ?it/s]"
      ]
     },
     "metadata": {},
     "output_type": "display_data"
    },
    {
     "name": "stdout",
     "output_type": "stream",
     "text": [
      "train (199/300) loss: 0.0013006237568333745 | loss/mean: 0.0013006237568333745 | loss/std: 0.0 | lr: 0.0001 | momentum: 0.9\n"
     ]
    },
    {
     "data": {
      "application/vnd.jupyter.widget-view+json": {
       "model_id": "4941a13af88f4ae0a19f78f17d53914f",
       "version_major": 2,
       "version_minor": 0
      },
      "text/plain": [
       "199/300 * Epoch (valid):   0%|          | 0/1 [00:00<?, ?it/s]"
      ]
     },
     "metadata": {},
     "output_type": "display_data"
    },
    {
     "name": "stdout",
     "output_type": "stream",
     "text": [
      "valid (199/300) exact_match01: 1.0 | exact_match01/std: 0.0 | exact_match02: 1.0 | exact_match02/std: 0.0 | loss: 9.896417759591714e-05 | loss/mean: 9.896417759591714e-05 | loss/std: 0.0 | lr: 0.0001 | momentum: 0.9\n",
      "* Epoch (199/300) \n"
     ]
    },
    {
     "data": {
      "application/vnd.jupyter.widget-view+json": {
       "model_id": "2d4777c7ef2a438499e6ecde14af8c9b",
       "version_major": 2,
       "version_minor": 0
      },
      "text/plain": [
       "200/300 * Epoch (train):   0%|          | 0/1 [00:00<?, ?it/s]"
      ]
     },
     "metadata": {},
     "output_type": "display_data"
    },
    {
     "name": "stdout",
     "output_type": "stream",
     "text": [
      "train (200/300) loss: 0.002213324187323451 | loss/mean: 0.002213324187323451 | loss/std: 0.0 | lr: 0.0001 | momentum: 0.9\n"
     ]
    },
    {
     "data": {
      "application/vnd.jupyter.widget-view+json": {
       "model_id": "49fa307400ef4843b6452e5c63c003a7",
       "version_major": 2,
       "version_minor": 0
      },
      "text/plain": [
       "200/300 * Epoch (valid):   0%|          | 0/1 [00:00<?, ?it/s]"
      ]
     },
     "metadata": {},
     "output_type": "display_data"
    },
    {
     "name": "stdout",
     "output_type": "stream",
     "text": [
      "valid (200/300) exact_match01: 1.0 | exact_match01/std: 0.0 | exact_match02: 1.0 | exact_match02/std: 0.0 | loss: 9.737048094393685e-05 | loss/mean: 9.737048094393685e-05 | loss/std: 0.0 | lr: 0.0001 | momentum: 0.9\n",
      "* Epoch (200/300) \n"
     ]
    },
    {
     "data": {
      "application/vnd.jupyter.widget-view+json": {
       "model_id": "824b641dfd4a481d8ff1d87f47703ba5",
       "version_major": 2,
       "version_minor": 0
      },
      "text/plain": [
       "201/300 * Epoch (train):   0%|          | 0/1 [00:00<?, ?it/s]"
      ]
     },
     "metadata": {},
     "output_type": "display_data"
    },
    {
     "name": "stdout",
     "output_type": "stream",
     "text": [
      "train (201/300) loss: 0.02262766845524311 | loss/mean: 0.02262766845524311 | loss/std: 0.0 | lr: 0.0001 | momentum: 0.9\n"
     ]
    },
    {
     "data": {
      "application/vnd.jupyter.widget-view+json": {
       "model_id": "54348f8ac6d04c81bfbe92500549b9da",
       "version_major": 2,
       "version_minor": 0
      },
      "text/plain": [
       "201/300 * Epoch (valid):   0%|          | 0/1 [00:00<?, ?it/s]"
      ]
     },
     "metadata": {},
     "output_type": "display_data"
    },
    {
     "name": "stdout",
     "output_type": "stream",
     "text": [
      "valid (201/300) exact_match01: 1.0 | exact_match01/std: 0.0 | exact_match02: 1.0 | exact_match02/std: 0.0 | loss: 9.598909673513845e-05 | loss/mean: 9.598909673513845e-05 | loss/std: 0.0 | lr: 0.0001 | momentum: 0.9\n",
      "* Epoch (201/300) \n"
     ]
    },
    {
     "data": {
      "application/vnd.jupyter.widget-view+json": {
       "model_id": "af26586035954e4e82ba2c6a65d4e997",
       "version_major": 2,
       "version_minor": 0
      },
      "text/plain": [
       "202/300 * Epoch (train):   0%|          | 0/1 [00:00<?, ?it/s]"
      ]
     },
     "metadata": {},
     "output_type": "display_data"
    },
    {
     "name": "stdout",
     "output_type": "stream",
     "text": [
      "train (202/300) loss: 0.0036460014525800943 | loss/mean: 0.0036460014525800943 | loss/std: 0.0 | lr: 0.0001 | momentum: 0.9\n"
     ]
    },
    {
     "data": {
      "application/vnd.jupyter.widget-view+json": {
       "model_id": "8e9a4366251e44fea999a9965b3ba5ca",
       "version_major": 2,
       "version_minor": 0
      },
      "text/plain": [
       "202/300 * Epoch (valid):   0%|          | 0/1 [00:00<?, ?it/s]"
      ]
     },
     "metadata": {},
     "output_type": "display_data"
    },
    {
     "name": "stdout",
     "output_type": "stream",
     "text": [
      "valid (202/300) exact_match01: 1.0 | exact_match01/std: 0.0 | exact_match02: 1.0 | exact_match02/std: 0.0 | loss: 9.484737529419363e-05 | loss/mean: 9.484737529419363e-05 | loss/std: 0.0 | lr: 0.0001 | momentum: 0.9\n",
      "* Epoch (202/300) \n"
     ]
    },
    {
     "data": {
      "application/vnd.jupyter.widget-view+json": {
       "model_id": "230d016a8b9647edaaa7592565e34867",
       "version_major": 2,
       "version_minor": 0
      },
      "text/plain": [
       "203/300 * Epoch (train):   0%|          | 0/1 [00:00<?, ?it/s]"
      ]
     },
     "metadata": {},
     "output_type": "display_data"
    },
    {
     "name": "stdout",
     "output_type": "stream",
     "text": [
      "train (203/300) loss: 0.003234055358916521 | loss/mean: 0.003234055358916521 | loss/std: 0.0 | lr: 0.0001 | momentum: 0.9\n"
     ]
    },
    {
     "data": {
      "application/vnd.jupyter.widget-view+json": {
       "model_id": "0021a752d90c418e8c536052e5244439",
       "version_major": 2,
       "version_minor": 0
      },
      "text/plain": [
       "203/300 * Epoch (valid):   0%|          | 0/1 [00:00<?, ?it/s]"
      ]
     },
     "metadata": {},
     "output_type": "display_data"
    },
    {
     "name": "stdout",
     "output_type": "stream",
     "text": [
      "valid (203/300) exact_match01: 1.0 | exact_match01/std: 0.0 | exact_match02: 1.0 | exact_match02/std: 0.0 | loss: 9.40952668315731e-05 | loss/mean: 9.40952668315731e-05 | loss/std: 0.0 | lr: 0.0001 | momentum: 0.9\n",
      "* Epoch (203/300) \n"
     ]
    },
    {
     "data": {
      "application/vnd.jupyter.widget-view+json": {
       "model_id": "9141b44f3a884abbb018e604ad8a08dd",
       "version_major": 2,
       "version_minor": 0
      },
      "text/plain": [
       "204/300 * Epoch (train):   0%|          | 0/1 [00:00<?, ?it/s]"
      ]
     },
     "metadata": {},
     "output_type": "display_data"
    },
    {
     "name": "stdout",
     "output_type": "stream",
     "text": [
      "train (204/300) loss: 0.006565717980265617 | loss/mean: 0.006565717980265617 | loss/std: 0.0 | lr: 0.0001 | momentum: 0.9\n"
     ]
    },
    {
     "data": {
      "application/vnd.jupyter.widget-view+json": {
       "model_id": "e22c674456d642a0b6f9069b6e32d1b0",
       "version_major": 2,
       "version_minor": 0
      },
      "text/plain": [
       "204/300 * Epoch (valid):   0%|          | 0/1 [00:00<?, ?it/s]"
      ]
     },
     "metadata": {},
     "output_type": "display_data"
    },
    {
     "name": "stdout",
     "output_type": "stream",
     "text": [
      "valid (204/300) exact_match01: 1.0 | exact_match01/std: 0.0 | exact_match02: 1.0 | exact_match02/std: 0.0 | loss: 9.399495320394635e-05 | loss/mean: 9.399495320394635e-05 | loss/std: 0.0 | lr: 0.0001 | momentum: 0.9\n",
      "* Epoch (204/300) \n"
     ]
    },
    {
     "data": {
      "application/vnd.jupyter.widget-view+json": {
       "model_id": "070d235702954207b7c7c73508c13233",
       "version_major": 2,
       "version_minor": 0
      },
      "text/plain": [
       "205/300 * Epoch (train):   0%|          | 0/1 [00:00<?, ?it/s]"
      ]
     },
     "metadata": {},
     "output_type": "display_data"
    },
    {
     "name": "stdout",
     "output_type": "stream",
     "text": [
      "train (205/300) loss: 0.0012819261755794287 | loss/mean: 0.0012819261755794287 | loss/std: 0.0 | lr: 0.0001 | momentum: 0.9\n"
     ]
    },
    {
     "data": {
      "application/vnd.jupyter.widget-view+json": {
       "model_id": "4cef06066c6145ba88577bc672091143",
       "version_major": 2,
       "version_minor": 0
      },
      "text/plain": [
       "205/300 * Epoch (valid):   0%|          | 0/1 [00:00<?, ?it/s]"
      ]
     },
     "metadata": {},
     "output_type": "display_data"
    },
    {
     "name": "stdout",
     "output_type": "stream",
     "text": [
      "valid (205/300) exact_match01: 1.0 | exact_match01/std: 0.0 | exact_match02: 1.0 | exact_match02/std: 0.0 | loss: 9.462251182412729e-05 | loss/mean: 9.462251182412729e-05 | loss/std: 0.0 | lr: 0.0001 | momentum: 0.9\n",
      "* Epoch (205/300) \n"
     ]
    },
    {
     "data": {
      "application/vnd.jupyter.widget-view+json": {
       "model_id": "2c5d580cd6654757b9ac22f8336ef8a5",
       "version_major": 2,
       "version_minor": 0
      },
      "text/plain": [
       "206/300 * Epoch (train):   0%|          | 0/1 [00:00<?, ?it/s]"
      ]
     },
     "metadata": {},
     "output_type": "display_data"
    },
    {
     "name": "stdout",
     "output_type": "stream",
     "text": [
      "train (206/300) loss: 0.010939767584204674 | loss/mean: 0.010939767584204674 | loss/std: 0.0 | lr: 0.0001 | momentum: 0.9\n"
     ]
    },
    {
     "data": {
      "application/vnd.jupyter.widget-view+json": {
       "model_id": "8d9adb7a7c0d4b10936dbd4a45398383",
       "version_major": 2,
       "version_minor": 0
      },
      "text/plain": [
       "206/300 * Epoch (valid):   0%|          | 0/1 [00:00<?, ?it/s]"
      ]
     },
     "metadata": {},
     "output_type": "display_data"
    },
    {
     "name": "stdout",
     "output_type": "stream",
     "text": [
      "valid (206/300) exact_match01: 1.0 | exact_match01/std: 0.0 | exact_match02: 1.0 | exact_match02/std: 0.0 | loss: 9.646765829529613e-05 | loss/mean: 9.646765829529613e-05 | loss/std: 0.0 | lr: 0.0001 | momentum: 0.9\n",
      "* Epoch (206/300) \n"
     ]
    },
    {
     "data": {
      "application/vnd.jupyter.widget-view+json": {
       "model_id": "0584e4ad1ee54af3b5a112ece04f1b98",
       "version_major": 2,
       "version_minor": 0
      },
      "text/plain": [
       "207/300 * Epoch (train):   0%|          | 0/1 [00:00<?, ?it/s]"
      ]
     },
     "metadata": {},
     "output_type": "display_data"
    },
    {
     "name": "stdout",
     "output_type": "stream",
     "text": [
      "train (207/300) loss: 0.001379456021822989 | loss/mean: 0.001379456021822989 | loss/std: 0.0 | lr: 0.0001 | momentum: 0.9\n"
     ]
    },
    {
     "data": {
      "application/vnd.jupyter.widget-view+json": {
       "model_id": "f49899df5457421f9f249c5983019fb5",
       "version_major": 2,
       "version_minor": 0
      },
      "text/plain": [
       "207/300 * Epoch (valid):   0%|          | 0/1 [00:00<?, ?it/s]"
      ]
     },
     "metadata": {},
     "output_type": "display_data"
    },
    {
     "name": "stdout",
     "output_type": "stream",
     "text": [
      "valid (207/300) exact_match01: 1.0 | exact_match01/std: 0.0 | exact_match02: 1.0 | exact_match02/std: 0.0 | loss: 9.906083141686395e-05 | loss/mean: 9.906083141686395e-05 | loss/std: 0.0 | lr: 0.0001 | momentum: 0.9\n",
      "* Epoch (207/300) \n"
     ]
    },
    {
     "data": {
      "application/vnd.jupyter.widget-view+json": {
       "model_id": "1c11075a94274fd6a39e89650a945567",
       "version_major": 2,
       "version_minor": 0
      },
      "text/plain": [
       "208/300 * Epoch (train):   0%|          | 0/1 [00:00<?, ?it/s]"
      ]
     },
     "metadata": {},
     "output_type": "display_data"
    },
    {
     "name": "stdout",
     "output_type": "stream",
     "text": [
      "train (208/300) loss: 0.0049204290844500065 | loss/mean: 0.0049204290844500065 | loss/std: 0.0 | lr: 0.0001 | momentum: 0.9\n"
     ]
    },
    {
     "data": {
      "application/vnd.jupyter.widget-view+json": {
       "model_id": "ee63a24711ba412eb81d04fba514ca72",
       "version_major": 2,
       "version_minor": 0
      },
      "text/plain": [
       "208/300 * Epoch (valid):   0%|          | 0/1 [00:00<?, ?it/s]"
      ]
     },
     "metadata": {},
     "output_type": "display_data"
    },
    {
     "name": "stdout",
     "output_type": "stream",
     "text": [
      "valid (208/300) exact_match01: 1.0 | exact_match01/std: 0.0 | exact_match02: 1.0 | exact_match02/std: 0.0 | loss: 0.00010212902998318896 | loss/mean: 0.00010212902998318896 | loss/std: 0.0 | lr: 0.0001 | momentum: 0.9\n",
      "* Epoch (208/300) \n"
     ]
    },
    {
     "data": {
      "application/vnd.jupyter.widget-view+json": {
       "model_id": "4ee89ef878ce4b538c02e1895553c045",
       "version_major": 2,
       "version_minor": 0
      },
      "text/plain": [
       "209/300 * Epoch (train):   0%|          | 0/1 [00:00<?, ?it/s]"
      ]
     },
     "metadata": {},
     "output_type": "display_data"
    },
    {
     "name": "stdout",
     "output_type": "stream",
     "text": [
      "train (209/300) loss: 0.0024822610430419445 | loss/mean: 0.0024822610430419445 | loss/std: 0.0 | lr: 0.0001 | momentum: 0.9\n"
     ]
    },
    {
     "data": {
      "application/vnd.jupyter.widget-view+json": {
       "model_id": "f2dd1d0b85714cbeae6b9995c96eb2c0",
       "version_major": 2,
       "version_minor": 0
      },
      "text/plain": [
       "209/300 * Epoch (valid):   0%|          | 0/1 [00:00<?, ?it/s]"
      ]
     },
     "metadata": {},
     "output_type": "display_data"
    },
    {
     "name": "stdout",
     "output_type": "stream",
     "text": [
      "valid (209/300) exact_match01: 1.0 | exact_match01/std: 0.0 | exact_match02: 1.0 | exact_match02/std: 0.0 | loss: 0.00010475121234776452 | loss/mean: 0.00010475121234776452 | loss/std: 0.0 | lr: 0.0001 | momentum: 0.9\n",
      "* Epoch (209/300) \n"
     ]
    },
    {
     "data": {
      "application/vnd.jupyter.widget-view+json": {
       "model_id": "78d8a12466834f659c45142930165ffd",
       "version_major": 2,
       "version_minor": 0
      },
      "text/plain": [
       "210/300 * Epoch (train):   0%|          | 0/1 [00:00<?, ?it/s]"
      ]
     },
     "metadata": {},
     "output_type": "display_data"
    },
    {
     "name": "stdout",
     "output_type": "stream",
     "text": [
      "train (210/300) loss: 0.002582073910161853 | loss/mean: 0.002582073910161853 | loss/std: 0.0 | lr: 0.0001 | momentum: 0.9\n"
     ]
    },
    {
     "data": {
      "application/vnd.jupyter.widget-view+json": {
       "model_id": "38967d1be5834f149e5b89ebaf36045c",
       "version_major": 2,
       "version_minor": 0
      },
      "text/plain": [
       "210/300 * Epoch (valid):   0%|          | 0/1 [00:00<?, ?it/s]"
      ]
     },
     "metadata": {},
     "output_type": "display_data"
    },
    {
     "name": "stdout",
     "output_type": "stream",
     "text": [
      "valid (210/300) exact_match01: 1.0 | exact_match01/std: 0.0 | exact_match02: 1.0 | exact_match02/std: 0.0 | loss: 0.00010761834710137919 | loss/mean: 0.00010761834710137919 | loss/std: 0.0 | lr: 0.0001 | momentum: 0.9\n",
      "* Epoch (210/300) \n"
     ]
    },
    {
     "data": {
      "application/vnd.jupyter.widget-view+json": {
       "model_id": "315da2513b8d4803b5f1d0b2df56ee90",
       "version_major": 2,
       "version_minor": 0
      },
      "text/plain": [
       "211/300 * Epoch (train):   0%|          | 0/1 [00:00<?, ?it/s]"
      ]
     },
     "metadata": {},
     "output_type": "display_data"
    },
    {
     "name": "stdout",
     "output_type": "stream",
     "text": [
      "train (211/300) loss: 0.0016219478566199541 | loss/mean: 0.0016219478566199541 | loss/std: 0.0 | lr: 0.0001 | momentum: 0.9\n"
     ]
    },
    {
     "data": {
      "application/vnd.jupyter.widget-view+json": {
       "model_id": "23f81c90f5a24f2284b68d1c2fb53e26",
       "version_major": 2,
       "version_minor": 0
      },
      "text/plain": [
       "211/300 * Epoch (valid):   0%|          | 0/1 [00:00<?, ?it/s]"
      ]
     },
     "metadata": {},
     "output_type": "display_data"
    },
    {
     "name": "stdout",
     "output_type": "stream",
     "text": [
      "valid (211/300) exact_match01: 1.0 | exact_match01/std: 0.0 | exact_match02: 1.0 | exact_match02/std: 0.0 | loss: 0.00011077434464823455 | loss/mean: 0.00011077434464823455 | loss/std: 0.0 | lr: 0.0001 | momentum: 0.9\n",
      "* Epoch (211/300) \n"
     ]
    },
    {
     "data": {
      "application/vnd.jupyter.widget-view+json": {
       "model_id": "4ae1dc7a77a245f58a0ae1ca6048bb72",
       "version_major": 2,
       "version_minor": 0
      },
      "text/plain": [
       "212/300 * Epoch (train):   0%|          | 0/1 [00:00<?, ?it/s]"
      ]
     },
     "metadata": {},
     "output_type": "display_data"
    },
    {
     "name": "stdout",
     "output_type": "stream",
     "text": [
      "train (212/300) loss: 0.003123366041108966 | loss/mean: 0.003123366041108966 | loss/std: 0.0 | lr: 0.0001 | momentum: 0.9\n"
     ]
    },
    {
     "data": {
      "application/vnd.jupyter.widget-view+json": {
       "model_id": "e571135935384301bc74c2cb74f53c1d",
       "version_major": 2,
       "version_minor": 0
      },
      "text/plain": [
       "212/300 * Epoch (valid):   0%|          | 0/1 [00:00<?, ?it/s]"
      ]
     },
     "metadata": {},
     "output_type": "display_data"
    },
    {
     "name": "stdout",
     "output_type": "stream",
     "text": [
      "valid (212/300) exact_match01: 1.0 | exact_match01/std: 0.0 | exact_match02: 1.0 | exact_match02/std: 0.0 | loss: 0.00011406898556742817 | loss/mean: 0.00011406898556742817 | loss/std: 0.0 | lr: 0.0001 | momentum: 0.9\n",
      "* Epoch (212/300) \n"
     ]
    },
    {
     "data": {
      "application/vnd.jupyter.widget-view+json": {
       "model_id": "5d8e315f1ebf4eafa31234dfce7e4a37",
       "version_major": 2,
       "version_minor": 0
      },
      "text/plain": [
       "213/300 * Epoch (train):   0%|          | 0/1 [00:00<?, ?it/s]"
      ]
     },
     "metadata": {},
     "output_type": "display_data"
    },
    {
     "name": "stdout",
     "output_type": "stream",
     "text": [
      "train (213/300) loss: 0.0038883700035512447 | loss/mean: 0.0038883700035512447 | loss/std: 0.0 | lr: 0.0001 | momentum: 0.9\n"
     ]
    },
    {
     "data": {
      "application/vnd.jupyter.widget-view+json": {
       "model_id": "f56e768b7d114725b324ca32f85f1f1a",
       "version_major": 2,
       "version_minor": 0
      },
      "text/plain": [
       "213/300 * Epoch (valid):   0%|          | 0/1 [00:00<?, ?it/s]"
      ]
     },
     "metadata": {},
     "output_type": "display_data"
    },
    {
     "name": "stdout",
     "output_type": "stream",
     "text": [
      "valid (213/300) exact_match01: 1.0 | exact_match01/std: 0.0 | exact_match02: 1.0 | exact_match02/std: 0.0 | loss: 0.00011731261474778876 | loss/mean: 0.00011731261474778876 | loss/std: 0.0 | lr: 0.0001 | momentum: 0.9\n",
      "* Epoch (213/300) \n"
     ]
    },
    {
     "data": {
      "application/vnd.jupyter.widget-view+json": {
       "model_id": "e4c18340bac24a6e9ea95c9b2a547bfc",
       "version_major": 2,
       "version_minor": 0
      },
      "text/plain": [
       "214/300 * Epoch (train):   0%|          | 0/1 [00:00<?, ?it/s]"
      ]
     },
     "metadata": {},
     "output_type": "display_data"
    },
    {
     "name": "stdout",
     "output_type": "stream",
     "text": [
      "train (214/300) loss: 0.002041089115664363 | loss/mean: 0.002041089115664363 | loss/std: 0.0 | lr: 0.0001 | momentum: 0.9\n"
     ]
    },
    {
     "data": {
      "application/vnd.jupyter.widget-view+json": {
       "model_id": "378c4ae113b94d019c1a74029e9edb4d",
       "version_major": 2,
       "version_minor": 0
      },
      "text/plain": [
       "214/300 * Epoch (valid):   0%|          | 0/1 [00:00<?, ?it/s]"
      ]
     },
     "metadata": {},
     "output_type": "display_data"
    },
    {
     "name": "stdout",
     "output_type": "stream",
     "text": [
      "valid (214/300) exact_match01: 1.0 | exact_match01/std: 0.0 | exact_match02: 1.0 | exact_match02/std: 0.0 | loss: 0.00012058032007189468 | loss/mean: 0.00012058032007189468 | loss/std: 0.0 | lr: 0.0001 | momentum: 0.9\n",
      "* Epoch (214/300) \n"
     ]
    },
    {
     "data": {
      "application/vnd.jupyter.widget-view+json": {
       "model_id": "a21db96c59834762847d7e4e3eb26196",
       "version_major": 2,
       "version_minor": 0
      },
      "text/plain": [
       "215/300 * Epoch (train):   0%|          | 0/1 [00:00<?, ?it/s]"
      ]
     },
     "metadata": {},
     "output_type": "display_data"
    },
    {
     "name": "stdout",
     "output_type": "stream",
     "text": [
      "train (215/300) loss: 0.002887866459786892 | loss/mean: 0.002887866459786892 | loss/std: 0.0 | lr: 0.0001 | momentum: 0.9\n"
     ]
    },
    {
     "data": {
      "application/vnd.jupyter.widget-view+json": {
       "model_id": "c8f2609635224f6c925b32bfa389224f",
       "version_major": 2,
       "version_minor": 0
      },
      "text/plain": [
       "215/300 * Epoch (valid):   0%|          | 0/1 [00:00<?, ?it/s]"
      ]
     },
     "metadata": {},
     "output_type": "display_data"
    },
    {
     "name": "stdout",
     "output_type": "stream",
     "text": [
      "valid (215/300) exact_match01: 1.0 | exact_match01/std: 0.0 | exact_match02: 1.0 | exact_match02/std: 0.0 | loss: 0.00012305943528190255 | loss/mean: 0.00012305943528190255 | loss/std: 0.0 | lr: 0.0001 | momentum: 0.9\n",
      "* Epoch (215/300) \n"
     ]
    },
    {
     "data": {
      "application/vnd.jupyter.widget-view+json": {
       "model_id": "e2da94a134da4fb18e37aa6e230f26f8",
       "version_major": 2,
       "version_minor": 0
      },
      "text/plain": [
       "216/300 * Epoch (train):   0%|          | 0/1 [00:00<?, ?it/s]"
      ]
     },
     "metadata": {},
     "output_type": "display_data"
    },
    {
     "name": "stdout",
     "output_type": "stream",
     "text": [
      "train (216/300) loss: 0.014424311928451061 | loss/mean: 0.014424311928451061 | loss/std: 0.0 | lr: 0.0001 | momentum: 0.9\n"
     ]
    },
    {
     "data": {
      "application/vnd.jupyter.widget-view+json": {
       "model_id": "92282e51e03045429cff5e790820ae49",
       "version_major": 2,
       "version_minor": 0
      },
      "text/plain": [
       "216/300 * Epoch (valid):   0%|          | 0/1 [00:00<?, ?it/s]"
      ]
     },
     "metadata": {},
     "output_type": "display_data"
    },
    {
     "name": "stdout",
     "output_type": "stream",
     "text": [
      "valid (216/300) exact_match01: 1.0 | exact_match01/std: 0.0 | exact_match02: 1.0 | exact_match02/std: 0.0 | loss: 0.0001122384492191486 | loss/mean: 0.0001122384492191486 | loss/std: 0.0 | lr: 0.0001 | momentum: 0.9\n",
      "* Epoch (216/300) \n"
     ]
    },
    {
     "data": {
      "application/vnd.jupyter.widget-view+json": {
       "model_id": "39c990f40ca4411e906bab445db99696",
       "version_major": 2,
       "version_minor": 0
      },
      "text/plain": [
       "217/300 * Epoch (train):   0%|          | 0/1 [00:00<?, ?it/s]"
      ]
     },
     "metadata": {},
     "output_type": "display_data"
    },
    {
     "name": "stdout",
     "output_type": "stream",
     "text": [
      "train (217/300) loss: 0.005806223955005407 | loss/mean: 0.005806223955005407 | loss/std: 0.0 | lr: 0.0001 | momentum: 0.9\n"
     ]
    },
    {
     "data": {
      "application/vnd.jupyter.widget-view+json": {
       "model_id": "92cbe1e16310461e946f56d39ed16abc",
       "version_major": 2,
       "version_minor": 0
      },
      "text/plain": [
       "217/300 * Epoch (valid):   0%|          | 0/1 [00:00<?, ?it/s]"
      ]
     },
     "metadata": {},
     "output_type": "display_data"
    },
    {
     "name": "stdout",
     "output_type": "stream",
     "text": [
      "valid (217/300) exact_match01: 1.0 | exact_match01/std: 0.0 | exact_match02: 1.0 | exact_match02/std: 0.0 | loss: 0.00010485581151442602 | loss/mean: 0.00010485581151442602 | loss/std: 0.0 | lr: 0.0001 | momentum: 0.9\n",
      "* Epoch (217/300) \n"
     ]
    },
    {
     "data": {
      "application/vnd.jupyter.widget-view+json": {
       "model_id": "baa876fa4717415688b5ba84ef034d2a",
       "version_major": 2,
       "version_minor": 0
      },
      "text/plain": [
       "218/300 * Epoch (train):   0%|          | 0/1 [00:00<?, ?it/s]"
      ]
     },
     "metadata": {},
     "output_type": "display_data"
    },
    {
     "name": "stdout",
     "output_type": "stream",
     "text": [
      "train (218/300) loss: 0.005702359601855278 | loss/mean: 0.005702359601855278 | loss/std: 0.0 | lr: 0.0001 | momentum: 0.9\n"
     ]
    },
    {
     "data": {
      "application/vnd.jupyter.widget-view+json": {
       "model_id": "ecd2ef6b2fac4b3781f24a617b65d3ac",
       "version_major": 2,
       "version_minor": 0
      },
      "text/plain": [
       "218/300 * Epoch (valid):   0%|          | 0/1 [00:00<?, ?it/s]"
      ]
     },
     "metadata": {},
     "output_type": "display_data"
    },
    {
     "name": "stdout",
     "output_type": "stream",
     "text": [
      "valid (218/300) exact_match01: 1.0 | exact_match01/std: 0.0 | exact_match02: 1.0 | exact_match02/std: 0.0 | loss: 9.954169217962772e-05 | loss/mean: 9.954169217962772e-05 | loss/std: 0.0 | lr: 0.0001 | momentum: 0.9\n",
      "* Epoch (218/300) \n"
     ]
    },
    {
     "data": {
      "application/vnd.jupyter.widget-view+json": {
       "model_id": "971126b3914f42e5afe303921b5beaa0",
       "version_major": 2,
       "version_minor": 0
      },
      "text/plain": [
       "219/300 * Epoch (train):   0%|          | 0/1 [00:00<?, ?it/s]"
      ]
     },
     "metadata": {},
     "output_type": "display_data"
    },
    {
     "name": "stdout",
     "output_type": "stream",
     "text": [
      "train (219/300) loss: 0.0023725503124296665 | loss/mean: 0.0023725503124296665 | loss/std: 0.0 | lr: 0.0001 | momentum: 0.9\n"
     ]
    },
    {
     "data": {
      "application/vnd.jupyter.widget-view+json": {
       "model_id": "dbcbffdee88b49e1a3858b6c90874719",
       "version_major": 2,
       "version_minor": 0
      },
      "text/plain": [
       "219/300 * Epoch (valid):   0%|          | 0/1 [00:00<?, ?it/s]"
      ]
     },
     "metadata": {},
     "output_type": "display_data"
    },
    {
     "name": "stdout",
     "output_type": "stream",
     "text": [
      "valid (219/300) exact_match01: 1.0 | exact_match01/std: 0.0 | exact_match02: 1.0 | exact_match02/std: 0.0 | loss: 9.546940418658778e-05 | loss/mean: 9.546940418658778e-05 | loss/std: 0.0 | lr: 0.0001 | momentum: 0.9\n",
      "* Epoch (219/300) \n"
     ]
    },
    {
     "data": {
      "application/vnd.jupyter.widget-view+json": {
       "model_id": "da10454a382541909d2bd20f72201042",
       "version_major": 2,
       "version_minor": 0
      },
      "text/plain": [
       "220/300 * Epoch (train):   0%|          | 0/1 [00:00<?, ?it/s]"
      ]
     },
     "metadata": {},
     "output_type": "display_data"
    },
    {
     "name": "stdout",
     "output_type": "stream",
     "text": [
      "train (220/300) loss: 0.00286299642175436 | loss/mean: 0.00286299642175436 | loss/std: 0.0 | lr: 0.0001 | momentum: 0.9\n"
     ]
    },
    {
     "data": {
      "application/vnd.jupyter.widget-view+json": {
       "model_id": "cd415be33ed3408088502b4f897b3d1e",
       "version_major": 2,
       "version_minor": 0
      },
      "text/plain": [
       "220/300 * Epoch (valid):   0%|          | 0/1 [00:00<?, ?it/s]"
      ]
     },
     "metadata": {},
     "output_type": "display_data"
    },
    {
     "name": "stdout",
     "output_type": "stream",
     "text": [
      "valid (220/300) exact_match01: 1.0 | exact_match01/std: 0.0 | exact_match02: 1.0 | exact_match02/std: 0.0 | loss: 9.223920642398298e-05 | loss/mean: 9.223920642398298e-05 | loss/std: 0.0 | lr: 0.0001 | momentum: 0.9\n",
      "* Epoch (220/300) \n"
     ]
    },
    {
     "data": {
      "application/vnd.jupyter.widget-view+json": {
       "model_id": "c0004d09a33b44c1a096d3fbab6fb621",
       "version_major": 2,
       "version_minor": 0
      },
      "text/plain": [
       "221/300 * Epoch (train):   0%|          | 0/1 [00:00<?, ?it/s]"
      ]
     },
     "metadata": {},
     "output_type": "display_data"
    },
    {
     "name": "stdout",
     "output_type": "stream",
     "text": [
      "train (221/300) loss: 0.0016482843784615397 | loss/mean: 0.0016482843784615397 | loss/std: 0.0 | lr: 0.0001 | momentum: 0.9\n"
     ]
    },
    {
     "data": {
      "application/vnd.jupyter.widget-view+json": {
       "model_id": "7a35723989744b39af41463e058127d7",
       "version_major": 2,
       "version_minor": 0
      },
      "text/plain": [
       "221/300 * Epoch (valid):   0%|          | 0/1 [00:00<?, ?it/s]"
      ]
     },
     "metadata": {},
     "output_type": "display_data"
    },
    {
     "name": "stdout",
     "output_type": "stream",
     "text": [
      "valid (221/300) exact_match01: 1.0 | exact_match01/std: 0.0 | exact_match02: 1.0 | exact_match02/std: 0.0 | loss: 8.965466258814558e-05 | loss/mean: 8.965466258814558e-05 | loss/std: 0.0 | lr: 0.0001 | momentum: 0.9\n",
      "* Epoch (221/300) \n"
     ]
    },
    {
     "data": {
      "application/vnd.jupyter.widget-view+json": {
       "model_id": "095b445b5a3b4820a0548f123bb63318",
       "version_major": 2,
       "version_minor": 0
      },
      "text/plain": [
       "222/300 * Epoch (train):   0%|          | 0/1 [00:00<?, ?it/s]"
      ]
     },
     "metadata": {},
     "output_type": "display_data"
    },
    {
     "name": "stdout",
     "output_type": "stream",
     "text": [
      "train (222/300) loss: 0.0028827604837715626 | loss/mean: 0.0028827604837715626 | loss/std: 0.0 | lr: 0.0001 | momentum: 0.9\n"
     ]
    },
    {
     "data": {
      "application/vnd.jupyter.widget-view+json": {
       "model_id": "871725cacffa4b86b2b20ea744c80ccc",
       "version_major": 2,
       "version_minor": 0
      },
      "text/plain": [
       "222/300 * Epoch (valid):   0%|          | 0/1 [00:00<?, ?it/s]"
      ]
     },
     "metadata": {},
     "output_type": "display_data"
    },
    {
     "name": "stdout",
     "output_type": "stream",
     "text": [
      "valid (222/300) exact_match01: 1.0 | exact_match01/std: 0.0 | exact_match02: 1.0 | exact_match02/std: 0.0 | loss: 8.762771904002875e-05 | loss/mean: 8.762771904002875e-05 | loss/std: 0.0 | lr: 0.0001 | momentum: 0.9\n",
      "* Epoch (222/300) \n"
     ]
    },
    {
     "data": {
      "application/vnd.jupyter.widget-view+json": {
       "model_id": "3022f33aedb846189796187d15df08a2",
       "version_major": 2,
       "version_minor": 0
      },
      "text/plain": [
       "223/300 * Epoch (train):   0%|          | 0/1 [00:00<?, ?it/s]"
      ]
     },
     "metadata": {},
     "output_type": "display_data"
    },
    {
     "name": "stdout",
     "output_type": "stream",
     "text": [
      "train (223/300) loss: 0.004365416243672371 | loss/mean: 0.004365416243672371 | loss/std: 0.0 | lr: 0.0001 | momentum: 0.9\n"
     ]
    },
    {
     "data": {
      "application/vnd.jupyter.widget-view+json": {
       "model_id": "86a6ee2ac57f4edcb592d623505a2394",
       "version_major": 2,
       "version_minor": 0
      },
      "text/plain": [
       "223/300 * Epoch (valid):   0%|          | 0/1 [00:00<?, ?it/s]"
      ]
     },
     "metadata": {},
     "output_type": "display_data"
    },
    {
     "name": "stdout",
     "output_type": "stream",
     "text": [
      "valid (223/300) exact_match01: 1.0 | exact_match01/std: 0.0 | exact_match02: 1.0 | exact_match02/std: 0.0 | loss: 8.578065171604976e-05 | loss/mean: 8.578065171604976e-05 | loss/std: 0.0 | lr: 0.0001 | momentum: 0.9\n",
      "* Epoch (223/300) \n"
     ]
    },
    {
     "data": {
      "application/vnd.jupyter.widget-view+json": {
       "model_id": "44a56cce078e4019a1af800a0b1e2cf2",
       "version_major": 2,
       "version_minor": 0
      },
      "text/plain": [
       "224/300 * Epoch (train):   0%|          | 0/1 [00:00<?, ?it/s]"
      ]
     },
     "metadata": {},
     "output_type": "display_data"
    },
    {
     "name": "stdout",
     "output_type": "stream",
     "text": [
      "train (224/300) loss: 0.003274145070463419 | loss/mean: 0.003274145070463419 | loss/std: 0.0 | lr: 0.0001 | momentum: 0.9\n"
     ]
    },
    {
     "data": {
      "application/vnd.jupyter.widget-view+json": {
       "model_id": "3794008944394db0b980d032cdf5f5cd",
       "version_major": 2,
       "version_minor": 0
      },
      "text/plain": [
       "224/300 * Epoch (valid):   0%|          | 0/1 [00:00<?, ?it/s]"
      ]
     },
     "metadata": {},
     "output_type": "display_data"
    },
    {
     "name": "stdout",
     "output_type": "stream",
     "text": [
      "valid (224/300) exact_match01: 1.0 | exact_match01/std: 0.0 | exact_match02: 1.0 | exact_match02/std: 0.0 | loss: 8.412182069150731e-05 | loss/mean: 8.412182069150731e-05 | loss/std: 0.0 | lr: 0.0001 | momentum: 0.9\n",
      "* Epoch (224/300) \n"
     ]
    },
    {
     "data": {
      "application/vnd.jupyter.widget-view+json": {
       "model_id": "2b80e489d42149baac08a78e797ed352",
       "version_major": 2,
       "version_minor": 0
      },
      "text/plain": [
       "225/300 * Epoch (train):   0%|          | 0/1 [00:00<?, ?it/s]"
      ]
     },
     "metadata": {},
     "output_type": "display_data"
    },
    {
     "name": "stdout",
     "output_type": "stream",
     "text": [
      "train (225/300) loss: 0.0015250684227794409 | loss/mean: 0.0015250684227794409 | loss/std: 0.0 | lr: 0.0001 | momentum: 0.9\n"
     ]
    },
    {
     "data": {
      "application/vnd.jupyter.widget-view+json": {
       "model_id": "d9aa4f92f2e0497982734683fc1d615b",
       "version_major": 2,
       "version_minor": 0
      },
      "text/plain": [
       "225/300 * Epoch (valid):   0%|          | 0/1 [00:00<?, ?it/s]"
      ]
     },
     "metadata": {},
     "output_type": "display_data"
    },
    {
     "name": "stdout",
     "output_type": "stream",
     "text": [
      "valid (225/300) exact_match01: 1.0 | exact_match01/std: 0.0 | exact_match02: 1.0 | exact_match02/std: 0.0 | loss: 8.271086699096486e-05 | loss/mean: 8.271086699096486e-05 | loss/std: 0.0 | lr: 0.0001 | momentum: 0.9\n",
      "* Epoch (225/300) \n"
     ]
    },
    {
     "data": {
      "application/vnd.jupyter.widget-view+json": {
       "model_id": "493d5b4804e74b0abc4d419b9212786c",
       "version_major": 2,
       "version_minor": 0
      },
      "text/plain": [
       "226/300 * Epoch (train):   0%|          | 0/1 [00:00<?, ?it/s]"
      ]
     },
     "metadata": {},
     "output_type": "display_data"
    },
    {
     "name": "stdout",
     "output_type": "stream",
     "text": [
      "train (226/300) loss: 0.0018303273245692253 | loss/mean: 0.0018303273245692253 | loss/std: 0.0 | lr: 0.0001 | momentum: 0.9\n"
     ]
    },
    {
     "data": {
      "application/vnd.jupyter.widget-view+json": {
       "model_id": "8c8286dd45ea43088656dc1cb63071b3",
       "version_major": 2,
       "version_minor": 0
      },
      "text/plain": [
       "226/300 * Epoch (valid):   0%|          | 0/1 [00:00<?, ?it/s]"
      ]
     },
     "metadata": {},
     "output_type": "display_data"
    },
    {
     "name": "stdout",
     "output_type": "stream",
     "text": [
      "valid (226/300) exact_match01: 1.0 | exact_match01/std: 0.0 | exact_match02: 1.0 | exact_match02/std: 0.0 | loss: 8.137258555507287e-05 | loss/mean: 8.137258555507287e-05 | loss/std: 0.0 | lr: 0.0001 | momentum: 0.9\n",
      "* Epoch (226/300) \n"
     ]
    },
    {
     "data": {
      "application/vnd.jupyter.widget-view+json": {
       "model_id": "c2478a351158440c857c2944a55b01bf",
       "version_major": 2,
       "version_minor": 0
      },
      "text/plain": [
       "227/300 * Epoch (train):   0%|          | 0/1 [00:00<?, ?it/s]"
      ]
     },
     "metadata": {},
     "output_type": "display_data"
    },
    {
     "name": "stdout",
     "output_type": "stream",
     "text": [
      "train (227/300) loss: 0.0027879795525223017 | loss/mean: 0.0027879795525223017 | loss/std: 0.0 | lr: 0.0001 | momentum: 0.9\n"
     ]
    },
    {
     "data": {
      "application/vnd.jupyter.widget-view+json": {
       "model_id": "073fe9f759a340b0a05b61476dab4ef1",
       "version_major": 2,
       "version_minor": 0
      },
      "text/plain": [
       "227/300 * Epoch (valid):   0%|          | 0/1 [00:00<?, ?it/s]"
      ]
     },
     "metadata": {},
     "output_type": "display_data"
    },
    {
     "name": "stdout",
     "output_type": "stream",
     "text": [
      "valid (227/300) exact_match01: 1.0 | exact_match01/std: 0.0 | exact_match02: 1.0 | exact_match02/std: 0.0 | loss: 8.012609760044143e-05 | loss/mean: 8.012609760044143e-05 | loss/std: 0.0 | lr: 0.0001 | momentum: 0.9\n",
      "* Epoch (227/300) \n"
     ]
    },
    {
     "data": {
      "application/vnd.jupyter.widget-view+json": {
       "model_id": "869525977a3d48e082d860eab58c4a44",
       "version_major": 2,
       "version_minor": 0
      },
      "text/plain": [
       "228/300 * Epoch (train):   0%|          | 0/1 [00:00<?, ?it/s]"
      ]
     },
     "metadata": {},
     "output_type": "display_data"
    },
    {
     "name": "stdout",
     "output_type": "stream",
     "text": [
      "train (228/300) loss: 0.017464587464928627 | loss/mean: 0.017464587464928627 | loss/std: 0.0 | lr: 0.0001 | momentum: 0.9\n"
     ]
    },
    {
     "data": {
      "application/vnd.jupyter.widget-view+json": {
       "model_id": "ad6809198eab4d368d32591ac20ebd66",
       "version_major": 2,
       "version_minor": 0
      },
      "text/plain": [
       "228/300 * Epoch (valid):   0%|          | 0/1 [00:00<?, ?it/s]"
      ]
     },
     "metadata": {},
     "output_type": "display_data"
    },
    {
     "name": "stdout",
     "output_type": "stream",
     "text": [
      "valid (228/300) exact_match01: 1.0 | exact_match01/std: 0.0 | exact_match02: 1.0 | exact_match02/std: 0.0 | loss: 7.977808854775503e-05 | loss/mean: 7.977808854775503e-05 | loss/std: 0.0 | lr: 0.0001 | momentum: 0.9\n",
      "* Epoch (228/300) \n"
     ]
    },
    {
     "data": {
      "application/vnd.jupyter.widget-view+json": {
       "model_id": "ba775bb31f614545a8593b281b5d02ec",
       "version_major": 2,
       "version_minor": 0
      },
      "text/plain": [
       "229/300 * Epoch (train):   0%|          | 0/1 [00:00<?, ?it/s]"
      ]
     },
     "metadata": {},
     "output_type": "display_data"
    },
    {
     "name": "stdout",
     "output_type": "stream",
     "text": [
      "train (229/300) loss: 0.0027000620029866695 | loss/mean: 0.0027000620029866695 | loss/std: 0.0 | lr: 0.0001 | momentum: 0.9\n"
     ]
    },
    {
     "data": {
      "application/vnd.jupyter.widget-view+json": {
       "model_id": "966f55bc7bcd4056966b77cf53355684",
       "version_major": 2,
       "version_minor": 0
      },
      "text/plain": [
       "229/300 * Epoch (valid):   0%|          | 0/1 [00:00<?, ?it/s]"
      ]
     },
     "metadata": {},
     "output_type": "display_data"
    },
    {
     "name": "stdout",
     "output_type": "stream",
     "text": [
      "valid (229/300) exact_match01: 1.0 | exact_match01/std: 0.0 | exact_match02: 1.0 | exact_match02/std: 0.0 | loss: 7.944440585561097e-05 | loss/mean: 7.944440585561097e-05 | loss/std: 0.0 | lr: 0.0001 | momentum: 0.9\n",
      "* Epoch (229/300) \n"
     ]
    },
    {
     "data": {
      "application/vnd.jupyter.widget-view+json": {
       "model_id": "75d18a48498449ce87ededcc26ae5806",
       "version_major": 2,
       "version_minor": 0
      },
      "text/plain": [
       "230/300 * Epoch (train):   0%|          | 0/1 [00:00<?, ?it/s]"
      ]
     },
     "metadata": {},
     "output_type": "display_data"
    },
    {
     "name": "stdout",
     "output_type": "stream",
     "text": [
      "train (230/300) loss: 0.0013734984677284956 | loss/mean: 0.0013734984677284956 | loss/std: 0.0 | lr: 0.0001 | momentum: 0.9\n"
     ]
    },
    {
     "data": {
      "application/vnd.jupyter.widget-view+json": {
       "model_id": "53a6a7d751914ecf9722ac3e732f3ac7",
       "version_major": 2,
       "version_minor": 0
      },
      "text/plain": [
       "230/300 * Epoch (valid):   0%|          | 0/1 [00:00<?, ?it/s]"
      ]
     },
     "metadata": {},
     "output_type": "display_data"
    },
    {
     "name": "stdout",
     "output_type": "stream",
     "text": [
      "valid (230/300) exact_match01: 1.0 | exact_match01/std: 0.0 | exact_match02: 1.0 | exact_match02/std: 0.0 | loss: 7.91095444583334e-05 | loss/mean: 7.91095444583334e-05 | loss/std: 0.0 | lr: 0.0001 | momentum: 0.9\n",
      "* Epoch (230/300) \n"
     ]
    },
    {
     "data": {
      "application/vnd.jupyter.widget-view+json": {
       "model_id": "be5414ae80214eceb9b24c8b797a0e2a",
       "version_major": 2,
       "version_minor": 0
      },
      "text/plain": [
       "231/300 * Epoch (train):   0%|          | 0/1 [00:00<?, ?it/s]"
      ]
     },
     "metadata": {},
     "output_type": "display_data"
    },
    {
     "name": "stdout",
     "output_type": "stream",
     "text": [
      "train (231/300) loss: 0.001525661675259471 | loss/mean: 0.001525661675259471 | loss/std: 0.0 | lr: 0.0001 | momentum: 0.9\n"
     ]
    },
    {
     "data": {
      "application/vnd.jupyter.widget-view+json": {
       "model_id": "7e3abac3be504c16822ed65aca64002c",
       "version_major": 2,
       "version_minor": 0
      },
      "text/plain": [
       "231/300 * Epoch (valid):   0%|          | 0/1 [00:00<?, ?it/s]"
      ]
     },
     "metadata": {},
     "output_type": "display_data"
    },
    {
     "name": "stdout",
     "output_type": "stream",
     "text": [
      "valid (231/300) exact_match01: 1.0 | exact_match01/std: 0.0 | exact_match02: 1.0 | exact_match02/std: 0.0 | loss: 7.872105925343931e-05 | loss/mean: 7.872105925343931e-05 | loss/std: 0.0 | lr: 0.0001 | momentum: 0.9\n",
      "* Epoch (231/300) \n"
     ]
    },
    {
     "data": {
      "application/vnd.jupyter.widget-view+json": {
       "model_id": "59019b6e3ff0453da1c3df5fbfd96d28",
       "version_major": 2,
       "version_minor": 0
      },
      "text/plain": [
       "232/300 * Epoch (train):   0%|          | 0/1 [00:00<?, ?it/s]"
      ]
     },
     "metadata": {},
     "output_type": "display_data"
    },
    {
     "name": "stdout",
     "output_type": "stream",
     "text": [
      "train (232/300) loss: 0.0009921119781211019 | loss/mean: 0.0009921119781211019 | loss/std: 0.0 | lr: 0.0001 | momentum: 0.9\n"
     ]
    },
    {
     "data": {
      "application/vnd.jupyter.widget-view+json": {
       "model_id": "0d8e311742814fc6b061955e18a05d23",
       "version_major": 2,
       "version_minor": 0
      },
      "text/plain": [
       "232/300 * Epoch (valid):   0%|          | 0/1 [00:00<?, ?it/s]"
      ]
     },
     "metadata": {},
     "output_type": "display_data"
    },
    {
     "name": "stdout",
     "output_type": "stream",
     "text": [
      "valid (232/300) exact_match01: 1.0 | exact_match01/std: 0.0 | exact_match02: 1.0 | exact_match02/std: 0.0 | loss: 7.83492432674393e-05 | loss/mean: 7.83492432674393e-05 | loss/std: 0.0 | lr: 0.0001 | momentum: 0.9\n",
      "* Epoch (232/300) \n"
     ]
    },
    {
     "data": {
      "application/vnd.jupyter.widget-view+json": {
       "model_id": "eb1fd60bb7bf41eeadc85515af88aedf",
       "version_major": 2,
       "version_minor": 0
      },
      "text/plain": [
       "233/300 * Epoch (train):   0%|          | 0/1 [00:00<?, ?it/s]"
      ]
     },
     "metadata": {},
     "output_type": "display_data"
    },
    {
     "name": "stdout",
     "output_type": "stream",
     "text": [
      "train (233/300) loss: 0.001227881875820458 | loss/mean: 0.001227881875820458 | loss/std: 0.0 | lr: 0.0001 | momentum: 0.9\n"
     ]
    },
    {
     "data": {
      "application/vnd.jupyter.widget-view+json": {
       "model_id": "ab66434607a347b3b55e371898d597a1",
       "version_major": 2,
       "version_minor": 0
      },
      "text/plain": [
       "233/300 * Epoch (valid):   0%|          | 0/1 [00:00<?, ?it/s]"
      ]
     },
     "metadata": {},
     "output_type": "display_data"
    },
    {
     "name": "stdout",
     "output_type": "stream",
     "text": [
      "valid (233/300) exact_match01: 1.0 | exact_match01/std: 0.0 | exact_match02: 1.0 | exact_match02/std: 0.0 | loss: 7.795004057697952e-05 | loss/mean: 7.795004057697952e-05 | loss/std: 0.0 | lr: 0.0001 | momentum: 0.9\n",
      "* Epoch (233/300) \n"
     ]
    },
    {
     "data": {
      "application/vnd.jupyter.widget-view+json": {
       "model_id": "3b5b68051cb04f5db26aa31155f7d5f7",
       "version_major": 2,
       "version_minor": 0
      },
      "text/plain": [
       "234/300 * Epoch (train):   0%|          | 0/1 [00:00<?, ?it/s]"
      ]
     },
     "metadata": {},
     "output_type": "display_data"
    },
    {
     "name": "stdout",
     "output_type": "stream",
     "text": [
      "train (234/300) loss: 0.004762852098792791 | loss/mean: 0.004762852098792791 | loss/std: 0.0 | lr: 0.0001 | momentum: 0.9\n"
     ]
    },
    {
     "data": {
      "application/vnd.jupyter.widget-view+json": {
       "model_id": "955b5a13489845fe950fee24bb435f79",
       "version_major": 2,
       "version_minor": 0
      },
      "text/plain": [
       "234/300 * Epoch (valid):   0%|          | 0/1 [00:00<?, ?it/s]"
      ]
     },
     "metadata": {},
     "output_type": "display_data"
    },
    {
     "name": "stdout",
     "output_type": "stream",
     "text": [
      "valid (234/300) exact_match01: 1.0 | exact_match01/std: 0.0 | exact_match02: 1.0 | exact_match02/std: 0.0 | loss: 7.735301915090531e-05 | loss/mean: 7.735301915090531e-05 | loss/std: 0.0 | lr: 0.0001 | momentum: 0.9\n",
      "* Epoch (234/300) \n"
     ]
    },
    {
     "data": {
      "application/vnd.jupyter.widget-view+json": {
       "model_id": "b08ef83c67724c2cbb8739713a9fc01a",
       "version_major": 2,
       "version_minor": 0
      },
      "text/plain": [
       "235/300 * Epoch (train):   0%|          | 0/1 [00:00<?, ?it/s]"
      ]
     },
     "metadata": {},
     "output_type": "display_data"
    },
    {
     "name": "stdout",
     "output_type": "stream",
     "text": [
      "train (235/300) loss: 0.002211916260421276 | loss/mean: 0.002211916260421276 | loss/std: 0.0 | lr: 0.0001 | momentum: 0.9\n"
     ]
    },
    {
     "data": {
      "application/vnd.jupyter.widget-view+json": {
       "model_id": "9400968fdf3445c88034207df020abab",
       "version_major": 2,
       "version_minor": 0
      },
      "text/plain": [
       "235/300 * Epoch (valid):   0%|          | 0/1 [00:00<?, ?it/s]"
      ]
     },
     "metadata": {},
     "output_type": "display_data"
    },
    {
     "name": "stdout",
     "output_type": "stream",
     "text": [
      "valid (235/300) exact_match01: 1.0 | exact_match01/std: 0.0 | exact_match02: 1.0 | exact_match02/std: 0.0 | loss: 7.671308412682265e-05 | loss/mean: 7.671308412682265e-05 | loss/std: 0.0 | lr: 0.0001 | momentum: 0.9\n",
      "* Epoch (235/300) \n"
     ]
    },
    {
     "data": {
      "application/vnd.jupyter.widget-view+json": {
       "model_id": "ceb38f8236eb4b4e96ff676915d9c549",
       "version_major": 2,
       "version_minor": 0
      },
      "text/plain": [
       "236/300 * Epoch (train):   0%|          | 0/1 [00:00<?, ?it/s]"
      ]
     },
     "metadata": {},
     "output_type": "display_data"
    },
    {
     "name": "stdout",
     "output_type": "stream",
     "text": [
      "train (236/300) loss: 0.03706252574920654 | loss/mean: 0.03706252574920654 | loss/std: 0.0 | lr: 0.0001 | momentum: 0.9\n"
     ]
    },
    {
     "data": {
      "application/vnd.jupyter.widget-view+json": {
       "model_id": "1fa0399daccd4056aa03a298eeff761d",
       "version_major": 2,
       "version_minor": 0
      },
      "text/plain": [
       "236/300 * Epoch (valid):   0%|          | 0/1 [00:00<?, ?it/s]"
      ]
     },
     "metadata": {},
     "output_type": "display_data"
    },
    {
     "name": "stdout",
     "output_type": "stream",
     "text": [
      "valid (236/300) exact_match01: 1.0 | exact_match01/std: 0.0 | exact_match02: 1.0 | exact_match02/std: 0.0 | loss: 7.679071131860837e-05 | loss/mean: 7.679071131860837e-05 | loss/std: 0.0 | lr: 0.0001 | momentum: 0.9\n",
      "* Epoch (236/300) \n"
     ]
    },
    {
     "data": {
      "application/vnd.jupyter.widget-view+json": {
       "model_id": "cc485c914c4247c798879a3e0be6546a",
       "version_major": 2,
       "version_minor": 0
      },
      "text/plain": [
       "237/300 * Epoch (train):   0%|          | 0/1 [00:00<?, ?it/s]"
      ]
     },
     "metadata": {},
     "output_type": "display_data"
    },
    {
     "name": "stdout",
     "output_type": "stream",
     "text": [
      "train (237/300) loss: 0.0010218506213277578 | loss/mean: 0.0010218506213277578 | loss/std: 0.0 | lr: 0.0001 | momentum: 0.9\n"
     ]
    },
    {
     "data": {
      "application/vnd.jupyter.widget-view+json": {
       "model_id": "c22cf45cb2434cf9b68ce41fd8d959d3",
       "version_major": 2,
       "version_minor": 0
      },
      "text/plain": [
       "237/300 * Epoch (valid):   0%|          | 0/1 [00:00<?, ?it/s]"
      ]
     },
     "metadata": {},
     "output_type": "display_data"
    },
    {
     "name": "stdout",
     "output_type": "stream",
     "text": [
      "valid (237/300) exact_match01: 1.0 | exact_match01/std: 0.0 | exact_match02: 1.0 | exact_match02/std: 0.0 | loss: 7.681944407522678e-05 | loss/mean: 7.681944407522678e-05 | loss/std: 0.0 | lr: 0.0001 | momentum: 0.9\n",
      "* Epoch (237/300) \n"
     ]
    },
    {
     "data": {
      "application/vnd.jupyter.widget-view+json": {
       "model_id": "42598d2fd62f46099ea6291cebab048d",
       "version_major": 2,
       "version_minor": 0
      },
      "text/plain": [
       "238/300 * Epoch (train):   0%|          | 0/1 [00:00<?, ?it/s]"
      ]
     },
     "metadata": {},
     "output_type": "display_data"
    },
    {
     "name": "stdout",
     "output_type": "stream",
     "text": [
      "train (238/300) loss: 0.002183954231441021 | loss/mean: 0.002183954231441021 | loss/std: 0.0 | lr: 0.0001 | momentum: 0.9\n"
     ]
    },
    {
     "data": {
      "application/vnd.jupyter.widget-view+json": {
       "model_id": "4fde8f63112b47b38990edf864058c0f",
       "version_major": 2,
       "version_minor": 0
      },
      "text/plain": [
       "238/300 * Epoch (valid):   0%|          | 0/1 [00:00<?, ?it/s]"
      ]
     },
     "metadata": {},
     "output_type": "display_data"
    },
    {
     "name": "stdout",
     "output_type": "stream",
     "text": [
      "valid (238/300) exact_match01: 1.0 | exact_match01/std: 0.0 | exact_match02: 1.0 | exact_match02/std: 0.0 | loss: 7.680404814891517e-05 | loss/mean: 7.680404814891517e-05 | loss/std: 0.0 | lr: 0.0001 | momentum: 0.9\n",
      "* Epoch (238/300) \n"
     ]
    },
    {
     "data": {
      "application/vnd.jupyter.widget-view+json": {
       "model_id": "d5b40d0bdd0545dc9139fb0910543ecc",
       "version_major": 2,
       "version_minor": 0
      },
      "text/plain": [
       "239/300 * Epoch (train):   0%|          | 0/1 [00:00<?, ?it/s]"
      ]
     },
     "metadata": {},
     "output_type": "display_data"
    },
    {
     "name": "stdout",
     "output_type": "stream",
     "text": [
      "train (239/300) loss: 0.0035454833414405584 | loss/mean: 0.0035454833414405584 | loss/std: 0.0 | lr: 0.0001 | momentum: 0.9\n"
     ]
    },
    {
     "data": {
      "application/vnd.jupyter.widget-view+json": {
       "model_id": "248531af9e464a17a4cebcf055510529",
       "version_major": 2,
       "version_minor": 0
      },
      "text/plain": [
       "239/300 * Epoch (valid):   0%|          | 0/1 [00:00<?, ?it/s]"
      ]
     },
     "metadata": {},
     "output_type": "display_data"
    },
    {
     "name": "stdout",
     "output_type": "stream",
     "text": [
      "valid (239/300) exact_match01: 1.0 | exact_match01/std: 0.0 | exact_match02: 1.0 | exact_match02/std: 0.0 | loss: 7.678984547965229e-05 | loss/mean: 7.678984547965229e-05 | loss/std: 0.0 | lr: 0.0001 | momentum: 0.9\n",
      "* Epoch (239/300) \n"
     ]
    },
    {
     "data": {
      "application/vnd.jupyter.widget-view+json": {
       "model_id": "dbacca5241a3491caa92e55d17392c7c",
       "version_major": 2,
       "version_minor": 0
      },
      "text/plain": [
       "240/300 * Epoch (train):   0%|          | 0/1 [00:00<?, ?it/s]"
      ]
     },
     "metadata": {},
     "output_type": "display_data"
    },
    {
     "name": "stdout",
     "output_type": "stream",
     "text": [
      "train (240/300) loss: 0.03846991807222366 | loss/mean: 0.03846991807222366 | loss/std: 0.0 | lr: 0.0001 | momentum: 0.9\n"
     ]
    },
    {
     "data": {
      "application/vnd.jupyter.widget-view+json": {
       "model_id": "476706491f134181b466fbc19354e735",
       "version_major": 2,
       "version_minor": 0
      },
      "text/plain": [
       "240/300 * Epoch (valid):   0%|          | 0/1 [00:00<?, ?it/s]"
      ]
     },
     "metadata": {},
     "output_type": "display_data"
    },
    {
     "name": "stdout",
     "output_type": "stream",
     "text": [
      "valid (240/300) exact_match01: 1.0 | exact_match01/std: 0.0 | exact_match02: 1.0 | exact_match02/std: 0.0 | loss: 7.727376942057163e-05 | loss/mean: 7.727376942057163e-05 | loss/std: 0.0 | lr: 0.0001 | momentum: 0.9\n",
      "* Epoch (240/300) \n"
     ]
    },
    {
     "data": {
      "application/vnd.jupyter.widget-view+json": {
       "model_id": "e73898bad41240959d7aa0881488c860",
       "version_major": 2,
       "version_minor": 0
      },
      "text/plain": [
       "241/300 * Epoch (train):   0%|          | 0/1 [00:00<?, ?it/s]"
      ]
     },
     "metadata": {},
     "output_type": "display_data"
    },
    {
     "name": "stdout",
     "output_type": "stream",
     "text": [
      "train (241/300) loss: 0.0027235797606408596 | loss/mean: 0.0027235797606408596 | loss/std: 0.0 | lr: 0.0001 | momentum: 0.9\n"
     ]
    },
    {
     "data": {
      "application/vnd.jupyter.widget-view+json": {
       "model_id": "bf2445bfc7344ef6b5be0ff0e0c6045a",
       "version_major": 2,
       "version_minor": 0
      },
      "text/plain": [
       "241/300 * Epoch (valid):   0%|          | 0/1 [00:00<?, ?it/s]"
      ]
     },
     "metadata": {},
     "output_type": "display_data"
    },
    {
     "name": "stdout",
     "output_type": "stream",
     "text": [
      "valid (241/300) exact_match01: 1.0 | exact_match01/std: 0.0 | exact_match02: 1.0 | exact_match02/std: 0.0 | loss: 7.767307397443801e-05 | loss/mean: 7.767307397443801e-05 | loss/std: 0.0 | lr: 0.0001 | momentum: 0.9\n",
      "* Epoch (241/300) \n"
     ]
    },
    {
     "data": {
      "application/vnd.jupyter.widget-view+json": {
       "model_id": "6455b3c4046c4aff9100179b6afcecb6",
       "version_major": 2,
       "version_minor": 0
      },
      "text/plain": [
       "242/300 * Epoch (train):   0%|          | 0/1 [00:00<?, ?it/s]"
      ]
     },
     "metadata": {},
     "output_type": "display_data"
    },
    {
     "name": "stdout",
     "output_type": "stream",
     "text": [
      "train (242/300) loss: 0.004491453059017658 | loss/mean: 0.004491453059017658 | loss/std: 0.0 | lr: 0.0001 | momentum: 0.9\n"
     ]
    },
    {
     "data": {
      "application/vnd.jupyter.widget-view+json": {
       "model_id": "2ce3abee088f490cba6f7086b49fbe5c",
       "version_major": 2,
       "version_minor": 0
      },
      "text/plain": [
       "242/300 * Epoch (valid):   0%|          | 0/1 [00:00<?, ?it/s]"
      ]
     },
     "metadata": {},
     "output_type": "display_data"
    },
    {
     "name": "stdout",
     "output_type": "stream",
     "text": [
      "valid (242/300) exact_match01: 1.0 | exact_match01/std: 0.0 | exact_match02: 1.0 | exact_match02/std: 0.0 | loss: 7.799377635819837e-05 | loss/mean: 7.799377635819837e-05 | loss/std: 0.0 | lr: 0.0001 | momentum: 0.9\n",
      "* Epoch (242/300) \n"
     ]
    },
    {
     "data": {
      "application/vnd.jupyter.widget-view+json": {
       "model_id": "ecd0215c8af04b5991d4a72132b65c5a",
       "version_major": 2,
       "version_minor": 0
      },
      "text/plain": [
       "243/300 * Epoch (train):   0%|          | 0/1 [00:00<?, ?it/s]"
      ]
     },
     "metadata": {},
     "output_type": "display_data"
    },
    {
     "name": "stdout",
     "output_type": "stream",
     "text": [
      "train (243/300) loss: 0.02353687956929207 | loss/mean: 0.02353687956929207 | loss/std: 0.0 | lr: 0.0001 | momentum: 0.9\n"
     ]
    },
    {
     "data": {
      "application/vnd.jupyter.widget-view+json": {
       "model_id": "94115c0cb06c432aab8a1386f2b9056c",
       "version_major": 2,
       "version_minor": 0
      },
      "text/plain": [
       "243/300 * Epoch (valid):   0%|          | 0/1 [00:00<?, ?it/s]"
      ]
     },
     "metadata": {},
     "output_type": "display_data"
    },
    {
     "name": "stdout",
     "output_type": "stream",
     "text": [
      "valid (243/300) exact_match01: 1.0 | exact_match01/std: 0.0 | exact_match02: 1.0 | exact_match02/std: 0.0 | loss: 7.889492553658783e-05 | loss/mean: 7.889492553658783e-05 | loss/std: 0.0 | lr: 0.0001 | momentum: 0.9\n",
      "* Epoch (243/300) \n"
     ]
    },
    {
     "data": {
      "application/vnd.jupyter.widget-view+json": {
       "model_id": "6f3ce4da8d804f4f99a6927553c9e2f2",
       "version_major": 2,
       "version_minor": 0
      },
      "text/plain": [
       "244/300 * Epoch (train):   0%|          | 0/1 [00:00<?, ?it/s]"
      ]
     },
     "metadata": {},
     "output_type": "display_data"
    },
    {
     "name": "stdout",
     "output_type": "stream",
     "text": [
      "train (244/300) loss: 0.0016024790238589048 | loss/mean: 0.0016024790238589048 | loss/std: 0.0 | lr: 0.0001 | momentum: 0.9\n"
     ]
    },
    {
     "data": {
      "application/vnd.jupyter.widget-view+json": {
       "model_id": "145954c2ac1a4f2893f84bc859eacded",
       "version_major": 2,
       "version_minor": 0
      },
      "text/plain": [
       "244/300 * Epoch (valid):   0%|          | 0/1 [00:00<?, ?it/s]"
      ]
     },
     "metadata": {},
     "output_type": "display_data"
    },
    {
     "name": "stdout",
     "output_type": "stream",
     "text": [
      "valid (244/300) exact_match01: 1.0 | exact_match01/std: 0.0 | exact_match02: 1.0 | exact_match02/std: 0.0 | loss: 8.04777882876806e-05 | loss/mean: 8.04777882876806e-05 | loss/std: 0.0 | lr: 0.0001 | momentum: 0.9\n",
      "* Epoch (244/300) \n"
     ]
    },
    {
     "data": {
      "application/vnd.jupyter.widget-view+json": {
       "model_id": "bebdb42b150a4739b0d9050f3fcb48a0",
       "version_major": 2,
       "version_minor": 0
      },
      "text/plain": [
       "245/300 * Epoch (train):   0%|          | 0/1 [00:00<?, ?it/s]"
      ]
     },
     "metadata": {},
     "output_type": "display_data"
    },
    {
     "name": "stdout",
     "output_type": "stream",
     "text": [
      "train (245/300) loss: 0.0028115531895309687 | loss/mean: 0.0028115531895309687 | loss/std: 0.0 | lr: 0.0001 | momentum: 0.9\n"
     ]
    },
    {
     "data": {
      "application/vnd.jupyter.widget-view+json": {
       "model_id": "71d98afbc0ea446c8684748bf8f1baed",
       "version_major": 2,
       "version_minor": 0
      },
      "text/plain": [
       "245/300 * Epoch (valid):   0%|          | 0/1 [00:00<?, ?it/s]"
      ]
     },
     "metadata": {},
     "output_type": "display_data"
    },
    {
     "name": "stdout",
     "output_type": "stream",
     "text": [
      "valid (245/300) exact_match01: 1.0 | exact_match01/std: 0.0 | exact_match02: 1.0 | exact_match02/std: 0.0 | loss: 8.369539136765525e-05 | loss/mean: 8.369539136765525e-05 | loss/std: 0.0 | lr: 0.0001 | momentum: 0.9\n",
      "* Epoch (245/300) \n"
     ]
    },
    {
     "data": {
      "application/vnd.jupyter.widget-view+json": {
       "model_id": "492dafa9aa3a4c10aeb6255fbdc7ce38",
       "version_major": 2,
       "version_minor": 0
      },
      "text/plain": [
       "246/300 * Epoch (train):   0%|          | 0/1 [00:00<?, ?it/s]"
      ]
     },
     "metadata": {},
     "output_type": "display_data"
    },
    {
     "name": "stdout",
     "output_type": "stream",
     "text": [
      "train (246/300) loss: 0.001696996740065515 | loss/mean: 0.001696996740065515 | loss/std: 0.0 | lr: 0.0001 | momentum: 0.9\n"
     ]
    },
    {
     "data": {
      "application/vnd.jupyter.widget-view+json": {
       "model_id": "a8f97545fe9247a99605767207a804d2",
       "version_major": 2,
       "version_minor": 0
      },
      "text/plain": [
       "246/300 * Epoch (valid):   0%|          | 0/1 [00:00<?, ?it/s]"
      ]
     },
     "metadata": {},
     "output_type": "display_data"
    },
    {
     "name": "stdout",
     "output_type": "stream",
     "text": [
      "valid (246/300) exact_match01: 1.0 | exact_match01/std: 0.0 | exact_match02: 1.0 | exact_match02/std: 0.0 | loss: 9.17992292670533e-05 | loss/mean: 9.17992292670533e-05 | loss/std: 0.0 | lr: 0.0001 | momentum: 0.9\n",
      "* Epoch (246/300) \n"
     ]
    },
    {
     "data": {
      "application/vnd.jupyter.widget-view+json": {
       "model_id": "feed6e9f0782484697837b4f1e3a7484",
       "version_major": 2,
       "version_minor": 0
      },
      "text/plain": [
       "247/300 * Epoch (train):   0%|          | 0/1 [00:00<?, ?it/s]"
      ]
     },
     "metadata": {},
     "output_type": "display_data"
    },
    {
     "name": "stdout",
     "output_type": "stream",
     "text": [
      "train (247/300) loss: 0.001461982843466103 | loss/mean: 0.001461982843466103 | loss/std: 0.0 | lr: 0.0001 | momentum: 0.9\n"
     ]
    },
    {
     "data": {
      "application/vnd.jupyter.widget-view+json": {
       "model_id": "60994a239c634b04ab6c1e17fbf04e4f",
       "version_major": 2,
       "version_minor": 0
      },
      "text/plain": [
       "247/300 * Epoch (valid):   0%|          | 0/1 [00:00<?, ?it/s]"
      ]
     },
     "metadata": {},
     "output_type": "display_data"
    },
    {
     "name": "stdout",
     "output_type": "stream",
     "text": [
      "valid (247/300) exact_match01: 1.0 | exact_match01/std: 0.0 | exact_match02: 1.0 | exact_match02/std: 0.0 | loss: 0.00011101303971372545 | loss/mean: 0.00011101303971372545 | loss/std: 0.0 | lr: 0.0001 | momentum: 0.9\n",
      "* Epoch (247/300) \n"
     ]
    },
    {
     "data": {
      "application/vnd.jupyter.widget-view+json": {
       "model_id": "09e887b60ec94a379d48d6e90ce2cb9e",
       "version_major": 2,
       "version_minor": 0
      },
      "text/plain": [
       "248/300 * Epoch (train):   0%|          | 0/1 [00:00<?, ?it/s]"
      ]
     },
     "metadata": {},
     "output_type": "display_data"
    },
    {
     "name": "stdout",
     "output_type": "stream",
     "text": [
      "train (248/300) loss: 0.0022361604496836662 | loss/mean: 0.0022361604496836662 | loss/std: 0.0 | lr: 0.0001 | momentum: 0.9\n"
     ]
    },
    {
     "data": {
      "application/vnd.jupyter.widget-view+json": {
       "model_id": "d973bb20be824f1cb18cae5786e61d63",
       "version_major": 2,
       "version_minor": 0
      },
      "text/plain": [
       "248/300 * Epoch (valid):   0%|          | 0/1 [00:00<?, ?it/s]"
      ]
     },
     "metadata": {},
     "output_type": "display_data"
    },
    {
     "name": "stdout",
     "output_type": "stream",
     "text": [
      "valid (248/300) exact_match01: 1.0 | exact_match01/std: 0.0 | exact_match02: 1.0 | exact_match02/std: 0.0 | loss: 0.00015410227933898568 | loss/mean: 0.00015410227933898568 | loss/std: 0.0 | lr: 0.0001 | momentum: 0.9\n",
      "* Epoch (248/300) \n"
     ]
    },
    {
     "data": {
      "application/vnd.jupyter.widget-view+json": {
       "model_id": "7386d81961434655acef9cc7650d2bb3",
       "version_major": 2,
       "version_minor": 0
      },
      "text/plain": [
       "249/300 * Epoch (train):   0%|          | 0/1 [00:00<?, ?it/s]"
      ]
     },
     "metadata": {},
     "output_type": "display_data"
    },
    {
     "name": "stdout",
     "output_type": "stream",
     "text": [
      "train (249/300) loss: 0.0032274406403303146 | loss/mean: 0.0032274406403303146 | loss/std: 0.0 | lr: 0.0001 | momentum: 0.9\n"
     ]
    },
    {
     "data": {
      "application/vnd.jupyter.widget-view+json": {
       "model_id": "74db0c09164b4b419e8fa50029210fc7",
       "version_major": 2,
       "version_minor": 0
      },
      "text/plain": [
       "249/300 * Epoch (valid):   0%|          | 0/1 [00:00<?, ?it/s]"
      ]
     },
     "metadata": {},
     "output_type": "display_data"
    },
    {
     "name": "stdout",
     "output_type": "stream",
     "text": [
      "valid (249/300) exact_match01: 1.0 | exact_match01/std: 0.0 | exact_match02: 1.0 | exact_match02/std: 0.0 | loss: 0.00024175632279366255 | loss/mean: 0.00024175632279366255 | loss/std: 0.0 | lr: 0.0001 | momentum: 0.9\n",
      "* Epoch (249/300) \n"
     ]
    },
    {
     "data": {
      "application/vnd.jupyter.widget-view+json": {
       "model_id": "24ae5a2af1b14228a3a6123fbf180e59",
       "version_major": 2,
       "version_minor": 0
      },
      "text/plain": [
       "250/300 * Epoch (train):   0%|          | 0/1 [00:00<?, ?it/s]"
      ]
     },
     "metadata": {},
     "output_type": "display_data"
    },
    {
     "name": "stdout",
     "output_type": "stream",
     "text": [
      "train (250/300) loss: 0.0014780573546886444 | loss/mean: 0.0014780573546886444 | loss/std: 0.0 | lr: 0.0001 | momentum: 0.9\n"
     ]
    },
    {
     "data": {
      "application/vnd.jupyter.widget-view+json": {
       "model_id": "9051e0eaea124c028427636a27a6f7dc",
       "version_major": 2,
       "version_minor": 0
      },
      "text/plain": [
       "250/300 * Epoch (valid):   0%|          | 0/1 [00:00<?, ?it/s]"
      ]
     },
     "metadata": {},
     "output_type": "display_data"
    },
    {
     "name": "stdout",
     "output_type": "stream",
     "text": [
      "valid (250/300) exact_match01: 1.0 | exact_match01/std: 0.0 | exact_match02: 1.0 | exact_match02/std: 0.0 | loss: 0.00040487211663275957 | loss/mean: 0.00040487211663275957 | loss/std: 0.0 | lr: 0.0001 | momentum: 0.9\n",
      "* Epoch (250/300) \n"
     ]
    },
    {
     "data": {
      "application/vnd.jupyter.widget-view+json": {
       "model_id": "fde65abd711a4338a7b6082147e89e1f",
       "version_major": 2,
       "version_minor": 0
      },
      "text/plain": [
       "251/300 * Epoch (train):   0%|          | 0/1 [00:00<?, ?it/s]"
      ]
     },
     "metadata": {},
     "output_type": "display_data"
    },
    {
     "name": "stdout",
     "output_type": "stream",
     "text": [
      "train (251/300) loss: 0.0016973834717646241 | loss/mean: 0.0016973834717646241 | loss/std: 0.0 | lr: 0.0001 | momentum: 0.9\n"
     ]
    },
    {
     "data": {
      "application/vnd.jupyter.widget-view+json": {
       "model_id": "a167d5e3dad5468e9db1fd585471fc01",
       "version_major": 2,
       "version_minor": 0
      },
      "text/plain": [
       "251/300 * Epoch (valid):   0%|          | 0/1 [00:00<?, ?it/s]"
      ]
     },
     "metadata": {},
     "output_type": "display_data"
    },
    {
     "name": "stdout",
     "output_type": "stream",
     "text": [
      "valid (251/300) exact_match01: 1.0 | exact_match01/std: 0.0 | exact_match02: 1.0 | exact_match02/std: 0.0 | loss: 0.0006846170872449875 | loss/mean: 0.0006846170872449875 | loss/std: 0.0 | lr: 0.0001 | momentum: 0.9\n",
      "* Epoch (251/300) \n"
     ]
    },
    {
     "data": {
      "application/vnd.jupyter.widget-view+json": {
       "model_id": "0c282772478d4b50a253fd37670e78cb",
       "version_major": 2,
       "version_minor": 0
      },
      "text/plain": [
       "252/300 * Epoch (train):   0%|          | 0/1 [00:00<?, ?it/s]"
      ]
     },
     "metadata": {},
     "output_type": "display_data"
    },
    {
     "name": "stdout",
     "output_type": "stream",
     "text": [
      "train (252/300) loss: 0.005186355207115412 | loss/mean: 0.005186355207115412 | loss/std: 0.0 | lr: 0.0001 | momentum: 0.9\n"
     ]
    },
    {
     "data": {
      "application/vnd.jupyter.widget-view+json": {
       "model_id": "b556537c42b44ccd98ceab1934a80d2c",
       "version_major": 2,
       "version_minor": 0
      },
      "text/plain": [
       "252/300 * Epoch (valid):   0%|          | 0/1 [00:00<?, ?it/s]"
      ]
     },
     "metadata": {},
     "output_type": "display_data"
    },
    {
     "name": "stdout",
     "output_type": "stream",
     "text": [
      "valid (252/300) exact_match01: 1.0 | exact_match01/std: 0.0 | exact_match02: 1.0 | exact_match02/std: 0.0 | loss: 0.0011154328240081668 | loss/mean: 0.0011154328240081668 | loss/std: 0.0 | lr: 0.0001 | momentum: 0.9\n",
      "* Epoch (252/300) \n"
     ]
    },
    {
     "data": {
      "application/vnd.jupyter.widget-view+json": {
       "model_id": "68542bfdbd7a496c936ca987735c91ae",
       "version_major": 2,
       "version_minor": 0
      },
      "text/plain": [
       "253/300 * Epoch (train):   0%|          | 0/1 [00:00<?, ?it/s]"
      ]
     },
     "metadata": {},
     "output_type": "display_data"
    },
    {
     "name": "stdout",
     "output_type": "stream",
     "text": [
      "train (253/300) loss: 0.00458093686029315 | loss/mean: 0.00458093686029315 | loss/std: 0.0 | lr: 0.0001 | momentum: 0.9\n"
     ]
    },
    {
     "data": {
      "application/vnd.jupyter.widget-view+json": {
       "model_id": "441eede674894f0e9960caa703ff679e",
       "version_major": 2,
       "version_minor": 0
      },
      "text/plain": [
       "253/300 * Epoch (valid):   0%|          | 0/1 [00:00<?, ?it/s]"
      ]
     },
     "metadata": {},
     "output_type": "display_data"
    },
    {
     "name": "stdout",
     "output_type": "stream",
     "text": [
      "valid (253/300) exact_match01: 1.0 | exact_match01/std: 0.0 | exact_match02: 1.0 | exact_match02/std: 0.0 | loss: 0.0016306921606883407 | loss/mean: 0.0016306921606883407 | loss/std: 0.0 | lr: 0.0001 | momentum: 0.9\n",
      "* Epoch (253/300) \n"
     ]
    },
    {
     "data": {
      "application/vnd.jupyter.widget-view+json": {
       "model_id": "c876512e403743ae83a6dbdcd8a53ffe",
       "version_major": 2,
       "version_minor": 0
      },
      "text/plain": [
       "254/300 * Epoch (train):   0%|          | 0/1 [00:00<?, ?it/s]"
      ]
     },
     "metadata": {},
     "output_type": "display_data"
    },
    {
     "name": "stdout",
     "output_type": "stream",
     "text": [
      "train (254/300) loss: 0.04478262737393379 | loss/mean: 0.04478262737393379 | loss/std: 0.0 | lr: 0.0001 | momentum: 0.9\n"
     ]
    },
    {
     "data": {
      "application/vnd.jupyter.widget-view+json": {
       "model_id": "df0bf5796343431a8cc673025e43d639",
       "version_major": 2,
       "version_minor": 0
      },
      "text/plain": [
       "254/300 * Epoch (valid):   0%|          | 0/1 [00:00<?, ?it/s]"
      ]
     },
     "metadata": {},
     "output_type": "display_data"
    },
    {
     "name": "stdout",
     "output_type": "stream",
     "text": [
      "valid (254/300) exact_match01: 1.0 | exact_match01/std: 0.0 | exact_match02: 1.0 | exact_match02/std: 0.0 | loss: 8.288631215691566e-05 | loss/mean: 8.288631215691566e-05 | loss/std: 0.0 | lr: 0.0001 | momentum: 0.9\n",
      "* Epoch (254/300) \n"
     ]
    },
    {
     "data": {
      "application/vnd.jupyter.widget-view+json": {
       "model_id": "f40fd34e3e1b4a6cbe2daa5a58d135cb",
       "version_major": 2,
       "version_minor": 0
      },
      "text/plain": [
       "255/300 * Epoch (train):   0%|          | 0/1 [00:00<?, ?it/s]"
      ]
     },
     "metadata": {},
     "output_type": "display_data"
    },
    {
     "name": "stdout",
     "output_type": "stream",
     "text": [
      "train (255/300) loss: 0.0029643734451383352 | loss/mean: 0.0029643734451383352 | loss/std: 0.0 | lr: 0.0001 | momentum: 0.9\n"
     ]
    },
    {
     "data": {
      "application/vnd.jupyter.widget-view+json": {
       "model_id": "29f6d66d13c44521a2b29fd000082dec",
       "version_major": 2,
       "version_minor": 0
      },
      "text/plain": [
       "255/300 * Epoch (valid):   0%|          | 0/1 [00:00<?, ?it/s]"
      ]
     },
     "metadata": {},
     "output_type": "display_data"
    },
    {
     "name": "stdout",
     "output_type": "stream",
     "text": [
      "valid (255/300) exact_match01: 1.0 | exact_match01/std: 0.0 | exact_match02: 1.0 | exact_match02/std: 0.0 | loss: 7.674065273022279e-05 | loss/mean: 7.674065273022279e-05 | loss/std: 0.0 | lr: 0.0001 | momentum: 0.9\n",
      "* Epoch (255/300) \n"
     ]
    },
    {
     "data": {
      "application/vnd.jupyter.widget-view+json": {
       "model_id": "aeb3dc59809b4c7680de9c4ce2e602b7",
       "version_major": 2,
       "version_minor": 0
      },
      "text/plain": [
       "256/300 * Epoch (train):   0%|          | 0/1 [00:00<?, ?it/s]"
      ]
     },
     "metadata": {},
     "output_type": "display_data"
    },
    {
     "name": "stdout",
     "output_type": "stream",
     "text": [
      "train (256/300) loss: 0.0019288691692054272 | loss/mean: 0.0019288691692054272 | loss/std: 0.0 | lr: 0.0001 | momentum: 0.9\n"
     ]
    },
    {
     "data": {
      "application/vnd.jupyter.widget-view+json": {
       "model_id": "8459a516b2654074b13752ddc2f99b21",
       "version_major": 2,
       "version_minor": 0
      },
      "text/plain": [
       "256/300 * Epoch (valid):   0%|          | 0/1 [00:00<?, ?it/s]"
      ]
     },
     "metadata": {},
     "output_type": "display_data"
    },
    {
     "name": "stdout",
     "output_type": "stream",
     "text": [
      "valid (256/300) exact_match01: 1.0 | exact_match01/std: 0.0 | exact_match02: 1.0 | exact_match02/std: 0.0 | loss: 7.63045100029558e-05 | loss/mean: 7.63045100029558e-05 | loss/std: 0.0 | lr: 0.0001 | momentum: 0.9\n",
      "* Epoch (256/300) \n"
     ]
    },
    {
     "data": {
      "application/vnd.jupyter.widget-view+json": {
       "model_id": "457666273bf545d0b28ae539a760a7e6",
       "version_major": 2,
       "version_minor": 0
      },
      "text/plain": [
       "257/300 * Epoch (train):   0%|          | 0/1 [00:00<?, ?it/s]"
      ]
     },
     "metadata": {},
     "output_type": "display_data"
    },
    {
     "name": "stdout",
     "output_type": "stream",
     "text": [
      "train (257/300) loss: 0.009944278746843338 | loss/mean: 0.009944278746843338 | loss/std: 0.0 | lr: 0.0001 | momentum: 0.9\n"
     ]
    },
    {
     "data": {
      "application/vnd.jupyter.widget-view+json": {
       "model_id": "34b79aa04a274af8b8352faf89622aaa",
       "version_major": 2,
       "version_minor": 0
      },
      "text/plain": [
       "257/300 * Epoch (valid):   0%|          | 0/1 [00:00<?, ?it/s]"
      ]
     },
     "metadata": {},
     "output_type": "display_data"
    },
    {
     "name": "stdout",
     "output_type": "stream",
     "text": [
      "valid (257/300) exact_match01: 1.0 | exact_match01/std: 0.0 | exact_match02: 1.0 | exact_match02/std: 0.0 | loss: 7.657498645130545e-05 | loss/mean: 7.657498645130545e-05 | loss/std: 0.0 | lr: 0.0001 | momentum: 0.9\n",
      "* Epoch (257/300) \n"
     ]
    },
    {
     "data": {
      "application/vnd.jupyter.widget-view+json": {
       "model_id": "7619ba92d195414185c04615d9a4bfc0",
       "version_major": 2,
       "version_minor": 0
      },
      "text/plain": [
       "258/300 * Epoch (train):   0%|          | 0/1 [00:00<?, ?it/s]"
      ]
     },
     "metadata": {},
     "output_type": "display_data"
    },
    {
     "name": "stdout",
     "output_type": "stream",
     "text": [
      "train (258/300) loss: 0.002327227033674717 | loss/mean: 0.002327227033674717 | loss/std: 0.0 | lr: 0.0001 | momentum: 0.9\n"
     ]
    },
    {
     "data": {
      "application/vnd.jupyter.widget-view+json": {
       "model_id": "841d97867934419c931d9dc967be7d89",
       "version_major": 2,
       "version_minor": 0
      },
      "text/plain": [
       "258/300 * Epoch (valid):   0%|          | 0/1 [00:00<?, ?it/s]"
      ]
     },
     "metadata": {},
     "output_type": "display_data"
    },
    {
     "name": "stdout",
     "output_type": "stream",
     "text": [
      "valid (258/300) exact_match01: 1.0 | exact_match01/std: 0.0 | exact_match02: 1.0 | exact_match02/std: 0.0 | loss: 7.694440864725038e-05 | loss/mean: 7.694440864725038e-05 | loss/std: 0.0 | lr: 0.0001 | momentum: 0.9\n",
      "* Epoch (258/300) \n"
     ]
    },
    {
     "data": {
      "application/vnd.jupyter.widget-view+json": {
       "model_id": "3b814aeaeaed449fbf03be82125024eb",
       "version_major": 2,
       "version_minor": 0
      },
      "text/plain": [
       "259/300 * Epoch (train):   0%|          | 0/1 [00:00<?, ?it/s]"
      ]
     },
     "metadata": {},
     "output_type": "display_data"
    },
    {
     "name": "stdout",
     "output_type": "stream",
     "text": [
      "train (259/300) loss: 0.028263526037335396 | loss/mean: 0.028263526037335396 | loss/std: 0.0 | lr: 0.0001 | momentum: 0.9\n"
     ]
    },
    {
     "data": {
      "application/vnd.jupyter.widget-view+json": {
       "model_id": "de3fd3f90f144a29982fd1581c57f7ce",
       "version_major": 2,
       "version_minor": 0
      },
      "text/plain": [
       "259/300 * Epoch (valid):   0%|          | 0/1 [00:00<?, ?it/s]"
      ]
     },
     "metadata": {},
     "output_type": "display_data"
    },
    {
     "name": "stdout",
     "output_type": "stream",
     "text": [
      "valid (259/300) exact_match01: 1.0 | exact_match01/std: 0.0 | exact_match02: 1.0 | exact_match02/std: 0.0 | loss: 7.730416837148368e-05 | loss/mean: 7.730416837148368e-05 | loss/std: 0.0 | lr: 0.0001 | momentum: 0.9\n",
      "* Epoch (259/300) \n"
     ]
    },
    {
     "data": {
      "application/vnd.jupyter.widget-view+json": {
       "model_id": "a618e796faa04f0b980f5907b9df2d83",
       "version_major": 2,
       "version_minor": 0
      },
      "text/plain": [
       "260/300 * Epoch (train):   0%|          | 0/1 [00:00<?, ?it/s]"
      ]
     },
     "metadata": {},
     "output_type": "display_data"
    },
    {
     "name": "stdout",
     "output_type": "stream",
     "text": [
      "train (260/300) loss: 0.005793778225779533 | loss/mean: 0.005793778225779533 | loss/std: 0.0 | lr: 0.0001 | momentum: 0.9\n"
     ]
    },
    {
     "data": {
      "application/vnd.jupyter.widget-view+json": {
       "model_id": "d625073cfb2a46c68a530990ec951e41",
       "version_major": 2,
       "version_minor": 0
      },
      "text/plain": [
       "260/300 * Epoch (valid):   0%|          | 0/1 [00:00<?, ?it/s]"
      ]
     },
     "metadata": {},
     "output_type": "display_data"
    },
    {
     "name": "stdout",
     "output_type": "stream",
     "text": [
      "valid (260/300) exact_match01: 1.0 | exact_match01/std: 0.0 | exact_match02: 1.0 | exact_match02/std: 0.0 | loss: 7.787373033352196e-05 | loss/mean: 7.787373033352196e-05 | loss/std: 0.0 | lr: 0.0001 | momentum: 0.9\n",
      "* Epoch (260/300) \n"
     ]
    },
    {
     "data": {
      "application/vnd.jupyter.widget-view+json": {
       "model_id": "4b61819ef46747288f89ddeada976958",
       "version_major": 2,
       "version_minor": 0
      },
      "text/plain": [
       "261/300 * Epoch (train):   0%|          | 0/1 [00:00<?, ?it/s]"
      ]
     },
     "metadata": {},
     "output_type": "display_data"
    },
    {
     "name": "stdout",
     "output_type": "stream",
     "text": [
      "train (261/300) loss: 0.0020227045752108097 | loss/mean: 0.0020227045752108097 | loss/std: 0.0 | lr: 0.0001 | momentum: 0.9\n"
     ]
    },
    {
     "data": {
      "application/vnd.jupyter.widget-view+json": {
       "model_id": "1d5bddb921af4e6faf5c13c4e4f74458",
       "version_major": 2,
       "version_minor": 0
      },
      "text/plain": [
       "261/300 * Epoch (valid):   0%|          | 0/1 [00:00<?, ?it/s]"
      ]
     },
     "metadata": {},
     "output_type": "display_data"
    },
    {
     "name": "stdout",
     "output_type": "stream",
     "text": [
      "valid (261/300) exact_match01: 1.0 | exact_match01/std: 0.0 | exact_match02: 1.0 | exact_match02/std: 0.0 | loss: 7.857682794565335e-05 | loss/mean: 7.857682794565335e-05 | loss/std: 0.0 | lr: 0.0001 | momentum: 0.9\n",
      "* Epoch (261/300) \n"
     ]
    },
    {
     "data": {
      "application/vnd.jupyter.widget-view+json": {
       "model_id": "3b4a455aa6e74950820c4cee8d8416aa",
       "version_major": 2,
       "version_minor": 0
      },
      "text/plain": [
       "262/300 * Epoch (train):   0%|          | 0/1 [00:00<?, ?it/s]"
      ]
     },
     "metadata": {},
     "output_type": "display_data"
    },
    {
     "name": "stdout",
     "output_type": "stream",
     "text": [
      "train (262/300) loss: 0.0016027939273044467 | loss/mean: 0.0016027939273044467 | loss/std: 0.0 | lr: 0.0001 | momentum: 0.9\n"
     ]
    },
    {
     "data": {
      "application/vnd.jupyter.widget-view+json": {
       "model_id": "991e0c8359ec4bb3834aa550e9117092",
       "version_major": 2,
       "version_minor": 0
      },
      "text/plain": [
       "262/300 * Epoch (valid):   0%|          | 0/1 [00:00<?, ?it/s]"
      ]
     },
     "metadata": {},
     "output_type": "display_data"
    },
    {
     "name": "stdout",
     "output_type": "stream",
     "text": [
      "valid (262/300) exact_match01: 1.0 | exact_match01/std: 0.0 | exact_match02: 1.0 | exact_match02/std: 0.0 | loss: 7.93407452874817e-05 | loss/mean: 7.93407452874817e-05 | loss/std: 0.0 | lr: 0.0001 | momentum: 0.9\n",
      "* Epoch (262/300) \n"
     ]
    },
    {
     "data": {
      "application/vnd.jupyter.widget-view+json": {
       "model_id": "d2691687a44c4514b9f7332b51eb3f14",
       "version_major": 2,
       "version_minor": 0
      },
      "text/plain": [
       "263/300 * Epoch (train):   0%|          | 0/1 [00:00<?, ?it/s]"
      ]
     },
     "metadata": {},
     "output_type": "display_data"
    },
    {
     "name": "stdout",
     "output_type": "stream",
     "text": [
      "train (263/300) loss: 0.0018650074489414692 | loss/mean: 0.0018650074489414692 | loss/std: 0.0 | lr: 0.0001 | momentum: 0.9\n"
     ]
    },
    {
     "data": {
      "application/vnd.jupyter.widget-view+json": {
       "model_id": "ac541c52d4994c0a90d0740f9bb75193",
       "version_major": 2,
       "version_minor": 0
      },
      "text/plain": [
       "263/300 * Epoch (valid):   0%|          | 0/1 [00:00<?, ?it/s]"
      ]
     },
     "metadata": {},
     "output_type": "display_data"
    },
    {
     "name": "stdout",
     "output_type": "stream",
     "text": [
      "valid (263/300) exact_match01: 1.0 | exact_match01/std: 0.0 | exact_match02: 1.0 | exact_match02/std: 0.0 | loss: 8.01702553872019e-05 | loss/mean: 8.01702553872019e-05 | loss/std: 0.0 | lr: 0.0001 | momentum: 0.9\n",
      "* Epoch (263/300) \n"
     ]
    },
    {
     "data": {
      "application/vnd.jupyter.widget-view+json": {
       "model_id": "0d9afcb441c146b489387f530df10005",
       "version_major": 2,
       "version_minor": 0
      },
      "text/plain": [
       "264/300 * Epoch (train):   0%|          | 0/1 [00:00<?, ?it/s]"
      ]
     },
     "metadata": {},
     "output_type": "display_data"
    },
    {
     "name": "stdout",
     "output_type": "stream",
     "text": [
      "train (264/300) loss: 0.0014035752974450588 | loss/mean: 0.0014035752974450588 | loss/std: 0.0 | lr: 0.0001 | momentum: 0.9\n"
     ]
    },
    {
     "data": {
      "application/vnd.jupyter.widget-view+json": {
       "model_id": "6816785e470f4a5eb816cce02a14bc1a",
       "version_major": 2,
       "version_minor": 0
      },
      "text/plain": [
       "264/300 * Epoch (valid):   0%|          | 0/1 [00:00<?, ?it/s]"
      ]
     },
     "metadata": {},
     "output_type": "display_data"
    },
    {
     "name": "stdout",
     "output_type": "stream",
     "text": [
      "valid (264/300) exact_match01: 1.0 | exact_match01/std: 0.0 | exact_match02: 1.0 | exact_match02/std: 0.0 | loss: 8.125248132273555e-05 | loss/mean: 8.125248132273555e-05 | loss/std: 0.0 | lr: 0.0001 | momentum: 0.9\n",
      "* Epoch (264/300) \n"
     ]
    },
    {
     "data": {
      "application/vnd.jupyter.widget-view+json": {
       "model_id": "2dfe20c4d9bb421e8c56f2e7bff0528e",
       "version_major": 2,
       "version_minor": 0
      },
      "text/plain": [
       "265/300 * Epoch (train):   0%|          | 0/1 [00:00<?, ?it/s]"
      ]
     },
     "metadata": {},
     "output_type": "display_data"
    },
    {
     "name": "stdout",
     "output_type": "stream",
     "text": [
      "train (265/300) loss: 0.0017303680069744587 | loss/mean: 0.0017303680069744587 | loss/std: 0.0 | lr: 0.0001 | momentum: 0.9\n"
     ]
    },
    {
     "data": {
      "application/vnd.jupyter.widget-view+json": {
       "model_id": "968b9be55da24915b5be0e9d2ed7f32d",
       "version_major": 2,
       "version_minor": 0
      },
      "text/plain": [
       "265/300 * Epoch (valid):   0%|          | 0/1 [00:00<?, ?it/s]"
      ]
     },
     "metadata": {},
     "output_type": "display_data"
    },
    {
     "name": "stdout",
     "output_type": "stream",
     "text": [
      "valid (265/300) exact_match01: 1.0 | exact_match01/std: 0.0 | exact_match02: 1.0 | exact_match02/std: 0.0 | loss: 8.272323611890897e-05 | loss/mean: 8.272323611890897e-05 | loss/std: 0.0 | lr: 0.0001 | momentum: 0.9\n",
      "* Epoch (265/300) \n"
     ]
    },
    {
     "data": {
      "application/vnd.jupyter.widget-view+json": {
       "model_id": "8a4feefd5d2c42a5adebd5c82363e2d1",
       "version_major": 2,
       "version_minor": 0
      },
      "text/plain": [
       "266/300 * Epoch (train):   0%|          | 0/1 [00:00<?, ?it/s]"
      ]
     },
     "metadata": {},
     "output_type": "display_data"
    },
    {
     "name": "stdout",
     "output_type": "stream",
     "text": [
      "train (266/300) loss: 0.0034773903898894787 | loss/mean: 0.0034773903898894787 | loss/std: 0.0 | lr: 0.0001 | momentum: 0.9\n"
     ]
    },
    {
     "data": {
      "application/vnd.jupyter.widget-view+json": {
       "model_id": "6020ec7c12fa4d29b5e0dc75bfc6b72a",
       "version_major": 2,
       "version_minor": 0
      },
      "text/plain": [
       "266/300 * Epoch (valid):   0%|          | 0/1 [00:00<?, ?it/s]"
      ]
     },
     "metadata": {},
     "output_type": "display_data"
    },
    {
     "name": "stdout",
     "output_type": "stream",
     "text": [
      "valid (266/300) exact_match01: 1.0 | exact_match01/std: 0.0 | exact_match02: 1.0 | exact_match02/std: 0.0 | loss: 8.481837721774355e-05 | loss/mean: 8.481837721774355e-05 | loss/std: 0.0 | lr: 0.0001 | momentum: 0.9\n",
      "* Epoch (266/300) \n"
     ]
    },
    {
     "data": {
      "application/vnd.jupyter.widget-view+json": {
       "model_id": "b609560c08624eb3b41287ab077f53d1",
       "version_major": 2,
       "version_minor": 0
      },
      "text/plain": [
       "267/300 * Epoch (train):   0%|          | 0/1 [00:00<?, ?it/s]"
      ]
     },
     "metadata": {},
     "output_type": "display_data"
    },
    {
     "name": "stdout",
     "output_type": "stream",
     "text": [
      "train (267/300) loss: 0.008128199726343155 | loss/mean: 0.008128199726343155 | loss/std: 0.0 | lr: 0.0001 | momentum: 0.9\n"
     ]
    },
    {
     "data": {
      "application/vnd.jupyter.widget-view+json": {
       "model_id": "173dbb6f64494a6595752fec57663578",
       "version_major": 2,
       "version_minor": 0
      },
      "text/plain": [
       "267/300 * Epoch (valid):   0%|          | 0/1 [00:00<?, ?it/s]"
      ]
     },
     "metadata": {},
     "output_type": "display_data"
    },
    {
     "name": "stdout",
     "output_type": "stream",
     "text": [
      "valid (267/300) exact_match01: 1.0 | exact_match01/std: 0.0 | exact_match02: 1.0 | exact_match02/std: 0.0 | loss: 8.79556973814033e-05 | loss/mean: 8.79556973814033e-05 | loss/std: 0.0 | lr: 0.0001 | momentum: 0.9\n",
      "* Epoch (267/300) \n"
     ]
    },
    {
     "data": {
      "application/vnd.jupyter.widget-view+json": {
       "model_id": "42358a7bc9484da48675b34b369c53a3",
       "version_major": 2,
       "version_minor": 0
      },
      "text/plain": [
       "268/300 * Epoch (train):   0%|          | 0/1 [00:00<?, ?it/s]"
      ]
     },
     "metadata": {},
     "output_type": "display_data"
    },
    {
     "name": "stdout",
     "output_type": "stream",
     "text": [
      "train (268/300) loss: 0.0015079271979629993 | loss/mean: 0.0015079271979629993 | loss/std: 0.0 | lr: 0.0001 | momentum: 0.9\n"
     ]
    },
    {
     "data": {
      "application/vnd.jupyter.widget-view+json": {
       "model_id": "6f81d23cbde5451fa6bab163ed4160a1",
       "version_major": 2,
       "version_minor": 0
      },
      "text/plain": [
       "268/300 * Epoch (valid):   0%|          | 0/1 [00:00<?, ?it/s]"
      ]
     },
     "metadata": {},
     "output_type": "display_data"
    },
    {
     "name": "stdout",
     "output_type": "stream",
     "text": [
      "valid (268/300) exact_match01: 1.0 | exact_match01/std: 0.0 | exact_match02: 1.0 | exact_match02/std: 0.0 | loss: 9.258570207748562e-05 | loss/mean: 9.258570207748562e-05 | loss/std: 0.0 | lr: 0.0001 | momentum: 0.9\n",
      "* Epoch (268/300) \n"
     ]
    },
    {
     "data": {
      "application/vnd.jupyter.widget-view+json": {
       "model_id": "fc8d442651114376908de66718cbdde8",
       "version_major": 2,
       "version_minor": 0
      },
      "text/plain": [
       "269/300 * Epoch (train):   0%|          | 0/1 [00:00<?, ?it/s]"
      ]
     },
     "metadata": {},
     "output_type": "display_data"
    },
    {
     "name": "stdout",
     "output_type": "stream",
     "text": [
      "train (269/300) loss: 0.054695118218660355 | loss/mean: 0.054695118218660355 | loss/std: 0.0 | lr: 0.0001 | momentum: 0.9\n"
     ]
    },
    {
     "data": {
      "application/vnd.jupyter.widget-view+json": {
       "model_id": "46f7e5731a65449ca977186d56bd7ad5",
       "version_major": 2,
       "version_minor": 0
      },
      "text/plain": [
       "269/300 * Epoch (valid):   0%|          | 0/1 [00:00<?, ?it/s]"
      ]
     },
     "metadata": {},
     "output_type": "display_data"
    },
    {
     "name": "stdout",
     "output_type": "stream",
     "text": [
      "valid (269/300) exact_match01: 1.0 | exact_match01/std: 0.0 | exact_match02: 1.0 | exact_match02/std: 0.0 | loss: 8.280880865640938e-05 | loss/mean: 8.280880865640938e-05 | loss/std: 0.0 | lr: 0.0001 | momentum: 0.9\n",
      "* Epoch (269/300) \n"
     ]
    },
    {
     "data": {
      "application/vnd.jupyter.widget-view+json": {
       "model_id": "acf0d3d7c3484d2abb148dbefdb3e784",
       "version_major": 2,
       "version_minor": 0
      },
      "text/plain": [
       "270/300 * Epoch (train):   0%|          | 0/1 [00:00<?, ?it/s]"
      ]
     },
     "metadata": {},
     "output_type": "display_data"
    },
    {
     "name": "stdout",
     "output_type": "stream",
     "text": [
      "train (270/300) loss: 0.0018923861207440495 | loss/mean: 0.0018923861207440495 | loss/std: 0.0 | lr: 0.0001 | momentum: 0.9\n"
     ]
    },
    {
     "data": {
      "application/vnd.jupyter.widget-view+json": {
       "model_id": "978519397e0a47158421223a2dbc0ef1",
       "version_major": 2,
       "version_minor": 0
      },
      "text/plain": [
       "270/300 * Epoch (valid):   0%|          | 0/1 [00:00<?, ?it/s]"
      ]
     },
     "metadata": {},
     "output_type": "display_data"
    },
    {
     "name": "stdout",
     "output_type": "stream",
     "text": [
      "valid (270/300) exact_match01: 1.0 | exact_match01/std: 0.0 | exact_match02: 1.0 | exact_match02/std: 0.0 | loss: 8.346433605765924e-05 | loss/mean: 8.346433605765924e-05 | loss/std: 0.0 | lr: 0.0001 | momentum: 0.9\n",
      "* Epoch (270/300) \n"
     ]
    },
    {
     "data": {
      "application/vnd.jupyter.widget-view+json": {
       "model_id": "793f4ea94559411cb48df8f85f21676e",
       "version_major": 2,
       "version_minor": 0
      },
      "text/plain": [
       "271/300 * Epoch (train):   0%|          | 0/1 [00:00<?, ?it/s]"
      ]
     },
     "metadata": {},
     "output_type": "display_data"
    },
    {
     "name": "stdout",
     "output_type": "stream",
     "text": [
      "train (271/300) loss: 0.0014738584868609905 | loss/mean: 0.0014738584868609905 | loss/std: 0.0 | lr: 0.0001 | momentum: 0.9\n"
     ]
    },
    {
     "data": {
      "application/vnd.jupyter.widget-view+json": {
       "model_id": "c48b9a75c84e497db15dcffacb4cff61",
       "version_major": 2,
       "version_minor": 0
      },
      "text/plain": [
       "271/300 * Epoch (valid):   0%|          | 0/1 [00:00<?, ?it/s]"
      ]
     },
     "metadata": {},
     "output_type": "display_data"
    },
    {
     "name": "stdout",
     "output_type": "stream",
     "text": [
      "valid (271/300) exact_match01: 1.0 | exact_match01/std: 0.0 | exact_match02: 1.0 | exact_match02/std: 0.0 | loss: 8.422116661677137e-05 | loss/mean: 8.422116661677137e-05 | loss/std: 0.0 | lr: 0.0001 | momentum: 0.9\n",
      "* Epoch (271/300) \n"
     ]
    },
    {
     "data": {
      "application/vnd.jupyter.widget-view+json": {
       "model_id": "9ac70d8b19454837886f98707df3eb12",
       "version_major": 2,
       "version_minor": 0
      },
      "text/plain": [
       "272/300 * Epoch (train):   0%|          | 0/1 [00:00<?, ?it/s]"
      ]
     },
     "metadata": {},
     "output_type": "display_data"
    },
    {
     "name": "stdout",
     "output_type": "stream",
     "text": [
      "train (272/300) loss: 0.0014427842106670141 | loss/mean: 0.0014427842106670141 | loss/std: 0.0 | lr: 0.0001 | momentum: 0.9\n"
     ]
    },
    {
     "data": {
      "application/vnd.jupyter.widget-view+json": {
       "model_id": "aa047bb48e8f41a5b0924f70cca106c4",
       "version_major": 2,
       "version_minor": 0
      },
      "text/plain": [
       "272/300 * Epoch (valid):   0%|          | 0/1 [00:00<?, ?it/s]"
      ]
     },
     "metadata": {},
     "output_type": "display_data"
    },
    {
     "name": "stdout",
     "output_type": "stream",
     "text": [
      "valid (272/300) exact_match01: 1.0 | exact_match01/std: 0.0 | exact_match02: 1.0 | exact_match02/std: 0.0 | loss: 8.515798253938556e-05 | loss/mean: 8.515798253938556e-05 | loss/std: 0.0 | lr: 0.0001 | momentum: 0.9\n",
      "* Epoch (272/300) \n"
     ]
    },
    {
     "data": {
      "application/vnd.jupyter.widget-view+json": {
       "model_id": "43102c721f0340f78339e9bc5df74e3d",
       "version_major": 2,
       "version_minor": 0
      },
      "text/plain": [
       "273/300 * Epoch (train):   0%|          | 0/1 [00:00<?, ?it/s]"
      ]
     },
     "metadata": {},
     "output_type": "display_data"
    },
    {
     "name": "stdout",
     "output_type": "stream",
     "text": [
      "train (273/300) loss: 0.0016777284909039736 | loss/mean: 0.0016777284909039736 | loss/std: 0.0 | lr: 0.0001 | momentum: 0.9\n"
     ]
    },
    {
     "data": {
      "application/vnd.jupyter.widget-view+json": {
       "model_id": "a1060c47c811463f8eb8f8b935b1d31d",
       "version_major": 2,
       "version_minor": 0
      },
      "text/plain": [
       "273/300 * Epoch (valid):   0%|          | 0/1 [00:00<?, ?it/s]"
      ]
     },
     "metadata": {},
     "output_type": "display_data"
    },
    {
     "name": "stdout",
     "output_type": "stream",
     "text": [
      "valid (273/300) exact_match01: 1.0 | exact_match01/std: 0.0 | exact_match02: 1.0 | exact_match02/std: 0.0 | loss: 8.610432996647432e-05 | loss/mean: 8.610432996647432e-05 | loss/std: 0.0 | lr: 0.0001 | momentum: 0.9\n",
      "* Epoch (273/300) \n"
     ]
    },
    {
     "data": {
      "application/vnd.jupyter.widget-view+json": {
       "model_id": "7e859fef0ab246df9ec7b7af96a8ae32",
       "version_major": 2,
       "version_minor": 0
      },
      "text/plain": [
       "274/300 * Epoch (train):   0%|          | 0/1 [00:00<?, ?it/s]"
      ]
     },
     "metadata": {},
     "output_type": "display_data"
    },
    {
     "name": "stdout",
     "output_type": "stream",
     "text": [
      "train (274/300) loss: 0.009082967415452003 | loss/mean: 0.009082967415452003 | loss/std: 0.0 | lr: 0.0001 | momentum: 0.9\n"
     ]
    },
    {
     "data": {
      "application/vnd.jupyter.widget-view+json": {
       "model_id": "9d1b8c2999b34f539d8a99cf4374d812",
       "version_major": 2,
       "version_minor": 0
      },
      "text/plain": [
       "274/300 * Epoch (valid):   0%|          | 0/1 [00:00<?, ?it/s]"
      ]
     },
     "metadata": {},
     "output_type": "display_data"
    },
    {
     "name": "stdout",
     "output_type": "stream",
     "text": [
      "valid (274/300) exact_match01: 1.0 | exact_match01/std: 0.0 | exact_match02: 1.0 | exact_match02/std: 0.0 | loss: 8.655615238239989e-05 | loss/mean: 8.655615238239989e-05 | loss/std: 0.0 | lr: 0.0001 | momentum: 0.9\n",
      "* Epoch (274/300) \n"
     ]
    },
    {
     "data": {
      "application/vnd.jupyter.widget-view+json": {
       "model_id": "747b23c833c540c3822c8ce24d544b21",
       "version_major": 2,
       "version_minor": 0
      },
      "text/plain": [
       "275/300 * Epoch (train):   0%|          | 0/1 [00:00<?, ?it/s]"
      ]
     },
     "metadata": {},
     "output_type": "display_data"
    },
    {
     "name": "stdout",
     "output_type": "stream",
     "text": [
      "train (275/300) loss: 0.004102982115000486 | loss/mean: 0.004102982115000486 | loss/std: 0.0 | lr: 0.0001 | momentum: 0.9\n"
     ]
    },
    {
     "data": {
      "application/vnd.jupyter.widget-view+json": {
       "model_id": "4ffcb06a453046f183416b74704ebaa4",
       "version_major": 2,
       "version_minor": 0
      },
      "text/plain": [
       "275/300 * Epoch (valid):   0%|          | 0/1 [00:00<?, ?it/s]"
      ]
     },
     "metadata": {},
     "output_type": "display_data"
    },
    {
     "name": "stdout",
     "output_type": "stream",
     "text": [
      "valid (275/300) exact_match01: 1.0 | exact_match01/std: 0.0 | exact_match02: 1.0 | exact_match02/std: 0.0 | loss: 8.741190686123446e-05 | loss/mean: 8.741190686123446e-05 | loss/std: 0.0 | lr: 0.0001 | momentum: 0.9\n",
      "* Epoch (275/300) \n"
     ]
    },
    {
     "data": {
      "application/vnd.jupyter.widget-view+json": {
       "model_id": "2f23cfc381b84b88ab201be8eff05983",
       "version_major": 2,
       "version_minor": 0
      },
      "text/plain": [
       "276/300 * Epoch (train):   0%|          | 0/1 [00:00<?, ?it/s]"
      ]
     },
     "metadata": {},
     "output_type": "display_data"
    },
    {
     "name": "stdout",
     "output_type": "stream",
     "text": [
      "train (276/300) loss: 0.001895102672278881 | loss/mean: 0.001895102672278881 | loss/std: 0.0 | lr: 0.0001 | momentum: 0.9\n"
     ]
    },
    {
     "data": {
      "application/vnd.jupyter.widget-view+json": {
       "model_id": "758dc71398f748f6b4f3ec75a0c9293a",
       "version_major": 2,
       "version_minor": 0
      },
      "text/plain": [
       "276/300 * Epoch (valid):   0%|          | 0/1 [00:00<?, ?it/s]"
      ]
     },
     "metadata": {},
     "output_type": "display_data"
    },
    {
     "name": "stdout",
     "output_type": "stream",
     "text": [
      "valid (276/300) exact_match01: 1.0 | exact_match01/std: 0.0 | exact_match02: 1.0 | exact_match02/std: 0.0 | loss: 8.828907448332757e-05 | loss/mean: 8.828907448332757e-05 | loss/std: 0.0 | lr: 0.0001 | momentum: 0.9\n",
      "* Epoch (276/300) \n"
     ]
    },
    {
     "data": {
      "application/vnd.jupyter.widget-view+json": {
       "model_id": "17e6af91a4744155878fe4a69654a2f5",
       "version_major": 2,
       "version_minor": 0
      },
      "text/plain": [
       "277/300 * Epoch (train):   0%|          | 0/1 [00:00<?, ?it/s]"
      ]
     },
     "metadata": {},
     "output_type": "display_data"
    },
    {
     "name": "stdout",
     "output_type": "stream",
     "text": [
      "train (277/300) loss: 0.004625353030860424 | loss/mean: 0.004625353030860424 | loss/std: 0.0 | lr: 0.0001 | momentum: 0.9\n"
     ]
    },
    {
     "data": {
      "application/vnd.jupyter.widget-view+json": {
       "model_id": "76be58bd27274807a63e9b60804e986e",
       "version_major": 2,
       "version_minor": 0
      },
      "text/plain": [
       "277/300 * Epoch (valid):   0%|          | 0/1 [00:00<?, ?it/s]"
      ]
     },
     "metadata": {},
     "output_type": "display_data"
    },
    {
     "name": "stdout",
     "output_type": "stream",
     "text": [
      "valid (277/300) exact_match01: 1.0 | exact_match01/std: 0.0 | exact_match02: 1.0 | exact_match02/std: 0.0 | loss: 8.86776324477978e-05 | loss/mean: 8.86776324477978e-05 | loss/std: 0.0 | lr: 0.0001 | momentum: 0.9\n",
      "* Epoch (277/300) \n"
     ]
    },
    {
     "data": {
      "application/vnd.jupyter.widget-view+json": {
       "model_id": "76ec3e2881e141d1934ecb780e620c69",
       "version_major": 2,
       "version_minor": 0
      },
      "text/plain": [
       "278/300 * Epoch (train):   0%|          | 0/1 [00:00<?, ?it/s]"
      ]
     },
     "metadata": {},
     "output_type": "display_data"
    },
    {
     "name": "stdout",
     "output_type": "stream",
     "text": [
      "train (278/300) loss: 0.002726118778809905 | loss/mean: 0.002726118778809905 | loss/std: 0.0 | lr: 0.0001 | momentum: 0.9\n"
     ]
    },
    {
     "data": {
      "application/vnd.jupyter.widget-view+json": {
       "model_id": "a65887c6128842db8334a217f0e9f3bd",
       "version_major": 2,
       "version_minor": 0
      },
      "text/plain": [
       "278/300 * Epoch (valid):   0%|          | 0/1 [00:00<?, ?it/s]"
      ]
     },
     "metadata": {},
     "output_type": "display_data"
    },
    {
     "name": "stdout",
     "output_type": "stream",
     "text": [
      "valid (278/300) exact_match01: 1.0 | exact_match01/std: 0.0 | exact_match02: 1.0 | exact_match02/std: 0.0 | loss: 8.904709829948843e-05 | loss/mean: 8.904709829948843e-05 | loss/std: 0.0 | lr: 0.0001 | momentum: 0.9\n",
      "* Epoch (278/300) \n"
     ]
    },
    {
     "data": {
      "application/vnd.jupyter.widget-view+json": {
       "model_id": "c11c7cb24df645aab0ef9e166665afa5",
       "version_major": 2,
       "version_minor": 0
      },
      "text/plain": [
       "279/300 * Epoch (train):   0%|          | 0/1 [00:00<?, ?it/s]"
      ]
     },
     "metadata": {},
     "output_type": "display_data"
    },
    {
     "name": "stdout",
     "output_type": "stream",
     "text": [
      "train (279/300) loss: 0.0033182865008711815 | loss/mean: 0.0033182865008711815 | loss/std: 0.0 | lr: 0.0001 | momentum: 0.9\n"
     ]
    },
    {
     "data": {
      "application/vnd.jupyter.widget-view+json": {
       "model_id": "1bb4ae03bdf544ef945b5313d5b424f8",
       "version_major": 2,
       "version_minor": 0
      },
      "text/plain": [
       "279/300 * Epoch (valid):   0%|          | 0/1 [00:00<?, ?it/s]"
      ]
     },
     "metadata": {},
     "output_type": "display_data"
    },
    {
     "name": "stdout",
     "output_type": "stream",
     "text": [
      "valid (279/300) exact_match01: 1.0 | exact_match01/std: 0.0 | exact_match02: 1.0 | exact_match02/std: 0.0 | loss: 8.935215009842068e-05 | loss/mean: 8.935215009842068e-05 | loss/std: 0.0 | lr: 0.0001 | momentum: 0.9\n",
      "* Epoch (279/300) \n"
     ]
    },
    {
     "data": {
      "application/vnd.jupyter.widget-view+json": {
       "model_id": "4a7d8ec91366479197b76e87093ca7ef",
       "version_major": 2,
       "version_minor": 0
      },
      "text/plain": [
       "280/300 * Epoch (train):   0%|          | 0/1 [00:00<?, ?it/s]"
      ]
     },
     "metadata": {},
     "output_type": "display_data"
    },
    {
     "name": "stdout",
     "output_type": "stream",
     "text": [
      "train (280/300) loss: 0.0018721569795161486 | loss/mean: 0.0018721569795161486 | loss/std: 0.0 | lr: 0.0001 | momentum: 0.9\n"
     ]
    },
    {
     "data": {
      "application/vnd.jupyter.widget-view+json": {
       "model_id": "c99d189220f0454487f75b0cf6db2eef",
       "version_major": 2,
       "version_minor": 0
      },
      "text/plain": [
       "280/300 * Epoch (valid):   0%|          | 0/1 [00:00<?, ?it/s]"
      ]
     },
     "metadata": {},
     "output_type": "display_data"
    },
    {
     "name": "stdout",
     "output_type": "stream",
     "text": [
      "valid (280/300) exact_match01: 1.0 | exact_match01/std: 0.0 | exact_match02: 1.0 | exact_match02/std: 0.0 | loss: 8.970717317424715e-05 | loss/mean: 8.970717317424715e-05 | loss/std: 0.0 | lr: 0.0001 | momentum: 0.9\n",
      "* Epoch (280/300) \n"
     ]
    },
    {
     "data": {
      "application/vnd.jupyter.widget-view+json": {
       "model_id": "2b67ce9a45c14d0f8a73c7d691c30aae",
       "version_major": 2,
       "version_minor": 0
      },
      "text/plain": [
       "281/300 * Epoch (train):   0%|          | 0/1 [00:00<?, ?it/s]"
      ]
     },
     "metadata": {},
     "output_type": "display_data"
    },
    {
     "name": "stdout",
     "output_type": "stream",
     "text": [
      "train (281/300) loss: 0.001761136343702674 | loss/mean: 0.001761136343702674 | loss/std: 0.0 | lr: 0.0001 | momentum: 0.9\n"
     ]
    },
    {
     "data": {
      "application/vnd.jupyter.widget-view+json": {
       "model_id": "fb8d9d0aa00e4898967a5f2c49239ee2",
       "version_major": 2,
       "version_minor": 0
      },
      "text/plain": [
       "281/300 * Epoch (valid):   0%|          | 0/1 [00:00<?, ?it/s]"
      ]
     },
     "metadata": {},
     "output_type": "display_data"
    },
    {
     "name": "stdout",
     "output_type": "stream",
     "text": [
      "valid (281/300) exact_match01: 1.0 | exact_match01/std: 0.0 | exact_match02: 1.0 | exact_match02/std: 0.0 | loss: 9.015391697175801e-05 | loss/mean: 9.015391697175801e-05 | loss/std: 0.0 | lr: 0.0001 | momentum: 0.9\n",
      "* Epoch (281/300) \n"
     ]
    },
    {
     "data": {
      "application/vnd.jupyter.widget-view+json": {
       "model_id": "04f9d30a7c664ce583fdc302f0195b60",
       "version_major": 2,
       "version_minor": 0
      },
      "text/plain": [
       "282/300 * Epoch (train):   0%|          | 0/1 [00:00<?, ?it/s]"
      ]
     },
     "metadata": {},
     "output_type": "display_data"
    },
    {
     "name": "stdout",
     "output_type": "stream",
     "text": [
      "train (282/300) loss: 0.004345940891653299 | loss/mean: 0.004345940891653299 | loss/std: 0.0 | lr: 0.0001 | momentum: 0.9\n"
     ]
    },
    {
     "data": {
      "application/vnd.jupyter.widget-view+json": {
       "model_id": "edb73280b94445ce8171bc00851dc3fe",
       "version_major": 2,
       "version_minor": 0
      },
      "text/plain": [
       "282/300 * Epoch (valid):   0%|          | 0/1 [00:00<?, ?it/s]"
      ]
     },
     "metadata": {},
     "output_type": "display_data"
    },
    {
     "name": "stdout",
     "output_type": "stream",
     "text": [
      "valid (282/300) exact_match01: 1.0 | exact_match01/std: 0.0 | exact_match02: 1.0 | exact_match02/std: 0.0 | loss: 9.054334077518433e-05 | loss/mean: 9.054334077518433e-05 | loss/std: 0.0 | lr: 0.0001 | momentum: 0.9\n",
      "* Epoch (282/300) \n"
     ]
    },
    {
     "data": {
      "application/vnd.jupyter.widget-view+json": {
       "model_id": "a53c09c17cd249b582f29682fa8bbfa1",
       "version_major": 2,
       "version_minor": 0
      },
      "text/plain": [
       "283/300 * Epoch (train):   0%|          | 0/1 [00:00<?, ?it/s]"
      ]
     },
     "metadata": {},
     "output_type": "display_data"
    },
    {
     "name": "stdout",
     "output_type": "stream",
     "text": [
      "train (283/300) loss: 0.0014512191992253065 | loss/mean: 0.0014512191992253065 | loss/std: 0.0 | lr: 0.0001 | momentum: 0.9\n"
     ]
    },
    {
     "data": {
      "application/vnd.jupyter.widget-view+json": {
       "model_id": "f4d923a846c144039f7109085e65e831",
       "version_major": 2,
       "version_minor": 0
      },
      "text/plain": [
       "283/300 * Epoch (valid):   0%|          | 0/1 [00:00<?, ?it/s]"
      ]
     },
     "metadata": {},
     "output_type": "display_data"
    },
    {
     "name": "stdout",
     "output_type": "stream",
     "text": [
      "valid (283/300) exact_match01: 1.0 | exact_match01/std: 0.0 | exact_match02: 1.0 | exact_match02/std: 0.0 | loss: 9.101485920837149e-05 | loss/mean: 9.101485920837149e-05 | loss/std: 0.0 | lr: 0.0001 | momentum: 0.9\n",
      "* Epoch (283/300) \n"
     ]
    },
    {
     "data": {
      "application/vnd.jupyter.widget-view+json": {
       "model_id": "51e6b027d9ce463883b9e35dbb0fef95",
       "version_major": 2,
       "version_minor": 0
      },
      "text/plain": [
       "284/300 * Epoch (train):   0%|          | 0/1 [00:00<?, ?it/s]"
      ]
     },
     "metadata": {},
     "output_type": "display_data"
    },
    {
     "name": "stdout",
     "output_type": "stream",
     "text": [
      "train (284/300) loss: 0.009500699117779732 | loss/mean: 0.009500699117779732 | loss/std: 0.0 | lr: 0.0001 | momentum: 0.9\n"
     ]
    },
    {
     "data": {
      "application/vnd.jupyter.widget-view+json": {
       "model_id": "42e56f42d5b74f578a6f805b26000502",
       "version_major": 2,
       "version_minor": 0
      },
      "text/plain": [
       "284/300 * Epoch (valid):   0%|          | 0/1 [00:00<?, ?it/s]"
      ]
     },
     "metadata": {},
     "output_type": "display_data"
    },
    {
     "name": "stdout",
     "output_type": "stream",
     "text": [
      "valid (284/300) exact_match01: 1.0 | exact_match01/std: 0.0 | exact_match02: 1.0 | exact_match02/std: 0.0 | loss: 9.230358409695327e-05 | loss/mean: 9.230358409695327e-05 | loss/std: 0.0 | lr: 0.0001 | momentum: 0.9\n",
      "* Epoch (284/300) \n"
     ]
    },
    {
     "data": {
      "application/vnd.jupyter.widget-view+json": {
       "model_id": "793c57e98bb74bbea7cf826b32c48ff1",
       "version_major": 2,
       "version_minor": 0
      },
      "text/plain": [
       "285/300 * Epoch (train):   0%|          | 0/1 [00:00<?, ?it/s]"
      ]
     },
     "metadata": {},
     "output_type": "display_data"
    },
    {
     "name": "stdout",
     "output_type": "stream",
     "text": [
      "train (285/300) loss: 0.002321080071851611 | loss/mean: 0.002321080071851611 | loss/std: 0.0 | lr: 0.0001 | momentum: 0.9\n"
     ]
    },
    {
     "data": {
      "application/vnd.jupyter.widget-view+json": {
       "model_id": "58b05948c38c4018b89989c77ebb7128",
       "version_major": 2,
       "version_minor": 0
      },
      "text/plain": [
       "285/300 * Epoch (valid):   0%|          | 0/1 [00:00<?, ?it/s]"
      ]
     },
     "metadata": {},
     "output_type": "display_data"
    },
    {
     "name": "stdout",
     "output_type": "stream",
     "text": [
      "valid (285/300) exact_match01: 1.0 | exact_match01/std: 0.0 | exact_match02: 1.0 | exact_match02/std: 0.0 | loss: 9.318237425759435e-05 | loss/mean: 9.318237425759435e-05 | loss/std: 0.0 | lr: 0.0001 | momentum: 0.9\n",
      "* Epoch (285/300) \n"
     ]
    },
    {
     "data": {
      "application/vnd.jupyter.widget-view+json": {
       "model_id": "785c2734ef3348c09317743ea6066920",
       "version_major": 2,
       "version_minor": 0
      },
      "text/plain": [
       "286/300 * Epoch (train):   0%|          | 0/1 [00:00<?, ?it/s]"
      ]
     },
     "metadata": {},
     "output_type": "display_data"
    },
    {
     "name": "stdout",
     "output_type": "stream",
     "text": [
      "train (286/300) loss: 0.0019218852976337075 | loss/mean: 0.0019218852976337075 | loss/std: 0.0 | lr: 0.0001 | momentum: 0.9\n"
     ]
    },
    {
     "data": {
      "application/vnd.jupyter.widget-view+json": {
       "model_id": "d0d376eee7c4427887b4a19e8ae30e81",
       "version_major": 2,
       "version_minor": 0
      },
      "text/plain": [
       "286/300 * Epoch (valid):   0%|          | 0/1 [00:00<?, ?it/s]"
      ]
     },
     "metadata": {},
     "output_type": "display_data"
    },
    {
     "name": "stdout",
     "output_type": "stream",
     "text": [
      "valid (286/300) exact_match01: 1.0 | exact_match01/std: 0.0 | exact_match02: 1.0 | exact_match02/std: 0.0 | loss: 9.36143915168941e-05 | loss/mean: 9.36143915168941e-05 | loss/std: 0.0 | lr: 0.0001 | momentum: 0.9\n",
      "* Epoch (286/300) \n"
     ]
    },
    {
     "data": {
      "application/vnd.jupyter.widget-view+json": {
       "model_id": "9c0a0642231c4e3dadbf116eddd986db",
       "version_major": 2,
       "version_minor": 0
      },
      "text/plain": [
       "287/300 * Epoch (train):   0%|          | 0/1 [00:00<?, ?it/s]"
      ]
     },
     "metadata": {},
     "output_type": "display_data"
    },
    {
     "name": "stdout",
     "output_type": "stream",
     "text": [
      "train (287/300) loss: 0.002095113741233945 | loss/mean: 0.002095113741233945 | loss/std: 0.0 | lr: 0.0001 | momentum: 0.9\n"
     ]
    },
    {
     "data": {
      "application/vnd.jupyter.widget-view+json": {
       "model_id": "d7a4820576364fa689e61e055bebccd6",
       "version_major": 2,
       "version_minor": 0
      },
      "text/plain": [
       "287/300 * Epoch (valid):   0%|          | 0/1 [00:00<?, ?it/s]"
      ]
     },
     "metadata": {},
     "output_type": "display_data"
    },
    {
     "name": "stdout",
     "output_type": "stream",
     "text": [
      "valid (287/300) exact_match01: 1.0 | exact_match01/std: 0.0 | exact_match02: 1.0 | exact_match02/std: 0.0 | loss: 9.400819544680417e-05 | loss/mean: 9.400819544680417e-05 | loss/std: 0.0 | lr: 0.0001 | momentum: 0.9\n",
      "* Epoch (287/300) \n"
     ]
    },
    {
     "data": {
      "application/vnd.jupyter.widget-view+json": {
       "model_id": "019bbf5d89b84081b04f625665a88f9a",
       "version_major": 2,
       "version_minor": 0
      },
      "text/plain": [
       "288/300 * Epoch (train):   0%|          | 0/1 [00:00<?, ?it/s]"
      ]
     },
     "metadata": {},
     "output_type": "display_data"
    },
    {
     "name": "stdout",
     "output_type": "stream",
     "text": [
      "train (288/300) loss: 0.0017882892861962318 | loss/mean: 0.0017882892861962318 | loss/std: 0.0 | lr: 0.0001 | momentum: 0.9\n"
     ]
    },
    {
     "data": {
      "application/vnd.jupyter.widget-view+json": {
       "model_id": "ccb564ddd8734c918cc9688be2e61e45",
       "version_major": 2,
       "version_minor": 0
      },
      "text/plain": [
       "288/300 * Epoch (valid):   0%|          | 0/1 [00:00<?, ?it/s]"
      ]
     },
     "metadata": {},
     "output_type": "display_data"
    },
    {
     "name": "stdout",
     "output_type": "stream",
     "text": [
      "valid (288/300) exact_match01: 1.0 | exact_match01/std: 0.0 | exact_match02: 1.0 | exact_match02/std: 0.0 | loss: 9.43912091315724e-05 | loss/mean: 9.43912091315724e-05 | loss/std: 0.0 | lr: 0.0001 | momentum: 0.9\n",
      "* Epoch (288/300) \n"
     ]
    },
    {
     "data": {
      "application/vnd.jupyter.widget-view+json": {
       "model_id": "676f139acb0f42a8b8011ee615fc04ea",
       "version_major": 2,
       "version_minor": 0
      },
      "text/plain": [
       "289/300 * Epoch (train):   0%|          | 0/1 [00:00<?, ?it/s]"
      ]
     },
     "metadata": {},
     "output_type": "display_data"
    },
    {
     "name": "stdout",
     "output_type": "stream",
     "text": [
      "train (289/300) loss: 0.015354705974459648 | loss/mean: 0.015354705974459648 | loss/std: 0.0 | lr: 0.0001 | momentum: 0.9\n"
     ]
    },
    {
     "data": {
      "application/vnd.jupyter.widget-view+json": {
       "model_id": "1b447d86cc4c4338be45b1af801bbd54",
       "version_major": 2,
       "version_minor": 0
      },
      "text/plain": [
       "289/300 * Epoch (valid):   0%|          | 0/1 [00:00<?, ?it/s]"
      ]
     },
     "metadata": {},
     "output_type": "display_data"
    },
    {
     "name": "stdout",
     "output_type": "stream",
     "text": [
      "valid (289/300) exact_match01: 1.0 | exact_match01/std: 0.0 | exact_match02: 1.0 | exact_match02/std: 0.0 | loss: 9.348437015432864e-05 | loss/mean: 9.348437015432864e-05 | loss/std: 0.0 | lr: 0.0001 | momentum: 0.9\n",
      "* Epoch (289/300) \n"
     ]
    },
    {
     "data": {
      "application/vnd.jupyter.widget-view+json": {
       "model_id": "e7057292a1f646dfb3b28d6ddbf7963c",
       "version_major": 2,
       "version_minor": 0
      },
      "text/plain": [
       "290/300 * Epoch (train):   0%|          | 0/1 [00:00<?, ?it/s]"
      ]
     },
     "metadata": {},
     "output_type": "display_data"
    },
    {
     "name": "stdout",
     "output_type": "stream",
     "text": [
      "train (290/300) loss: 0.0017623691819608212 | loss/mean: 0.0017623691819608212 | loss/std: 0.0 | lr: 0.0001 | momentum: 0.9\n"
     ]
    },
    {
     "data": {
      "application/vnd.jupyter.widget-view+json": {
       "model_id": "4c18bc4103c54d5e82726a103fd80074",
       "version_major": 2,
       "version_minor": 0
      },
      "text/plain": [
       "290/300 * Epoch (valid):   0%|          | 0/1 [00:00<?, ?it/s]"
      ]
     },
     "metadata": {},
     "output_type": "display_data"
    },
    {
     "name": "stdout",
     "output_type": "stream",
     "text": [
      "valid (290/300) exact_match01: 1.0 | exact_match01/std: 0.0 | exact_match02: 1.0 | exact_match02/std: 0.0 | loss: 9.258946374757215e-05 | loss/mean: 9.258946374757215e-05 | loss/std: 0.0 | lr: 0.0001 | momentum: 0.9\n",
      "* Epoch (290/300) \n"
     ]
    },
    {
     "data": {
      "application/vnd.jupyter.widget-view+json": {
       "model_id": "c3ad1307d1854a158fef1bfb55119d71",
       "version_major": 2,
       "version_minor": 0
      },
      "text/plain": [
       "291/300 * Epoch (train):   0%|          | 0/1 [00:00<?, ?it/s]"
      ]
     },
     "metadata": {},
     "output_type": "display_data"
    },
    {
     "name": "stdout",
     "output_type": "stream",
     "text": [
      "train (291/300) loss: 0.0022490399423986673 | loss/mean: 0.0022490399423986673 | loss/std: 0.0 | lr: 0.0001 | momentum: 0.9\n"
     ]
    },
    {
     "data": {
      "application/vnd.jupyter.widget-view+json": {
       "model_id": "c9a52c2420704663b237e29d8f0a5d01",
       "version_major": 2,
       "version_minor": 0
      },
      "text/plain": [
       "291/300 * Epoch (valid):   0%|          | 0/1 [00:00<?, ?it/s]"
      ]
     },
     "metadata": {},
     "output_type": "display_data"
    },
    {
     "name": "stdout",
     "output_type": "stream",
     "text": [
      "valid (291/300) exact_match01: 1.0 | exact_match01/std: 0.0 | exact_match02: 1.0 | exact_match02/std: 0.0 | loss: 9.173513535642996e-05 | loss/mean: 9.173513535642996e-05 | loss/std: 0.0 | lr: 0.0001 | momentum: 0.9\n",
      "* Epoch (291/300) \n"
     ]
    },
    {
     "data": {
      "application/vnd.jupyter.widget-view+json": {
       "model_id": "7f555031f0f043868818283416bce473",
       "version_major": 2,
       "version_minor": 0
      },
      "text/plain": [
       "292/300 * Epoch (train):   0%|          | 0/1 [00:00<?, ?it/s]"
      ]
     },
     "metadata": {},
     "output_type": "display_data"
    },
    {
     "name": "stdout",
     "output_type": "stream",
     "text": [
      "train (292/300) loss: 0.0023755759466439486 | loss/mean: 0.0023755759466439486 | loss/std: 0.0 | lr: 0.0001 | momentum: 0.9\n"
     ]
    },
    {
     "data": {
      "application/vnd.jupyter.widget-view+json": {
       "model_id": "380ddabff4214969bc5dd48bd8d0b138",
       "version_major": 2,
       "version_minor": 0
      },
      "text/plain": [
       "292/300 * Epoch (valid):   0%|          | 0/1 [00:00<?, ?it/s]"
      ]
     },
     "metadata": {},
     "output_type": "display_data"
    },
    {
     "name": "stdout",
     "output_type": "stream",
     "text": [
      "valid (292/300) exact_match01: 1.0 | exact_match01/std: 0.0 | exact_match02: 1.0 | exact_match02/std: 0.0 | loss: 9.088201477425173e-05 | loss/mean: 9.088201477425173e-05 | loss/std: 0.0 | lr: 0.0001 | momentum: 0.9\n",
      "* Epoch (292/300) \n"
     ]
    },
    {
     "data": {
      "application/vnd.jupyter.widget-view+json": {
       "model_id": "6a333e1d9b1249c6a0226be3d4e78e77",
       "version_major": 2,
       "version_minor": 0
      },
      "text/plain": [
       "293/300 * Epoch (train):   0%|          | 0/1 [00:00<?, ?it/s]"
      ]
     },
     "metadata": {},
     "output_type": "display_data"
    },
    {
     "name": "stdout",
     "output_type": "stream",
     "text": [
      "train (293/300) loss: 0.0022683055140078068 | loss/mean: 0.0022683055140078068 | loss/std: 0.0 | lr: 0.0001 | momentum: 0.9\n"
     ]
    },
    {
     "data": {
      "application/vnd.jupyter.widget-view+json": {
       "model_id": "8cfcae403a39467cb4b862af8e6b0985",
       "version_major": 2,
       "version_minor": 0
      },
      "text/plain": [
       "293/300 * Epoch (valid):   0%|          | 0/1 [00:00<?, ?it/s]"
      ]
     },
     "metadata": {},
     "output_type": "display_data"
    },
    {
     "name": "stdout",
     "output_type": "stream",
     "text": [
      "valid (293/300) exact_match01: 1.0 | exact_match01/std: 0.0 | exact_match02: 1.0 | exact_match02/std: 0.0 | loss: 8.99562073755078e-05 | loss/mean: 8.99562073755078e-05 | loss/std: 0.0 | lr: 0.0001 | momentum: 0.9\n",
      "* Epoch (293/300) \n"
     ]
    },
    {
     "data": {
      "application/vnd.jupyter.widget-view+json": {
       "model_id": "4f7c54729b87437dae83e6591db2ab11",
       "version_major": 2,
       "version_minor": 0
      },
      "text/plain": [
       "294/300 * Epoch (train):   0%|          | 0/1 [00:00<?, ?it/s]"
      ]
     },
     "metadata": {},
     "output_type": "display_data"
    },
    {
     "name": "stdout",
     "output_type": "stream",
     "text": [
      "train (294/300) loss: 0.00117743038572371 | loss/mean: 0.00117743038572371 | loss/std: 0.0 | lr: 0.0001 | momentum: 0.9\n"
     ]
    },
    {
     "data": {
      "application/vnd.jupyter.widget-view+json": {
       "model_id": "30c5a0f5f2994978ad9d52a50f4da089",
       "version_major": 2,
       "version_minor": 0
      },
      "text/plain": [
       "294/300 * Epoch (valid):   0%|          | 0/1 [00:00<?, ?it/s]"
      ]
     },
     "metadata": {},
     "output_type": "display_data"
    },
    {
     "name": "stdout",
     "output_type": "stream",
     "text": [
      "valid (294/300) exact_match01: 1.0 | exact_match01/std: 0.0 | exact_match02: 1.0 | exact_match02/std: 0.0 | loss: 8.899345993995667e-05 | loss/mean: 8.899345993995667e-05 | loss/std: 0.0 | lr: 0.0001 | momentum: 0.9\n",
      "* Epoch (294/300) \n"
     ]
    },
    {
     "data": {
      "application/vnd.jupyter.widget-view+json": {
       "model_id": "ac1d22b3631e4b80ab687bf8268812b4",
       "version_major": 2,
       "version_minor": 0
      },
      "text/plain": [
       "295/300 * Epoch (train):   0%|          | 0/1 [00:00<?, ?it/s]"
      ]
     },
     "metadata": {},
     "output_type": "display_data"
    },
    {
     "name": "stdout",
     "output_type": "stream",
     "text": [
      "train (295/300) loss: 0.0018277978524565697 | loss/mean: 0.0018277978524565697 | loss/std: 0.0 | lr: 0.0001 | momentum: 0.9\n"
     ]
    },
    {
     "data": {
      "application/vnd.jupyter.widget-view+json": {
       "model_id": "739cf45cca034677ab8234bc4873d003",
       "version_major": 2,
       "version_minor": 0
      },
      "text/plain": [
       "295/300 * Epoch (valid):   0%|          | 0/1 [00:00<?, ?it/s]"
      ]
     },
     "metadata": {},
     "output_type": "display_data"
    },
    {
     "name": "stdout",
     "output_type": "stream",
     "text": [
      "valid (295/300) exact_match01: 1.0 | exact_match01/std: 0.0 | exact_match02: 1.0 | exact_match02/std: 0.0 | loss: 8.806410187389702e-05 | loss/mean: 8.806410187389702e-05 | loss/std: 0.0 | lr: 0.0001 | momentum: 0.9\n",
      "* Epoch (295/300) \n"
     ]
    },
    {
     "data": {
      "application/vnd.jupyter.widget-view+json": {
       "model_id": "5de282389b7c474e8e38689a11706455",
       "version_major": 2,
       "version_minor": 0
      },
      "text/plain": [
       "296/300 * Epoch (train):   0%|          | 0/1 [00:00<?, ?it/s]"
      ]
     },
     "metadata": {},
     "output_type": "display_data"
    },
    {
     "name": "stdout",
     "output_type": "stream",
     "text": [
      "train (296/300) loss: 0.0028130344580858946 | loss/mean: 0.0028130344580858946 | loss/std: 0.0 | lr: 0.0001 | momentum: 0.9\n"
     ]
    },
    {
     "data": {
      "application/vnd.jupyter.widget-view+json": {
       "model_id": "a3fd9b605c2c46829b040b62a6adb228",
       "version_major": 2,
       "version_minor": 0
      },
      "text/plain": [
       "296/300 * Epoch (valid):   0%|          | 0/1 [00:00<?, ?it/s]"
      ]
     },
     "metadata": {},
     "output_type": "display_data"
    },
    {
     "name": "stdout",
     "output_type": "stream",
     "text": [
      "valid (296/300) exact_match01: 1.0 | exact_match01/std: 0.0 | exact_match02: 1.0 | exact_match02/std: 0.0 | loss: 8.701552724232897e-05 | loss/mean: 8.701552724232897e-05 | loss/std: 0.0 | lr: 0.0001 | momentum: 0.9\n",
      "* Epoch (296/300) \n"
     ]
    },
    {
     "data": {
      "application/vnd.jupyter.widget-view+json": {
       "model_id": "83ea0b9f17414e438e272a49c67f15da",
       "version_major": 2,
       "version_minor": 0
      },
      "text/plain": [
       "297/300 * Epoch (train):   0%|          | 0/1 [00:00<?, ?it/s]"
      ]
     },
     "metadata": {},
     "output_type": "display_data"
    },
    {
     "name": "stdout",
     "output_type": "stream",
     "text": [
      "train (297/300) loss: 0.0016317261615768075 | loss/mean: 0.0016317261615768075 | loss/std: 0.0 | lr: 0.0001 | momentum: 0.9\n"
     ]
    },
    {
     "data": {
      "application/vnd.jupyter.widget-view+json": {
       "model_id": "ae057233517d492d9c37f55b24d8859d",
       "version_major": 2,
       "version_minor": 0
      },
      "text/plain": [
       "297/300 * Epoch (valid):   0%|          | 0/1 [00:00<?, ?it/s]"
      ]
     },
     "metadata": {},
     "output_type": "display_data"
    },
    {
     "name": "stdout",
     "output_type": "stream",
     "text": [
      "valid (297/300) exact_match01: 1.0 | exact_match01/std: 0.0 | exact_match02: 1.0 | exact_match02/std: 0.0 | loss: 8.585737668909132e-05 | loss/mean: 8.585737668909132e-05 | loss/std: 0.0 | lr: 0.0001 | momentum: 0.9\n",
      "* Epoch (297/300) \n"
     ]
    },
    {
     "data": {
      "application/vnd.jupyter.widget-view+json": {
       "model_id": "2b1c7896dcdc421c899a854f20e16b62",
       "version_major": 2,
       "version_minor": 0
      },
      "text/plain": [
       "298/300 * Epoch (train):   0%|          | 0/1 [00:00<?, ?it/s]"
      ]
     },
     "metadata": {},
     "output_type": "display_data"
    },
    {
     "name": "stdout",
     "output_type": "stream",
     "text": [
      "train (298/300) loss: 0.00512804975733161 | loss/mean: 0.00512804975733161 | loss/std: 0.0 | lr: 0.0001 | momentum: 0.9\n"
     ]
    },
    {
     "data": {
      "application/vnd.jupyter.widget-view+json": {
       "model_id": "e20ed0c8c77d4d3fa59cb5b042139816",
       "version_major": 2,
       "version_minor": 0
      },
      "text/plain": [
       "298/300 * Epoch (valid):   0%|          | 0/1 [00:00<?, ?it/s]"
      ]
     },
     "metadata": {},
     "output_type": "display_data"
    },
    {
     "name": "stdout",
     "output_type": "stream",
     "text": [
      "valid (298/300) exact_match01: 1.0 | exact_match01/std: 0.0 | exact_match02: 1.0 | exact_match02/std: 0.0 | loss: 8.481248369207606e-05 | loss/mean: 8.481248369207606e-05 | loss/std: 0.0 | lr: 0.0001 | momentum: 0.9\n",
      "* Epoch (298/300) \n"
     ]
    },
    {
     "data": {
      "application/vnd.jupyter.widget-view+json": {
       "model_id": "725c7fde0d634f81aa7d1afc0c271258",
       "version_major": 2,
       "version_minor": 0
      },
      "text/plain": [
       "299/300 * Epoch (train):   0%|          | 0/1 [00:00<?, ?it/s]"
      ]
     },
     "metadata": {},
     "output_type": "display_data"
    },
    {
     "name": "stdout",
     "output_type": "stream",
     "text": [
      "train (299/300) loss: 0.001812689588405192 | loss/mean: 0.001812689588405192 | loss/std: 0.0 | lr: 0.0001 | momentum: 0.9\n"
     ]
    },
    {
     "data": {
      "application/vnd.jupyter.widget-view+json": {
       "model_id": "9eb44e7c55584263a0e4e9d589c533e7",
       "version_major": 2,
       "version_minor": 0
      },
      "text/plain": [
       "299/300 * Epoch (valid):   0%|          | 0/1 [00:00<?, ?it/s]"
      ]
     },
     "metadata": {},
     "output_type": "display_data"
    },
    {
     "name": "stdout",
     "output_type": "stream",
     "text": [
      "valid (299/300) exact_match01: 1.0 | exact_match01/std: 0.0 | exact_match02: 1.0 | exact_match02/std: 0.0 | loss: 8.37580519146286e-05 | loss/mean: 8.37580519146286e-05 | loss/std: 0.0 | lr: 0.0001 | momentum: 0.9\n",
      "* Epoch (299/300) \n"
     ]
    },
    {
     "data": {
      "application/vnd.jupyter.widget-view+json": {
       "model_id": "8dc78e6b8c8a4cec939d33a47792c504",
       "version_major": 2,
       "version_minor": 0
      },
      "text/plain": [
       "300/300 * Epoch (train):   0%|          | 0/1 [00:00<?, ?it/s]"
      ]
     },
     "metadata": {},
     "output_type": "display_data"
    },
    {
     "name": "stdout",
     "output_type": "stream",
     "text": [
      "train (300/300) loss: 0.011917847208678722 | loss/mean: 0.011917847208678722 | loss/std: 0.0 | lr: 0.0001 | momentum: 0.9\n"
     ]
    },
    {
     "data": {
      "application/vnd.jupyter.widget-view+json": {
       "model_id": "4ae85d822d174d2b9729b91362d0db44",
       "version_major": 2,
       "version_minor": 0
      },
      "text/plain": [
       "300/300 * Epoch (valid):   0%|          | 0/1 [00:00<?, ?it/s]"
      ]
     },
     "metadata": {},
     "output_type": "display_data"
    },
    {
     "name": "stdout",
     "output_type": "stream",
     "text": [
      "valid (300/300) exact_match01: 1.0 | exact_match01/std: 0.0 | exact_match02: 1.0 | exact_match02/std: 0.0 | loss: 8.248880476457998e-05 | loss/mean: 8.248880476457998e-05 | loss/std: 0.0 | lr: 0.0001 | momentum: 0.9\n",
      "* Epoch (300/300) \n",
      "Top models:\n",
      "./models/t5-small_test_one_object p(comment, x_t+1 | x_t, doc)/checkpoints/model.0256.pth\t0.0001\n"
     ]
    },
    {
     "data": {
      "text/html": [
       "<br/>Waiting for W&B process to finish, PID 17743... <strong style=\"color:green\">(success).</strong>"
      ],
      "text/plain": [
       "<IPython.core.display.HTML object>"
      ]
     },
     "metadata": {},
     "output_type": "display_data"
    },
    {
     "data": {
      "application/vnd.jupyter.widget-view+json": {
       "model_id": "",
       "version_major": 2,
       "version_minor": 0
      },
      "text/plain": [
       "VBox(children=(Label(value=' 0.00MB of 0.00MB uploaded (0.00MB deduped)\\r'), FloatProgress(value=1.0, max=1.0)…"
      ]
     },
     "metadata": {},
     "output_type": "display_data"
    },
    {
     "data": {
      "text/html": [
       "<style>\n",
       "    table.wandb td:nth-child(1) { padding: 0 10px; text-align: right }\n",
       "    .wandb-row { display: flex; flex-direction: row; flex-wrap: wrap; width: 100% }\n",
       "    .wandb-col { display: flex; flex-direction: column; flex-basis: 100%; flex: 1; padding: 10px; }\n",
       "    </style>\n",
       "<div class=\"wandb-row\"><div class=\"wandb-col\">\n",
       "<h3>Run history:</h3><br/><table class=\"wandb\"><tr><td>exact_match01/std_epoch/valid</td><td>▁▁▁▁▁▁▁▁▁▁▁▁▁▁▁▁▁▁▁▁▁▁▁▁▁▁▁▁▁▁▁▁▁▁▁▁▁▁▁▁</td></tr><tr><td>exact_match01_epoch/valid</td><td>▁▁▁▁▁▁▁█████████████████████████████████</td></tr><tr><td>exact_match02/std_epoch/valid</td><td>▁▁▁▁▁▁▁▁▁▁▁▁▁▁▁▁▁▁▁▁▁▁▁▁▁▁▁▁▁▁▁▁▁▁▁▁▁▁▁▁</td></tr><tr><td>exact_match02_epoch/valid</td><td>▁▁▁▁▁▁▁█████████████████████████████████</td></tr><tr><td>loss/mean_epoch/train</td><td>█▇▄▄▃▂▂▁▂▁▁▁▁▁▁▁▁▁▁▁▁▁▁▁▁▁▁▁▁▁▁▁▁▁▁▁▁▁▁▁</td></tr><tr><td>loss/mean_epoch/valid</td><td>█▆▄▃▂▂▁▁▁▁▁▁▁▁▁▁▁▁▁▁▁▁▁▁▁▁▁▁▁▁▁▁▁▁▁▁▁▁▁▁</td></tr><tr><td>loss/std_epoch/train</td><td>▁▁▁▁▁▁▁▁▁▁▁▁▁▁▁▁▁▁▁▁▁▁▁▁▁▁▁▁▁▁▁▁▁▁▁▁▁▁▁▁</td></tr><tr><td>loss/std_epoch/valid</td><td>▁▁▁▁▁▁▁▁▁▁▁▁▁▁▁▁▁▁▁▁▁▁▁▁▁▁▁▁▁▁▁▁▁▁▁▁▁▁▁▁</td></tr><tr><td>loss_epoch/train</td><td>█▇▄▄▃▂▂▁▂▁▁▁▁▁▁▁▁▁▁▁▁▁▁▁▁▁▁▁▁▁▁▁▁▁▁▁▁▁▁▁</td></tr><tr><td>loss_epoch/valid</td><td>█▆▄▃▂▂▁▁▁▁▁▁▁▁▁▁▁▁▁▁▁▁▁▁▁▁▁▁▁▁▁▁▁▁▁▁▁▁▁▁</td></tr><tr><td>lr_epoch/train</td><td>▁▁▁▁▁▁▁▁▁▁▁▁▁▁▁▁▁▁▁▁▁▁▁▁▁▁▁▁▁▁▁▁▁▁▁▁▁▁▁▁</td></tr><tr><td>lr_epoch/valid</td><td>▁▁▁▁▁▁▁▁▁▁▁▁▁▁▁▁▁▁▁▁▁▁▁▁▁▁▁▁▁▁▁▁▁▁▁▁▁▁▁▁</td></tr><tr><td>momentum_epoch/train</td><td>▁▁▁▁▁▁▁▁▁▁▁▁▁▁▁▁▁▁▁▁▁▁▁▁▁▁▁▁▁▁▁▁▁▁▁▁▁▁▁▁</td></tr><tr><td>momentum_epoch/valid</td><td>▁▁▁▁▁▁▁▁▁▁▁▁▁▁▁▁▁▁▁▁▁▁▁▁▁▁▁▁▁▁▁▁▁▁▁▁▁▁▁▁</td></tr></table><br/></div><div class=\"wandb-col\">\n",
       "<h3>Run summary:</h3><br/><table class=\"wandb\"><tr><td>exact_match01/std_epoch/valid</td><td>0.0</td></tr><tr><td>exact_match01_epoch/valid</td><td>1.0</td></tr><tr><td>exact_match02/std_epoch/valid</td><td>0.0</td></tr><tr><td>exact_match02_epoch/valid</td><td>1.0</td></tr><tr><td>loss/mean_epoch/train</td><td>0.01192</td></tr><tr><td>loss/mean_epoch/valid</td><td>8e-05</td></tr><tr><td>loss/std_epoch/train</td><td>0.0</td></tr><tr><td>loss/std_epoch/valid</td><td>0.0</td></tr><tr><td>loss_epoch/train</td><td>0.01192</td></tr><tr><td>loss_epoch/valid</td><td>8e-05</td></tr><tr><td>lr_epoch/train</td><td>0.0001</td></tr><tr><td>lr_epoch/valid</td><td>0.0001</td></tr><tr><td>momentum_epoch/train</td><td>0.9</td></tr><tr><td>momentum_epoch/valid</td><td>0.9</td></tr></table>\n",
       "</div></div>\n",
       "Synced 5 W&B file(s), 0 media file(s), 0 artifact file(s) and 0 other file(s)\n",
       "<br/>Synced <strong style=\"color:#cdcd00\">t5-small_test_one_object</strong>: <a href=\"https://wandb.ai/jdev8/interactive_lm/runs/31wg8zke\" target=\"_blank\">https://wandb.ai/jdev8/interactive_lm/runs/31wg8zke</a><br/>\n",
       "Find logs at: <code>./wandb/run-20221204_194539-31wg8zke/logs</code><br/>\n"
      ],
      "text/plain": [
       "<IPython.core.display.HTML object>"
      ]
     },
     "metadata": {},
     "output_type": "display_data"
    }
   ],
   "source": [
    "runner = dl.SupervisedRunner()\n",
    "\n",
    "# CONFIG.scheduler = 'OneCycleLR(max_lr=0.005, base_momentum=0.85, max_momentum=0.95, div_factor=10.0)'\n",
    "\n",
    "wandb_logger = dl.WandbLogger(project=\"interactive_lm\", \n",
    "                              name=CONFIG.name, \n",
    "                              group=CONFIG.group)\n",
    "# wandb_logger.log_hparams(CONFIG.__dict__)\n",
    "\n",
    "runner.train(\n",
    "    loaders=loaders,\n",
    "    model=model,\n",
    "    criterion=Criterion(),\n",
    "    optimizer=optimizer,\n",
    "#     scheduler=torch.optim.lr_scheduler.OneCycleLR(optimizer, 0.005, \n",
    "#                                                   total_steps=CONFIG.n_epochs*len(loaders_pattern['train']), \n",
    "#                                                   base_momentum=0.85, max_momentum=0.95, div_factor=10.0),\n",
    "    num_epochs=CONFIG.n_epochs,\n",
    "    callbacks=[\n",
    "        # dl.EarlyStoppingCallback(loader_key='valid', metric_key='exact_match02', minimize=False, patience=5),\n",
    "        ExactMatchCallback(beam_size=CONFIG.beam_size),\n",
    "    ],\n",
    "    loggers={'wandb': wandb_logger},\n",
    "    logdir=f'./models/{CONFIG.description}',\n",
    "    valid_loader='valid',\n",
    "    valid_metric='loss',\n",
    "    minimize_valid_metric=True,\n",
    "    verbose=True,\n",
    "#     check=True,\n",
    "#     cpu=True,\n",
    ")"
   ]
  },
  {
   "cell_type": "code",
   "execution_count": null,
   "metadata": {},
   "outputs": [],
   "source": []
  },
  {
   "cell_type": "code",
   "execution_count": null,
   "metadata": {},
   "outputs": [],
   "source": []
  },
  {
   "cell_type": "code",
   "execution_count": null,
   "metadata": {},
   "outputs": [],
   "source": []
  },
  {
   "cell_type": "code",
   "execution_count": 24,
   "metadata": {
    "scrolled": false
   },
   "outputs": [
    {
     "name": "stdout",
     "output_type": "stream",
     "text": [
      "\n",
      "\n",
      "----------------------------\t QUERY 0\t ----------------------------\n",
      "\n",
      "Src query:\n",
      " TEXT vinge may refer to:, advokatfirman vinge, one of sweden's two largest law firms *en lille and med vinge, a popular danish song about a little duck *joan d. vinge (born 1948), an american science fiction author *vernor vinge (born 1944), a retired san diego state university professor of mathematics, computer scientist, and science fiction author **the collected stories of vernor vinge DOCS doc1: vernor steffen vinge (/  v r n r  v  n d i / (); born october 2, 1944) is an american science fiction author and retired professor. he taught mathematics and computer science at san diego state university.he is the first wide-scale popularizer of the technological singularity concept and perhaps the first to present a fictional cyberspace. he has won the hugo award for his... doc2: vernor vinge born in waukesha, wisconsin, the united states october 02, 1944 genre science fiction fantasy, nonfiction edit data vernor steffen vinge is a retired san diego state university professor of mathematics, computer scientist, and science fiction author. doc3: vernor vinge is an american author who specializes in science fiction novels. he is best known for his award winning novels most notably a fire upon the deep, rainbow end, and a deepness in the sky. vinge is also an accomplished academician, having held teaching position in mathematics and computer science at the university of san diego.\n",
      "\n",
      "Tgt query:\n",
      " comment: cleanup TEXT vinge may refer to:, advokatfirman vinge, one of sweden's two largest law firms * joan d. vinge (born 1948), an american science fiction author * vernor vinge (born 1944), a retired san diego state university professor of mathematics, computer scientist, and science fiction author, ving (disambiguation)\n",
      "\n",
      "\n",
      "----------------------------\t GENERATED\t ----------------------------\n",
      "\n",
      "0:\n",
      "comment: cleanup TEXT vinge may refer to:, advokatfirman vinge, one of sweden's two largest law firms * joan d. vinge (born 1948), an american science fiction author * vernor vinge (born 1944), a retired san diego state university professor of mathematics, computer scientist, and science fiction author, ving (disambiguation)\n",
      "\n",
      "1:\n",
      "comment: cleanup TEXT vinge may refer to:, advokatfirman vinge, one of sweden's two largest law firms * joan d. vinge (born 1948), an american science fiction author * vernor vinge (born 1944), a retired san diego state university professor of math, computer scientist, and science fiction author, ving (disambiguation)\n",
      "\n",
      "\n",
      "X_T:\n",
      "Vinge may refer to:, Advokatfirman Vinge, one of Sweden's two largest law firms\n",
      "*En lille and med vinge, a popular Danish song about a little duck\n",
      "*Joan D. Vinge (born 1948), an American science fiction author\n",
      "*Vernor Vinge (born 1944), a retired San Diego State University Professor of Mathematics, computer scientist, and science fiction author\n",
      "**The Collected Stories of Vernor Vinge\n",
      "\n",
      "X_T+1:\n",
      "Vinge may refer to:,  Advokatfirman Vinge, one of Sweden's two largest law firms\n",
      "* Joan D. Vinge (born 1948), an American science fiction author\n",
      "* Vernor Vinge (born 1944), a retired San Diego State University Professor of Mathematics, computer scientist, and science fiction author\n",
      "\n",
      ",  Ving (disambiguation)\n",
      "\n",
      "diff:\n",
      " Vernor Vinge\n",
      "\n",
      ",  Ving (disambiguation)\n"
     ]
    }
   ],
   "source": [
    "device = runner.engine.device\n",
    "runner.model.eval()\n",
    "with torch.no_grad():\n",
    "    for i in [0]:\n",
    "        src_, tgt_ = ds_edit[i]\n",
    "        src_inp = torch.tensor(src_['input_ids']).view(1,-1).to(runner.engine.device)\n",
    "        generated = runner.model.pretrained.generate(src_inp,\n",
    "                                              attention_mask=(src_inp != 0).float().to(runner.engine.device),\n",
    "                                            # pad_token_id=tokenizer.pad_token_id,\n",
    "                                            # bos_token_id=tokenizer.bos_token_id,\n",
    "                                            # eos_token_id=tokenizer.eos_token_id,\n",
    "                                              num_beams=CONFIG.beam_size,\n",
    "                                              num_return_sequences=CONFIG.beam_size,\n",
    "                                              max_length=1000\n",
    "        )\n",
    "        src_text = tokenizer.decode(src_['input_ids'], skip_special_tokens=True)\n",
    "        tgt_text = tokenizer.decode(tgt_['input_ids'], skip_special_tokens=True)\n",
    "        print(f'\\n\\n----------------------------\\t QUERY {i}\\t ----------------------------\\n')\n",
    "        print(f'Src query:\\n {src_text}')\n",
    "        print(f'\\nTgt query:\\n {tgt_text}')\n",
    "        \n",
    "        print(f'\\n\\n----------------------------\\t GENERATED\\t ----------------------------\\n')\n",
    "\n",
    "        for j in range(CONFIG.beam_size):\n",
    "            to_gen = generated[j]\n",
    "            gen_text = tokenizer.decode(to_gen, skip_special_tokens=True)\n",
    "            print(f'{j}:\\n{gen_text}\\n')\n",
    "        \n",
    "        src_text = df.iloc[i]['old_text']\n",
    "        tgt_text = df.iloc[i]['new_text']\n",
    "        diff_text = df.iloc[i]['diff']\n",
    "        print(f'\\nX_T:\\n{src_text}')\n",
    "        print(f'\\nX_T+1:\\n{tgt_text}')\n",
    "        print(f'\\ndiff:\\n{diff_text}')"
   ]
  },
  {
   "cell_type": "code",
   "execution_count": null,
   "metadata": {},
   "outputs": [],
   "source": []
  }
 ],
 "metadata": {
  "kernelspec": {
   "display_name": "Python 3",
   "language": "python",
   "name": "python3"
  },
  "language_info": {
   "codemirror_mode": {
    "name": "ipython",
    "version": 3
   },
   "file_extension": ".py",
   "mimetype": "text/x-python",
   "name": "python",
   "nbconvert_exporter": "python",
   "pygments_lexer": "ipython3",
   "version": "3.7.7"
  }
 },
 "nbformat": 4,
 "nbformat_minor": 4
}
