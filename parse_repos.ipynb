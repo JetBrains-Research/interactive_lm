{
 "cells": [
  {
   "cell_type": "code",
   "execution_count": 1,
   "metadata": {},
   "outputs": [],
   "source": [
    "import pydriller\n",
    "import pandas as pd\n",
    "from tqdm import tqdm\n",
    "import shutil"
   ]
  },
  {
   "cell_type": "code",
   "execution_count": 2,
   "metadata": {},
   "outputs": [
    {
     "data": {
      "text/html": [
       "<div>\n",
       "<style scoped>\n",
       "    .dataframe tbody tr th:only-of-type {\n",
       "        vertical-align: middle;\n",
       "    }\n",
       "\n",
       "    .dataframe tbody tr th {\n",
       "        vertical-align: top;\n",
       "    }\n",
       "\n",
       "    .dataframe thead th {\n",
       "        text-align: right;\n",
       "    }\n",
       "</style>\n",
       "<table border=\"1\" class=\"dataframe\">\n",
       "  <thead>\n",
       "    <tr style=\"text-align: right;\">\n",
       "      <th></th>\n",
       "      <th>name</th>\n",
       "      <th>isFork</th>\n",
       "      <th>commits</th>\n",
       "      <th>branches</th>\n",
       "      <th>defaultBranch</th>\n",
       "      <th>releases</th>\n",
       "      <th>contributors</th>\n",
       "      <th>license</th>\n",
       "      <th>watchers</th>\n",
       "      <th>stargazers</th>\n",
       "      <th>...</th>\n",
       "      <th>homepage</th>\n",
       "      <th>mainLanguage</th>\n",
       "      <th>totalIssues</th>\n",
       "      <th>openIssues</th>\n",
       "      <th>totalPullRequests</th>\n",
       "      <th>openPullRequests</th>\n",
       "      <th>lastCommit</th>\n",
       "      <th>lastCommitSHA</th>\n",
       "      <th>hasWiki</th>\n",
       "      <th>isArchived</th>\n",
       "    </tr>\n",
       "  </thead>\n",
       "  <tbody>\n",
       "    <tr>\n",
       "      <th>0</th>\n",
       "      <td>knadh/ml2en</td>\n",
       "      <td>False</td>\n",
       "      <td>23</td>\n",
       "      <td>1</td>\n",
       "      <td>master</td>\n",
       "      <td>0</td>\n",
       "      <td>3.0</td>\n",
       "      <td>NaN</td>\n",
       "      <td>5</td>\n",
       "      <td>56</td>\n",
       "      <td>...</td>\n",
       "      <td>NaN</td>\n",
       "      <td>Python</td>\n",
       "      <td>4.0</td>\n",
       "      <td>1.0</td>\n",
       "      <td>4.0</td>\n",
       "      <td>0.0</td>\n",
       "      <td>2021-12-10T08:10:03</td>\n",
       "      <td>dd706167d52f8c9f556ee15869e00749c71df677</td>\n",
       "      <td>True</td>\n",
       "      <td>False</td>\n",
       "    </tr>\n",
       "    <tr>\n",
       "      <th>1</th>\n",
       "      <td>er10yi/magicude</td>\n",
       "      <td>False</td>\n",
       "      <td>98</td>\n",
       "      <td>2</td>\n",
       "      <td>main</td>\n",
       "      <td>12</td>\n",
       "      <td>1.0</td>\n",
       "      <td>NaN</td>\n",
       "      <td>12</td>\n",
       "      <td>423</td>\n",
       "      <td>...</td>\n",
       "      <td>NaN</td>\n",
       "      <td>Python</td>\n",
       "      <td>9.0</td>\n",
       "      <td>2.0</td>\n",
       "      <td>2.0</td>\n",
       "      <td>0.0</td>\n",
       "      <td>2022-01-10T03:28:29</td>\n",
       "      <td>b20f98939e928847f323d903f358221380a1ea74</td>\n",
       "      <td>True</td>\n",
       "      <td>False</td>\n",
       "    </tr>\n",
       "    <tr>\n",
       "      <th>2</th>\n",
       "      <td>keguoyu/minijvm</td>\n",
       "      <td>False</td>\n",
       "      <td>11</td>\n",
       "      <td>3</td>\n",
       "      <td>main</td>\n",
       "      <td>0</td>\n",
       "      <td>0.0</td>\n",
       "      <td>NaN</td>\n",
       "      <td>1</td>\n",
       "      <td>62</td>\n",
       "      <td>...</td>\n",
       "      <td>NaN</td>\n",
       "      <td>Python</td>\n",
       "      <td>NaN</td>\n",
       "      <td>NaN</td>\n",
       "      <td>NaN</td>\n",
       "      <td>NaN</td>\n",
       "      <td>2021-02-20T07:13:03</td>\n",
       "      <td>4da519cadead7164de37fb9b8913360dd45f9193</td>\n",
       "      <td>True</td>\n",
       "      <td>False</td>\n",
       "    </tr>\n",
       "    <tr>\n",
       "      <th>3</th>\n",
       "      <td>nordnet/next-api-v2-examples</td>\n",
       "      <td>False</td>\n",
       "      <td>35</td>\n",
       "      <td>2</td>\n",
       "      <td>master</td>\n",
       "      <td>0</td>\n",
       "      <td>10.0</td>\n",
       "      <td>MIT License</td>\n",
       "      <td>17</td>\n",
       "      <td>32</td>\n",
       "      <td>...</td>\n",
       "      <td>https://www.nordnet.se/externalapi/docs</td>\n",
       "      <td>Python</td>\n",
       "      <td>0.0</td>\n",
       "      <td>0.0</td>\n",
       "      <td>10.0</td>\n",
       "      <td>0.0</td>\n",
       "      <td>2022-03-10T11:18:36</td>\n",
       "      <td>73ed85404f10d879d8e5959a88a19dfad3b41827</td>\n",
       "      <td>False</td>\n",
       "      <td>False</td>\n",
       "    </tr>\n",
       "    <tr>\n",
       "      <th>4</th>\n",
       "      <td>aubreyrjones/parasol</td>\n",
       "      <td>False</td>\n",
       "      <td>70</td>\n",
       "      <td>1</td>\n",
       "      <td>master</td>\n",
       "      <td>0</td>\n",
       "      <td>1.0</td>\n",
       "      <td>BSD 2-Clause Simplified License</td>\n",
       "      <td>3</td>\n",
       "      <td>18</td>\n",
       "      <td>...</td>\n",
       "      <td>NaN</td>\n",
       "      <td>Python</td>\n",
       "      <td>0.0</td>\n",
       "      <td>0.0</td>\n",
       "      <td>0.0</td>\n",
       "      <td>0.0</td>\n",
       "      <td>2021-04-26T02:09:20</td>\n",
       "      <td>3110aec5b8824f10d324e35d02997b762f0436f4</td>\n",
       "      <td>True</td>\n",
       "      <td>False</td>\n",
       "    </tr>\n",
       "  </tbody>\n",
       "</table>\n",
       "<p>5 rows × 25 columns</p>\n",
       "</div>"
      ],
      "text/plain": [
       "                           name  isFork  commits  branches defaultBranch  \\\n",
       "0                   knadh/ml2en   False       23         1        master   \n",
       "1               er10yi/magicude   False       98         2          main   \n",
       "2               keguoyu/minijvm   False       11         3          main   \n",
       "3  nordnet/next-api-v2-examples   False       35         2        master   \n",
       "4          aubreyrjones/parasol   False       70         1        master   \n",
       "\n",
       "   releases  contributors                          license  watchers  \\\n",
       "0         0           3.0                              NaN         5   \n",
       "1        12           1.0                              NaN        12   \n",
       "2         0           0.0                              NaN         1   \n",
       "3         0          10.0                      MIT License        17   \n",
       "4         0           1.0  BSD 2-Clause Simplified License         3   \n",
       "\n",
       "   stargazers  ...                                 homepage  mainLanguage  \\\n",
       "0          56  ...                                      NaN        Python   \n",
       "1         423  ...                                      NaN        Python   \n",
       "2          62  ...                                      NaN        Python   \n",
       "3          32  ...  https://www.nordnet.se/externalapi/docs        Python   \n",
       "4          18  ...                                      NaN        Python   \n",
       "\n",
       "  totalIssues openIssues totalPullRequests openPullRequests  \\\n",
       "0         4.0        1.0               4.0              0.0   \n",
       "1         9.0        2.0               2.0              0.0   \n",
       "2         NaN        NaN               NaN              NaN   \n",
       "3         0.0        0.0              10.0              0.0   \n",
       "4         0.0        0.0               0.0              0.0   \n",
       "\n",
       "            lastCommit                             lastCommitSHA  hasWiki  \\\n",
       "0  2021-12-10T08:10:03  dd706167d52f8c9f556ee15869e00749c71df677     True   \n",
       "1  2022-01-10T03:28:29  b20f98939e928847f323d903f358221380a1ea74     True   \n",
       "2  2021-02-20T07:13:03  4da519cadead7164de37fb9b8913360dd45f9193     True   \n",
       "3  2022-03-10T11:18:36  73ed85404f10d879d8e5959a88a19dfad3b41827    False   \n",
       "4  2021-04-26T02:09:20  3110aec5b8824f10d324e35d02997b762f0436f4     True   \n",
       "\n",
       "   isArchived  \n",
       "0       False  \n",
       "1       False  \n",
       "2       False  \n",
       "3       False  \n",
       "4       False  \n",
       "\n",
       "[5 rows x 25 columns]"
      ]
     },
     "execution_count": 2,
     "metadata": {},
     "output_type": "execute_result"
    }
   ],
   "source": [
    "df = pd.read_csv('results.csv', encoding='latin-1')\n",
    "df.head()"
   ]
  },
  {
   "cell_type": "code",
   "execution_count": 3,
   "metadata": {},
   "outputs": [
    {
     "data": {
      "text/plain": [
       "(152562, 25)"
      ]
     },
     "execution_count": 3,
     "metadata": {},
     "output_type": "execute_result"
    }
   ],
   "source": [
    "df.shape"
   ]
  },
  {
   "cell_type": "code",
   "execution_count": 4,
   "metadata": {},
   "outputs": [
    {
     "data": {
      "text/plain": [
       "('https://github.com/knadh/ml2en', 'knadh')"
      ]
     },
     "execution_count": 4,
     "metadata": {},
     "output_type": "execute_result"
    }
   ],
   "source": [
    "urls = df['name'].apply(lambda x: \"https://github.com/\" + x)\n",
    "names = df['name'].apply(lambda x: x.split('/')[0])\n",
    "urls[0], names[0]"
   ]
  },
  {
   "cell_type": "code",
   "execution_count": 5,
   "metadata": {},
   "outputs": [],
   "source": [
    "# urls = urls[:5]"
   ]
  },
  {
   "cell_type": "code",
   "execution_count": 6,
   "metadata": {},
   "outputs": [],
   "source": [
    "from langdetect import detect"
   ]
  },
  {
   "cell_type": "code",
   "execution_count": 7,
   "metadata": {},
   "outputs": [],
   "source": [
    "import os\n",
    "if not os.path.exists('tmp_repos'):\n",
    "    os.mkdir('tmp_repos')"
   ]
  },
  {
   "cell_type": "code",
   "execution_count": 8,
   "metadata": {},
   "outputs": [],
   "source": [
    "def get_dir_size(path='.'):\n",
    "    total = 0\n",
    "    total_files = 0\n",
    "    total_py_files = 0\n",
    "    with os.scandir(path) as it:\n",
    "        for entry in it:\n",
    "            if entry.is_file():\n",
    "                total += entry.stat().st_size\n",
    "                total_files += 1\n",
    "                if entry.name[-3:] == '.py':\n",
    "                    total_py_files += 1\n",
    "            elif entry.is_dir():\n",
    "                a, b, c = get_dir_size(entry.path)\n",
    "                total += a\n",
    "                total_files += b\n",
    "                total_py_files += c\n",
    "    return total, total_files, total_py_files"
   ]
  },
  {
   "cell_type": "code",
   "execution_count": 9,
   "metadata": {},
   "outputs": [],
   "source": [
    "assert len(urls) == len(names)"
   ]
  },
  {
   "cell_type": "code",
   "execution_count": null,
   "metadata": {},
   "outputs": [],
   "source": [
    "MAX_SYMB_FILES_LEN = 5000\n",
    "filters = ['numpy', 'pandas', 'sklearn', 'keras', 'torch', 'transformers', 'tensorflow',\n",
    "           'scipy', 'statsmodels', 'flask', 'django', 'fastapi', 'gensim', 'nltk']\n",
    "\n",
    "counter = 0\n",
    "with open('good.txt', 'w') as f:\n",
    "    pass\n",
    "counter_no_fiters = 0\n",
    "with open('good_no_filt.txt', 'w') as f:\n",
    "    pass"
   ]
  },
  {
   "cell_type": "code",
   "execution_count": 11,
   "metadata": {},
   "outputs": [],
   "source": [
    "urls = urls[108:]\n",
    "names = names[108:]\n",
    "assert len(urls) == len(names)"
   ]
  },
  {
   "cell_type": "code",
   "execution_count": null,
   "metadata": {
    "scrolled": false
   },
   "outputs": [
    {
     "name": "stderr",
     "output_type": "stream",
     "text": [
      "  6%|▋         | 9646/152454 [8:48:55<136:56:06,  3.45s/it, num_good=409, num_good_no_filter=1819] "
     ]
    }
   ],
   "source": [
    "pbar = tqdm(zip(urls, names), total=len(urls), position=0, leave=True)\n",
    "for url, name in pbar:\n",
    "    if not os.path.exists(f'tmp_repos/{name}'):\n",
    "        os.mkdir(f'tmp_repos/{name}')\n",
    "    repo = pydriller.Repository(url, clone_repo_to=f'tmp_repos/{name}', only_modifications_with_file_types='.py',\n",
    "                                num_workers=6)\n",
    "    try:\n",
    "        commits = list(repo.traverse_commits())\n",
    "    except:\n",
    "        shutil.rmtree(f'tmp_repos/{name}')\n",
    "        continue\n",
    "    \n",
    "    try:\n",
    "        repo_size, total_files, total_py_files = get_dir_size(f'tmp_repos/{name}')\n",
    "        if total_files > 60: # or repo_size * 10e-6 > 300: # or total_py_files / total_files < 0.2:\n",
    "            shutil.rmtree(f'tmp_repos/{name}')\n",
    "            continue\n",
    "    except:\n",
    "        continue\n",
    "    \n",
    "    for i, commit in enumerate(commits):\n",
    "        try:\n",
    "            if commit.files != 1:\n",
    "                continue\n",
    "            if commit.msg is None or commit.msg == '':\n",
    "                continue\n",
    "            if detect(commit.msg) != 'en':\n",
    "                continue\n",
    "            if commit.lines > 0 and commit.lines < 30:\n",
    "                continue\n",
    "\n",
    "            mod_files = commit.modified_files\n",
    "            if len(mod_files) != 1 and mod_files[0].filename[-3:] != '.py':\n",
    "                continue\n",
    "\n",
    "            if mod_files[0].content_before is not None:\n",
    "                code_before = mod_files[0].content_before.decode(\"utf-8\") \n",
    "            else:\n",
    "                continue\n",
    "\n",
    "            if mod_files[0].content is not None:\n",
    "                code_after = mod_files[0].content.decode(\"utf-8\")\n",
    "            else:\n",
    "                continue\n",
    "\n",
    "            if len(code_before) > MAX_SYMB_FILES_LEN or len(code_after) > MAX_SYMB_FILES_LEN:\n",
    "                continue\n",
    "            \n",
    "            counter_no_fiters += 1\n",
    "            with open('good_no_filt.txt', 'a') as f:\n",
    "                f.write(str(url) + '\\n')\n",
    "            ANY_FILTER = False\n",
    "            for filt in filters:\n",
    "                if filt in code_before:\n",
    "                    ANY_FILTER = True\n",
    "                    break\n",
    "\n",
    "            if ANY_FILTER:\n",
    "                counter += 1\n",
    "                with open('good.txt', 'a') as f:\n",
    "                    f.write(str(url) + '\\n')\n",
    "            \n",
    "            with open('log.txt', 'w') as f:\n",
    "                f.write(str(counter_no_fiters))\n",
    "                f.write('\\n')\n",
    "                f.write(str(counter))\n",
    "        except:\n",
    "            pass\n",
    "    \n",
    "    shutil.rmtree(f'tmp_repos/{name}')\n",
    "    pbar.set_postfix({'num_good': counter, 'num_good_no_filter': counter_no_fiters})"
   ]
  },
  {
   "cell_type": "code",
   "execution_count": 1,
   "metadata": {},
   "outputs": [
    {
     "ename": "NameError",
     "evalue": "name 'counter' is not defined",
     "output_type": "error",
     "traceback": [
      "\u001b[0;31m---------------------------------------------------------------------------\u001b[0m",
      "\u001b[0;31mNameError\u001b[0m                                 Traceback (most recent call last)",
      "\u001b[0;32m<ipython-input-1-1cbe4252e8d3>\u001b[0m in \u001b[0;36m<module>\u001b[0;34m\u001b[0m\n\u001b[0;32m----> 1\u001b[0;31m \u001b[0mcounter\u001b[0m\u001b[0;34m\u001b[0m\u001b[0;34m\u001b[0m\u001b[0m\n\u001b[0m",
      "\u001b[0;31mNameError\u001b[0m: name 'counter' is not defined"
     ]
    }
   ],
   "source": [
    "counter"
   ]
  },
  {
   "cell_type": "code",
   "execution_count": null,
   "metadata": {},
   "outputs": [],
   "source": [
    "info"
   ]
  },
  {
   "cell_type": "code",
   "execution_count": null,
   "metadata": {},
   "outputs": [],
   "source": []
  }
 ],
 "metadata": {
  "kernelspec": {
   "display_name": "Python 3",
   "language": "python",
   "name": "python3"
  },
  "language_info": {
   "codemirror_mode": {
    "name": "ipython",
    "version": 3
   },
   "file_extension": ".py",
   "mimetype": "text/x-python",
   "name": "python",
   "nbconvert_exporter": "python",
   "pygments_lexer": "ipython3",
   "version": "3.7.7"
  }
 },
 "nbformat": 4,
 "nbformat_minor": 2
}
